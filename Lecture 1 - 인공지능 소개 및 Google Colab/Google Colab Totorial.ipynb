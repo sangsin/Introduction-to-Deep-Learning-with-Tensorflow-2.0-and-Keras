{
 "cells": [
  {
   "cell_type": "markdown",
   "metadata": {
    "id": "bg5ZXMV2sn1M"
   },
   "source": [
    "# Google Colaboratory\n",
    "\n",
    "<img src=\"https://miro.medium.com/max/3600/1*7oukapIBInsovpHkQB3QZg.jpeg\">\n"
   ]
  },
  {
   "cell_type": "markdown",
   "metadata": {
    "id": "NiabImciPxzL"
   },
   "source": [
    "#### Colab이란 무엇인가?\n",
    "\n",
    "구글 코랩(Colab)은 __클라우드 기반의 Jupyter 노트북 개발 환경__이다. \n",
    "\n",
    "- 내부적으로는 코랩 + 구글드라이브 + 도커 + 리눅스 + 구글클라우드의 기술스택으로 이루어진 것으로 알려져있다.\n",
    "- 공짜다. 물론 유료 서비스인 Colab Pro(월:$9.99+tax)가 있다\n",
    "- 클라우드 기반으로 환경설정 및 구동 준비가 5분이면 끝난다.\n",
    "    - 대부분의 패키지들이 설치되어 있는 환경\n",
    "- 브라우저(Chrome, Safari, Firefox)기반으로 PC, tablet, smartphone등 브라우저가 설치된 모든 디바이스에서 구동\n",
    "- 어지간한 개인 PC보다 성능이 좋고 빠르다.\n",
    "- 일반 Jupyter Notebook에 비해 더 좋은 기능을 제공한다. (목차기능, Markdown의 미리보기 기능 등)\n",
    "- Google Drive, Git, Github와의 연동이 가능\n",
    "- 오류발생 시 [SEARCH STACK OVERFLOW] 버튼을 클릭하면 자동으로 스택오버플로우 사이트 검색\n",
    "\n",
    "__사용시 주의할 점__\n",
    "- 구글계정이 필요\n",
    "- 최대 세션 유지시간은 무료서비스는 12시간, 유료인 Colab Pro는 24시간 이다.\n",
    "    - 아무짓도 안하거나 또는 유지시간이 지나면 알아서 세션이 끊긴다.\n",
    "- 세션이 끊기면? 작업중이던 데이터가 다 날라간다\n",
    "    - 소스코드는 .ipynb 확장자로 구글 드라이브에 자동 저장\n",
    "    - 다만, __딥러닝 학습시킬 데이터가 문제인데 구글 드라이브에 저장 가능__\n",
    "    - 물론 개인이 공짜로 쓰는 구글 계정의 최대 용량은 15G이다.\n",
    "    - [Google Workspace](https://workspace.google.com/pricing.html) 서비스로 구글 드라이브에 대용량 데이터 저장가능\n",
    " \n",
    "\n",
    "__무료와 유료(Colab Pro) 차이__\n",
    "\n",
    "- 더 좋은 GPU 할당\n",
    "\n",
    "    - 무료: [K80](http://item.gmarket.co.kr/DetailView/Item.asp?goodscode=2060976040&GoodsSale=Y&jaehuid=200002657) GPU\n",
    "    - pro: [Tesla T4](http://item.gmarket.co.kr/DetailView/Item.asp?goodscode=1937752422&GoodsSale=Y&jaehuid=200002657) 또는 [Tesla P100](http://itempage3.auction.co.kr/DetailView.aspx?ItemNo=C304594068&frm3=V2) GPU\n",
    "    \n",
    "- 고용량 RAM 사용 가능\n",
    "\n",
    "    - 무료: 12.72GB\n",
    "    - pro: 25.51GB\n",
    "    \n",
    "- 더 긴 런타임\n",
    "\n",
    "    - 무료: 12시간\n",
    "    - pro: 24시간(단, 완전보장 못함)\n",
    "\n",
    "\n",
    "\n"
   ]
  },
  {
   "cell_type": "markdown",
   "metadata": {
    "id": "i3r5VFtU5O4U"
   },
   "source": [
    "## Google Colab 사양 확인\n"
   ]
  },
  {
   "cell_type": "markdown",
   "metadata": {
    "id": "gV5e99TT-08Z"
   },
   "source": [
    "* 플랫폼"
   ]
  },
  {
   "cell_type": "code",
   "execution_count": 1,
   "metadata": {
    "colab": {
     "base_uri": "https://localhost:8080/",
     "height": 36
    },
    "id": "5VeuLl0B-cy4",
    "outputId": "d4392b41-7381-4bc6-9777-6bda51497210"
   },
   "outputs": [
    {
     "data": {
      "text/plain": [
       "'Windows-10-10.0.19041-SP0'"
      ]
     },
     "execution_count": 1,
     "metadata": {},
     "output_type": "execute_result"
    }
   ],
   "source": [
    "import platform\n",
    "platform.platform()"
   ]
  },
  {
   "cell_type": "markdown",
   "metadata": {
    "id": "Q9f6YpG-5ZCx"
   },
   "source": [
    "* 운영체제"
   ]
  },
  {
   "cell_type": "code",
   "execution_count": 2,
   "metadata": {
    "colab": {
     "base_uri": "https://localhost:8080/"
    },
    "id": "IC0e82Ft5Rxt",
    "outputId": "1f9d0af3-bc8f-4c16-fb37-68dc00258282"
   },
   "outputs": [
    {
     "name": "stderr",
     "output_type": "stream",
     "text": [
      "'cat'은(는) 내부 또는 외부 명령, 실행할 수 있는 프로그램, 또는\n",
      "배치 파일이 아닙니다.\n"
     ]
    }
   ],
   "source": [
    "!cat /etc/issue.net"
   ]
  },
  {
   "cell_type": "markdown",
   "metadata": {
    "id": "mrQDwTmI5bzQ"
   },
   "source": [
    "* CPU 사양"
   ]
  },
  {
   "cell_type": "code",
   "execution_count": 3,
   "metadata": {
    "colab": {
     "base_uri": "https://localhost:8080/"
    },
    "id": "MX782lUX5ju0",
    "outputId": "09020739-ecdd-43b7-d225-9d6029fc31bb"
   },
   "outputs": [
    {
     "name": "stderr",
     "output_type": "stream",
     "text": [
      "'cat'은(는) 내부 또는 외부 명령, 실행할 수 있는 프로그램, 또는\n",
      "배치 파일이 아닙니다.\n"
     ]
    }
   ],
   "source": [
    "!cat /proc/cpuinfo"
   ]
  },
  {
   "cell_type": "markdown",
   "metadata": {
    "id": "XQbXXmZ75ffA"
   },
   "source": [
    "* 메모리 사양"
   ]
  },
  {
   "cell_type": "code",
   "execution_count": 4,
   "metadata": {
    "colab": {
     "base_uri": "https://localhost:8080/"
    },
    "id": "vJ0_EPba5sP1",
    "outputId": "0a59ca5f-97b7-484e-90f4-05cf6d678d23"
   },
   "outputs": [
    {
     "name": "stderr",
     "output_type": "stream",
     "text": [
      "'cat'은(는) 내부 또는 외부 명령, 실행할 수 있는 프로그램, 또는\n",
      "배치 파일이 아닙니다.\n"
     ]
    }
   ],
   "source": [
    "!cat /proc/meminfo"
   ]
  },
  {
   "cell_type": "markdown",
   "metadata": {
    "id": "EaOIRYVP5w30"
   },
   "source": [
    "* 디스크 사양"
   ]
  },
  {
   "cell_type": "code",
   "execution_count": 5,
   "metadata": {
    "colab": {
     "base_uri": "https://localhost:8080/"
    },
    "id": "FKWOPJNv5y2y",
    "outputId": "bee553fd-46ab-4c7f-d8df-285baa29e5a4"
   },
   "outputs": [
    {
     "name": "stderr",
     "output_type": "stream",
     "text": [
      "'df'은(는) 내부 또는 외부 명령, 실행할 수 있는 프로그램, 또는\n",
      "배치 파일이 아닙니다.\n"
     ]
    }
   ],
   "source": [
    "!df -h"
   ]
  },
  {
   "cell_type": "markdown",
   "metadata": {
    "id": "i2LgCHNv541D"
   },
   "source": [
    "* 파이썬 버전"
   ]
  },
  {
   "cell_type": "code",
   "execution_count": 6,
   "metadata": {
    "colab": {
     "base_uri": "https://localhost:8080/"
    },
    "id": "AZNd_Cpi57SD",
    "outputId": "642ea881-9adf-4166-8848-96c96f1086a8"
   },
   "outputs": [
    {
     "name": "stdout",
     "output_type": "stream",
     "text": [
      "Python 3.8.5\n"
     ]
    }
   ],
   "source": [
    "!python --version"
   ]
  },
  {
   "cell_type": "markdown",
   "metadata": {
    "id": "ZLrgX-u15_wI"
   },
   "source": [
    "## Google Colab 런타임\n",
    "* Colab에서 고성능 하드웨어로 GPU나 TPU 사용 가능\n",
    "* 런타임 유형 변경(Change runtime type) 필요\n",
    "  + None: CPU만 사용\n",
    "  + GPU: 하드웨어 가속으로 GPU 사용\n",
    "  + TPU: 하드웨어 가속으로 TPU 사용"
   ]
  },
  {
   "cell_type": "code",
   "execution_count": 7,
   "metadata": {
    "colab": {
     "base_uri": "https://localhost:8080/"
    },
    "id": "Oa3X6JLZ6BE1",
    "outputId": "fa5cfdf2-3bcb-47cd-ffac-2e0f90a354ce"
   },
   "outputs": [
    {
     "name": "stderr",
     "output_type": "stream",
     "text": [
      "'nvidia-smi'은(는) 내부 또는 외부 명령, 실행할 수 있는 프로그램, 또는\n",
      "배치 파일이 아닙니다.\n"
     ]
    }
   ],
   "source": [
    "!nvidia-smi"
   ]
  },
  {
   "cell_type": "markdown",
   "metadata": {
    "id": "xKuUQ3-I_Ifg"
   },
   "source": [
    "## 셀 조작\n"
   ]
  },
  {
   "cell_type": "markdown",
   "metadata": {
    "id": "uDVBi-AaBbbH"
   },
   "source": [
    "### 셀 타입\n",
    "- Code Cells: May contain python code and ipython magic.\n",
    "- Markdown Cells: It can contain\n",
    "  - Markdown language\n",
    "  - HTML \n",
    "  - LATEX\n",
    "  - Image\n",
    "  - Link\n",
    "      \n",
    "      <예> [<b>Introduction to Jupyter Notebook</b>](https://youtu.be/Rc4JQWowG5I)\n"
   ]
  },
  {
   "cell_type": "markdown",
   "metadata": {
    "id": "R6xJvZkallRS"
   },
   "source": [
    "### 셀 타입 변경\n",
    "- 코드셀로 변경: Ctrl/Cmd + M Y\n",
    "- 텍스트셀로 변경: Ctrl/Cmd + M M"
   ]
  },
  {
   "cell_type": "markdown",
   "metadata": {
    "id": "H8sj1CqhBCFt"
   },
   "source": [
    "### 셀 실행과 출력\n",
    "\n",
    "- 셀: 실행의 단위\n",
    "- 실행: 재생 버튼을 클릭 또는 단축기 사용\n",
    "- 실행후 실행 순서에 따라 일련변호가 부여됨.\n",
    "\n",
    "- 단축키\n",
    "  - Ctrl + Enter: 실행후 커서는 제자리\n",
    "  - Shift + Enter: 실행후 커서는 다음 셀\n",
    "  - Alt + Enter: 실행후 커서는 새로운 셀 삽입 및 이동\n"
   ]
  },
  {
   "cell_type": "markdown",
   "metadata": {
    "id": "wWBHfShMk6j3"
   },
   "source": [
    "### 셀 삽입/삭제\n",
    "- 현재 셀 위에 삽입: Ctrl/Cmd + M A\n",
    "- 현재 셀 아래에 삽입: Ctrl/Cmd + M B\n",
    "- 현재 셀 삭제: Ctrl/Cmd + M D 또는 쓰레기통 아이콘\n"
   ]
  },
  {
   "cell_type": "markdown",
   "metadata": {
    "id": "kCOmUakGBD7G"
   },
   "source": [
    "### 단축키 치트키\n",
    "\n",
    "- Ctrl + M H\n",
    "\n",
    "- PC 기반 Jupyter Notebook에서의 단축키는 Ctrl 키 없이 알파벳으로만.\n"
   ]
  },
  {
   "cell_type": "markdown",
   "metadata": {
    "id": "VxNA7zfv-6wx"
   },
   "source": [
    "## 파일 저장 및 다운로드/업로드/import\n",
    "\n",
    "* Jupyter Notebook 환경에서 파일 저장 및 다운로드"
   ]
  },
  {
   "cell_type": "code",
   "execution_count": 8,
   "metadata": {
    "colab": {
     "base_uri": "https://localhost:8080/"
    },
    "id": "oTiMWM70_E42",
    "outputId": "062976e0-ea54-455b-960d-cf7219eebfb1"
   },
   "outputs": [
    {
     "name": "stderr",
     "output_type": "stream",
     "text": [
      "UsageError: Line magic function `%%writefile` not found.\n"
     ]
    }
   ],
   "source": [
    "# jupyter notebook magic command '%%writefile' for editing a filter\n",
    "%%writefile test.py\n",
    "\n",
    "import matplotlib.pyplot as plt\n",
    "import numpy as np\n",
    "\n",
    "def plot():\n",
    "  X=np.random.randn (50)\n",
    "  Y = 2*X+np.random.randn(50)\n",
    "\n",
    "  plt.plot(X,Y,'ro', label='Data')\n",
    "  plt.grid()\n",
    "  plt.legend()\n",
    "  plt.show()"
   ]
  },
  {
   "cell_type": "code",
   "execution_count": 11,
   "metadata": {
    "colab": {
     "base_uri": "https://localhost:8080/"
    },
    "id": "ptEgaG3v_QSR",
    "outputId": "dbb89ee8-39eb-459b-a916-da78a6de41fb"
   },
   "outputs": [
    {
     "name": "stderr",
     "output_type": "stream",
     "text": [
      "'cat'은(는) 내부 또는 외부 명령, 실행할 수 있는 프로그램, 또는\n",
      "배치 파일이 아닙니다.\n"
     ]
    }
   ],
   "source": [
    "!cat test.py"
   ]
  },
  {
   "cell_type": "code",
   "execution_count": null,
   "metadata": {
    "colab": {
     "base_uri": "https://localhost:8080/",
     "height": 265
    },
    "id": "220tERhCzj87",
    "outputId": "70e7556a-1907-43a4-cb32-04ba00309e1b"
   },
   "outputs": [],
   "source": [
    "# .py import\n",
    "import test\n",
    "test.plot()"
   ]
  },
  {
   "cell_type": "code",
   "execution_count": null,
   "metadata": {
    "colab": {
     "base_uri": "https://localhost:8080/",
     "height": 17
    },
    "id": "-HGNOyHk_Yxg",
    "outputId": "36aea167-c356-4902-d354-ac8eadca524d"
   },
   "outputs": [],
   "source": [
    "from google.colab import files\n",
    "files.download('test.py')"
   ]
  },
  {
   "cell_type": "code",
   "execution_count": null,
   "metadata": {
    "colab": {
     "base_uri": "https://localhost:8080/",
     "height": 77,
     "resources": {
      "http://localhost:8080/nbextensions/google.colab/files.js": {
       "data": "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",
       "headers": [
        [
         "content-type",
         "application/javascript"
        ]
       ],
       "ok": true,
       "status": 200,
       "status_text": ""
      }
     }
    },
    "id": "6MLJ6R60AIQJ",
    "outputId": "e9949a51-ac3b-4d01-ed79-14c5d02deec6"
   },
   "outputs": [],
   "source": [
    "image = files.upload()"
   ]
  },
  {
   "cell_type": "code",
   "execution_count": null,
   "metadata": {
    "colab": {
     "base_uri": "https://localhost:8080/"
    },
    "id": "8m2sm45lAriv",
    "outputId": "1a60d393-ae02-4059-db4a-cdf75721d761"
   },
   "outputs": [],
   "source": [
    "!ls"
   ]
  },
  {
   "cell_type": "code",
   "execution_count": null,
   "metadata": {
    "colab": {
     "base_uri": "https://localhost:8080/",
     "height": 285
    },
    "id": "aLduaR07GZXR",
    "outputId": "ad64879a-d62d-48c1-a363-ea7e92b8d32b"
   },
   "outputs": [],
   "source": [
    "# upload한 이미지파일 시각화\n",
    "\n",
    "import matplotlib.pyplot as plt\n",
    "import matplotlib.image as mpimg\n",
    "import numpy as np\n",
    "from PIL import Image\n",
    "\n",
    "print('type:', type(image))\n",
    "key, _ = list(image.items())[0]\n",
    "img = Image.open(key)\n",
    "plt.imshow(img)\n",
    "plt.show()"
   ]
  },
  {
   "cell_type": "markdown",
   "metadata": {
    "id": "cfKtU4-x7UnX"
   },
   "source": [
    "## Google Drive 연동\n",
    "\n",
    "* Google Colab은 Google Drive와 `mount`를 통해 쉽게 연동 가능\n",
    "* Google Drive에 소스 코드 저장 뿐만 아니라 파일을 열거나 저장 가능"
   ]
  },
  {
   "cell_type": "code",
   "execution_count": null,
   "metadata": {
    "colab": {
     "base_uri": "https://localhost:8080/"
    },
    "id": "q0ryTyk77UOs",
    "outputId": "33a99eb0-97bf-4532-fff5-bd531d9ff8b9"
   },
   "outputs": [],
   "source": [
    "from google.colab import drive\n",
    "drive.mount('/content/drive')"
   ]
  },
  {
   "cell_type": "code",
   "execution_count": null,
   "metadata": {
    "colab": {
     "base_uri": "https://localhost:8080/"
    },
    "id": "KI96G3Fq7wg1",
    "outputId": "e37d9194-8057-4fa0-c974-09eba6e494e2"
   },
   "outputs": [],
   "source": [
    "ls /content/drive"
   ]
  },
  {
   "cell_type": "code",
   "execution_count": null,
   "metadata": {
    "colab": {
     "base_uri": "https://localhost:8080/"
    },
    "id": "bLZ9u1Fli_8s",
    "outputId": "b6facda7-78e9-4f09-df31-2934604ea39d"
   },
   "outputs": [],
   "source": [
    "ls /content/drive/MyDrive/"
   ]
  },
  {
   "cell_type": "code",
   "execution_count": null,
   "metadata": {
    "colab": {
     "base_uri": "https://localhost:8080/"
    },
    "id": "zcGZ-4S3DlXS",
    "outputId": "c1174333-6deb-4884-a645-78ff1b8e1560"
   },
   "outputs": [],
   "source": [
    "ls /content/drive/MyDrive/'Colab Notebooks'"
   ]
  },
  {
   "cell_type": "markdown",
   "metadata": {
    "id": "vJmIzK7fEcic"
   },
   "source": [
    "## 코렙 노트북파일 공유\n",
    "\n",
    "- 상단의 공유아이콘 클릭\n",
    "- 공유 권한(뷰어, 편집, 댓글) 설정에 주의 "
   ]
  },
  {
   "cell_type": "markdown",
   "metadata": {
    "id": "ZwS2T20cHlfE"
   },
   "source": [
    "## 깃허브(Github)\n",
    "\n",
    "- 깃허브는 분산 버전 관리 툴인 깃(Git)을 사용하는 프로젝트를 지원하는 웹호스팅 서비스 \n",
    "- GitHub는 영리적인 서비스와 오픈소스를 위한 무상 서비스를 모두 제공 \n",
    "- 가장 인기있는 오픈 소스 코드 저장소\n",
    "- [깃(Git)](https://git-scm.com)이 텍스트 명령어 입력 방식인데 반해, 깃허브는 GUI 방식 \n",
    "- 2018년 마이크로소프트가 75억 달러에 깃허브 인수\n",
    "\n",
    "[가격정책](https://github.com/pricing)\n",
    "\n",
    "\n"
   ]
  },
  {
   "cell_type": "markdown",
   "metadata": {
    "id": "NiJ4Pl9YIPp7"
   },
   "source": [
    "### 코렙에서  [Github](https://github.com/sangsin/HKCloud-Lectures)에 저장\n",
    "\n",
    "1. 먼저 올릴 .ipynb 파일을 연다.\n",
    "2. [파일]탭 - \"GitHub 사본에 저장\"을 클릭한다"
   ]
  },
  {
   "cell_type": "markdown",
   "metadata": {
    "id": "RpEGJssYoa1o"
   },
   "source": [
    "### 깃허브에서 Google Drive로\n",
    "\n",
    "1. Clone할 [Github](https://github.com/sangsin/HKCloud-Lectures) 주소 복사해오기\n",
    "2. 드라이브 마운트(Drive Mount) - 내 드라이브와 연동\n",
    "3. 드라이브 내 원하는 경로로 이동\n",
    "4. git clone을 활용하여 클론하기"
   ]
  },
  {
   "cell_type": "code",
   "execution_count": null,
   "metadata": {
    "colab": {
     "base_uri": "https://localhost:8080/"
    },
    "id": "G76HAkKfuPaD",
    "outputId": "53ae930a-7eb5-4cad-8b42-5c6983356a61"
   },
   "outputs": [],
   "source": [
    "# Mount Google Drive to VM instance.\n",
    "from google.colab import drive\n",
    "drive.mount('/content/drive')"
   ]
  },
  {
   "cell_type": "code",
   "execution_count": null,
   "metadata": {
    "colab": {
     "base_uri": "https://localhost:8080/"
    },
    "id": "cs-C6NZPxAwj",
    "outputId": "84fe4822-2dc6-4179-edd3-758b5962bc91"
   },
   "outputs": [],
   "source": [
    "%cd  /content/drive/MyDrive\n",
    "!git clone https://github.com/sangsin/HKCloud-Lectures.git\n",
    "!ls"
   ]
  },
  {
   "cell_type": "markdown",
   "metadata": {
    "id": "ID57POzYUYyl"
   },
   "source": [
    "# Jupyter Notebook\n",
    "\n",
    "Jupyter Notebook (formerly [IPython](https://ipython.org/) Notebooks) is an __open-source web-based interactive computational environment__ for creating Jupyter notebook documents. \n",
    "\n",
    "A Jupyter Notebook document is a JSON document, containing an ordered list of input/output cells which can contain __code, text (using Markdown), mathematics, plots and rich media__, usually ending with the \"__.ipynb__\" extension."
   ]
  },
  {
   "cell_type": "markdown",
   "metadata": {
    "id": "ZTkr0NKRXEiq"
   },
   "source": [
    "## help()\n",
    "\n",
    "* 파이썬 객체에 대한 요약 정보와 사용법 보기"
   ]
  },
  {
   "cell_type": "code",
   "execution_count": null,
   "metadata": {
    "colab": {
     "base_uri": "https://localhost:8080/"
    },
    "id": "S_aXiV9VW_1u",
    "outputId": "5dd301c8-8f3d-45e7-b5e2-f9706df87fa7"
   },
   "outputs": [],
   "source": [
    "import tensorflow as tf\n",
    "help(tf.square)"
   ]
  },
  {
   "cell_type": "markdown",
   "metadata": {
    "id": "X6F7JOv0Xv2a"
   },
   "source": [
    "## ?로 설명 보기\n",
    "\n",
    "* 객체 요약 정보 및 사용법이 있는 docstring 보기"
   ]
  },
  {
   "cell_type": "code",
   "execution_count": null,
   "metadata": {
    "id": "KzrQ0xy0Xk42"
   },
   "outputs": [],
   "source": [
    "max?"
   ]
  },
  {
   "cell_type": "code",
   "execution_count": null,
   "metadata": {
    "id": "qDEczcmvYHmm"
   },
   "outputs": [],
   "source": [
    "li=['One', 'Two', 'Three']\n",
    "li?"
   ]
  },
  {
   "cell_type": "code",
   "execution_count": null,
   "metadata": {
    "id": "Ep2oX_Ollb_C"
   },
   "outputs": [],
   "source": [
    "li.count?"
   ]
  },
  {
   "cell_type": "code",
   "execution_count": null,
   "metadata": {
    "id": "lpM-ijxnltUG"
   },
   "outputs": [],
   "source": [
    "def power(b,n):\n",
    "  \"\"\"b의 n승을 반환\"\"\"\n",
    "  return pow(b,n)"
   ]
  },
  {
   "cell_type": "code",
   "execution_count": null,
   "metadata": {
    "id": "l7p0YMtDmEFS"
   },
   "outputs": [],
   "source": [
    "power?"
   ]
  },
  {
   "cell_type": "code",
   "execution_count": null,
   "metadata": {
    "id": "9BS1dLnimUOb"
   },
   "outputs": [],
   "source": [
    "power??"
   ]
  },
  {
   "cell_type": "markdown",
   "metadata": {
    "id": "gtRsneYd-slf"
   },
   "source": [
    "## 탭(tab) 자동완성\n",
    "\n",
    "* 객체와 모듈, 인터페이스의 내용을 자동 완성"
   ]
  },
  {
   "cell_type": "code",
   "execution_count": null,
   "metadata": {
    "colab": {
     "base_uri": "https://localhost:8080/"
    },
    "id": "PK4fJOk6-we7",
    "outputId": "1d0de03a-b4e7-48bb-a474-933f7a622454"
   },
   "outputs": [],
   "source": [
    "li=['One', 'Two', 'Three']\n",
    "li.append('four')\n",
    "li"
   ]
  },
  {
   "cell_type": "markdown",
   "metadata": {
    "id": "xP7n3Oqp_N0K"
   },
   "source": [
    "##와일드카드(wildcard) 매칭\n",
    "\n",
    "* 단어의 중간이나 마지막 글자로 매칭하여 객체나 속성 찾기"
   ]
  },
  {
   "cell_type": "code",
   "execution_count": null,
   "metadata": {
    "id": "W7ceOXpi_JNk"
   },
   "outputs": [],
   "source": [
    "*Error?"
   ]
  },
  {
   "cell_type": "code",
   "execution_count": null,
   "metadata": {
    "id": "IMjy2bc0_TwQ"
   },
   "outputs": [],
   "source": [
    "str.*index*?"
   ]
  },
  {
   "cell_type": "markdown",
   "metadata": {
    "id": "yCRnab5c_mBh"
   },
   "source": [
    "## 매직 명령어(magic commands)\n",
    "\n",
    "* Jupyter Notebook 환경에서 파이썬 파일 저장 및 실행"
   ]
  },
  {
   "cell_type": "code",
   "execution_count": null,
   "metadata": {
    "colab": {
     "base_uri": "https://localhost:8080/"
    },
    "id": "t6ufEi9q_qS4",
    "outputId": "fa36e7f1-121a-4c20-88dc-aaa7b30b361f"
   },
   "outputs": [],
   "source": [
    "%%writefile hello.py\n",
    "print(\"Hello Colab\")"
   ]
  },
  {
   "cell_type": "code",
   "execution_count": null,
   "metadata": {
    "colab": {
     "base_uri": "https://localhost:8080/",
     "height": 55
    },
    "id": "GVRuezjk_wLD",
    "outputId": "85daa3b2-f599-47d5-8c99-d9e2dc1b53c6"
   },
   "outputs": [],
   "source": [
    "# %run: 외부 Python 스크립트를 실행 \n",
    "%run hello.py"
   ]
  },
  {
   "cell_type": "code",
   "execution_count": null,
   "metadata": {
    "id": "ifvYAhq1FoiO"
   },
   "outputs": [],
   "source": [
    "# %pylab: numpy, matplotlib와같은 모듈을 임포트\n",
    "# %magic: magic command에 대한 정보를 제공\n",
    "%magic"
   ]
  },
  {
   "cell_type": "code",
   "execution_count": null,
   "metadata": {
    "colab": {
     "base_uri": "https://localhost:8080/",
     "height": 168
    },
    "id": "caH9Mtb_GOje",
    "outputId": "b96a597a-b6a8-4610-de02-db5484569529"
   },
   "outputs": [],
   "source": [
    "# %lsmagic: 현재 사용 가능한 Magic Command List\n",
    "%lsmagic"
   ]
  },
  {
   "cell_type": "markdown",
   "metadata": {
    "id": "MzKD0owDXs7r"
   },
   "source": [
    "* 코드 실행 시간 측정\n",
    "\n",
    "- %timeit: one line\n",
    "- %%timeit: multiple lines"
   ]
  },
  {
   "cell_type": "code",
   "execution_count": null,
   "metadata": {
    "id": "YfO_C9-2bQRn"
   },
   "outputs": [],
   "source": [
    "%%timeit?"
   ]
  },
  {
   "cell_type": "code",
   "execution_count": null,
   "metadata": {
    "colab": {
     "base_uri": "https://localhost:8080/"
    },
    "id": "Yj-cfvBVWuf-",
    "outputId": "672499dd-b9f1-4331-e4af-c3a9b76fc2c9"
   },
   "outputs": [],
   "source": [
    "%timeit li = [n ** n for n in range(10000)]"
   ]
  },
  {
   "cell_type": "code",
   "execution_count": null,
   "metadata": {
    "colab": {
     "base_uri": "https://localhost:8080/"
    },
    "id": "RbEaBBjaYHDM",
    "outputId": "9315d74d-18b1-4e85-d10b-e5ebe1adc06c"
   },
   "outputs": [],
   "source": [
    "%%timeit\n",
    "li = []\n",
    "for n in range(10000):\n",
    "  li.append(n**n)"
   ]
  },
  {
   "cell_type": "markdown",
   "metadata": {
    "id": "SROwYmP9rEQd"
   },
   "source": [
    "## 입력과 출력 이력\n",
    "\n",
    "* In과 Out 객체를 통해 이전 명령어와 명령어의 출력 결과 보기"
   ]
  },
  {
   "cell_type": "code",
   "execution_count": null,
   "metadata": {
    "colab": {
     "base_uri": "https://localhost:8080/"
    },
    "id": "SjxoRZdbpttu",
    "outputId": "6da93589-faba-4a85-d62f-416fa2edf91f"
   },
   "outputs": [],
   "source": [
    "In # 모든 입력 리스트"
   ]
  },
  {
   "cell_type": "code",
   "execution_count": null,
   "metadata": {
    "colab": {
     "base_uri": "https://localhost:8080/"
    },
    "id": "Bbcl7xxSr33V",
    "outputId": "82bfdb0f-d18e-4810-b386-5ecfd59fb239"
   },
   "outputs": [],
   "source": [
    "Out   # 모든 Out list"
   ]
  },
  {
   "cell_type": "markdown",
   "metadata": {
    "id": "H4YgwfJAtNUH"
   },
   "source": [
    "* `_`를 이용해 이전 출력값 출력하기"
   ]
  },
  {
   "cell_type": "code",
   "execution_count": null,
   "metadata": {
    "colab": {
     "base_uri": "https://localhost:8080/"
    },
    "id": "cT2w3ITLtKQF",
    "outputId": "845d5f32-5cd4-46d1-e055-88eb4bc24b16"
   },
   "outputs": [],
   "source": [
    "print(_)  # 이전 셀 출력값"
   ]
  },
  {
   "cell_type": "code",
   "execution_count": null,
   "metadata": {
    "colab": {
     "base_uri": "https://localhost:8080/"
    },
    "id": "QFxB16JptUNd",
    "outputId": "5c59eb10-9ce4-434a-f4d6-bf149aa7ef29"
   },
   "outputs": [],
   "source": [
    "print(__)  # 이전이전 셀 출력값"
   ]
  },
  {
   "cell_type": "markdown",
   "metadata": {
    "id": "Nf8CVZiTt4r-"
   },
   "source": [
    "* `%history`를 이용한 입력 이력 살펴보기"
   ]
  },
  {
   "cell_type": "code",
   "execution_count": null,
   "metadata": {
    "colab": {
     "base_uri": "https://localhost:8080/"
    },
    "id": "m_uRhaV9KlHt",
    "outputId": "c8bf1dbb-94e7-42f6-8922-d5f81301efca"
   },
   "outputs": [],
   "source": [
    "%history -n 1-7  # 처음 7개 history"
   ]
  },
  {
   "cell_type": "markdown",
   "metadata": {
    "id": "1oOEYT9Zu8Yo"
   },
   "source": [
    "* `%rerun`을 이용해 이전 입력 이력 다시 실행"
   ]
  },
  {
   "cell_type": "code",
   "execution_count": null,
   "metadata": {
    "colab": {
     "base_uri": "https://localhost:8080/"
    },
    "id": "ZWLXBxdtvCOV",
    "outputId": "2dc10c73-994d-42a4-f291-a49b4929b163"
   },
   "outputs": [],
   "source": [
    "%rerun # 이전 입력 다시 실행"
   ]
  },
  {
   "cell_type": "markdown",
   "metadata": {
    "id": "LzKq5kwvds25"
   },
   "source": [
    "## 셸 명령어\n",
    "\n",
    "* 텍스트 기반의 셸 명령어 처리\n",
    "* `!` 문자를 명령어 앞에 붙여서 셸 명령어 사용 가능"
   ]
  },
  {
   "cell_type": "markdown",
   "metadata": {
    "id": "oFThpCCPhm45"
   },
   "source": [
    "* ls: 디렉토리 리스트 보기\n",
    "* cd: 디렉토리 변경\n",
    "* pwd: 현재 디렉토리\n",
    "* mkdir: 디렉토리 생성\n",
    "* cat: 파일 보기\n",
    "* cp: 디렉토리/파일 복사\n",
    "* rm: 디렉토리/파일 삭제\n",
    "\n",
    "\n"
   ]
  },
  {
   "cell_type": "code",
   "execution_count": null,
   "metadata": {
    "colab": {
     "base_uri": "https://localhost:8080/"
    },
    "id": "7iAgViCpdvh9",
    "outputId": "9fe569e4-d0f7-42c2-b01f-5c8104a63500"
   },
   "outputs": [],
   "source": [
    "% cd /content/drive/  \n",
    "!pwd\n",
    "!ls"
   ]
  },
  {
   "cell_type": "markdown",
   "metadata": {
    "id": "1dCCjWyphyOP"
   },
   "source": [
    "* !cd: 디렉토리 변경\n",
    "  * IPython에서는 임시 셸에서 실행\n",
    "* %cd: 지속적인 디렉토리 변경"
   ]
  },
  {
   "cell_type": "code",
   "execution_count": null,
   "metadata": {
    "colab": {
     "base_uri": "https://localhost:8080/"
    },
    "id": "KXtuuGvXfAU-",
    "outputId": "69722266-a135-4af1-f966-8ae441f278b4"
   },
   "outputs": [],
   "source": [
    "!cd MyDrive \n",
    "!pwd\n",
    "!ls"
   ]
  },
  {
   "cell_type": "code",
   "execution_count": null,
   "metadata": {
    "colab": {
     "base_uri": "https://localhost:8080/"
    },
    "id": "QK2mFXwRGhML",
    "outputId": "a6c71f38-031c-4715-df4a-8df2233aefa6"
   },
   "outputs": [],
   "source": [
    "!cd MyDrive  && ls\n",
    "!pwd"
   ]
  },
  {
   "cell_type": "code",
   "execution_count": null,
   "metadata": {
    "colab": {
     "base_uri": "https://localhost:8080/"
    },
    "id": "OrctRN0ZGCtL",
    "outputId": "3ff2599f-7a76-42a6-9635-bb04182e6b3d"
   },
   "outputs": [],
   "source": [
    "%cd MyDrive\n",
    "!pwd\n",
    "!ls"
   ]
  },
  {
   "cell_type": "code",
   "execution_count": null,
   "metadata": {
    "colab": {
     "base_uri": "https://localhost:8080/"
    },
    "id": "Eofit8K-fcjG",
    "outputId": "897f8237-b635-40f9-e21b-9fa24e7367c1"
   },
   "outputs": [],
   "source": [
    "%cd /content\n",
    "!mkdir tmp\n",
    "!ls"
   ]
  },
  {
   "cell_type": "code",
   "execution_count": null,
   "metadata": {
    "colab": {
     "base_uri": "https://localhost:8080/"
    },
    "id": "GICda8P6mg1r",
    "outputId": "be73bb6a-167a-4874-ad88-52a0448b740f"
   },
   "outputs": [],
   "source": [
    "!cat test.py"
   ]
  },
  {
   "cell_type": "code",
   "execution_count": null,
   "metadata": {
    "id": "WI1dpUV6nJyd"
   },
   "outputs": [],
   "source": [
    "!rm -r tmp  # -r: 디렉토리내 파일들 삭제후 디렉토리 삭제"
   ]
  },
  {
   "cell_type": "code",
   "execution_count": null,
   "metadata": {
    "colab": {
     "base_uri": "https://localhost:8080/"
    },
    "id": "78Fr9nEhnMsg",
    "outputId": "10ae72dd-8b43-4020-df2e-e99809968fa3"
   },
   "outputs": [],
   "source": [
    "!ls tmp"
   ]
  },
  {
   "cell_type": "markdown",
   "metadata": {
    "id": "7hDXZYpnA_DO"
   },
   "source": [
    "## 마크다운(Markdown)\n",
    "\n",
    "* 문법이 간단하고, 사용이 쉬움\n"
   ]
  },
  {
   "cell_type": "markdown",
   "metadata": {
    "id": "c0Sjw59GC_Kn"
   },
   "source": [
    "\n",
    "### 제목(Heading) 표시\n",
    "\n",
    "#### Heading 4\n",
    "##### Heading 5\n",
    "###### Heading 6"
   ]
  },
  {
   "cell_type": "markdown",
   "metadata": {
    "id": "oTWz1WgDBtqM"
   },
   "source": [
    "### 목록(List) 구성\n",
    "\n"
   ]
  },
  {
   "cell_type": "markdown",
   "metadata": {
    "id": "fSJ0j0Y8CsKW"
   },
   "source": [
    "1. First\n",
    "2. Second\n",
    "3. Third\n",
    "* 1단계\n",
    "  * 2단계\n",
    "    * 3단계"
   ]
  },
  {
   "cell_type": "markdown",
   "metadata": {
    "id": "TsaBsQUsCTE0"
   },
   "source": [
    "### 폰트 스타일(Font Style)\n",
    "\n"
   ]
  },
  {
   "cell_type": "markdown",
   "metadata": {
    "id": "Fu4Lk62RCivG"
   },
   "source": []
  },
  {
   "cell_type": "markdown",
   "metadata": {
    "id": "P8PLWLSODwrS"
   },
   "source": [
    "**bold**\n",
    "\n",
    "__bold__\n",
    "\n",
    "*italic*\n",
    "\n",
    "_italic_\n",
    "\n",
    "~~strike~~\n",
    "\n",
    "<u>underbar</u>\n",
    "\n"
   ]
  },
  {
   "cell_type": "markdown",
   "metadata": {
    "id": "Qmr63-KzSJDc"
   },
   "source": [
    "### 링크\n"
   ]
  },
  {
   "cell_type": "markdown",
   "metadata": {
    "id": "OghmKYZTSl91"
   },
   "source": [
    "[Google](https://www.google.com)"
   ]
  },
  {
   "cell_type": "markdown",
   "metadata": {
    "id": "XclscvygEVcp"
   },
   "source": [
    "### 이미지\n"
   ]
  },
  {
   "cell_type": "markdown",
   "metadata": {
    "id": "puOkShcgEnuq"
   },
   "source": [
    "![이미지](https://www.google.com/images/branding/googlelogo/2x/googlelogo_color_272x92dp.png)"
   ]
  },
  {
   "cell_type": "markdown",
   "metadata": {
    "id": "mVy5Qmd4Erlp"
   },
   "source": [
    "### 수평선\n",
    "\n",
    "\n"
   ]
  },
  {
   "cell_type": "markdown",
   "metadata": {
    "id": "VhNkI-8VEviE"
   },
   "source": [
    "---"
   ]
  },
  {
   "cell_type": "markdown",
   "metadata": {
    "id": "hBVgu-TnEyFt"
   },
   "source": [
    "### 표\n",
    "\n",
    "\n"
   ]
  },
  {
   "cell_type": "markdown",
   "metadata": {
    "id": "5X87z4qYFFF-"
   },
   "source": [
    "| C1 | C2 | C3  |\n",
    "|:---|---:|:---:|\n",
    "| D1 | D2 | D3 |"
   ]
  },
  {
   "cell_type": "markdown",
   "metadata": {
    "id": "UV50nlu-XoMV"
   },
   "source": [
    "### 방정식\n",
    "\n",
    "**CEE (Cross Entropy Error)**\n",
    "$$\\tag {1} H(X) = E[h(x)] = E[-log(P(X)] = -\\sum_{x \\in X} P(x)\\cdot log(P(x)$$\n",
    "\n",
    "**MSE (Mean Square Error)**\n",
    "\\begin{equation*}\n",
    "MSE = \\frac{1}{N} \\sum_{i=1}^N (y_i - t_i)^2 \n",
    "\\end{equation*}\n",
    "\n",
    "**Quadratic Equation**\n",
    "\n",
    "이차방정식 $f(x) = ax^2 + bx +c =0$ 의 해는 근의 공식에 의해 아래와 같이 구할 수 있다.\n",
    "\n",
    "$$ x =\\frac { -b\\pm \\sqrt{(b^2 - 4ac)}}{2a}$$ "
   ]
  }
 ],
 "metadata": {
  "colab": {
   "collapsed_sections": [],
   "name": "Google_Colab_Totorial.ipynb의 사본",
   "provenance": []
  },
  "kernelspec": {
   "display_name": "Python 3",
   "language": "python",
   "name": "python3"
  },
  "language_info": {
   "codemirror_mode": {
    "name": "ipython",
    "version": 3
   },
   "file_extension": ".py",
   "mimetype": "text/x-python",
   "name": "python",
   "nbconvert_exporter": "python",
   "pygments_lexer": "ipython3",
   "version": "3.8.5"
  }
 },
 "nbformat": 4,
 "nbformat_minor": 4
}
