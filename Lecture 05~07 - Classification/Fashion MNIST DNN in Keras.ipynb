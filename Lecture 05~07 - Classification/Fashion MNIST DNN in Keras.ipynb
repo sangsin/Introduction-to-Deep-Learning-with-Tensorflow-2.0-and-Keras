{
  "nbformat": 4,
  "nbformat_minor": 0,
  "metadata": {
    "colab": {
      "name": "Fashion MNIST DNN in Keras.ipynb",
      "provenance": [],
      "collapsed_sections": []
    },
    "kernelspec": {
      "display_name": "src",
      "language": "python",
      "name": "src"
    },
    "language_info": {
      "codemirror_mode": {
        "name": "ipython",
        "version": 3
      },
      "file_extension": ".py",
      "mimetype": "text/x-python",
      "name": "python",
      "nbconvert_exporter": "python",
      "pygments_lexer": "ipython3",
      "version": "3.7.10"
    },
    "accelerator": "GPU"
  },
  "cells": [
    {
      "cell_type": "code",
      "metadata": {
        "id": "3JAnJXP-h-ji",
        "colab": {
          "base_uri": "https://localhost:8080/"
        },
        "outputId": "a8bd66cb-d6a4-4e3f-b8aa-17b3c83c4ee8"
      },
      "source": [
        "%load_ext autoreload\n",
        "%autoreload 2"
      ],
      "execution_count": 54,
      "outputs": [
        {
          "output_type": "stream",
          "text": [
            "The autoreload extension is already loaded. To reload it, use:\n",
            "  %reload_ext autoreload\n"
          ],
          "name": "stdout"
        }
      ]
    },
    {
      "cell_type": "markdown",
      "metadata": {
        "id": "9qTK68E1h-jn"
      },
      "source": [
        "## Prerequisite Python Modules\n",
        "First, some software needs to be loaded into the Python environment."
      ]
    },
    {
      "cell_type": "code",
      "metadata": {
        "id": "R3j2ilpFh-jo",
        "colab": {
          "base_uri": "https://localhost:8080/"
        },
        "outputId": "8b1099ec-bf75-4b79-ddd0-55a0af23b3b4"
      },
      "source": [
        "import tensorflow as tf\n",
        "import numpy as np                   # advanced math library\n",
        "import matplotlib.pyplot as plt      # MATLAB like plotting routines\n",
        "import random                        # for generating random numbers\n",
        "\n",
        "from tensorflow.keras.models import Sequential  # Model type to be used\n",
        "from tensorflow.keras.layers import Dense, InputLayer, Flatten, Dropout, Activation\n",
        "from tensorflow.keras.utils import to_categorical, plot_model\n",
        "\n",
        "print(tf.__version__) # find the version number (should be 2.x+)\n",
        "\n",
        "# 그래피카드 유무 확인 및 메모리 확장 설정\n",
        "gpus = tf.config.experimental.list_physical_devices('GPU')\n",
        "if gpus:\n",
        "  print('사용가능한 GPU 갯수: ',len(gpus), '\\n')\n",
        "      \n",
        "  try:\n",
        "    # 프로그램이 실행되어 더 많은 GPU 메모리가 필요하면, 텐서플로 프로세스에 할당된 GPU 메모리 \n",
        "    # 영역을 확장할 수있도록 허용\n",
        "    tf.config.experimental.set_memory_growth(gpus[0], True)\n",
        "\n",
        "  except RuntimeError as e:\n",
        "    # 프로그램 시작시에 접근 가능한 장치가 설정되어야만 합니다\n",
        "    print(e)\n",
        "\n",
        "# 설치된 GPU 상세내용 확인\n",
        "from tensorflow.python.client import device_lib\n",
        "print(device_lib.list_local_devices())"
      ],
      "execution_count": 55,
      "outputs": [
        {
          "output_type": "stream",
          "text": [
            "2.6.0\n",
            "사용가능한 GPU 갯수:  1 \n",
            "\n",
            "[name: \"/device:CPU:0\"\n",
            "device_type: \"CPU\"\n",
            "memory_limit: 268435456\n",
            "locality {\n",
            "}\n",
            "incarnation: 12446531112624064555\n",
            ", name: \"/device:GPU:0\"\n",
            "device_type: \"GPU\"\n",
            "memory_limit: 14512029696\n",
            "locality {\n",
            "  bus_id: 1\n",
            "  links {\n",
            "  }\n",
            "}\n",
            "incarnation: 16061810708094050013\n",
            "physical_device_desc: \"device: 0, name: Tesla T4, pci bus id: 0000:00:04.0, compute capability: 7.5\"\n",
            "]\n"
          ],
          "name": "stdout"
        }
      ]
    },
    {
      "cell_type": "markdown",
      "metadata": {
        "id": "5RelvY2Rh-jo"
      },
      "source": [
        "## Dataset\n",
        "\n",
        "[Fashion MNIST Github Repo](https://github.com/zalandoresearch/fashion-mnist)\n",
        "\n",
        "| Label | Description |\n",
        "| --- | --- |\n",
        "| 0 | T-shirt/top |\n",
        "| 1 | Trouser |\n",
        "| 2 | Pullover |\n",
        "| 3 | Dress |\n",
        "| 4 | Coat |\n",
        "| 5 | Sandal |\n",
        "| 6 | Shirt |\n",
        "| 7 | Sneaker |\n",
        "| 8 | Bag |\n",
        "| 9 | Ankle boot |\n",
        "\n",
        "**Problem** - Given a grayscale image of fashion items predict the class from 10 different classes. Since each image contains only one item, it is a **multiclass-classification problem**.\n",
        "\n",
        "\n",
        "Type of classification problems:\n",
        "* Binary - Predict between two mutually exclusive outcomes. (spam or not spam; rain or no rain; positive sentiment or negative sentiment)\n",
        "* Multiclass - Predict between n mutually exclusive outcomes. (above problem; sunny, rainy, windy;)\n",
        "* Multilabel - Predict between n outcomes each of which can happen simultaneously (object detection in natural setting images; tags of a webpage/article)"
      ]
    },
    {
      "cell_type": "code",
      "metadata": {
        "colab": {
          "base_uri": "https://localhost:8080/"
        },
        "id": "9wUlVeBuh-jp",
        "outputId": "d31e9e1a-9ef2-4934-bf3b-f12fe3603b8b"
      },
      "source": [
        "from tensorflow.keras.datasets import fashion_mnist\n",
        "\n",
        "# The data has already been sorted into training and testing sets\n",
        "(x_train, y_train), (x_test, y_test) = fashion_mnist.load_data()\n",
        "\n",
        "# Name of the classes\n",
        "class_names =  ['T-shirt/top', 'Trouser', 'Pullover', 'Dress', 'Coat',\n",
        "               'Sandal', 'Shirt', 'Sneaker', 'Bag', 'Ankle boot']\n",
        "\n",
        "n_classes = len(class_names)\n",
        "print(f'Number of classes: {n_classes}')"
      ],
      "execution_count": 56,
      "outputs": [
        {
          "output_type": "stream",
          "text": [
            "Number of classes: 10\n"
          ],
          "name": "stdout"
        }
      ]
    },
    {
      "cell_type": "code",
      "metadata": {
        "colab": {
          "base_uri": "https://localhost:8080/"
        },
        "id": "34Rsyq3uh-jq",
        "outputId": "5cfea6d1-20c6-4fd7-d009-b9da5e18841f"
      },
      "source": [
        "x_train.shape, x_test.shape, y_train.shape, y_test.shape"
      ],
      "execution_count": 57,
      "outputs": [
        {
          "output_type": "execute_result",
          "data": {
            "text/plain": [
              "((60000, 28, 28), (10000, 28, 28), (60000,), (10000,))"
            ]
          },
          "metadata": {},
          "execution_count": 57
        }
      ]
    },
    {
      "cell_type": "code",
      "metadata": {
        "colab": {
          "base_uri": "https://localhost:8080/"
        },
        "id": "XxAakNGah-jq",
        "outputId": "96f58573-7d1d-4fbf-de1b-708c0cb29bcc"
      },
      "source": [
        "np.unique(y_train)"
      ],
      "execution_count": 58,
      "outputs": [
        {
          "output_type": "execute_result",
          "data": {
            "text/plain": [
              "array([0, 1, 2, 3, 4, 5, 6, 7, 8, 9], dtype=uint8)"
            ]
          },
          "metadata": {},
          "execution_count": 58
        }
      ]
    },
    {
      "cell_type": "markdown",
      "metadata": {
        "id": "dDhYHV-eh-jq"
      },
      "source": [
        "**Note**:\n",
        "\n",
        "* We have 60000 images in training set and 10000 in test set\n",
        "* The dimension of the image is 28x28 (grayscale, all same dimensions)\n",
        "* The labels are integer values from 0-9, with mapping in class_names\n"
      ]
    },
    {
      "cell_type": "markdown",
      "metadata": {
        "id": "erx1ZAzPvg5u"
      },
      "source": [
        "## Exploratory Data Analysis"
      ]
    },
    {
      "cell_type": "code",
      "metadata": {
        "scrolled": true,
        "colab": {
          "base_uri": "https://localhost:8080/",
          "height": 320
        },
        "id": "QstOk5Cyvg5u",
        "outputId": "bcf4588c-74e2-44be-d713-3395a73468a9"
      },
      "source": [
        "# Exploratory Data Analysis (EDA)\n",
        "\n",
        "# count and plot the number of unique train labels\n",
        "unique, counts = np.unique(y_train,return_counts=True)\n",
        "y_train_dist = dict(zip(unique, counts))\n",
        "print(\"Train labels: \", y_train_dist)\n",
        "plt.bar(y_train_dist.keys(), y_train_dist.values(), color='g')"
      ],
      "execution_count": 59,
      "outputs": [
        {
          "output_type": "stream",
          "text": [
            "Train labels:  {0: 6000, 1: 6000, 2: 6000, 3: 6000, 4: 6000, 5: 6000, 6: 6000, 7: 6000, 8: 6000, 9: 6000}\n"
          ],
          "name": "stdout"
        },
        {
          "output_type": "execute_result",
          "data": {
            "text/plain": [
              "<BarContainer object of 10 artists>"
            ]
          },
          "metadata": {},
          "execution_count": 59
        },
        {
          "output_type": "display_data",
          "data": {
            "image/png": "[encoded data removed]",
            "text/plain": [
              "<Figure size 432x288 with 1 Axes>"
            ]
          },
          "metadata": {
            "needs_background": "light"
          }
        }
      ]
    },
    {
      "cell_type": "code",
      "metadata": {
        "colab": {
          "base_uri": "https://localhost:8080/",
          "height": 300
        },
        "id": "blk0Mubbvg5u",
        "outputId": "1499a68a-1807-4947-952a-9629eba2e14f"
      },
      "source": [
        "# count and plot the number of unique test labels\n",
        "unique, counts = np.unique(y_test, return_counts=True)\n",
        "y_test_dist = dict(zip(unique, counts))\n",
        "print(\"Test labels: \", y_test_dist)\n",
        "plt.bar(y_test_dist.keys(), y_test_dist.values(), color='r')"
      ],
      "execution_count": 60,
      "outputs": [
        {
          "output_type": "stream",
          "text": [
            "Test labels:  {0: 1000, 1: 1000, 2: 1000, 3: 1000, 4: 1000, 5: 1000, 6: 1000, 7: 1000, 8: 1000, 9: 1000}\n"
          ],
          "name": "stdout"
        },
        {
          "output_type": "execute_result",
          "data": {
            "text/plain": [
              "<BarContainer object of 10 artists>"
            ]
          },
          "metadata": {},
          "execution_count": 60
        },
        {
          "output_type": "display_data",
          "data": {
            "image/png": "[encoded data removed]",
            "text/plain": [
              "<Figure size 432x288 with 1 Axes>"
            ]
          },
          "metadata": {
            "needs_background": "light"
          }
        }
      ]
    },
    {
      "cell_type": "markdown",
      "metadata": {
        "id": "MOz_15S6h-js"
      },
      "source": [
        "The distribution is uniform in both with classes equally distributed between themselves as well as between train and test sets! :)"
      ]
    },
    {
      "cell_type": "markdown",
      "metadata": {
        "id": "gPxdbmdmh-jt"
      },
      "source": [
        "### Viewing 25 random train images "
      ]
    },
    {
      "cell_type": "code",
      "metadata": {
        "id": "Ee0XY6Wch-jt"
      },
      "source": [
        "# Plot 25 randomly selected images from train or test dataset\n",
        "\n",
        "def random_view(images_dataset, labels_dataset, train=True):\n",
        "\n",
        "  indexes = np.random.randint(0, images_dataset.shape[0], size=25)\n",
        "\n",
        "  images = x_train[indexes]\n",
        "  labels = y_train[indexes]\n",
        "\n",
        "\n",
        "  # plot the 25 mnist digits\n",
        "  plt.figure(figsize=(10,10))\n",
        "  title = \"Random Images from Train Dataset\" if train else \"Random Images from Test Dataset\\n\"\n",
        "  plt.suptitle(title, fontsize=16, y=1.08)\n",
        "  for i in range(len(indexes)):\n",
        "      plt.subplot(5, 5, i + 1)\n",
        "      image = images[i]\n",
        "      plt.imshow(image, cmap='gray')\n",
        "      plt.title('label: {}'.format(class_names[labels[i]]))\n",
        "      plt.tight_layout()\n",
        "      plt.axis('off')\n",
        "\n",
        "  print(\"\\n\\n\")\n"
      ],
      "execution_count": 61,
      "outputs": []
    },
    {
      "cell_type": "code",
      "metadata": {
        "colab": {
          "base_uri": "https://localhost:8080/",
          "height": 834
        },
        "id": "XOMPt_f76RYi",
        "outputId": "71921fd8-6b38-4454-b0a1-da321f81f862"
      },
      "source": [
        "# Plot 25 randomly selected images from train dataset\n",
        "\n",
        "random_view(x_train, y_train, True)"
      ],
      "execution_count": 62,
      "outputs": [
        {
          "output_type": "stream",
          "text": [
            "\n",
            "\n",
            "\n"
          ],
          "name": "stdout"
        },
        {
          "output_type": "display_data",
          "data": {
            "image/png": "[encoded data removed]",
            "text/plain": [
              "<Figure size 720x720 with 25 Axes>"
            ]
          },
          "metadata": {
            "needs_background": "light"
          }
        }
      ]
    },
    {
      "cell_type": "code",
      "metadata": {
        "colab": {
          "base_uri": "https://localhost:8080/",
          "height": 834
        },
        "id": "RWa_wLjx8RGZ",
        "outputId": "bfbec6f8-8a8e-4e2e-94b4-d1d9175ac2f5"
      },
      "source": [
        "# Plot 25 randomly selected images from test dataset\n",
        "\n",
        "random_view(x_test, y_test, False)"
      ],
      "execution_count": 63,
      "outputs": [
        {
          "output_type": "stream",
          "text": [
            "\n",
            "\n",
            "\n"
          ],
          "name": "stdout"
        },
        {
          "output_type": "display_data",
          "data": {
            "image/png": "[encoded data removed]",
            "text/plain": [
              "<Figure size 720x720 with 25 Axes>"
            ]
          },
          "metadata": {
            "needs_background": "light"
          }
        }
      ]
    },
    {
      "cell_type": "markdown",
      "metadata": {
        "id": "4SMRTIsEh-jv"
      },
      "source": [
        "### View multiple random images from train/test dataset."
      ]
    },
    {
      "cell_type": "code",
      "metadata": {
        "id": "qm2CeYjAALH2"
      },
      "source": [
        "# Randomly sample n*n images from train or test dataset\n",
        "\n",
        "import pandas as pd\n",
        "import numpy as np\n",
        "\n",
        "def plot_images(n, train=True):\n",
        "  \"\"\"\n",
        "    Plot Randomly chosen n*n images from train or test dataset\n",
        "      \n",
        "      n: number of columns for plots (n by n subplots)\n",
        "      Assume: train data = (x_train, y_train)\n",
        "              test data = (x_test, y_test)\n",
        "              \n",
        "  \"\"\"\n",
        "\n",
        "  if train:\n",
        "    indexes = np.random.randint(0, x_train.shape[0], size=n*n)\n",
        "    images = x_train[indexes]\n",
        "    labels = y_train[indexes]\n",
        "  else:\n",
        "    indexes = np.random.randint(0, x_test.shape[0], size=n*n)\n",
        "    images = x_test[indexes]\n",
        "    labels = y_test[indexes]\n",
        "\n",
        "\n",
        "  # plot the n by n images\n",
        "  plt.figure(figsize=(7,7))\n",
        "  title = \"Random Images from Train Dataset\" if train else \"Random Images from Test Dataset\\n\"\n",
        "  plt.suptitle(title, fontsize=16, y=1.08)\n",
        "  for i in range(len(indexes)):\n",
        "      plt.subplot(n, n, i + 1)\n",
        "      image = images[i]\n",
        "      plt.imshow(image, cmap='gray')\n",
        "      plt.title('label: {}'.format(class_names[labels[i]]))\n",
        "      plt.tight_layout()\n",
        "      plt.axis('off')"
      ],
      "execution_count": 64,
      "outputs": []
    },
    {
      "cell_type": "code",
      "metadata": {
        "colab": {
          "base_uri": "https://localhost:8080/",
          "height": 547
        },
        "id": "XE_CoQ58hz9R",
        "outputId": "b8628fd4-95c2-4a3a-ccb0-f6e37ce3e87e"
      },
      "source": [
        "# plot random images from train dataset \n",
        "plot_images(4)"
      ],
      "execution_count": 65,
      "outputs": [
        {
          "output_type": "display_data",
          "data": {
            "image/png": "[encoded data removed]",
            "text/plain": [
              "<Figure size 504x504 with 16 Axes>"
            ]
          },
          "metadata": {
            "needs_background": "light"
          }
        }
      ]
    },
    {
      "cell_type": "code",
      "metadata": {
        "colab": {
          "base_uri": "https://localhost:8080/",
          "height": 547
        },
        "id": "I_ljHNo2h5kQ",
        "outputId": "48e429ab-de42-4423-920e-b589503fb487"
      },
      "source": [
        "# plot random images from test dataset \n",
        "plot_images(4, train=False)"
      ],
      "execution_count": 66,
      "outputs": [
        {
          "output_type": "display_data",
          "data": {
            "image/png": "[encoded data removed]",
            "text/plain": [
              "<Figure size 504x504 with 16 Axes>"
            ]
          },
          "metadata": {
            "needs_background": "light"
          }
        }
      ]
    },
    {
      "cell_type": "code",
      "metadata": {
        "id": "oiZcPkGMcd4R"
      },
      "source": [
        "def plot_images_by_class(n, category=0):\n",
        "  \"\"\"\n",
        "    Plot n by n random train images from a given category \n",
        "     \n",
        "      n: number of columns for plots (n by n subplots)\n",
        "      Assume: train data = (x_train, y_train)            \n",
        "  \"\"\"\n",
        "\n",
        "  len = 6000  # sample size in each category = 6000\n",
        "  indexes = np.where(y_train==category)\n",
        "  indexes = np.asarray(indexes).reshape(len) \n",
        "  chosen = np.random.randint(0, len, size=n*n)\n",
        "\n",
        "  plt.suptitle(\"Random Images in \"+ class_names[category], fontsize=16, y=1.08)\n",
        "  plt.figure(figsize=(7,7))\n",
        "  for i in range(n*n):\n",
        "      plt.subplot(n, n, i + 1)\n",
        "      image = x_train[indexes[chosen[i]]]\n",
        "      label = y_train[indexes[chosen[i]]]\n",
        "      plt.imshow(image, cmap='gray')\n",
        "      plt.title('label: {}'.format(class_names[label]))\n",
        "      plt.tight_layout()\n",
        "      plt.axis('off')"
      ],
      "execution_count": 67,
      "outputs": []
    },
    {
      "cell_type": "code",
      "metadata": {
        "colab": {
          "base_uri": "https://localhost:8080/",
          "height": 514
        },
        "id": "ADz3ECYA8-Sc",
        "outputId": "e5af2f38-e821-4d17-b7ba-c364b56c806b"
      },
      "source": [
        "plot_images_by_class(4)"
      ],
      "execution_count": 68,
      "outputs": [
        {
          "output_type": "display_data",
          "data": {
            "text/plain": [
              "<Figure size 432x288 with 0 Axes>"
            ]
          },
          "metadata": {}
        },
        {
          "output_type": "display_data",
          "data": {
            "image/png": "[encoded data removed]",
            "text/plain": [
              "<Figure size 504x504 with 16 Axes>"
            ]
          },
          "metadata": {
            "needs_background": "light"
          }
        }
      ]
    },
    {
      "cell_type": "markdown",
      "metadata": {
        "id": "1axxD8jQcEqH"
      },
      "source": [
        "### 손실함수로서의 Cross-entropy\n",
        "\n",
        "딥러닝에서 분류 모델에 대한 손실 함수로 cross-entropy 혹은 binary entropy 나 log loss 라는 것을 사용하게 된다. 손실함수로서의 cross-entropy 는 아래 식으로 계산할 수 있다. \n",
        "\n",
        "$$-\\frac{1}{n} \\sum_{i=1}^{n}\\sum_{c=1}^{C} y_{ic}log(\\hat y_{ic})$$\n",
        " \n",
        "여기서, \n",
        "\n",
        "$n = $ 데이터 갯수\n",
        "\n",
        "$C = $ 범주 갯수\n",
        "\n",
        "$y = $ 실제 값(one-hot 인코딩 형태의 정답) (주로 0 또는 1)\n",
        "\n",
        "$\\hat y = $ 딥러닝 모델의 예측값(확률값) (0~1)  \n",
        "\n",
        "예를 들어 $C = 3$일 때 두 특정 샘플 $y_1 = [0, 0, 1] $,  $\\hat y_1 = [0.1, 0.2, 0.7]$, $y_2 = [0, 0, 1] $,  $\\hat y_2 = [0.5, 0.3, 0.2]$라 하자. 이 때,  샘플 1의 경우  cross entropy 는 \n",
        "$$ 0*log(0.1) + 0*log(0.2) + 1*log(0.7) = -log(0.7) = 0.35 $$ \n",
        "\n",
        "샘플 2의 경우 예측 모델은 상당히 잘못 예측했다는 것을 알 수 있고,이 경우 cross entropy 는  \n",
        "$$ -log(0.2) = 1.6$$ \n",
        "\n",
        "\n",
        "딥러닝을 통한 예측 모델링에 있어, cross-entropy가  실제 값과 예측값의 차이(error 혹은 loss)로서의 의미를 가지게 된다는 것을 직관적으로 이해할 수 있다.  \n",
        "\n",
        "더 자세한 사항을 공부하려면 github에 올려논 [A Gentle Introduction to Cross-Entropy for Machine Learning](https://github.com/sangsin/Introduction-to-Deep-Learning-with-Tensorflow-2.0-and-Keras/blob/main/Lecture%2005~07%20-%20Classification/A%20Gentle%20Introduction%20to%20Cross-Entropy%20for%20Machine%20Learning.ipynb)\n",
        "을 참고할 것"
      ]
    },
    {
      "cell_type": "markdown",
      "metadata": {
        "id": "JhgF6oJcuib8"
      },
      "source": [
        "### Softmax Activation Function\n",
        "\n",
        "Softmax(소프트맥스)는 입력받은 값을 출력으로 0~1사이의 값으로 모두 정규화하며 출력 값들의 총합은 항상 1이 되는 특성을 가진 함수이다.\n",
        "\n",
        "  - Softmax는 세개이상으로 분류하는 다중클래스 분류(Multi-class Classification)에서 사용되는 활성화 함수이다.\n",
        "  - 분류하고 싶은 클래수가 c개라고 할때 c by 1 벡터를 입력받아, 각 클래스에 속할 확률을 출력한다.\n",
        "  - 가장 큰 출력 값을 부여받은 클래스가 확률이 가장 높은 것으로 이용된다.\n",
        "\n",
        "입력벡터를 $z = [z_1, z_2, \\cdots, z_c]$일때\n",
        "\n",
        "  $$\\hat y_k = \\frac{e^{z_k}}{\\sum_{i=1}^{c} e^{z_i}}$$\n",
        "\n",
        "  \n",
        "\n"
      ]
    },
    {
      "cell_type": "code",
      "metadata": {
        "colab": {
          "base_uri": "https://localhost:8080/"
        },
        "id": "Z0zDPvAIu9EX",
        "outputId": "94c066af-cfea-4b17-f22d-ae13a2b873c9"
      },
      "source": [
        "import numpy as np\n",
        "\n",
        "# calculate the softmax of a vector\n",
        "def softmax(vector):\n",
        "    e = np.exp(vector)\n",
        "    return e / e.sum()\n",
        " \n",
        "# define data\n",
        "data = [1, 3, 2]\n",
        "# convert list of numbers to a list of probabilities\n",
        "result = softmax(data)\n",
        "# report the probabilities\n",
        "print(result)\n",
        "# report the sum of the probabilities\n",
        "print('Sum = ',sum(result))\n",
        "print('Class =',np.argmax(result))"
      ],
      "execution_count": 69,
      "outputs": [
        {
          "output_type": "stream",
          "text": [
            "[0.09003057 0.66524096 0.24472847]\n",
            "Sum =  1.0\n",
            "Class = 1\n"
          ],
          "name": "stdout"
        }
      ]
    },
    {
      "cell_type": "markdown",
      "metadata": {
        "id": "6JahJAqzh-jx"
      },
      "source": [
        "## Build a multiclass classification model\n",
        "\n",
        "* Loss function = `CategoricalCrossentropy` (if one-hot) else `SparseCategoricalCrossentropy`\n",
        "* Output activation = `Softmax`\n",
        "* Input shape = 28x28 (shape of one image)\n",
        "* Output shape = 10 (1 per class)\n",
        "\n"
      ]
    },
    {
      "cell_type": "code",
      "metadata": {
        "id": "RdaNa_7Sh-jx",
        "colab": {
          "base_uri": "https://localhost:8080/"
        },
        "outputId": "dca9a93f-105a-4b23-8f81-9d6fb04400c0"
      },
      "source": [
        "from tensorflow.keras import layers, losses, optimizers\n",
        "from sklearn.metrics import classification_report\n",
        "\n",
        "\n",
        "from tensorflow.keras.models import Sequential  # Model type to be used\n",
        "from tensorflow.keras.layers import Dense, InputLayer, Flatten, Activation\n",
        "from tensorflow.keras.utils import to_categorical, plot_model\n",
        "\n",
        "from tensorflow.keras.datasets import fashion_mnist\n",
        "\n",
        "# The data has already been sorted into training and testing sets\n",
        "(x_train, y_train), (x_test, y_test) = fashion_mnist.load_data()\n",
        "\n",
        "# Name of the classes\n",
        "class_names =  ['T-shirt/top', 'Trouser', 'Pullover', 'Dress', 'Coat',\n",
        "               'Sandal', 'Shirt', 'Sneaker', 'Bag', 'Ankle boot']\n",
        "\n",
        "n_classes = len(class_names)\n",
        "print(f'Number of classes: {n_classes}')"
      ],
      "execution_count": 70,
      "outputs": [
        {
          "output_type": "stream",
          "text": [
            "Number of classes: 10\n"
          ],
          "name": "stdout"
        }
      ]
    },
    {
      "cell_type": "markdown",
      "metadata": {
        "id": "dA0RTarzh-jx"
      },
      "source": [
        "### Get one hot encoded labels"
      ]
    },
    {
      "cell_type": "code",
      "metadata": {
        "id": "tEjlt2JPh-jx"
      },
      "source": [
        "y_train = to_categorical(y_train, n_classes)\n",
        "y_test = to_categorical(y_test, n_classes)"
      ],
      "execution_count": 71,
      "outputs": []
    },
    {
      "cell_type": "markdown",
      "metadata": {
        "id": "U3OZ6CDXh-jx"
      },
      "source": [
        "### Scale the images\n",
        "\n",
        "* The images are 8bit single channel images (Hence the pixel values are intensities between $0$ and $2^8 - 1 = 255$"
      ]
    },
    {
      "cell_type": "code",
      "metadata": {
        "id": "mX_52L2kh-jy",
        "colab": {
          "base_uri": "https://localhost:8080/"
        },
        "outputId": "407a65dd-c6e7-4bfb-ecd6-a47b73ea2b2a"
      },
      "source": [
        "x_train, x_test = x_train/255.0, x_test/255.0\n",
        "x_train.shape, x_test.shape\n"
      ],
      "execution_count": 72,
      "outputs": [
        {
          "output_type": "execute_result",
          "data": {
            "text/plain": [
              "((60000, 28, 28), (10000, 28, 28))"
            ]
          },
          "metadata": {},
          "execution_count": 72
        }
      ]
    },
    {
      "cell_type": "markdown",
      "metadata": {
        "id": "KcSWrIAdh-jy"
      },
      "source": [
        "### The `Flatten` layer\n",
        "\n",
        "* Before passing the images of dim (28, 28) into a simple Deep Neural Network, we need to flatten the images\n",
        "* Then we can construct the Neural Network layers as usual\n",
        "* This makes it loose the spatial correlation property, and model now has no hints whatsoever that some pixels are spatially closer to one another. "
      ]
    },
    {
      "cell_type": "code",
      "metadata": {
        "id": "VkPWij_Lh-jy"
      },
      "source": [
        "input_dim = x_train.shape[1]*x_train.shape[2]\n",
        "flatten_model = tf.keras.models.Sequential([\n",
        "    Flatten(input_dim=input_dim)\n",
        "])\n",
        "\n",
        "# In ther ways, use 'reshape'\n",
        "\n",
        "\n",
        "x_train = x_train.reshape(60000, input_dim) # reshape 60,000 28 x 28 matrices into 60,000 784-length vectors.\n",
        "x_test = x_test.reshape(10000, input_dim)   # reshape 10,000 28 x 28 matrices into 10,000 784-length vectors.\n"
      ],
      "execution_count": 73,
      "outputs": []
    },
    {
      "cell_type": "markdown",
      "metadata": {
        "id": "RLcudtVUh-jy"
      },
      "source": [
        "The flatten layer flattens a (28, 28) into 784 (1-D) vector"
      ]
    },
    {
      "cell_type": "markdown",
      "metadata": {
        "id": "Bpqik7Dah-jz"
      },
      "source": [
        "## Model 1: Simple Deep Neural Network "
      ]
    },
    {
      "cell_type": "markdown",
      "metadata": {
        "id": "Z9EbvFMEO20L"
      },
      "source": [
        "### What is the difference between sparse_categorical_crossentropy and categorical_crossentropy?\n",
        "\n",
        "\n",
        "  - If your targets are one-hot encoded, use categorical_crossentropy. \n",
        "  > \n",
        "  > [1,0,0]\n",
        "  >\n",
        "  > [0,1,0]\n",
        "  > \n",
        "  > [0,0,1]\n",
        "  >\n",
        "  - But if your targets are integers, use sparse_categorical_crossentropy. \n",
        "  > \n",
        "  > [1, 2, 3]\n",
        "  > \n",
        "\n",
        "  - Use sparse categorical crossentropy when your classes are mutually exclusive (e.g. when each sample belongs exactly to one class) and categorical crossentropy when one sample can have multiple classes or labels are soft probabilities (like [0.5, 0.3, 0.2]).\n",
        "\n",
        "Link: [Sparse_categorical_crossentropy vs categorical_crossentropy (keras, accuracy)](https://datascience.stackexchange.com/questions/41921/sparse-categorical-crossentropy-vs-categorical-crossentropy-keras-accuracy)\n"
      ]
    },
    {
      "cell_type": "code",
      "metadata": {
        "id": "4BWDKkrWh-jz",
        "colab": {
          "base_uri": "https://localhost:8080/"
        },
        "outputId": "bb15c051-1900-4cfb-f404-9e4834164198"
      },
      "source": [
        "# Set random seed\n",
        "tf.random.set_seed(42)\n",
        "\n",
        "# Create model\n",
        "model = tf.keras.models.Sequential([\n",
        "    Flatten(input_shape = (input_dim,)),\n",
        "    Dense(128, activation='relu'),\n",
        "    Dense(4, activation='relu'),\n",
        "    Dense(n_classes, activation='softmax')\n",
        "])\n",
        "\n",
        "# Compile the model\n",
        "model.compile(loss=losses.categorical_crossentropy, optimizer=optimizers.Adam(learning_rate=0.001), metrics='accuracy')\n",
        "\n",
        "# Fit the model\n",
        "history = model.fit(x_train, y_train, validation_split=0.1, epochs=20, batch_size=128, verbose=1) # 128 batch size works faster!\n"
      ],
      "execution_count": 74,
      "outputs": [
        {
          "output_type": "stream",
          "text": [
            "Epoch 1/20\n",
            "422/422 [==============================] - 2s 3ms/step - loss: 1.0462 - accuracy: 0.6279 - val_loss: 0.6257 - val_accuracy: 0.8020\n",
            "Epoch 2/20\n",
            "422/422 [==============================] - 1s 3ms/step - loss: 0.5307 - accuracy: 0.8251 - val_loss: 0.4755 - val_accuracy: 0.8357\n",
            "Epoch 3/20\n",
            "422/422 [==============================] - 1s 3ms/step - loss: 0.4522 - accuracy: 0.8473 - val_loss: 0.4345 - val_accuracy: 0.8507\n",
            "Epoch 4/20\n",
            "422/422 [==============================] - 1s 3ms/step - loss: 0.4087 - accuracy: 0.8592 - val_loss: 0.4115 - val_accuracy: 0.8533\n",
            "Epoch 5/20\n",
            "422/422 [==============================] - 1s 3ms/step - loss: 0.3814 - accuracy: 0.8670 - val_loss: 0.4026 - val_accuracy: 0.8575\n",
            "Epoch 6/20\n",
            "422/422 [==============================] - 1s 3ms/step - loss: 0.3599 - accuracy: 0.8730 - val_loss: 0.3913 - val_accuracy: 0.8620\n",
            "Epoch 7/20\n",
            "422/422 [==============================] - 1s 3ms/step - loss: 0.3446 - accuracy: 0.8785 - val_loss: 0.3720 - val_accuracy: 0.8650\n",
            "Epoch 8/20\n",
            "422/422 [==============================] - 1s 3ms/step - loss: 0.3306 - accuracy: 0.8823 - val_loss: 0.3645 - val_accuracy: 0.8672\n",
            "Epoch 9/20\n",
            "422/422 [==============================] - 1s 3ms/step - loss: 0.3189 - accuracy: 0.8863 - val_loss: 0.3556 - val_accuracy: 0.8728\n",
            "Epoch 10/20\n",
            "422/422 [==============================] - 1s 3ms/step - loss: 0.3107 - accuracy: 0.8887 - val_loss: 0.3653 - val_accuracy: 0.8708\n",
            "Epoch 11/20\n",
            "422/422 [==============================] - 1s 3ms/step - loss: 0.2989 - accuracy: 0.8922 - val_loss: 0.3574 - val_accuracy: 0.8752\n",
            "Epoch 12/20\n",
            "422/422 [==============================] - 1s 3ms/step - loss: 0.2915 - accuracy: 0.8949 - val_loss: 0.3547 - val_accuracy: 0.8748\n",
            "Epoch 13/20\n",
            "422/422 [==============================] - 1s 3ms/step - loss: 0.2840 - accuracy: 0.8975 - val_loss: 0.3593 - val_accuracy: 0.8743\n",
            "Epoch 14/20\n",
            "422/422 [==============================] - 1s 3ms/step - loss: 0.2760 - accuracy: 0.8991 - val_loss: 0.3457 - val_accuracy: 0.8808\n",
            "Epoch 15/20\n",
            "422/422 [==============================] - 1s 3ms/step - loss: 0.2689 - accuracy: 0.9026 - val_loss: 0.3426 - val_accuracy: 0.8815\n",
            "Epoch 16/20\n",
            "422/422 [==============================] - 1s 3ms/step - loss: 0.2641 - accuracy: 0.9039 - val_loss: 0.3439 - val_accuracy: 0.8795\n",
            "Epoch 17/20\n",
            "422/422 [==============================] - 1s 3ms/step - loss: 0.2550 - accuracy: 0.9067 - val_loss: 0.3414 - val_accuracy: 0.8810\n",
            "Epoch 18/20\n",
            "422/422 [==============================] - 1s 3ms/step - loss: 0.2510 - accuracy: 0.9087 - val_loss: 0.3440 - val_accuracy: 0.8805\n",
            "Epoch 19/20\n",
            "422/422 [==============================] - 1s 3ms/step - loss: 0.2478 - accuracy: 0.9102 - val_loss: 0.3421 - val_accuracy: 0.8792\n",
            "Epoch 20/20\n",
            "422/422 [==============================] - 1s 3ms/step - loss: 0.2427 - accuracy: 0.9108 - val_loss: 0.3463 - val_accuracy: 0.8820\n"
          ],
          "name": "stdout"
        }
      ]
    },
    {
      "cell_type": "code",
      "metadata": {
        "colab": {
          "base_uri": "https://localhost:8080/"
        },
        "id": "wyabSUUFLZj_",
        "outputId": "e69ececb-49c2-4875-a051-5e7040f231a8"
      },
      "source": [
        "model.summary()"
      ],
      "execution_count": 75,
      "outputs": [
        {
          "output_type": "stream",
          "text": [
            "Model: \"sequential_4\"\n",
            "_________________________________________________________________\n",
            "Layer (type)                 Output Shape              Param #   \n",
            "=================================================================\n",
            "flatten_4 (Flatten)          (None, 784)               0         \n",
            "_________________________________________________________________\n",
            "dense_6 (Dense)              (None, 128)               100480    \n",
            "_________________________________________________________________\n",
            "dense_7 (Dense)              (None, 4)                 516       \n",
            "_________________________________________________________________\n",
            "dense_8 (Dense)              (None, 10)                50        \n",
            "=================================================================\n",
            "Total params: 101,046\n",
            "Trainable params: 101,046\n",
            "Non-trainable params: 0\n",
            "_________________________________________________________________\n"
          ],
          "name": "stdout"
        }
      ]
    },
    {
      "cell_type": "markdown",
      "metadata": {
        "id": "GVIFffo9Ksck"
      },
      "source": [
        "## Evaluate the above model"
      ]
    },
    {
      "cell_type": "code",
      "metadata": {
        "id": "3yQ2Htw_Bqxs"
      },
      "source": [
        "acc = history.history['accuracy']\n",
        "val_acc = history.history['val_accuracy']\n",
        "loss = history.history['loss']\n",
        "val_loss = history.history['val_loss']"
      ],
      "execution_count": 76,
      "outputs": []
    },
    {
      "cell_type": "code",
      "metadata": {
        "colab": {
          "base_uri": "https://localhost:8080/",
          "height": 298
        },
        "id": "opi2RovMDmPk",
        "outputId": "b534e716-7f18-42a2-91bd-151f2a0e2f85"
      },
      "source": [
        "# Plot learning curves for accuracy\n",
        "\n",
        "epochs = range(1, len(acc) + 1)\n",
        "\n",
        "plt.plot(epochs, acc, 'bo', label='Training acc')\n",
        "plt.plot(epochs, val_acc, 'b', label='Validation acc')\n",
        "plt.title('Training and validation accuracy')\n",
        "plt.legend()"
      ],
      "execution_count": 77,
      "outputs": [
        {
          "output_type": "execute_result",
          "data": {
            "text/plain": [
              "<matplotlib.legend.Legend at 0x7fb92612d1d0>"
            ]
          },
          "metadata": {},
          "execution_count": 77
        },
        {
          "output_type": "display_data",
          "data": {
            "image/png": "[encoded data removed]",
            "text/plain": [
              "<Figure size 432x288 with 1 Axes>"
            ]
          },
          "metadata": {
            "needs_background": "light"
          }
        }
      ]
    },
    {
      "cell_type": "code",
      "metadata": {
        "colab": {
          "base_uri": "https://localhost:8080/",
          "height": 281
        },
        "id": "YKIS0SJnEMGU",
        "outputId": "ba00a30e-0236-46a2-883c-7f0b05cf51c9"
      },
      "source": [
        "# Plot learning curves for accuracy\n",
        "\n",
        "plt.plot(epochs, loss, 'bo', label='Training loss')\n",
        "plt.plot(epochs, val_loss, 'b', label='Validation loss')\n",
        "plt.title('Training and validation loss')\n",
        "plt.legend()\n",
        "plt.show()"
      ],
      "execution_count": 78,
      "outputs": [
        {
          "output_type": "display_data",
          "data": {
            "image/png": "[encoded data removed]",
            "text/plain": [
              "<Figure size 432x288 with 1 Axes>"
            ]
          },
          "metadata": {
            "needs_background": "light"
          }
        }
      ]
    },
    {
      "cell_type": "code",
      "metadata": {
        "colab": {
          "base_uri": "https://localhost:8080/",
          "height": 298
        },
        "id": "QaQjeyA9IYSY",
        "outputId": "60f85dfa-c4bc-4d67-98e3-9e00d830ad67"
      },
      "source": [
        "# Alternative Method\n",
        "\n",
        "import pandas as pd\n",
        "pd.DataFrame(history.history).plot(title=\"Loss and Accuracy\")"
      ],
      "execution_count": 79,
      "outputs": [
        {
          "output_type": "execute_result",
          "data": {
            "text/plain": [
              "<matplotlib.axes._subplots.AxesSubplot at 0x7fb924fd13d0>"
            ]
          },
          "metadata": {},
          "execution_count": 79
        },
        {
          "output_type": "display_data",
          "data": {
            "image/png": "[encoded data removed]",
            "text/plain": [
              "<Figure size 432x288 with 1 Axes>"
            ]
          },
          "metadata": {
            "needs_background": "light"
          }
        }
      ]
    },
    {
      "cell_type": "markdown",
      "metadata": {
        "id": "KyaFnqATlKtg"
      },
      "source": [
        "Seems like the model has stopped learning more patterns, and seems underfitted. Maybe if we increase the number of neurons in each layer."
      ]
    },
    {
      "cell_type": "markdown",
      "metadata": {
        "id": "CbgJGEdUT6N7"
      },
      "source": [
        "### Test Loss and Test Accuracy "
      ]
    },
    {
      "cell_type": "code",
      "metadata": {
        "colab": {
          "base_uri": "https://localhost:8080/"
        },
        "id": "YyL-tJYpT_G1",
        "outputId": "aa18a591-9ef7-4b59-d354-4382769bbb52"
      },
      "source": [
        "# accuray and loss using test images\n",
        "loss, accuracy = model.evaluate(x_test, y_test)\n",
        "print('Test loss:', loss)\n",
        "print('Test accuracy:', accuracy)"
      ],
      "execution_count": 80,
      "outputs": [
        {
          "output_type": "stream",
          "text": [
            "313/313 [==============================] - 1s 2ms/step - loss: 0.3724 - accuracy: 0.8705\n",
            "Test loss: 0.3724164366722107\n",
            "Test accuracy: 0.8705000281333923\n"
          ],
          "name": "stdout"
        }
      ]
    },
    {
      "cell_type": "markdown",
      "metadata": {
        "id": "QmTLar2KZj0E"
      },
      "source": [
        "### 분류성능평가지표 - 혼동행렬(Confusion Matrix)"
      ]
    },
    {
      "cell_type": "markdown",
      "metadata": {
        "id": "j2wzu6P5lKtg"
      },
      "source": [
        "## Model 2: Simple Deep Neural Network - 2layer - larger"
      ]
    },
    {
      "cell_type": "code",
      "metadata": {
        "colab": {
          "base_uri": "https://localhost:8080/"
        },
        "id": "5MaoDhKDftc_",
        "outputId": "4e794f47-1170-4d1a-abb5-0fab243d7448"
      },
      "source": [
        "# The data has already been sorted into training and testing sets\n",
        "(x_train, y_train), (x_test, y_test) = fashion_mnist.load_data()\n",
        "print(x_train.shape, y_train.shape,  x_test.shape, y_test.shape)\n",
        "\n",
        "# Flatten image data in order to be used as a dense layer input \n",
        "x_train = x_train.reshape(60000, input_dim) # reshape 60,000 28 x 28 matrices into 60,000 784-length vectors.\n",
        "x_test = x_test.reshape(10000, input_dim)   # reshape 10,000 28 x 28 matrices into 10,000 784-length vectors.\n",
        "\n",
        "# Scaling\n",
        "x_train, x_test = x_train/255.0, x_test/255.0\n",
        "\n",
        "# One-hot encoding for labels\n",
        "y_train = to_categorical(y_train, n_classes)\n",
        "y_test = to_categorical(y_test, n_classes)\n",
        "\n",
        "print(x_train.shape, y_train.shape,  x_test.shape, y_test.shape)"
      ],
      "execution_count": 81,
      "outputs": [
        {
          "output_type": "stream",
          "text": [
            "(60000, 28, 28) (60000,) (10000, 28, 28) (10000,)\n",
            "(60000, 784) (60000, 10) (10000, 784) (10000, 10)\n"
          ],
          "name": "stdout"
        }
      ]
    },
    {
      "cell_type": "code",
      "metadata": {
        "id": "7ee3BJDIlKtg"
      },
      "source": [
        "# set seed\n",
        "tf.random.set_seed(42)\n",
        "\n",
        "# Create the model\n",
        "model = tf.keras.models.Sequential([\n",
        "    layers.Flatten(input_dim = input_dim),\n",
        "    layers.Dense(128, activation='relu'),\n",
        "    layers.Dense(32, activation='relu'),\n",
        "    layers.Dense(n_classes, activation='softmax')\n",
        "])\n",
        "\n",
        "# Compile the model\n",
        "model.compile(loss=losses.categorical_crossentropy, optimizer=optimizers.Adam(1e-3), metrics='accuracy')"
      ],
      "execution_count": 82,
      "outputs": []
    },
    {
      "cell_type": "code",
      "metadata": {
        "id": "X1Rjf4oGlKtg",
        "colab": {
          "base_uri": "https://localhost:8080/"
        },
        "outputId": "53daee32-47aa-4131-a806-891421057b00"
      },
      "source": [
        "model.summary()"
      ],
      "execution_count": 83,
      "outputs": [
        {
          "output_type": "stream",
          "text": [
            "Model: \"sequential_5\"\n",
            "_________________________________________________________________\n",
            "Layer (type)                 Output Shape              Param #   \n",
            "=================================================================\n",
            "flatten_5 (Flatten)          (None, 784)               0         \n",
            "_________________________________________________________________\n",
            "dense_9 (Dense)              (None, 128)               100480    \n",
            "_________________________________________________________________\n",
            "dense_10 (Dense)             (None, 32)                4128      \n",
            "_________________________________________________________________\n",
            "dense_11 (Dense)             (None, 10)                330       \n",
            "=================================================================\n",
            "Total params: 104,938\n",
            "Trainable params: 104,938\n",
            "Non-trainable params: 0\n",
            "_________________________________________________________________\n"
          ],
          "name": "stdout"
        }
      ]
    },
    {
      "cell_type": "code",
      "metadata": {
        "id": "FYrrm1ZnlKtg",
        "colab": {
          "base_uri": "https://localhost:8080/"
        },
        "outputId": "1c0ae8a9-0a15-4cea-abd4-327fac49a682"
      },
      "source": [
        "# Fit the model\n",
        "history = model.fit(x_train, y_train, validation_split=0.1, epochs=20, batch_size=128, verbose=1)"
      ],
      "execution_count": null,
      "outputs": [
        {
          "output_type": "stream",
          "text": [
            "Epoch 1/20\n",
            "422/422 [==============================] - 2s 3ms/step - loss: 0.5720 - accuracy: 0.8017 - val_loss: 0.4301 - val_accuracy: 0.8487\n",
            "Epoch 2/20\n",
            "422/422 [==============================] - 1s 3ms/step - loss: 0.4091 - accuracy: 0.8548 - val_loss: 0.3775 - val_accuracy: 0.8635\n",
            "Epoch 3/20\n",
            "422/422 [==============================] - 1s 3ms/step - loss: 0.3675 - accuracy: 0.8677 - val_loss: 0.3813 - val_accuracy: 0.8595\n",
            "Epoch 4/20\n",
            "422/422 [==============================] - 1s 3ms/step - loss: 0.3394 - accuracy: 0.8777 - val_loss: 0.3627 - val_accuracy: 0.8677\n",
            "Epoch 5/20\n",
            "422/422 [==============================] - 1s 3ms/step - loss: 0.3239 - accuracy: 0.8821 - val_loss: 0.3373 - val_accuracy: 0.8733\n",
            "Epoch 6/20\n",
            "422/422 [==============================] - 1s 3ms/step - loss: 0.3056 - accuracy: 0.8880 - val_loss: 0.3534 - val_accuracy: 0.8742\n",
            "Epoch 7/20\n",
            "422/422 [==============================] - 1s 3ms/step - loss: 0.2930 - accuracy: 0.8929 - val_loss: 0.3365 - val_accuracy: 0.8770\n",
            "Epoch 8/20\n",
            "422/422 [==============================] - 1s 3ms/step - loss: 0.2808 - accuracy: 0.8966 - val_loss: 0.3357 - val_accuracy: 0.8810\n",
            "Epoch 9/20\n",
            "422/422 [==============================] - 1s 3ms/step - loss: 0.2700 - accuracy: 0.9001 - val_loss: 0.3202 - val_accuracy: 0.8820\n",
            "Epoch 10/20\n",
            "422/422 [==============================] - 1s 3ms/step - loss: 0.2611 - accuracy: 0.9038 - val_loss: 0.3251 - val_accuracy: 0.8822\n",
            "Epoch 11/20\n",
            "422/422 [==============================] - 1s 3ms/step - loss: 0.2532 - accuracy: 0.9059 - val_loss: 0.3180 - val_accuracy: 0.8860\n",
            "Epoch 12/20\n",
            "422/422 [==============================] - 1s 3ms/step - loss: 0.2428 - accuracy: 0.9095 - val_loss: 0.3134 - val_accuracy: 0.8855\n",
            "Epoch 13/20\n",
            "422/422 [==============================] - 1s 3ms/step - loss: 0.2381 - accuracy: 0.9117 - val_loss: 0.3181 - val_accuracy: 0.8895\n",
            "Epoch 14/20\n",
            "422/422 [==============================] - 1s 3ms/step - loss: 0.2295 - accuracy: 0.9152 - val_loss: 0.3237 - val_accuracy: 0.8860\n",
            "Epoch 15/20\n",
            "422/422 [==============================] - 1s 3ms/step - loss: 0.2219 - accuracy: 0.9180 - val_loss: 0.3022 - val_accuracy: 0.8918\n",
            "Epoch 16/20\n",
            "422/422 [==============================] - 1s 3ms/step - loss: 0.2164 - accuracy: 0.9192 - val_loss: 0.3147 - val_accuracy: 0.8900\n",
            "Epoch 17/20\n",
            "422/422 [==============================] - 1s 3ms/step - loss: 0.2107 - accuracy: 0.9216 - val_loss: 0.3141 - val_accuracy: 0.8930\n",
            "Epoch 18/20\n",
            "422/422 [==============================] - 1s 3ms/step - loss: 0.2067 - accuracy: 0.9231 - val_loss: 0.3273 - val_accuracy: 0.8880\n",
            "Epoch 19/20\n",
            "422/422 [==============================] - 1s 3ms/step - loss: 0.2016 - accuracy: 0.9249 - val_loss: 0.3264 - val_accuracy: 0.8840\n",
            "Epoch 20/20\n",
            "290/422 [===================>..........] - ETA: 0s - loss: 0.1968 - accuracy: 0.9268"
          ],
          "name": "stdout"
        }
      ]
    },
    {
      "cell_type": "markdown",
      "metadata": {
        "id": "4OWG5uKWlKtg"
      },
      "source": [
        "### Plot learning curve"
      ]
    },
    {
      "cell_type": "code",
      "metadata": {
        "id": "5bd7qq41lKtg"
      },
      "source": [
        "# Alternative Method\n",
        "\n",
        "import pandas as pd\n",
        "pd.DataFrame(history.history).plot(title=\"Loss and Accuracy\")"
      ],
      "execution_count": null,
      "outputs": []
    },
    {
      "cell_type": "markdown",
      "metadata": {
        "id": "xvWvpuarlKtg"
      },
      "source": [
        "Our model improved a little bit with addition of more neurons and it doesn't seem to overfit!"
      ]
    },
    {
      "cell_type": "code",
      "metadata": {
        "id": "KEnFDmNQgjtX"
      },
      "source": [
        "# Confusion Matrix\n",
        "\n",
        "# Get predicted class for X_test by converting all of the predictions from probabilities to labels\n",
        "y_probs = model.predict(x_test)\n",
        "#print(tf.argmax(pred[0:10]))\n",
        "print(y_probs[0:10])\n",
        "\n",
        "y_pred=y_probs.argmax(axis=1)\n",
        "\n",
        "print('Predicted class probability\\n',y_pred[0:10])\n",
        "print('One-hot encoded labels\\n',y_test[0:10])\n",
        "\n",
        "# To compare y_pred with y_test, y_test should be decoded as a vector.\n",
        "labels = y_test.argmax(axis=1)\n",
        "print('Decoded labels\\n',labels[0:10])\n",
        "\n",
        "# Check out the non-prettified confusion matrix\n",
        "from sklearn.metrics import confusion_matrix\n",
        "cm = confusion_matrix(y_true=labels, y_pred=y_pred)\n",
        "cm = pd.DataFrame(cm)\n",
        "cm['sum']= cm.sum(axis=1)\n",
        "cm.loc['Total']= cm.sum()\n",
        "cm"
      ],
      "execution_count": null,
      "outputs": []
    },
    {
      "cell_type": "markdown",
      "metadata": {
        "id": "iuMFTTfaubnK"
      },
      "source": [
        "\n",
        "      0 : T-shirt/top \n",
        "      1 : Trouser\n",
        "      2 : Pullover\n",
        "      3 : Dress\n",
        "      4 : Coat\n",
        "      5 : Sandal\n",
        "      6 : Shirt\n",
        "      7 : Sneaker\n",
        "      8 : Bag\n",
        "      9 : Ankle boot\n"
      ]
    },
    {
      "cell_type": "code",
      "metadata": {
        "id": "1w1PUdNOn1pP"
      },
      "source": [
        "# Note: The following confusion matrix code is a remix of Scikit-Learn's \n",
        "# plot_confusion_matrix function - https://scikit-learn.org/stable/modules/generated/sklearn.metrics.plot_confusion_matrix.html\n",
        "# and Made with ML's introductory notebook - https://github.com/madewithml/basics/blob/master/notebooks/09_Multilayer_Perceptrons/09_TF_Multilayer_Perceptrons.ipynb\n",
        "import itertools\n",
        "from sklearn.metrics import confusion_matrix\n",
        "\n",
        "# Our function needs a different name to sklearn's plot_confusion_matrix\n",
        "def make_confusion_matrix(y_true, y_pred, classes=None, figsize=(10, 10), text_size=15): \n",
        "  \"\"\"Makes a labelled confusion matrix comparing predictions and ground truth labels.\n",
        "\n",
        "  If classes is passed, confusion matrix will be labelled, if not, integer class values\n",
        "  will be used.\n",
        "\n",
        "  Args:\n",
        "    y_true: Array of truth labels (must be same shape as y_pred).\n",
        "    y_pred: Array of predicted labels (must be same shape as y_true).\n",
        "    classes: Array of class labels (e.g. string form). If `None`, integer labels are used.\n",
        "    figsize: Size of output figure (default=(10, 10)).\n",
        "    text_size: Size of output figure text (default=15).\n",
        "  \n",
        "  Returns:\n",
        "    A labelled confusion matrix plot comparing y_true and y_pred.\n",
        "\n",
        "  Example usage:\n",
        "    make_confusion_matrix(y_true=test_labels, # ground truth test labels\n",
        "                          y_pred=y_preds, # predicted labels\n",
        "                          classes=class_names, # array of class label names\n",
        "                          figsize=(15, 15),\n",
        "                          text_size=10)\n",
        "  \"\"\"  \n",
        "  # Create the confustion matrix\n",
        "  cm = confusion_matrix(y_true, y_pred)\n",
        "  cm_norm = cm.astype(\"float\") / cm.sum(axis=1)[:, np.newaxis] # normalize it\n",
        "  n_classes = cm.shape[0] # find the number of classes we're dealing with\n",
        "\n",
        "  # Plot the figure and make it pretty\n",
        "  fig, ax = plt.subplots(figsize=figsize)\n",
        "  cax = ax.matshow(cm, cmap=plt.cm.Blues) # colors will represent how 'correct' a class is, darker == better\n",
        "  fig.colorbar(cax)\n",
        "\n",
        "  # Are there a list of classes?\n",
        "  if classes:\n",
        "    labels = classes\n",
        "  else:\n",
        "    labels = np.arange(cm.shape[0])\n",
        "  \n",
        "  # Label the axes\n",
        "  ax.set(title=\"Confusion Matrix\",\n",
        "         xlabel=\"Predicted label\",\n",
        "         ylabel=\"True label\",\n",
        "         xticks=np.arange(n_classes), # create enough axis slots for each class\n",
        "         yticks=np.arange(n_classes), \n",
        "         xticklabels=labels, # axes will labeled with class names (if they exist) or ints\n",
        "         yticklabels=labels)\n",
        "  \n",
        "  # Make x-axis labels appear on bottom\n",
        "  ax.xaxis.set_label_position(\"bottom\")\n",
        "  ax.xaxis.tick_bottom()\n",
        "\n",
        "  # Set the threshold for different colors\n",
        "  threshold = (cm.max() + cm.min()) / 2.\n",
        "\n",
        "  # Plot the text on each cell\n",
        "  for i, j in itertools.product(range(cm.shape[0]), range(cm.shape[1])):\n",
        "    plt.text(j, i, f\"{cm[i, j]} ({cm_norm[i, j]*100:.1f}%)\",\n",
        "             horizontalalignment=\"center\",\n",
        "             color=\"white\" if cm[i, j] > threshold else \"black\",\n",
        "             size=text_size)"
      ],
      "execution_count": null,
      "outputs": []
    },
    {
      "cell_type": "code",
      "metadata": {
        "id": "ML1m3yWen5-V"
      },
      "source": [
        "# Make a prettier confusion matrix\n",
        "\n",
        "#class_names=[str(i) for i in range(0,10)]\n",
        "make_confusion_matrix(y_true=labels, \n",
        "                      y_pred=y_pred,\n",
        "                      classes=class_names,\n",
        "                      figsize=(15, 15),\n",
        "                      text_size=10)"
      ],
      "execution_count": null,
      "outputs": []
    },
    {
      "cell_type": "markdown",
      "metadata": {
        "id": "BxKguca2TXC9"
      },
      "source": [
        "### Precision, Recall, and F1-score"
      ]
    },
    {
      "cell_type": "code",
      "metadata": {
        "id": "DujuqnrpTj9d"
      },
      "source": [
        "# Let's consider the classification results for digit '1',\n",
        "\n",
        "TP  = cm.iat[0,0]\n",
        "FN = cm.iat[0, 10]-TP\n",
        "FP = cm.iat[10, 0]-TP\n",
        "\n",
        "precision = TP/(TP +FP)\n",
        "recall = TP/(TP +FN)\n",
        "F1 = 2*(precision*recall)/(precision+recall)\n",
        "\n",
        "print(\"True Positive = {},  False Negative =  {},  False Positive = {}\".format(TP,FN,FP))\n",
        "print(\"\\nPrecision = {:.4f},  Recall =  {:.4f},  F1 Score = {:.4f}\".format(precision,recall,F1))\n"
      ],
      "execution_count": null,
      "outputs": []
    },
    {
      "cell_type": "code",
      "metadata": {
        "id": "4p8m0yZ6N338"
      },
      "source": [
        "# Use sklearn classification_report.\n",
        "\n",
        "from sklearn.metrics import classification_report\n",
        "print(classification_report(labels, y_pred, digits=4))"
      ],
      "execution_count": null,
      "outputs": []
    },
    {
      "cell_type": "markdown",
      "metadata": {
        "id": "lyFVvoFaW3xD"
      },
      "source": [
        "## Inspecting FN/FP\n",
        "\n",
        "It's always a good idea to inspect the output and make sure everything looks sane. Here we'll look at some examples it gets right, and some examples it gets wrong."
      ]
    },
    {
      "cell_type": "markdown",
      "metadata": {
        "id": "hq6zdV_n36nX"
      },
      "source": [
        "### Visualize FN"
      ]
    },
    {
      "cell_type": "code",
      "metadata": {
        "id": "WlowP7nSIo2w"
      },
      "source": [
        "# 앞서데이터 전처리과정에서에서 우리는 28 by 28 이차원 이미지데이터 1차원 벡터로 Reshape 시켜놓았다. \n",
        "# 이미지 플로팅을 위해 우리는 다시 이미지를 이차원으로 변화 시킨다.\n",
        "\n",
        "x_test = x_test.reshape(10000, 28,28) "
      ],
      "execution_count": null,
      "outputs": []
    },
    {
      "cell_type": "code",
      "metadata": {
        "id": "YOnZLSTcuFVd"
      },
      "source": [
        "import matplotlib.pyplot as plt\n",
        "import pandas as pd\n",
        "\n",
        "# Plot FN classified images\n",
        "\n",
        "def show_FN(x_test,y_test, y_pred, true_class):\n",
        "\n",
        "  dict = {'True Class': y_test,'Predicted Class':y_pred}\n",
        "  df = pd.DataFrame(dict)\n",
        "  df['row_num'] = df.index\n",
        "  df = df[df['True Class']==true_class]\n",
        "  df = df[df['True Class'] != df['Predicted Class']]\n",
        "  n = df.shape[0] # sample size\n",
        "  # print(\"Total Rows = \",n)\n",
        "  # print(df)\n",
        "\n",
        "  number_of_subplots=25 if n >= 26 else n\n",
        "  rows = 5\n",
        "  \n",
        "  plt.figure(figsize=(10, 10))\n",
        "  plt.suptitle(\"True Class: \"+ class_names[true_class], fontsize=16, y=1.08)\n",
        "\n",
        " \n",
        "  for i in range(number_of_subplots):\n",
        "    ax = plt.subplot(rows, rows, i + 1)\n",
        "    plt.imshow(x_test[df.iat[i,2]], cmap='gray')\n",
        "    plt.title(\"Pred: {}\".format(class_names[df.iat[i,1]]))\n",
        "    plt.axis(False)\n",
        "\n",
        "  # number_of_subplots=25 if n >= 36 else n\n",
        "\n",
        "  # for i,v in enumerate(xrange(number_of_subplots)):\n",
        "  #   v = v+1\n",
        "  #   ax1 = subplot(number_of_subplots,1,v)\n",
        "  #   plt.imshow(x_test[df.iat[i,2]], cmap='gray')\n",
        "  #   plt.title(\"True: {} Pred: {} \".format(df.iat[i,0],df.iat[i,1]))\n",
        "  #   plt.axis(False)\n",
        "\n",
        "\n"
      ],
      "execution_count": null,
      "outputs": []
    },
    {
      "cell_type": "code",
      "metadata": {
        "id": "kfm5FDBTppgd"
      },
      "source": [
        "show_FN(x_test,labels, y_pred,7 )"
      ],
      "execution_count": null,
      "outputs": []
    },
    {
      "cell_type": "markdown",
      "metadata": {
        "id": "I8SU9URgzurL"
      },
      "source": [
        "  \n",
        "      0 : T-shirt/top \n",
        "      1 : Trouser\n",
        "      2 : Pullover\n",
        "      3 : Dress\n",
        "      4 : Coat\n",
        "      5 : Sandal\n",
        "      6 : Shirt\n",
        "      7 : Sneaker\n",
        "      8 : Bag\n",
        "      9 : Ankle boot"
      ]
    },
    {
      "cell_type": "code",
      "metadata": {
        "id": "QEZ1LxZT4LCK"
      },
      "source": [
        "### Visualize FP"
      ],
      "execution_count": null,
      "outputs": []
    },
    {
      "cell_type": "code",
      "metadata": {
        "id": "8UxSX3vV4SAU"
      },
      "source": [
        "# Plot FP classified images\n",
        "\n",
        "def show_FP(x_test,y_test, y_pred, pred_class):\n",
        "\n",
        "  dict = {'True Class': y_test,'Predicted Class':y_pred}\n",
        "  df = pd.DataFrame(dict)\n",
        "  df['row_num'] = df.index\n",
        "  df = df[df['Predicted Class']==pred_class]\n",
        "  df = df[df['True Class'] != df['Predicted Class']]\n",
        "  n = df.shape[0] # sample size\n",
        "\n",
        "  number_of_subplots=25 if n >= 26 else n\n",
        "  rows = 5\n",
        "  \n",
        "  plt.figure(figsize=(10, 10))\n",
        "  plt.suptitle(\"Predicted Class: \"+ class_names[pred_class], fontsize=16, y=1.08)\n",
        "\n",
        "  for i in range(number_of_subplots):\n",
        "    ax = plt.subplot(rows, rows, i + 1)\n",
        "    plt.imshow(x_test[df.iat[i,2]], cmap='gray')\n",
        "    plt.title(\"True: {}\".format(class_names[df.iat[i,0]]))\n",
        "    plt.axis(False)\n",
        "\n"
      ],
      "execution_count": null,
      "outputs": []
    },
    {
      "cell_type": "code",
      "metadata": {
        "id": "4LywcJA06DKF"
      },
      "source": [
        "show_FP(x_test,labels, y_pred, 6)"
      ],
      "execution_count": null,
      "outputs": []
    },
    {
      "cell_type": "markdown",
      "metadata": {
        "id": "v7jrYOEilKti"
      },
      "source": [
        "Even though we have achieved a really good performance, seems like we are not decreasing loss as fast as we could! We can finding a better learning rate"
      ]
    },
    {
      "cell_type": "markdown",
      "metadata": {
        "id": "q0YgvftDlKti"
      },
      "source": [
        "## Model 4: CNN Model - better learning rate"
      ]
    },
    {
      "cell_type": "markdown",
      "metadata": {
        "id": "2QuG12GJlKti"
      },
      "source": [
        "### Finding the ideal learning rate\n",
        "\n",
        "* Using a `LearningRateScheduler` we vary the learning_rate with epoch\n",
        "* Slowly increasing it from 1e-3 to 1e-2 in logspace"
      ]
    },
    {
      "cell_type": "markdown",
      "metadata": {
        "id": "ZUb6DMXGlKti"
      },
      "source": [
        "#### Making the `LearningRateScheduler`"
      ]
    },
    {
      "cell_type": "code",
      "metadata": {
        "id": "ROH9sk17lKti"
      },
      "source": [
        "from tensorflow.keras import callbacks\n",
        "\n",
        "num_epochs = 20\n",
        "lr_epochvals = np.logspace(-4, -2, num_epochs)\n",
        "lr_scheduler = callbacks.LearningRateScheduler(lambda epoch: lr_epochvals[epoch])"
      ],
      "execution_count": null,
      "outputs": []
    },
    {
      "cell_type": "markdown",
      "metadata": {
        "id": "OQEQbPTVlKti"
      },
      "source": [
        "#### Fitting the model (smaller sample)"
      ]
    },
    {
      "cell_type": "code",
      "metadata": {
        "id": "t0MlV2NClKti"
      },
      "source": [
        "model = tf.keras.models.clone_model(model)\n",
        "model.compile(loss=losses.categorical_crossentropy, optimizer=optimizers.Adam())\n",
        "sample_size = 10000\n",
        "history_lr = model.fit(np.expand_dims(x_train, -1)[:sample_size], y_train[:sample_size], batch_size=128, epochs=num_epochs, callbacks=[lr_scheduler], verbose=0)"
      ],
      "execution_count": null,
      "outputs": []
    },
    {
      "cell_type": "markdown",
      "metadata": {
        "id": "C3srJi9_lKtj"
      },
      "source": [
        "#### Learning rate vs epoch plot"
      ]
    },
    {
      "cell_type": "code",
      "metadata": {
        "id": "w5Mft2PnlKtj"
      },
      "source": [
        "history_lr_df = pd.DataFrame(history_lr.history)\n",
        "\n",
        "plt.figure(figsize=(10, 7))\n",
        "plt.semilogx(history_lr_df['lr'], history_lr_df['loss'])"
      ],
      "execution_count": null,
      "outputs": []
    },
    {
      "cell_type": "markdown",
      "metadata": {
        "id": "qIe9yvtElKtj"
      },
      "source": [
        "* The loss is decreasing fastest somewhere between $10^{-4}$, and first xtick after.\n"
      ]
    },
    {
      "cell_type": "code",
      "metadata": {
        "id": "EzFK58_hlKtj"
      },
      "source": [
        "best_lr = 1e-4 + (1e-4)*1/2\n",
        "best_lr"
      ],
      "execution_count": null,
      "outputs": []
    },
    {
      "cell_type": "markdown",
      "metadata": {
        "id": "6Kha0rmPlKtj"
      },
      "source": [
        "### Refit the model with ideal learning_rate"
      ]
    },
    {
      "cell_type": "code",
      "metadata": {
        "id": "uS3rnxVAlKtj"
      },
      "source": [
        "model.compile(loss=losses.categorical_crossentropy, optimizer=optimizers.Adam(learning_rate=best_lr), metrics=['accuracy'])\n",
        "history = model.fit(x_train,  y_train, validation_split=0.1, epochs=20, batch_size=128, verbose=1)\n"
      ],
      "execution_count": null,
      "outputs": []
    },
    {
      "cell_type": "markdown",
      "metadata": {
        "id": "YwSbRJSVlKtj"
      },
      "source": [
        "### Plot the learning curve"
      ]
    },
    {
      "cell_type": "markdown",
      "metadata": {
        "id": "4zMwCp00lKtj"
      },
      "source": [
        "The overfitting seems amplified because of the scale, but the model has performed better than the previous model (or maybe not! Changes on each run!)"
      ]
    },
    {
      "cell_type": "code",
      "metadata": {
        "id": "aSVWLSVq81PK"
      },
      "source": [
        "pd.DataFrame(history.history).plot(figsize=(10,7), xlabel=\"epochs\");"
      ],
      "execution_count": null,
      "outputs": []
    },
    {
      "cell_type": "markdown",
      "metadata": {
        "id": "g_7Xe9A2lKtk"
      },
      "source": [
        "### Evaluate the predictions"
      ]
    },
    {
      "cell_type": "markdown",
      "metadata": {
        "id": "yV3xWzRmlKtk"
      },
      "source": [
        "#### Predictions\n",
        "\n",
        "* Generally the class with the highest probability is the predicted class (Maybe you can set different thresholds for each class)"
      ]
    },
    {
      "cell_type": "code",
      "metadata": {
        "id": "C5hyt-2nh-j0"
      },
      "source": [
        "y_pred_prob_test = model.predict(np.expand_dims(x_test, -1))\n",
        "y_pred_test = y_pred_prob_test.argmax(axis=1)\n",
        "y_pred_test.shape, y_test.shape"
      ],
      "execution_count": null,
      "outputs": []
    },
    {
      "cell_type": "markdown",
      "metadata": {
        "id": "5wLULI4xlKtk"
      },
      "source": [
        "#### Confusion matrix"
      ]
    },
    {
      "cell_type": "code",
      "metadata": {
        "id": "8P1DYIj-h-j0"
      },
      "source": [
        "labels = y_test.argmax(axis=1)\n",
        "ax = make_confusion_matrix(labels, y_pred_test, classes=class_names, figsize=(13, 13), text_size=8)"
      ],
      "execution_count": null,
      "outputs": []
    },
    {
      "cell_type": "markdown",
      "metadata": {
        "id": "XNu_nsBelKtk"
      },
      "source": [
        "#### Classification metrics"
      ]
    },
    {
      "cell_type": "code",
      "metadata": {
        "id": "8iitI0jKh-j0"
      },
      "source": [
        "print(classification_report(labels, y_pred_test, target_names=class_names, output_dict=False))"
      ],
      "execution_count": null,
      "outputs": []
    }
  ]
}