{
  "nbformat": 4,
  "nbformat_minor": 0,
  "metadata": {
    "kernelspec": {
      "display_name": "Tensorflow (GPU)",
      "language": "python",
      "name": "py3.6-tfgpu"
    },
    "language_info": {
      "codemirror_mode": {
        "name": "ipython",
        "version": 3
      },
      "file_extension": ".py",
      "mimetype": "text/x-python",
      "name": "python",
      "nbconvert_exporter": "python",
      "pygments_lexer": "ipython3",
      "version": "3.6.6"
    },
    "colab": {
      "name": "MNIST DNN Classification in Keras.ipynb",
      "provenance": [],
      "collapsed_sections": []
    },
    "accelerator": "GPU"
  },
  "cells": [
    {
      "cell_type": "markdown",
      "metadata": {
        "id": "Mg7eCV3e9JQy"
      },
      "source": [
        "# Typical architecture of a classification neural network \n",
        "\n",
        "The word *typical* is on purpose.\n",
        "\n",
        "Because the architecture of a classification neural network can widely vary depending on the problem you're working on.\n",
        "\n",
        "However, there are some fundamentals all deep neural networks contain:\n",
        "* An input layer.\n",
        "* Some hidden layers.\n",
        "* An output layer.\n",
        "\n",
        "Much of the rest is up to the data analyst creating the model.\n",
        "\n",
        "The following are some standard values you'll often use in your classification neural networks.\n",
        "\n",
        "| **Hyperparameter** | **Binary Classification** | **Multiclass classification** |\n",
        "| --- | --- | --- |\n",
        "| Input layer shape | Same as number of features (e.g. 5 for age, sex, height, weight, smoking status in heart disease prediction) | Same as binary classification |\n",
        "| Hidden layer(s) | Problem specific, minimum = 1, maximum = unlimited | Same as binary classification |\n",
        "| Neurons per hidden layer | Problem specific, generally 10 to 100 | Same as binary classification |\n",
        "| Output layer shape | 1 (one class or the other) | 1 per class (e.g. 3 for food, person or dog photo) |\n",
        "| Hidden activation | Usually [ReLU](https://www.kaggle.com/dansbecker/rectified-linear-units-relu-in-deep-learning) (rectified linear unit) | Same as binary classification |\n",
        "| Output activation | [Sigmoid](https://en.wikipedia.org/wiki/Sigmoid_function) | [Softmax](https://en.wikipedia.org/wiki/Softmax_function) |\n",
        "| Loss function | [Cross entropy](https://en.wikipedia.org/wiki/Cross_entropy#Cross-entropy_loss_function_and_logistic_regression) ([`tf.keras.losses.BinaryCrossentropy`](https://www.tensorflow.org/api_docs/python/tf/keras/losses/BinaryCrossentropy) in TensorFlow) | Cross entropy ([`tf.keras.losses.CategoricalCrossentropy`](https://www.tensorflow.org/api_docs/python/tf/keras/losses/CategoricalCrossentropy) in TensorFlow) |\n",
        "| Optimizer | [SGD](https://www.tensorflow.org/api_docs/python/tf/keras/optimizers/SGD) (stochastic gradient descent), [Adam](https://www.tensorflow.org/api_docs/python/tf/keras/optimizers/Adam) | Same as binary classification |\n",
        "\n",
        "***Table 1:*** *Typical architecture of a classification network.* ***Source:*** *Adapted from page 295 of [Hands-On Machine Learning with Scikit-Learn, Keras & TensorFlow Book by Aurélien Géron](https://www.oreilly.com/library/view/hands-on-machine-learning/9781492032632/)*\n",
        "\n",
        "[epub](http://library.lol/main/E585D7EA43B3477E96A53A0BC1220F37)\n",
        "\n",
        "[pdf](http://library.lol/main/40CA3F6E08498377145117D8B48BFD1B)"
      ]
    },
    {
      "cell_type": "markdown",
      "metadata": {
        "id": "IfdfaXdYW3w9"
      },
      "source": [
        "## Prerequisite Python Modules\n",
        "\n",
        "First, some software needs to be loaded into the Python environment."
      ]
    },
    {
      "cell_type": "code",
      "metadata": {
        "scrolled": true,
        "colab": {
          "base_uri": "https://localhost:8080/"
        },
        "id": "XGdJT9cXvg5r",
        "outputId": "2849a492-ff07-452a-c2f9-888051a06ce3"
      },
      "source": [
        "import tensorflow as tf\n",
        "import numpy as np                   # advanced math library\n",
        "import matplotlib.pyplot as plt      # MATLAB like plotting routines\n",
        "import random                        # for generating random numbers\n",
        "\n",
        "from tensorflow.keras.models import Sequential  # Model type to be used\n",
        "from tensorflow.keras.layers import Dense, InputLayer, Flatten, Dropout, Activation\n",
        "from tensorflow.keras.datasets import mnist     # MNIST dataset is included in Keras\n",
        "from tensorflow.keras.utils import to_categorical, plot_model\n",
        "\n",
        "print(tf.__version__) # find the version number (should be 2.x+)\n",
        "\n",
        "# 그래피카드 유무 확인 및 메모리 확장 설정\n",
        "gpus = tf.config.experimental.list_physical_devices('GPU')\n",
        "if gpus:\n",
        "  print('사용가능한 GPU 갯수: ',len(gpus), '\\n')\n",
        "      \n",
        "  try:\n",
        "    # 프로그램이 실행되어 더 많은 GPU 메모리가 필요하면, 텐서플로 프로세스에 할당된 GPU 메모리 \n",
        "    # 영역을 확장할 수있도록 허용\n",
        "    tf.config.experimental.set_memory_growth(gpus[0], True)\n",
        "\n",
        "  except RuntimeError as e:\n",
        "    # 프로그램 시작시에 접근 가능한 장치가 설정되어야만 합니다\n",
        "    print(e)\n",
        "\n",
        "# 설치된 GPU 상세내용 확인\n",
        "from tensorflow.python.client import device_lib\n",
        "print(device_lib.list_local_devices())"
      ],
      "execution_count": 1,
      "outputs": [
        {
          "output_type": "stream",
          "text": [
            "2.5.0\n",
            "사용가능한 GPU 갯수:  1 \n",
            "\n",
            "[name: \"/device:CPU:0\"\n",
            "device_type: \"CPU\"\n",
            "memory_limit: 268435456\n",
            "locality {\n",
            "}\n",
            "incarnation: 6440671456586833996\n",
            ", name: \"/device:GPU:0\"\n",
            "device_type: \"GPU\"\n",
            "memory_limit: 16183459840\n",
            "locality {\n",
            "  bus_id: 1\n",
            "  links {\n",
            "  }\n",
            "}\n",
            "incarnation: 1235436772973743848\n",
            "physical_device_desc: \"device: 0, name: Tesla P100-PCIE-16GB, pci bus id: 0000:00:04.0, compute capability: 6.0\"\n",
            "]\n"
          ],
          "name": "stdout"
        }
      ]
    },
    {
      "cell_type": "markdown",
      "metadata": {
        "id": "nXCKUiQ5W3w9"
      },
      "source": [
        "## Loading Training Data\n",
        "\n",
        "The MNIST dataset is conveniently bundled within Keras, and we can easily analyze some of its features in Python."
      ]
    },
    {
      "cell_type": "code",
      "metadata": {
        "id": "puaI5Ng9W3w9",
        "colab": {
          "base_uri": "https://localhost:8080/"
        },
        "outputId": "25bf49c0-8499-4969-b12f-424ea6dbbb32"
      },
      "source": [
        "# The MNIST data is split between 60,000 28 x 28 pixel training images and 10,000 28 x 28 pixel images\n",
        "(X_train, y_train), (X_test, y_test) = mnist.load_data()\n",
        "\n",
        "print(\"X_train shape\", X_train.shape)\n",
        "print(\"y_train shape\", y_train.shape)\n",
        "print(\"X_test shape\", X_test.shape)\n",
        "print(\"y_test shape\", y_test.shape)"
      ],
      "execution_count": 2,
      "outputs": [
        {
          "output_type": "stream",
          "text": [
            "X_train shape (60000, 28, 28)\n",
            "y_train shape (60000,)\n",
            "X_test shape (10000, 28, 28)\n",
            "y_test shape (10000,)\n"
          ],
          "name": "stdout"
        }
      ]
    },
    {
      "cell_type": "code",
      "metadata": {
        "id": "aBKogzYeW3w-",
        "colab": {
          "base_uri": "https://localhost:8080/"
        },
        "outputId": "cb9ea40d-c970-4ab5-a938-b8f0ab3e1562"
      },
      "source": [
        "X_train = X_train.reshape(60000, 784) # reshape 60,000 28 x 28 matrices into 60,000 784-length vectors.\n",
        "X_test = X_test.reshape(10000, 784)   # reshape 10,000 28 x 28 matrices into 10,000 784-length vectors.\n",
        "\n",
        "X_train = X_train.astype('float32')   # change integers to 32-bit floating point numbers\n",
        "X_test = X_test.astype('float32')\n",
        "\n",
        "X_train /= 255                        # normalize each value for each pixel for the entire vector for each input\n",
        "X_test /= 255\n",
        "\n",
        "print(\"Training matrix shape\", X_train.shape)\n",
        "print(\"Testing matrix shape\", X_test.shape)"
      ],
      "execution_count": 3,
      "outputs": [
        {
          "output_type": "stream",
          "text": [
            "Training matrix shape (60000, 784)\n",
            "Testing matrix shape (10000, 784)\n"
          ],
          "name": "stdout"
        }
      ]
    },
    {
      "cell_type": "markdown",
      "metadata": {
        "id": "LsPhNJS_W3w-"
      },
      "source": [
        "We then modify our classes (unique digits) to be in the **one-hot format**, i.e.\n",
        "\n",
        "```\n",
        "0 -> [1, 0, 0, 0, 0, 0, 0, 0, 0, 0]\n",
        "1 -> [0, 1, 0, 0, 0, 0, 0, 0, 0, 0]\n",
        "2 -> [0, 0, 1, 0, 0, 0, 0, 0, 0, 0]\n",
        "etc.\n",
        "```\n",
        "\n",
        "If the final output of our network is very close to one of these classes, then it is most likely that class. For example, if the final output is:\n",
        "\n",
        "```\n",
        "[0, 0.94, 0, 0, 0, 0, 0.06, 0, 0, 0]\n",
        "```\n",
        "then it is most probable that the image is that of the digit `1`."
      ]
    },
    {
      "cell_type": "code",
      "metadata": {
        "collapsed": true,
        "id": "LJ3dLcpOW3w_"
      },
      "source": [
        "nb_classes = 10 # number of unique digits\n",
        "\n",
        "Y_train = to_categorical(y_train,nb_classes)\n",
        "Y_test = to_categorical(y_test,nb_classes)"
      ],
      "execution_count": 4,
      "outputs": []
    },
    {
      "cell_type": "markdown",
      "metadata": {
        "id": "I_1GgNcnW3w_"
      },
      "source": [
        "# Building a 3-layer fully connected network (FCN)\n",
        "\n",
        "<img src=\"https://github.com/AviatorMoser/keras-mnist-tutorial/blob/master/figure.png?raw=1\" />"
      ]
    },
    {
      "cell_type": "markdown",
      "metadata": {
        "id": "kQJFsrjvW3w_"
      },
      "source": [
        "## A DNN Model"
      ]
    },
    {
      "cell_type": "code",
      "metadata": {
        "collapsed": true,
        "id": "iK3wdWhKW3w_"
      },
      "source": [
        "# The Sequential model is a linear stack of layers and is very common.\n",
        "\n",
        "model = Sequential()\n",
        "\n",
        "# The first hidden layer is a set of 512 nodes (artificial neurons).\n",
        "# Each node will receive an element from each input vector and apply some weight and bias to it.\n",
        "\n",
        "model.add(Dense(512, input_shape=(784,))) #(784,) is not a typo -- that represents a 784 length vector!\n",
        "model.add(Activation('relu')) # # An \"activation\" is a non-linear function applied to the output of the layer.\n",
        "                              # The Rectified Linear Unit (ReLU) converts all negative inputs to nodes in the next layer to be zero.\n",
        "                              # Those inputs are then not considered to be fired.\n",
        "                              # Positive values of a node are unchanged.\n",
        "model.add(Dropout(0.2)) # Dropout zeroes a selection of random outputs (i.e., disables their activation)\n",
        "                        # Dropout helps protect the model from memorizing or \"overfitting\" the training data.\n",
        "\n",
        "# The second hidden layer appears identical to our first layer.\n",
        "# However, instead of each of the 512-node receiving 784-inputs from the input image data,\n",
        "# they receive 512 inputs from the output of the first 512-node layer.\n",
        "\n",
        "model.add(Dense(512))\n",
        "model.add(Activation('relu'))\n",
        "model.add(Dropout(0.2))\n",
        "\n",
        "# The final layer of 10 neurons in fully-connected to the previous 512-node layer.\n",
        "# The final layer of a FCN should be equal to the number of desired classes (10 in this case).\n",
        "model.add(Dense(10))\n",
        "model.add(Activation('softmax')) # The \"softmax\" activation represents a probability distribution over K different possible outcomes.\n",
        "                                 # Its values are all non-negative and sum to 1."
      ],
      "execution_count": 5,
      "outputs": []
    },
    {
      "cell_type": "code",
      "metadata": {
        "id": "GdfVaDonW3xA",
        "colab": {
          "base_uri": "https://localhost:8080/"
        },
        "outputId": "00ba2ef2-a674-466e-d433-cedc18571c30"
      },
      "source": [
        "# Summarize the built model\n",
        "\n",
        "model.summary()"
      ],
      "execution_count": 6,
      "outputs": [
        {
          "output_type": "stream",
          "text": [
            "Model: \"sequential\"\n",
            "_________________________________________________________________\n",
            "Layer (type)                 Output Shape              Param #   \n",
            "=================================================================\n",
            "dense (Dense)                (None, 512)               401920    \n",
            "_________________________________________________________________\n",
            "activation (Activation)      (None, 512)               0         \n",
            "_________________________________________________________________\n",
            "dropout (Dropout)            (None, 512)               0         \n",
            "_________________________________________________________________\n",
            "dense_1 (Dense)              (None, 512)               262656    \n",
            "_________________________________________________________________\n",
            "activation_1 (Activation)    (None, 512)               0         \n",
            "_________________________________________________________________\n",
            "dropout_1 (Dropout)          (None, 512)               0         \n",
            "_________________________________________________________________\n",
            "dense_2 (Dense)              (None, 10)                5130      \n",
            "_________________________________________________________________\n",
            "activation_2 (Activation)    (None, 10)                0         \n",
            "=================================================================\n",
            "Total params: 669,706\n",
            "Trainable params: 669,706\n",
            "Non-trainable params: 0\n",
            "_________________________________________________________________\n"
          ],
          "name": "stdout"
        }
      ]
    },
    {
      "cell_type": "markdown",
      "metadata": {
        "id": "kK5-5Z5kW3xA"
      },
      "source": [
        "## Compiling the model\n",
        "\n",
        "Keras is built on top of Theano and TensorFlow. Both packages allow you to define a *computation graph* in Python, which then compiles and runs efficiently on the CPU or GPU without the overhead of the Python interpreter.\n",
        "\n",
        "When compiing a model, Keras asks you to specify your **loss function** and your **optimizer**. The loss function we'll use here is called *categorical cross-entropy*, and is a loss function well-suited to comparing two probability distributions.\n",
        "\n",
        "Our predictions are probability distributions across the ten different digits (e.g. \"we're 80% confident this image is a 3, 10% sure it's an 8, 5% it's a 2, etc.\"), and the target is a probability distribution with 100% for the correct category, and 0 for everything else. The cross-entropy is a measure of how different your predicted distribution is from the target distribution. [More detail at Wikipedia](https://en.wikipedia.org/wiki/Cross_entropy)\n",
        "\n",
        "The optimizer helps determine how quickly the model learns through **gradient descent**. The rate at which descends a gradient is called the **learning rate**."
      ]
    },
    {
      "cell_type": "markdown",
      "metadata": {
        "id": "Jd09XePUW3xB"
      },
      "source": [
        "<img src = \"https://randlow.github.io/images/ml/gradient-descent.png\" >"
      ]
    },
    {
      "cell_type": "markdown",
      "metadata": {
        "id": "blv2zCyJW3xB"
      },
      "source": [
        "<img src = \"https://srdas.github.io/DLBook/DL_images/TNN2.png\" >"
      ]
    },
    {
      "cell_type": "markdown",
      "metadata": {
        "id": "GnYY6BszW3xB"
      },
      "source": [
        "So are smaller learning rates better? Not quite! It's important for an optimizer not to get stuck in local minima while neglecting the global minimum of the loss function. Sometimes that means trying a larger learning rate to jump out of a local minimum."
      ]
    },
    {
      "cell_type": "markdown",
      "metadata": {
        "id": "W57w2l-CW3xB"
      },
      "source": [
        "<img src = 'https://miro.medium.com/max/2060/1*9DVEXY4X0eNAx_ZHoD_PPA.png' >"
      ]
    },
    {
      "cell_type": "code",
      "metadata": {
        "collapsed": true,
        "id": "rHAeFC6aW3xB"
      },
      "source": [
        "# Let's use the Adam optimizer for learning\n",
        "model.compile(loss='categorical_crossentropy', optimizer='adam', metrics=['accuracy'])"
      ],
      "execution_count": 7,
      "outputs": []
    },
    {
      "cell_type": "markdown",
      "metadata": {
        "id": "hX_FHQaRW3xB"
      },
      "source": [
        "## Train the model!\n",
        "This is the fun part! "
      ]
    },
    {
      "cell_type": "markdown",
      "metadata": {
        "id": "PXeZbVKOW3xB"
      },
      "source": [
        "The batch size determines over how much data per step is used to compute the loss function, gradients, and back propagation. Large batch sizes allow the network to complete it's training faster; however, there are other factors beyond training speed to consider.\n",
        "\n",
        "Too large of a batch size smoothes the local minima of the loss function, causing the optimizer to settle in one because it thinks it found the global minimum.\n",
        "\n",
        "Too small of a batch size creates a very noisy loss function, and the optimizer may never find the global minimum.\n",
        "\n",
        "So **a good batch size may take some trial and error to find!**"
      ]
    },
    {
      "cell_type": "code",
      "metadata": {
        "id": "fKn2ZuocW3xB",
        "colab": {
          "base_uri": "https://localhost:8080/"
        },
        "outputId": "d3fad579-4f44-4645-ae8a-9cceef68d2dc"
      },
      "source": [
        "history = model.fit(X_train, Y_train, batch_size=128, epochs=5,\n",
        "           validation_data=(X_test, Y_test), verbose=1)"
      ],
      "execution_count": 8,
      "outputs": [
        {
          "output_type": "stream",
          "text": [
            "Epoch 1/5\n",
            "469/469 [==============================] - 2s 3ms/step - loss: 0.2470 - accuracy: 0.9250 - val_loss: 0.1025 - val_accuracy: 0.9673\n",
            "Epoch 2/5\n",
            "469/469 [==============================] - 1s 3ms/step - loss: 0.1010 - accuracy: 0.9682 - val_loss: 0.0845 - val_accuracy: 0.9732\n",
            "Epoch 3/5\n",
            "469/469 [==============================] - 1s 3ms/step - loss: 0.0713 - accuracy: 0.9778 - val_loss: 0.0695 - val_accuracy: 0.9783\n",
            "Epoch 4/5\n",
            "469/469 [==============================] - 1s 3ms/step - loss: 0.0572 - accuracy: 0.9821 - val_loss: 0.0766 - val_accuracy: 0.9755\n",
            "Epoch 5/5\n",
            "469/469 [==============================] - 1s 3ms/step - loss: 0.0447 - accuracy: 0.9857 - val_loss: 0.0615 - val_accuracy: 0.9802\n"
          ],
          "name": "stdout"
        }
      ]
    },
    {
      "cell_type": "code",
      "metadata": {
        "colab": {
          "base_uri": "https://localhost:8080/",
          "height": 300
        },
        "id": "TuAraeeB-0dx",
        "outputId": "4578de83-b3f9-4c58-e373-47c7393d566c"
      },
      "source": [
        "import pandas as pd\n",
        "pd.DataFrame(history.history).plot(title=\"Loss and Accuracy\")"
      ],
      "execution_count": 9,
      "outputs": [
        {
          "output_type": "execute_result",
          "data": {
            "text/plain": [
              "<matplotlib.axes._subplots.AxesSubplot at 0x7fde50380710>"
            ]
          },
          "metadata": {
            "tags": []
          },
          "execution_count": 9
        },
        {
          "output_type": "display_data",
          "data": {
            "image/png": "[encoded data removed]",
            "text/plain": [
              "<Figure size 432x288 with 1 Axes>"
            ]
          },
          "metadata": {
            "tags": [],
            "needs_background": "light"
          }
        }
      ]
    },
    {
      "cell_type": "markdown",
      "metadata": {
        "id": "WNl_V09KW3xB"
      },
      "source": [
        "The two numbers, in order, represent the value of the loss function of the network on the training set, and the overall accuracy of the network on the training data. But how does it do on data it did not train on?"
      ]
    },
    {
      "cell_type": "markdown",
      "metadata": {
        "id": "9G4TRpyxW3xC"
      },
      "source": [
        "## Evaluate Model's Accuracy on Test Data\n",
        "\n"
      ]
    },
    {
      "cell_type": "markdown",
      "metadata": {
        "id": "APcfa1DHWtqR"
      },
      "source": [
        "### 분류성능평가지표 - 혼동행렬(Confusion Matrix)\n",
        "\n",
        "모델을 평가하는 요소는 결국, 모델이 내놓은 답과 실제 정답의 관계로써 정의를 내릴 수 있습니다. 정답이 True와 False로 나누어져있고, 분류 모델 또한 True False의 답을 내놓습니다. 그렇게 하면, 이진분류(Binary Classification)의 경우 아래와 같이 2x2 matrix로 case를 나누어볼 수 있습니다.\n",
        "\n",
        "<img src=\"https://t1.daumcdn.net/cfile/tistory/99DC064C5BE056CE10\">\n",
        "\n",
        "위와 같이 구분한 표를 혼동행렬(Confusion Matrix)이라고 합니다\n",
        "```\n",
        "  - True Positive(TP) : 실제 True인 정답을 True라고 예측 (정답)\n",
        "  - False Positive(FP) : 실제 False인 정답을 True라고 예측 (오답)\n",
        "  - False Negative(FN) : 실제 True인 정답을 False라고 예측 (오답)\n",
        "  - True Negative(TN) : 실제 False인 정답을 False라고 예측 (정답)\n",
        "```\n"
      ]
    },
    {
      "cell_type": "markdown",
      "metadata": {
        "id": "NO_EjFDwUPkc"
      },
      "source": [
        "###  분류성능평가지표 - Precision(정밀도)과 Recall(재현율)\n",
        "\n",
        "  - Precision(정밀도): 모델이 True라고 분류한 것 중에서 실제 True인 것의 비율\n",
        "\n",
        "    $$Precision =  \\frac {TP}{TP+FP}$$\n",
        "\n",
        "  - Recall(재현율): 실제 True인 것 중에서 모델이 True라고 예측한 것의 비율\n",
        "\n",
        "    $$Recall =  \\frac {TP}{TP+FN}$$\n",
        "\n",
        "    통계학에서는 sensitivity로, 그리고 다른 분야에서는 hit rate라는 용어로도 사용합니다. 실제 날씨가 맑은 날 중에서 모델이 맑다고 예측한 비율을 나타낸 지표인데, 정밀도(Precision)와 True Positive의 경우를 다르게 바라보는 것입니다. 즉, Precision이나 Recall은 모두 실제 True인 정답을 모델이 True라고 예측한 경우에 관심이 있으나, 바라보고자 하는 관점만 다릅니다. Precision은 모델의 입장에서, 그리고 Recall은 실제 정답(data)의 입장에서 정답을 정답이라고 맞춘 경우를 바라보고 있습니다. \n",
        "\n",
        "      <img src= \"https://t1.daumcdn.net/cfile/tistory/999D9C465BE116E43C\">\n",
        "\n",
        "  A는 실제 날씨가 맑은 날입니다. 그리고 B는 모델에서 날씨가 맑은 날이라고 예측한 것입니다.\n",
        "  $$Precison =\\frac{b}{b+c},  \\hspace{2ex}  Recall = \\frac{b}{a+b}$$\n",
        "\n",
        "  모델의 입장에서 모두 맑은 날이라고만 예측하는 경우를 생각해봅시다. 그렇게 되면 TN(d)의 영역이 줄어들게 되고 그에 따라 FN(a)의 영역 또한 줄게 됩니다. 그러므로 Recall은 분모의 일부인 FN(a)영역이 줄기 때문에 Recall은 100%가 됩니다. \n",
        "\n",
        "    <img src = \"https://t1.daumcdn.net/cfile/tistory/9951F44B5BE1205F1E\">\n",
        "\n",
        "  위 그림의 왼쪽 Case에서 Recall은 20 / 50 = 40%, Precision = 20 / 60 = 33.3% 입니다. 그리고 분류모델이 모두 True라고 예측한 오른쪽의 case에서의 recall은 FN = 0이므로 100%이지만 그에 따라 FP가 늘어서 precision은 20/100 = 20%가 되었습니다. 이처럼 precision과 recall은 모두 높은 것이 좋지만, trade-off 관계에 있어서 함께 늘리기가 힘듭니다.\n",
        "\n",
        " Precision과 Recall은 trade-off관계이며 상호보완적으로 해석해야하며, 두 지표가 모두 높을 수록 좋은 모델입니다.\n",
        "\n",
        "\n",
        "\n"
      ]
    },
    {
      "cell_type": "markdown",
      "metadata": {
        "id": "QgZcTNLcXCPU"
      },
      "source": [
        "###  분류성능평가지표 - Accuracy(정확도) 와 F1 Score\n",
        "\n",
        "  - Accuracy(정확도)\n",
        "\n",
        "  $$Accuracy(정확도) = \\frac {TP + TN}{TP+FN+FP+FN}$$\n",
        "\n",
        "  앞서 설명한 두 지표는 모두 True를 True라고 옳게 예측한 경우에 대해서만 다루었습니다. 하지만, False를 False라고 예측한 경우도 옳은 경우입니다. 이때, 해당 경우를 고려하는 지표가 바로 정확도(Accuracy)입니다. \n",
        "\n",
        "  정확도는 **가장 직관적으로 모델의 성능을 나타낼 수 있는 평가 지표**입니다. \n",
        "  \n",
        "  하지만, 여기서 고려해야하는 것이 있습니다. 바로 domain의 편중(bias)입니다. 만약 우리가 예측하고자 하는 한달 동안이 특정 기후에 부합하여 비오는 날이 흔치 않다고 생각해보죠. 이 경우에는 해당 data의 domain이 불균형하게되므로 맑은 것을 예측하는 성능은 높지만, 비가 오는 것을 예측하는 성능은 매우 낮을 수 밖에 없습니다. 따라서 이를 보완할 지표가 필요합니다.\n",
        "\n",
        "  - F1 Score: Precision과 Recall의 [조화평균(역수의 산술 평균의 역수)](https://ko.wikipedia.org/wiki/%EC%A1%B0%ED%99%94_%ED%8F%89%EA%B7%A0)입니다. \n",
        "\n",
        " $$F1  = 2 \\times \\frac {1}{\\frac{1}{Precision} + \\frac{1}{recall}}  = 2 \\times \\frac{Precision \\times Recall}{Precision+Recall}$$ \n",
        "\n"
      ]
    },
    {
      "cell_type": "markdown",
      "metadata": {
        "id": "PMU2xHghkYGg"
      },
      "source": [
        "\n",
        "\n",
        "| **Metric name/Evaluation method** | **Defintion** | **Code** |\n",
        "| --- | --- | --- |\n",
        "| Accuracy | Out of 100 predictions, how many does your model get correct? E.g. 95% accuracy means it gets 95/100 predictions correct. | [`sklearn.metrics.accuracy_score()`](https://scikit-learn.org/stable/modules/generated/sklearn.metrics.accuracy_score.html) or [`tf.keras.metrics.Accuracy()`](tensorflow.org/api_docs/python/tf/keras/metrics/Accuracy) |\n",
        "| Precision | Proportion of true positives over total number of samples. Higher precision leads to less false positives (model predicts 1 when it should've been 0). | [`sklearn.metrics.precision_score()`](https://scikit-learn.org/stable/modules/generated/sklearn.metrics.precision_score.html) or [`tf.keras.metrics.Precision()`](tensorflow.org/api_docs/python/tf/keras/metrics/Precision) |\n",
        "| Recall | Proportion of true positives over total number of true positives and false negatives (model predicts 0 when it should've been 1). Higher recall leads to less false negatives. | [`sklearn.metrics.recall_score()`](https://scikit-learn.org/stable/modules/generated/sklearn.metrics.recall_score.html) or [`tf.keras.metrics.Recall()`](tensorflow.org/api_docs/python/tf/keras/metrics/Recall) |\n",
        "| F1-score | Combines precision and recall into one metric. 1 is best, 0 is worst. | [`sklearn.metrics.f1_score()`](https://scikit-learn.org/stable/modules/generated/sklearn.metrics.f1_score.html) |\n",
        "| [Confusion matrix](https://www.dataschool.io/simple-guide-to-confusion-matrix-terminology/)  | Compares the predicted values with the true values in a tabular way, if 100% correct, all values in the matrix will be top left to bottom right (diagnol line). | Custom function or [`sklearn.metrics.plot_confusion_matrix()`](https://scikit-learn.org/stable/modules/generated/sklearn.metrics.plot_confusion_matrix.html) |\n",
        "\n"
      ]
    },
    {
      "cell_type": "markdown",
      "metadata": {
        "id": "V4Qio7XfkN5D"
      },
      "source": [
        "Let's start with accuracy.\n",
        "\n",
        "Because we passed `[\"accuracy\"]` to the `metrics` parameter when we compiled our model, calling `evaluate()` on it will return the loss as well as accuracy.\n"
      ]
    },
    {
      "cell_type": "code",
      "metadata": {
        "id": "HMmxtXIGW3xC",
        "colab": {
          "base_uri": "https://localhost:8080/"
        },
        "outputId": "c12951c4-db05-4c21-e33e-fd6827f96396"
      },
      "source": [
        "loss, accuracy = model.evaluate(X_test, Y_test)\n",
        "print('Test score:', loss)\n",
        "print('Test accuracy:', accuracy)"
      ],
      "execution_count": 10,
      "outputs": [
        {
          "output_type": "stream",
          "text": [
            "313/313 [==============================] - 1s 2ms/step - loss: 0.0615 - accuracy: 0.9802\n",
            "Test score: 0.06152048334479332\n",
            "Test accuracy: 0.9801999926567078\n"
          ],
          "name": "stdout"
        }
      ]
    },
    {
      "cell_type": "code",
      "metadata": {
        "id": "qVsLSjMk9Xz0"
      },
      "source": [
        "# Note: The following confusion matrix code is a remix of Scikit-Learn's \n",
        "# plot_confusion_matrix function - https://scikit-learn.org/stable/modules/generated/sklearn.metrics.plot_confusion_matrix.html\n",
        "# and Made with ML's introductory notebook - https://github.com/madewithml/basics/blob/master/notebooks/09_Multilayer_Perceptrons/09_TF_Multilayer_Perceptrons.ipynb\n",
        "import itertools\n",
        "from sklearn.metrics import confusion_matrix\n",
        "\n",
        "# Our function needs a different name to sklearn's plot_confusion_matrix\n",
        "def make_confusion_matrix(y_true, y_pred, classes=None, figsize=(10, 10), text_size=15): \n",
        "  \"\"\"Makes a labelled confusion matrix comparing predictions and ground truth labels.\n",
        "\n",
        "  If classes is passed, confusion matrix will be labelled, if not, integer class values\n",
        "  will be used.\n",
        "\n",
        "  Args:\n",
        "    y_true: Array of truth labels (must be same shape as y_pred).\n",
        "    y_pred: Array of predicted labels (must be same shape as y_true).\n",
        "    classes: Array of class labels (e.g. string form). If `None`, integer labels are used.\n",
        "    figsize: Size of output figure (default=(10, 10)).\n",
        "    text_size: Size of output figure text (default=15).\n",
        "  \n",
        "  Returns:\n",
        "    A labelled confusion matrix plot comparing y_true and y_pred.\n",
        "\n",
        "  Example usage:\n",
        "    make_confusion_matrix(y_true=test_labels, # ground truth test labels\n",
        "                          y_pred=y_preds, # predicted labels\n",
        "                          classes=class_names, # array of class label names\n",
        "                          figsize=(15, 15),\n",
        "                          text_size=10)\n",
        "  \"\"\"  \n",
        "  # Create the confustion matrix\n",
        "  cm = confusion_matrix(y_true, y_pred)\n",
        "  cm_norm = cm.astype(\"float\") / cm.sum(axis=1)[:, np.newaxis] # normalize it\n",
        "  n_classes = cm.shape[0] # find the number of classes we're dealing with\n",
        "\n",
        "  # Plot the figure and make it pretty\n",
        "  fig, ax = plt.subplots(figsize=figsize)\n",
        "  cax = ax.matshow(cm, cmap=plt.cm.Blues) # colors will represent how 'correct' a class is, darker == better\n",
        "  fig.colorbar(cax)\n",
        "\n",
        "  # Are there a list of classes?\n",
        "  if classes:\n",
        "    labels = classes\n",
        "  else:\n",
        "    labels = np.arange(cm.shape[0])\n",
        "  \n",
        "  # Label the axes\n",
        "  ax.set(title=\"Confusion Matrix\",\n",
        "         xlabel=\"Predicted label\",\n",
        "         ylabel=\"True label\",\n",
        "         xticks=np.arange(n_classes), # create enough axis slots for each class\n",
        "         yticks=np.arange(n_classes), \n",
        "         xticklabels=labels, # axes will labeled with class names (if they exist) or ints\n",
        "         yticklabels=labels)\n",
        "  \n",
        "  # Make x-axis labels appear on bottom\n",
        "  ax.xaxis.set_label_position(\"bottom\")\n",
        "  ax.xaxis.tick_bottom()\n",
        "\n",
        "  # Set the threshold for different colors\n",
        "  threshold = (cm.max() + cm.min()) / 2.\n",
        "\n",
        "  # Plot the text on each cell\n",
        "  for i, j in itertools.product(range(cm.shape[0]), range(cm.shape[1])):\n",
        "    plt.text(j, i, f\"{cm[i, j]} ({cm_norm[i, j]*100:.1f}%)\",\n",
        "             horizontalalignment=\"center\",\n",
        "             color=\"white\" if cm[i, j] > threshold else \"black\",\n",
        "             size=text_size)"
      ],
      "execution_count": 11,
      "outputs": []
    },
    {
      "cell_type": "code",
      "metadata": {
        "colab": {
          "base_uri": "https://localhost:8080/"
        },
        "id": "PjIxEGCp9i8u",
        "outputId": "20b79c9d-f47b-434a-e338-2d11646a3871"
      },
      "source": [
        "# Get predicted class for X_test by converting all of the predictions from probabilities to labels\n",
        "y_probs = model.predict(X_test)\n",
        "#print(tf.argmax(pred[0:10]))\n",
        "print(y_probs[0:10])\n",
        "\n",
        "y_pred=y_probs.argmax(axis=1)\n",
        "print(y_pred[0:10])\n",
        "print(y_test[0:10])"
      ],
      "execution_count": 12,
      "outputs": [
        {
          "output_type": "stream",
          "text": [
            "[[9.0014618e-09 2.4314938e-08 3.0754717e-07 1.3830539e-06 1.9271071e-10\n",
            "  6.4986643e-09 2.5260009e-12 9.9999821e-01 4.2686725e-09 9.5457118e-08]\n",
            " [5.2913912e-10 6.0665184e-06 9.9998868e-01 5.2414889e-06 8.1412221e-13\n",
            "  4.2402892e-08 7.3661632e-11 4.6117248e-09 2.2456867e-08 3.1623060e-13]\n",
            " [4.5258821e-07 9.9962139e-01 1.0598372e-05 5.0278641e-07 1.5217654e-04\n",
            "  1.9535064e-06 6.3923094e-06 4.7862100e-05 1.5675505e-04 1.8622472e-06]\n",
            " [9.9997544e-01 4.3931929e-09 1.1276640e-05 1.3669998e-06 1.8628622e-08\n",
            "  5.7039312e-08 1.1507423e-05 2.1911619e-07 1.9733061e-08 9.3275212e-08]\n",
            " [5.4935490e-06 4.9943611e-07 2.0829170e-07 1.8641078e-09 9.9977833e-01\n",
            "  1.2458118e-07 3.7156753e-06 3.8854328e-06 7.9988922e-08 2.0771020e-04]\n",
            " [2.4474122e-08 9.9989367e-01 4.5156170e-08 5.3457185e-09 9.1750750e-05\n",
            "  7.9347258e-09 6.5484151e-08 5.6940685e-06 8.6177179e-06 1.8862936e-07]\n",
            " [1.6498473e-09 1.9070598e-06 3.1664143e-08 4.6575530e-09 9.9954683e-01\n",
            "  1.5500331e-05 2.3992826e-07 7.0190304e-06 9.8269971e-05 3.3025790e-04]\n",
            " [1.5597421e-07 6.6089348e-07 2.4324785e-07 5.3332118e-05 3.1711923e-05\n",
            "  4.5651650e-06 5.9133507e-09 2.2337674e-05 2.1919238e-06 9.9988484e-01]\n",
            " [5.5492173e-11 2.0836157e-09 9.3072847e-09 3.5448569e-09 2.8291080e-07\n",
            "  9.7522038e-01 2.4741774e-02 2.7552965e-10 3.6218091e-05 1.3329656e-06]\n",
            " [2.0451402e-10 7.4930501e-10 1.3881483e-11 5.4882420e-08 5.3874460e-06\n",
            "  7.6578049e-10 3.7200145e-13 3.6279966e-05 1.1517511e-07 9.9995816e-01]]\n",
            "[7 2 1 0 4 1 4 9 5 9]\n",
            "[7 2 1 0 4 1 4 9 5 9]\n"
          ],
          "name": "stdout"
        }
      ]
    },
    {
      "cell_type": "code",
      "metadata": {
        "colab": {
          "base_uri": "https://localhost:8080/",
          "height": 386
        },
        "id": "xbGgosGlDEY4",
        "outputId": "ac901ac5-03c7-4ffe-851d-ee24ea3120ab"
      },
      "source": [
        "# Check out the non-prettified confusion matrix\n",
        "from sklearn.metrics import confusion_matrix\n",
        "cm = confusion_matrix(y_true=y_test, \n",
        "                 y_pred=y_pred)\n",
        "df_cm = pd.DataFrame(cm)\n",
        "df_cm['sum']=df_cm.sum(axis=1)\n",
        "df_cm.loc['Total']= df_cm.sum()\n",
        "df_cm"
      ],
      "execution_count": 13,
      "outputs": [
        {
          "output_type": "execute_result",
          "data": {
            "text/html": [
              "<div>\n",
              "<style scoped>\n",
              "    .dataframe tbody tr th:only-of-type {\n",
              "        vertical-align: middle;\n",
              "    }\n",
              "\n",
              "    .dataframe tbody tr th {\n",
              "        vertical-align: top;\n",
              "    }\n",
              "\n",
              "    .dataframe thead th {\n",
              "        text-align: right;\n",
              "    }\n",
              "</style>\n",
              "<table border=\"1\" class=\"dataframe\">\n",
              "  <thead>\n",
              "    <tr style=\"text-align: right;\">\n",
              "      <th></th>\n",
              "      <th>0</th>\n",
              "      <th>1</th>\n",
              "      <th>2</th>\n",
              "      <th>3</th>\n",
              "      <th>4</th>\n",
              "      <th>5</th>\n",
              "      <th>6</th>\n",
              "      <th>7</th>\n",
              "      <th>8</th>\n",
              "      <th>9</th>\n",
              "      <th>sum</th>\n",
              "    </tr>\n",
              "  </thead>\n",
              "  <tbody>\n",
              "    <tr>\n",
              "      <th>0</th>\n",
              "      <td>972</td>\n",
              "      <td>1</td>\n",
              "      <td>1</td>\n",
              "      <td>0</td>\n",
              "      <td>0</td>\n",
              "      <td>1</td>\n",
              "      <td>3</td>\n",
              "      <td>1</td>\n",
              "      <td>1</td>\n",
              "      <td>0</td>\n",
              "      <td>980</td>\n",
              "    </tr>\n",
              "    <tr>\n",
              "      <th>1</th>\n",
              "      <td>0</td>\n",
              "      <td>1124</td>\n",
              "      <td>4</td>\n",
              "      <td>1</td>\n",
              "      <td>0</td>\n",
              "      <td>0</td>\n",
              "      <td>2</td>\n",
              "      <td>0</td>\n",
              "      <td>4</td>\n",
              "      <td>0</td>\n",
              "      <td>1135</td>\n",
              "    </tr>\n",
              "    <tr>\n",
              "      <th>2</th>\n",
              "      <td>2</td>\n",
              "      <td>0</td>\n",
              "      <td>1009</td>\n",
              "      <td>5</td>\n",
              "      <td>6</td>\n",
              "      <td>0</td>\n",
              "      <td>1</td>\n",
              "      <td>5</td>\n",
              "      <td>3</td>\n",
              "      <td>1</td>\n",
              "      <td>1032</td>\n",
              "    </tr>\n",
              "    <tr>\n",
              "      <th>3</th>\n",
              "      <td>0</td>\n",
              "      <td>0</td>\n",
              "      <td>2</td>\n",
              "      <td>998</td>\n",
              "      <td>0</td>\n",
              "      <td>2</td>\n",
              "      <td>0</td>\n",
              "      <td>5</td>\n",
              "      <td>3</td>\n",
              "      <td>0</td>\n",
              "      <td>1010</td>\n",
              "    </tr>\n",
              "    <tr>\n",
              "      <th>4</th>\n",
              "      <td>0</td>\n",
              "      <td>0</td>\n",
              "      <td>2</td>\n",
              "      <td>0</td>\n",
              "      <td>961</td>\n",
              "      <td>0</td>\n",
              "      <td>2</td>\n",
              "      <td>1</td>\n",
              "      <td>1</td>\n",
              "      <td>15</td>\n",
              "      <td>982</td>\n",
              "    </tr>\n",
              "    <tr>\n",
              "      <th>5</th>\n",
              "      <td>2</td>\n",
              "      <td>0</td>\n",
              "      <td>0</td>\n",
              "      <td>7</td>\n",
              "      <td>1</td>\n",
              "      <td>874</td>\n",
              "      <td>3</td>\n",
              "      <td>1</td>\n",
              "      <td>3</td>\n",
              "      <td>1</td>\n",
              "      <td>892</td>\n",
              "    </tr>\n",
              "    <tr>\n",
              "      <th>6</th>\n",
              "      <td>4</td>\n",
              "      <td>2</td>\n",
              "      <td>0</td>\n",
              "      <td>1</td>\n",
              "      <td>3</td>\n",
              "      <td>4</td>\n",
              "      <td>941</td>\n",
              "      <td>0</td>\n",
              "      <td>3</td>\n",
              "      <td>0</td>\n",
              "      <td>958</td>\n",
              "    </tr>\n",
              "    <tr>\n",
              "      <th>7</th>\n",
              "      <td>3</td>\n",
              "      <td>3</td>\n",
              "      <td>11</td>\n",
              "      <td>1</td>\n",
              "      <td>0</td>\n",
              "      <td>0</td>\n",
              "      <td>0</td>\n",
              "      <td>1000</td>\n",
              "      <td>3</td>\n",
              "      <td>7</td>\n",
              "      <td>1028</td>\n",
              "    </tr>\n",
              "    <tr>\n",
              "      <th>8</th>\n",
              "      <td>3</td>\n",
              "      <td>1</td>\n",
              "      <td>2</td>\n",
              "      <td>7</td>\n",
              "      <td>1</td>\n",
              "      <td>10</td>\n",
              "      <td>0</td>\n",
              "      <td>2</td>\n",
              "      <td>944</td>\n",
              "      <td>4</td>\n",
              "      <td>974</td>\n",
              "    </tr>\n",
              "    <tr>\n",
              "      <th>9</th>\n",
              "      <td>7</td>\n",
              "      <td>2</td>\n",
              "      <td>0</td>\n",
              "      <td>4</td>\n",
              "      <td>7</td>\n",
              "      <td>2</td>\n",
              "      <td>1</td>\n",
              "      <td>5</td>\n",
              "      <td>2</td>\n",
              "      <td>979</td>\n",
              "      <td>1009</td>\n",
              "    </tr>\n",
              "    <tr>\n",
              "      <th>Total</th>\n",
              "      <td>993</td>\n",
              "      <td>1133</td>\n",
              "      <td>1031</td>\n",
              "      <td>1024</td>\n",
              "      <td>979</td>\n",
              "      <td>893</td>\n",
              "      <td>953</td>\n",
              "      <td>1020</td>\n",
              "      <td>967</td>\n",
              "      <td>1007</td>\n",
              "      <td>10000</td>\n",
              "    </tr>\n",
              "  </tbody>\n",
              "</table>\n",
              "</div>"
            ],
            "text/plain": [
              "         0     1     2     3    4    5    6     7    8     9    sum\n",
              "0      972     1     1     0    0    1    3     1    1     0    980\n",
              "1        0  1124     4     1    0    0    2     0    4     0   1135\n",
              "2        2     0  1009     5    6    0    1     5    3     1   1032\n",
              "3        0     0     2   998    0    2    0     5    3     0   1010\n",
              "4        0     0     2     0  961    0    2     1    1    15    982\n",
              "5        2     0     0     7    1  874    3     1    3     1    892\n",
              "6        4     2     0     1    3    4  941     0    3     0    958\n",
              "7        3     3    11     1    0    0    0  1000    3     7   1028\n",
              "8        3     1     2     7    1   10    0     2  944     4    974\n",
              "9        7     2     0     4    7    2    1     5    2   979   1009\n",
              "Total  993  1133  1031  1024  979  893  953  1020  967  1007  10000"
            ]
          },
          "metadata": {
            "tags": []
          },
          "execution_count": 13
        }
      ]
    },
    {
      "cell_type": "markdown",
      "metadata": {
        "id": "rKXwEdvbDnQt"
      },
      "source": [
        "That confusion matrix is hard to comprehend, let's make it prettier using the function we created before."
      ]
    },
    {
      "cell_type": "code",
      "metadata": {
        "colab": {
          "base_uri": "https://localhost:8080/",
          "height": 852
        },
        "id": "CzeNOPtFDqny",
        "outputId": "1d6a7d81-30a6-426c-99b4-b6daef9f69fe"
      },
      "source": [
        "# Make a prettier confusion matrix\n",
        "\n",
        "class_names=[str(i) for i in range(0,10)]\n",
        "make_confusion_matrix(y_true=y_test, \n",
        "                      y_pred=y_pred,\n",
        "                      classes=class_names,\n",
        "                      figsize=(15, 15),\n",
        "                      text_size=10)"
      ],
      "execution_count": 14,
      "outputs": [
        {
          "output_type": "display_data",
          "data": {
            "image/png": "[encoded data removed]",
            "text/plain": [
              "<Figure size 1080x1080 with 2 Axes>"
            ]
          },
          "metadata": {
            "tags": [],
            "needs_background": "light"
          }
        }
      ]
    },
    {
      "cell_type": "markdown",
      "metadata": {
        "id": "BxKguca2TXC9"
      },
      "source": [
        "### Precision, Recall, and F1-score"
      ]
    },
    {
      "cell_type": "code",
      "metadata": {
        "colab": {
          "base_uri": "https://localhost:8080/"
        },
        "id": "DujuqnrpTj9d",
        "outputId": "29a67765-d27f-4b44-b5be-342e24784299"
      },
      "source": [
        "# Let's consider the classification results for digit '1',\n",
        "\n",
        "TP  = df_cm.iat[0,0]\n",
        "FN = df_cm.iat[0, 10]-TP\n",
        "FP = df_cm.iat[10, 0]-TP\n",
        "\n",
        "precision = TP/(TP +FP)\n",
        "recall = TP/(TP +FN)\n",
        "F1 = 2*(precision*recall)/(precision+recall)\n",
        "\n",
        "print(\"True Positive = {},  False Negative =  {},  False Positive = {}\".format(TP,FN,FP))\n",
        "print(\"\\nPrecision = {:.4f},  Recall =  {:.4f},  F1 Score = {:.4f}\".format(precision,recall,F1))\n"
      ],
      "execution_count": 15,
      "outputs": [
        {
          "output_type": "stream",
          "text": [
            "True Positive = 972,  False Negative =  8,  False Positive = 21\n",
            "\n",
            "Precision = 0.9789,  Recall =  0.9918,  F1 Score = 0.9853\n"
          ],
          "name": "stdout"
        }
      ]
    },
    {
      "cell_type": "code",
      "metadata": {
        "colab": {
          "base_uri": "https://localhost:8080/"
        },
        "id": "4p8m0yZ6N338",
        "outputId": "cc0bc35b-5d8d-4683-a0f5-194f60836cb5"
      },
      "source": [
        "# Use sklearn classification_report.\n",
        "\n",
        "from sklearn.metrics import classification_report\n",
        "print(classification_report(y_test, y_pred, digits=4))"
      ],
      "execution_count": 16,
      "outputs": [
        {
          "output_type": "stream",
          "text": [
            "              precision    recall  f1-score   support\n",
            "\n",
            "           0     0.9789    0.9918    0.9853       980\n",
            "           1     0.9921    0.9903    0.9912      1135\n",
            "           2     0.9787    0.9777    0.9782      1032\n",
            "           3     0.9746    0.9881    0.9813      1010\n",
            "           4     0.9816    0.9786    0.9801       982\n",
            "           5     0.9787    0.9798    0.9793       892\n",
            "           6     0.9874    0.9823    0.9848       958\n",
            "           7     0.9804    0.9728    0.9766      1028\n",
            "           8     0.9762    0.9692    0.9727       974\n",
            "           9     0.9722    0.9703    0.9712      1009\n",
            "\n",
            "    accuracy                         0.9802     10000\n",
            "   macro avg     0.9801    0.9801    0.9801     10000\n",
            "weighted avg     0.9802    0.9802    0.9802     10000\n",
            "\n"
          ],
          "name": "stdout"
        }
      ]
    },
    {
      "cell_type": "markdown",
      "metadata": {
        "id": "lyFVvoFaW3xD"
      },
      "source": [
        "### Inspecting the output\n",
        "\n",
        "It's always a good idea to inspect the output and make sure everything looks sane. Here we'll look at some examples it gets right, and some examples it gets wrong."
      ]
    },
    {
      "cell_type": "code",
      "metadata": {
        "collapsed": true,
        "id": "jKHkehhqW3xD",
        "colab": {
          "base_uri": "https://localhost:8080/"
        },
        "outputId": "3397d8b6-ffc6-474d-af47-c2e80705e92d"
      },
      "source": [
        "# The predict_classes function outputs the highest probability class\n",
        "# according to the trained classifier for each input example.\n",
        "predicted_classes = model.predict_classes(X_test)\n",
        "\n",
        "# Check which items we got right / wrong\n",
        "correct_indices = np.nonzero(predicted_classes == y_test)[0]\n",
        "\n",
        "incorrect_indices = np.nonzero(predicted_classes != y_test)[0]\n",
        "\n",
        "\n",
        "incorrect_indices.shape"
      ],
      "execution_count": 17,
      "outputs": [
        {
          "output_type": "stream",
          "text": [
            "/usr/local/lib/python3.7/dist-packages/tensorflow/python/keras/engine/sequential.py:455: UserWarning: `model.predict_classes()` is deprecated and will be removed after 2021-01-01. Please use instead:* `np.argmax(model.predict(x), axis=-1)`,   if your model does multi-class classification   (e.g. if it uses a `softmax` last-layer activation).* `(model.predict(x) > 0.5).astype(\"int32\")`,   if your model does binary classification   (e.g. if it uses a `sigmoid` last-layer activation).\n",
            "  warnings.warn('`model.predict_classes()` is deprecated and '\n"
          ],
          "name": "stderr"
        },
        {
          "output_type": "execute_result",
          "data": {
            "text/plain": [
              "(198,)"
            ]
          },
          "metadata": {
            "tags": []
          },
          "execution_count": 17
        }
      ]
    },
    {
      "cell_type": "markdown",
      "metadata": {
        "id": "XpWcATGFH_ey"
      },
      "source": [
        "### Visualize FN"
      ]
    },
    {
      "cell_type": "code",
      "metadata": {
        "id": "WlowP7nSIo2w"
      },
      "source": [
        "# 앞서데이터 전처리과정에서에서 우리는 28 by 28 이차원 이미지데이터 1차원 벡터로 Reshape 시켜놓았다. \n",
        "# 이미지 플로팅을 위해 우리는 다시 이미지를 이차원으로 변화 시킨다.\n",
        "\n",
        "x_test = X_test.reshape(10000, 28,28) "
      ],
      "execution_count": 18,
      "outputs": []
    },
    {
      "cell_type": "code",
      "metadata": {
        "id": "YOnZLSTcuFVd"
      },
      "source": [
        "import matplotlib.pyplot as plt\n",
        "import pandas as pd\n",
        "\n",
        "# Plot FN classified images\n",
        "\n",
        "def show_FN(x_test,y_test, y_pred, true_class):\n",
        "\n",
        "  dict = {'True Class': y_test,'Predicted Class':y_pred}\n",
        "  df = pd.DataFrame(dict)\n",
        "  df['row_num'] = df.index\n",
        "  df = df[df['True Class']==true_class]\n",
        "  df = df[df['True Class'] != df['Predicted Class']]\n",
        "  n = df.shape[0] # sample size\n",
        "  print(\"Total Rows = \",n)\n",
        "  print(df)\n",
        "\n",
        "  fig = plt.figure(figsize=(10, 20))\n",
        "\n",
        "  cols = 5\n",
        "  rows = int(n/cols) +1\n",
        "\n",
        "  for i in range(n):\n",
        "    ax = plt.subplot(rows, cols, i+1)\n",
        "    plt.imshow(x_test[df.iat[i,2]], cmap='gray')\n",
        "    plt.title(\"True: {} Pred: {} \".format(df.iat[i,0],df.iat[i,1]))\n",
        "    plt.axis(False)\n"
      ],
      "execution_count": 27,
      "outputs": []
    },
    {
      "cell_type": "code",
      "metadata": {
        "id": "sgywCJcZyKJr",
        "colab": {
          "base_uri": "https://localhost:8080/",
          "height": 1000
        },
        "outputId": "f8fd16fb-0ac7-4d9c-dac8-4adfd13bb238"
      },
      "source": [
        "show_FN(x_test,y_test, y_pred, 9)  # Check for 2, 8, 9"
      ],
      "execution_count": 32,
      "outputs": [
        {
          "output_type": "stream",
          "text": [
            "Total Rows =  30\n",
            "      True Class  Predicted Class  row_num\n",
            "448            9                3      448\n",
            "1232           9                4     1232\n",
            "1247           9                5     1247\n",
            "1414           9                7     1414\n",
            "1553           9                3     1553\n",
            "1732           9                8     1732\n",
            "1901           9                4     1901\n",
            "1952           9                3     1952\n",
            "2293           9                0     2293\n",
            "2380           9                0     2380\n",
            "2387           9                1     2387\n",
            "2406           9                8     2406\n",
            "2589           9                0     2589\n",
            "2648           9                0     2648\n",
            "2720           9                4     2720\n",
            "2939           9                5     2939\n",
            "2979           9                4     2979\n",
            "3060           9                7     3060\n",
            "3503           9                1     3503\n",
            "3597           9                3     3597\n",
            "4154           9                4     4154\n",
            "4163           9                0     4163\n",
            "4224           9                7     4224\n",
            "4294           9                0     4294\n",
            "4823           9                6     4823\n",
            "6505           9                0     6505\n",
            "9587           9                4     9587\n",
            "9642           9                7     9642\n",
            "9692           9                7     9692\n",
            "9808           9                4     9808\n"
          ],
          "name": "stdout"
        },
        {
          "output_type": "display_data",
          "data": {
            "image/png": "[encoded data removed]",
            "text/plain": [
              "<Figure size 720x1440 with 30 Axes>"
            ]
          },
          "metadata": {
            "tags": [],
            "needs_background": "light"
          }
        }
      ]
    },
    {
      "cell_type": "markdown",
      "metadata": {
        "id": "EzpfnpWqIWIR"
      },
      "source": [
        "### Visualize FP"
      ]
    },
    {
      "cell_type": "code",
      "metadata": {
        "id": "0BShJyovKk8c"
      },
      "source": [
        "import matplotlib.pyplot as plt\n",
        "import pandas as pd\n",
        "import math\n",
        "\n",
        "# Plot FP classified images\n",
        "\n",
        "def show_FP(x_test,y_test, y_pred, pred_class):\n",
        "\n",
        "  dict = {'True Class': y_test,'Predicted Class':y_pred}\n",
        "  df = pd.DataFrame(dict)\n",
        "  df['row_num'] = df.index\n",
        "  df = df[df['Predicted Class']==pred_class]\n",
        "  df = df[df['True Class'] != df['Predicted Class']]\n",
        "  n = df.shape[0] # sample size\n",
        "  print(\"Total Rows = \",n)\n",
        "  print(df)\n",
        "\n",
        "  fig = plt.figure(figsize=(10, 20))\n",
        "\n",
        "  cols = 5\n",
        "  rows = int(n/cols) +1\n",
        "\n",
        "  for i in range(n):\n",
        "    ax = plt.subplot(rows, cols, i+1)\n",
        "    #fig =ax.get_figure()\n",
        "    #fig.tight_layout()\n",
        "    fig.subplots_adjust(top=0.95)\n",
        "    plt.imshow(x_test[df.iat[i,2]], cmap='gray')\n",
        "    plt.title(\"Pred {} True: {} \".format(df.iat[i,1],df.iat[i,0]))\n",
        "    plt.axis(False)"
      ],
      "execution_count": 21,
      "outputs": []
    },
    {
      "cell_type": "code",
      "metadata": {
        "id": "LKSw70ImIUym",
        "colab": {
          "base_uri": "https://localhost:8080/",
          "height": 1000
        },
        "outputId": "4563c4f0-0621-49d2-e243-d064d9a0d197"
      },
      "source": [
        "show_FP(x_test,y_test, y_pred, 3) # Check for cases predicted as 3 "
      ],
      "execution_count": 22,
      "outputs": [
        {
          "output_type": "stream",
          "text": [
            "Total Rows =  26\n",
            "      True Class  Predicted Class  row_num\n",
            "340            5                3      340\n",
            "448            9                3      448\n",
            "674            5                3      674\n",
            "900            1                3      900\n",
            "1319           8                3     1319\n",
            "1393           5                3     1393\n",
            "1395           2                3     1395\n",
            "1553           9                3     1553\n",
            "1609           2                3     1609\n",
            "1952           9                3     1952\n",
            "2395           8                3     2395\n",
            "2810           5                3     2810\n",
            "2915           7                3     2915\n",
            "3597           9                3     3597\n",
            "3629           8                3     3629\n",
            "3681           2                3     3681\n",
            "3811           2                3     3811\n",
            "4075           8                3     4075\n",
            "4360           5                3     4360\n",
            "4807           8                3     4807\n",
            "5634           2                3     5634\n",
            "5937           5                3     5937\n",
            "7823           8                3     7823\n",
            "7921           8                3     7921\n",
            "9422           5                3     9422\n",
            "9679           6                3     9679\n"
          ],
          "name": "stdout"
        },
        {
          "output_type": "display_data",
          "data": {
            "image/png": "[encoded data removed]",
            "text/plain": [
              "<Figure size 720x1440 with 26 Axes>"
            ]
          },
          "metadata": {
            "tags": [],
            "needs_background": "light"
          }
        }
      ]
    },
    {
      "cell_type": "code",
      "metadata": {
        "colab": {
          "base_uri": "https://localhost:8080/",
          "height": 1000
        },
        "id": "ruWjp-KJUfaX",
        "outputId": "3a4fcf97-a914-48f6-9104-14b743394831"
      },
      "source": [
        "show_FP(x_test,y_test, y_pred, 7)"
      ],
      "execution_count": 23,
      "outputs": [
        {
          "output_type": "stream",
          "text": [
            "Total Rows =  20\n",
            "      True Class  Predicted Class  row_num\n",
            "321            2                7      321\n",
            "1299           5                7     1299\n",
            "1414           9                7     1414\n",
            "1530           8                7     1530\n",
            "1681           3                7     1681\n",
            "2109           3                7     2109\n",
            "2877           4                7     2877\n",
            "3060           9                7     3060\n",
            "3475           3                7     3475\n",
            "4176           2                7     4176\n",
            "4224           9                7     4224\n",
            "4289           2                7     4289\n",
            "4306           3                7     4306\n",
            "4497           8                7     4497\n",
            "5734           3                7     5734\n",
            "6597           0                7     6597\n",
            "9642           9                7     9642\n",
            "9664           2                7     9664\n",
            "9692           9                7     9692\n",
            "9839           2                7     9839\n"
          ],
          "name": "stdout"
        },
        {
          "output_type": "display_data",
          "data": {
            "image/png": "[encoded data removed]",
            "text/plain": [
              "<Figure size 720x1440 with 20 Axes>"
            ]
          },
          "metadata": {
            "tags": [],
            "needs_background": "light"
          }
        }
      ]
    }
  ]
}