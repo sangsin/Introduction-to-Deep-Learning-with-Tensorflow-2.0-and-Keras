{
  "nbformat": 4,
  "nbformat_minor": 0,
  "metadata": {
    "accelerator": "GPU",
    "colab": {
      "name": "Anatomy of A Tensorflow-Keras  Classification Model.ipynb",
      "provenance": [],
      "collapsed_sections": [],
      "toc_visible": true
    },
    "kernelspec": {
      "display_name": "Python 3",
      "language": "python",
      "name": "python3"
    },
    "language_info": {
      "codemirror_mode": {
        "name": "ipython",
        "version": 3
      },
      "file_extension": ".py",
      "mimetype": "text/x-python",
      "name": "python",
      "nbconvert_exporter": "python",
      "pygments_lexer": "ipython3",
      "version": "3.8.5"
    }
  },
  "cells": [
    {
      "cell_type": "markdown",
      "metadata": {
        "id": "QhiX2B6zBnWn"
      },
      "source": [
        "__How to prevent Google Colab from disconnecting?__\n",
        "\n",
        "\n",
        "```\n",
        "function ClickConnect(){\n",
        "  console.log(\"Connnect Clicked - Start\"); \n",
        "  document.querySelector(\"#top-toolbar > colab-connect-button\").shadowRoot.querySelector(\"#connect\").click();\n",
        "  console.log(\"Connnect Clicked - End\"); \n",
        "};\n",
        "setInterval(ClickConnect, 60000)\n",
        "```"
      ]
    },
    {
      "cell_type": "code",
      "metadata": {
        "scrolled": true,
        "colab": {
          "base_uri": "https://localhost:8080/"
        },
        "id": "XGdJT9cXvg5r",
        "outputId": "830326b1-708b-420d-f727-5b1825263bd4"
      },
      "source": [
        "import tensorflow as tf\n",
        "print(tf.__version__) # find the version number (should be 2.x+)\n",
        "\n",
        "# 그래피카드 유무 확인 및 메모리 확장 설정\n",
        "gpus = tf.config.experimental.list_physical_devices('GPU')\n",
        "if gpus:\n",
        "  print('사용가능한 GPU 갯수: ',len(gpus), '\\n')\n",
        "      \n",
        "  try:\n",
        "    # 프로그램이 실행되어 더 많은 GPU 메모리가 필요하면, 텐서플로 프로세스에 할당된 GPU 메모리 \n",
        "    # 영역을 확장할 수있도록 허용\n",
        "    tf.config.experimental.set_memory_growth(gpus[0], True)\n",
        "\n",
        "  except RuntimeError as e:\n",
        "    # 프로그램 시작시에 접근 가능한 장치가 설정되어야만 합니다\n",
        "    print(e)\n",
        "\n",
        "# 설치된 GPU 상세내용 확인\n",
        "from tensorflow.python.client import device_lib\n",
        "print(device_lib.list_local_devices())"
      ],
      "execution_count": 1,
      "outputs": [
        {
          "output_type": "stream",
          "text": [
            "2.5.0\n",
            "사용가능한 GPU 갯수:  1 \n",
            "\n",
            "[name: \"/device:CPU:0\"\n",
            "device_type: \"CPU\"\n",
            "memory_limit: 268435456\n",
            "locality {\n",
            "}\n",
            "incarnation: 8541717484654295487\n",
            ", name: \"/device:GPU:0\"\n",
            "device_type: \"GPU\"\n",
            "memory_limit: 16183459840\n",
            "locality {\n",
            "  bus_id: 1\n",
            "  links {\n",
            "  }\n",
            "}\n",
            "incarnation: 17503375939513449407\n",
            "physical_device_desc: \"device: 0, name: Tesla P100-PCIE-16GB, pci bus id: 0000:00:04.0, compute capability: 6.0\"\n",
            "]\n"
          ],
          "name": "stdout"
        }
      ]
    },
    {
      "cell_type": "markdown",
      "metadata": {
        "id": "iY90wzs3vg5s"
      },
      "source": [
        "## [MNIST Data](http://yann.lecun.com/exdb/mnist/)\n",
        "\n",
        "- 1998년에 만들어진 필기체 손글씨 숫자(0~9) 데이터셋  \n",
        "- 60,000개의 트레이닝 이미지와 10,000개의 테스트 이미지로 구성\n",
        "- 각 숫자이미지는 28x28 크기의 흑백(grayscale) 이미지\n",
        "\n",
        "\n",
        "> The MNIST Handwritten Digits dataset is considered as the “Hello World” of Computer Vision. \n",
        "\n",
        "\n",
        "\n",
        "<img src=\"https://www.mdpi.com/applsci/applsci-09-03169/article_deploy/html/images/applsci-09-03169-g001.png\">\n"
      ]
    },
    {
      "cell_type": "markdown",
      "metadata": {
        "id": "c8N1wZ_Nvg5t"
      },
      "source": [
        "## [Become one with the data](http://karpathy.github.io/2019/04/25/recipe/)\n",
        "\n",
        "> The first step to training a neural net is to not touch any neural net code at all and instead begin by thoroughly inspecting your data. This step is critical. "
      ]
    },
    {
      "cell_type": "code",
      "metadata": {
        "colab": {
          "base_uri": "https://localhost:8080/"
        },
        "id": "YDfvFLwuvg5t",
        "outputId": "9cb96b6b-3089-4fa9-ff35-10ed750e7a68"
      },
      "source": [
        "import numpy as np\n",
        "import matplotlib.pyplot as plt\n",
        "from tensorflow.keras.datasets import mnist\n",
        "# Download and load the data\n",
        "\n",
        "(x_train, y_train),(x_test,y_test)=mnist.load_data()\n",
        "\n",
        "print('x_train: ' + str(x_train.shape))\n",
        "print('y_train: ' + str(y_train.shape))\n",
        "print('x_test:  '  + str(x_test.shape))\n",
        "print('y_test:  '  + str(y_test.shape))"
      ],
      "execution_count": 2,
      "outputs": [
        {
          "output_type": "stream",
          "text": [
            "Downloading data from https://storage.googleapis.com/tensorflow/tf-keras-datasets/mnist.npz\n",
            "11493376/11490434 [==============================] - 0s 0us/step\n",
            "x_train: (60000, 28, 28)\n",
            "y_train: (60000,)\n",
            "x_test:  (10000, 28, 28)\n",
            "y_test:  (10000,)\n"
          ],
          "name": "stdout"
        }
      ]
    },
    {
      "cell_type": "code",
      "metadata": {
        "scrolled": false,
        "colab": {
          "base_uri": "https://localhost:8080/"
        },
        "id": "Hhhg0m7fvg5t",
        "outputId": "79d531db-d867-422e-c064-ba7bbd465001"
      },
      "source": [
        "# Browse raw image data.\n",
        "\n",
        "np.set_printoptions(linewidth=400, precision=2)\n",
        "index = np.random.randint(0, x_train.shape[0])\n",
        "\n",
        "print(\"True label: \", y_train[index])\n",
        "print(x_train[index])"
      ],
      "execution_count": 3,
      "outputs": [
        {
          "output_type": "stream",
          "text": [
            "True label:  7\n",
            "[[  0   0   0   0   0   0   0   0   0   0   0   0   0   0   0   0   0   0   0   0   0   0   0   0   0   0   0   0]\n",
            " [  0   0   0   0   0   0   0   0   0   0   0   0   0   0   0   0   0   0   0   0   0   0   0   0   0   0   0   0]\n",
            " [  0   0   0   0   0   0   0   0   0   0   0   0   0   0   0   0   0   0   0   0   0   0   0   0   0   0   0   0]\n",
            " [  0   0   0   0   0   0   0   0   0   0   0   0   0   0   0   0   0   0   0   0   0   0   0   0   0   0   0   0]\n",
            " [  0   0   0   0   0   0   0   0   0   0   0   0   0   0   0   0   0   0   0   0   0   0   0   0   0   0   0   0]\n",
            " [  0   0   0   0   0   0   0   0   0   0   0   0   0   0   0   0   0   0   0   0   0   0   0   0   0   0   0   0]\n",
            " [  0   0   0   0   0   0   0   0   0   0   0   0   0   0   0   0   0   0   0   0   0   0   0   0   0   0   0   0]\n",
            " [  0   0   0   0   0   0   0   0   0   0   0   0   0   0   0   0   0   0   0   0   0   0   0   0   0   0   0   0]\n",
            " [  0   0   0   0   0   0   0   0  16 104 141 141 255 178 141 141 141 141 141  41   0   0   0   0   0   0   0   0]\n",
            " [  0   0   0   0   0   0   0   0 216 252 252 252 253 252 252 252 253 252 252 252   0   0   0   0   0   0   0   0]\n",
            " [  0   0   0   0   0   0   0  38 253 252 252 252 206 168 168 168 168 224 252 252   0   0   0   0   0   0   0   0]\n",
            " [  0   0   0   0   0   0   0 113 253 252 177  28  13   0   0   0   0  69 252 252   0   0   0   0   0   0   0   0]\n",
            " [  0   0   0   0   0   0   0 114 255 222  25   0   0   0   0   0   0 170 253 253   0   0   0   0   0   0   0   0]\n",
            " [  0   0   0   0   0   0   0  38 197 103   0   0   0   0   0   0   0 169 252 177   0   0   0   0   0   0   0   0]\n",
            " [  0   0   0   0   0   0   0   0   0   0   0   0   0   0   0   0  10 197 252 139   0   0   0   0   0   0   0   0]\n",
            " [  0   0   0   0   0   0   0   0   0   0   0   0   0   0   0   0  79 252 214  28   0   0   0   0   0   0   0   0]\n",
            " [  0   0   0   0   0   0   0   0   0   0   0   0   0   0   0   0 204 253 168   0   0   0   0   0   0   0   0   0]\n",
            " [  0   0   0   0   0   0   0   0   0   0   0   0   0   0   0   0 253 252 142   0   0   0   0   0   0   0   0   0]\n",
            " [  0   0   0   0   0   0   0   0   0   0   0   0   0   0   0  38 253 233  37   0   0   0   0   0   0   0   0   0]\n",
            " [  0   0   0   0   0   0   0   0   0   0   0   0   0   0   0 113 253  96   0   0   0   0   0   0   0   0   0   0]\n",
            " [  0   0   0   0   0   0   0   0   0   0   0   0   0   0  10 229 254  84   0   0   0   0   0   0   0   0   0   0]\n",
            " [  0   0   0   0   0   0   0   0   0   0   0   0   0   0  85 252 247  65   0   0   0   0   0   0   0   0   0   0]\n",
            " [  0   0   0   0   0   0   0   0   0   0   0   0   0   0  85 252 187   0   0   0   0   0   0   0   0   0   0   0]\n",
            " [  0   0   0   0   0   0   0   0   0   0   0   0   0   0 185 252  63   0   0   0   0   0   0   0   0   0   0   0]\n",
            " [  0   0   0   0   0   0   0   0   0   0   0   0   0   7 204 253   0   0   0   0   0   0   0   0   0   0   0   0]\n",
            " [  0   0   0   0   0   0   0   0   0   0   0   0   0  57 252 177   0   0   0   0   0   0   0   0   0   0   0   0]\n",
            " [  0   0   0   0   0   0   0   0   0   0   0   0   0  57 252  52   0   0   0   0   0   0   0   0   0   0   0   0]\n",
            " [  0   0   0   0   0   0   0   0   0   0   0   0   0  57 252  28   0   0   0   0   0   0   0   0   0   0   0   0]]\n"
          ],
          "name": "stdout"
        }
      ]
    },
    {
      "cell_type": "markdown",
      "metadata": {
        "id": "g-aSs9tJvg5t"
      },
      "source": [
        "### Visual Inspection"
      ]
    },
    {
      "cell_type": "code",
      "metadata": {
        "colab": {
          "base_uri": "https://localhost:8080/",
          "height": 496
        },
        "id": "CFVfldWNvg5u",
        "outputId": "09e48d95-defe-4f70-b60a-a56a9703a07a"
      },
      "source": [
        "# Randomly sample 25 mnist digits from train dataset\n",
        "indexes = np.random.randint(0, x_train.shape[0], size=25)\n",
        "\n",
        "images = x_train[indexes]\n",
        "labels = y_train[indexes]\n",
        "\n",
        "\n",
        "# plot the 25 mnist digits\n",
        "plt.figure(figsize=(7,7))\n",
        "for i in range(len(indexes)):\n",
        "    plt.subplot(5, 5, i + 1)\n",
        "    image = images[i]\n",
        "    plt.imshow(image, cmap='gray')\n",
        "    plt.title('label: {}'.format(labels[i]))\n",
        "    plt.tight_layout()\n",
        "    plt.axis('off')"
      ],
      "execution_count": 4,
      "outputs": [
        {
          "output_type": "display_data",
          "data": {
            "image/png": "[encoded data removed]",
            "text/plain": [
              "<Figure size 504x504 with 25 Axes>"
            ]
          },
          "metadata": {
            "tags": [],
            "needs_background": "light"
          }
        }
      ]
    },
    {
      "cell_type": "markdown",
      "metadata": {
        "id": "erx1ZAzPvg5u"
      },
      "source": [
        "### Exploratory Data Analysis"
      ]
    },
    {
      "cell_type": "code",
      "metadata": {
        "scrolled": true,
        "colab": {
          "base_uri": "https://localhost:8080/",
          "height": 305
        },
        "id": "QstOk5Cyvg5u",
        "outputId": "48f019e4-0b1f-4944-d3ff-0c85fc1c2877"
      },
      "source": [
        "# Exploratory Data Analysis (EDA)\n",
        "\n",
        "# count and plot the number of unique train labels\n",
        "unique, counts = np.unique(y_train, return_counts=True)\n",
        "y_train_dist = dict(zip(unique, counts))\n",
        "print(\"Train labels: \", y_train_dist)\n",
        "plt.bar(y_train_dist.keys(), y_train_dist.values(), color='g')"
      ],
      "execution_count": 5,
      "outputs": [
        {
          "output_type": "stream",
          "text": [
            "Train labels:  {0: 5923, 1: 6742, 2: 5958, 3: 6131, 4: 5842, 5: 5421, 6: 5918, 7: 6265, 8: 5851, 9: 5949}\n"
          ],
          "name": "stdout"
        },
        {
          "output_type": "execute_result",
          "data": {
            "text/plain": [
              "<BarContainer object of 10 artists>"
            ]
          },
          "metadata": {
            "tags": []
          },
          "execution_count": 5
        },
        {
          "output_type": "display_data",
          "data": {
            "image/png": "[encoded data removed]",
            "text/plain": [
              "<Figure size 432x288 with 1 Axes>"
            ]
          },
          "metadata": {
            "tags": [],
            "needs_background": "light"
          }
        }
      ]
    },
    {
      "cell_type": "code",
      "metadata": {
        "colab": {
          "base_uri": "https://localhost:8080/",
          "height": 303
        },
        "id": "blk0Mubbvg5u",
        "outputId": "40ad9d72-5fa3-4f0f-fb04-b0929f9e8971"
      },
      "source": [
        "# count and plot the number of unique test labels\n",
        "unique, counts = np.unique(y_test, return_counts=True)\n",
        "y_test_dist = dict(zip(unique, counts))\n",
        "print(\"Test labels: \", y_test_dist)\n",
        "plt.bar(y_test_dist.keys(), y_test_dist.values(), color='r')"
      ],
      "execution_count": 6,
      "outputs": [
        {
          "output_type": "stream",
          "text": [
            "Test labels:  {0: 980, 1: 1135, 2: 1032, 3: 1010, 4: 982, 5: 892, 6: 958, 7: 1028, 8: 974, 9: 1009}\n"
          ],
          "name": "stdout"
        },
        {
          "output_type": "execute_result",
          "data": {
            "text/plain": [
              "<BarContainer object of 10 artists>"
            ]
          },
          "metadata": {
            "tags": []
          },
          "execution_count": 6
        },
        {
          "output_type": "display_data",
          "data": {
            "image/png": "[encoded data removed]",
            "text/plain": [
              "<Figure size 432x288 with 1 Axes>"
            ]
          },
          "metadata": {
            "tags": [],
            "needs_background": "light"
          }
        }
      ]
    },
    {
      "cell_type": "markdown",
      "metadata": {
        "id": "pq6IioJevg5v"
      },
      "source": [
        "##  Baseline Model for MNIST digit Classification\n",
        "\n",
        "<img src=\"https://miro.medium.com/max/2200/1*XdCMCaHPt-pqtEibUfAnNw.png\">\n",
        "\n",
        "- Basic Architecture: Two dense layer\n",
        "    - output_dim = 10 (Number of classes)\n",
        "    \n",
        "- Data preprocessing\n",
        "    - image data reshaping: input_shape of 28x28 = 784   **why? Because the type of layer next to the input layer is dense layer.\"\n",
        "    - minmax normalization\n",
        "    - one-hot encoding for label data\n",
        "\n",
        "- Architecture Hyperparameter settings\n",
        "    - No of units for hidden layer: 32\n",
        "    - Hidden Layer Activation Function: ReLU\n",
        "    - Loss Function: Categorical Cross-entropy\n",
        "    - Optimizer: [Adam](https://www.tensorflow.org/api_docs/python/tf/keras/optimizers/Adam)  \n",
        "        - Default learning rate = 0.001 \n",
        "    - metrics: accuracy\n",
        "- Training Hyperparameter Settings\n",
        "    - Batch size: 128\n",
        "    - Epochs: 10"
      ]
    },
    {
      "cell_type": "code",
      "metadata": {
        "id": "dPosZEs8POmJ",
        "scrolled": true
      },
      "source": [
        "# Import libraries\n",
        "\n",
        "import tensorflow as tf\n",
        "import numpy as np\n",
        "import matplotlib.pyplot as plt\n",
        "from tensorflow.keras.models import Sequential\n",
        "from tensorflow.keras.layers import Dense, InputLayer, Flatten\n",
        "from tensorflow.keras.datasets import mnist\n",
        "from tensorflow.keras.utils import to_categorical, plot_model"
      ],
      "execution_count": 7,
      "outputs": []
    },
    {
      "cell_type": "code",
      "metadata": {
        "colab": {
          "base_uri": "https://localhost:8080/"
        },
        "id": "qELtZExsvg5v",
        "outputId": "7108eba1-364f-4d2f-f965-101fcca36069"
      },
      "source": [
        "# Step 0: Data Preparation & Data Preprocessing \n",
        "\n",
        "(x_train, y_train),(x_test,y_test)=mnist.load_data()\n",
        "input_size = x_train[0].shape[0]*x_train[0].shape[1]\n",
        "\n",
        "# While the MNIST data consists of two dimensional tensors, it should be reshaped depending on the type of input layer.\n",
        "\n",
        "x_train=np.reshape(x_train, [-1,input_size])\n",
        "x_test=np.reshape(x_test, [-1,input_size])\n",
        "\n",
        "# normalize\n",
        "x_train = x_train/255\n",
        "x_test = x_test/255\n",
        "\n",
        "# One-hot encoding\n",
        "\n",
        "y_train = to_categorical(y_train)\n",
        "y_test= to_categorical(y_test)\n",
        "\n",
        "print('x_train shape: {} y_train shape: {}'.format(x_train.shape, y_train.shape))\n",
        "print('x_test shape: {} y_test shape: {}'.format(x_test.shape, y_test.shape))"
      ],
      "execution_count": 8,
      "outputs": [
        {
          "output_type": "stream",
          "text": [
            "x_train shape: (60000, 784) y_train shape: (60000, 10)\n",
            "x_test shape: (10000, 784) y_test shape: (10000, 10)\n"
          ],
          "name": "stdout"
        }
      ]
    },
    {
      "cell_type": "code",
      "metadata": {
        "colab": {
          "base_uri": "https://localhost:8080/"
        },
        "id": "PU3YzEAlfthX",
        "scrolled": true,
        "outputId": "e5197439-0a9c-435c-cadb-1f3d24ed8098"
      },
      "source": [
        "# Modelling Codes\n",
        "\n",
        "tf.random.set_seed(42) # for reproducible tensor\n",
        "\n",
        "input_size = 28*28\n",
        "hidden_units = 32\n",
        "output_units = 10 \n",
        "batch_size = 128\n",
        "epochs = 10\n",
        "\n",
        "\n",
        "# Step 1: Model Building\n",
        "model = Sequential()\n",
        "model.add(Dense(units=hidden_units, activation='relu', input_dim=input_size))\n",
        "model.add(Dense(units= output_units, activation='softmax'))\n",
        "\n",
        "# Step 2: Model Compiling\n",
        "\n",
        "# Adam use defau1t learning rate of 0.001.\n",
        "model.compile(optimizer='adam', loss='categorical_crossentropy', metrics=['accuracy'])\n",
        "\n",
        "# Step 3: Model Fitting(or Training)\n",
        "model.fit(x_train, y_train, epochs=epochs, batch_size=batch_size)\n",
        "\n",
        "# Step 4: Model Evaluation\n",
        "loss, accuracy = model.evaluate(x_test, y_test, batch_size=batch_size, verbose=0)\n",
        "print('Testing Accuracy: {:.2f} %'.format(100*accuracy))"
      ],
      "execution_count": 9,
      "outputs": [
        {
          "output_type": "stream",
          "text": [
            "Epoch 1/10\n",
            "469/469 [==============================] - 3s 2ms/step - loss: 0.5063 - accuracy: 0.8590\n",
            "Epoch 2/10\n",
            "469/469 [==============================] - 1s 2ms/step - loss: 0.2456 - accuracy: 0.9304\n",
            "Epoch 3/10\n",
            "469/469 [==============================] - 1s 2ms/step - loss: 0.2002 - accuracy: 0.9423\n",
            "Epoch 4/10\n",
            "469/469 [==============================] - 1s 2ms/step - loss: 0.1714 - accuracy: 0.9507\n",
            "Epoch 5/10\n",
            "469/469 [==============================] - 1s 2ms/step - loss: 0.1513 - accuracy: 0.9560\n",
            "Epoch 6/10\n",
            "469/469 [==============================] - 1s 2ms/step - loss: 0.1349 - accuracy: 0.9614\n",
            "Epoch 7/10\n",
            "469/469 [==============================] - 1s 2ms/step - loss: 0.1218 - accuracy: 0.9645\n",
            "Epoch 8/10\n",
            "469/469 [==============================] - 1s 2ms/step - loss: 0.1112 - accuracy: 0.9675\n",
            "Epoch 9/10\n",
            "469/469 [==============================] - 1s 2ms/step - loss: 0.1027 - accuracy: 0.9699\n",
            "Epoch 10/10\n",
            "469/469 [==============================] - 1s 2ms/step - loss: 0.0953 - accuracy: 0.9725\n",
            "Testing Accuracy: 96.60 %\n"
          ],
          "name": "stdout"
        }
      ]
    },
    {
      "cell_type": "code",
      "metadata": {
        "colab": {
          "base_uri": "https://localhost:8080/",
          "height": 496
        },
        "id": "khAx1REovg5w",
        "outputId": "0dbd52b6-f59b-40c4-ea40-dd4a274a7304"
      },
      "source": [
        "# Visualize model architecture\n",
        "\n",
        "model.summary()\n",
        "from IPython.display import display, Image\n",
        "display(plot_model(model))"
      ],
      "execution_count": 10,
      "outputs": [
        {
          "output_type": "stream",
          "text": [
            "Model: \"sequential\"\n",
            "_________________________________________________________________\n",
            "Layer (type)                 Output Shape              Param #   \n",
            "=================================================================\n",
            "dense (Dense)                (None, 32)                25120     \n",
            "_________________________________________________________________\n",
            "dense_1 (Dense)              (None, 10)                330       \n",
            "=================================================================\n",
            "Total params: 25,450\n",
            "Trainable params: 25,450\n",
            "Non-trainable params: 0\n",
            "_________________________________________________________________\n"
          ],
          "name": "stdout"
        },
        {
          "output_type": "display_data",
          "data": {
            "image/png": "[encoded data removed]",
            "text/plain": [
              "<IPython.core.display.Image object>"
            ]
          },
          "metadata": {
            "tags": []
          }
        }
      ]
    },
    {
      "cell_type": "code",
      "metadata": {
        "colab": {
          "base_uri": "https://localhost:8080/",
          "height": 888
        },
        "id": "ScBTKU_Lm7bC",
        "outputId": "53c0bd4e-feef-4880-a36c-ebd8a81e1905"
      },
      "source": [
        "# Same as above, but another way 1\n",
        "\n",
        "tf.random.set_seed(42) # for reproducible tensor\n",
        "\n",
        "input_size = 28*28\n",
        "hidden_units = 32\n",
        "output_units = 10 \n",
        "batch_size = 128\n",
        "epochs = 10\n",
        "\n",
        "# Step 1: Model Building\n",
        "model = Sequential()\n",
        "model.add(InputLayer(input_shape=(input_size,))) # input_shape=input_size okay for 1-dim input tensor\n",
        "model.add(Dense(units=hidden_units, activation='relu'))\n",
        "model.add(Dense(units= output_units, activation='softmax'))\n",
        "\n",
        "# Step 2: Model Compiling\n",
        "model.compile(optimizer='adam', loss='categorical_crossentropy', metrics=['accuracy'])\n",
        "\n",
        "# Step 3: Model Fitting(or Training)\n",
        "model.fit(x_train, y_train, epochs=epochs, batch_size=batch_size)\n",
        "\n",
        "# Step 4: Model Evaluation\n",
        "loss, accuracy = model.evaluate(x_test, y_test, batch_size=batch_size, verbose=0)\n",
        "print('Testing Accuracy: {:.2f} %'.format(100*accuracy))\n",
        "\n",
        "model.summary()\n",
        "from IPython.display import display, Image\n",
        "display(plot_model(model))"
      ],
      "execution_count": 11,
      "outputs": [
        {
          "output_type": "stream",
          "text": [
            "Epoch 1/10\n",
            "469/469 [==============================] - 1s 2ms/step - loss: 0.5063 - accuracy: 0.8590\n",
            "Epoch 2/10\n",
            "469/469 [==============================] - 1s 2ms/step - loss: 0.2456 - accuracy: 0.9304\n",
            "Epoch 3/10\n",
            "469/469 [==============================] - 1s 2ms/step - loss: 0.2002 - accuracy: 0.9423\n",
            "Epoch 4/10\n",
            "469/469 [==============================] - 1s 2ms/step - loss: 0.1714 - accuracy: 0.9507\n",
            "Epoch 5/10\n",
            "469/469 [==============================] - 1s 2ms/step - loss: 0.1513 - accuracy: 0.9560\n",
            "Epoch 6/10\n",
            "469/469 [==============================] - 1s 2ms/step - loss: 0.1349 - accuracy: 0.9614\n",
            "Epoch 7/10\n",
            "469/469 [==============================] - 1s 2ms/step - loss: 0.1218 - accuracy: 0.9645\n",
            "Epoch 8/10\n",
            "469/469 [==============================] - 1s 2ms/step - loss: 0.1112 - accuracy: 0.9675\n",
            "Epoch 9/10\n",
            "469/469 [==============================] - 1s 2ms/step - loss: 0.1027 - accuracy: 0.9699\n",
            "Epoch 10/10\n",
            "469/469 [==============================] - 1s 2ms/step - loss: 0.0953 - accuracy: 0.9725\n",
            "Testing Accuracy: 96.60 %\n",
            "Model: \"sequential_1\"\n",
            "_________________________________________________________________\n",
            "Layer (type)                 Output Shape              Param #   \n",
            "=================================================================\n",
            "dense_2 (Dense)              (None, 32)                25120     \n",
            "_________________________________________________________________\n",
            "dense_3 (Dense)              (None, 10)                330       \n",
            "=================================================================\n",
            "Total params: 25,450\n",
            "Trainable params: 25,450\n",
            "Non-trainable params: 0\n",
            "_________________________________________________________________\n"
          ],
          "name": "stdout"
        },
        {
          "output_type": "display_data",
          "data": {
            "image/png": "[encoded data removed]",
            "text/plain": [
              "<IPython.core.display.Image object>"
            ]
          },
          "metadata": {
            "tags": []
          }
        }
      ]
    },
    {
      "cell_type": "code",
      "metadata": {
        "colab": {
          "base_uri": "https://localhost:8080/",
          "height": 925
        },
        "id": "Pzw_lZwQRMGF",
        "outputId": "32d8afa3-7e2d-4cdc-c2fa-8da430c35559"
      },
      "source": [
        "# Same as above, but another way 2 (Functional API)\n",
        "\n",
        "tf.random.set_seed(42) # for reproducible tensor\n",
        "\n",
        "input_size = 28*28\n",
        "hidden_units = 32\n",
        "output_units = 10 \n",
        "batch_size = 128\n",
        "epochs = 10\n",
        "\n",
        "# Step 1: Model Building\n",
        "inputs = tf.keras.Input(shape=(input_size,))\n",
        "x = tf.keras.layers.Dense(hidden_units, activation=tf.nn.relu)(inputs)\n",
        "outputs = tf.keras.layers.Dense(output_units, activation=tf.nn.softmax)(x)\n",
        "model = tf.keras.Model(inputs=inputs, outputs=outputs)\n",
        "\n",
        "# Step 2: Model Compiling\n",
        "model.compile(optimizer='adam', loss='categorical_crossentropy', metrics=['accuracy'])\n",
        "\n",
        "# Step 3: Model Fitting(or Training)\n",
        "model.fit(x_train, y_train, epochs=epochs, batch_size=batch_size)\n",
        "\n",
        "# Step 4: Model Evaluation\n",
        "loss, accuracy = model.evaluate(x_test, y_test, batch_size=batch_size, verbose=0)\n",
        "print('Testing Accuracy: {:.2f} %'.format(100*accuracy))\n",
        "\n",
        "model.summary()\n",
        "from IPython.display import display, Image\n",
        "display(plot_model(model))"
      ],
      "execution_count": 12,
      "outputs": [
        {
          "output_type": "stream",
          "text": [
            "Epoch 1/10\n",
            "469/469 [==============================] - 1s 2ms/step - loss: 0.5063 - accuracy: 0.8590\n",
            "Epoch 2/10\n",
            "469/469 [==============================] - 1s 2ms/step - loss: 0.2456 - accuracy: 0.9304\n",
            "Epoch 3/10\n",
            "469/469 [==============================] - 1s 2ms/step - loss: 0.2002 - accuracy: 0.9423\n",
            "Epoch 4/10\n",
            "469/469 [==============================] - 1s 2ms/step - loss: 0.1714 - accuracy: 0.9507\n",
            "Epoch 5/10\n",
            "469/469 [==============================] - 1s 2ms/step - loss: 0.1513 - accuracy: 0.9560\n",
            "Epoch 6/10\n",
            "469/469 [==============================] - 1s 2ms/step - loss: 0.1349 - accuracy: 0.9614\n",
            "Epoch 7/10\n",
            "469/469 [==============================] - 1s 2ms/step - loss: 0.1218 - accuracy: 0.9645\n",
            "Epoch 8/10\n",
            "469/469 [==============================] - 1s 2ms/step - loss: 0.1112 - accuracy: 0.9675\n",
            "Epoch 9/10\n",
            "469/469 [==============================] - 1s 2ms/step - loss: 0.1027 - accuracy: 0.9699\n",
            "Epoch 10/10\n",
            "469/469 [==============================] - 1s 2ms/step - loss: 0.0953 - accuracy: 0.9725\n",
            "Testing Accuracy: 96.60 %\n",
            "Model: \"model\"\n",
            "_________________________________________________________________\n",
            "Layer (type)                 Output Shape              Param #   \n",
            "=================================================================\n",
            "input_2 (InputLayer)         [(None, 784)]             0         \n",
            "_________________________________________________________________\n",
            "dense_4 (Dense)              (None, 32)                25120     \n",
            "_________________________________________________________________\n",
            "dense_5 (Dense)              (None, 10)                330       \n",
            "=================================================================\n",
            "Total params: 25,450\n",
            "Trainable params: 25,450\n",
            "Non-trainable params: 0\n",
            "_________________________________________________________________\n"
          ],
          "name": "stdout"
        },
        {
          "output_type": "display_data",
          "data": {
            "image/png": "[encoded data removed]",
            "text/plain": [
              "<IPython.core.display.Image object>"
            ]
          },
          "metadata": {
            "tags": []
          }
        }
      ]
    },
    {
      "cell_type": "markdown",
      "metadata": {
        "id": "GJe2lJKgQJlj"
      },
      "source": [
        "## Building blocks of Tensorflow-Keras Modelling\n",
        "\n",
        "__Keywords in above code cells__\n",
        "\n",
        "- Sequential\n",
        "- Dense\n",
        "- input_dim\n",
        "- input_shape\n",
        "- activation\n",
        "- optimizer\n",
        "- loss\n",
        "- metrics\n",
        "- epochs\n",
        "- batch_size\n",
        "\n",
        "이들은 딥러닝의 사용자가 지정해야하는 하이퍼파라미터이며 딥러닝의 중요한 building block 혹은 lego block이라고 할수 있습니다,"
      ]
    },
    {
      "cell_type": "markdown",
      "metadata": {
        "id": "ufw2tZ1pyMg5"
      },
      "source": [
        "### [3 ways to create a Keras model with TensorFlow 2.0](https://www.pyimagesearch.com/2019/10/28/3-ways-to-create-a-keras-model-with-tensorflow-2-0-sequential-functional-and-model-subclassing/)\n",
        "\n",
        "- Sequential API\n",
        "  - the easiest way to get up and running with Keras. \n",
        "  - But it’s also the most limited -  you cannot create models that:\n",
        "    - Share layers\n",
        "    - Have branches (at least not easily)\n",
        "    - Have multiple inputs\n",
        "    - Have multiple outputs\n",
        "- Functional API\n",
        "  - easy to use and is typically favored by most deep learning practitioners\n",
        "  - Using the Functional API you can:\n",
        "    - Create more complex models.\n",
        "    - Have multiple inputs and multiple outputs.\n",
        "    - Easily define branches in your architectures (ex., an Inception block, ResNet block, etc.).\n",
        "    - Design directed acyclic graphs (DAGs).\n",
        "    - Easily share layers inside the architecture.\n",
        "  - Furthermore, any Sequential model can be implemented using Keras’ Functional API.\n",
        "\n",
        "- Model Subclassing\n",
        "  - Based on OOPs paradigmy\n",
        "  - Is fully-customizable and enables you to implement your own custom forward-pass of the model\n",
        "  - Is way harder to utilize than the Sequential API or Functional API.\n",
        "  \n",
        "\n",
        "<img src = \"https://www.pyimagesearch.com/wp-content/uploads/2019/10/keras_3_model_types_header.png\">"
      ]
    },
    {
      "cell_type": "markdown",
      "metadata": {
        "id": "1QM8InnJ9I0P"
      },
      "source": [
        "### Dense Layer (Fully Connected Layer)\n",
        "\n",
        "- The name suggests that layers are fully connected (dense) by the neurons in a network layer. Each neuron in a layer receives an input from all the neurons present in the previous layer—thus, they’re densely connected.\n",
        "- In other words, the dense layer is a fully connected layer, meaning all the neurons in a layer are connected to those in the next layer.\n",
        "\n",
        "- This is why we __use Flatten layer before passing n-dim data(image) to the next dense layer__.\n",
        "\n",
        "### [Tensorflow Keras layer의 종류](https://www.tensorflow.org/api_docs/python/tf/keras/layers)\n",
        "- **Activation**: Applies an activation function to an output.\n",
        "- **BatchNormalization**: Layer that normalizes its inputs.\n",
        "- **Conv2D**: 2D convolution layer (e.g. spatial convolution over images)\n",
        "- **Dropout**: Applies Dropout to the input.\n",
        "- **Flatten**: Flattens the input. Does not affect the batch size.\n",
        "- **GRU**: Gated Recurrent Unit - Cho et al. 2014.\n",
        "- **InputLayer**: Layer to be used as an entry point into a Network (a graph of layers).\n",
        "- **Long Short-Term Memory layer** - Hochreiter 1997.\n",
        "- **MaxPool2D**: Max pooling operation for 2D spatial data.\n",
        "- **ReLU**: Rectified Linear Unit activation function.\n",
        "- **SimpleRNN**: Fully-connected RNN where the output is to be fed back to input.\n",
        "- **Softmax**: Softmax activation function.\n"
      ]
    },
    {
      "cell_type": "code",
      "metadata": {
        "cellView": "code",
        "colab": {
          "base_uri": "https://localhost:8080/",
          "height": 1000
        },
        "id": "mr1LP4og_KMV",
        "outputId": "93ae3344-74f1-4ea6-84b6-51c059193619"
      },
      "source": [
        "# Data Preparation & Data Preprocessing  with no reshaping.  Instead, use Flatten layer. \n",
        "\n",
        "(x_train, y_train),(x_test,y_test)=mnist.load_data()\n",
        "# While the MNIST data consists of two dimensional tensors, it should be reshaped depending on the type of input layer.\n",
        "# input_size = x_train[0].shape[0]*x_train[0].shape[1]\n",
        "# x_train=np.reshape(x_train, [-1,input_size])\n",
        "# x_test=np.reshape(x_test, [-1,input_size])\n",
        "\n",
        "# normalize\n",
        "x_train = x_train/255\n",
        "x_test = x_test/255\n",
        "\n",
        "\n",
        "# One-hot encoding\n",
        "\n",
        "y_train = to_categorical(y_train)\n",
        "y_test= to_categorical(y_test)\n",
        "\n",
        "print('x_train shape: {} y_train shape: {}'.format(x_train.shape, y_train.shape))\n",
        "print('x_test shape: {} y_test shape: {}'.format(x_test.shape, y_test.shape))\n",
        "\n",
        "# Modelling Codes\n",
        "\n",
        "tf.random.set_seed(42) # for reproducible tensor\n",
        "\n",
        "input_size = 28*28\n",
        "hidden_units = 32\n",
        "output_units = 10 \n",
        "batch_size = 128\n",
        "epochs = 10\n",
        "\n",
        "# Step 1: Model Building\n",
        "model = Sequential()\n",
        "model.add(Flatten()) # model.add(Flatten(input_shape=(28,28)))\n",
        "model.add(Dense(units=hidden_units, activation='relu'))\n",
        "model.add(Dense(units= output_units, activation='softmax'))\n",
        "\n",
        "# Step 2: Model Compiling\n",
        "model.compile(optimizer='adam', loss='categorical_crossentropy', metrics=['accuracy'])\n",
        "\n",
        "# Step 3: Model Fitting(or Training)\n",
        "model.fit(x_train, y_train, epochs=epochs, batch_size=batch_size)\n",
        "\n",
        "# Step 4: Model Evaluation\n",
        "loss, accuracy = model.evaluate(x_test, y_test, batch_size=batch_size, verbose=0)\n",
        "print('Testing Accuracy: {:.2f} %'.format(100*accuracy))\n",
        "\n",
        "model.summary()\n",
        "from IPython.display import display, Image\n",
        "display(plot_model(model))"
      ],
      "execution_count": 13,
      "outputs": [
        {
          "output_type": "stream",
          "text": [
            "x_train shape: (60000, 28, 28) y_train shape: (60000, 10)\n",
            "x_test shape: (10000, 28, 28) y_test shape: (10000, 10)\n",
            "Epoch 1/10\n",
            "469/469 [==============================] - 1s 2ms/step - loss: 0.5063 - accuracy: 0.8590\n",
            "Epoch 2/10\n",
            "469/469 [==============================] - 1s 2ms/step - loss: 0.2456 - accuracy: 0.9304\n",
            "Epoch 3/10\n",
            "469/469 [==============================] - 1s 2ms/step - loss: 0.2002 - accuracy: 0.9423\n",
            "Epoch 4/10\n",
            "469/469 [==============================] - 1s 2ms/step - loss: 0.1714 - accuracy: 0.9507\n",
            "Epoch 5/10\n",
            "469/469 [==============================] - 1s 2ms/step - loss: 0.1513 - accuracy: 0.9560\n",
            "Epoch 6/10\n",
            "469/469 [==============================] - 1s 2ms/step - loss: 0.1349 - accuracy: 0.9614\n",
            "Epoch 7/10\n",
            "469/469 [==============================] - 1s 2ms/step - loss: 0.1218 - accuracy: 0.9645\n",
            "Epoch 8/10\n",
            "469/469 [==============================] - 1s 2ms/step - loss: 0.1112 - accuracy: 0.9675\n",
            "Epoch 9/10\n",
            "469/469 [==============================] - 1s 2ms/step - loss: 0.1027 - accuracy: 0.9699\n",
            "Epoch 10/10\n",
            "469/469 [==============================] - 1s 2ms/step - loss: 0.0953 - accuracy: 0.9725\n",
            "Testing Accuracy: 96.60 %\n",
            "Model: \"sequential_2\"\n",
            "_________________________________________________________________\n",
            "Layer (type)                 Output Shape              Param #   \n",
            "=================================================================\n",
            "flatten (Flatten)            (None, 784)               0         \n",
            "_________________________________________________________________\n",
            "dense_6 (Dense)              (None, 32)                25120     \n",
            "_________________________________________________________________\n",
            "dense_7 (Dense)              (None, 10)                330       \n",
            "=================================================================\n",
            "Total params: 25,450\n",
            "Trainable params: 25,450\n",
            "Non-trainable params: 0\n",
            "_________________________________________________________________\n"
          ],
          "name": "stdout"
        },
        {
          "output_type": "display_data",
          "data": {
            "image/png": "[encoded data removed]",
            "text/plain": [
              "<IPython.core.display.Image object>"
            ]
          },
          "metadata": {
            "tags": []
          }
        }
      ]
    },
    {
      "cell_type": "markdown",
      "metadata": {
        "id": "eoSivNNfLEXh"
      },
      "source": [
        "### input_dim & input_shape\n",
        "\n",
        "- input_shape\n",
        "  - The input shape parameter simply tells the input layer what **the shape of one sample** looks like.\n",
        "\n",
        "- input_dim\n",
        "  - Sometimes you just have one dimension – which is the case with one-dimensional / flattened arrays, for example. \n",
        "  - In this case, you can also simply use input_dim: specifying **the number of elements within that first dimension only**. \n",
        "\n",
        "```\n",
        "inputs = tf.keras.Input(shape=(input_size,))\n",
        "model.add(InputLayer(input_shape=(input_size,)))\n",
        "model.add(Dense(units=hidden_units, activation='relu',input_dim=input_size))\n",
        "```"
      ]
    },
    {
      "cell_type": "markdown",
      "metadata": {
        "id": "hJBNMaJ3ZiFl"
      },
      "source": [
        "### Activation Function\n",
        "\n",
        "__What is Activation Function?__\n",
        "\n",
        "It’s just a thing function that you use to get the output of node. It is also known as Transfer Function.\n",
        "\n",
        "<img src =\"https://miro.medium.com/max/816/1*BMSfafFNEpqGFCNU4smPkg.png\">\n",
        "\n",
        "__Why is it used?__\n",
        "\n",
        "When our brain is fed with a lot of information simultaneously, it tries hard to understand and classify the information into “useful” and “not-so-useful” information. We need a similar mechanism for classifying incoming information as “useful” or “less-useful” in case of NNs.\n",
        "\n",
        "This is important in the way a network learns because not all the information is equally useful. Some of it is just noise. This is where activation functions come into picture. The activation functions help the network use the important information and suppress the irrelevant data points.\n",
        "\n",
        "<br/>\n",
        "\n",
        "__Can we do without an activation function?__\n",
        "\n",
        "Imagine a neural network without the activation functions. In that case, every neuron will only be performing a linear transformation on the inputs using the weights and biases. Although linear transformations make the neural network simpler, but this network would be less powerful and will not be able to learn the complex patterns from the data.\n",
        "\n",
        "> A neural network without an activation function is essentially just a linear regression model.\n",
        "\n",
        "Thus we use a non linear transformation to the inputs of the neuron and this non-linearity in the network is introduced by an activation function.\n",
        "<br/>\n",
        "\n",
        "### 1. [Sigmoid or Logistic Activation Function](https://www.tensorflow.org/api_docs/python/tf/keras/activations/sigmoid)\n",
        "\n",
        "The Sigmoid Function curve looks like a S-shape.\n",
        "\n",
        "$$ f(x) = \\frac{1}{1+e^{-x}} = \\frac {e^x}{e^x+1} = \\frac {1}{2} + \\frac {1}{2}tanh( \\frac {x}{2}) $$\n",
        "\n",
        "\n",
        "<img src = \"https://miro.medium.com/max/728/1*Xu7B5y9gp0iL5ooBj7LtWw.png\">\n",
        "\n",
        "- Range: [0, 1]\n",
        "- Therefore, it is especially __used for models where we have to predict the probability as an output.__\n",
        "- The function is differentiable.\n",
        "- The function is monotonic but function’s derivative is not.\n",
        "- The logistic sigmoid function can cause a neural network to get stuck at the training time.\n",
        "\n",
        "\n",
        "### 2. [Tanh or hyperbolic tangent Activation Function](https://www.tensorflow.org/api_docs/python/tf/keras/activations/tanh)\n",
        "\n",
        "tanh is also sigmoidal (s - shaped).\n",
        "\n",
        "$$ tanh(x) = \\frac {sinh(x)}{cosh(x)} = \\frac {e^x - e^{-x}}{e^x + e^{-x}}$$\n",
        "\n",
        "\n",
        "\n",
        "<img src = \"https://miro.medium.com/max/893/1*f9erByySVjTjohfFdNkJYQ.jpeg\">\n",
        "\n",
        "- Range: [-1, 1] \n",
        "- The function is differentiable.\n",
        "- The function is monotonic while its derivative is not monotonic.\n",
        "- Both tanh and logistic sigmoid activation functions are used in feed-forward nets.\n",
        "\n",
        "### 3. [ReLU (Rectified Linear Unit) Activation Function](https://www.tensorflow.org/api_docs/python/tf/keras/activations/relu)\n",
        "\n",
        "\n",
        "$$\n",
        "R(z) =  max(z,0) =\n",
        "  \\begin{cases}\n",
        "\t\t\t0, & \\text{for $z \\lt 0$}\\\\\n",
        "      z, & \\text{for $z \\ge 0$}\n",
        "\t\\end{cases}\n",
        "$$\n",
        "\n",
        "\n",
        "<img src = \"https://miro.medium.com/max/1050/1*XxxiA0jJvPrHEJHD4z893g.png\">\n",
        "\n",
        "\n",
        "- It is __used in almost all the convolutional neural networks__.\n",
        "- Range: [0, $\\infty$]\n",
        "- The function and its derivative both are monotonic.\n",
        "- But the issue is that all the negative values become zero immediately which decreases the ability of the model to fit or train from the data properly.\n",
        "\n",
        "### 4. [Leaky ReLU](https://www.tensorflow.org/api_docs/python/tf/nn/leaky_relu)\n",
        "\n",
        "It is an attempt to solve the dying ReLU problem\n",
        "\n",
        "$$\n",
        "R(z) =  max(z,0) =\n",
        "  \\begin{cases}\n",
        "\t\t\taz, & \\text{for $z \\lt 0$}\\\\\n",
        "      z, & \\text{for $z \\ge 0$}\n",
        "\t\\end{cases}\n",
        "$$\n",
        "\n",
        "The leak helps to increase the range of the ReLU function. Usually, the value of a is 0.01 or so.\n",
        "When $a$ is not 0.01 then it is called __Randomized ReLU__.\n",
        "\n",
        "<img src = \"https://d1zx6djv3kb1v7.cloudfront.net/wp-content/media/2019/09/Deep-learning-25-i2tutorials.png\">\n",
        "\n",
        "- Range: [ -$\\infty$, $\\infty$ ]\n",
        "- Both Leaky and Randomized ReLU functions are monotonic. \n",
        "- Also, their derivatives also monotonic in nature.\n",
        "\n",
        "### 5. [Softmax (multinomial logistic)  Activation Function](https://www.tensorflow.org/api_docs/python/tf/keras/activations/softmax)\n",
        "\n",
        "<img src=\"https://i.stack.imgur.com/Mxpwp.png\">\n",
        "\n",
        "$$ f(x_i) = \\frac {e^{x_i}}{\\sum_{i}{e^{x_i}}}$$\n",
        "\n",
        "- The softmax function is a function that turns a vector of K real values into a vector of K real values that sum to 1. \n",
        "- Range: [0, 1]\n",
        "  - The input values can be positive, negative, zero, or greater than one.\n",
        "  - If one of the inputs is small or negative, the softmax turns it into a small probability. \n",
        "  - If an input is large, then it turns it into a large probability.\n",
        "- It is a more generalized logistic activation function which is used for mutually exclusive multiclass classification.\n",
        "\n",
        "\n",
        "### Why derivative/differentiation is used ?\n",
        "\n",
        "When updating the curve, to know in which direction and how much to change or update the curve depending upon the slope. That is why we use differentiation in almost every part of Machine Learning and Deep Learning.\n",
        "\n",
        "<img src= \"https://miro.medium.com/max/1050/1*p_hyqAtyI8pbt2kEl6siOQ.png\">\n",
        "\n",
        "\n",
        "<img src = \"https://miro.medium.com/max/1050/1*n1HFBpwv21FCAzGjmWt1sg.png\">\n",
        "\n",
        "###How to Choose a Hidden Layer Activation Function\n",
        "\n",
        "- A NN will almost always have the same activation function in all hidden layers.\n",
        "- Most unusual to vary the activation function through a network model.\n",
        "\n",
        "- Both the sigmoid and Tanh functions can make the model more susceptible to problems during training, via the so-called __vanishing gradients problem__.\n",
        "\n",
        "- Rough Guidelines\n",
        "  - Multilayer Perceptron (MLP): ReLU activation function.\n",
        "  - Convolutional Neural Network (CNN): ReLU activation function.\n",
        "  - Recurrent Neural Network: Tanh and/or Sigmoid activation function.\n",
        "\n",
        "\n",
        "\n"
      ]
    },
    {
      "cell_type": "code",
      "metadata": {
        "id": "6afebWDsZ64u"
      },
      "source": [
        "import numpy as np\n",
        "import tensorflow as tf\n",
        "\n",
        "v= [1,-3,3, 0, -0.5]"
      ],
      "execution_count": 14,
      "outputs": []
    },
    {
      "cell_type": "markdown",
      "metadata": {
        "id": "RfXq8Qunaq9a"
      },
      "source": [
        "__sigmoid or logistic__ activation function"
      ]
    },
    {
      "cell_type": "code",
      "metadata": {
        "colab": {
          "base_uri": "https://localhost:8080/"
        },
        "id": "3iTlS7WWaq9b",
        "outputId": "c6aeac51-a2bf-4359-b286-bc947f54c79f"
      },
      "source": [
        "# calculate the sigmoid of a vector\n",
        "\n",
        "def sigmoid(x):\n",
        "    s = 1/(1+1/np.exp(x))\n",
        "    return  s\n",
        "\n",
        "print(sigmoid(v))"
      ],
      "execution_count": 15,
      "outputs": [
        {
          "output_type": "stream",
          "text": [
            "[0.73 0.05 0.95 0.5  0.38]\n"
          ],
          "name": "stdout"
        }
      ]
    },
    {
      "cell_type": "code",
      "metadata": {
        "colab": {
          "base_uri": "https://localhost:8080/",
          "height": 314
        },
        "id": "hUHg9faPbguJ",
        "outputId": "0331aedd-39c0-4b96-dc11-1a9fa288685e"
      },
      "source": [
        "x_val = np.arange(-10,10,0.1)\n",
        "y_val = sigmoid(x_val)\n",
        "plt.plot(x_val,y_val)\n",
        "plt.grid()\n",
        "plt.xlabel('x')\n",
        "plt.ylabel('y')\n",
        "plt.title(\"Sigmoid Activation Function\")"
      ],
      "execution_count": 16,
      "outputs": [
        {
          "output_type": "execute_result",
          "data": {
            "text/plain": [
              "Text(0.5, 1.0, 'Sigmoid Activation Function')"
            ]
          },
          "metadata": {
            "tags": []
          },
          "execution_count": 16
        },
        {
          "output_type": "display_data",
          "data": {
            "image/png": "[encoded data removed]",
            "text/plain": [
              "<Figure size 432x288 with 1 Axes>"
            ]
          },
          "metadata": {
            "tags": [],
            "needs_background": "light"
          }
        }
      ]
    },
    {
      "cell_type": "markdown",
      "metadata": {
        "id": "_hT0U91ZaWiu"
      },
      "source": [
        "__tanh or hyperboic tangent__ activation function"
      ]
    },
    {
      "cell_type": "code",
      "metadata": {
        "colab": {
          "base_uri": "https://localhost:8080/"
        },
        "id": "nBXc2gJnaWiu",
        "outputId": "867c6110-b24d-4a30-a4a9-9e67fe940d7c"
      },
      "source": [
        "def tanh(x):\n",
        "    s = np.tanh(x)\n",
        "    return  s\n",
        "\n",
        "print(tanh(v))"
      ],
      "execution_count": 17,
      "outputs": [
        {
          "output_type": "stream",
          "text": [
            "[ 0.76 -1.    1.    0.   -0.46]\n"
          ],
          "name": "stdout"
        }
      ]
    },
    {
      "cell_type": "code",
      "metadata": {
        "colab": {
          "base_uri": "https://localhost:8080/",
          "height": 314
        },
        "id": "wUP4FGQddF3U",
        "outputId": "b36f5c7c-1370-43c4-eeec-6bde4430b3cd"
      },
      "source": [
        "x_val = np.arange(-10,10,0.1)\n",
        "y_val = tanh(x_val)\n",
        "plt.plot(x_val,y_val)\n",
        "plt.grid()\n",
        "plt.xlabel('x')\n",
        "plt.ylabel('y')\n",
        "plt.title(\"Hypertangent Activation Function\")"
      ],
      "execution_count": 18,
      "outputs": [
        {
          "output_type": "execute_result",
          "data": {
            "text/plain": [
              "Text(0.5, 1.0, 'Hypertangent Activation Function')"
            ]
          },
          "metadata": {
            "tags": []
          },
          "execution_count": 18
        },
        {
          "output_type": "display_data",
          "data": {
            "image/png": "[encoded data removed]",
            "text/plain": [
              "<Figure size 432x288 with 1 Axes>"
            ]
          },
          "metadata": {
            "tags": [],
            "needs_background": "light"
          }
        }
      ]
    },
    {
      "cell_type": "markdown",
      "metadata": {
        "id": "TRMm6nHMaWiv"
      },
      "source": [
        "__ReLU__ activation function"
      ]
    },
    {
      "cell_type": "code",
      "metadata": {
        "colab": {
          "base_uri": "https://localhost:8080/"
        },
        "id": "deYBAdTWaWiv",
        "outputId": "275ea419-6fd4-47c3-9305-bd6f8ded4e70"
      },
      "source": [
        "def relu(x):\n",
        "    s = np.maximum(x,0)\n",
        "    return s\n",
        "\n",
        "print(relu(v))\n"
      ],
      "execution_count": 19,
      "outputs": [
        {
          "output_type": "stream",
          "text": [
            "[1. 0. 3. 0. 0.]\n"
          ],
          "name": "stdout"
        }
      ]
    },
    {
      "cell_type": "code",
      "metadata": {
        "colab": {
          "base_uri": "https://localhost:8080/",
          "height": 314
        },
        "id": "xWgHzfGwdW5O",
        "outputId": "36ec37fe-a8fd-44b3-accf-f350baeaf25b"
      },
      "source": [
        "x_val = np.arange(-10,10,0.1)\n",
        "y_val = relu(x_val)\n",
        "plt.plot(x_val,y_val)\n",
        "plt.grid()\n",
        "plt.xlabel('x')\n",
        "plt.ylabel('y')\n",
        "plt.title(\"Relu Activation Function\")"
      ],
      "execution_count": 20,
      "outputs": [
        {
          "output_type": "execute_result",
          "data": {
            "text/plain": [
              "Text(0.5, 1.0, 'Relu Activation Function')"
            ]
          },
          "metadata": {
            "tags": []
          },
          "execution_count": 20
        },
        {
          "output_type": "display_data",
          "data": {
            "image/png": "[encoded data removed]",
            "text/plain": [
              "<Figure size 432x288 with 1 Axes>"
            ]
          },
          "metadata": {
            "tags": [],
            "needs_background": "light"
          }
        }
      ]
    },
    {
      "cell_type": "markdown",
      "metadata": {
        "id": "EhB-vscVaWiv"
      },
      "source": [
        "__Leaky ReLU__ activation function"
      ]
    },
    {
      "cell_type": "code",
      "metadata": {
        "colab": {
          "base_uri": "https://localhost:8080/"
        },
        "id": "zrHh2-rEaWiv",
        "outputId": "26273efa-c8f8-49e4-ac40-3b83b256d9c1"
      },
      "source": [
        "def leaky_ReLU(x):\n",
        "    s = np.where(x > 0, x, x * 0.01)     \n",
        "    return s\n",
        "\n",
        "vv = np.array(v)\n",
        "print (leaky_ReLU(vv))"
      ],
      "execution_count": 21,
      "outputs": [
        {
          "output_type": "stream",
          "text": [
            "[ 1.   -0.03  3.    0.   -0.01]\n"
          ],
          "name": "stdout"
        }
      ]
    },
    {
      "cell_type": "code",
      "metadata": {
        "colab": {
          "base_uri": "https://localhost:8080/",
          "height": 314
        },
        "id": "6BEq8A_Ydyv-",
        "outputId": "7e554bde-45a5-45b1-f8d4-0f1a7c5a5ad2"
      },
      "source": [
        "x_val = np.arange(-10,10,0.1)\n",
        "y_val = leaky_ReLU(x_val)\n",
        "plt.plot(x_val,y_val)\n",
        "plt.grid()\n",
        "plt.xlabel('x')\n",
        "plt.ylabel('y')\n",
        "plt.title(\"leaky_ReLU Activation Function\")"
      ],
      "execution_count": 22,
      "outputs": [
        {
          "output_type": "execute_result",
          "data": {
            "text/plain": [
              "Text(0.5, 1.0, 'leaky_ReLU Activation Function')"
            ]
          },
          "metadata": {
            "tags": []
          },
          "execution_count": 22
        },
        {
          "output_type": "display_data",
          "data": {
            "image/png": "[encoded data removed]",
            "text/plain": [
              "<Figure size 432x288 with 1 Axes>"
            ]
          },
          "metadata": {
            "tags": [],
            "needs_background": "light"
          }
        }
      ]
    },
    {
      "cell_type": "markdown",
      "metadata": {
        "id": "lmkWOhuDaWiv"
      },
      "source": [
        "__softmax__ activation function"
      ]
    },
    {
      "cell_type": "code",
      "metadata": {
        "colab": {
          "base_uri": "https://localhost:8080/"
        },
        "id": "2nygiRpFaWiv",
        "outputId": "4b95c492-889b-40de-e80c-282bbe3857f0"
      },
      "source": [
        "# calculate the softmax of a vector\n",
        "def softmax(vector):\n",
        "    e = np.exp(vector)\n",
        "    return e / e.sum()\n",
        " \n",
        "# define data\n",
        "data = [1, 3, 2]\n",
        "# convert list of numbers to a list of probabilities\n",
        "result = softmax(data)\n",
        "# report the probabilities\n",
        "print(result)\n",
        "# report the sum of the probabilities\n",
        "print(sum(result))"
      ],
      "execution_count": 23,
      "outputs": [
        {
          "output_type": "stream",
          "text": [
            "[0.09 0.67 0.24]\n",
            "1.0\n"
          ],
          "name": "stdout"
        }
      ]
    },
    {
      "cell_type": "code",
      "metadata": {
        "colab": {
          "base_uri": "https://localhost:8080/",
          "height": 295
        },
        "id": "mpwLnkhQejNh",
        "outputId": "9cc703db-ea7a-4aeb-acda-96024a305bb0"
      },
      "source": [
        "def plot_softmax(start, end, interval):\n",
        "  x_val = np.arange(start, end, interval)\n",
        "  y_val = softmax(x_val)\n",
        "  plt.plot(x_val,y_val)\n",
        "  plt.grid()\n",
        "  plt.xlabel('x')\n",
        "  plt.ylabel('y')\n",
        "  plt.title(\"Softmax Activation Function\")\n",
        "\n",
        "plot_softmax(-1,1, 0.01)\n"
      ],
      "execution_count": 24,
      "outputs": [
        {
          "output_type": "display_data",
          "data": {
            "image/png": "[encoded data removed]",
            "text/plain": [
              "<Figure size 432x288 with 1 Axes>"
            ]
          },
          "metadata": {
            "tags": [],
            "needs_background": "light"
          }
        }
      ]
    },
    {
      "cell_type": "code",
      "metadata": {
        "colab": {
          "base_uri": "https://localhost:8080/",
          "height": 295
        },
        "id": "-wcln208gfuh",
        "outputId": "aa810a9f-b87d-458a-b174-d5cb35ef0fb5"
      },
      "source": [
        "plot_softmax(-10,10, 0.1)\n"
      ],
      "execution_count": 25,
      "outputs": [
        {
          "output_type": "display_data",
          "data": {
            "image/png": "[encoded data removed]",
            "text/plain": [
              "<Figure size 432x288 with 1 Axes>"
            ]
          },
          "metadata": {
            "tags": [],
            "needs_background": "light"
          }
        }
      ]
    },
    {
      "cell_type": "code",
      "metadata": {
        "colab": {
          "base_uri": "https://localhost:8080/",
          "height": 295
        },
        "id": "9l7qIMLxgsX1",
        "outputId": "49e7502a-59ce-49d7-b735-efe453397352"
      },
      "source": [
        "plot_softmax(-100,100,1)"
      ],
      "execution_count": 26,
      "outputs": [
        {
          "output_type": "display_data",
          "data": {
            "image/png": "[encoded data removed]",
            "text/plain": [
              "<Figure size 432x288 with 1 Axes>"
            ]
          },
          "metadata": {
            "tags": [],
            "needs_background": "light"
          }
        }
      ]
    },
    {
      "cell_type": "markdown",
      "metadata": {
        "id": "g47R_UYHwFGP"
      },
      "source": [
        "### [Optimizers](https://www.tensorflow.org/api_docs/python/tf/keras/optimizers)\n",
        "\n",
        "> Optimizers are the engine of machine learning — they make the computer learn.\n",
        "\n",
        "At every point in time during training, a NN has a certain loss, or error, calculated using a cost function (also referred to as a loss function). This function indicates how ‘wrong’ the network (parameters) is based on the training or validation data. Optimally, the loss would be as low as possible.\n",
        "\n",
        "<img src=\"https://miro.medium.com/max/880/1*Y4ng1Yk7jjWFQnwrHJHx_g.png\">\n",
        "\n",
        "Unfortunately, cost functions are nonconvex — they don’t just have one minimum, but many, many local minima.\n",
        "\n",
        "> To minimize a neural network’s loss, an algorithm called __backpropagation__ is used. Backpropagation calculates the derivative of the cost function with respect to the parameters in the neural network. In other words, it finds the “direction” in which to update the parameters so that the model will perform better. This “direction” is called a neural network’s __gradient__.\n",
        "\n",
        "__Before updating the model with the gradient, the gradient is multiplied by a learning rate.__ This yields the actual update on the neural network.\n",
        "\n",
        "  - When the learning rate is too high, we might step over the minimum, meaning the model is not as good as it could have been.\n",
        "  - But on the other hand, when the learning rate is too low, the optimization process is extremely slow. \n",
        "  - Another risk of a low learning rate is the fact that the state might end up in a bad local minimum. The model is at a suboptimal state as this point, but it could be much better.\n",
        "\n",
        "<img src=\"https://www.pyimagesearch.com/wp-content/uploads/2019/08/keras_learning_rate_finder_header.png\">\n",
        "\n",
        "> This is where optimizers come in. Most optimizers calculate the learning rate automatically. Optimizers also apply the gradient to the neural network — they make the network learn. A good optimizer trains models fast, but it also prevents them from getting stuck in a local minimum.\n",
        "\n",
        "Gradient descent is a way to minimize an objective function $J(\\theta)$ by updating the model's parameters $\\theta$ in the opposite direction of the gradient of the objective function, $\\nabla_\\theta J(\\theta)$, w.r.t. to the parameters. The learning rate $\\eta$ determines the size of the steps we take to reach a (local) minimum. In other words, we follow the direction of the slope of the surface created by the objective function downhill until we reach a valley\n",
        "\n",
        "$${\\Huge{\\theta} = \\theta - \\nabla_\\theta J(\\theta)}$$\n",
        "\n",
        "\n",
        "\n",
        "- SGD (Stochastic Gradient Descent)\n",
        "  - It uses just one static learning rate for all parameters during the entire training phase.\n",
        "\n",
        "- Adagrad (Adaptive Gradient)\n",
        "  - AdaGrad is very similar to SGD. The key difference in design is that AdaGrad uses Adaptive gradients — it has a different learning rate for every single parameter in the neural network. \n",
        "  - AdaGrad updates the learning rate for each parameter based on the frequency with which it’s updated. Frequently updated parameters are trained very carefully with a low learning rate. \n",
        "\n",
        "- RMSprop ( Root Mean Square Propagation)\n",
        "  - AdaGrad has a problem where after a few batches, the learning rates become low — resulting in a long training time. \n",
        "  - RMSProp attempts to solve this problem by exponentially decaying the learning rates. \n",
        "\n",
        "- Adam (Adaptive Moment estimation)\n",
        "  - It also uses past learning rates like AdaGrad and RMSProp do. \n",
        "  - However, Adam doesn’t stop there—it also uses past gradients to speed up learning. When Adam moves in a certain direction, it does so with a ‘great force’— it’s not suddenly going to stop and turn around.\n",
        "\n",
        " <br/> \n",
        "\n",
        "<img src=\"https://miro.medium.com/max/2318/1*LczI-iUPAcHQy3t4lyDw9Q.png\">\n",
        "\n",
        "<img src=\"https://miro.medium.com/max/2988/1*uUX55zhO5pks4vEKR4j63A.png\">\n",
        "\n",
        "<img src=\"https://miro.medium.com/max/2312/1*_zSG-oQ-YIG6tDtKEuNoGA.png\">\n",
        "\n",
        "<img src=\"https://miro.medium.com/max/2992/1*6a4co23xKuRGYcOJIMgwfQ.png\">\n",
        "\n",
        "\n",
        "[An Empirical Comparison of Optimizers for Machine Learning Models](https://heartbeat.fritz.ai/an-empirical-comparison-of-optimizers-for-machine-learning-models-b86f29957050)"
      ]
    },
    {
      "cell_type": "code",
      "metadata": {
        "id": "Jv5jrobTdKWx"
      },
      "source": [
        "# How to set a learning rate\n",
        "\n",
        "from tensorflow import keras as k\n",
        "from tensorflow.keras import layers \n",
        "\n",
        "model = k.Sequential()\n",
        "model.add(layers.Dense(64, kernel_initializer='uniform', input_shape=(10,)))\n",
        "model.add(layers.Activation('softmax'))\n",
        "\n",
        "opt = k.optimizers.Adam(learning_rate=0.01)\n",
        "model.compile(loss='categorical_crossentropy', optimizer=opt)"
      ],
      "execution_count": 27,
      "outputs": []
    },
    {
      "cell_type": "markdown",
      "metadata": {
        "id": "HK9dxZArY1QL"
      },
      "source": [
        "### [Loss Function (Cost Function, Error Function)](https://www.tensorflow.org/api_docs/python/tf/keras/losses)\n",
        "\n",
        "__Regression Loss Functions__\n",
        "\n",
        "  - Absolute Error Loss ($L_1$ Loss)\n",
        "\n",
        "    - 예측치와 실제값의 차이의 절대값\n",
        "\n",
        "    $$L = \\big| y-f(x) \\big| \\text{  where }f(x) = x\\hat{\\beta}$$\n",
        "    \n",
        "    - $L_2$ Loss Function(손실함수) 사용시 Cost Function(비용함수)는 MAE(Mean Absolute Error, 평균절대오차)로 불린다.    \n",
        "\n",
        "\n",
        "  - Squared Error Loss ($L_2$ Loss)\n",
        "\n",
        "    - 예측치와 실제값의 차이의 제곱\n",
        "\n",
        "    $$L = \\big(y-f(x)\\big)^2 \\text{  where }f(x) = x\\hat{\\beta}$$    \n",
        " \n",
        "    - $L_2$ Loss Function(손실함수) 사용시 Cost Function(비용함수)는 MSE(Mean Squared Error, 평균제곱오차)로 불린다.    \n",
        "\n",
        "\n",
        "__Classification Loss Functions__\n",
        "\n",
        "\n",
        "  - Binary Cross Entropy Loss\n",
        "\n",
        "    - Binary Classification refers to assigning an object into one of two classes.\n",
        "\n",
        "    - The cross-entropy loss for output label y (can take values 0 and 1) and predicted probability p is defined as:\n",
        "\n",
        "$$ L = -y*log(p) - (1-y)* log(1-p) = \n",
        "      \\begin{cases}\n",
        "           -log(1-p) & \\text{if } y = 0   \\\\\n",
        "           -log(p)   & \\text{if } y = 1\n",
        "  \\end{cases}$$\n",
        "        \n",
        " - Multi-Class Classification Loss Functions\n",
        "\n",
        "    - The loss for input vector $X_i$ and the corresponding one-hot encoded target vector $Y_i$ is:\n",
        "\n",
        "$$ L(X_i, Y_i) = - \\sum_{j=1}^{c} y_{ij}*log(p_{ij}) $$\n",
        "\n",
        "\n",
        "$$ \\text{  where  } Y_i \\text{ is one-hot encoded target vector } (y_{i1}, y_{i2}, \\cdots, y_{ic}) $$\n",
        "\n",
        "$$  y_{ij} = \n",
        "  \\begin{cases}\n",
        "       1 & \\text{  if } i_{th} \\text{ element in class } j \\\\\n",
        "       0 & \\text{  otherwise}\n",
        "  \\end{cases} $$ \n",
        "$$ p_{ij} = f(X_i) = \\text{ probabilty that }i_{th} \\text{ element is in class }j $$\n",
        "                         "
      ]
    },
    {
      "cell_type": "markdown",
      "metadata": {
        "id": "Sy-JHyTvaWgC"
      },
      "source": [
        "[What is Cross-Entropy?](https://machinelearningmastery.com/cross-entropy-for-machine-learning/)\n",
        "\n",
        "<img src=\"https://hoya012.github.io/assets/img/ce_kldiv/10.png\">\n",
        "\n",
        "- Information: 주어진 임의의 이벤트에서 발생하는 놀라움의 양\n",
        "- Entropy: 주어진 임의의 이벤트에서 발생한 Information들의 기대값\n",
        "- KL divergence: 두 확률 분포 P, Q가 있을 때, P 분포를 - 근사하는 Q 분포를 통해 샘플링할 때 발생하는 정보량의 손실\n",
        "- Cross entropy: 두 확률 분포 P, Q 사이의 차이를 측정하는 지표\n",
        "\n",
        "📒 참고 문헌\n",
        "\n",
        "1. [A Gentle Introduction to Cross-Entropy for Machine Learning](https://machinelearningmastery.com/cross-entropy-for-machine-learning/)\n",
        "\n",
        "2. [An introduction to entropy, cross entropy and KL divergence in machine learning](https://hoya012.github.io/blog/cross_entropy_vs_kl_divergence/)\n",
        "\n",
        "3. [Github](https://github.com/sangsin/Introduction-to-Deep-Learning-with-Tensorflow-2.0-and-Keras/blob/aeb1b161cc9aa414748aae09d7085649701b5068/%EC%B0%B8%EA%B3%A0%EC%9E%90%EB%A3%8C/A%20Gentle%20Introduction%20to%20Cross-Entropy%20for%20Machine%20Learning.ipynb)"
      ]
    },
    {
      "cell_type": "markdown",
      "metadata": {
        "id": "zLiP3-d-tpLA"
      },
      "source": [
        "### [Tensorflow-Keras Metrics](https://www.tensorflow.org/api_docs/python/tf/keras/metrics)\n",
        "\n",
        "모델의 유효성 검증을 위한 다양한 통계치\n",
        "\n",
        "- Accuracy\n",
        "- BinaryCrossentropy\n",
        "- CategoricalAccuracy\n",
        "- CategoricalCrossentropy\n",
        "- FalseNegatives\n",
        "- FalsePositives\n",
        "- MeanAbsoluteError (MAE)\n",
        "- MeanIoU\n",
        "- MeanSquaredError (MSE)\n",
        "- Precision\n",
        "- Recall\n",
        "- RootMeanSquaredError\n",
        "- SparseCategoricalCrossentropy\n",
        "- TrueNegatives\n",
        "- TruePositives\n",
        "\n",
        "\n",
        "\n",
        "\n",
        "\n",
        "\n",
        "\n",
        "\n",
        "\n"
      ]
    },
    {
      "cell_type": "markdown",
      "metadata": {
        "id": "IWMH8AImyCyK"
      },
      "source": [
        "### Epochs vs Batch Size vs Iterations \n",
        "\n",
        "- **Epochs**\n",
        "\n",
        "  - One Epoch is when an ENTIRE dataset is passed forward and backward through the neural network only ONCE\n",
        "\n",
        "  - 모델을 만들 때 적절한 epoch 값을 설정해야만 underfitting과 overfitting을 방지할 수 있다\n",
        "\n",
        "  - epoch 값이 너무 작다면 underfitting이 너무 크다면 overfitting이 발생할 확률이 높음\n",
        "\n",
        "- **batch size**\n",
        "\n",
        "  - Total number of training examples present in a single batch.\n",
        "  - batch size는 한 번의 batch마다 주는 데이터 샘플의 size. 여기서 batch(보통 mini-batch라고 표현)는 나눠진 데이터 셋을 의미\n",
        "  - 메모리의 한계와 속도 저하 때문에 대부분의 경우 한 번의 epoch에 모든 데이터를 집어넣을 수는 없다. 그래서 데이터를 나누어서 주게 되는데 이때 몇 번 나누어서 주는가를 iteration, 각 iteration마다 주는 데이터 사이즈를 batch size라고 한다.\n",
        "\n",
        " <img src = \"https://mblogthumb-phinf.pstatic.net/MjAxOTAxMjNfMjU4/MDAxNTQ4MjM1Nzg3NTA2.UtvnGsckZhLHOPPOBWH841IWsZFzNcgwZvYKi2nxImEg.CdtqIxOjWeBo4eNBD2pXu5uwYGa3ZVUr8WZvtldArtYg.PNG.qbxlvnf11/20190123_182720.png?type=w800\">\n",
        "\n"
      ]
    }
  ]
}