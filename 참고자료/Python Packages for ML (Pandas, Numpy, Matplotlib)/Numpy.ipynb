{
  "nbformat": 4,
  "nbformat_minor": 0,
  "metadata": {
    "kernelspec": {
      "display_name": "Python 2",
      "language": "python",
      "name": "python2"
    },
    "language_info": {
      "codemirror_mode": {
        "name": "ipython",
        "version": 2
      },
      "file_extension": ".py",
      "mimetype": "text/x-python",
      "name": "python",
      "nbconvert_exporter": "python",
      "pygments_lexer": "ipython2",
      "version": "2.7.10"
    },
    "colab": {
      "name": "Intro to Numpy.ipynb",
      "provenance": []
    }
  },
  "cells": [
    {
      "cell_type": "code",
      "metadata": {
        "colab": {
          "base_uri": "https://localhost:8080/"
        },
        "id": "nCFVOHQUdpYp",
        "outputId": "406bd21c-cfc0-41e8-aa82-b1122885e51c"
      },
      "source": [
        "# Git Clone\n",
        "\n",
        "!git clone https://github.com/sangsin/Introduction-to-Deep-Learning-with-Tensorflow-2.0-and-Keras.git"
      ],
      "execution_count": 1,
      "outputs": [
        {
          "output_type": "stream",
          "text": [
            "fatal: destination path 'Introduction-to-Deep-Learning-with-Tensorflow-2.0-and-Keras' already exists and is not an empty directory.\n"
          ],
          "name": "stdout"
        }
      ]
    },
    {
      "cell_type": "markdown",
      "metadata": {
        "id": "TUCzUY4cePf3"
      },
      "source": [
        "# Numpy -  multidimensional data arrays"
      ]
    },
    {
      "cell_type": "markdown",
      "metadata": {
        "id": "DYuXHLHSePf5"
      },
      "source": [
        "J.R. Johansson (jrjohansson at gmail.com)\n",
        "\n",
        "The latest version of this [IPython notebook](http://ipython.org/notebook.html) lecture is available at [http://github.com/jrjohansson/scientific-python-lectures](http://github.com/jrjohansson/scientific-python-lectures).\n",
        "\n",
        "The other notebooks in this lecture series are indexed at [http://jrjohansson.github.io](http://jrjohansson.github.io)."
      ]
    },
    {
      "cell_type": "code",
      "metadata": {
        "id": "w3cGn2SXePf5"
      },
      "source": [
        "# what is this line all about?!? Answer in lecture 4\n",
        "%matplotlib inline\n",
        "import matplotlib.pyplot as plt"
      ],
      "execution_count": 2,
      "outputs": []
    },
    {
      "cell_type": "markdown",
      "metadata": {
        "id": "kwRyx5SUePf6"
      },
      "source": [
        "## Introduction"
      ]
    },
    {
      "cell_type": "markdown",
      "metadata": {
        "id": "eR58IR7rePf6"
      },
      "source": [
        "The `numpy` package (module) is used in almost all numerical computation using Python. It is __a package that provide high-performance vector, matrix and higher-dimensional data structures for Python. It is implemented in C and Fortran so when calculations are vectorized (formulated with vectors and matrices), performance is very good.__ \n",
        "\n"
      ]
    },
    {
      "cell_type": "markdown",
      "metadata": {
        "id": "CuJ1oYYBsVav"
      },
      "source": [
        "### import numpy as np versus from numpy import *"
      ]
    },
    {
      "cell_type": "code",
      "metadata": {
        "id": "zYLHS8MNePf6",
        "colab": {
          "base_uri": "https://localhost:8080/"
        },
        "outputId": "224cfa2c-0b80-49eb-c79e-f35250d4e15e"
      },
      "source": [
        "import timeit\n",
        "\n",
        "setup = '''from numpy import array, sum'''\n",
        "function = 'x = sum(array([1,2,3,4,5,6,7,8,9,10]))'\n",
        "print(min(timeit.Timer(function, setup=setup).repeat(10, 300000)))\n",
        "\n"
      ],
      "execution_count": 3,
      "outputs": [
        {
          "output_type": "stream",
          "text": [
            "1.31129813194\n"
          ],
          "name": "stdout"
        }
      ]
    },
    {
      "cell_type": "code",
      "metadata": {
        "colab": {
          "base_uri": "https://localhost:8080/"
        },
        "id": "L_3qL-ANtMUD",
        "outputId": "2ba4d98d-87d5-4a53-dbf6-89b629a8a8d6"
      },
      "source": [
        "setup = '''import numpy as np'''\n",
        "function = 'x = np.sum(np.array([1,2,3,4,5,6,7,8,9,10]))'\n",
        "print(min(timeit.Timer(function, setup=setup).repeat(10, 300000)))"
      ],
      "execution_count": 4,
      "outputs": [
        {
          "output_type": "stream",
          "text": [
            "1.3538608551\n"
          ],
          "name": "stdout"
        }
      ]
    },
    {
      "cell_type": "markdown",
      "metadata": {
        "id": "XAdUR7mMu22M"
      },
      "source": [
        "__It is better to keep the namespace clean.__\n",
        "\n",
        "    > import numpy as np\n",
        "\n",
        "  - It keeps your code more readable\n",
        "  - Many of the numpy functions have identical names as functions in other modules like scipy... "
      ]
    },
    {
      "cell_type": "markdown",
      "metadata": {
        "id": "zD6Q0EENePf6"
      },
      "source": [
        "In the `numpy` package the terminology used for vectors, matrices and higher-dimensional data sets is *array*. \n",
        "\n"
      ]
    },
    {
      "cell_type": "code",
      "metadata": {
        "id": "xPVpOtzAvpI6"
      },
      "source": [
        "from numpy import *"
      ],
      "execution_count": 5,
      "outputs": []
    },
    {
      "cell_type": "markdown",
      "metadata": {
        "id": "Qz-8ACqDePf6"
      },
      "source": [
        "## Creating `numpy` arrays"
      ]
    },
    {
      "cell_type": "markdown",
      "metadata": {
        "id": "AludZFZBePf7"
      },
      "source": [
        "There are a number of ways to initialize new numpy arrays, for example from\n",
        "\n",
        "* a Python list or tuples\n",
        "* using functions that are dedicated to generating numpy arrays, such as `arange`, `linspace`, etc.\n",
        "* reading data from files"
      ]
    },
    {
      "cell_type": "markdown",
      "metadata": {
        "id": "nEUhKgOFePf7"
      },
      "source": [
        "### From lists"
      ]
    },
    {
      "cell_type": "markdown",
      "metadata": {
        "id": "A14hLArIePf7"
      },
      "source": [
        "For example, to create new vector and matrix arrays from Python lists we can use the `numpy.array` function."
      ]
    },
    {
      "cell_type": "code",
      "metadata": {
        "colab": {
          "base_uri": "https://localhost:8080/"
        },
        "id": "9q3FmlH4ePf7",
        "outputId": "e6647ea3-c476-418f-b97c-9e3bc0ad0633"
      },
      "source": [
        "# a vector: the argument to the array function is a Python list\n",
        "v = array([1,2,3,4])\n",
        "v"
      ],
      "execution_count": 6,
      "outputs": [
        {
          "output_type": "execute_result",
          "data": {
            "text/plain": [
              "array([1, 2, 3, 4])"
            ]
          },
          "metadata": {
            "tags": []
          },
          "execution_count": 6
        }
      ]
    },
    {
      "cell_type": "markdown",
      "metadata": {
        "id": "vCsf8Txfw55u"
      },
      "source": [
        "Using the `dtype` (data type) property of an `ndarray`, we can see what type the data of an array has:"
      ]
    },
    {
      "cell_type": "code",
      "metadata": {
        "colab": {
          "base_uri": "https://localhost:8080/"
        },
        "id": "ZTL39PolePf8",
        "outputId": "927bbee7-f447-4731-e0ee-a374bf5206d2"
      },
      "source": [
        "# a matrix: the argument to the array function is a nested Python list\n",
        "M = array([[1, 2], [3, 4]])\n",
        "M, M.dtype"
      ],
      "execution_count": 7,
      "outputs": [
        {
          "output_type": "execute_result",
          "data": {
            "text/plain": [
              "(array([[1, 2],\n",
              "        [3, 4]]), dtype('int64'))"
            ]
          },
          "metadata": {
            "tags": []
          },
          "execution_count": 7
        }
      ]
    },
    {
      "cell_type": "code",
      "metadata": {
        "colab": {
          "base_uri": "https://localhost:8080/"
        },
        "id": "xuur4jdjwZAi",
        "outputId": "849acdea-8bef-480f-a3cb-b0a124d7d6e0"
      },
      "source": [
        "# a matrix: the argument to the array function is a nested Python list\n",
        "M = array([[1, 2], [3, 4]], dtype=float32)\n",
        "M, M.dtype"
      ],
      "execution_count": 8,
      "outputs": [
        {
          "output_type": "execute_result",
          "data": {
            "text/plain": [
              "(array([[1., 2.],\n",
              "        [3., 4.]], dtype=float32), dtype('float32'))"
            ]
          },
          "metadata": {
            "tags": []
          },
          "execution_count": 8
        }
      ]
    },
    {
      "cell_type": "markdown",
      "metadata": {
        "id": "yEvwS4hrePf8"
      },
      "source": [
        "The `v` and `M` objects are both of the type `ndarray` that the `numpy` module provides."
      ]
    },
    {
      "cell_type": "code",
      "metadata": {
        "colab": {
          "base_uri": "https://localhost:8080/"
        },
        "id": "WWG8jljvePf8",
        "outputId": "e78ed315-e748-4e80-ad73-6fb6b9bbbfad"
      },
      "source": [
        "type(v), type(M)"
      ],
      "execution_count": 9,
      "outputs": [
        {
          "output_type": "execute_result",
          "data": {
            "text/plain": [
              "(numpy.ndarray, numpy.ndarray)"
            ]
          },
          "metadata": {
            "tags": []
          },
          "execution_count": 9
        }
      ]
    },
    {
      "cell_type": "markdown",
      "metadata": {
        "id": "1M4WOgeyePf8"
      },
      "source": [
        "- We can get information about the shape of an array by using the `ndarray.shape` property.\n",
        "\n",
        "- The number of elements in the array is available through the `ndarray.size` property:\n",
        "\n",
        "- The rank (number of column dimension) of an array is available through the `ndarray.ndim` property:"
      ]
    },
    {
      "cell_type": "code",
      "metadata": {
        "colab": {
          "base_uri": "https://localhost:8080/"
        },
        "id": "3xCgUd0XePf8",
        "outputId": "16ce3e3f-518f-4167-e16f-f74666f4d35d"
      },
      "source": [
        "v.shape, v.size, v.ndim"
      ],
      "execution_count": 10,
      "outputs": [
        {
          "output_type": "execute_result",
          "data": {
            "text/plain": [
              "((4,), 4, 1)"
            ]
          },
          "metadata": {
            "tags": []
          },
          "execution_count": 10
        }
      ]
    },
    {
      "cell_type": "markdown",
      "metadata": {
        "id": "9SFiNFBHePf9"
      },
      "source": [
        "Equivalently, we could use the function `numpy.shape` and `numpy.size`"
      ]
    },
    {
      "cell_type": "code",
      "metadata": {
        "colab": {
          "base_uri": "https://localhost:8080/"
        },
        "id": "Iy-oNkpwePf8",
        "outputId": "a895f71c-6c67-42e5-9696-f9b9868f99b7"
      },
      "source": [
        "shape(v), size(v), ndim(v)"
      ],
      "execution_count": 11,
      "outputs": [
        {
          "output_type": "execute_result",
          "data": {
            "text/plain": [
              "((4,), 4, 1)"
            ]
          },
          "metadata": {
            "tags": []
          },
          "execution_count": 11
        }
      ]
    },
    {
      "cell_type": "markdown",
      "metadata": {
        "id": "BkLvOYewePf9"
      },
      "source": [
        "The number of elements in the array is available through the `ndarray.size` property:"
      ]
    },
    {
      "cell_type": "code",
      "metadata": {
        "colab": {
          "base_uri": "https://localhost:8080/"
        },
        "id": "r5op5UjUePf9",
        "outputId": "3ecface4-e617-46e8-e91b-e7f0bc2e05a3"
      },
      "source": [
        "M.shape, M.size, M.ndim"
      ],
      "execution_count": 12,
      "outputs": [
        {
          "output_type": "execute_result",
          "data": {
            "text/plain": [
              "((2, 2), 4, 2)"
            ]
          },
          "metadata": {
            "tags": []
          },
          "execution_count": 12
        }
      ]
    },
    {
      "cell_type": "code",
      "metadata": {
        "colab": {
          "base_uri": "https://localhost:8080/"
        },
        "id": "PbuOzXjAePf9",
        "outputId": "ec512bbd-5f79-418a-8e7a-45598e94b841"
      },
      "source": [
        "shape(M), size(M), ndim(M)"
      ],
      "execution_count": 13,
      "outputs": [
        {
          "output_type": "execute_result",
          "data": {
            "text/plain": [
              "((2, 2), 4, 2)"
            ]
          },
          "metadata": {
            "tags": []
          },
          "execution_count": 13
        }
      ]
    },
    {
      "cell_type": "markdown",
      "metadata": {
        "id": "rTkXoEsfePf9"
      },
      "source": [
        "So far the `numpy.ndarray` looks awefully much like a Python list (or nested list). Why not simply use Python lists for computations instead of creating a new array type? \n",
        "\n",
        "There are several reasons:\n",
        "\n",
        "* Python lists are very general. They can contain any kind of object. They are dynamically typed. They do not support mathematical functions such as matrix and dot multiplications, etc. Implementing such functions for Python lists would not be very efficient because of the dynamic typing.\n",
        "* Numpy arrays are **statically typed** and **homogeneous**. The type of the elements is determined when the array is created.\n",
        "* Numpy arrays are memory efficient.\n",
        "* Because of the static typing, fast implementation of mathematical functions such as multiplication and addition of `numpy` arrays can be implemented in a compiled language (C and Fortran is used).\n",
        "\n"
      ]
    },
    {
      "cell_type": "markdown",
      "metadata": {
        "id": "-ZeQAxyBePf-"
      },
      "source": [
        "We get an error if we try to assign a value of the wrong type to an element in a numpy array:"
      ]
    },
    {
      "cell_type": "code",
      "metadata": {
        "id": "30k14NymePf-"
      },
      "source": [
        "%%script false \n",
        "M[0,0] = \"hello\""
      ],
      "execution_count": 14,
      "outputs": []
    },
    {
      "cell_type": "markdown",
      "metadata": {
        "id": "IaU5ZnepePf-"
      },
      "source": [
        "If we want, we can explicitly define the type of the array data when we create it, using the `dtype` keyword argument: "
      ]
    },
    {
      "cell_type": "code",
      "metadata": {
        "id": "sjeuw2wvePf-",
        "colab": {
          "base_uri": "https://localhost:8080/"
        },
        "outputId": "21e70a83-1509-463b-c2fa-68f0cc2845ce"
      },
      "source": [
        "M = array([[1, 2], [3, 4]], dtype=complex)\n",
        "\n",
        "M"
      ],
      "execution_count": 15,
      "outputs": [
        {
          "output_type": "execute_result",
          "data": {
            "text/plain": [
              "array([[1.+0.j, 2.+0.j],\n",
              "       [3.+0.j, 4.+0.j]])"
            ]
          },
          "metadata": {
            "tags": []
          },
          "execution_count": 15
        }
      ]
    },
    {
      "cell_type": "markdown",
      "metadata": {
        "id": "V-aaAGjaePf-"
      },
      "source": [
        "Common data types that can be used with `dtype` are: `int`, `float`, `complex`, `bool`, `object`, etc.\n",
        "\n",
        "We can also explicitly define the bit size of the data types, for example: `int64`, `int16`, `float128`, `complex128`."
      ]
    },
    {
      "cell_type": "markdown",
      "metadata": {
        "id": "7k1x6ly7ePf-"
      },
      "source": [
        "### Using array-generating functions"
      ]
    },
    {
      "cell_type": "markdown",
      "metadata": {
        "id": "y4vL_9TRePf_"
      },
      "source": [
        "For larger arrays it is inpractical to initialize the data manually, using explicit python lists. Instead we can use one of the many functions in `numpy` that generate arrays of different forms. Some of the more common are:"
      ]
    },
    {
      "cell_type": "markdown",
      "metadata": {
        "id": "lEgdAaPJePf_"
      },
      "source": [
        "#### arange"
      ]
    },
    {
      "cell_type": "code",
      "metadata": {
        "colab": {
          "base_uri": "https://localhost:8080/"
        },
        "id": "jnpDcmSrePf_",
        "outputId": "fddafe24-efe7-4c0b-fcbb-d90b401463af"
      },
      "source": [
        "# create a range\n",
        "\n",
        "x = arange(0, 10, 1) # arguments: start, stop, step\n",
        "\n",
        "x"
      ],
      "execution_count": 16,
      "outputs": [
        {
          "output_type": "execute_result",
          "data": {
            "text/plain": [
              "array([0, 1, 2, 3, 4, 5, 6, 7, 8, 9])"
            ]
          },
          "metadata": {
            "tags": []
          },
          "execution_count": 16
        }
      ]
    },
    {
      "cell_type": "code",
      "metadata": {
        "colab": {
          "base_uri": "https://localhost:8080/"
        },
        "id": "oNgKXd8BePf_",
        "outputId": "bd1b4b67-68a8-4ab7-8181-d3b0389b6ab3"
      },
      "source": [
        "x = arange(-1, 1, 0.1)\n",
        "x, x.size\n"
      ],
      "execution_count": 17,
      "outputs": [
        {
          "output_type": "execute_result",
          "data": {
            "text/plain": [
              "(array([-1.00000000e+00, -9.00000000e-01, -8.00000000e-01, -7.00000000e-01,\n",
              "        -6.00000000e-01, -5.00000000e-01, -4.00000000e-01, -3.00000000e-01,\n",
              "        -2.00000000e-01, -1.00000000e-01, -2.22044605e-16,  1.00000000e-01,\n",
              "         2.00000000e-01,  3.00000000e-01,  4.00000000e-01,  5.00000000e-01,\n",
              "         6.00000000e-01,  7.00000000e-01,  8.00000000e-01,  9.00000000e-01]),\n",
              " 20)"
            ]
          },
          "metadata": {
            "tags": []
          },
          "execution_count": 17
        }
      ]
    },
    {
      "cell_type": "markdown",
      "metadata": {
        "id": "YP5IsZ5sePf_"
      },
      "source": [
        "#### linspace\n"
      ]
    },
    {
      "cell_type": "code",
      "metadata": {
        "colab": {
          "base_uri": "https://localhost:8080/"
        },
        "id": "nABLoDvqePf_",
        "outputId": "f7eb4f93-9245-4ff0-c2d5-00a5dd937216"
      },
      "source": [
        "# using linspace, both end points ARE included\n",
        "linspace(0, 10, 25)"
      ],
      "execution_count": 18,
      "outputs": [
        {
          "output_type": "execute_result",
          "data": {
            "text/plain": [
              "array([ 0.        ,  0.41666667,  0.83333333,  1.25      ,  1.66666667,\n",
              "        2.08333333,  2.5       ,  2.91666667,  3.33333333,  3.75      ,\n",
              "        4.16666667,  4.58333333,  5.        ,  5.41666667,  5.83333333,\n",
              "        6.25      ,  6.66666667,  7.08333333,  7.5       ,  7.91666667,\n",
              "        8.33333333,  8.75      ,  9.16666667,  9.58333333, 10.        ])"
            ]
          },
          "metadata": {
            "tags": []
          },
          "execution_count": 18
        }
      ]
    },
    {
      "cell_type": "markdown",
      "metadata": {
        "id": "BxbqUOvhePgA"
      },
      "source": [
        "#### random data"
      ]
    },
    {
      "cell_type": "code",
      "metadata": {
        "id": "n0p0P_JgePgA"
      },
      "source": [
        "from numpy import random"
      ],
      "execution_count": 19,
      "outputs": []
    },
    {
      "cell_type": "code",
      "metadata": {
        "colab": {
          "base_uri": "https://localhost:8080/"
        },
        "id": "OpqAKnsGePgA",
        "outputId": "222b2d25-5e24-489e-8c9d-504c0f4d273a"
      },
      "source": [
        "# uniform random numbers in [0,1]\n",
        "random.rand(5,5)"
      ],
      "execution_count": 20,
      "outputs": [
        {
          "output_type": "execute_result",
          "data": {
            "text/plain": [
              "array([[0.87870977, 0.4776995 , 0.47220609, 0.97199602, 0.95696743],\n",
              "       [0.13484319, 0.90527122, 0.62255121, 0.57108612, 0.48140987],\n",
              "       [0.08138193, 0.84796418, 0.66271703, 0.03791886, 0.25027376],\n",
              "       [0.54161905, 0.32592937, 0.33936894, 0.65258804, 0.34975407],\n",
              "       [0.82846145, 0.96237592, 0.1796525 , 0.06248324, 0.07164954]])"
            ]
          },
          "metadata": {
            "tags": []
          },
          "execution_count": 20
        }
      ]
    },
    {
      "cell_type": "code",
      "metadata": {
        "colab": {
          "base_uri": "https://localhost:8080/"
        },
        "id": "YK6KsTqtePgA",
        "outputId": "ab156748-6ed6-41c3-f210-3111c38e44b8"
      },
      "source": [
        "# standard normal distributed random numbers\n",
        "random.randn(5,5)"
      ],
      "execution_count": 21,
      "outputs": [
        {
          "output_type": "execute_result",
          "data": {
            "text/plain": [
              "array([[ 3.69415068e-01,  1.10694161e+00, -2.36278173e-01,\n",
              "        -1.02106206e+00, -8.75713148e-01],\n",
              "       [-1.73167583e+00, -2.27151072e-01,  3.37456221e-01,\n",
              "        -1.30661121e-03,  1.12823348e+00],\n",
              "       [ 6.82521287e-01,  4.72674444e-01,  4.75187489e-01,\n",
              "         3.82193398e-01, -1.21693937e+00],\n",
              "       [ 4.31287858e-01, -8.11244300e-01,  9.92496057e-01,\n",
              "        -1.04281398e+00, -1.82485204e-01],\n",
              "       [-6.02191348e-01, -1.07513011e+00,  2.04605244e-01,\n",
              "         1.32503435e+00, -4.25558008e-01]])"
            ]
          },
          "metadata": {
            "tags": []
          },
          "execution_count": 21
        }
      ]
    },
    {
      "cell_type": "markdown",
      "metadata": {
        "id": "JyCPV2B44382"
      },
      "source": [
        "__참고:__[정규 분포](https://ko.wikipedia.org/wiki/%EC%A0%95%EA%B7%9C_%EB%B6%84%ED%8F%AC)"
      ]
    },
    {
      "cell_type": "markdown",
      "metadata": {
        "id": "QGKqtAmNePgA"
      },
      "source": [
        "#### diag"
      ]
    },
    {
      "cell_type": "code",
      "metadata": {
        "colab": {
          "base_uri": "https://localhost:8080/"
        },
        "id": "gaBwcaoGePgA",
        "outputId": "15818c08-8a76-4836-b735-b19c3d1a8791"
      },
      "source": [
        "# a diagonal matrix\n",
        "diag([1,2,3])"
      ],
      "execution_count": 22,
      "outputs": [
        {
          "output_type": "execute_result",
          "data": {
            "text/plain": [
              "array([[1, 0, 0],\n",
              "       [0, 2, 0],\n",
              "       [0, 0, 3]])"
            ]
          },
          "metadata": {
            "tags": []
          },
          "execution_count": 22
        }
      ]
    },
    {
      "cell_type": "markdown",
      "metadata": {
        "id": "mukntDSpePgB"
      },
      "source": [
        "#### zeros and ones"
      ]
    },
    {
      "cell_type": "code",
      "metadata": {
        "colab": {
          "base_uri": "https://localhost:8080/"
        },
        "id": "oSV416B7ePgB",
        "outputId": "9067c153-b957-4595-fe8e-d92c234c749e"
      },
      "source": [
        "zeros((3,3))"
      ],
      "execution_count": 23,
      "outputs": [
        {
          "output_type": "execute_result",
          "data": {
            "text/plain": [
              "array([[0., 0., 0.],\n",
              "       [0., 0., 0.],\n",
              "       [0., 0., 0.]])"
            ]
          },
          "metadata": {
            "tags": []
          },
          "execution_count": 23
        }
      ]
    },
    {
      "cell_type": "code",
      "metadata": {
        "colab": {
          "base_uri": "https://localhost:8080/"
        },
        "id": "4dkldV1oePgB",
        "outputId": "056d666d-e58e-45d3-88b8-6d60c2ebf020"
      },
      "source": [
        "ones((3,3))"
      ],
      "execution_count": 24,
      "outputs": [
        {
          "output_type": "execute_result",
          "data": {
            "text/plain": [
              "array([[1., 1., 1.],\n",
              "       [1., 1., 1.],\n",
              "       [1., 1., 1.]])"
            ]
          },
          "metadata": {
            "tags": []
          },
          "execution_count": 24
        }
      ]
    },
    {
      "cell_type": "markdown",
      "metadata": {
        "id": "mujilvNvePgD"
      },
      "source": [
        "## More properties of the numpy arrays"
      ]
    },
    {
      "cell_type": "code",
      "metadata": {
        "id": "I2JOPZ4cePgD",
        "colab": {
          "base_uri": "https://localhost:8080/"
        },
        "outputId": "39f1a0cf-1310-42d8-add1-1d8b49d9adeb"
      },
      "source": [
        "M.itemsize # bytes per element"
      ],
      "execution_count": 25,
      "outputs": [
        {
          "output_type": "execute_result",
          "data": {
            "text/plain": [
              "16"
            ]
          },
          "metadata": {
            "tags": []
          },
          "execution_count": 25
        }
      ]
    },
    {
      "cell_type": "code",
      "metadata": {
        "id": "SM1LNGkWePgD",
        "colab": {
          "base_uri": "https://localhost:8080/"
        },
        "outputId": "474b1f78-8019-47c5-9136-d88473354e95"
      },
      "source": [
        "M.nbytes # number of bytes"
      ],
      "execution_count": 26,
      "outputs": [
        {
          "output_type": "execute_result",
          "data": {
            "text/plain": [
              "64"
            ]
          },
          "metadata": {
            "tags": []
          },
          "execution_count": 26
        }
      ]
    },
    {
      "cell_type": "markdown",
      "metadata": {
        "id": "fmoow9ouePgD"
      },
      "source": [
        "## Manipulating arrays"
      ]
    },
    {
      "cell_type": "code",
      "metadata": {
        "colab": {
          "base_uri": "https://localhost:8080/"
        },
        "id": "H-gAG0pjABX6",
        "outputId": "7cddfe7b-7aff-4f03-9351-21ef70b8c51f"
      },
      "source": [
        "M = arange(0, 9, 1)\n",
        "M = M.reshape((3,3))\n",
        "M"
      ],
      "execution_count": 27,
      "outputs": [
        {
          "output_type": "execute_result",
          "data": {
            "text/plain": [
              "array([[0, 1, 2],\n",
              "       [3, 4, 5],\n",
              "       [6, 7, 8]])"
            ]
          },
          "metadata": {
            "tags": []
          },
          "execution_count": 27
        }
      ]
    },
    {
      "cell_type": "markdown",
      "metadata": {
        "id": "OrotU2o3ePgE"
      },
      "source": [
        "### Indexing"
      ]
    },
    {
      "cell_type": "markdown",
      "metadata": {
        "id": "Akrpw7OOePgE"
      },
      "source": [
        "We can index elements in an array using square brackets and indices:"
      ]
    },
    {
      "cell_type": "code",
      "metadata": {
        "id": "rnbzCnHoePgE",
        "colab": {
          "base_uri": "https://localhost:8080/"
        },
        "outputId": "46a58d1e-c70f-4fa2-b7ea-74681fa84842"
      },
      "source": [
        "# v is a vector, and has only one dimension, taking one index\n",
        "v[0]"
      ],
      "execution_count": 28,
      "outputs": [
        {
          "output_type": "execute_result",
          "data": {
            "text/plain": [
              "1"
            ]
          },
          "metadata": {
            "tags": []
          },
          "execution_count": 28
        }
      ]
    },
    {
      "cell_type": "code",
      "metadata": {
        "id": "_zKrRajNePgE",
        "colab": {
          "base_uri": "https://localhost:8080/"
        },
        "outputId": "45301375-9f35-4203-b03e-7fd6914aa2a4"
      },
      "source": [
        "# M is a matrix, or a 2 dimensional array, taking two indices \n",
        "M[1,1]"
      ],
      "execution_count": 29,
      "outputs": [
        {
          "output_type": "execute_result",
          "data": {
            "text/plain": [
              "4"
            ]
          },
          "metadata": {
            "tags": []
          },
          "execution_count": 29
        }
      ]
    },
    {
      "cell_type": "markdown",
      "metadata": {
        "id": "s0ig_trVePgE"
      },
      "source": [
        "If we omit an index of a multidimensional array it returns the whole row (or, in general, a N-1 dimensional array) "
      ]
    },
    {
      "cell_type": "code",
      "metadata": {
        "id": "WrihXU6MePgE",
        "colab": {
          "base_uri": "https://localhost:8080/"
        },
        "outputId": "c25652c9-7586-427a-b1b9-f0ee752b06b2"
      },
      "source": [
        "M"
      ],
      "execution_count": 30,
      "outputs": [
        {
          "output_type": "execute_result",
          "data": {
            "text/plain": [
              "array([[0, 1, 2],\n",
              "       [3, 4, 5],\n",
              "       [6, 7, 8]])"
            ]
          },
          "metadata": {
            "tags": []
          },
          "execution_count": 30
        }
      ]
    },
    {
      "cell_type": "code",
      "metadata": {
        "id": "73hxKiAHePgE",
        "colab": {
          "base_uri": "https://localhost:8080/"
        },
        "outputId": "e5df61a0-da29-4437-a8d0-6fcd4b309710"
      },
      "source": [
        "M[1]"
      ],
      "execution_count": 31,
      "outputs": [
        {
          "output_type": "execute_result",
          "data": {
            "text/plain": [
              "array([3, 4, 5])"
            ]
          },
          "metadata": {
            "tags": []
          },
          "execution_count": 31
        }
      ]
    },
    {
      "cell_type": "markdown",
      "metadata": {
        "id": "j7Rg0-6pePgF"
      },
      "source": [
        "The same thing can be achieved with using `:` instead of an index: "
      ]
    },
    {
      "cell_type": "code",
      "metadata": {
        "id": "0LlcrfnPePgF",
        "colab": {
          "base_uri": "https://localhost:8080/"
        },
        "outputId": "7cc52125-a372-42de-bc63-c72abb714fd7"
      },
      "source": [
        "M[1,:] # row 1"
      ],
      "execution_count": 32,
      "outputs": [
        {
          "output_type": "execute_result",
          "data": {
            "text/plain": [
              "array([3, 4, 5])"
            ]
          },
          "metadata": {
            "tags": []
          },
          "execution_count": 32
        }
      ]
    },
    {
      "cell_type": "code",
      "metadata": {
        "id": "6tQpUBYIePgF",
        "colab": {
          "base_uri": "https://localhost:8080/"
        },
        "outputId": "136cbbee-39e7-470f-a173-f1b19bfde251"
      },
      "source": [
        "M[:,2] # column 1"
      ],
      "execution_count": 33,
      "outputs": [
        {
          "output_type": "execute_result",
          "data": {
            "text/plain": [
              "array([2, 5, 8])"
            ]
          },
          "metadata": {
            "tags": []
          },
          "execution_count": 33
        }
      ]
    },
    {
      "cell_type": "markdown",
      "metadata": {
        "id": "ZBIei90FePgF"
      },
      "source": [
        "We can assign new values to elements in an array using indexing:"
      ]
    },
    {
      "cell_type": "code",
      "metadata": {
        "id": "PyV315IdePgF",
        "colab": {
          "base_uri": "https://localhost:8080/"
        },
        "outputId": "062dd44e-e376-4117-e28c-1d40a1088bff"
      },
      "source": [
        "M[0,0] = 1\n",
        "M"
      ],
      "execution_count": 34,
      "outputs": [
        {
          "output_type": "execute_result",
          "data": {
            "text/plain": [
              "array([[1, 1, 2],\n",
              "       [3, 4, 5],\n",
              "       [6, 7, 8]])"
            ]
          },
          "metadata": {
            "tags": []
          },
          "execution_count": 34
        }
      ]
    },
    {
      "cell_type": "code",
      "metadata": {
        "id": "-Lj59lBbePgF"
      },
      "source": [
        "# also works for rows and columns\n",
        "M[1,:] = 0\n",
        "M[:,1] = -1"
      ],
      "execution_count": 35,
      "outputs": []
    },
    {
      "cell_type": "code",
      "metadata": {
        "id": "xtmnAQcGePgF",
        "colab": {
          "base_uri": "https://localhost:8080/"
        },
        "outputId": "39f68f6c-a579-4f2b-99b0-9f8d119c3ae2"
      },
      "source": [
        "M"
      ],
      "execution_count": 36,
      "outputs": [
        {
          "output_type": "execute_result",
          "data": {
            "text/plain": [
              "array([[ 1, -1,  2],\n",
              "       [ 0, -1,  0],\n",
              "       [ 6, -1,  8]])"
            ]
          },
          "metadata": {
            "tags": []
          },
          "execution_count": 36
        }
      ]
    },
    {
      "cell_type": "markdown",
      "metadata": {
        "id": "_rt40362ePgG"
      },
      "source": [
        "### Index slicing"
      ]
    },
    {
      "cell_type": "markdown",
      "metadata": {
        "id": "AxJ85pDcePgG"
      },
      "source": [
        "Index slicing is the technical name for the syntax `M[lower:upper:step]` to extract part of an array:"
      ]
    },
    {
      "cell_type": "code",
      "metadata": {
        "id": "LDsuxdl7ePgG",
        "colab": {
          "base_uri": "https://localhost:8080/"
        },
        "outputId": "5f74abfd-45e0-4bc1-ec73-980642b75419"
      },
      "source": [
        "A = array([1,2,3,4,5])\n",
        "A"
      ],
      "execution_count": 37,
      "outputs": [
        {
          "output_type": "execute_result",
          "data": {
            "text/plain": [
              "array([1, 2, 3, 4, 5])"
            ]
          },
          "metadata": {
            "tags": []
          },
          "execution_count": 37
        }
      ]
    },
    {
      "cell_type": "code",
      "metadata": {
        "id": "23EZs39fePgG",
        "colab": {
          "base_uri": "https://localhost:8080/"
        },
        "outputId": "58eaef6f-5b8e-46ea-bd92-05cef268f51f"
      },
      "source": [
        "A[1:3]"
      ],
      "execution_count": 38,
      "outputs": [
        {
          "output_type": "execute_result",
          "data": {
            "text/plain": [
              "array([2, 3])"
            ]
          },
          "metadata": {
            "tags": []
          },
          "execution_count": 38
        }
      ]
    },
    {
      "cell_type": "markdown",
      "metadata": {
        "id": "MEHcZLQuePgG"
      },
      "source": [
        "Array slices are *mutable*: if they are assigned a new value the original array from which the slice was extracted is modified:"
      ]
    },
    {
      "cell_type": "code",
      "metadata": {
        "id": "dX70xzdqePgG",
        "colab": {
          "base_uri": "https://localhost:8080/"
        },
        "outputId": "79e243e2-99c8-4fd7-8ca9-1784781aae30"
      },
      "source": [
        "A[1:3] = [-2,-3]\n",
        "\n",
        "A"
      ],
      "execution_count": 39,
      "outputs": [
        {
          "output_type": "execute_result",
          "data": {
            "text/plain": [
              "array([ 1, -2, -3,  4,  5])"
            ]
          },
          "metadata": {
            "tags": []
          },
          "execution_count": 39
        }
      ]
    },
    {
      "cell_type": "markdown",
      "metadata": {
        "id": "-Mgds_xYePgG"
      },
      "source": [
        "We can omit any of the three parameters in `M[lower:upper:step]`:"
      ]
    },
    {
      "cell_type": "code",
      "metadata": {
        "id": "nvmhFrhVePgG",
        "colab": {
          "base_uri": "https://localhost:8080/"
        },
        "outputId": "ea0124db-a63d-45af-ef9c-5aa71688f0de"
      },
      "source": [
        "A[::] # lower, upper, step all take the default values"
      ],
      "execution_count": 40,
      "outputs": [
        {
          "output_type": "execute_result",
          "data": {
            "text/plain": [
              "array([ 1, -2, -3,  4,  5])"
            ]
          },
          "metadata": {
            "tags": []
          },
          "execution_count": 40
        }
      ]
    },
    {
      "cell_type": "code",
      "metadata": {
        "id": "ZOxET_caePgG",
        "colab": {
          "base_uri": "https://localhost:8080/"
        },
        "outputId": "e0485e86-1dfa-4766-8e50-1e31406b7a2b"
      },
      "source": [
        "A[::2] # step is 2, lower and upper defaults to the beginning and end of the array"
      ],
      "execution_count": 41,
      "outputs": [
        {
          "output_type": "execute_result",
          "data": {
            "text/plain": [
              "array([ 1, -3,  5])"
            ]
          },
          "metadata": {
            "tags": []
          },
          "execution_count": 41
        }
      ]
    },
    {
      "cell_type": "code",
      "metadata": {
        "id": "CzpRoG-7ePgH",
        "colab": {
          "base_uri": "https://localhost:8080/"
        },
        "outputId": "66290818-02a1-4cc2-a63b-559fb1b6b98c"
      },
      "source": [
        "A[:3] # first three elements"
      ],
      "execution_count": 42,
      "outputs": [
        {
          "output_type": "execute_result",
          "data": {
            "text/plain": [
              "array([ 1, -2, -3])"
            ]
          },
          "metadata": {
            "tags": []
          },
          "execution_count": 42
        }
      ]
    },
    {
      "cell_type": "code",
      "metadata": {
        "id": "dkOFfOrzePgH",
        "colab": {
          "base_uri": "https://localhost:8080/"
        },
        "outputId": "2562a654-d332-44b8-84e5-7a28acfe6213"
      },
      "source": [
        "A[3:] # elements from index 3"
      ],
      "execution_count": 43,
      "outputs": [
        {
          "output_type": "execute_result",
          "data": {
            "text/plain": [
              "array([4, 5])"
            ]
          },
          "metadata": {
            "tags": []
          },
          "execution_count": 43
        }
      ]
    },
    {
      "cell_type": "markdown",
      "metadata": {
        "id": "XhZaGSidePgH"
      },
      "source": [
        "Negative indices counts from the end of the array (positive index from the begining):"
      ]
    },
    {
      "cell_type": "code",
      "metadata": {
        "id": "VGOe1QX1ePgH"
      },
      "source": [
        "A = array([1,2,3,4,5])"
      ],
      "execution_count": 44,
      "outputs": []
    },
    {
      "cell_type": "code",
      "metadata": {
        "id": "lRP-99zUePgH",
        "colab": {
          "base_uri": "https://localhost:8080/"
        },
        "outputId": "93f086ef-72a8-45da-9bc7-5a0829748e0c"
      },
      "source": [
        "A[-1] # the last element in the array"
      ],
      "execution_count": 45,
      "outputs": [
        {
          "output_type": "execute_result",
          "data": {
            "text/plain": [
              "5"
            ]
          },
          "metadata": {
            "tags": []
          },
          "execution_count": 45
        }
      ]
    },
    {
      "cell_type": "code",
      "metadata": {
        "id": "gWQ2GFQQePgH",
        "colab": {
          "base_uri": "https://localhost:8080/"
        },
        "outputId": "9405cf56-1ef6-4813-c54e-0bb3f20e6c7c"
      },
      "source": [
        "A[-3:] # the last three elements"
      ],
      "execution_count": 46,
      "outputs": [
        {
          "output_type": "execute_result",
          "data": {
            "text/plain": [
              "array([3, 4, 5])"
            ]
          },
          "metadata": {
            "tags": []
          },
          "execution_count": 46
        }
      ]
    },
    {
      "cell_type": "markdown",
      "metadata": {
        "id": "azpFrTQ0ePgH"
      },
      "source": [
        "Index slicing works exactly the same way for multidimensional arrays:"
      ]
    },
    {
      "cell_type": "code",
      "metadata": {
        "colab": {
          "base_uri": "https://localhost:8080/"
        },
        "id": "RvSPWJGsHVzS",
        "outputId": "78183008-9b90-4ff1-d74e-fca844e5d510"
      },
      "source": [
        "A_py = [[x * y for x in range(1, 10)] for y in range(1, 10)]\n",
        "A = array([[x * y for x in range(1, 10)] for y in range(1, 10)])\n",
        "type(A_py), type(A)\n"
      ],
      "execution_count": 47,
      "outputs": [
        {
          "output_type": "execute_result",
          "data": {
            "text/plain": [
              "(list, numpy.ndarray)"
            ]
          },
          "metadata": {
            "tags": []
          },
          "execution_count": 47
        }
      ]
    },
    {
      "cell_type": "code",
      "metadata": {
        "id": "Wo7ObCPtePgH",
        "colab": {
          "base_uri": "https://localhost:8080/"
        },
        "outputId": "f1d422ec-d276-418e-f797-ae83ea92e416"
      },
      "source": [
        "# a block from the original array\n",
        "A[1:4]"
      ],
      "execution_count": 48,
      "outputs": [
        {
          "output_type": "execute_result",
          "data": {
            "text/plain": [
              "array([[ 2,  4,  6,  8, 10, 12, 14, 16, 18],\n",
              "       [ 3,  6,  9, 12, 15, 18, 21, 24, 27],\n",
              "       [ 4,  8, 12, 16, 20, 24, 28, 32, 36]])"
            ]
          },
          "metadata": {
            "tags": []
          },
          "execution_count": 48
        }
      ]
    },
    {
      "cell_type": "code",
      "metadata": {
        "id": "WrgCh5VVePgI",
        "colab": {
          "base_uri": "https://localhost:8080/"
        },
        "outputId": "c2ffed7f-2a3a-4122-df4f-bd0313e06641"
      },
      "source": [
        "# strides\n",
        "A[0:2, 0:2]"
      ],
      "execution_count": 49,
      "outputs": [
        {
          "output_type": "execute_result",
          "data": {
            "text/plain": [
              "array([[1, 2],\n",
              "       [2, 4]])"
            ]
          },
          "metadata": {
            "tags": []
          },
          "execution_count": 49
        }
      ]
    },
    {
      "cell_type": "markdown",
      "metadata": {
        "id": "HBiOTLqVePgI"
      },
      "source": [
        "### Fancy indexing"
      ]
    },
    {
      "cell_type": "markdown",
      "metadata": {
        "id": "DBmICSEtePgI"
      },
      "source": [
        "Fancy indexing is the name for when an array or list is used in-place of an index: "
      ]
    },
    {
      "cell_type": "code",
      "metadata": {
        "id": "zCqxKr6HePgI",
        "colab": {
          "base_uri": "https://localhost:8080/"
        },
        "outputId": "bb61e0e6-8b5d-4b12-cd1a-50e6fac0b3d0"
      },
      "source": [
        "row_indices = [1, 2, 3]\n",
        "A[row_indices]"
      ],
      "execution_count": 50,
      "outputs": [
        {
          "output_type": "execute_result",
          "data": {
            "text/plain": [
              "array([[ 2,  4,  6,  8, 10, 12, 14, 16, 18],\n",
              "       [ 3,  6,  9, 12, 15, 18, 21, 24, 27],\n",
              "       [ 4,  8, 12, 16, 20, 24, 28, 32, 36]])"
            ]
          },
          "metadata": {
            "tags": []
          },
          "execution_count": 50
        }
      ]
    },
    {
      "cell_type": "code",
      "metadata": {
        "id": "ZuuuWrCmePgI",
        "colab": {
          "base_uri": "https://localhost:8080/"
        },
        "outputId": "025abfec-e765-46d1-f435-ec40b5222401"
      },
      "source": [
        "col_indices = [1, 2, -1] # remember, index -1 means the last element\n",
        "A[row_indices, col_indices]"
      ],
      "execution_count": 51,
      "outputs": [
        {
          "output_type": "execute_result",
          "data": {
            "text/plain": [
              "array([ 4,  9, 36])"
            ]
          },
          "metadata": {
            "tags": []
          },
          "execution_count": 51
        }
      ]
    },
    {
      "cell_type": "markdown",
      "metadata": {
        "id": "_jZER6mpePgI"
      },
      "source": [
        "We can also use index masks: If the index mask is an Numpy array of data type `bool`, then an element is selected (True) or not (False) depending on the value of the index mask at the position of each element: "
      ]
    },
    {
      "cell_type": "code",
      "metadata": {
        "id": "S_Bz-JZ-ePgI",
        "colab": {
          "base_uri": "https://localhost:8080/"
        },
        "outputId": "a31130ad-b8f7-4b59-c78a-548a05e08ae0"
      },
      "source": [
        "B = array([n for n in range(5)])\n",
        "B"
      ],
      "execution_count": 52,
      "outputs": [
        {
          "output_type": "execute_result",
          "data": {
            "text/plain": [
              "array([0, 1, 2, 3, 4])"
            ]
          },
          "metadata": {
            "tags": []
          },
          "execution_count": 52
        }
      ]
    },
    {
      "cell_type": "code",
      "metadata": {
        "id": "Kl0MYhVrePgI",
        "colab": {
          "base_uri": "https://localhost:8080/"
        },
        "outputId": "46b5478e-2a92-4403-f4d3-e1d89be8cd9a"
      },
      "source": [
        "row_mask = array([True, False, True, False, False])\n",
        "B[row_mask]"
      ],
      "execution_count": 53,
      "outputs": [
        {
          "output_type": "execute_result",
          "data": {
            "text/plain": [
              "array([0, 2])"
            ]
          },
          "metadata": {
            "tags": []
          },
          "execution_count": 53
        }
      ]
    },
    {
      "cell_type": "code",
      "metadata": {
        "id": "D0BETOFiePgJ",
        "colab": {
          "base_uri": "https://localhost:8080/"
        },
        "outputId": "49c1a85d-533d-4119-f48d-8e2202d18c63"
      },
      "source": [
        "# same thing\n",
        "row_mask = array([1,0,1,0,0], dtype=bool)\n",
        "B[row_mask]"
      ],
      "execution_count": 54,
      "outputs": [
        {
          "output_type": "execute_result",
          "data": {
            "text/plain": [
              "array([0, 2])"
            ]
          },
          "metadata": {
            "tags": []
          },
          "execution_count": 54
        }
      ]
    },
    {
      "cell_type": "markdown",
      "metadata": {
        "id": "ns5bM6G3ePgJ"
      },
      "source": [
        "This feature is very useful to conditionally select elements from an array, using for example comparison operators:"
      ]
    },
    {
      "cell_type": "code",
      "metadata": {
        "id": "orgxflrgePgJ",
        "colab": {
          "base_uri": "https://localhost:8080/"
        },
        "outputId": "5bafdfd3-3217-45db-dc66-2a495325507a"
      },
      "source": [
        "x = arange(0, 10, 0.5)\n",
        "x"
      ],
      "execution_count": 55,
      "outputs": [
        {
          "output_type": "execute_result",
          "data": {
            "text/plain": [
              "array([0. , 0.5, 1. , 1.5, 2. , 2.5, 3. , 3.5, 4. , 4.5, 5. , 5.5, 6. ,\n",
              "       6.5, 7. , 7.5, 8. , 8.5, 9. , 9.5])"
            ]
          },
          "metadata": {
            "tags": []
          },
          "execution_count": 55
        }
      ]
    },
    {
      "cell_type": "code",
      "metadata": {
        "id": "t79VXX6uePgJ",
        "colab": {
          "base_uri": "https://localhost:8080/"
        },
        "outputId": "650cbd8f-71f1-45ef-eac0-380b88ab613e"
      },
      "source": [
        "mask = (5 < x) * (x < 7)\n",
        "\n",
        "mask"
      ],
      "execution_count": 56,
      "outputs": [
        {
          "output_type": "execute_result",
          "data": {
            "text/plain": [
              "array([False, False, False, False, False, False, False, False, False,\n",
              "       False, False,  True,  True,  True, False, False, False, False,\n",
              "       False, False])"
            ]
          },
          "metadata": {
            "tags": []
          },
          "execution_count": 56
        }
      ]
    },
    {
      "cell_type": "code",
      "metadata": {
        "id": "o1w44WBSePgJ",
        "colab": {
          "base_uri": "https://localhost:8080/"
        },
        "outputId": "f96e81e3-3fe3-4eeb-db97-8c86c17f2f8e"
      },
      "source": [
        "x[mask]"
      ],
      "execution_count": 57,
      "outputs": [
        {
          "output_type": "execute_result",
          "data": {
            "text/plain": [
              "array([5.5, 6. , 6.5])"
            ]
          },
          "metadata": {
            "tags": []
          },
          "execution_count": 57
        }
      ]
    },
    {
      "cell_type": "markdown",
      "metadata": {
        "id": "fa0GZE2mePgJ"
      },
      "source": [
        "## Functions for extracting data from arrays and creating arrays"
      ]
    },
    {
      "cell_type": "markdown",
      "metadata": {
        "id": "BRNZXYVvePgJ"
      },
      "source": [
        "### where"
      ]
    },
    {
      "cell_type": "markdown",
      "metadata": {
        "id": "OsfVYqPmePgJ"
      },
      "source": [
        "The index mask can be converted to position index using the `where` function"
      ]
    },
    {
      "cell_type": "code",
      "metadata": {
        "id": "-CWkUq-yePgJ",
        "colab": {
          "base_uri": "https://localhost:8080/"
        },
        "outputId": "113a13ff-b187-4252-e6f5-312de71396ec"
      },
      "source": [
        "indices = where(mask)\n",
        "\n",
        "indices"
      ],
      "execution_count": 58,
      "outputs": [
        {
          "output_type": "execute_result",
          "data": {
            "text/plain": [
              "(array([11, 12, 13]),)"
            ]
          },
          "metadata": {
            "tags": []
          },
          "execution_count": 58
        }
      ]
    },
    {
      "cell_type": "code",
      "metadata": {
        "id": "jhbWRoyfePgK",
        "colab": {
          "base_uri": "https://localhost:8080/"
        },
        "outputId": "62cb0d0c-e707-4a19-c001-3f9a07a4b9cd"
      },
      "source": [
        "x[indices] # this indexing is equivalent to the fancy indexing x[mask]"
      ],
      "execution_count": 59,
      "outputs": [
        {
          "output_type": "execute_result",
          "data": {
            "text/plain": [
              "array([5.5, 6. , 6.5])"
            ]
          },
          "metadata": {
            "tags": []
          },
          "execution_count": 59
        }
      ]
    },
    {
      "cell_type": "markdown",
      "metadata": {
        "id": "xhug_6TUePgK"
      },
      "source": [
        "### diag"
      ]
    },
    {
      "cell_type": "markdown",
      "metadata": {
        "id": "O7NyYxBsePgK"
      },
      "source": [
        "With the diag function we can also extract the diagonal and subdiagonals of an array:"
      ]
    },
    {
      "cell_type": "code",
      "metadata": {
        "id": "kzGm8rkwePgK",
        "colab": {
          "base_uri": "https://localhost:8080/"
        },
        "outputId": "d9faee97-c307-4d3e-ab8a-20fba81aa7e8"
      },
      "source": [
        "diag(A)"
      ],
      "execution_count": 60,
      "outputs": [
        {
          "output_type": "execute_result",
          "data": {
            "text/plain": [
              "array([ 1,  4,  9, 16, 25, 36, 49, 64, 81])"
            ]
          },
          "metadata": {
            "tags": []
          },
          "execution_count": 60
        }
      ]
    },
    {
      "cell_type": "markdown",
      "metadata": {
        "id": "S2rxyocKePgL"
      },
      "source": [
        "## Linear algebra"
      ]
    },
    {
      "cell_type": "markdown",
      "metadata": {
        "id": "Gzorq4kcePgL"
      },
      "source": [
        "Vectorizing code is the key to writing efficient numerical calculation with Python/Numpy. That means that as much as possible of a program should be formulated in terms of matrix and vector operations, like matrix-matrix multiplication."
      ]
    },
    {
      "cell_type": "markdown",
      "metadata": {
        "id": "UiVE-qdNePgL"
      },
      "source": [
        "### Scalar-array operations"
      ]
    },
    {
      "cell_type": "markdown",
      "metadata": {
        "id": "0rGU7qTPePgM"
      },
      "source": [
        "We can use the usual arithmetic operators to multiply, add, subtract, and divide arrays with scalar numbers."
      ]
    },
    {
      "cell_type": "code",
      "metadata": {
        "id": "JEF3XFRsePgM",
        "colab": {
          "base_uri": "https://localhost:8080/"
        },
        "outputId": "fd5f4850-7209-4061-f8e6-c3b972355094"
      },
      "source": [
        "v1 = arange(0, 3)\n",
        "v1, v1.shape"
      ],
      "execution_count": 61,
      "outputs": [
        {
          "output_type": "execute_result",
          "data": {
            "text/plain": [
              "(array([0, 1, 2]), (3,))"
            ]
          },
          "metadata": {
            "tags": []
          },
          "execution_count": 61
        }
      ]
    },
    {
      "cell_type": "code",
      "metadata": {
        "id": "8yF6GbNKePgM",
        "colab": {
          "base_uri": "https://localhost:8080/"
        },
        "outputId": "9fed5d72-cf05-4cdd-f8b1-5839724ec682"
      },
      "source": [
        "A = array([i for i in arange(9)]).reshape((3,3))\n",
        "print(A)"
      ],
      "execution_count": 62,
      "outputs": [
        {
          "output_type": "stream",
          "text": [
            "[[0 1 2]\n",
            " [3 4 5]\n",
            " [6 7 8]]\n"
          ],
          "name": "stdout"
        }
      ]
    },
    {
      "cell_type": "code",
      "metadata": {
        "id": "wwpzoYOXePgM",
        "colab": {
          "base_uri": "https://localhost:8080/"
        },
        "outputId": "412eff90-4230-49ec-be41-3a7c0e2f54d8"
      },
      "source": [
        "v1 + 2"
      ],
      "execution_count": 63,
      "outputs": [
        {
          "output_type": "execute_result",
          "data": {
            "text/plain": [
              "array([2, 3, 4])"
            ]
          },
          "metadata": {
            "tags": []
          },
          "execution_count": 63
        }
      ]
    },
    {
      "cell_type": "code",
      "metadata": {
        "id": "CadVJb6wePgM",
        "colab": {
          "base_uri": "https://localhost:8080/"
        },
        "outputId": "706b70d0-583c-4706-c2e5-4dc352678d6d"
      },
      "source": [
        "A * 2 "
      ],
      "execution_count": 64,
      "outputs": [
        {
          "output_type": "execute_result",
          "data": {
            "text/plain": [
              "array([[ 0,  2,  4],\n",
              "       [ 6,  8, 10],\n",
              "       [12, 14, 16]])"
            ]
          },
          "metadata": {
            "tags": []
          },
          "execution_count": 64
        }
      ]
    },
    {
      "cell_type": "code",
      "metadata": {
        "colab": {
          "base_uri": "https://localhost:8080/"
        },
        "id": "C1OPpxerUEmS",
        "outputId": "d744031c-fdc3-4896-e797-9aea25fbb720"
      },
      "source": [
        "A - 1"
      ],
      "execution_count": 65,
      "outputs": [
        {
          "output_type": "execute_result",
          "data": {
            "text/plain": [
              "array([[-1,  0,  1],\n",
              "       [ 2,  3,  4],\n",
              "       [ 5,  6,  7]])"
            ]
          },
          "metadata": {
            "tags": []
          },
          "execution_count": 65
        }
      ]
    },
    {
      "cell_type": "markdown",
      "metadata": {
        "id": "87YI1KYnePgM"
      },
      "source": [
        "### Element-wise array-array operations"
      ]
    },
    {
      "cell_type": "markdown",
      "metadata": {
        "id": "ilrrN5koePgM"
      },
      "source": [
        "When we add, subtract, multiply and divide arrays with each other, the default behaviour is **element-wise** operations:"
      ]
    },
    {
      "cell_type": "code",
      "metadata": {
        "id": "_rKBmryFePgN",
        "colab": {
          "base_uri": "https://localhost:8080/"
        },
        "outputId": "6c509e3e-17b6-47f5-b3ca-4eb99e29d48b"
      },
      "source": [
        "A * A # element-wise multiplication"
      ],
      "execution_count": 66,
      "outputs": [
        {
          "output_type": "execute_result",
          "data": {
            "text/plain": [
              "array([[ 0,  1,  4],\n",
              "       [ 9, 16, 25],\n",
              "       [36, 49, 64]])"
            ]
          },
          "metadata": {
            "tags": []
          },
          "execution_count": 66
        }
      ]
    },
    {
      "cell_type": "code",
      "metadata": {
        "id": "6kyTj_pjePgN",
        "colab": {
          "base_uri": "https://localhost:8080/"
        },
        "outputId": "b1e03f9e-bb66-4a0b-a3c2-823a2ee75310"
      },
      "source": [
        "v1 * v1"
      ],
      "execution_count": 67,
      "outputs": [
        {
          "output_type": "execute_result",
          "data": {
            "text/plain": [
              "array([0, 1, 4])"
            ]
          },
          "metadata": {
            "tags": []
          },
          "execution_count": 67
        }
      ]
    },
    {
      "cell_type": "markdown",
      "metadata": {
        "id": "5Iohb_MIePgN"
      },
      "source": [
        "If we multiply arrays with compatible shapes, we get an element-wise multiplication of each row:"
      ]
    },
    {
      "cell_type": "code",
      "metadata": {
        "id": "0Tk6eUXnePgN",
        "colab": {
          "base_uri": "https://localhost:8080/"
        },
        "outputId": "6e39a3a3-e5fe-411a-caf2-254d58e16ca6"
      },
      "source": [
        "A.shape, v1.shape"
      ],
      "execution_count": 68,
      "outputs": [
        {
          "output_type": "execute_result",
          "data": {
            "text/plain": [
              "((3, 3), (3,))"
            ]
          },
          "metadata": {
            "tags": []
          },
          "execution_count": 68
        }
      ]
    },
    {
      "cell_type": "code",
      "metadata": {
        "id": "0LEmKK3EePgN",
        "colab": {
          "base_uri": "https://localhost:8080/"
        },
        "outputId": "0f596888-2053-48b6-b784-e79589d114ee"
      },
      "source": [
        "A * v1"
      ],
      "execution_count": 69,
      "outputs": [
        {
          "output_type": "execute_result",
          "data": {
            "text/plain": [
              "array([[ 0,  1,  4],\n",
              "       [ 0,  4, 10],\n",
              "       [ 0,  7, 16]])"
            ]
          },
          "metadata": {
            "tags": []
          },
          "execution_count": 69
        }
      ]
    },
    {
      "cell_type": "markdown",
      "metadata": {
        "id": "GebKIMi-ePgN"
      },
      "source": [
        "### Matrix algebra"
      ]
    },
    {
      "cell_type": "markdown",
      "metadata": {
        "id": "QA76E0ExePgN"
      },
      "source": [
        "What about matrix mutiplication? There are two ways. We can either use the `dot` function, which applies a matrix-matrix, matrix-vector, or inner vector multiplication to its two arguments: "
      ]
    },
    {
      "cell_type": "code",
      "metadata": {
        "id": "fS3eOQJKePgN",
        "colab": {
          "base_uri": "https://localhost:8080/"
        },
        "outputId": "bb20b989-bfc4-43fd-c25c-a82bff9a6e77"
      },
      "source": [
        "dot(A, A)"
      ],
      "execution_count": 70,
      "outputs": [
        {
          "output_type": "execute_result",
          "data": {
            "text/plain": [
              "array([[ 15,  18,  21],\n",
              "       [ 42,  54,  66],\n",
              "       [ 69,  90, 111]])"
            ]
          },
          "metadata": {
            "tags": []
          },
          "execution_count": 70
        }
      ]
    },
    {
      "cell_type": "code",
      "metadata": {
        "id": "NP9ckR_SePgO",
        "colab": {
          "base_uri": "https://localhost:8080/"
        },
        "outputId": "837738da-436f-44a3-9d60-ae671434c16a"
      },
      "source": [
        "print(A.shape, v1.shape)\n",
        "dot(A, v1)"
      ],
      "execution_count": 71,
      "outputs": [
        {
          "output_type": "stream",
          "text": [
            "((3, 3), (3,))\n"
          ],
          "name": "stdout"
        },
        {
          "output_type": "execute_result",
          "data": {
            "text/plain": [
              "array([ 5, 14, 23])"
            ]
          },
          "metadata": {
            "tags": []
          },
          "execution_count": 71
        }
      ]
    },
    {
      "cell_type": "code",
      "metadata": {
        "id": "4T8jtFScePgO",
        "colab": {
          "base_uri": "https://localhost:8080/"
        },
        "outputId": "57a56a59-9ae8-49da-8e5a-426444fcf955"
      },
      "source": [
        "dot(v1, v1)"
      ],
      "execution_count": 72,
      "outputs": [
        {
          "output_type": "execute_result",
          "data": {
            "text/plain": [
              "5"
            ]
          },
          "metadata": {
            "tags": []
          },
          "execution_count": 72
        }
      ]
    },
    {
      "cell_type": "markdown",
      "metadata": {
        "id": "8vM_J4L-ePgO"
      },
      "source": [
        "Alternatively, we can cast the array objects to the type `matrix`. This changes the behavior of the standard arithmetic operators `+, -, *` to use matrix algebra."
      ]
    },
    {
      "cell_type": "code",
      "metadata": {
        "id": "pLP1bh9oePgO",
        "colab": {
          "base_uri": "https://localhost:8080/"
        },
        "outputId": "e8f3e927-fe60-4c31-e3df-29edb1e7bca9"
      },
      "source": [
        "M = matrix(A)\n",
        "v = matrix(v1).T # make it a column vector\n",
        "\n",
        "print(A.shape, v.shape)"
      ],
      "execution_count": 73,
      "outputs": [
        {
          "output_type": "stream",
          "text": [
            "((3, 3), (3, 1))\n"
          ],
          "name": "stdout"
        }
      ]
    },
    {
      "cell_type": "code",
      "metadata": {
        "id": "4Dpm0HdJePgO",
        "colab": {
          "base_uri": "https://localhost:8080/"
        },
        "outputId": "aad2345d-ac64-4bfb-a822-ad391aada3a4"
      },
      "source": [
        "v"
      ],
      "execution_count": 74,
      "outputs": [
        {
          "output_type": "execute_result",
          "data": {
            "text/plain": [
              "matrix([[0],\n",
              "        [1],\n",
              "        [2]])"
            ]
          },
          "metadata": {
            "tags": []
          },
          "execution_count": 74
        }
      ]
    },
    {
      "cell_type": "code",
      "metadata": {
        "id": "IxY2Vl80ePgO",
        "colab": {
          "base_uri": "https://localhost:8080/"
        },
        "outputId": "ae6f498b-99ff-40df-ecb3-16bd0d39d5df"
      },
      "source": [
        "M * M"
      ],
      "execution_count": 75,
      "outputs": [
        {
          "output_type": "execute_result",
          "data": {
            "text/plain": [
              "matrix([[ 15,  18,  21],\n",
              "        [ 42,  54,  66],\n",
              "        [ 69,  90, 111]])"
            ]
          },
          "metadata": {
            "tags": []
          },
          "execution_count": 75
        }
      ]
    },
    {
      "cell_type": "code",
      "metadata": {
        "id": "GNimv7DGePgO",
        "colab": {
          "base_uri": "https://localhost:8080/"
        },
        "outputId": "aaaa1a43-3e8f-4fc6-e272-261fa1784ca9"
      },
      "source": [
        "M * v"
      ],
      "execution_count": 76,
      "outputs": [
        {
          "output_type": "execute_result",
          "data": {
            "text/plain": [
              "matrix([[ 5],\n",
              "        [14],\n",
              "        [23]])"
            ]
          },
          "metadata": {
            "tags": []
          },
          "execution_count": 76
        }
      ]
    },
    {
      "cell_type": "code",
      "metadata": {
        "id": "4PyTbyj7ePgO",
        "colab": {
          "base_uri": "https://localhost:8080/"
        },
        "outputId": "4eeaa9bb-f717-41b6-f14a-bc6dc2c6935a"
      },
      "source": [
        "# inner product\n",
        "v.T * v"
      ],
      "execution_count": 77,
      "outputs": [
        {
          "output_type": "execute_result",
          "data": {
            "text/plain": [
              "matrix([[5]])"
            ]
          },
          "metadata": {
            "tags": []
          },
          "execution_count": 77
        }
      ]
    },
    {
      "cell_type": "code",
      "metadata": {
        "id": "50y1kj5VePgO",
        "colab": {
          "base_uri": "https://localhost:8080/"
        },
        "outputId": "50cf1a4b-38ad-4a9f-bc69-5c6ddd3b31ce"
      },
      "source": [
        "# with matrix objects, standard matrix algebra applies\n",
        "v + M*v"
      ],
      "execution_count": 78,
      "outputs": [
        {
          "output_type": "execute_result",
          "data": {
            "text/plain": [
              "matrix([[ 5],\n",
              "        [15],\n",
              "        [25]])"
            ]
          },
          "metadata": {
            "tags": []
          },
          "execution_count": 78
        }
      ]
    },
    {
      "cell_type": "markdown",
      "metadata": {
        "id": "E0gcbaPXePgP"
      },
      "source": [
        "If we try to add, subtract or multiply objects with incomplatible shapes we get an error:"
      ]
    },
    {
      "cell_type": "code",
      "metadata": {
        "id": "ZE86UjhfePgP"
      },
      "source": [
        "v2 = matrix([1,2,3,4,5,6]).T"
      ],
      "execution_count": 79,
      "outputs": []
    },
    {
      "cell_type": "code",
      "metadata": {
        "id": "Gb8tRmDuePgP",
        "colab": {
          "base_uri": "https://localhost:8080/"
        },
        "outputId": "a7d8d562-b1f1-44dc-841c-f45a7f9867e1"
      },
      "source": [
        "shape(M), shape(v2)"
      ],
      "execution_count": 80,
      "outputs": [
        {
          "output_type": "execute_result",
          "data": {
            "text/plain": [
              "((3, 3), (6, 1))"
            ]
          },
          "metadata": {
            "tags": []
          },
          "execution_count": 80
        }
      ]
    },
    {
      "cell_type": "code",
      "metadata": {
        "id": "Wi7ElpkDePgP"
      },
      "source": [
        "%%script false \n",
        "\n",
        "M * v2"
      ],
      "execution_count": 81,
      "outputs": []
    },
    {
      "cell_type": "markdown",
      "metadata": {
        "id": "pPWqyswEePgR"
      },
      "source": [
        "### Matrix computations"
      ]
    },
    {
      "cell_type": "markdown",
      "metadata": {
        "id": "kbAleZe0ePgR"
      },
      "source": [
        "#### Inverse Matrix (역행렬)\n",
        "\n",
        "\n",
        "__참고:__ [가역행렬](https://ko.wikipedia.org/wiki/%EA%B0%80%EC%97%AD%ED%96%89%EB%A0%AC)"
      ]
    },
    {
      "cell_type": "code",
      "metadata": {
        "id": "JXlHra-NePgR"
      },
      "source": [
        "%%script false \n",
        "\n",
        "A = array([i for i in arange(9)]).reshape((3,3))\n",
        "print(A)\n",
        "\n",
        "linalg.inv(A) "
      ],
      "execution_count": 82,
      "outputs": []
    },
    {
      "cell_type": "markdown",
      "metadata": {
        "id": "sgy6BNGCePgR"
      },
      "source": [
        "#### Determinant (행렬식)\n",
        "\n",
        "__참고:__ [행렬식](https://en.wikipedia.org/wiki/Determinant)"
      ]
    },
    {
      "cell_type": "code",
      "metadata": {
        "id": "qSm_9tc3ePgR",
        "colab": {
          "base_uri": "https://localhost:8080/"
        },
        "outputId": "954a38ce-f27b-4ceb-eb5b-ce065a509386"
      },
      "source": [
        "linalg.det(A)"
      ],
      "execution_count": 83,
      "outputs": [
        {
          "output_type": "execute_result",
          "data": {
            "text/plain": [
              "0.0"
            ]
          },
          "metadata": {
            "tags": []
          },
          "execution_count": 83
        }
      ]
    },
    {
      "cell_type": "markdown",
      "metadata": {
        "id": "ax_2Q5kiaThZ"
      },
      "source": [
        "#### 연립방정식의 예\n",
        "\n",
        "<img src='https://mblogthumb-phinf.pstatic.net/20140815_223/leesu52_1408104383948awMaS_PNG/%B1%D7%B8%B24.png?type=w2'>\n",
        "\n",
        "link: https://m.blog.naver.com/PostView.naver?isHttpsRedirect=true&blogId=leesu52&logNo=220093235011"
      ]
    },
    {
      "cell_type": "code",
      "metadata": {
        "colab": {
          "base_uri": "https://localhost:8080/"
        },
        "id": "_Ga4g2fVZjBu",
        "outputId": "3bad415c-24b1-484b-e7c3-e5454d3e9fc8"
      },
      "source": [
        "A = array([[2,2,1],\n",
        "           [1,3,2],\n",
        "           [-3,4,3]])\n",
        "b=array([4,6,5])\n",
        "print(A, b)"
      ],
      "execution_count": 84,
      "outputs": [
        {
          "output_type": "stream",
          "text": [
            "(array([[ 2,  2,  1],\n",
            "       [ 1,  3,  2],\n",
            "       [-3,  4,  3]]), array([4, 6, 5]))\n"
          ],
          "name": "stdout"
        }
      ]
    },
    {
      "cell_type": "code",
      "metadata": {
        "id": "h3t1COCWZ-5-"
      },
      "source": [
        "Inv_A = linalg.inv(A)"
      ],
      "execution_count": 85,
      "outputs": []
    },
    {
      "cell_type": "code",
      "metadata": {
        "colab": {
          "base_uri": "https://localhost:8080/"
        },
        "id": "8VbNUgiLbPi0",
        "outputId": "9df0991a-548e-4824-bec7-9d0ff5e033d2"
      },
      "source": [
        "x = Inv_A.dot(b)\n",
        "x"
      ],
      "execution_count": 86,
      "outputs": [
        {
          "output_type": "execute_result",
          "data": {
            "text/plain": [
              "array([ 1., -1.,  4.])"
            ]
          },
          "metadata": {
            "tags": []
          },
          "execution_count": 86
        }
      ]
    },
    {
      "cell_type": "markdown",
      "metadata": {
        "id": "tbamP1DJePgR"
      },
      "source": [
        "### Data processing"
      ]
    },
    {
      "cell_type": "markdown",
      "metadata": {
        "id": "Jy0JtgNzePgR"
      },
      "source": [
        "Often it is useful to store datasets in Numpy arrays. Numpy provides a number of functions to calculate statistics of datasets in arrays. \n",
        "\n",
        "For example, let's calculate some properties from the Stockholm temperature dataset used above.\n",
        "\n",
        "\n",
        "__data link url:__ https://share.cocalc.com/share/d44e24a0693749e9135fad873e5e05a721f052e3/03.%20Numpy/stockholm_td_adj.dat?viewer=share\n",
        "\n"
      ]
    },
    {
      "cell_type": "code",
      "metadata": {
        "id": "pltbj1ILc4aY"
      },
      "source": [
        "from numpy import *"
      ],
      "execution_count": 88,
      "outputs": []
    },
    {
      "cell_type": "code",
      "metadata": {
        "colab": {
          "base_uri": "https://localhost:8080/"
        },
        "id": "SNjTB5O4hywb",
        "outputId": "725bf32d-d82e-4e92-f1a0-ded79fdbe4ae"
      },
      "source": [
        "# Data download\n",
        "\n",
        "!wget https://share.cocalc.com/share/d44e24a0693749e9135fad873e5e05a721f052e3/03.%20Numpy/stockholm_td_adj.dat\n",
        "\n",
        "data = loadtxt('/content/stockholm_td_adj.dat')\n",
        "shape(data)"
      ],
      "execution_count": 89,
      "outputs": [
        {
          "output_type": "stream",
          "text": [
            "--2021-08-01 03:39:07--  https://share.cocalc.com/share/d44e24a0693749e9135fad873e5e05a721f052e3/03.%20Numpy/stockholm_td_adj.dat\n",
            "Resolving share.cocalc.com (share.cocalc.com)... 104.22.1.102, 172.67.20.35, 104.22.0.102, ...\n",
            "Connecting to share.cocalc.com (share.cocalc.com)|104.22.1.102|:443... connected.\n",
            "HTTP request sent, awaiting response... 200 OK\n",
            "Length: 2864946 (2.7M) [application/octet-stream]\n",
            "Saving to: ‘stockholm_td_adj.dat.2’\n",
            "\n",
            "stockholm_td_adj.da 100%[===================>]   2.73M  --.-KB/s    in 0.1s    \n",
            "\n",
            "2021-08-01 03:39:07 (23.0 MB/s) - ‘stockholm_td_adj.dat.2’ saved [2864946/2864946]\n",
            "\n"
          ],
          "name": "stdout"
        },
        {
          "output_type": "execute_result",
          "data": {
            "text/plain": [
              "(77431, 7)"
            ]
          },
          "metadata": {
            "tags": []
          },
          "execution_count": 89
        }
      ]
    },
    {
      "cell_type": "code",
      "metadata": {
        "id": "0LkFxKo_ePgS",
        "colab": {
          "base_uri": "https://localhost:8080/"
        },
        "outputId": "be5506b7-5a3d-4f70-9738-99c16645f90b"
      },
      "source": [
        "data[0:5]"
      ],
      "execution_count": 90,
      "outputs": [
        {
          "output_type": "execute_result",
          "data": {
            "text/plain": [
              "array([[ 1.80e+03,  1.00e+00,  1.00e+00, -6.10e+00, -6.10e+00, -6.10e+00,\n",
              "         1.00e+00],\n",
              "       [ 1.80e+03,  1.00e+00,  2.00e+00, -1.54e+01, -1.54e+01, -1.54e+01,\n",
              "         1.00e+00],\n",
              "       [ 1.80e+03,  1.00e+00,  3.00e+00, -1.50e+01, -1.50e+01, -1.50e+01,\n",
              "         1.00e+00],\n",
              "       [ 1.80e+03,  1.00e+00,  4.00e+00, -1.93e+01, -1.93e+01, -1.93e+01,\n",
              "         1.00e+00],\n",
              "       [ 1.80e+03,  1.00e+00,  5.00e+00, -1.68e+01, -1.68e+01, -1.68e+01,\n",
              "         1.00e+00]])"
            ]
          },
          "metadata": {
            "tags": []
          },
          "execution_count": 90
        }
      ]
    },
    {
      "cell_type": "markdown",
      "metadata": {
        "id": "yd7FKjGClvkZ"
      },
      "source": [
        "The dataformat is: year, month, day, daily average temperature, low, high, location."
      ]
    },
    {
      "cell_type": "code",
      "metadata": {
        "colab": {
          "base_uri": "https://localhost:8080/",
          "height": 676
        },
        "id": "a1Ns0oV6kMOG",
        "outputId": "8734f8cd-dc8a-499a-a2a8-a2dc971fba3d"
      },
      "source": [
        "import pandas as pd\n",
        "\n",
        "df = pd.DataFrame(data, columns=['Year', 'Month', 'Day','Mean','Low','High','Location'])\n",
        "df.head(20)\n"
      ],
      "execution_count": 91,
      "outputs": [
        {
          "output_type": "execute_result",
          "data": {
            "text/plain": [
              "      Year  Month   Day  Mean   Low  High  Location\n",
              "0   1800.0    1.0   1.0  -6.1  -6.1  -6.1       1.0\n",
              "1   1800.0    1.0   2.0 -15.4 -15.4 -15.4       1.0\n",
              "2   1800.0    1.0   3.0 -15.0 -15.0 -15.0       1.0\n",
              "3   1800.0    1.0   4.0 -19.3 -19.3 -19.3       1.0\n",
              "4   1800.0    1.0   5.0 -16.8 -16.8 -16.8       1.0\n",
              "5   1800.0    1.0   6.0 -11.4 -11.4 -11.4       1.0\n",
              "6   1800.0    1.0   7.0  -7.6  -7.6  -7.6       1.0\n",
              "7   1800.0    1.0   8.0  -7.1  -7.1  -7.1       1.0\n",
              "8   1800.0    1.0   9.0 -10.1 -10.1 -10.1       1.0\n",
              "9   1800.0    1.0  10.0  -9.5  -9.5  -9.5       1.0\n",
              "10  1800.0    1.0  11.0  -6.4  -6.4  -6.4       1.0\n",
              "11  1800.0    1.0  12.0  -5.8  -5.8  -5.8       1.0\n",
              "12  1800.0    1.0  13.0  -4.4  -4.4  -4.4       1.0\n",
              "13  1800.0    1.0  14.0  -4.4  -4.4  -4.4       1.0\n",
              "14  1800.0    1.0  15.0  -4.4  -4.4  -4.4       1.0\n",
              "15  1800.0    1.0  16.0  -5.5  -5.5  -5.5       1.0\n",
              "16  1800.0    1.0  17.0  -2.3  -2.3  -2.3       1.0\n",
              "17  1800.0    1.0  18.0  -3.5  -3.5  -3.5       1.0\n",
              "18  1800.0    1.0  19.0 -10.2 -10.2 -10.2       1.0\n",
              "19  1800.0    1.0  20.0  -7.1  -7.1  -7.1       1.0"
            ],
            "text/html": [
              "<div>\n",
              "<style scoped>\n",
              "    .dataframe tbody tr th:only-of-type {\n",
              "        vertical-align: middle;\n",
              "    }\n",
              "\n",
              "    .dataframe tbody tr th {\n",
              "        vertical-align: top;\n",
              "    }\n",
              "\n",
              "    .dataframe thead th {\n",
              "        text-align: right;\n",
              "    }\n",
              "</style>\n",
              "<table border=\"1\" class=\"dataframe\">\n",
              "  <thead>\n",
              "    <tr style=\"text-align: right;\">\n",
              "      <th></th>\n",
              "      <th>Year</th>\n",
              "      <th>Month</th>\n",
              "      <th>Day</th>\n",
              "      <th>Mean</th>\n",
              "      <th>Low</th>\n",
              "      <th>High</th>\n",
              "      <th>Location</th>\n",
              "    </tr>\n",
              "  </thead>\n",
              "  <tbody>\n",
              "    <tr>\n",
              "      <th>0</th>\n",
              "      <td>1800.0</td>\n",
              "      <td>1.0</td>\n",
              "      <td>1.0</td>\n",
              "      <td>-6.1</td>\n",
              "      <td>-6.1</td>\n",
              "      <td>-6.1</td>\n",
              "      <td>1.0</td>\n",
              "    </tr>\n",
              "    <tr>\n",
              "      <th>1</th>\n",
              "      <td>1800.0</td>\n",
              "      <td>1.0</td>\n",
              "      <td>2.0</td>\n",
              "      <td>-15.4</td>\n",
              "      <td>-15.4</td>\n",
              "      <td>-15.4</td>\n",
              "      <td>1.0</td>\n",
              "    </tr>\n",
              "    <tr>\n",
              "      <th>2</th>\n",
              "      <td>1800.0</td>\n",
              "      <td>1.0</td>\n",
              "      <td>3.0</td>\n",
              "      <td>-15.0</td>\n",
              "      <td>-15.0</td>\n",
              "      <td>-15.0</td>\n",
              "      <td>1.0</td>\n",
              "    </tr>\n",
              "    <tr>\n",
              "      <th>3</th>\n",
              "      <td>1800.0</td>\n",
              "      <td>1.0</td>\n",
              "      <td>4.0</td>\n",
              "      <td>-19.3</td>\n",
              "      <td>-19.3</td>\n",
              "      <td>-19.3</td>\n",
              "      <td>1.0</td>\n",
              "    </tr>\n",
              "    <tr>\n",
              "      <th>4</th>\n",
              "      <td>1800.0</td>\n",
              "      <td>1.0</td>\n",
              "      <td>5.0</td>\n",
              "      <td>-16.8</td>\n",
              "      <td>-16.8</td>\n",
              "      <td>-16.8</td>\n",
              "      <td>1.0</td>\n",
              "    </tr>\n",
              "    <tr>\n",
              "      <th>5</th>\n",
              "      <td>1800.0</td>\n",
              "      <td>1.0</td>\n",
              "      <td>6.0</td>\n",
              "      <td>-11.4</td>\n",
              "      <td>-11.4</td>\n",
              "      <td>-11.4</td>\n",
              "      <td>1.0</td>\n",
              "    </tr>\n",
              "    <tr>\n",
              "      <th>6</th>\n",
              "      <td>1800.0</td>\n",
              "      <td>1.0</td>\n",
              "      <td>7.0</td>\n",
              "      <td>-7.6</td>\n",
              "      <td>-7.6</td>\n",
              "      <td>-7.6</td>\n",
              "      <td>1.0</td>\n",
              "    </tr>\n",
              "    <tr>\n",
              "      <th>7</th>\n",
              "      <td>1800.0</td>\n",
              "      <td>1.0</td>\n",
              "      <td>8.0</td>\n",
              "      <td>-7.1</td>\n",
              "      <td>-7.1</td>\n",
              "      <td>-7.1</td>\n",
              "      <td>1.0</td>\n",
              "    </tr>\n",
              "    <tr>\n",
              "      <th>8</th>\n",
              "      <td>1800.0</td>\n",
              "      <td>1.0</td>\n",
              "      <td>9.0</td>\n",
              "      <td>-10.1</td>\n",
              "      <td>-10.1</td>\n",
              "      <td>-10.1</td>\n",
              "      <td>1.0</td>\n",
              "    </tr>\n",
              "    <tr>\n",
              "      <th>9</th>\n",
              "      <td>1800.0</td>\n",
              "      <td>1.0</td>\n",
              "      <td>10.0</td>\n",
              "      <td>-9.5</td>\n",
              "      <td>-9.5</td>\n",
              "      <td>-9.5</td>\n",
              "      <td>1.0</td>\n",
              "    </tr>\n",
              "    <tr>\n",
              "      <th>10</th>\n",
              "      <td>1800.0</td>\n",
              "      <td>1.0</td>\n",
              "      <td>11.0</td>\n",
              "      <td>-6.4</td>\n",
              "      <td>-6.4</td>\n",
              "      <td>-6.4</td>\n",
              "      <td>1.0</td>\n",
              "    </tr>\n",
              "    <tr>\n",
              "      <th>11</th>\n",
              "      <td>1800.0</td>\n",
              "      <td>1.0</td>\n",
              "      <td>12.0</td>\n",
              "      <td>-5.8</td>\n",
              "      <td>-5.8</td>\n",
              "      <td>-5.8</td>\n",
              "      <td>1.0</td>\n",
              "    </tr>\n",
              "    <tr>\n",
              "      <th>12</th>\n",
              "      <td>1800.0</td>\n",
              "      <td>1.0</td>\n",
              "      <td>13.0</td>\n",
              "      <td>-4.4</td>\n",
              "      <td>-4.4</td>\n",
              "      <td>-4.4</td>\n",
              "      <td>1.0</td>\n",
              "    </tr>\n",
              "    <tr>\n",
              "      <th>13</th>\n",
              "      <td>1800.0</td>\n",
              "      <td>1.0</td>\n",
              "      <td>14.0</td>\n",
              "      <td>-4.4</td>\n",
              "      <td>-4.4</td>\n",
              "      <td>-4.4</td>\n",
              "      <td>1.0</td>\n",
              "    </tr>\n",
              "    <tr>\n",
              "      <th>14</th>\n",
              "      <td>1800.0</td>\n",
              "      <td>1.0</td>\n",
              "      <td>15.0</td>\n",
              "      <td>-4.4</td>\n",
              "      <td>-4.4</td>\n",
              "      <td>-4.4</td>\n",
              "      <td>1.0</td>\n",
              "    </tr>\n",
              "    <tr>\n",
              "      <th>15</th>\n",
              "      <td>1800.0</td>\n",
              "      <td>1.0</td>\n",
              "      <td>16.0</td>\n",
              "      <td>-5.5</td>\n",
              "      <td>-5.5</td>\n",
              "      <td>-5.5</td>\n",
              "      <td>1.0</td>\n",
              "    </tr>\n",
              "    <tr>\n",
              "      <th>16</th>\n",
              "      <td>1800.0</td>\n",
              "      <td>1.0</td>\n",
              "      <td>17.0</td>\n",
              "      <td>-2.3</td>\n",
              "      <td>-2.3</td>\n",
              "      <td>-2.3</td>\n",
              "      <td>1.0</td>\n",
              "    </tr>\n",
              "    <tr>\n",
              "      <th>17</th>\n",
              "      <td>1800.0</td>\n",
              "      <td>1.0</td>\n",
              "      <td>18.0</td>\n",
              "      <td>-3.5</td>\n",
              "      <td>-3.5</td>\n",
              "      <td>-3.5</td>\n",
              "      <td>1.0</td>\n",
              "    </tr>\n",
              "    <tr>\n",
              "      <th>18</th>\n",
              "      <td>1800.0</td>\n",
              "      <td>1.0</td>\n",
              "      <td>19.0</td>\n",
              "      <td>-10.2</td>\n",
              "      <td>-10.2</td>\n",
              "      <td>-10.2</td>\n",
              "      <td>1.0</td>\n",
              "    </tr>\n",
              "    <tr>\n",
              "      <th>19</th>\n",
              "      <td>1800.0</td>\n",
              "      <td>1.0</td>\n",
              "      <td>20.0</td>\n",
              "      <td>-7.1</td>\n",
              "      <td>-7.1</td>\n",
              "      <td>-7.1</td>\n",
              "      <td>1.0</td>\n",
              "    </tr>\n",
              "  </tbody>\n",
              "</table>\n",
              "</div>"
            ]
          },
          "metadata": {
            "tags": []
          },
          "execution_count": 91
        }
      ]
    },
    {
      "cell_type": "markdown",
      "metadata": {
        "id": "XCXG7Y_bePgS"
      },
      "source": [
        "#### mean"
      ]
    },
    {
      "cell_type": "code",
      "metadata": {
        "id": "v4rk8blhePgS",
        "colab": {
          "base_uri": "https://localhost:8080/"
        },
        "outputId": "5245ce84-de4c-4c15-c956-f592594f9726"
      },
      "source": [
        "# the temperature data is in column 3\n",
        "mean(data[:,3])"
      ],
      "execution_count": 92,
      "outputs": [
        {
          "output_type": "execute_result",
          "data": {
            "text/plain": [
              "6.197109684751585"
            ]
          },
          "metadata": {
            "tags": []
          },
          "execution_count": 92
        }
      ]
    },
    {
      "cell_type": "markdown",
      "metadata": {
        "id": "1-qu_p_JePgS"
      },
      "source": [
        "The daily mean temperature in Stockholm over the last 200 years has been about 6.2 C."
      ]
    },
    {
      "cell_type": "markdown",
      "metadata": {
        "id": "JxLsLokeePgS"
      },
      "source": [
        "#### standard deviations and variance"
      ]
    },
    {
      "cell_type": "code",
      "metadata": {
        "id": "tjP9y_U1ePgS",
        "colab": {
          "base_uri": "https://localhost:8080/"
        },
        "outputId": "7356a01e-8b93-4645-dc00-0f56b9ec0c48"
      },
      "source": [
        "std(data[:,3]), var(data[:,3])"
      ],
      "execution_count": 93,
      "outputs": [
        {
          "output_type": "execute_result",
          "data": {
            "text/plain": [
              "(8.282271621340573, 68.59602320966341)"
            ]
          },
          "metadata": {
            "tags": []
          },
          "execution_count": 93
        }
      ]
    },
    {
      "cell_type": "markdown",
      "metadata": {
        "id": "03JBJbUrePgS"
      },
      "source": [
        "#### min and max"
      ]
    },
    {
      "cell_type": "code",
      "metadata": {
        "id": "eigKSG1IePgS",
        "colab": {
          "base_uri": "https://localhost:8080/"
        },
        "outputId": "226d38fb-4124-4614-d230-3053df9c692f"
      },
      "source": [
        "# lowest daily average temperature\n",
        "data[:,3].min()"
      ],
      "execution_count": 94,
      "outputs": [
        {
          "output_type": "execute_result",
          "data": {
            "text/plain": [
              "-25.8"
            ]
          },
          "metadata": {
            "tags": []
          },
          "execution_count": 94
        }
      ]
    },
    {
      "cell_type": "code",
      "metadata": {
        "id": "ADTBb5WkePgT",
        "colab": {
          "base_uri": "https://localhost:8080/"
        },
        "outputId": "0317bfd3-412d-4f1f-e882-66d8d1c1275e"
      },
      "source": [
        "# highest daily average temperature\n",
        "data[:,3].max()"
      ],
      "execution_count": 95,
      "outputs": [
        {
          "output_type": "execute_result",
          "data": {
            "text/plain": [
              "28.3"
            ]
          },
          "metadata": {
            "tags": []
          },
          "execution_count": 95
        }
      ]
    },
    {
      "cell_type": "markdown",
      "metadata": {
        "id": "IsBNjkMzn7sF"
      },
      "source": [
        "#### Using Pandas"
      ]
    },
    {
      "cell_type": "code",
      "metadata": {
        "colab": {
          "base_uri": "https://localhost:8080/"
        },
        "id": "7oqG3Tqhmkyl",
        "outputId": "f1a8815a-d86c-47ed-ea00-673d8a6bc693"
      },
      "source": [
        "mean_temp=df.iloc[:,3]\n",
        "mean_temp.describe()"
      ],
      "execution_count": 96,
      "outputs": [
        {
          "output_type": "execute_result",
          "data": {
            "text/plain": [
              "count    77431.000000\n",
              "mean         6.197110\n",
              "std          8.282325\n",
              "min        -25.800000\n",
              "25%          0.200000\n",
              "50%          5.700000\n",
              "75%         13.200000\n",
              "max         28.300000\n",
              "Name: Mean, dtype: float64"
            ]
          },
          "metadata": {
            "tags": []
          },
          "execution_count": 96
        }
      ]
    },
    {
      "cell_type": "markdown",
      "metadata": {
        "id": "lmicErzrePgT"
      },
      "source": [
        "#### sum, prod, and trace"
      ]
    },
    {
      "cell_type": "code",
      "metadata": {
        "id": "ScsW9yCDePgT",
        "colab": {
          "base_uri": "https://localhost:8080/"
        },
        "outputId": "16a18cfe-9c2f-4743-d2d6-82db8a479cb3"
      },
      "source": [
        "d = arange(0, 10)\n",
        "d"
      ],
      "execution_count": 97,
      "outputs": [
        {
          "output_type": "execute_result",
          "data": {
            "text/plain": [
              "array([0, 1, 2, 3, 4, 5, 6, 7, 8, 9])"
            ]
          },
          "metadata": {
            "tags": []
          },
          "execution_count": 97
        }
      ]
    },
    {
      "cell_type": "code",
      "metadata": {
        "id": "ty3gEVbkePgT",
        "colab": {
          "base_uri": "https://localhost:8080/"
        },
        "outputId": "c6be5e84-4431-41b4-e8e3-851530ba5024"
      },
      "source": [
        "# sum up all elements\n",
        "sum(d)"
      ],
      "execution_count": 98,
      "outputs": [
        {
          "output_type": "execute_result",
          "data": {
            "text/plain": [
              "45"
            ]
          },
          "metadata": {
            "tags": []
          },
          "execution_count": 98
        }
      ]
    },
    {
      "cell_type": "code",
      "metadata": {
        "id": "FMujeJr_ePgT",
        "colab": {
          "base_uri": "https://localhost:8080/"
        },
        "outputId": "cc292e74-d4b0-4ec3-f4c4-2faa3d011b79"
      },
      "source": [
        "# product of all elements\n",
        "prod(d+1)"
      ],
      "execution_count": 99,
      "outputs": [
        {
          "output_type": "execute_result",
          "data": {
            "text/plain": [
              "3628800"
            ]
          },
          "metadata": {
            "tags": []
          },
          "execution_count": 99
        }
      ]
    },
    {
      "cell_type": "code",
      "metadata": {
        "id": "T18831NaePgT",
        "colab": {
          "base_uri": "https://localhost:8080/"
        },
        "outputId": "d9e98a27-3ffd-4e19-fa1a-8d062a17c1c2"
      },
      "source": [
        "# cummulative sum\n",
        "cumsum(d)"
      ],
      "execution_count": 100,
      "outputs": [
        {
          "output_type": "execute_result",
          "data": {
            "text/plain": [
              "array([ 0,  1,  3,  6, 10, 15, 21, 28, 36, 45])"
            ]
          },
          "metadata": {
            "tags": []
          },
          "execution_count": 100
        }
      ]
    },
    {
      "cell_type": "code",
      "metadata": {
        "id": "iLagxrS2ePgT",
        "colab": {
          "base_uri": "https://localhost:8080/"
        },
        "outputId": "ef1cf3ad-1c81-4f11-c813-b9893677a41b"
      },
      "source": [
        "# cummulative product\n",
        "cumprod(d+1)"
      ],
      "execution_count": 101,
      "outputs": [
        {
          "output_type": "execute_result",
          "data": {
            "text/plain": [
              "array([      1,       2,       6,      24,     120,     720,    5040,\n",
              "         40320,  362880, 3628800])"
            ]
          },
          "metadata": {
            "tags": []
          },
          "execution_count": 101
        }
      ]
    },
    {
      "cell_type": "code",
      "metadata": {
        "id": "CtTRhSSRePgT",
        "colab": {
          "base_uri": "https://localhost:8080/"
        },
        "outputId": "1883fbeb-0dcd-42d6-ef98-160422c69838"
      },
      "source": [
        "# same as: diag(A).sum()\n",
        "trace(A)"
      ],
      "execution_count": 102,
      "outputs": [
        {
          "output_type": "execute_result",
          "data": {
            "text/plain": [
              "8"
            ]
          },
          "metadata": {
            "tags": []
          },
          "execution_count": 102
        }
      ]
    },
    {
      "cell_type": "markdown",
      "metadata": {
        "id": "FZcz_G6fePgU"
      },
      "source": [
        "### Computations on subsets of arrays"
      ]
    },
    {
      "cell_type": "markdown",
      "metadata": {
        "id": "w62o_GoLePgU"
      },
      "source": [
        "We can compute with subsets of the data in an array using indexing, fancy indexing, and the other methods of extracting data from an array (described above).\n",
        "\n",
        "For example, let's go back to the temperature dataset:"
      ]
    },
    {
      "cell_type": "code",
      "metadata": {
        "id": "giQC-1jYePgU",
        "colab": {
          "base_uri": "https://localhost:8080/"
        },
        "outputId": "5fa9b1c8-e222-4adf-805a-45f208b3f9ab"
      },
      "source": [
        "!head -n 3 stockholm_td_adj.dat"
      ],
      "execution_count": 103,
      "outputs": [
        {
          "output_type": "stream",
          "text": [
            "1800  1  1    -6.1    -6.1    -6.1 1\n",
            "1800  1  2   -15.4   -15.4   -15.4 1\n",
            "1800  1  3   -15.0   -15.0   -15.0 1\n"
          ],
          "name": "stdout"
        }
      ]
    },
    {
      "cell_type": "markdown",
      "metadata": {
        "id": "20BVMLt3ePgU"
      },
      "source": [
        "The dataformat is: year, month, day, daily average temperature, low, high, location.\n",
        "\n",
        "If we are interested in the average temperature only in a particular month, say February, then we can create a index mask and use it to select only the data for that month using:"
      ]
    },
    {
      "cell_type": "code",
      "metadata": {
        "id": "d3jnBA20ePgU",
        "colab": {
          "base_uri": "https://localhost:8080/"
        },
        "outputId": "251d25ca-d6fa-4874-dbf1-833802074122"
      },
      "source": [
        "unique(data[:,1]) # the month column takes values from 1 to 12"
      ],
      "execution_count": 104,
      "outputs": [
        {
          "output_type": "execute_result",
          "data": {
            "text/plain": [
              "array([ 1.,  2.,  3.,  4.,  5.,  6.,  7.,  8.,  9., 10., 11., 12.])"
            ]
          },
          "metadata": {
            "tags": []
          },
          "execution_count": 104
        }
      ]
    },
    {
      "cell_type": "code",
      "metadata": {
        "id": "QPm7Wj4MePgV"
      },
      "source": [
        "mask_feb = data[:,1] == 2"
      ],
      "execution_count": 105,
      "outputs": []
    },
    {
      "cell_type": "code",
      "metadata": {
        "id": "xvxiq7P0ePgV",
        "colab": {
          "base_uri": "https://localhost:8080/"
        },
        "outputId": "e062501d-8c4e-4d89-81e0-bc092a750c2f"
      },
      "source": [
        "# the temperature data is in column 3\n",
        "mean(data[mask_feb,3])"
      ],
      "execution_count": 106,
      "outputs": [
        {
          "output_type": "execute_result",
          "data": {
            "text/plain": [
              "-3.212109570736596"
            ]
          },
          "metadata": {
            "tags": []
          },
          "execution_count": 106
        }
      ]
    },
    {
      "cell_type": "markdown",
      "metadata": {
        "id": "REed4c0CePgV"
      },
      "source": [
        "With these tools we have very powerful data processing capabilities at our disposal. For example, to extract the average monthly average temperatures for each month of the year only takes a few lines of code: "
      ]
    },
    {
      "cell_type": "code",
      "metadata": {
        "id": "nvaG8qplePgV",
        "colab": {
          "base_uri": "https://localhost:8080/",
          "height": 283
        },
        "outputId": "020cd2ab-1a89-4900-9d19-b7cd78603214"
      },
      "source": [
        "import matplotlib.pyplot as plt\n",
        "months = arange(1,13)\n",
        "monthly_mean = [mean(data[data[:,1] == month, 3]) for month in months]\n",
        "\n",
        "fig, ax = plt.subplots()\n",
        "ax.bar(months, monthly_mean)\n",
        "ax.set_xlabel(\"Month\")\n",
        "ax.set_ylabel(\"Monthly avg. temp.\");"
      ],
      "execution_count": 107,
      "outputs": [
        {
          "output_type": "display_data",
          "data": {
            "image/png": "[encoded data removed]",
            "text/plain": [
              "<Figure size 432x288 with 1 Axes>"
            ]
          },
          "metadata": {
            "tags": [],
            "needs_background": "light"
          }
        }
      ]
    },
    {
      "cell_type": "markdown",
      "metadata": {
        "id": "HxMJvFaxePgV"
      },
      "source": [
        "### Calculations with higher-dimensional data"
      ]
    },
    {
      "cell_type": "markdown",
      "metadata": {
        "id": "gUpN3M0ZePgV"
      },
      "source": [
        "When functions such as `min`, `max`, etc. are applied to a multidimensional arrays, it is sometimes useful to apply the calculation to the entire array, and sometimes only on a row or column basis. Using the `axis` argument we can specify how these functions should behave: "
      ]
    },
    {
      "cell_type": "code",
      "metadata": {
        "id": "hXOwGL1aePgV",
        "colab": {
          "base_uri": "https://localhost:8080/"
        },
        "outputId": "6e3dab19-7ed0-439b-ea3b-89502c20f285"
      },
      "source": [
        "E = random.randint(28,size=(7,4))\n",
        "E"
      ],
      "execution_count": 108,
      "outputs": [
        {
          "output_type": "execute_result",
          "data": {
            "text/plain": [
              "array([[10, 22, 21, 22],\n",
              "       [ 6,  7,  3, 14],\n",
              "       [10, 11, 16, 18],\n",
              "       [16, 25, 24, 23],\n",
              "       [ 6,  8, 26, 13],\n",
              "       [26, 16,  0,  2],\n",
              "       [23, 27,  5, 20]])"
            ]
          },
          "metadata": {
            "tags": []
          },
          "execution_count": 108
        }
      ]
    },
    {
      "cell_type": "code",
      "metadata": {
        "id": "znLcTK8EePgV",
        "colab": {
          "base_uri": "https://localhost:8080/"
        },
        "outputId": "6ba48143-24ad-4f14-da8f-f65cb2b7db6d"
      },
      "source": [
        "# global max\n",
        "E.max()"
      ],
      "execution_count": 109,
      "outputs": [
        {
          "output_type": "execute_result",
          "data": {
            "text/plain": [
              "27"
            ]
          },
          "metadata": {
            "tags": []
          },
          "execution_count": 109
        }
      ]
    },
    {
      "cell_type": "code",
      "metadata": {
        "id": "-qcwhEfVePgV",
        "colab": {
          "base_uri": "https://localhost:8080/"
        },
        "outputId": "50a22508-d507-473d-d1d1-44406f439d87"
      },
      "source": [
        "# max in each column\n",
        "E.max(axis=0)"
      ],
      "execution_count": 110,
      "outputs": [
        {
          "output_type": "execute_result",
          "data": {
            "text/plain": [
              "array([26, 27, 26, 23])"
            ]
          },
          "metadata": {
            "tags": []
          },
          "execution_count": 110
        }
      ]
    },
    {
      "cell_type": "code",
      "metadata": {
        "id": "k5F43W4JePgW",
        "colab": {
          "base_uri": "https://localhost:8080/"
        },
        "outputId": "61a21441-f683-4bcd-ba8b-92a3c32209c6"
      },
      "source": [
        "# max in each row\n",
        "E.max(axis=1)"
      ],
      "execution_count": 111,
      "outputs": [
        {
          "output_type": "execute_result",
          "data": {
            "text/plain": [
              "array([22, 14, 18, 25, 26, 26, 27])"
            ]
          },
          "metadata": {
            "tags": []
          },
          "execution_count": 111
        }
      ]
    },
    {
      "cell_type": "markdown",
      "metadata": {
        "id": "-nDxxJr_ePgW"
      },
      "source": [
        "Many other functions and methods in the `array` and `matrix` classes accept the same (optional) `axis` keyword argument."
      ]
    },
    {
      "cell_type": "markdown",
      "metadata": {
        "id": "lQkZd-HfePgW"
      },
      "source": [
        "## Reshaping, resizing and stacking arrays"
      ]
    },
    {
      "cell_type": "markdown",
      "metadata": {
        "id": "yDfz__3PePgW"
      },
      "source": [
        "The shape of an Numpy array can be modified without copying the underlaying data, which makes it a fast operation even for large arrays."
      ]
    },
    {
      "cell_type": "code",
      "metadata": {
        "id": "OpdCUIJSePgW",
        "colab": {
          "base_uri": "https://localhost:8080/"
        },
        "outputId": "d88a47dc-aa57-48a4-dae5-102180b26255"
      },
      "source": [
        "E"
      ],
      "execution_count": 112,
      "outputs": [
        {
          "output_type": "execute_result",
          "data": {
            "text/plain": [
              "array([[10, 22, 21, 22],\n",
              "       [ 6,  7,  3, 14],\n",
              "       [10, 11, 16, 18],\n",
              "       [16, 25, 24, 23],\n",
              "       [ 6,  8, 26, 13],\n",
              "       [26, 16,  0,  2],\n",
              "       [23, 27,  5, 20]])"
            ]
          },
          "metadata": {
            "tags": []
          },
          "execution_count": 112
        }
      ]
    },
    {
      "cell_type": "code",
      "metadata": {
        "id": "p-eiJc9CePgW"
      },
      "source": [
        "m, n = E.shape"
      ],
      "execution_count": 113,
      "outputs": []
    },
    {
      "cell_type": "code",
      "metadata": {
        "id": "z52KDlG_ePgW",
        "colab": {
          "base_uri": "https://localhost:8080/"
        },
        "outputId": "e0ba407e-82b4-402e-b0e9-b6f58db1adef"
      },
      "source": [
        "F = E.reshape((1,n*m))\n",
        "F"
      ],
      "execution_count": 114,
      "outputs": [
        {
          "output_type": "execute_result",
          "data": {
            "text/plain": [
              "array([[10, 22, 21, 22,  6,  7,  3, 14, 10, 11, 16, 18, 16, 25, 24, 23,\n",
              "         6,  8, 26, 13, 26, 16,  0,  2, 23, 27,  5, 20]])"
            ]
          },
          "metadata": {
            "tags": []
          },
          "execution_count": 114
        }
      ]
    },
    {
      "cell_type": "code",
      "metadata": {
        "id": "zwBNRUNTePgW",
        "colab": {
          "base_uri": "https://localhost:8080/"
        },
        "outputId": "f90f8bb6-2320-4ce4-c342-14c91ad4004c"
      },
      "source": [
        "E[0,0:5] = 5 # modify the array\n",
        "\n",
        "F"
      ],
      "execution_count": 115,
      "outputs": [
        {
          "output_type": "execute_result",
          "data": {
            "text/plain": [
              "array([[ 5,  5,  5,  5,  6,  7,  3, 14, 10, 11, 16, 18, 16, 25, 24, 23,\n",
              "         6,  8, 26, 13, 26, 16,  0,  2, 23, 27,  5, 20]])"
            ]
          },
          "metadata": {
            "tags": []
          },
          "execution_count": 115
        }
      ]
    },
    {
      "cell_type": "code",
      "metadata": {
        "id": "9YBfQkRNePgX",
        "colab": {
          "base_uri": "https://localhost:8080/"
        },
        "outputId": "9351152b-46a1-413c-814a-ad576ed29764"
      },
      "source": [
        "E # and the original variable is also changed. F is only a different view of the same data"
      ],
      "execution_count": 116,
      "outputs": [
        {
          "output_type": "execute_result",
          "data": {
            "text/plain": [
              "array([[ 5,  5,  5,  5],\n",
              "       [ 6,  7,  3, 14],\n",
              "       [10, 11, 16, 18],\n",
              "       [16, 25, 24, 23],\n",
              "       [ 6,  8, 26, 13],\n",
              "       [26, 16,  0,  2],\n",
              "       [23, 27,  5, 20]])"
            ]
          },
          "metadata": {
            "tags": []
          },
          "execution_count": 116
        }
      ]
    },
    {
      "cell_type": "markdown",
      "metadata": {
        "id": "HjhWDjYmePgX"
      },
      "source": [
        "We can also use the function `flatten` to make a higher-dimensional array into a vector. But this function create a copy of the data."
      ]
    },
    {
      "cell_type": "code",
      "metadata": {
        "id": "ZmeN3wuCePgX",
        "colab": {
          "base_uri": "https://localhost:8080/"
        },
        "outputId": "2d2e2120-b36a-4330-8ba5-6494ba95cdf5"
      },
      "source": [
        "G = E.flatten()\n",
        "\n",
        "G"
      ],
      "execution_count": 117,
      "outputs": [
        {
          "output_type": "execute_result",
          "data": {
            "text/plain": [
              "array([ 5,  5,  5,  5,  6,  7,  3, 14, 10, 11, 16, 18, 16, 25, 24, 23,  6,\n",
              "        8, 26, 13, 26, 16,  0,  2, 23, 27,  5, 20])"
            ]
          },
          "metadata": {
            "tags": []
          },
          "execution_count": 117
        }
      ]
    },
    {
      "cell_type": "code",
      "metadata": {
        "id": "ZsUk8F5XePgX",
        "colab": {
          "base_uri": "https://localhost:8080/"
        },
        "outputId": "76beb40e-ebdb-4ab1-8ea4-5b188c33c27a"
      },
      "source": [
        "E[0:5] = 10\n",
        "\n",
        "G"
      ],
      "execution_count": 118,
      "outputs": [
        {
          "output_type": "execute_result",
          "data": {
            "text/plain": [
              "array([ 5,  5,  5,  5,  6,  7,  3, 14, 10, 11, 16, 18, 16, 25, 24, 23,  6,\n",
              "        8, 26, 13, 26, 16,  0,  2, 23, 27,  5, 20])"
            ]
          },
          "metadata": {
            "tags": []
          },
          "execution_count": 118
        }
      ]
    },
    {
      "cell_type": "code",
      "metadata": {
        "colab": {
          "base_uri": "https://localhost:8080/"
        },
        "id": "pI298SG8txZv",
        "outputId": "34a7ddee-1fd5-4f8d-d8c4-ee603668f032"
      },
      "source": [
        "E"
      ],
      "execution_count": 119,
      "outputs": [
        {
          "output_type": "execute_result",
          "data": {
            "text/plain": [
              "array([[10, 10, 10, 10],\n",
              "       [10, 10, 10, 10],\n",
              "       [10, 10, 10, 10],\n",
              "       [10, 10, 10, 10],\n",
              "       [10, 10, 10, 10],\n",
              "       [26, 16,  0,  2],\n",
              "       [23, 27,  5, 20]])"
            ]
          },
          "metadata": {
            "tags": []
          },
          "execution_count": 119
        }
      ]
    },
    {
      "cell_type": "code",
      "metadata": {
        "id": "kOfdlcHpePgX",
        "colab": {
          "base_uri": "https://localhost:8080/"
        },
        "outputId": "8569a377-1079-4a2f-c384-a0c0605194e2"
      },
      "source": [
        "G # now G has not changed, because G's data is a copy of E's, not refering to the same data"
      ],
      "execution_count": 120,
      "outputs": [
        {
          "output_type": "execute_result",
          "data": {
            "text/plain": [
              "array([ 5,  5,  5,  5,  6,  7,  3, 14, 10, 11, 16, 18, 16, 25, 24, 23,  6,\n",
              "        8, 26, 13, 26, 16,  0,  2, 23, 27,  5, 20])"
            ]
          },
          "metadata": {
            "tags": []
          },
          "execution_count": 120
        }
      ]
    },
    {
      "cell_type": "markdown",
      "metadata": {
        "id": "xWy3neIZePgX"
      },
      "source": [
        "## Adding a new dimension: newaxis"
      ]
    },
    {
      "cell_type": "markdown",
      "metadata": {
        "id": "PgIUBN36ePgX"
      },
      "source": [
        "With `newaxis`, we can insert new dimensions in an array, for example converting a vector to a column or row matrix:"
      ]
    },
    {
      "cell_type": "code",
      "metadata": {
        "id": "fvYVQTsPePgX"
      },
      "source": [
        "v = array([1,2,3])"
      ],
      "execution_count": 121,
      "outputs": []
    },
    {
      "cell_type": "code",
      "metadata": {
        "id": "vc79fOZ9ePgX",
        "colab": {
          "base_uri": "https://localhost:8080/"
        },
        "outputId": "c9ed1417-3d13-42b1-e69d-ec271eddeaf5"
      },
      "source": [
        "shape(v)"
      ],
      "execution_count": 122,
      "outputs": [
        {
          "output_type": "execute_result",
          "data": {
            "text/plain": [
              "(3,)"
            ]
          },
          "metadata": {
            "tags": []
          },
          "execution_count": 122
        }
      ]
    },
    {
      "cell_type": "code",
      "metadata": {
        "id": "W2fywR8FePgY",
        "colab": {
          "base_uri": "https://localhost:8080/"
        },
        "outputId": "608b6584-c6b5-4cbb-e01d-20ffe9c915bf"
      },
      "source": [
        "# make a column matrix of the vector v\n",
        "v[:, newaxis]"
      ],
      "execution_count": 123,
      "outputs": [
        {
          "output_type": "execute_result",
          "data": {
            "text/plain": [
              "array([[1],\n",
              "       [2],\n",
              "       [3]])"
            ]
          },
          "metadata": {
            "tags": []
          },
          "execution_count": 123
        }
      ]
    },
    {
      "cell_type": "code",
      "metadata": {
        "id": "08yuost_ePgY",
        "colab": {
          "base_uri": "https://localhost:8080/"
        },
        "outputId": "067b720c-3d9e-4fa3-bad3-8a63b1ab525b"
      },
      "source": [
        "# column matrix\n",
        "v[:,newaxis].shape"
      ],
      "execution_count": 124,
      "outputs": [
        {
          "output_type": "execute_result",
          "data": {
            "text/plain": [
              "(3, 1)"
            ]
          },
          "metadata": {
            "tags": []
          },
          "execution_count": 124
        }
      ]
    },
    {
      "cell_type": "code",
      "metadata": {
        "id": "oGP0JMgNePgY",
        "colab": {
          "base_uri": "https://localhost:8080/"
        },
        "outputId": "920275ab-bf19-4018-91e5-666e98e43d71"
      },
      "source": [
        "# row matrix\n",
        "v[newaxis,:].shape"
      ],
      "execution_count": 125,
      "outputs": [
        {
          "output_type": "execute_result",
          "data": {
            "text/plain": [
              "(1, 3)"
            ]
          },
          "metadata": {
            "tags": []
          },
          "execution_count": 125
        }
      ]
    },
    {
      "cell_type": "markdown",
      "metadata": {
        "id": "QxLoVgSEePgY"
      },
      "source": [
        "## Stacking and repeating arrays"
      ]
    },
    {
      "cell_type": "markdown",
      "metadata": {
        "id": "xlg4FUGGePgY"
      },
      "source": [
        "Using function `repeat`, `tile`, `vstack`, `hstack`, and `concatenate` we can create larger vectors and matrices from smaller ones:"
      ]
    },
    {
      "cell_type": "markdown",
      "metadata": {
        "id": "xurt7y0aePgY"
      },
      "source": [
        "### tile and repeat"
      ]
    },
    {
      "cell_type": "code",
      "metadata": {
        "id": "-xjEU9JYePgY"
      },
      "source": [
        "a = array([[1, 2], [3, 4]])"
      ],
      "execution_count": 126,
      "outputs": []
    },
    {
      "cell_type": "code",
      "metadata": {
        "id": "DZ5pxkMwePgY",
        "colab": {
          "base_uri": "https://localhost:8080/"
        },
        "outputId": "7d220deb-837e-441d-e387-71f32dbe9562"
      },
      "source": [
        "# repeat each element 3 times\n",
        "repeat(a, 3)"
      ],
      "execution_count": 127,
      "outputs": [
        {
          "output_type": "execute_result",
          "data": {
            "text/plain": [
              "array([1, 1, 1, 2, 2, 2, 3, 3, 3, 4, 4, 4])"
            ]
          },
          "metadata": {
            "tags": []
          },
          "execution_count": 127
        }
      ]
    },
    {
      "cell_type": "code",
      "metadata": {
        "id": "xYHDId1iePgY",
        "colab": {
          "base_uri": "https://localhost:8080/"
        },
        "outputId": "c2daca26-e5e8-481e-87f4-fc1d56f39e96"
      },
      "source": [
        "# tile the matrix 3 times \n",
        "tile(a, 3)"
      ],
      "execution_count": 128,
      "outputs": [
        {
          "output_type": "execute_result",
          "data": {
            "text/plain": [
              "array([[1, 2, 1, 2, 1, 2],\n",
              "       [3, 4, 3, 4, 3, 4]])"
            ]
          },
          "metadata": {
            "tags": []
          },
          "execution_count": 128
        }
      ]
    },
    {
      "cell_type": "markdown",
      "metadata": {
        "id": "z0yeAyuWePgY"
      },
      "source": [
        "### concatenate"
      ]
    },
    {
      "cell_type": "code",
      "metadata": {
        "id": "DyLiMOADePgZ"
      },
      "source": [
        "b = array([[5, 6]])"
      ],
      "execution_count": 129,
      "outputs": []
    },
    {
      "cell_type": "code",
      "metadata": {
        "id": "H65tGyP4ePgZ",
        "colab": {
          "base_uri": "https://localhost:8080/"
        },
        "outputId": "406a443f-a162-47e3-86d6-b3fe1770322c"
      },
      "source": [
        "concatenate((a, b), axis=0)"
      ],
      "execution_count": 130,
      "outputs": [
        {
          "output_type": "execute_result",
          "data": {
            "text/plain": [
              "array([[1, 2],\n",
              "       [3, 4],\n",
              "       [5, 6]])"
            ]
          },
          "metadata": {
            "tags": []
          },
          "execution_count": 130
        }
      ]
    },
    {
      "cell_type": "code",
      "metadata": {
        "id": "Rwo2n0-4ePgZ",
        "colab": {
          "base_uri": "https://localhost:8080/"
        },
        "outputId": "0ee4b02c-3819-46fb-f641-2f67d45da0c5"
      },
      "source": [
        "concatenate((a, b.T), axis=1)"
      ],
      "execution_count": 131,
      "outputs": [
        {
          "output_type": "execute_result",
          "data": {
            "text/plain": [
              "array([[1, 2, 5],\n",
              "       [3, 4, 6]])"
            ]
          },
          "metadata": {
            "tags": []
          },
          "execution_count": 131
        }
      ]
    },
    {
      "cell_type": "markdown",
      "metadata": {
        "id": "yKPW4FU8ePgZ"
      },
      "source": [
        "### hstack and vstack"
      ]
    },
    {
      "cell_type": "code",
      "metadata": {
        "id": "TwGmSjivePgZ",
        "colab": {
          "base_uri": "https://localhost:8080/"
        },
        "outputId": "4ab83898-ff46-4339-fda0-1a1f1624d3d4"
      },
      "source": [
        "vstack((a,b))"
      ],
      "execution_count": 132,
      "outputs": [
        {
          "output_type": "execute_result",
          "data": {
            "text/plain": [
              "array([[1, 2],\n",
              "       [3, 4],\n",
              "       [5, 6]])"
            ]
          },
          "metadata": {
            "tags": []
          },
          "execution_count": 132
        }
      ]
    },
    {
      "cell_type": "code",
      "metadata": {
        "id": "T4IoK3WJePgZ",
        "colab": {
          "base_uri": "https://localhost:8080/"
        },
        "outputId": "2aa21785-986d-4c3e-cc75-1f8b0e9159ea"
      },
      "source": [
        "hstack((a,b.T))"
      ],
      "execution_count": 133,
      "outputs": [
        {
          "output_type": "execute_result",
          "data": {
            "text/plain": [
              "array([[1, 2, 5],\n",
              "       [3, 4, 6]])"
            ]
          },
          "metadata": {
            "tags": []
          },
          "execution_count": 133
        }
      ]
    },
    {
      "cell_type": "markdown",
      "metadata": {
        "id": "fz-kxBrqePgZ"
      },
      "source": [
        "## Copy and \"deep copy\""
      ]
    },
    {
      "cell_type": "markdown",
      "metadata": {
        "id": "yeCtUkm4ePgZ"
      },
      "source": [
        "__To achieve high performance, assignments in Python usually do not copy the underlaying objects.__ This is important for example when objects are passed between functions, to avoid an excessive amount of memory copying when it is not necessary (technical term: pass by reference). "
      ]
    },
    {
      "cell_type": "code",
      "metadata": {
        "id": "L1KNgdyaePgZ",
        "colab": {
          "base_uri": "https://localhost:8080/"
        },
        "outputId": "b78302c9-7a09-47a1-cfac-19ae9f519694"
      },
      "source": [
        "A = array([[1, 2], [3, 4]])\n",
        "\n",
        "A"
      ],
      "execution_count": 134,
      "outputs": [
        {
          "output_type": "execute_result",
          "data": {
            "text/plain": [
              "array([[1, 2],\n",
              "       [3, 4]])"
            ]
          },
          "metadata": {
            "tags": []
          },
          "execution_count": 134
        }
      ]
    },
    {
      "cell_type": "code",
      "metadata": {
        "id": "Q3Vi0ezjePgZ"
      },
      "source": [
        "# now B is referring to the same array data as A \n",
        "B = A "
      ],
      "execution_count": 135,
      "outputs": []
    },
    {
      "cell_type": "code",
      "metadata": {
        "id": "gnNZSBRnePga",
        "colab": {
          "base_uri": "https://localhost:8080/"
        },
        "outputId": "d15d8daa-59ae-4d9b-e0cc-de4f387cc914"
      },
      "source": [
        "# changing B affects A\n",
        "B[0,0] = 10\n",
        "\n",
        "B"
      ],
      "execution_count": 136,
      "outputs": [
        {
          "output_type": "execute_result",
          "data": {
            "text/plain": [
              "array([[10,  2],\n",
              "       [ 3,  4]])"
            ]
          },
          "metadata": {
            "tags": []
          },
          "execution_count": 136
        }
      ]
    },
    {
      "cell_type": "code",
      "metadata": {
        "id": "Y7pge5f4ePga",
        "colab": {
          "base_uri": "https://localhost:8080/"
        },
        "outputId": "efbeccfd-7cd9-4745-a32e-38f59cc2e34b"
      },
      "source": [
        "A"
      ],
      "execution_count": 137,
      "outputs": [
        {
          "output_type": "execute_result",
          "data": {
            "text/plain": [
              "array([[10,  2],\n",
              "       [ 3,  4]])"
            ]
          },
          "metadata": {
            "tags": []
          },
          "execution_count": 137
        }
      ]
    },
    {
      "cell_type": "markdown",
      "metadata": {
        "id": "ux88OOusePga"
      },
      "source": [
        "If we want to avoid this behavior, so that when we get a new completely independent object `B` copied from `A`, then we need to do a so-called \"deep copy\" using the function `copy`:"
      ]
    },
    {
      "cell_type": "code",
      "metadata": {
        "id": "dT0cd_H_ePga"
      },
      "source": [
        "B = copy(A)"
      ],
      "execution_count": 138,
      "outputs": []
    },
    {
      "cell_type": "code",
      "metadata": {
        "id": "6MDaVFKAePga",
        "colab": {
          "base_uri": "https://localhost:8080/"
        },
        "outputId": "8694d256-89ac-4cb7-9499-d47922f0c7f6"
      },
      "source": [
        "# now, if we modify B, A is not affected\n",
        "B[0,0] = -5\n",
        "\n",
        "B"
      ],
      "execution_count": 139,
      "outputs": [
        {
          "output_type": "execute_result",
          "data": {
            "text/plain": [
              "array([[-5,  2],\n",
              "       [ 3,  4]])"
            ]
          },
          "metadata": {
            "tags": []
          },
          "execution_count": 139
        }
      ]
    },
    {
      "cell_type": "code",
      "metadata": {
        "id": "ocgJfKeXePga",
        "colab": {
          "base_uri": "https://localhost:8080/"
        },
        "outputId": "23eef7fc-beeb-4387-b7ec-5c1d3fcc8d0a"
      },
      "source": [
        "A"
      ],
      "execution_count": 140,
      "outputs": [
        {
          "output_type": "execute_result",
          "data": {
            "text/plain": [
              "array([[10,  2],\n",
              "       [ 3,  4]])"
            ]
          },
          "metadata": {
            "tags": []
          },
          "execution_count": 140
        }
      ]
    },
    {
      "cell_type": "markdown",
      "metadata": {
        "id": "NRyT5kXkePga"
      },
      "source": [
        "## Iterating over array elements"
      ]
    },
    {
      "cell_type": "markdown",
      "metadata": {
        "id": "Y0w7ef0RePga"
      },
      "source": [
        "Generally, we want to avoid iterating over the elements of arrays whenever we can (at all costs). The reason is that in a interpreted language like Python (or MATLAB), iterations are really slow compared to vectorized operations. \n",
        "\n",
        "However, sometimes iterations are unavoidable. For such cases, the Python `for` loop is the most convenient way to iterate over an array:"
      ]
    },
    {
      "cell_type": "code",
      "metadata": {
        "id": "rclq9eqFePga",
        "colab": {
          "base_uri": "https://localhost:8080/"
        },
        "outputId": "b84df490-dff7-4ffe-a814-4b150c973fb5"
      },
      "source": [
        "v = array([1,2,3,4])\n",
        "\n",
        "for element in v:\n",
        "    print(element)"
      ],
      "execution_count": 141,
      "outputs": [
        {
          "output_type": "stream",
          "text": [
            "1\n",
            "2\n",
            "3\n",
            "4\n"
          ],
          "name": "stdout"
        }
      ]
    },
    {
      "cell_type": "code",
      "metadata": {
        "id": "Ea0c_YOjePgb",
        "colab": {
          "base_uri": "https://localhost:8080/"
        },
        "outputId": "101d5fcf-eddf-41c9-fc65-a39a43b8205a"
      },
      "source": [
        "M = array([[1,2], [3,4]])\n",
        "\n",
        "for row in M:\n",
        "    print(\"row\", row)\n",
        "    \n",
        "    for element in row:\n",
        "        print(element)"
      ],
      "execution_count": 142,
      "outputs": [
        {
          "output_type": "stream",
          "text": [
            "('row', array([1, 2]))\n",
            "1\n",
            "2\n",
            "('row', array([3, 4]))\n",
            "3\n",
            "4\n"
          ],
          "name": "stdout"
        }
      ]
    },
    {
      "cell_type": "markdown",
      "metadata": {
        "id": "Dz8crK7kePgb"
      },
      "source": [
        "When we need to iterate over each element of an array and modify its elements, it is convenient to use the `enumerate` function to obtain both the element and its index in the `for` loop: "
      ]
    },
    {
      "cell_type": "code",
      "metadata": {
        "id": "g5o6HcKlePgb",
        "colab": {
          "base_uri": "https://localhost:8080/"
        },
        "outputId": "9edd60f3-80d0-4a99-9950-6e0378443836"
      },
      "source": [
        "for row_idx, row in enumerate(M):\n",
        "    print(\"row_idx\", row_idx, \"row\", row)\n",
        "    \n",
        "    for col_idx, element in enumerate(row):\n",
        "        print(\"col_idx\", col_idx, \"element\", element)\n",
        "       \n",
        "        # update the matrix M: square each element\n",
        "        M[row_idx, col_idx] = element ** 2"
      ],
      "execution_count": 143,
      "outputs": [
        {
          "output_type": "stream",
          "text": [
            "('row_idx', 0, 'row', array([1, 2]))\n",
            "('col_idx', 0, 'element', 1)\n",
            "('col_idx', 1, 'element', 2)\n",
            "('row_idx', 1, 'row', array([3, 4]))\n",
            "('col_idx', 0, 'element', 3)\n",
            "('col_idx', 1, 'element', 4)\n"
          ],
          "name": "stdout"
        }
      ]
    },
    {
      "cell_type": "code",
      "metadata": {
        "id": "VCAzOHFpePgb",
        "colab": {
          "base_uri": "https://localhost:8080/"
        },
        "outputId": "ce5932b1-2b8a-4d68-afcb-ffb3eeffac5a"
      },
      "source": [
        "# each element in M is now squared\n",
        "M"
      ],
      "execution_count": 144,
      "outputs": [
        {
          "output_type": "execute_result",
          "data": {
            "text/plain": [
              "array([[ 1,  4],\n",
              "       [ 9, 16]])"
            ]
          },
          "metadata": {
            "tags": []
          },
          "execution_count": 144
        }
      ]
    },
    {
      "cell_type": "markdown",
      "metadata": {
        "id": "sQzeLU4lePgb"
      },
      "source": [
        "## Vectorizing functions"
      ]
    },
    {
      "cell_type": "markdown",
      "metadata": {
        "id": "QXu8jKDeePgb"
      },
      "source": [
        "As mentioned several times by now, to get good performance we should try to avoid looping over elements in our vectors and matrices, and instead use vectorized algorithms. The first step in converting a scalar algorithm to a vectorized algorithm is to make sure that the functions we write work with vector inputs."
      ]
    },
    {
      "cell_type": "code",
      "metadata": {
        "id": "QjbUrKMHePgb"
      },
      "source": [
        "def Theta(x):\n",
        "    \"\"\"\n",
        "    Scalar implemenation of the Heaviside step function.\n",
        "    \"\"\"\n",
        "    if x >= 0:\n",
        "        return 1\n",
        "    else:\n",
        "        return 0"
      ],
      "execution_count": 145,
      "outputs": []
    },
    {
      "cell_type": "code",
      "metadata": {
        "id": "NFp3ebwSePgb"
      },
      "source": [
        "%%script false \n",
        "\n",
        "Theta(array([-3,-2,-1,0,1,2,3]))"
      ],
      "execution_count": 146,
      "outputs": []
    },
    {
      "cell_type": "markdown",
      "metadata": {
        "id": "w378EUV_ePgc"
      },
      "source": [
        "OK, that didn't work because we didn't write the `Theta` function so that it can handle a vector input... \n",
        "\n",
        "To get a vectorized version of Theta we can use the Numpy function `vectorize`. In many cases it can automatically vectorize a function:"
      ]
    },
    {
      "cell_type": "code",
      "metadata": {
        "id": "e0TAJgupePgc"
      },
      "source": [
        "Theta_vec = vectorize(Theta)"
      ],
      "execution_count": 147,
      "outputs": []
    },
    {
      "cell_type": "code",
      "metadata": {
        "id": "9vJtSJlXePgc",
        "colab": {
          "base_uri": "https://localhost:8080/"
        },
        "outputId": "ce75c3db-355f-418b-f86c-f371f36500ca"
      },
      "source": [
        "Theta_vec(array([-3,-2,-1,0,1,2,3]))"
      ],
      "execution_count": 148,
      "outputs": [
        {
          "output_type": "execute_result",
          "data": {
            "text/plain": [
              "array([0, 0, 0, 1, 1, 1, 1])"
            ]
          },
          "metadata": {
            "tags": []
          },
          "execution_count": 148
        }
      ]
    },
    {
      "cell_type": "markdown",
      "metadata": {
        "id": "6Z84W6prePgc"
      },
      "source": [
        "We can also implement the function to accept a vector input from the beginning (requires more effort but might give better performance):"
      ]
    },
    {
      "cell_type": "code",
      "metadata": {
        "id": "MrcLDzNyePgc"
      },
      "source": [
        "def Theta(x):\n",
        "    \"\"\"\n",
        "    Vector-aware implemenation of the Heaviside step function.\n",
        "    \"\"\"\n",
        "    return 1 * (x >= 0)"
      ],
      "execution_count": 149,
      "outputs": []
    },
    {
      "cell_type": "code",
      "metadata": {
        "id": "TYPiy7pqePgc",
        "colab": {
          "base_uri": "https://localhost:8080/"
        },
        "outputId": "fc87bd7d-e9d4-4934-9bb4-23a7933791b2"
      },
      "source": [
        "Theta(array([-3,-2,-1,0,1,2,3]))"
      ],
      "execution_count": 150,
      "outputs": [
        {
          "output_type": "execute_result",
          "data": {
            "text/plain": [
              "array([0, 0, 0, 1, 1, 1, 1])"
            ]
          },
          "metadata": {
            "tags": []
          },
          "execution_count": 150
        }
      ]
    },
    {
      "cell_type": "code",
      "metadata": {
        "id": "w6xGuUSlePgc",
        "colab": {
          "base_uri": "https://localhost:8080/"
        },
        "outputId": "5b165639-6acf-4a88-ad90-0380b79e4a5d"
      },
      "source": [
        "# still works for scalars as well\n",
        "Theta(-1.2), Theta(2.6)"
      ],
      "execution_count": 151,
      "outputs": [
        {
          "output_type": "execute_result",
          "data": {
            "text/plain": [
              "(0, 1)"
            ]
          },
          "metadata": {
            "tags": []
          },
          "execution_count": 151
        }
      ]
    },
    {
      "cell_type": "markdown",
      "metadata": {
        "id": "Vi-iTRcnePgd"
      },
      "source": [
        "## Using arrays in conditions"
      ]
    },
    {
      "cell_type": "markdown",
      "metadata": {
        "id": "euw-zlV-ePgd"
      },
      "source": [
        "When using arrays in conditions,for example `if` statements and other boolean expressions, one needs to use `any` or `all`, which requires that any or all elements in the array evalutes to `True`:"
      ]
    },
    {
      "cell_type": "code",
      "metadata": {
        "id": "0xavGY0xePgd",
        "colab": {
          "base_uri": "https://localhost:8080/"
        },
        "outputId": "2a86db30-7d0b-4041-f5f4-515d58df80e2"
      },
      "source": [
        "M"
      ],
      "execution_count": 152,
      "outputs": [
        {
          "output_type": "execute_result",
          "data": {
            "text/plain": [
              "array([[ 1,  4],\n",
              "       [ 9, 16]])"
            ]
          },
          "metadata": {
            "tags": []
          },
          "execution_count": 152
        }
      ]
    },
    {
      "cell_type": "code",
      "metadata": {
        "id": "K2TQ5UETePgd",
        "colab": {
          "base_uri": "https://localhost:8080/"
        },
        "outputId": "5daa779f-68b6-440a-be5c-273d4f93033e"
      },
      "source": [
        "if (M > 5).any():\n",
        "    print(\"at least one element in M is larger than 5\")\n",
        "else:\n",
        "    print(\"no element in M is larger than 5\")"
      ],
      "execution_count": 153,
      "outputs": [
        {
          "output_type": "stream",
          "text": [
            "at least one element in M is larger than 5\n"
          ],
          "name": "stdout"
        }
      ]
    },
    {
      "cell_type": "code",
      "metadata": {
        "id": "bsIdOX-xePgd",
        "colab": {
          "base_uri": "https://localhost:8080/"
        },
        "outputId": "84da1337-e7f8-47ec-8cbe-8a935a213f10"
      },
      "source": [
        "if (M > 5).all():\n",
        "    print(\"all elements in M are larger than 5\")\n",
        "else:\n",
        "    print(\"all elements in M are not larger than 5\")"
      ],
      "execution_count": 154,
      "outputs": [
        {
          "output_type": "stream",
          "text": [
            "all elements in M are not larger than 5\n"
          ],
          "name": "stdout"
        }
      ]
    },
    {
      "cell_type": "markdown",
      "metadata": {
        "id": "pIdZkaNbePgd"
      },
      "source": [
        "## Type casting"
      ]
    },
    {
      "cell_type": "markdown",
      "metadata": {
        "id": "k2W4ox9LePgd"
      },
      "source": [
        "Since Numpy arrays are *statically typed*, the type of an array does not change once created. But we can explicitly cast an array of some type to another using the `astype` functions (see also the similar `asarray` function). This always create a new array of new type:"
      ]
    },
    {
      "cell_type": "code",
      "metadata": {
        "id": "s6DfcmXYePgd",
        "colab": {
          "base_uri": "https://localhost:8080/"
        },
        "outputId": "0d6c5e64-1a73-453d-d7f8-26d0e825bacf"
      },
      "source": [
        "M.dtype"
      ],
      "execution_count": 155,
      "outputs": [
        {
          "output_type": "execute_result",
          "data": {
            "text/plain": [
              "dtype('int64')"
            ]
          },
          "metadata": {
            "tags": []
          },
          "execution_count": 155
        }
      ]
    },
    {
      "cell_type": "code",
      "metadata": {
        "id": "iSwxmVoUePgd",
        "colab": {
          "base_uri": "https://localhost:8080/"
        },
        "outputId": "fc39b313-fd24-46eb-f1fa-2ea6829dd166"
      },
      "source": [
        "M2 = M.astype(float)\n",
        "\n",
        "M2"
      ],
      "execution_count": 156,
      "outputs": [
        {
          "output_type": "execute_result",
          "data": {
            "text/plain": [
              "array([[ 1.,  4.],\n",
              "       [ 9., 16.]])"
            ]
          },
          "metadata": {
            "tags": []
          },
          "execution_count": 156
        }
      ]
    },
    {
      "cell_type": "code",
      "metadata": {
        "id": "Q7ziHiDqePgf",
        "colab": {
          "base_uri": "https://localhost:8080/"
        },
        "outputId": "5cb0b975-5694-4077-f8c9-a0a1e1fcaae6"
      },
      "source": [
        "M2.dtype"
      ],
      "execution_count": 157,
      "outputs": [
        {
          "output_type": "execute_result",
          "data": {
            "text/plain": [
              "dtype('float64')"
            ]
          },
          "metadata": {
            "tags": []
          },
          "execution_count": 157
        }
      ]
    },
    {
      "cell_type": "code",
      "metadata": {
        "id": "KQs03qRgePgg",
        "colab": {
          "base_uri": "https://localhost:8080/"
        },
        "outputId": "6cff2147-fad9-4364-e09d-295bf1473457"
      },
      "source": [
        "M3 = M.astype(bool)\n",
        "\n",
        "M3"
      ],
      "execution_count": 158,
      "outputs": [
        {
          "output_type": "execute_result",
          "data": {
            "text/plain": [
              "array([[ True,  True],\n",
              "       [ True,  True]])"
            ]
          },
          "metadata": {
            "tags": []
          },
          "execution_count": 158
        }
      ]
    }
  ]
}