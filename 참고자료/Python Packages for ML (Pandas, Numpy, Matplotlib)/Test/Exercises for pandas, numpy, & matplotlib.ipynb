{
  "nbformat": 4,
  "nbformat_minor": 0,
  "metadata": {
    "colab": {
      "name": "Exercises for pandas, numpy, & matplotlib.ipynb ",
      "provenance": [],
      "collapsed_sections": [],
      "toc_visible": true
    },
    "kernelspec": {
      "name": "python3",
      "display_name": "Python 3"
    },
    "language_info": {
      "name": "python"
    },
    "accelerator": "GPU"
  },
  "cells": [
    {
      "cell_type": "markdown",
      "metadata": {
        "id": "pO4Y8VkoDN_0"
      },
      "source": [
        "# Pandas (문제 1 ~ 문제 6)\n",
        "\n"
      ]
    },
    {
      "cell_type": "markdown",
      "metadata": {
        "id": "rdQQz9hvH7vv"
      },
      "source": [
        "## 문제 1 \n",
        "\n",
        "아래 테이블과 같은 csv파일 또는 excel 파일을 PC에서 생성후 Colab 환경으로 불러드리는 절차를 수행한 후 __EmpID가 인덱스 컬럼(Column)인__ Pandas df를 생성하세요.\n",
        "\n",
        "|EmpID|Gender|Age|Sales|BMI|\n",
        "|---|---|---|---|---|\n",
        "|E001|M|34|123|Normal|\n",
        "|E002|F|40|114|Overweight|\n",
        "|E003|F|37|135|Obesity|\n",
        "|E004|M|30|139|Underweight|\n",
        "|E005|F|44|117|Underweight|\n",
        "|E006|M|36|121|Normal|\n",
        "|E007|M|32|133|Obesity|\n",
        "|E008|F|26|140|Normal|\n",
        "|E009|M|32|133|Normal|\n",
        "|E010|M|36|133|Underweight|\n"
      ]
    },
    {
      "cell_type": "code",
      "metadata": {
        "id": "YdpP3UiYfFo9"
      },
      "source": [
        ""
      ],
      "execution_count": null,
      "outputs": []
    },
    {
      "cell_type": "markdown",
      "metadata": {
        "id": "Sqa7OnG8Ij_b"
      },
      "source": [
        "## 문제 2 \n",
        "\n",
        "위에서 생성한 df를 이용하여 아래와 같은 나이(Age)에 대한 히스토그램(Histogram)을 출력해 보세요.\n",
        "\n",
        "<img src = \"https://www.analyticsvidhya.com/wp-content/uploads/2015/04/Histo.png\">"
      ]
    },
    {
      "cell_type": "code",
      "metadata": {
        "id": "i9w-VVaDfJpm"
      },
      "source": [
        ""
      ],
      "execution_count": null,
      "outputs": []
    },
    {
      "cell_type": "markdown",
      "metadata": {
        "id": "ePXw-S2Rs6AT"
      },
      "source": [
        "## 문제 3\n",
        "\n",
        "위에서 생성한 df를 이용하여 아래와 같이 성별(Gender)과 체질량지수(BMI)에 대한 빈도수를 표로 출력해 보세요\n",
        "\n",
        "<img src= 'https://www.analyticsvidhya.com/wp-content/uploads/2015/04/Frequency.png'>\n"
      ]
    },
    {
      "cell_type": "code",
      "metadata": {
        "id": "H_XS71fgfNQ9"
      },
      "source": [
        ""
      ],
      "execution_count": null,
      "outputs": []
    },
    {
      "cell_type": "markdown",
      "metadata": {
        "id": "8m18UzWwzPG0"
      },
      "source": [
        "## 문제 4\n",
        "\n",
        "BMI를 범주형 변수(Categorical Variable) - [Underweight(저체중)=0, Normal(정상체중)=1, Overweight(과체중) =2, Obesity(비만)=3]- 로 변환하고 그 값을 새로운 컬럼(Column), BMI_index,로 하여 df에 추가하고 확인하세요.\n",
        "\n",
        "|EmpID|\tGender|\tAge|\tSales|\tBMI|\tBMI_index|\n",
        "|---|---|---|---|---|---|\n",
        "|E001|\tM|\t34|\t123|\tNormal|\t1|\n",
        "|E002|\tF|\t40|\t114|\tOverweight|\t2|\n",
        "|E003|\tF|\t37|\t135|\tObesity|\t3|\n",
        "|E004|\tM|\t30|\t139|\tUnderweight|\t0|\n",
        "|E005|\tF|\t44|\t117|\tUnderweight|\t0|\n",
        "|E006|\tM|\t36|\t121|\tNormal|\t1|\n",
        "|E007|\tM|\t32|\t133|\tObesity|\t3|\n",
        "|E008|\tF|\t26|\t140|\tNormal|\t1|\n",
        "|E009|\tM|\t32|\t133|\tNormal|\t1|\n",
        "|E010|\tM|\t36|\t133|\tUnderweight|\t0|"
      ]
    },
    {
      "cell_type": "markdown",
      "metadata": {
        "id": "zAX_5W7EwbhP"
      },
      "source": [
        "## 문제 5 \n",
        "\n",
        "남녀 그룹별로 Age, Sales,BMI_index에 대한 평균, 표준편차, 최대치, 최소치 등을 계산하세요."
      ]
    },
    {
      "cell_type": "code",
      "metadata": {
        "id": "NnR5t6l4fRD5"
      },
      "source": [
        ""
      ],
      "execution_count": null,
      "outputs": []
    },
    {
      "cell_type": "markdown",
      "metadata": {
        "id": "Khkzn3SE8v86"
      },
      "source": [
        "## 문제 6 \n",
        "\n",
        "조사표본 전체 및 남녀 그룹별로 Age와 Sales 사이에 상관관계(Correlation)가 있는지 조사하세요.\n",
        "\n"
      ]
    },
    {
      "cell_type": "code",
      "metadata": {
        "id": "Hh2xVUg0fXvE"
      },
      "source": [
        ""
      ],
      "execution_count": null,
      "outputs": []
    },
    {
      "cell_type": "markdown",
      "metadata": {
        "id": "hkp4DsfHBQHY"
      },
      "source": [
        "## 문제 7 \n",
        "\n",
        "문제 6서 사용된 데이터프레임에서 (1) __무작위로 서로 다른 5개의 샘플__을 추출하고 (2) Gender를 여자는 0, 남자는 1로 범주형 데이터로 변환한 후 (3) 데이터프레임을 numpy array로 변환하는 코드를 작성하세요"
      ]
    },
    {
      "cell_type": "code",
      "metadata": {
        "id": "4ba04_Kdffiq"
      },
      "source": [
        ""
      ],
      "execution_count": null,
      "outputs": []
    },
    {
      "cell_type": "markdown",
      "metadata": {
        "id": "6ybO6NtDD3Y_"
      },
      "source": [
        "# Numpy  (문제 8 ~ 문제 9)\n",
        "\n"
      ]
    },
    {
      "cell_type": "code",
      "metadata": {
        "id": "EiZnYmDzN-8q"
      },
      "source": [
        "import numpy as np\n",
        "\n",
        "A = np.matrix([[5, 6, 2],\n",
        "               [4, 7, 19],\n",
        "               [0, 3, 12]])\n",
        "B = np.matrix([[1, 0, 1],\n",
        "               [1, 1, 1],\n",
        "               [0, 0, 1]])\n"
      ],
      "execution_count": null,
      "outputs": []
    },
    {
      "cell_type": "markdown",
      "metadata": {
        "id": "sq46dKraD3Y_"
      },
      "source": [
        "## 문제 8 \n",
        "\n",
        "다음 연산을 수행하세요\n",
        "  - $A\\cdot B$\n",
        "  - $A^3$\n",
        "  - $A^2 - 2A +3$\n",
        "  - 역행렬(Inverse Matrix) $A^{-1}$\n",
        "  - 행렬식(Matrix Determinant) $|A|$\n",
        "  - 대각합(Trace): tr(A)\n"
      ]
    },
    {
      "cell_type": "code",
      "metadata": {
        "id": "GxA8Y6qafkz1"
      },
      "source": [
        ""
      ],
      "execution_count": null,
      "outputs": []
    },
    {
      "cell_type": "markdown",
      "metadata": {
        "id": "BjIM-qcKPj3a"
      },
      "source": [
        "## 문제 9\n",
        "\n",
        "선형 연립방정식은 알래와 같이 행렬을 이용하여 표현할 수 있다.\n",
        "\n",
        "$$Ax=b$$\n",
        "\n",
        "\n",
        "$$\n",
        "A = \\begin{pmatrix}\n",
        "8 & 3 & -2\\\\\n",
        "-4 & 7 & 5\\\\\n",
        "3 & 4 & -12\n",
        "\\end{pmatrix}\n",
        "$$\n",
        "\n",
        "$$\n",
        "b = \\begin{pmatrix}\n",
        "9\\\\\n",
        "15\\\\\n",
        "35 \n",
        "\\end{pmatrix}\n",
        "$$\n",
        "\n",
        "(1) numpy를 이용하여 해를 구하세요.\n",
        "(2) 해가 맞는지 확인하는 코드를 작성하세요 "
      ]
    },
    {
      "cell_type": "code",
      "metadata": {
        "id": "ga-paNRsgBla"
      },
      "source": [
        ""
      ],
      "execution_count": null,
      "outputs": []
    },
    {
      "cell_type": "markdown",
      "metadata": {
        "id": "7vT9-51p6-JU"
      },
      "source": [
        "# 종합 응용 문제"
      ]
    },
    {
      "cell_type": "markdown",
      "metadata": {
        "id": "_K6OTtES2njN"
      },
      "source": [
        "## 문제 10\n",
        "\n",
        "[Sigmoid or Logistic Activation Function](https://www.tensorflow.org/api_docs/python/tf/keras/activations/sigmoid)\n",
        "\n",
        "The Sigmoid Function curve looks like a S-shape.\n",
        "\n",
        "$$ f(x) = \\frac{1}{1+e^{-x}} = \\frac {e^x}{e^x+1} = \\frac {1}{2} + \\frac {1}{2}tanh( \\frac {x}{2}) $$\n",
        "\n",
        "\n",
        "<img src = \"https://miro.medium.com/max/728/1*Xu7B5y9gp0iL5ooBj7LtWw.png\">\n",
        "\n",
        "- Domain(정의역): [$-\\infty,\\infty$]\n",
        "- Range(치역): [0, 1]\n",
        "\n"
      ]
    },
    {
      "cell_type": "markdown",
      "metadata": {
        "id": "pxZAZ-Xg3Xg3"
      },
      "source": [
        "### 문제 10.1\n",
        "\n",
        "입력 x= np.array([1,-3,3, 0, -0.5])가 주어질때 sigmoid 함수값을 계산하는 루틴을 작성하세요."
      ]
    },
    {
      "cell_type": "code",
      "metadata": {
        "id": "n472ae3xgF5C"
      },
      "source": [
        ""
      ],
      "execution_count": null,
      "outputs": []
    },
    {
      "cell_type": "markdown",
      "metadata": {
        "id": "NwLd2hP_48VT"
      },
      "source": [
        "### 문제 10.2\n",
        "\n",
        "x =  np.arange(-10,10,0.1)이 주어졌을때 시그모이드 함수 그래프를 그려보세요.\n"
      ]
    },
    {
      "cell_type": "code",
      "metadata": {
        "id": "Oa-hZXdcgH3Q"
      },
      "source": [
        ""
      ],
      "execution_count": null,
      "outputs": []
    },
    {
      "cell_type": "markdown",
      "metadata": {
        "id": "iY90wzs3vg5s"
      },
      "source": [
        "## 문제 11\n",
        "\n",
        "### [MNIST Data](http://yann.lecun.com/exdb/mnist/)\n",
        "\n",
        "- 1998년에 만들어진 필기체 손글씨 숫자(0~9) 데이터셋  \n",
        "- 60,000개의 트레이닝 이미지와 10,000개의 테스트 이미지로 구성\n",
        "- 각 숫자이미지는 28x28 크기의 흑백(grayscale) 이미지\n",
        "\n",
        "\n",
        "> The MNIST Handwritten Digits dataset is considered as the “Hello World” of Computer Vision. \n",
        "\n",
        "\n",
        "\n",
        "<img src=\"https://www.mdpi.com/applsci/applsci-09-03169/article_deploy/html/images/applsci-09-03169-g001.png\">\n",
        "\n",
        "아래 코드셀은 mnist 데이터셋을 다운로드하여 훈련데이터와 테스트데이터로 구분된 numpy array를 만들어드는 코드블록이다.\n",
        "\n",
        "아래 코드셀을 실행한 후 문제를 풀어야 됩니다. \n"
      ]
    },
    {
      "cell_type": "code",
      "metadata": {
        "colab": {
          "base_uri": "https://localhost:8080/"
        },
        "id": "Ecp1NGdumT6B",
        "outputId": "28835cad-025c-4b2b-c617-bec8ff6f37dc"
      },
      "source": [
        "import numpy as np\n",
        "import matplotlib.pyplot as plt\n",
        "from tensorflow.keras.datasets import mnist\n",
        "# Download and load the data\n",
        "\n",
        "(x_train, y_train),(x_test,y_test)=mnist.load_data()\n",
        "\n",
        "print('x_train: ' + str(x_train.shape)) # 훈련 데이터\n",
        "print('y_train: ' + str(y_train.shape)) # 훈련 데이터 정답\n",
        "print('x_test:  '  + str(x_test.shape)) # 테스트 데이터\n",
        "print('y_test:  '  + str(y_test.shape)) # 테스트 데이터 정답\n",
        "\n",
        "print('\\n')\n",
        "print(type(x_train), type(y_train))\n",
        "print('\\n')\n",
        "print(y_train[0:5])"
      ],
      "execution_count": null,
      "outputs": [
        {
          "output_type": "stream",
          "text": [
            "x_train: (60000, 28, 28)\n",
            "y_train: (60000,)\n",
            "x_test:  (10000, 28, 28)\n",
            "y_test:  (10000,)\n",
            "\n",
            "\n",
            "<class 'numpy.ndarray'> <class 'numpy.ndarray'>\n",
            "\n",
            "\n",
            "[5 0 4 1 9]\n"
          ],
          "name": "stdout"
        }
      ]
    },
    {
      "cell_type": "markdown",
      "metadata": {
        "id": "GnayWE4ApBJe"
      },
      "source": [
        "### 문제 11.1 \n",
        "\n",
        "임의의 훈련용 데이터(x_train[i])가 어떤 방식으로 저장되어 있는지, 무슨 숫자인지 파악할 수 있는 방법을 생각해 보세요.\n",
        "\n",
        "즉 어떻게 하면 가장 단순하게 특정 이미지 x_train[i]가 무슨 숫자인 확인할 수 있을까요?"
      ]
    },
    {
      "cell_type": "code",
      "metadata": {
        "id": "Iu1LAi30gUVW"
      },
      "source": [
        ""
      ],
      "execution_count": null,
      "outputs": []
    },
    {
      "cell_type": "markdown",
      "metadata": {
        "id": "k6BK_dtfpyMR"
      },
      "source": [
        "### 문제 11.2 \n",
        "\n",
        "y_train은 60000개의 숫자이미지의 정답으로 이루어진 백터이다.  이 백터안에 각 숫자가 몇개씩 들어가 있는지를 확인하여 각 숫자의 빈도수 분포를 막대그래프(bar chart)로 출력하는 코드를 만들어 보세요."
      ]
    },
    {
      "cell_type": "code",
      "metadata": {
        "id": "xT-4LDvqgoCe"
      },
      "source": [
        ""
      ],
      "execution_count": null,
      "outputs": []
    },
    {
      "cell_type": "markdown",
      "metadata": {
        "id": "SMhiIfZBu7FU"
      },
      "source": [
        "### 문제 11.3\n",
        "\n",
        "훈련용 데이터에서 아래와 같이 임의로 25개의 이미지를 출력하는 코드를 작성해 보세요.\n",
        "\n",
        "<img src='https://miro.medium.com/max/1050/1*LyRlX__08q40UJohhJG9Ow.png'>"
      ]
    },
    {
      "cell_type": "code",
      "metadata": {
        "id": "0e9qL7PEgrSm"
      },
      "source": [
        ""
      ],
      "execution_count": null,
      "outputs": []
    },
    {
      "cell_type": "markdown",
      "metadata": {
        "id": "isLnYfc-1kvq"
      },
      "source": [
        "### 문제 11.4\n",
        "\n",
        "테스트 데이터에서 정답이 i(i=0,1,2,,,,9)인 25개의 이미지를 무작위로 출력하는 함수를 만들고 작동하는지 함수를 실행하여 보세요.\n",
        "\n",
        "예를 들면, 테스트셋에 포함된 10,000개의 이미지중에서 특정 숫자(예를 들면 5)인 이미지를  무작위로 25개 뽑아내어 출력하는 코드를 작성하라는 문제입니다."
      ]
    },
    {
      "cell_type": "code",
      "metadata": {
        "id": "60BX5Oazgu_6"
      },
      "source": [
        ""
      ],
      "execution_count": null,
      "outputs": []
    }
  ]
}