{
  "nbformat": 4,
  "nbformat_minor": 0,
  "metadata": {
    "colab": {
      "name": "Exercises for pandas, numpy, & matplotlib with Solutions.ipynb ",
      "provenance": [],
      "collapsed_sections": []
    },
    "kernelspec": {
      "name": "python3",
      "display_name": "Python 3"
    },
    "language_info": {
      "name": "python"
    },
    "accelerator": "GPU"
  },
  "cells": [
    {
      "cell_type": "markdown",
      "metadata": {
        "id": "pO4Y8VkoDN_0"
      },
      "source": [
        "# Pandas (문제 1 ~ 문제 6)\n",
        "\n"
      ]
    },
    {
      "cell_type": "markdown",
      "metadata": {
        "id": "rdQQz9hvH7vv"
      },
      "source": [
        "## 문제 1 (난이도: ★★)\n",
        "\n",
        "아래 테이블과 같은 csv파일 또는 excel 파일을 PC에서 생성후 Colab 환경으로 불러드리는 절차를 수행한 후 __EmpID가 인덱스 컬럼(Column)인__ Pandas df를 생성하세요.\n",
        "\n",
        "|EmpID|Gender|Age|Sales|BMI|\n",
        "|---|---|---|---|---|\n",
        "|E001|M|34|123|Normal|\n",
        "|E002|F|40|114|Overweight|\n",
        "|E003|F|37|135|Obesity|\n",
        "|E004|M|30|139|Underweight|\n",
        "|E005|F|44|117|Underweight|\n",
        "|E006|M|36|121|Normal|\n",
        "|E007|M|32|133|Obesity|\n",
        "|E008|F|26|140|Normal|\n",
        "|E009|M|32|133|Normal|\n",
        "|E010|M|36|133|Underweight|\n"
      ]
    },
    {
      "cell_type": "code",
      "metadata": {
        "colab": {
          "resources": {
            "http://localhost:8080/nbextensions/google.colab/files.js": {
              "data": "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",
              "ok": true,
              "headers": [
                [
                  "content-type",
                  "application/javascript"
                ]
              ],
              "status": 200,
              "status_text": ""
            }
          },
          "base_uri": "https://localhost:8080/",
          "height": 76
        },
        "id": "4FbUV_DNziCm",
        "outputId": "ce7623cf-423f-43ab-c0d6-13e5f22922bd"
      },
      "source": [
        "from google.colab import files\n",
        "uploaded = files.upload()"
      ],
      "execution_count": 1,
      "outputs": [
        {
          "output_type": "display_data",
          "data": {
            "text/html": [
              "\n",
              "     <input type=\"file\" id=\"files-cdf5eb19-5e94-496a-af03-024f5d400fa1\" name=\"files[]\" multiple disabled\n",
              "        style=\"border:none\" />\n",
              "     <output id=\"result-cdf5eb19-5e94-496a-af03-024f5d400fa1\">\n",
              "      Upload widget is only available when the cell has been executed in the\n",
              "      current browser session. Please rerun this cell to enable.\n",
              "      </output>\n",
              "      <script src=\"/nbextensions/google.colab/files.js\"></script> "
            ],
            "text/plain": [
              "<IPython.core.display.HTML object>"
            ]
          },
          "metadata": {
            "tags": []
          }
        },
        {
          "output_type": "stream",
          "text": [
            "Saving data.csv to data (1).csv\n"
          ],
          "name": "stdout"
        }
      ]
    },
    {
      "cell_type": "code",
      "metadata": {
        "colab": {
          "base_uri": "https://localhost:8080/",
          "height": 394
        },
        "id": "t-4RuwlsSNb8",
        "outputId": "10284c02-58d4-48c6-d6aa-0e7ae226f887"
      },
      "source": [
        "import pandas as pd\n",
        "\n",
        "df = pd.read_csv('/content/data.csv')\n",
        "df\n",
        "df.set_index('EmpID')\n"
      ],
      "execution_count": 2,
      "outputs": [
        {
          "output_type": "execute_result",
          "data": {
            "text/html": [
              "<div>\n",
              "<style scoped>\n",
              "    .dataframe tbody tr th:only-of-type {\n",
              "        vertical-align: middle;\n",
              "    }\n",
              "\n",
              "    .dataframe tbody tr th {\n",
              "        vertical-align: top;\n",
              "    }\n",
              "\n",
              "    .dataframe thead th {\n",
              "        text-align: right;\n",
              "    }\n",
              "</style>\n",
              "<table border=\"1\" class=\"dataframe\">\n",
              "  <thead>\n",
              "    <tr style=\"text-align: right;\">\n",
              "      <th></th>\n",
              "      <th>Gender</th>\n",
              "      <th>Age</th>\n",
              "      <th>Sales</th>\n",
              "      <th>BMI</th>\n",
              "    </tr>\n",
              "    <tr>\n",
              "      <th>EmpID</th>\n",
              "      <th></th>\n",
              "      <th></th>\n",
              "      <th></th>\n",
              "      <th></th>\n",
              "    </tr>\n",
              "  </thead>\n",
              "  <tbody>\n",
              "    <tr>\n",
              "      <th>E001</th>\n",
              "      <td>M</td>\n",
              "      <td>34</td>\n",
              "      <td>123</td>\n",
              "      <td>Normal</td>\n",
              "    </tr>\n",
              "    <tr>\n",
              "      <th>E002</th>\n",
              "      <td>F</td>\n",
              "      <td>40</td>\n",
              "      <td>114</td>\n",
              "      <td>Overweight</td>\n",
              "    </tr>\n",
              "    <tr>\n",
              "      <th>E003</th>\n",
              "      <td>F</td>\n",
              "      <td>37</td>\n",
              "      <td>135</td>\n",
              "      <td>Obesity</td>\n",
              "    </tr>\n",
              "    <tr>\n",
              "      <th>E004</th>\n",
              "      <td>M</td>\n",
              "      <td>30</td>\n",
              "      <td>139</td>\n",
              "      <td>Underweight</td>\n",
              "    </tr>\n",
              "    <tr>\n",
              "      <th>E005</th>\n",
              "      <td>F</td>\n",
              "      <td>44</td>\n",
              "      <td>117</td>\n",
              "      <td>Underweight</td>\n",
              "    </tr>\n",
              "    <tr>\n",
              "      <th>E006</th>\n",
              "      <td>M</td>\n",
              "      <td>36</td>\n",
              "      <td>121</td>\n",
              "      <td>Normal</td>\n",
              "    </tr>\n",
              "    <tr>\n",
              "      <th>E007</th>\n",
              "      <td>M</td>\n",
              "      <td>32</td>\n",
              "      <td>133</td>\n",
              "      <td>Obesity</td>\n",
              "    </tr>\n",
              "    <tr>\n",
              "      <th>E008</th>\n",
              "      <td>F</td>\n",
              "      <td>26</td>\n",
              "      <td>140</td>\n",
              "      <td>Normal</td>\n",
              "    </tr>\n",
              "    <tr>\n",
              "      <th>E009</th>\n",
              "      <td>M</td>\n",
              "      <td>32</td>\n",
              "      <td>133</td>\n",
              "      <td>Normal</td>\n",
              "    </tr>\n",
              "    <tr>\n",
              "      <th>E010</th>\n",
              "      <td>M</td>\n",
              "      <td>36</td>\n",
              "      <td>133</td>\n",
              "      <td>Underweight</td>\n",
              "    </tr>\n",
              "  </tbody>\n",
              "</table>\n",
              "</div>"
            ],
            "text/plain": [
              "      Gender  Age  Sales          BMI\n",
              "EmpID                                \n",
              "E001       M   34    123       Normal\n",
              "E002       F   40    114   Overweight\n",
              "E003       F   37    135      Obesity\n",
              "E004       M   30    139  Underweight\n",
              "E005       F   44    117  Underweight\n",
              "E006       M   36    121       Normal\n",
              "E007       M   32    133      Obesity\n",
              "E008       F   26    140       Normal\n",
              "E009       M   32    133       Normal\n",
              "E010       M   36    133  Underweight"
            ]
          },
          "metadata": {
            "tags": []
          },
          "execution_count": 2
        }
      ]
    },
    {
      "cell_type": "markdown",
      "metadata": {
        "id": "Sqa7OnG8Ij_b"
      },
      "source": [
        "## 문제 2 (난이도: ★★)\n",
        "\n",
        "위에서 생성한 df를 이용하여 아래와 같은 나이(Age)에 대한 히스토그램(Histogram)을 출력해 보세요.\n",
        "\n",
        "<img src = \"https://www.analyticsvidhya.com/wp-content/uploads/2015/04/Histo.png\">"
      ]
    },
    {
      "cell_type": "code",
      "metadata": {
        "colab": {
          "base_uri": "https://localhost:8080/",
          "height": 316
        },
        "id": "Y9gY4b-PJbEJ",
        "outputId": "8245dd2e-491a-4dee-c2ea-6333a8841e3c"
      },
      "source": [
        "df.hist(column='Age',bins=5, range=[25,45], facecolor='blue')"
      ],
      "execution_count": 3,
      "outputs": [
        {
          "output_type": "execute_result",
          "data": {
            "text/plain": [
              "array([[<matplotlib.axes._subplots.AxesSubplot object at 0x7feadc2a5d10>]],\n",
              "      dtype=object)"
            ]
          },
          "metadata": {
            "tags": []
          },
          "execution_count": 3
        },
        {
          "output_type": "display_data",
          "data": {
            "image/png": "[encoded data removed]",
            "text/plain": [
              "<Figure size 432x288 with 1 Axes>"
            ]
          },
          "metadata": {
            "tags": [],
            "needs_background": "light"
          }
        }
      ]
    },
    {
      "cell_type": "code",
      "metadata": {
        "colab": {
          "base_uri": "https://localhost:8080/",
          "height": 371
        },
        "id": "WcdOgNrqUgjp",
        "outputId": "9a418d88-390e-47dd-85f0-6bc8e3b095ea"
      },
      "source": [
        "import matplotlib.pyplot as plt\n",
        "import numpy as np\n",
        "age = df['Age']\n",
        "plt.hist(age, bins=5, facecolor='blue', edgecolor='black')\n",
        "plt.xticks(np.arange(25,46,step=5))"
      ],
      "execution_count": 4,
      "outputs": [
        {
          "output_type": "execute_result",
          "data": {
            "text/plain": [
              "([<matplotlib.axis.XTick at 0x7feadc2b2290>,\n",
              "  <matplotlib.axis.XTick at 0x7feadc1b4990>,\n",
              "  <matplotlib.axis.XTick at 0x7feadc1b4310>,\n",
              "  <matplotlib.axis.XTick at 0x7feadc1bdb50>,\n",
              "  <matplotlib.axis.XTick at 0x7feaddd93690>],\n",
              " <a list of 5 Text major ticklabel objects>)"
            ]
          },
          "metadata": {
            "tags": []
          },
          "execution_count": 4
        },
        {
          "output_type": "display_data",
          "data": {
            "image/png": "[encoded data removed]",
            "text/plain": [
              "<Figure size 432x288 with 1 Axes>"
            ]
          },
          "metadata": {
            "tags": [],
            "needs_background": "light"
          }
        }
      ]
    },
    {
      "cell_type": "markdown",
      "metadata": {
        "id": "ePXw-S2Rs6AT"
      },
      "source": [
        "## 문제 3 (난이도: ★★)\n",
        "\n",
        "위에서 생성한 df를 이용하여 아래와 같이 성별(Gender)과 체질량지수(BMI)에 대한 빈도수를 표로 출력해 보세요\n",
        "\n",
        "<img src= 'https://www.analyticsvidhya.com/wp-content/uploads/2015/04/Frequency.png'>\n"
      ]
    },
    {
      "cell_type": "code",
      "metadata": {
        "colab": {
          "base_uri": "https://localhost:8080/"
        },
        "id": "Eugi0ujxv81Q",
        "outputId": "910c23d0-bd2f-46c6-f970-30defb0be581"
      },
      "source": [
        "freq_table= df.groupby(['Gender','BMI'])\n",
        "print(freq_table)\n",
        "freq_table.size()"
      ],
      "execution_count": 5,
      "outputs": [
        {
          "output_type": "stream",
          "text": [
            "<pandas.core.groupby.generic.DataFrameGroupBy object at 0x7feae1f79c10>\n"
          ],
          "name": "stdout"
        },
        {
          "output_type": "execute_result",
          "data": {
            "text/plain": [
              "Gender  BMI        \n",
              "F       Normal         1\n",
              "        Obesity        1\n",
              "        Overweight     1\n",
              "        Underweight    1\n",
              "M       Normal         3\n",
              "        Obesity        1\n",
              "        Underweight    2\n",
              "dtype: int64"
            ]
          },
          "metadata": {
            "tags": []
          },
          "execution_count": 5
        }
      ]
    },
    {
      "cell_type": "markdown",
      "metadata": {
        "id": "8m18UzWwzPG0"
      },
      "source": [
        "## 문제 4 (난이도: ★★)\n",
        "\n",
        "BMI를 범주형 변수(Categorical Variable) - [Underweight(저체중)=0, Normal(정상체중)=1, Overweight(과체중) =2, Obesity(비만)=3]- 로 변환하고 그 값을 새로운 컬럼(Column), BMI_index,로 하여 df에 추가하고 확인하세요.\n",
        "\n",
        "|EmpID|\tGender|\tAge|\tSales|\tBMI|\tBMI_index|\n",
        "|---|---|---|---|---|---|\n",
        "|E001|\tM|\t34|\t123|\tNormal|\t1|\n",
        "|E002|\tF|\t40|\t114|\tOverweight|\t2|\n",
        "|E003|\tF|\t37|\t135|\tObesity|\t3|\n",
        "|E004|\tM|\t30|\t139|\tUnderweight|\t0|\n",
        "|E005|\tF|\t44|\t117|\tUnderweight|\t0|\n",
        "|E006|\tM|\t36|\t121|\tNormal|\t1|\n",
        "|E007|\tM|\t32|\t133|\tObesity|\t3|\n",
        "|E008|\tF|\t26|\t140|\tNormal|\t1|\n",
        "|E009|\tM|\t32|\t133|\tNormal|\t1|\n",
        "|E010|\tM|\t36|\t133|\tUnderweight|\t0|"
      ]
    },
    {
      "cell_type": "code",
      "metadata": {
        "colab": {
          "base_uri": "https://localhost:8080/",
          "height": 380
        },
        "id": "wdSDAMuk1M8g",
        "outputId": "9bae8593-0665-4f4f-c5f2-3958032cd23b"
      },
      "source": [
        "bmi = pd.Categorical(df['BMI'], ordered=True, categories=['Underweight', 'Normal', 'Overweight','Obesity'])\n",
        "print(bmi.codes)\n",
        "df['BMI_index']=bmi.codes\n",
        "df"
      ],
      "execution_count": 6,
      "outputs": [
        {
          "output_type": "stream",
          "text": [
            "[1 2 3 0 0 1 3 1 1 0]\n"
          ],
          "name": "stdout"
        },
        {
          "output_type": "execute_result",
          "data": {
            "text/html": [
              "<div>\n",
              "<style scoped>\n",
              "    .dataframe tbody tr th:only-of-type {\n",
              "        vertical-align: middle;\n",
              "    }\n",
              "\n",
              "    .dataframe tbody tr th {\n",
              "        vertical-align: top;\n",
              "    }\n",
              "\n",
              "    .dataframe thead th {\n",
              "        text-align: right;\n",
              "    }\n",
              "</style>\n",
              "<table border=\"1\" class=\"dataframe\">\n",
              "  <thead>\n",
              "    <tr style=\"text-align: right;\">\n",
              "      <th></th>\n",
              "      <th>EmpID</th>\n",
              "      <th>Gender</th>\n",
              "      <th>Age</th>\n",
              "      <th>Sales</th>\n",
              "      <th>BMI</th>\n",
              "      <th>BMI_index</th>\n",
              "    </tr>\n",
              "  </thead>\n",
              "  <tbody>\n",
              "    <tr>\n",
              "      <th>0</th>\n",
              "      <td>E001</td>\n",
              "      <td>M</td>\n",
              "      <td>34</td>\n",
              "      <td>123</td>\n",
              "      <td>Normal</td>\n",
              "      <td>1</td>\n",
              "    </tr>\n",
              "    <tr>\n",
              "      <th>1</th>\n",
              "      <td>E002</td>\n",
              "      <td>F</td>\n",
              "      <td>40</td>\n",
              "      <td>114</td>\n",
              "      <td>Overweight</td>\n",
              "      <td>2</td>\n",
              "    </tr>\n",
              "    <tr>\n",
              "      <th>2</th>\n",
              "      <td>E003</td>\n",
              "      <td>F</td>\n",
              "      <td>37</td>\n",
              "      <td>135</td>\n",
              "      <td>Obesity</td>\n",
              "      <td>3</td>\n",
              "    </tr>\n",
              "    <tr>\n",
              "      <th>3</th>\n",
              "      <td>E004</td>\n",
              "      <td>M</td>\n",
              "      <td>30</td>\n",
              "      <td>139</td>\n",
              "      <td>Underweight</td>\n",
              "      <td>0</td>\n",
              "    </tr>\n",
              "    <tr>\n",
              "      <th>4</th>\n",
              "      <td>E005</td>\n",
              "      <td>F</td>\n",
              "      <td>44</td>\n",
              "      <td>117</td>\n",
              "      <td>Underweight</td>\n",
              "      <td>0</td>\n",
              "    </tr>\n",
              "    <tr>\n",
              "      <th>5</th>\n",
              "      <td>E006</td>\n",
              "      <td>M</td>\n",
              "      <td>36</td>\n",
              "      <td>121</td>\n",
              "      <td>Normal</td>\n",
              "      <td>1</td>\n",
              "    </tr>\n",
              "    <tr>\n",
              "      <th>6</th>\n",
              "      <td>E007</td>\n",
              "      <td>M</td>\n",
              "      <td>32</td>\n",
              "      <td>133</td>\n",
              "      <td>Obesity</td>\n",
              "      <td>3</td>\n",
              "    </tr>\n",
              "    <tr>\n",
              "      <th>7</th>\n",
              "      <td>E008</td>\n",
              "      <td>F</td>\n",
              "      <td>26</td>\n",
              "      <td>140</td>\n",
              "      <td>Normal</td>\n",
              "      <td>1</td>\n",
              "    </tr>\n",
              "    <tr>\n",
              "      <th>8</th>\n",
              "      <td>E009</td>\n",
              "      <td>M</td>\n",
              "      <td>32</td>\n",
              "      <td>133</td>\n",
              "      <td>Normal</td>\n",
              "      <td>1</td>\n",
              "    </tr>\n",
              "    <tr>\n",
              "      <th>9</th>\n",
              "      <td>E010</td>\n",
              "      <td>M</td>\n",
              "      <td>36</td>\n",
              "      <td>133</td>\n",
              "      <td>Underweight</td>\n",
              "      <td>0</td>\n",
              "    </tr>\n",
              "  </tbody>\n",
              "</table>\n",
              "</div>"
            ],
            "text/plain": [
              "  EmpID Gender  Age  Sales          BMI  BMI_index\n",
              "0  E001      M   34    123       Normal          1\n",
              "1  E002      F   40    114   Overweight          2\n",
              "2  E003      F   37    135      Obesity          3\n",
              "3  E004      M   30    139  Underweight          0\n",
              "4  E005      F   44    117  Underweight          0\n",
              "5  E006      M   36    121       Normal          1\n",
              "6  E007      M   32    133      Obesity          3\n",
              "7  E008      F   26    140       Normal          1\n",
              "8  E009      M   32    133       Normal          1\n",
              "9  E010      M   36    133  Underweight          0"
            ]
          },
          "metadata": {
            "tags": []
          },
          "execution_count": 6
        }
      ]
    },
    {
      "cell_type": "markdown",
      "metadata": {
        "id": "zAX_5W7EwbhP"
      },
      "source": [
        "## 문제 5 (난이도: ★★)\n",
        "\n",
        "남녀 그룹별로 Age, Sales,BMI_index에 대한 평균, 표준편차, 최대치, 최소치 등을 계산하세요."
      ]
    },
    {
      "cell_type": "code",
      "metadata": {
        "colab": {
          "base_uri": "https://localhost:8080/",
          "height": 801
        },
        "id": "BWXT6rOfPD2j",
        "outputId": "6ef21f3c-abd1-40a3-993b-3bf135c86497"
      },
      "source": [
        "df.groupby(['Gender']).describe().T"
      ],
      "execution_count": 7,
      "outputs": [
        {
          "output_type": "execute_result",
          "data": {
            "text/html": [
              "<div>\n",
              "<style scoped>\n",
              "    .dataframe tbody tr th:only-of-type {\n",
              "        vertical-align: middle;\n",
              "    }\n",
              "\n",
              "    .dataframe tbody tr th {\n",
              "        vertical-align: top;\n",
              "    }\n",
              "\n",
              "    .dataframe thead th {\n",
              "        text-align: right;\n",
              "    }\n",
              "</style>\n",
              "<table border=\"1\" class=\"dataframe\">\n",
              "  <thead>\n",
              "    <tr style=\"text-align: right;\">\n",
              "      <th></th>\n",
              "      <th>Gender</th>\n",
              "      <th>F</th>\n",
              "      <th>M</th>\n",
              "    </tr>\n",
              "  </thead>\n",
              "  <tbody>\n",
              "    <tr>\n",
              "      <th rowspan=\"8\" valign=\"top\">Age</th>\n",
              "      <th>count</th>\n",
              "      <td>4.000000</td>\n",
              "      <td>6.000000</td>\n",
              "    </tr>\n",
              "    <tr>\n",
              "      <th>mean</th>\n",
              "      <td>36.750000</td>\n",
              "      <td>33.333333</td>\n",
              "    </tr>\n",
              "    <tr>\n",
              "      <th>std</th>\n",
              "      <td>7.719024</td>\n",
              "      <td>2.422120</td>\n",
              "    </tr>\n",
              "    <tr>\n",
              "      <th>min</th>\n",
              "      <td>26.000000</td>\n",
              "      <td>30.000000</td>\n",
              "    </tr>\n",
              "    <tr>\n",
              "      <th>25%</th>\n",
              "      <td>34.250000</td>\n",
              "      <td>32.000000</td>\n",
              "    </tr>\n",
              "    <tr>\n",
              "      <th>50%</th>\n",
              "      <td>38.500000</td>\n",
              "      <td>33.000000</td>\n",
              "    </tr>\n",
              "    <tr>\n",
              "      <th>75%</th>\n",
              "      <td>41.000000</td>\n",
              "      <td>35.500000</td>\n",
              "    </tr>\n",
              "    <tr>\n",
              "      <th>max</th>\n",
              "      <td>44.000000</td>\n",
              "      <td>36.000000</td>\n",
              "    </tr>\n",
              "    <tr>\n",
              "      <th rowspan=\"8\" valign=\"top\">Sales</th>\n",
              "      <th>count</th>\n",
              "      <td>4.000000</td>\n",
              "      <td>6.000000</td>\n",
              "    </tr>\n",
              "    <tr>\n",
              "      <th>mean</th>\n",
              "      <td>126.500000</td>\n",
              "      <td>130.333333</td>\n",
              "    </tr>\n",
              "    <tr>\n",
              "      <th>std</th>\n",
              "      <td>12.922848</td>\n",
              "      <td>6.889606</td>\n",
              "    </tr>\n",
              "    <tr>\n",
              "      <th>min</th>\n",
              "      <td>114.000000</td>\n",
              "      <td>121.000000</td>\n",
              "    </tr>\n",
              "    <tr>\n",
              "      <th>25%</th>\n",
              "      <td>116.250000</td>\n",
              "      <td>125.500000</td>\n",
              "    </tr>\n",
              "    <tr>\n",
              "      <th>50%</th>\n",
              "      <td>126.000000</td>\n",
              "      <td>133.000000</td>\n",
              "    </tr>\n",
              "    <tr>\n",
              "      <th>75%</th>\n",
              "      <td>136.250000</td>\n",
              "      <td>133.000000</td>\n",
              "    </tr>\n",
              "    <tr>\n",
              "      <th>max</th>\n",
              "      <td>140.000000</td>\n",
              "      <td>139.000000</td>\n",
              "    </tr>\n",
              "    <tr>\n",
              "      <th rowspan=\"8\" valign=\"top\">BMI_index</th>\n",
              "      <th>count</th>\n",
              "      <td>4.000000</td>\n",
              "      <td>6.000000</td>\n",
              "    </tr>\n",
              "    <tr>\n",
              "      <th>mean</th>\n",
              "      <td>1.500000</td>\n",
              "      <td>1.000000</td>\n",
              "    </tr>\n",
              "    <tr>\n",
              "      <th>std</th>\n",
              "      <td>1.290994</td>\n",
              "      <td>1.095445</td>\n",
              "    </tr>\n",
              "    <tr>\n",
              "      <th>min</th>\n",
              "      <td>0.000000</td>\n",
              "      <td>0.000000</td>\n",
              "    </tr>\n",
              "    <tr>\n",
              "      <th>25%</th>\n",
              "      <td>0.750000</td>\n",
              "      <td>0.250000</td>\n",
              "    </tr>\n",
              "    <tr>\n",
              "      <th>50%</th>\n",
              "      <td>1.500000</td>\n",
              "      <td>1.000000</td>\n",
              "    </tr>\n",
              "    <tr>\n",
              "      <th>75%</th>\n",
              "      <td>2.250000</td>\n",
              "      <td>1.000000</td>\n",
              "    </tr>\n",
              "    <tr>\n",
              "      <th>max</th>\n",
              "      <td>3.000000</td>\n",
              "      <td>3.000000</td>\n",
              "    </tr>\n",
              "  </tbody>\n",
              "</table>\n",
              "</div>"
            ],
            "text/plain": [
              "Gender                    F           M\n",
              "Age       count    4.000000    6.000000\n",
              "          mean    36.750000   33.333333\n",
              "          std      7.719024    2.422120\n",
              "          min     26.000000   30.000000\n",
              "          25%     34.250000   32.000000\n",
              "          50%     38.500000   33.000000\n",
              "          75%     41.000000   35.500000\n",
              "          max     44.000000   36.000000\n",
              "Sales     count    4.000000    6.000000\n",
              "          mean   126.500000  130.333333\n",
              "          std     12.922848    6.889606\n",
              "          min    114.000000  121.000000\n",
              "          25%    116.250000  125.500000\n",
              "          50%    126.000000  133.000000\n",
              "          75%    136.250000  133.000000\n",
              "          max    140.000000  139.000000\n",
              "BMI_index count    4.000000    6.000000\n",
              "          mean     1.500000    1.000000\n",
              "          std      1.290994    1.095445\n",
              "          min      0.000000    0.000000\n",
              "          25%      0.750000    0.250000\n",
              "          50%      1.500000    1.000000\n",
              "          75%      2.250000    1.000000\n",
              "          max      3.000000    3.000000"
            ]
          },
          "metadata": {
            "tags": []
          },
          "execution_count": 7
        }
      ]
    },
    {
      "cell_type": "code",
      "metadata": {
        "colab": {
          "base_uri": "https://localhost:8080/"
        },
        "id": "X_XYZTNn73iJ",
        "outputId": "5d18f801-94a6-4e6e-8647-1665d057ea1b"
      },
      "source": [
        "gender = 'MF'\n",
        "for g in gender:\n",
        "  print(df[df.Gender==g].describe())"
      ],
      "execution_count": 8,
      "outputs": [
        {
          "output_type": "stream",
          "text": [
            "             Age       Sales  BMI_index\n",
            "count   6.000000    6.000000   6.000000\n",
            "mean   33.333333  130.333333   1.000000\n",
            "std     2.422120    6.889606   1.095445\n",
            "min    30.000000  121.000000   0.000000\n",
            "25%    32.000000  125.500000   0.250000\n",
            "50%    33.000000  133.000000   1.000000\n",
            "75%    35.500000  133.000000   1.000000\n",
            "max    36.000000  139.000000   3.000000\n",
            "             Age       Sales  BMI_index\n",
            "count   4.000000    4.000000   4.000000\n",
            "mean   36.750000  126.500000   1.500000\n",
            "std     7.719024   12.922848   1.290994\n",
            "min    26.000000  114.000000   0.000000\n",
            "25%    34.250000  116.250000   0.750000\n",
            "50%    38.500000  126.000000   1.500000\n",
            "75%    41.000000  136.250000   2.250000\n",
            "max    44.000000  140.000000   3.000000\n"
          ],
          "name": "stdout"
        }
      ]
    },
    {
      "cell_type": "markdown",
      "metadata": {
        "id": "Khkzn3SE8v86"
      },
      "source": [
        "## 문제 6 (난이도: ★★)\n",
        "\n",
        "조사표본 전체 및 남녀 그룹별로 Age와 Sales 사이에 상관관계(Correlation)가 있는지 조사하세요.\n",
        "\n"
      ]
    },
    {
      "cell_type": "code",
      "metadata": {
        "colab": {
          "base_uri": "https://localhost:8080/",
          "height": 112
        },
        "id": "k6p5Qn_oA8w3",
        "outputId": "fc855e5f-0e5a-40e2-c3d3-1728aa40250c"
      },
      "source": [
        "df2 = df[['Gender','Age','Sales']]\n",
        "df2.corr()"
      ],
      "execution_count": 9,
      "outputs": [
        {
          "output_type": "execute_result",
          "data": {
            "text/html": [
              "<div>\n",
              "<style scoped>\n",
              "    .dataframe tbody tr th:only-of-type {\n",
              "        vertical-align: middle;\n",
              "    }\n",
              "\n",
              "    .dataframe tbody tr th {\n",
              "        vertical-align: top;\n",
              "    }\n",
              "\n",
              "    .dataframe thead th {\n",
              "        text-align: right;\n",
              "    }\n",
              "</style>\n",
              "<table border=\"1\" class=\"dataframe\">\n",
              "  <thead>\n",
              "    <tr style=\"text-align: right;\">\n",
              "      <th></th>\n",
              "      <th>Age</th>\n",
              "      <th>Sales</th>\n",
              "    </tr>\n",
              "  </thead>\n",
              "  <tbody>\n",
              "    <tr>\n",
              "      <th>Age</th>\n",
              "      <td>1.000000</td>\n",
              "      <td>-0.801643</td>\n",
              "    </tr>\n",
              "    <tr>\n",
              "      <th>Sales</th>\n",
              "      <td>-0.801643</td>\n",
              "      <td>1.000000</td>\n",
              "    </tr>\n",
              "  </tbody>\n",
              "</table>\n",
              "</div>"
            ],
            "text/plain": [
              "            Age     Sales\n",
              "Age    1.000000 -0.801643\n",
              "Sales -0.801643  1.000000"
            ]
          },
          "metadata": {
            "tags": []
          },
          "execution_count": 9
        }
      ]
    },
    {
      "cell_type": "code",
      "metadata": {
        "colab": {
          "base_uri": "https://localhost:8080/"
        },
        "id": "iS5AjA7EOXyj",
        "outputId": "fc1d31ee-aa2e-4f75-d4ce-4ce8c599a534"
      },
      "source": [
        "print(df2.groupby(['Gender']).corr())"
      ],
      "execution_count": 10,
      "outputs": [
        {
          "output_type": "stream",
          "text": [
            "                   Age     Sales\n",
            "Gender                          \n",
            "F      Age    1.000000 -0.843761\n",
            "       Sales -0.843761  1.000000\n",
            "M      Age    1.000000 -0.703123\n",
            "       Sales -0.703123  1.000000\n"
          ],
          "name": "stdout"
        }
      ]
    },
    {
      "cell_type": "markdown",
      "metadata": {
        "id": "hkp4DsfHBQHY"
      },
      "source": [
        "## 문제 7 (난이도: ★★★)\n",
        "\n",
        "문제 6서 사용된 데이터프레임에서 (1) __무작위로 서로 다른 5개의 샘플__을 추출하고 (2) Gender를 여자는 0, 남자는 1로 범주형 데이터로 변환한 후 (3) 데이터프레임을 numpy array로 변환하는 코드를 작성하세요"
      ]
    },
    {
      "cell_type": "code",
      "metadata": {
        "colab": {
          "base_uri": "https://localhost:8080/"
        },
        "id": "Ip62XwjtwlhW",
        "outputId": "9adcccd0-1651-4930-990d-547620a106b2"
      },
      "source": [
        "# get 5 random rows from the dataframe df2\n",
        "\n",
        "df3 = df2.sample(n=5, replace=False)\n",
        "print(df3)\n",
        "\n",
        "df_gender = df3['Gender'].astype('category').values.codes\n",
        "print(df_gender)\n",
        "df3.Gender = df_gender\n",
        "print(df3)\n",
        "np_data = df3.values\n",
        "print(np_data)"
      ],
      "execution_count": 11,
      "outputs": [
        {
          "output_type": "stream",
          "text": [
            "  Gender  Age  Sales\n",
            "4      F   44    117\n",
            "1      F   40    114\n",
            "0      M   34    123\n",
            "5      M   36    121\n",
            "6      M   32    133\n",
            "[0 0 1 1 1]\n",
            "   Gender  Age  Sales\n",
            "4       0   44    117\n",
            "1       0   40    114\n",
            "0       1   34    123\n",
            "5       1   36    121\n",
            "6       1   32    133\n",
            "[[  0  44 117]\n",
            " [  0  40 114]\n",
            " [  1  34 123]\n",
            " [  1  36 121]\n",
            " [  1  32 133]]\n"
          ],
          "name": "stdout"
        }
      ]
    },
    {
      "cell_type": "code",
      "metadata": {
        "colab": {
          "base_uri": "https://localhost:8080/"
        },
        "id": "6veauLjjy-1D",
        "outputId": "58bdeaff-fa9a-49f0-f68e-38287472a1b5"
      },
      "source": [
        "# get 5 random rows from the dataframe df2\n",
        "\n",
        "idx = np.random.choice(len(df2),5, replace=False)\n",
        "print(idx)\n",
        "\n",
        "df3 = df2.iloc[idx]\n",
        "df_gender = df3['Gender'].astype('category').values.codes\n",
        "df3.Gender = df_gender\n",
        "print(df3)\n",
        "np_data = df3.values\n",
        "print(np_data)"
      ],
      "execution_count": 12,
      "outputs": [
        {
          "output_type": "stream",
          "text": [
            "[4 0 8 9 2]\n",
            "   Gender  Age  Sales\n",
            "4       0   44    117\n",
            "0       1   34    123\n",
            "8       1   32    133\n",
            "9       1   36    133\n",
            "2       0   37    135\n",
            "[[  0  44 117]\n",
            " [  1  34 123]\n",
            " [  1  32 133]\n",
            " [  1  36 133]\n",
            " [  0  37 135]]\n"
          ],
          "name": "stdout"
        },
        {
          "output_type": "stream",
          "text": [
            "/usr/local/lib/python3.7/dist-packages/pandas/core/generic.py:5170: SettingWithCopyWarning: \n",
            "A value is trying to be set on a copy of a slice from a DataFrame.\n",
            "Try using .loc[row_indexer,col_indexer] = value instead\n",
            "\n",
            "See the caveats in the documentation: https://pandas.pydata.org/pandas-docs/stable/user_guide/indexing.html#returning-a-view-versus-a-copy\n",
            "  self[name] = value\n"
          ],
          "name": "stderr"
        }
      ]
    },
    {
      "cell_type": "markdown",
      "metadata": {
        "id": "6ybO6NtDD3Y_"
      },
      "source": [
        "# Numpy  (문제 8 ~ 문제 9)\n",
        "\n"
      ]
    },
    {
      "cell_type": "code",
      "metadata": {
        "id": "EiZnYmDzN-8q"
      },
      "source": [
        "import numpy as np\n",
        "\n",
        "A = np.matrix([[5, 6, 2],\n",
        "               [4, 7, 19],\n",
        "               [0, 3, 12]])\n",
        "B = np.matrix([[1, 0, 1],\n",
        "               [1, 1, 1],\n",
        "               [0, 0, 1]])\n"
      ],
      "execution_count": 13,
      "outputs": []
    },
    {
      "cell_type": "markdown",
      "metadata": {
        "id": "sq46dKraD3Y_"
      },
      "source": [
        "## 문제 8 (난이도: ★★)\n",
        "\n",
        "다음 연산을 수행하세요\n",
        "  - $A\\cdot B$\n",
        "  - $A^3$\n",
        "  - $A^2 - 2A +3$\n",
        "  - 역행렬(Inverse Matrix) $A^{-1}$\n",
        "  - 행렬식(Matrix Determinant) $|A|$\n",
        "  - 대각합(Trace): tr(A)\n"
      ]
    },
    {
      "cell_type": "code",
      "metadata": {
        "colab": {
          "base_uri": "https://localhost:8080/"
        },
        "id": "PEYBL24jPFl5",
        "outputId": "bf87fa27-3588-4b03-b123-b07e4f566d80"
      },
      "source": [
        "A.dot(B)"
      ],
      "execution_count": 14,
      "outputs": [
        {
          "output_type": "execute_result",
          "data": {
            "text/plain": [
              "matrix([[11,  6, 13],\n",
              "        [11,  7, 30],\n",
              "        [ 3,  3, 15]])"
            ]
          },
          "metadata": {
            "tags": []
          },
          "execution_count": 14
        }
      ]
    },
    {
      "cell_type": "code",
      "metadata": {
        "colab": {
          "base_uri": "https://localhost:8080/"
        },
        "id": "YRqBKnQ2PTWP",
        "outputId": "b0c14e5b-dd4a-4489-e115-fb6811287277"
      },
      "source": [
        "A ** 3"
      ],
      "execution_count": 15,
      "outputs": [
        {
          "output_type": "execute_result",
          "data": {
            "text/plain": [
              "matrix([[ 557, 1284, 3356],\n",
              "        [ 760, 2305, 6994],\n",
              "        [ 288, 1074, 3519]])"
            ]
          },
          "metadata": {
            "tags": []
          },
          "execution_count": 15
        }
      ]
    },
    {
      "cell_type": "code",
      "metadata": {
        "colab": {
          "base_uri": "https://localhost:8080/"
        },
        "id": "KZPj388jPV5B",
        "outputId": "6f1aa3da-0d8f-4571-c4c3-a35f2f317956"
      },
      "source": [
        "A.dot(A).dot(A)"
      ],
      "execution_count": 16,
      "outputs": [
        {
          "output_type": "execute_result",
          "data": {
            "text/plain": [
              "matrix([[ 557, 1284, 3356],\n",
              "        [ 760, 2305, 6994],\n",
              "        [ 288, 1074, 3519]])"
            ]
          },
          "metadata": {
            "tags": []
          },
          "execution_count": 16
        }
      ]
    },
    {
      "cell_type": "code",
      "metadata": {
        "colab": {
          "base_uri": "https://localhost:8080/"
        },
        "id": "QC9QD-YlPdbu",
        "outputId": "20d9e1ff-5017-4399-f309-1fe1d6c517bb"
      },
      "source": [
        "A.dot(A)-2*A+3"
      ],
      "execution_count": 17,
      "outputs": [
        {
          "output_type": "execute_result",
          "data": {
            "text/plain": [
              "matrix([[ 42,  69, 147],\n",
              "        [ 43, 119, 334],\n",
              "        [ 15,  54, 180]])"
            ]
          },
          "metadata": {
            "tags": []
          },
          "execution_count": 17
        }
      ]
    },
    {
      "cell_type": "code",
      "metadata": {
        "colab": {
          "base_uri": "https://localhost:8080/"
        },
        "id": "VddT8WbNK_eP",
        "outputId": "1754b0c9-56be-4e9f-e452-92bf3fcac4f2"
      },
      "source": [
        "np.linalg.inv(A)"
      ],
      "execution_count": 18,
      "outputs": [
        {
          "output_type": "execute_result",
          "data": {
            "text/plain": [
              "matrix([[-0.20930233,  0.51162791, -0.7751938 ],\n",
              "        [ 0.37209302, -0.46511628,  0.6744186 ],\n",
              "        [-0.09302326,  0.11627907, -0.08527132]])"
            ]
          },
          "metadata": {
            "tags": []
          },
          "execution_count": 18
        }
      ]
    },
    {
      "cell_type": "code",
      "metadata": {
        "colab": {
          "base_uri": "https://localhost:8080/"
        },
        "id": "Hn8LR4CmLKSc",
        "outputId": "058e4fc5-0775-4e6e-e80d-b517e2833ba4"
      },
      "source": [
        "np.linalg.det(A)"
      ],
      "execution_count": 19,
      "outputs": [
        {
          "output_type": "execute_result",
          "data": {
            "text/plain": [
              "-129.00000000000009"
            ]
          },
          "metadata": {
            "tags": []
          },
          "execution_count": 19
        }
      ]
    },
    {
      "cell_type": "code",
      "metadata": {
        "colab": {
          "base_uri": "https://localhost:8080/"
        },
        "id": "jr7AiwuYLVAB",
        "outputId": "4fa0ed8a-1e57-4912-c09f-083691e00a06"
      },
      "source": [
        "np.trace(A)"
      ],
      "execution_count": 20,
      "outputs": [
        {
          "output_type": "execute_result",
          "data": {
            "text/plain": [
              "24"
            ]
          },
          "metadata": {
            "tags": []
          },
          "execution_count": 20
        }
      ]
    },
    {
      "cell_type": "markdown",
      "metadata": {
        "id": "BjIM-qcKPj3a"
      },
      "source": [
        "## 문제 9 (난이도: ★★)\n",
        "\n",
        "선형 연립방정식은 알래와 같이 행렬을 이용하여 표현할 수 있다.\n",
        "\n",
        "$$Ax=b$$\n",
        "\n",
        "\n",
        "$$\n",
        "A = \\begin{pmatrix}\n",
        "8 & 3 & -2\\\\\n",
        "-4 & 7 & 5\\\\\n",
        "3 & 4 & -12\n",
        "\\end{pmatrix}\n",
        "$$\n",
        "\n",
        "$$\n",
        "b = \\begin{pmatrix}\n",
        "9\\\\\n",
        "15\\\\\n",
        "35 \n",
        "\\end{pmatrix}\n",
        "$$\n",
        "\n",
        "(1) numpy를 이용하여 해를 구하세요.\n",
        "(2) 해가 맞는지 확인하는 코드를 작성하세요 "
      ]
    },
    {
      "cell_type": "code",
      "metadata": {
        "colab": {
          "base_uri": "https://localhost:8080/"
        },
        "id": "gmlmAtNdjUdi",
        "outputId": "d9cf7406-d193-40b4-8b7c-57af12bac995"
      },
      "source": [
        "A = np.array([[8, 3, -2],\n",
        "               [-4, 7, 5],\n",
        "               [3, 4, -12]])\n",
        "b=np.matrix([9,15,35]).transpose()\n",
        "\n",
        "A.shape, b.shape"
      ],
      "execution_count": 21,
      "outputs": [
        {
          "output_type": "execute_result",
          "data": {
            "text/plain": [
              "((3, 3), (3, 1))"
            ]
          },
          "metadata": {
            "tags": []
          },
          "execution_count": 21
        }
      ]
    },
    {
      "cell_type": "code",
      "metadata": {
        "colab": {
          "base_uri": "https://localhost:8080/"
        },
        "id": "9oXwBY_cPyGW",
        "outputId": "729cb22c-8b78-46c5-b6c2-a03dda8ea73c"
      },
      "source": [
        "inv_A = np.linalg.inv(A) \n",
        "x = inv_A.dot(b)\n",
        "x"
      ],
      "execution_count": 22,
      "outputs": [
        {
          "output_type": "execute_result",
          "data": {
            "text/plain": [
              "matrix([[-0.58226371],\n",
              "        [ 3.22870478],\n",
              "        [-1.98599767]])"
            ]
          },
          "metadata": {
            "tags": []
          },
          "execution_count": 22
        }
      ]
    },
    {
      "cell_type": "code",
      "metadata": {
        "colab": {
          "base_uri": "https://localhost:8080/"
        },
        "id": "U3KYpw9LxERR",
        "outputId": "73e5b1df-1bf6-4678-9fa2-6342f9e9fad6"
      },
      "source": [
        "print(A.dot(x))\n",
        "print('\\n\\n')\n",
        "print(b)"
      ],
      "execution_count": 23,
      "outputs": [
        {
          "output_type": "stream",
          "text": [
            "[[ 9.]\n",
            " [15.]\n",
            " [35.]]\n",
            "\n",
            "\n",
            "\n",
            "[[ 9]\n",
            " [15]\n",
            " [35]]\n"
          ],
          "name": "stdout"
        }
      ]
    },
    {
      "cell_type": "code",
      "metadata": {
        "colab": {
          "base_uri": "https://localhost:8080/"
        },
        "id": "zQ0xGcmUO47p",
        "outputId": "32498609-1f14-4026-e6ad-48d7ee23fe31"
      },
      "source": [
        "np.array_equal(A.dot(x), b)"
      ],
      "execution_count": 24,
      "outputs": [
        {
          "output_type": "execute_result",
          "data": {
            "text/plain": [
              "False"
            ]
          },
          "metadata": {
            "tags": []
          },
          "execution_count": 24
        }
      ]
    },
    {
      "cell_type": "code",
      "metadata": {
        "id": "iY1fBZUYjycC",
        "colab": {
          "base_uri": "https://localhost:8080/"
        },
        "outputId": "aeee52e3-2fa3-4e50-cf0b-f69f0f527622"
      },
      "source": [
        "A.dot(x) == b"
      ],
      "execution_count": 25,
      "outputs": [
        {
          "output_type": "execute_result",
          "data": {
            "text/plain": [
              "matrix([[ True],\n",
              "        [False],\n",
              "        [False]])"
            ]
          },
          "metadata": {
            "tags": []
          },
          "execution_count": 25
        }
      ]
    },
    {
      "cell_type": "code",
      "metadata": {
        "colab": {
          "base_uri": "https://localhost:8080/"
        },
        "id": "WeJNXW1XQn_y",
        "outputId": "d8c10ec3-4c35-47e8-f341-d615ab4f2c9b"
      },
      "source": [
        "np.allclose(A.dot(x), b, atol=1e-10)"
      ],
      "execution_count": 26,
      "outputs": [
        {
          "output_type": "execute_result",
          "data": {
            "text/plain": [
              "True"
            ]
          },
          "metadata": {
            "tags": []
          },
          "execution_count": 26
        }
      ]
    },
    {
      "cell_type": "code",
      "metadata": {
        "colab": {
          "base_uri": "https://localhost:8080/"
        },
        "id": "onvJ_9d8OHGM",
        "outputId": "ff29f35d-1302-49c7-8694-33cc5cbc8e4b"
      },
      "source": [
        "np.set_printoptions(precision=2, suppress=True)\n",
        "\n",
        "A.dot(inv_A)"
      ],
      "execution_count": 27,
      "outputs": [
        {
          "output_type": "execute_result",
          "data": {
            "text/plain": [
              "array([[ 1., -0.,  0.],\n",
              "       [-0.,  1.,  0.],\n",
              "       [ 0., -0.,  1.]])"
            ]
          },
          "metadata": {
            "tags": []
          },
          "execution_count": 27
        }
      ]
    },
    {
      "cell_type": "markdown",
      "metadata": {
        "id": "7vT9-51p6-JU"
      },
      "source": [
        "# 종합 응용 문제"
      ]
    },
    {
      "cell_type": "markdown",
      "metadata": {
        "id": "_K6OTtES2njN"
      },
      "source": [
        "## 문제 10 (난이도  ★★★)\n",
        "\n",
        "[Sigmoid or Logistic Activation Function](https://www.tensorflow.org/api_docs/python/tf/keras/activations/sigmoid)\n",
        "\n",
        "The Sigmoid Function curve looks like a S-shape.\n",
        "\n",
        "$$ f(x) = \\frac{1}{1+e^{-x}} = \\frac {e^x}{e^x+1} = \\frac {1}{2} + \\frac {1}{2}tanh( \\frac {x}{2}) $$\n",
        "\n",
        "\n",
        "<img src = \"https://miro.medium.com/max/728/1*Xu7B5y9gp0iL5ooBj7LtWw.png\">\n",
        "\n",
        "- Domain(정의역): [$-\\infty,\\infty$]\n",
        "- Range(치역): [0, 1]\n",
        "\n"
      ]
    },
    {
      "cell_type": "markdown",
      "metadata": {
        "id": "pxZAZ-Xg3Xg3"
      },
      "source": [
        "### 문제 10.1\n",
        "\n",
        "입력 x= np.array([1,-3,3, 0, -0.5])가 주어질때 sigmoid 함수값을 계산하는 루틴을 작성하세요."
      ]
    },
    {
      "cell_type": "code",
      "metadata": {
        "colab": {
          "base_uri": "https://localhost:8080/"
        },
        "id": "3iTlS7WWaq9b",
        "outputId": "0ecbceb5-5532-4ef0-8aaa-ebf2242f6a72"
      },
      "source": [
        "# calculate the sigmoid of a vector\n",
        "\n",
        "def sigmoid(x):\n",
        "    s = 1/(1+np.exp(-x))\n",
        "    return  s\n",
        "\n",
        "print(sigmoid(np.array([1,-3,3,0,-0.5])))"
      ],
      "execution_count": 28,
      "outputs": [
        {
          "output_type": "stream",
          "text": [
            "[0.73 0.05 0.95 0.5  0.38]\n"
          ],
          "name": "stdout"
        }
      ]
    },
    {
      "cell_type": "markdown",
      "metadata": {
        "id": "NwLd2hP_48VT"
      },
      "source": [
        "### 문제 10.2\n",
        "\n",
        "x =  np.arange(-10,10,0.1)이 주어졌을때 시그모이드 함수 그래프를 그려보세요.\n"
      ]
    },
    {
      "cell_type": "code",
      "metadata": {
        "colab": {
          "base_uri": "https://localhost:8080/",
          "height": 313
        },
        "id": "hUHg9faPbguJ",
        "outputId": "3af8988d-8b9a-4bd9-daba-9d07e7ec1663"
      },
      "source": [
        "x = np.arange(-10,10,0.1)\n",
        "y = sigmoid(x)\n",
        "plt.plot(x,y)\n",
        "plt.grid()\n",
        "plt.xlabel('x')\n",
        "plt.ylabel('y')\n",
        "plt.title(\"Sigmoid Activation Function\")"
      ],
      "execution_count": 29,
      "outputs": [
        {
          "output_type": "execute_result",
          "data": {
            "text/plain": [
              "Text(0.5, 1.0, 'Sigmoid Activation Function')"
            ]
          },
          "metadata": {
            "tags": []
          },
          "execution_count": 29
        },
        {
          "output_type": "display_data",
          "data": {
            "image/png": "[encoded data removed]",
            "text/plain": [
              "<Figure size 432x288 with 1 Axes>"
            ]
          },
          "metadata": {
            "tags": [],
            "needs_background": "light"
          }
        }
      ]
    },
    {
      "cell_type": "markdown",
      "metadata": {
        "id": "vwEt4P9fS1Fa"
      },
      "source": [
        "\n"
      ]
    },
    {
      "cell_type": "markdown",
      "metadata": {
        "id": "iY90wzs3vg5s"
      },
      "source": [
        "## 문제 11\n",
        "\n",
        "### [MNIST Data](http://yann.lecun.com/exdb/mnist/)\n",
        "\n",
        "- 1998년에 만들어진 필기체 손글씨 숫자(0~9) 데이터셋  \n",
        "- 60,000개의 트레이닝 이미지와 10,000개의 테스트 이미지로 구성\n",
        "- 각 숫자이미지는 28x28 크기의 흑백(grayscale) 이미지\n",
        "\n",
        "\n",
        "> The MNIST Handwritten Digits dataset is considered as the “Hello World” of Computer Vision. \n",
        "\n",
        "\n",
        "\n",
        "<img src=\"https://www.mdpi.com/applsci/applsci-09-03169/article_deploy/html/images/applsci-09-03169-g001.png\">\n",
        "\n",
        "\n",
        "아래 코드셀은 mnist 데이터셋을 다운로드하여 훈련데이터와 테스트데이터로 구분된 numpy array를 만들어드는 코드블록이다.\n",
        "\n",
        "아래 코드셀을 실행한 후 문제를 풀어야 됩니다."
      ]
    },
    {
      "cell_type": "code",
      "metadata": {
        "colab": {
          "base_uri": "https://localhost:8080/"
        },
        "id": "Ecp1NGdumT6B",
        "outputId": "908afbba-8740-4e59-89b4-109a949fbcfb"
      },
      "source": [
        "import numpy as np\n",
        "import matplotlib.pyplot as plt\n",
        "from tensorflow.keras.datasets import mnist\n",
        "# Download and load the data\n",
        "\n",
        "(x_train, y_train),(x_test,y_test)=mnist.load_data()\n",
        "\n",
        "print('x_train: ' + str(x_train.shape)) # 훈련 데이터\n",
        "print('y_train: ' + str(y_train.shape)) # 훈련 데이터 정답\n",
        "print('x_test:  '  + str(x_test.shape)) # 테스트 데이터\n",
        "print('y_test:  '  + str(y_test.shape)) # 테스트 데이터 정답\n",
        "print(y_train[0:5])"
      ],
      "execution_count": 30,
      "outputs": [
        {
          "output_type": "stream",
          "text": [
            "Downloading data from https://storage.googleapis.com/tensorflow/tf-keras-datasets/mnist.npz\n",
            "11493376/11490434 [==============================] - 0s 0us/step\n",
            "x_train: (60000, 28, 28)\n",
            "y_train: (60000,)\n",
            "x_test:  (10000, 28, 28)\n",
            "y_test:  (10000,)\n",
            "[5 0 4 1 9]\n"
          ],
          "name": "stdout"
        }
      ]
    },
    {
      "cell_type": "code",
      "metadata": {
        "colab": {
          "base_uri": "https://localhost:8080/"
        },
        "id": "6LKR2hTvt5uW",
        "outputId": "a6b8376b-5ba0-47dd-cdd6-45e7989d07ef"
      },
      "source": [
        "type(x_train), type(y_train)"
      ],
      "execution_count": 31,
      "outputs": [
        {
          "output_type": "execute_result",
          "data": {
            "text/plain": [
              "(numpy.ndarray, numpy.ndarray)"
            ]
          },
          "metadata": {
            "tags": []
          },
          "execution_count": 31
        }
      ]
    },
    {
      "cell_type": "markdown",
      "metadata": {
        "id": "GnayWE4ApBJe"
      },
      "source": [
        "### 문제 11.1 ((난이도  ★★)\n",
        "\n",
        "임의의 훈련용 데이터(x_train[i])가 어떤 방식으로 저장되어 있는지, 무슨 숫자인지 파악할 수 있는 방법을 생각해 보세요.\n",
        "\n",
        "즉 어떻게 하면 가장 단순하게 특정 이미지 x_train[i]가 무슨 숫자인 확인할 수 있을까요?\n",
        "\n",
        "\n",
        "\n"
      ]
    },
    {
      "cell_type": "code",
      "metadata": {
        "colab": {
          "base_uri": "https://localhost:8080/"
        },
        "id": "JWQuRjs-ptW5",
        "outputId": "c8a1ec68-b7e5-4899-830f-f59a5190d3da"
      },
      "source": [
        "# Browse raw image data.\n",
        "\n",
        "np.set_printoptions(linewidth=300, precision=2)\n",
        "index = np.random.randint(0, x_train.shape[0])\n",
        "\n",
        "print(\"True label: \", y_train[index])\n",
        "print(x_train[index])"
      ],
      "execution_count": 32,
      "outputs": [
        {
          "output_type": "stream",
          "text": [
            "True label:  9\n",
            "[[  0   0   0   0   0   0   0   0   0   0   0   0   0   0   0   0   0   0   0   0   0   0   0   0   0   0   0   0]\n",
            " [  0   0   0   0   0   0   0   0   0   0   0   0   0   0   0   0   0   0   0   0   0   0   0   0   0   0   0   0]\n",
            " [  0   0   0   0   0   0   0   0   0   0   0   0   0   0   0   0   0   0   0   0   0   0   0   0   0   0   0   0]\n",
            " [  0   0   0   0   0   0   0   0   0   0   0   0   0   0   0   0   0   0   0   0   0   0   0   0   0   0   0   0]\n",
            " [  0   0   0   0   0   0   0   0   0   0   0   0   0   0   0   0   0   0   0   0   0   0   0   0   0   0   0   0]\n",
            " [  0   0   0   0   0   0   0   0   0   0   0   0   0   0  48 141 255 228  31   0   0   0   0   0   0   0   0   0]\n",
            " [  0   0   0   0   0   0   0   0   0   0   0   0   0  63 197 252 253 252  56   0   0   0   0   0   0   0   0   0]\n",
            " [  0   0   0   0   0   0   0   0   0   0   0   0  10 197 252 177 128 252 171  10   0   0   0   0   0   0   0   0]\n",
            " [  0   0   0   0   0   0   0   0   0   0   0   0 179 252 177   3  79 252 214  15   0   0   0   0   0   0   0   0]\n",
            " [  0   0   0   0   0   0   0   0   0   0   0  63 254 247  50   0 141 253 168   0   0   0   0   0   0   0   0   0]\n",
            " [  0   0   0   0   0   0   0   0   0   0   0 188 253 121   0   0 141 252 224  19   0   0   0   0   0   0   0   0]\n",
            " [  0   0   0   0   0   0   0   0   0   0  67 246 253  84   0  38 229 252 252  28   0   0   0   0   0   0   0   0]\n",
            " [  0   0   0   0   0   0   0   0   0   0  85 252 253  84   0 113 253 252 252  28   0   0   0   0   0   0   0   0]\n",
            " [  0   0   0   0   0   0   0   0   0   0  76 250 254  84  48 241 251 244 253  28   0   0   0   0   0   0   0   0]\n",
            " [  0   0   0   0   0   0   0   0   0   0   0 200 253 196 197 252 194 225 252  28   0   0   0   0   0   0   0   0]\n",
            " [  0   0   0   0   0   0   0   0   0   0   0  25 253 252 252 214  29 252 224  19   0   0   0   0   0   0   0   0]\n",
            " [  0   0   0   0   0   0   0   0   0   0   0   0  91 139 103  15 179 252 168   0   0   0   0   0   0   0   0   0]\n",
            " [  0   0   0   0   0   0   0   0   0   0   0   0   0   0   0  13 254 253 106   0   0   0   0   0   0   0   0   0]\n",
            " [  0   0   0   0   0   0   0   0   0   0   0   0   0   0  19 194 253 189  19   0   0   0   0   0   0   0   0   0]\n",
            " [  0   0   0   0   0   0   0   0   0   0   0   0   0   0  85 252 244  56   0   0   0   0   0   0   0   0   0   0]\n",
            " [  0   0   0   0   0   0   0   0  13 188 100   0   0  26 210 252 175   0   0   0   0   0   0   0   0   0   0   0]\n",
            " [  0   0   0   0   0   0   0   0  92 253 168   0   4 179 253 241   0   0   0   0   0   0   0   0   0   0   0   0]\n",
            " [  0   0   0   0   0   0   0   0 116 252 168   0 128 252 233  59   0   0   0   0   0   0   0   0   0   0   0   0]\n",
            " [  0   0   0   0   0   0   0   0   7 100 234 197 253 252 130   0   0   0   0   0   0   0   0   0   0   0   0   0]\n",
            " [  0   0   0   0   0   0   0   0   0   7 116 240 140  65   6   0   0   0   0   0   0   0   0   0   0   0   0   0]\n",
            " [  0   0   0   0   0   0   0   0   0   0   0   0   0   0   0   0   0   0   0   0   0   0   0   0   0   0   0   0]\n",
            " [  0   0   0   0   0   0   0   0   0   0   0   0   0   0   0   0   0   0   0   0   0   0   0   0   0   0   0   0]\n",
            " [  0   0   0   0   0   0   0   0   0   0   0   0   0   0   0   0   0   0   0   0   0   0   0   0   0   0   0   0]]\n"
          ],
          "name": "stdout"
        }
      ]
    },
    {
      "cell_type": "markdown",
      "metadata": {
        "id": "k6BK_dtfpyMR"
      },
      "source": [
        "### 문제 11.2 (난이도  ★★★)\n",
        "\n",
        "y_train은 60000개의 숫자이미지의 정답으로 이루어진 백터이다.  이 백터안에 각 숫자가 몇개씩 들어가 있는지를 확인하여 각 숫자의 빈도수 분포를 막대그래프(bar chart)로 출력하는 코드를 만들어 보세요."
      ]
    },
    {
      "cell_type": "code",
      "metadata": {
        "colab": {
          "base_uri": "https://localhost:8080/",
          "height": 302
        },
        "id": "Tm7PquSLuwAN",
        "outputId": "805b303d-96e6-453b-e8cd-295d8b84c93a"
      },
      "source": [
        "# count and plot the number of unique train labels\n",
        "unique, counts = np.unique(y_train, return_counts=True)\n",
        "y_train_dist = dict(zip(unique, counts))\n",
        "print(\"Train labels: \", y_train_dist)\n",
        "plt.bar(y_train_dist.keys(), y_train_dist.values(), color='g')"
      ],
      "execution_count": 33,
      "outputs": [
        {
          "output_type": "stream",
          "text": [
            "Train labels:  {0: 5923, 1: 6742, 2: 5958, 3: 6131, 4: 5842, 5: 5421, 6: 5918, 7: 6265, 8: 5851, 9: 5949}\n"
          ],
          "name": "stdout"
        },
        {
          "output_type": "execute_result",
          "data": {
            "text/plain": [
              "<BarContainer object of 10 artists>"
            ]
          },
          "metadata": {
            "tags": []
          },
          "execution_count": 33
        },
        {
          "output_type": "display_data",
          "data": {
            "image/png": "[encoded data removed]",
            "text/plain": [
              "<Figure size 432x288 with 1 Axes>"
            ]
          },
          "metadata": {
            "tags": [],
            "needs_background": "light"
          }
        }
      ]
    },
    {
      "cell_type": "markdown",
      "metadata": {
        "id": "SMhiIfZBu7FU"
      },
      "source": [
        "### 문제 11.3 (난이도  ★★★★)\n",
        "\n",
        "훈련용 데이터에서 아래와 같이 임의로 25개의 이미지를 출력하는 코드를 작성해 보세요.\n",
        "\n",
        "<img src='https://miro.medium.com/max/1050/1*LyRlX__08q40UJohhJG9Ow.png'>"
      ]
    },
    {
      "cell_type": "code",
      "metadata": {
        "colab": {
          "base_uri": "https://localhost:8080/",
          "height": 765
        },
        "id": "FDHhcW6D2bNZ",
        "outputId": "f1c8736f-1004-4f3d-d071-0b571d2b608f"
      },
      "source": [
        "# Randomly sample 25 mnist digits from train dataset\n",
        "\n",
        "\n",
        "idx =  np.random.choice(len(x_train), 25, replace=False)\n",
        "print(idx)\n",
        "print('\\n')\n",
        "\n",
        "# plot the 25 mnist digits\n",
        "\n",
        "plt.figure(figsize=(10,10))\n",
        "for i in np.arange(0,25):\n",
        "    plt.subplot(5, 5, i + 1)\n",
        "    image = x_train[idx[i]]\n",
        "    plt.imshow(image, cmap='gray')\n",
        "    plt.title('label = {}'.format(y_train[idx[i]]))\n",
        "    plt.tight_layout()\n",
        "    plt.axis('off')"
      ],
      "execution_count": 34,
      "outputs": [
        {
          "output_type": "stream",
          "text": [
            "[57068  5179  6270 29183 27745 56088 52197  4368 44061 47171 24023 55363 43676  7501 18658 37846 23652  8952 25386 11685  1646  2328   745 15379 26606]\n",
            "\n",
            "\n"
          ],
          "name": "stdout"
        },
        {
          "output_type": "display_data",
          "data": {
            "image/png": "[encoded data removed]",
            "text/plain": [
              "<Figure size 720x720 with 25 Axes>"
            ]
          },
          "metadata": {
            "tags": [],
            "needs_background": "light"
          }
        }
      ]
    },
    {
      "cell_type": "markdown",
      "metadata": {
        "id": "isLnYfc-1kvq"
      },
      "source": [
        "### 문제 11.4 (난이도  ★★★★★)\n",
        "\n",
        "테스트 데이터에서 정답이 i(i=0,1,2,,,,9)인 25개의 이미지를 무작위로 출력하는 함수를 만들고 작동하는지 함수를 실행하여 보세요.\n",
        "\n",
        "예를 들면, 테스트셋에 포함된 10,000개의 이미지중에서 특정 숫자(예를 들면 5)인 이미지를  무작위로 25개 뽑아내어 출력하는 코드를 작성하라는 문제입니다."
      ]
    },
    {
      "cell_type": "code",
      "metadata": {
        "colab": {
          "base_uri": "https://localhost:8080/",
          "height": 710
        },
        "id": "mXILlo86-KhY",
        "outputId": "91abb0c8-6d04-4595-af0b-18de1d772239"
      },
      "source": [
        "import pandas as pd\n",
        "import numpy as np\n",
        "import matplotlib.pyplot as plt\n",
        "\n",
        "# Randomly sample 25 mnist images of a specific number from 0 to 9  from test dataset\n",
        "\n",
        "\n",
        "def show_digit(i):\n",
        "\n",
        "  test_filter = np.where((y_test == i))\n",
        "  test_images = x_test[test_filter]\n",
        "  print(test_images.shape)\n",
        "\n",
        "  idx =  np.random.choice(len(test_images), 25, replace=False)\n",
        "\n",
        "  # plot the 25 mnist digits\n",
        "\n",
        "  plt.figure(figsize=(10,10))\n",
        "  for i in np.arange(0,25):\n",
        "    plt.subplot(5, 5, i + 1)\n",
        "    image = test_images[idx[i]]\n",
        "    plt.imshow(image, cmap='gray')   \n",
        "    plt.tight_layout()\n",
        "    plt.axis('off')\n",
        "\n",
        "show_digit(7)"
      ],
      "execution_count": 35,
      "outputs": [
        {
          "output_type": "stream",
          "text": [
            "(1028, 28, 28)\n"
          ],
          "name": "stdout"
        },
        {
          "output_type": "display_data",
          "data": {
            "image/png": "[encoded data removed]",
            "text/plain": [
              "<Figure size 720x720 with 25 Axes>"
            ]
          },
          "metadata": {
            "tags": [],
            "needs_background": "light"
          }
        }
      ]
    }
  ]
}