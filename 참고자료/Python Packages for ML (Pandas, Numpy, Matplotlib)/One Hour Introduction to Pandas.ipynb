{
  "nbformat": 4,
  "nbformat_minor": 0,
  "metadata": {
    "kernelspec": {
      "name": "python3",
      "display_name": "Python 3"
    },
    "colab": {
      "name": "One Hour Introduction to Pandas.ipynb",
      "provenance": [],
      "machine_shape": "hm"
    },
    "accelerator": "GPU",
    "language_info": {
      "name": "python"
    }
  },
  "cells": [
    {
      "cell_type": "code",
      "metadata": {
        "collapsed": true,
        "id": "6Qx6tPWncT5n"
      },
      "source": [
        "import pandas as pd\n",
        "import numpy as np\n",
        "import matplotlib.pyplot as plt"
      ],
      "execution_count": 1,
      "outputs": []
    },
    {
      "cell_type": "markdown",
      "metadata": {
        "id": "k58PyKJgcT5p"
      },
      "source": [
        "## Object Creation\n",
        "---\n",
        "\n",
        "See the [Data Structure Intro section](http://pandas.pydata.org/pandas-docs/stable/dsintro.html#dsintro)."
      ]
    },
    {
      "cell_type": "markdown",
      "metadata": {
        "id": "eDNg1hD5cT5p"
      },
      "source": [
        "### Create a Series\n",
        "\n",
        "Create a **Series** by passing a list of values, letting pandas create a default integer index:"
      ]
    },
    {
      "cell_type": "code",
      "metadata": {
        "collapsed": true,
        "id": "6piYbsyRcT5p"
      },
      "source": [
        "s = pd.Series([1, 3, 5, np.nan, 6, 8])"
      ],
      "execution_count": 2,
      "outputs": []
    },
    {
      "cell_type": "code",
      "metadata": {
        "id": "ltAVdyOJcT5p",
        "colab": {
          "base_uri": "https://localhost:8080/"
        },
        "outputId": "e431f5bd-cc2c-46be-bc4e-10c871cd8a3b"
      },
      "source": [
        "s"
      ],
      "execution_count": 3,
      "outputs": [
        {
          "output_type": "execute_result",
          "data": {
            "text/plain": [
              "0    1.0\n",
              "1    3.0\n",
              "2    5.0\n",
              "3    NaN\n",
              "4    6.0\n",
              "5    8.0\n",
              "dtype: float64"
            ]
          },
          "metadata": {
            "tags": []
          },
          "execution_count": 3
        }
      ]
    },
    {
      "cell_type": "markdown",
      "metadata": {
        "id": "rehq6YmNcT5q"
      },
      "source": [
        "### Create a DataFrame\n",
        "\n",
        "+ From a **numpy array**, with a datetime **index** and labeled **columns**:"
      ]
    },
    {
      "cell_type": "code",
      "metadata": {
        "collapsed": true,
        "id": "picOLSI2cT5q"
      },
      "source": [
        "dates = pd.date_range('20130101', periods = 6)"
      ],
      "execution_count": 4,
      "outputs": []
    },
    {
      "cell_type": "code",
      "metadata": {
        "id": "CjB5DFNQcT5q",
        "colab": {
          "base_uri": "https://localhost:8080/"
        },
        "outputId": "cbd78122-4629-460c-81c6-8d7bca296a6e"
      },
      "source": [
        "dates"
      ],
      "execution_count": 5,
      "outputs": [
        {
          "output_type": "execute_result",
          "data": {
            "text/plain": [
              "DatetimeIndex(['2013-01-01', '2013-01-02', '2013-01-03', '2013-01-04',\n",
              "               '2013-01-05', '2013-01-06'],\n",
              "              dtype='datetime64[ns]', freq='D')"
            ]
          },
          "metadata": {
            "tags": []
          },
          "execution_count": 5
        }
      ]
    },
    {
      "cell_type": "code",
      "metadata": {
        "collapsed": true,
        "id": "CeCy5NZ0cT5r"
      },
      "source": [
        "df = pd.DataFrame(np.random.randn(6, 4), index = dates, columns = list('ABCD'))"
      ],
      "execution_count": 6,
      "outputs": []
    },
    {
      "cell_type": "code",
      "metadata": {
        "colab": {
          "base_uri": "https://localhost:8080/"
        },
        "id": "VC9NcKgTIfv5",
        "outputId": "e9386f56-313c-4644-8d55-dc6cb714da22"
      },
      "source": [
        "a=list('abcd') \n",
        "b=list(['a','b','c','d'])\n",
        "print(a==b)\n",
        "print(a,b)\n"
      ],
      "execution_count": 7,
      "outputs": [
        {
          "output_type": "stream",
          "text": [
            "True\n",
            "['a', 'b', 'c', 'd'] ['a', 'b', 'c', 'd']\n"
          ],
          "name": "stdout"
        }
      ]
    },
    {
      "cell_type": "code",
      "metadata": {
        "id": "epSzZSKXcT5r",
        "colab": {
          "base_uri": "https://localhost:8080/",
          "height": 233
        },
        "outputId": "c0acfdce-9a04-45e7-ccc6-422726e71d5d"
      },
      "source": [
        "df"
      ],
      "execution_count": 8,
      "outputs": [
        {
          "output_type": "execute_result",
          "data": {
            "text/html": [
              "<div>\n",
              "<style scoped>\n",
              "    .dataframe tbody tr th:only-of-type {\n",
              "        vertical-align: middle;\n",
              "    }\n",
              "\n",
              "    .dataframe tbody tr th {\n",
              "        vertical-align: top;\n",
              "    }\n",
              "\n",
              "    .dataframe thead th {\n",
              "        text-align: right;\n",
              "    }\n",
              "</style>\n",
              "<table border=\"1\" class=\"dataframe\">\n",
              "  <thead>\n",
              "    <tr style=\"text-align: right;\">\n",
              "      <th></th>\n",
              "      <th>A</th>\n",
              "      <th>B</th>\n",
              "      <th>C</th>\n",
              "      <th>D</th>\n",
              "    </tr>\n",
              "  </thead>\n",
              "  <tbody>\n",
              "    <tr>\n",
              "      <th>2013-01-01</th>\n",
              "      <td>-1.138862</td>\n",
              "      <td>-0.339993</td>\n",
              "      <td>1.045905</td>\n",
              "      <td>-1.065211</td>\n",
              "    </tr>\n",
              "    <tr>\n",
              "      <th>2013-01-02</th>\n",
              "      <td>0.805619</td>\n",
              "      <td>-0.891548</td>\n",
              "      <td>1.132089</td>\n",
              "      <td>0.715656</td>\n",
              "    </tr>\n",
              "    <tr>\n",
              "      <th>2013-01-03</th>\n",
              "      <td>0.011333</td>\n",
              "      <td>0.886859</td>\n",
              "      <td>0.813180</td>\n",
              "      <td>-2.197983</td>\n",
              "    </tr>\n",
              "    <tr>\n",
              "      <th>2013-01-04</th>\n",
              "      <td>-0.298433</td>\n",
              "      <td>0.977847</td>\n",
              "      <td>0.250832</td>\n",
              "      <td>-0.350088</td>\n",
              "    </tr>\n",
              "    <tr>\n",
              "      <th>2013-01-05</th>\n",
              "      <td>1.443657</td>\n",
              "      <td>0.448984</td>\n",
              "      <td>-0.636154</td>\n",
              "      <td>0.233922</td>\n",
              "    </tr>\n",
              "    <tr>\n",
              "      <th>2013-01-06</th>\n",
              "      <td>0.278407</td>\n",
              "      <td>-0.007972</td>\n",
              "      <td>0.552019</td>\n",
              "      <td>-0.205938</td>\n",
              "    </tr>\n",
              "  </tbody>\n",
              "</table>\n",
              "</div>"
            ],
            "text/plain": [
              "                   A         B         C         D\n",
              "2013-01-01 -1.138862 -0.339993  1.045905 -1.065211\n",
              "2013-01-02  0.805619 -0.891548  1.132089  0.715656\n",
              "2013-01-03  0.011333  0.886859  0.813180 -2.197983\n",
              "2013-01-04 -0.298433  0.977847  0.250832 -0.350088\n",
              "2013-01-05  1.443657  0.448984 -0.636154  0.233922\n",
              "2013-01-06  0.278407 -0.007972  0.552019 -0.205938"
            ]
          },
          "metadata": {
            "tags": []
          },
          "execution_count": 8
        }
      ]
    },
    {
      "cell_type": "markdown",
      "metadata": {
        "id": "8XfbiinicT5r"
      },
      "source": [
        "* From a **dict** of objects that can be converted to series-like."
      ]
    },
    {
      "cell_type": "code",
      "metadata": {
        "collapsed": true,
        "id": "umOeqMAqcT5r"
      },
      "source": [
        "df2 = pd.DataFrame({ 'A' : 1.,\n",
        "                     'B' : pd.Timestamp('20130102'),\n",
        "                     'C' : pd.Series(1,index=list(range(4)),dtype='float32'),\n",
        "                     'D' : np.array([3] * 4,dtype='int32'),\n",
        "                     'E' : pd.Categorical([\"test\",\"train\",\"test\",\"train\"]),\n",
        "                     'F' : 'foo' })"
      ],
      "execution_count": 9,
      "outputs": []
    },
    {
      "cell_type": "markdown",
      "metadata": {
        "id": "pa8ZDSsxi6jJ"
      },
      "source": [
        "#### 참고: 약간 복잡한 list comprehension"
      ]
    },
    {
      "cell_type": "code",
      "metadata": {
        "colab": {
          "base_uri": "https://localhost:8080/"
        },
        "id": "pWOWYPv14NJW",
        "outputId": "6f1cdaed-77f5-4bd8-c771-7788b59b6760"
      },
      "source": [
        "P = [ [3*(i-1)+j]*3 for i in range(1,4) for j in range(1,4) ]\n",
        "P"
      ],
      "execution_count": 10,
      "outputs": [
        {
          "output_type": "execute_result",
          "data": {
            "text/plain": [
              "[[1, 1, 1],\n",
              " [2, 2, 2],\n",
              " [3, 3, 3],\n",
              " [4, 4, 4],\n",
              " [5, 5, 5],\n",
              " [6, 6, 6],\n",
              " [7, 7, 7],\n",
              " [8, 8, 8],\n",
              " [9, 9, 9]]"
            ]
          },
          "metadata": {
            "tags": []
          },
          "execution_count": 10
        }
      ]
    },
    {
      "cell_type": "code",
      "metadata": {
        "id": "_IR86NtBcT5r",
        "colab": {
          "base_uri": "https://localhost:8080/",
          "height": 171
        },
        "outputId": "030087f0-ff45-4d2f-d684-0865af29dc80"
      },
      "source": [
        "df2"
      ],
      "execution_count": 11,
      "outputs": [
        {
          "output_type": "execute_result",
          "data": {
            "text/html": [
              "<div>\n",
              "<style scoped>\n",
              "    .dataframe tbody tr th:only-of-type {\n",
              "        vertical-align: middle;\n",
              "    }\n",
              "\n",
              "    .dataframe tbody tr th {\n",
              "        vertical-align: top;\n",
              "    }\n",
              "\n",
              "    .dataframe thead th {\n",
              "        text-align: right;\n",
              "    }\n",
              "</style>\n",
              "<table border=\"1\" class=\"dataframe\">\n",
              "  <thead>\n",
              "    <tr style=\"text-align: right;\">\n",
              "      <th></th>\n",
              "      <th>A</th>\n",
              "      <th>B</th>\n",
              "      <th>C</th>\n",
              "      <th>D</th>\n",
              "      <th>E</th>\n",
              "      <th>F</th>\n",
              "    </tr>\n",
              "  </thead>\n",
              "  <tbody>\n",
              "    <tr>\n",
              "      <th>0</th>\n",
              "      <td>1.0</td>\n",
              "      <td>2013-01-02</td>\n",
              "      <td>1.0</td>\n",
              "      <td>3</td>\n",
              "      <td>test</td>\n",
              "      <td>foo</td>\n",
              "    </tr>\n",
              "    <tr>\n",
              "      <th>1</th>\n",
              "      <td>1.0</td>\n",
              "      <td>2013-01-02</td>\n",
              "      <td>1.0</td>\n",
              "      <td>3</td>\n",
              "      <td>train</td>\n",
              "      <td>foo</td>\n",
              "    </tr>\n",
              "    <tr>\n",
              "      <th>2</th>\n",
              "      <td>1.0</td>\n",
              "      <td>2013-01-02</td>\n",
              "      <td>1.0</td>\n",
              "      <td>3</td>\n",
              "      <td>test</td>\n",
              "      <td>foo</td>\n",
              "    </tr>\n",
              "    <tr>\n",
              "      <th>3</th>\n",
              "      <td>1.0</td>\n",
              "      <td>2013-01-02</td>\n",
              "      <td>1.0</td>\n",
              "      <td>3</td>\n",
              "      <td>train</td>\n",
              "      <td>foo</td>\n",
              "    </tr>\n",
              "  </tbody>\n",
              "</table>\n",
              "</div>"
            ],
            "text/plain": [
              "     A          B    C  D      E    F\n",
              "0  1.0 2013-01-02  1.0  3   test  foo\n",
              "1  1.0 2013-01-02  1.0  3  train  foo\n",
              "2  1.0 2013-01-02  1.0  3   test  foo\n",
              "3  1.0 2013-01-02  1.0  3  train  foo"
            ]
          },
          "metadata": {
            "tags": []
          },
          "execution_count": 11
        }
      ]
    },
    {
      "cell_type": "markdown",
      "metadata": {
        "id": "J-Nil0-ZcT5s"
      },
      "source": [
        "Having specific dtypes"
      ]
    },
    {
      "cell_type": "code",
      "metadata": {
        "id": "wj1IweCDcT5s",
        "colab": {
          "base_uri": "https://localhost:8080/"
        },
        "outputId": "32cf9a2f-c46e-48a7-e1a6-7b4d3568eb22"
      },
      "source": [
        "df2.dtypes"
      ],
      "execution_count": 12,
      "outputs": [
        {
          "output_type": "execute_result",
          "data": {
            "text/plain": [
              "A           float64\n",
              "B    datetime64[ns]\n",
              "C           float32\n",
              "D             int32\n",
              "E          category\n",
              "F            object\n",
              "dtype: object"
            ]
          },
          "metadata": {
            "tags": []
          },
          "execution_count": 12
        }
      ]
    },
    {
      "cell_type": "markdown",
      "metadata": {
        "id": "NkRDlJL9cT5s"
      },
      "source": [
        "If you’re using IPython, tab completion for column names (as well as public attributes) is automatically enabled. Here’s a subset of the attributes that will be completed:"
      ]
    },
    {
      "cell_type": "markdown",
      "metadata": {
        "id": "8icb_ud_cT5s"
      },
      "source": [
        "## Viewing Data\n",
        "---\n",
        "See the [Basics section](https://pandas.pydata.org/pandas-docs/stable/basics.html#basics \"Essential Basic Functionality\")"
      ]
    },
    {
      "cell_type": "markdown",
      "metadata": {
        "id": "aWbUG451cT5s"
      },
      "source": [
        "See the top & bottom rows of the frame."
      ]
    },
    {
      "cell_type": "code",
      "metadata": {
        "id": "37R1FvRucT5t",
        "colab": {
          "base_uri": "https://localhost:8080/",
          "height": 0
        },
        "outputId": "d3c5ef86-2d51-45cd-fd93-43ed04bdad9c"
      },
      "source": [
        "df.head()\n",
        "df"
      ],
      "execution_count": 13,
      "outputs": [
        {
          "output_type": "execute_result",
          "data": {
            "text/html": [
              "<div>\n",
              "<style scoped>\n",
              "    .dataframe tbody tr th:only-of-type {\n",
              "        vertical-align: middle;\n",
              "    }\n",
              "\n",
              "    .dataframe tbody tr th {\n",
              "        vertical-align: top;\n",
              "    }\n",
              "\n",
              "    .dataframe thead th {\n",
              "        text-align: right;\n",
              "    }\n",
              "</style>\n",
              "<table border=\"1\" class=\"dataframe\">\n",
              "  <thead>\n",
              "    <tr style=\"text-align: right;\">\n",
              "      <th></th>\n",
              "      <th>A</th>\n",
              "      <th>B</th>\n",
              "      <th>C</th>\n",
              "      <th>D</th>\n",
              "    </tr>\n",
              "  </thead>\n",
              "  <tbody>\n",
              "    <tr>\n",
              "      <th>2013-01-01</th>\n",
              "      <td>-1.138862</td>\n",
              "      <td>-0.339993</td>\n",
              "      <td>1.045905</td>\n",
              "      <td>-1.065211</td>\n",
              "    </tr>\n",
              "    <tr>\n",
              "      <th>2013-01-02</th>\n",
              "      <td>0.805619</td>\n",
              "      <td>-0.891548</td>\n",
              "      <td>1.132089</td>\n",
              "      <td>0.715656</td>\n",
              "    </tr>\n",
              "    <tr>\n",
              "      <th>2013-01-03</th>\n",
              "      <td>0.011333</td>\n",
              "      <td>0.886859</td>\n",
              "      <td>0.813180</td>\n",
              "      <td>-2.197983</td>\n",
              "    </tr>\n",
              "    <tr>\n",
              "      <th>2013-01-04</th>\n",
              "      <td>-0.298433</td>\n",
              "      <td>0.977847</td>\n",
              "      <td>0.250832</td>\n",
              "      <td>-0.350088</td>\n",
              "    </tr>\n",
              "    <tr>\n",
              "      <th>2013-01-05</th>\n",
              "      <td>1.443657</td>\n",
              "      <td>0.448984</td>\n",
              "      <td>-0.636154</td>\n",
              "      <td>0.233922</td>\n",
              "    </tr>\n",
              "    <tr>\n",
              "      <th>2013-01-06</th>\n",
              "      <td>0.278407</td>\n",
              "      <td>-0.007972</td>\n",
              "      <td>0.552019</td>\n",
              "      <td>-0.205938</td>\n",
              "    </tr>\n",
              "  </tbody>\n",
              "</table>\n",
              "</div>"
            ],
            "text/plain": [
              "                   A         B         C         D\n",
              "2013-01-01 -1.138862 -0.339993  1.045905 -1.065211\n",
              "2013-01-02  0.805619 -0.891548  1.132089  0.715656\n",
              "2013-01-03  0.011333  0.886859  0.813180 -2.197983\n",
              "2013-01-04 -0.298433  0.977847  0.250832 -0.350088\n",
              "2013-01-05  1.443657  0.448984 -0.636154  0.233922\n",
              "2013-01-06  0.278407 -0.007972  0.552019 -0.205938"
            ]
          },
          "metadata": {
            "tags": []
          },
          "execution_count": 13
        }
      ]
    },
    {
      "cell_type": "code",
      "metadata": {
        "id": "kgPeENtKcT5t",
        "colab": {
          "base_uri": "https://localhost:8080/",
          "height": 0
        },
        "outputId": "5587fb8f-ad7e-4f9f-ad65-c3fc204b0ff9"
      },
      "source": [
        "df.tail(3)"
      ],
      "execution_count": 14,
      "outputs": [
        {
          "output_type": "execute_result",
          "data": {
            "text/html": [
              "<div>\n",
              "<style scoped>\n",
              "    .dataframe tbody tr th:only-of-type {\n",
              "        vertical-align: middle;\n",
              "    }\n",
              "\n",
              "    .dataframe tbody tr th {\n",
              "        vertical-align: top;\n",
              "    }\n",
              "\n",
              "    .dataframe thead th {\n",
              "        text-align: right;\n",
              "    }\n",
              "</style>\n",
              "<table border=\"1\" class=\"dataframe\">\n",
              "  <thead>\n",
              "    <tr style=\"text-align: right;\">\n",
              "      <th></th>\n",
              "      <th>A</th>\n",
              "      <th>B</th>\n",
              "      <th>C</th>\n",
              "      <th>D</th>\n",
              "    </tr>\n",
              "  </thead>\n",
              "  <tbody>\n",
              "    <tr>\n",
              "      <th>2013-01-04</th>\n",
              "      <td>-0.298433</td>\n",
              "      <td>0.977847</td>\n",
              "      <td>0.250832</td>\n",
              "      <td>-0.350088</td>\n",
              "    </tr>\n",
              "    <tr>\n",
              "      <th>2013-01-05</th>\n",
              "      <td>1.443657</td>\n",
              "      <td>0.448984</td>\n",
              "      <td>-0.636154</td>\n",
              "      <td>0.233922</td>\n",
              "    </tr>\n",
              "    <tr>\n",
              "      <th>2013-01-06</th>\n",
              "      <td>0.278407</td>\n",
              "      <td>-0.007972</td>\n",
              "      <td>0.552019</td>\n",
              "      <td>-0.205938</td>\n",
              "    </tr>\n",
              "  </tbody>\n",
              "</table>\n",
              "</div>"
            ],
            "text/plain": [
              "                   A         B         C         D\n",
              "2013-01-04 -0.298433  0.977847  0.250832 -0.350088\n",
              "2013-01-05  1.443657  0.448984 -0.636154  0.233922\n",
              "2013-01-06  0.278407 -0.007972  0.552019 -0.205938"
            ]
          },
          "metadata": {
            "tags": []
          },
          "execution_count": 14
        }
      ]
    },
    {
      "cell_type": "code",
      "metadata": {
        "colab": {
          "base_uri": "https://localhost:8080/"
        },
        "id": "3disbaieFA_3",
        "outputId": "d91f1f10-f49a-496f-f972-148e8114e643"
      },
      "source": [
        "len(df), df.shape\n",
        "\n"
      ],
      "execution_count": 15,
      "outputs": [
        {
          "output_type": "execute_result",
          "data": {
            "text/plain": [
              "(6, (6, 4))"
            ]
          },
          "metadata": {
            "tags": []
          },
          "execution_count": 15
        }
      ]
    },
    {
      "cell_type": "markdown",
      "metadata": {
        "id": "2UbEoS4JcT5t"
      },
      "source": [
        "Display the index, colums, and the underlying numpy data."
      ]
    },
    {
      "cell_type": "code",
      "metadata": {
        "id": "okGv7ihWcT5t",
        "colab": {
          "base_uri": "https://localhost:8080/"
        },
        "outputId": "9dda5de1-104c-4d8a-fa8b-ec0319e68a7f"
      },
      "source": [
        "df.index"
      ],
      "execution_count": 16,
      "outputs": [
        {
          "output_type": "execute_result",
          "data": {
            "text/plain": [
              "DatetimeIndex(['2013-01-01', '2013-01-02', '2013-01-03', '2013-01-04',\n",
              "               '2013-01-05', '2013-01-06'],\n",
              "              dtype='datetime64[ns]', freq='D')"
            ]
          },
          "metadata": {
            "tags": []
          },
          "execution_count": 16
        }
      ]
    },
    {
      "cell_type": "code",
      "metadata": {
        "id": "0ullBSGkcT5t",
        "colab": {
          "base_uri": "https://localhost:8080/"
        },
        "outputId": "602e0eab-0eb3-4a96-d10c-a685a1a035a6"
      },
      "source": [
        "df.columns"
      ],
      "execution_count": 17,
      "outputs": [
        {
          "output_type": "execute_result",
          "data": {
            "text/plain": [
              "Index(['A', 'B', 'C', 'D'], dtype='object')"
            ]
          },
          "metadata": {
            "tags": []
          },
          "execution_count": 17
        }
      ]
    },
    {
      "cell_type": "code",
      "metadata": {
        "id": "8WLYHTbZcT5t",
        "colab": {
          "base_uri": "https://localhost:8080/"
        },
        "outputId": "1771ed5b-d09f-47e2-baca-4b6f85e5390a"
      },
      "source": [
        "c=df.values  # convert to numpy array(ndarray)\n",
        "print(type(c))\n",
        "c"
      ],
      "execution_count": 18,
      "outputs": [
        {
          "output_type": "stream",
          "text": [
            "<class 'numpy.ndarray'>\n"
          ],
          "name": "stdout"
        },
        {
          "output_type": "execute_result",
          "data": {
            "text/plain": [
              "array([[-1.13886167, -0.33999309,  1.04590495, -1.06521116],\n",
              "       [ 0.805619  , -0.89154799,  1.13208865,  0.71565627],\n",
              "       [ 0.01133295,  0.88685897,  0.81318005, -2.19798265],\n",
              "       [-0.29843321,  0.97784704,  0.25083157, -0.35008845],\n",
              "       [ 1.44365693,  0.44898438, -0.63615414,  0.23392179],\n",
              "       [ 0.27840687, -0.0079721 ,  0.55201885, -0.20593798]])"
            ]
          },
          "metadata": {
            "tags": []
          },
          "execution_count": 18
        }
      ]
    },
    {
      "cell_type": "markdown",
      "metadata": {
        "id": "on55MqH-cT5t"
      },
      "source": [
        "Describe shows a quick statistic summary of your data."
      ]
    },
    {
      "cell_type": "code",
      "metadata": {
        "id": "AMwKyc0ZcT5t",
        "colab": {
          "base_uri": "https://localhost:8080/",
          "height": 0
        },
        "outputId": "6e21498e-e96a-4ac1-a493-2497507d9861"
      },
      "source": [
        "df.describe()"
      ],
      "execution_count": 19,
      "outputs": [
        {
          "output_type": "execute_result",
          "data": {
            "text/html": [
              "<div>\n",
              "<style scoped>\n",
              "    .dataframe tbody tr th:only-of-type {\n",
              "        vertical-align: middle;\n",
              "    }\n",
              "\n",
              "    .dataframe tbody tr th {\n",
              "        vertical-align: top;\n",
              "    }\n",
              "\n",
              "    .dataframe thead th {\n",
              "        text-align: right;\n",
              "    }\n",
              "</style>\n",
              "<table border=\"1\" class=\"dataframe\">\n",
              "  <thead>\n",
              "    <tr style=\"text-align: right;\">\n",
              "      <th></th>\n",
              "      <th>A</th>\n",
              "      <th>B</th>\n",
              "      <th>C</th>\n",
              "      <th>D</th>\n",
              "    </tr>\n",
              "  </thead>\n",
              "  <tbody>\n",
              "    <tr>\n",
              "      <th>count</th>\n",
              "      <td>6.000000</td>\n",
              "      <td>6.000000</td>\n",
              "      <td>6.000000</td>\n",
              "      <td>6.000000</td>\n",
              "    </tr>\n",
              "    <tr>\n",
              "      <th>mean</th>\n",
              "      <td>0.183620</td>\n",
              "      <td>0.179030</td>\n",
              "      <td>0.526312</td>\n",
              "      <td>-0.478274</td>\n",
              "    </tr>\n",
              "    <tr>\n",
              "      <th>std</th>\n",
              "      <td>0.893821</td>\n",
              "      <td>0.729726</td>\n",
              "      <td>0.655303</td>\n",
              "      <td>1.032006</td>\n",
              "    </tr>\n",
              "    <tr>\n",
              "      <th>min</th>\n",
              "      <td>-1.138862</td>\n",
              "      <td>-0.891548</td>\n",
              "      <td>-0.636154</td>\n",
              "      <td>-2.197983</td>\n",
              "    </tr>\n",
              "    <tr>\n",
              "      <th>25%</th>\n",
              "      <td>-0.220992</td>\n",
              "      <td>-0.256988</td>\n",
              "      <td>0.326128</td>\n",
              "      <td>-0.886430</td>\n",
              "    </tr>\n",
              "    <tr>\n",
              "      <th>50%</th>\n",
              "      <td>0.144870</td>\n",
              "      <td>0.220506</td>\n",
              "      <td>0.682599</td>\n",
              "      <td>-0.278013</td>\n",
              "    </tr>\n",
              "    <tr>\n",
              "      <th>75%</th>\n",
              "      <td>0.673816</td>\n",
              "      <td>0.777390</td>\n",
              "      <td>0.987724</td>\n",
              "      <td>0.123957</td>\n",
              "    </tr>\n",
              "    <tr>\n",
              "      <th>max</th>\n",
              "      <td>1.443657</td>\n",
              "      <td>0.977847</td>\n",
              "      <td>1.132089</td>\n",
              "      <td>0.715656</td>\n",
              "    </tr>\n",
              "  </tbody>\n",
              "</table>\n",
              "</div>"
            ],
            "text/plain": [
              "              A         B         C         D\n",
              "count  6.000000  6.000000  6.000000  6.000000\n",
              "mean   0.183620  0.179030  0.526312 -0.478274\n",
              "std    0.893821  0.729726  0.655303  1.032006\n",
              "min   -1.138862 -0.891548 -0.636154 -2.197983\n",
              "25%   -0.220992 -0.256988  0.326128 -0.886430\n",
              "50%    0.144870  0.220506  0.682599 -0.278013\n",
              "75%    0.673816  0.777390  0.987724  0.123957\n",
              "max    1.443657  0.977847  1.132089  0.715656"
            ]
          },
          "metadata": {
            "tags": []
          },
          "execution_count": 19
        }
      ]
    },
    {
      "cell_type": "markdown",
      "metadata": {
        "id": "-eXCwD9lcT5u"
      },
      "source": [
        "Transposing your data."
      ]
    },
    {
      "cell_type": "code",
      "metadata": {
        "id": "C59LUOFycT5u",
        "colab": {
          "base_uri": "https://localhost:8080/",
          "height": 0
        },
        "outputId": "772d6b4c-d6b2-4824-ed6a-43adfee5fb41"
      },
      "source": [
        "df.T"
      ],
      "execution_count": 20,
      "outputs": [
        {
          "output_type": "execute_result",
          "data": {
            "text/html": [
              "<div>\n",
              "<style scoped>\n",
              "    .dataframe tbody tr th:only-of-type {\n",
              "        vertical-align: middle;\n",
              "    }\n",
              "\n",
              "    .dataframe tbody tr th {\n",
              "        vertical-align: top;\n",
              "    }\n",
              "\n",
              "    .dataframe thead th {\n",
              "        text-align: right;\n",
              "    }\n",
              "</style>\n",
              "<table border=\"1\" class=\"dataframe\">\n",
              "  <thead>\n",
              "    <tr style=\"text-align: right;\">\n",
              "      <th></th>\n",
              "      <th>2013-01-01</th>\n",
              "      <th>2013-01-02</th>\n",
              "      <th>2013-01-03</th>\n",
              "      <th>2013-01-04</th>\n",
              "      <th>2013-01-05</th>\n",
              "      <th>2013-01-06</th>\n",
              "    </tr>\n",
              "  </thead>\n",
              "  <tbody>\n",
              "    <tr>\n",
              "      <th>A</th>\n",
              "      <td>-1.138862</td>\n",
              "      <td>0.805619</td>\n",
              "      <td>0.011333</td>\n",
              "      <td>-0.298433</td>\n",
              "      <td>1.443657</td>\n",
              "      <td>0.278407</td>\n",
              "    </tr>\n",
              "    <tr>\n",
              "      <th>B</th>\n",
              "      <td>-0.339993</td>\n",
              "      <td>-0.891548</td>\n",
              "      <td>0.886859</td>\n",
              "      <td>0.977847</td>\n",
              "      <td>0.448984</td>\n",
              "      <td>-0.007972</td>\n",
              "    </tr>\n",
              "    <tr>\n",
              "      <th>C</th>\n",
              "      <td>1.045905</td>\n",
              "      <td>1.132089</td>\n",
              "      <td>0.813180</td>\n",
              "      <td>0.250832</td>\n",
              "      <td>-0.636154</td>\n",
              "      <td>0.552019</td>\n",
              "    </tr>\n",
              "    <tr>\n",
              "      <th>D</th>\n",
              "      <td>-1.065211</td>\n",
              "      <td>0.715656</td>\n",
              "      <td>-2.197983</td>\n",
              "      <td>-0.350088</td>\n",
              "      <td>0.233922</td>\n",
              "      <td>-0.205938</td>\n",
              "    </tr>\n",
              "  </tbody>\n",
              "</table>\n",
              "</div>"
            ],
            "text/plain": [
              "   2013-01-01  2013-01-02  2013-01-03  2013-01-04  2013-01-05  2013-01-06\n",
              "A   -1.138862    0.805619    0.011333   -0.298433    1.443657    0.278407\n",
              "B   -0.339993   -0.891548    0.886859    0.977847    0.448984   -0.007972\n",
              "C    1.045905    1.132089    0.813180    0.250832   -0.636154    0.552019\n",
              "D   -1.065211    0.715656   -2.197983   -0.350088    0.233922   -0.205938"
            ]
          },
          "metadata": {
            "tags": []
          },
          "execution_count": 20
        }
      ]
    },
    {
      "cell_type": "markdown",
      "metadata": {
        "id": "WLYNYeJecT5u"
      },
      "source": [
        "Sorting by an axis."
      ]
    },
    {
      "cell_type": "code",
      "metadata": {
        "id": "PvtiP8GHcT5u",
        "colab": {
          "base_uri": "https://localhost:8080/",
          "height": 0
        },
        "outputId": "333b8792-66cd-4534-c5c1-f1fb45b424f6"
      },
      "source": [
        "df.sort_index(axis='columns',ascending = False) # Axis to be sorted. => axis{0 or ‘index’, 1 or ‘columns’}, default 0 "
      ],
      "execution_count": 21,
      "outputs": [
        {
          "output_type": "execute_result",
          "data": {
            "text/html": [
              "<div>\n",
              "<style scoped>\n",
              "    .dataframe tbody tr th:only-of-type {\n",
              "        vertical-align: middle;\n",
              "    }\n",
              "\n",
              "    .dataframe tbody tr th {\n",
              "        vertical-align: top;\n",
              "    }\n",
              "\n",
              "    .dataframe thead th {\n",
              "        text-align: right;\n",
              "    }\n",
              "</style>\n",
              "<table border=\"1\" class=\"dataframe\">\n",
              "  <thead>\n",
              "    <tr style=\"text-align: right;\">\n",
              "      <th></th>\n",
              "      <th>D</th>\n",
              "      <th>C</th>\n",
              "      <th>B</th>\n",
              "      <th>A</th>\n",
              "    </tr>\n",
              "  </thead>\n",
              "  <tbody>\n",
              "    <tr>\n",
              "      <th>2013-01-01</th>\n",
              "      <td>-1.065211</td>\n",
              "      <td>1.045905</td>\n",
              "      <td>-0.339993</td>\n",
              "      <td>-1.138862</td>\n",
              "    </tr>\n",
              "    <tr>\n",
              "      <th>2013-01-02</th>\n",
              "      <td>0.715656</td>\n",
              "      <td>1.132089</td>\n",
              "      <td>-0.891548</td>\n",
              "      <td>0.805619</td>\n",
              "    </tr>\n",
              "    <tr>\n",
              "      <th>2013-01-03</th>\n",
              "      <td>-2.197983</td>\n",
              "      <td>0.813180</td>\n",
              "      <td>0.886859</td>\n",
              "      <td>0.011333</td>\n",
              "    </tr>\n",
              "    <tr>\n",
              "      <th>2013-01-04</th>\n",
              "      <td>-0.350088</td>\n",
              "      <td>0.250832</td>\n",
              "      <td>0.977847</td>\n",
              "      <td>-0.298433</td>\n",
              "    </tr>\n",
              "    <tr>\n",
              "      <th>2013-01-05</th>\n",
              "      <td>0.233922</td>\n",
              "      <td>-0.636154</td>\n",
              "      <td>0.448984</td>\n",
              "      <td>1.443657</td>\n",
              "    </tr>\n",
              "    <tr>\n",
              "      <th>2013-01-06</th>\n",
              "      <td>-0.205938</td>\n",
              "      <td>0.552019</td>\n",
              "      <td>-0.007972</td>\n",
              "      <td>0.278407</td>\n",
              "    </tr>\n",
              "  </tbody>\n",
              "</table>\n",
              "</div>"
            ],
            "text/plain": [
              "                   D         C         B         A\n",
              "2013-01-01 -1.065211  1.045905 -0.339993 -1.138862\n",
              "2013-01-02  0.715656  1.132089 -0.891548  0.805619\n",
              "2013-01-03 -2.197983  0.813180  0.886859  0.011333\n",
              "2013-01-04 -0.350088  0.250832  0.977847 -0.298433\n",
              "2013-01-05  0.233922 -0.636154  0.448984  1.443657\n",
              "2013-01-06 -0.205938  0.552019 -0.007972  0.278407"
            ]
          },
          "metadata": {
            "tags": []
          },
          "execution_count": 21
        }
      ]
    },
    {
      "cell_type": "code",
      "metadata": {
        "id": "od9ruYyqrOJz",
        "colab": {
          "base_uri": "https://localhost:8080/",
          "height": 0
        },
        "outputId": "4770f5dd-9edf-463c-c777-32ce483abfbe"
      },
      "source": [
        "df.sort_index(axis='index', ascending = False)"
      ],
      "execution_count": 22,
      "outputs": [
        {
          "output_type": "execute_result",
          "data": {
            "text/html": [
              "<div>\n",
              "<style scoped>\n",
              "    .dataframe tbody tr th:only-of-type {\n",
              "        vertical-align: middle;\n",
              "    }\n",
              "\n",
              "    .dataframe tbody tr th {\n",
              "        vertical-align: top;\n",
              "    }\n",
              "\n",
              "    .dataframe thead th {\n",
              "        text-align: right;\n",
              "    }\n",
              "</style>\n",
              "<table border=\"1\" class=\"dataframe\">\n",
              "  <thead>\n",
              "    <tr style=\"text-align: right;\">\n",
              "      <th></th>\n",
              "      <th>A</th>\n",
              "      <th>B</th>\n",
              "      <th>C</th>\n",
              "      <th>D</th>\n",
              "    </tr>\n",
              "  </thead>\n",
              "  <tbody>\n",
              "    <tr>\n",
              "      <th>2013-01-06</th>\n",
              "      <td>0.278407</td>\n",
              "      <td>-0.007972</td>\n",
              "      <td>0.552019</td>\n",
              "      <td>-0.205938</td>\n",
              "    </tr>\n",
              "    <tr>\n",
              "      <th>2013-01-05</th>\n",
              "      <td>1.443657</td>\n",
              "      <td>0.448984</td>\n",
              "      <td>-0.636154</td>\n",
              "      <td>0.233922</td>\n",
              "    </tr>\n",
              "    <tr>\n",
              "      <th>2013-01-04</th>\n",
              "      <td>-0.298433</td>\n",
              "      <td>0.977847</td>\n",
              "      <td>0.250832</td>\n",
              "      <td>-0.350088</td>\n",
              "    </tr>\n",
              "    <tr>\n",
              "      <th>2013-01-03</th>\n",
              "      <td>0.011333</td>\n",
              "      <td>0.886859</td>\n",
              "      <td>0.813180</td>\n",
              "      <td>-2.197983</td>\n",
              "    </tr>\n",
              "    <tr>\n",
              "      <th>2013-01-02</th>\n",
              "      <td>0.805619</td>\n",
              "      <td>-0.891548</td>\n",
              "      <td>1.132089</td>\n",
              "      <td>0.715656</td>\n",
              "    </tr>\n",
              "    <tr>\n",
              "      <th>2013-01-01</th>\n",
              "      <td>-1.138862</td>\n",
              "      <td>-0.339993</td>\n",
              "      <td>1.045905</td>\n",
              "      <td>-1.065211</td>\n",
              "    </tr>\n",
              "  </tbody>\n",
              "</table>\n",
              "</div>"
            ],
            "text/plain": [
              "                   A         B         C         D\n",
              "2013-01-06  0.278407 -0.007972  0.552019 -0.205938\n",
              "2013-01-05  1.443657  0.448984 -0.636154  0.233922\n",
              "2013-01-04 -0.298433  0.977847  0.250832 -0.350088\n",
              "2013-01-03  0.011333  0.886859  0.813180 -2.197983\n",
              "2013-01-02  0.805619 -0.891548  1.132089  0.715656\n",
              "2013-01-01 -1.138862 -0.339993  1.045905 -1.065211"
            ]
          },
          "metadata": {
            "tags": []
          },
          "execution_count": 22
        }
      ]
    },
    {
      "cell_type": "markdown",
      "metadata": {
        "id": "cDhGo2fxcT5u"
      },
      "source": [
        "<br><br>"
      ]
    },
    {
      "cell_type": "markdown",
      "metadata": {
        "id": "2IH2BiHicT5u"
      },
      "source": [
        "## Selection\n",
        "---"
      ]
    },
    {
      "cell_type": "markdown",
      "metadata": {
        "id": "oWJCyWn9cT5u"
      },
      "source": [
        "**Note:** While standard Python/Numpy expressions for selecting and setting are intuitive and come in handy for interactive work, for production code, we recommend the optimized pandas data access methods, .at; .iat, .loc, .iloc and .ix."
      ]
    },
    {
      "cell_type": "markdown",
      "metadata": {
        "id": "0wq79X50cT5v"
      },
      "source": [
        "See the indexing documentation [Indexing and Selecting Data](https://pandas.pydata.org/pandas-docs/stable/indexing.html#indexing \"Indexing and Selecting Data\") and [MultiIndex / Advanced Indexing](https://pandas.pydata.org/pandas-docs/stable/advanced.html#advanced \"MultiIndex / Advanced Indexing\")."
      ]
    },
    {
      "cell_type": "markdown",
      "metadata": {
        "id": "Wzi8EmFkcT5v"
      },
      "source": [
        "### Getting"
      ]
    },
    {
      "cell_type": "markdown",
      "metadata": {
        "id": "7jntil9xcT5v"
      },
      "source": [
        "Selecting a single column, which yields a *Series*."
      ]
    },
    {
      "cell_type": "code",
      "metadata": {
        "id": "6hFkmz8kcT5v",
        "colab": {
          "base_uri": "https://localhost:8080/"
        },
        "outputId": "87713250-8006-49f4-fba3-665d97293508"
      },
      "source": [
        "df['A']"
      ],
      "execution_count": 23,
      "outputs": [
        {
          "output_type": "execute_result",
          "data": {
            "text/plain": [
              "2013-01-01   -1.138862\n",
              "2013-01-02    0.805619\n",
              "2013-01-03    0.011333\n",
              "2013-01-04   -0.298433\n",
              "2013-01-05    1.443657\n",
              "2013-01-06    0.278407\n",
              "Freq: D, Name: A, dtype: float64"
            ]
          },
          "metadata": {
            "tags": []
          },
          "execution_count": 23
        }
      ]
    },
    {
      "cell_type": "code",
      "metadata": {
        "id": "dnViUwjYcT5v",
        "colab": {
          "base_uri": "https://localhost:8080/"
        },
        "outputId": "cb38646d-342a-4bc5-ae7e-3f0367475a52"
      },
      "source": [
        "df.A"
      ],
      "execution_count": 24,
      "outputs": [
        {
          "output_type": "execute_result",
          "data": {
            "text/plain": [
              "2013-01-01   -1.138862\n",
              "2013-01-02    0.805619\n",
              "2013-01-03    0.011333\n",
              "2013-01-04   -0.298433\n",
              "2013-01-05    1.443657\n",
              "2013-01-06    0.278407\n",
              "Freq: D, Name: A, dtype: float64"
            ]
          },
          "metadata": {
            "tags": []
          },
          "execution_count": 24
        }
      ]
    },
    {
      "cell_type": "code",
      "metadata": {
        "colab": {
          "base_uri": "https://localhost:8080/"
        },
        "id": "sKRp8lwnGBnn",
        "outputId": "de090c51-48a3-4895-f122-f8b92715fca5"
      },
      "source": [
        "type(df.A)"
      ],
      "execution_count": 25,
      "outputs": [
        {
          "output_type": "execute_result",
          "data": {
            "text/plain": [
              "pandas.core.series.Series"
            ]
          },
          "metadata": {
            "tags": []
          },
          "execution_count": 25
        }
      ]
    },
    {
      "cell_type": "markdown",
      "metadata": {
        "id": "rdoFUrFbcT5v"
      },
      "source": [
        "# **Selecting via `[]`, which slices the rows.**"
      ]
    },
    {
      "cell_type": "code",
      "metadata": {
        "id": "CeybiUMMcT5v",
        "colab": {
          "base_uri": "https://localhost:8080/",
          "height": 141
        },
        "outputId": "391b3fd2-fced-491c-c283-601c86be4f5f"
      },
      "source": [
        "df[0 : 3]"
      ],
      "execution_count": 26,
      "outputs": [
        {
          "output_type": "execute_result",
          "data": {
            "text/html": [
              "<div>\n",
              "<style scoped>\n",
              "    .dataframe tbody tr th:only-of-type {\n",
              "        vertical-align: middle;\n",
              "    }\n",
              "\n",
              "    .dataframe tbody tr th {\n",
              "        vertical-align: top;\n",
              "    }\n",
              "\n",
              "    .dataframe thead th {\n",
              "        text-align: right;\n",
              "    }\n",
              "</style>\n",
              "<table border=\"1\" class=\"dataframe\">\n",
              "  <thead>\n",
              "    <tr style=\"text-align: right;\">\n",
              "      <th></th>\n",
              "      <th>A</th>\n",
              "      <th>B</th>\n",
              "      <th>C</th>\n",
              "      <th>D</th>\n",
              "    </tr>\n",
              "  </thead>\n",
              "  <tbody>\n",
              "    <tr>\n",
              "      <th>2013-01-01</th>\n",
              "      <td>-1.138862</td>\n",
              "      <td>-0.339993</td>\n",
              "      <td>1.045905</td>\n",
              "      <td>-1.065211</td>\n",
              "    </tr>\n",
              "    <tr>\n",
              "      <th>2013-01-02</th>\n",
              "      <td>0.805619</td>\n",
              "      <td>-0.891548</td>\n",
              "      <td>1.132089</td>\n",
              "      <td>0.715656</td>\n",
              "    </tr>\n",
              "    <tr>\n",
              "      <th>2013-01-03</th>\n",
              "      <td>0.011333</td>\n",
              "      <td>0.886859</td>\n",
              "      <td>0.813180</td>\n",
              "      <td>-2.197983</td>\n",
              "    </tr>\n",
              "  </tbody>\n",
              "</table>\n",
              "</div>"
            ],
            "text/plain": [
              "                   A         B         C         D\n",
              "2013-01-01 -1.138862 -0.339993  1.045905 -1.065211\n",
              "2013-01-02  0.805619 -0.891548  1.132089  0.715656\n",
              "2013-01-03  0.011333  0.886859  0.813180 -2.197983"
            ]
          },
          "metadata": {
            "tags": []
          },
          "execution_count": 26
        }
      ]
    },
    {
      "cell_type": "code",
      "metadata": {
        "id": "-tr5VdPBcT5v",
        "colab": {
          "base_uri": "https://localhost:8080/",
          "height": 141
        },
        "outputId": "702853fa-239a-4294-cf99-1d389ed6e49d"
      },
      "source": [
        "df['20130102' : '20130104']"
      ],
      "execution_count": 27,
      "outputs": [
        {
          "output_type": "execute_result",
          "data": {
            "text/html": [
              "<div>\n",
              "<style scoped>\n",
              "    .dataframe tbody tr th:only-of-type {\n",
              "        vertical-align: middle;\n",
              "    }\n",
              "\n",
              "    .dataframe tbody tr th {\n",
              "        vertical-align: top;\n",
              "    }\n",
              "\n",
              "    .dataframe thead th {\n",
              "        text-align: right;\n",
              "    }\n",
              "</style>\n",
              "<table border=\"1\" class=\"dataframe\">\n",
              "  <thead>\n",
              "    <tr style=\"text-align: right;\">\n",
              "      <th></th>\n",
              "      <th>A</th>\n",
              "      <th>B</th>\n",
              "      <th>C</th>\n",
              "      <th>D</th>\n",
              "    </tr>\n",
              "  </thead>\n",
              "  <tbody>\n",
              "    <tr>\n",
              "      <th>2013-01-02</th>\n",
              "      <td>0.805619</td>\n",
              "      <td>-0.891548</td>\n",
              "      <td>1.132089</td>\n",
              "      <td>0.715656</td>\n",
              "    </tr>\n",
              "    <tr>\n",
              "      <th>2013-01-03</th>\n",
              "      <td>0.011333</td>\n",
              "      <td>0.886859</td>\n",
              "      <td>0.813180</td>\n",
              "      <td>-2.197983</td>\n",
              "    </tr>\n",
              "    <tr>\n",
              "      <th>2013-01-04</th>\n",
              "      <td>-0.298433</td>\n",
              "      <td>0.977847</td>\n",
              "      <td>0.250832</td>\n",
              "      <td>-0.350088</td>\n",
              "    </tr>\n",
              "  </tbody>\n",
              "</table>\n",
              "</div>"
            ],
            "text/plain": [
              "                   A         B         C         D\n",
              "2013-01-02  0.805619 -0.891548  1.132089  0.715656\n",
              "2013-01-03  0.011333  0.886859  0.813180 -2.197983\n",
              "2013-01-04 -0.298433  0.977847  0.250832 -0.350088"
            ]
          },
          "metadata": {
            "tags": []
          },
          "execution_count": 27
        }
      ]
    },
    {
      "cell_type": "markdown",
      "metadata": {
        "id": "lwLF6XVfcT5v"
      },
      "source": [
        "### Selection by Label"
      ]
    },
    {
      "cell_type": "markdown",
      "metadata": {
        "id": "pDr8_MJ9cT5v"
      },
      "source": [
        "See more in [Selection by Label](https://pandas.pydata.org/pandas-docs/stable/indexing.html#indexing-label \"Selection By Label\").\n",
        "\n",
        "For getting a cross section using a Label."
      ]
    },
    {
      "cell_type": "code",
      "metadata": {
        "id": "-5t0FQs-cT5w",
        "colab": {
          "base_uri": "https://localhost:8080/"
        },
        "outputId": "bf8ec25b-9e8a-4473-cc5d-59edc2333aa2"
      },
      "source": [
        "x=df.loc[dates[0]]\n",
        "x"
      ],
      "execution_count": 28,
      "outputs": [
        {
          "output_type": "execute_result",
          "data": {
            "text/plain": [
              "A   -1.138862\n",
              "B   -0.339993\n",
              "C    1.045905\n",
              "D   -1.065211\n",
              "Name: 2013-01-01 00:00:00, dtype: float64"
            ]
          },
          "metadata": {
            "tags": []
          },
          "execution_count": 28
        }
      ]
    },
    {
      "cell_type": "code",
      "metadata": {
        "colab": {
          "base_uri": "https://localhost:8080/"
        },
        "id": "3uDLqCzhHJB6",
        "outputId": "cba5a5f8-8859-4c0a-de86-e957d21fa0ce"
      },
      "source": [
        "type(x)"
      ],
      "execution_count": 29,
      "outputs": [
        {
          "output_type": "execute_result",
          "data": {
            "text/plain": [
              "pandas.core.series.Series"
            ]
          },
          "metadata": {
            "tags": []
          },
          "execution_count": 29
        }
      ]
    },
    {
      "cell_type": "markdown",
      "metadata": {
        "id": "V8zcyh1qcT5w"
      },
      "source": [
        "Selecting on a multi-axis by label."
      ]
    },
    {
      "cell_type": "code",
      "metadata": {
        "id": "dHVC4z9PcT5w",
        "colab": {
          "base_uri": "https://localhost:8080/",
          "height": 0
        },
        "outputId": "a376a03f-14a2-429b-c6de-d84d006afe61"
      },
      "source": [
        "df.loc[:, ['A', 'B','D']]"
      ],
      "execution_count": 30,
      "outputs": [
        {
          "output_type": "execute_result",
          "data": {
            "text/html": [
              "<div>\n",
              "<style scoped>\n",
              "    .dataframe tbody tr th:only-of-type {\n",
              "        vertical-align: middle;\n",
              "    }\n",
              "\n",
              "    .dataframe tbody tr th {\n",
              "        vertical-align: top;\n",
              "    }\n",
              "\n",
              "    .dataframe thead th {\n",
              "        text-align: right;\n",
              "    }\n",
              "</style>\n",
              "<table border=\"1\" class=\"dataframe\">\n",
              "  <thead>\n",
              "    <tr style=\"text-align: right;\">\n",
              "      <th></th>\n",
              "      <th>A</th>\n",
              "      <th>B</th>\n",
              "      <th>D</th>\n",
              "    </tr>\n",
              "  </thead>\n",
              "  <tbody>\n",
              "    <tr>\n",
              "      <th>2013-01-01</th>\n",
              "      <td>-1.138862</td>\n",
              "      <td>-0.339993</td>\n",
              "      <td>-1.065211</td>\n",
              "    </tr>\n",
              "    <tr>\n",
              "      <th>2013-01-02</th>\n",
              "      <td>0.805619</td>\n",
              "      <td>-0.891548</td>\n",
              "      <td>0.715656</td>\n",
              "    </tr>\n",
              "    <tr>\n",
              "      <th>2013-01-03</th>\n",
              "      <td>0.011333</td>\n",
              "      <td>0.886859</td>\n",
              "      <td>-2.197983</td>\n",
              "    </tr>\n",
              "    <tr>\n",
              "      <th>2013-01-04</th>\n",
              "      <td>-0.298433</td>\n",
              "      <td>0.977847</td>\n",
              "      <td>-0.350088</td>\n",
              "    </tr>\n",
              "    <tr>\n",
              "      <th>2013-01-05</th>\n",
              "      <td>1.443657</td>\n",
              "      <td>0.448984</td>\n",
              "      <td>0.233922</td>\n",
              "    </tr>\n",
              "    <tr>\n",
              "      <th>2013-01-06</th>\n",
              "      <td>0.278407</td>\n",
              "      <td>-0.007972</td>\n",
              "      <td>-0.205938</td>\n",
              "    </tr>\n",
              "  </tbody>\n",
              "</table>\n",
              "</div>"
            ],
            "text/plain": [
              "                   A         B         D\n",
              "2013-01-01 -1.138862 -0.339993 -1.065211\n",
              "2013-01-02  0.805619 -0.891548  0.715656\n",
              "2013-01-03  0.011333  0.886859 -2.197983\n",
              "2013-01-04 -0.298433  0.977847 -0.350088\n",
              "2013-01-05  1.443657  0.448984  0.233922\n",
              "2013-01-06  0.278407 -0.007972 -0.205938"
            ]
          },
          "metadata": {
            "tags": []
          },
          "execution_count": 30
        }
      ]
    },
    {
      "cell_type": "markdown",
      "metadata": {
        "id": "pAUaA8QLcT5w"
      },
      "source": [
        "Showing label slicing, both endpoints are _included_."
      ]
    },
    {
      "cell_type": "code",
      "metadata": {
        "id": "q9C1d9cOcT5w",
        "colab": {
          "base_uri": "https://localhost:8080/",
          "height": 0
        },
        "outputId": "1cac00ae-9653-4586-d189-1dc741ebaad9"
      },
      "source": [
        "df.loc['20130102' : '20130104', ['A', 'B','D']]"
      ],
      "execution_count": 31,
      "outputs": [
        {
          "output_type": "execute_result",
          "data": {
            "text/html": [
              "<div>\n",
              "<style scoped>\n",
              "    .dataframe tbody tr th:only-of-type {\n",
              "        vertical-align: middle;\n",
              "    }\n",
              "\n",
              "    .dataframe tbody tr th {\n",
              "        vertical-align: top;\n",
              "    }\n",
              "\n",
              "    .dataframe thead th {\n",
              "        text-align: right;\n",
              "    }\n",
              "</style>\n",
              "<table border=\"1\" class=\"dataframe\">\n",
              "  <thead>\n",
              "    <tr style=\"text-align: right;\">\n",
              "      <th></th>\n",
              "      <th>A</th>\n",
              "      <th>B</th>\n",
              "      <th>D</th>\n",
              "    </tr>\n",
              "  </thead>\n",
              "  <tbody>\n",
              "    <tr>\n",
              "      <th>2013-01-02</th>\n",
              "      <td>0.805619</td>\n",
              "      <td>-0.891548</td>\n",
              "      <td>0.715656</td>\n",
              "    </tr>\n",
              "    <tr>\n",
              "      <th>2013-01-03</th>\n",
              "      <td>0.011333</td>\n",
              "      <td>0.886859</td>\n",
              "      <td>-2.197983</td>\n",
              "    </tr>\n",
              "    <tr>\n",
              "      <th>2013-01-04</th>\n",
              "      <td>-0.298433</td>\n",
              "      <td>0.977847</td>\n",
              "      <td>-0.350088</td>\n",
              "    </tr>\n",
              "  </tbody>\n",
              "</table>\n",
              "</div>"
            ],
            "text/plain": [
              "                   A         B         D\n",
              "2013-01-02  0.805619 -0.891548  0.715656\n",
              "2013-01-03  0.011333  0.886859 -2.197983\n",
              "2013-01-04 -0.298433  0.977847 -0.350088"
            ]
          },
          "metadata": {
            "tags": []
          },
          "execution_count": 31
        }
      ]
    },
    {
      "cell_type": "markdown",
      "metadata": {
        "id": "3RbvBwn4cT5w"
      },
      "source": [
        "Reduction in the dimensions of the returned object."
      ]
    },
    {
      "cell_type": "code",
      "metadata": {
        "id": "6UMFjRAVcT5w",
        "colab": {
          "base_uri": "https://localhost:8080/"
        },
        "outputId": "f97f9d99-b2b9-4041-9c8d-8ec90819c6e5"
      },
      "source": [
        "df.loc['20130102', ['A', 'B']]"
      ],
      "execution_count": 32,
      "outputs": [
        {
          "output_type": "execute_result",
          "data": {
            "text/plain": [
              "A    0.805619\n",
              "B   -0.891548\n",
              "Name: 2013-01-02 00:00:00, dtype: float64"
            ]
          },
          "metadata": {
            "tags": []
          },
          "execution_count": 32
        }
      ]
    },
    {
      "cell_type": "markdown",
      "metadata": {
        "id": "0KRMujYZkDh0"
      },
      "source": [
        "<img src='https://bham-carpentries.github.io/2018-12-17-bham_python-novice-inflammation/fig/python-zero-index.png'>"
      ]
    },
    {
      "cell_type": "markdown",
      "metadata": {
        "id": "cyd_hacfcT5w"
      },
      "source": [
        "For getting a scalar value"
      ]
    },
    {
      "cell_type": "code",
      "metadata": {
        "id": "JAt4v2cZcT5w",
        "colab": {
          "base_uri": "https://localhost:8080/"
        },
        "outputId": "8eb444f3-603e-427b-ae08-b41d2a1f0813"
      },
      "source": [
        "df.loc[dates[0], 'A']"
      ],
      "execution_count": 33,
      "outputs": [
        {
          "output_type": "execute_result",
          "data": {
            "text/plain": [
              "-1.1388616729841121"
            ]
          },
          "metadata": {
            "tags": []
          },
          "execution_count": 33
        }
      ]
    },
    {
      "cell_type": "markdown",
      "metadata": {
        "id": "9xwRi65KcT5x"
      },
      "source": [
        "For getting fast access to a scalar (equiv to the prior method)"
      ]
    },
    {
      "cell_type": "code",
      "metadata": {
        "id": "duz4xG4IcT5x",
        "colab": {
          "base_uri": "https://localhost:8080/"
        },
        "outputId": "bef1c141-ee5c-4a20-9217-bb5ce75b9785"
      },
      "source": [
        "df.at[dates[0], 'A']"
      ],
      "execution_count": 34,
      "outputs": [
        {
          "output_type": "execute_result",
          "data": {
            "text/plain": [
              "-1.1388616729841121"
            ]
          },
          "metadata": {
            "tags": []
          },
          "execution_count": 34
        }
      ]
    },
    {
      "cell_type": "markdown",
      "metadata": {
        "id": "ubILv20tcT5x"
      },
      "source": [
        "### Selection by Position\n",
        "See more in [Selection by Position](https://pandas.pydata.org/pandas-docs/stable/indexing.html#indexing-integer \"Selection by Position\")"
      ]
    },
    {
      "cell_type": "markdown",
      "metadata": {
        "id": "Ks-fTHSwcT5x"
      },
      "source": [
        "Select via the position of the passed integers"
      ]
    },
    {
      "cell_type": "code",
      "metadata": {
        "id": "iCiTHXSMcT5x",
        "colab": {
          "base_uri": "https://localhost:8080/"
        },
        "outputId": "264b301c-7cd8-4240-aa5f-2c160fa31702"
      },
      "source": [
        "df.iloc[3]"
      ],
      "execution_count": 35,
      "outputs": [
        {
          "output_type": "execute_result",
          "data": {
            "text/plain": [
              "A   -0.298433\n",
              "B    0.977847\n",
              "C    0.250832\n",
              "D   -0.350088\n",
              "Name: 2013-01-04 00:00:00, dtype: float64"
            ]
          },
          "metadata": {
            "tags": []
          },
          "execution_count": 35
        }
      ]
    },
    {
      "cell_type": "markdown",
      "metadata": {
        "id": "6NUf1fEBcT5x"
      },
      "source": [
        "By integer slices, acting similar to nump/python"
      ]
    },
    {
      "cell_type": "code",
      "metadata": {
        "id": "x-TlKXrscT5x",
        "colab": {
          "base_uri": "https://localhost:8080/",
          "height": 0
        },
        "outputId": "c4d24d76-628e-41dc-c197-ab4a1d0cbc75"
      },
      "source": [
        "df.iloc[3 : 5, 0 : 2]"
      ],
      "execution_count": 36,
      "outputs": [
        {
          "output_type": "execute_result",
          "data": {
            "text/html": [
              "<div>\n",
              "<style scoped>\n",
              "    .dataframe tbody tr th:only-of-type {\n",
              "        vertical-align: middle;\n",
              "    }\n",
              "\n",
              "    .dataframe tbody tr th {\n",
              "        vertical-align: top;\n",
              "    }\n",
              "\n",
              "    .dataframe thead th {\n",
              "        text-align: right;\n",
              "    }\n",
              "</style>\n",
              "<table border=\"1\" class=\"dataframe\">\n",
              "  <thead>\n",
              "    <tr style=\"text-align: right;\">\n",
              "      <th></th>\n",
              "      <th>A</th>\n",
              "      <th>B</th>\n",
              "    </tr>\n",
              "  </thead>\n",
              "  <tbody>\n",
              "    <tr>\n",
              "      <th>2013-01-04</th>\n",
              "      <td>-0.298433</td>\n",
              "      <td>0.977847</td>\n",
              "    </tr>\n",
              "    <tr>\n",
              "      <th>2013-01-05</th>\n",
              "      <td>1.443657</td>\n",
              "      <td>0.448984</td>\n",
              "    </tr>\n",
              "  </tbody>\n",
              "</table>\n",
              "</div>"
            ],
            "text/plain": [
              "                   A         B\n",
              "2013-01-04 -0.298433  0.977847\n",
              "2013-01-05  1.443657  0.448984"
            ]
          },
          "metadata": {
            "tags": []
          },
          "execution_count": 36
        }
      ]
    },
    {
      "cell_type": "markdown",
      "metadata": {
        "id": "QYlDVvW6cT5x"
      },
      "source": [
        "By lists of integer position locations, similar to the numpy/python style."
      ]
    },
    {
      "cell_type": "code",
      "metadata": {
        "id": "ThQFG9IrcT5x",
        "colab": {
          "base_uri": "https://localhost:8080/",
          "height": 0
        },
        "outputId": "740c6931-ebda-4563-d922-6d011954757f"
      },
      "source": [
        "df.iloc[[1, 2, 4], [0, 2]]"
      ],
      "execution_count": 37,
      "outputs": [
        {
          "output_type": "execute_result",
          "data": {
            "text/html": [
              "<div>\n",
              "<style scoped>\n",
              "    .dataframe tbody tr th:only-of-type {\n",
              "        vertical-align: middle;\n",
              "    }\n",
              "\n",
              "    .dataframe tbody tr th {\n",
              "        vertical-align: top;\n",
              "    }\n",
              "\n",
              "    .dataframe thead th {\n",
              "        text-align: right;\n",
              "    }\n",
              "</style>\n",
              "<table border=\"1\" class=\"dataframe\">\n",
              "  <thead>\n",
              "    <tr style=\"text-align: right;\">\n",
              "      <th></th>\n",
              "      <th>A</th>\n",
              "      <th>C</th>\n",
              "    </tr>\n",
              "  </thead>\n",
              "  <tbody>\n",
              "    <tr>\n",
              "      <th>2013-01-02</th>\n",
              "      <td>0.805619</td>\n",
              "      <td>1.132089</td>\n",
              "    </tr>\n",
              "    <tr>\n",
              "      <th>2013-01-03</th>\n",
              "      <td>0.011333</td>\n",
              "      <td>0.813180</td>\n",
              "    </tr>\n",
              "    <tr>\n",
              "      <th>2013-01-05</th>\n",
              "      <td>1.443657</td>\n",
              "      <td>-0.636154</td>\n",
              "    </tr>\n",
              "  </tbody>\n",
              "</table>\n",
              "</div>"
            ],
            "text/plain": [
              "                   A         C\n",
              "2013-01-02  0.805619  1.132089\n",
              "2013-01-03  0.011333  0.813180\n",
              "2013-01-05  1.443657 -0.636154"
            ]
          },
          "metadata": {
            "tags": []
          },
          "execution_count": 37
        }
      ]
    },
    {
      "cell_type": "markdown",
      "metadata": {
        "id": "C5B1gEqXcT5y"
      },
      "source": [
        "For slicing rows explicitly"
      ]
    },
    {
      "cell_type": "code",
      "metadata": {
        "id": "pHYpPagUcT5y",
        "colab": {
          "base_uri": "https://localhost:8080/",
          "height": 0
        },
        "outputId": "839e7ec8-9913-4495-bec2-acef949ce79b"
      },
      "source": [
        "df.iloc[1 : 3, :]"
      ],
      "execution_count": 38,
      "outputs": [
        {
          "output_type": "execute_result",
          "data": {
            "text/html": [
              "<div>\n",
              "<style scoped>\n",
              "    .dataframe tbody tr th:only-of-type {\n",
              "        vertical-align: middle;\n",
              "    }\n",
              "\n",
              "    .dataframe tbody tr th {\n",
              "        vertical-align: top;\n",
              "    }\n",
              "\n",
              "    .dataframe thead th {\n",
              "        text-align: right;\n",
              "    }\n",
              "</style>\n",
              "<table border=\"1\" class=\"dataframe\">\n",
              "  <thead>\n",
              "    <tr style=\"text-align: right;\">\n",
              "      <th></th>\n",
              "      <th>A</th>\n",
              "      <th>B</th>\n",
              "      <th>C</th>\n",
              "      <th>D</th>\n",
              "    </tr>\n",
              "  </thead>\n",
              "  <tbody>\n",
              "    <tr>\n",
              "      <th>2013-01-02</th>\n",
              "      <td>0.805619</td>\n",
              "      <td>-0.891548</td>\n",
              "      <td>1.132089</td>\n",
              "      <td>0.715656</td>\n",
              "    </tr>\n",
              "    <tr>\n",
              "      <th>2013-01-03</th>\n",
              "      <td>0.011333</td>\n",
              "      <td>0.886859</td>\n",
              "      <td>0.813180</td>\n",
              "      <td>-2.197983</td>\n",
              "    </tr>\n",
              "  </tbody>\n",
              "</table>\n",
              "</div>"
            ],
            "text/plain": [
              "                   A         B         C         D\n",
              "2013-01-02  0.805619 -0.891548  1.132089  0.715656\n",
              "2013-01-03  0.011333  0.886859  0.813180 -2.197983"
            ]
          },
          "metadata": {
            "tags": []
          },
          "execution_count": 38
        }
      ]
    },
    {
      "cell_type": "markdown",
      "metadata": {
        "id": "wWwXoMkMcT5y"
      },
      "source": [
        "For slicing columns explicitly"
      ]
    },
    {
      "cell_type": "code",
      "metadata": {
        "id": "P3571vIpcT5y",
        "colab": {
          "base_uri": "https://localhost:8080/",
          "height": 0
        },
        "outputId": "38540f2f-cd97-4943-8963-96fecc583c50"
      },
      "source": [
        "df.iloc[:, 1 : 3]"
      ],
      "execution_count": 39,
      "outputs": [
        {
          "output_type": "execute_result",
          "data": {
            "text/html": [
              "<div>\n",
              "<style scoped>\n",
              "    .dataframe tbody tr th:only-of-type {\n",
              "        vertical-align: middle;\n",
              "    }\n",
              "\n",
              "    .dataframe tbody tr th {\n",
              "        vertical-align: top;\n",
              "    }\n",
              "\n",
              "    .dataframe thead th {\n",
              "        text-align: right;\n",
              "    }\n",
              "</style>\n",
              "<table border=\"1\" class=\"dataframe\">\n",
              "  <thead>\n",
              "    <tr style=\"text-align: right;\">\n",
              "      <th></th>\n",
              "      <th>B</th>\n",
              "      <th>C</th>\n",
              "    </tr>\n",
              "  </thead>\n",
              "  <tbody>\n",
              "    <tr>\n",
              "      <th>2013-01-01</th>\n",
              "      <td>-0.339993</td>\n",
              "      <td>1.045905</td>\n",
              "    </tr>\n",
              "    <tr>\n",
              "      <th>2013-01-02</th>\n",
              "      <td>-0.891548</td>\n",
              "      <td>1.132089</td>\n",
              "    </tr>\n",
              "    <tr>\n",
              "      <th>2013-01-03</th>\n",
              "      <td>0.886859</td>\n",
              "      <td>0.813180</td>\n",
              "    </tr>\n",
              "    <tr>\n",
              "      <th>2013-01-04</th>\n",
              "      <td>0.977847</td>\n",
              "      <td>0.250832</td>\n",
              "    </tr>\n",
              "    <tr>\n",
              "      <th>2013-01-05</th>\n",
              "      <td>0.448984</td>\n",
              "      <td>-0.636154</td>\n",
              "    </tr>\n",
              "    <tr>\n",
              "      <th>2013-01-06</th>\n",
              "      <td>-0.007972</td>\n",
              "      <td>0.552019</td>\n",
              "    </tr>\n",
              "  </tbody>\n",
              "</table>\n",
              "</div>"
            ],
            "text/plain": [
              "                   B         C\n",
              "2013-01-01 -0.339993  1.045905\n",
              "2013-01-02 -0.891548  1.132089\n",
              "2013-01-03  0.886859  0.813180\n",
              "2013-01-04  0.977847  0.250832\n",
              "2013-01-05  0.448984 -0.636154\n",
              "2013-01-06 -0.007972  0.552019"
            ]
          },
          "metadata": {
            "tags": []
          },
          "execution_count": 39
        }
      ]
    },
    {
      "cell_type": "markdown",
      "metadata": {
        "id": "lSEG-ivAcT5y"
      },
      "source": [
        "For getting a value explicitly"
      ]
    },
    {
      "cell_type": "code",
      "metadata": {
        "id": "Bi1o3X8bcT5y",
        "colab": {
          "base_uri": "https://localhost:8080/"
        },
        "outputId": "5608764b-ed7d-47f4-f74b-e65dfe24995b"
      },
      "source": [
        "df.iloc[1, 1]"
      ],
      "execution_count": 40,
      "outputs": [
        {
          "output_type": "execute_result",
          "data": {
            "text/plain": [
              "-0.8915479854989528"
            ]
          },
          "metadata": {
            "tags": []
          },
          "execution_count": 40
        }
      ]
    },
    {
      "cell_type": "markdown",
      "metadata": {
        "id": "zDlSXV-QcT5y"
      },
      "source": [
        "For getting fast access to a scalar (equiv to the prior method)"
      ]
    },
    {
      "cell_type": "code",
      "metadata": {
        "id": "zglEVU2zcT5y",
        "colab": {
          "base_uri": "https://localhost:8080/"
        },
        "outputId": "fe5b062b-1a0b-4fbc-fa84-0bf2ff6e4416"
      },
      "source": [
        "df.iat[1, 1]"
      ],
      "execution_count": 41,
      "outputs": [
        {
          "output_type": "execute_result",
          "data": {
            "text/plain": [
              "-0.8915479854989528"
            ]
          },
          "metadata": {
            "tags": []
          },
          "execution_count": 41
        }
      ]
    },
    {
      "cell_type": "markdown",
      "metadata": {
        "id": "FLoiKlvhcT5y"
      },
      "source": [
        "### Boolean Indexing"
      ]
    },
    {
      "cell_type": "markdown",
      "metadata": {
        "id": "H0y5glf0cT5y"
      },
      "source": [
        "Using a single column's values to select data."
      ]
    },
    {
      "cell_type": "markdown",
      "metadata": {
        "id": "nIoANK27cT5z"
      },
      "source": [
        "Selecting values from a DataFrame where a boolean condition is met."
      ]
    },
    {
      "cell_type": "code",
      "metadata": {
        "id": "RNdyuaAPcT5z",
        "colab": {
          "base_uri": "https://localhost:8080/",
          "height": 0
        },
        "outputId": "be46c8e6-ad5e-4219-e82f-77e468ddeb32"
      },
      "source": [
        "df[df > 0]"
      ],
      "execution_count": 42,
      "outputs": [
        {
          "output_type": "execute_result",
          "data": {
            "text/html": [
              "<div>\n",
              "<style scoped>\n",
              "    .dataframe tbody tr th:only-of-type {\n",
              "        vertical-align: middle;\n",
              "    }\n",
              "\n",
              "    .dataframe tbody tr th {\n",
              "        vertical-align: top;\n",
              "    }\n",
              "\n",
              "    .dataframe thead th {\n",
              "        text-align: right;\n",
              "    }\n",
              "</style>\n",
              "<table border=\"1\" class=\"dataframe\">\n",
              "  <thead>\n",
              "    <tr style=\"text-align: right;\">\n",
              "      <th></th>\n",
              "      <th>A</th>\n",
              "      <th>B</th>\n",
              "      <th>C</th>\n",
              "      <th>D</th>\n",
              "    </tr>\n",
              "  </thead>\n",
              "  <tbody>\n",
              "    <tr>\n",
              "      <th>2013-01-01</th>\n",
              "      <td>NaN</td>\n",
              "      <td>NaN</td>\n",
              "      <td>1.045905</td>\n",
              "      <td>NaN</td>\n",
              "    </tr>\n",
              "    <tr>\n",
              "      <th>2013-01-02</th>\n",
              "      <td>0.805619</td>\n",
              "      <td>NaN</td>\n",
              "      <td>1.132089</td>\n",
              "      <td>0.715656</td>\n",
              "    </tr>\n",
              "    <tr>\n",
              "      <th>2013-01-03</th>\n",
              "      <td>0.011333</td>\n",
              "      <td>0.886859</td>\n",
              "      <td>0.813180</td>\n",
              "      <td>NaN</td>\n",
              "    </tr>\n",
              "    <tr>\n",
              "      <th>2013-01-04</th>\n",
              "      <td>NaN</td>\n",
              "      <td>0.977847</td>\n",
              "      <td>0.250832</td>\n",
              "      <td>NaN</td>\n",
              "    </tr>\n",
              "    <tr>\n",
              "      <th>2013-01-05</th>\n",
              "      <td>1.443657</td>\n",
              "      <td>0.448984</td>\n",
              "      <td>NaN</td>\n",
              "      <td>0.233922</td>\n",
              "    </tr>\n",
              "    <tr>\n",
              "      <th>2013-01-06</th>\n",
              "      <td>0.278407</td>\n",
              "      <td>NaN</td>\n",
              "      <td>0.552019</td>\n",
              "      <td>NaN</td>\n",
              "    </tr>\n",
              "  </tbody>\n",
              "</table>\n",
              "</div>"
            ],
            "text/plain": [
              "                   A         B         C         D\n",
              "2013-01-01       NaN       NaN  1.045905       NaN\n",
              "2013-01-02  0.805619       NaN  1.132089  0.715656\n",
              "2013-01-03  0.011333  0.886859  0.813180       NaN\n",
              "2013-01-04       NaN  0.977847  0.250832       NaN\n",
              "2013-01-05  1.443657  0.448984       NaN  0.233922\n",
              "2013-01-06  0.278407       NaN  0.552019       NaN"
            ]
          },
          "metadata": {
            "tags": []
          },
          "execution_count": 42
        }
      ]
    },
    {
      "cell_type": "markdown",
      "metadata": {
        "id": "JAMDxpn1cT5z"
      },
      "source": [
        "Using the `isin()` method for filtering:"
      ]
    },
    {
      "cell_type": "code",
      "metadata": {
        "collapsed": true,
        "id": "vMBhcjPHcT5z"
      },
      "source": [
        "df3 = df.copy()"
      ],
      "execution_count": 43,
      "outputs": []
    },
    {
      "cell_type": "code",
      "metadata": {
        "collapsed": true,
        "id": "_bWfnW3gcT5z"
      },
      "source": [
        "df3['E'] = ['one', 'one', 'two', 'three', 'four', 'three']"
      ],
      "execution_count": 44,
      "outputs": []
    },
    {
      "cell_type": "code",
      "metadata": {
        "id": "e0Ur1V0VcT5z",
        "colab": {
          "base_uri": "https://localhost:8080/",
          "height": 0
        },
        "outputId": "47e3f476-72d5-45ba-a508-2edf96079623"
      },
      "source": [
        "df3"
      ],
      "execution_count": 45,
      "outputs": [
        {
          "output_type": "execute_result",
          "data": {
            "text/html": [
              "<div>\n",
              "<style scoped>\n",
              "    .dataframe tbody tr th:only-of-type {\n",
              "        vertical-align: middle;\n",
              "    }\n",
              "\n",
              "    .dataframe tbody tr th {\n",
              "        vertical-align: top;\n",
              "    }\n",
              "\n",
              "    .dataframe thead th {\n",
              "        text-align: right;\n",
              "    }\n",
              "</style>\n",
              "<table border=\"1\" class=\"dataframe\">\n",
              "  <thead>\n",
              "    <tr style=\"text-align: right;\">\n",
              "      <th></th>\n",
              "      <th>A</th>\n",
              "      <th>B</th>\n",
              "      <th>C</th>\n",
              "      <th>D</th>\n",
              "      <th>E</th>\n",
              "    </tr>\n",
              "  </thead>\n",
              "  <tbody>\n",
              "    <tr>\n",
              "      <th>2013-01-01</th>\n",
              "      <td>-1.138862</td>\n",
              "      <td>-0.339993</td>\n",
              "      <td>1.045905</td>\n",
              "      <td>-1.065211</td>\n",
              "      <td>one</td>\n",
              "    </tr>\n",
              "    <tr>\n",
              "      <th>2013-01-02</th>\n",
              "      <td>0.805619</td>\n",
              "      <td>-0.891548</td>\n",
              "      <td>1.132089</td>\n",
              "      <td>0.715656</td>\n",
              "      <td>one</td>\n",
              "    </tr>\n",
              "    <tr>\n",
              "      <th>2013-01-03</th>\n",
              "      <td>0.011333</td>\n",
              "      <td>0.886859</td>\n",
              "      <td>0.813180</td>\n",
              "      <td>-2.197983</td>\n",
              "      <td>two</td>\n",
              "    </tr>\n",
              "    <tr>\n",
              "      <th>2013-01-04</th>\n",
              "      <td>-0.298433</td>\n",
              "      <td>0.977847</td>\n",
              "      <td>0.250832</td>\n",
              "      <td>-0.350088</td>\n",
              "      <td>three</td>\n",
              "    </tr>\n",
              "    <tr>\n",
              "      <th>2013-01-05</th>\n",
              "      <td>1.443657</td>\n",
              "      <td>0.448984</td>\n",
              "      <td>-0.636154</td>\n",
              "      <td>0.233922</td>\n",
              "      <td>four</td>\n",
              "    </tr>\n",
              "    <tr>\n",
              "      <th>2013-01-06</th>\n",
              "      <td>0.278407</td>\n",
              "      <td>-0.007972</td>\n",
              "      <td>0.552019</td>\n",
              "      <td>-0.205938</td>\n",
              "      <td>three</td>\n",
              "    </tr>\n",
              "  </tbody>\n",
              "</table>\n",
              "</div>"
            ],
            "text/plain": [
              "                   A         B         C         D      E\n",
              "2013-01-01 -1.138862 -0.339993  1.045905 -1.065211    one\n",
              "2013-01-02  0.805619 -0.891548  1.132089  0.715656    one\n",
              "2013-01-03  0.011333  0.886859  0.813180 -2.197983    two\n",
              "2013-01-04 -0.298433  0.977847  0.250832 -0.350088  three\n",
              "2013-01-05  1.443657  0.448984 -0.636154  0.233922   four\n",
              "2013-01-06  0.278407 -0.007972  0.552019 -0.205938  three"
            ]
          },
          "metadata": {
            "tags": []
          },
          "execution_count": 45
        }
      ]
    },
    {
      "cell_type": "markdown",
      "metadata": {
        "id": "znhwSrO9cT5z"
      },
      "source": [
        "### Setting\n",
        "\n",
        "Setting a new column automatically aligns the data by the indexes."
      ]
    },
    {
      "cell_type": "code",
      "metadata": {
        "id": "3x7Jxd23cT5z",
        "colab": {
          "base_uri": "https://localhost:8080/"
        },
        "outputId": "247a84a9-5deb-4452-8217-4eb9c876ba9a"
      },
      "source": [
        "s1 = pd.Series([1, 2, 3, 4, 5, 6], index = pd.date_range('20130102', periods = 6))\n",
        "s1"
      ],
      "execution_count": 46,
      "outputs": [
        {
          "output_type": "execute_result",
          "data": {
            "text/plain": [
              "2013-01-02    1\n",
              "2013-01-03    2\n",
              "2013-01-04    3\n",
              "2013-01-05    4\n",
              "2013-01-06    5\n",
              "2013-01-07    6\n",
              "Freq: D, dtype: int64"
            ]
          },
          "metadata": {
            "tags": []
          },
          "execution_count": 46
        }
      ]
    },
    {
      "cell_type": "markdown",
      "metadata": {
        "id": "oDzq3waCcT50"
      },
      "source": [
        "Setting values by label"
      ]
    },
    {
      "cell_type": "code",
      "metadata": {
        "collapsed": true,
        "id": "APdVBD4RcT50",
        "colab": {
          "base_uri": "https://localhost:8080/",
          "height": 0
        },
        "outputId": "7c5313ba-17ca-4ff5-87fd-a8fdb621cbc8"
      },
      "source": [
        "df.at[dates[0], 'A'] = 0\n",
        "df"
      ],
      "execution_count": 47,
      "outputs": [
        {
          "output_type": "execute_result",
          "data": {
            "text/html": [
              "<div>\n",
              "<style scoped>\n",
              "    .dataframe tbody tr th:only-of-type {\n",
              "        vertical-align: middle;\n",
              "    }\n",
              "\n",
              "    .dataframe tbody tr th {\n",
              "        vertical-align: top;\n",
              "    }\n",
              "\n",
              "    .dataframe thead th {\n",
              "        text-align: right;\n",
              "    }\n",
              "</style>\n",
              "<table border=\"1\" class=\"dataframe\">\n",
              "  <thead>\n",
              "    <tr style=\"text-align: right;\">\n",
              "      <th></th>\n",
              "      <th>A</th>\n",
              "      <th>B</th>\n",
              "      <th>C</th>\n",
              "      <th>D</th>\n",
              "    </tr>\n",
              "  </thead>\n",
              "  <tbody>\n",
              "    <tr>\n",
              "      <th>2013-01-01</th>\n",
              "      <td>0.000000</td>\n",
              "      <td>-0.339993</td>\n",
              "      <td>1.045905</td>\n",
              "      <td>-1.065211</td>\n",
              "    </tr>\n",
              "    <tr>\n",
              "      <th>2013-01-02</th>\n",
              "      <td>0.805619</td>\n",
              "      <td>-0.891548</td>\n",
              "      <td>1.132089</td>\n",
              "      <td>0.715656</td>\n",
              "    </tr>\n",
              "    <tr>\n",
              "      <th>2013-01-03</th>\n",
              "      <td>0.011333</td>\n",
              "      <td>0.886859</td>\n",
              "      <td>0.813180</td>\n",
              "      <td>-2.197983</td>\n",
              "    </tr>\n",
              "    <tr>\n",
              "      <th>2013-01-04</th>\n",
              "      <td>-0.298433</td>\n",
              "      <td>0.977847</td>\n",
              "      <td>0.250832</td>\n",
              "      <td>-0.350088</td>\n",
              "    </tr>\n",
              "    <tr>\n",
              "      <th>2013-01-05</th>\n",
              "      <td>1.443657</td>\n",
              "      <td>0.448984</td>\n",
              "      <td>-0.636154</td>\n",
              "      <td>0.233922</td>\n",
              "    </tr>\n",
              "    <tr>\n",
              "      <th>2013-01-06</th>\n",
              "      <td>0.278407</td>\n",
              "      <td>-0.007972</td>\n",
              "      <td>0.552019</td>\n",
              "      <td>-0.205938</td>\n",
              "    </tr>\n",
              "  </tbody>\n",
              "</table>\n",
              "</div>"
            ],
            "text/plain": [
              "                   A         B         C         D\n",
              "2013-01-01  0.000000 -0.339993  1.045905 -1.065211\n",
              "2013-01-02  0.805619 -0.891548  1.132089  0.715656\n",
              "2013-01-03  0.011333  0.886859  0.813180 -2.197983\n",
              "2013-01-04 -0.298433  0.977847  0.250832 -0.350088\n",
              "2013-01-05  1.443657  0.448984 -0.636154  0.233922\n",
              "2013-01-06  0.278407 -0.007972  0.552019 -0.205938"
            ]
          },
          "metadata": {
            "tags": []
          },
          "execution_count": 47
        }
      ]
    },
    {
      "cell_type": "markdown",
      "metadata": {
        "id": "1LMaeMtKcT50"
      },
      "source": [
        "Setting values by position"
      ]
    },
    {
      "cell_type": "code",
      "metadata": {
        "collapsed": true,
        "id": "Xpp__h6lcT50",
        "colab": {
          "base_uri": "https://localhost:8080/",
          "height": 0
        },
        "outputId": "8288b372-ed39-4f06-938a-8c96a8e52004"
      },
      "source": [
        "df.iat[0, 1] = 0\n",
        "df"
      ],
      "execution_count": 48,
      "outputs": [
        {
          "output_type": "execute_result",
          "data": {
            "text/html": [
              "<div>\n",
              "<style scoped>\n",
              "    .dataframe tbody tr th:only-of-type {\n",
              "        vertical-align: middle;\n",
              "    }\n",
              "\n",
              "    .dataframe tbody tr th {\n",
              "        vertical-align: top;\n",
              "    }\n",
              "\n",
              "    .dataframe thead th {\n",
              "        text-align: right;\n",
              "    }\n",
              "</style>\n",
              "<table border=\"1\" class=\"dataframe\">\n",
              "  <thead>\n",
              "    <tr style=\"text-align: right;\">\n",
              "      <th></th>\n",
              "      <th>A</th>\n",
              "      <th>B</th>\n",
              "      <th>C</th>\n",
              "      <th>D</th>\n",
              "    </tr>\n",
              "  </thead>\n",
              "  <tbody>\n",
              "    <tr>\n",
              "      <th>2013-01-01</th>\n",
              "      <td>0.000000</td>\n",
              "      <td>0.000000</td>\n",
              "      <td>1.045905</td>\n",
              "      <td>-1.065211</td>\n",
              "    </tr>\n",
              "    <tr>\n",
              "      <th>2013-01-02</th>\n",
              "      <td>0.805619</td>\n",
              "      <td>-0.891548</td>\n",
              "      <td>1.132089</td>\n",
              "      <td>0.715656</td>\n",
              "    </tr>\n",
              "    <tr>\n",
              "      <th>2013-01-03</th>\n",
              "      <td>0.011333</td>\n",
              "      <td>0.886859</td>\n",
              "      <td>0.813180</td>\n",
              "      <td>-2.197983</td>\n",
              "    </tr>\n",
              "    <tr>\n",
              "      <th>2013-01-04</th>\n",
              "      <td>-0.298433</td>\n",
              "      <td>0.977847</td>\n",
              "      <td>0.250832</td>\n",
              "      <td>-0.350088</td>\n",
              "    </tr>\n",
              "    <tr>\n",
              "      <th>2013-01-05</th>\n",
              "      <td>1.443657</td>\n",
              "      <td>0.448984</td>\n",
              "      <td>-0.636154</td>\n",
              "      <td>0.233922</td>\n",
              "    </tr>\n",
              "    <tr>\n",
              "      <th>2013-01-06</th>\n",
              "      <td>0.278407</td>\n",
              "      <td>-0.007972</td>\n",
              "      <td>0.552019</td>\n",
              "      <td>-0.205938</td>\n",
              "    </tr>\n",
              "  </tbody>\n",
              "</table>\n",
              "</div>"
            ],
            "text/plain": [
              "                   A         B         C         D\n",
              "2013-01-01  0.000000  0.000000  1.045905 -1.065211\n",
              "2013-01-02  0.805619 -0.891548  1.132089  0.715656\n",
              "2013-01-03  0.011333  0.886859  0.813180 -2.197983\n",
              "2013-01-04 -0.298433  0.977847  0.250832 -0.350088\n",
              "2013-01-05  1.443657  0.448984 -0.636154  0.233922\n",
              "2013-01-06  0.278407 -0.007972  0.552019 -0.205938"
            ]
          },
          "metadata": {
            "tags": []
          },
          "execution_count": 48
        }
      ]
    },
    {
      "cell_type": "markdown",
      "metadata": {
        "id": "oBfAXErhcT50"
      },
      "source": [
        "Setting by assigning with a numpy array"
      ]
    },
    {
      "cell_type": "code",
      "metadata": {
        "collapsed": true,
        "id": "EABNhugncT50"
      },
      "source": [
        "df.loc[:, 'D'] = np.array([5] * len(df))"
      ],
      "execution_count": 49,
      "outputs": []
    },
    {
      "cell_type": "code",
      "metadata": {
        "id": "aBWfX3SrcT50",
        "colab": {
          "base_uri": "https://localhost:8080/",
          "height": 0
        },
        "outputId": "6cbbda05-f39c-4beb-c2bf-dd70dfbd3bdd"
      },
      "source": [
        "df"
      ],
      "execution_count": 50,
      "outputs": [
        {
          "output_type": "execute_result",
          "data": {
            "text/html": [
              "<div>\n",
              "<style scoped>\n",
              "    .dataframe tbody tr th:only-of-type {\n",
              "        vertical-align: middle;\n",
              "    }\n",
              "\n",
              "    .dataframe tbody tr th {\n",
              "        vertical-align: top;\n",
              "    }\n",
              "\n",
              "    .dataframe thead th {\n",
              "        text-align: right;\n",
              "    }\n",
              "</style>\n",
              "<table border=\"1\" class=\"dataframe\">\n",
              "  <thead>\n",
              "    <tr style=\"text-align: right;\">\n",
              "      <th></th>\n",
              "      <th>A</th>\n",
              "      <th>B</th>\n",
              "      <th>C</th>\n",
              "      <th>D</th>\n",
              "    </tr>\n",
              "  </thead>\n",
              "  <tbody>\n",
              "    <tr>\n",
              "      <th>2013-01-01</th>\n",
              "      <td>0.000000</td>\n",
              "      <td>0.000000</td>\n",
              "      <td>1.045905</td>\n",
              "      <td>5</td>\n",
              "    </tr>\n",
              "    <tr>\n",
              "      <th>2013-01-02</th>\n",
              "      <td>0.805619</td>\n",
              "      <td>-0.891548</td>\n",
              "      <td>1.132089</td>\n",
              "      <td>5</td>\n",
              "    </tr>\n",
              "    <tr>\n",
              "      <th>2013-01-03</th>\n",
              "      <td>0.011333</td>\n",
              "      <td>0.886859</td>\n",
              "      <td>0.813180</td>\n",
              "      <td>5</td>\n",
              "    </tr>\n",
              "    <tr>\n",
              "      <th>2013-01-04</th>\n",
              "      <td>-0.298433</td>\n",
              "      <td>0.977847</td>\n",
              "      <td>0.250832</td>\n",
              "      <td>5</td>\n",
              "    </tr>\n",
              "    <tr>\n",
              "      <th>2013-01-05</th>\n",
              "      <td>1.443657</td>\n",
              "      <td>0.448984</td>\n",
              "      <td>-0.636154</td>\n",
              "      <td>5</td>\n",
              "    </tr>\n",
              "    <tr>\n",
              "      <th>2013-01-06</th>\n",
              "      <td>0.278407</td>\n",
              "      <td>-0.007972</td>\n",
              "      <td>0.552019</td>\n",
              "      <td>5</td>\n",
              "    </tr>\n",
              "  </tbody>\n",
              "</table>\n",
              "</div>"
            ],
            "text/plain": [
              "                   A         B         C  D\n",
              "2013-01-01  0.000000  0.000000  1.045905  5\n",
              "2013-01-02  0.805619 -0.891548  1.132089  5\n",
              "2013-01-03  0.011333  0.886859  0.813180  5\n",
              "2013-01-04 -0.298433  0.977847  0.250832  5\n",
              "2013-01-05  1.443657  0.448984 -0.636154  5\n",
              "2013-01-06  0.278407 -0.007972  0.552019  5"
            ]
          },
          "metadata": {
            "tags": []
          },
          "execution_count": 50
        }
      ]
    },
    {
      "cell_type": "markdown",
      "metadata": {
        "id": "GxSbzwFHcT50"
      },
      "source": [
        "A **`where`** operation with setting."
      ]
    },
    {
      "cell_type": "code",
      "metadata": {
        "collapsed": true,
        "id": "-JG9Tyi9cT50",
        "colab": {
          "base_uri": "https://localhost:8080/",
          "height": 0
        },
        "outputId": "749884db-1ef5-496a-80b7-7e6a29610366"
      },
      "source": [
        "df2 = df.copy()\n",
        "df2"
      ],
      "execution_count": 51,
      "outputs": [
        {
          "output_type": "execute_result",
          "data": {
            "text/html": [
              "<div>\n",
              "<style scoped>\n",
              "    .dataframe tbody tr th:only-of-type {\n",
              "        vertical-align: middle;\n",
              "    }\n",
              "\n",
              "    .dataframe tbody tr th {\n",
              "        vertical-align: top;\n",
              "    }\n",
              "\n",
              "    .dataframe thead th {\n",
              "        text-align: right;\n",
              "    }\n",
              "</style>\n",
              "<table border=\"1\" class=\"dataframe\">\n",
              "  <thead>\n",
              "    <tr style=\"text-align: right;\">\n",
              "      <th></th>\n",
              "      <th>A</th>\n",
              "      <th>B</th>\n",
              "      <th>C</th>\n",
              "      <th>D</th>\n",
              "    </tr>\n",
              "  </thead>\n",
              "  <tbody>\n",
              "    <tr>\n",
              "      <th>2013-01-01</th>\n",
              "      <td>0.000000</td>\n",
              "      <td>0.000000</td>\n",
              "      <td>1.045905</td>\n",
              "      <td>5</td>\n",
              "    </tr>\n",
              "    <tr>\n",
              "      <th>2013-01-02</th>\n",
              "      <td>0.805619</td>\n",
              "      <td>-0.891548</td>\n",
              "      <td>1.132089</td>\n",
              "      <td>5</td>\n",
              "    </tr>\n",
              "    <tr>\n",
              "      <th>2013-01-03</th>\n",
              "      <td>0.011333</td>\n",
              "      <td>0.886859</td>\n",
              "      <td>0.813180</td>\n",
              "      <td>5</td>\n",
              "    </tr>\n",
              "    <tr>\n",
              "      <th>2013-01-04</th>\n",
              "      <td>-0.298433</td>\n",
              "      <td>0.977847</td>\n",
              "      <td>0.250832</td>\n",
              "      <td>5</td>\n",
              "    </tr>\n",
              "    <tr>\n",
              "      <th>2013-01-05</th>\n",
              "      <td>1.443657</td>\n",
              "      <td>0.448984</td>\n",
              "      <td>-0.636154</td>\n",
              "      <td>5</td>\n",
              "    </tr>\n",
              "    <tr>\n",
              "      <th>2013-01-06</th>\n",
              "      <td>0.278407</td>\n",
              "      <td>-0.007972</td>\n",
              "      <td>0.552019</td>\n",
              "      <td>5</td>\n",
              "    </tr>\n",
              "  </tbody>\n",
              "</table>\n",
              "</div>"
            ],
            "text/plain": [
              "                   A         B         C  D\n",
              "2013-01-01  0.000000  0.000000  1.045905  5\n",
              "2013-01-02  0.805619 -0.891548  1.132089  5\n",
              "2013-01-03  0.011333  0.886859  0.813180  5\n",
              "2013-01-04 -0.298433  0.977847  0.250832  5\n",
              "2013-01-05  1.443657  0.448984 -0.636154  5\n",
              "2013-01-06  0.278407 -0.007972  0.552019  5"
            ]
          },
          "metadata": {
            "tags": []
          },
          "execution_count": 51
        }
      ]
    },
    {
      "cell_type": "code",
      "metadata": {
        "collapsed": true,
        "id": "ovFrcHnDcT51"
      },
      "source": [
        "df2[df2 > 0] = - df2"
      ],
      "execution_count": 52,
      "outputs": []
    },
    {
      "cell_type": "code",
      "metadata": {
        "id": "YwfvtaKqcT51",
        "colab": {
          "base_uri": "https://localhost:8080/",
          "height": 0
        },
        "outputId": "c8edc478-5c05-4d98-a4b6-a8ca55410489"
      },
      "source": [
        "df2"
      ],
      "execution_count": 53,
      "outputs": [
        {
          "output_type": "execute_result",
          "data": {
            "text/html": [
              "<div>\n",
              "<style scoped>\n",
              "    .dataframe tbody tr th:only-of-type {\n",
              "        vertical-align: middle;\n",
              "    }\n",
              "\n",
              "    .dataframe tbody tr th {\n",
              "        vertical-align: top;\n",
              "    }\n",
              "\n",
              "    .dataframe thead th {\n",
              "        text-align: right;\n",
              "    }\n",
              "</style>\n",
              "<table border=\"1\" class=\"dataframe\">\n",
              "  <thead>\n",
              "    <tr style=\"text-align: right;\">\n",
              "      <th></th>\n",
              "      <th>A</th>\n",
              "      <th>B</th>\n",
              "      <th>C</th>\n",
              "      <th>D</th>\n",
              "    </tr>\n",
              "  </thead>\n",
              "  <tbody>\n",
              "    <tr>\n",
              "      <th>2013-01-01</th>\n",
              "      <td>0.000000</td>\n",
              "      <td>0.000000</td>\n",
              "      <td>-1.045905</td>\n",
              "      <td>-5</td>\n",
              "    </tr>\n",
              "    <tr>\n",
              "      <th>2013-01-02</th>\n",
              "      <td>-0.805619</td>\n",
              "      <td>-0.891548</td>\n",
              "      <td>-1.132089</td>\n",
              "      <td>-5</td>\n",
              "    </tr>\n",
              "    <tr>\n",
              "      <th>2013-01-03</th>\n",
              "      <td>-0.011333</td>\n",
              "      <td>-0.886859</td>\n",
              "      <td>-0.813180</td>\n",
              "      <td>-5</td>\n",
              "    </tr>\n",
              "    <tr>\n",
              "      <th>2013-01-04</th>\n",
              "      <td>-0.298433</td>\n",
              "      <td>-0.977847</td>\n",
              "      <td>-0.250832</td>\n",
              "      <td>-5</td>\n",
              "    </tr>\n",
              "    <tr>\n",
              "      <th>2013-01-05</th>\n",
              "      <td>-1.443657</td>\n",
              "      <td>-0.448984</td>\n",
              "      <td>-0.636154</td>\n",
              "      <td>-5</td>\n",
              "    </tr>\n",
              "    <tr>\n",
              "      <th>2013-01-06</th>\n",
              "      <td>-0.278407</td>\n",
              "      <td>-0.007972</td>\n",
              "      <td>-0.552019</td>\n",
              "      <td>-5</td>\n",
              "    </tr>\n",
              "  </tbody>\n",
              "</table>\n",
              "</div>"
            ],
            "text/plain": [
              "                   A         B         C  D\n",
              "2013-01-01  0.000000  0.000000 -1.045905 -5\n",
              "2013-01-02 -0.805619 -0.891548 -1.132089 -5\n",
              "2013-01-03 -0.011333 -0.886859 -0.813180 -5\n",
              "2013-01-04 -0.298433 -0.977847 -0.250832 -5\n",
              "2013-01-05 -1.443657 -0.448984 -0.636154 -5\n",
              "2013-01-06 -0.278407 -0.007972 -0.552019 -5"
            ]
          },
          "metadata": {
            "tags": []
          },
          "execution_count": 53
        }
      ]
    },
    {
      "cell_type": "markdown",
      "metadata": {
        "id": "H1BiOhXNcT51"
      },
      "source": [
        "## Missing Data\n",
        "---"
      ]
    },
    {
      "cell_type": "markdown",
      "metadata": {
        "id": "z1AAo9cScT51"
      },
      "source": [
        "pandas primarily uses the value `np.nan` to represent missing data. It is by default not included in computations. See the [Missing Data Section](https://pandas.pydata.org/pandas-docs/stable/missing_data.html#missing-data \"Working with missing data\")\n",
        "\n",
        "Reindexing allows you to change/add/delete the index on a specified axis. This returns a copy of the data."
      ]
    },
    {
      "cell_type": "code",
      "metadata": {
        "collapsed": true,
        "id": "0JdiY8egcT51"
      },
      "source": [
        "df1 = df.reindex(index = dates[0 : 4], columns = list(df.columns) + ['E'])"
      ],
      "execution_count": 54,
      "outputs": []
    },
    {
      "cell_type": "code",
      "metadata": {
        "id": "BJruzoLCcT51",
        "colab": {
          "base_uri": "https://localhost:8080/",
          "height": 0
        },
        "outputId": "dd8bae50-82b7-4bd5-a590-6d1458bba040"
      },
      "source": [
        "df1"
      ],
      "execution_count": 55,
      "outputs": [
        {
          "output_type": "execute_result",
          "data": {
            "text/html": [
              "<div>\n",
              "<style scoped>\n",
              "    .dataframe tbody tr th:only-of-type {\n",
              "        vertical-align: middle;\n",
              "    }\n",
              "\n",
              "    .dataframe tbody tr th {\n",
              "        vertical-align: top;\n",
              "    }\n",
              "\n",
              "    .dataframe thead th {\n",
              "        text-align: right;\n",
              "    }\n",
              "</style>\n",
              "<table border=\"1\" class=\"dataframe\">\n",
              "  <thead>\n",
              "    <tr style=\"text-align: right;\">\n",
              "      <th></th>\n",
              "      <th>A</th>\n",
              "      <th>B</th>\n",
              "      <th>C</th>\n",
              "      <th>D</th>\n",
              "      <th>E</th>\n",
              "    </tr>\n",
              "  </thead>\n",
              "  <tbody>\n",
              "    <tr>\n",
              "      <th>2013-01-01</th>\n",
              "      <td>0.000000</td>\n",
              "      <td>0.000000</td>\n",
              "      <td>1.045905</td>\n",
              "      <td>5</td>\n",
              "      <td>NaN</td>\n",
              "    </tr>\n",
              "    <tr>\n",
              "      <th>2013-01-02</th>\n",
              "      <td>0.805619</td>\n",
              "      <td>-0.891548</td>\n",
              "      <td>1.132089</td>\n",
              "      <td>5</td>\n",
              "      <td>NaN</td>\n",
              "    </tr>\n",
              "    <tr>\n",
              "      <th>2013-01-03</th>\n",
              "      <td>0.011333</td>\n",
              "      <td>0.886859</td>\n",
              "      <td>0.813180</td>\n",
              "      <td>5</td>\n",
              "      <td>NaN</td>\n",
              "    </tr>\n",
              "    <tr>\n",
              "      <th>2013-01-04</th>\n",
              "      <td>-0.298433</td>\n",
              "      <td>0.977847</td>\n",
              "      <td>0.250832</td>\n",
              "      <td>5</td>\n",
              "      <td>NaN</td>\n",
              "    </tr>\n",
              "  </tbody>\n",
              "</table>\n",
              "</div>"
            ],
            "text/plain": [
              "                   A         B         C  D   E\n",
              "2013-01-01  0.000000  0.000000  1.045905  5 NaN\n",
              "2013-01-02  0.805619 -0.891548  1.132089  5 NaN\n",
              "2013-01-03  0.011333  0.886859  0.813180  5 NaN\n",
              "2013-01-04 -0.298433  0.977847  0.250832  5 NaN"
            ]
          },
          "metadata": {
            "tags": []
          },
          "execution_count": 55
        }
      ]
    },
    {
      "cell_type": "code",
      "metadata": {
        "collapsed": true,
        "id": "TsO4AHH5cT51"
      },
      "source": [
        "df1.loc[dates[0]: dates[1], 'E'] = 1"
      ],
      "execution_count": 56,
      "outputs": []
    },
    {
      "cell_type": "code",
      "metadata": {
        "id": "K4mX2agecT51",
        "colab": {
          "base_uri": "https://localhost:8080/",
          "height": 0
        },
        "outputId": "e04d81fa-3f10-458c-b90e-f37783cfcb53"
      },
      "source": [
        "df1 "
      ],
      "execution_count": 57,
      "outputs": [
        {
          "output_type": "execute_result",
          "data": {
            "text/html": [
              "<div>\n",
              "<style scoped>\n",
              "    .dataframe tbody tr th:only-of-type {\n",
              "        vertical-align: middle;\n",
              "    }\n",
              "\n",
              "    .dataframe tbody tr th {\n",
              "        vertical-align: top;\n",
              "    }\n",
              "\n",
              "    .dataframe thead th {\n",
              "        text-align: right;\n",
              "    }\n",
              "</style>\n",
              "<table border=\"1\" class=\"dataframe\">\n",
              "  <thead>\n",
              "    <tr style=\"text-align: right;\">\n",
              "      <th></th>\n",
              "      <th>A</th>\n",
              "      <th>B</th>\n",
              "      <th>C</th>\n",
              "      <th>D</th>\n",
              "      <th>E</th>\n",
              "    </tr>\n",
              "  </thead>\n",
              "  <tbody>\n",
              "    <tr>\n",
              "      <th>2013-01-01</th>\n",
              "      <td>0.000000</td>\n",
              "      <td>0.000000</td>\n",
              "      <td>1.045905</td>\n",
              "      <td>5</td>\n",
              "      <td>1.0</td>\n",
              "    </tr>\n",
              "    <tr>\n",
              "      <th>2013-01-02</th>\n",
              "      <td>0.805619</td>\n",
              "      <td>-0.891548</td>\n",
              "      <td>1.132089</td>\n",
              "      <td>5</td>\n",
              "      <td>1.0</td>\n",
              "    </tr>\n",
              "    <tr>\n",
              "      <th>2013-01-03</th>\n",
              "      <td>0.011333</td>\n",
              "      <td>0.886859</td>\n",
              "      <td>0.813180</td>\n",
              "      <td>5</td>\n",
              "      <td>NaN</td>\n",
              "    </tr>\n",
              "    <tr>\n",
              "      <th>2013-01-04</th>\n",
              "      <td>-0.298433</td>\n",
              "      <td>0.977847</td>\n",
              "      <td>0.250832</td>\n",
              "      <td>5</td>\n",
              "      <td>NaN</td>\n",
              "    </tr>\n",
              "  </tbody>\n",
              "</table>\n",
              "</div>"
            ],
            "text/plain": [
              "                   A         B         C  D    E\n",
              "2013-01-01  0.000000  0.000000  1.045905  5  1.0\n",
              "2013-01-02  0.805619 -0.891548  1.132089  5  1.0\n",
              "2013-01-03  0.011333  0.886859  0.813180  5  NaN\n",
              "2013-01-04 -0.298433  0.977847  0.250832  5  NaN"
            ]
          },
          "metadata": {
            "tags": []
          },
          "execution_count": 57
        }
      ]
    },
    {
      "cell_type": "code",
      "metadata": {
        "id": "IIIDN8ZmcT52",
        "colab": {
          "base_uri": "https://localhost:8080/",
          "height": 0
        },
        "outputId": "bdd3c921-a140-4b11-a092-e1773ef03b3d"
      },
      "source": [
        "df1.dropna(how = 'any') # ‘any’ : If any NA values are present, drop that row or column.\n",
        "                        # ‘all’ : If all values are NA, drop that row or column."
      ],
      "execution_count": 58,
      "outputs": [
        {
          "output_type": "execute_result",
          "data": {
            "text/html": [
              "<div>\n",
              "<style scoped>\n",
              "    .dataframe tbody tr th:only-of-type {\n",
              "        vertical-align: middle;\n",
              "    }\n",
              "\n",
              "    .dataframe tbody tr th {\n",
              "        vertical-align: top;\n",
              "    }\n",
              "\n",
              "    .dataframe thead th {\n",
              "        text-align: right;\n",
              "    }\n",
              "</style>\n",
              "<table border=\"1\" class=\"dataframe\">\n",
              "  <thead>\n",
              "    <tr style=\"text-align: right;\">\n",
              "      <th></th>\n",
              "      <th>A</th>\n",
              "      <th>B</th>\n",
              "      <th>C</th>\n",
              "      <th>D</th>\n",
              "      <th>E</th>\n",
              "    </tr>\n",
              "  </thead>\n",
              "  <tbody>\n",
              "    <tr>\n",
              "      <th>2013-01-01</th>\n",
              "      <td>0.000000</td>\n",
              "      <td>0.000000</td>\n",
              "      <td>1.045905</td>\n",
              "      <td>5</td>\n",
              "      <td>1.0</td>\n",
              "    </tr>\n",
              "    <tr>\n",
              "      <th>2013-01-02</th>\n",
              "      <td>0.805619</td>\n",
              "      <td>-0.891548</td>\n",
              "      <td>1.132089</td>\n",
              "      <td>5</td>\n",
              "      <td>1.0</td>\n",
              "    </tr>\n",
              "  </tbody>\n",
              "</table>\n",
              "</div>"
            ],
            "text/plain": [
              "                   A         B         C  D    E\n",
              "2013-01-01  0.000000  0.000000  1.045905  5  1.0\n",
              "2013-01-02  0.805619 -0.891548  1.132089  5  1.0"
            ]
          },
          "metadata": {
            "tags": []
          },
          "execution_count": 58
        }
      ]
    },
    {
      "cell_type": "markdown",
      "metadata": {
        "id": "5NI715l5cT52"
      },
      "source": [
        "Filling missing data"
      ]
    },
    {
      "cell_type": "code",
      "metadata": {
        "id": "kyDX8PqkcT52",
        "colab": {
          "base_uri": "https://localhost:8080/",
          "height": 0
        },
        "outputId": "5d101b9b-51ed-42d4-f1e4-b23b789efd26"
      },
      "source": [
        "df1.fillna(value = 5)"
      ],
      "execution_count": 59,
      "outputs": [
        {
          "output_type": "execute_result",
          "data": {
            "text/html": [
              "<div>\n",
              "<style scoped>\n",
              "    .dataframe tbody tr th:only-of-type {\n",
              "        vertical-align: middle;\n",
              "    }\n",
              "\n",
              "    .dataframe tbody tr th {\n",
              "        vertical-align: top;\n",
              "    }\n",
              "\n",
              "    .dataframe thead th {\n",
              "        text-align: right;\n",
              "    }\n",
              "</style>\n",
              "<table border=\"1\" class=\"dataframe\">\n",
              "  <thead>\n",
              "    <tr style=\"text-align: right;\">\n",
              "      <th></th>\n",
              "      <th>A</th>\n",
              "      <th>B</th>\n",
              "      <th>C</th>\n",
              "      <th>D</th>\n",
              "      <th>E</th>\n",
              "    </tr>\n",
              "  </thead>\n",
              "  <tbody>\n",
              "    <tr>\n",
              "      <th>2013-01-01</th>\n",
              "      <td>0.000000</td>\n",
              "      <td>0.000000</td>\n",
              "      <td>1.045905</td>\n",
              "      <td>5</td>\n",
              "      <td>1.0</td>\n",
              "    </tr>\n",
              "    <tr>\n",
              "      <th>2013-01-02</th>\n",
              "      <td>0.805619</td>\n",
              "      <td>-0.891548</td>\n",
              "      <td>1.132089</td>\n",
              "      <td>5</td>\n",
              "      <td>1.0</td>\n",
              "    </tr>\n",
              "    <tr>\n",
              "      <th>2013-01-03</th>\n",
              "      <td>0.011333</td>\n",
              "      <td>0.886859</td>\n",
              "      <td>0.813180</td>\n",
              "      <td>5</td>\n",
              "      <td>5.0</td>\n",
              "    </tr>\n",
              "    <tr>\n",
              "      <th>2013-01-04</th>\n",
              "      <td>-0.298433</td>\n",
              "      <td>0.977847</td>\n",
              "      <td>0.250832</td>\n",
              "      <td>5</td>\n",
              "      <td>5.0</td>\n",
              "    </tr>\n",
              "  </tbody>\n",
              "</table>\n",
              "</div>"
            ],
            "text/plain": [
              "                   A         B         C  D    E\n",
              "2013-01-01  0.000000  0.000000  1.045905  5  1.0\n",
              "2013-01-02  0.805619 -0.891548  1.132089  5  1.0\n",
              "2013-01-03  0.011333  0.886859  0.813180  5  5.0\n",
              "2013-01-04 -0.298433  0.977847  0.250832  5  5.0"
            ]
          },
          "metadata": {
            "tags": []
          },
          "execution_count": 59
        }
      ]
    },
    {
      "cell_type": "markdown",
      "metadata": {
        "id": "vlTG4bSicT52"
      },
      "source": [
        "To get the boolean mask where values are `nan`"
      ]
    },
    {
      "cell_type": "code",
      "metadata": {
        "id": "D9TQwoPNcT52",
        "colab": {
          "base_uri": "https://localhost:8080/",
          "height": 0
        },
        "outputId": "237495d7-f0a4-4e03-aeac-9105d50dd4cf"
      },
      "source": [
        "pd.isnull(df1)"
      ],
      "execution_count": 60,
      "outputs": [
        {
          "output_type": "execute_result",
          "data": {
            "text/html": [
              "<div>\n",
              "<style scoped>\n",
              "    .dataframe tbody tr th:only-of-type {\n",
              "        vertical-align: middle;\n",
              "    }\n",
              "\n",
              "    .dataframe tbody tr th {\n",
              "        vertical-align: top;\n",
              "    }\n",
              "\n",
              "    .dataframe thead th {\n",
              "        text-align: right;\n",
              "    }\n",
              "</style>\n",
              "<table border=\"1\" class=\"dataframe\">\n",
              "  <thead>\n",
              "    <tr style=\"text-align: right;\">\n",
              "      <th></th>\n",
              "      <th>A</th>\n",
              "      <th>B</th>\n",
              "      <th>C</th>\n",
              "      <th>D</th>\n",
              "      <th>E</th>\n",
              "    </tr>\n",
              "  </thead>\n",
              "  <tbody>\n",
              "    <tr>\n",
              "      <th>2013-01-01</th>\n",
              "      <td>False</td>\n",
              "      <td>False</td>\n",
              "      <td>False</td>\n",
              "      <td>False</td>\n",
              "      <td>False</td>\n",
              "    </tr>\n",
              "    <tr>\n",
              "      <th>2013-01-02</th>\n",
              "      <td>False</td>\n",
              "      <td>False</td>\n",
              "      <td>False</td>\n",
              "      <td>False</td>\n",
              "      <td>False</td>\n",
              "    </tr>\n",
              "    <tr>\n",
              "      <th>2013-01-03</th>\n",
              "      <td>False</td>\n",
              "      <td>False</td>\n",
              "      <td>False</td>\n",
              "      <td>False</td>\n",
              "      <td>True</td>\n",
              "    </tr>\n",
              "    <tr>\n",
              "      <th>2013-01-04</th>\n",
              "      <td>False</td>\n",
              "      <td>False</td>\n",
              "      <td>False</td>\n",
              "      <td>False</td>\n",
              "      <td>True</td>\n",
              "    </tr>\n",
              "  </tbody>\n",
              "</table>\n",
              "</div>"
            ],
            "text/plain": [
              "                A      B      C      D      E\n",
              "2013-01-01  False  False  False  False  False\n",
              "2013-01-02  False  False  False  False  False\n",
              "2013-01-03  False  False  False  False   True\n",
              "2013-01-04  False  False  False  False   True"
            ]
          },
          "metadata": {
            "tags": []
          },
          "execution_count": 60
        }
      ]
    },
    {
      "cell_type": "markdown",
      "metadata": {
        "id": "7beUfZf4cT52"
      },
      "source": [
        "## Operations\n",
        "---\n",
        "See the [Basic section on Binary Ops](https://pandas.pydata.org/pandas-docs/stable/basics.html#basics-binop \"Flexible binary operations\")"
      ]
    },
    {
      "cell_type": "markdown",
      "metadata": {
        "id": "v67J36_BcT52"
      },
      "source": [
        "### Stats\n",
        "\n",
        "Operations in general _exclude_ missing data.\n",
        "\n",
        "Performing a descriptive statistic."
      ]
    },
    {
      "cell_type": "markdown",
      "metadata": {
        "id": "JKdI9L5KhB4z"
      },
      "source": [
        " <img src= 'https://i.stack.imgur.com/FzimB.png'>  \n",
        "\n",
        " <img src='https://bham-carpentries.github.io/2018-12-17-bham_python-novice-inflammation/fig/python-operations-across-axes.png'>"
      ]
    },
    {
      "cell_type": "code",
      "metadata": {
        "id": "05Eh6eYbcT52",
        "colab": {
          "base_uri": "https://localhost:8080/"
        },
        "outputId": "e46d7b56-c82a-47f1-e806-416998a08a96"
      },
      "source": [
        "df.mean()"
      ],
      "execution_count": 61,
      "outputs": [
        {
          "output_type": "execute_result",
          "data": {
            "text/plain": [
              "A    0.373430\n",
              "B    0.235695\n",
              "C    0.526312\n",
              "D    5.000000\n",
              "dtype: float64"
            ]
          },
          "metadata": {
            "tags": []
          },
          "execution_count": 61
        }
      ]
    },
    {
      "cell_type": "code",
      "metadata": {
        "id": "yI8ij4U-cT53",
        "colab": {
          "base_uri": "https://localhost:8080/"
        },
        "outputId": "13800532-ea09-4128-d0d9-fca7084f227b"
      },
      "source": [
        "df.mean(0)    # same as above"
      ],
      "execution_count": 62,
      "outputs": [
        {
          "output_type": "execute_result",
          "data": {
            "text/plain": [
              "A    0.373430\n",
              "B    0.235695\n",
              "C    0.526312\n",
              "D    5.000000\n",
              "dtype: float64"
            ]
          },
          "metadata": {
            "tags": []
          },
          "execution_count": 62
        }
      ]
    },
    {
      "cell_type": "code",
      "metadata": {
        "id": "0DpVmj_Ahbse",
        "colab": {
          "base_uri": "https://localhost:8080/"
        },
        "outputId": "f268743b-d058-4c9a-bc21-015a2ab438b5"
      },
      "source": [
        "df.mean(axis='index')"
      ],
      "execution_count": 63,
      "outputs": [
        {
          "output_type": "execute_result",
          "data": {
            "text/plain": [
              "A    0.373430\n",
              "B    0.235695\n",
              "C    0.526312\n",
              "D    5.000000\n",
              "dtype: float64"
            ]
          },
          "metadata": {
            "tags": []
          },
          "execution_count": 63
        }
      ]
    },
    {
      "cell_type": "markdown",
      "metadata": {
        "id": "6hrlZRl_cT53"
      },
      "source": [
        "Same operation on the other axis."
      ]
    },
    {
      "cell_type": "code",
      "metadata": {
        "id": "1QIcEe6JcT53",
        "colab": {
          "base_uri": "https://localhost:8080/"
        },
        "outputId": "d126d47c-b8a7-437a-818a-a4bdd905f585"
      },
      "source": [
        "df.mean(1)"
      ],
      "execution_count": 64,
      "outputs": [
        {
          "output_type": "execute_result",
          "data": {
            "text/plain": [
              "2013-01-01    1.511476\n",
              "2013-01-02    1.511540\n",
              "2013-01-03    1.677843\n",
              "2013-01-04    1.482561\n",
              "2013-01-05    1.564122\n",
              "2013-01-06    1.455613\n",
              "Freq: D, dtype: float64"
            ]
          },
          "metadata": {
            "tags": []
          },
          "execution_count": 64
        }
      ]
    },
    {
      "cell_type": "code",
      "metadata": {
        "id": "5VrOw_7-h3hg",
        "colab": {
          "base_uri": "https://localhost:8080/"
        },
        "outputId": "92101e2b-0b04-4268-cbb6-15a2553d5775"
      },
      "source": [
        "df.mean(axis='columns')"
      ],
      "execution_count": 65,
      "outputs": [
        {
          "output_type": "execute_result",
          "data": {
            "text/plain": [
              "2013-01-01    1.511476\n",
              "2013-01-02    1.511540\n",
              "2013-01-03    1.677843\n",
              "2013-01-04    1.482561\n",
              "2013-01-05    1.564122\n",
              "2013-01-06    1.455613\n",
              "Freq: D, dtype: float64"
            ]
          },
          "metadata": {
            "tags": []
          },
          "execution_count": 65
        }
      ]
    },
    {
      "cell_type": "markdown",
      "metadata": {
        "id": "4wj2G7GGcT53"
      },
      "source": [
        "Operating with objects that have different dimensionality and need alignment. In addition, pandas automatically broadcasts along the specified dimension."
      ]
    },
    {
      "cell_type": "code",
      "metadata": {
        "collapsed": true,
        "id": "ZPfn0szWcT53"
      },
      "source": [
        "s = pd.Series([1, 3, 5, np.nan, 6, 8], index = dates).shift(2)"
      ],
      "execution_count": 66,
      "outputs": []
    },
    {
      "cell_type": "code",
      "metadata": {
        "id": "hXwhaTmVcT53",
        "colab": {
          "base_uri": "https://localhost:8080/"
        },
        "outputId": "e71991ab-e17d-45e4-bff3-2f71072e8714"
      },
      "source": [
        "s"
      ],
      "execution_count": 67,
      "outputs": [
        {
          "output_type": "execute_result",
          "data": {
            "text/plain": [
              "2013-01-01    NaN\n",
              "2013-01-02    NaN\n",
              "2013-01-03    1.0\n",
              "2013-01-04    3.0\n",
              "2013-01-05    5.0\n",
              "2013-01-06    NaN\n",
              "Freq: D, dtype: float64"
            ]
          },
          "metadata": {
            "tags": []
          },
          "execution_count": 67
        }
      ]
    },
    {
      "cell_type": "code",
      "metadata": {
        "id": "IPWlA1pdcT53",
        "colab": {
          "base_uri": "https://localhost:8080/",
          "height": 233
        },
        "outputId": "269c853e-0632-425f-ba46-bc80471d2f29"
      },
      "source": [
        "df.sub(s, axis = 'index')"
      ],
      "execution_count": 68,
      "outputs": [
        {
          "output_type": "execute_result",
          "data": {
            "text/html": [
              "<div>\n",
              "<style scoped>\n",
              "    .dataframe tbody tr th:only-of-type {\n",
              "        vertical-align: middle;\n",
              "    }\n",
              "\n",
              "    .dataframe tbody tr th {\n",
              "        vertical-align: top;\n",
              "    }\n",
              "\n",
              "    .dataframe thead th {\n",
              "        text-align: right;\n",
              "    }\n",
              "</style>\n",
              "<table border=\"1\" class=\"dataframe\">\n",
              "  <thead>\n",
              "    <tr style=\"text-align: right;\">\n",
              "      <th></th>\n",
              "      <th>A</th>\n",
              "      <th>B</th>\n",
              "      <th>C</th>\n",
              "      <th>D</th>\n",
              "    </tr>\n",
              "  </thead>\n",
              "  <tbody>\n",
              "    <tr>\n",
              "      <th>2013-01-01</th>\n",
              "      <td>NaN</td>\n",
              "      <td>NaN</td>\n",
              "      <td>NaN</td>\n",
              "      <td>NaN</td>\n",
              "    </tr>\n",
              "    <tr>\n",
              "      <th>2013-01-02</th>\n",
              "      <td>NaN</td>\n",
              "      <td>NaN</td>\n",
              "      <td>NaN</td>\n",
              "      <td>NaN</td>\n",
              "    </tr>\n",
              "    <tr>\n",
              "      <th>2013-01-03</th>\n",
              "      <td>-0.988667</td>\n",
              "      <td>-0.113141</td>\n",
              "      <td>-0.186820</td>\n",
              "      <td>4.0</td>\n",
              "    </tr>\n",
              "    <tr>\n",
              "      <th>2013-01-04</th>\n",
              "      <td>-3.298433</td>\n",
              "      <td>-2.022153</td>\n",
              "      <td>-2.749168</td>\n",
              "      <td>2.0</td>\n",
              "    </tr>\n",
              "    <tr>\n",
              "      <th>2013-01-05</th>\n",
              "      <td>-3.556343</td>\n",
              "      <td>-4.551016</td>\n",
              "      <td>-5.636154</td>\n",
              "      <td>0.0</td>\n",
              "    </tr>\n",
              "    <tr>\n",
              "      <th>2013-01-06</th>\n",
              "      <td>NaN</td>\n",
              "      <td>NaN</td>\n",
              "      <td>NaN</td>\n",
              "      <td>NaN</td>\n",
              "    </tr>\n",
              "  </tbody>\n",
              "</table>\n",
              "</div>"
            ],
            "text/plain": [
              "                   A         B         C    D\n",
              "2013-01-01       NaN       NaN       NaN  NaN\n",
              "2013-01-02       NaN       NaN       NaN  NaN\n",
              "2013-01-03 -0.988667 -0.113141 -0.186820  4.0\n",
              "2013-01-04 -3.298433 -2.022153 -2.749168  2.0\n",
              "2013-01-05 -3.556343 -4.551016 -5.636154  0.0\n",
              "2013-01-06       NaN       NaN       NaN  NaN"
            ]
          },
          "metadata": {
            "tags": []
          },
          "execution_count": 68
        }
      ]
    },
    {
      "cell_type": "code",
      "metadata": {
        "colab": {
          "base_uri": "https://localhost:8080/",
          "height": 233
        },
        "id": "5LpgMZacgAoy",
        "outputId": "28786c7f-6545-433e-f0be-cb4d20925aa1"
      },
      "source": [
        "df"
      ],
      "execution_count": 69,
      "outputs": [
        {
          "output_type": "execute_result",
          "data": {
            "text/html": [
              "<div>\n",
              "<style scoped>\n",
              "    .dataframe tbody tr th:only-of-type {\n",
              "        vertical-align: middle;\n",
              "    }\n",
              "\n",
              "    .dataframe tbody tr th {\n",
              "        vertical-align: top;\n",
              "    }\n",
              "\n",
              "    .dataframe thead th {\n",
              "        text-align: right;\n",
              "    }\n",
              "</style>\n",
              "<table border=\"1\" class=\"dataframe\">\n",
              "  <thead>\n",
              "    <tr style=\"text-align: right;\">\n",
              "      <th></th>\n",
              "      <th>A</th>\n",
              "      <th>B</th>\n",
              "      <th>C</th>\n",
              "      <th>D</th>\n",
              "    </tr>\n",
              "  </thead>\n",
              "  <tbody>\n",
              "    <tr>\n",
              "      <th>2013-01-01</th>\n",
              "      <td>0.000000</td>\n",
              "      <td>0.000000</td>\n",
              "      <td>1.045905</td>\n",
              "      <td>5</td>\n",
              "    </tr>\n",
              "    <tr>\n",
              "      <th>2013-01-02</th>\n",
              "      <td>0.805619</td>\n",
              "      <td>-0.891548</td>\n",
              "      <td>1.132089</td>\n",
              "      <td>5</td>\n",
              "    </tr>\n",
              "    <tr>\n",
              "      <th>2013-01-03</th>\n",
              "      <td>0.011333</td>\n",
              "      <td>0.886859</td>\n",
              "      <td>0.813180</td>\n",
              "      <td>5</td>\n",
              "    </tr>\n",
              "    <tr>\n",
              "      <th>2013-01-04</th>\n",
              "      <td>-0.298433</td>\n",
              "      <td>0.977847</td>\n",
              "      <td>0.250832</td>\n",
              "      <td>5</td>\n",
              "    </tr>\n",
              "    <tr>\n",
              "      <th>2013-01-05</th>\n",
              "      <td>1.443657</td>\n",
              "      <td>0.448984</td>\n",
              "      <td>-0.636154</td>\n",
              "      <td>5</td>\n",
              "    </tr>\n",
              "    <tr>\n",
              "      <th>2013-01-06</th>\n",
              "      <td>0.278407</td>\n",
              "      <td>-0.007972</td>\n",
              "      <td>0.552019</td>\n",
              "      <td>5</td>\n",
              "    </tr>\n",
              "  </tbody>\n",
              "</table>\n",
              "</div>"
            ],
            "text/plain": [
              "                   A         B         C  D\n",
              "2013-01-01  0.000000  0.000000  1.045905  5\n",
              "2013-01-02  0.805619 -0.891548  1.132089  5\n",
              "2013-01-03  0.011333  0.886859  0.813180  5\n",
              "2013-01-04 -0.298433  0.977847  0.250832  5\n",
              "2013-01-05  1.443657  0.448984 -0.636154  5\n",
              "2013-01-06  0.278407 -0.007972  0.552019  5"
            ]
          },
          "metadata": {
            "tags": []
          },
          "execution_count": 69
        }
      ]
    },
    {
      "cell_type": "markdown",
      "metadata": {
        "id": "nJxL8sQYcT53"
      },
      "source": [
        "### Apply\n",
        "\n",
        "Applying functions to the data."
      ]
    },
    {
      "cell_type": "code",
      "metadata": {
        "id": "4aqAbQR5cT53",
        "colab": {
          "base_uri": "https://localhost:8080/",
          "height": 233
        },
        "outputId": "3470fd69-d621-43ed-c684-11ee9eb81336"
      },
      "source": [
        "df.apply(np.cumsum)"
      ],
      "execution_count": 70,
      "outputs": [
        {
          "output_type": "execute_result",
          "data": {
            "text/html": [
              "<div>\n",
              "<style scoped>\n",
              "    .dataframe tbody tr th:only-of-type {\n",
              "        vertical-align: middle;\n",
              "    }\n",
              "\n",
              "    .dataframe tbody tr th {\n",
              "        vertical-align: top;\n",
              "    }\n",
              "\n",
              "    .dataframe thead th {\n",
              "        text-align: right;\n",
              "    }\n",
              "</style>\n",
              "<table border=\"1\" class=\"dataframe\">\n",
              "  <thead>\n",
              "    <tr style=\"text-align: right;\">\n",
              "      <th></th>\n",
              "      <th>A</th>\n",
              "      <th>B</th>\n",
              "      <th>C</th>\n",
              "      <th>D</th>\n",
              "    </tr>\n",
              "  </thead>\n",
              "  <tbody>\n",
              "    <tr>\n",
              "      <th>2013-01-01</th>\n",
              "      <td>0.000000</td>\n",
              "      <td>0.000000</td>\n",
              "      <td>1.045905</td>\n",
              "      <td>5</td>\n",
              "    </tr>\n",
              "    <tr>\n",
              "      <th>2013-01-02</th>\n",
              "      <td>0.805619</td>\n",
              "      <td>-0.891548</td>\n",
              "      <td>2.177994</td>\n",
              "      <td>10</td>\n",
              "    </tr>\n",
              "    <tr>\n",
              "      <th>2013-01-03</th>\n",
              "      <td>0.816952</td>\n",
              "      <td>-0.004689</td>\n",
              "      <td>2.991174</td>\n",
              "      <td>15</td>\n",
              "    </tr>\n",
              "    <tr>\n",
              "      <th>2013-01-04</th>\n",
              "      <td>0.518519</td>\n",
              "      <td>0.973158</td>\n",
              "      <td>3.242005</td>\n",
              "      <td>20</td>\n",
              "    </tr>\n",
              "    <tr>\n",
              "      <th>2013-01-05</th>\n",
              "      <td>1.962176</td>\n",
              "      <td>1.422142</td>\n",
              "      <td>2.605851</td>\n",
              "      <td>25</td>\n",
              "    </tr>\n",
              "    <tr>\n",
              "      <th>2013-01-06</th>\n",
              "      <td>2.240583</td>\n",
              "      <td>1.414170</td>\n",
              "      <td>3.157870</td>\n",
              "      <td>30</td>\n",
              "    </tr>\n",
              "  </tbody>\n",
              "</table>\n",
              "</div>"
            ],
            "text/plain": [
              "                   A         B         C   D\n",
              "2013-01-01  0.000000  0.000000  1.045905   5\n",
              "2013-01-02  0.805619 -0.891548  2.177994  10\n",
              "2013-01-03  0.816952 -0.004689  2.991174  15\n",
              "2013-01-04  0.518519  0.973158  3.242005  20\n",
              "2013-01-05  1.962176  1.422142  2.605851  25\n",
              "2013-01-06  2.240583  1.414170  3.157870  30"
            ]
          },
          "metadata": {
            "tags": []
          },
          "execution_count": 70
        }
      ]
    },
    {
      "cell_type": "code",
      "metadata": {
        "id": "wmnfG9v7cT53",
        "colab": {
          "base_uri": "https://localhost:8080/"
        },
        "outputId": "354075b3-045d-4fa3-b377-6e2292f8cf02"
      },
      "source": [
        "df.apply(lambda x: x.max() - x.min())"
      ],
      "execution_count": 71,
      "outputs": [
        {
          "output_type": "execute_result",
          "data": {
            "text/plain": [
              "A    1.742090\n",
              "B    1.869395\n",
              "C    1.768243\n",
              "D    0.000000\n",
              "dtype: float64"
            ]
          },
          "metadata": {
            "tags": []
          },
          "execution_count": 71
        }
      ]
    },
    {
      "cell_type": "markdown",
      "metadata": {
        "id": "N77v2AOOcT54"
      },
      "source": [
        "### String Methods\n",
        "\n",
        "Series is equipped with a set of string processing methods in the _str_ attribute that make it easy to operate on each element of the array, as in the code snippet below. Note that pattern-matching in _str_ generally uses [regular expressions](https://docs.python.org/2/library/re.html \"Regular expression operations\") by default (and in some cases always uses them). See more at [Vectorizing String Methods](https://pandas.pydata.org/pandas-docs/stable/text.html#text-string-methods \"Working with Text Data\")."
      ]
    },
    {
      "cell_type": "code",
      "metadata": {
        "collapsed": true,
        "id": "QWiysLP_cT54"
      },
      "source": [
        "s = pd.Series(np.random.randint(0, 7, size = 10))"
      ],
      "execution_count": 72,
      "outputs": []
    },
    {
      "cell_type": "code",
      "metadata": {
        "id": "Xo4dctw2cT54",
        "colab": {
          "base_uri": "https://localhost:8080/"
        },
        "outputId": "7bf09dbd-09a9-4cab-f814-16c34b4afd96"
      },
      "source": [
        "s"
      ],
      "execution_count": 73,
      "outputs": [
        {
          "output_type": "execute_result",
          "data": {
            "text/plain": [
              "0    4\n",
              "1    0\n",
              "2    2\n",
              "3    3\n",
              "4    2\n",
              "5    1\n",
              "6    1\n",
              "7    5\n",
              "8    1\n",
              "9    0\n",
              "dtype: int64"
            ]
          },
          "metadata": {
            "tags": []
          },
          "execution_count": 73
        }
      ]
    },
    {
      "cell_type": "code",
      "metadata": {
        "collapsed": true,
        "id": "RCMdMloKcT54"
      },
      "source": [
        "s = pd.Series(['A', 'B', 'C', 'Aaba', 'Baca', np.nan, 'CABA', 'dog', 'cat'])"
      ],
      "execution_count": 74,
      "outputs": []
    },
    {
      "cell_type": "code",
      "metadata": {
        "id": "qHNPxuXfcT54",
        "colab": {
          "base_uri": "https://localhost:8080/"
        },
        "outputId": "bb1bc4e6-15fc-4663-f90b-deed321bfc9e"
      },
      "source": [
        "s.str.lower()"
      ],
      "execution_count": 75,
      "outputs": [
        {
          "output_type": "execute_result",
          "data": {
            "text/plain": [
              "0       a\n",
              "1       b\n",
              "2       c\n",
              "3    aaba\n",
              "4    baca\n",
              "5     NaN\n",
              "6    caba\n",
              "7     dog\n",
              "8     cat\n",
              "dtype: object"
            ]
          },
          "metadata": {
            "tags": []
          },
          "execution_count": 75
        }
      ]
    },
    {
      "cell_type": "markdown",
      "metadata": {
        "id": "POb7-NF5cT58"
      },
      "source": [
        "### Append\n",
        "\n",
        "Append rows to a dataframe. See the [Appending](https://pandas.pydata.org/pandas-docs/stable/merging.html#merging-concatenation \"Concatenating using append\")."
      ]
    },
    {
      "cell_type": "code",
      "metadata": {
        "collapsed": true,
        "id": "8GRBvdFXcT58"
      },
      "source": [
        "df = pd.DataFrame(np.random.randn(8, 4), columns = ['A', 'B', 'C', 'D'])"
      ],
      "execution_count": 76,
      "outputs": []
    },
    {
      "cell_type": "code",
      "metadata": {
        "id": "GIZhNNFacT58",
        "colab": {
          "base_uri": "https://localhost:8080/",
          "height": 294
        },
        "outputId": "eb910fe7-1583-43ad-9675-79dd4334341d"
      },
      "source": [
        "df"
      ],
      "execution_count": 77,
      "outputs": [
        {
          "output_type": "execute_result",
          "data": {
            "text/html": [
              "<div>\n",
              "<style scoped>\n",
              "    .dataframe tbody tr th:only-of-type {\n",
              "        vertical-align: middle;\n",
              "    }\n",
              "\n",
              "    .dataframe tbody tr th {\n",
              "        vertical-align: top;\n",
              "    }\n",
              "\n",
              "    .dataframe thead th {\n",
              "        text-align: right;\n",
              "    }\n",
              "</style>\n",
              "<table border=\"1\" class=\"dataframe\">\n",
              "  <thead>\n",
              "    <tr style=\"text-align: right;\">\n",
              "      <th></th>\n",
              "      <th>A</th>\n",
              "      <th>B</th>\n",
              "      <th>C</th>\n",
              "      <th>D</th>\n",
              "    </tr>\n",
              "  </thead>\n",
              "  <tbody>\n",
              "    <tr>\n",
              "      <th>0</th>\n",
              "      <td>-0.778266</td>\n",
              "      <td>1.620557</td>\n",
              "      <td>-0.498919</td>\n",
              "      <td>1.944819</td>\n",
              "    </tr>\n",
              "    <tr>\n",
              "      <th>1</th>\n",
              "      <td>1.264212</td>\n",
              "      <td>-1.500307</td>\n",
              "      <td>-1.466535</td>\n",
              "      <td>0.577287</td>\n",
              "    </tr>\n",
              "    <tr>\n",
              "      <th>2</th>\n",
              "      <td>0.912682</td>\n",
              "      <td>2.383514</td>\n",
              "      <td>-1.517622</td>\n",
              "      <td>-1.003870</td>\n",
              "    </tr>\n",
              "    <tr>\n",
              "      <th>3</th>\n",
              "      <td>0.156505</td>\n",
              "      <td>-0.875698</td>\n",
              "      <td>0.441791</td>\n",
              "      <td>-0.727409</td>\n",
              "    </tr>\n",
              "    <tr>\n",
              "      <th>4</th>\n",
              "      <td>-0.832705</td>\n",
              "      <td>1.268703</td>\n",
              "      <td>-0.287481</td>\n",
              "      <td>-2.255515</td>\n",
              "    </tr>\n",
              "    <tr>\n",
              "      <th>5</th>\n",
              "      <td>0.843873</td>\n",
              "      <td>-1.922015</td>\n",
              "      <td>0.373918</td>\n",
              "      <td>-1.335962</td>\n",
              "    </tr>\n",
              "    <tr>\n",
              "      <th>6</th>\n",
              "      <td>0.733318</td>\n",
              "      <td>-1.481198</td>\n",
              "      <td>0.981364</td>\n",
              "      <td>-0.807720</td>\n",
              "    </tr>\n",
              "    <tr>\n",
              "      <th>7</th>\n",
              "      <td>-0.177138</td>\n",
              "      <td>-1.297684</td>\n",
              "      <td>0.128608</td>\n",
              "      <td>-1.722984</td>\n",
              "    </tr>\n",
              "  </tbody>\n",
              "</table>\n",
              "</div>"
            ],
            "text/plain": [
              "          A         B         C         D\n",
              "0 -0.778266  1.620557 -0.498919  1.944819\n",
              "1  1.264212 -1.500307 -1.466535  0.577287\n",
              "2  0.912682  2.383514 -1.517622 -1.003870\n",
              "3  0.156505 -0.875698  0.441791 -0.727409\n",
              "4 -0.832705  1.268703 -0.287481 -2.255515\n",
              "5  0.843873 -1.922015  0.373918 -1.335962\n",
              "6  0.733318 -1.481198  0.981364 -0.807720\n",
              "7 -0.177138 -1.297684  0.128608 -1.722984"
            ]
          },
          "metadata": {
            "tags": []
          },
          "execution_count": 77
        }
      ]
    },
    {
      "cell_type": "code",
      "metadata": {
        "collapsed": true,
        "id": "QiTVDokgcT59"
      },
      "source": [
        "s = df.iloc[3]"
      ],
      "execution_count": 78,
      "outputs": []
    },
    {
      "cell_type": "code",
      "metadata": {
        "id": "RlZGpl2tcT59",
        "colab": {
          "base_uri": "https://localhost:8080/"
        },
        "outputId": "65ca8a10-d3d8-49b9-a879-d0d9c624818f"
      },
      "source": [
        "s"
      ],
      "execution_count": 79,
      "outputs": [
        {
          "output_type": "execute_result",
          "data": {
            "text/plain": [
              "A    0.156505\n",
              "B   -0.875698\n",
              "C    0.441791\n",
              "D   -0.727409\n",
              "Name: 3, dtype: float64"
            ]
          },
          "metadata": {
            "tags": []
          },
          "execution_count": 79
        }
      ]
    },
    {
      "cell_type": "code",
      "metadata": {
        "id": "XJPGb0wqcT59",
        "colab": {
          "base_uri": "https://localhost:8080/",
          "height": 325
        },
        "outputId": "2862a334-e0ef-4955-9787-5faa8d4d28f8"
      },
      "source": [
        "df.append(s, ignore_index = True)"
      ],
      "execution_count": 80,
      "outputs": [
        {
          "output_type": "execute_result",
          "data": {
            "text/html": [
              "<div>\n",
              "<style scoped>\n",
              "    .dataframe tbody tr th:only-of-type {\n",
              "        vertical-align: middle;\n",
              "    }\n",
              "\n",
              "    .dataframe tbody tr th {\n",
              "        vertical-align: top;\n",
              "    }\n",
              "\n",
              "    .dataframe thead th {\n",
              "        text-align: right;\n",
              "    }\n",
              "</style>\n",
              "<table border=\"1\" class=\"dataframe\">\n",
              "  <thead>\n",
              "    <tr style=\"text-align: right;\">\n",
              "      <th></th>\n",
              "      <th>A</th>\n",
              "      <th>B</th>\n",
              "      <th>C</th>\n",
              "      <th>D</th>\n",
              "    </tr>\n",
              "  </thead>\n",
              "  <tbody>\n",
              "    <tr>\n",
              "      <th>0</th>\n",
              "      <td>-0.778266</td>\n",
              "      <td>1.620557</td>\n",
              "      <td>-0.498919</td>\n",
              "      <td>1.944819</td>\n",
              "    </tr>\n",
              "    <tr>\n",
              "      <th>1</th>\n",
              "      <td>1.264212</td>\n",
              "      <td>-1.500307</td>\n",
              "      <td>-1.466535</td>\n",
              "      <td>0.577287</td>\n",
              "    </tr>\n",
              "    <tr>\n",
              "      <th>2</th>\n",
              "      <td>0.912682</td>\n",
              "      <td>2.383514</td>\n",
              "      <td>-1.517622</td>\n",
              "      <td>-1.003870</td>\n",
              "    </tr>\n",
              "    <tr>\n",
              "      <th>3</th>\n",
              "      <td>0.156505</td>\n",
              "      <td>-0.875698</td>\n",
              "      <td>0.441791</td>\n",
              "      <td>-0.727409</td>\n",
              "    </tr>\n",
              "    <tr>\n",
              "      <th>4</th>\n",
              "      <td>-0.832705</td>\n",
              "      <td>1.268703</td>\n",
              "      <td>-0.287481</td>\n",
              "      <td>-2.255515</td>\n",
              "    </tr>\n",
              "    <tr>\n",
              "      <th>5</th>\n",
              "      <td>0.843873</td>\n",
              "      <td>-1.922015</td>\n",
              "      <td>0.373918</td>\n",
              "      <td>-1.335962</td>\n",
              "    </tr>\n",
              "    <tr>\n",
              "      <th>6</th>\n",
              "      <td>0.733318</td>\n",
              "      <td>-1.481198</td>\n",
              "      <td>0.981364</td>\n",
              "      <td>-0.807720</td>\n",
              "    </tr>\n",
              "    <tr>\n",
              "      <th>7</th>\n",
              "      <td>-0.177138</td>\n",
              "      <td>-1.297684</td>\n",
              "      <td>0.128608</td>\n",
              "      <td>-1.722984</td>\n",
              "    </tr>\n",
              "    <tr>\n",
              "      <th>8</th>\n",
              "      <td>0.156505</td>\n",
              "      <td>-0.875698</td>\n",
              "      <td>0.441791</td>\n",
              "      <td>-0.727409</td>\n",
              "    </tr>\n",
              "  </tbody>\n",
              "</table>\n",
              "</div>"
            ],
            "text/plain": [
              "          A         B         C         D\n",
              "0 -0.778266  1.620557 -0.498919  1.944819\n",
              "1  1.264212 -1.500307 -1.466535  0.577287\n",
              "2  0.912682  2.383514 -1.517622 -1.003870\n",
              "3  0.156505 -0.875698  0.441791 -0.727409\n",
              "4 -0.832705  1.268703 -0.287481 -2.255515\n",
              "5  0.843873 -1.922015  0.373918 -1.335962\n",
              "6  0.733318 -1.481198  0.981364 -0.807720\n",
              "7 -0.177138 -1.297684  0.128608 -1.722984\n",
              "8  0.156505 -0.875698  0.441791 -0.727409"
            ]
          },
          "metadata": {
            "tags": []
          },
          "execution_count": 80
        }
      ]
    },
    {
      "cell_type": "markdown",
      "metadata": {
        "id": "R5vZp4-3cT59"
      },
      "source": [
        "## Grouping\n",
        "---\n",
        "By \"group by\" we are referring to a process involving one or more of the following steps\n",
        "- **Splitting** the data into groups based on some criteria\n",
        "- **Applying** a function to each group independently\n",
        "- **Combining** the results into a data structure\n",
        "\n",
        "See the [Grouping Section](https://pandas.pydata.org/pandas-docs/stable/groupby.html#groupby \"Group By: split-apply-combine\")"
      ]
    },
    {
      "cell_type": "code",
      "metadata": {
        "collapsed": true,
        "id": "PGq9p80EcT59"
      },
      "source": [
        "df = pd.DataFrame({'A' : ['foo', 'bar', 'foo', 'bar', 'foo', 'bar', 'foo', 'foo'],\n",
        "                   'B' : ['one', 'one', 'two', 'three', 'two', 'two', 'one', 'three'],\n",
        "                   'C' : np.random.randn(8),\n",
        "                   'D' : np.random.randn(8)})"
      ],
      "execution_count": 81,
      "outputs": []
    },
    {
      "cell_type": "code",
      "metadata": {
        "id": "B7hq-tWpcT59",
        "colab": {
          "base_uri": "https://localhost:8080/",
          "height": 294
        },
        "outputId": "88b7c195-42c0-4531-e60e-5112a4c0e30f"
      },
      "source": [
        "df"
      ],
      "execution_count": 82,
      "outputs": [
        {
          "output_type": "execute_result",
          "data": {
            "text/html": [
              "<div>\n",
              "<style scoped>\n",
              "    .dataframe tbody tr th:only-of-type {\n",
              "        vertical-align: middle;\n",
              "    }\n",
              "\n",
              "    .dataframe tbody tr th {\n",
              "        vertical-align: top;\n",
              "    }\n",
              "\n",
              "    .dataframe thead th {\n",
              "        text-align: right;\n",
              "    }\n",
              "</style>\n",
              "<table border=\"1\" class=\"dataframe\">\n",
              "  <thead>\n",
              "    <tr style=\"text-align: right;\">\n",
              "      <th></th>\n",
              "      <th>A</th>\n",
              "      <th>B</th>\n",
              "      <th>C</th>\n",
              "      <th>D</th>\n",
              "    </tr>\n",
              "  </thead>\n",
              "  <tbody>\n",
              "    <tr>\n",
              "      <th>0</th>\n",
              "      <td>foo</td>\n",
              "      <td>one</td>\n",
              "      <td>-0.572621</td>\n",
              "      <td>0.083989</td>\n",
              "    </tr>\n",
              "    <tr>\n",
              "      <th>1</th>\n",
              "      <td>bar</td>\n",
              "      <td>one</td>\n",
              "      <td>-0.724299</td>\n",
              "      <td>0.808866</td>\n",
              "    </tr>\n",
              "    <tr>\n",
              "      <th>2</th>\n",
              "      <td>foo</td>\n",
              "      <td>two</td>\n",
              "      <td>-0.201251</td>\n",
              "      <td>0.864171</td>\n",
              "    </tr>\n",
              "    <tr>\n",
              "      <th>3</th>\n",
              "      <td>bar</td>\n",
              "      <td>three</td>\n",
              "      <td>-1.494719</td>\n",
              "      <td>0.157872</td>\n",
              "    </tr>\n",
              "    <tr>\n",
              "      <th>4</th>\n",
              "      <td>foo</td>\n",
              "      <td>two</td>\n",
              "      <td>-0.911537</td>\n",
              "      <td>0.084143</td>\n",
              "    </tr>\n",
              "    <tr>\n",
              "      <th>5</th>\n",
              "      <td>bar</td>\n",
              "      <td>two</td>\n",
              "      <td>-1.339517</td>\n",
              "      <td>1.553407</td>\n",
              "    </tr>\n",
              "    <tr>\n",
              "      <th>6</th>\n",
              "      <td>foo</td>\n",
              "      <td>one</td>\n",
              "      <td>0.985433</td>\n",
              "      <td>-0.551465</td>\n",
              "    </tr>\n",
              "    <tr>\n",
              "      <th>7</th>\n",
              "      <td>foo</td>\n",
              "      <td>three</td>\n",
              "      <td>0.827196</td>\n",
              "      <td>0.663711</td>\n",
              "    </tr>\n",
              "  </tbody>\n",
              "</table>\n",
              "</div>"
            ],
            "text/plain": [
              "     A      B         C         D\n",
              "0  foo    one -0.572621  0.083989\n",
              "1  bar    one -0.724299  0.808866\n",
              "2  foo    two -0.201251  0.864171\n",
              "3  bar  three -1.494719  0.157872\n",
              "4  foo    two -0.911537  0.084143\n",
              "5  bar    two -1.339517  1.553407\n",
              "6  foo    one  0.985433 -0.551465\n",
              "7  foo  three  0.827196  0.663711"
            ]
          },
          "metadata": {
            "tags": []
          },
          "execution_count": 82
        }
      ]
    },
    {
      "cell_type": "markdown",
      "metadata": {
        "id": "xfSt6qRMcT59"
      },
      "source": [
        "Grouping and then applying a function **`sum`** to the resulting groups."
      ]
    },
    {
      "cell_type": "code",
      "metadata": {
        "id": "Z3bDmzE-cT59",
        "colab": {
          "base_uri": "https://localhost:8080/",
          "height": 141
        },
        "outputId": "1881a5db-c887-4781-b708-a2c078b697c8"
      },
      "source": [
        "df.groupby('A').sum()"
      ],
      "execution_count": 83,
      "outputs": [
        {
          "output_type": "execute_result",
          "data": {
            "text/html": [
              "<div>\n",
              "<style scoped>\n",
              "    .dataframe tbody tr th:only-of-type {\n",
              "        vertical-align: middle;\n",
              "    }\n",
              "\n",
              "    .dataframe tbody tr th {\n",
              "        vertical-align: top;\n",
              "    }\n",
              "\n",
              "    .dataframe thead th {\n",
              "        text-align: right;\n",
              "    }\n",
              "</style>\n",
              "<table border=\"1\" class=\"dataframe\">\n",
              "  <thead>\n",
              "    <tr style=\"text-align: right;\">\n",
              "      <th></th>\n",
              "      <th>C</th>\n",
              "      <th>D</th>\n",
              "    </tr>\n",
              "    <tr>\n",
              "      <th>A</th>\n",
              "      <th></th>\n",
              "      <th></th>\n",
              "    </tr>\n",
              "  </thead>\n",
              "  <tbody>\n",
              "    <tr>\n",
              "      <th>bar</th>\n",
              "      <td>-3.558535</td>\n",
              "      <td>2.520146</td>\n",
              "    </tr>\n",
              "    <tr>\n",
              "      <th>foo</th>\n",
              "      <td>0.127220</td>\n",
              "      <td>1.144548</td>\n",
              "    </tr>\n",
              "  </tbody>\n",
              "</table>\n",
              "</div>"
            ],
            "text/plain": [
              "            C         D\n",
              "A                      \n",
              "bar -3.558535  2.520146\n",
              "foo  0.127220  1.144548"
            ]
          },
          "metadata": {
            "tags": []
          },
          "execution_count": 83
        }
      ]
    },
    {
      "cell_type": "markdown",
      "metadata": {
        "id": "cRigFpGicT5-"
      },
      "source": [
        "Grouping by multiple columns forms a hierarchical index, which we then apply the function."
      ]
    },
    {
      "cell_type": "code",
      "metadata": {
        "id": "inbPnnQkcT5-",
        "colab": {
          "base_uri": "https://localhost:8080/",
          "height": 263
        },
        "outputId": "c59bbb86-ae6f-4220-fa87-276d5cca0255"
      },
      "source": [
        "df.groupby(['A', 'B']).sum()"
      ],
      "execution_count": 84,
      "outputs": [
        {
          "output_type": "execute_result",
          "data": {
            "text/html": [
              "<div>\n",
              "<style scoped>\n",
              "    .dataframe tbody tr th:only-of-type {\n",
              "        vertical-align: middle;\n",
              "    }\n",
              "\n",
              "    .dataframe tbody tr th {\n",
              "        vertical-align: top;\n",
              "    }\n",
              "\n",
              "    .dataframe thead th {\n",
              "        text-align: right;\n",
              "    }\n",
              "</style>\n",
              "<table border=\"1\" class=\"dataframe\">\n",
              "  <thead>\n",
              "    <tr style=\"text-align: right;\">\n",
              "      <th></th>\n",
              "      <th></th>\n",
              "      <th>C</th>\n",
              "      <th>D</th>\n",
              "    </tr>\n",
              "    <tr>\n",
              "      <th>A</th>\n",
              "      <th>B</th>\n",
              "      <th></th>\n",
              "      <th></th>\n",
              "    </tr>\n",
              "  </thead>\n",
              "  <tbody>\n",
              "    <tr>\n",
              "      <th rowspan=\"3\" valign=\"top\">bar</th>\n",
              "      <th>one</th>\n",
              "      <td>-0.724299</td>\n",
              "      <td>0.808866</td>\n",
              "    </tr>\n",
              "    <tr>\n",
              "      <th>three</th>\n",
              "      <td>-1.494719</td>\n",
              "      <td>0.157872</td>\n",
              "    </tr>\n",
              "    <tr>\n",
              "      <th>two</th>\n",
              "      <td>-1.339517</td>\n",
              "      <td>1.553407</td>\n",
              "    </tr>\n",
              "    <tr>\n",
              "      <th rowspan=\"3\" valign=\"top\">foo</th>\n",
              "      <th>one</th>\n",
              "      <td>0.412812</td>\n",
              "      <td>-0.467477</td>\n",
              "    </tr>\n",
              "    <tr>\n",
              "      <th>three</th>\n",
              "      <td>0.827196</td>\n",
              "      <td>0.663711</td>\n",
              "    </tr>\n",
              "    <tr>\n",
              "      <th>two</th>\n",
              "      <td>-1.112788</td>\n",
              "      <td>0.948314</td>\n",
              "    </tr>\n",
              "  </tbody>\n",
              "</table>\n",
              "</div>"
            ],
            "text/plain": [
              "                  C         D\n",
              "A   B                        \n",
              "bar one   -0.724299  0.808866\n",
              "    three -1.494719  0.157872\n",
              "    two   -1.339517  1.553407\n",
              "foo one    0.412812 -0.467477\n",
              "    three  0.827196  0.663711\n",
              "    two   -1.112788  0.948314"
            ]
          },
          "metadata": {
            "tags": []
          },
          "execution_count": 84
        }
      ]
    },
    {
      "cell_type": "markdown",
      "metadata": {
        "id": "T__pQZ6KcT6A"
      },
      "source": [
        "### Pivot Tables"
      ]
    },
    {
      "cell_type": "code",
      "metadata": {
        "colab": {
          "base_uri": "https://localhost:8080/"
        },
        "id": "N36ipYLvnL0T",
        "outputId": "7b2ee30a-0621-48f6-daa4-8e7ad55a2a7e"
      },
      "source": [
        "my_list = list('abc'*3)\n",
        "my_set = set('abc'*3)\n",
        "\n",
        "print('my_list = ', my_list)\n",
        "print('my_set = ', my_set)"
      ],
      "execution_count": 85,
      "outputs": [
        {
          "output_type": "stream",
          "text": [
            "my_list =  ['a', 'b', 'c', 'a', 'b', 'c', 'a', 'b', 'c']\n",
            "my_set =  {'a', 'c', 'b'}\n"
          ],
          "name": "stdout"
        }
      ]
    },
    {
      "cell_type": "code",
      "metadata": {
        "collapsed": true,
        "id": "WUAz4z7ycT6B"
      },
      "source": [
        "df = pd.DataFrame({'A' : ['one', 'one', 'two', 'three'] * 3,\n",
        "                   'B' : ['A', 'B', 'C'] * 4,\n",
        "                   'C' : ['foo', 'foo', 'foo', 'bar', 'bar', 'bar'] * 2,\n",
        "                   'D' : np.random.randn(12),\n",
        "                   'E' : np.random.randn(12)})"
      ],
      "execution_count": 86,
      "outputs": []
    },
    {
      "cell_type": "code",
      "metadata": {
        "id": "oWF4fNiccT6B",
        "colab": {
          "base_uri": "https://localhost:8080/",
          "height": 417
        },
        "outputId": "021f8c2a-46b5-4d47-d869-7e0ccf05b777"
      },
      "source": [
        "df"
      ],
      "execution_count": 87,
      "outputs": [
        {
          "output_type": "execute_result",
          "data": {
            "text/html": [
              "<div>\n",
              "<style scoped>\n",
              "    .dataframe tbody tr th:only-of-type {\n",
              "        vertical-align: middle;\n",
              "    }\n",
              "\n",
              "    .dataframe tbody tr th {\n",
              "        vertical-align: top;\n",
              "    }\n",
              "\n",
              "    .dataframe thead th {\n",
              "        text-align: right;\n",
              "    }\n",
              "</style>\n",
              "<table border=\"1\" class=\"dataframe\">\n",
              "  <thead>\n",
              "    <tr style=\"text-align: right;\">\n",
              "      <th></th>\n",
              "      <th>A</th>\n",
              "      <th>B</th>\n",
              "      <th>C</th>\n",
              "      <th>D</th>\n",
              "      <th>E</th>\n",
              "    </tr>\n",
              "  </thead>\n",
              "  <tbody>\n",
              "    <tr>\n",
              "      <th>0</th>\n",
              "      <td>one</td>\n",
              "      <td>A</td>\n",
              "      <td>foo</td>\n",
              "      <td>-0.500953</td>\n",
              "      <td>0.055191</td>\n",
              "    </tr>\n",
              "    <tr>\n",
              "      <th>1</th>\n",
              "      <td>one</td>\n",
              "      <td>B</td>\n",
              "      <td>foo</td>\n",
              "      <td>0.625402</td>\n",
              "      <td>0.931042</td>\n",
              "    </tr>\n",
              "    <tr>\n",
              "      <th>2</th>\n",
              "      <td>two</td>\n",
              "      <td>C</td>\n",
              "      <td>foo</td>\n",
              "      <td>-1.852931</td>\n",
              "      <td>0.130260</td>\n",
              "    </tr>\n",
              "    <tr>\n",
              "      <th>3</th>\n",
              "      <td>three</td>\n",
              "      <td>A</td>\n",
              "      <td>bar</td>\n",
              "      <td>-0.794773</td>\n",
              "      <td>-0.808388</td>\n",
              "    </tr>\n",
              "    <tr>\n",
              "      <th>4</th>\n",
              "      <td>one</td>\n",
              "      <td>B</td>\n",
              "      <td>bar</td>\n",
              "      <td>1.495958</td>\n",
              "      <td>1.079294</td>\n",
              "    </tr>\n",
              "    <tr>\n",
              "      <th>5</th>\n",
              "      <td>one</td>\n",
              "      <td>C</td>\n",
              "      <td>bar</td>\n",
              "      <td>1.152628</td>\n",
              "      <td>-0.211382</td>\n",
              "    </tr>\n",
              "    <tr>\n",
              "      <th>6</th>\n",
              "      <td>two</td>\n",
              "      <td>A</td>\n",
              "      <td>foo</td>\n",
              "      <td>-0.521958</td>\n",
              "      <td>-1.743431</td>\n",
              "    </tr>\n",
              "    <tr>\n",
              "      <th>7</th>\n",
              "      <td>three</td>\n",
              "      <td>B</td>\n",
              "      <td>foo</td>\n",
              "      <td>0.509735</td>\n",
              "      <td>-1.669582</td>\n",
              "    </tr>\n",
              "    <tr>\n",
              "      <th>8</th>\n",
              "      <td>one</td>\n",
              "      <td>C</td>\n",
              "      <td>foo</td>\n",
              "      <td>1.339431</td>\n",
              "      <td>-0.276883</td>\n",
              "    </tr>\n",
              "    <tr>\n",
              "      <th>9</th>\n",
              "      <td>one</td>\n",
              "      <td>A</td>\n",
              "      <td>bar</td>\n",
              "      <td>-1.231121</td>\n",
              "      <td>0.561733</td>\n",
              "    </tr>\n",
              "    <tr>\n",
              "      <th>10</th>\n",
              "      <td>two</td>\n",
              "      <td>B</td>\n",
              "      <td>bar</td>\n",
              "      <td>-1.175478</td>\n",
              "      <td>0.420737</td>\n",
              "    </tr>\n",
              "    <tr>\n",
              "      <th>11</th>\n",
              "      <td>three</td>\n",
              "      <td>C</td>\n",
              "      <td>bar</td>\n",
              "      <td>1.021677</td>\n",
              "      <td>0.598808</td>\n",
              "    </tr>\n",
              "  </tbody>\n",
              "</table>\n",
              "</div>"
            ],
            "text/plain": [
              "        A  B    C         D         E\n",
              "0     one  A  foo -0.500953  0.055191\n",
              "1     one  B  foo  0.625402  0.931042\n",
              "2     two  C  foo -1.852931  0.130260\n",
              "3   three  A  bar -0.794773 -0.808388\n",
              "4     one  B  bar  1.495958  1.079294\n",
              "5     one  C  bar  1.152628 -0.211382\n",
              "6     two  A  foo -0.521958 -1.743431\n",
              "7   three  B  foo  0.509735 -1.669582\n",
              "8     one  C  foo  1.339431 -0.276883\n",
              "9     one  A  bar -1.231121  0.561733\n",
              "10    two  B  bar -1.175478  0.420737\n",
              "11  three  C  bar  1.021677  0.598808"
            ]
          },
          "metadata": {
            "tags": []
          },
          "execution_count": 87
        }
      ]
    },
    {
      "cell_type": "markdown",
      "metadata": {
        "id": "oNV6RkNacT6B"
      },
      "source": [
        "We can produce pivot tables from this data very easily:"
      ]
    },
    {
      "cell_type": "code",
      "metadata": {
        "id": "nYtVBtJgcT6B",
        "colab": {
          "base_uri": "https://localhost:8080/",
          "height": 355
        },
        "outputId": "46373ba3-092a-493b-d628-78bd654d5792"
      },
      "source": [
        "pd.pivot_table(df, values = 'D', index = ['A', 'B'], columns = ['C'])"
      ],
      "execution_count": 88,
      "outputs": [
        {
          "output_type": "execute_result",
          "data": {
            "text/html": [
              "<div>\n",
              "<style scoped>\n",
              "    .dataframe tbody tr th:only-of-type {\n",
              "        vertical-align: middle;\n",
              "    }\n",
              "\n",
              "    .dataframe tbody tr th {\n",
              "        vertical-align: top;\n",
              "    }\n",
              "\n",
              "    .dataframe thead th {\n",
              "        text-align: right;\n",
              "    }\n",
              "</style>\n",
              "<table border=\"1\" class=\"dataframe\">\n",
              "  <thead>\n",
              "    <tr style=\"text-align: right;\">\n",
              "      <th></th>\n",
              "      <th>C</th>\n",
              "      <th>bar</th>\n",
              "      <th>foo</th>\n",
              "    </tr>\n",
              "    <tr>\n",
              "      <th>A</th>\n",
              "      <th>B</th>\n",
              "      <th></th>\n",
              "      <th></th>\n",
              "    </tr>\n",
              "  </thead>\n",
              "  <tbody>\n",
              "    <tr>\n",
              "      <th rowspan=\"3\" valign=\"top\">one</th>\n",
              "      <th>A</th>\n",
              "      <td>-1.231121</td>\n",
              "      <td>-0.500953</td>\n",
              "    </tr>\n",
              "    <tr>\n",
              "      <th>B</th>\n",
              "      <td>1.495958</td>\n",
              "      <td>0.625402</td>\n",
              "    </tr>\n",
              "    <tr>\n",
              "      <th>C</th>\n",
              "      <td>1.152628</td>\n",
              "      <td>1.339431</td>\n",
              "    </tr>\n",
              "    <tr>\n",
              "      <th rowspan=\"3\" valign=\"top\">three</th>\n",
              "      <th>A</th>\n",
              "      <td>-0.794773</td>\n",
              "      <td>NaN</td>\n",
              "    </tr>\n",
              "    <tr>\n",
              "      <th>B</th>\n",
              "      <td>NaN</td>\n",
              "      <td>0.509735</td>\n",
              "    </tr>\n",
              "    <tr>\n",
              "      <th>C</th>\n",
              "      <td>1.021677</td>\n",
              "      <td>NaN</td>\n",
              "    </tr>\n",
              "    <tr>\n",
              "      <th rowspan=\"3\" valign=\"top\">two</th>\n",
              "      <th>A</th>\n",
              "      <td>NaN</td>\n",
              "      <td>-0.521958</td>\n",
              "    </tr>\n",
              "    <tr>\n",
              "      <th>B</th>\n",
              "      <td>-1.175478</td>\n",
              "      <td>NaN</td>\n",
              "    </tr>\n",
              "    <tr>\n",
              "      <th>C</th>\n",
              "      <td>NaN</td>\n",
              "      <td>-1.852931</td>\n",
              "    </tr>\n",
              "  </tbody>\n",
              "</table>\n",
              "</div>"
            ],
            "text/plain": [
              "C             bar       foo\n",
              "A     B                    \n",
              "one   A -1.231121 -0.500953\n",
              "      B  1.495958  0.625402\n",
              "      C  1.152628  1.339431\n",
              "three A -0.794773       NaN\n",
              "      B       NaN  0.509735\n",
              "      C  1.021677       NaN\n",
              "two   A       NaN -0.521958\n",
              "      B -1.175478       NaN\n",
              "      C       NaN -1.852931"
            ]
          },
          "metadata": {
            "tags": []
          },
          "execution_count": 88
        }
      ]
    },
    {
      "cell_type": "markdown",
      "metadata": {
        "id": "hsmbPKXncT6F"
      },
      "source": [
        "## Categoricals\n",
        "\n",
        "Since version 0.15, pandas can include categorical data in a `DataFrame`. For full docs, see the [categorical introduction](https://pandas.pydata.org/pandas-docs/stable/categorical.html#categorical \"Categorical Data\") and the [API documentation](https://pandas.pydata.org/pandas-docs/stable/api.html#api-categorical \"Categorical API\")."
      ]
    },
    {
      "cell_type": "code",
      "metadata": {
        "collapsed": true,
        "id": "YiCMNcZQcT6F"
      },
      "source": [
        "df = pd.DataFrame({\"id\":[1, 2, 3, 4, 5, 6], \"raw_grade\":['a', 'b', 'b', 'a', 'a', 'e']})"
      ],
      "execution_count": 89,
      "outputs": []
    },
    {
      "cell_type": "markdown",
      "metadata": {
        "id": "GYTE-Z5GcT6F"
      },
      "source": [
        "Convert the raw grades to a categorical data type using **`.astype()`**."
      ]
    },
    {
      "cell_type": "markdown",
      "metadata": {
        "id": "ddMnA0pIfl6R"
      },
      "source": [
        ""
      ]
    },
    {
      "cell_type": "code",
      "metadata": {
        "collapsed": true,
        "id": "HRNddIDKcT6F"
      },
      "source": [
        "df[\"grade\"] = df[\"raw_grade\"].astype(\"category\")"
      ],
      "execution_count": 90,
      "outputs": []
    },
    {
      "cell_type": "code",
      "metadata": {
        "id": "YuYH7OKzcT6F",
        "colab": {
          "base_uri": "https://localhost:8080/",
          "height": 233
        },
        "outputId": "41d8b11f-0f39-40df-e795-7d91b203b531"
      },
      "source": [
        "df"
      ],
      "execution_count": 91,
      "outputs": [
        {
          "output_type": "execute_result",
          "data": {
            "text/html": [
              "<div>\n",
              "<style scoped>\n",
              "    .dataframe tbody tr th:only-of-type {\n",
              "        vertical-align: middle;\n",
              "    }\n",
              "\n",
              "    .dataframe tbody tr th {\n",
              "        vertical-align: top;\n",
              "    }\n",
              "\n",
              "    .dataframe thead th {\n",
              "        text-align: right;\n",
              "    }\n",
              "</style>\n",
              "<table border=\"1\" class=\"dataframe\">\n",
              "  <thead>\n",
              "    <tr style=\"text-align: right;\">\n",
              "      <th></th>\n",
              "      <th>id</th>\n",
              "      <th>raw_grade</th>\n",
              "      <th>grade</th>\n",
              "    </tr>\n",
              "  </thead>\n",
              "  <tbody>\n",
              "    <tr>\n",
              "      <th>0</th>\n",
              "      <td>1</td>\n",
              "      <td>a</td>\n",
              "      <td>a</td>\n",
              "    </tr>\n",
              "    <tr>\n",
              "      <th>1</th>\n",
              "      <td>2</td>\n",
              "      <td>b</td>\n",
              "      <td>b</td>\n",
              "    </tr>\n",
              "    <tr>\n",
              "      <th>2</th>\n",
              "      <td>3</td>\n",
              "      <td>b</td>\n",
              "      <td>b</td>\n",
              "    </tr>\n",
              "    <tr>\n",
              "      <th>3</th>\n",
              "      <td>4</td>\n",
              "      <td>a</td>\n",
              "      <td>a</td>\n",
              "    </tr>\n",
              "    <tr>\n",
              "      <th>4</th>\n",
              "      <td>5</td>\n",
              "      <td>a</td>\n",
              "      <td>a</td>\n",
              "    </tr>\n",
              "    <tr>\n",
              "      <th>5</th>\n",
              "      <td>6</td>\n",
              "      <td>e</td>\n",
              "      <td>e</td>\n",
              "    </tr>\n",
              "  </tbody>\n",
              "</table>\n",
              "</div>"
            ],
            "text/plain": [
              "   id raw_grade grade\n",
              "0   1         a     a\n",
              "1   2         b     b\n",
              "2   3         b     b\n",
              "3   4         a     a\n",
              "4   5         a     a\n",
              "5   6         e     e"
            ]
          },
          "metadata": {
            "tags": []
          },
          "execution_count": 91
        }
      ]
    },
    {
      "cell_type": "code",
      "metadata": {
        "id": "HNcXchzIcT6F",
        "colab": {
          "base_uri": "https://localhost:8080/"
        },
        "outputId": "538ca3a2-89fe-4141-8199-83a93b19b51e"
      },
      "source": [
        "df[\"raw_grade\"]"
      ],
      "execution_count": 92,
      "outputs": [
        {
          "output_type": "execute_result",
          "data": {
            "text/plain": [
              "0    a\n",
              "1    b\n",
              "2    b\n",
              "3    a\n",
              "4    a\n",
              "5    e\n",
              "Name: raw_grade, dtype: object"
            ]
          },
          "metadata": {
            "tags": []
          },
          "execution_count": 92
        }
      ]
    },
    {
      "cell_type": "code",
      "metadata": {
        "id": "uw-WTJYucT6F",
        "colab": {
          "base_uri": "https://localhost:8080/"
        },
        "outputId": "3a90d54c-bc43-47c6-b6a0-c580964c3deb"
      },
      "source": [
        "df[\"grade\"]"
      ],
      "execution_count": 93,
      "outputs": [
        {
          "output_type": "execute_result",
          "data": {
            "text/plain": [
              "0    a\n",
              "1    b\n",
              "2    b\n",
              "3    a\n",
              "4    a\n",
              "5    e\n",
              "Name: grade, dtype: category\n",
              "Categories (3, object): ['a', 'b', 'e']"
            ]
          },
          "metadata": {
            "tags": []
          },
          "execution_count": 93
        }
      ]
    },
    {
      "cell_type": "markdown",
      "metadata": {
        "id": "6eg7aAvMcT6F"
      },
      "source": [
        "Rename the categories to more meaningful names (assigning to **`Series.cat.categories`** is **inplace**!)"
      ]
    },
    {
      "cell_type": "code",
      "metadata": {
        "collapsed": true,
        "id": "CP1iz6UacT6F"
      },
      "source": [
        "df[\"grade\"].cat.categories = [\"very good\", \"good\", \"very bad\"]"
      ],
      "execution_count": 94,
      "outputs": []
    },
    {
      "cell_type": "code",
      "metadata": {
        "id": "3BglWmFYcT6G",
        "colab": {
          "base_uri": "https://localhost:8080/"
        },
        "outputId": "7f154fc4-c655-4417-d8a3-ea94e2f05a78"
      },
      "source": [
        "df[\"grade\"]"
      ],
      "execution_count": 95,
      "outputs": [
        {
          "output_type": "execute_result",
          "data": {
            "text/plain": [
              "0    very good\n",
              "1         good\n",
              "2         good\n",
              "3    very good\n",
              "4    very good\n",
              "5     very bad\n",
              "Name: grade, dtype: category\n",
              "Categories (3, object): ['very good', 'good', 'very bad']"
            ]
          },
          "metadata": {
            "tags": []
          },
          "execution_count": 95
        }
      ]
    },
    {
      "cell_type": "markdown",
      "metadata": {
        "id": "L7GJp4E5cT6G"
      },
      "source": [
        "Reorder the categories and simultaneously add the missing categories (methods under **`Series .cat`** return a new `Series` per default)."
      ]
    },
    {
      "cell_type": "code",
      "metadata": {
        "collapsed": true,
        "id": "OlfWBXn2cT6G"
      },
      "source": [
        "df[\"grade\"] = df[\"grade\"].cat.set_categories([\"very bad\", \"bad\", \"medium\", \"good\", \"very good\"])"
      ],
      "execution_count": 96,
      "outputs": []
    },
    {
      "cell_type": "code",
      "metadata": {
        "id": "igBP6PpYcT6G",
        "colab": {
          "base_uri": "https://localhost:8080/"
        },
        "outputId": "50e2b64f-61a4-41ec-db12-57c2756945dc"
      },
      "source": [
        "df[\"grade\"]"
      ],
      "execution_count": 97,
      "outputs": [
        {
          "output_type": "execute_result",
          "data": {
            "text/plain": [
              "0    very good\n",
              "1         good\n",
              "2         good\n",
              "3    very good\n",
              "4    very good\n",
              "5     very bad\n",
              "Name: grade, dtype: category\n",
              "Categories (5, object): ['very bad', 'bad', 'medium', 'good', 'very good']"
            ]
          },
          "metadata": {
            "tags": []
          },
          "execution_count": 97
        }
      ]
    },
    {
      "cell_type": "markdown",
      "metadata": {
        "id": "0kieonYgcT6G"
      },
      "source": [
        "**Sorting is per order in the categories, not lexical order.**"
      ]
    },
    {
      "cell_type": "code",
      "metadata": {
        "id": "PKxovIC9cT6G",
        "colab": {
          "base_uri": "https://localhost:8080/",
          "height": 233
        },
        "outputId": "c80df302-cb5c-4384-8078-d472d33df1ea"
      },
      "source": [
        "df.sort_values(by = \"grade\")"
      ],
      "execution_count": 98,
      "outputs": [
        {
          "output_type": "execute_result",
          "data": {
            "text/html": [
              "<div>\n",
              "<style scoped>\n",
              "    .dataframe tbody tr th:only-of-type {\n",
              "        vertical-align: middle;\n",
              "    }\n",
              "\n",
              "    .dataframe tbody tr th {\n",
              "        vertical-align: top;\n",
              "    }\n",
              "\n",
              "    .dataframe thead th {\n",
              "        text-align: right;\n",
              "    }\n",
              "</style>\n",
              "<table border=\"1\" class=\"dataframe\">\n",
              "  <thead>\n",
              "    <tr style=\"text-align: right;\">\n",
              "      <th></th>\n",
              "      <th>id</th>\n",
              "      <th>raw_grade</th>\n",
              "      <th>grade</th>\n",
              "    </tr>\n",
              "  </thead>\n",
              "  <tbody>\n",
              "    <tr>\n",
              "      <th>5</th>\n",
              "      <td>6</td>\n",
              "      <td>e</td>\n",
              "      <td>very bad</td>\n",
              "    </tr>\n",
              "    <tr>\n",
              "      <th>1</th>\n",
              "      <td>2</td>\n",
              "      <td>b</td>\n",
              "      <td>good</td>\n",
              "    </tr>\n",
              "    <tr>\n",
              "      <th>2</th>\n",
              "      <td>3</td>\n",
              "      <td>b</td>\n",
              "      <td>good</td>\n",
              "    </tr>\n",
              "    <tr>\n",
              "      <th>0</th>\n",
              "      <td>1</td>\n",
              "      <td>a</td>\n",
              "      <td>very good</td>\n",
              "    </tr>\n",
              "    <tr>\n",
              "      <th>3</th>\n",
              "      <td>4</td>\n",
              "      <td>a</td>\n",
              "      <td>very good</td>\n",
              "    </tr>\n",
              "    <tr>\n",
              "      <th>4</th>\n",
              "      <td>5</td>\n",
              "      <td>a</td>\n",
              "      <td>very good</td>\n",
              "    </tr>\n",
              "  </tbody>\n",
              "</table>\n",
              "</div>"
            ],
            "text/plain": [
              "   id raw_grade      grade\n",
              "5   6         e   very bad\n",
              "1   2         b       good\n",
              "2   3         b       good\n",
              "0   1         a  very good\n",
              "3   4         a  very good\n",
              "4   5         a  very good"
            ]
          },
          "metadata": {
            "tags": []
          },
          "execution_count": 98
        }
      ]
    },
    {
      "cell_type": "markdown",
      "metadata": {
        "id": "qGH3HUZicT6G"
      },
      "source": [
        "Grouping by a categorical column shows also empty categories."
      ]
    },
    {
      "cell_type": "code",
      "metadata": {
        "id": "DeJrBDRFcT6G",
        "colab": {
          "base_uri": "https://localhost:8080/"
        },
        "outputId": "204b2538-36f2-4e7b-bfe9-88b00ff21daa"
      },
      "source": [
        "df.groupby(\"grade\").size()"
      ],
      "execution_count": 99,
      "outputs": [
        {
          "output_type": "execute_result",
          "data": {
            "text/plain": [
              "grade\n",
              "very bad     1\n",
              "bad          0\n",
              "medium       0\n",
              "good         2\n",
              "very good    3\n",
              "dtype: int64"
            ]
          },
          "metadata": {
            "tags": []
          },
          "execution_count": 99
        }
      ]
    },
    {
      "cell_type": "markdown",
      "metadata": {
        "id": "mPf2tdkpcT6G"
      },
      "source": [
        "## Plotting\n",
        "---\n",
        "See the [Plotting docs](https://pandas.pydata.org/pandas-docs/stable/visualization.html#visualization \"Visualization\")."
      ]
    },
    {
      "cell_type": "code",
      "metadata": {
        "collapsed": true,
        "id": "ejo5y8m4cT6H",
        "colab": {
          "base_uri": "https://localhost:8080/"
        },
        "outputId": "6a9e9dbb-1bff-45f4-91e4-da2d3f69c0a4"
      },
      "source": [
        "ts = pd.Series(np.random.randn(1000), index = pd.date_range('1/1/2000', periods = 1000))\n",
        "ts"
      ],
      "execution_count": 100,
      "outputs": [
        {
          "output_type": "execute_result",
          "data": {
            "text/plain": [
              "2000-01-01   -0.543574\n",
              "2000-01-02    0.517672\n",
              "2000-01-03    1.529389\n",
              "2000-01-04   -0.710857\n",
              "2000-01-05   -0.354647\n",
              "                ...   \n",
              "2002-09-22    0.432345\n",
              "2002-09-23    2.232150\n",
              "2002-09-24   -1.101568\n",
              "2002-09-25   -0.702131\n",
              "2002-09-26    1.232410\n",
              "Freq: D, Length: 1000, dtype: float64"
            ]
          },
          "metadata": {
            "tags": []
          },
          "execution_count": 100
        }
      ]
    },
    {
      "cell_type": "code",
      "metadata": {
        "collapsed": true,
        "id": "thv3cK1OcT6H",
        "colab": {
          "base_uri": "https://localhost:8080/"
        },
        "outputId": "26e43c1e-7d5a-4707-b50a-816140a3d87e"
      },
      "source": [
        "ts = ts.cumsum()\n",
        "ts"
      ],
      "execution_count": 101,
      "outputs": [
        {
          "output_type": "execute_result",
          "data": {
            "text/plain": [
              "2000-01-01    -0.543574\n",
              "2000-01-02    -0.025902\n",
              "2000-01-03     1.503487\n",
              "2000-01-04     0.792630\n",
              "2000-01-05     0.437983\n",
              "                ...    \n",
              "2002-09-22   -31.407471\n",
              "2002-09-23   -29.175321\n",
              "2002-09-24   -30.276889\n",
              "2002-09-25   -30.979020\n",
              "2002-09-26   -29.746610\n",
              "Freq: D, Length: 1000, dtype: float64"
            ]
          },
          "metadata": {
            "tags": []
          },
          "execution_count": 101
        }
      ]
    },
    {
      "cell_type": "code",
      "metadata": {
        "id": "siUSiu0JcT6H",
        "colab": {
          "base_uri": "https://localhost:8080/",
          "height": 296
        },
        "outputId": "91a56446-52fa-4c59-cb29-8ebd162d6fe2"
      },
      "source": [
        "ts.plot()"
      ],
      "execution_count": 102,
      "outputs": [
        {
          "output_type": "execute_result",
          "data": {
            "text/plain": [
              "<matplotlib.axes._subplots.AxesSubplot at 0x7f1339b2e950>"
            ]
          },
          "metadata": {
            "tags": []
          },
          "execution_count": 102
        },
        {
          "output_type": "display_data",
          "data": {
            "image/png": "[encoded data removed]",
            "text/plain": [
              "<Figure size 432x288 with 1 Axes>"
            ]
          },
          "metadata": {
            "tags": [],
            "needs_background": "light"
          }
        }
      ]
    },
    {
      "cell_type": "markdown",
      "metadata": {
        "id": "o8yPerpHcT6H"
      },
      "source": [
        "On DataFrame, **`plot()`** is a convenience to plot all of the columns with labels:"
      ]
    },
    {
      "cell_type": "code",
      "metadata": {
        "collapsed": true,
        "id": "JelMoqS0cT6H",
        "colab": {
          "base_uri": "https://localhost:8080/",
          "height": 415
        },
        "outputId": "04357122-3139-4475-823e-2108bed2e7a3"
      },
      "source": [
        "df = pd.DataFrame(np.random.randn(1000, 4), index = ts.index, columns = ['A', 'B', 'C', 'D'])\n",
        "df"
      ],
      "execution_count": 103,
      "outputs": [
        {
          "output_type": "execute_result",
          "data": {
            "text/html": [
              "<div>\n",
              "<style scoped>\n",
              "    .dataframe tbody tr th:only-of-type {\n",
              "        vertical-align: middle;\n",
              "    }\n",
              "\n",
              "    .dataframe tbody tr th {\n",
              "        vertical-align: top;\n",
              "    }\n",
              "\n",
              "    .dataframe thead th {\n",
              "        text-align: right;\n",
              "    }\n",
              "</style>\n",
              "<table border=\"1\" class=\"dataframe\">\n",
              "  <thead>\n",
              "    <tr style=\"text-align: right;\">\n",
              "      <th></th>\n",
              "      <th>A</th>\n",
              "      <th>B</th>\n",
              "      <th>C</th>\n",
              "      <th>D</th>\n",
              "    </tr>\n",
              "  </thead>\n",
              "  <tbody>\n",
              "    <tr>\n",
              "      <th>2000-01-01</th>\n",
              "      <td>1.287765</td>\n",
              "      <td>0.127924</td>\n",
              "      <td>1.189613</td>\n",
              "      <td>1.334709</td>\n",
              "    </tr>\n",
              "    <tr>\n",
              "      <th>2000-01-02</th>\n",
              "      <td>-0.253439</td>\n",
              "      <td>0.206719</td>\n",
              "      <td>0.554156</td>\n",
              "      <td>0.469192</td>\n",
              "    </tr>\n",
              "    <tr>\n",
              "      <th>2000-01-03</th>\n",
              "      <td>0.058797</td>\n",
              "      <td>1.175316</td>\n",
              "      <td>-0.323368</td>\n",
              "      <td>-0.041474</td>\n",
              "    </tr>\n",
              "    <tr>\n",
              "      <th>2000-01-04</th>\n",
              "      <td>-0.960367</td>\n",
              "      <td>1.953904</td>\n",
              "      <td>0.596169</td>\n",
              "      <td>0.570547</td>\n",
              "    </tr>\n",
              "    <tr>\n",
              "      <th>2000-01-05</th>\n",
              "      <td>0.912638</td>\n",
              "      <td>-0.766769</td>\n",
              "      <td>-1.032405</td>\n",
              "      <td>1.725390</td>\n",
              "    </tr>\n",
              "    <tr>\n",
              "      <th>...</th>\n",
              "      <td>...</td>\n",
              "      <td>...</td>\n",
              "      <td>...</td>\n",
              "      <td>...</td>\n",
              "    </tr>\n",
              "    <tr>\n",
              "      <th>2002-09-22</th>\n",
              "      <td>0.386975</td>\n",
              "      <td>-1.453719</td>\n",
              "      <td>-3.819601</td>\n",
              "      <td>-4.292885</td>\n",
              "    </tr>\n",
              "    <tr>\n",
              "      <th>2002-09-23</th>\n",
              "      <td>-0.035041</td>\n",
              "      <td>-0.080037</td>\n",
              "      <td>0.448961</td>\n",
              "      <td>0.936548</td>\n",
              "    </tr>\n",
              "    <tr>\n",
              "      <th>2002-09-24</th>\n",
              "      <td>0.812028</td>\n",
              "      <td>1.546625</td>\n",
              "      <td>0.950294</td>\n",
              "      <td>-0.845769</td>\n",
              "    </tr>\n",
              "    <tr>\n",
              "      <th>2002-09-25</th>\n",
              "      <td>-2.219187</td>\n",
              "      <td>-0.762493</td>\n",
              "      <td>0.730103</td>\n",
              "      <td>1.228276</td>\n",
              "    </tr>\n",
              "    <tr>\n",
              "      <th>2002-09-26</th>\n",
              "      <td>-1.199451</td>\n",
              "      <td>-0.071707</td>\n",
              "      <td>-1.374976</td>\n",
              "      <td>0.147623</td>\n",
              "    </tr>\n",
              "  </tbody>\n",
              "</table>\n",
              "<p>1000 rows × 4 columns</p>\n",
              "</div>"
            ],
            "text/plain": [
              "                   A         B         C         D\n",
              "2000-01-01  1.287765  0.127924  1.189613  1.334709\n",
              "2000-01-02 -0.253439  0.206719  0.554156  0.469192\n",
              "2000-01-03  0.058797  1.175316 -0.323368 -0.041474\n",
              "2000-01-04 -0.960367  1.953904  0.596169  0.570547\n",
              "2000-01-05  0.912638 -0.766769 -1.032405  1.725390\n",
              "...              ...       ...       ...       ...\n",
              "2002-09-22  0.386975 -1.453719 -3.819601 -4.292885\n",
              "2002-09-23 -0.035041 -0.080037  0.448961  0.936548\n",
              "2002-09-24  0.812028  1.546625  0.950294 -0.845769\n",
              "2002-09-25 -2.219187 -0.762493  0.730103  1.228276\n",
              "2002-09-26 -1.199451 -0.071707 -1.374976  0.147623\n",
              "\n",
              "[1000 rows x 4 columns]"
            ]
          },
          "metadata": {
            "tags": []
          },
          "execution_count": 103
        }
      ]
    },
    {
      "cell_type": "code",
      "metadata": {
        "collapsed": true,
        "id": "_Noil1uccT6H",
        "colab": {
          "base_uri": "https://localhost:8080/",
          "height": 415
        },
        "outputId": "401cc806-297b-421f-89ca-bc76dd317e13"
      },
      "source": [
        "df = df.cumsum()\n",
        "df"
      ],
      "execution_count": 104,
      "outputs": [
        {
          "output_type": "execute_result",
          "data": {
            "text/html": [
              "<div>\n",
              "<style scoped>\n",
              "    .dataframe tbody tr th:only-of-type {\n",
              "        vertical-align: middle;\n",
              "    }\n",
              "\n",
              "    .dataframe tbody tr th {\n",
              "        vertical-align: top;\n",
              "    }\n",
              "\n",
              "    .dataframe thead th {\n",
              "        text-align: right;\n",
              "    }\n",
              "</style>\n",
              "<table border=\"1\" class=\"dataframe\">\n",
              "  <thead>\n",
              "    <tr style=\"text-align: right;\">\n",
              "      <th></th>\n",
              "      <th>A</th>\n",
              "      <th>B</th>\n",
              "      <th>C</th>\n",
              "      <th>D</th>\n",
              "    </tr>\n",
              "  </thead>\n",
              "  <tbody>\n",
              "    <tr>\n",
              "      <th>2000-01-01</th>\n",
              "      <td>1.287765</td>\n",
              "      <td>0.127924</td>\n",
              "      <td>1.189613</td>\n",
              "      <td>1.334709</td>\n",
              "    </tr>\n",
              "    <tr>\n",
              "      <th>2000-01-02</th>\n",
              "      <td>1.034326</td>\n",
              "      <td>0.334643</td>\n",
              "      <td>1.743769</td>\n",
              "      <td>1.803901</td>\n",
              "    </tr>\n",
              "    <tr>\n",
              "      <th>2000-01-03</th>\n",
              "      <td>1.093123</td>\n",
              "      <td>1.509959</td>\n",
              "      <td>1.420401</td>\n",
              "      <td>1.762427</td>\n",
              "    </tr>\n",
              "    <tr>\n",
              "      <th>2000-01-04</th>\n",
              "      <td>0.132756</td>\n",
              "      <td>3.463863</td>\n",
              "      <td>2.016570</td>\n",
              "      <td>2.332975</td>\n",
              "    </tr>\n",
              "    <tr>\n",
              "      <th>2000-01-05</th>\n",
              "      <td>1.045394</td>\n",
              "      <td>2.697094</td>\n",
              "      <td>0.984165</td>\n",
              "      <td>4.058364</td>\n",
              "    </tr>\n",
              "    <tr>\n",
              "      <th>...</th>\n",
              "      <td>...</td>\n",
              "      <td>...</td>\n",
              "      <td>...</td>\n",
              "      <td>...</td>\n",
              "    </tr>\n",
              "    <tr>\n",
              "      <th>2002-09-22</th>\n",
              "      <td>-23.252124</td>\n",
              "      <td>-18.912223</td>\n",
              "      <td>6.492469</td>\n",
              "      <td>47.076988</td>\n",
              "    </tr>\n",
              "    <tr>\n",
              "      <th>2002-09-23</th>\n",
              "      <td>-23.287165</td>\n",
              "      <td>-18.992260</td>\n",
              "      <td>6.941430</td>\n",
              "      <td>48.013536</td>\n",
              "    </tr>\n",
              "    <tr>\n",
              "      <th>2002-09-24</th>\n",
              "      <td>-22.475137</td>\n",
              "      <td>-17.445635</td>\n",
              "      <td>7.891723</td>\n",
              "      <td>47.167768</td>\n",
              "    </tr>\n",
              "    <tr>\n",
              "      <th>2002-09-25</th>\n",
              "      <td>-24.694323</td>\n",
              "      <td>-18.208128</td>\n",
              "      <td>8.621826</td>\n",
              "      <td>48.396044</td>\n",
              "    </tr>\n",
              "    <tr>\n",
              "      <th>2002-09-26</th>\n",
              "      <td>-25.893775</td>\n",
              "      <td>-18.279835</td>\n",
              "      <td>7.246850</td>\n",
              "      <td>48.543667</td>\n",
              "    </tr>\n",
              "  </tbody>\n",
              "</table>\n",
              "<p>1000 rows × 4 columns</p>\n",
              "</div>"
            ],
            "text/plain": [
              "                    A          B         C          D\n",
              "2000-01-01   1.287765   0.127924  1.189613   1.334709\n",
              "2000-01-02   1.034326   0.334643  1.743769   1.803901\n",
              "2000-01-03   1.093123   1.509959  1.420401   1.762427\n",
              "2000-01-04   0.132756   3.463863  2.016570   2.332975\n",
              "2000-01-05   1.045394   2.697094  0.984165   4.058364\n",
              "...               ...        ...       ...        ...\n",
              "2002-09-22 -23.252124 -18.912223  6.492469  47.076988\n",
              "2002-09-23 -23.287165 -18.992260  6.941430  48.013536\n",
              "2002-09-24 -22.475137 -17.445635  7.891723  47.167768\n",
              "2002-09-25 -24.694323 -18.208128  8.621826  48.396044\n",
              "2002-09-26 -25.893775 -18.279835  7.246850  48.543667\n",
              "\n",
              "[1000 rows x 4 columns]"
            ]
          },
          "metadata": {
            "tags": []
          },
          "execution_count": 104
        }
      ]
    },
    {
      "cell_type": "code",
      "metadata": {
        "id": "vt01dmvrcT6H",
        "colab": {
          "base_uri": "https://localhost:8080/",
          "height": 315
        },
        "outputId": "b2cc4614-0fb6-460d-b999-ac7417548f4d"
      },
      "source": [
        "plt.figure();\n",
        "df.plot();\n",
        "plt.legend(loc = 'best')"
      ],
      "execution_count": 105,
      "outputs": [
        {
          "output_type": "execute_result",
          "data": {
            "text/plain": [
              "<matplotlib.legend.Legend at 0x7f1339a133d0>"
            ]
          },
          "metadata": {
            "tags": []
          },
          "execution_count": 105
        },
        {
          "output_type": "display_data",
          "data": {
            "text/plain": [
              "<Figure size 432x288 with 0 Axes>"
            ]
          },
          "metadata": {
            "tags": []
          }
        },
        {
          "output_type": "display_data",
          "data": {
            "image/png": "[encoded data removed]",
            "text/plain": [
              "<Figure size 432x288 with 1 Axes>"
            ]
          },
          "metadata": {
            "tags": [],
            "needs_background": "light"
          }
        }
      ]
    },
    {
      "cell_type": "markdown",
      "metadata": {
        "id": "ZosOq6o-cT6H"
      },
      "source": [
        "## Getting Data In/Out\n",
        "---\n",
        "### CSV\n",
        "[Writing to a csv file](https://pandas.pydata.org/pandas-docs/stable/io.html#io-store-in-csv \"Writing to CSV format\")"
      ]
    },
    {
      "cell_type": "code",
      "metadata": {
        "collapsed": true,
        "id": "O4mSFtXEcT6I"
      },
      "source": [
        "df.to_csv('foo.csv')"
      ],
      "execution_count": 106,
      "outputs": []
    },
    {
      "cell_type": "markdown",
      "metadata": {
        "id": "s0oiXtKscT6I"
      },
      "source": [
        "[Reading from a csv file](https://pandas.pydata.org/pandas-docs/stable/io.html#io-read-csv-table \"Reading from a csv file\")"
      ]
    },
    {
      "cell_type": "code",
      "metadata": {
        "id": "iSoqAg1ZcT6I",
        "colab": {
          "base_uri": "https://localhost:8080/",
          "height": 202
        },
        "outputId": "c930e3ff-3dc3-4224-ef61-3edbd33b78d3"
      },
      "source": [
        "pd.read_csv('foo.csv').head()"
      ],
      "execution_count": 107,
      "outputs": [
        {
          "output_type": "execute_result",
          "data": {
            "text/html": [
              "<div>\n",
              "<style scoped>\n",
              "    .dataframe tbody tr th:only-of-type {\n",
              "        vertical-align: middle;\n",
              "    }\n",
              "\n",
              "    .dataframe tbody tr th {\n",
              "        vertical-align: top;\n",
              "    }\n",
              "\n",
              "    .dataframe thead th {\n",
              "        text-align: right;\n",
              "    }\n",
              "</style>\n",
              "<table border=\"1\" class=\"dataframe\">\n",
              "  <thead>\n",
              "    <tr style=\"text-align: right;\">\n",
              "      <th></th>\n",
              "      <th>Unnamed: 0</th>\n",
              "      <th>A</th>\n",
              "      <th>B</th>\n",
              "      <th>C</th>\n",
              "      <th>D</th>\n",
              "    </tr>\n",
              "  </thead>\n",
              "  <tbody>\n",
              "    <tr>\n",
              "      <th>0</th>\n",
              "      <td>2000-01-01</td>\n",
              "      <td>1.287765</td>\n",
              "      <td>0.127924</td>\n",
              "      <td>1.189613</td>\n",
              "      <td>1.334709</td>\n",
              "    </tr>\n",
              "    <tr>\n",
              "      <th>1</th>\n",
              "      <td>2000-01-02</td>\n",
              "      <td>1.034326</td>\n",
              "      <td>0.334643</td>\n",
              "      <td>1.743769</td>\n",
              "      <td>1.803901</td>\n",
              "    </tr>\n",
              "    <tr>\n",
              "      <th>2</th>\n",
              "      <td>2000-01-03</td>\n",
              "      <td>1.093123</td>\n",
              "      <td>1.509959</td>\n",
              "      <td>1.420401</td>\n",
              "      <td>1.762427</td>\n",
              "    </tr>\n",
              "    <tr>\n",
              "      <th>3</th>\n",
              "      <td>2000-01-04</td>\n",
              "      <td>0.132756</td>\n",
              "      <td>3.463863</td>\n",
              "      <td>2.016570</td>\n",
              "      <td>2.332975</td>\n",
              "    </tr>\n",
              "    <tr>\n",
              "      <th>4</th>\n",
              "      <td>2000-01-05</td>\n",
              "      <td>1.045394</td>\n",
              "      <td>2.697094</td>\n",
              "      <td>0.984165</td>\n",
              "      <td>4.058364</td>\n",
              "    </tr>\n",
              "  </tbody>\n",
              "</table>\n",
              "</div>"
            ],
            "text/plain": [
              "   Unnamed: 0         A         B         C         D\n",
              "0  2000-01-01  1.287765  0.127924  1.189613  1.334709\n",
              "1  2000-01-02  1.034326  0.334643  1.743769  1.803901\n",
              "2  2000-01-03  1.093123  1.509959  1.420401  1.762427\n",
              "3  2000-01-04  0.132756  3.463863  2.016570  2.332975\n",
              "4  2000-01-05  1.045394  2.697094  0.984165  4.058364"
            ]
          },
          "metadata": {
            "tags": []
          },
          "execution_count": 107
        }
      ]
    },
    {
      "cell_type": "markdown",
      "metadata": {
        "id": "-Rjc-bZEcT6I"
      },
      "source": [
        "### HDF5\n",
        "Reading and writing to [HDFStores](https://pandas.pydata.org/pandas-docs/stable/io.html#io-hdf5 \"HDF5 (PyTables)\").\n",
        "\n",
        "Writing to a HDF5 Store."
      ]
    },
    {
      "cell_type": "code",
      "metadata": {
        "collapsed": true,
        "id": "FqJTMKILcT6I"
      },
      "source": [
        "df.to_hdf('foo.h5', 'df')"
      ],
      "execution_count": 108,
      "outputs": []
    },
    {
      "cell_type": "markdown",
      "metadata": {
        "id": "Jwevq7Glhc0I"
      },
      "source": [
        "### Hierarchical Data Format (HDF) \n",
        "\n",
        "  - a set of file formats (HDF4, HDF5) designed to store and organize large amounts of data. \n",
        "  - many HDF libraries and associated tools are available under a liberal, BSD-like license for general use\n",
        "  - HDF5, the current version, simplifies the file structure to include only two major types of object:\n",
        "    - Datasets: multidimensional arrays of a homogeneous type\n",
        "    - Groups: container structures which can hold datasets and other groups"
      ]
    },
    {
      "cell_type": "markdown",
      "metadata": {
        "id": "9jrvz2EJcT6I"
      },
      "source": [
        "Reading from a HDF5 Store."
      ]
    },
    {
      "cell_type": "code",
      "metadata": {
        "id": "yNrqStN2cT6I",
        "colab": {
          "base_uri": "https://localhost:8080/",
          "height": 202
        },
        "outputId": "2c9b1d4b-116b-4d4a-e341-3f7f8384d60a"
      },
      "source": [
        "pd.read_hdf('foo.h5','df').head()"
      ],
      "execution_count": 109,
      "outputs": [
        {
          "output_type": "execute_result",
          "data": {
            "text/html": [
              "<div>\n",
              "<style scoped>\n",
              "    .dataframe tbody tr th:only-of-type {\n",
              "        vertical-align: middle;\n",
              "    }\n",
              "\n",
              "    .dataframe tbody tr th {\n",
              "        vertical-align: top;\n",
              "    }\n",
              "\n",
              "    .dataframe thead th {\n",
              "        text-align: right;\n",
              "    }\n",
              "</style>\n",
              "<table border=\"1\" class=\"dataframe\">\n",
              "  <thead>\n",
              "    <tr style=\"text-align: right;\">\n",
              "      <th></th>\n",
              "      <th>A</th>\n",
              "      <th>B</th>\n",
              "      <th>C</th>\n",
              "      <th>D</th>\n",
              "    </tr>\n",
              "  </thead>\n",
              "  <tbody>\n",
              "    <tr>\n",
              "      <th>2000-01-01</th>\n",
              "      <td>1.287765</td>\n",
              "      <td>0.127924</td>\n",
              "      <td>1.189613</td>\n",
              "      <td>1.334709</td>\n",
              "    </tr>\n",
              "    <tr>\n",
              "      <th>2000-01-02</th>\n",
              "      <td>1.034326</td>\n",
              "      <td>0.334643</td>\n",
              "      <td>1.743769</td>\n",
              "      <td>1.803901</td>\n",
              "    </tr>\n",
              "    <tr>\n",
              "      <th>2000-01-03</th>\n",
              "      <td>1.093123</td>\n",
              "      <td>1.509959</td>\n",
              "      <td>1.420401</td>\n",
              "      <td>1.762427</td>\n",
              "    </tr>\n",
              "    <tr>\n",
              "      <th>2000-01-04</th>\n",
              "      <td>0.132756</td>\n",
              "      <td>3.463863</td>\n",
              "      <td>2.016570</td>\n",
              "      <td>2.332975</td>\n",
              "    </tr>\n",
              "    <tr>\n",
              "      <th>2000-01-05</th>\n",
              "      <td>1.045394</td>\n",
              "      <td>2.697094</td>\n",
              "      <td>0.984165</td>\n",
              "      <td>4.058364</td>\n",
              "    </tr>\n",
              "  </tbody>\n",
              "</table>\n",
              "</div>"
            ],
            "text/plain": [
              "                   A         B         C         D\n",
              "2000-01-01  1.287765  0.127924  1.189613  1.334709\n",
              "2000-01-02  1.034326  0.334643  1.743769  1.803901\n",
              "2000-01-03  1.093123  1.509959  1.420401  1.762427\n",
              "2000-01-04  0.132756  3.463863  2.016570  2.332975\n",
              "2000-01-05  1.045394  2.697094  0.984165  4.058364"
            ]
          },
          "metadata": {
            "tags": []
          },
          "execution_count": 109
        }
      ]
    },
    {
      "cell_type": "markdown",
      "metadata": {
        "id": "OXHpLpOrcT6I"
      },
      "source": [
        "### Excel\n",
        "Reading and writing to [MS Excel](https://pandas.pydata.org/pandas-docs/stable/io.html#io-excel \"Excel files\").\n",
        "\n",
        "Writing to an excel file."
      ]
    },
    {
      "cell_type": "code",
      "metadata": {
        "collapsed": true,
        "id": "cV1-rjiDcT6I"
      },
      "source": [
        "df.to_excel('foo.xlsx', sheet_name='Sheet1')"
      ],
      "execution_count": 110,
      "outputs": []
    },
    {
      "cell_type": "markdown",
      "metadata": {
        "id": "kmIJBzqEcT6I"
      },
      "source": [
        "Reading from an excel file."
      ]
    },
    {
      "cell_type": "code",
      "metadata": {
        "id": "U6c1D7zEcT6I",
        "colab": {
          "base_uri": "https://localhost:8080/",
          "height": 202
        },
        "outputId": "1b375512-7710-4e66-91ca-f401e0f9e7a8"
      },
      "source": [
        "pd.read_excel('foo.xlsx', 'Sheet1', index_col=None, na_values=['NA']).head()"
      ],
      "execution_count": 111,
      "outputs": [
        {
          "output_type": "execute_result",
          "data": {
            "text/html": [
              "<div>\n",
              "<style scoped>\n",
              "    .dataframe tbody tr th:only-of-type {\n",
              "        vertical-align: middle;\n",
              "    }\n",
              "\n",
              "    .dataframe tbody tr th {\n",
              "        vertical-align: top;\n",
              "    }\n",
              "\n",
              "    .dataframe thead th {\n",
              "        text-align: right;\n",
              "    }\n",
              "</style>\n",
              "<table border=\"1\" class=\"dataframe\">\n",
              "  <thead>\n",
              "    <tr style=\"text-align: right;\">\n",
              "      <th></th>\n",
              "      <th>Unnamed: 0</th>\n",
              "      <th>A</th>\n",
              "      <th>B</th>\n",
              "      <th>C</th>\n",
              "      <th>D</th>\n",
              "    </tr>\n",
              "  </thead>\n",
              "  <tbody>\n",
              "    <tr>\n",
              "      <th>0</th>\n",
              "      <td>2000-01-01</td>\n",
              "      <td>1.287765</td>\n",
              "      <td>0.127924</td>\n",
              "      <td>1.189613</td>\n",
              "      <td>1.334709</td>\n",
              "    </tr>\n",
              "    <tr>\n",
              "      <th>1</th>\n",
              "      <td>2000-01-02</td>\n",
              "      <td>1.034326</td>\n",
              "      <td>0.334643</td>\n",
              "      <td>1.743769</td>\n",
              "      <td>1.803901</td>\n",
              "    </tr>\n",
              "    <tr>\n",
              "      <th>2</th>\n",
              "      <td>2000-01-03</td>\n",
              "      <td>1.093123</td>\n",
              "      <td>1.509959</td>\n",
              "      <td>1.420401</td>\n",
              "      <td>1.762427</td>\n",
              "    </tr>\n",
              "    <tr>\n",
              "      <th>3</th>\n",
              "      <td>2000-01-04</td>\n",
              "      <td>0.132756</td>\n",
              "      <td>3.463863</td>\n",
              "      <td>2.016570</td>\n",
              "      <td>2.332975</td>\n",
              "    </tr>\n",
              "    <tr>\n",
              "      <th>4</th>\n",
              "      <td>2000-01-05</td>\n",
              "      <td>1.045394</td>\n",
              "      <td>2.697094</td>\n",
              "      <td>0.984165</td>\n",
              "      <td>4.058364</td>\n",
              "    </tr>\n",
              "  </tbody>\n",
              "</table>\n",
              "</div>"
            ],
            "text/plain": [
              "  Unnamed: 0         A         B         C         D\n",
              "0 2000-01-01  1.287765  0.127924  1.189613  1.334709\n",
              "1 2000-01-02  1.034326  0.334643  1.743769  1.803901\n",
              "2 2000-01-03  1.093123  1.509959  1.420401  1.762427\n",
              "3 2000-01-04  0.132756  3.463863  2.016570  2.332975\n",
              "4 2000-01-05  1.045394  2.697094  0.984165  4.058364"
            ]
          },
          "metadata": {
            "tags": []
          },
          "execution_count": 111
        }
      ]
    }
  ]
}