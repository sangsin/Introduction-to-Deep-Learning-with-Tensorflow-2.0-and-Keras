{
  "nbformat": 4,
  "nbformat_minor": 0,
  "metadata": {
    "colab": {
      "name": "1. 한국어 NLP Basics.ipynb",
      "provenance": [],
      "collapsed_sections": [],
      "toc_visible": true,
      "machine_shape": "hm"
    },
    "kernelspec": {
      "display_name": "Python 3",
      "name": "python3"
    },
    "language_info": {
      "name": "python"
    },
    "accelerator": "GPU"
  },
  "cells": [
    {
      "cell_type": "markdown",
      "metadata": {
        "id": "15JpDsBw0gyk"
      },
      "source": [
        "## Fundamental Packages for ML\n",
        "\n",
        "  - Pandas\n",
        "  - Numpy\n",
        "  - Matplotlib\n"
      ]
    },
    {
      "cell_type": "markdown",
      "metadata": {
        "id": "Q9rnBFTS1Dij"
      },
      "source": [
        "### Pandas \n",
        "\n",
        "1. 설치\n",
        "```\n",
        "!pip install pandas\n",
        "```\n",
        "\n",
        "2. 데이터 형\n",
        "\n",
        "  - Series: 일차원 배열 \n",
        "  - Dataframe: 이차원 배열\n",
        "  - Panel: 3차원 배열\n"
      ]
    },
    {
      "cell_type": "code",
      "metadata": {
        "id": "C4zICTzn9p3k",
        "colab": {
          "base_uri": "https://localhost:8080/",
          "height": 36
        },
        "outputId": "b13ff0d8-bce1-49de-acc9-261cecd74b53"
      },
      "source": [
        "import pandas as pd\n",
        "pd.__version__"
      ],
      "execution_count": null,
      "outputs": [
        {
          "output_type": "execute_result",
          "data": {
            "application/vnd.google.colaboratory.intrinsic+json": {
              "type": "string"
            },
            "text/plain": [
              "'1.1.5'"
            ]
          },
          "metadata": {
            "tags": []
          },
          "execution_count": 119
        }
      ]
    },
    {
      "cell_type": "markdown",
      "metadata": {
        "id": "RSgNc0US9tv-"
      },
      "source": [
        "#### Series"
      ]
    },
    {
      "cell_type": "code",
      "metadata": {
        "colab": {
          "base_uri": "https://localhost:8080/"
        },
        "id": "6oFXus3J4tak",
        "outputId": "eebbc9a7-4760-4c4b-9828-939fb18e00ba"
      },
      "source": [
        "# Series 생성\n",
        "grade = [4.1,2.6, 3.5, 2.9]\n",
        "sr = pd.Series(grade, dtype='float32')\n",
        "sr"
      ],
      "execution_count": null,
      "outputs": [
        {
          "output_type": "execute_result",
          "data": {
            "text/plain": [
              "0    4.1\n",
              "1    2.6\n",
              "2    3.5\n",
              "3    2.9\n",
              "dtype: float32"
            ]
          },
          "metadata": {
            "tags": []
          },
          "execution_count": 120
        }
      ]
    },
    {
      "cell_type": "code",
      "metadata": {
        "colab": {
          "base_uri": "https://localhost:8080/"
        },
        "id": "6InjhH-D5URL",
        "outputId": "1365f460-e723-4f16-e170-29ed9851decf"
      },
      "source": [
        "name = ['Kim', 'Lee', 'Park', 'Choi']\n",
        "sr.index = name\n",
        "sr"
      ],
      "execution_count": null,
      "outputs": [
        {
          "output_type": "execute_result",
          "data": {
            "text/plain": [
              "Kim     4.1\n",
              "Lee     2.6\n",
              "Park    3.5\n",
              "Choi    2.9\n",
              "dtype: float32"
            ]
          },
          "metadata": {
            "tags": []
          },
          "execution_count": 121
        }
      ]
    },
    {
      "cell_type": "code",
      "metadata": {
        "colab": {
          "base_uri": "https://localhost:8080/"
        },
        "id": "U3OIE5wf_ftj",
        "outputId": "9056cc91-38c5-422a-eb20-2d3b04e840cd"
      },
      "source": [
        "sr = pd.Series(grade, index= name,dtype='float32')\n",
        "sr"
      ],
      "execution_count": null,
      "outputs": [
        {
          "output_type": "execute_result",
          "data": {
            "text/plain": [
              "Kim     4.1\n",
              "Lee     2.6\n",
              "Park    3.5\n",
              "Choi    2.9\n",
              "dtype: float32"
            ]
          },
          "metadata": {
            "tags": []
          },
          "execution_count": 122
        }
      ]
    },
    {
      "cell_type": "code",
      "metadata": {
        "colab": {
          "base_uri": "https://localhost:8080/"
        },
        "id": "SefSNoem9HFN",
        "outputId": "35477596-2d66-49b5-f9ad-26432e504f48"
      },
      "source": [
        "sr.index"
      ],
      "execution_count": null,
      "outputs": [
        {
          "output_type": "execute_result",
          "data": {
            "text/plain": [
              "Index(['Kim', 'Lee', 'Park', 'Choi'], dtype='object')"
            ]
          },
          "metadata": {
            "tags": []
          },
          "execution_count": 123
        }
      ]
    },
    {
      "cell_type": "code",
      "metadata": {
        "colab": {
          "base_uri": "https://localhost:8080/"
        },
        "id": "YoqcQno_9LPo",
        "outputId": "dabfb016-9fbc-431a-bc28-73f615974537"
      },
      "source": [
        "sr.values"
      ],
      "execution_count": null,
      "outputs": [
        {
          "output_type": "execute_result",
          "data": {
            "text/plain": [
              "array([4.1, 2.6, 3.5, 2.9], dtype=float32)"
            ]
          },
          "metadata": {
            "tags": []
          },
          "execution_count": 124
        }
      ]
    },
    {
      "cell_type": "markdown",
      "metadata": {
        "id": "wYD6l4UZ4h3d"
      },
      "source": [
        "#### Dataframe"
      ]
    },
    {
      "cell_type": "code",
      "metadata": {
        "colab": {
          "base_uri": "https://localhost:8080/"
        },
        "id": "v6kwjbmb97UW",
        "outputId": "ed7aa203-b29e-421d-9cff-34b16f020159"
      },
      "source": [
        "# 데이터프레임은 리스트(List), 시리즈(Series), 딕셔너리(dict), Numpy의 ndarrays, 혹은 다른 데이터프레임으로 생성 가능\n",
        "\n",
        "data = [\n",
        "    ['1000', 'Steve', 90.72], \n",
        "    ['1001', 'James', 78.09], \n",
        "    ['1002', 'Doyeon', 98.43], \n",
        "    ['1003', 'Jane', 64.19], \n",
        "    ['1004', 'Pilwoong', 81.30],\n",
        "    ['1005', 'Tony', 99.14],\n",
        "]\n",
        "df = pd.DataFrame(data)\n",
        "print(df)"
      ],
      "execution_count": null,
      "outputs": [
        {
          "output_type": "stream",
          "text": [
            "      0         1      2\n",
            "0  1000     Steve  90.72\n",
            "1  1001     James  78.09\n",
            "2  1002    Doyeon  98.43\n",
            "3  1003      Jane  64.19\n",
            "4  1004  Pilwoong  81.30\n",
            "5  1005      Tony  99.14\n"
          ],
          "name": "stdout"
        }
      ]
    },
    {
      "cell_type": "code",
      "metadata": {
        "colab": {
          "base_uri": "https://localhost:8080/"
        },
        "id": "LL2zIig2-NNt",
        "outputId": "46675d59-0bbd-4dd5-e658-9a62b9a44d06"
      },
      "source": [
        "# 생성된 데이터프레임에 열(columns)을 지정\n",
        "\n",
        "df = pd.DataFrame(data, columns=['학번', '이름', '점수'])\n",
        "print(df)"
      ],
      "execution_count": null,
      "outputs": [
        {
          "output_type": "stream",
          "text": [
            "     학번        이름     점수\n",
            "0  1000     Steve  90.72\n",
            "1  1001     James  78.09\n",
            "2  1002    Doyeon  98.43\n",
            "3  1003      Jane  64.19\n",
            "4  1004  Pilwoong  81.30\n",
            "5  1005      Tony  99.14\n"
          ],
          "name": "stdout"
        }
      ]
    },
    {
      "cell_type": "code",
      "metadata": {
        "id": "GK5YTpBGVjml",
        "colab": {
          "base_uri": "https://localhost:8080/",
          "height": 233
        },
        "outputId": "5f11ed0e-74b8-4597-97fb-c6a162c7ce54"
      },
      "source": [
        "# 파이썬 자료구조 중 하나인 딕셔너리(dict)를 통해 데이터프레임을 생성\n",
        "\n",
        "data = { '학번' : ['1000', '1001', '1002', '1003', '1004', '1005'],\n",
        "'이름' : [ 'Steve', 'James', 'Doyeon', 'Jane', 'Pilwoong', 'Tony'],\n",
        "         '점수': [90.72, 78.09, 98.43, 64.19, 81.30, 99.14]}\n",
        "\n",
        "df = pd.DataFrame(data)\n",
        "df"
      ],
      "execution_count": null,
      "outputs": [
        {
          "output_type": "execute_result",
          "data": {
            "text/html": [
              "<div>\n",
              "<style scoped>\n",
              "    .dataframe tbody tr th:only-of-type {\n",
              "        vertical-align: middle;\n",
              "    }\n",
              "\n",
              "    .dataframe tbody tr th {\n",
              "        vertical-align: top;\n",
              "    }\n",
              "\n",
              "    .dataframe thead th {\n",
              "        text-align: right;\n",
              "    }\n",
              "</style>\n",
              "<table border=\"1\" class=\"dataframe\">\n",
              "  <thead>\n",
              "    <tr style=\"text-align: right;\">\n",
              "      <th></th>\n",
              "      <th>학번</th>\n",
              "      <th>이름</th>\n",
              "      <th>점수</th>\n",
              "    </tr>\n",
              "  </thead>\n",
              "  <tbody>\n",
              "    <tr>\n",
              "      <th>0</th>\n",
              "      <td>1000</td>\n",
              "      <td>Steve</td>\n",
              "      <td>90.72</td>\n",
              "    </tr>\n",
              "    <tr>\n",
              "      <th>1</th>\n",
              "      <td>1001</td>\n",
              "      <td>James</td>\n",
              "      <td>78.09</td>\n",
              "    </tr>\n",
              "    <tr>\n",
              "      <th>2</th>\n",
              "      <td>1002</td>\n",
              "      <td>Doyeon</td>\n",
              "      <td>98.43</td>\n",
              "    </tr>\n",
              "    <tr>\n",
              "      <th>3</th>\n",
              "      <td>1003</td>\n",
              "      <td>Jane</td>\n",
              "      <td>64.19</td>\n",
              "    </tr>\n",
              "    <tr>\n",
              "      <th>4</th>\n",
              "      <td>1004</td>\n",
              "      <td>Pilwoong</td>\n",
              "      <td>81.30</td>\n",
              "    </tr>\n",
              "    <tr>\n",
              "      <th>5</th>\n",
              "      <td>1005</td>\n",
              "      <td>Tony</td>\n",
              "      <td>99.14</td>\n",
              "    </tr>\n",
              "  </tbody>\n",
              "</table>\n",
              "</div>"
            ],
            "text/plain": [
              "     학번        이름     점수\n",
              "0  1000     Steve  90.72\n",
              "1  1001     James  78.09\n",
              "2  1002    Doyeon  98.43\n",
              "3  1003      Jane  64.19\n",
              "4  1004  Pilwoong  81.30\n",
              "5  1005      Tony  99.14"
            ]
          },
          "metadata": {
            "tags": []
          },
          "execution_count": 127
        }
      ]
    },
    {
      "cell_type": "code",
      "metadata": {
        "colab": {
          "base_uri": "https://localhost:8080/"
        },
        "id": "XnGE7d4NWG6O",
        "outputId": "0d06555d-7c6c-4be0-966a-78fa56681caa"
      },
      "source": [
        "df.columns"
      ],
      "execution_count": null,
      "outputs": [
        {
          "output_type": "execute_result",
          "data": {
            "text/plain": [
              "Index(['학번', '이름', '점수'], dtype='object')"
            ]
          },
          "metadata": {
            "tags": []
          },
          "execution_count": 128
        }
      ]
    },
    {
      "cell_type": "code",
      "metadata": {
        "colab": {
          "base_uri": "https://localhost:8080/",
          "height": 202
        },
        "id": "JjMKRc-8Y-Qj",
        "outputId": "947b3a4a-a526-4ab1-bb48-ae8dcee191fd"
      },
      "source": [
        "df.head()"
      ],
      "execution_count": null,
      "outputs": [
        {
          "output_type": "execute_result",
          "data": {
            "text/html": [
              "<div>\n",
              "<style scoped>\n",
              "    .dataframe tbody tr th:only-of-type {\n",
              "        vertical-align: middle;\n",
              "    }\n",
              "\n",
              "    .dataframe tbody tr th {\n",
              "        vertical-align: top;\n",
              "    }\n",
              "\n",
              "    .dataframe thead th {\n",
              "        text-align: right;\n",
              "    }\n",
              "</style>\n",
              "<table border=\"1\" class=\"dataframe\">\n",
              "  <thead>\n",
              "    <tr style=\"text-align: right;\">\n",
              "      <th></th>\n",
              "      <th>학번</th>\n",
              "      <th>이름</th>\n",
              "      <th>점수</th>\n",
              "    </tr>\n",
              "  </thead>\n",
              "  <tbody>\n",
              "    <tr>\n",
              "      <th>0</th>\n",
              "      <td>1000</td>\n",
              "      <td>Steve</td>\n",
              "      <td>90.72</td>\n",
              "    </tr>\n",
              "    <tr>\n",
              "      <th>1</th>\n",
              "      <td>1001</td>\n",
              "      <td>James</td>\n",
              "      <td>78.09</td>\n",
              "    </tr>\n",
              "    <tr>\n",
              "      <th>2</th>\n",
              "      <td>1002</td>\n",
              "      <td>Doyeon</td>\n",
              "      <td>98.43</td>\n",
              "    </tr>\n",
              "    <tr>\n",
              "      <th>3</th>\n",
              "      <td>1003</td>\n",
              "      <td>Jane</td>\n",
              "      <td>64.19</td>\n",
              "    </tr>\n",
              "    <tr>\n",
              "      <th>4</th>\n",
              "      <td>1004</td>\n",
              "      <td>Pilwoong</td>\n",
              "      <td>81.30</td>\n",
              "    </tr>\n",
              "  </tbody>\n",
              "</table>\n",
              "</div>"
            ],
            "text/plain": [
              "     학번        이름     점수\n",
              "0  1000     Steve  90.72\n",
              "1  1001     James  78.09\n",
              "2  1002    Doyeon  98.43\n",
              "3  1003      Jane  64.19\n",
              "4  1004  Pilwoong  81.30"
            ]
          },
          "metadata": {
            "tags": []
          },
          "execution_count": 129
        }
      ]
    },
    {
      "cell_type": "code",
      "metadata": {
        "colab": {
          "base_uri": "https://localhost:8080/",
          "height": 141
        },
        "id": "XLzxYSeAY4oS",
        "outputId": "cd852dc5-316b-49d8-df3e-60bced462606"
      },
      "source": [
        "df.tail(3)"
      ],
      "execution_count": null,
      "outputs": [
        {
          "output_type": "execute_result",
          "data": {
            "text/html": [
              "<div>\n",
              "<style scoped>\n",
              "    .dataframe tbody tr th:only-of-type {\n",
              "        vertical-align: middle;\n",
              "    }\n",
              "\n",
              "    .dataframe tbody tr th {\n",
              "        vertical-align: top;\n",
              "    }\n",
              "\n",
              "    .dataframe thead th {\n",
              "        text-align: right;\n",
              "    }\n",
              "</style>\n",
              "<table border=\"1\" class=\"dataframe\">\n",
              "  <thead>\n",
              "    <tr style=\"text-align: right;\">\n",
              "      <th></th>\n",
              "      <th>학번</th>\n",
              "      <th>이름</th>\n",
              "      <th>점수</th>\n",
              "    </tr>\n",
              "  </thead>\n",
              "  <tbody>\n",
              "    <tr>\n",
              "      <th>3</th>\n",
              "      <td>1003</td>\n",
              "      <td>Jane</td>\n",
              "      <td>64.19</td>\n",
              "    </tr>\n",
              "    <tr>\n",
              "      <th>4</th>\n",
              "      <td>1004</td>\n",
              "      <td>Pilwoong</td>\n",
              "      <td>81.30</td>\n",
              "    </tr>\n",
              "    <tr>\n",
              "      <th>5</th>\n",
              "      <td>1005</td>\n",
              "      <td>Tony</td>\n",
              "      <td>99.14</td>\n",
              "    </tr>\n",
              "  </tbody>\n",
              "</table>\n",
              "</div>"
            ],
            "text/plain": [
              "     학번        이름     점수\n",
              "3  1003      Jane  64.19\n",
              "4  1004  Pilwoong  81.30\n",
              "5  1005      Tony  99.14"
            ]
          },
          "metadata": {
            "tags": []
          },
          "execution_count": 130
        }
      ]
    },
    {
      "cell_type": "code",
      "metadata": {
        "colab": {
          "base_uri": "https://localhost:8080/"
        },
        "id": "_pOA89RsZEWn",
        "outputId": "2d57c6de-b7a7-495e-aa71-fa0aa73f13f7"
      },
      "source": [
        "# 열(column) indexing\n",
        "\n",
        "df['이름']"
      ],
      "execution_count": null,
      "outputs": [
        {
          "output_type": "execute_result",
          "data": {
            "text/plain": [
              "0       Steve\n",
              "1       James\n",
              "2      Doyeon\n",
              "3        Jane\n",
              "4    Pilwoong\n",
              "5        Tony\n",
              "Name: 이름, dtype: object"
            ]
          },
          "metadata": {
            "tags": []
          },
          "execution_count": 131
        }
      ]
    },
    {
      "cell_type": "code",
      "metadata": {
        "colab": {
          "base_uri": "https://localhost:8080/"
        },
        "id": "IWnX7ylmZRBn",
        "outputId": "d81bc321-2760-4d5c-eb1b-4bf6847b507d"
      },
      "source": [
        "# 열(column) indexing 다른 방법\n",
        "\n",
        "df.이름"
      ],
      "execution_count": null,
      "outputs": [
        {
          "output_type": "execute_result",
          "data": {
            "text/plain": [
              "0       Steve\n",
              "1       James\n",
              "2      Doyeon\n",
              "3        Jane\n",
              "4    Pilwoong\n",
              "5        Tony\n",
              "Name: 이름, dtype: object"
            ]
          },
          "metadata": {
            "tags": []
          },
          "execution_count": 132
        }
      ]
    },
    {
      "cell_type": "code",
      "metadata": {
        "colab": {
          "base_uri": "https://localhost:8080/",
          "height": 141
        },
        "id": "Lq7gdjKqc4yl",
        "outputId": "07c7be02-53b5-402e-b030-9563af60df47"
      },
      "source": [
        "# DataFrame의 행을 선택\n",
        "\n",
        "df[3:]"
      ],
      "execution_count": null,
      "outputs": [
        {
          "output_type": "execute_result",
          "data": {
            "text/html": [
              "<div>\n",
              "<style scoped>\n",
              "    .dataframe tbody tr th:only-of-type {\n",
              "        vertical-align: middle;\n",
              "    }\n",
              "\n",
              "    .dataframe tbody tr th {\n",
              "        vertical-align: top;\n",
              "    }\n",
              "\n",
              "    .dataframe thead th {\n",
              "        text-align: right;\n",
              "    }\n",
              "</style>\n",
              "<table border=\"1\" class=\"dataframe\">\n",
              "  <thead>\n",
              "    <tr style=\"text-align: right;\">\n",
              "      <th></th>\n",
              "      <th>학번</th>\n",
              "      <th>이름</th>\n",
              "      <th>점수</th>\n",
              "    </tr>\n",
              "  </thead>\n",
              "  <tbody>\n",
              "    <tr>\n",
              "      <th>3</th>\n",
              "      <td>1003</td>\n",
              "      <td>Jane</td>\n",
              "      <td>64.19</td>\n",
              "    </tr>\n",
              "    <tr>\n",
              "      <th>4</th>\n",
              "      <td>1004</td>\n",
              "      <td>Pilwoong</td>\n",
              "      <td>81.30</td>\n",
              "    </tr>\n",
              "    <tr>\n",
              "      <th>5</th>\n",
              "      <td>1005</td>\n",
              "      <td>Tony</td>\n",
              "      <td>99.14</td>\n",
              "    </tr>\n",
              "  </tbody>\n",
              "</table>\n",
              "</div>"
            ],
            "text/plain": [
              "     학번        이름     점수\n",
              "3  1003      Jane  64.19\n",
              "4  1004  Pilwoong  81.30\n",
              "5  1005      Tony  99.14"
            ]
          },
          "metadata": {
            "tags": []
          },
          "execution_count": 133
        }
      ]
    },
    {
      "cell_type": "code",
      "metadata": {
        "colab": {
          "base_uri": "https://localhost:8080/",
          "height": 79
        },
        "id": "rNH1j6sxerhk",
        "outputId": "c11f8903-d1cf-4629-f93e-6c70b25a7ca1"
      },
      "source": [
        "# DataFrame의 행을 선택\n",
        "\n",
        "df[3:4]"
      ],
      "execution_count": null,
      "outputs": [
        {
          "output_type": "execute_result",
          "data": {
            "text/html": [
              "<div>\n",
              "<style scoped>\n",
              "    .dataframe tbody tr th:only-of-type {\n",
              "        vertical-align: middle;\n",
              "    }\n",
              "\n",
              "    .dataframe tbody tr th {\n",
              "        vertical-align: top;\n",
              "    }\n",
              "\n",
              "    .dataframe thead th {\n",
              "        text-align: right;\n",
              "    }\n",
              "</style>\n",
              "<table border=\"1\" class=\"dataframe\">\n",
              "  <thead>\n",
              "    <tr style=\"text-align: right;\">\n",
              "      <th></th>\n",
              "      <th>학번</th>\n",
              "      <th>이름</th>\n",
              "      <th>점수</th>\n",
              "    </tr>\n",
              "  </thead>\n",
              "  <tbody>\n",
              "    <tr>\n",
              "      <th>3</th>\n",
              "      <td>1003</td>\n",
              "      <td>Jane</td>\n",
              "      <td>64.19</td>\n",
              "    </tr>\n",
              "  </tbody>\n",
              "</table>\n",
              "</div>"
            ],
            "text/plain": [
              "     학번    이름     점수\n",
              "3  1003  Jane  64.19"
            ]
          },
          "metadata": {
            "tags": []
          },
          "execution_count": 134
        }
      ]
    },
    {
      "cell_type": "code",
      "metadata": {
        "colab": {
          "base_uri": "https://localhost:8080/"
        },
        "id": "xeLbXeiMVAjp",
        "outputId": "cc946b97-74f6-4619-9d1c-1aa651ade0a8"
      },
      "source": [
        "# df.loc [“ index 명”] 을 통해 가져온 값은, 열을 인덱싱 했을 때와 마찬가지로 Series의 형태로 가져온다\n",
        "\n",
        "df.loc[3]"
      ],
      "execution_count": null,
      "outputs": [
        {
          "output_type": "execute_result",
          "data": {
            "text/plain": [
              "학번     1003\n",
              "이름     Jane\n",
              "점수    64.19\n",
              "Name: 3, dtype: object"
            ]
          },
          "metadata": {
            "tags": []
          },
          "execution_count": 135
        }
      ]
    },
    {
      "cell_type": "code",
      "metadata": {
        "colab": {
          "base_uri": "https://localhost:8080/"
        },
        "id": "V3KcENOVfDqi",
        "outputId": "00bdde64-b023-46fa-aaf8-4c795fe2f60c"
      },
      "source": [
        "# 행을 인덱싱하는 .loc[]함수의 재밌는 점은, 행을 인덱싱하면서 동시에 열도 인덱싱\n",
        "\n",
        "df.loc[3:,'학번']"
      ],
      "execution_count": null,
      "outputs": [
        {
          "output_type": "execute_result",
          "data": {
            "text/plain": [
              "3    1003\n",
              "4    1004\n",
              "5    1005\n",
              "Name: 학번, dtype: object"
            ]
          },
          "metadata": {
            "tags": []
          },
          "execution_count": 136
        }
      ]
    },
    {
      "cell_type": "code",
      "metadata": {
        "colab": {
          "base_uri": "https://localhost:8080/",
          "height": 141
        },
        "id": "NWWpEqhkV0Bv",
        "outputId": "153bf559-aba6-4999-c545-66e042aede5e"
      },
      "source": [
        "df.loc[1:3:,'학번':]"
      ],
      "execution_count": null,
      "outputs": [
        {
          "output_type": "execute_result",
          "data": {
            "text/html": [
              "<div>\n",
              "<style scoped>\n",
              "    .dataframe tbody tr th:only-of-type {\n",
              "        vertical-align: middle;\n",
              "    }\n",
              "\n",
              "    .dataframe tbody tr th {\n",
              "        vertical-align: top;\n",
              "    }\n",
              "\n",
              "    .dataframe thead th {\n",
              "        text-align: right;\n",
              "    }\n",
              "</style>\n",
              "<table border=\"1\" class=\"dataframe\">\n",
              "  <thead>\n",
              "    <tr style=\"text-align: right;\">\n",
              "      <th></th>\n",
              "      <th>학번</th>\n",
              "      <th>이름</th>\n",
              "      <th>점수</th>\n",
              "    </tr>\n",
              "  </thead>\n",
              "  <tbody>\n",
              "    <tr>\n",
              "      <th>1</th>\n",
              "      <td>1001</td>\n",
              "      <td>James</td>\n",
              "      <td>78.09</td>\n",
              "    </tr>\n",
              "    <tr>\n",
              "      <th>2</th>\n",
              "      <td>1002</td>\n",
              "      <td>Doyeon</td>\n",
              "      <td>98.43</td>\n",
              "    </tr>\n",
              "    <tr>\n",
              "      <th>3</th>\n",
              "      <td>1003</td>\n",
              "      <td>Jane</td>\n",
              "      <td>64.19</td>\n",
              "    </tr>\n",
              "  </tbody>\n",
              "</table>\n",
              "</div>"
            ],
            "text/plain": [
              "     학번      이름     점수\n",
              "1  1001   James  78.09\n",
              "2  1002  Doyeon  98.43\n",
              "3  1003    Jane  64.19"
            ]
          },
          "metadata": {
            "tags": []
          },
          "execution_count": 137
        }
      ]
    },
    {
      "cell_type": "code",
      "metadata": {
        "colab": {
          "base_uri": "https://localhost:8080/"
        },
        "id": "4DnetjnnWOXi",
        "outputId": "021d5c40-e3c0-4c59-bcdb-54051e1aa485"
      },
      "source": [
        "# 이를 응용하면, 행인덱스 자리에 전체를 의미하는 콜론(:)을 넣고, 가져올 칼럼명을 입력하면, 열을 인덱싱하는 것과 같아진다.\n",
        "# 즉,  .loc[ : , “칼럼명” ] 으로 열을 선택하는 인덱싱하는 코드인  df [ “칼럼명” ]과 같다.\n",
        "\n",
        "df.loc[:,'이름']"
      ],
      "execution_count": null,
      "outputs": [
        {
          "output_type": "execute_result",
          "data": {
            "text/plain": [
              "0       Steve\n",
              "1       James\n",
              "2      Doyeon\n",
              "3        Jane\n",
              "4    Pilwoong\n",
              "5        Tony\n",
              "Name: 이름, dtype: object"
            ]
          },
          "metadata": {
            "tags": []
          },
          "execution_count": 138
        }
      ]
    },
    {
      "cell_type": "code",
      "metadata": {
        "colab": {
          "base_uri": "https://localhost:8080/",
          "height": 36
        },
        "id": "6q-1iKsEXrwW",
        "outputId": "ccf837ae-4eac-40c0-ba19-9addd57d33ea"
      },
      "source": [
        "# 특정 셀 선택\n",
        "\n",
        "df.loc[3,'학번']"
      ],
      "execution_count": null,
      "outputs": [
        {
          "output_type": "execute_result",
          "data": {
            "application/vnd.google.colaboratory.intrinsic+json": {
              "type": "string"
            },
            "text/plain": [
              "'1003'"
            ]
          },
          "metadata": {
            "tags": []
          },
          "execution_count": 139
        }
      ]
    },
    {
      "cell_type": "code",
      "metadata": {
        "colab": {
          "base_uri": "https://localhost:8080/"
        },
        "id": "HPPBZlyxW8VQ",
        "outputId": "bdf49486-8cd0-48c4-bbf6-af3c122aad03"
      },
      "source": [
        "# iloc 함수는 numpy 의 array 인덱싱 방식으로 가져올 때 쓰는 것이다. 즉, 칼럼명이 아니라 index숫자로서 가져올 때 쓴다.\n",
        "# 예를 들어, df.iloc[3]은 4번째 행을 가져온다. \n",
        "\n",
        "df.iloc[3]"
      ],
      "execution_count": null,
      "outputs": [
        {
          "output_type": "execute_result",
          "data": {
            "text/plain": [
              "학번     1003\n",
              "이름     Jane\n",
              "점수    64.19\n",
              "Name: 3, dtype: object"
            ]
          },
          "metadata": {
            "tags": []
          },
          "execution_count": 140
        }
      ]
    },
    {
      "cell_type": "code",
      "metadata": {
        "colab": {
          "base_uri": "https://localhost:8080/",
          "height": 36
        },
        "id": "zm8JpnXbZbq-",
        "outputId": "67278a70-ea13-407a-fcef-0c743eea6d2f"
      },
      "source": [
        "# 특정 셀 선택\n",
        "\n",
        "df.iloc[3,1]"
      ],
      "execution_count": null,
      "outputs": [
        {
          "output_type": "execute_result",
          "data": {
            "application/vnd.google.colaboratory.intrinsic+json": {
              "type": "string"
            },
            "text/plain": [
              "'Jane'"
            ]
          },
          "metadata": {
            "tags": []
          },
          "execution_count": 141
        }
      ]
    },
    {
      "cell_type": "code",
      "metadata": {
        "colab": {
          "base_uri": "https://localhost:8080/",
          "height": 36
        },
        "id": "Smi2L8gDZixo",
        "outputId": "d3af5658-58fd-447b-eef2-dd934f135c77"
      },
      "source": [
        "#특정 셀 선택 - 다른 방법\n",
        "\n",
        "df.iat[4,1]"
      ],
      "execution_count": null,
      "outputs": [
        {
          "output_type": "execute_result",
          "data": {
            "application/vnd.google.colaboratory.intrinsic+json": {
              "type": "string"
            },
            "text/plain": [
              "'Pilwoong'"
            ]
          },
          "metadata": {
            "tags": []
          },
          "execution_count": 142
        }
      ]
    },
    {
      "cell_type": "code",
      "metadata": {
        "colab": {
          "base_uri": "https://localhost:8080/"
        },
        "id": "D5O4lOdccTl4",
        "outputId": "cbf7ecbc-abaf-4244-a39e-b63d8fa481cf"
      },
      "source": [
        "# Boolean indexing\n",
        "\n",
        "df['점수'] > 80"
      ],
      "execution_count": null,
      "outputs": [
        {
          "output_type": "execute_result",
          "data": {
            "text/plain": [
              "0     True\n",
              "1    False\n",
              "2     True\n",
              "3    False\n",
              "4     True\n",
              "5     True\n",
              "Name: 점수, dtype: bool"
            ]
          },
          "metadata": {
            "tags": []
          },
          "execution_count": 143
        }
      ]
    },
    {
      "cell_type": "code",
      "metadata": {
        "colab": {
          "base_uri": "https://localhost:8080/",
          "height": 171
        },
        "id": "_0kQTeXiaaun",
        "outputId": "5c5e506e-935d-4639-b2c6-d66c90c925ef"
      },
      "source": [
        "df.loc[df['점수'] > 80]"
      ],
      "execution_count": null,
      "outputs": [
        {
          "output_type": "execute_result",
          "data": {
            "text/html": [
              "<div>\n",
              "<style scoped>\n",
              "    .dataframe tbody tr th:only-of-type {\n",
              "        vertical-align: middle;\n",
              "    }\n",
              "\n",
              "    .dataframe tbody tr th {\n",
              "        vertical-align: top;\n",
              "    }\n",
              "\n",
              "    .dataframe thead th {\n",
              "        text-align: right;\n",
              "    }\n",
              "</style>\n",
              "<table border=\"1\" class=\"dataframe\">\n",
              "  <thead>\n",
              "    <tr style=\"text-align: right;\">\n",
              "      <th></th>\n",
              "      <th>학번</th>\n",
              "      <th>이름</th>\n",
              "      <th>점수</th>\n",
              "    </tr>\n",
              "  </thead>\n",
              "  <tbody>\n",
              "    <tr>\n",
              "      <th>0</th>\n",
              "      <td>1000</td>\n",
              "      <td>Steve</td>\n",
              "      <td>90.72</td>\n",
              "    </tr>\n",
              "    <tr>\n",
              "      <th>2</th>\n",
              "      <td>1002</td>\n",
              "      <td>Doyeon</td>\n",
              "      <td>98.43</td>\n",
              "    </tr>\n",
              "    <tr>\n",
              "      <th>4</th>\n",
              "      <td>1004</td>\n",
              "      <td>Pilwoong</td>\n",
              "      <td>81.30</td>\n",
              "    </tr>\n",
              "    <tr>\n",
              "      <th>5</th>\n",
              "      <td>1005</td>\n",
              "      <td>Tony</td>\n",
              "      <td>99.14</td>\n",
              "    </tr>\n",
              "  </tbody>\n",
              "</table>\n",
              "</div>"
            ],
            "text/plain": [
              "     학번        이름     점수\n",
              "0  1000     Steve  90.72\n",
              "2  1002    Doyeon  98.43\n",
              "4  1004  Pilwoong  81.30\n",
              "5  1005      Tony  99.14"
            ]
          },
          "metadata": {
            "tags": []
          },
          "execution_count": 144
        }
      ]
    },
    {
      "cell_type": "code",
      "metadata": {
        "id": "Pbpro-snQA1D",
        "colab": {
          "resources": {
            "http://localhost:8080/nbextensions/google.colab/files.js": {
              "data": "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",
              "ok": true,
              "headers": [
                [
                  "content-type",
                  "application/javascript"
                ]
              ],
              "status": 200,
              "status_text": ""
            }
          },
          "base_uri": "https://localhost:8080/",
          "height": 77
        },
        "outputId": "5e1083d8-945e-42a3-fa1a-352e2927b747"
      },
      "source": [
        "# 외부데이터(local drive) 읽기\n",
        "\n",
        "from google.colab import files\n",
        "uploaded = files.upload()"
      ],
      "execution_count": null,
      "outputs": [
        {
          "output_type": "display_data",
          "data": {
            "text/html": [
              "\n",
              "     <input type=\"file\" id=\"files-cd209789-3c52-4425-871d-8b63c1878b5f\" name=\"files[]\" multiple disabled\n",
              "        style=\"border:none\" />\n",
              "     <output id=\"result-cd209789-3c52-4425-871d-8b63c1878b5f\">\n",
              "      Upload widget is only available when the cell has been executed in the\n",
              "      current browser session. Please rerun this cell to enable.\n",
              "      </output>\n",
              "      <script src=\"/nbextensions/google.colab/files.js\"></script> "
            ],
            "text/plain": [
              "<IPython.core.display.HTML object>"
            ]
          },
          "metadata": {
            "tags": []
          }
        },
        {
          "output_type": "stream",
          "text": [
            "Saving data.csv.zip to data.csv (1).zip\n"
          ],
          "name": "stdout"
        }
      ]
    },
    {
      "cell_type": "code",
      "metadata": {
        "colab": {
          "base_uri": "https://localhost:8080/"
        },
        "id": "MeeXpPBLUv4B",
        "outputId": "93e6c406-91f8-4d09-cd0f-89d2d53c4b84"
      },
      "source": [
        "!unzip data.csv.zip\n",
        "!ls"
      ],
      "execution_count": null,
      "outputs": [
        {
          "output_type": "stream",
          "text": [
            "Archive:  data.csv.zip\n",
            "replace data.csv? [y]es, [n]o, [A]ll, [N]one, [r]ename: ㅛ\n",
            "error:  invalid response [ㅛ]\n",
            "replace data.csv? [y]es, [n]o, [A]ll, [N]one, [r]ename: ㅛ\n",
            "error:  invalid response [ㅛ]\n",
            "replace data.csv? [y]es, [n]o, [A]ll, [N]one, [r]ename: y\n",
            "  inflating: data.csv                \n",
            " 2016-10-20.txt   data.csv\t      data.csv.zip   wiki_20190620.txt\n",
            " cookie\t\t 'data.csv (1).zip'   sample_data\n"
          ],
          "name": "stdout"
        }
      ]
    },
    {
      "cell_type": "code",
      "metadata": {
        "colab": {
          "base_uri": "https://localhost:8080/",
          "height": 591
        },
        "id": "11gZqiy9VJtB",
        "outputId": "e49984bd-60f8-45f4-c5a6-01fbc18927e6"
      },
      "source": [
        "df = pd.read_csv('data.csv')#, parse_dates= True)\n",
        "df"
      ],
      "execution_count": null,
      "outputs": [
        {
          "output_type": "execute_result",
          "data": {
            "text/html": [
              "<div>\n",
              "<style scoped>\n",
              "    .dataframe tbody tr th:only-of-type {\n",
              "        vertical-align: middle;\n",
              "    }\n",
              "\n",
              "    .dataframe tbody tr th {\n",
              "        vertical-align: top;\n",
              "    }\n",
              "\n",
              "    .dataframe thead th {\n",
              "        text-align: right;\n",
              "    }\n",
              "</style>\n",
              "<table border=\"1\" class=\"dataframe\">\n",
              "  <thead>\n",
              "    <tr style=\"text-align: right;\">\n",
              "      <th></th>\n",
              "      <th>location</th>\n",
              "      <th>iso_code</th>\n",
              "      <th>date</th>\n",
              "      <th>total_vaccinations</th>\n",
              "      <th>people_vaccinated</th>\n",
              "      <th>people_fully_vaccinated</th>\n",
              "      <th>daily_vaccinations_raw</th>\n",
              "      <th>daily_vaccinations</th>\n",
              "      <th>total_vaccinations_per_hundred</th>\n",
              "      <th>people_vaccinated_per_hundred</th>\n",
              "      <th>people_fully_vaccinated_per_hundred</th>\n",
              "      <th>daily_vaccinations_per_million</th>\n",
              "    </tr>\n",
              "  </thead>\n",
              "  <tbody>\n",
              "    <tr>\n",
              "      <th>0</th>\n",
              "      <td>#country+name</td>\n",
              "      <td>#country+code</td>\n",
              "      <td>#date</td>\n",
              "      <td>#total+vaccinations</td>\n",
              "      <td>NaN</td>\n",
              "      <td>NaN</td>\n",
              "      <td>NaN</td>\n",
              "      <td>#total+vaccinations+daily</td>\n",
              "      <td>NaN</td>\n",
              "      <td>NaN</td>\n",
              "      <td>NaN</td>\n",
              "      <td>NaN</td>\n",
              "    </tr>\n",
              "    <tr>\n",
              "      <th>1</th>\n",
              "      <td>Afghanistan</td>\n",
              "      <td>AFG</td>\n",
              "      <td>2021-02-22</td>\n",
              "      <td>0</td>\n",
              "      <td>0.0</td>\n",
              "      <td>NaN</td>\n",
              "      <td>NaN</td>\n",
              "      <td>NaN</td>\n",
              "      <td>0.00</td>\n",
              "      <td>0.00</td>\n",
              "      <td>NaN</td>\n",
              "      <td>NaN</td>\n",
              "    </tr>\n",
              "    <tr>\n",
              "      <th>2</th>\n",
              "      <td>Afghanistan</td>\n",
              "      <td>AFG</td>\n",
              "      <td>2021-02-23</td>\n",
              "      <td>NaN</td>\n",
              "      <td>NaN</td>\n",
              "      <td>NaN</td>\n",
              "      <td>NaN</td>\n",
              "      <td>1367</td>\n",
              "      <td>NaN</td>\n",
              "      <td>NaN</td>\n",
              "      <td>NaN</td>\n",
              "      <td>35.0</td>\n",
              "    </tr>\n",
              "    <tr>\n",
              "      <th>3</th>\n",
              "      <td>Afghanistan</td>\n",
              "      <td>AFG</td>\n",
              "      <td>2021-02-24</td>\n",
              "      <td>NaN</td>\n",
              "      <td>NaN</td>\n",
              "      <td>NaN</td>\n",
              "      <td>NaN</td>\n",
              "      <td>1367</td>\n",
              "      <td>NaN</td>\n",
              "      <td>NaN</td>\n",
              "      <td>NaN</td>\n",
              "      <td>35.0</td>\n",
              "    </tr>\n",
              "    <tr>\n",
              "      <th>4</th>\n",
              "      <td>Afghanistan</td>\n",
              "      <td>AFG</td>\n",
              "      <td>2021-02-25</td>\n",
              "      <td>NaN</td>\n",
              "      <td>NaN</td>\n",
              "      <td>NaN</td>\n",
              "      <td>NaN</td>\n",
              "      <td>1367</td>\n",
              "      <td>NaN</td>\n",
              "      <td>NaN</td>\n",
              "      <td>NaN</td>\n",
              "      <td>35.0</td>\n",
              "    </tr>\n",
              "    <tr>\n",
              "      <th>...</th>\n",
              "      <td>...</td>\n",
              "      <td>...</td>\n",
              "      <td>...</td>\n",
              "      <td>...</td>\n",
              "      <td>...</td>\n",
              "      <td>...</td>\n",
              "      <td>...</td>\n",
              "      <td>...</td>\n",
              "      <td>...</td>\n",
              "      <td>...</td>\n",
              "      <td>...</td>\n",
              "      <td>...</td>\n",
              "    </tr>\n",
              "    <tr>\n",
              "      <th>32936</th>\n",
              "      <td>Zimbabwe</td>\n",
              "      <td>ZWE</td>\n",
              "      <td>2021-07-08</td>\n",
              "      <td>1433578</td>\n",
              "      <td>848808.0</td>\n",
              "      <td>584770.0</td>\n",
              "      <td>34821.0</td>\n",
              "      <td>13088</td>\n",
              "      <td>9.65</td>\n",
              "      <td>5.71</td>\n",
              "      <td>3.93</td>\n",
              "      <td>881.0</td>\n",
              "    </tr>\n",
              "    <tr>\n",
              "      <th>32937</th>\n",
              "      <td>Zimbabwe</td>\n",
              "      <td>ZWE</td>\n",
              "      <td>2021-07-09</td>\n",
              "      <td>1464065</td>\n",
              "      <td>875182.0</td>\n",
              "      <td>588883.0</td>\n",
              "      <td>30487.0</td>\n",
              "      <td>15907</td>\n",
              "      <td>9.85</td>\n",
              "      <td>5.89</td>\n",
              "      <td>3.96</td>\n",
              "      <td>1070.0</td>\n",
              "    </tr>\n",
              "    <tr>\n",
              "      <th>32938</th>\n",
              "      <td>Zimbabwe</td>\n",
              "      <td>ZWE</td>\n",
              "      <td>2021-07-10</td>\n",
              "      <td>NaN</td>\n",
              "      <td>NaN</td>\n",
              "      <td>NaN</td>\n",
              "      <td>NaN</td>\n",
              "      <td>16878</td>\n",
              "      <td>NaN</td>\n",
              "      <td>NaN</td>\n",
              "      <td>NaN</td>\n",
              "      <td>1136.0</td>\n",
              "    </tr>\n",
              "    <tr>\n",
              "      <th>32939</th>\n",
              "      <td>Zimbabwe</td>\n",
              "      <td>ZWE</td>\n",
              "      <td>2021-07-11</td>\n",
              "      <td>1491397</td>\n",
              "      <td>895980.0</td>\n",
              "      <td>595417.0</td>\n",
              "      <td>NaN</td>\n",
              "      <td>18598</td>\n",
              "      <td>10.03</td>\n",
              "      <td>6.03</td>\n",
              "      <td>4.01</td>\n",
              "      <td>1251.0</td>\n",
              "    </tr>\n",
              "    <tr>\n",
              "      <th>32940</th>\n",
              "      <td>Zimbabwe</td>\n",
              "      <td>ZWE</td>\n",
              "      <td>2021-07-12</td>\n",
              "      <td>1531868</td>\n",
              "      <td>926312.0</td>\n",
              "      <td>605556.0</td>\n",
              "      <td>40471.0</td>\n",
              "      <td>23205</td>\n",
              "      <td>10.31</td>\n",
              "      <td>6.23</td>\n",
              "      <td>4.07</td>\n",
              "      <td>1561.0</td>\n",
              "    </tr>\n",
              "  </tbody>\n",
              "</table>\n",
              "<p>32941 rows × 12 columns</p>\n",
              "</div>"
            ],
            "text/plain": [
              "            location  ... daily_vaccinations_per_million\n",
              "0      #country+name  ...                            NaN\n",
              "1        Afghanistan  ...                            NaN\n",
              "2        Afghanistan  ...                           35.0\n",
              "3        Afghanistan  ...                           35.0\n",
              "4        Afghanistan  ...                           35.0\n",
              "...              ...  ...                            ...\n",
              "32936       Zimbabwe  ...                          881.0\n",
              "32937       Zimbabwe  ...                         1070.0\n",
              "32938       Zimbabwe  ...                         1136.0\n",
              "32939       Zimbabwe  ...                         1251.0\n",
              "32940       Zimbabwe  ...                         1561.0\n",
              "\n",
              "[32941 rows x 12 columns]"
            ]
          },
          "metadata": {
            "tags": []
          },
          "execution_count": 147
        }
      ]
    },
    {
      "cell_type": "code",
      "metadata": {
        "colab": {
          "base_uri": "https://localhost:8080/",
          "height": 609
        },
        "id": "rizdKyQvVbVB",
        "outputId": "baf46468-2dc8-4bc6-de9a-bf4b5a227007"
      },
      "source": [
        "df_korea = df.loc[df['iso_code']=='KOR']\n",
        "df_korea"
      ],
      "execution_count": null,
      "outputs": [
        {
          "output_type": "execute_result",
          "data": {
            "text/html": [
              "<div>\n",
              "<style scoped>\n",
              "    .dataframe tbody tr th:only-of-type {\n",
              "        vertical-align: middle;\n",
              "    }\n",
              "\n",
              "    .dataframe tbody tr th {\n",
              "        vertical-align: top;\n",
              "    }\n",
              "\n",
              "    .dataframe thead th {\n",
              "        text-align: right;\n",
              "    }\n",
              "</style>\n",
              "<table border=\"1\" class=\"dataframe\">\n",
              "  <thead>\n",
              "    <tr style=\"text-align: right;\">\n",
              "      <th></th>\n",
              "      <th>location</th>\n",
              "      <th>iso_code</th>\n",
              "      <th>date</th>\n",
              "      <th>total_vaccinations</th>\n",
              "      <th>people_vaccinated</th>\n",
              "      <th>people_fully_vaccinated</th>\n",
              "      <th>daily_vaccinations_raw</th>\n",
              "      <th>daily_vaccinations</th>\n",
              "      <th>total_vaccinations_per_hundred</th>\n",
              "      <th>people_vaccinated_per_hundred</th>\n",
              "      <th>people_fully_vaccinated_per_hundred</th>\n",
              "      <th>daily_vaccinations_per_million</th>\n",
              "    </tr>\n",
              "  </thead>\n",
              "  <tbody>\n",
              "    <tr>\n",
              "      <th>27929</th>\n",
              "      <td>South Korea</td>\n",
              "      <td>KOR</td>\n",
              "      <td>2021-02-26</td>\n",
              "      <td>20308</td>\n",
              "      <td>20308.0</td>\n",
              "      <td>NaN</td>\n",
              "      <td>NaN</td>\n",
              "      <td>NaN</td>\n",
              "      <td>0.04</td>\n",
              "      <td>0.04</td>\n",
              "      <td>NaN</td>\n",
              "      <td>NaN</td>\n",
              "    </tr>\n",
              "    <tr>\n",
              "      <th>27930</th>\n",
              "      <td>South Korea</td>\n",
              "      <td>KOR</td>\n",
              "      <td>2021-02-27</td>\n",
              "      <td>21732</td>\n",
              "      <td>21732.0</td>\n",
              "      <td>NaN</td>\n",
              "      <td>1424.0</td>\n",
              "      <td>1424</td>\n",
              "      <td>0.04</td>\n",
              "      <td>0.04</td>\n",
              "      <td>NaN</td>\n",
              "      <td>28.0</td>\n",
              "    </tr>\n",
              "    <tr>\n",
              "      <th>27931</th>\n",
              "      <td>South Korea</td>\n",
              "      <td>KOR</td>\n",
              "      <td>2021-02-28</td>\n",
              "      <td>22596</td>\n",
              "      <td>22596.0</td>\n",
              "      <td>NaN</td>\n",
              "      <td>864.0</td>\n",
              "      <td>1144</td>\n",
              "      <td>0.04</td>\n",
              "      <td>0.04</td>\n",
              "      <td>NaN</td>\n",
              "      <td>22.0</td>\n",
              "    </tr>\n",
              "    <tr>\n",
              "      <th>27932</th>\n",
              "      <td>South Korea</td>\n",
              "      <td>KOR</td>\n",
              "      <td>2021-03-01</td>\n",
              "      <td>24072</td>\n",
              "      <td>24072.0</td>\n",
              "      <td>NaN</td>\n",
              "      <td>1476.0</td>\n",
              "      <td>1255</td>\n",
              "      <td>0.05</td>\n",
              "      <td>0.05</td>\n",
              "      <td>NaN</td>\n",
              "      <td>24.0</td>\n",
              "    </tr>\n",
              "    <tr>\n",
              "      <th>27933</th>\n",
              "      <td>South Korea</td>\n",
              "      <td>KOR</td>\n",
              "      <td>2021-03-02</td>\n",
              "      <td>90485</td>\n",
              "      <td>90485.0</td>\n",
              "      <td>NaN</td>\n",
              "      <td>66413.0</td>\n",
              "      <td>17544</td>\n",
              "      <td>0.18</td>\n",
              "      <td>0.18</td>\n",
              "      <td>NaN</td>\n",
              "      <td>342.0</td>\n",
              "    </tr>\n",
              "    <tr>\n",
              "      <th>...</th>\n",
              "      <td>...</td>\n",
              "      <td>...</td>\n",
              "      <td>...</td>\n",
              "      <td>...</td>\n",
              "      <td>...</td>\n",
              "      <td>...</td>\n",
              "      <td>...</td>\n",
              "      <td>...</td>\n",
              "      <td>...</td>\n",
              "      <td>...</td>\n",
              "      <td>...</td>\n",
              "      <td>...</td>\n",
              "    </tr>\n",
              "    <tr>\n",
              "      <th>28061</th>\n",
              "      <td>South Korea</td>\n",
              "      <td>KOR</td>\n",
              "      <td>2021-07-08</td>\n",
              "      <td>20073360</td>\n",
              "      <td>15515611.0</td>\n",
              "      <td>5687437.0</td>\n",
              "      <td>142703.0</td>\n",
              "      <td>95235</td>\n",
              "      <td>39.15</td>\n",
              "      <td>30.26</td>\n",
              "      <td>11.09</td>\n",
              "      <td>1858.0</td>\n",
              "    </tr>\n",
              "    <tr>\n",
              "      <th>28062</th>\n",
              "      <td>South Korea</td>\n",
              "      <td>KOR</td>\n",
              "      <td>2021-07-09</td>\n",
              "      <td>20278123</td>\n",
              "      <td>15573808.0</td>\n",
              "      <td>5834003.0</td>\n",
              "      <td>204763.0</td>\n",
              "      <td>106757</td>\n",
              "      <td>39.55</td>\n",
              "      <td>30.38</td>\n",
              "      <td>11.38</td>\n",
              "      <td>2082.0</td>\n",
              "    </tr>\n",
              "    <tr>\n",
              "      <th>28063</th>\n",
              "      <td>South Korea</td>\n",
              "      <td>KOR</td>\n",
              "      <td>2021-07-10</td>\n",
              "      <td>20330272</td>\n",
              "      <td>15586649.0</td>\n",
              "      <td>5873311.0</td>\n",
              "      <td>52149.0</td>\n",
              "      <td>111602</td>\n",
              "      <td>39.65</td>\n",
              "      <td>30.40</td>\n",
              "      <td>11.46</td>\n",
              "      <td>2177.0</td>\n",
              "    </tr>\n",
              "    <tr>\n",
              "      <th>28064</th>\n",
              "      <td>South Korea</td>\n",
              "      <td>KOR</td>\n",
              "      <td>2021-07-11</td>\n",
              "      <td>20331848</td>\n",
              "      <td>15587120.0</td>\n",
              "      <td>5874416.0</td>\n",
              "      <td>1576.0</td>\n",
              "      <td>111735</td>\n",
              "      <td>39.66</td>\n",
              "      <td>30.40</td>\n",
              "      <td>11.46</td>\n",
              "      <td>2179.0</td>\n",
              "    </tr>\n",
              "    <tr>\n",
              "      <th>28065</th>\n",
              "      <td>South Korea</td>\n",
              "      <td>KOR</td>\n",
              "      <td>2021-07-12</td>\n",
              "      <td>20428988</td>\n",
              "      <td>15618302.0</td>\n",
              "      <td>5940374.0</td>\n",
              "      <td>97140.0</td>\n",
              "      <td>107091</td>\n",
              "      <td>39.85</td>\n",
              "      <td>30.46</td>\n",
              "      <td>11.59</td>\n",
              "      <td>2089.0</td>\n",
              "    </tr>\n",
              "  </tbody>\n",
              "</table>\n",
              "<p>137 rows × 12 columns</p>\n",
              "</div>"
            ],
            "text/plain": [
              "          location  ... daily_vaccinations_per_million\n",
              "27929  South Korea  ...                            NaN\n",
              "27930  South Korea  ...                           28.0\n",
              "27931  South Korea  ...                           22.0\n",
              "27932  South Korea  ...                           24.0\n",
              "27933  South Korea  ...                          342.0\n",
              "...            ...  ...                            ...\n",
              "28061  South Korea  ...                         1858.0\n",
              "28062  South Korea  ...                         2082.0\n",
              "28063  South Korea  ...                         2177.0\n",
              "28064  South Korea  ...                         2179.0\n",
              "28065  South Korea  ...                         2089.0\n",
              "\n",
              "[137 rows x 12 columns]"
            ]
          },
          "metadata": {
            "tags": []
          },
          "execution_count": 148
        }
      ]
    },
    {
      "cell_type": "markdown",
      "metadata": {
        "id": "Fjv8IhqNJKm7"
      },
      "source": [
        "### Numpy \n",
        "\n",
        "- 다차원 행렬 자료구조인 ndarray를 통해 벡터 및 행렬을 사용하는 선형 대수 계산에서 주로 사용\n",
        "\n",
        "- 편의성뿐만 아니라, 속도면에서도 순수 파이썬에 비해 압도적으로 빠르다\n"
      ]
    },
    {
      "cell_type": "code",
      "metadata": {
        "colab": {
          "base_uri": "https://localhost:8080/",
          "height": 36
        },
        "id": "L94xlieXJKm8",
        "outputId": "0e4df112-598b-4b66-92b9-a85beabf3a56"
      },
      "source": [
        "import numpy as np\n",
        "np.__version__"
      ],
      "execution_count": null,
      "outputs": [
        {
          "output_type": "execute_result",
          "data": {
            "application/vnd.google.colaboratory.intrinsic+json": {
              "type": "string"
            },
            "text/plain": [
              "'1.19.5'"
            ]
          },
          "metadata": {
            "tags": []
          },
          "execution_count": 149
        }
      ]
    },
    {
      "cell_type": "markdown",
      "metadata": {
        "id": "vbZmnsGXWJVg"
      },
      "source": [
        "##### numpy array (ndarray) 생성"
      ]
    },
    {
      "cell_type": "code",
      "metadata": {
        "colab": {
          "base_uri": "https://localhost:8080/"
        },
        "id": "roYRd2JXJoRi",
        "outputId": "80adcba6-583d-4d93-e085-6dc6c4f538d3"
      },
      "source": [
        "# python list에서 1차원 ndarray 생성\n",
        "\n",
        "list_a = [1, 2, 3, 4, 5]\n",
        "a = np.array(list_a) # 리스트를 가지고 1차원 배열 생성\n",
        "print(type(list_a), type(a))\n",
        "print('dim = ',a.ndim)\n",
        "print('shape = ',a.shape)\n",
        "a"
      ],
      "execution_count": null,
      "outputs": [
        {
          "output_type": "stream",
          "text": [
            "<class 'list'> <class 'numpy.ndarray'>\n",
            "dim =  1\n",
            "shape =  (5,)\n"
          ],
          "name": "stdout"
        },
        {
          "output_type": "execute_result",
          "data": {
            "text/plain": [
              "array([1, 2, 3, 4, 5])"
            ]
          },
          "metadata": {
            "tags": []
          },
          "execution_count": 150
        }
      ]
    },
    {
      "cell_type": "code",
      "metadata": {
        "colab": {
          "base_uri": "https://localhost:8080/"
        },
        "id": "9RiH5Z5KPm5Y",
        "outputId": "2d4beff4-99d8-4e6c-c2e1-0a84f9d10100"
      },
      "source": [
        "# python list에서 2차원 ndarray 생성\n",
        "\n",
        "list_b = [[10, 20, 30], [ 60, 70, 80]] #  리스트의 리스트\n",
        "b = np.array(list_b) \n",
        "print(type(list_b),type(b))\n",
        "print('dim = ',b.ndim)\n",
        "print('shape = ',b.shape)\n",
        "print(b) "
      ],
      "execution_count": null,
      "outputs": [
        {
          "output_type": "stream",
          "text": [
            "<class 'list'> <class 'numpy.ndarray'>\n",
            "dim =  2\n",
            "shape =  (2, 3)\n",
            "[[10 20 30]\n",
            " [60 70 80]]\n"
          ],
          "name": "stdout"
        }
      ]
    },
    {
      "cell_type": "code",
      "metadata": {
        "colab": {
          "base_uri": "https://localhost:8080/"
        },
        "id": "zPhDjloeU9as",
        "outputId": "41cf714c-1087-4b53-a227-e93d009613f8"
      },
      "source": [
        "# 함수를 이용한 ndarray의 초기화\n",
        "newline = '\\n'\n",
        "\n",
        "a = np.zeros((2,3)) # 모든값이 0인 2x3 배열 생성.\n",
        "print(a,newline)\n",
        "\n",
        "a = np.ones((2,3)) # 모든값이 1인 2x3 배열 생성.\n",
        "print(a,newline)\n",
        "\n",
        "a = np.full((2,2), 7) # 모든 값이 특정 상수인 배열 생성. 이 경우에는 7.\n",
        "print(a,newline)\n",
        "\n",
        "\n",
        "a = np.eye(3) # 대각선으로는 1이고 나머지는 0인 2차원 배열을 생성.\n",
        "print(a,newline)\n",
        "\n",
        "a = np.random.random((2,2)) # 임의의 값으로 채워진 배열 생성\n",
        "print(a,newline)"
      ],
      "execution_count": null,
      "outputs": [
        {
          "output_type": "stream",
          "text": [
            "[[0. 0. 0.]\n",
            " [0. 0. 0.]] \n",
            "\n",
            "[[1. 1. 1.]\n",
            " [1. 1. 1.]] \n",
            "\n",
            "[[7 7]\n",
            " [7 7]] \n",
            "\n",
            "[[1. 0. 0.]\n",
            " [0. 1. 0.]\n",
            " [0. 0. 1.]] \n",
            "\n",
            "[[0.66515062 0.39396703]\n",
            " [0.70958973 0.07134383]] \n",
            "\n"
          ],
          "name": "stdout"
        }
      ]
    },
    {
      "cell_type": "markdown",
      "metadata": {
        "id": "fUFenXhgWX02"
      },
      "source": [
        "##### np.arange()\n",
        "\n",
        "  - np.arange()는 지정해준 범위에 대해서 배열을 생성합니다. np.arange()의 범위 지정 방법은 다음과 같습니다.\n",
        "\n",
        "  ````\n",
        "  numpy.arange(start, stop, step, dtype)\n",
        "  a = np.arange(n) # 0, ..., n-1까지 범위의 지정.\n",
        "  a = np.arange(i, j, k) # i부터 j-1까지 k씩 증가하는 배열.\n",
        "  ````"
      ]
    },
    {
      "cell_type": "code",
      "metadata": {
        "colab": {
          "base_uri": "https://localhost:8080/"
        },
        "id": "1TPoBhXLW5yW",
        "outputId": "77292e3f-1d23-4f4e-a133-35f30523fbc6"
      },
      "source": [
        "a = np.arange(10) #0부터 9까지\n",
        "print(a)"
      ],
      "execution_count": null,
      "outputs": [
        {
          "output_type": "stream",
          "text": [
            "[0 1 2 3 4 5 6 7 8 9]\n"
          ],
          "name": "stdout"
        }
      ]
    },
    {
      "cell_type": "code",
      "metadata": {
        "colab": {
          "base_uri": "https://localhost:8080/"
        },
        "id": "hYRyh6aSW-AU",
        "outputId": "6e693f59-9814-4b99-f1c0-11e86af2b676"
      },
      "source": [
        "a = np.arange(1, 10, 2) #1부터 9까지 +2씩 적용되는 범위\n",
        "print(a)"
      ],
      "execution_count": null,
      "outputs": [
        {
          "output_type": "stream",
          "text": [
            "[1 3 5 7 9]\n"
          ],
          "name": "stdout"
        }
      ]
    },
    {
      "cell_type": "markdown",
      "metadata": {
        "id": "ZwxGYg5dXBQP"
      },
      "source": [
        "#### reshape()\n",
        "\n",
        "  - nparray의 차원을 변형"
      ]
    },
    {
      "cell_type": "code",
      "metadata": {
        "colab": {
          "base_uri": "https://localhost:8080/"
        },
        "id": "StpUS0znYEoR",
        "outputId": "d8ba68fc-f053-48d7-ce0e-dbbf9bda6d17"
      },
      "source": [
        "a = np.array(np.arange(30))\n",
        "b = a.reshape(6,5)\n",
        "c = a.reshape(10,3)\n",
        "d = c.reshape(15,2)\n",
        "\n",
        "print(a,newline)\n",
        "print(b,newline)\n",
        "print(c,newline)\n",
        "print(d,newline)\n"
      ],
      "execution_count": null,
      "outputs": [
        {
          "output_type": "stream",
          "text": [
            "[ 0  1  2  3  4  5  6  7  8  9 10 11 12 13 14 15 16 17 18 19 20 21 22 23\n",
            " 24 25 26 27 28 29] \n",
            "\n",
            "[[ 0  1  2  3  4]\n",
            " [ 5  6  7  8  9]\n",
            " [10 11 12 13 14]\n",
            " [15 16 17 18 19]\n",
            " [20 21 22 23 24]\n",
            " [25 26 27 28 29]] \n",
            "\n",
            "[[ 0  1  2]\n",
            " [ 3  4  5]\n",
            " [ 6  7  8]\n",
            " [ 9 10 11]\n",
            " [12 13 14]\n",
            " [15 16 17]\n",
            " [18 19 20]\n",
            " [21 22 23]\n",
            " [24 25 26]\n",
            " [27 28 29]] \n",
            "\n",
            "[[ 0  1]\n",
            " [ 2  3]\n",
            " [ 4  5]\n",
            " [ 6  7]\n",
            " [ 8  9]\n",
            " [10 11]\n",
            " [12 13]\n",
            " [14 15]\n",
            " [16 17]\n",
            " [18 19]\n",
            " [20 21]\n",
            " [22 23]\n",
            " [24 25]\n",
            " [26 27]\n",
            " [28 29]] \n",
            "\n"
          ],
          "name": "stdout"
        }
      ]
    },
    {
      "cell_type": "markdown",
      "metadata": {
        "id": "FwkGjXj1ZSaQ"
      },
      "source": [
        "##### Numpy 슬라이싱\n",
        "\n",
        "  - ndarray를 통해 만든 다차원 배열은 파이썬의 리스트처럼 슬라이스(Slice) 기능을 지원합니다. 슬라이스 기능을 사용하면 원소들 중 복수 개에 접근할 수 있습니다."
      ]
    },
    {
      "cell_type": "code",
      "metadata": {
        "colab": {
          "base_uri": "https://localhost:8080/"
        },
        "id": "DNO8LjqQZcp_",
        "outputId": "5a37012c-e21b-433f-a67a-ce852a823f64"
      },
      "source": [
        "a = np.array(np.arange(20))\n",
        "b = a.reshape(5,4)\n",
        "b"
      ],
      "execution_count": null,
      "outputs": [
        {
          "output_type": "execute_result",
          "data": {
            "text/plain": [
              "array([[ 0,  1,  2,  3],\n",
              "       [ 4,  5,  6,  7],\n",
              "       [ 8,  9, 10, 11],\n",
              "       [12, 13, 14, 15],\n",
              "       [16, 17, 18, 19]])"
            ]
          },
          "metadata": {
            "tags": []
          },
          "execution_count": 156
        }
      ]
    },
    {
      "cell_type": "code",
      "metadata": {
        "colab": {
          "base_uri": "https://localhost:8080/"
        },
        "id": "P3QEOUpfZ46x",
        "outputId": "6a408d94-21f4-47a8-c2ba-98f77b3cf92f"
      },
      "source": [
        "b[0:2, 0:2]"
      ],
      "execution_count": null,
      "outputs": [
        {
          "output_type": "execute_result",
          "data": {
            "text/plain": [
              "array([[0, 1],\n",
              "       [4, 5]])"
            ]
          },
          "metadata": {
            "tags": []
          },
          "execution_count": 157
        }
      ]
    },
    {
      "cell_type": "code",
      "metadata": {
        "colab": {
          "base_uri": "https://localhost:8080/"
        },
        "id": "8S02IHqgaMB6",
        "outputId": "05adbcb3-9357-41ec-dd3b-aaea3a58e98e"
      },
      "source": [
        "b[0:1,], b[0,], b[0]"
      ],
      "execution_count": null,
      "outputs": [
        {
          "output_type": "execute_result",
          "data": {
            "text/plain": [
              "(array([[0, 1, 2, 3]]), array([0, 1, 2, 3]), array([0, 1, 2, 3]))"
            ]
          },
          "metadata": {
            "tags": []
          },
          "execution_count": 158
        }
      ]
    },
    {
      "cell_type": "code",
      "metadata": {
        "colab": {
          "base_uri": "https://localhost:8080/"
        },
        "id": "tXxs71KRaoH4",
        "outputId": "66f97941-7c20-4a0e-f927-dffe4aa3efe5"
      },
      "source": [
        "b[1:3:,2:]"
      ],
      "execution_count": null,
      "outputs": [
        {
          "output_type": "execute_result",
          "data": {
            "text/plain": [
              "array([[ 6,  7],\n",
              "       [10, 11]])"
            ]
          },
          "metadata": {
            "tags": []
          },
          "execution_count": 159
        }
      ]
    },
    {
      "cell_type": "code",
      "metadata": {
        "colab": {
          "base_uri": "https://localhost:8080/"
        },
        "id": "8JW4yAF_bC6L",
        "outputId": "1dcebede-28cc-47a0-b309-945ebd002d91"
      },
      "source": [
        "b[1:3:,2:-1]"
      ],
      "execution_count": null,
      "outputs": [
        {
          "output_type": "execute_result",
          "data": {
            "text/plain": [
              "array([[ 6],\n",
              "       [10]])"
            ]
          },
          "metadata": {
            "tags": []
          },
          "execution_count": 160
        }
      ]
    },
    {
      "cell_type": "markdown",
      "metadata": {
        "id": "Ki-cTlmxbiDo"
      },
      "source": [
        "##### Numpy 연산\n",
        "\n",
        "  - Numpy를 사용하면 배열간 연산을 손쉽게 수행할 수 있습니다.\n",
        "  - +, -, *, /의 연산자를 사용할 수 있으며, 또는 add(), subtract(), multiply(), divide() 함수를 사용할 수도 있습니다.\n",
        "\n",
        "    - addition\n",
        "<img src=\"https://cdn.kastatic.org/googleusercontent/1zwnERArTuwdXjBNj_s0PNa1oE58dMWqy_NTPUW2o0a2FtFbk1SAYRdHRTiLAR5FjEaN9-pdCqZscJ0qkPYiW8rk\">\n",
        "\n",
        "    - subtraction\n",
        "<img src=\"http://www.mathsisfun.com/algebra/images/matrix-subtraction.gif\">\n",
        "\n",
        "    - multiplication(Hadamard Product)\n",
        "<img src= \"https://miro.medium.com/max/1400/1*54rq3_-FZaJxKLdOYN8qjA.png\">\n",
        "\n",
        "\n",
        "\n",
        "  - 배열(행렬)의 곱은 일반적인 연산과 다르며 dot()을 사용\n",
        "\n",
        "  <img src= \"https://www.mathsisfun.com/algebra/images/matrix-multiply-a.svg\">\n",
        "\n",
        "\n",
        "\n",
        "  <img src =\"https://www.mathsisfun.com/algebra/images/matrix-multiply-c.svg\">\n",
        "\n",
        "\n",
        "<img src=\"https://i.ytimg.com/vi/uS3Ytql-efk/maxresdefault.jpg\">"
      ]
    },
    {
      "cell_type": "code",
      "metadata": {
        "colab": {
          "base_uri": "https://localhost:8080/"
        },
        "id": "ZnbVKUAGcPPq",
        "outputId": "b436472a-7f6b-4093-d367-fe99a6a20767"
      },
      "source": [
        "x = np.array([4,5,6])\n",
        "y = np.array([1,2,3])\n",
        "x, y"
      ],
      "execution_count": null,
      "outputs": [
        {
          "output_type": "execute_result",
          "data": {
            "text/plain": [
              "(array([4, 5, 6]), array([1, 2, 3]))"
            ]
          },
          "metadata": {
            "tags": []
          },
          "execution_count": 161
        }
      ]
    },
    {
      "cell_type": "code",
      "metadata": {
        "colab": {
          "base_uri": "https://localhost:8080/"
        },
        "id": "Jo3-5vB-iJ48",
        "outputId": "9df59307-bbba-4bdf-e0a5-7b75a38d1b69"
      },
      "source": [
        "x+y, np.add(x,y) # 요소별 합"
      ],
      "execution_count": null,
      "outputs": [
        {
          "output_type": "execute_result",
          "data": {
            "text/plain": [
              "(array([5, 7, 9]), array([5, 7, 9]))"
            ]
          },
          "metadata": {
            "tags": []
          },
          "execution_count": 162
        }
      ]
    },
    {
      "cell_type": "code",
      "metadata": {
        "colab": {
          "base_uri": "https://localhost:8080/"
        },
        "id": "Df--p6o7iREd",
        "outputId": "5b089b6d-da59-4566-adb0-3d43099e3612"
      },
      "source": [
        "x-y, np.subtract(x,y) # 요소별 빼기"
      ],
      "execution_count": null,
      "outputs": [
        {
          "output_type": "execute_result",
          "data": {
            "text/plain": [
              "(array([3, 3, 3]), array([3, 3, 3]))"
            ]
          },
          "metadata": {
            "tags": []
          },
          "execution_count": 163
        }
      ]
    },
    {
      "cell_type": "code",
      "metadata": {
        "colab": {
          "base_uri": "https://localhost:8080/"
        },
        "id": "dADdDfDpiS0m",
        "outputId": "e4ceba82-4458-426a-f039-feb5f9701bcb"
      },
      "source": [
        "x*y, np.multiply(x,y) # 요소별 곱(Hadamard Product)"
      ],
      "execution_count": null,
      "outputs": [
        {
          "output_type": "execute_result",
          "data": {
            "text/plain": [
              "(array([ 4, 10, 18]), array([ 4, 10, 18]))"
            ]
          },
          "metadata": {
            "tags": []
          },
          "execution_count": 164
        }
      ]
    },
    {
      "cell_type": "code",
      "metadata": {
        "colab": {
          "base_uri": "https://localhost:8080/"
        },
        "id": "6ypzY_hpizhM",
        "outputId": "708c74b4-dd0e-4ff2-a12f-e6a91ead99d1"
      },
      "source": [
        "x/y, np.divide(x,y) # 요소별 나누기"
      ],
      "execution_count": null,
      "outputs": [
        {
          "output_type": "execute_result",
          "data": {
            "text/plain": [
              "(array([4. , 2.5, 2. ]), array([4. , 2.5, 2. ]))"
            ]
          },
          "metadata": {
            "tags": []
          },
          "execution_count": 165
        }
      ]
    },
    {
      "cell_type": "code",
      "metadata": {
        "id": "P5N3OXti8HXp"
      },
      "source": [
        ""
      ],
      "execution_count": null,
      "outputs": []
    },
    {
      "cell_type": "markdown",
      "metadata": {
        "id": "0ZuANwGS9Avh"
      },
      "source": [
        "##### np.dot()"
      ]
    },
    {
      "cell_type": "code",
      "metadata": {
        "colab": {
          "base_uri": "https://localhost:8080/"
        },
        "id": "cLOMtH6T9rAz",
        "outputId": "af7ef003-87cb-4082-b5c0-2ee0c6732594"
      },
      "source": [
        "# Dot product\n",
        "np.dot(x,y), x @ y"
      ],
      "execution_count": null,
      "outputs": [
        {
          "output_type": "execute_result",
          "data": {
            "text/plain": [
              "(32, 32)"
            ]
          },
          "metadata": {
            "tags": []
          },
          "execution_count": 166
        }
      ]
    },
    {
      "cell_type": "code",
      "metadata": {
        "colab": {
          "base_uri": "https://localhost:8080/"
        },
        "id": "nwk5SnCAlsa_",
        "outputId": "6e91e943-8254-4fd1-ac84-90ca270ba610"
      },
      "source": [
        "#### Dot Product\n",
        "\n",
        "a = np.ones((2,3))\n",
        "b = np.ones((2,3))\n",
        "\n",
        "c1 = np.dot(a,np.transpose(b))\n",
        "c2 = a @ np.transpose(b)\n",
        "print(c1, newline, c2)\n",
        "\n",
        "print(newline)\n",
        "d1 = np.dot(np.transpose(a), b)\n",
        "d2 = np.transpose(a) @ b\n",
        "print(d1, newline, d2)"
      ],
      "execution_count": null,
      "outputs": [
        {
          "output_type": "stream",
          "text": [
            "[[3. 3.]\n",
            " [3. 3.]] \n",
            " [[3. 3.]\n",
            " [3. 3.]]\n",
            "\n",
            "\n",
            "[[2. 2. 2.]\n",
            " [2. 2. 2.]\n",
            " [2. 2. 2.]] \n",
            " [[2. 2. 2.]\n",
            " [2. 2. 2.]\n",
            " [2. 2. 2.]]\n"
          ],
          "name": "stdout"
        }
      ]
    },
    {
      "cell_type": "markdown",
      "metadata": {
        "id": "D6M3Ebok_d_T"
      },
      "source": [
        "#### 맷플롯립(Matplotlib)\n",
        "\n",
        "  - 데이터를 차트(chart)나 플롯(plot)으로 시각화(visulaization)하는 패키지입니다. \n",
        "  - 데이터 분석에서 데이터 분석 이전에 데이터 이해를 위한 시각화나, 데이터 분석 후에 결과를 시각화하기 위해서 사용\n",
        "  - 설치\n",
        "```\n",
        "!pip install matplotlib\n",
        "```"
      ]
    },
    {
      "cell_type": "code",
      "metadata": {
        "colab": {
          "base_uri": "https://localhost:8080/",
          "height": 36
        },
        "id": "sTT9lwbMAfMl",
        "outputId": "9f4c1087-66ce-471a-d31e-32fd770b7339"
      },
      "source": [
        "import matplotlib as mpl\n",
        "import matplotlib.pyplot as plt\n",
        "mpl.__version__"
      ],
      "execution_count": null,
      "outputs": [
        {
          "output_type": "execute_result",
          "data": {
            "application/vnd.google.colaboratory.intrinsic+json": {
              "type": "string"
            },
            "text/plain": [
              "'3.2.2'"
            ]
          },
          "metadata": {
            "tags": []
          },
          "execution_count": 168
        }
      ]
    },
    {
      "cell_type": "code",
      "metadata": {
        "colab": {
          "base_uri": "https://localhost:8080/",
          "height": 281
        },
        "id": "TeN8o6LhAyri",
        "outputId": "b828151c-ea3f-4689-a9e0-4dc39ef8b7f6"
      },
      "source": [
        "# 라인 플롯 그리기\n",
        "\n",
        "plt.title('test')\n",
        "plt.plot([1,2,3,4],[2,4,8,6])\n",
        "plt.show()  # Notebook 환경에서는 생략가능"
      ],
      "execution_count": null,
      "outputs": [
        {
          "output_type": "display_data",
          "data": {
            "image/png": "[encoded data removed]",
            "text/plain": [
              "<Figure size 432x288 with 1 Axes>"
            ]
          },
          "metadata": {
            "tags": [],
            "needs_background": "light"
          }
        }
      ]
    },
    {
      "cell_type": "code",
      "metadata": {
        "colab": {
          "base_uri": "https://localhost:8080/",
          "height": 314
        },
        "id": "nk18eKs8BMbC",
        "outputId": "883babff-2fa4-4ac5-d57d-24598399e852"
      },
      "source": [
        "# 축 레이블 삽입하기\n",
        "\n",
        "plt.title('test')\n",
        "plt.plot([1,2,3,4],[2,4,8,6])\n",
        "plt.xlabel('hours')\n",
        "plt.ylabel('score')\n",
        "# plt.show()"
      ],
      "execution_count": null,
      "outputs": [
        {
          "output_type": "execute_result",
          "data": {
            "text/plain": [
              "Text(0, 0.5, 'score')"
            ]
          },
          "metadata": {
            "tags": []
          },
          "execution_count": 170
        },
        {
          "output_type": "display_data",
          "data": {
            "image/png": "[encoded data removed]",
            "text/plain": [
              "<Figure size 432x288 with 1 Axes>"
            ]
          },
          "metadata": {
            "tags": [],
            "needs_background": "light"
          }
        }
      ]
    },
    {
      "cell_type": "code",
      "metadata": {
        "colab": {
          "base_uri": "https://localhost:8080/",
          "height": 295
        },
        "id": "PUvCJ6pxBjx2",
        "outputId": "16b15d16-3905-4292-8142-8c7f90317461"
      },
      "source": [
        "# 라인 추가와 범례 삽입하기: 여러개의 라인\n",
        "\n",
        "plt.title('students')\n",
        "plt.plot([1,2,3,4],[2,4,8,6])\n",
        "plt.plot([1.5,2.5,3.5,4.5],[3,5,8,10]) #라인 새로 추가\n",
        "plt.xlabel('hours')\n",
        "plt.ylabel('score')\n",
        "plt.legend(['A student', 'B student']) #범례 삽입\n",
        "plt.show()"
      ],
      "execution_count": null,
      "outputs": [
        {
          "output_type": "display_data",
          "data": {
            "image/png": "[encoded data removed]",
            "text/plain": [
              "<Figure size 432x288 with 1 Axes>"
            ]
          },
          "metadata": {
            "tags": [],
            "needs_background": "light"
          }
        }
      ]
    },
    {
      "cell_type": "code",
      "metadata": {
        "id": "W6uTS7M3BsWZ"
      },
      "source": [
        ""
      ],
      "execution_count": null,
      "outputs": []
    },
    {
      "cell_type": "markdown",
      "metadata": {
        "id": "dkpfAZgFY4hG"
      },
      "source": [
        "# Python String 처리 예제\n"
      ]
    },
    {
      "cell_type": "code",
      "metadata": {
        "id": "7gXKJ2H15wF_"
      },
      "source": [
        "s = \"No pain no gain\""
      ],
      "execution_count": null,
      "outputs": []
    },
    {
      "cell_type": "code",
      "metadata": {
        "id": "eDpKqMwU6G6M",
        "scrolled": true,
        "colab": {
          "base_uri": "https://localhost:8080/"
        },
        "outputId": "ab105c7b-25a7-44c4-985a-52dadd76dfed"
      },
      "source": [
        "'gain' in s"
      ],
      "execution_count": null,
      "outputs": [
        {
          "output_type": "execute_result",
          "data": {
            "text/plain": [
              "True"
            ]
          },
          "metadata": {
            "tags": []
          },
          "execution_count": 173
        }
      ]
    },
    {
      "cell_type": "code",
      "metadata": {
        "id": "1kXoIXAD6a7J",
        "colab": {
          "base_uri": "https://localhost:8080/"
        },
        "outputId": "f10290aa-80a7-49ca-f19c-820348870375"
      },
      "source": [
        "s.split()"
      ],
      "execution_count": null,
      "outputs": [
        {
          "output_type": "execute_result",
          "data": {
            "text/plain": [
              "['No', 'pain', 'no', 'gain']"
            ]
          },
          "metadata": {
            "tags": []
          },
          "execution_count": 174
        }
      ]
    },
    {
      "cell_type": "code",
      "metadata": {
        "id": "71btJnM_6Jp5",
        "colab": {
          "base_uri": "https://localhost:8080/"
        },
        "outputId": "0e6d6ca7-9172-4cc8-bbd5-33d8d2e2e651"
      },
      "source": [
        "s.split().index('no')    "
      ],
      "execution_count": null,
      "outputs": [
        {
          "output_type": "execute_result",
          "data": {
            "text/plain": [
              "2"
            ]
          },
          "metadata": {
            "tags": []
          },
          "execution_count": 175
        }
      ]
    },
    {
      "cell_type": "code",
      "metadata": {
        "id": "IRcGQS4h6nnH",
        "colab": {
          "base_uri": "https://localhost:8080/",
          "height": 36
        },
        "outputId": "e5b7f9f8-7836-4932-f3a9-5f26a8082e36"
      },
      "source": [
        "s.split()[1]"
      ],
      "execution_count": null,
      "outputs": [
        {
          "output_type": "execute_result",
          "data": {
            "application/vnd.google.colaboratory.intrinsic+json": {
              "type": "string"
            },
            "text/plain": [
              "'pain'"
            ]
          },
          "metadata": {
            "tags": []
          },
          "execution_count": 176
        }
      ]
    },
    {
      "cell_type": "code",
      "metadata": {
        "id": "igK5VIBI6PMo",
        "colab": {
          "base_uri": "https://localhost:8080/",
          "height": 36
        },
        "outputId": "862c4f5f-48f5-4bad-fada-befaeee4572f"
      },
      "source": [
        "s.split()[1][::-1]"
      ],
      "execution_count": null,
      "outputs": [
        {
          "output_type": "execute_result",
          "data": {
            "application/vnd.google.colaboratory.intrinsic+json": {
              "type": "string"
            },
            "text/plain": [
              "'niap'"
            ]
          },
          "metadata": {
            "tags": []
          },
          "execution_count": 177
        }
      ]
    },
    {
      "cell_type": "code",
      "metadata": {
        "id": "bjIMwR776SIv"
      },
      "source": [
        "t =\"한글도 처리 가능\""
      ],
      "execution_count": null,
      "outputs": []
    },
    {
      "cell_type": "code",
      "metadata": {
        "id": "lqk6iozeks2f",
        "colab": {
          "base_uri": "https://localhost:8080/"
        },
        "outputId": "ae181d3f-ebdf-4855-dbcf-975eb03e9673"
      },
      "source": [
        "t.split()"
      ],
      "execution_count": null,
      "outputs": [
        {
          "output_type": "execute_result",
          "data": {
            "text/plain": [
              "['한글도', '처리', '가능']"
            ]
          },
          "metadata": {
            "tags": []
          },
          "execution_count": 179
        }
      ]
    },
    {
      "cell_type": "code",
      "metadata": {
        "id": "KLusoOBWkvhI",
        "colab": {
          "base_uri": "https://localhost:8080/"
        },
        "outputId": "f4606855-3ff3-4e29-a150-f52f17355387"
      },
      "source": [
        "'처리' in t"
      ],
      "execution_count": null,
      "outputs": [
        {
          "output_type": "execute_result",
          "data": {
            "text/plain": [
              "True"
            ]
          },
          "metadata": {
            "tags": []
          },
          "execution_count": 180
        }
      ]
    },
    {
      "cell_type": "code",
      "metadata": {
        "id": "dy75iFEMkycR",
        "colab": {
          "base_uri": "https://localhost:8080/",
          "height": 36
        },
        "outputId": "0a3bf0b9-470e-4802-bdcc-adc8282a338c"
      },
      "source": [
        "t.split()[-1][::-1]"
      ],
      "execution_count": null,
      "outputs": [
        {
          "output_type": "execute_result",
          "data": {
            "application/vnd.google.colaboratory.intrinsic+json": {
              "type": "string"
            },
            "text/plain": [
              "'능가'"
            ]
          },
          "metadata": {
            "tags": []
          },
          "execution_count": 181
        }
      ]
    },
    {
      "cell_type": "markdown",
      "metadata": {
        "id": "2gZVTb1OTH1P"
      },
      "source": [
        "# 영어 처리"
      ]
    },
    {
      "cell_type": "markdown",
      "metadata": {
        "id": "Hjbdn4imTH1Q"
      },
      "source": [
        "#### 대소문자 통합"
      ]
    },
    {
      "cell_type": "markdown",
      "metadata": {
        "id": "E6nmjl0zTH1Q"
      },
      "source": [
        "* 대소문자를 통합하지 않는다면 컴퓨터는 같은 단어를 다르게 받아들임\n",
        "* 파이썬의 내장 함수 `lower()`, `upper()`를 통해 간단하게 통합 가능"
      ]
    },
    {
      "cell_type": "code",
      "metadata": {
        "id": "Csti2comTH1Q",
        "colab": {
          "base_uri": "https://localhost:8080/"
        },
        "outputId": "1e550cdd-0647-45df-db4d-9fc2e4c77d78"
      },
      "source": [
        "s='AbcDefGHJijK'\n",
        "\n",
        "print(s.lower())\n",
        "print(s.upper())\n",
        "print(s.capitalize())"
      ],
      "execution_count": null,
      "outputs": [
        {
          "output_type": "stream",
          "text": [
            "abcdefghjijk\n",
            "ABCDEFGHJIJK\n",
            "Abcdefghjijk\n"
          ],
          "name": "stdout"
        }
      ]
    },
    {
      "cell_type": "markdown",
      "metadata": {
        "id": "BADmUWurTH1Q"
      },
      "source": [
        "### 정규화(Normalization)"
      ]
    },
    {
      "cell_type": "code",
      "metadata": {
        "id": "aromlWYaTH1Q",
        "colab": {
          "base_uri": "https://localhost:8080/"
        },
        "outputId": "83082fb4-f772-4175-e951-c0ecf1c86d64"
      },
      "source": [
        "s = 'I visited UK from US on 22-09-20'\n",
        "print(s)"
      ],
      "execution_count": null,
      "outputs": [
        {
          "output_type": "stream",
          "text": [
            "I visited UK from US on 22-09-20\n"
          ],
          "name": "stdout"
        }
      ]
    },
    {
      "cell_type": "code",
      "metadata": {
        "id": "6d92Te6lTH1Q",
        "colab": {
          "base_uri": "https://localhost:8080/"
        },
        "outputId": "97ae3cea-25b2-419c-8794-f28ec77e65da"
      },
      "source": [
        "s = s.replace('UK', 'United Kindom').replace('US','United States').replace('-20','-2020')\n",
        "print(s)"
      ],
      "execution_count": null,
      "outputs": [
        {
          "output_type": "stream",
          "text": [
            "I visited United Kindom from United States on 22-09-2020\n"
          ],
          "name": "stdout"
        }
      ]
    },
    {
      "cell_type": "markdown",
      "metadata": {
        "id": "mwfz36YS1FCU"
      },
      "source": [
        "### 정규표현식"
      ]
    },
    {
      "cell_type": "markdown",
      "metadata": {
        "id": "myBZJRSL1JLE"
      },
      "source": [
        "* 정규 표현식은 특정 문자들을 편리하게 지정하고 추가, 삭제 가능\n",
        "* 데이터 전처리에서 정규 표현식을 많이 사용\n",
        "* 파이썬에서는 정규 표현식을 지원하는 `re` 패키지 제공"
      ]
    },
    {
      "cell_type": "markdown",
      "metadata": {
        "id": "lLT-dbGQ1NSe"
      },
      "source": [
        "* 정규 표현식 문법\n",
        "  \n",
        "| 특수문자 | 설명 |\n",
        "| - | - |\n",
        "| `.` | 앞의 문자 1개를 표현 |\n",
        "| `?` | 문자 한개를 표현하나 존재할 수도, 존재하지 않을 수도 있음(0개 또는 1개) |\n",
        "| `*` | 앞의 문자가 0개 이상 |\n",
        "| `+` | 앞의 문자가 최소 1개 이상 |\n",
        "| `^` | 뒤의 문자로 문자열이 시작 |\n",
        "| `\\$` | 앞의 문자로 문자열이 끝남 |\n",
        "| `\\{n\\}` | `n`번만큼 반복 |\n",
        "| `\\{n1, n2\\}` | `n1` 이상, `n2` 이하만큼 반복, n2를 지정하지 않으면 `n1` 이상만 반복 |\n",
        "| `\\[ abc \\]` | 안에 문자들 중 한 개의 문자와 매치, a-z처럼 범위도 지정 가능 |\n",
        "| `\\[ ^a \\]` | 해당 문자를 제외하고 매치 |\n",
        "| `a\\|b` | `a` 또는 `b`를 나타냄 |"
      ]
    },
    {
      "cell_type": "markdown",
      "metadata": {
        "id": "JGv0DLZu1PqE"
      },
      "source": [
        "* 정규 표현식에 자주 사용하는 역슬래시(\\\\)를 이용한 문자 규칙\n",
        "\n",
        "| 문자 | 설명 |\n",
        "| - | - |\n",
        "| `\\\\` | 역슬래시 자체를 의미 |\n",
        "| `\\d` | 모든 숫자를 의미, [0-9]와 동일 |\n",
        "| `\\D` | 숫자를 제외한 모든 문자를 의미, [^0-9]와 동일 |\n",
        "| `\\s` | 공백을 의미, [ \\t\\n\\r\\f\\v]와 동일|\n",
        "| `\\S` | 공백을 제외한 모든 문자를 의미, [^ \\t\\n\\r\\f\\v]와 동일 |\n",
        "| `\\w` | 문자와 숫자를 의미, [a-zA-Z0-9]와 동일 |\n",
        "| `\\W` | 문자와 숫자를 제외한 다른 문자를 의미, [^a-zA-Z0-9]와 동일 |"
      ]
    },
    {
      "cell_type": "markdown",
      "metadata": {
        "id": "CEIH8rWo1bJf"
      },
      "source": [
        "#### match\n",
        "\n",
        "* 컴파일한 정규 표현식을 이용해 문자열이 정규 표현식과 맞는지 검사"
      ]
    },
    {
      "cell_type": "code",
      "metadata": {
        "id": "V8UD0NCw8UVm"
      },
      "source": [
        "import re"
      ],
      "execution_count": null,
      "outputs": []
    },
    {
      "cell_type": "code",
      "metadata": {
        "id": "X6fNP47VBaxg",
        "colab": {
          "base_uri": "https://localhost:8080/"
        },
        "outputId": "1078ae7c-3185-42d2-b7f6-936be27e3fc3"
      },
      "source": [
        "check = 'ab.'\n",
        "\n",
        "print(re.match(check,'abbb '))\n",
        "print(re.match(check,'ab '))\n",
        "print(re.match(check,'abc'))\n",
        "print(re.match(check,'abcd '))\n",
        "print(re.match(check,'cab '))\n",
        "print(re.match(check,'xabc'))"
      ],
      "execution_count": null,
      "outputs": [
        {
          "output_type": "stream",
          "text": [
            "<re.Match object; span=(0, 3), match='abb'>\n",
            "<re.Match object; span=(0, 3), match='ab '>\n",
            "<re.Match object; span=(0, 3), match='abc'>\n",
            "<re.Match object; span=(0, 3), match='abc'>\n",
            "None\n",
            "None\n"
          ],
          "name": "stdout"
        }
      ]
    },
    {
      "cell_type": "code",
      "metadata": {
        "id": "lxzhmTi11wS1",
        "scrolled": true,
        "colab": {
          "base_uri": "https://localhost:8080/"
        },
        "outputId": "69be0352-0067-432f-8086-e8e670162bb2"
      },
      "source": [
        "check = 'x+ab.'\n",
        "\n",
        "print(re.match(check,'abbb '))\n",
        "print(re.match(check,'ab '))\n",
        "print(re.match(check,'abc'))\n",
        "print(re.match(check,'abcd '))\n",
        "print(re.match(check,'cab '))\n",
        "print(re.match(check,'xabc'))"
      ],
      "execution_count": null,
      "outputs": [
        {
          "output_type": "stream",
          "text": [
            "None\n",
            "None\n",
            "None\n",
            "None\n",
            "None\n",
            "<re.Match object; span=(0, 4), match='xabc'>\n"
          ],
          "name": "stdout"
        }
      ]
    },
    {
      "cell_type": "code",
      "metadata": {
        "id": "8sVBdw1zBaxg",
        "colab": {
          "base_uri": "https://localhost:8080/"
        },
        "outputId": "66fd07ff-4459-4d01-8fd4-084562c47ea8"
      },
      "source": [
        "check = 'x*ab.'\n",
        "\n",
        "print(re.match(check,'abbb '))\n",
        "print(re.match(check,'ab '))\n",
        "print(re.match(check,'abc'))\n",
        "print(re.match(check,'abcd '))\n",
        "print(re.match(check,'cab '))\n",
        "print(re.match(check,'xabc'))"
      ],
      "execution_count": null,
      "outputs": [
        {
          "output_type": "stream",
          "text": [
            "<re.Match object; span=(0, 3), match='abb'>\n",
            "<re.Match object; span=(0, 3), match='ab '>\n",
            "<re.Match object; span=(0, 3), match='abc'>\n",
            "<re.Match object; span=(0, 3), match='abc'>\n",
            "None\n",
            "<re.Match object; span=(0, 4), match='xabc'>\n"
          ],
          "name": "stdout"
        }
      ]
    },
    {
      "cell_type": "code",
      "metadata": {
        "id": "ietbgO2DBaxg",
        "colab": {
          "base_uri": "https://localhost:8080/"
        },
        "outputId": "ba4b755f-ce96-461f-9a27-afff617ab79e"
      },
      "source": [
        "check = '^xab.'\n",
        "\n",
        "print(re.match(check,'abbb '))\n",
        "print(re.match(check,'ab '))\n",
        "print(re.match(check,'abc'))\n",
        "print(re.match(check,'abcd '))\n",
        "print(re.match(check,'cab '))\n",
        "print(re.match(check,'xabc'))"
      ],
      "execution_count": null,
      "outputs": [
        {
          "output_type": "stream",
          "text": [
            "None\n",
            "None\n",
            "None\n",
            "None\n",
            "None\n",
            "<re.Match object; span=(0, 4), match='xabc'>\n"
          ],
          "name": "stdout"
        }
      ]
    },
    {
      "cell_type": "markdown",
      "metadata": {
        "id": "lICVJ-q_1c_M"
      },
      "source": [
        "#### compile\n",
        "\n",
        "* compile을 사용하면 여러 번 사용할 경우 일반 사용보다 더 빠른 속도를 보임\n",
        "* compile을 통해 정규 표현식을 사용할 경우 `re`가 아닌 컴파일한 객체 이름을 통해 사용해야 함\n"
      ]
    },
    {
      "cell_type": "code",
      "metadata": {
        "id": "jDTSl5S31wms",
        "colab": {
          "base_uri": "https://localhost:8080/"
        },
        "outputId": "42cd5beb-cb69-4a93-95c7-6a11cfe0f35b"
      },
      "source": [
        "import time\n",
        "\n",
        "start1 = time.time()\n",
        "check='ab.'\n",
        "for i in range(1000):\n",
        "    re.match(check,'abc')\n",
        "print('일반 사용시 소요 시간: ', time.time()-start1)\n",
        "\n",
        "start2 = time.time()\n",
        "check = re.compile('ab.')\n",
        "for i in range(1000):\n",
        "    check.match('abc')    \n",
        "print('컴파일 사용시 소요 시간: ', time.time()-start2)"
      ],
      "execution_count": null,
      "outputs": [
        {
          "output_type": "stream",
          "text": [
            "일반 사용시 소요 시간:  0.0009055137634277344\n",
            "컴파일 사용시 소요 시간:  0.00028204917907714844\n"
          ],
          "name": "stdout"
        }
      ]
    },
    {
      "cell_type": "markdown",
      "metadata": {
        "id": "Z6OcEzN81fNV"
      },
      "source": [
        "#### search\n",
        "\n",
        "* match와 다르게, search는 문자열의 전체를 검사"
      ]
    },
    {
      "cell_type": "code",
      "metadata": {
        "id": "Mg1iU0Kg1w70",
        "colab": {
          "base_uri": "https://localhost:8080/"
        },
        "outputId": "d8b35c4c-c157-4444-d9c6-4bb4683717d7"
      },
      "source": [
        "check='ab?'\n",
        "\n",
        "print(re.search('a', check))\n",
        "print(re.match('kkkab', check))\n",
        "print(re.search('kkkab', check))\n",
        "print(re.match('ab', check))"
      ],
      "execution_count": null,
      "outputs": [
        {
          "output_type": "stream",
          "text": [
            "<re.Match object; span=(0, 1), match='a'>\n",
            "None\n",
            "None\n",
            "<re.Match object; span=(0, 2), match='ab'>\n"
          ],
          "name": "stdout"
        }
      ]
    },
    {
      "cell_type": "markdown",
      "metadata": {
        "id": "Nmkvc1741g5P"
      },
      "source": [
        "#### split\n",
        "\n",
        "* 정규표현식에 해당하는 문자열을 기준으로 문자열을 나눔"
      ]
    },
    {
      "cell_type": "code",
      "metadata": {
        "id": "6bLf5Hgs1xZk",
        "colab": {
          "base_uri": "https://localhost:8080/"
        },
        "outputId": "9b0fc714-6c16-4637-bd25-3b6ba97f1bbf"
      },
      "source": [
        "r = re.compile(' ')\n",
        "print(r.split('abc abbc abcbab'))\n",
        "\n",
        "r = re.compile('c')\n",
        "print(r.split('abc abbc abcbab'))\n",
        "\n",
        "r = re.compile('[1-9]')\n",
        "print(r.split('s1abc 2v3s 4sss 5a'))"
      ],
      "execution_count": null,
      "outputs": [
        {
          "output_type": "stream",
          "text": [
            "['abc', 'abbc', 'abcbab']\n",
            "['ab', ' abb', ' ab', 'bab']\n",
            "['s', 'abc ', 'v', 's ', 'sss ', 'a']\n"
          ],
          "name": "stdout"
        }
      ]
    },
    {
      "cell_type": "markdown",
      "metadata": {
        "id": "fTor-yg_1h49"
      },
      "source": [
        "#### sub\n",
        "\n",
        "* 정규 표현식과 일치하는 부분을 다른 문자열로 교체\n"
      ]
    },
    {
      "cell_type": "code",
      "metadata": {
        "id": "ZlqOk9DY1xtF",
        "colab": {
          "base_uri": "https://localhost:8080/"
        },
        "outputId": "fd43c06e-a0bd-4782-f3ae-3954d7a101cf"
      },
      "source": [
        "print(re.sub('[a-z]', 'abcdefg','1'))\n"
      ],
      "execution_count": null,
      "outputs": [
        {
          "output_type": "stream",
          "text": [
            "1\n"
          ],
          "name": "stdout"
        }
      ]
    },
    {
      "cell_type": "markdown",
      "metadata": {
        "id": "BUzY6Vz31i8U"
      },
      "source": [
        "#### findall\n",
        "\n",
        "* 컴파일한 정규 표현식을 이용해 정규 표현식과 맞는 모든 문자(열)을 리스트로 반환\n"
      ]
    },
    {
      "cell_type": "code",
      "metadata": {
        "id": "Osi3UYYv1yHP",
        "colab": {
          "base_uri": "https://localhost:8080/"
        },
        "outputId": "7aaebab4-4efd-4d75-d228-4b42bb5bbc7a"
      },
      "source": [
        "print(re.findall('[\\d]', '1ab 2cd 3ef 4g')) # 모든 숫자를 의미, [0-9]와 동일\n",
        "print(re.findall('[\\W]', '!abcd@@#'))       # \\W: 문자와 숫자를 제외한 다른 문자를 의미, [^a-zA-Z0-9]와 동일"
      ],
      "execution_count": null,
      "outputs": [
        {
          "output_type": "stream",
          "text": [
            "['1', '2', '3', '4']\n",
            "['!', '@', '@', '#']\n"
          ],
          "name": "stdout"
        }
      ]
    },
    {
      "cell_type": "markdown",
      "metadata": {
        "id": "NxLLmwJu1kTt"
      },
      "source": [
        "#### finditer\n",
        "\n",
        "* 컴파일한 정규 표현식을 이용해 정규 표현식과 맞는 모든 문자(열)을 `iterator` 객체로 반환\n",
        "* `iterator` 객체를 이용하면 생성된 객체를 하나씩 자동으로 가져올 수 있어 처리가 간편함"
      ]
    },
    {
      "cell_type": "code",
      "metadata": {
        "id": "6NOFG3Hy1ycd",
        "colab": {
          "base_uri": "https://localhost:8080/"
        },
        "outputId": "df0e2eef-5a9d-4e0a-dca6-062d59b0eb6f"
      },
      "source": [
        "iter1 = re.finditer('[\\d]', '1ab 2cd 3ef 4g')\n",
        "print(iter1)\n",
        "for i in iter1:\n",
        "    print(i)\n",
        "\n",
        "iter2 = re.finditer('[\\W]', '!abcd@@#')\n",
        "print(iter2)\n",
        "for i in iter2:\n",
        "    print(i)"
      ],
      "execution_count": null,
      "outputs": [
        {
          "output_type": "stream",
          "text": [
            "<callable_iterator object at 0x7fe93811d850>\n",
            "<re.Match object; span=(0, 1), match='1'>\n",
            "<re.Match object; span=(4, 5), match='2'>\n",
            "<re.Match object; span=(8, 9), match='3'>\n",
            "<re.Match object; span=(12, 13), match='4'>\n",
            "<callable_iterator object at 0x7fe93811dc10>\n",
            "<re.Match object; span=(0, 1), match='!'>\n",
            "<re.Match object; span=(5, 6), match='@'>\n",
            "<re.Match object; span=(6, 7), match='@'>\n",
            "<re.Match object; span=(7, 8), match='#'>\n"
          ],
          "name": "stdout"
        }
      ]
    },
    {
      "cell_type": "markdown",
      "metadata": {
        "id": "AYrek3yZVkMy"
      },
      "source": [
        "# 자연어처리(NLP)가 한국어에서 특히 어려운 4가지 이유\n",
        "\n",
        "0.모호성(Ambiguity)\n",
        "\n",
        "  - 표현의 중의성\n",
        "\n",
        "  <img src=\"https://media.fastcampus.co.kr/wp-content/uploads/2021/02/nlp_img_5.png\">\n",
        "\n",
        "  - 문장 내 정보 부족\n",
        "\n",
        "  <img src=\"https://media.fastcampus.co.kr/wp-content/uploads/2021/02/nlp_img_6.png\">\n",
        "\n",
        "  - 같은 정보를 다르게 표현하기(Paraphrase)\n",
        "\n",
        "  <img src=\"https://media.fastcampus.co.kr/wp-content/uploads/2021/02/nlp_img_1-1030x539.png\">\n",
        "\n",
        "  ````\n",
        "      문장 1\t여자가 김치를 어떤 남자에게 집어 던지고 있다.\n",
        "      문장 2\t여자가 어떤 남자에게 김치로 때리고 있다.\n",
        "      문장 3\t여자가 김치로 싸대기를 날리고 있다.\n",
        "      문장 4\t여자가 배추 김치 한 포기로 남자를 때리고 있다.\n",
        "  ````\n",
        "\n",
        "**왜 ‘한국어’ 자연어 처리는 유독 어려울까?**\n",
        "\n",
        "  이는 각 나라별 언어가 가지고 있는 특징이 다르기 때문인데요. 한국어는 어간에 접사가 붙어 의미와 문법적 기능이 변화하는 ‘교착어’에 속합니다.\n",
        "\n",
        "\n",
        "| |\t대표 언어\t| 특징 |\n",
        "| --- | --- | --- |\n",
        "|교착어|\t한국어, 일본어, 몽골어|\t어간에 접사가 붙어, 단어를 이루고 의미와 문법적 기능이 정해짐|\n",
        "|굴절어|\t라틴어, 독일어, 러시아어 | 단어의 형태가 변함으로써 문법적 기능이 정해짐|\n",
        "|고립어|\t영어, 중국어 |\t어순에 따라 단어의 문법적 기능이 정해짐 |\n",
        "\n",
        "1.접사 추가에 따른 의미 발생\n",
        "```\n",
        "   사과(어간)’ + ‘를(접사)’일 때는 ‘사과’가 목적어가 되지만, ‘사과(어간)’ + ‘가(접사)’일 때는 \n",
        "   '사과’가 주어가 되어 같은 언어도 문법적 기능이 달라지는 걸 알 수 있습니다.\n",
        "   ```\n",
        "\n",
        "    ```\n",
        "      원형    피동    높임     과거   추측   전달           결과    \n",
        "\n",
        "      잡                                         +다        잡다\n",
        "      잡      +히                                +다        잡히다\n",
        "      잡      +히      +시                       +다        잡히시다\n",
        "      잡      +히      +시     +었               +다        잡히셨다\n",
        "      잡                       +았(었)           +다        잡았다\n",
        "      잡                               +겠       +다        잡겠다\n",
        "      잡                                         +더라      잡더라\n",
        "      잡      +히              +었               +다        잡혔다\n",
        "      잡      +히              +었     +겠       +다        잡혔겠다\n",
        "      잡      +히              +었     +겠       +더라      잡혔겠더라\n",
        "      잡                       +았(었) +겠       +다        잡았겠다\n",
        "      잡      +히      +시     +았(었) +겠       +더라      잡히시었겠더라\n",
        "    ```     \n",
        "\n",
        "2.유연한 단어 순서: 한국어는 단어의 순서를 바꾸어도 맥락을 이해하는데 문제가 없습니다\n",
        "  \n",
        "    ```\n",
        "      1.       나는 밥을 먹으러 간다.     O\n",
        "      2.       간다 나는 밥을 먹으러.     0\n",
        "      3.       먹으러 간다 나는 밥을.     O\n",
        "      4.       밥을 먹으러 간다 나는.     O\n",
        "      5.       나는 먹으러 간다 밥을.     O\n",
        "      6.       나는 간다 밥을 먹으러.     O\n",
        "      7.       간다 밥을 먹으러 나는.     O\n",
        "      8.       간다 먹으러 나는 밥을.     O\n",
        "      9.       먹으러 나는 밥을 간다.     X\n",
        "     10.       먹으러 밥을 간다 나는.     X\n",
        "     11.       밥을 간다 나는 먹으러.     X\n",
        "     12.       밥을 나는 먹으러 간다.     O\n",
        "     13.       나는 밥을 간다 먹으러.     X\n",
        "     14.       간다 나는 먹으러 밥을.     O\n",
        "     15.       먹으러 간다 밥을 나는.     O\n",
        "     16.       밥을 먹으러 나는 간다.     O\n",
        "    ....\n",
        "    ```\n",
        "\n",
        "3.모호한 띄어쓰기 규칙: \n",
        "  \n",
        "    근대 이전까지 동양의 언어에는 ‘띄어쓰기’ 개념이 존재하지 않았습니다.  한국어는 맞춤법 상 띄어쓰기 규칙이 정해져 있기는 하나, 띄어쓰기를 지키지 않아도 문장의 맥락을 이해하는데 큰 무리가 없는 언어입니다. 문제는 사람들이 띄어쓰기를 지키지 않고 뭉텅이로 작성한 텍스트를 컴퓨터가 정확하게 인식하는 것이 어렵다는 점입니다.\n",
        "\n",
        "4.평서문과 의문문의 차이 없음, 주어 부재\n",
        "  \n",
        "   - 영어:\t I had lunch. vs  Did you have lunch? \n",
        "   - 한국어: 점심 먹었어. vs\t점심 먹었어?\n",
        "\n",
        "\n",
        "\n",
        "\n",
        "\n",
        "\n",
        "\n"
      ]
    },
    {
      "cell_type": "markdown",
      "metadata": {
        "id": "cm_4xl_FaUQg"
      },
      "source": [
        "## Tokenize\n",
        "\n",
        "자연어 처리에서는 텍스트를 '토큰 단위'로 나눈다.\n",
        "\n",
        "'I am a student' 영어에서 토큰은 단순히 띄어쓰기를 해서 보면 되지만, 'i', 'am', 'a', 'student'\n",
        "\n",
        "한국어에서 띄어쓰기는 텍스트 의미를 구분하는데 큰 영향을 준다.\n",
        "\n",
        "  - 문맥이 없이 단순 띄어쓰기로만 토큰을 구분한다면, 그 의미의 구분이 명확하지가 않다.\n",
        "  ```\n",
        "  '학교종이 땡땡땡' -> '학교 종이' or '학교종이' ..?\n",
        "  ```\n",
        "\n",
        "  - 띄어쓰기에 따라 분석이 제대로 되지 않을 수 있다.\n",
        "  ```\n",
        "  '너무기대안하고갔나 재밌게봤다' -> '너', '무기', '대안', '하고', '갔나', '재밌게'\n",
        "  ```\n",
        "\n",
        "- 한국어 Tokenizer\n",
        "  - ADAMS.ai 의 띄어쓰기 API (Saltlux)\n",
        "  - RAWS (Real-time Automatic Word Segmentation)\n",
        "  - PyKoSpacing (w/ pre-trained embedding and weights)\n",
        "\n",
        "    대용량 코퍼스를 학습하여 만들어진 띄어쓰기 딥 러닝 모델로 준수한 성능\n",
        "  \n",
        "  - 부산대 맞춤법 검사기 (띄어쓰기만 반영)\n",
        "  - Daum 맞춤법 검사기 (띄어쓰기만 반영)\n",
        "  - 네이버 맞춤법 검사기: Py-Hanspell\n",
        "  - 핑퐁 ChatSpace\n"
      ]
    },
    {
      "cell_type": "markdown",
      "metadata": {
        "id": "5nw95DEWGJvP"
      },
      "source": [
        "# 한국어 전처리를 위한 기법들\n",
        "\n",
        "텍스트 데이터 관련 신경망 모델을 만들어야 한다.\n",
        "\n",
        "일단 그러면 많은 양의 텍스트, 즉 코퍼스(Corpus)가 필요할 것이다. 크롤링이나 오픈 데이터 등을 통해 일단 얻는다. 하지만 띄어쓰기가 잘못되 있는 것도 있을 것이고, 맞춤법이 틀린 것도 있을 것이다. 이렇게 사소한 차이도 임베딩 벡터로 보면 큰 차이일 수 있기 때문에 처음에 전처리를 잘하는 것이 중요하다.\n",
        "\n",
        "* Basic\n",
        " - 가장 기초적인 전처리\n",
        " - html tag 제거\n",
        " - 숫자 제거\n",
        " - Lowercasing\n",
        " - \"@%*=()/+ 와 같은 punctuation 제거\n",
        "* Spell check\n",
        " - 사전 기반의 오탈자 교정\n",
        " - 줄임말 원형 복원 (e.g. I'm not happy -> I am not happy)\n",
        " -  띄어쓰기\n",
        "* Part-of-Speech\n",
        " - 형태소 분석\n",
        " - Noun, Adjective, Verb, Adverb만 학습에 사용\n",
        "* Stemming\n",
        " - 형태소 분석 이후 동사 원형 복원\n",
        "* Stopwords\n",
        " - 불용어 제거\n",
        "* Negation\n",
        " - [논문](https://dl.acm.org/doi/pdf/10.5555/2392701.2392703)\n",
        " - 부정 표현에 대한 단순화 (e.g. I'm not happy -> I'm sad)\n",
        " - 한국어에서의 적용이 어려워, 추후 추가할 예정"
      ]
    }
  ]
}