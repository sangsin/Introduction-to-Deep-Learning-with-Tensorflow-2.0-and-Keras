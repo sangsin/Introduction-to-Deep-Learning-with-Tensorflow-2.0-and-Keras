{
  "nbformat": 4,
  "nbformat_minor": 0,
  "metadata": {
    "kernelspec": {
      "display_name": "Python [conda env:py2]",
      "language": "python",
      "name": "conda-env-py2-py"
    },
    "language_info": {
      "codemirror_mode": {
        "name": "ipython",
        "version": 2
      },
      "file_extension": ".py",
      "mimetype": "text/x-python",
      "name": "python",
      "nbconvert_exporter": "python",
      "pygments_lexer": "ipython2",
      "version": "2.7.13"
    },
    "colab": {
      "name": "One Hour Introduction to Pandas.ipynb",
      "provenance": []
    }
  },
  "cells": [
    {
      "cell_type": "code",
      "metadata": {
        "collapsed": true,
        "id": "6Qx6tPWncT5n"
      },
      "source": [
        "import pandas as pd\n",
        "import numpy as np\n",
        "import matplotlib.pyplot as plt"
      ],
      "execution_count": null,
      "outputs": []
    },
    {
      "cell_type": "markdown",
      "metadata": {
        "id": "m23Et2wqcT5o"
      },
      "source": [
        "<br>"
      ]
    },
    {
      "cell_type": "markdown",
      "metadata": {
        "id": "k58PyKJgcT5p"
      },
      "source": [
        "## Object Creation\n",
        "---\n",
        "\n",
        "See the [Data Structure Intro section](http://pandas.pydata.org/pandas-docs/stable/dsintro.html#dsintro)."
      ]
    },
    {
      "cell_type": "markdown",
      "metadata": {
        "id": "eDNg1hD5cT5p"
      },
      "source": [
        "### Create a Series\n",
        "\n",
        "Create a **Series** by passing a list of values, letting pandas create a default integer index:"
      ]
    },
    {
      "cell_type": "code",
      "metadata": {
        "collapsed": true,
        "id": "6piYbsyRcT5p"
      },
      "source": [
        "s = pd.Series([1, 3, 5, np.nan, 6, 8])"
      ],
      "execution_count": null,
      "outputs": []
    },
    {
      "cell_type": "code",
      "metadata": {
        "id": "ltAVdyOJcT5p"
      },
      "source": [
        "s"
      ],
      "execution_count": null,
      "outputs": []
    },
    {
      "cell_type": "markdown",
      "metadata": {
        "id": "rehq6YmNcT5q"
      },
      "source": [
        "### Create a DataFrame\n",
        "\n",
        "+ From a **numpy array**, with a datetime **index** and labeled **columns**:"
      ]
    },
    {
      "cell_type": "code",
      "metadata": {
        "collapsed": true,
        "id": "picOLSI2cT5q"
      },
      "source": [
        "dates = pd.date_range('20130101', periods = 6)"
      ],
      "execution_count": null,
      "outputs": []
    },
    {
      "cell_type": "code",
      "metadata": {
        "id": "CjB5DFNQcT5q"
      },
      "source": [
        "dates"
      ],
      "execution_count": null,
      "outputs": []
    },
    {
      "cell_type": "code",
      "metadata": {
        "collapsed": true,
        "id": "CeCy5NZ0cT5r"
      },
      "source": [
        "df = pd.DataFrame(np.random.randn(6, 4), index = dates, columns = list('ABCD'))"
      ],
      "execution_count": null,
      "outputs": []
    },
    {
      "cell_type": "code",
      "metadata": {
        "id": "epSzZSKXcT5r"
      },
      "source": [
        "df"
      ],
      "execution_count": null,
      "outputs": []
    },
    {
      "cell_type": "markdown",
      "metadata": {
        "id": "8XfbiinicT5r"
      },
      "source": [
        "* From a **dict** of objects that can be converted to series-like."
      ]
    },
    {
      "cell_type": "code",
      "metadata": {
        "collapsed": true,
        "id": "umOeqMAqcT5r"
      },
      "source": [
        "df2 = pd.DataFrame({ 'A' : 1.,\n",
        "                     'B' : pd.Timestamp('20130102'),\n",
        "                     'C' : pd.Series(1,index=list(range(4)),dtype='float32'),\n",
        "                     'D' : np.array([3] * 4,dtype='int32'),\n",
        "                     'E' : pd.Categorical([\"test\",\"train\",\"test\",\"train\"]),\n",
        "                     'F' : 'foo' })"
      ],
      "execution_count": null,
      "outputs": []
    },
    {
      "cell_type": "code",
      "metadata": {
        "id": "_IR86NtBcT5r"
      },
      "source": [
        "df2"
      ],
      "execution_count": null,
      "outputs": []
    },
    {
      "cell_type": "markdown",
      "metadata": {
        "id": "J-Nil0-ZcT5s"
      },
      "source": [
        "Having specific dtypes"
      ]
    },
    {
      "cell_type": "code",
      "metadata": {
        "id": "wj1IweCDcT5s"
      },
      "source": [
        "df2.dtypes"
      ],
      "execution_count": null,
      "outputs": []
    },
    {
      "cell_type": "markdown",
      "metadata": {
        "id": "NkRDlJL9cT5s"
      },
      "source": [
        "If you’re using IPython, tab completion for column names (as well as public attributes) is automatically enabled. Here’s a subset of the attributes that will be completed:"
      ]
    },
    {
      "cell_type": "markdown",
      "metadata": {
        "id": "s65MW3SGcT5s"
      },
      "source": [
        "`df2.<TAB>` helps look up the list of all available functions."
      ]
    },
    {
      "cell_type": "markdown",
      "metadata": {
        "id": "cwQ4gdnFcT5s"
      },
      "source": [
        "<br><br>"
      ]
    },
    {
      "cell_type": "markdown",
      "metadata": {
        "id": "8icb_ud_cT5s"
      },
      "source": [
        "## Viewing Data\n",
        "---\n",
        "See the [Basics section](https://pandas.pydata.org/pandas-docs/stable/basics.html#basics \"Essential Basic Functionality\")"
      ]
    },
    {
      "cell_type": "markdown",
      "metadata": {
        "id": "aWbUG451cT5s"
      },
      "source": [
        "See the top & bottom rows of the frame."
      ]
    },
    {
      "cell_type": "code",
      "metadata": {
        "id": "37R1FvRucT5t"
      },
      "source": [
        "df.head()\n",
        "df"
      ],
      "execution_count": null,
      "outputs": []
    },
    {
      "cell_type": "code",
      "metadata": {
        "id": "kgPeENtKcT5t"
      },
      "source": [
        "df.tail(3)"
      ],
      "execution_count": null,
      "outputs": []
    },
    {
      "cell_type": "markdown",
      "metadata": {
        "id": "2UbEoS4JcT5t"
      },
      "source": [
        "Display the index, colums, and the underlying numpy data."
      ]
    },
    {
      "cell_type": "code",
      "metadata": {
        "id": "okGv7ihWcT5t"
      },
      "source": [
        "df.index"
      ],
      "execution_count": null,
      "outputs": []
    },
    {
      "cell_type": "code",
      "metadata": {
        "id": "0ullBSGkcT5t"
      },
      "source": [
        "df.columns"
      ],
      "execution_count": null,
      "outputs": []
    },
    {
      "cell_type": "code",
      "metadata": {
        "id": "8WLYHTbZcT5t"
      },
      "source": [
        "df.values"
      ],
      "execution_count": null,
      "outputs": []
    },
    {
      "cell_type": "markdown",
      "metadata": {
        "id": "on55MqH-cT5t"
      },
      "source": [
        "Describe shows a quick statistic summary of your data."
      ]
    },
    {
      "cell_type": "code",
      "metadata": {
        "id": "AMwKyc0ZcT5t"
      },
      "source": [
        "df.describe()"
      ],
      "execution_count": null,
      "outputs": []
    },
    {
      "cell_type": "markdown",
      "metadata": {
        "id": "-eXCwD9lcT5u"
      },
      "source": [
        "Transposing your data."
      ]
    },
    {
      "cell_type": "code",
      "metadata": {
        "id": "C59LUOFycT5u"
      },
      "source": [
        "df.T"
      ],
      "execution_count": null,
      "outputs": []
    },
    {
      "cell_type": "markdown",
      "metadata": {
        "id": "WLYNYeJecT5u"
      },
      "source": [
        "Sorting by an axis."
      ]
    },
    {
      "cell_type": "code",
      "metadata": {
        "id": "PvtiP8GHcT5u"
      },
      "source": [
        "df.sort_index(axis='columns',ascending = False) # Axis to be sorted. => axis{0 or ‘index’, 1 or ‘columns’}, default 0 "
      ],
      "execution_count": null,
      "outputs": []
    },
    {
      "cell_type": "code",
      "metadata": {
        "id": "od9ruYyqrOJz"
      },
      "source": [
        "df.sort_index(axis='index', ascending = False)"
      ],
      "execution_count": null,
      "outputs": []
    },
    {
      "cell_type": "markdown",
      "metadata": {
        "id": "cDhGo2fxcT5u"
      },
      "source": [
        "<br><br>"
      ]
    },
    {
      "cell_type": "markdown",
      "metadata": {
        "id": "2IH2BiHicT5u"
      },
      "source": [
        "## Selection\n",
        "---"
      ]
    },
    {
      "cell_type": "markdown",
      "metadata": {
        "id": "oWJCyWn9cT5u"
      },
      "source": [
        "**Note:** While standard Python/Numpy expressions for selecting and setting are intuitive and come in handy for interactive work, for production code, we recommend the optimized pandas data access methods, .at; .iat, .loc, .iloc and .ix."
      ]
    },
    {
      "cell_type": "markdown",
      "metadata": {
        "id": "0wq79X50cT5v"
      },
      "source": [
        "See the indexing documentation [Indexing and Selecting Data](https://pandas.pydata.org/pandas-docs/stable/indexing.html#indexing \"Indexing and Selecting Data\") and [MultiIndex / Advanced Indexing](https://pandas.pydata.org/pandas-docs/stable/advanced.html#advanced \"MultiIndex / Advanced Indexing\")."
      ]
    },
    {
      "cell_type": "markdown",
      "metadata": {
        "id": "Wzi8EmFkcT5v"
      },
      "source": [
        "### Getting"
      ]
    },
    {
      "cell_type": "markdown",
      "metadata": {
        "id": "7jntil9xcT5v"
      },
      "source": [
        "Selecting a single column, which yields a *Series*."
      ]
    },
    {
      "cell_type": "code",
      "metadata": {
        "id": "6hFkmz8kcT5v"
      },
      "source": [
        "df['A']"
      ],
      "execution_count": null,
      "outputs": []
    },
    {
      "cell_type": "code",
      "metadata": {
        "id": "dnViUwjYcT5v"
      },
      "source": [
        "df.A"
      ],
      "execution_count": null,
      "outputs": []
    },
    {
      "cell_type": "markdown",
      "metadata": {
        "id": "rdoFUrFbcT5v"
      },
      "source": [
        "Selecting via `[]`, which slices the rows."
      ]
    },
    {
      "cell_type": "code",
      "metadata": {
        "id": "CeybiUMMcT5v"
      },
      "source": [
        "df[0 : 3]"
      ],
      "execution_count": null,
      "outputs": []
    },
    {
      "cell_type": "code",
      "metadata": {
        "id": "-tr5VdPBcT5v"
      },
      "source": [
        "df['20130102' : '20130104']"
      ],
      "execution_count": null,
      "outputs": []
    },
    {
      "cell_type": "markdown",
      "metadata": {
        "id": "lwLF6XVfcT5v"
      },
      "source": [
        "### Selection by Label"
      ]
    },
    {
      "cell_type": "markdown",
      "metadata": {
        "id": "pDr8_MJ9cT5v"
      },
      "source": [
        "See more in [Selection by Label](https://pandas.pydata.org/pandas-docs/stable/indexing.html#indexing-label \"Selection By Label\").\n",
        "\n",
        "For getting a cross section using a Label."
      ]
    },
    {
      "cell_type": "code",
      "metadata": {
        "id": "-5t0FQs-cT5w"
      },
      "source": [
        "df.loc[dates[0]]"
      ],
      "execution_count": null,
      "outputs": []
    },
    {
      "cell_type": "markdown",
      "metadata": {
        "id": "V8zcyh1qcT5w"
      },
      "source": [
        "Selecting on a multi-axis by label."
      ]
    },
    {
      "cell_type": "code",
      "metadata": {
        "id": "dHVC4z9PcT5w"
      },
      "source": [
        "df.loc[:, ['A', 'B']]"
      ],
      "execution_count": null,
      "outputs": []
    },
    {
      "cell_type": "markdown",
      "metadata": {
        "id": "pAUaA8QLcT5w"
      },
      "source": [
        "Showing label slicing, both endpoints are _included_."
      ]
    },
    {
      "cell_type": "code",
      "metadata": {
        "id": "q9C1d9cOcT5w"
      },
      "source": [
        "df.loc['20130102' : '20130104', ['A', 'B']]"
      ],
      "execution_count": null,
      "outputs": []
    },
    {
      "cell_type": "markdown",
      "metadata": {
        "id": "3RbvBwn4cT5w"
      },
      "source": [
        "Reduction in the dimensions of the returned object."
      ]
    },
    {
      "cell_type": "code",
      "metadata": {
        "id": "6UMFjRAVcT5w"
      },
      "source": [
        "df.loc['20130102', ['A', 'B']]"
      ],
      "execution_count": null,
      "outputs": []
    },
    {
      "cell_type": "markdown",
      "metadata": {
        "id": "cyd_hacfcT5w"
      },
      "source": [
        "For getting a scalar value"
      ]
    },
    {
      "cell_type": "code",
      "metadata": {
        "id": "JAt4v2cZcT5w"
      },
      "source": [
        "df.loc[dates[0], 'A']"
      ],
      "execution_count": null,
      "outputs": []
    },
    {
      "cell_type": "markdown",
      "metadata": {
        "id": "9xwRi65KcT5x"
      },
      "source": [
        "For getting fast access to a scalar (equiv to the prior method)"
      ]
    },
    {
      "cell_type": "code",
      "metadata": {
        "id": "duz4xG4IcT5x"
      },
      "source": [
        "df.at[dates[0], 'A']"
      ],
      "execution_count": null,
      "outputs": []
    },
    {
      "cell_type": "markdown",
      "metadata": {
        "id": "ubILv20tcT5x"
      },
      "source": [
        "### Selection by Position\n",
        "See more in [Selection by Position](https://pandas.pydata.org/pandas-docs/stable/indexing.html#indexing-integer \"Selection by Position\")"
      ]
    },
    {
      "cell_type": "markdown",
      "metadata": {
        "id": "Ks-fTHSwcT5x"
      },
      "source": [
        "Select via the position of the passed integers"
      ]
    },
    {
      "cell_type": "code",
      "metadata": {
        "id": "iCiTHXSMcT5x"
      },
      "source": [
        "df.iloc[3]"
      ],
      "execution_count": null,
      "outputs": []
    },
    {
      "cell_type": "markdown",
      "metadata": {
        "id": "6NUf1fEBcT5x"
      },
      "source": [
        "By integer slices, acting similar to nump/python"
      ]
    },
    {
      "cell_type": "code",
      "metadata": {
        "id": "x-TlKXrscT5x"
      },
      "source": [
        "df.iloc[3 : 5, 0 : 2]"
      ],
      "execution_count": null,
      "outputs": []
    },
    {
      "cell_type": "markdown",
      "metadata": {
        "id": "QYlDVvW6cT5x"
      },
      "source": [
        "By lists of integer position locations, similar to the numpy/python style."
      ]
    },
    {
      "cell_type": "code",
      "metadata": {
        "id": "ThQFG9IrcT5x"
      },
      "source": [
        "df.iloc[[1, 2, 4], [0, 2]]"
      ],
      "execution_count": null,
      "outputs": []
    },
    {
      "cell_type": "markdown",
      "metadata": {
        "id": "C5B1gEqXcT5y"
      },
      "source": [
        "For slicing rows explicitly"
      ]
    },
    {
      "cell_type": "code",
      "metadata": {
        "id": "pHYpPagUcT5y"
      },
      "source": [
        "df.iloc[1 : 3, :]"
      ],
      "execution_count": null,
      "outputs": []
    },
    {
      "cell_type": "markdown",
      "metadata": {
        "id": "wWwXoMkMcT5y"
      },
      "source": [
        "For slicing columns explicitly"
      ]
    },
    {
      "cell_type": "code",
      "metadata": {
        "id": "P3571vIpcT5y"
      },
      "source": [
        "df.iloc[:, 1 : 3]"
      ],
      "execution_count": null,
      "outputs": []
    },
    {
      "cell_type": "markdown",
      "metadata": {
        "id": "lSEG-ivAcT5y"
      },
      "source": [
        "For getting a value explicitly"
      ]
    },
    {
      "cell_type": "code",
      "metadata": {
        "id": "Bi1o3X8bcT5y"
      },
      "source": [
        "df.iloc[1, 1]"
      ],
      "execution_count": null,
      "outputs": []
    },
    {
      "cell_type": "markdown",
      "metadata": {
        "id": "zDlSXV-QcT5y"
      },
      "source": [
        "For getting fast access to a scalar (equiv to the prior method)"
      ]
    },
    {
      "cell_type": "code",
      "metadata": {
        "id": "zglEVU2zcT5y"
      },
      "source": [
        "df.iat[1, 1]"
      ],
      "execution_count": null,
      "outputs": []
    },
    {
      "cell_type": "markdown",
      "metadata": {
        "id": "FLoiKlvhcT5y"
      },
      "source": [
        "### Boolean Indexing"
      ]
    },
    {
      "cell_type": "markdown",
      "metadata": {
        "id": "H0y5glf0cT5y"
      },
      "source": [
        "Using a single column's values to select data."
      ]
    },
    {
      "cell_type": "code",
      "metadata": {
        "id": "eI-lGL38cT5z"
      },
      "source": [
        "df[df.A > 0]"
      ],
      "execution_count": null,
      "outputs": []
    },
    {
      "cell_type": "markdown",
      "metadata": {
        "id": "nIoANK27cT5z"
      },
      "source": [
        "Selecting values from a DataFrame where a boolean condition is met."
      ]
    },
    {
      "cell_type": "code",
      "metadata": {
        "id": "RNdyuaAPcT5z"
      },
      "source": [
        "df[df > 0]"
      ],
      "execution_count": null,
      "outputs": []
    },
    {
      "cell_type": "markdown",
      "metadata": {
        "id": "JAMDxpn1cT5z"
      },
      "source": [
        "Using the `isin()` method for filtering:"
      ]
    },
    {
      "cell_type": "code",
      "metadata": {
        "collapsed": true,
        "id": "vMBhcjPHcT5z"
      },
      "source": [
        "df2 = df.copy()"
      ],
      "execution_count": null,
      "outputs": []
    },
    {
      "cell_type": "code",
      "metadata": {
        "collapsed": true,
        "id": "_bWfnW3gcT5z"
      },
      "source": [
        "df2['E'] = ['one', 'one', 'two', 'three', 'four', 'three']"
      ],
      "execution_count": null,
      "outputs": []
    },
    {
      "cell_type": "code",
      "metadata": {
        "id": "e0Ur1V0VcT5z"
      },
      "source": [
        "df2"
      ],
      "execution_count": null,
      "outputs": []
    },
    {
      "cell_type": "markdown",
      "metadata": {
        "id": "znhwSrO9cT5z"
      },
      "source": [
        "### Setting\n",
        "\n",
        "Setting a new column automatically aligns the data by the indexes."
      ]
    },
    {
      "cell_type": "code",
      "metadata": {
        "id": "3x7Jxd23cT5z"
      },
      "source": [
        "s1 = pd.Series([1, 2, 3, 4, 5, 6], index = pd.date_range('20130102', periods = 6))\n",
        "s1"
      ],
      "execution_count": null,
      "outputs": []
    },
    {
      "cell_type": "markdown",
      "metadata": {
        "id": "oDzq3waCcT50"
      },
      "source": [
        "Setting values by label"
      ]
    },
    {
      "cell_type": "code",
      "metadata": {
        "collapsed": true,
        "id": "APdVBD4RcT50"
      },
      "source": [
        "df.at[dates[0], 'A'] = 0"
      ],
      "execution_count": null,
      "outputs": []
    },
    {
      "cell_type": "markdown",
      "metadata": {
        "id": "1LMaeMtKcT50"
      },
      "source": [
        "Setting values by position"
      ]
    },
    {
      "cell_type": "code",
      "metadata": {
        "collapsed": true,
        "id": "Xpp__h6lcT50"
      },
      "source": [
        "df.iat[0, 1] = 0"
      ],
      "execution_count": null,
      "outputs": []
    },
    {
      "cell_type": "markdown",
      "metadata": {
        "id": "oBfAXErhcT50"
      },
      "source": [
        "Setting by assigning with a numpy array"
      ]
    },
    {
      "cell_type": "code",
      "metadata": {
        "collapsed": true,
        "id": "EABNhugncT50"
      },
      "source": [
        "df.loc[:, 'D'] = np.array([5] * len(df))"
      ],
      "execution_count": null,
      "outputs": []
    },
    {
      "cell_type": "code",
      "metadata": {
        "id": "aBWfX3SrcT50"
      },
      "source": [
        "df"
      ],
      "execution_count": null,
      "outputs": []
    },
    {
      "cell_type": "markdown",
      "metadata": {
        "id": "GxSbzwFHcT50"
      },
      "source": [
        "A **`where`** operation with setting."
      ]
    },
    {
      "cell_type": "code",
      "metadata": {
        "collapsed": true,
        "id": "-JG9Tyi9cT50"
      },
      "source": [
        "df2 = df.copy()"
      ],
      "execution_count": null,
      "outputs": []
    },
    {
      "cell_type": "code",
      "metadata": {
        "collapsed": true,
        "id": "ovFrcHnDcT51"
      },
      "source": [
        "df2[df2 > 0] = - df2"
      ],
      "execution_count": null,
      "outputs": []
    },
    {
      "cell_type": "code",
      "metadata": {
        "id": "YwfvtaKqcT51"
      },
      "source": [
        "df2"
      ],
      "execution_count": null,
      "outputs": []
    },
    {
      "cell_type": "markdown",
      "metadata": {
        "id": "anjzpRwzcT51"
      },
      "source": [
        "<br><br>"
      ]
    },
    {
      "cell_type": "markdown",
      "metadata": {
        "id": "H1BiOhXNcT51"
      },
      "source": [
        "## Missing Data\n",
        "---"
      ]
    },
    {
      "cell_type": "markdown",
      "metadata": {
        "id": "z1AAo9cScT51"
      },
      "source": [
        "pandas primarily uses the value `np.nan` to represent missing data. It is by default not included in computations. See the [Missing Data Section](https://pandas.pydata.org/pandas-docs/stable/missing_data.html#missing-data \"Working with missing data\")\n",
        "\n",
        "Reindexing allows you to change/add/delete the index on a specified axis. This returns a copy of the data."
      ]
    },
    {
      "cell_type": "code",
      "metadata": {
        "collapsed": true,
        "id": "0JdiY8egcT51"
      },
      "source": [
        "df1 = df.reindex(index = dates[0 : 4], columns = list(df.columns) + ['E'])"
      ],
      "execution_count": null,
      "outputs": []
    },
    {
      "cell_type": "code",
      "metadata": {
        "id": "BJruzoLCcT51"
      },
      "source": [
        "df1"
      ],
      "execution_count": null,
      "outputs": []
    },
    {
      "cell_type": "code",
      "metadata": {
        "collapsed": true,
        "id": "TsO4AHH5cT51"
      },
      "source": [
        "df1.loc[dates[0]: dates[1], 'E'] = 1"
      ],
      "execution_count": null,
      "outputs": []
    },
    {
      "cell_type": "code",
      "metadata": {
        "id": "K4mX2agecT51"
      },
      "source": [
        "df1 "
      ],
      "execution_count": null,
      "outputs": []
    },
    {
      "cell_type": "markdown",
      "metadata": {
        "id": "ONzBR7vzcT52"
      },
      "source": [
        "To drop any rows that have missing data."
      ]
    },
    {
      "cell_type": "code",
      "metadata": {
        "id": "IIIDN8ZmcT52"
      },
      "source": [
        "df1.dropna(how = 'any')"
      ],
      "execution_count": null,
      "outputs": []
    },
    {
      "cell_type": "markdown",
      "metadata": {
        "id": "5NI715l5cT52"
      },
      "source": [
        "Filling missing data"
      ]
    },
    {
      "cell_type": "code",
      "metadata": {
        "id": "kyDX8PqkcT52"
      },
      "source": [
        "df1.fillna(value = 5)"
      ],
      "execution_count": null,
      "outputs": []
    },
    {
      "cell_type": "markdown",
      "metadata": {
        "id": "vlTG4bSicT52"
      },
      "source": [
        "To get the boolean mask where values are `nan`"
      ]
    },
    {
      "cell_type": "code",
      "metadata": {
        "id": "D9TQwoPNcT52"
      },
      "source": [
        "pd.isnull(df1)"
      ],
      "execution_count": null,
      "outputs": []
    },
    {
      "cell_type": "markdown",
      "metadata": {
        "id": "vYRDkQyFcT52"
      },
      "source": [
        "<br><br>"
      ]
    },
    {
      "cell_type": "markdown",
      "metadata": {
        "id": "7beUfZf4cT52"
      },
      "source": [
        "## Operations\n",
        "---\n",
        "See the [Basic section on Binary Ops](https://pandas.pydata.org/pandas-docs/stable/basics.html#basics-binop \"Flexible binary operations\")"
      ]
    },
    {
      "cell_type": "markdown",
      "metadata": {
        "id": "v67J36_BcT52"
      },
      "source": [
        "### Stats\n",
        "\n",
        "Operations in general _exclude_ missing data.\n",
        "\n",
        "Performing a descriptive statistic."
      ]
    },
    {
      "cell_type": "code",
      "metadata": {
        "id": "05Eh6eYbcT52"
      },
      "source": [
        "df.mean()"
      ],
      "execution_count": null,
      "outputs": []
    },
    {
      "cell_type": "code",
      "metadata": {
        "id": "yI8ij4U-cT53"
      },
      "source": [
        "df.mean(0)    # same as above"
      ],
      "execution_count": null,
      "outputs": []
    },
    {
      "cell_type": "markdown",
      "metadata": {
        "id": "6hrlZRl_cT53"
      },
      "source": [
        "Same operation on the other axis."
      ]
    },
    {
      "cell_type": "code",
      "metadata": {
        "id": "1QIcEe6JcT53"
      },
      "source": [
        "df.mean(1)"
      ],
      "execution_count": null,
      "outputs": []
    },
    {
      "cell_type": "markdown",
      "metadata": {
        "id": "4wj2G7GGcT53"
      },
      "source": [
        "Operating with objects that have different dimensionality and need alignment. In addition, pandas automatically broadcasts along the specified dimension."
      ]
    },
    {
      "cell_type": "code",
      "metadata": {
        "collapsed": true,
        "id": "ZPfn0szWcT53"
      },
      "source": [
        "s = pd.Series([1, 3, 5, np.nan, 6, 8], index = dates).shift(2)"
      ],
      "execution_count": null,
      "outputs": []
    },
    {
      "cell_type": "code",
      "metadata": {
        "id": "hXwhaTmVcT53"
      },
      "source": [
        "s"
      ],
      "execution_count": null,
      "outputs": []
    },
    {
      "cell_type": "code",
      "metadata": {
        "id": "IPWlA1pdcT53"
      },
      "source": [
        "df.sub(s, axis = 'index')"
      ],
      "execution_count": null,
      "outputs": []
    },
    {
      "cell_type": "markdown",
      "metadata": {
        "id": "nJxL8sQYcT53"
      },
      "source": [
        "### Apply\n",
        "\n",
        "Applying functions to the data."
      ]
    },
    {
      "cell_type": "code",
      "metadata": {
        "id": "4aqAbQR5cT53"
      },
      "source": [
        "df.apply(np.cumsum)"
      ],
      "execution_count": null,
      "outputs": []
    },
    {
      "cell_type": "code",
      "metadata": {
        "id": "wmnfG9v7cT53"
      },
      "source": [
        "df.apply(lambda x: x.max() - x.min())"
      ],
      "execution_count": null,
      "outputs": []
    },
    {
      "cell_type": "markdown",
      "metadata": {
        "id": "6PqEvlGVcT54"
      },
      "source": [
        "### Histogramming\n",
        "\n",
        "See more at [Histogramming and Discretization](https://pandas.pydata.org/pandas-docs/stable/basics.html#basics-discretization \"Histogramming and Discretization\")."
      ]
    },
    {
      "cell_type": "code",
      "metadata": {
        "collapsed": true,
        "id": "QWiysLP_cT54"
      },
      "source": [
        "s = pd.Series(np.random.randint(0, 7, size = 10))"
      ],
      "execution_count": null,
      "outputs": []
    },
    {
      "cell_type": "code",
      "metadata": {
        "id": "Xo4dctw2cT54"
      },
      "source": [
        "s"
      ],
      "execution_count": null,
      "outputs": []
    },
    {
      "cell_type": "markdown",
      "metadata": {
        "id": "N77v2AOOcT54"
      },
      "source": [
        "### String Methods\n",
        "\n",
        "Series is equipped with a set of string processing methods in the _str_ attribute that make it easy to operate on each element of the array, as in the code snippet below. Note that pattern-matching in _str_ generally uses [regular expressions](https://docs.python.org/2/library/re.html \"Regular expression operations\") by default (and in some cases always uses them). See more at [Vectorizing String Methods](https://pandas.pydata.org/pandas-docs/stable/text.html#text-string-methods \"Working with Text Data\")."
      ]
    },
    {
      "cell_type": "code",
      "metadata": {
        "collapsed": true,
        "id": "RCMdMloKcT54"
      },
      "source": [
        "s = pd.Series(['A', 'B', 'C', 'Aaba', 'Baca', np.nan, 'CABA', 'dog', 'cat'])"
      ],
      "execution_count": null,
      "outputs": []
    },
    {
      "cell_type": "code",
      "metadata": {
        "id": "qHNPxuXfcT54"
      },
      "source": [
        "s.str.lower()"
      ],
      "execution_count": null,
      "outputs": []
    },
    {
      "cell_type": "markdown",
      "metadata": {
        "id": "mTyCeQR0cT54"
      },
      "source": [
        "<br><br>"
      ]
    },
    {
      "cell_type": "markdown",
      "metadata": {
        "id": "Mr4oyeuKcT54"
      },
      "source": [
        "## Merge\n",
        "---\n",
        "### Concat\n",
        "\n",
        "**`pd.concat()`** combines dataframes **vertically**.\n",
        "See the [Merging section](https://pandas.pydata.org/pandas-docs/stable/merging.html#merging \"Merge, join, and concatenate\").\n",
        "\n",
        "Concatenating pandas objects together with **`concat()`**:"
      ]
    },
    {
      "cell_type": "code",
      "metadata": {
        "collapsed": true,
        "id": "EbHsdFfjcT56"
      },
      "source": [
        "df = pd.DataFrame(np.random.randn(10, 4))"
      ],
      "execution_count": null,
      "outputs": []
    },
    {
      "cell_type": "code",
      "metadata": {
        "id": "ZpLliK30cT56"
      },
      "source": [
        "df"
      ],
      "execution_count": null,
      "outputs": []
    },
    {
      "cell_type": "markdown",
      "metadata": {
        "id": "g78mO1YEcT56"
      },
      "source": [
        "Break it into pieces."
      ]
    },
    {
      "cell_type": "code",
      "metadata": {
        "collapsed": true,
        "id": "RNpx7mI6cT56"
      },
      "source": [
        "pieces = [df[: 3], df[3 : 7], df[7 : ]]"
      ],
      "execution_count": null,
      "outputs": []
    },
    {
      "cell_type": "code",
      "metadata": {
        "id": "DFecwbjycT57"
      },
      "source": [
        "pieces"
      ],
      "execution_count": null,
      "outputs": []
    },
    {
      "cell_type": "code",
      "metadata": {
        "id": "3Qqp74z2cT57"
      },
      "source": [
        "pd.concat(pieces)"
      ],
      "execution_count": null,
      "outputs": []
    },
    {
      "cell_type": "markdown",
      "metadata": {
        "id": "nVcYXiqIcT57"
      },
      "source": [
        "### Join\n",
        "\n",
        "**`pd.merge()`** merges dataframes **horizontally**. Just like SQL style merges. See the [Database style joining](https://pandas.pydata.org/pandas-docs/stable/merging.html#merging-join \"Database-style DataFrame joining/merging\")."
      ]
    },
    {
      "cell_type": "markdown",
      "metadata": {
        "id": "c_phYokCcT57"
      },
      "source": [
        "Example 1:"
      ]
    },
    {
      "cell_type": "code",
      "metadata": {
        "collapsed": true,
        "id": "p_lges6hcT57"
      },
      "source": [
        "left = pd.DataFrame({'key': ['foo', 'foo'], 'lval': [1, 2]})"
      ],
      "execution_count": null,
      "outputs": []
    },
    {
      "cell_type": "code",
      "metadata": {
        "collapsed": true,
        "id": "oa28EVvtcT57"
      },
      "source": [
        "right = pd.DataFrame({'key': ['foo', 'foo'], 'rval': [4, 5]})"
      ],
      "execution_count": null,
      "outputs": []
    },
    {
      "cell_type": "code",
      "metadata": {
        "id": "f4NFhFeUcT57"
      },
      "source": [
        "left"
      ],
      "execution_count": null,
      "outputs": []
    },
    {
      "cell_type": "code",
      "metadata": {
        "id": "gQ5YYL10cT57"
      },
      "source": [
        "right"
      ],
      "execution_count": null,
      "outputs": []
    },
    {
      "cell_type": "code",
      "metadata": {
        "id": "kaoLE3NZcT57"
      },
      "source": [
        "pd.merge(left, right, on = 'key')"
      ],
      "execution_count": null,
      "outputs": []
    },
    {
      "cell_type": "markdown",
      "metadata": {
        "id": "s954smsgcT58"
      },
      "source": [
        "Example 2:"
      ]
    },
    {
      "cell_type": "code",
      "metadata": {
        "collapsed": true,
        "id": "YZElBG_fcT58"
      },
      "source": [
        "left = pd.DataFrame({'key': ['foo', 'bar'], 'lval': [1, 2]})"
      ],
      "execution_count": null,
      "outputs": []
    },
    {
      "cell_type": "code",
      "metadata": {
        "collapsed": true,
        "id": "KgGOEFRVcT58"
      },
      "source": [
        "right = pd.DataFrame({'key': ['foo', 'bar'], 'rval': [4, 5]})"
      ],
      "execution_count": null,
      "outputs": []
    },
    {
      "cell_type": "code",
      "metadata": {
        "id": "lJOWm-vrcT58"
      },
      "source": [
        "left"
      ],
      "execution_count": null,
      "outputs": []
    },
    {
      "cell_type": "code",
      "metadata": {
        "id": "IIU94jPScT58"
      },
      "source": [
        "right"
      ],
      "execution_count": null,
      "outputs": []
    },
    {
      "cell_type": "code",
      "metadata": {
        "id": "K4JZKvAkcT58"
      },
      "source": [
        "pd.merge(left, right, on = 'key')"
      ],
      "execution_count": null,
      "outputs": []
    },
    {
      "cell_type": "markdown",
      "metadata": {
        "id": "POb7-NF5cT58"
      },
      "source": [
        "### Append\n",
        "\n",
        "Append rows to a dataframe. See the [Appending](https://pandas.pydata.org/pandas-docs/stable/merging.html#merging-concatenation \"Concatenating using append\")."
      ]
    },
    {
      "cell_type": "code",
      "metadata": {
        "collapsed": true,
        "id": "8GRBvdFXcT58"
      },
      "source": [
        "df = pd.DataFrame(np.random.randn(8, 4), columns = ['A', 'B', 'C', 'D'])"
      ],
      "execution_count": null,
      "outputs": []
    },
    {
      "cell_type": "code",
      "metadata": {
        "id": "GIZhNNFacT58"
      },
      "source": [
        "df"
      ],
      "execution_count": null,
      "outputs": []
    },
    {
      "cell_type": "code",
      "metadata": {
        "collapsed": true,
        "id": "QiTVDokgcT59"
      },
      "source": [
        "s = df.iloc[3]"
      ],
      "execution_count": null,
      "outputs": []
    },
    {
      "cell_type": "code",
      "metadata": {
        "id": "RlZGpl2tcT59"
      },
      "source": [
        "s"
      ],
      "execution_count": null,
      "outputs": []
    },
    {
      "cell_type": "code",
      "metadata": {
        "id": "XJPGb0wqcT59"
      },
      "source": [
        "df.append(s, ignore_index = True)"
      ],
      "execution_count": null,
      "outputs": []
    },
    {
      "cell_type": "markdown",
      "metadata": {
        "id": "ODVzHzdYcT59"
      },
      "source": [
        "<br><br>"
      ]
    },
    {
      "cell_type": "markdown",
      "metadata": {
        "id": "R5vZp4-3cT59"
      },
      "source": [
        "## Grouping\n",
        "---\n",
        "By \"group by\" we are referring to a process involving one or more of the following steps\n",
        "- **Splitting** the data into groups based on some criteria\n",
        "- **Applying** a function to each group independently\n",
        "- **Combining** the results into a data structure\n",
        "\n",
        "See the [Grouping Section](https://pandas.pydata.org/pandas-docs/stable/groupby.html#groupby \"Group By: split-apply-combine\")"
      ]
    },
    {
      "cell_type": "code",
      "metadata": {
        "collapsed": true,
        "id": "PGq9p80EcT59"
      },
      "source": [
        "df = pd.DataFrame({'A' : ['foo', 'bar', 'foo', 'bar', 'foo', 'bar', 'foo', 'foo'],\n",
        "                   'B' : ['one', 'one', 'two', 'three', 'two', 'two', 'one', 'three'],\n",
        "                   'C' : np.random.randn(8),\n",
        "                   'D' : np.random.randn(8)})"
      ],
      "execution_count": null,
      "outputs": []
    },
    {
      "cell_type": "code",
      "metadata": {
        "id": "B7hq-tWpcT59"
      },
      "source": [
        "df"
      ],
      "execution_count": null,
      "outputs": []
    },
    {
      "cell_type": "markdown",
      "metadata": {
        "id": "xfSt6qRMcT59"
      },
      "source": [
        "Grouping and then applying a function **`sum`** to the resulting groups."
      ]
    },
    {
      "cell_type": "code",
      "metadata": {
        "id": "Z3bDmzE-cT59"
      },
      "source": [
        "df.groupby('A').sum()"
      ],
      "execution_count": null,
      "outputs": []
    },
    {
      "cell_type": "markdown",
      "metadata": {
        "id": "cRigFpGicT5-"
      },
      "source": [
        "Grouping by multiple columns forms a hierarchical index, which we then apply the function."
      ]
    },
    {
      "cell_type": "code",
      "metadata": {
        "id": "inbPnnQkcT5-"
      },
      "source": [
        "df.groupby(['A', 'B']).sum()"
      ],
      "execution_count": null,
      "outputs": []
    },
    {
      "cell_type": "markdown",
      "metadata": {
        "id": "1UljhLvJcT5-"
      },
      "source": [
        "<br><br>"
      ]
    },
    {
      "cell_type": "markdown",
      "metadata": {
        "id": "xNFCPyDRcT5-"
      },
      "source": [
        "## Reshaping\n",
        "---\n",
        "See the sections on [Hierarchical Indexing](https://pandas.pydata.org/pandas-docs/stable/advanced.html#advanced-hierarchical \"Hierarchical indexing (MultiIndex)\") and [Reshaping](https://pandas.pydata.org/pandas-docs/stable/reshaping.html#reshaping-stacking \"Reshaping by stacking and unstacking\")."
      ]
    },
    {
      "cell_type": "markdown",
      "metadata": {
        "id": "r_dnPt1UcT5-"
      },
      "source": [
        "### Stack"
      ]
    },
    {
      "cell_type": "code",
      "metadata": {
        "collapsed": true,
        "id": "CCCf7W9PcT5-"
      },
      "source": [
        "tuples = list(zip(*[['bar', 'bar', 'baz', 'baz',\n",
        "                     'foo', 'foo', 'qux', 'qux'],\n",
        "                    ['one', 'two', 'one', 'two',\n",
        "                     'one', 'two', 'one', 'two']]))"
      ],
      "execution_count": null,
      "outputs": []
    },
    {
      "cell_type": "code",
      "metadata": {
        "id": "Q7VzRChRcT5_"
      },
      "source": [
        "tuples"
      ],
      "execution_count": null,
      "outputs": []
    },
    {
      "cell_type": "code",
      "metadata": {
        "collapsed": true,
        "id": "YOU3HLSScT5_"
      },
      "source": [
        "index = pd.MultiIndex.from_tuples(tuples, names = ['first', 'second'])"
      ],
      "execution_count": null,
      "outputs": []
    },
    {
      "cell_type": "code",
      "metadata": {
        "id": "olIrak-EcT5_"
      },
      "source": [
        "index"
      ],
      "execution_count": null,
      "outputs": []
    },
    {
      "cell_type": "code",
      "metadata": {
        "collapsed": true,
        "id": "YngvH2dvcT5_"
      },
      "source": [
        "df = pd.DataFrame(np.random.randn(8, 2), index = index, columns = ['A', 'B'])"
      ],
      "execution_count": null,
      "outputs": []
    },
    {
      "cell_type": "code",
      "metadata": {
        "id": "baZaOokncT5_"
      },
      "source": [
        "df"
      ],
      "execution_count": null,
      "outputs": []
    },
    {
      "cell_type": "code",
      "metadata": {
        "collapsed": true,
        "id": "Gt4z9opccT5_"
      },
      "source": [
        "df2 = df[: 4]"
      ],
      "execution_count": null,
      "outputs": []
    },
    {
      "cell_type": "code",
      "metadata": {
        "id": "T5d1ZjSZcT5_"
      },
      "source": [
        "df2"
      ],
      "execution_count": null,
      "outputs": []
    },
    {
      "cell_type": "markdown",
      "metadata": {
        "id": "32MMkQuJcT5_"
      },
      "source": [
        "The **`stack`** method \"compresses\" a level in the the DataFrame's columns."
      ]
    },
    {
      "cell_type": "code",
      "metadata": {
        "collapsed": true,
        "id": "ocQErW5xcT5_"
      },
      "source": [
        "stacked = df2.stack()"
      ],
      "execution_count": null,
      "outputs": []
    },
    {
      "cell_type": "code",
      "metadata": {
        "id": "DMHqoABkcT6A"
      },
      "source": [
        "stacked"
      ],
      "execution_count": null,
      "outputs": []
    },
    {
      "cell_type": "markdown",
      "metadata": {
        "id": "ldN28u4icT6A"
      },
      "source": [
        "With a \"stacked\" DataFrame or Series (having a `MultiIndex` as the `index`), the inverse operation of **`stack()`** is **`unstack()`**, which by default unstacks the **last level**:"
      ]
    },
    {
      "cell_type": "code",
      "metadata": {
        "id": "5SBUEl9icT6A"
      },
      "source": [
        "stacked.unstack()"
      ],
      "execution_count": null,
      "outputs": []
    },
    {
      "cell_type": "code",
      "metadata": {
        "id": "kpjQibs4cT6A"
      },
      "source": [
        "stacked.unstack(2)"
      ],
      "execution_count": null,
      "outputs": []
    },
    {
      "cell_type": "code",
      "metadata": {
        "id": "EehCVLNTcT6A"
      },
      "source": [
        "stacked.unstack(1)"
      ],
      "execution_count": null,
      "outputs": []
    },
    {
      "cell_type": "code",
      "metadata": {
        "id": "SPHoqIfDcT6A"
      },
      "source": [
        "stacked.unstack(0)"
      ],
      "execution_count": null,
      "outputs": []
    },
    {
      "cell_type": "markdown",
      "metadata": {
        "id": "T__pQZ6KcT6A"
      },
      "source": [
        "### Pivot Tables"
      ]
    },
    {
      "cell_type": "markdown",
      "metadata": {
        "id": "nLhTH-L_cT6B"
      },
      "source": [
        "See the section on [Pivot Tables](https://pandas.pydata.org/pandas-docs/stable/reshaping.html#reshaping-pivot \"Pivot tables\")."
      ]
    },
    {
      "cell_type": "code",
      "metadata": {
        "collapsed": true,
        "id": "WUAz4z7ycT6B"
      },
      "source": [
        "df = pd.DataFrame({'A' : ['one', 'one', 'two', 'three'] * 3,\n",
        "                   'B' : ['A', 'B', 'C'] * 4,\n",
        "                   'C' : ['foo', 'foo', 'foo', 'bar', 'bar', 'bar'] * 2,\n",
        "                   'D' : np.random.randn(12),\n",
        "                   'E' : np.random.randn(12)})"
      ],
      "execution_count": null,
      "outputs": []
    },
    {
      "cell_type": "code",
      "metadata": {
        "id": "oWF4fNiccT6B"
      },
      "source": [
        "df"
      ],
      "execution_count": null,
      "outputs": []
    },
    {
      "cell_type": "markdown",
      "metadata": {
        "id": "oNV6RkNacT6B"
      },
      "source": [
        "We can produce pivot tables from this data very easily:"
      ]
    },
    {
      "cell_type": "code",
      "metadata": {
        "id": "nYtVBtJgcT6B"
      },
      "source": [
        "pd.pivot_table(df, values = 'D', index = ['A', 'B'], columns = ['C'])"
      ],
      "execution_count": null,
      "outputs": []
    },
    {
      "cell_type": "markdown",
      "metadata": {
        "id": "IoCHAlPscT6B"
      },
      "source": [
        "<br><br>"
      ]
    },
    {
      "cell_type": "markdown",
      "metadata": {
        "id": "UYttZnQacT6B"
      },
      "source": [
        "## Time Series\n",
        "---\n",
        "\n",
        "pandas has simple, powerful, and efficient functionality for performing resampling operations during frequency conversion (e.g., converting secondly data into 5-minutely data). This is extremely common in, but not limited to, financial applications. See the [Time Series section](https://pandas.pydata.org/pandas-docs/stable/timeseries.html#timeseries \"Time Series / Date functionality\")."
      ]
    },
    {
      "cell_type": "code",
      "metadata": {
        "collapsed": true,
        "id": "RYSi8uOScT6B"
      },
      "source": [
        "rng = pd.date_range('1/1/2012', periods = 100, freq = 'S')"
      ],
      "execution_count": null,
      "outputs": []
    },
    {
      "cell_type": "code",
      "metadata": {
        "collapsed": true,
        "id": "u5ONS-DncT6B"
      },
      "source": [
        "ts = pd.Series(np.random.randint(0, 500, len(rng)), index = rng)"
      ],
      "execution_count": null,
      "outputs": []
    },
    {
      "cell_type": "code",
      "metadata": {
        "id": "iuOd8bUYcT6B"
      },
      "source": [
        "ts.resample('5Min').sum()"
      ],
      "execution_count": null,
      "outputs": []
    },
    {
      "cell_type": "markdown",
      "metadata": {
        "id": "0-JQX58rcT6C"
      },
      "source": [
        "Time zone representation"
      ]
    },
    {
      "cell_type": "code",
      "metadata": {
        "collapsed": true,
        "id": "elToYbKxcT6C"
      },
      "source": [
        "rng = pd.date_range('3/6/2012 00:00', periods = 5, freq = 'D')"
      ],
      "execution_count": null,
      "outputs": []
    },
    {
      "cell_type": "code",
      "metadata": {
        "id": "TwVK0rORcT6C"
      },
      "source": [
        "rng"
      ],
      "execution_count": null,
      "outputs": []
    },
    {
      "cell_type": "code",
      "metadata": {
        "collapsed": true,
        "id": "1TtUgt0McT6C"
      },
      "source": [
        "ts = pd.Series(np.random.randn(len(rng)), rng)"
      ],
      "execution_count": null,
      "outputs": []
    },
    {
      "cell_type": "code",
      "metadata": {
        "id": "1Val8-QHcT6C"
      },
      "source": [
        "ts"
      ],
      "execution_count": null,
      "outputs": []
    },
    {
      "cell_type": "code",
      "metadata": {
        "collapsed": true,
        "id": "6Lv-4wQpcT6C"
      },
      "source": [
        "ts_utc = ts.tz_localize('UTC')"
      ],
      "execution_count": null,
      "outputs": []
    },
    {
      "cell_type": "code",
      "metadata": {
        "id": "iySJeYBscT6C"
      },
      "source": [
        "ts_utc"
      ],
      "execution_count": null,
      "outputs": []
    },
    {
      "cell_type": "markdown",
      "metadata": {
        "id": "0rLHJ38UcT6C"
      },
      "source": [
        "Convert to another time zone."
      ]
    },
    {
      "cell_type": "code",
      "metadata": {
        "id": "QDu_o6d8cT6D"
      },
      "source": [
        "ts_utc.tz_convert('US/Eastern')"
      ],
      "execution_count": null,
      "outputs": []
    },
    {
      "cell_type": "markdown",
      "metadata": {
        "id": "hTgN1UFtcT6D"
      },
      "source": [
        "Converting between time span representations."
      ]
    },
    {
      "cell_type": "code",
      "metadata": {
        "collapsed": true,
        "id": "DDPob2JecT6D"
      },
      "source": [
        "rng = pd.date_range('1/1/2012', periods = 5, freq = 'M')"
      ],
      "execution_count": null,
      "outputs": []
    },
    {
      "cell_type": "code",
      "metadata": {
        "id": "LzsMNahBcT6D"
      },
      "source": [
        "rng"
      ],
      "execution_count": null,
      "outputs": []
    },
    {
      "cell_type": "code",
      "metadata": {
        "collapsed": true,
        "id": "km9EKoP-cT6D"
      },
      "source": [
        "ts = pd.Series(np.random.randn(len(rng)), index = rng)"
      ],
      "execution_count": null,
      "outputs": []
    },
    {
      "cell_type": "code",
      "metadata": {
        "id": "JaLvva19cT6D"
      },
      "source": [
        "ts"
      ],
      "execution_count": null,
      "outputs": []
    },
    {
      "cell_type": "code",
      "metadata": {
        "collapsed": true,
        "id": "9n0Kq5WBcT6D"
      },
      "source": [
        "ps = ts.to_period()"
      ],
      "execution_count": null,
      "outputs": []
    },
    {
      "cell_type": "code",
      "metadata": {
        "id": "DR3VGXItcT6D"
      },
      "source": [
        "ps"
      ],
      "execution_count": null,
      "outputs": []
    },
    {
      "cell_type": "code",
      "metadata": {
        "id": "kOj0YF2ncT6E"
      },
      "source": [
        "ps.to_timestamp()"
      ],
      "execution_count": null,
      "outputs": []
    },
    {
      "cell_type": "markdown",
      "metadata": {
        "id": "vyJeGN23cT6E"
      },
      "source": [
        "Converting between period and timestamp enables some convenient arithmetic functions to be used.<br>\n",
        "In the following example, we convert a quarterly frequency with year ending in November to 9am of the end of the month following the quarter end:"
      ]
    },
    {
      "cell_type": "code",
      "metadata": {
        "collapsed": true,
        "id": "fuhLVU6McT6E"
      },
      "source": [
        "prng = pd.period_range('1990Q1', '2000Q4', freq='Q-NOV')"
      ],
      "execution_count": null,
      "outputs": []
    },
    {
      "cell_type": "code",
      "metadata": {
        "id": "O-zTwTI0cT6E"
      },
      "source": [
        "prng"
      ],
      "execution_count": null,
      "outputs": []
    },
    {
      "cell_type": "code",
      "metadata": {
        "collapsed": true,
        "id": "ROkVfKHzcT6E"
      },
      "source": [
        "ts = pd.Series(np.random.randn(len(prng)), prng)"
      ],
      "execution_count": null,
      "outputs": []
    },
    {
      "cell_type": "code",
      "metadata": {
        "id": "McgNkadAcT6E"
      },
      "source": [
        "ts.head(3)"
      ],
      "execution_count": null,
      "outputs": []
    },
    {
      "cell_type": "code",
      "metadata": {
        "collapsed": true,
        "id": "U5013PjOcT6E"
      },
      "source": [
        "ts.index = (prng.asfreq('M', 'e') + 1).asfreq('H', 's') + 9"
      ],
      "execution_count": null,
      "outputs": []
    },
    {
      "cell_type": "code",
      "metadata": {
        "id": "0m25JaiJcT6E"
      },
      "source": [
        "ts.head()"
      ],
      "execution_count": null,
      "outputs": []
    },
    {
      "cell_type": "markdown",
      "metadata": {
        "id": "Wvvb965zcT6F"
      },
      "source": [
        "<br><br>"
      ]
    },
    {
      "cell_type": "markdown",
      "metadata": {
        "id": "hsmbPKXncT6F"
      },
      "source": [
        "## Categoricals\n",
        "\n",
        "Since version 0.15, pandas can include categorical data in a `DataFrame`. For full docs, see the [categorical introduction](https://pandas.pydata.org/pandas-docs/stable/categorical.html#categorical \"Categorical Data\") and the [API documentation](https://pandas.pydata.org/pandas-docs/stable/api.html#api-categorical \"Categorical API\")."
      ]
    },
    {
      "cell_type": "code",
      "metadata": {
        "collapsed": true,
        "id": "YiCMNcZQcT6F"
      },
      "source": [
        "df = pd.DataFrame({\"id\":[1, 2, 3, 4, 5, 6], \"raw_grade\":['a', 'b', 'b', 'a', 'a', 'e']})"
      ],
      "execution_count": null,
      "outputs": []
    },
    {
      "cell_type": "markdown",
      "metadata": {
        "id": "GYTE-Z5GcT6F"
      },
      "source": [
        "Convert the raw grades to a categorical data type using **`.astype()`**."
      ]
    },
    {
      "cell_type": "code",
      "metadata": {
        "collapsed": true,
        "id": "HRNddIDKcT6F"
      },
      "source": [
        "df[\"grade\"] = df[\"raw_grade\"].astype(\"category\")"
      ],
      "execution_count": null,
      "outputs": []
    },
    {
      "cell_type": "code",
      "metadata": {
        "id": "YuYH7OKzcT6F"
      },
      "source": [
        "df"
      ],
      "execution_count": null,
      "outputs": []
    },
    {
      "cell_type": "code",
      "metadata": {
        "id": "HNcXchzIcT6F"
      },
      "source": [
        "df[\"raw_grade\"]"
      ],
      "execution_count": null,
      "outputs": []
    },
    {
      "cell_type": "code",
      "metadata": {
        "id": "uw-WTJYucT6F"
      },
      "source": [
        "df[\"grade\"]"
      ],
      "execution_count": null,
      "outputs": []
    },
    {
      "cell_type": "markdown",
      "metadata": {
        "id": "6eg7aAvMcT6F"
      },
      "source": [
        "Rename the categories to more meaningful names (assigning to **`Series.cat.categories`** is **inplace**!)"
      ]
    },
    {
      "cell_type": "code",
      "metadata": {
        "collapsed": true,
        "id": "CP1iz6UacT6F"
      },
      "source": [
        "df[\"grade\"].cat.categories = [\"very good\", \"good\", \"very bad\"]"
      ],
      "execution_count": null,
      "outputs": []
    },
    {
      "cell_type": "code",
      "metadata": {
        "id": "3BglWmFYcT6G"
      },
      "source": [
        "df[\"grade\"]"
      ],
      "execution_count": null,
      "outputs": []
    },
    {
      "cell_type": "markdown",
      "metadata": {
        "id": "L7GJp4E5cT6G"
      },
      "source": [
        "Reorder the categories and simultaneously add the missing categories (methods under **`Series .cat`** return a new `Series` per default)."
      ]
    },
    {
      "cell_type": "code",
      "metadata": {
        "collapsed": true,
        "id": "OlfWBXn2cT6G"
      },
      "source": [
        "df[\"grade\"] = df[\"grade\"].cat.set_categories([\"very bad\", \"bad\", \"medium\", \"good\", \"very good\"])"
      ],
      "execution_count": null,
      "outputs": []
    },
    {
      "cell_type": "code",
      "metadata": {
        "id": "igBP6PpYcT6G"
      },
      "source": [
        "df[\"grade\"]"
      ],
      "execution_count": null,
      "outputs": []
    },
    {
      "cell_type": "markdown",
      "metadata": {
        "id": "0kieonYgcT6G"
      },
      "source": [
        "**Sorting is per order in the categories, not lexical order.**"
      ]
    },
    {
      "cell_type": "code",
      "metadata": {
        "id": "PKxovIC9cT6G"
      },
      "source": [
        "df.sort_values(by = \"grade\")"
      ],
      "execution_count": null,
      "outputs": []
    },
    {
      "cell_type": "markdown",
      "metadata": {
        "id": "qGH3HUZicT6G"
      },
      "source": [
        "Grouping by a categorical column shows also empty categories."
      ]
    },
    {
      "cell_type": "code",
      "metadata": {
        "id": "DeJrBDRFcT6G"
      },
      "source": [
        "df.groupby(\"grade\").size()"
      ],
      "execution_count": null,
      "outputs": []
    },
    {
      "cell_type": "markdown",
      "metadata": {
        "id": "QGD6vbZ3cT6G"
      },
      "source": [
        "<br><br>"
      ]
    },
    {
      "cell_type": "markdown",
      "metadata": {
        "id": "mPf2tdkpcT6G"
      },
      "source": [
        "## Plotting\n",
        "---\n",
        "See the [Plotting docs](https://pandas.pydata.org/pandas-docs/stable/visualization.html#visualization \"Visualization\")."
      ]
    },
    {
      "cell_type": "code",
      "metadata": {
        "collapsed": true,
        "id": "ejo5y8m4cT6H"
      },
      "source": [
        "ts = pd.Series(np.random.randn(1000), index = pd.date_range('1/1/2000', periods = 1000))"
      ],
      "execution_count": null,
      "outputs": []
    },
    {
      "cell_type": "code",
      "metadata": {
        "collapsed": true,
        "id": "thv3cK1OcT6H"
      },
      "source": [
        "ts = ts.cumsum()"
      ],
      "execution_count": null,
      "outputs": []
    },
    {
      "cell_type": "code",
      "metadata": {
        "id": "siUSiu0JcT6H"
      },
      "source": [
        "ts.plot()"
      ],
      "execution_count": null,
      "outputs": []
    },
    {
      "cell_type": "markdown",
      "metadata": {
        "id": "tUN9WaPCcT6H"
      },
      "source": [
        "![image](https://pandas.pydata.org/pandas-docs/stable/_images/series_plot_basic.png)"
      ]
    },
    {
      "cell_type": "markdown",
      "metadata": {
        "id": "o8yPerpHcT6H"
      },
      "source": [
        "On DataFrame, **`plot()`** is a convenience to plot all of the columns with labels:"
      ]
    },
    {
      "cell_type": "code",
      "metadata": {
        "collapsed": true,
        "id": "JelMoqS0cT6H"
      },
      "source": [
        "df = pd.DataFrame(np.random.randn(1000, 4), index = ts.index, columns = ['A', 'B', 'C', 'D'])"
      ],
      "execution_count": null,
      "outputs": []
    },
    {
      "cell_type": "code",
      "metadata": {
        "collapsed": true,
        "id": "_Noil1uccT6H"
      },
      "source": [
        "df = df.cumsum()"
      ],
      "execution_count": null,
      "outputs": []
    },
    {
      "cell_type": "code",
      "metadata": {
        "id": "vt01dmvrcT6H"
      },
      "source": [
        "plt.figure();\n",
        "df.plot();\n",
        "plt.legend(loc = 'best')"
      ],
      "execution_count": null,
      "outputs": []
    },
    {
      "cell_type": "markdown",
      "metadata": {
        "id": "cpdpSbo-cT6H"
      },
      "source": [
        "![image](https://pandas.pydata.org/pandas-docs/stable/_images/frame_plot_basic.png)"
      ]
    },
    {
      "cell_type": "markdown",
      "metadata": {
        "id": "Tmh7yn4-cT6H"
      },
      "source": [
        "<br><br>"
      ]
    },
    {
      "cell_type": "markdown",
      "metadata": {
        "id": "ZosOq6o-cT6H"
      },
      "source": [
        "## Getting Data In/Out\n",
        "---\n",
        "### CSV\n",
        "[Writing to a csv file](https://pandas.pydata.org/pandas-docs/stable/io.html#io-store-in-csv \"Writing to CSV format\")"
      ]
    },
    {
      "cell_type": "code",
      "metadata": {
        "collapsed": true,
        "id": "O4mSFtXEcT6I"
      },
      "source": [
        "df.to_csv('foo.csv')"
      ],
      "execution_count": null,
      "outputs": []
    },
    {
      "cell_type": "markdown",
      "metadata": {
        "id": "s0oiXtKscT6I"
      },
      "source": [
        "[Reading from a csv file](https://pandas.pydata.org/pandas-docs/stable/io.html#io-read-csv-table \"Reading from a csv file\")"
      ]
    },
    {
      "cell_type": "code",
      "metadata": {
        "id": "iSoqAg1ZcT6I"
      },
      "source": [
        "pd.read_csv('foo.csv').head()"
      ],
      "execution_count": null,
      "outputs": []
    },
    {
      "cell_type": "markdown",
      "metadata": {
        "id": "-Rjc-bZEcT6I"
      },
      "source": [
        "### HDF5\n",
        "Reading and writing to [HDFStores](https://pandas.pydata.org/pandas-docs/stable/io.html#io-hdf5 \"HDF5 (PyTables)\").\n",
        "\n",
        "Writing to a HDF5 Store."
      ]
    },
    {
      "cell_type": "code",
      "metadata": {
        "collapsed": true,
        "id": "FqJTMKILcT6I"
      },
      "source": [
        "df.to_hdf('foo.h5', 'df')"
      ],
      "execution_count": null,
      "outputs": []
    },
    {
      "cell_type": "markdown",
      "metadata": {
        "id": "9jrvz2EJcT6I"
      },
      "source": [
        "Reading from a HDF5 Store."
      ]
    },
    {
      "cell_type": "code",
      "metadata": {
        "id": "yNrqStN2cT6I"
      },
      "source": [
        "pd.read_hdf('foo.h5','df').head()"
      ],
      "execution_count": null,
      "outputs": []
    },
    {
      "cell_type": "markdown",
      "metadata": {
        "id": "OXHpLpOrcT6I"
      },
      "source": [
        "### Excel\n",
        "Reading and writing to [MS Excel](https://pandas.pydata.org/pandas-docs/stable/io.html#io-excel \"Excel files\").\n",
        "\n",
        "Writing to an excel file."
      ]
    },
    {
      "cell_type": "code",
      "metadata": {
        "collapsed": true,
        "id": "cV1-rjiDcT6I"
      },
      "source": [
        "df.to_excel('foo.xlsx', sheet_name='Sheet1')"
      ],
      "execution_count": null,
      "outputs": []
    },
    {
      "cell_type": "markdown",
      "metadata": {
        "id": "kmIJBzqEcT6I"
      },
      "source": [
        "Reading from an excel file."
      ]
    },
    {
      "cell_type": "code",
      "metadata": {
        "id": "U6c1D7zEcT6I"
      },
      "source": [
        "pd.read_excel('foo.xlsx', 'Sheet1', index_col=None, na_values=['NA']).head()"
      ],
      "execution_count": null,
      "outputs": []
    },
    {
      "cell_type": "markdown",
      "metadata": {
        "id": "QWLHqvdJcT6J"
      },
      "source": [
        "<br><br>"
      ]
    },
    {
      "cell_type": "markdown",
      "metadata": {
        "id": "ypgCpYZKcT6J"
      },
      "source": [
        "See [Comparisons](https://pandas.pydata.org/pandas-docs/stable/basics.html#basics-compare \"Flexible Comparisons\") for an explanation and what to do.\n",
        "\n",
        "See [Gotchas](https://pandas.pydata.org/pandas-docs/stable/gotchas.html#gotchas \"Frequently Asked Questions (FAQ)\") as well."
      ]
    }
  ]
}