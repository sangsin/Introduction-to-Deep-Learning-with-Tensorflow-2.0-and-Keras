{
  "nbformat": 4,
  "nbformat_minor": 0,
  "metadata": {
    "kernelspec": {
      "name": "python3",
      "display_name": "Python 3"
    },
    "colab": {
      "name": "One Hour Introduction to Pandas.ipynb",
      "provenance": [],
      "toc_visible": true,
      "machine_shape": "hm"
    },
    "accelerator": "GPU",
    "language_info": {
      "name": "python"
    }
  },
  "cells": [
    {
      "cell_type": "code",
      "metadata": {
        "collapsed": true,
        "id": "6Qx6tPWncT5n"
      },
      "source": [
        "import pandas as pd\n",
        "import numpy as np\n",
        "import matplotlib.pyplot as plt"
      ],
      "execution_count": 2,
      "outputs": []
    },
    {
      "cell_type": "markdown",
      "metadata": {
        "id": "k58PyKJgcT5p"
      },
      "source": [
        "## Object Creation\n",
        "---\n",
        "\n",
        "See the [Data Structure Intro section](http://pandas.pydata.org/pandas-docs/stable/dsintro.html#dsintro)."
      ]
    },
    {
      "cell_type": "markdown",
      "metadata": {
        "id": "eDNg1hD5cT5p"
      },
      "source": [
        "### Create a Series\n",
        "\n",
        "Create a **Series** by passing a list of values, letting pandas create a default integer index:"
      ]
    },
    {
      "cell_type": "code",
      "metadata": {
        "collapsed": true,
        "id": "6piYbsyRcT5p",
        "colab": {
          "base_uri": "https://localhost:8080/"
        },
        "outputId": "331c385a-6744-42fe-d541-a88f44d8c5c1"
      },
      "source": [
        "s = pd.Series([1, 3, 5, np.nan, 6, 8])\n",
        "s"
      ],
      "execution_count": 5,
      "outputs": [
        {
          "output_type": "execute_result",
          "data": {
            "text/plain": [
              "0    1.0\n",
              "1    3.0\n",
              "2    5.0\n",
              "3    NaN\n",
              "4    6.0\n",
              "5    8.0\n",
              "dtype: float64"
            ]
          },
          "metadata": {
            "tags": []
          },
          "execution_count": 5
        }
      ]
    },
    {
      "cell_type": "code",
      "metadata": {
        "id": "ltAVdyOJcT5p",
        "colab": {
          "base_uri": "https://localhost:8080/"
        },
        "outputId": "b4c29568-0a13-4226-9f85-00ca10e6e5de"
      },
      "source": [
        "type(s.values), type(s)"
      ],
      "execution_count": 12,
      "outputs": [
        {
          "output_type": "execute_result",
          "data": {
            "text/plain": [
              "(numpy.ndarray, pandas.core.series.Series)"
            ]
          },
          "metadata": {
            "tags": []
          },
          "execution_count": 12
        }
      ]
    },
    {
      "cell_type": "markdown",
      "metadata": {
        "id": "rehq6YmNcT5q"
      },
      "source": [
        "### Create a DataFrame\n",
        "\n",
        "+ From a **numpy array**, with a datetime **index** and labeled **columns**:"
      ]
    },
    {
      "cell_type": "code",
      "metadata": {
        "collapsed": true,
        "id": "picOLSI2cT5q",
        "colab": {
          "base_uri": "https://localhost:8080/"
        },
        "outputId": "cbf98e65-7065-41ed-b981-c0d4a8adfff5"
      },
      "source": [
        "dates = pd.date_range('20130101', periods = 6)\n",
        "dates"
      ],
      "execution_count": 7,
      "outputs": [
        {
          "output_type": "execute_result",
          "data": {
            "text/plain": [
              "DatetimeIndex(['2013-01-01', '2013-01-02', '2013-01-03', '2013-01-04',\n",
              "               '2013-01-05', '2013-01-06'],\n",
              "              dtype='datetime64[ns]', freq='D')"
            ]
          },
          "metadata": {
            "tags": []
          },
          "execution_count": 7
        }
      ]
    },
    {
      "cell_type": "code",
      "metadata": {
        "id": "CjB5DFNQcT5q",
        "colab": {
          "base_uri": "https://localhost:8080/"
        },
        "outputId": "10fcaf8a-da39-4489-ab59-8697b825e2be"
      },
      "source": [
        "type(dates.values), type(dates)"
      ],
      "execution_count": 11,
      "outputs": [
        {
          "output_type": "execute_result",
          "data": {
            "text/plain": [
              "(numpy.ndarray, pandas.core.indexes.datetimes.DatetimeIndex)"
            ]
          },
          "metadata": {
            "tags": []
          },
          "execution_count": 11
        }
      ]
    },
    {
      "cell_type": "code",
      "metadata": {
        "collapsed": true,
        "id": "CeCy5NZ0cT5r",
        "colab": {
          "base_uri": "https://localhost:8080/",
          "height": 233
        },
        "outputId": "5fbe132a-2a3e-4252-8623-b405b59272ff"
      },
      "source": [
        "df = pd.DataFrame(np.random.randn(6, 4), index = dates, columns = list('ABCD'))\n",
        "df"
      ],
      "execution_count": 9,
      "outputs": [
        {
          "output_type": "execute_result",
          "data": {
            "text/html": [
              "<div>\n",
              "<style scoped>\n",
              "    .dataframe tbody tr th:only-of-type {\n",
              "        vertical-align: middle;\n",
              "    }\n",
              "\n",
              "    .dataframe tbody tr th {\n",
              "        vertical-align: top;\n",
              "    }\n",
              "\n",
              "    .dataframe thead th {\n",
              "        text-align: right;\n",
              "    }\n",
              "</style>\n",
              "<table border=\"1\" class=\"dataframe\">\n",
              "  <thead>\n",
              "    <tr style=\"text-align: right;\">\n",
              "      <th></th>\n",
              "      <th>A</th>\n",
              "      <th>B</th>\n",
              "      <th>C</th>\n",
              "      <th>D</th>\n",
              "    </tr>\n",
              "  </thead>\n",
              "  <tbody>\n",
              "    <tr>\n",
              "      <th>2013-01-01</th>\n",
              "      <td>1.166387</td>\n",
              "      <td>0.696334</td>\n",
              "      <td>1.136022</td>\n",
              "      <td>0.763605</td>\n",
              "    </tr>\n",
              "    <tr>\n",
              "      <th>2013-01-02</th>\n",
              "      <td>1.515749</td>\n",
              "      <td>-0.142755</td>\n",
              "      <td>-0.432827</td>\n",
              "      <td>0.553764</td>\n",
              "    </tr>\n",
              "    <tr>\n",
              "      <th>2013-01-03</th>\n",
              "      <td>0.509061</td>\n",
              "      <td>-1.071243</td>\n",
              "      <td>1.783740</td>\n",
              "      <td>-0.290010</td>\n",
              "    </tr>\n",
              "    <tr>\n",
              "      <th>2013-01-04</th>\n",
              "      <td>-0.913369</td>\n",
              "      <td>-0.305965</td>\n",
              "      <td>0.073172</td>\n",
              "      <td>-0.097505</td>\n",
              "    </tr>\n",
              "    <tr>\n",
              "      <th>2013-01-05</th>\n",
              "      <td>-0.682212</td>\n",
              "      <td>-1.204597</td>\n",
              "      <td>-0.884846</td>\n",
              "      <td>0.031236</td>\n",
              "    </tr>\n",
              "    <tr>\n",
              "      <th>2013-01-06</th>\n",
              "      <td>1.499389</td>\n",
              "      <td>-2.119888</td>\n",
              "      <td>1.210498</td>\n",
              "      <td>0.127535</td>\n",
              "    </tr>\n",
              "  </tbody>\n",
              "</table>\n",
              "</div>"
            ],
            "text/plain": [
              "                   A         B         C         D\n",
              "2013-01-01  1.166387  0.696334  1.136022  0.763605\n",
              "2013-01-02  1.515749 -0.142755 -0.432827  0.553764\n",
              "2013-01-03  0.509061 -1.071243  1.783740 -0.290010\n",
              "2013-01-04 -0.913369 -0.305965  0.073172 -0.097505\n",
              "2013-01-05 -0.682212 -1.204597 -0.884846  0.031236\n",
              "2013-01-06  1.499389 -2.119888  1.210498  0.127535"
            ]
          },
          "metadata": {
            "tags": []
          },
          "execution_count": 9
        }
      ]
    },
    {
      "cell_type": "code",
      "metadata": {
        "id": "epSzZSKXcT5r",
        "colab": {
          "base_uri": "https://localhost:8080/"
        },
        "outputId": "2dbc2822-b146-4feb-86ef-14e93379ce32"
      },
      "source": [
        "type(df.values), type(df)"
      ],
      "execution_count": 10,
      "outputs": [
        {
          "output_type": "execute_result",
          "data": {
            "text/plain": [
              "(numpy.ndarray, pandas.core.frame.DataFrame)"
            ]
          },
          "metadata": {
            "tags": []
          },
          "execution_count": 10
        }
      ]
    },
    {
      "cell_type": "markdown",
      "metadata": {
        "id": "cp6fUdpXgZmT"
      },
      "source": [
        "**참고: list of a string**"
      ]
    },
    {
      "cell_type": "code",
      "metadata": {
        "colab": {
          "base_uri": "https://localhost:8080/"
        },
        "id": "VC9NcKgTIfv5",
        "outputId": "66bbb5a8-acb1-482e-b828-09b4a45ce519"
      },
      "source": [
        "a=list('abcd') \n",
        "b=list(['a','b','c','d'])\n",
        "print(a==b)\n",
        "print(a,b)\n"
      ],
      "execution_count": null,
      "outputs": [
        {
          "output_type": "stream",
          "text": [
            "True\n",
            "['a', 'b', 'c', 'd'] ['a', 'b', 'c', 'd']\n"
          ],
          "name": "stdout"
        }
      ]
    },
    {
      "cell_type": "markdown",
      "metadata": {
        "id": "8XfbiinicT5r"
      },
      "source": [
        "* From a **dict** of objects that can be converted to series-like."
      ]
    },
    {
      "cell_type": "code",
      "metadata": {
        "collapsed": true,
        "id": "umOeqMAqcT5r"
      },
      "source": [
        "df2 = pd.DataFrame({ 'A' : 1.,\n",
        "                     'B' : pd.Timestamp('20130102'),\n",
        "                     'C' : pd.Series(1,index=list(range(4)),dtype='float32'),\n",
        "                     'D' : np.array([3] * 4,dtype='int32'),\n",
        "                     'E' : pd.Categorical([\"test\",\"train\",\"test\",\"train\"]),\n",
        "                     'F' : 'foo' })"
      ],
      "execution_count": null,
      "outputs": []
    },
    {
      "cell_type": "markdown",
      "metadata": {
        "id": "pa8ZDSsxi6jJ"
      },
      "source": [
        "**참고: 약간 복잡한 list comprehension**"
      ]
    },
    {
      "cell_type": "code",
      "metadata": {
        "colab": {
          "base_uri": "https://localhost:8080/"
        },
        "id": "pWOWYPv14NJW",
        "outputId": "541b7388-8e08-4b39-9296-7adc2e3b2d64"
      },
      "source": [
        "P = [ [3*(i-1)+j]*3 for i in range(1,4) for j in range(1,4) ]\n",
        "P"
      ],
      "execution_count": null,
      "outputs": [
        {
          "output_type": "execute_result",
          "data": {
            "text/plain": [
              "[[1, 1, 1],\n",
              " [2, 2, 2],\n",
              " [3, 3, 3],\n",
              " [4, 4, 4],\n",
              " [5, 5, 5],\n",
              " [6, 6, 6],\n",
              " [7, 7, 7],\n",
              " [8, 8, 8],\n",
              " [9, 9, 9]]"
            ]
          },
          "metadata": {
            "tags": []
          },
          "execution_count": 10
        }
      ]
    },
    {
      "cell_type": "code",
      "metadata": {
        "id": "_IR86NtBcT5r",
        "colab": {
          "base_uri": "https://localhost:8080/",
          "height": 173
        },
        "outputId": "29ef9fe2-a315-4e6b-b5aa-a5bbe33759dd"
      },
      "source": [
        "df2"
      ],
      "execution_count": null,
      "outputs": [
        {
          "output_type": "execute_result",
          "data": {
            "text/html": [
              "<div>\n",
              "<style scoped>\n",
              "    .dataframe tbody tr th:only-of-type {\n",
              "        vertical-align: middle;\n",
              "    }\n",
              "\n",
              "    .dataframe tbody tr th {\n",
              "        vertical-align: top;\n",
              "    }\n",
              "\n",
              "    .dataframe thead th {\n",
              "        text-align: right;\n",
              "    }\n",
              "</style>\n",
              "<table border=\"1\" class=\"dataframe\">\n",
              "  <thead>\n",
              "    <tr style=\"text-align: right;\">\n",
              "      <th></th>\n",
              "      <th>A</th>\n",
              "      <th>B</th>\n",
              "      <th>C</th>\n",
              "      <th>D</th>\n",
              "      <th>E</th>\n",
              "      <th>F</th>\n",
              "    </tr>\n",
              "  </thead>\n",
              "  <tbody>\n",
              "    <tr>\n",
              "      <th>0</th>\n",
              "      <td>1.0</td>\n",
              "      <td>2013-01-02</td>\n",
              "      <td>1.0</td>\n",
              "      <td>3</td>\n",
              "      <td>test</td>\n",
              "      <td>foo</td>\n",
              "    </tr>\n",
              "    <tr>\n",
              "      <th>1</th>\n",
              "      <td>1.0</td>\n",
              "      <td>2013-01-02</td>\n",
              "      <td>1.0</td>\n",
              "      <td>3</td>\n",
              "      <td>train</td>\n",
              "      <td>foo</td>\n",
              "    </tr>\n",
              "    <tr>\n",
              "      <th>2</th>\n",
              "      <td>1.0</td>\n",
              "      <td>2013-01-02</td>\n",
              "      <td>1.0</td>\n",
              "      <td>3</td>\n",
              "      <td>test</td>\n",
              "      <td>foo</td>\n",
              "    </tr>\n",
              "    <tr>\n",
              "      <th>3</th>\n",
              "      <td>1.0</td>\n",
              "      <td>2013-01-02</td>\n",
              "      <td>1.0</td>\n",
              "      <td>3</td>\n",
              "      <td>train</td>\n",
              "      <td>foo</td>\n",
              "    </tr>\n",
              "  </tbody>\n",
              "</table>\n",
              "</div>"
            ],
            "text/plain": [
              "     A          B    C  D      E    F\n",
              "0  1.0 2013-01-02  1.0  3   test  foo\n",
              "1  1.0 2013-01-02  1.0  3  train  foo\n",
              "2  1.0 2013-01-02  1.0  3   test  foo\n",
              "3  1.0 2013-01-02  1.0  3  train  foo"
            ]
          },
          "metadata": {
            "tags": []
          },
          "execution_count": 115
        }
      ]
    },
    {
      "cell_type": "markdown",
      "metadata": {
        "id": "J-Nil0-ZcT5s"
      },
      "source": [
        "Having specific dtypes"
      ]
    },
    {
      "cell_type": "code",
      "metadata": {
        "id": "wj1IweCDcT5s",
        "colab": {
          "base_uri": "https://localhost:8080/"
        },
        "outputId": "1e330a4a-11e3-47eb-cd07-9ffd1a2678b8"
      },
      "source": [
        "df2.dtypes"
      ],
      "execution_count": null,
      "outputs": [
        {
          "output_type": "execute_result",
          "data": {
            "text/plain": [
              "A           float64\n",
              "B    datetime64[ns]\n",
              "C           float32\n",
              "D             int32\n",
              "E          category\n",
              "F            object\n",
              "dtype: object"
            ]
          },
          "metadata": {
            "tags": []
          },
          "execution_count": 12
        }
      ]
    },
    {
      "cell_type": "markdown",
      "metadata": {
        "id": "NkRDlJL9cT5s"
      },
      "source": [
        "If you’re using IPython, tab completion for column names (as well as public attributes) is automatically enabled. Here’s a subset of the attributes that will be completed:"
      ]
    },
    {
      "cell_type": "markdown",
      "metadata": {
        "id": "8icb_ud_cT5s"
      },
      "source": [
        "## Viewing Data\n",
        "---\n",
        "See the [Basics section](https://pandas.pydata.org/pandas-docs/stable/basics.html#basics \"Essential Basic Functionality\")"
      ]
    },
    {
      "cell_type": "markdown",
      "metadata": {
        "id": "aWbUG451cT5s"
      },
      "source": [
        "See the top & bottom rows of the frame."
      ]
    },
    {
      "cell_type": "code",
      "metadata": {
        "id": "37R1FvRucT5t",
        "colab": {
          "base_uri": "https://localhost:8080/",
          "height": 203
        },
        "outputId": "fb81e17e-af44-4139-8a66-b3527ccbd03e"
      },
      "source": [
        "df.head()\n"
      ],
      "execution_count": null,
      "outputs": [
        {
          "output_type": "execute_result",
          "data": {
            "text/html": [
              "<div>\n",
              "<style scoped>\n",
              "    .dataframe tbody tr th:only-of-type {\n",
              "        vertical-align: middle;\n",
              "    }\n",
              "\n",
              "    .dataframe tbody tr th {\n",
              "        vertical-align: top;\n",
              "    }\n",
              "\n",
              "    .dataframe thead th {\n",
              "        text-align: right;\n",
              "    }\n",
              "</style>\n",
              "<table border=\"1\" class=\"dataframe\">\n",
              "  <thead>\n",
              "    <tr style=\"text-align: right;\">\n",
              "      <th></th>\n",
              "      <th>A</th>\n",
              "      <th>B</th>\n",
              "      <th>C</th>\n",
              "      <th>D</th>\n",
              "    </tr>\n",
              "  </thead>\n",
              "  <tbody>\n",
              "    <tr>\n",
              "      <th>2000-01-01</th>\n",
              "      <td>0.483598</td>\n",
              "      <td>0.426364</td>\n",
              "      <td>-0.117650</td>\n",
              "      <td>-0.306856</td>\n",
              "    </tr>\n",
              "    <tr>\n",
              "      <th>2000-01-02</th>\n",
              "      <td>2.079464</td>\n",
              "      <td>0.207178</td>\n",
              "      <td>-1.478635</td>\n",
              "      <td>-2.985918</td>\n",
              "    </tr>\n",
              "    <tr>\n",
              "      <th>2000-01-03</th>\n",
              "      <td>2.545530</td>\n",
              "      <td>-1.393445</td>\n",
              "      <td>0.299719</td>\n",
              "      <td>-2.241067</td>\n",
              "    </tr>\n",
              "    <tr>\n",
              "      <th>2000-01-04</th>\n",
              "      <td>2.270839</td>\n",
              "      <td>-0.593655</td>\n",
              "      <td>0.675529</td>\n",
              "      <td>-2.311171</td>\n",
              "    </tr>\n",
              "    <tr>\n",
              "      <th>2000-01-05</th>\n",
              "      <td>2.437582</td>\n",
              "      <td>-1.811711</td>\n",
              "      <td>0.227139</td>\n",
              "      <td>-3.210259</td>\n",
              "    </tr>\n",
              "  </tbody>\n",
              "</table>\n",
              "</div>"
            ],
            "text/plain": [
              "                   A         B         C         D\n",
              "2000-01-01  0.483598  0.426364 -0.117650 -0.306856\n",
              "2000-01-02  2.079464  0.207178 -1.478635 -2.985918\n",
              "2000-01-03  2.545530 -1.393445  0.299719 -2.241067\n",
              "2000-01-04  2.270839 -0.593655  0.675529 -2.311171\n",
              "2000-01-05  2.437582 -1.811711  0.227139 -3.210259"
            ]
          },
          "metadata": {
            "tags": []
          },
          "execution_count": 117
        }
      ]
    },
    {
      "cell_type": "code",
      "metadata": {
        "id": "kgPeENtKcT5t",
        "colab": {
          "base_uri": "https://localhost:8080/",
          "height": 141
        },
        "outputId": "bde5823f-9f0e-45db-f228-983f01d050e6"
      },
      "source": [
        "df.tail(3)"
      ],
      "execution_count": null,
      "outputs": [
        {
          "output_type": "execute_result",
          "data": {
            "text/html": [
              "<div>\n",
              "<style scoped>\n",
              "    .dataframe tbody tr th:only-of-type {\n",
              "        vertical-align: middle;\n",
              "    }\n",
              "\n",
              "    .dataframe tbody tr th {\n",
              "        vertical-align: top;\n",
              "    }\n",
              "\n",
              "    .dataframe thead th {\n",
              "        text-align: right;\n",
              "    }\n",
              "</style>\n",
              "<table border=\"1\" class=\"dataframe\">\n",
              "  <thead>\n",
              "    <tr style=\"text-align: right;\">\n",
              "      <th></th>\n",
              "      <th>A</th>\n",
              "      <th>B</th>\n",
              "      <th>C</th>\n",
              "      <th>D</th>\n",
              "    </tr>\n",
              "  </thead>\n",
              "  <tbody>\n",
              "    <tr>\n",
              "      <th>2013-01-04</th>\n",
              "      <td>-1.635065</td>\n",
              "      <td>0.983312</td>\n",
              "      <td>-1.862900</td>\n",
              "      <td>0.511334</td>\n",
              "    </tr>\n",
              "    <tr>\n",
              "      <th>2013-01-05</th>\n",
              "      <td>1.085677</td>\n",
              "      <td>-0.501334</td>\n",
              "      <td>-0.050755</td>\n",
              "      <td>-0.925486</td>\n",
              "    </tr>\n",
              "    <tr>\n",
              "      <th>2013-01-06</th>\n",
              "      <td>-0.651435</td>\n",
              "      <td>0.091569</td>\n",
              "      <td>-0.882793</td>\n",
              "      <td>0.478696</td>\n",
              "    </tr>\n",
              "  </tbody>\n",
              "</table>\n",
              "</div>"
            ],
            "text/plain": [
              "                   A         B         C         D\n",
              "2013-01-04 -1.635065  0.983312 -1.862900  0.511334\n",
              "2013-01-05  1.085677 -0.501334 -0.050755 -0.925486\n",
              "2013-01-06 -0.651435  0.091569 -0.882793  0.478696"
            ]
          },
          "metadata": {
            "tags": []
          },
          "execution_count": 14
        }
      ]
    },
    {
      "cell_type": "code",
      "metadata": {
        "colab": {
          "base_uri": "https://localhost:8080/"
        },
        "id": "3disbaieFA_3",
        "outputId": "bd03fa8c-86df-4dee-c621-83bd102984e8"
      },
      "source": [
        "len(df), df.shape\n",
        "\n"
      ],
      "execution_count": null,
      "outputs": [
        {
          "output_type": "execute_result",
          "data": {
            "text/plain": [
              "(6, (6, 4))"
            ]
          },
          "metadata": {
            "tags": []
          },
          "execution_count": 15
        }
      ]
    },
    {
      "cell_type": "markdown",
      "metadata": {
        "id": "2UbEoS4JcT5t"
      },
      "source": [
        "Display the index, colums, and the underlying numpy data."
      ]
    },
    {
      "cell_type": "code",
      "metadata": {
        "id": "okGv7ihWcT5t",
        "colab": {
          "base_uri": "https://localhost:8080/"
        },
        "outputId": "ea955f3c-b6fe-44fa-efa6-ae26b78c815a"
      },
      "source": [
        "df.index"
      ],
      "execution_count": null,
      "outputs": [
        {
          "output_type": "execute_result",
          "data": {
            "text/plain": [
              "DatetimeIndex(['2013-01-01', '2013-01-02', '2013-01-03', '2013-01-04',\n",
              "               '2013-01-05', '2013-01-06'],\n",
              "              dtype='datetime64[ns]', freq='D')"
            ]
          },
          "metadata": {
            "tags": []
          },
          "execution_count": 16
        }
      ]
    },
    {
      "cell_type": "code",
      "metadata": {
        "id": "0ullBSGkcT5t",
        "colab": {
          "base_uri": "https://localhost:8080/"
        },
        "outputId": "764d22fa-f447-4db1-bb9c-51e5d68ab677"
      },
      "source": [
        "df.columns"
      ],
      "execution_count": null,
      "outputs": [
        {
          "output_type": "execute_result",
          "data": {
            "text/plain": [
              "Index(['A', 'B', 'C', 'D'], dtype='object')"
            ]
          },
          "metadata": {
            "tags": []
          },
          "execution_count": 17
        }
      ]
    },
    {
      "cell_type": "code",
      "metadata": {
        "id": "8WLYHTbZcT5t",
        "colab": {
          "base_uri": "https://localhost:8080/"
        },
        "outputId": "60a62baf-ddba-4ee9-f32d-5b6305225e85"
      },
      "source": [
        "c=df.values  # convert to numpy array(ndarray)\n",
        "print(type(c))\n",
        "c"
      ],
      "execution_count": null,
      "outputs": [
        {
          "output_type": "stream",
          "text": [
            "<class 'numpy.ndarray'>\n"
          ],
          "name": "stdout"
        },
        {
          "output_type": "execute_result",
          "data": {
            "text/plain": [
              "array([[ 1.50777825, -0.98850974, -1.65509956, -1.8907108 ],\n",
              "       [ 0.0367761 ,  0.57379321,  1.49657932, -0.13446649],\n",
              "       [-1.07853121, -1.09482512, -0.92130447, -0.5731196 ],\n",
              "       [-1.63506518,  0.98331157, -1.86290045,  0.51133396],\n",
              "       [ 1.08567666, -0.5013336 , -0.05075476, -0.92548628],\n",
              "       [-0.65143542,  0.0915692 , -0.88279295,  0.47869629]])"
            ]
          },
          "metadata": {
            "tags": []
          },
          "execution_count": 18
        }
      ]
    },
    {
      "cell_type": "markdown",
      "metadata": {
        "id": "on55MqH-cT5t"
      },
      "source": [
        "Describe shows a quick statistic summary of your data."
      ]
    },
    {
      "cell_type": "code",
      "metadata": {
        "id": "AMwKyc0ZcT5t",
        "colab": {
          "base_uri": "https://localhost:8080/",
          "height": 296
        },
        "outputId": "34dfb2d6-8f21-41c6-a695-f7c075a69cf0"
      },
      "source": [
        "df.describe()"
      ],
      "execution_count": null,
      "outputs": [
        {
          "output_type": "execute_result",
          "data": {
            "text/html": [
              "<div>\n",
              "<style scoped>\n",
              "    .dataframe tbody tr th:only-of-type {\n",
              "        vertical-align: middle;\n",
              "    }\n",
              "\n",
              "    .dataframe tbody tr th {\n",
              "        vertical-align: top;\n",
              "    }\n",
              "\n",
              "    .dataframe thead th {\n",
              "        text-align: right;\n",
              "    }\n",
              "</style>\n",
              "<table border=\"1\" class=\"dataframe\">\n",
              "  <thead>\n",
              "    <tr style=\"text-align: right;\">\n",
              "      <th></th>\n",
              "      <th>A</th>\n",
              "      <th>B</th>\n",
              "      <th>C</th>\n",
              "      <th>D</th>\n",
              "    </tr>\n",
              "  </thead>\n",
              "  <tbody>\n",
              "    <tr>\n",
              "      <th>count</th>\n",
              "      <td>6.000000</td>\n",
              "      <td>6.000000</td>\n",
              "      <td>6.000000</td>\n",
              "      <td>6.000000</td>\n",
              "    </tr>\n",
              "    <tr>\n",
              "      <th>mean</th>\n",
              "      <td>-0.122467</td>\n",
              "      <td>-0.155999</td>\n",
              "      <td>-0.646045</td>\n",
              "      <td>-0.422292</td>\n",
              "    </tr>\n",
              "    <tr>\n",
              "      <th>std</th>\n",
              "      <td>1.234867</td>\n",
              "      <td>0.846834</td>\n",
              "      <td>1.230931</td>\n",
              "      <td>0.916350</td>\n",
              "    </tr>\n",
              "    <tr>\n",
              "      <th>min</th>\n",
              "      <td>-1.635065</td>\n",
              "      <td>-1.094825</td>\n",
              "      <td>-1.862900</td>\n",
              "      <td>-1.890711</td>\n",
              "    </tr>\n",
              "    <tr>\n",
              "      <th>25%</th>\n",
              "      <td>-0.971757</td>\n",
              "      <td>-0.866716</td>\n",
              "      <td>-1.471651</td>\n",
              "      <td>-0.837395</td>\n",
              "    </tr>\n",
              "    <tr>\n",
              "      <th>50%</th>\n",
              "      <td>-0.307330</td>\n",
              "      <td>-0.204882</td>\n",
              "      <td>-0.902049</td>\n",
              "      <td>-0.353793</td>\n",
              "    </tr>\n",
              "    <tr>\n",
              "      <th>75%</th>\n",
              "      <td>0.823452</td>\n",
              "      <td>0.453237</td>\n",
              "      <td>-0.258764</td>\n",
              "      <td>0.325406</td>\n",
              "    </tr>\n",
              "    <tr>\n",
              "      <th>max</th>\n",
              "      <td>1.507778</td>\n",
              "      <td>0.983312</td>\n",
              "      <td>1.496579</td>\n",
              "      <td>0.511334</td>\n",
              "    </tr>\n",
              "  </tbody>\n",
              "</table>\n",
              "</div>"
            ],
            "text/plain": [
              "              A         B         C         D\n",
              "count  6.000000  6.000000  6.000000  6.000000\n",
              "mean  -0.122467 -0.155999 -0.646045 -0.422292\n",
              "std    1.234867  0.846834  1.230931  0.916350\n",
              "min   -1.635065 -1.094825 -1.862900 -1.890711\n",
              "25%   -0.971757 -0.866716 -1.471651 -0.837395\n",
              "50%   -0.307330 -0.204882 -0.902049 -0.353793\n",
              "75%    0.823452  0.453237 -0.258764  0.325406\n",
              "max    1.507778  0.983312  1.496579  0.511334"
            ]
          },
          "metadata": {
            "tags": []
          },
          "execution_count": 19
        }
      ]
    },
    {
      "cell_type": "markdown",
      "metadata": {
        "id": "-eXCwD9lcT5u"
      },
      "source": [
        "Transposing your data."
      ]
    },
    {
      "cell_type": "code",
      "metadata": {
        "id": "C59LUOFycT5u",
        "colab": {
          "base_uri": "https://localhost:8080/",
          "height": 173
        },
        "outputId": "c3aaaa7f-4516-4f81-de9d-67417afd6f6f"
      },
      "source": [
        "df.T"
      ],
      "execution_count": null,
      "outputs": [
        {
          "output_type": "execute_result",
          "data": {
            "text/html": [
              "<div>\n",
              "<style scoped>\n",
              "    .dataframe tbody tr th:only-of-type {\n",
              "        vertical-align: middle;\n",
              "    }\n",
              "\n",
              "    .dataframe tbody tr th {\n",
              "        vertical-align: top;\n",
              "    }\n",
              "\n",
              "    .dataframe thead th {\n",
              "        text-align: right;\n",
              "    }\n",
              "</style>\n",
              "<table border=\"1\" class=\"dataframe\">\n",
              "  <thead>\n",
              "    <tr style=\"text-align: right;\">\n",
              "      <th></th>\n",
              "      <th>2013-01-01</th>\n",
              "      <th>2013-01-02</th>\n",
              "      <th>2013-01-03</th>\n",
              "      <th>2013-01-04</th>\n",
              "      <th>2013-01-05</th>\n",
              "      <th>2013-01-06</th>\n",
              "    </tr>\n",
              "  </thead>\n",
              "  <tbody>\n",
              "    <tr>\n",
              "      <th>A</th>\n",
              "      <td>1.507778</td>\n",
              "      <td>0.036776</td>\n",
              "      <td>-1.078531</td>\n",
              "      <td>-1.635065</td>\n",
              "      <td>1.085677</td>\n",
              "      <td>-0.651435</td>\n",
              "    </tr>\n",
              "    <tr>\n",
              "      <th>B</th>\n",
              "      <td>-0.988510</td>\n",
              "      <td>0.573793</td>\n",
              "      <td>-1.094825</td>\n",
              "      <td>0.983312</td>\n",
              "      <td>-0.501334</td>\n",
              "      <td>0.091569</td>\n",
              "    </tr>\n",
              "    <tr>\n",
              "      <th>C</th>\n",
              "      <td>-1.655100</td>\n",
              "      <td>1.496579</td>\n",
              "      <td>-0.921304</td>\n",
              "      <td>-1.862900</td>\n",
              "      <td>-0.050755</td>\n",
              "      <td>-0.882793</td>\n",
              "    </tr>\n",
              "    <tr>\n",
              "      <th>D</th>\n",
              "      <td>-1.890711</td>\n",
              "      <td>-0.134466</td>\n",
              "      <td>-0.573120</td>\n",
              "      <td>0.511334</td>\n",
              "      <td>-0.925486</td>\n",
              "      <td>0.478696</td>\n",
              "    </tr>\n",
              "  </tbody>\n",
              "</table>\n",
              "</div>"
            ],
            "text/plain": [
              "   2013-01-01  2013-01-02  2013-01-03  2013-01-04  2013-01-05  2013-01-06\n",
              "A    1.507778    0.036776   -1.078531   -1.635065    1.085677   -0.651435\n",
              "B   -0.988510    0.573793   -1.094825    0.983312   -0.501334    0.091569\n",
              "C   -1.655100    1.496579   -0.921304   -1.862900   -0.050755   -0.882793\n",
              "D   -1.890711   -0.134466   -0.573120    0.511334   -0.925486    0.478696"
            ]
          },
          "metadata": {
            "tags": []
          },
          "execution_count": 20
        }
      ]
    },
    {
      "cell_type": "markdown",
      "metadata": {
        "id": "WLYNYeJecT5u"
      },
      "source": [
        "Sorting by an axis."
      ]
    },
    {
      "cell_type": "code",
      "metadata": {
        "id": "PvtiP8GHcT5u",
        "colab": {
          "base_uri": "https://localhost:8080/",
          "height": 418
        },
        "outputId": "53da1a49-4ff1-4856-a4a3-b8c88d65509a"
      },
      "source": [
        "df.sort_index(axis='columns',ascending = False) # Axis to be sorted. => axis{0 or ‘index’, 1 or ‘columns’}, default 0 "
      ],
      "execution_count": null,
      "outputs": [
        {
          "output_type": "execute_result",
          "data": {
            "text/html": [
              "<div>\n",
              "<style scoped>\n",
              "    .dataframe tbody tr th:only-of-type {\n",
              "        vertical-align: middle;\n",
              "    }\n",
              "\n",
              "    .dataframe tbody tr th {\n",
              "        vertical-align: top;\n",
              "    }\n",
              "\n",
              "    .dataframe thead th {\n",
              "        text-align: right;\n",
              "    }\n",
              "</style>\n",
              "<table border=\"1\" class=\"dataframe\">\n",
              "  <thead>\n",
              "    <tr style=\"text-align: right;\">\n",
              "      <th></th>\n",
              "      <th>D</th>\n",
              "      <th>C</th>\n",
              "      <th>B</th>\n",
              "      <th>A</th>\n",
              "    </tr>\n",
              "  </thead>\n",
              "  <tbody>\n",
              "    <tr>\n",
              "      <th>2000-01-01</th>\n",
              "      <td>-0.306856</td>\n",
              "      <td>-0.117650</td>\n",
              "      <td>0.426364</td>\n",
              "      <td>0.483598</td>\n",
              "    </tr>\n",
              "    <tr>\n",
              "      <th>2000-01-02</th>\n",
              "      <td>-2.985918</td>\n",
              "      <td>-1.478635</td>\n",
              "      <td>0.207178</td>\n",
              "      <td>2.079464</td>\n",
              "    </tr>\n",
              "    <tr>\n",
              "      <th>2000-01-03</th>\n",
              "      <td>-2.241067</td>\n",
              "      <td>0.299719</td>\n",
              "      <td>-1.393445</td>\n",
              "      <td>2.545530</td>\n",
              "    </tr>\n",
              "    <tr>\n",
              "      <th>2000-01-04</th>\n",
              "      <td>-2.311171</td>\n",
              "      <td>0.675529</td>\n",
              "      <td>-0.593655</td>\n",
              "      <td>2.270839</td>\n",
              "    </tr>\n",
              "    <tr>\n",
              "      <th>2000-01-05</th>\n",
              "      <td>-3.210259</td>\n",
              "      <td>0.227139</td>\n",
              "      <td>-1.811711</td>\n",
              "      <td>2.437582</td>\n",
              "    </tr>\n",
              "    <tr>\n",
              "      <th>...</th>\n",
              "      <td>...</td>\n",
              "      <td>...</td>\n",
              "      <td>...</td>\n",
              "      <td>...</td>\n",
              "    </tr>\n",
              "    <tr>\n",
              "      <th>2002-09-22</th>\n",
              "      <td>-64.392089</td>\n",
              "      <td>19.130945</td>\n",
              "      <td>-19.808672</td>\n",
              "      <td>-16.058726</td>\n",
              "    </tr>\n",
              "    <tr>\n",
              "      <th>2002-09-23</th>\n",
              "      <td>-66.089537</td>\n",
              "      <td>20.228742</td>\n",
              "      <td>-18.630670</td>\n",
              "      <td>-14.328951</td>\n",
              "    </tr>\n",
              "    <tr>\n",
              "      <th>2002-09-24</th>\n",
              "      <td>-64.984251</td>\n",
              "      <td>21.426182</td>\n",
              "      <td>-17.559811</td>\n",
              "      <td>-14.744091</td>\n",
              "    </tr>\n",
              "    <tr>\n",
              "      <th>2002-09-25</th>\n",
              "      <td>-65.091796</td>\n",
              "      <td>20.702291</td>\n",
              "      <td>-16.058676</td>\n",
              "      <td>-13.787952</td>\n",
              "    </tr>\n",
              "    <tr>\n",
              "      <th>2002-09-26</th>\n",
              "      <td>-64.644553</td>\n",
              "      <td>21.573090</td>\n",
              "      <td>-16.471580</td>\n",
              "      <td>-15.580613</td>\n",
              "    </tr>\n",
              "  </tbody>\n",
              "</table>\n",
              "<p>1000 rows × 4 columns</p>\n",
              "</div>"
            ],
            "text/plain": [
              "                    D          C          B          A\n",
              "2000-01-01  -0.306856  -0.117650   0.426364   0.483598\n",
              "2000-01-02  -2.985918  -1.478635   0.207178   2.079464\n",
              "2000-01-03  -2.241067   0.299719  -1.393445   2.545530\n",
              "2000-01-04  -2.311171   0.675529  -0.593655   2.270839\n",
              "2000-01-05  -3.210259   0.227139  -1.811711   2.437582\n",
              "...               ...        ...        ...        ...\n",
              "2002-09-22 -64.392089  19.130945 -19.808672 -16.058726\n",
              "2002-09-23 -66.089537  20.228742 -18.630670 -14.328951\n",
              "2002-09-24 -64.984251  21.426182 -17.559811 -14.744091\n",
              "2002-09-25 -65.091796  20.702291 -16.058676 -13.787952\n",
              "2002-09-26 -64.644553  21.573090 -16.471580 -15.580613\n",
              "\n",
              "[1000 rows x 4 columns]"
            ]
          },
          "metadata": {
            "tags": []
          },
          "execution_count": 118
        }
      ]
    },
    {
      "cell_type": "code",
      "metadata": {
        "id": "od9ruYyqrOJz",
        "colab": {
          "base_uri": "https://localhost:8080/",
          "height": 234
        },
        "outputId": "3b947f62-bcd5-4f3d-8141-c85692e44b01"
      },
      "source": [
        "df.sort_index(axis='index', ascending = False)"
      ],
      "execution_count": null,
      "outputs": [
        {
          "output_type": "execute_result",
          "data": {
            "text/html": [
              "<div>\n",
              "<style scoped>\n",
              "    .dataframe tbody tr th:only-of-type {\n",
              "        vertical-align: middle;\n",
              "    }\n",
              "\n",
              "    .dataframe tbody tr th {\n",
              "        vertical-align: top;\n",
              "    }\n",
              "\n",
              "    .dataframe thead th {\n",
              "        text-align: right;\n",
              "    }\n",
              "</style>\n",
              "<table border=\"1\" class=\"dataframe\">\n",
              "  <thead>\n",
              "    <tr style=\"text-align: right;\">\n",
              "      <th></th>\n",
              "      <th>A</th>\n",
              "      <th>B</th>\n",
              "      <th>C</th>\n",
              "      <th>D</th>\n",
              "    </tr>\n",
              "  </thead>\n",
              "  <tbody>\n",
              "    <tr>\n",
              "      <th>2013-01-06</th>\n",
              "      <td>-0.651435</td>\n",
              "      <td>0.091569</td>\n",
              "      <td>-0.882793</td>\n",
              "      <td>0.478696</td>\n",
              "    </tr>\n",
              "    <tr>\n",
              "      <th>2013-01-05</th>\n",
              "      <td>1.085677</td>\n",
              "      <td>-0.501334</td>\n",
              "      <td>-0.050755</td>\n",
              "      <td>-0.925486</td>\n",
              "    </tr>\n",
              "    <tr>\n",
              "      <th>2013-01-04</th>\n",
              "      <td>-1.635065</td>\n",
              "      <td>0.983312</td>\n",
              "      <td>-1.862900</td>\n",
              "      <td>0.511334</td>\n",
              "    </tr>\n",
              "    <tr>\n",
              "      <th>2013-01-03</th>\n",
              "      <td>-1.078531</td>\n",
              "      <td>-1.094825</td>\n",
              "      <td>-0.921304</td>\n",
              "      <td>-0.573120</td>\n",
              "    </tr>\n",
              "    <tr>\n",
              "      <th>2013-01-02</th>\n",
              "      <td>0.036776</td>\n",
              "      <td>0.573793</td>\n",
              "      <td>1.496579</td>\n",
              "      <td>-0.134466</td>\n",
              "    </tr>\n",
              "    <tr>\n",
              "      <th>2013-01-01</th>\n",
              "      <td>1.507778</td>\n",
              "      <td>-0.988510</td>\n",
              "      <td>-1.655100</td>\n",
              "      <td>-1.890711</td>\n",
              "    </tr>\n",
              "  </tbody>\n",
              "</table>\n",
              "</div>"
            ],
            "text/plain": [
              "                   A         B         C         D\n",
              "2013-01-06 -0.651435  0.091569 -0.882793  0.478696\n",
              "2013-01-05  1.085677 -0.501334 -0.050755 -0.925486\n",
              "2013-01-04 -1.635065  0.983312 -1.862900  0.511334\n",
              "2013-01-03 -1.078531 -1.094825 -0.921304 -0.573120\n",
              "2013-01-02  0.036776  0.573793  1.496579 -0.134466\n",
              "2013-01-01  1.507778 -0.988510 -1.655100 -1.890711"
            ]
          },
          "metadata": {
            "tags": []
          },
          "execution_count": 22
        }
      ]
    },
    {
      "cell_type": "markdown",
      "metadata": {
        "id": "cDhGo2fxcT5u"
      },
      "source": [
        "<br><br>"
      ]
    },
    {
      "cell_type": "markdown",
      "metadata": {
        "id": "2IH2BiHicT5u"
      },
      "source": [
        "## Selection\n",
        "---"
      ]
    },
    {
      "cell_type": "markdown",
      "metadata": {
        "id": "oWJCyWn9cT5u"
      },
      "source": [
        "**Note:** While standard Python/Numpy expressions for selecting and setting are intuitive and come in handy for interactive work, for production code, we recommend the optimized pandas data access methods, .at; .iat, .loc, .iloc and .ix."
      ]
    },
    {
      "cell_type": "markdown",
      "metadata": {
        "id": "0wq79X50cT5v"
      },
      "source": [
        "See the indexing documentation [Indexing and Selecting Data](https://pandas.pydata.org/pandas-docs/stable/indexing.html#indexing \"Indexing and Selecting Data\") and [MultiIndex / Advanced Indexing](https://pandas.pydata.org/pandas-docs/stable/advanced.html#advanced \"MultiIndex / Advanced Indexing\")."
      ]
    },
    {
      "cell_type": "markdown",
      "metadata": {
        "id": "Wzi8EmFkcT5v"
      },
      "source": [
        "### Getting"
      ]
    },
    {
      "cell_type": "markdown",
      "metadata": {
        "id": "7jntil9xcT5v"
      },
      "source": [
        "Selecting a single column, which yields a *Series*."
      ]
    },
    {
      "cell_type": "code",
      "metadata": {
        "id": "6hFkmz8kcT5v",
        "colab": {
          "base_uri": "https://localhost:8080/"
        },
        "outputId": "cb920ff2-368c-4d03-8aae-8125fe1a7c80"
      },
      "source": [
        "df['A']"
      ],
      "execution_count": null,
      "outputs": [
        {
          "output_type": "execute_result",
          "data": {
            "text/plain": [
              "2013-01-01    1.507778\n",
              "2013-01-02    0.036776\n",
              "2013-01-03   -1.078531\n",
              "2013-01-04   -1.635065\n",
              "2013-01-05    1.085677\n",
              "2013-01-06   -0.651435\n",
              "Freq: D, Name: A, dtype: float64"
            ]
          },
          "metadata": {
            "tags": []
          },
          "execution_count": 23
        }
      ]
    },
    {
      "cell_type": "code",
      "metadata": {
        "id": "dnViUwjYcT5v",
        "colab": {
          "base_uri": "https://localhost:8080/"
        },
        "outputId": "56effef7-f686-4d1c-eb9c-7f5f3100b8ce"
      },
      "source": [
        "df.A"
      ],
      "execution_count": null,
      "outputs": [
        {
          "output_type": "execute_result",
          "data": {
            "text/plain": [
              "2013-01-01    1.507778\n",
              "2013-01-02    0.036776\n",
              "2013-01-03   -1.078531\n",
              "2013-01-04   -1.635065\n",
              "2013-01-05    1.085677\n",
              "2013-01-06   -0.651435\n",
              "Freq: D, Name: A, dtype: float64"
            ]
          },
          "metadata": {
            "tags": []
          },
          "execution_count": 24
        }
      ]
    },
    {
      "cell_type": "code",
      "metadata": {
        "colab": {
          "base_uri": "https://localhost:8080/"
        },
        "id": "sKRp8lwnGBnn",
        "outputId": "3331c8f0-55d7-4f90-8f5b-bd65cc359ce1"
      },
      "source": [
        "type(df.A)"
      ],
      "execution_count": null,
      "outputs": [
        {
          "output_type": "execute_result",
          "data": {
            "text/plain": [
              "pandas.core.series.Series"
            ]
          },
          "metadata": {
            "tags": []
          },
          "execution_count": 25
        }
      ]
    },
    {
      "cell_type": "markdown",
      "metadata": {
        "id": "rdoFUrFbcT5v"
      },
      "source": [
        "# **Selecting via `[]`, which slices the rows.**"
      ]
    },
    {
      "cell_type": "code",
      "metadata": {
        "id": "CeybiUMMcT5v",
        "colab": {
          "base_uri": "https://localhost:8080/",
          "height": 141
        },
        "outputId": "c982c096-e235-4ee7-b0b1-440812d11e49"
      },
      "source": [
        "df[0 : 3]"
      ],
      "execution_count": null,
      "outputs": [
        {
          "output_type": "execute_result",
          "data": {
            "text/html": [
              "<div>\n",
              "<style scoped>\n",
              "    .dataframe tbody tr th:only-of-type {\n",
              "        vertical-align: middle;\n",
              "    }\n",
              "\n",
              "    .dataframe tbody tr th {\n",
              "        vertical-align: top;\n",
              "    }\n",
              "\n",
              "    .dataframe thead th {\n",
              "        text-align: right;\n",
              "    }\n",
              "</style>\n",
              "<table border=\"1\" class=\"dataframe\">\n",
              "  <thead>\n",
              "    <tr style=\"text-align: right;\">\n",
              "      <th></th>\n",
              "      <th>A</th>\n",
              "      <th>B</th>\n",
              "      <th>C</th>\n",
              "      <th>D</th>\n",
              "    </tr>\n",
              "  </thead>\n",
              "  <tbody>\n",
              "    <tr>\n",
              "      <th>2013-01-01</th>\n",
              "      <td>1.507778</td>\n",
              "      <td>-0.988510</td>\n",
              "      <td>-1.655100</td>\n",
              "      <td>-1.890711</td>\n",
              "    </tr>\n",
              "    <tr>\n",
              "      <th>2013-01-02</th>\n",
              "      <td>0.036776</td>\n",
              "      <td>0.573793</td>\n",
              "      <td>1.496579</td>\n",
              "      <td>-0.134466</td>\n",
              "    </tr>\n",
              "    <tr>\n",
              "      <th>2013-01-03</th>\n",
              "      <td>-1.078531</td>\n",
              "      <td>-1.094825</td>\n",
              "      <td>-0.921304</td>\n",
              "      <td>-0.573120</td>\n",
              "    </tr>\n",
              "  </tbody>\n",
              "</table>\n",
              "</div>"
            ],
            "text/plain": [
              "                   A         B         C         D\n",
              "2013-01-01  1.507778 -0.988510 -1.655100 -1.890711\n",
              "2013-01-02  0.036776  0.573793  1.496579 -0.134466\n",
              "2013-01-03 -1.078531 -1.094825 -0.921304 -0.573120"
            ]
          },
          "metadata": {
            "tags": []
          },
          "execution_count": 26
        }
      ]
    },
    {
      "cell_type": "code",
      "metadata": {
        "id": "-tr5VdPBcT5v",
        "colab": {
          "base_uri": "https://localhost:8080/",
          "height": 141
        },
        "outputId": "deb6e512-8587-4f1c-9551-d542aaab56ee"
      },
      "source": [
        "df['20130102' : '20130104']"
      ],
      "execution_count": null,
      "outputs": [
        {
          "output_type": "execute_result",
          "data": {
            "text/html": [
              "<div>\n",
              "<style scoped>\n",
              "    .dataframe tbody tr th:only-of-type {\n",
              "        vertical-align: middle;\n",
              "    }\n",
              "\n",
              "    .dataframe tbody tr th {\n",
              "        vertical-align: top;\n",
              "    }\n",
              "\n",
              "    .dataframe thead th {\n",
              "        text-align: right;\n",
              "    }\n",
              "</style>\n",
              "<table border=\"1\" class=\"dataframe\">\n",
              "  <thead>\n",
              "    <tr style=\"text-align: right;\">\n",
              "      <th></th>\n",
              "      <th>A</th>\n",
              "      <th>B</th>\n",
              "      <th>C</th>\n",
              "      <th>D</th>\n",
              "    </tr>\n",
              "  </thead>\n",
              "  <tbody>\n",
              "    <tr>\n",
              "      <th>2013-01-02</th>\n",
              "      <td>0.036776</td>\n",
              "      <td>0.573793</td>\n",
              "      <td>1.496579</td>\n",
              "      <td>-0.134466</td>\n",
              "    </tr>\n",
              "    <tr>\n",
              "      <th>2013-01-03</th>\n",
              "      <td>-1.078531</td>\n",
              "      <td>-1.094825</td>\n",
              "      <td>-0.921304</td>\n",
              "      <td>-0.573120</td>\n",
              "    </tr>\n",
              "    <tr>\n",
              "      <th>2013-01-04</th>\n",
              "      <td>-1.635065</td>\n",
              "      <td>0.983312</td>\n",
              "      <td>-1.862900</td>\n",
              "      <td>0.511334</td>\n",
              "    </tr>\n",
              "  </tbody>\n",
              "</table>\n",
              "</div>"
            ],
            "text/plain": [
              "                   A         B         C         D\n",
              "2013-01-02  0.036776  0.573793  1.496579 -0.134466\n",
              "2013-01-03 -1.078531 -1.094825 -0.921304 -0.573120\n",
              "2013-01-04 -1.635065  0.983312 -1.862900  0.511334"
            ]
          },
          "metadata": {
            "tags": []
          },
          "execution_count": 27
        }
      ]
    },
    {
      "cell_type": "markdown",
      "metadata": {
        "id": "lwLF6XVfcT5v"
      },
      "source": [
        "### Selection by Label"
      ]
    },
    {
      "cell_type": "markdown",
      "metadata": {
        "id": "pDr8_MJ9cT5v"
      },
      "source": [
        "See more in [Selection by Label](https://pandas.pydata.org/pandas-docs/stable/indexing.html#indexing-label \"Selection By Label\").\n",
        "\n",
        "For getting a cross section using a Label."
      ]
    },
    {
      "cell_type": "code",
      "metadata": {
        "id": "-5t0FQs-cT5w",
        "colab": {
          "base_uri": "https://localhost:8080/"
        },
        "outputId": "12de4242-e00f-4dc9-ebfd-c93c3883d221"
      },
      "source": [
        "x=df.loc[dates[0]]\n",
        "x"
      ],
      "execution_count": null,
      "outputs": [
        {
          "output_type": "execute_result",
          "data": {
            "text/plain": [
              "A    1.507778\n",
              "B   -0.988510\n",
              "C   -1.655100\n",
              "D   -1.890711\n",
              "Name: 2013-01-01 00:00:00, dtype: float64"
            ]
          },
          "metadata": {
            "tags": []
          },
          "execution_count": 28
        }
      ]
    },
    {
      "cell_type": "code",
      "metadata": {
        "colab": {
          "base_uri": "https://localhost:8080/"
        },
        "id": "3uDLqCzhHJB6",
        "outputId": "5e1ab998-3e8c-4713-ca61-319ea6b47d22"
      },
      "source": [
        "type(x)"
      ],
      "execution_count": null,
      "outputs": [
        {
          "output_type": "execute_result",
          "data": {
            "text/plain": [
              "pandas.core.series.Series"
            ]
          },
          "metadata": {
            "tags": []
          },
          "execution_count": 29
        }
      ]
    },
    {
      "cell_type": "markdown",
      "metadata": {
        "id": "V8zcyh1qcT5w"
      },
      "source": [
        "Selecting on a multi-axis by label."
      ]
    },
    {
      "cell_type": "code",
      "metadata": {
        "id": "dHVC4z9PcT5w",
        "colab": {
          "base_uri": "https://localhost:8080/",
          "height": 234
        },
        "outputId": "6b08a9f6-18a9-4349-f7c1-db9573eb0812"
      },
      "source": [
        "df.loc[:, ['A', 'B','D']]"
      ],
      "execution_count": null,
      "outputs": [
        {
          "output_type": "execute_result",
          "data": {
            "text/html": [
              "<div>\n",
              "<style scoped>\n",
              "    .dataframe tbody tr th:only-of-type {\n",
              "        vertical-align: middle;\n",
              "    }\n",
              "\n",
              "    .dataframe tbody tr th {\n",
              "        vertical-align: top;\n",
              "    }\n",
              "\n",
              "    .dataframe thead th {\n",
              "        text-align: right;\n",
              "    }\n",
              "</style>\n",
              "<table border=\"1\" class=\"dataframe\">\n",
              "  <thead>\n",
              "    <tr style=\"text-align: right;\">\n",
              "      <th></th>\n",
              "      <th>A</th>\n",
              "      <th>B</th>\n",
              "      <th>D</th>\n",
              "    </tr>\n",
              "  </thead>\n",
              "  <tbody>\n",
              "    <tr>\n",
              "      <th>2013-01-01</th>\n",
              "      <td>1.507778</td>\n",
              "      <td>-0.988510</td>\n",
              "      <td>-1.890711</td>\n",
              "    </tr>\n",
              "    <tr>\n",
              "      <th>2013-01-02</th>\n",
              "      <td>0.036776</td>\n",
              "      <td>0.573793</td>\n",
              "      <td>-0.134466</td>\n",
              "    </tr>\n",
              "    <tr>\n",
              "      <th>2013-01-03</th>\n",
              "      <td>-1.078531</td>\n",
              "      <td>-1.094825</td>\n",
              "      <td>-0.573120</td>\n",
              "    </tr>\n",
              "    <tr>\n",
              "      <th>2013-01-04</th>\n",
              "      <td>-1.635065</td>\n",
              "      <td>0.983312</td>\n",
              "      <td>0.511334</td>\n",
              "    </tr>\n",
              "    <tr>\n",
              "      <th>2013-01-05</th>\n",
              "      <td>1.085677</td>\n",
              "      <td>-0.501334</td>\n",
              "      <td>-0.925486</td>\n",
              "    </tr>\n",
              "    <tr>\n",
              "      <th>2013-01-06</th>\n",
              "      <td>-0.651435</td>\n",
              "      <td>0.091569</td>\n",
              "      <td>0.478696</td>\n",
              "    </tr>\n",
              "  </tbody>\n",
              "</table>\n",
              "</div>"
            ],
            "text/plain": [
              "                   A         B         D\n",
              "2013-01-01  1.507778 -0.988510 -1.890711\n",
              "2013-01-02  0.036776  0.573793 -0.134466\n",
              "2013-01-03 -1.078531 -1.094825 -0.573120\n",
              "2013-01-04 -1.635065  0.983312  0.511334\n",
              "2013-01-05  1.085677 -0.501334 -0.925486\n",
              "2013-01-06 -0.651435  0.091569  0.478696"
            ]
          },
          "metadata": {
            "tags": []
          },
          "execution_count": 30
        }
      ]
    },
    {
      "cell_type": "markdown",
      "metadata": {
        "id": "pAUaA8QLcT5w"
      },
      "source": [
        "Showing label slicing, both endpoints are _included_."
      ]
    },
    {
      "cell_type": "code",
      "metadata": {
        "id": "q9C1d9cOcT5w",
        "colab": {
          "base_uri": "https://localhost:8080/",
          "height": 141
        },
        "outputId": "a799ff8e-f864-4ad4-8428-c72a88a08890"
      },
      "source": [
        "df.loc['20130102' : '20130104', ['A', 'B','D']]"
      ],
      "execution_count": null,
      "outputs": [
        {
          "output_type": "execute_result",
          "data": {
            "text/html": [
              "<div>\n",
              "<style scoped>\n",
              "    .dataframe tbody tr th:only-of-type {\n",
              "        vertical-align: middle;\n",
              "    }\n",
              "\n",
              "    .dataframe tbody tr th {\n",
              "        vertical-align: top;\n",
              "    }\n",
              "\n",
              "    .dataframe thead th {\n",
              "        text-align: right;\n",
              "    }\n",
              "</style>\n",
              "<table border=\"1\" class=\"dataframe\">\n",
              "  <thead>\n",
              "    <tr style=\"text-align: right;\">\n",
              "      <th></th>\n",
              "      <th>A</th>\n",
              "      <th>B</th>\n",
              "      <th>D</th>\n",
              "    </tr>\n",
              "  </thead>\n",
              "  <tbody>\n",
              "    <tr>\n",
              "      <th>2013-01-02</th>\n",
              "      <td>0.036776</td>\n",
              "      <td>0.573793</td>\n",
              "      <td>-0.134466</td>\n",
              "    </tr>\n",
              "    <tr>\n",
              "      <th>2013-01-03</th>\n",
              "      <td>-1.078531</td>\n",
              "      <td>-1.094825</td>\n",
              "      <td>-0.573120</td>\n",
              "    </tr>\n",
              "    <tr>\n",
              "      <th>2013-01-04</th>\n",
              "      <td>-1.635065</td>\n",
              "      <td>0.983312</td>\n",
              "      <td>0.511334</td>\n",
              "    </tr>\n",
              "  </tbody>\n",
              "</table>\n",
              "</div>"
            ],
            "text/plain": [
              "                   A         B         D\n",
              "2013-01-02  0.036776  0.573793 -0.134466\n",
              "2013-01-03 -1.078531 -1.094825 -0.573120\n",
              "2013-01-04 -1.635065  0.983312  0.511334"
            ]
          },
          "metadata": {
            "tags": []
          },
          "execution_count": 31
        }
      ]
    },
    {
      "cell_type": "markdown",
      "metadata": {
        "id": "3RbvBwn4cT5w"
      },
      "source": [
        "Reduction in the dimensions of the returned object."
      ]
    },
    {
      "cell_type": "code",
      "metadata": {
        "id": "6UMFjRAVcT5w",
        "colab": {
          "base_uri": "https://localhost:8080/"
        },
        "outputId": "9489268c-cedc-4768-c0d4-7986dde424d7"
      },
      "source": [
        "df.loc['20130102', ['A', 'B']]"
      ],
      "execution_count": null,
      "outputs": [
        {
          "output_type": "execute_result",
          "data": {
            "text/plain": [
              "A    0.036776\n",
              "B    0.573793\n",
              "Name: 2013-01-02 00:00:00, dtype: float64"
            ]
          },
          "metadata": {
            "tags": []
          },
          "execution_count": 32
        }
      ]
    },
    {
      "cell_type": "markdown",
      "metadata": {
        "id": "0KRMujYZkDh0"
      },
      "source": [
        "<img src='https://bham-carpentries.github.io/2018-12-17-bham_python-novice-inflammation/fig/python-zero-index.png'>"
      ]
    },
    {
      "cell_type": "markdown",
      "metadata": {
        "id": "cyd_hacfcT5w"
      },
      "source": [
        "For getting a scalar value"
      ]
    },
    {
      "cell_type": "code",
      "metadata": {
        "id": "JAt4v2cZcT5w",
        "colab": {
          "base_uri": "https://localhost:8080/"
        },
        "outputId": "cac71f07-a825-4bc9-c8e3-afdbb5f9b05c"
      },
      "source": [
        "df.loc[dates[0], 'A']"
      ],
      "execution_count": null,
      "outputs": [
        {
          "output_type": "execute_result",
          "data": {
            "text/plain": [
              "1.5077782509561177"
            ]
          },
          "metadata": {
            "tags": []
          },
          "execution_count": 33
        }
      ]
    },
    {
      "cell_type": "markdown",
      "metadata": {
        "id": "9xwRi65KcT5x"
      },
      "source": [
        "For getting fast access to a scalar (equiv to the prior method)"
      ]
    },
    {
      "cell_type": "code",
      "metadata": {
        "id": "duz4xG4IcT5x",
        "colab": {
          "base_uri": "https://localhost:8080/"
        },
        "outputId": "baa8e869-c198-47b1-89e4-64b01732f92f"
      },
      "source": [
        "df.at[dates[0], 'A']"
      ],
      "execution_count": null,
      "outputs": [
        {
          "output_type": "execute_result",
          "data": {
            "text/plain": [
              "1.5077782509561177"
            ]
          },
          "metadata": {
            "tags": []
          },
          "execution_count": 34
        }
      ]
    },
    {
      "cell_type": "markdown",
      "metadata": {
        "id": "ubILv20tcT5x"
      },
      "source": [
        "### Selection by Position\n",
        "See more in [Selection by Position](https://pandas.pydata.org/pandas-docs/stable/indexing.html#indexing-integer \"Selection by Position\")"
      ]
    },
    {
      "cell_type": "markdown",
      "metadata": {
        "id": "Ks-fTHSwcT5x"
      },
      "source": [
        "Select via the position of the passed integers"
      ]
    },
    {
      "cell_type": "code",
      "metadata": {
        "id": "iCiTHXSMcT5x",
        "colab": {
          "base_uri": "https://localhost:8080/"
        },
        "outputId": "47453f32-c5bc-4a2b-f43f-aaea8b234208"
      },
      "source": [
        "df.iloc[3]"
      ],
      "execution_count": null,
      "outputs": [
        {
          "output_type": "execute_result",
          "data": {
            "text/plain": [
              "A   -1.635065\n",
              "B    0.983312\n",
              "C   -1.862900\n",
              "D    0.511334\n",
              "Name: 2013-01-04 00:00:00, dtype: float64"
            ]
          },
          "metadata": {
            "tags": []
          },
          "execution_count": 35
        }
      ]
    },
    {
      "cell_type": "markdown",
      "metadata": {
        "id": "6NUf1fEBcT5x"
      },
      "source": [
        "By integer slices, acting similar to nump/python"
      ]
    },
    {
      "cell_type": "code",
      "metadata": {
        "id": "x-TlKXrscT5x",
        "colab": {
          "base_uri": "https://localhost:8080/",
          "height": 110
        },
        "outputId": "e52d1d77-59e4-47fb-8655-ac2f5718ad37"
      },
      "source": [
        "df.iloc[3 : 5, 0 : 2]"
      ],
      "execution_count": null,
      "outputs": [
        {
          "output_type": "execute_result",
          "data": {
            "text/html": [
              "<div>\n",
              "<style scoped>\n",
              "    .dataframe tbody tr th:only-of-type {\n",
              "        vertical-align: middle;\n",
              "    }\n",
              "\n",
              "    .dataframe tbody tr th {\n",
              "        vertical-align: top;\n",
              "    }\n",
              "\n",
              "    .dataframe thead th {\n",
              "        text-align: right;\n",
              "    }\n",
              "</style>\n",
              "<table border=\"1\" class=\"dataframe\">\n",
              "  <thead>\n",
              "    <tr style=\"text-align: right;\">\n",
              "      <th></th>\n",
              "      <th>A</th>\n",
              "      <th>B</th>\n",
              "    </tr>\n",
              "  </thead>\n",
              "  <tbody>\n",
              "    <tr>\n",
              "      <th>2013-01-04</th>\n",
              "      <td>-1.635065</td>\n",
              "      <td>0.983312</td>\n",
              "    </tr>\n",
              "    <tr>\n",
              "      <th>2013-01-05</th>\n",
              "      <td>1.085677</td>\n",
              "      <td>-0.501334</td>\n",
              "    </tr>\n",
              "  </tbody>\n",
              "</table>\n",
              "</div>"
            ],
            "text/plain": [
              "                   A         B\n",
              "2013-01-04 -1.635065  0.983312\n",
              "2013-01-05  1.085677 -0.501334"
            ]
          },
          "metadata": {
            "tags": []
          },
          "execution_count": 36
        }
      ]
    },
    {
      "cell_type": "markdown",
      "metadata": {
        "id": "QYlDVvW6cT5x"
      },
      "source": [
        "By lists of integer position locations, similar to the numpy/python style."
      ]
    },
    {
      "cell_type": "code",
      "metadata": {
        "id": "ThQFG9IrcT5x",
        "colab": {
          "base_uri": "https://localhost:8080/",
          "height": 141
        },
        "outputId": "63227466-f465-43c7-87c9-0c003fe94805"
      },
      "source": [
        "df.iloc[[1, 2, 4], [0, 2]]"
      ],
      "execution_count": null,
      "outputs": [
        {
          "output_type": "execute_result",
          "data": {
            "text/html": [
              "<div>\n",
              "<style scoped>\n",
              "    .dataframe tbody tr th:only-of-type {\n",
              "        vertical-align: middle;\n",
              "    }\n",
              "\n",
              "    .dataframe tbody tr th {\n",
              "        vertical-align: top;\n",
              "    }\n",
              "\n",
              "    .dataframe thead th {\n",
              "        text-align: right;\n",
              "    }\n",
              "</style>\n",
              "<table border=\"1\" class=\"dataframe\">\n",
              "  <thead>\n",
              "    <tr style=\"text-align: right;\">\n",
              "      <th></th>\n",
              "      <th>A</th>\n",
              "      <th>C</th>\n",
              "    </tr>\n",
              "  </thead>\n",
              "  <tbody>\n",
              "    <tr>\n",
              "      <th>2013-01-02</th>\n",
              "      <td>0.036776</td>\n",
              "      <td>1.496579</td>\n",
              "    </tr>\n",
              "    <tr>\n",
              "      <th>2013-01-03</th>\n",
              "      <td>-1.078531</td>\n",
              "      <td>-0.921304</td>\n",
              "    </tr>\n",
              "    <tr>\n",
              "      <th>2013-01-05</th>\n",
              "      <td>1.085677</td>\n",
              "      <td>-0.050755</td>\n",
              "    </tr>\n",
              "  </tbody>\n",
              "</table>\n",
              "</div>"
            ],
            "text/plain": [
              "                   A         C\n",
              "2013-01-02  0.036776  1.496579\n",
              "2013-01-03 -1.078531 -0.921304\n",
              "2013-01-05  1.085677 -0.050755"
            ]
          },
          "metadata": {
            "tags": []
          },
          "execution_count": 37
        }
      ]
    },
    {
      "cell_type": "markdown",
      "metadata": {
        "id": "C5B1gEqXcT5y"
      },
      "source": [
        "For slicing rows explicitly"
      ]
    },
    {
      "cell_type": "code",
      "metadata": {
        "id": "pHYpPagUcT5y",
        "colab": {
          "base_uri": "https://localhost:8080/",
          "height": 110
        },
        "outputId": "6364b381-a2cc-4f26-f690-a2d3a7c58503"
      },
      "source": [
        "df.iloc[1 : 3, :]"
      ],
      "execution_count": null,
      "outputs": [
        {
          "output_type": "execute_result",
          "data": {
            "text/html": [
              "<div>\n",
              "<style scoped>\n",
              "    .dataframe tbody tr th:only-of-type {\n",
              "        vertical-align: middle;\n",
              "    }\n",
              "\n",
              "    .dataframe tbody tr th {\n",
              "        vertical-align: top;\n",
              "    }\n",
              "\n",
              "    .dataframe thead th {\n",
              "        text-align: right;\n",
              "    }\n",
              "</style>\n",
              "<table border=\"1\" class=\"dataframe\">\n",
              "  <thead>\n",
              "    <tr style=\"text-align: right;\">\n",
              "      <th></th>\n",
              "      <th>A</th>\n",
              "      <th>B</th>\n",
              "      <th>C</th>\n",
              "      <th>D</th>\n",
              "    </tr>\n",
              "  </thead>\n",
              "  <tbody>\n",
              "    <tr>\n",
              "      <th>2013-01-02</th>\n",
              "      <td>0.036776</td>\n",
              "      <td>0.573793</td>\n",
              "      <td>1.496579</td>\n",
              "      <td>-0.134466</td>\n",
              "    </tr>\n",
              "    <tr>\n",
              "      <th>2013-01-03</th>\n",
              "      <td>-1.078531</td>\n",
              "      <td>-1.094825</td>\n",
              "      <td>-0.921304</td>\n",
              "      <td>-0.573120</td>\n",
              "    </tr>\n",
              "  </tbody>\n",
              "</table>\n",
              "</div>"
            ],
            "text/plain": [
              "                   A         B         C         D\n",
              "2013-01-02  0.036776  0.573793  1.496579 -0.134466\n",
              "2013-01-03 -1.078531 -1.094825 -0.921304 -0.573120"
            ]
          },
          "metadata": {
            "tags": []
          },
          "execution_count": 38
        }
      ]
    },
    {
      "cell_type": "markdown",
      "metadata": {
        "id": "wWwXoMkMcT5y"
      },
      "source": [
        "For slicing columns explicitly"
      ]
    },
    {
      "cell_type": "code",
      "metadata": {
        "id": "P3571vIpcT5y",
        "colab": {
          "base_uri": "https://localhost:8080/",
          "height": 234
        },
        "outputId": "8cdd3a9c-ad5f-473c-bc96-a0cb5ef0c002"
      },
      "source": [
        "df.iloc[:, 1 : 3]"
      ],
      "execution_count": null,
      "outputs": [
        {
          "output_type": "execute_result",
          "data": {
            "text/html": [
              "<div>\n",
              "<style scoped>\n",
              "    .dataframe tbody tr th:only-of-type {\n",
              "        vertical-align: middle;\n",
              "    }\n",
              "\n",
              "    .dataframe tbody tr th {\n",
              "        vertical-align: top;\n",
              "    }\n",
              "\n",
              "    .dataframe thead th {\n",
              "        text-align: right;\n",
              "    }\n",
              "</style>\n",
              "<table border=\"1\" class=\"dataframe\">\n",
              "  <thead>\n",
              "    <tr style=\"text-align: right;\">\n",
              "      <th></th>\n",
              "      <th>B</th>\n",
              "      <th>C</th>\n",
              "    </tr>\n",
              "  </thead>\n",
              "  <tbody>\n",
              "    <tr>\n",
              "      <th>2013-01-01</th>\n",
              "      <td>-0.988510</td>\n",
              "      <td>-1.655100</td>\n",
              "    </tr>\n",
              "    <tr>\n",
              "      <th>2013-01-02</th>\n",
              "      <td>0.573793</td>\n",
              "      <td>1.496579</td>\n",
              "    </tr>\n",
              "    <tr>\n",
              "      <th>2013-01-03</th>\n",
              "      <td>-1.094825</td>\n",
              "      <td>-0.921304</td>\n",
              "    </tr>\n",
              "    <tr>\n",
              "      <th>2013-01-04</th>\n",
              "      <td>0.983312</td>\n",
              "      <td>-1.862900</td>\n",
              "    </tr>\n",
              "    <tr>\n",
              "      <th>2013-01-05</th>\n",
              "      <td>-0.501334</td>\n",
              "      <td>-0.050755</td>\n",
              "    </tr>\n",
              "    <tr>\n",
              "      <th>2013-01-06</th>\n",
              "      <td>0.091569</td>\n",
              "      <td>-0.882793</td>\n",
              "    </tr>\n",
              "  </tbody>\n",
              "</table>\n",
              "</div>"
            ],
            "text/plain": [
              "                   B         C\n",
              "2013-01-01 -0.988510 -1.655100\n",
              "2013-01-02  0.573793  1.496579\n",
              "2013-01-03 -1.094825 -0.921304\n",
              "2013-01-04  0.983312 -1.862900\n",
              "2013-01-05 -0.501334 -0.050755\n",
              "2013-01-06  0.091569 -0.882793"
            ]
          },
          "metadata": {
            "tags": []
          },
          "execution_count": 39
        }
      ]
    },
    {
      "cell_type": "markdown",
      "metadata": {
        "id": "lSEG-ivAcT5y"
      },
      "source": [
        "For getting a value explicitly"
      ]
    },
    {
      "cell_type": "code",
      "metadata": {
        "id": "Bi1o3X8bcT5y",
        "colab": {
          "base_uri": "https://localhost:8080/"
        },
        "outputId": "d1141bf9-bdeb-4075-fff0-369f34283b1f"
      },
      "source": [
        "df.iloc[1, 1]"
      ],
      "execution_count": null,
      "outputs": [
        {
          "output_type": "execute_result",
          "data": {
            "text/plain": [
              "0.5737932095390793"
            ]
          },
          "metadata": {
            "tags": []
          },
          "execution_count": 40
        }
      ]
    },
    {
      "cell_type": "markdown",
      "metadata": {
        "id": "zDlSXV-QcT5y"
      },
      "source": [
        "For getting fast access to a scalar (equiv to the prior method)"
      ]
    },
    {
      "cell_type": "code",
      "metadata": {
        "id": "zglEVU2zcT5y",
        "colab": {
          "base_uri": "https://localhost:8080/"
        },
        "outputId": "30ee3111-99f3-4c70-8152-08f4daa1a261"
      },
      "source": [
        "df.iat[1, 1]"
      ],
      "execution_count": null,
      "outputs": [
        {
          "output_type": "execute_result",
          "data": {
            "text/plain": [
              "0.5737932095390793"
            ]
          },
          "metadata": {
            "tags": []
          },
          "execution_count": 41
        }
      ]
    },
    {
      "cell_type": "markdown",
      "metadata": {
        "id": "FLoiKlvhcT5y"
      },
      "source": [
        "### Boolean Indexing"
      ]
    },
    {
      "cell_type": "markdown",
      "metadata": {
        "id": "H0y5glf0cT5y"
      },
      "source": [
        "Using a single column's values to select data."
      ]
    },
    {
      "cell_type": "markdown",
      "metadata": {
        "id": "nIoANK27cT5z"
      },
      "source": [
        "Selecting values from a DataFrame where a boolean condition is met."
      ]
    },
    {
      "cell_type": "code",
      "metadata": {
        "id": "RNdyuaAPcT5z",
        "colab": {
          "base_uri": "https://localhost:8080/",
          "height": 418
        },
        "outputId": "73a8c128-4582-49db-fa52-dc8b8368f765"
      },
      "source": [
        "df[df > 0]"
      ],
      "execution_count": null,
      "outputs": [
        {
          "output_type": "execute_result",
          "data": {
            "text/html": [
              "<div>\n",
              "<style scoped>\n",
              "    .dataframe tbody tr th:only-of-type {\n",
              "        vertical-align: middle;\n",
              "    }\n",
              "\n",
              "    .dataframe tbody tr th {\n",
              "        vertical-align: top;\n",
              "    }\n",
              "\n",
              "    .dataframe thead th {\n",
              "        text-align: right;\n",
              "    }\n",
              "</style>\n",
              "<table border=\"1\" class=\"dataframe\">\n",
              "  <thead>\n",
              "    <tr style=\"text-align: right;\">\n",
              "      <th></th>\n",
              "      <th>A</th>\n",
              "      <th>B</th>\n",
              "      <th>C</th>\n",
              "      <th>D</th>\n",
              "    </tr>\n",
              "  </thead>\n",
              "  <tbody>\n",
              "    <tr>\n",
              "      <th>2000-01-01</th>\n",
              "      <td>0.483598</td>\n",
              "      <td>0.426364</td>\n",
              "      <td>NaN</td>\n",
              "      <td>NaN</td>\n",
              "    </tr>\n",
              "    <tr>\n",
              "      <th>2000-01-02</th>\n",
              "      <td>2.079464</td>\n",
              "      <td>0.207178</td>\n",
              "      <td>NaN</td>\n",
              "      <td>NaN</td>\n",
              "    </tr>\n",
              "    <tr>\n",
              "      <th>2000-01-03</th>\n",
              "      <td>2.545530</td>\n",
              "      <td>NaN</td>\n",
              "      <td>0.299719</td>\n",
              "      <td>NaN</td>\n",
              "    </tr>\n",
              "    <tr>\n",
              "      <th>2000-01-04</th>\n",
              "      <td>2.270839</td>\n",
              "      <td>NaN</td>\n",
              "      <td>0.675529</td>\n",
              "      <td>NaN</td>\n",
              "    </tr>\n",
              "    <tr>\n",
              "      <th>2000-01-05</th>\n",
              "      <td>2.437582</td>\n",
              "      <td>NaN</td>\n",
              "      <td>0.227139</td>\n",
              "      <td>NaN</td>\n",
              "    </tr>\n",
              "    <tr>\n",
              "      <th>...</th>\n",
              "      <td>...</td>\n",
              "      <td>...</td>\n",
              "      <td>...</td>\n",
              "      <td>...</td>\n",
              "    </tr>\n",
              "    <tr>\n",
              "      <th>2002-09-22</th>\n",
              "      <td>NaN</td>\n",
              "      <td>NaN</td>\n",
              "      <td>19.130945</td>\n",
              "      <td>NaN</td>\n",
              "    </tr>\n",
              "    <tr>\n",
              "      <th>2002-09-23</th>\n",
              "      <td>NaN</td>\n",
              "      <td>NaN</td>\n",
              "      <td>20.228742</td>\n",
              "      <td>NaN</td>\n",
              "    </tr>\n",
              "    <tr>\n",
              "      <th>2002-09-24</th>\n",
              "      <td>NaN</td>\n",
              "      <td>NaN</td>\n",
              "      <td>21.426182</td>\n",
              "      <td>NaN</td>\n",
              "    </tr>\n",
              "    <tr>\n",
              "      <th>2002-09-25</th>\n",
              "      <td>NaN</td>\n",
              "      <td>NaN</td>\n",
              "      <td>20.702291</td>\n",
              "      <td>NaN</td>\n",
              "    </tr>\n",
              "    <tr>\n",
              "      <th>2002-09-26</th>\n",
              "      <td>NaN</td>\n",
              "      <td>NaN</td>\n",
              "      <td>21.573090</td>\n",
              "      <td>NaN</td>\n",
              "    </tr>\n",
              "  </tbody>\n",
              "</table>\n",
              "<p>1000 rows × 4 columns</p>\n",
              "</div>"
            ],
            "text/plain": [
              "                   A         B          C   D\n",
              "2000-01-01  0.483598  0.426364        NaN NaN\n",
              "2000-01-02  2.079464  0.207178        NaN NaN\n",
              "2000-01-03  2.545530       NaN   0.299719 NaN\n",
              "2000-01-04  2.270839       NaN   0.675529 NaN\n",
              "2000-01-05  2.437582       NaN   0.227139 NaN\n",
              "...              ...       ...        ...  ..\n",
              "2002-09-22       NaN       NaN  19.130945 NaN\n",
              "2002-09-23       NaN       NaN  20.228742 NaN\n",
              "2002-09-24       NaN       NaN  21.426182 NaN\n",
              "2002-09-25       NaN       NaN  20.702291 NaN\n",
              "2002-09-26       NaN       NaN  21.573090 NaN\n",
              "\n",
              "[1000 rows x 4 columns]"
            ]
          },
          "metadata": {
            "tags": []
          },
          "execution_count": 119
        }
      ]
    },
    {
      "cell_type": "code",
      "metadata": {
        "collapsed": true,
        "id": "vMBhcjPHcT5z"
      },
      "source": [
        "df3 = df.copy()"
      ],
      "execution_count": null,
      "outputs": []
    },
    {
      "cell_type": "code",
      "metadata": {
        "collapsed": true,
        "id": "_bWfnW3gcT5z"
      },
      "source": [
        "df3['E'] = ['one', 'one', 'two', 'three', 'four', 'three']"
      ],
      "execution_count": null,
      "outputs": []
    },
    {
      "cell_type": "code",
      "metadata": {
        "id": "e0Ur1V0VcT5z",
        "colab": {
          "base_uri": "https://localhost:8080/",
          "height": 234
        },
        "outputId": "f0e65c3d-d82a-4eb0-f66c-a535cb2ad18d"
      },
      "source": [
        "df3"
      ],
      "execution_count": null,
      "outputs": [
        {
          "output_type": "execute_result",
          "data": {
            "text/html": [
              "<div>\n",
              "<style scoped>\n",
              "    .dataframe tbody tr th:only-of-type {\n",
              "        vertical-align: middle;\n",
              "    }\n",
              "\n",
              "    .dataframe tbody tr th {\n",
              "        vertical-align: top;\n",
              "    }\n",
              "\n",
              "    .dataframe thead th {\n",
              "        text-align: right;\n",
              "    }\n",
              "</style>\n",
              "<table border=\"1\" class=\"dataframe\">\n",
              "  <thead>\n",
              "    <tr style=\"text-align: right;\">\n",
              "      <th></th>\n",
              "      <th>A</th>\n",
              "      <th>B</th>\n",
              "      <th>C</th>\n",
              "      <th>D</th>\n",
              "      <th>E</th>\n",
              "    </tr>\n",
              "  </thead>\n",
              "  <tbody>\n",
              "    <tr>\n",
              "      <th>2013-01-01</th>\n",
              "      <td>1.507778</td>\n",
              "      <td>-0.988510</td>\n",
              "      <td>-1.655100</td>\n",
              "      <td>-1.890711</td>\n",
              "      <td>one</td>\n",
              "    </tr>\n",
              "    <tr>\n",
              "      <th>2013-01-02</th>\n",
              "      <td>0.036776</td>\n",
              "      <td>0.573793</td>\n",
              "      <td>1.496579</td>\n",
              "      <td>-0.134466</td>\n",
              "      <td>one</td>\n",
              "    </tr>\n",
              "    <tr>\n",
              "      <th>2013-01-03</th>\n",
              "      <td>-1.078531</td>\n",
              "      <td>-1.094825</td>\n",
              "      <td>-0.921304</td>\n",
              "      <td>-0.573120</td>\n",
              "      <td>two</td>\n",
              "    </tr>\n",
              "    <tr>\n",
              "      <th>2013-01-04</th>\n",
              "      <td>-1.635065</td>\n",
              "      <td>0.983312</td>\n",
              "      <td>-1.862900</td>\n",
              "      <td>0.511334</td>\n",
              "      <td>three</td>\n",
              "    </tr>\n",
              "    <tr>\n",
              "      <th>2013-01-05</th>\n",
              "      <td>1.085677</td>\n",
              "      <td>-0.501334</td>\n",
              "      <td>-0.050755</td>\n",
              "      <td>-0.925486</td>\n",
              "      <td>four</td>\n",
              "    </tr>\n",
              "    <tr>\n",
              "      <th>2013-01-06</th>\n",
              "      <td>-0.651435</td>\n",
              "      <td>0.091569</td>\n",
              "      <td>-0.882793</td>\n",
              "      <td>0.478696</td>\n",
              "      <td>three</td>\n",
              "    </tr>\n",
              "  </tbody>\n",
              "</table>\n",
              "</div>"
            ],
            "text/plain": [
              "                   A         B         C         D      E\n",
              "2013-01-01  1.507778 -0.988510 -1.655100 -1.890711    one\n",
              "2013-01-02  0.036776  0.573793  1.496579 -0.134466    one\n",
              "2013-01-03 -1.078531 -1.094825 -0.921304 -0.573120    two\n",
              "2013-01-04 -1.635065  0.983312 -1.862900  0.511334  three\n",
              "2013-01-05  1.085677 -0.501334 -0.050755 -0.925486   four\n",
              "2013-01-06 -0.651435  0.091569 -0.882793  0.478696  three"
            ]
          },
          "metadata": {
            "tags": []
          },
          "execution_count": 45
        }
      ]
    },
    {
      "cell_type": "markdown",
      "metadata": {
        "id": "znhwSrO9cT5z"
      },
      "source": [
        "### Setting\n",
        "\n",
        "Setting a new column automatically aligns the data by the indexes."
      ]
    },
    {
      "cell_type": "code",
      "metadata": {
        "id": "3x7Jxd23cT5z",
        "colab": {
          "base_uri": "https://localhost:8080/"
        },
        "outputId": "1062e07f-0e93-496f-e24a-207a84eee90a"
      },
      "source": [
        "s1 = pd.Series([1, 2, 3, 4, 5, 6], index = pd.date_range('20130102', periods = 6))\n",
        "s1"
      ],
      "execution_count": null,
      "outputs": [
        {
          "output_type": "execute_result",
          "data": {
            "text/plain": [
              "2013-01-02    1\n",
              "2013-01-03    2\n",
              "2013-01-04    3\n",
              "2013-01-05    4\n",
              "2013-01-06    5\n",
              "2013-01-07    6\n",
              "Freq: D, dtype: int64"
            ]
          },
          "metadata": {
            "tags": []
          },
          "execution_count": 46
        }
      ]
    },
    {
      "cell_type": "markdown",
      "metadata": {
        "id": "oDzq3waCcT50"
      },
      "source": [
        "Setting values by label"
      ]
    },
    {
      "cell_type": "code",
      "metadata": {
        "collapsed": true,
        "id": "APdVBD4RcT50",
        "colab": {
          "base_uri": "https://localhost:8080/",
          "height": 234
        },
        "outputId": "7efd35ab-9ef0-430b-dc88-e36ccb08c520"
      },
      "source": [
        "df.at[dates[0], 'A'] = 0\n",
        "df"
      ],
      "execution_count": null,
      "outputs": [
        {
          "output_type": "execute_result",
          "data": {
            "text/html": [
              "<div>\n",
              "<style scoped>\n",
              "    .dataframe tbody tr th:only-of-type {\n",
              "        vertical-align: middle;\n",
              "    }\n",
              "\n",
              "    .dataframe tbody tr th {\n",
              "        vertical-align: top;\n",
              "    }\n",
              "\n",
              "    .dataframe thead th {\n",
              "        text-align: right;\n",
              "    }\n",
              "</style>\n",
              "<table border=\"1\" class=\"dataframe\">\n",
              "  <thead>\n",
              "    <tr style=\"text-align: right;\">\n",
              "      <th></th>\n",
              "      <th>A</th>\n",
              "      <th>B</th>\n",
              "      <th>C</th>\n",
              "      <th>D</th>\n",
              "    </tr>\n",
              "  </thead>\n",
              "  <tbody>\n",
              "    <tr>\n",
              "      <th>2013-01-01</th>\n",
              "      <td>0.000000</td>\n",
              "      <td>-0.988510</td>\n",
              "      <td>-1.655100</td>\n",
              "      <td>-1.890711</td>\n",
              "    </tr>\n",
              "    <tr>\n",
              "      <th>2013-01-02</th>\n",
              "      <td>0.036776</td>\n",
              "      <td>0.573793</td>\n",
              "      <td>1.496579</td>\n",
              "      <td>-0.134466</td>\n",
              "    </tr>\n",
              "    <tr>\n",
              "      <th>2013-01-03</th>\n",
              "      <td>-1.078531</td>\n",
              "      <td>-1.094825</td>\n",
              "      <td>-0.921304</td>\n",
              "      <td>-0.573120</td>\n",
              "    </tr>\n",
              "    <tr>\n",
              "      <th>2013-01-04</th>\n",
              "      <td>-1.635065</td>\n",
              "      <td>0.983312</td>\n",
              "      <td>-1.862900</td>\n",
              "      <td>0.511334</td>\n",
              "    </tr>\n",
              "    <tr>\n",
              "      <th>2013-01-05</th>\n",
              "      <td>1.085677</td>\n",
              "      <td>-0.501334</td>\n",
              "      <td>-0.050755</td>\n",
              "      <td>-0.925486</td>\n",
              "    </tr>\n",
              "    <tr>\n",
              "      <th>2013-01-06</th>\n",
              "      <td>-0.651435</td>\n",
              "      <td>0.091569</td>\n",
              "      <td>-0.882793</td>\n",
              "      <td>0.478696</td>\n",
              "    </tr>\n",
              "  </tbody>\n",
              "</table>\n",
              "</div>"
            ],
            "text/plain": [
              "                   A         B         C         D\n",
              "2013-01-01  0.000000 -0.988510 -1.655100 -1.890711\n",
              "2013-01-02  0.036776  0.573793  1.496579 -0.134466\n",
              "2013-01-03 -1.078531 -1.094825 -0.921304 -0.573120\n",
              "2013-01-04 -1.635065  0.983312 -1.862900  0.511334\n",
              "2013-01-05  1.085677 -0.501334 -0.050755 -0.925486\n",
              "2013-01-06 -0.651435  0.091569 -0.882793  0.478696"
            ]
          },
          "metadata": {
            "tags": []
          },
          "execution_count": 47
        }
      ]
    },
    {
      "cell_type": "markdown",
      "metadata": {
        "id": "1LMaeMtKcT50"
      },
      "source": [
        "Setting values by position"
      ]
    },
    {
      "cell_type": "code",
      "metadata": {
        "collapsed": true,
        "id": "Xpp__h6lcT50",
        "colab": {
          "base_uri": "https://localhost:8080/",
          "height": 234
        },
        "outputId": "5bf6f016-c774-4d42-f6ea-94474a19437e"
      },
      "source": [
        "df.iat[0, 1] = 0\n",
        "df"
      ],
      "execution_count": null,
      "outputs": [
        {
          "output_type": "execute_result",
          "data": {
            "text/html": [
              "<div>\n",
              "<style scoped>\n",
              "    .dataframe tbody tr th:only-of-type {\n",
              "        vertical-align: middle;\n",
              "    }\n",
              "\n",
              "    .dataframe tbody tr th {\n",
              "        vertical-align: top;\n",
              "    }\n",
              "\n",
              "    .dataframe thead th {\n",
              "        text-align: right;\n",
              "    }\n",
              "</style>\n",
              "<table border=\"1\" class=\"dataframe\">\n",
              "  <thead>\n",
              "    <tr style=\"text-align: right;\">\n",
              "      <th></th>\n",
              "      <th>A</th>\n",
              "      <th>B</th>\n",
              "      <th>C</th>\n",
              "      <th>D</th>\n",
              "    </tr>\n",
              "  </thead>\n",
              "  <tbody>\n",
              "    <tr>\n",
              "      <th>2013-01-01</th>\n",
              "      <td>0.000000</td>\n",
              "      <td>0.000000</td>\n",
              "      <td>-1.655100</td>\n",
              "      <td>-1.890711</td>\n",
              "    </tr>\n",
              "    <tr>\n",
              "      <th>2013-01-02</th>\n",
              "      <td>0.036776</td>\n",
              "      <td>0.573793</td>\n",
              "      <td>1.496579</td>\n",
              "      <td>-0.134466</td>\n",
              "    </tr>\n",
              "    <tr>\n",
              "      <th>2013-01-03</th>\n",
              "      <td>-1.078531</td>\n",
              "      <td>-1.094825</td>\n",
              "      <td>-0.921304</td>\n",
              "      <td>-0.573120</td>\n",
              "    </tr>\n",
              "    <tr>\n",
              "      <th>2013-01-04</th>\n",
              "      <td>-1.635065</td>\n",
              "      <td>0.983312</td>\n",
              "      <td>-1.862900</td>\n",
              "      <td>0.511334</td>\n",
              "    </tr>\n",
              "    <tr>\n",
              "      <th>2013-01-05</th>\n",
              "      <td>1.085677</td>\n",
              "      <td>-0.501334</td>\n",
              "      <td>-0.050755</td>\n",
              "      <td>-0.925486</td>\n",
              "    </tr>\n",
              "    <tr>\n",
              "      <th>2013-01-06</th>\n",
              "      <td>-0.651435</td>\n",
              "      <td>0.091569</td>\n",
              "      <td>-0.882793</td>\n",
              "      <td>0.478696</td>\n",
              "    </tr>\n",
              "  </tbody>\n",
              "</table>\n",
              "</div>"
            ],
            "text/plain": [
              "                   A         B         C         D\n",
              "2013-01-01  0.000000  0.000000 -1.655100 -1.890711\n",
              "2013-01-02  0.036776  0.573793  1.496579 -0.134466\n",
              "2013-01-03 -1.078531 -1.094825 -0.921304 -0.573120\n",
              "2013-01-04 -1.635065  0.983312 -1.862900  0.511334\n",
              "2013-01-05  1.085677 -0.501334 -0.050755 -0.925486\n",
              "2013-01-06 -0.651435  0.091569 -0.882793  0.478696"
            ]
          },
          "metadata": {
            "tags": []
          },
          "execution_count": 48
        }
      ]
    },
    {
      "cell_type": "markdown",
      "metadata": {
        "id": "oBfAXErhcT50"
      },
      "source": [
        "Setting by assigning with a numpy array"
      ]
    },
    {
      "cell_type": "code",
      "metadata": {
        "collapsed": true,
        "id": "EABNhugncT50"
      },
      "source": [
        "df.loc[:, 'D'] = np.array([5] * len(df))"
      ],
      "execution_count": null,
      "outputs": []
    },
    {
      "cell_type": "code",
      "metadata": {
        "id": "aBWfX3SrcT50",
        "colab": {
          "base_uri": "https://localhost:8080/",
          "height": 234
        },
        "outputId": "9768b5fb-57c2-459f-aa45-c1dcd1a72e43"
      },
      "source": [
        "df"
      ],
      "execution_count": null,
      "outputs": [
        {
          "output_type": "execute_result",
          "data": {
            "text/html": [
              "<div>\n",
              "<style scoped>\n",
              "    .dataframe tbody tr th:only-of-type {\n",
              "        vertical-align: middle;\n",
              "    }\n",
              "\n",
              "    .dataframe tbody tr th {\n",
              "        vertical-align: top;\n",
              "    }\n",
              "\n",
              "    .dataframe thead th {\n",
              "        text-align: right;\n",
              "    }\n",
              "</style>\n",
              "<table border=\"1\" class=\"dataframe\">\n",
              "  <thead>\n",
              "    <tr style=\"text-align: right;\">\n",
              "      <th></th>\n",
              "      <th>A</th>\n",
              "      <th>B</th>\n",
              "      <th>C</th>\n",
              "      <th>D</th>\n",
              "    </tr>\n",
              "  </thead>\n",
              "  <tbody>\n",
              "    <tr>\n",
              "      <th>2013-01-01</th>\n",
              "      <td>0.000000</td>\n",
              "      <td>0.000000</td>\n",
              "      <td>-1.655100</td>\n",
              "      <td>5</td>\n",
              "    </tr>\n",
              "    <tr>\n",
              "      <th>2013-01-02</th>\n",
              "      <td>0.036776</td>\n",
              "      <td>0.573793</td>\n",
              "      <td>1.496579</td>\n",
              "      <td>5</td>\n",
              "    </tr>\n",
              "    <tr>\n",
              "      <th>2013-01-03</th>\n",
              "      <td>-1.078531</td>\n",
              "      <td>-1.094825</td>\n",
              "      <td>-0.921304</td>\n",
              "      <td>5</td>\n",
              "    </tr>\n",
              "    <tr>\n",
              "      <th>2013-01-04</th>\n",
              "      <td>-1.635065</td>\n",
              "      <td>0.983312</td>\n",
              "      <td>-1.862900</td>\n",
              "      <td>5</td>\n",
              "    </tr>\n",
              "    <tr>\n",
              "      <th>2013-01-05</th>\n",
              "      <td>1.085677</td>\n",
              "      <td>-0.501334</td>\n",
              "      <td>-0.050755</td>\n",
              "      <td>5</td>\n",
              "    </tr>\n",
              "    <tr>\n",
              "      <th>2013-01-06</th>\n",
              "      <td>-0.651435</td>\n",
              "      <td>0.091569</td>\n",
              "      <td>-0.882793</td>\n",
              "      <td>5</td>\n",
              "    </tr>\n",
              "  </tbody>\n",
              "</table>\n",
              "</div>"
            ],
            "text/plain": [
              "                   A         B         C  D\n",
              "2013-01-01  0.000000  0.000000 -1.655100  5\n",
              "2013-01-02  0.036776  0.573793  1.496579  5\n",
              "2013-01-03 -1.078531 -1.094825 -0.921304  5\n",
              "2013-01-04 -1.635065  0.983312 -1.862900  5\n",
              "2013-01-05  1.085677 -0.501334 -0.050755  5\n",
              "2013-01-06 -0.651435  0.091569 -0.882793  5"
            ]
          },
          "metadata": {
            "tags": []
          },
          "execution_count": 50
        }
      ]
    },
    {
      "cell_type": "markdown",
      "metadata": {
        "id": "GxSbzwFHcT50"
      },
      "source": [
        "A **`where`** operation with setting."
      ]
    },
    {
      "cell_type": "code",
      "metadata": {
        "collapsed": true,
        "id": "-JG9Tyi9cT50",
        "colab": {
          "base_uri": "https://localhost:8080/",
          "height": 418
        },
        "outputId": "cf3a031a-bd1d-498f-ced5-56a5d42fa42b"
      },
      "source": [
        "df2 = df.copy()\n",
        "df2"
      ],
      "execution_count": null,
      "outputs": [
        {
          "output_type": "execute_result",
          "data": {
            "text/html": [
              "<div>\n",
              "<style scoped>\n",
              "    .dataframe tbody tr th:only-of-type {\n",
              "        vertical-align: middle;\n",
              "    }\n",
              "\n",
              "    .dataframe tbody tr th {\n",
              "        vertical-align: top;\n",
              "    }\n",
              "\n",
              "    .dataframe thead th {\n",
              "        text-align: right;\n",
              "    }\n",
              "</style>\n",
              "<table border=\"1\" class=\"dataframe\">\n",
              "  <thead>\n",
              "    <tr style=\"text-align: right;\">\n",
              "      <th></th>\n",
              "      <th>A</th>\n",
              "      <th>B</th>\n",
              "      <th>C</th>\n",
              "      <th>D</th>\n",
              "    </tr>\n",
              "  </thead>\n",
              "  <tbody>\n",
              "    <tr>\n",
              "      <th>2000-01-01</th>\n",
              "      <td>0.483598</td>\n",
              "      <td>0.426364</td>\n",
              "      <td>-0.117650</td>\n",
              "      <td>-0.306856</td>\n",
              "    </tr>\n",
              "    <tr>\n",
              "      <th>2000-01-02</th>\n",
              "      <td>2.079464</td>\n",
              "      <td>0.207178</td>\n",
              "      <td>-1.478635</td>\n",
              "      <td>-2.985918</td>\n",
              "    </tr>\n",
              "    <tr>\n",
              "      <th>2000-01-03</th>\n",
              "      <td>2.545530</td>\n",
              "      <td>-1.393445</td>\n",
              "      <td>0.299719</td>\n",
              "      <td>-2.241067</td>\n",
              "    </tr>\n",
              "    <tr>\n",
              "      <th>2000-01-04</th>\n",
              "      <td>2.270839</td>\n",
              "      <td>-0.593655</td>\n",
              "      <td>0.675529</td>\n",
              "      <td>-2.311171</td>\n",
              "    </tr>\n",
              "    <tr>\n",
              "      <th>2000-01-05</th>\n",
              "      <td>2.437582</td>\n",
              "      <td>-1.811711</td>\n",
              "      <td>0.227139</td>\n",
              "      <td>-3.210259</td>\n",
              "    </tr>\n",
              "    <tr>\n",
              "      <th>...</th>\n",
              "      <td>...</td>\n",
              "      <td>...</td>\n",
              "      <td>...</td>\n",
              "      <td>...</td>\n",
              "    </tr>\n",
              "    <tr>\n",
              "      <th>2002-09-22</th>\n",
              "      <td>-16.058726</td>\n",
              "      <td>-19.808672</td>\n",
              "      <td>19.130945</td>\n",
              "      <td>-64.392089</td>\n",
              "    </tr>\n",
              "    <tr>\n",
              "      <th>2002-09-23</th>\n",
              "      <td>-14.328951</td>\n",
              "      <td>-18.630670</td>\n",
              "      <td>20.228742</td>\n",
              "      <td>-66.089537</td>\n",
              "    </tr>\n",
              "    <tr>\n",
              "      <th>2002-09-24</th>\n",
              "      <td>-14.744091</td>\n",
              "      <td>-17.559811</td>\n",
              "      <td>21.426182</td>\n",
              "      <td>-64.984251</td>\n",
              "    </tr>\n",
              "    <tr>\n",
              "      <th>2002-09-25</th>\n",
              "      <td>-13.787952</td>\n",
              "      <td>-16.058676</td>\n",
              "      <td>20.702291</td>\n",
              "      <td>-65.091796</td>\n",
              "    </tr>\n",
              "    <tr>\n",
              "      <th>2002-09-26</th>\n",
              "      <td>-15.580613</td>\n",
              "      <td>-16.471580</td>\n",
              "      <td>21.573090</td>\n",
              "      <td>-64.644553</td>\n",
              "    </tr>\n",
              "  </tbody>\n",
              "</table>\n",
              "<p>1000 rows × 4 columns</p>\n",
              "</div>"
            ],
            "text/plain": [
              "                    A          B          C          D\n",
              "2000-01-01   0.483598   0.426364  -0.117650  -0.306856\n",
              "2000-01-02   2.079464   0.207178  -1.478635  -2.985918\n",
              "2000-01-03   2.545530  -1.393445   0.299719  -2.241067\n",
              "2000-01-04   2.270839  -0.593655   0.675529  -2.311171\n",
              "2000-01-05   2.437582  -1.811711   0.227139  -3.210259\n",
              "...               ...        ...        ...        ...\n",
              "2002-09-22 -16.058726 -19.808672  19.130945 -64.392089\n",
              "2002-09-23 -14.328951 -18.630670  20.228742 -66.089537\n",
              "2002-09-24 -14.744091 -17.559811  21.426182 -64.984251\n",
              "2002-09-25 -13.787952 -16.058676  20.702291 -65.091796\n",
              "2002-09-26 -15.580613 -16.471580  21.573090 -64.644553\n",
              "\n",
              "[1000 rows x 4 columns]"
            ]
          },
          "metadata": {
            "tags": []
          },
          "execution_count": 120
        }
      ]
    },
    {
      "cell_type": "code",
      "metadata": {
        "collapsed": true,
        "id": "ovFrcHnDcT51"
      },
      "source": [
        "df2[df2 > 0] = - df2"
      ],
      "execution_count": null,
      "outputs": []
    },
    {
      "cell_type": "code",
      "metadata": {
        "id": "YwfvtaKqcT51",
        "colab": {
          "base_uri": "https://localhost:8080/",
          "height": 234
        },
        "outputId": "02be0484-b4ed-495d-e580-d8359b70f11c"
      },
      "source": [
        "df2"
      ],
      "execution_count": null,
      "outputs": [
        {
          "output_type": "execute_result",
          "data": {
            "text/html": [
              "<div>\n",
              "<style scoped>\n",
              "    .dataframe tbody tr th:only-of-type {\n",
              "        vertical-align: middle;\n",
              "    }\n",
              "\n",
              "    .dataframe tbody tr th {\n",
              "        vertical-align: top;\n",
              "    }\n",
              "\n",
              "    .dataframe thead th {\n",
              "        text-align: right;\n",
              "    }\n",
              "</style>\n",
              "<table border=\"1\" class=\"dataframe\">\n",
              "  <thead>\n",
              "    <tr style=\"text-align: right;\">\n",
              "      <th></th>\n",
              "      <th>A</th>\n",
              "      <th>B</th>\n",
              "      <th>C</th>\n",
              "      <th>D</th>\n",
              "    </tr>\n",
              "  </thead>\n",
              "  <tbody>\n",
              "    <tr>\n",
              "      <th>2013-01-01</th>\n",
              "      <td>0.000000</td>\n",
              "      <td>0.000000</td>\n",
              "      <td>-1.655100</td>\n",
              "      <td>-5</td>\n",
              "    </tr>\n",
              "    <tr>\n",
              "      <th>2013-01-02</th>\n",
              "      <td>-0.036776</td>\n",
              "      <td>-0.573793</td>\n",
              "      <td>-1.496579</td>\n",
              "      <td>-5</td>\n",
              "    </tr>\n",
              "    <tr>\n",
              "      <th>2013-01-03</th>\n",
              "      <td>-1.078531</td>\n",
              "      <td>-1.094825</td>\n",
              "      <td>-0.921304</td>\n",
              "      <td>-5</td>\n",
              "    </tr>\n",
              "    <tr>\n",
              "      <th>2013-01-04</th>\n",
              "      <td>-1.635065</td>\n",
              "      <td>-0.983312</td>\n",
              "      <td>-1.862900</td>\n",
              "      <td>-5</td>\n",
              "    </tr>\n",
              "    <tr>\n",
              "      <th>2013-01-05</th>\n",
              "      <td>-1.085677</td>\n",
              "      <td>-0.501334</td>\n",
              "      <td>-0.050755</td>\n",
              "      <td>-5</td>\n",
              "    </tr>\n",
              "    <tr>\n",
              "      <th>2013-01-06</th>\n",
              "      <td>-0.651435</td>\n",
              "      <td>-0.091569</td>\n",
              "      <td>-0.882793</td>\n",
              "      <td>-5</td>\n",
              "    </tr>\n",
              "  </tbody>\n",
              "</table>\n",
              "</div>"
            ],
            "text/plain": [
              "                   A         B         C  D\n",
              "2013-01-01  0.000000  0.000000 -1.655100 -5\n",
              "2013-01-02 -0.036776 -0.573793 -1.496579 -5\n",
              "2013-01-03 -1.078531 -1.094825 -0.921304 -5\n",
              "2013-01-04 -1.635065 -0.983312 -1.862900 -5\n",
              "2013-01-05 -1.085677 -0.501334 -0.050755 -5\n",
              "2013-01-06 -0.651435 -0.091569 -0.882793 -5"
            ]
          },
          "metadata": {
            "tags": []
          },
          "execution_count": 53
        }
      ]
    },
    {
      "cell_type": "markdown",
      "metadata": {
        "id": "H1BiOhXNcT51"
      },
      "source": [
        "## Missing Data\n",
        "---"
      ]
    },
    {
      "cell_type": "markdown",
      "metadata": {
        "id": "z1AAo9cScT51"
      },
      "source": [
        "pandas primarily uses the value `np.nan` to represent missing data. It is by default not included in computations. See the [Missing Data Section](https://pandas.pydata.org/pandas-docs/stable/missing_data.html#missing-data \"Working with missing data\")\n",
        "\n",
        "Reindexing allows you to change/add/delete the index on a specified axis. This returns a copy of the data."
      ]
    },
    {
      "cell_type": "code",
      "metadata": {
        "collapsed": true,
        "id": "0JdiY8egcT51"
      },
      "source": [
        "df1 = df.reindex(index = dates[0 : 4], columns = list(df.columns) + ['E'])"
      ],
      "execution_count": null,
      "outputs": []
    },
    {
      "cell_type": "code",
      "metadata": {
        "id": "BJruzoLCcT51",
        "colab": {
          "base_uri": "https://localhost:8080/",
          "height": 173
        },
        "outputId": "a2b2e49b-4910-43d2-ffb9-f233b4d5b043"
      },
      "source": [
        "df1"
      ],
      "execution_count": null,
      "outputs": [
        {
          "output_type": "execute_result",
          "data": {
            "text/html": [
              "<div>\n",
              "<style scoped>\n",
              "    .dataframe tbody tr th:only-of-type {\n",
              "        vertical-align: middle;\n",
              "    }\n",
              "\n",
              "    .dataframe tbody tr th {\n",
              "        vertical-align: top;\n",
              "    }\n",
              "\n",
              "    .dataframe thead th {\n",
              "        text-align: right;\n",
              "    }\n",
              "</style>\n",
              "<table border=\"1\" class=\"dataframe\">\n",
              "  <thead>\n",
              "    <tr style=\"text-align: right;\">\n",
              "      <th></th>\n",
              "      <th>A</th>\n",
              "      <th>B</th>\n",
              "      <th>C</th>\n",
              "      <th>D</th>\n",
              "      <th>E</th>\n",
              "    </tr>\n",
              "  </thead>\n",
              "  <tbody>\n",
              "    <tr>\n",
              "      <th>2013-01-01</th>\n",
              "      <td>0.000000</td>\n",
              "      <td>0.000000</td>\n",
              "      <td>-1.655100</td>\n",
              "      <td>5</td>\n",
              "      <td>NaN</td>\n",
              "    </tr>\n",
              "    <tr>\n",
              "      <th>2013-01-02</th>\n",
              "      <td>0.036776</td>\n",
              "      <td>0.573793</td>\n",
              "      <td>1.496579</td>\n",
              "      <td>5</td>\n",
              "      <td>NaN</td>\n",
              "    </tr>\n",
              "    <tr>\n",
              "      <th>2013-01-03</th>\n",
              "      <td>-1.078531</td>\n",
              "      <td>-1.094825</td>\n",
              "      <td>-0.921304</td>\n",
              "      <td>5</td>\n",
              "      <td>NaN</td>\n",
              "    </tr>\n",
              "    <tr>\n",
              "      <th>2013-01-04</th>\n",
              "      <td>-1.635065</td>\n",
              "      <td>0.983312</td>\n",
              "      <td>-1.862900</td>\n",
              "      <td>5</td>\n",
              "      <td>NaN</td>\n",
              "    </tr>\n",
              "  </tbody>\n",
              "</table>\n",
              "</div>"
            ],
            "text/plain": [
              "                   A         B         C  D   E\n",
              "2013-01-01  0.000000  0.000000 -1.655100  5 NaN\n",
              "2013-01-02  0.036776  0.573793  1.496579  5 NaN\n",
              "2013-01-03 -1.078531 -1.094825 -0.921304  5 NaN\n",
              "2013-01-04 -1.635065  0.983312 -1.862900  5 NaN"
            ]
          },
          "metadata": {
            "tags": []
          },
          "execution_count": 55
        }
      ]
    },
    {
      "cell_type": "code",
      "metadata": {
        "collapsed": true,
        "id": "TsO4AHH5cT51"
      },
      "source": [
        "df1.loc[dates[0]: dates[1], 'E'] = 1"
      ],
      "execution_count": null,
      "outputs": []
    },
    {
      "cell_type": "code",
      "metadata": {
        "id": "K4mX2agecT51",
        "colab": {
          "base_uri": "https://localhost:8080/",
          "height": 173
        },
        "outputId": "4358f6f9-bb0a-4440-b832-2c4640f3b577"
      },
      "source": [
        "df1 "
      ],
      "execution_count": null,
      "outputs": [
        {
          "output_type": "execute_result",
          "data": {
            "text/html": [
              "<div>\n",
              "<style scoped>\n",
              "    .dataframe tbody tr th:only-of-type {\n",
              "        vertical-align: middle;\n",
              "    }\n",
              "\n",
              "    .dataframe tbody tr th {\n",
              "        vertical-align: top;\n",
              "    }\n",
              "\n",
              "    .dataframe thead th {\n",
              "        text-align: right;\n",
              "    }\n",
              "</style>\n",
              "<table border=\"1\" class=\"dataframe\">\n",
              "  <thead>\n",
              "    <tr style=\"text-align: right;\">\n",
              "      <th></th>\n",
              "      <th>A</th>\n",
              "      <th>B</th>\n",
              "      <th>C</th>\n",
              "      <th>D</th>\n",
              "      <th>E</th>\n",
              "    </tr>\n",
              "  </thead>\n",
              "  <tbody>\n",
              "    <tr>\n",
              "      <th>2013-01-01</th>\n",
              "      <td>0.000000</td>\n",
              "      <td>0.000000</td>\n",
              "      <td>-1.655100</td>\n",
              "      <td>5</td>\n",
              "      <td>1.0</td>\n",
              "    </tr>\n",
              "    <tr>\n",
              "      <th>2013-01-02</th>\n",
              "      <td>0.036776</td>\n",
              "      <td>0.573793</td>\n",
              "      <td>1.496579</td>\n",
              "      <td>5</td>\n",
              "      <td>1.0</td>\n",
              "    </tr>\n",
              "    <tr>\n",
              "      <th>2013-01-03</th>\n",
              "      <td>-1.078531</td>\n",
              "      <td>-1.094825</td>\n",
              "      <td>-0.921304</td>\n",
              "      <td>5</td>\n",
              "      <td>NaN</td>\n",
              "    </tr>\n",
              "    <tr>\n",
              "      <th>2013-01-04</th>\n",
              "      <td>-1.635065</td>\n",
              "      <td>0.983312</td>\n",
              "      <td>-1.862900</td>\n",
              "      <td>5</td>\n",
              "      <td>NaN</td>\n",
              "    </tr>\n",
              "  </tbody>\n",
              "</table>\n",
              "</div>"
            ],
            "text/plain": [
              "                   A         B         C  D    E\n",
              "2013-01-01  0.000000  0.000000 -1.655100  5  1.0\n",
              "2013-01-02  0.036776  0.573793  1.496579  5  1.0\n",
              "2013-01-03 -1.078531 -1.094825 -0.921304  5  NaN\n",
              "2013-01-04 -1.635065  0.983312 -1.862900  5  NaN"
            ]
          },
          "metadata": {
            "tags": []
          },
          "execution_count": 57
        }
      ]
    },
    {
      "cell_type": "code",
      "metadata": {
        "id": "IIIDN8ZmcT52",
        "colab": {
          "base_uri": "https://localhost:8080/",
          "height": 110
        },
        "outputId": "bf26b288-e4f2-4c13-a10c-c908402719bd"
      },
      "source": [
        "df1.dropna(how = 'any') # ‘any’ : If any NA values are present, drop that row or column.\n",
        "                        # ‘all’ : If all values are NA, drop that row or column."
      ],
      "execution_count": null,
      "outputs": [
        {
          "output_type": "execute_result",
          "data": {
            "text/html": [
              "<div>\n",
              "<style scoped>\n",
              "    .dataframe tbody tr th:only-of-type {\n",
              "        vertical-align: middle;\n",
              "    }\n",
              "\n",
              "    .dataframe tbody tr th {\n",
              "        vertical-align: top;\n",
              "    }\n",
              "\n",
              "    .dataframe thead th {\n",
              "        text-align: right;\n",
              "    }\n",
              "</style>\n",
              "<table border=\"1\" class=\"dataframe\">\n",
              "  <thead>\n",
              "    <tr style=\"text-align: right;\">\n",
              "      <th></th>\n",
              "      <th>A</th>\n",
              "      <th>B</th>\n",
              "      <th>C</th>\n",
              "      <th>D</th>\n",
              "      <th>E</th>\n",
              "    </tr>\n",
              "  </thead>\n",
              "  <tbody>\n",
              "    <tr>\n",
              "      <th>2013-01-01</th>\n",
              "      <td>0.000000</td>\n",
              "      <td>0.000000</td>\n",
              "      <td>-1.655100</td>\n",
              "      <td>5</td>\n",
              "      <td>1.0</td>\n",
              "    </tr>\n",
              "    <tr>\n",
              "      <th>2013-01-02</th>\n",
              "      <td>0.036776</td>\n",
              "      <td>0.573793</td>\n",
              "      <td>1.496579</td>\n",
              "      <td>5</td>\n",
              "      <td>1.0</td>\n",
              "    </tr>\n",
              "  </tbody>\n",
              "</table>\n",
              "</div>"
            ],
            "text/plain": [
              "                   A         B         C  D    E\n",
              "2013-01-01  0.000000  0.000000 -1.655100  5  1.0\n",
              "2013-01-02  0.036776  0.573793  1.496579  5  1.0"
            ]
          },
          "metadata": {
            "tags": []
          },
          "execution_count": 58
        }
      ]
    },
    {
      "cell_type": "markdown",
      "metadata": {
        "id": "5NI715l5cT52"
      },
      "source": [
        "Filling missing data"
      ]
    },
    {
      "cell_type": "code",
      "metadata": {
        "id": "kyDX8PqkcT52",
        "colab": {
          "base_uri": "https://localhost:8080/",
          "height": 173
        },
        "outputId": "5a66e46a-ac49-4917-9253-b1aabe30e853"
      },
      "source": [
        "df1.fillna(value = 5)"
      ],
      "execution_count": null,
      "outputs": [
        {
          "output_type": "execute_result",
          "data": {
            "text/html": [
              "<div>\n",
              "<style scoped>\n",
              "    .dataframe tbody tr th:only-of-type {\n",
              "        vertical-align: middle;\n",
              "    }\n",
              "\n",
              "    .dataframe tbody tr th {\n",
              "        vertical-align: top;\n",
              "    }\n",
              "\n",
              "    .dataframe thead th {\n",
              "        text-align: right;\n",
              "    }\n",
              "</style>\n",
              "<table border=\"1\" class=\"dataframe\">\n",
              "  <thead>\n",
              "    <tr style=\"text-align: right;\">\n",
              "      <th></th>\n",
              "      <th>A</th>\n",
              "      <th>B</th>\n",
              "      <th>C</th>\n",
              "      <th>D</th>\n",
              "      <th>E</th>\n",
              "    </tr>\n",
              "  </thead>\n",
              "  <tbody>\n",
              "    <tr>\n",
              "      <th>2013-01-01</th>\n",
              "      <td>0.000000</td>\n",
              "      <td>0.000000</td>\n",
              "      <td>-1.655100</td>\n",
              "      <td>5</td>\n",
              "      <td>1.0</td>\n",
              "    </tr>\n",
              "    <tr>\n",
              "      <th>2013-01-02</th>\n",
              "      <td>0.036776</td>\n",
              "      <td>0.573793</td>\n",
              "      <td>1.496579</td>\n",
              "      <td>5</td>\n",
              "      <td>1.0</td>\n",
              "    </tr>\n",
              "    <tr>\n",
              "      <th>2013-01-03</th>\n",
              "      <td>-1.078531</td>\n",
              "      <td>-1.094825</td>\n",
              "      <td>-0.921304</td>\n",
              "      <td>5</td>\n",
              "      <td>5.0</td>\n",
              "    </tr>\n",
              "    <tr>\n",
              "      <th>2013-01-04</th>\n",
              "      <td>-1.635065</td>\n",
              "      <td>0.983312</td>\n",
              "      <td>-1.862900</td>\n",
              "      <td>5</td>\n",
              "      <td>5.0</td>\n",
              "    </tr>\n",
              "  </tbody>\n",
              "</table>\n",
              "</div>"
            ],
            "text/plain": [
              "                   A         B         C  D    E\n",
              "2013-01-01  0.000000  0.000000 -1.655100  5  1.0\n",
              "2013-01-02  0.036776  0.573793  1.496579  5  1.0\n",
              "2013-01-03 -1.078531 -1.094825 -0.921304  5  5.0\n",
              "2013-01-04 -1.635065  0.983312 -1.862900  5  5.0"
            ]
          },
          "metadata": {
            "tags": []
          },
          "execution_count": 59
        }
      ]
    },
    {
      "cell_type": "markdown",
      "metadata": {
        "id": "vlTG4bSicT52"
      },
      "source": [
        "To get the boolean mask where values are `nan`"
      ]
    },
    {
      "cell_type": "code",
      "metadata": {
        "id": "D9TQwoPNcT52",
        "colab": {
          "base_uri": "https://localhost:8080/",
          "height": 173
        },
        "outputId": "0b79e4cb-5b39-449f-912a-e5d8b23f6bca"
      },
      "source": [
        "pd.isnull(df1)"
      ],
      "execution_count": null,
      "outputs": [
        {
          "output_type": "execute_result",
          "data": {
            "text/html": [
              "<div>\n",
              "<style scoped>\n",
              "    .dataframe tbody tr th:only-of-type {\n",
              "        vertical-align: middle;\n",
              "    }\n",
              "\n",
              "    .dataframe tbody tr th {\n",
              "        vertical-align: top;\n",
              "    }\n",
              "\n",
              "    .dataframe thead th {\n",
              "        text-align: right;\n",
              "    }\n",
              "</style>\n",
              "<table border=\"1\" class=\"dataframe\">\n",
              "  <thead>\n",
              "    <tr style=\"text-align: right;\">\n",
              "      <th></th>\n",
              "      <th>A</th>\n",
              "      <th>B</th>\n",
              "      <th>C</th>\n",
              "      <th>D</th>\n",
              "      <th>E</th>\n",
              "    </tr>\n",
              "  </thead>\n",
              "  <tbody>\n",
              "    <tr>\n",
              "      <th>2013-01-01</th>\n",
              "      <td>False</td>\n",
              "      <td>False</td>\n",
              "      <td>False</td>\n",
              "      <td>False</td>\n",
              "      <td>False</td>\n",
              "    </tr>\n",
              "    <tr>\n",
              "      <th>2013-01-02</th>\n",
              "      <td>False</td>\n",
              "      <td>False</td>\n",
              "      <td>False</td>\n",
              "      <td>False</td>\n",
              "      <td>False</td>\n",
              "    </tr>\n",
              "    <tr>\n",
              "      <th>2013-01-03</th>\n",
              "      <td>False</td>\n",
              "      <td>False</td>\n",
              "      <td>False</td>\n",
              "      <td>False</td>\n",
              "      <td>True</td>\n",
              "    </tr>\n",
              "    <tr>\n",
              "      <th>2013-01-04</th>\n",
              "      <td>False</td>\n",
              "      <td>False</td>\n",
              "      <td>False</td>\n",
              "      <td>False</td>\n",
              "      <td>True</td>\n",
              "    </tr>\n",
              "  </tbody>\n",
              "</table>\n",
              "</div>"
            ],
            "text/plain": [
              "                A      B      C      D      E\n",
              "2013-01-01  False  False  False  False  False\n",
              "2013-01-02  False  False  False  False  False\n",
              "2013-01-03  False  False  False  False   True\n",
              "2013-01-04  False  False  False  False   True"
            ]
          },
          "metadata": {
            "tags": []
          },
          "execution_count": 60
        }
      ]
    },
    {
      "cell_type": "markdown",
      "metadata": {
        "id": "7beUfZf4cT52"
      },
      "source": [
        "## Operations\n",
        "---\n",
        "See the [Basic section on Binary Ops](https://pandas.pydata.org/pandas-docs/stable/basics.html#basics-binop \"Flexible binary operations\")"
      ]
    },
    {
      "cell_type": "markdown",
      "metadata": {
        "id": "v67J36_BcT52"
      },
      "source": [
        "### Stats\n",
        "\n",
        "Operations in general _exclude_ missing data.\n",
        "\n",
        "Performing a descriptive statistic."
      ]
    },
    {
      "cell_type": "markdown",
      "metadata": {
        "id": "JKdI9L5KhB4z"
      },
      "source": [
        " <img src= 'https://i.stack.imgur.com/FzimB.png'>  \n",
        "\n",
        " <img src='https://bham-carpentries.github.io/2018-12-17-bham_python-novice-inflammation/fig/python-operations-across-axes.png'>"
      ]
    },
    {
      "cell_type": "code",
      "metadata": {
        "id": "05Eh6eYbcT52",
        "colab": {
          "base_uri": "https://localhost:8080/"
        },
        "outputId": "19f6249f-5904-4205-b949-613f432cf6c8"
      },
      "source": [
        "df.mean()"
      ],
      "execution_count": null,
      "outputs": [
        {
          "output_type": "execute_result",
          "data": {
            "text/plain": [
              "A   -0.373763\n",
              "B    0.008753\n",
              "C   -0.646045\n",
              "D    5.000000\n",
              "dtype: float64"
            ]
          },
          "metadata": {
            "tags": []
          },
          "execution_count": 61
        }
      ]
    },
    {
      "cell_type": "code",
      "metadata": {
        "id": "yI8ij4U-cT53",
        "colab": {
          "base_uri": "https://localhost:8080/"
        },
        "outputId": "40906986-4dbb-4874-9047-939e34c60e35"
      },
      "source": [
        "df.mean(0)    # same as above"
      ],
      "execution_count": null,
      "outputs": [
        {
          "output_type": "execute_result",
          "data": {
            "text/plain": [
              "A   -0.373763\n",
              "B    0.008753\n",
              "C   -0.646045\n",
              "D    5.000000\n",
              "dtype: float64"
            ]
          },
          "metadata": {
            "tags": []
          },
          "execution_count": 62
        }
      ]
    },
    {
      "cell_type": "code",
      "metadata": {
        "id": "0DpVmj_Ahbse",
        "colab": {
          "base_uri": "https://localhost:8080/"
        },
        "outputId": "07af4fa5-c8f2-47d7-ce6e-f7fa6f0e83bc"
      },
      "source": [
        "df.mean(axis='index')"
      ],
      "execution_count": null,
      "outputs": [
        {
          "output_type": "execute_result",
          "data": {
            "text/plain": [
              "A   -0.373763\n",
              "B    0.008753\n",
              "C   -0.646045\n",
              "D    5.000000\n",
              "dtype: float64"
            ]
          },
          "metadata": {
            "tags": []
          },
          "execution_count": 63
        }
      ]
    },
    {
      "cell_type": "markdown",
      "metadata": {
        "id": "6hrlZRl_cT53"
      },
      "source": [
        "Same operation on the other axis."
      ]
    },
    {
      "cell_type": "code",
      "metadata": {
        "id": "1QIcEe6JcT53",
        "colab": {
          "base_uri": "https://localhost:8080/"
        },
        "outputId": "5019d837-df81-4063-9a2d-9773ec4a4086"
      },
      "source": [
        "df.mean(1)"
      ],
      "execution_count": null,
      "outputs": [
        {
          "output_type": "execute_result",
          "data": {
            "text/plain": [
              "2013-01-01    0.836225\n",
              "2013-01-02    1.776787\n",
              "2013-01-03    0.476335\n",
              "2013-01-04    0.621336\n",
              "2013-01-05    1.383397\n",
              "2013-01-06    0.889335\n",
              "Freq: D, dtype: float64"
            ]
          },
          "metadata": {
            "tags": []
          },
          "execution_count": 64
        }
      ]
    },
    {
      "cell_type": "code",
      "metadata": {
        "id": "5VrOw_7-h3hg",
        "colab": {
          "base_uri": "https://localhost:8080/"
        },
        "outputId": "1f5ae22f-c841-4631-9ad5-0abc733a242f"
      },
      "source": [
        "df.mean(axis='columns')"
      ],
      "execution_count": null,
      "outputs": [
        {
          "output_type": "execute_result",
          "data": {
            "text/plain": [
              "2013-01-01    0.836225\n",
              "2013-01-02    1.776787\n",
              "2013-01-03    0.476335\n",
              "2013-01-04    0.621336\n",
              "2013-01-05    1.383397\n",
              "2013-01-06    0.889335\n",
              "Freq: D, dtype: float64"
            ]
          },
          "metadata": {
            "tags": []
          },
          "execution_count": 65
        }
      ]
    },
    {
      "cell_type": "markdown",
      "metadata": {
        "id": "4wj2G7GGcT53"
      },
      "source": [
        "Operating with objects that have different dimensionality and need alignment. In addition, pandas automatically broadcasts along the specified dimension."
      ]
    },
    {
      "cell_type": "code",
      "metadata": {
        "collapsed": true,
        "id": "ZPfn0szWcT53"
      },
      "source": [
        "s = pd.Series([1, 3, 5, np.nan, 6, 8], index = dates).shift(2)"
      ],
      "execution_count": null,
      "outputs": []
    },
    {
      "cell_type": "code",
      "metadata": {
        "id": "hXwhaTmVcT53",
        "colab": {
          "base_uri": "https://localhost:8080/"
        },
        "outputId": "a41b9a1d-9e33-4a84-f193-00f0e5f8bbd0"
      },
      "source": [
        "s"
      ],
      "execution_count": null,
      "outputs": [
        {
          "output_type": "execute_result",
          "data": {
            "text/plain": [
              "2013-01-01    NaN\n",
              "2013-01-02    NaN\n",
              "2013-01-03    1.0\n",
              "2013-01-04    3.0\n",
              "2013-01-05    5.0\n",
              "2013-01-06    NaN\n",
              "Freq: D, dtype: float64"
            ]
          },
          "metadata": {
            "tags": []
          },
          "execution_count": 67
        }
      ]
    },
    {
      "cell_type": "code",
      "metadata": {
        "id": "IPWlA1pdcT53",
        "colab": {
          "base_uri": "https://localhost:8080/",
          "height": 234
        },
        "outputId": "e42c0f36-a56b-473f-cc84-d3b2f12fff95"
      },
      "source": [
        "df.sub(s, axis = 'index')"
      ],
      "execution_count": null,
      "outputs": [
        {
          "output_type": "execute_result",
          "data": {
            "text/html": [
              "<div>\n",
              "<style scoped>\n",
              "    .dataframe tbody tr th:only-of-type {\n",
              "        vertical-align: middle;\n",
              "    }\n",
              "\n",
              "    .dataframe tbody tr th {\n",
              "        vertical-align: top;\n",
              "    }\n",
              "\n",
              "    .dataframe thead th {\n",
              "        text-align: right;\n",
              "    }\n",
              "</style>\n",
              "<table border=\"1\" class=\"dataframe\">\n",
              "  <thead>\n",
              "    <tr style=\"text-align: right;\">\n",
              "      <th></th>\n",
              "      <th>A</th>\n",
              "      <th>B</th>\n",
              "      <th>C</th>\n",
              "      <th>D</th>\n",
              "    </tr>\n",
              "  </thead>\n",
              "  <tbody>\n",
              "    <tr>\n",
              "      <th>2013-01-01</th>\n",
              "      <td>NaN</td>\n",
              "      <td>NaN</td>\n",
              "      <td>NaN</td>\n",
              "      <td>NaN</td>\n",
              "    </tr>\n",
              "    <tr>\n",
              "      <th>2013-01-02</th>\n",
              "      <td>NaN</td>\n",
              "      <td>NaN</td>\n",
              "      <td>NaN</td>\n",
              "      <td>NaN</td>\n",
              "    </tr>\n",
              "    <tr>\n",
              "      <th>2013-01-03</th>\n",
              "      <td>-2.078531</td>\n",
              "      <td>-2.094825</td>\n",
              "      <td>-1.921304</td>\n",
              "      <td>4.0</td>\n",
              "    </tr>\n",
              "    <tr>\n",
              "      <th>2013-01-04</th>\n",
              "      <td>-4.635065</td>\n",
              "      <td>-2.016688</td>\n",
              "      <td>-4.862900</td>\n",
              "      <td>2.0</td>\n",
              "    </tr>\n",
              "    <tr>\n",
              "      <th>2013-01-05</th>\n",
              "      <td>-3.914323</td>\n",
              "      <td>-5.501334</td>\n",
              "      <td>-5.050755</td>\n",
              "      <td>0.0</td>\n",
              "    </tr>\n",
              "    <tr>\n",
              "      <th>2013-01-06</th>\n",
              "      <td>NaN</td>\n",
              "      <td>NaN</td>\n",
              "      <td>NaN</td>\n",
              "      <td>NaN</td>\n",
              "    </tr>\n",
              "  </tbody>\n",
              "</table>\n",
              "</div>"
            ],
            "text/plain": [
              "                   A         B         C    D\n",
              "2013-01-01       NaN       NaN       NaN  NaN\n",
              "2013-01-02       NaN       NaN       NaN  NaN\n",
              "2013-01-03 -2.078531 -2.094825 -1.921304  4.0\n",
              "2013-01-04 -4.635065 -2.016688 -4.862900  2.0\n",
              "2013-01-05 -3.914323 -5.501334 -5.050755  0.0\n",
              "2013-01-06       NaN       NaN       NaN  NaN"
            ]
          },
          "metadata": {
            "tags": []
          },
          "execution_count": 68
        }
      ]
    },
    {
      "cell_type": "code",
      "metadata": {
        "colab": {
          "base_uri": "https://localhost:8080/",
          "height": 234
        },
        "id": "5LpgMZacgAoy",
        "outputId": "9b0ba2d5-d51f-4c73-e0af-2e6ad839b7e7"
      },
      "source": [
        "df"
      ],
      "execution_count": null,
      "outputs": [
        {
          "output_type": "execute_result",
          "data": {
            "text/html": [
              "<div>\n",
              "<style scoped>\n",
              "    .dataframe tbody tr th:only-of-type {\n",
              "        vertical-align: middle;\n",
              "    }\n",
              "\n",
              "    .dataframe tbody tr th {\n",
              "        vertical-align: top;\n",
              "    }\n",
              "\n",
              "    .dataframe thead th {\n",
              "        text-align: right;\n",
              "    }\n",
              "</style>\n",
              "<table border=\"1\" class=\"dataframe\">\n",
              "  <thead>\n",
              "    <tr style=\"text-align: right;\">\n",
              "      <th></th>\n",
              "      <th>A</th>\n",
              "      <th>B</th>\n",
              "      <th>C</th>\n",
              "      <th>D</th>\n",
              "    </tr>\n",
              "  </thead>\n",
              "  <tbody>\n",
              "    <tr>\n",
              "      <th>2013-01-01</th>\n",
              "      <td>0.073357</td>\n",
              "      <td>-2.415950</td>\n",
              "      <td>0.268023</td>\n",
              "      <td>0.226419</td>\n",
              "    </tr>\n",
              "    <tr>\n",
              "      <th>2013-01-02</th>\n",
              "      <td>0.241121</td>\n",
              "      <td>0.522426</td>\n",
              "      <td>-0.487546</td>\n",
              "      <td>1.114344</td>\n",
              "    </tr>\n",
              "    <tr>\n",
              "      <th>2013-01-03</th>\n",
              "      <td>0.550958</td>\n",
              "      <td>0.911274</td>\n",
              "      <td>2.110040</td>\n",
              "      <td>0.816214</td>\n",
              "    </tr>\n",
              "    <tr>\n",
              "      <th>2013-01-04</th>\n",
              "      <td>-0.634632</td>\n",
              "      <td>-0.460077</td>\n",
              "      <td>-3.029944</td>\n",
              "      <td>1.976530</td>\n",
              "    </tr>\n",
              "    <tr>\n",
              "      <th>2013-01-05</th>\n",
              "      <td>-0.973007</td>\n",
              "      <td>-0.184916</td>\n",
              "      <td>-0.802747</td>\n",
              "      <td>-0.283274</td>\n",
              "    </tr>\n",
              "    <tr>\n",
              "      <th>2013-01-06</th>\n",
              "      <td>-0.520875</td>\n",
              "      <td>0.257082</td>\n",
              "      <td>-0.174847</td>\n",
              "      <td>1.402456</td>\n",
              "    </tr>\n",
              "  </tbody>\n",
              "</table>\n",
              "</div>"
            ],
            "text/plain": [
              "                   A         B         C         D\n",
              "2013-01-01  0.073357 -2.415950  0.268023  0.226419\n",
              "2013-01-02  0.241121  0.522426 -0.487546  1.114344\n",
              "2013-01-03  0.550958  0.911274  2.110040  0.816214\n",
              "2013-01-04 -0.634632 -0.460077 -3.029944  1.976530\n",
              "2013-01-05 -0.973007 -0.184916 -0.802747 -0.283274\n",
              "2013-01-06 -0.520875  0.257082 -0.174847  1.402456"
            ]
          },
          "metadata": {
            "tags": []
          },
          "execution_count": 127
        }
      ]
    },
    {
      "cell_type": "markdown",
      "metadata": {
        "id": "nJxL8sQYcT53"
      },
      "source": [
        "### Apply\n",
        "\n",
        "Applying functions to the data."
      ]
    },
    {
      "cell_type": "code",
      "metadata": {
        "id": "4aqAbQR5cT53",
        "colab": {
          "base_uri": "https://localhost:8080/",
          "height": 234
        },
        "outputId": "2de9d8ea-f753-4753-b8bc-455255e4ae5e"
      },
      "source": [
        "df.apply(np.cumsum)"
      ],
      "execution_count": null,
      "outputs": [
        {
          "output_type": "execute_result",
          "data": {
            "text/html": [
              "<div>\n",
              "<style scoped>\n",
              "    .dataframe tbody tr th:only-of-type {\n",
              "        vertical-align: middle;\n",
              "    }\n",
              "\n",
              "    .dataframe tbody tr th {\n",
              "        vertical-align: top;\n",
              "    }\n",
              "\n",
              "    .dataframe thead th {\n",
              "        text-align: right;\n",
              "    }\n",
              "</style>\n",
              "<table border=\"1\" class=\"dataframe\">\n",
              "  <thead>\n",
              "    <tr style=\"text-align: right;\">\n",
              "      <th></th>\n",
              "      <th>A</th>\n",
              "      <th>B</th>\n",
              "      <th>C</th>\n",
              "      <th>D</th>\n",
              "    </tr>\n",
              "  </thead>\n",
              "  <tbody>\n",
              "    <tr>\n",
              "      <th>2013-01-01</th>\n",
              "      <td>0.073357</td>\n",
              "      <td>-2.415950</td>\n",
              "      <td>0.268023</td>\n",
              "      <td>0.226419</td>\n",
              "    </tr>\n",
              "    <tr>\n",
              "      <th>2013-01-02</th>\n",
              "      <td>0.314478</td>\n",
              "      <td>-1.893524</td>\n",
              "      <td>-0.219523</td>\n",
              "      <td>1.340763</td>\n",
              "    </tr>\n",
              "    <tr>\n",
              "      <th>2013-01-03</th>\n",
              "      <td>0.865436</td>\n",
              "      <td>-0.982251</td>\n",
              "      <td>1.890517</td>\n",
              "      <td>2.156977</td>\n",
              "    </tr>\n",
              "    <tr>\n",
              "      <th>2013-01-04</th>\n",
              "      <td>0.230804</td>\n",
              "      <td>-1.442328</td>\n",
              "      <td>-1.139427</td>\n",
              "      <td>4.133507</td>\n",
              "    </tr>\n",
              "    <tr>\n",
              "      <th>2013-01-05</th>\n",
              "      <td>-0.742202</td>\n",
              "      <td>-1.627244</td>\n",
              "      <td>-1.942174</td>\n",
              "      <td>3.850233</td>\n",
              "    </tr>\n",
              "    <tr>\n",
              "      <th>2013-01-06</th>\n",
              "      <td>-1.263078</td>\n",
              "      <td>-1.370162</td>\n",
              "      <td>-2.117021</td>\n",
              "      <td>5.252688</td>\n",
              "    </tr>\n",
              "  </tbody>\n",
              "</table>\n",
              "</div>"
            ],
            "text/plain": [
              "                   A         B         C         D\n",
              "2013-01-01  0.073357 -2.415950  0.268023  0.226419\n",
              "2013-01-02  0.314478 -1.893524 -0.219523  1.340763\n",
              "2013-01-03  0.865436 -0.982251  1.890517  2.156977\n",
              "2013-01-04  0.230804 -1.442328 -1.139427  4.133507\n",
              "2013-01-05 -0.742202 -1.627244 -1.942174  3.850233\n",
              "2013-01-06 -1.263078 -1.370162 -2.117021  5.252688"
            ]
          },
          "metadata": {
            "tags": []
          },
          "execution_count": 126
        }
      ]
    },
    {
      "cell_type": "code",
      "metadata": {
        "id": "wmnfG9v7cT53",
        "colab": {
          "base_uri": "https://localhost:8080/"
        },
        "outputId": "8be011a1-d328-42ff-d8c5-387abc97e419"
      },
      "source": [
        "df.apply(lambda x: x.max() - x.min())"
      ],
      "execution_count": null,
      "outputs": [
        {
          "output_type": "execute_result",
          "data": {
            "text/plain": [
              "A    1.523965\n",
              "B    3.327224\n",
              "C    5.139984\n",
              "D    2.259804\n",
              "dtype: float64"
            ]
          },
          "metadata": {
            "tags": []
          },
          "execution_count": 129
        }
      ]
    },
    {
      "cell_type": "markdown",
      "metadata": {
        "id": "N77v2AOOcT54"
      },
      "source": [
        "### String Methods\n",
        "\n",
        "Series is equipped with a set of string processing methods in the _str_ attribute that make it easy to operate on each element of the array, as in the code snippet below. Note that pattern-matching in _str_ generally uses [regular expressions](https://docs.python.org/2/library/re.html \"Regular expression operations\") by default (and in some cases always uses them). See more at [Vectorizing String Methods](https://pandas.pydata.org/pandas-docs/stable/text.html#text-string-methods \"Working with Text Data\")."
      ]
    },
    {
      "cell_type": "code",
      "metadata": {
        "collapsed": true,
        "id": "RCMdMloKcT54"
      },
      "source": [
        "s = pd.Series(['A', 'B', 'C', 'Aaba', 'Baca', np.nan, 'CABA', 'dog', 'cat'])"
      ],
      "execution_count": null,
      "outputs": []
    },
    {
      "cell_type": "code",
      "metadata": {
        "id": "qHNPxuXfcT54",
        "colab": {
          "base_uri": "https://localhost:8080/"
        },
        "outputId": "a7de202e-4eb9-488c-858a-6dea3705a4d7"
      },
      "source": [
        "s.str.lower()"
      ],
      "execution_count": null,
      "outputs": [
        {
          "output_type": "execute_result",
          "data": {
            "text/plain": [
              "0       a\n",
              "1       b\n",
              "2       c\n",
              "3    aaba\n",
              "4    baca\n",
              "5     NaN\n",
              "6    caba\n",
              "7     dog\n",
              "8     cat\n",
              "dtype: object"
            ]
          },
          "metadata": {
            "tags": []
          },
          "execution_count": 75
        }
      ]
    },
    {
      "cell_type": "markdown",
      "metadata": {
        "id": "POb7-NF5cT58"
      },
      "source": [
        "### Append\n",
        "\n",
        "Append rows to a dataframe. See the [Appending](https://pandas.pydata.org/pandas-docs/stable/merging.html#merging-concatenation \"Concatenating using append\")."
      ]
    },
    {
      "cell_type": "code",
      "metadata": {
        "collapsed": true,
        "id": "8GRBvdFXcT58"
      },
      "source": [
        "df = pd.DataFrame(np.random.randn(8, 4), columns = ['A', 'B', 'C', 'D'])"
      ],
      "execution_count": null,
      "outputs": []
    },
    {
      "cell_type": "code",
      "metadata": {
        "id": "GIZhNNFacT58",
        "colab": {
          "base_uri": "https://localhost:8080/",
          "height": 296
        },
        "outputId": "9eb79f2a-9ce9-475f-b78b-8228eceae91b"
      },
      "source": [
        "df"
      ],
      "execution_count": null,
      "outputs": [
        {
          "output_type": "execute_result",
          "data": {
            "text/html": [
              "<div>\n",
              "<style scoped>\n",
              "    .dataframe tbody tr th:only-of-type {\n",
              "        vertical-align: middle;\n",
              "    }\n",
              "\n",
              "    .dataframe tbody tr th {\n",
              "        vertical-align: top;\n",
              "    }\n",
              "\n",
              "    .dataframe thead th {\n",
              "        text-align: right;\n",
              "    }\n",
              "</style>\n",
              "<table border=\"1\" class=\"dataframe\">\n",
              "  <thead>\n",
              "    <tr style=\"text-align: right;\">\n",
              "      <th></th>\n",
              "      <th>A</th>\n",
              "      <th>B</th>\n",
              "      <th>C</th>\n",
              "      <th>D</th>\n",
              "    </tr>\n",
              "  </thead>\n",
              "  <tbody>\n",
              "    <tr>\n",
              "      <th>0</th>\n",
              "      <td>0.185249</td>\n",
              "      <td>-1.165181</td>\n",
              "      <td>1.397914</td>\n",
              "      <td>-1.567392</td>\n",
              "    </tr>\n",
              "    <tr>\n",
              "      <th>1</th>\n",
              "      <td>0.632491</td>\n",
              "      <td>0.077462</td>\n",
              "      <td>-0.938466</td>\n",
              "      <td>-1.554140</td>\n",
              "    </tr>\n",
              "    <tr>\n",
              "      <th>2</th>\n",
              "      <td>-1.151306</td>\n",
              "      <td>-0.349346</td>\n",
              "      <td>1.173865</td>\n",
              "      <td>-0.495339</td>\n",
              "    </tr>\n",
              "    <tr>\n",
              "      <th>3</th>\n",
              "      <td>-1.910611</td>\n",
              "      <td>0.310406</td>\n",
              "      <td>-1.180243</td>\n",
              "      <td>0.921857</td>\n",
              "    </tr>\n",
              "    <tr>\n",
              "      <th>4</th>\n",
              "      <td>-0.731572</td>\n",
              "      <td>0.943779</td>\n",
              "      <td>0.116439</td>\n",
              "      <td>0.811587</td>\n",
              "    </tr>\n",
              "    <tr>\n",
              "      <th>5</th>\n",
              "      <td>0.890983</td>\n",
              "      <td>1.083808</td>\n",
              "      <td>0.316836</td>\n",
              "      <td>-0.393110</td>\n",
              "    </tr>\n",
              "    <tr>\n",
              "      <th>6</th>\n",
              "      <td>0.148252</td>\n",
              "      <td>0.806476</td>\n",
              "      <td>-0.459121</td>\n",
              "      <td>-0.107080</td>\n",
              "    </tr>\n",
              "    <tr>\n",
              "      <th>7</th>\n",
              "      <td>-0.280047</td>\n",
              "      <td>0.013278</td>\n",
              "      <td>2.169948</td>\n",
              "      <td>0.548183</td>\n",
              "    </tr>\n",
              "  </tbody>\n",
              "</table>\n",
              "</div>"
            ],
            "text/plain": [
              "          A         B         C         D\n",
              "0  0.185249 -1.165181  1.397914 -1.567392\n",
              "1  0.632491  0.077462 -0.938466 -1.554140\n",
              "2 -1.151306 -0.349346  1.173865 -0.495339\n",
              "3 -1.910611  0.310406 -1.180243  0.921857\n",
              "4 -0.731572  0.943779  0.116439  0.811587\n",
              "5  0.890983  1.083808  0.316836 -0.393110\n",
              "6  0.148252  0.806476 -0.459121 -0.107080\n",
              "7 -0.280047  0.013278  2.169948  0.548183"
            ]
          },
          "metadata": {
            "tags": []
          },
          "execution_count": 131
        }
      ]
    },
    {
      "cell_type": "code",
      "metadata": {
        "collapsed": true,
        "id": "QiTVDokgcT59"
      },
      "source": [
        "s = df.iloc[3]"
      ],
      "execution_count": null,
      "outputs": []
    },
    {
      "cell_type": "code",
      "metadata": {
        "id": "RlZGpl2tcT59",
        "colab": {
          "base_uri": "https://localhost:8080/"
        },
        "outputId": "a398d269-5462-43ca-ec20-c7b7a2818cfa"
      },
      "source": [
        "s"
      ],
      "execution_count": null,
      "outputs": [
        {
          "output_type": "execute_result",
          "data": {
            "text/plain": [
              "A   -1.910611\n",
              "B    0.310406\n",
              "C   -1.180243\n",
              "D    0.921857\n",
              "Name: 3, dtype: float64"
            ]
          },
          "metadata": {
            "tags": []
          },
          "execution_count": 133
        }
      ]
    },
    {
      "cell_type": "code",
      "metadata": {
        "id": "XJPGb0wqcT59",
        "colab": {
          "base_uri": "https://localhost:8080/",
          "height": 327
        },
        "outputId": "3a1693db-27d4-4e38-f20b-abb53f4e151f"
      },
      "source": [
        "df.append(s, ignore_index = True)"
      ],
      "execution_count": null,
      "outputs": [
        {
          "output_type": "execute_result",
          "data": {
            "text/html": [
              "<div>\n",
              "<style scoped>\n",
              "    .dataframe tbody tr th:only-of-type {\n",
              "        vertical-align: middle;\n",
              "    }\n",
              "\n",
              "    .dataframe tbody tr th {\n",
              "        vertical-align: top;\n",
              "    }\n",
              "\n",
              "    .dataframe thead th {\n",
              "        text-align: right;\n",
              "    }\n",
              "</style>\n",
              "<table border=\"1\" class=\"dataframe\">\n",
              "  <thead>\n",
              "    <tr style=\"text-align: right;\">\n",
              "      <th></th>\n",
              "      <th>A</th>\n",
              "      <th>B</th>\n",
              "      <th>C</th>\n",
              "      <th>D</th>\n",
              "    </tr>\n",
              "  </thead>\n",
              "  <tbody>\n",
              "    <tr>\n",
              "      <th>0</th>\n",
              "      <td>0.185249</td>\n",
              "      <td>-1.165181</td>\n",
              "      <td>1.397914</td>\n",
              "      <td>-1.567392</td>\n",
              "    </tr>\n",
              "    <tr>\n",
              "      <th>1</th>\n",
              "      <td>0.632491</td>\n",
              "      <td>0.077462</td>\n",
              "      <td>-0.938466</td>\n",
              "      <td>-1.554140</td>\n",
              "    </tr>\n",
              "    <tr>\n",
              "      <th>2</th>\n",
              "      <td>-1.151306</td>\n",
              "      <td>-0.349346</td>\n",
              "      <td>1.173865</td>\n",
              "      <td>-0.495339</td>\n",
              "    </tr>\n",
              "    <tr>\n",
              "      <th>3</th>\n",
              "      <td>-1.910611</td>\n",
              "      <td>0.310406</td>\n",
              "      <td>-1.180243</td>\n",
              "      <td>0.921857</td>\n",
              "    </tr>\n",
              "    <tr>\n",
              "      <th>4</th>\n",
              "      <td>-0.731572</td>\n",
              "      <td>0.943779</td>\n",
              "      <td>0.116439</td>\n",
              "      <td>0.811587</td>\n",
              "    </tr>\n",
              "    <tr>\n",
              "      <th>5</th>\n",
              "      <td>0.890983</td>\n",
              "      <td>1.083808</td>\n",
              "      <td>0.316836</td>\n",
              "      <td>-0.393110</td>\n",
              "    </tr>\n",
              "    <tr>\n",
              "      <th>6</th>\n",
              "      <td>0.148252</td>\n",
              "      <td>0.806476</td>\n",
              "      <td>-0.459121</td>\n",
              "      <td>-0.107080</td>\n",
              "    </tr>\n",
              "    <tr>\n",
              "      <th>7</th>\n",
              "      <td>-0.280047</td>\n",
              "      <td>0.013278</td>\n",
              "      <td>2.169948</td>\n",
              "      <td>0.548183</td>\n",
              "    </tr>\n",
              "    <tr>\n",
              "      <th>8</th>\n",
              "      <td>-1.910611</td>\n",
              "      <td>0.310406</td>\n",
              "      <td>-1.180243</td>\n",
              "      <td>0.921857</td>\n",
              "    </tr>\n",
              "  </tbody>\n",
              "</table>\n",
              "</div>"
            ],
            "text/plain": [
              "          A         B         C         D\n",
              "0  0.185249 -1.165181  1.397914 -1.567392\n",
              "1  0.632491  0.077462 -0.938466 -1.554140\n",
              "2 -1.151306 -0.349346  1.173865 -0.495339\n",
              "3 -1.910611  0.310406 -1.180243  0.921857\n",
              "4 -0.731572  0.943779  0.116439  0.811587\n",
              "5  0.890983  1.083808  0.316836 -0.393110\n",
              "6  0.148252  0.806476 -0.459121 -0.107080\n",
              "7 -0.280047  0.013278  2.169948  0.548183\n",
              "8 -1.910611  0.310406 -1.180243  0.921857"
            ]
          },
          "metadata": {
            "tags": []
          },
          "execution_count": 134
        }
      ]
    },
    {
      "cell_type": "markdown",
      "metadata": {
        "id": "R5vZp4-3cT59"
      },
      "source": [
        "## Grouping\n",
        "---\n",
        "By \"group by\" we are referring to a process involving one or more of the following steps\n",
        "- **Splitting** the data into groups based on some criteria\n",
        "- **Applying** a function to each group independently\n",
        "- **Combining** the results into a data structure\n",
        "\n",
        "See the [Grouping Section](https://pandas.pydata.org/pandas-docs/stable/groupby.html#groupby \"Group By: split-apply-combine\")"
      ]
    },
    {
      "cell_type": "code",
      "metadata": {
        "collapsed": true,
        "id": "PGq9p80EcT59"
      },
      "source": [
        "df = pd.DataFrame({'A' : ['foo', 'bar', 'foo', 'bar', 'foo', 'bar', 'foo', 'foo'],\n",
        "                   'B' : ['one', 'one', 'two', 'three', 'two', 'two', 'one', 'three'],\n",
        "                   'C' : np.random.randn(8),\n",
        "                   'D' : np.random.randn(8)})"
      ],
      "execution_count": null,
      "outputs": []
    },
    {
      "cell_type": "code",
      "metadata": {
        "id": "B7hq-tWpcT59",
        "colab": {
          "base_uri": "https://localhost:8080/",
          "height": 296
        },
        "outputId": "6162f027-3ac6-44b5-b411-bfc57fa2a8ba"
      },
      "source": [
        "df"
      ],
      "execution_count": null,
      "outputs": [
        {
          "output_type": "execute_result",
          "data": {
            "text/html": [
              "<div>\n",
              "<style scoped>\n",
              "    .dataframe tbody tr th:only-of-type {\n",
              "        vertical-align: middle;\n",
              "    }\n",
              "\n",
              "    .dataframe tbody tr th {\n",
              "        vertical-align: top;\n",
              "    }\n",
              "\n",
              "    .dataframe thead th {\n",
              "        text-align: right;\n",
              "    }\n",
              "</style>\n",
              "<table border=\"1\" class=\"dataframe\">\n",
              "  <thead>\n",
              "    <tr style=\"text-align: right;\">\n",
              "      <th></th>\n",
              "      <th>A</th>\n",
              "      <th>B</th>\n",
              "      <th>C</th>\n",
              "      <th>D</th>\n",
              "    </tr>\n",
              "  </thead>\n",
              "  <tbody>\n",
              "    <tr>\n",
              "      <th>0</th>\n",
              "      <td>foo</td>\n",
              "      <td>one</td>\n",
              "      <td>0.383389</td>\n",
              "      <td>-1.703295</td>\n",
              "    </tr>\n",
              "    <tr>\n",
              "      <th>1</th>\n",
              "      <td>bar</td>\n",
              "      <td>one</td>\n",
              "      <td>-1.206909</td>\n",
              "      <td>-0.288815</td>\n",
              "    </tr>\n",
              "    <tr>\n",
              "      <th>2</th>\n",
              "      <td>foo</td>\n",
              "      <td>two</td>\n",
              "      <td>0.401701</td>\n",
              "      <td>0.071401</td>\n",
              "    </tr>\n",
              "    <tr>\n",
              "      <th>3</th>\n",
              "      <td>bar</td>\n",
              "      <td>three</td>\n",
              "      <td>0.442368</td>\n",
              "      <td>1.338745</td>\n",
              "    </tr>\n",
              "    <tr>\n",
              "      <th>4</th>\n",
              "      <td>foo</td>\n",
              "      <td>two</td>\n",
              "      <td>-0.937079</td>\n",
              "      <td>0.676632</td>\n",
              "    </tr>\n",
              "    <tr>\n",
              "      <th>5</th>\n",
              "      <td>bar</td>\n",
              "      <td>two</td>\n",
              "      <td>0.405440</td>\n",
              "      <td>-0.442961</td>\n",
              "    </tr>\n",
              "    <tr>\n",
              "      <th>6</th>\n",
              "      <td>foo</td>\n",
              "      <td>one</td>\n",
              "      <td>0.896157</td>\n",
              "      <td>1.762905</td>\n",
              "    </tr>\n",
              "    <tr>\n",
              "      <th>7</th>\n",
              "      <td>foo</td>\n",
              "      <td>three</td>\n",
              "      <td>-0.396547</td>\n",
              "      <td>0.960413</td>\n",
              "    </tr>\n",
              "  </tbody>\n",
              "</table>\n",
              "</div>"
            ],
            "text/plain": [
              "     A      B         C         D\n",
              "0  foo    one  0.383389 -1.703295\n",
              "1  bar    one -1.206909 -0.288815\n",
              "2  foo    two  0.401701  0.071401\n",
              "3  bar  three  0.442368  1.338745\n",
              "4  foo    two -0.937079  0.676632\n",
              "5  bar    two  0.405440 -0.442961\n",
              "6  foo    one  0.896157  1.762905\n",
              "7  foo  three -0.396547  0.960413"
            ]
          },
          "metadata": {
            "tags": []
          },
          "execution_count": 136
        }
      ]
    },
    {
      "cell_type": "markdown",
      "metadata": {
        "id": "xfSt6qRMcT59"
      },
      "source": [
        "Grouping and then applying a function **`sum`** to the resulting groups."
      ]
    },
    {
      "cell_type": "code",
      "metadata": {
        "id": "Z3bDmzE-cT59",
        "colab": {
          "base_uri": "https://localhost:8080/",
          "height": 141
        },
        "outputId": "8484d720-8852-4b83-bc83-738fa8777e36"
      },
      "source": [
        "df.groupby('A').sum()"
      ],
      "execution_count": null,
      "outputs": [
        {
          "output_type": "execute_result",
          "data": {
            "text/html": [
              "<div>\n",
              "<style scoped>\n",
              "    .dataframe tbody tr th:only-of-type {\n",
              "        vertical-align: middle;\n",
              "    }\n",
              "\n",
              "    .dataframe tbody tr th {\n",
              "        vertical-align: top;\n",
              "    }\n",
              "\n",
              "    .dataframe thead th {\n",
              "        text-align: right;\n",
              "    }\n",
              "</style>\n",
              "<table border=\"1\" class=\"dataframe\">\n",
              "  <thead>\n",
              "    <tr style=\"text-align: right;\">\n",
              "      <th></th>\n",
              "      <th>C</th>\n",
              "      <th>D</th>\n",
              "    </tr>\n",
              "    <tr>\n",
              "      <th>A</th>\n",
              "      <th></th>\n",
              "      <th></th>\n",
              "    </tr>\n",
              "  </thead>\n",
              "  <tbody>\n",
              "    <tr>\n",
              "      <th>bar</th>\n",
              "      <td>-1.953123</td>\n",
              "      <td>0.112718</td>\n",
              "    </tr>\n",
              "    <tr>\n",
              "      <th>foo</th>\n",
              "      <td>-0.122456</td>\n",
              "      <td>1.349377</td>\n",
              "    </tr>\n",
              "  </tbody>\n",
              "</table>\n",
              "</div>"
            ],
            "text/plain": [
              "            C         D\n",
              "A                      \n",
              "bar -1.953123  0.112718\n",
              "foo -0.122456  1.349377"
            ]
          },
          "metadata": {
            "tags": []
          },
          "execution_count": 83
        }
      ]
    },
    {
      "cell_type": "markdown",
      "metadata": {
        "id": "cRigFpGicT5-"
      },
      "source": [
        "Grouping by multiple columns forms a hierarchical index, which we then apply the function."
      ]
    },
    {
      "cell_type": "code",
      "metadata": {
        "id": "inbPnnQkcT5-",
        "colab": {
          "base_uri": "https://localhost:8080/",
          "height": 265
        },
        "outputId": "46503a19-5aee-433a-9818-905f3ce9046e"
      },
      "source": [
        "df.groupby(['A', 'B']).sum()"
      ],
      "execution_count": null,
      "outputs": [
        {
          "output_type": "execute_result",
          "data": {
            "text/html": [
              "<div>\n",
              "<style scoped>\n",
              "    .dataframe tbody tr th:only-of-type {\n",
              "        vertical-align: middle;\n",
              "    }\n",
              "\n",
              "    .dataframe tbody tr th {\n",
              "        vertical-align: top;\n",
              "    }\n",
              "\n",
              "    .dataframe thead th {\n",
              "        text-align: right;\n",
              "    }\n",
              "</style>\n",
              "<table border=\"1\" class=\"dataframe\">\n",
              "  <thead>\n",
              "    <tr style=\"text-align: right;\">\n",
              "      <th></th>\n",
              "      <th></th>\n",
              "      <th>C</th>\n",
              "      <th>D</th>\n",
              "    </tr>\n",
              "    <tr>\n",
              "      <th>A</th>\n",
              "      <th>B</th>\n",
              "      <th></th>\n",
              "      <th></th>\n",
              "    </tr>\n",
              "  </thead>\n",
              "  <tbody>\n",
              "    <tr>\n",
              "      <th rowspan=\"3\" valign=\"top\">bar</th>\n",
              "      <th>one</th>\n",
              "      <td>-0.874120</td>\n",
              "      <td>1.368092</td>\n",
              "    </tr>\n",
              "    <tr>\n",
              "      <th>three</th>\n",
              "      <td>0.133634</td>\n",
              "      <td>0.019391</td>\n",
              "    </tr>\n",
              "    <tr>\n",
              "      <th>two</th>\n",
              "      <td>-1.212637</td>\n",
              "      <td>-1.274765</td>\n",
              "    </tr>\n",
              "    <tr>\n",
              "      <th rowspan=\"3\" valign=\"top\">foo</th>\n",
              "      <th>one</th>\n",
              "      <td>2.521057</td>\n",
              "      <td>1.118867</td>\n",
              "    </tr>\n",
              "    <tr>\n",
              "      <th>three</th>\n",
              "      <td>-0.035097</td>\n",
              "      <td>0.615538</td>\n",
              "    </tr>\n",
              "    <tr>\n",
              "      <th>two</th>\n",
              "      <td>-2.608416</td>\n",
              "      <td>-0.385028</td>\n",
              "    </tr>\n",
              "  </tbody>\n",
              "</table>\n",
              "</div>"
            ],
            "text/plain": [
              "                  C         D\n",
              "A   B                        \n",
              "bar one   -0.874120  1.368092\n",
              "    three  0.133634  0.019391\n",
              "    two   -1.212637 -1.274765\n",
              "foo one    2.521057  1.118867\n",
              "    three -0.035097  0.615538\n",
              "    two   -2.608416 -0.385028"
            ]
          },
          "metadata": {
            "tags": []
          },
          "execution_count": 84
        }
      ]
    },
    {
      "cell_type": "markdown",
      "metadata": {
        "id": "T__pQZ6KcT6A"
      },
      "source": [
        "### Pivot Tables"
      ]
    },
    {
      "cell_type": "code",
      "metadata": {
        "colab": {
          "base_uri": "https://localhost:8080/"
        },
        "id": "N36ipYLvnL0T",
        "outputId": "3738f36e-c0b1-4fd5-b5e2-2ece46a3e2a5"
      },
      "source": [
        "my_list = list('abc'*3)\n",
        "my_set = set('abc'*3)\n",
        "\n",
        "print('my_list = ', my_list)\n",
        "print('my_set = ', my_set)"
      ],
      "execution_count": null,
      "outputs": [
        {
          "output_type": "stream",
          "text": [
            "my_list =  ['a', 'b', 'c', 'a', 'b', 'c', 'a', 'b', 'c']\n",
            "my_set =  {'b', 'a', 'c'}\n"
          ],
          "name": "stdout"
        }
      ]
    },
    {
      "cell_type": "code",
      "metadata": {
        "collapsed": true,
        "id": "WUAz4z7ycT6B"
      },
      "source": [
        "df = pd.DataFrame({'A' : ['one', 'one', 'two', 'three'] * 3,\n",
        "                   'B' : ['A', 'B', 'C'] * 4,\n",
        "                   'C' : ['foo', 'foo', 'foo', 'bar', 'bar', 'bar'] * 2,\n",
        "                   'D' : np.random.randn(12),\n",
        "                   'E' : np.random.randn(12)})"
      ],
      "execution_count": null,
      "outputs": []
    },
    {
      "cell_type": "code",
      "metadata": {
        "id": "oWF4fNiccT6B",
        "colab": {
          "base_uri": "https://localhost:8080/",
          "height": 420
        },
        "outputId": "cb4163b0-5af3-443e-a25b-3d423b85a122"
      },
      "source": [
        "df"
      ],
      "execution_count": null,
      "outputs": [
        {
          "output_type": "execute_result",
          "data": {
            "text/html": [
              "<div>\n",
              "<style scoped>\n",
              "    .dataframe tbody tr th:only-of-type {\n",
              "        vertical-align: middle;\n",
              "    }\n",
              "\n",
              "    .dataframe tbody tr th {\n",
              "        vertical-align: top;\n",
              "    }\n",
              "\n",
              "    .dataframe thead th {\n",
              "        text-align: right;\n",
              "    }\n",
              "</style>\n",
              "<table border=\"1\" class=\"dataframe\">\n",
              "  <thead>\n",
              "    <tr style=\"text-align: right;\">\n",
              "      <th></th>\n",
              "      <th>A</th>\n",
              "      <th>B</th>\n",
              "      <th>C</th>\n",
              "      <th>D</th>\n",
              "      <th>E</th>\n",
              "    </tr>\n",
              "  </thead>\n",
              "  <tbody>\n",
              "    <tr>\n",
              "      <th>0</th>\n",
              "      <td>one</td>\n",
              "      <td>A</td>\n",
              "      <td>foo</td>\n",
              "      <td>-0.788861</td>\n",
              "      <td>0.575432</td>\n",
              "    </tr>\n",
              "    <tr>\n",
              "      <th>1</th>\n",
              "      <td>one</td>\n",
              "      <td>B</td>\n",
              "      <td>foo</td>\n",
              "      <td>0.554089</td>\n",
              "      <td>1.487042</td>\n",
              "    </tr>\n",
              "    <tr>\n",
              "      <th>2</th>\n",
              "      <td>two</td>\n",
              "      <td>C</td>\n",
              "      <td>foo</td>\n",
              "      <td>-0.262430</td>\n",
              "      <td>1.246301</td>\n",
              "    </tr>\n",
              "    <tr>\n",
              "      <th>3</th>\n",
              "      <td>three</td>\n",
              "      <td>A</td>\n",
              "      <td>bar</td>\n",
              "      <td>0.728067</td>\n",
              "      <td>-0.680476</td>\n",
              "    </tr>\n",
              "    <tr>\n",
              "      <th>4</th>\n",
              "      <td>one</td>\n",
              "      <td>B</td>\n",
              "      <td>bar</td>\n",
              "      <td>0.946536</td>\n",
              "      <td>1.813064</td>\n",
              "    </tr>\n",
              "    <tr>\n",
              "      <th>5</th>\n",
              "      <td>one</td>\n",
              "      <td>C</td>\n",
              "      <td>bar</td>\n",
              "      <td>-1.902402</td>\n",
              "      <td>-0.758040</td>\n",
              "    </tr>\n",
              "    <tr>\n",
              "      <th>6</th>\n",
              "      <td>two</td>\n",
              "      <td>A</td>\n",
              "      <td>foo</td>\n",
              "      <td>1.304659</td>\n",
              "      <td>-0.202735</td>\n",
              "    </tr>\n",
              "    <tr>\n",
              "      <th>7</th>\n",
              "      <td>three</td>\n",
              "      <td>B</td>\n",
              "      <td>foo</td>\n",
              "      <td>0.485923</td>\n",
              "      <td>-0.489020</td>\n",
              "    </tr>\n",
              "    <tr>\n",
              "      <th>8</th>\n",
              "      <td>one</td>\n",
              "      <td>C</td>\n",
              "      <td>foo</td>\n",
              "      <td>-0.555983</td>\n",
              "      <td>-1.489778</td>\n",
              "    </tr>\n",
              "    <tr>\n",
              "      <th>9</th>\n",
              "      <td>one</td>\n",
              "      <td>A</td>\n",
              "      <td>bar</td>\n",
              "      <td>0.516368</td>\n",
              "      <td>-0.066923</td>\n",
              "    </tr>\n",
              "    <tr>\n",
              "      <th>10</th>\n",
              "      <td>two</td>\n",
              "      <td>B</td>\n",
              "      <td>bar</td>\n",
              "      <td>-0.728372</td>\n",
              "      <td>-1.228101</td>\n",
              "    </tr>\n",
              "    <tr>\n",
              "      <th>11</th>\n",
              "      <td>three</td>\n",
              "      <td>C</td>\n",
              "      <td>bar</td>\n",
              "      <td>-0.738774</td>\n",
              "      <td>1.985693</td>\n",
              "    </tr>\n",
              "  </tbody>\n",
              "</table>\n",
              "</div>"
            ],
            "text/plain": [
              "        A  B    C         D         E\n",
              "0     one  A  foo -0.788861  0.575432\n",
              "1     one  B  foo  0.554089  1.487042\n",
              "2     two  C  foo -0.262430  1.246301\n",
              "3   three  A  bar  0.728067 -0.680476\n",
              "4     one  B  bar  0.946536  1.813064\n",
              "5     one  C  bar -1.902402 -0.758040\n",
              "6     two  A  foo  1.304659 -0.202735\n",
              "7   three  B  foo  0.485923 -0.489020\n",
              "8     one  C  foo -0.555983 -1.489778\n",
              "9     one  A  bar  0.516368 -0.066923\n",
              "10    two  B  bar -0.728372 -1.228101\n",
              "11  three  C  bar -0.738774  1.985693"
            ]
          },
          "metadata": {
            "tags": []
          },
          "execution_count": 138
        }
      ]
    },
    {
      "cell_type": "markdown",
      "metadata": {
        "id": "oNV6RkNacT6B"
      },
      "source": [
        "We can produce pivot tables from this data very easily:"
      ]
    },
    {
      "cell_type": "code",
      "metadata": {
        "id": "nYtVBtJgcT6B",
        "colab": {
          "base_uri": "https://localhost:8080/",
          "height": 358
        },
        "outputId": "3e8ba33c-be11-4745-e72a-5da27eaa7400"
      },
      "source": [
        "pd.pivot_table(df, values = 'D', index = ['A', 'B'], columns = ['C'])"
      ],
      "execution_count": null,
      "outputs": [
        {
          "output_type": "execute_result",
          "data": {
            "text/html": [
              "<div>\n",
              "<style scoped>\n",
              "    .dataframe tbody tr th:only-of-type {\n",
              "        vertical-align: middle;\n",
              "    }\n",
              "\n",
              "    .dataframe tbody tr th {\n",
              "        vertical-align: top;\n",
              "    }\n",
              "\n",
              "    .dataframe thead th {\n",
              "        text-align: right;\n",
              "    }\n",
              "</style>\n",
              "<table border=\"1\" class=\"dataframe\">\n",
              "  <thead>\n",
              "    <tr style=\"text-align: right;\">\n",
              "      <th></th>\n",
              "      <th>C</th>\n",
              "      <th>bar</th>\n",
              "      <th>foo</th>\n",
              "    </tr>\n",
              "    <tr>\n",
              "      <th>A</th>\n",
              "      <th>B</th>\n",
              "      <th></th>\n",
              "      <th></th>\n",
              "    </tr>\n",
              "  </thead>\n",
              "  <tbody>\n",
              "    <tr>\n",
              "      <th rowspan=\"3\" valign=\"top\">one</th>\n",
              "      <th>A</th>\n",
              "      <td>-1.732185</td>\n",
              "      <td>-1.419249</td>\n",
              "    </tr>\n",
              "    <tr>\n",
              "      <th>B</th>\n",
              "      <td>-0.355746</td>\n",
              "      <td>-0.244286</td>\n",
              "    </tr>\n",
              "    <tr>\n",
              "      <th>C</th>\n",
              "      <td>-0.455698</td>\n",
              "      <td>-0.373747</td>\n",
              "    </tr>\n",
              "    <tr>\n",
              "      <th rowspan=\"3\" valign=\"top\">three</th>\n",
              "      <th>A</th>\n",
              "      <td>0.427033</td>\n",
              "      <td>NaN</td>\n",
              "    </tr>\n",
              "    <tr>\n",
              "      <th>B</th>\n",
              "      <td>NaN</td>\n",
              "      <td>2.429246</td>\n",
              "    </tr>\n",
              "    <tr>\n",
              "      <th>C</th>\n",
              "      <td>0.283709</td>\n",
              "      <td>NaN</td>\n",
              "    </tr>\n",
              "    <tr>\n",
              "      <th rowspan=\"3\" valign=\"top\">two</th>\n",
              "      <th>A</th>\n",
              "      <td>NaN</td>\n",
              "      <td>0.970306</td>\n",
              "    </tr>\n",
              "    <tr>\n",
              "      <th>B</th>\n",
              "      <td>0.982926</td>\n",
              "      <td>NaN</td>\n",
              "    </tr>\n",
              "    <tr>\n",
              "      <th>C</th>\n",
              "      <td>NaN</td>\n",
              "      <td>-0.237759</td>\n",
              "    </tr>\n",
              "  </tbody>\n",
              "</table>\n",
              "</div>"
            ],
            "text/plain": [
              "C             bar       foo\n",
              "A     B                    \n",
              "one   A -1.732185 -1.419249\n",
              "      B -0.355746 -0.244286\n",
              "      C -0.455698 -0.373747\n",
              "three A  0.427033       NaN\n",
              "      B       NaN  2.429246\n",
              "      C  0.283709       NaN\n",
              "two   A       NaN  0.970306\n",
              "      B  0.982926       NaN\n",
              "      C       NaN -0.237759"
            ]
          },
          "metadata": {
            "tags": []
          },
          "execution_count": 88
        }
      ]
    },
    {
      "cell_type": "markdown",
      "metadata": {
        "id": "hsmbPKXncT6F"
      },
      "source": [
        "## Categoricals\n",
        "\n",
        "Since version 0.15, pandas can include categorical data in a `DataFrame`. For full docs, see the [categorical introduction](https://pandas.pydata.org/pandas-docs/stable/categorical.html#categorical \"Categorical Data\") and the [API documentation](https://pandas.pydata.org/pandas-docs/stable/api.html#api-categorical \"Categorical API\")."
      ]
    },
    {
      "cell_type": "code",
      "metadata": {
        "collapsed": true,
        "id": "YiCMNcZQcT6F",
        "colab": {
          "base_uri": "https://localhost:8080/",
          "height": 234
        },
        "outputId": "396b490d-0c99-4de6-bab6-a0aabe0c40c3"
      },
      "source": [
        "df = pd.DataFrame({\"id\":[1, 2, 3, 4, 5, 6], \"raw_grade\":['a', 'b', 'b', 'a', 'a', 'e']})\n",
        "df"
      ],
      "execution_count": null,
      "outputs": [
        {
          "output_type": "execute_result",
          "data": {
            "text/html": [
              "<div>\n",
              "<style scoped>\n",
              "    .dataframe tbody tr th:only-of-type {\n",
              "        vertical-align: middle;\n",
              "    }\n",
              "\n",
              "    .dataframe tbody tr th {\n",
              "        vertical-align: top;\n",
              "    }\n",
              "\n",
              "    .dataframe thead th {\n",
              "        text-align: right;\n",
              "    }\n",
              "</style>\n",
              "<table border=\"1\" class=\"dataframe\">\n",
              "  <thead>\n",
              "    <tr style=\"text-align: right;\">\n",
              "      <th></th>\n",
              "      <th>id</th>\n",
              "      <th>raw_grade</th>\n",
              "    </tr>\n",
              "  </thead>\n",
              "  <tbody>\n",
              "    <tr>\n",
              "      <th>0</th>\n",
              "      <td>1</td>\n",
              "      <td>a</td>\n",
              "    </tr>\n",
              "    <tr>\n",
              "      <th>1</th>\n",
              "      <td>2</td>\n",
              "      <td>b</td>\n",
              "    </tr>\n",
              "    <tr>\n",
              "      <th>2</th>\n",
              "      <td>3</td>\n",
              "      <td>b</td>\n",
              "    </tr>\n",
              "    <tr>\n",
              "      <th>3</th>\n",
              "      <td>4</td>\n",
              "      <td>a</td>\n",
              "    </tr>\n",
              "    <tr>\n",
              "      <th>4</th>\n",
              "      <td>5</td>\n",
              "      <td>a</td>\n",
              "    </tr>\n",
              "    <tr>\n",
              "      <th>5</th>\n",
              "      <td>6</td>\n",
              "      <td>e</td>\n",
              "    </tr>\n",
              "  </tbody>\n",
              "</table>\n",
              "</div>"
            ],
            "text/plain": [
              "   id raw_grade\n",
              "0   1         a\n",
              "1   2         b\n",
              "2   3         b\n",
              "3   4         a\n",
              "4   5         a\n",
              "5   6         e"
            ]
          },
          "metadata": {
            "tags": []
          },
          "execution_count": 140
        }
      ]
    },
    {
      "cell_type": "markdown",
      "metadata": {
        "id": "GYTE-Z5GcT6F"
      },
      "source": [
        "Convert the raw grades to a categorical data type using **`.astype()`**."
      ]
    },
    {
      "cell_type": "markdown",
      "metadata": {
        "id": "ddMnA0pIfl6R"
      },
      "source": [
        ""
      ]
    },
    {
      "cell_type": "code",
      "metadata": {
        "collapsed": true,
        "id": "HRNddIDKcT6F"
      },
      "source": [
        "df[\"grade\"] = df[\"raw_grade\"].astype(\"category\")"
      ],
      "execution_count": null,
      "outputs": []
    },
    {
      "cell_type": "code",
      "metadata": {
        "id": "YuYH7OKzcT6F",
        "colab": {
          "base_uri": "https://localhost:8080/",
          "height": 234
        },
        "outputId": "2d90cf2a-9257-44f1-c49a-f3103f9be909"
      },
      "source": [
        "df"
      ],
      "execution_count": null,
      "outputs": [
        {
          "output_type": "execute_result",
          "data": {
            "text/html": [
              "<div>\n",
              "<style scoped>\n",
              "    .dataframe tbody tr th:only-of-type {\n",
              "        vertical-align: middle;\n",
              "    }\n",
              "\n",
              "    .dataframe tbody tr th {\n",
              "        vertical-align: top;\n",
              "    }\n",
              "\n",
              "    .dataframe thead th {\n",
              "        text-align: right;\n",
              "    }\n",
              "</style>\n",
              "<table border=\"1\" class=\"dataframe\">\n",
              "  <thead>\n",
              "    <tr style=\"text-align: right;\">\n",
              "      <th></th>\n",
              "      <th>id</th>\n",
              "      <th>raw_grade</th>\n",
              "      <th>grade</th>\n",
              "    </tr>\n",
              "  </thead>\n",
              "  <tbody>\n",
              "    <tr>\n",
              "      <th>0</th>\n",
              "      <td>1</td>\n",
              "      <td>a</td>\n",
              "      <td>a</td>\n",
              "    </tr>\n",
              "    <tr>\n",
              "      <th>1</th>\n",
              "      <td>2</td>\n",
              "      <td>b</td>\n",
              "      <td>b</td>\n",
              "    </tr>\n",
              "    <tr>\n",
              "      <th>2</th>\n",
              "      <td>3</td>\n",
              "      <td>b</td>\n",
              "      <td>b</td>\n",
              "    </tr>\n",
              "    <tr>\n",
              "      <th>3</th>\n",
              "      <td>4</td>\n",
              "      <td>a</td>\n",
              "      <td>a</td>\n",
              "    </tr>\n",
              "    <tr>\n",
              "      <th>4</th>\n",
              "      <td>5</td>\n",
              "      <td>a</td>\n",
              "      <td>a</td>\n",
              "    </tr>\n",
              "    <tr>\n",
              "      <th>5</th>\n",
              "      <td>6</td>\n",
              "      <td>e</td>\n",
              "      <td>e</td>\n",
              "    </tr>\n",
              "  </tbody>\n",
              "</table>\n",
              "</div>"
            ],
            "text/plain": [
              "   id raw_grade grade\n",
              "0   1         a     a\n",
              "1   2         b     b\n",
              "2   3         b     b\n",
              "3   4         a     a\n",
              "4   5         a     a\n",
              "5   6         e     e"
            ]
          },
          "metadata": {
            "tags": []
          },
          "execution_count": 142
        }
      ]
    },
    {
      "cell_type": "code",
      "metadata": {
        "id": "HNcXchzIcT6F",
        "colab": {
          "base_uri": "https://localhost:8080/"
        },
        "outputId": "bdb7df28-c342-4c18-a52c-fdb39d9449fa"
      },
      "source": [
        "df[\"raw_grade\"]"
      ],
      "execution_count": null,
      "outputs": [
        {
          "output_type": "execute_result",
          "data": {
            "text/plain": [
              "0    a\n",
              "1    b\n",
              "2    b\n",
              "3    a\n",
              "4    a\n",
              "5    e\n",
              "Name: raw_grade, dtype: object"
            ]
          },
          "metadata": {
            "tags": []
          },
          "execution_count": 92
        }
      ]
    },
    {
      "cell_type": "code",
      "metadata": {
        "id": "uw-WTJYucT6F",
        "colab": {
          "base_uri": "https://localhost:8080/"
        },
        "outputId": "9e044e4b-e949-4095-bca6-b18ae20f5f27"
      },
      "source": [
        "df[\"grade\"]"
      ],
      "execution_count": null,
      "outputs": [
        {
          "output_type": "execute_result",
          "data": {
            "text/plain": [
              "0    a\n",
              "1    b\n",
              "2    b\n",
              "3    a\n",
              "4    a\n",
              "5    e\n",
              "Name: grade, dtype: category\n",
              "Categories (3, object): ['a', 'b', 'e']"
            ]
          },
          "metadata": {
            "tags": []
          },
          "execution_count": 93
        }
      ]
    },
    {
      "cell_type": "markdown",
      "metadata": {
        "id": "6eg7aAvMcT6F"
      },
      "source": [
        "Rename the categories to more meaningful names (assigning to **`Series.cat.categories`** is **inplace**!)"
      ]
    },
    {
      "cell_type": "code",
      "metadata": {
        "collapsed": true,
        "id": "CP1iz6UacT6F"
      },
      "source": [
        "df[\"grade\"].cat.categories = [\"very good\", \"good\", \"very bad\"]"
      ],
      "execution_count": null,
      "outputs": []
    },
    {
      "cell_type": "code",
      "metadata": {
        "id": "3BglWmFYcT6G",
        "colab": {
          "base_uri": "https://localhost:8080/"
        },
        "outputId": "451a61cc-ce1d-4bd6-b423-afb86410a432"
      },
      "source": [
        "df[\"grade\"]"
      ],
      "execution_count": null,
      "outputs": [
        {
          "output_type": "execute_result",
          "data": {
            "text/plain": [
              "0    very good\n",
              "1         good\n",
              "2         good\n",
              "3    very good\n",
              "4    very good\n",
              "5     very bad\n",
              "Name: grade, dtype: category\n",
              "Categories (3, object): ['very good', 'good', 'very bad']"
            ]
          },
          "metadata": {
            "tags": []
          },
          "execution_count": 144
        }
      ]
    },
    {
      "cell_type": "markdown",
      "metadata": {
        "id": "L7GJp4E5cT6G"
      },
      "source": [
        "Reorder the categories and simultaneously add the missing categories (methods under **`Series .cat`** return a new `Series` per default)."
      ]
    },
    {
      "cell_type": "code",
      "metadata": {
        "collapsed": true,
        "id": "OlfWBXn2cT6G"
      },
      "source": [
        "df[\"grade\"] = df[\"grade\"].cat.set_categories([\"very bad\", \"bad\", \"medium\", \"good\", \"very good\"])"
      ],
      "execution_count": null,
      "outputs": []
    },
    {
      "cell_type": "code",
      "metadata": {
        "id": "igBP6PpYcT6G",
        "colab": {
          "base_uri": "https://localhost:8080/"
        },
        "outputId": "15b1ec58-a7be-4779-b18b-1476f69a1f8b"
      },
      "source": [
        "df[\"grade\"]"
      ],
      "execution_count": null,
      "outputs": [
        {
          "output_type": "execute_result",
          "data": {
            "text/plain": [
              "0    very good\n",
              "1         good\n",
              "2         good\n",
              "3    very good\n",
              "4    very good\n",
              "5     very bad\n",
              "Name: grade, dtype: category\n",
              "Categories (5, object): ['very bad', 'bad', 'medium', 'good', 'very good']"
            ]
          },
          "metadata": {
            "tags": []
          },
          "execution_count": 97
        }
      ]
    },
    {
      "cell_type": "markdown",
      "metadata": {
        "id": "0kieonYgcT6G"
      },
      "source": [
        "**Sorting is per order in the categories, not lexical order.**"
      ]
    },
    {
      "cell_type": "code",
      "metadata": {
        "id": "PKxovIC9cT6G",
        "colab": {
          "base_uri": "https://localhost:8080/",
          "height": 234
        },
        "outputId": "d3a4f4bc-9538-4404-93c5-ad92692471b3"
      },
      "source": [
        "df.sort_values(by = \"grade\")"
      ],
      "execution_count": null,
      "outputs": [
        {
          "output_type": "execute_result",
          "data": {
            "text/html": [
              "<div>\n",
              "<style scoped>\n",
              "    .dataframe tbody tr th:only-of-type {\n",
              "        vertical-align: middle;\n",
              "    }\n",
              "\n",
              "    .dataframe tbody tr th {\n",
              "        vertical-align: top;\n",
              "    }\n",
              "\n",
              "    .dataframe thead th {\n",
              "        text-align: right;\n",
              "    }\n",
              "</style>\n",
              "<table border=\"1\" class=\"dataframe\">\n",
              "  <thead>\n",
              "    <tr style=\"text-align: right;\">\n",
              "      <th></th>\n",
              "      <th>id</th>\n",
              "      <th>raw_grade</th>\n",
              "      <th>grade</th>\n",
              "    </tr>\n",
              "  </thead>\n",
              "  <tbody>\n",
              "    <tr>\n",
              "      <th>5</th>\n",
              "      <td>6</td>\n",
              "      <td>e</td>\n",
              "      <td>very bad</td>\n",
              "    </tr>\n",
              "    <tr>\n",
              "      <th>1</th>\n",
              "      <td>2</td>\n",
              "      <td>b</td>\n",
              "      <td>good</td>\n",
              "    </tr>\n",
              "    <tr>\n",
              "      <th>2</th>\n",
              "      <td>3</td>\n",
              "      <td>b</td>\n",
              "      <td>good</td>\n",
              "    </tr>\n",
              "    <tr>\n",
              "      <th>0</th>\n",
              "      <td>1</td>\n",
              "      <td>a</td>\n",
              "      <td>very good</td>\n",
              "    </tr>\n",
              "    <tr>\n",
              "      <th>3</th>\n",
              "      <td>4</td>\n",
              "      <td>a</td>\n",
              "      <td>very good</td>\n",
              "    </tr>\n",
              "    <tr>\n",
              "      <th>4</th>\n",
              "      <td>5</td>\n",
              "      <td>a</td>\n",
              "      <td>very good</td>\n",
              "    </tr>\n",
              "  </tbody>\n",
              "</table>\n",
              "</div>"
            ],
            "text/plain": [
              "   id raw_grade      grade\n",
              "5   6         e   very bad\n",
              "1   2         b       good\n",
              "2   3         b       good\n",
              "0   1         a  very good\n",
              "3   4         a  very good\n",
              "4   5         a  very good"
            ]
          },
          "metadata": {
            "tags": []
          },
          "execution_count": 98
        }
      ]
    },
    {
      "cell_type": "markdown",
      "metadata": {
        "id": "qGH3HUZicT6G"
      },
      "source": [
        "Grouping by a categorical column shows also empty categories."
      ]
    },
    {
      "cell_type": "code",
      "metadata": {
        "id": "DeJrBDRFcT6G",
        "colab": {
          "base_uri": "https://localhost:8080/"
        },
        "outputId": "1856e8d6-5377-4be0-ad68-d937fc7be6b4"
      },
      "source": [
        "df.groupby(\"grade\").size()"
      ],
      "execution_count": null,
      "outputs": [
        {
          "output_type": "execute_result",
          "data": {
            "text/plain": [
              "grade\n",
              "very bad     1\n",
              "bad          0\n",
              "medium       0\n",
              "good         2\n",
              "very good    3\n",
              "dtype: int64"
            ]
          },
          "metadata": {
            "tags": []
          },
          "execution_count": 99
        }
      ]
    },
    {
      "cell_type": "markdown",
      "metadata": {
        "id": "mPf2tdkpcT6G"
      },
      "source": [
        "## Plotting\n",
        "---\n",
        "See the [Plotting docs](https://pandas.pydata.org/pandas-docs/stable/visualization.html#visualization \"Visualization\")."
      ]
    },
    {
      "cell_type": "code",
      "metadata": {
        "collapsed": true,
        "id": "ejo5y8m4cT6H",
        "colab": {
          "base_uri": "https://localhost:8080/"
        },
        "outputId": "f520495d-a603-47c3-a479-0cb7f9bc161a"
      },
      "source": [
        "ts = pd.Series(np.random.randn(1000), index = pd.date_range('1/1/2000', periods = 1000))\n",
        "ts"
      ],
      "execution_count": null,
      "outputs": [
        {
          "output_type": "execute_result",
          "data": {
            "text/plain": [
              "2000-01-01    2.973216\n",
              "2000-01-02   -1.082009\n",
              "2000-01-03    0.701453\n",
              "2000-01-04    0.902632\n",
              "2000-01-05    0.228399\n",
              "                ...   \n",
              "2002-09-22   -0.564985\n",
              "2002-09-23   -0.372267\n",
              "2002-09-24    0.087968\n",
              "2002-09-25    0.339753\n",
              "2002-09-26   -3.121080\n",
              "Freq: D, Length: 1000, dtype: float64"
            ]
          },
          "metadata": {
            "tags": []
          },
          "execution_count": 145
        }
      ]
    },
    {
      "cell_type": "code",
      "metadata": {
        "collapsed": true,
        "id": "thv3cK1OcT6H",
        "colab": {
          "base_uri": "https://localhost:8080/"
        },
        "outputId": "75941cc0-6808-4032-819f-8ec6db62f1ff"
      },
      "source": [
        "ts = ts.cumsum()\n",
        "ts"
      ],
      "execution_count": null,
      "outputs": [
        {
          "output_type": "execute_result",
          "data": {
            "text/plain": [
              "2000-01-01     2.973216\n",
              "2000-01-02     1.891208\n",
              "2000-01-03     2.592661\n",
              "2000-01-04     3.495293\n",
              "2000-01-05     3.723691\n",
              "                ...    \n",
              "2002-09-22    20.277513\n",
              "2002-09-23    19.905247\n",
              "2002-09-24    19.993215\n",
              "2002-09-25    20.332967\n",
              "2002-09-26    17.211887\n",
              "Freq: D, Length: 1000, dtype: float64"
            ]
          },
          "metadata": {
            "tags": []
          },
          "execution_count": 146
        }
      ]
    },
    {
      "cell_type": "code",
      "metadata": {
        "id": "siUSiu0JcT6H",
        "colab": {
          "base_uri": "https://localhost:8080/",
          "height": 295
        },
        "outputId": "39f02d74-4108-454e-f72b-a5c5fd016bb9"
      },
      "source": [
        "ts.plot()"
      ],
      "execution_count": null,
      "outputs": [
        {
          "output_type": "execute_result",
          "data": {
            "text/plain": [
              "<matplotlib.axes._subplots.AxesSubplot at 0x7f22a2447610>"
            ]
          },
          "metadata": {
            "tags": []
          },
          "execution_count": 102
        },
        {
          "output_type": "display_data",
          "data": {
            "image/png": "[encoded data removed]",
            "text/plain": [
              "<Figure size 432x288 with 1 Axes>"
            ]
          },
          "metadata": {
            "tags": [],
            "needs_background": "light"
          }
        }
      ]
    },
    {
      "cell_type": "markdown",
      "metadata": {
        "id": "o8yPerpHcT6H"
      },
      "source": [
        "On DataFrame, **`plot()`** is a convenience to plot all of the columns with labels:"
      ]
    },
    {
      "cell_type": "code",
      "metadata": {
        "collapsed": true,
        "id": "JelMoqS0cT6H",
        "colab": {
          "base_uri": "https://localhost:8080/",
          "height": 418
        },
        "outputId": "728bd565-d274-4aec-a469-1bfe7e4604b9"
      },
      "source": [
        "df = pd.DataFrame(np.random.randn(1000, 4), index = ts.index, columns = ['A', 'B', 'C', 'D'])\n",
        "df"
      ],
      "execution_count": null,
      "outputs": [
        {
          "output_type": "execute_result",
          "data": {
            "text/html": [
              "<div>\n",
              "<style scoped>\n",
              "    .dataframe tbody tr th:only-of-type {\n",
              "        vertical-align: middle;\n",
              "    }\n",
              "\n",
              "    .dataframe tbody tr th {\n",
              "        vertical-align: top;\n",
              "    }\n",
              "\n",
              "    .dataframe thead th {\n",
              "        text-align: right;\n",
              "    }\n",
              "</style>\n",
              "<table border=\"1\" class=\"dataframe\">\n",
              "  <thead>\n",
              "    <tr style=\"text-align: right;\">\n",
              "      <th></th>\n",
              "      <th>A</th>\n",
              "      <th>B</th>\n",
              "      <th>C</th>\n",
              "      <th>D</th>\n",
              "    </tr>\n",
              "  </thead>\n",
              "  <tbody>\n",
              "    <tr>\n",
              "      <th>2000-01-01</th>\n",
              "      <td>-0.795425</td>\n",
              "      <td>-0.185471</td>\n",
              "      <td>0.454159</td>\n",
              "      <td>0.385180</td>\n",
              "    </tr>\n",
              "    <tr>\n",
              "      <th>2000-01-02</th>\n",
              "      <td>0.627418</td>\n",
              "      <td>-0.264903</td>\n",
              "      <td>0.083906</td>\n",
              "      <td>1.074475</td>\n",
              "    </tr>\n",
              "    <tr>\n",
              "      <th>2000-01-03</th>\n",
              "      <td>-0.422480</td>\n",
              "      <td>1.254343</td>\n",
              "      <td>-0.397912</td>\n",
              "      <td>1.866728</td>\n",
              "    </tr>\n",
              "    <tr>\n",
              "      <th>2000-01-04</th>\n",
              "      <td>0.507891</td>\n",
              "      <td>-0.218477</td>\n",
              "      <td>-1.105911</td>\n",
              "      <td>-0.831822</td>\n",
              "    </tr>\n",
              "    <tr>\n",
              "      <th>2000-01-05</th>\n",
              "      <td>0.434943</td>\n",
              "      <td>-0.965090</td>\n",
              "      <td>1.498210</td>\n",
              "      <td>-1.094487</td>\n",
              "    </tr>\n",
              "    <tr>\n",
              "      <th>...</th>\n",
              "      <td>...</td>\n",
              "      <td>...</td>\n",
              "      <td>...</td>\n",
              "      <td>...</td>\n",
              "    </tr>\n",
              "    <tr>\n",
              "      <th>2002-09-22</th>\n",
              "      <td>-1.463031</td>\n",
              "      <td>1.806980</td>\n",
              "      <td>0.699501</td>\n",
              "      <td>0.411307</td>\n",
              "    </tr>\n",
              "    <tr>\n",
              "      <th>2002-09-23</th>\n",
              "      <td>0.352909</td>\n",
              "      <td>0.908534</td>\n",
              "      <td>0.289194</td>\n",
              "      <td>-0.610958</td>\n",
              "    </tr>\n",
              "    <tr>\n",
              "      <th>2002-09-24</th>\n",
              "      <td>0.981886</td>\n",
              "      <td>-1.068143</td>\n",
              "      <td>0.865880</td>\n",
              "      <td>-1.160376</td>\n",
              "    </tr>\n",
              "    <tr>\n",
              "      <th>2002-09-25</th>\n",
              "      <td>0.451210</td>\n",
              "      <td>-0.693798</td>\n",
              "      <td>0.331155</td>\n",
              "      <td>1.144875</td>\n",
              "    </tr>\n",
              "    <tr>\n",
              "      <th>2002-09-26</th>\n",
              "      <td>-1.845543</td>\n",
              "      <td>0.906465</td>\n",
              "      <td>-0.456641</td>\n",
              "      <td>-0.027944</td>\n",
              "    </tr>\n",
              "  </tbody>\n",
              "</table>\n",
              "<p>1000 rows × 4 columns</p>\n",
              "</div>"
            ],
            "text/plain": [
              "                   A         B         C         D\n",
              "2000-01-01 -0.795425 -0.185471  0.454159  0.385180\n",
              "2000-01-02  0.627418 -0.264903  0.083906  1.074475\n",
              "2000-01-03 -0.422480  1.254343 -0.397912  1.866728\n",
              "2000-01-04  0.507891 -0.218477 -1.105911 -0.831822\n",
              "2000-01-05  0.434943 -0.965090  1.498210 -1.094487\n",
              "...              ...       ...       ...       ...\n",
              "2002-09-22 -1.463031  1.806980  0.699501  0.411307\n",
              "2002-09-23  0.352909  0.908534  0.289194 -0.610958\n",
              "2002-09-24  0.981886 -1.068143  0.865880 -1.160376\n",
              "2002-09-25  0.451210 -0.693798  0.331155  1.144875\n",
              "2002-09-26 -1.845543  0.906465 -0.456641 -0.027944\n",
              "\n",
              "[1000 rows x 4 columns]"
            ]
          },
          "metadata": {
            "tags": []
          },
          "execution_count": 147
        }
      ]
    },
    {
      "cell_type": "code",
      "metadata": {
        "collapsed": true,
        "id": "_Noil1uccT6H",
        "colab": {
          "base_uri": "https://localhost:8080/",
          "height": 418
        },
        "outputId": "bb1fd418-aa89-4f03-f294-5c7c3d5e108d"
      },
      "source": [
        "df = df.cumsum()\n",
        "df"
      ],
      "execution_count": null,
      "outputs": [
        {
          "output_type": "execute_result",
          "data": {
            "text/html": [
              "<div>\n",
              "<style scoped>\n",
              "    .dataframe tbody tr th:only-of-type {\n",
              "        vertical-align: middle;\n",
              "    }\n",
              "\n",
              "    .dataframe tbody tr th {\n",
              "        vertical-align: top;\n",
              "    }\n",
              "\n",
              "    .dataframe thead th {\n",
              "        text-align: right;\n",
              "    }\n",
              "</style>\n",
              "<table border=\"1\" class=\"dataframe\">\n",
              "  <thead>\n",
              "    <tr style=\"text-align: right;\">\n",
              "      <th></th>\n",
              "      <th>A</th>\n",
              "      <th>B</th>\n",
              "      <th>C</th>\n",
              "      <th>D</th>\n",
              "    </tr>\n",
              "  </thead>\n",
              "  <tbody>\n",
              "    <tr>\n",
              "      <th>2000-01-01</th>\n",
              "      <td>-0.795425</td>\n",
              "      <td>-0.185471</td>\n",
              "      <td>0.454159</td>\n",
              "      <td>0.385180</td>\n",
              "    </tr>\n",
              "    <tr>\n",
              "      <th>2000-01-02</th>\n",
              "      <td>-0.168007</td>\n",
              "      <td>-0.450373</td>\n",
              "      <td>0.538064</td>\n",
              "      <td>1.459656</td>\n",
              "    </tr>\n",
              "    <tr>\n",
              "      <th>2000-01-03</th>\n",
              "      <td>-0.590486</td>\n",
              "      <td>0.803970</td>\n",
              "      <td>0.140153</td>\n",
              "      <td>3.326384</td>\n",
              "    </tr>\n",
              "    <tr>\n",
              "      <th>2000-01-04</th>\n",
              "      <td>-0.082595</td>\n",
              "      <td>0.585493</td>\n",
              "      <td>-0.965759</td>\n",
              "      <td>2.494562</td>\n",
              "    </tr>\n",
              "    <tr>\n",
              "      <th>2000-01-05</th>\n",
              "      <td>0.352348</td>\n",
              "      <td>-0.379597</td>\n",
              "      <td>0.532451</td>\n",
              "      <td>1.400075</td>\n",
              "    </tr>\n",
              "    <tr>\n",
              "      <th>...</th>\n",
              "      <td>...</td>\n",
              "      <td>...</td>\n",
              "      <td>...</td>\n",
              "      <td>...</td>\n",
              "    </tr>\n",
              "    <tr>\n",
              "      <th>2002-09-22</th>\n",
              "      <td>-39.269202</td>\n",
              "      <td>1.606426</td>\n",
              "      <td>-12.253209</td>\n",
              "      <td>0.936818</td>\n",
              "    </tr>\n",
              "    <tr>\n",
              "      <th>2002-09-23</th>\n",
              "      <td>-38.916293</td>\n",
              "      <td>2.514960</td>\n",
              "      <td>-11.964014</td>\n",
              "      <td>0.325860</td>\n",
              "    </tr>\n",
              "    <tr>\n",
              "      <th>2002-09-24</th>\n",
              "      <td>-37.934407</td>\n",
              "      <td>1.446817</td>\n",
              "      <td>-11.098134</td>\n",
              "      <td>-0.834516</td>\n",
              "    </tr>\n",
              "    <tr>\n",
              "      <th>2002-09-25</th>\n",
              "      <td>-37.483197</td>\n",
              "      <td>0.753019</td>\n",
              "      <td>-10.766979</td>\n",
              "      <td>0.310359</td>\n",
              "    </tr>\n",
              "    <tr>\n",
              "      <th>2002-09-26</th>\n",
              "      <td>-39.328740</td>\n",
              "      <td>1.659484</td>\n",
              "      <td>-11.223619</td>\n",
              "      <td>0.282416</td>\n",
              "    </tr>\n",
              "  </tbody>\n",
              "</table>\n",
              "<p>1000 rows × 4 columns</p>\n",
              "</div>"
            ],
            "text/plain": [
              "                    A         B          C         D\n",
              "2000-01-01  -0.795425 -0.185471   0.454159  0.385180\n",
              "2000-01-02  -0.168007 -0.450373   0.538064  1.459656\n",
              "2000-01-03  -0.590486  0.803970   0.140153  3.326384\n",
              "2000-01-04  -0.082595  0.585493  -0.965759  2.494562\n",
              "2000-01-05   0.352348 -0.379597   0.532451  1.400075\n",
              "...               ...       ...        ...       ...\n",
              "2002-09-22 -39.269202  1.606426 -12.253209  0.936818\n",
              "2002-09-23 -38.916293  2.514960 -11.964014  0.325860\n",
              "2002-09-24 -37.934407  1.446817 -11.098134 -0.834516\n",
              "2002-09-25 -37.483197  0.753019 -10.766979  0.310359\n",
              "2002-09-26 -39.328740  1.659484 -11.223619  0.282416\n",
              "\n",
              "[1000 rows x 4 columns]"
            ]
          },
          "metadata": {
            "tags": []
          },
          "execution_count": 150
        }
      ]
    },
    {
      "cell_type": "code",
      "metadata": {
        "id": "vt01dmvrcT6H",
        "colab": {
          "base_uri": "https://localhost:8080/",
          "height": 312
        },
        "outputId": "dbe4617e-d5c5-4558-a9a2-24491d0a7e66"
      },
      "source": [
        "plt.figure();\n",
        "df.plot();\n",
        "plt.legend(loc = 'best')"
      ],
      "execution_count": null,
      "outputs": [
        {
          "output_type": "execute_result",
          "data": {
            "text/plain": [
              "<matplotlib.legend.Legend at 0x7f229e93fe50>"
            ]
          },
          "metadata": {
            "tags": []
          },
          "execution_count": 151
        },
        {
          "output_type": "display_data",
          "data": {
            "text/plain": [
              "<Figure size 432x288 with 0 Axes>"
            ]
          },
          "metadata": {
            "tags": []
          }
        },
        {
          "output_type": "display_data",
          "data": {
            "image/png": "[encoded data removed]",
            "text/plain": [
              "<Figure size 432x288 with 1 Axes>"
            ]
          },
          "metadata": {
            "tags": [],
            "needs_background": "light"
          }
        }
      ]
    },
    {
      "cell_type": "markdown",
      "metadata": {
        "id": "ZosOq6o-cT6H"
      },
      "source": [
        "## Getting Data In/Out\n",
        "---\n",
        "### CSV\n",
        "[Writing to a csv file](https://pandas.pydata.org/pandas-docs/stable/io.html#io-store-in-csv \"Writing to CSV format\")"
      ]
    },
    {
      "cell_type": "code",
      "metadata": {
        "collapsed": true,
        "id": "O4mSFtXEcT6I"
      },
      "source": [
        "df.to_csv('foo.csv')"
      ],
      "execution_count": null,
      "outputs": []
    },
    {
      "cell_type": "markdown",
      "metadata": {
        "id": "s0oiXtKscT6I"
      },
      "source": [
        "[Reading from a csv file](https://pandas.pydata.org/pandas-docs/stable/io.html#io-read-csv-table \"Reading from a csv file\")"
      ]
    },
    {
      "cell_type": "code",
      "metadata": {
        "id": "iSoqAg1ZcT6I",
        "colab": {
          "base_uri": "https://localhost:8080/",
          "height": 203
        },
        "outputId": "d84c4fbf-ab60-470a-c619-a3160ebc37e5"
      },
      "source": [
        "pd.read_csv('foo.csv').head()"
      ],
      "execution_count": null,
      "outputs": [
        {
          "output_type": "execute_result",
          "data": {
            "text/html": [
              "<div>\n",
              "<style scoped>\n",
              "    .dataframe tbody tr th:only-of-type {\n",
              "        vertical-align: middle;\n",
              "    }\n",
              "\n",
              "    .dataframe tbody tr th {\n",
              "        vertical-align: top;\n",
              "    }\n",
              "\n",
              "    .dataframe thead th {\n",
              "        text-align: right;\n",
              "    }\n",
              "</style>\n",
              "<table border=\"1\" class=\"dataframe\">\n",
              "  <thead>\n",
              "    <tr style=\"text-align: right;\">\n",
              "      <th></th>\n",
              "      <th>Unnamed: 0</th>\n",
              "      <th>A</th>\n",
              "      <th>B</th>\n",
              "      <th>C</th>\n",
              "      <th>D</th>\n",
              "    </tr>\n",
              "  </thead>\n",
              "  <tbody>\n",
              "    <tr>\n",
              "      <th>0</th>\n",
              "      <td>2000-01-01</td>\n",
              "      <td>0.483598</td>\n",
              "      <td>0.426364</td>\n",
              "      <td>-0.117650</td>\n",
              "      <td>-0.306856</td>\n",
              "    </tr>\n",
              "    <tr>\n",
              "      <th>1</th>\n",
              "      <td>2000-01-02</td>\n",
              "      <td>2.079464</td>\n",
              "      <td>0.207178</td>\n",
              "      <td>-1.478635</td>\n",
              "      <td>-2.985918</td>\n",
              "    </tr>\n",
              "    <tr>\n",
              "      <th>2</th>\n",
              "      <td>2000-01-03</td>\n",
              "      <td>2.545530</td>\n",
              "      <td>-1.393445</td>\n",
              "      <td>0.299719</td>\n",
              "      <td>-2.241067</td>\n",
              "    </tr>\n",
              "    <tr>\n",
              "      <th>3</th>\n",
              "      <td>2000-01-04</td>\n",
              "      <td>2.270839</td>\n",
              "      <td>-0.593655</td>\n",
              "      <td>0.675529</td>\n",
              "      <td>-2.311171</td>\n",
              "    </tr>\n",
              "    <tr>\n",
              "      <th>4</th>\n",
              "      <td>2000-01-05</td>\n",
              "      <td>2.437582</td>\n",
              "      <td>-1.811711</td>\n",
              "      <td>0.227139</td>\n",
              "      <td>-3.210259</td>\n",
              "    </tr>\n",
              "  </tbody>\n",
              "</table>\n",
              "</div>"
            ],
            "text/plain": [
              "   Unnamed: 0         A         B         C         D\n",
              "0  2000-01-01  0.483598  0.426364 -0.117650 -0.306856\n",
              "1  2000-01-02  2.079464  0.207178 -1.478635 -2.985918\n",
              "2  2000-01-03  2.545530 -1.393445  0.299719 -2.241067\n",
              "3  2000-01-04  2.270839 -0.593655  0.675529 -2.311171\n",
              "4  2000-01-05  2.437582 -1.811711  0.227139 -3.210259"
            ]
          },
          "metadata": {
            "tags": []
          },
          "execution_count": 107
        }
      ]
    },
    {
      "cell_type": "markdown",
      "metadata": {
        "id": "-Rjc-bZEcT6I"
      },
      "source": [
        "### HDF5\n",
        "Reading and writing to [HDFStores](https://pandas.pydata.org/pandas-docs/stable/io.html#io-hdf5 \"HDF5 (PyTables)\").\n",
        "\n",
        "Writing to a HDF5 Store."
      ]
    },
    {
      "cell_type": "code",
      "metadata": {
        "collapsed": true,
        "id": "FqJTMKILcT6I"
      },
      "source": [
        "df.to_hdf('foo.h5', 'df')"
      ],
      "execution_count": null,
      "outputs": []
    },
    {
      "cell_type": "markdown",
      "metadata": {
        "id": "Jwevq7Glhc0I"
      },
      "source": [
        "### Hierarchical Data Format (HDF) \n",
        "\n",
        "  - a set of file formats (HDF4, HDF5) designed to store and organize large amounts of data. \n",
        "  - many HDF libraries and associated tools are available under a liberal, BSD-like license for general use\n",
        "  - HDF5, the current version, simplifies the file structure to include only two major types of object:\n",
        "    - Datasets: multidimensional arrays of a homogeneous type\n",
        "    - Groups: container structures which can hold datasets and other groups"
      ]
    },
    {
      "cell_type": "markdown",
      "metadata": {
        "id": "9jrvz2EJcT6I"
      },
      "source": [
        "Reading from a HDF5 Store."
      ]
    },
    {
      "cell_type": "code",
      "metadata": {
        "id": "yNrqStN2cT6I",
        "colab": {
          "base_uri": "https://localhost:8080/",
          "height": 203
        },
        "outputId": "a3af92af-2428-4baa-c017-37dda009d85f"
      },
      "source": [
        "pd.read_hdf('foo.h5','df').head()"
      ],
      "execution_count": null,
      "outputs": [
        {
          "output_type": "execute_result",
          "data": {
            "text/html": [
              "<div>\n",
              "<style scoped>\n",
              "    .dataframe tbody tr th:only-of-type {\n",
              "        vertical-align: middle;\n",
              "    }\n",
              "\n",
              "    .dataframe tbody tr th {\n",
              "        vertical-align: top;\n",
              "    }\n",
              "\n",
              "    .dataframe thead th {\n",
              "        text-align: right;\n",
              "    }\n",
              "</style>\n",
              "<table border=\"1\" class=\"dataframe\">\n",
              "  <thead>\n",
              "    <tr style=\"text-align: right;\">\n",
              "      <th></th>\n",
              "      <th>A</th>\n",
              "      <th>B</th>\n",
              "      <th>C</th>\n",
              "      <th>D</th>\n",
              "    </tr>\n",
              "  </thead>\n",
              "  <tbody>\n",
              "    <tr>\n",
              "      <th>2000-01-01</th>\n",
              "      <td>-0.795425</td>\n",
              "      <td>-0.185471</td>\n",
              "      <td>0.454159</td>\n",
              "      <td>0.385180</td>\n",
              "    </tr>\n",
              "    <tr>\n",
              "      <th>2000-01-02</th>\n",
              "      <td>-0.168007</td>\n",
              "      <td>-0.450373</td>\n",
              "      <td>0.538064</td>\n",
              "      <td>1.459656</td>\n",
              "    </tr>\n",
              "    <tr>\n",
              "      <th>2000-01-03</th>\n",
              "      <td>-0.590486</td>\n",
              "      <td>0.803970</td>\n",
              "      <td>0.140153</td>\n",
              "      <td>3.326384</td>\n",
              "    </tr>\n",
              "    <tr>\n",
              "      <th>2000-01-04</th>\n",
              "      <td>-0.082595</td>\n",
              "      <td>0.585493</td>\n",
              "      <td>-0.965759</td>\n",
              "      <td>2.494562</td>\n",
              "    </tr>\n",
              "    <tr>\n",
              "      <th>2000-01-05</th>\n",
              "      <td>0.352348</td>\n",
              "      <td>-0.379597</td>\n",
              "      <td>0.532451</td>\n",
              "      <td>1.400075</td>\n",
              "    </tr>\n",
              "  </tbody>\n",
              "</table>\n",
              "</div>"
            ],
            "text/plain": [
              "                   A         B         C         D\n",
              "2000-01-01 -0.795425 -0.185471  0.454159  0.385180\n",
              "2000-01-02 -0.168007 -0.450373  0.538064  1.459656\n",
              "2000-01-03 -0.590486  0.803970  0.140153  3.326384\n",
              "2000-01-04 -0.082595  0.585493 -0.965759  2.494562\n",
              "2000-01-05  0.352348 -0.379597  0.532451  1.400075"
            ]
          },
          "metadata": {
            "tags": []
          },
          "execution_count": 154
        }
      ]
    },
    {
      "cell_type": "markdown",
      "metadata": {
        "id": "OXHpLpOrcT6I"
      },
      "source": [
        "### Excel\n",
        "Reading and writing to [MS Excel](https://pandas.pydata.org/pandas-docs/stable/io.html#io-excel \"Excel files\").\n",
        "\n",
        "Writing to an excel file."
      ]
    },
    {
      "cell_type": "code",
      "metadata": {
        "collapsed": true,
        "id": "cV1-rjiDcT6I"
      },
      "source": [
        "df.to_excel('foo.xlsx', sheet_name='Sheet1')"
      ],
      "execution_count": null,
      "outputs": []
    },
    {
      "cell_type": "markdown",
      "metadata": {
        "id": "kmIJBzqEcT6I"
      },
      "source": [
        "Reading from an excel file."
      ]
    },
    {
      "cell_type": "code",
      "metadata": {
        "id": "U6c1D7zEcT6I",
        "colab": {
          "base_uri": "https://localhost:8080/",
          "height": 203
        },
        "outputId": "e3cb6e2f-0f64-41a2-c3a7-b77e693b15e8"
      },
      "source": [
        "pd.read_excel('foo.xlsx', 'Sheet1', index_col=None, na_values=['NA']).head()"
      ],
      "execution_count": null,
      "outputs": [
        {
          "output_type": "execute_result",
          "data": {
            "text/html": [
              "<div>\n",
              "<style scoped>\n",
              "    .dataframe tbody tr th:only-of-type {\n",
              "        vertical-align: middle;\n",
              "    }\n",
              "\n",
              "    .dataframe tbody tr th {\n",
              "        vertical-align: top;\n",
              "    }\n",
              "\n",
              "    .dataframe thead th {\n",
              "        text-align: right;\n",
              "    }\n",
              "</style>\n",
              "<table border=\"1\" class=\"dataframe\">\n",
              "  <thead>\n",
              "    <tr style=\"text-align: right;\">\n",
              "      <th></th>\n",
              "      <th>Unnamed: 0</th>\n",
              "      <th>A</th>\n",
              "      <th>B</th>\n",
              "      <th>C</th>\n",
              "      <th>D</th>\n",
              "    </tr>\n",
              "  </thead>\n",
              "  <tbody>\n",
              "    <tr>\n",
              "      <th>0</th>\n",
              "      <td>2000-01-01</td>\n",
              "      <td>0.483598</td>\n",
              "      <td>0.426364</td>\n",
              "      <td>-0.117650</td>\n",
              "      <td>-0.306856</td>\n",
              "    </tr>\n",
              "    <tr>\n",
              "      <th>1</th>\n",
              "      <td>2000-01-02</td>\n",
              "      <td>2.079464</td>\n",
              "      <td>0.207178</td>\n",
              "      <td>-1.478635</td>\n",
              "      <td>-2.985918</td>\n",
              "    </tr>\n",
              "    <tr>\n",
              "      <th>2</th>\n",
              "      <td>2000-01-03</td>\n",
              "      <td>2.545530</td>\n",
              "      <td>-1.393445</td>\n",
              "      <td>0.299719</td>\n",
              "      <td>-2.241067</td>\n",
              "    </tr>\n",
              "    <tr>\n",
              "      <th>3</th>\n",
              "      <td>2000-01-04</td>\n",
              "      <td>2.270839</td>\n",
              "      <td>-0.593655</td>\n",
              "      <td>0.675529</td>\n",
              "      <td>-2.311171</td>\n",
              "    </tr>\n",
              "    <tr>\n",
              "      <th>4</th>\n",
              "      <td>2000-01-05</td>\n",
              "      <td>2.437582</td>\n",
              "      <td>-1.811711</td>\n",
              "      <td>0.227139</td>\n",
              "      <td>-3.210259</td>\n",
              "    </tr>\n",
              "  </tbody>\n",
              "</table>\n",
              "</div>"
            ],
            "text/plain": [
              "  Unnamed: 0         A         B         C         D\n",
              "0 2000-01-01  0.483598  0.426364 -0.117650 -0.306856\n",
              "1 2000-01-02  2.079464  0.207178 -1.478635 -2.985918\n",
              "2 2000-01-03  2.545530 -1.393445  0.299719 -2.241067\n",
              "3 2000-01-04  2.270839 -0.593655  0.675529 -2.311171\n",
              "4 2000-01-05  2.437582 -1.811711  0.227139 -3.210259"
            ]
          },
          "metadata": {
            "tags": []
          },
          "execution_count": 111
        }
      ]
    }
  ]
}