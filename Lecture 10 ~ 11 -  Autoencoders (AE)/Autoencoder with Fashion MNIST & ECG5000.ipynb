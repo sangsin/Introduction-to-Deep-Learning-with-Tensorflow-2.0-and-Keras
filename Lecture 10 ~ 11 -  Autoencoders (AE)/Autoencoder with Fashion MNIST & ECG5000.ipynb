{
  "nbformat": 4,
  "nbformat_minor": 0,
  "metadata": {
    "accelerator": "GPU",
    "colab": {
      "name": "Autoencoder with Fashion MNIST & ECG5000.ipynb",
      "provenance": [],
      "collapsed_sections": [
        "Ndo4ERqnwQOU"
      ]
    },
    "kernelspec": {
      "display_name": "Python 3",
      "name": "python3"
    }
  },
  "cells": [
    {
      "cell_type": "markdown",
      "metadata": {
        "id": "Ndo4ERqnwQOU"
      },
      "source": [
        "##### Copyright 2020 The TensorFlow Authors."
      ]
    },
    {
      "cell_type": "code",
      "metadata": {
        "id": "MTKwbguKwT4R"
      },
      "source": [
        "#@title Licensed under the Apache License, Version 2.0 (the \"License\");\n",
        "# you may not use this file except in compliance with the License.\n",
        "# You may obtain a copy of the License at\n",
        "#\n",
        "# https://www.apache.org/licenses/LICENSE-2.0\n",
        "#\n",
        "# Unless required by applicable law or agreed to in writing, software\n",
        "# distributed under the License is distributed on an \"AS IS\" BASIS,\n",
        "# WITHOUT WARRANTIES OR CONDITIONS OF ANY KIND, either express or implied.\n",
        "# See the License for the specific language governing permissions and\n",
        "# limitations under the License."
      ],
      "execution_count": null,
      "outputs": []
    },
    {
      "cell_type": "markdown",
      "metadata": {
        "id": "xfNT-mlFwxVM"
      },
      "source": [
        "# Intro to Autoencoders"
      ]
    },
    {
      "cell_type": "markdown",
      "metadata": {
        "id": "ITZuApL56Mny"
      },
      "source": [
        "This tutorial introduces autoencoders with three examples: the basics, image denoising, and anomaly detection.\n",
        "\n",
        "An autoencoder is a special type of neural network that is trained to copy its input to its output. For example, given an image of a handwritten digit, an autoencoder first **encodes the image into a lower dimensional latent representation**, then **decodes the latent representation back to an image**. An autoencoder **learns to compress the data while minimizing the reconstruction error**. \n"
      ]
    },
    {
      "cell_type": "markdown",
      "metadata": {
        "id": "LjcGto0J3suD"
      },
      "source": [
        "## AutoEncoder?\n",
        "\n",
        "<img src='https://img1.daumcdn.net/thumb/R1280x0/?scode=mtistory2&fname=https%3A%2F%2Fblog.kakaocdn.net%2Fdn%2F8JonH%2FbtqFBec9cAF%2FmhxdDF930R0CrHs9NdUKv1%2Fimg.png'>\n",
        "\n",
        "AutoEncoder에 대한 핵심을 다시 한번 짚어보면 다음과 같습니다\n",
        "\n",
        "  - Encoder Decoder Pair Model\n",
        "    - Encoder: a function $f$ that compresses the input into a latent-space representation. \n",
        "\n",
        "  $$f(x) = h$$\n",
        "\n",
        "    - Decoder:  a function $g$ that reconstruct the input from the latent space representation. \n",
        "\n",
        "  $$g(h) ~ x$$ \n",
        "\n",
        "  - 입력과 출력이 같은 구조\n",
        "  - Bottleneck Hiddenlayer\n",
        "    - Bottleneck layer는 다음과 같이 표현하기도 합니다\n",
        "      - Latent Variable\n",
        "      - Feature\n",
        "      - Hidden representation\n",
        "  - Unsupervised Learning -> Supervised Learning\n",
        "\n"
      ]
    },
    {
      "cell_type": "markdown",
      "metadata": {
        "id": "4qpO4z6o5W-t"
      },
      "source": [
        "## AutoEncoder의 수학적 표현\n",
        "\n",
        "  - Input Data를 Encoder Network에 통과시켜 압축된 z값을 얻습니다\n",
        "\n",
        "$$z = h_{\\phi}(x)$$\n",
        "\n",
        "  - 압축된 z vector로부터 Input Data와 같은 크기의 출력 값을 생성합니다\n",
        "\n",
        "$$y = g_{\\theta}(z) =  g_{\\theta}( h_{\\phi}(x))$$\n",
        "\n",
        "  - 이때 Loss값은 입력값 x와 Decoder를 통과한 y값의 차이입니다\n",
        "\n",
        "$$L(\\theta,\\phi) = \\frac{1}{n} \\sum_{i=1}^{n} (x_{i} -  g_{\\theta}( h_{\\phi}(x_i)))^2$$\n",
        "\n",
        "  - 위 loss값이 최소화 하도록 학습을 진행합니다\n",
        "  \n",
        "\n",
        "\n"
      ]
    },
    {
      "cell_type": "markdown",
      "metadata": {
        "id": "5qC-SoHKFSI8"
      },
      "source": [
        "## Applications of Autoencoders\n",
        "\n",
        "  - Dimensionality Reduction\n",
        "  - Image Compression\n",
        "  - Image Denoising\n",
        "  - Feature Extraction\n",
        "  - Image generation\n",
        "  - Sequence to sequence prediction\n",
        "  - Anomaly Detection"
      ]
    },
    {
      "cell_type": "markdown",
      "metadata": {
        "id": "e1_Y75QXJS6h"
      },
      "source": [
        "Import TensorFlow and other libraries"
      ]
    },
    {
      "cell_type": "code",
      "metadata": {
        "id": "YfIk2es3hJEd"
      },
      "source": [
        "import matplotlib.pyplot as plt\n",
        "import numpy as np\n",
        "import pandas as pd\n",
        "import tensorflow as tf\n",
        "\n",
        "from sklearn.metrics import accuracy_score, precision_score, recall_score\n",
        "from sklearn.model_selection import train_test_split\n",
        "from tensorflow.keras import layers, losses\n",
        "from tensorflow.keras.datasets import fashion_mnist\n",
        "from tensorflow.keras.models import Model"
      ],
      "execution_count": 37,
      "outputs": []
    },
    {
      "cell_type": "markdown",
      "metadata": {
        "id": "iYn4MdZnKCey"
      },
      "source": [
        "Load the dataset\n",
        "\n",
        "To start, you will train the basic autoencoder using the Fashon MNIST dataset. Each image in this dataset is 28x28 pixels. "
      ]
    },
    {
      "cell_type": "code",
      "metadata": {
        "id": "YZm503-I_tji",
        "colab": {
          "base_uri": "https://localhost:8080/"
        },
        "outputId": "6731558b-d33e-4c24-dd39-5e07314603d3"
      },
      "source": [
        "(x_train, _), (x_test, _) = fashion_mnist.load_data()\n",
        "\n",
        "x_train = x_train.astype('float32') / 255.\n",
        "x_test = x_test.astype('float32') / 255.\n",
        "\n",
        "print (x_train.shape)\n",
        "print (x_test.shape)"
      ],
      "execution_count": 38,
      "outputs": [
        {
          "output_type": "stream",
          "name": "stdout",
          "text": [
            "(60000, 28, 28)\n",
            "(10000, 28, 28)\n"
          ]
        }
      ]
    },
    {
      "cell_type": "markdown",
      "metadata": {
        "id": "VEdCXSwCoKok"
      },
      "source": [
        "## First example: Basic autoencoder\n",
        "![Basic autoencoder results](https://github.com/tensorflow/docs/blob/master/site/en/tutorials/generative/images/intro_autoencoder_result.png?raw=1)\n",
        "\n",
        "Define an autoencoder with two Dense layers: an `encoder`, which compresses the images into a 64 dimensional latent vector, and a `decoder`, that reconstructs the original image from the latent space.\n",
        "\n",
        "To define your model, use the [Keras Model Subclassing API](https://www.tensorflow.org/guide/keras/custom_layers_and_models).\n"
      ]
    },
    {
      "cell_type": "code",
      "metadata": {
        "id": "0MUxidpyChjX"
      },
      "source": [
        "latent_dim = 64 \n",
        "\n",
        "class Autoencoder(Model):\n",
        "  def __init__(self, latent_dim):\n",
        "    super(Autoencoder, self).__init__()\n",
        "    self.latent_dim = latent_dim   \n",
        "    self.encoder = tf.keras.Sequential([\n",
        "      layers.Flatten(),\n",
        "      layers.Dense(latent_dim, activation='relu'),\n",
        "    ])\n",
        "    self.decoder = tf.keras.Sequential([\n",
        "      layers.Dense(784, activation='sigmoid'),\n",
        "      layers.Reshape((28, 28))\n",
        "    ])\n",
        "\n",
        "  def call(self, x):\n",
        "    encoded = self.encoder(x)\n",
        "    decoded = self.decoder(encoded)\n",
        "    return decoded\n",
        "  \n",
        "autoencoder = Autoencoder(latent_dim) \n"
      ],
      "execution_count": 39,
      "outputs": []
    },
    {
      "cell_type": "code",
      "metadata": {
        "id": "9I1JlqEIDCI4"
      },
      "source": [
        "autoencoder.compile(optimizer='adam', loss=losses.MeanSquaredError())"
      ],
      "execution_count": 40,
      "outputs": []
    },
    {
      "cell_type": "markdown",
      "metadata": {
        "id": "7oJSeMTroABs"
      },
      "source": [
        "Train the model using `x_train` as both the input and the target. The `encoder` will learn to compress the dataset from 784 dimensions to the latent space, and the `decoder` will learn to reconstruct the original images.\n",
        "."
      ]
    },
    {
      "cell_type": "code",
      "metadata": {
        "id": "h1RI9OfHDBsK",
        "colab": {
          "base_uri": "https://localhost:8080/"
        },
        "outputId": "bf06b70a-3d0c-4a3c-f719-4164de1842d1"
      },
      "source": [
        "autoencoder.fit(x_train, x_train,\n",
        "                epochs=10,\n",
        "                shuffle=True,\n",
        "                validation_data=(x_test, x_test))"
      ],
      "execution_count": 41,
      "outputs": [
        {
          "output_type": "stream",
          "name": "stdout",
          "text": [
            "Epoch 1/10\n",
            "1875/1875 [==============================] - 3s 2ms/step - loss: 0.0237 - val_loss: 0.0132\n",
            "Epoch 2/10\n",
            "1875/1875 [==============================] - 3s 2ms/step - loss: 0.0117 - val_loss: 0.0107\n",
            "Epoch 3/10\n",
            "1875/1875 [==============================] - 3s 2ms/step - loss: 0.0102 - val_loss: 0.0098\n",
            "Epoch 4/10\n",
            "1875/1875 [==============================] - 3s 2ms/step - loss: 0.0096 - val_loss: 0.0095\n",
            "Epoch 5/10\n",
            "1875/1875 [==============================] - 3s 2ms/step - loss: 0.0093 - val_loss: 0.0094\n",
            "Epoch 6/10\n",
            "1875/1875 [==============================] - 3s 2ms/step - loss: 0.0092 - val_loss: 0.0095\n",
            "Epoch 7/10\n",
            "1875/1875 [==============================] - 3s 2ms/step - loss: 0.0090 - val_loss: 0.0091\n",
            "Epoch 8/10\n",
            "1875/1875 [==============================] - 3s 2ms/step - loss: 0.0090 - val_loss: 0.0090\n",
            "Epoch 9/10\n",
            "1875/1875 [==============================] - 3s 2ms/step - loss: 0.0089 - val_loss: 0.0090\n",
            "Epoch 10/10\n",
            "1875/1875 [==============================] - 3s 2ms/step - loss: 0.0089 - val_loss: 0.0089\n"
          ]
        },
        {
          "output_type": "execute_result",
          "data": {
            "text/plain": [
              "<keras.callbacks.History at 0x7f47110c8710>"
            ]
          },
          "metadata": {},
          "execution_count": 41
        }
      ]
    },
    {
      "cell_type": "code",
      "metadata": {
        "colab": {
          "base_uri": "https://localhost:8080/"
        },
        "id": "hB6nvOinHFCL",
        "outputId": "0e911883-c114-42ea-cfff-8856be0d8c70"
      },
      "source": [
        "autoencoder.summary()"
      ],
      "execution_count": 42,
      "outputs": [
        {
          "output_type": "stream",
          "name": "stdout",
          "text": [
            "Model: \"autoencoder_1\"\n",
            "_________________________________________________________________\n",
            "Layer (type)                 Output Shape              Param #   \n",
            "=================================================================\n",
            "sequential_2 (Sequential)    (None, 64)                50240     \n",
            "_________________________________________________________________\n",
            "sequential_3 (Sequential)    (None, 28, 28)            50960     \n",
            "=================================================================\n",
            "Total params: 101,200\n",
            "Trainable params: 101,200\n",
            "Non-trainable params: 0\n",
            "_________________________________________________________________\n"
          ]
        }
      ]
    },
    {
      "cell_type": "markdown",
      "metadata": {
        "id": "wAM1QBhtoC-n"
      },
      "source": [
        "Now that the model is trained, let's test it by encoding and decoding images from the test set."
      ]
    },
    {
      "cell_type": "code",
      "metadata": {
        "id": "Pbr5WCj7FQUi"
      },
      "source": [
        "encoded_imgs = autoencoder.encoder(x_test).numpy()\n",
        "decoded_imgs = autoencoder.decoder(encoded_imgs).numpy()"
      ],
      "execution_count": 43,
      "outputs": []
    },
    {
      "cell_type": "code",
      "metadata": {
        "id": "s4LlDOS6FUA1",
        "colab": {
          "base_uri": "https://localhost:8080/",
          "height": 264
        },
        "outputId": "c3c8ab3c-12b7-4cab-c512-9b28fdda75a8"
      },
      "source": [
        "n = 10\n",
        "plt.figure(figsize=(20, 4))\n",
        "for i in range(n):\n",
        "  # display original\n",
        "  ax = plt.subplot(2, n, i + 1)\n",
        "  plt.imshow(x_test[i])\n",
        "  plt.title(\"original\")\n",
        "  plt.gray()\n",
        "  ax.get_xaxis().set_visible(False)\n",
        "  ax.get_yaxis().set_visible(False)\n",
        "\n",
        "  # display reconstruction\n",
        "  ax = plt.subplot(2, n, i + 1 + n)\n",
        "  plt.imshow(decoded_imgs[i])\n",
        "  plt.title(\"reconstructed\")\n",
        "  plt.gray()\n",
        "  ax.get_xaxis().set_visible(False)\n",
        "  ax.get_yaxis().set_visible(False)\n",
        "plt.show()"
      ],
      "execution_count": 44,
      "outputs": [
        {
          "output_type": "display_data",
          "data": {
            "image/png": "[encoded data removed]",
            "text/plain": [
              "<Figure size 1440x288 with 20 Axes>"
            ]
          },
          "metadata": {
            "needs_background": "light"
          }
        }
      ]
    },
    {
      "cell_type": "markdown",
      "metadata": {
        "id": "oHD4i_kIHJWL"
      },
      "source": [
        "### Another deep AE Sample Codes\n",
        "\n"
      ]
    },
    {
      "cell_type": "code",
      "metadata": {
        "id": "nxRSkEWXHutq"
      },
      "source": [
        "from tensorflow.keras import callbacks\n",
        "from tensorflow.keras.models import Model\n",
        "from tensorflow.keras.optimizers import Adam\n",
        "from tensorflow.keras.layers import Dense, Input\n",
        "\n",
        "(train_X, train_Y), (val_X, val_Y) = fashion_mnist.load_data()"
      ],
      "execution_count": 28,
      "outputs": []
    },
    {
      "cell_type": "markdown",
      "metadata": {
        "id": "lDO06pkhJqxM"
      },
      "source": [
        "Preprocessing of data for feeding it into the network -"
      ]
    },
    {
      "cell_type": "code",
      "metadata": {
        "colab": {
          "base_uri": "https://localhost:8080/"
        },
        "id": "BfucXNI_HykZ",
        "outputId": "bc059505-3c05-451e-c1b6-1cb38d40a35d"
      },
      "source": [
        "# converting all the pixel values from range(0 to 255) to range(0,1)\n",
        "train_X = train_X/255.\n",
        "val_X = val_X/255.\n",
        "\n",
        "#converting the Image data into values of pixels, i.e. - image of dimension 28 X 28 to single row of 784 pixels(28x28 = 784).\n",
        "print(\"Dimension of training data before reshaping\",train_X.shape)\n",
        "train_X = train_X.reshape(-1, 784)\n",
        "val_X = val_X.reshape(-1, 784)\n",
        "print(\"Dimension of training data after reshaping\",train_X.shape)"
      ],
      "execution_count": 29,
      "outputs": [
        {
          "output_type": "stream",
          "name": "stdout",
          "text": [
            "Dimension of training data before reshaping (60000, 28, 28)\n",
            "Dimension of training data after reshaping (60000, 784)\n"
          ]
        }
      ]
    },
    {
      "cell_type": "markdown",
      "metadata": {
        "id": "s0q9p0GLJmNM"
      },
      "source": [
        "Defining Autoencoder Model"
      ]
    },
    {
      "cell_type": "code",
      "metadata": {
        "id": "2OhbCcB0H2Xs"
      },
      "source": [
        "input_img = Input(shape=(784,))\n",
        "\n",
        "# \"enc_rep\" is the encoded representation of the input\n",
        "enc_rep = Dense(2000, activation='relu')(input_img)\n",
        "enc_rep = Dense(500, activation='relu')(enc_rep)\n",
        "enc_rep = Dense(500, activation='relu')(enc_rep)\n",
        "enc_rep = Dense(10, activation='sigmoid')(enc_rep)\n",
        "\n",
        "# \"decoded\" is the lossy reconstruction of the input from encoded representation\n",
        "decoded = Dense(500, activation='relu')(enc_rep)\n",
        "decoded = Dense(500, activation='relu')(decoded)\n",
        "decoded = Dense(2000, activation='relu')(decoded)\n",
        "decoded = Dense(784)(decoded)\n",
        "\n",
        "# this model maps an input to its reconstruction\n",
        "autoencoder = Model(input_img, decoded)"
      ],
      "execution_count": 30,
      "outputs": []
    },
    {
      "cell_type": "markdown",
      "metadata": {
        "id": "NRg3gwUxJhFM"
      },
      "source": [
        "Structure of our autoencoder model -"
      ]
    },
    {
      "cell_type": "code",
      "metadata": {
        "colab": {
          "base_uri": "https://localhost:8080/"
        },
        "id": "zwm06dozIBuC",
        "outputId": "b398b860-966d-4c13-ea36-03b594736e02"
      },
      "source": [
        "autoencoder.summary()"
      ],
      "execution_count": 31,
      "outputs": [
        {
          "output_type": "stream",
          "name": "stdout",
          "text": [
            "Model: \"model_1\"\n",
            "_________________________________________________________________\n",
            "Layer (type)                 Output Shape              Param #   \n",
            "=================================================================\n",
            "input_2 (InputLayer)         [(None, 784)]             0         \n",
            "_________________________________________________________________\n",
            "dense_10 (Dense)             (None, 2000)              1570000   \n",
            "_________________________________________________________________\n",
            "dense_11 (Dense)             (None, 500)               1000500   \n",
            "_________________________________________________________________\n",
            "dense_12 (Dense)             (None, 500)               250500    \n",
            "_________________________________________________________________\n",
            "dense_13 (Dense)             (None, 10)                5010      \n",
            "_________________________________________________________________\n",
            "dense_14 (Dense)             (None, 500)               5500      \n",
            "_________________________________________________________________\n",
            "dense_15 (Dense)             (None, 500)               250500    \n",
            "_________________________________________________________________\n",
            "dense_16 (Dense)             (None, 2000)              1002000   \n",
            "_________________________________________________________________\n",
            "dense_17 (Dense)             (None, 784)               1568784   \n",
            "=================================================================\n",
            "Total params: 5,652,794\n",
            "Trainable params: 5,652,794\n",
            "Non-trainable params: 0\n",
            "_________________________________________________________________\n"
          ]
        }
      ]
    },
    {
      "cell_type": "markdown",
      "metadata": {
        "id": "sf6MDrH6JYaL"
      },
      "source": [
        "Compiling our model "
      ]
    },
    {
      "cell_type": "code",
      "metadata": {
        "colab": {
          "base_uri": "https://localhost:8080/"
        },
        "id": "rnH3_qjoIqSL",
        "outputId": "e1be7da8-bdb0-4c89-a7c2-edee9920fcf8"
      },
      "source": [
        "autoencoder.compile(optimizer=Adam(lr=0.001, beta_1=0.9, beta_2=0.999, epsilon=1e-7), loss='mse')"
      ],
      "execution_count": 32,
      "outputs": [
        {
          "output_type": "stream",
          "name": "stderr",
          "text": [
            "/usr/local/lib/python3.7/dist-packages/keras/optimizer_v2/optimizer_v2.py:356: UserWarning: The `lr` argument is deprecated, use `learning_rate` instead.\n",
            "  \"The `lr` argument is deprecated, use `learning_rate` instead.\")\n"
          ]
        }
      ]
    },
    {
      "cell_type": "markdown",
      "metadata": {
        "id": "E5FerfRhJSQN"
      },
      "source": [
        "To enable early stropping in our model...\n",
        "monitoring the validation loss and patience = 10 means for 10 continuous epochs, if validation loss will not be improved then it will stop there."
      ]
    },
    {
      "cell_type": "code",
      "metadata": {
        "id": "DadM8mk_IrV8"
      },
      "source": [
        "from tensorflow.keras.callbacks import EarlyStopping\n",
        "early_stopper = EarlyStopping(monitor='val_loss', min_delta=0, patience=10, verbose=1, mode='auto')"
      ],
      "execution_count": 33,
      "outputs": []
    },
    {
      "cell_type": "markdown",
      "metadata": {
        "id": "cL7iimLsJ9DM"
      },
      "source": [
        "to train autoencoder on training data and validate on validation data"
      ]
    },
    {
      "cell_type": "code",
      "metadata": {
        "colab": {
          "base_uri": "https://localhost:8080/"
        },
        "id": "t0F4-lsDKAtJ",
        "outputId": "f0a662df-fad5-494c-b289-a2ede051870f"
      },
      "source": [
        "t_h = autoencoder.fit(train_X, train_X, epochs=500, batch_size=2048, validation_data=(val_X, val_X), callbacks=[early_stopper])"
      ],
      "execution_count": 34,
      "outputs": [
        {
          "output_type": "stream",
          "name": "stdout",
          "text": [
            "Epoch 1/500\n",
            "30/30 [==============================] - 2s 33ms/step - loss: 0.0911 - val_loss: 0.0686\n",
            "Epoch 2/500\n",
            "30/30 [==============================] - 1s 25ms/step - loss: 0.0579 - val_loss: 0.0455\n",
            "Epoch 3/500\n",
            "30/30 [==============================] - 1s 25ms/step - loss: 0.0411 - val_loss: 0.0375\n",
            "Epoch 4/500\n",
            "30/30 [==============================] - 1s 25ms/step - loss: 0.0359 - val_loss: 0.0333\n",
            "Epoch 5/500\n",
            "30/30 [==============================] - 1s 25ms/step - loss: 0.0317 - val_loss: 0.0293\n",
            "Epoch 6/500\n",
            "30/30 [==============================] - 1s 25ms/step - loss: 0.0282 - val_loss: 0.0263\n",
            "Epoch 7/500\n",
            "30/30 [==============================] - 1s 25ms/step - loss: 0.0255 - val_loss: 0.0247\n",
            "Epoch 8/500\n",
            "30/30 [==============================] - 1s 24ms/step - loss: 0.0244 - val_loss: 0.0238\n",
            "Epoch 9/500\n",
            "30/30 [==============================] - 1s 25ms/step - loss: 0.0230 - val_loss: 0.0229\n",
            "Epoch 10/500\n",
            "30/30 [==============================] - 1s 24ms/step - loss: 0.0221 - val_loss: 0.0225\n",
            "Epoch 11/500\n",
            "30/30 [==============================] - 1s 25ms/step - loss: 0.0216 - val_loss: 0.0208\n",
            "Epoch 12/500\n",
            "30/30 [==============================] - 1s 24ms/step - loss: 0.0207 - val_loss: 0.0201\n",
            "Epoch 13/500\n",
            "30/30 [==============================] - 1s 25ms/step - loss: 0.0197 - val_loss: 0.0200\n",
            "Epoch 14/500\n",
            "30/30 [==============================] - 1s 25ms/step - loss: 0.0196 - val_loss: 0.0191\n",
            "Epoch 15/500\n",
            "30/30 [==============================] - 1s 25ms/step - loss: 0.0188 - val_loss: 0.0206\n",
            "Epoch 16/500\n",
            "30/30 [==============================] - 1s 25ms/step - loss: 0.0185 - val_loss: 0.0180\n",
            "Epoch 17/500\n",
            "30/30 [==============================] - 1s 25ms/step - loss: 0.0177 - val_loss: 0.0182\n",
            "Epoch 18/500\n",
            "30/30 [==============================] - 1s 25ms/step - loss: 0.0175 - val_loss: 0.0173\n",
            "Epoch 19/500\n",
            "30/30 [==============================] - 1s 25ms/step - loss: 0.0172 - val_loss: 0.0169\n",
            "Epoch 20/500\n",
            "30/30 [==============================] - 1s 25ms/step - loss: 0.0169 - val_loss: 0.0166\n",
            "Epoch 21/500\n",
            "30/30 [==============================] - 1s 25ms/step - loss: 0.0168 - val_loss: 0.0166\n",
            "Epoch 22/500\n",
            "30/30 [==============================] - 1s 25ms/step - loss: 0.0162 - val_loss: 0.0162\n",
            "Epoch 23/500\n",
            "30/30 [==============================] - 1s 26ms/step - loss: 0.0159 - val_loss: 0.0163\n",
            "Epoch 24/500\n",
            "30/30 [==============================] - 1s 25ms/step - loss: 0.0161 - val_loss: 0.0158\n",
            "Epoch 25/500\n",
            "30/30 [==============================] - 1s 25ms/step - loss: 0.0156 - val_loss: 0.0175\n",
            "Epoch 26/500\n",
            "30/30 [==============================] - 1s 26ms/step - loss: 0.0155 - val_loss: 0.0153\n",
            "Epoch 27/500\n",
            "30/30 [==============================] - 1s 25ms/step - loss: 0.0151 - val_loss: 0.0151\n",
            "Epoch 28/500\n",
            "30/30 [==============================] - 1s 25ms/step - loss: 0.0150 - val_loss: 0.0150\n",
            "Epoch 29/500\n",
            "30/30 [==============================] - 1s 26ms/step - loss: 0.0149 - val_loss: 0.0150\n",
            "Epoch 30/500\n",
            "30/30 [==============================] - 1s 30ms/step - loss: 0.0147 - val_loss: 0.0147\n",
            "Epoch 31/500\n",
            "30/30 [==============================] - 1s 27ms/step - loss: 0.0147 - val_loss: 0.0147\n",
            "Epoch 32/500\n",
            "30/30 [==============================] - 1s 26ms/step - loss: 0.0143 - val_loss: 0.0144\n",
            "Epoch 33/500\n",
            "30/30 [==============================] - 1s 25ms/step - loss: 0.0145 - val_loss: 0.0143\n",
            "Epoch 34/500\n",
            "30/30 [==============================] - 1s 25ms/step - loss: 0.0141 - val_loss: 0.0143\n",
            "Epoch 35/500\n",
            "30/30 [==============================] - 1s 26ms/step - loss: 0.0142 - val_loss: 0.0142\n",
            "Epoch 36/500\n",
            "30/30 [==============================] - 1s 25ms/step - loss: 0.0139 - val_loss: 0.0140\n",
            "Epoch 37/500\n",
            "30/30 [==============================] - 1s 25ms/step - loss: 0.0138 - val_loss: 0.0156\n",
            "Epoch 38/500\n",
            "30/30 [==============================] - 1s 25ms/step - loss: 0.0141 - val_loss: 0.0140\n",
            "Epoch 39/500\n",
            "30/30 [==============================] - 1s 26ms/step - loss: 0.0135 - val_loss: 0.0137\n",
            "Epoch 40/500\n",
            "30/30 [==============================] - 1s 25ms/step - loss: 0.0137 - val_loss: 0.0139\n",
            "Epoch 41/500\n",
            "30/30 [==============================] - 1s 25ms/step - loss: 0.0134 - val_loss: 0.0137\n",
            "Epoch 42/500\n",
            "30/30 [==============================] - 1s 25ms/step - loss: 0.0134 - val_loss: 0.0136\n",
            "Epoch 43/500\n",
            "30/30 [==============================] - 1s 25ms/step - loss: 0.0135 - val_loss: 0.0144\n",
            "Epoch 44/500\n",
            "30/30 [==============================] - 1s 25ms/step - loss: 0.0134 - val_loss: 0.0135\n",
            "Epoch 45/500\n",
            "30/30 [==============================] - 1s 25ms/step - loss: 0.0131 - val_loss: 0.0138\n",
            "Epoch 46/500\n",
            "30/30 [==============================] - 1s 25ms/step - loss: 0.0132 - val_loss: 0.0135\n",
            "Epoch 47/500\n",
            "30/30 [==============================] - 1s 25ms/step - loss: 0.0131 - val_loss: 0.0133\n",
            "Epoch 48/500\n",
            "30/30 [==============================] - 1s 25ms/step - loss: 0.0130 - val_loss: 0.0133\n",
            "Epoch 49/500\n",
            "30/30 [==============================] - 1s 25ms/step - loss: 0.0131 - val_loss: 0.0140\n",
            "Epoch 50/500\n",
            "30/30 [==============================] - 1s 25ms/step - loss: 0.0130 - val_loss: 0.0132\n",
            "Epoch 51/500\n",
            "30/30 [==============================] - 1s 25ms/step - loss: 0.0128 - val_loss: 0.0132\n",
            "Epoch 52/500\n",
            "30/30 [==============================] - 1s 25ms/step - loss: 0.0128 - val_loss: 0.0132\n",
            "Epoch 53/500\n",
            "30/30 [==============================] - 1s 25ms/step - loss: 0.0127 - val_loss: 0.0133\n",
            "Epoch 54/500\n",
            "30/30 [==============================] - 1s 25ms/step - loss: 0.0127 - val_loss: 0.0130\n",
            "Epoch 55/500\n",
            "30/30 [==============================] - 1s 25ms/step - loss: 0.0126 - val_loss: 0.0130\n",
            "Epoch 56/500\n",
            "30/30 [==============================] - 1s 25ms/step - loss: 0.0125 - val_loss: 0.0130\n",
            "Epoch 57/500\n",
            "30/30 [==============================] - 1s 25ms/step - loss: 0.0126 - val_loss: 0.0130\n",
            "Epoch 58/500\n",
            "30/30 [==============================] - 1s 25ms/step - loss: 0.0125 - val_loss: 0.0131\n",
            "Epoch 59/500\n",
            "30/30 [==============================] - 1s 24ms/step - loss: 0.0126 - val_loss: 0.0129\n",
            "Epoch 60/500\n",
            "30/30 [==============================] - 1s 25ms/step - loss: 0.0124 - val_loss: 0.0127\n",
            "Epoch 61/500\n",
            "30/30 [==============================] - 1s 25ms/step - loss: 0.0122 - val_loss: 0.0127\n",
            "Epoch 62/500\n",
            "30/30 [==============================] - 1s 25ms/step - loss: 0.0123 - val_loss: 0.0131\n",
            "Epoch 63/500\n",
            "30/30 [==============================] - 1s 25ms/step - loss: 0.0123 - val_loss: 0.0126\n",
            "Epoch 64/500\n",
            "30/30 [==============================] - 1s 25ms/step - loss: 0.0121 - val_loss: 0.0125\n",
            "Epoch 65/500\n",
            "30/30 [==============================] - 1s 25ms/step - loss: 0.0122 - val_loss: 0.0128\n",
            "Epoch 66/500\n",
            "30/30 [==============================] - 1s 24ms/step - loss: 0.0122 - val_loss: 0.0126\n",
            "Epoch 67/500\n",
            "30/30 [==============================] - 1s 25ms/step - loss: 0.0120 - val_loss: 0.0126\n",
            "Epoch 68/500\n",
            "30/30 [==============================] - 1s 25ms/step - loss: 0.0121 - val_loss: 0.0124\n",
            "Epoch 69/500\n",
            "30/30 [==============================] - 1s 25ms/step - loss: 0.0121 - val_loss: 0.0127\n",
            "Epoch 70/500\n",
            "30/30 [==============================] - 1s 25ms/step - loss: 0.0120 - val_loss: 0.0124\n",
            "Epoch 71/500\n",
            "30/30 [==============================] - 1s 25ms/step - loss: 0.0118 - val_loss: 0.0123\n",
            "Epoch 72/500\n",
            "30/30 [==============================] - 1s 24ms/step - loss: 0.0120 - val_loss: 0.0123\n",
            "Epoch 73/500\n",
            "30/30 [==============================] - 1s 24ms/step - loss: 0.0118 - val_loss: 0.0125\n",
            "Epoch 74/500\n",
            "30/30 [==============================] - 1s 25ms/step - loss: 0.0118 - val_loss: 0.0123\n",
            "Epoch 75/500\n",
            "30/30 [==============================] - 1s 24ms/step - loss: 0.0117 - val_loss: 0.0123\n",
            "Epoch 76/500\n",
            "30/30 [==============================] - 1s 25ms/step - loss: 0.0119 - val_loss: 0.0123\n",
            "Epoch 77/500\n",
            "30/30 [==============================] - 1s 24ms/step - loss: 0.0117 - val_loss: 0.0122\n",
            "Epoch 78/500\n",
            "30/30 [==============================] - 1s 25ms/step - loss: 0.0117 - val_loss: 0.0122\n",
            "Epoch 79/500\n",
            "30/30 [==============================] - 1s 24ms/step - loss: 0.0116 - val_loss: 0.0122\n",
            "Epoch 80/500\n",
            "30/30 [==============================] - 1s 24ms/step - loss: 0.0119 - val_loss: 0.0123\n",
            "Epoch 81/500\n",
            "30/30 [==============================] - 1s 24ms/step - loss: 0.0115 - val_loss: 0.0120\n",
            "Epoch 82/500\n",
            "30/30 [==============================] - 1s 24ms/step - loss: 0.0116 - val_loss: 0.0122\n",
            "Epoch 83/500\n",
            "30/30 [==============================] - 1s 24ms/step - loss: 0.0116 - val_loss: 0.0122\n",
            "Epoch 84/500\n",
            "30/30 [==============================] - 1s 24ms/step - loss: 0.0115 - val_loss: 0.0121\n",
            "Epoch 85/500\n",
            "30/30 [==============================] - 1s 25ms/step - loss: 0.0115 - val_loss: 0.0122\n",
            "Epoch 86/500\n",
            "30/30 [==============================] - 1s 25ms/step - loss: 0.0115 - val_loss: 0.0125\n",
            "Epoch 87/500\n",
            "30/30 [==============================] - 1s 25ms/step - loss: 0.0115 - val_loss: 0.0120\n",
            "Epoch 88/500\n",
            "30/30 [==============================] - 1s 25ms/step - loss: 0.0114 - val_loss: 0.0121\n",
            "Epoch 89/500\n",
            "30/30 [==============================] - 1s 24ms/step - loss: 0.0114 - val_loss: 0.0121\n",
            "Epoch 90/500\n",
            "30/30 [==============================] - 1s 25ms/step - loss: 0.0113 - val_loss: 0.0121\n",
            "Epoch 91/500\n",
            "30/30 [==============================] - 1s 24ms/step - loss: 0.0114 - val_loss: 0.0121\n",
            "Epoch 92/500\n",
            "30/30 [==============================] - 1s 24ms/step - loss: 0.0112 - val_loss: 0.0119\n",
            "Epoch 93/500\n",
            "30/30 [==============================] - 1s 24ms/step - loss: 0.0114 - val_loss: 0.0119\n",
            "Epoch 94/500\n",
            "30/30 [==============================] - 1s 24ms/step - loss: 0.0112 - val_loss: 0.0119\n",
            "Epoch 95/500\n",
            "30/30 [==============================] - 1s 24ms/step - loss: 0.0114 - val_loss: 0.0120\n",
            "Epoch 96/500\n",
            "30/30 [==============================] - 1s 25ms/step - loss: 0.0112 - val_loss: 0.0118\n",
            "Epoch 97/500\n",
            "30/30 [==============================] - 1s 25ms/step - loss: 0.0114 - val_loss: 0.0123\n",
            "Epoch 98/500\n",
            "30/30 [==============================] - 1s 25ms/step - loss: 0.0112 - val_loss: 0.0119\n",
            "Epoch 99/500\n",
            "30/30 [==============================] - 1s 25ms/step - loss: 0.0111 - val_loss: 0.0118\n",
            "Epoch 100/500\n",
            "30/30 [==============================] - 1s 25ms/step - loss: 0.0111 - val_loss: 0.0119\n",
            "Epoch 101/500\n",
            "30/30 [==============================] - 1s 24ms/step - loss: 0.0112 - val_loss: 0.0120\n",
            "Epoch 102/500\n",
            "30/30 [==============================] - 1s 25ms/step - loss: 0.0112 - val_loss: 0.0118\n",
            "Epoch 103/500\n",
            "30/30 [==============================] - 1s 24ms/step - loss: 0.0110 - val_loss: 0.0117\n",
            "Epoch 104/500\n",
            "30/30 [==============================] - 1s 25ms/step - loss: 0.0110 - val_loss: 0.0118\n",
            "Epoch 105/500\n",
            "30/30 [==============================] - 1s 24ms/step - loss: 0.0111 - val_loss: 0.0119\n",
            "Epoch 106/500\n",
            "30/30 [==============================] - 1s 24ms/step - loss: 0.0110 - val_loss: 0.0117\n",
            "Epoch 107/500\n",
            "30/30 [==============================] - 1s 24ms/step - loss: 0.0109 - val_loss: 0.0117\n",
            "Epoch 108/500\n",
            "30/30 [==============================] - 1s 24ms/step - loss: 0.0111 - val_loss: 0.0117\n",
            "Epoch 109/500\n",
            "30/30 [==============================] - 1s 24ms/step - loss: 0.0110 - val_loss: 0.0121\n",
            "Epoch 110/500\n",
            "30/30 [==============================] - 1s 25ms/step - loss: 0.0110 - val_loss: 0.0117\n",
            "Epoch 111/500\n",
            "30/30 [==============================] - 1s 24ms/step - loss: 0.0108 - val_loss: 0.0116\n",
            "Epoch 112/500\n",
            "30/30 [==============================] - 1s 25ms/step - loss: 0.0110 - val_loss: 0.0118\n",
            "Epoch 113/500\n",
            "30/30 [==============================] - 1s 25ms/step - loss: 0.0109 - val_loss: 0.0116\n",
            "Epoch 114/500\n",
            "30/30 [==============================] - 1s 25ms/step - loss: 0.0108 - val_loss: 0.0116\n",
            "Epoch 115/500\n",
            "30/30 [==============================] - 1s 25ms/step - loss: 0.0108 - val_loss: 0.0117\n",
            "Epoch 116/500\n",
            "30/30 [==============================] - 1s 25ms/step - loss: 0.0109 - val_loss: 0.0117\n",
            "Epoch 117/500\n",
            "30/30 [==============================] - 1s 24ms/step - loss: 0.0108 - val_loss: 0.0116\n",
            "Epoch 118/500\n",
            "30/30 [==============================] - 1s 25ms/step - loss: 0.0108 - val_loss: 0.0117\n",
            "Epoch 119/500\n",
            "30/30 [==============================] - 1s 25ms/step - loss: 0.0107 - val_loss: 0.0117\n",
            "Epoch 120/500\n",
            "30/30 [==============================] - 1s 25ms/step - loss: 0.0110 - val_loss: 0.0116\n",
            "Epoch 121/500\n",
            "30/30 [==============================] - 1s 24ms/step - loss: 0.0108 - val_loss: 0.0115\n",
            "Epoch 122/500\n",
            "30/30 [==============================] - 1s 25ms/step - loss: 0.0106 - val_loss: 0.0116\n",
            "Epoch 123/500\n",
            "30/30 [==============================] - 1s 25ms/step - loss: 0.0108 - val_loss: 0.0119\n",
            "Epoch 124/500\n",
            "30/30 [==============================] - 1s 24ms/step - loss: 0.0107 - val_loss: 0.0116\n",
            "Epoch 125/500\n",
            "30/30 [==============================] - 1s 24ms/step - loss: 0.0106 - val_loss: 0.0119\n",
            "Epoch 126/500\n",
            "30/30 [==============================] - 1s 25ms/step - loss: 0.0108 - val_loss: 0.0116\n",
            "Epoch 127/500\n",
            "30/30 [==============================] - 1s 25ms/step - loss: 0.0106 - val_loss: 0.0115\n",
            "Epoch 128/500\n",
            "30/30 [==============================] - 1s 25ms/step - loss: 0.0106 - val_loss: 0.0117\n",
            "Epoch 129/500\n",
            "30/30 [==============================] - 1s 25ms/step - loss: 0.0107 - val_loss: 0.0115\n",
            "Epoch 130/500\n",
            "30/30 [==============================] - 1s 25ms/step - loss: 0.0106 - val_loss: 0.0115\n",
            "Epoch 131/500\n",
            "30/30 [==============================] - 1s 25ms/step - loss: 0.0106 - val_loss: 0.0115\n",
            "Epoch 132/500\n",
            "30/30 [==============================] - 1s 24ms/step - loss: 0.0106 - val_loss: 0.0116\n",
            "Epoch 133/500\n",
            "30/30 [==============================] - 1s 25ms/step - loss: 0.0106 - val_loss: 0.0117\n",
            "Epoch 134/500\n",
            "30/30 [==============================] - 1s 25ms/step - loss: 0.0106 - val_loss: 0.0115\n",
            "Epoch 135/500\n",
            "30/30 [==============================] - 1s 24ms/step - loss: 0.0105 - val_loss: 0.0116\n",
            "Epoch 136/500\n",
            "30/30 [==============================] - 1s 25ms/step - loss: 0.0107 - val_loss: 0.0116\n",
            "Epoch 137/500\n",
            "30/30 [==============================] - 1s 25ms/step - loss: 0.0105 - val_loss: 0.0116\n",
            "Epoch 138/500\n",
            "30/30 [==============================] - 1s 25ms/step - loss: 0.0105 - val_loss: 0.0114\n",
            "Epoch 139/500\n",
            "30/30 [==============================] - 1s 25ms/step - loss: 0.0105 - val_loss: 0.0117\n",
            "Epoch 140/500\n",
            "30/30 [==============================] - 1s 25ms/step - loss: 0.0106 - val_loss: 0.0114\n",
            "Epoch 141/500\n",
            "30/30 [==============================] - 1s 24ms/step - loss: 0.0104 - val_loss: 0.0115\n",
            "Epoch 142/500\n",
            "30/30 [==============================] - 1s 24ms/step - loss: 0.0104 - val_loss: 0.0115\n",
            "Epoch 143/500\n",
            "30/30 [==============================] - 1s 24ms/step - loss: 0.0104 - val_loss: 0.0114\n",
            "Epoch 144/500\n",
            "30/30 [==============================] - 1s 24ms/step - loss: 0.0105 - val_loss: 0.0116\n",
            "Epoch 145/500\n",
            "30/30 [==============================] - 1s 24ms/step - loss: 0.0104 - val_loss: 0.0115\n",
            "Epoch 146/500\n",
            "30/30 [==============================] - 1s 25ms/step - loss: 0.0103 - val_loss: 0.0114\n",
            "Epoch 147/500\n",
            "30/30 [==============================] - 1s 25ms/step - loss: 0.0104 - val_loss: 0.0114\n",
            "Epoch 148/500\n",
            "30/30 [==============================] - 1s 25ms/step - loss: 0.0104 - val_loss: 0.0114\n",
            "Epoch 149/500\n",
            "30/30 [==============================] - 1s 25ms/step - loss: 0.0103 - val_loss: 0.0114\n",
            "Epoch 150/500\n",
            "30/30 [==============================] - 1s 25ms/step - loss: 0.0104 - val_loss: 0.0114\n",
            "Epoch 151/500\n",
            "30/30 [==============================] - 1s 25ms/step - loss: 0.0103 - val_loss: 0.0115\n",
            "Epoch 152/500\n",
            "30/30 [==============================] - 1s 25ms/step - loss: 0.0103 - val_loss: 0.0115\n",
            "Epoch 153/500\n",
            "30/30 [==============================] - 1s 25ms/step - loss: 0.0102 - val_loss: 0.0113\n",
            "Epoch 154/500\n",
            "30/30 [==============================] - 1s 25ms/step - loss: 0.0104 - val_loss: 0.0114\n",
            "Epoch 155/500\n",
            "30/30 [==============================] - 1s 25ms/step - loss: 0.0102 - val_loss: 0.0113\n",
            "Epoch 156/500\n",
            "30/30 [==============================] - 1s 24ms/step - loss: 0.0102 - val_loss: 0.0114\n",
            "Epoch 157/500\n",
            "30/30 [==============================] - 1s 25ms/step - loss: 0.0103 - val_loss: 0.0113\n",
            "Epoch 158/500\n",
            "30/30 [==============================] - 1s 25ms/step - loss: 0.0102 - val_loss: 0.0117\n",
            "Epoch 159/500\n",
            "30/30 [==============================] - 1s 24ms/step - loss: 0.0104 - val_loss: 0.0114\n",
            "Epoch 160/500\n",
            "30/30 [==============================] - 1s 25ms/step - loss: 0.0102 - val_loss: 0.0113\n",
            "Epoch 161/500\n",
            "30/30 [==============================] - 1s 24ms/step - loss: 0.0102 - val_loss: 0.0114\n",
            "Epoch 162/500\n",
            "30/30 [==============================] - 1s 25ms/step - loss: 0.0102 - val_loss: 0.0113\n",
            "Epoch 163/500\n",
            "30/30 [==============================] - 1s 25ms/step - loss: 0.0102 - val_loss: 0.0114\n",
            "Epoch 164/500\n",
            "30/30 [==============================] - 1s 25ms/step - loss: 0.0103 - val_loss: 0.0113\n",
            "Epoch 165/500\n",
            "30/30 [==============================] - 1s 25ms/step - loss: 0.0101 - val_loss: 0.0113\n",
            "Epoch 166/500\n",
            "30/30 [==============================] - 1s 25ms/step - loss: 0.0101 - val_loss: 0.0114\n",
            "Epoch 167/500\n",
            "30/30 [==============================] - 1s 25ms/step - loss: 0.0102 - val_loss: 0.0113\n",
            "Epoch 168/500\n",
            "30/30 [==============================] - 1s 25ms/step - loss: 0.0101 - val_loss: 0.0114\n",
            "Epoch 169/500\n",
            "30/30 [==============================] - 1s 25ms/step - loss: 0.0102 - val_loss: 0.0113\n",
            "Epoch 170/500\n",
            "30/30 [==============================] - 1s 24ms/step - loss: 0.0102 - val_loss: 0.0113\n",
            "Epoch 171/500\n",
            "30/30 [==============================] - 1s 25ms/step - loss: 0.0101 - val_loss: 0.0113\n",
            "Epoch 172/500\n",
            "30/30 [==============================] - 1s 25ms/step - loss: 0.0102 - val_loss: 0.0113\n",
            "Epoch 173/500\n",
            "30/30 [==============================] - 1s 25ms/step - loss: 0.0100 - val_loss: 0.0112\n",
            "Epoch 174/500\n",
            "30/30 [==============================] - 1s 25ms/step - loss: 0.0100 - val_loss: 0.0114\n",
            "Epoch 175/500\n",
            "30/30 [==============================] - 1s 25ms/step - loss: 0.0101 - val_loss: 0.0114\n",
            "Epoch 176/500\n",
            "30/30 [==============================] - 1s 25ms/step - loss: 0.0100 - val_loss: 0.0114\n",
            "Epoch 177/500\n",
            "30/30 [==============================] - 1s 25ms/step - loss: 0.0101 - val_loss: 0.0112\n",
            "Epoch 178/500\n",
            "30/30 [==============================] - 1s 25ms/step - loss: 0.0100 - val_loss: 0.0113\n",
            "Epoch 179/500\n",
            "30/30 [==============================] - 1s 25ms/step - loss: 0.0101 - val_loss: 0.0112\n",
            "Epoch 180/500\n",
            "30/30 [==============================] - 1s 25ms/step - loss: 0.0100 - val_loss: 0.0112\n",
            "Epoch 181/500\n",
            "30/30 [==============================] - 1s 25ms/step - loss: 0.0100 - val_loss: 0.0112\n",
            "Epoch 182/500\n",
            "30/30 [==============================] - 1s 25ms/step - loss: 0.0100 - val_loss: 0.0116\n",
            "Epoch 183/500\n",
            "30/30 [==============================] - 1s 24ms/step - loss: 0.0101 - val_loss: 0.0113\n",
            "Epoch 184/500\n",
            "30/30 [==============================] - 1s 25ms/step - loss: 0.0099 - val_loss: 0.0112\n",
            "Epoch 185/500\n",
            "30/30 [==============================] - 1s 25ms/step - loss: 0.0100 - val_loss: 0.0113\n",
            "Epoch 186/500\n",
            "30/30 [==============================] - 1s 24ms/step - loss: 0.0099 - val_loss: 0.0113\n",
            "Epoch 187/500\n",
            "30/30 [==============================] - 1s 24ms/step - loss: 0.0100 - val_loss: 0.0114\n",
            "Epoch 188/500\n",
            "30/30 [==============================] - 1s 24ms/step - loss: 0.0099 - val_loss: 0.0112\n",
            "Epoch 189/500\n",
            "30/30 [==============================] - 1s 25ms/step - loss: 0.0099 - val_loss: 0.0113\n",
            "Epoch 190/500\n",
            "30/30 [==============================] - 1s 25ms/step - loss: 0.0100 - val_loss: 0.0114\n",
            "Epoch 191/500\n",
            "30/30 [==============================] - 1s 25ms/step - loss: 0.0099 - val_loss: 0.0112\n",
            "Epoch 192/500\n",
            "30/30 [==============================] - 1s 25ms/step - loss: 0.0099 - val_loss: 0.0112\n",
            "Epoch 193/500\n",
            "30/30 [==============================] - 1s 25ms/step - loss: 0.0098 - val_loss: 0.0113\n",
            "Epoch 194/500\n",
            "30/30 [==============================] - 1s 25ms/step - loss: 0.0099 - val_loss: 0.0113\n",
            "Epoch 00194: early stopping\n"
          ]
        }
      ]
    },
    {
      "cell_type": "markdown",
      "metadata": {
        "id": "FIFaqHblKJmL"
      },
      "source": [
        "To predict images"
      ]
    },
    {
      "cell_type": "code",
      "metadata": {
        "id": "RAZR8X1qKE1K"
      },
      "source": [
        "# to predict the reconstructed images for the original images...\n",
        "pred = autoencoder.predict(val_X)"
      ],
      "execution_count": 35,
      "outputs": []
    },
    {
      "cell_type": "markdown",
      "metadata": {
        "id": "zCB2cTL8KNVL"
      },
      "source": [
        "To compare the original and reconstructed images...."
      ]
    },
    {
      "cell_type": "code",
      "metadata": {
        "colab": {
          "base_uri": "https://localhost:8080/",
          "height": 307
        },
        "id": "zeji_fo6KO2B",
        "outputId": "f892e243-fd7f-449c-c8e4-40ca9ec86557"
      },
      "source": [
        "import matplotlib.pyplot as plt\n",
        "# to visualize original images\n",
        "plt.figure(figsize=(10, 10))\n",
        "for i in range(5):\n",
        "    plt.subplot(1, 5, i+1)\n",
        "    plt.xticks([]) # to remove x-axis  the [] empty list indicates this\n",
        "    plt.yticks([]) # to remove y-axis\n",
        "    plt.grid(False) # to remove grid\n",
        "    plt.imshow(val_X[i].reshape(28, 28)) #display the image \n",
        "plt.tight_layout() # to have a proper space in the subplots\n",
        "plt.show()\n",
        "\n",
        "# to visualize reconstructed images(output of autoencoder)\n",
        "plt.figure(figsize=(10, 10))\n",
        "for i in range(5):\n",
        "    plt.subplot(1, 5, i+1)\n",
        "    plt.xticks([]) # to remove x-axis  the [] empty list indicates this\n",
        "    plt.yticks([]) # to remove y-axis\n",
        "    plt.grid(False) # to remove grid\n",
        "    plt.imshow(pred[i].reshape(28, 28)) #display the image \n",
        "plt.tight_layout() # to have a proper space in the subplots\n",
        "plt.show()"
      ],
      "execution_count": 36,
      "outputs": [
        {
          "output_type": "display_data",
          "data": {
            "image/png": "[encoded data removed]",
            "text/plain": [
              "<Figure size 720x720 with 5 Axes>"
            ]
          },
          "metadata": {}
        },
        {
          "output_type": "display_data",
          "data": {
            "image/png": "[encoded data removed]",
            "text/plain": [
              "<Figure size 720x720 with 5 Axes>"
            ]
          },
          "metadata": {}
        }
      ]
    },
    {
      "cell_type": "markdown",
      "metadata": {
        "id": "r4gv6G8PoRQE"
      },
      "source": [
        "## Second example: Denoizing Autoencoder(DAE)\n",
        "\n",
        "<img src= 'https://929687.smushcdn.com/2407837/wp-content/uploads/2020/02/keras_denoising_autoencoder_overview.png?lossy=1&strip=1&webp=0'>\n",
        "\n",
        "the denoising autoencoder procedure was invented to help:\n",
        "\n",
        "  - The hidden layers of the autoencoder learn more robust filters\n",
        "  - Reduce the risk of overfitting in the autoencoder\n",
        "  - Prevent the autoencoder from learning a simple identify function\n",
        "\n",
        "A great example would be pre-processing an image to improve the accuracy of an optical character recognition (OCR) algorithm. If you’ve ever applied OCR before, you know how just a little bit of the wrong type of noise (ex., printer ink smudges, poor image quality during the scan, etc.) can dramatically hurt the performance of your OCR method. Using denoising autoencoders, we can automatically pre-process the image, improve the quality, and therefore increase the accuracy of the downstream OCR algorithm\n",
        "\n",
        "__Image Denoizing Example__\n",
        "\n",
        "![Image denoising results](https://github.com/tensorflow/docs/blob/master/site/en/tutorials/generative/images/image_denoise_fmnist_results.png?raw=1)\n",
        "\n",
        "An autoencoder can also be trained to remove noise from images. In the following section, you will create a noisy version of the Fashion MNIST dataset by applying random noise to each image. You will then train an autoencoder using the noisy image as input, and the original image as the target.\n",
        "\n",
        "Let's reimport the dataset to omit the modifications made earlier."
      ]
    },
    {
      "cell_type": "code",
      "metadata": {
        "id": "gDYHJA2PCQ3m"
      },
      "source": [
        "(x_train, _), (x_test, _) = fashion_mnist.load_data()"
      ],
      "execution_count": null,
      "outputs": []
    },
    {
      "cell_type": "code",
      "metadata": {
        "id": "uJZ-TcaqDBr5",
        "colab": {
          "base_uri": "https://localhost:8080/"
        },
        "outputId": "0fddcacd-71cb-4891-ea41-98d65045e9b8"
      },
      "source": [
        "x_train = x_train.astype('float32') / 255.\n",
        "x_test = x_test.astype('float32') / 255.\n",
        "\n",
        "x_train = x_train[..., tf.newaxis]\n",
        "x_test = x_test[..., tf.newaxis]\n",
        "\n",
        "print(x_train.shape)"
      ],
      "execution_count": null,
      "outputs": [
        {
          "output_type": "stream",
          "text": [
            "(60000, 28, 28, 1)\n"
          ],
          "name": "stdout"
        }
      ]
    },
    {
      "cell_type": "markdown",
      "metadata": {
        "id": "aPZl_6P65_8R"
      },
      "source": [
        "Adding random noise to the images"
      ]
    },
    {
      "cell_type": "code",
      "metadata": {
        "id": "axSMyxC354fc"
      },
      "source": [
        "noise_factor = 0.2\n",
        "x_train_noisy = x_train + noise_factor * tf.random.normal(shape=x_train.shape) \n",
        "x_test_noisy = x_test + noise_factor * tf.random.normal(shape=x_test.shape) \n",
        "\n",
        "x_train_noisy = tf.clip_by_value(x_train_noisy, clip_value_min=0., clip_value_max=1.)\n",
        "x_test_noisy = tf.clip_by_value(x_test_noisy, clip_value_min=0., clip_value_max=1.)"
      ],
      "execution_count": null,
      "outputs": []
    },
    {
      "cell_type": "markdown",
      "metadata": {
        "id": "wRxHe4XXltNd"
      },
      "source": [
        "Plot the noisy images.\n"
      ]
    },
    {
      "cell_type": "code",
      "metadata": {
        "id": "thKUmbVVCQpt",
        "colab": {
          "base_uri": "https://localhost:8080/",
          "height": 122
        },
        "outputId": "d5fd6aba-e376-4b7b-864a-cd36e2f954cd"
      },
      "source": [
        "n = 10\n",
        "plt.figure(figsize=(20, 2))\n",
        "for i in range(n):\n",
        "    ax = plt.subplot(1, n, i + 1)\n",
        "    plt.title(\"original + noise\")\n",
        "    plt.imshow(tf.squeeze(x_test_noisy[i]))\n",
        "    plt.gray()\n",
        "plt.show()"
      ],
      "execution_count": null,
      "outputs": [
        {
          "output_type": "display_data",
          "data": {
            "image/png": "[encoded data removed]",
            "text/plain": [
              "<Figure size 1440x144 with 10 Axes>"
            ]
          },
          "metadata": {
            "needs_background": "light"
          }
        }
      ]
    },
    {
      "cell_type": "markdown",
      "metadata": {
        "id": "Sy9SY8jGl5aP"
      },
      "source": [
        "### Define a convolutional autoencoder"
      ]
    },
    {
      "cell_type": "markdown",
      "metadata": {
        "id": "vT_BhZngWMwp"
      },
      "source": [
        "In this example, you will train a convolutional autoencoder using  [Conv2D](https://www.tensorflow.org/api_docs/python/tf/keras/layers/Conv2D) layers in the `encoder`, and [Conv2DTranspose](https://www.tensorflow.org/api_docs/python/tf/keras/layers/Conv2DTranspose) layers in the `decoder`."
      ]
    },
    {
      "cell_type": "code",
      "metadata": {
        "id": "R5KjoIlYCQko"
      },
      "source": [
        "class Denoise(Model):\n",
        "  def __init__(self):\n",
        "    super(Denoise, self).__init__()\n",
        "    self.encoder = tf.keras.Sequential([\n",
        "      layers.Input(shape=(28, 28, 1)),\n",
        "      layers.Conv2D(16, (3, 3), activation='relu', padding='same', strides=2),\n",
        "      layers.Conv2D(8, (3, 3), activation='relu', padding='same', strides=2)])\n",
        "\n",
        "    self.decoder = tf.keras.Sequential([\n",
        "      layers.Conv2DTranspose(8, kernel_size=3, strides=2, activation='relu', padding='same'),\n",
        "      layers.Conv2DTranspose(16, kernel_size=3, strides=2, activation='relu', padding='same'),\n",
        "      layers.Conv2D(1, kernel_size=(3, 3), activation='sigmoid', padding='same')])\n",
        "\n",
        "  def call(self, x):\n",
        "    encoded = self.encoder(x)\n",
        "    decoded = self.decoder(encoded)\n",
        "    return decoded\n",
        "\n",
        "autoencoder = Denoise()"
      ],
      "execution_count": null,
      "outputs": []
    },
    {
      "cell_type": "code",
      "metadata": {
        "id": "QYKbiDFYCQfj"
      },
      "source": [
        "autoencoder.compile(optimizer='adam', loss=losses.MeanSquaredError())"
      ],
      "execution_count": null,
      "outputs": []
    },
    {
      "cell_type": "code",
      "metadata": {
        "id": "IssFr1BNCQX3",
        "colab": {
          "base_uri": "https://localhost:8080/"
        },
        "outputId": "dc83a95b-ae67-4432-b677-9b489f28c8a9"
      },
      "source": [
        "autoencoder.fit(x_train_noisy, x_train,\n",
        "                epochs=10,\n",
        "                shuffle=True,\n",
        "                validation_data=(x_test_noisy, x_test))"
      ],
      "execution_count": null,
      "outputs": [
        {
          "output_type": "stream",
          "text": [
            "Epoch 1/10\n",
            "1875/1875 [==============================] - 22s 4ms/step - loss: 0.0174 - val_loss: 0.0108\n",
            "Epoch 2/10\n",
            "1875/1875 [==============================] - 8s 5ms/step - loss: 0.0098 - val_loss: 0.0094\n",
            "Epoch 3/10\n",
            "1875/1875 [==============================] - 8s 4ms/step - loss: 0.0088 - val_loss: 0.0085\n",
            "Epoch 4/10\n",
            "1875/1875 [==============================] - 8s 4ms/step - loss: 0.0083 - val_loss: 0.0081\n",
            "Epoch 5/10\n",
            "1875/1875 [==============================] - 8s 4ms/step - loss: 0.0079 - val_loss: 0.0078\n",
            "Epoch 6/10\n",
            "1875/1875 [==============================] - 8s 4ms/step - loss: 0.0077 - val_loss: 0.0077\n",
            "Epoch 7/10\n",
            "1875/1875 [==============================] - 8s 4ms/step - loss: 0.0075 - val_loss: 0.0074\n",
            "Epoch 8/10\n",
            "1875/1875 [==============================] - 8s 4ms/step - loss: 0.0073 - val_loss: 0.0073\n",
            "Epoch 9/10\n",
            "1875/1875 [==============================] - 9s 5ms/step - loss: 0.0072 - val_loss: 0.0072\n",
            "Epoch 10/10\n",
            "1875/1875 [==============================] - 9s 5ms/step - loss: 0.0071 - val_loss: 0.0071\n"
          ],
          "name": "stdout"
        },
        {
          "output_type": "execute_result",
          "data": {
            "text/plain": [
              "<keras.callbacks.History at 0x7f94fa59a750>"
            ]
          },
          "metadata": {},
          "execution_count": 15
        }
      ]
    },
    {
      "cell_type": "markdown",
      "metadata": {
        "id": "G85xUVBGTAKp"
      },
      "source": [
        "Let's take a look at a summary of the encoder. Notice how the images are downsampled from 28x28 to 7x7."
      ]
    },
    {
      "cell_type": "code",
      "metadata": {
        "id": "oEpxlX6sTEQz",
        "colab": {
          "base_uri": "https://localhost:8080/"
        },
        "outputId": "913215a0-8249-4e59-eb22-f5be2b8ab8ca"
      },
      "source": [
        "autoencoder.encoder.summary()"
      ],
      "execution_count": null,
      "outputs": [
        {
          "output_type": "stream",
          "text": [
            "Model: \"sequential_2\"\n",
            "_________________________________________________________________\n",
            "Layer (type)                 Output Shape              Param #   \n",
            "=================================================================\n",
            "conv2d (Conv2D)              (None, 14, 14, 16)        160       \n",
            "_________________________________________________________________\n",
            "conv2d_1 (Conv2D)            (None, 7, 7, 8)           1160      \n",
            "=================================================================\n",
            "Total params: 1,320\n",
            "Trainable params: 1,320\n",
            "Non-trainable params: 0\n",
            "_________________________________________________________________\n"
          ],
          "name": "stdout"
        }
      ]
    },
    {
      "cell_type": "markdown",
      "metadata": {
        "id": "DDZBfMx1UtXx"
      },
      "source": [
        "The decoder upsamples the images back from 7x7 to 28x28."
      ]
    },
    {
      "cell_type": "code",
      "metadata": {
        "id": "pbeQtYMaUpro",
        "colab": {
          "base_uri": "https://localhost:8080/"
        },
        "outputId": "9407a3dc-9625-46ca-c242-37851f82e3e6"
      },
      "source": [
        "autoencoder.decoder.summary()"
      ],
      "execution_count": null,
      "outputs": [
        {
          "output_type": "stream",
          "text": [
            "Model: \"sequential_3\"\n",
            "_________________________________________________________________\n",
            "Layer (type)                 Output Shape              Param #   \n",
            "=================================================================\n",
            "conv2d_transpose (Conv2DTran (None, 14, 14, 8)         584       \n",
            "_________________________________________________________________\n",
            "conv2d_transpose_1 (Conv2DTr (None, 28, 28, 16)        1168      \n",
            "_________________________________________________________________\n",
            "conv2d_2 (Conv2D)            (None, 28, 28, 1)         145       \n",
            "=================================================================\n",
            "Total params: 1,897\n",
            "Trainable params: 1,897\n",
            "Non-trainable params: 0\n",
            "_________________________________________________________________\n"
          ],
          "name": "stdout"
        }
      ]
    },
    {
      "cell_type": "markdown",
      "metadata": {
        "id": "A7-VAuEy_N6M"
      },
      "source": [
        "Plotting both the noisy images and the denoised images produced by the autoencoder."
      ]
    },
    {
      "cell_type": "code",
      "metadata": {
        "id": "t5IyPi1fCQQz"
      },
      "source": [
        "encoded_imgs = autoencoder.encoder(x_test).numpy()\n",
        "decoded_imgs = autoencoder.decoder(encoded_imgs).numpy()"
      ],
      "execution_count": null,
      "outputs": []
    },
    {
      "cell_type": "code",
      "metadata": {
        "id": "sfxr9NdBCP_x",
        "colab": {
          "base_uri": "https://localhost:8080/",
          "height": 203
        },
        "outputId": "ef3898d7-efbf-4687-af05-7ece06958e3b"
      },
      "source": [
        "n = 10\n",
        "plt.figure(figsize=(20, 4))\n",
        "for i in range(n):\n",
        "\n",
        "    # display original + noise\n",
        "    ax = plt.subplot(2, n, i + 1)\n",
        "    plt.title(\"original + noise\")\n",
        "    plt.imshow(tf.squeeze(x_test_noisy[i]))\n",
        "    plt.gray()\n",
        "    ax.get_xaxis().set_visible(False)\n",
        "    ax.get_yaxis().set_visible(False)\n",
        "\n",
        "    # display reconstruction\n",
        "    bx = plt.subplot(2, n, i + n + 1)\n",
        "    plt.title(\"reconstructed\")\n",
        "    plt.imshow(tf.squeeze(decoded_imgs[i]))\n",
        "    plt.gray()\n",
        "    bx.get_xaxis().set_visible(False)\n",
        "    bx.get_yaxis().set_visible(False)\n",
        "plt.show()"
      ],
      "execution_count": null,
      "outputs": [
        {
          "output_type": "display_data",
          "data": {
            "image/png": "[encoded data removed]",
            "text/plain": [
              "<Figure size 1440x288 with 20 Axes>"
            ]
          },
          "metadata": {
            "needs_background": "light"
          }
        }
      ]
    },
    {
      "cell_type": "markdown",
      "metadata": {
        "id": "ErGrTnWHoUYl"
      },
      "source": [
        "## Third example: Anomaly detection\n",
        "\n",
        "Autoencoder를 이용하면 데이터에 대한 labeling을 하지 않아도 데이터의 주성분이 되는 정상 영역의 특징들을 배울 수 있습니다. 이때, 학습된 autoencoder에 정상 sample을 넣어주면 위의 그림과 같이 잘 복원을 하므로 input과 output의 차이가 거의 발생하지 않는 반면, 비정상적인 sample을 넣으면 autoencoder는 정상 sample처럼 복원하기 때문에 input과 output의 차이를 구하는 과정에서 차이가 도드라지게 발생하므로 비정상 sample을 검출할 수 있습니다.\n",
        "\n",
        "다만 Autoencoder의 code size (= latent variable의 dimension) 같은 hyper-parameter에 따라 전반적인 복원 성능이 좌우되기 때문에 양/불 판정 정확도가 Supervised Anomaly Detection에 비해 다소 불안정하다는 단점이 존재합니다. 또한 autoencoder에 넣어주는 input과 output의 차이를 어떻게 정의할 것인지(= 어떤 방식으로 difference map을 계산할지) 어느 loss function을 사용해 autoencoder를 학습시킬지 등 여러 가지 요인에 따라 성능이 크게 달라질 수 있습니다. 이렇듯 성능에 영향을 주는 요인이 많다는 약점이 존재하지만 별도의 Labeling 과정 없이 어느정도 성능을 낼 수 있다는 점에서 장단이 뚜렷한 방법론이라 할 수 있습니다.\n",
        "\n",
        "## ECG Dataset Overview\n",
        "\n",
        "\n",
        "In this example, you will train an autoencoder to detect anomalies on the [ECG5000 dataset](http://www.timeseriesclassification.com/description.php?Dataset=ECG5000). This dataset contains 5,000 [Electrocardiograms](https://en.wikipedia.org/wiki/Electrocardiography), each with 140 data points. You will use a simplified version of the dataset, where each example has been labeled either `0` (corresponding to an abnormal rhythm), or `1` (corresponding to a normal rhythm). You are interested in identifying the abnormal rhythms.\n",
        "\n",
        "Note: This is a labeled dataset, so you could phrase this as a supervised learning problem. The goal of this example is to illustrate anomaly detection concepts you can apply to larger datasets, where you do not have labels available (for example, if you had many thousands of normal rhythms, and only a small number of abnormal rhythms).\n",
        "\n",
        "How will you detect anomalies using an autoencoder? Recall that an autoencoder is trained to minimize reconstruction error. You will train an autoencoder on the normal rhythms only, then use it to reconstruct all the data. Our hypothesis is that the abnormal rhythms will have higher reconstruction error. You will then classify a rhythm as an anomaly if the reconstruction error surpasses a fixed threshold."
      ]
    },
    {
      "cell_type": "markdown",
      "metadata": {
        "id": "i5estNaur_Mh"
      },
      "source": [
        "### Load ECG data"
      ]
    },
    {
      "cell_type": "markdown",
      "metadata": {
        "id": "y35nsXLPsDNX"
      },
      "source": [
        "The dataset you will use is based on one from [timeseriesclassification.com](http://www.timeseriesclassification.com/description.php?Dataset=ECG5000).\n"
      ]
    },
    {
      "cell_type": "code",
      "metadata": {
        "id": "KmKRDJWgsFYa",
        "colab": {
          "base_uri": "https://localhost:8080/",
          "height": 255
        },
        "outputId": "c13fc820-2f9c-4d9f-81da-317efeb60366"
      },
      "source": [
        "# Download the dataset\n",
        "dataframe = pd.read_csv('http://storage.googleapis.com/download.tensorflow.org/data/ecg.csv', header=None)\n",
        "raw_data = dataframe.values\n",
        "dataframe.head()"
      ],
      "execution_count": null,
      "outputs": [
        {
          "output_type": "execute_result",
          "data": {
            "text/html": [
              "<div>\n",
              "<style scoped>\n",
              "    .dataframe tbody tr th:only-of-type {\n",
              "        vertical-align: middle;\n",
              "    }\n",
              "\n",
              "    .dataframe tbody tr th {\n",
              "        vertical-align: top;\n",
              "    }\n",
              "\n",
              "    .dataframe thead th {\n",
              "        text-align: right;\n",
              "    }\n",
              "</style>\n",
              "<table border=\"1\" class=\"dataframe\">\n",
              "  <thead>\n",
              "    <tr style=\"text-align: right;\">\n",
              "      <th></th>\n",
              "      <th>0</th>\n",
              "      <th>1</th>\n",
              "      <th>2</th>\n",
              "      <th>3</th>\n",
              "      <th>4</th>\n",
              "      <th>5</th>\n",
              "      <th>6</th>\n",
              "      <th>7</th>\n",
              "      <th>8</th>\n",
              "      <th>9</th>\n",
              "      <th>10</th>\n",
              "      <th>11</th>\n",
              "      <th>12</th>\n",
              "      <th>13</th>\n",
              "      <th>14</th>\n",
              "      <th>15</th>\n",
              "      <th>16</th>\n",
              "      <th>17</th>\n",
              "      <th>18</th>\n",
              "      <th>19</th>\n",
              "      <th>20</th>\n",
              "      <th>21</th>\n",
              "      <th>22</th>\n",
              "      <th>23</th>\n",
              "      <th>24</th>\n",
              "      <th>25</th>\n",
              "      <th>26</th>\n",
              "      <th>27</th>\n",
              "      <th>28</th>\n",
              "      <th>29</th>\n",
              "      <th>30</th>\n",
              "      <th>31</th>\n",
              "      <th>32</th>\n",
              "      <th>33</th>\n",
              "      <th>34</th>\n",
              "      <th>35</th>\n",
              "      <th>36</th>\n",
              "      <th>37</th>\n",
              "      <th>38</th>\n",
              "      <th>39</th>\n",
              "      <th>...</th>\n",
              "      <th>101</th>\n",
              "      <th>102</th>\n",
              "      <th>103</th>\n",
              "      <th>104</th>\n",
              "      <th>105</th>\n",
              "      <th>106</th>\n",
              "      <th>107</th>\n",
              "      <th>108</th>\n",
              "      <th>109</th>\n",
              "      <th>110</th>\n",
              "      <th>111</th>\n",
              "      <th>112</th>\n",
              "      <th>113</th>\n",
              "      <th>114</th>\n",
              "      <th>115</th>\n",
              "      <th>116</th>\n",
              "      <th>117</th>\n",
              "      <th>118</th>\n",
              "      <th>119</th>\n",
              "      <th>120</th>\n",
              "      <th>121</th>\n",
              "      <th>122</th>\n",
              "      <th>123</th>\n",
              "      <th>124</th>\n",
              "      <th>125</th>\n",
              "      <th>126</th>\n",
              "      <th>127</th>\n",
              "      <th>128</th>\n",
              "      <th>129</th>\n",
              "      <th>130</th>\n",
              "      <th>131</th>\n",
              "      <th>132</th>\n",
              "      <th>133</th>\n",
              "      <th>134</th>\n",
              "      <th>135</th>\n",
              "      <th>136</th>\n",
              "      <th>137</th>\n",
              "      <th>138</th>\n",
              "      <th>139</th>\n",
              "      <th>140</th>\n",
              "    </tr>\n",
              "  </thead>\n",
              "  <tbody>\n",
              "    <tr>\n",
              "      <th>0</th>\n",
              "      <td>-0.112522</td>\n",
              "      <td>-2.827204</td>\n",
              "      <td>-3.773897</td>\n",
              "      <td>-4.349751</td>\n",
              "      <td>-4.376041</td>\n",
              "      <td>-3.474986</td>\n",
              "      <td>-2.181408</td>\n",
              "      <td>-1.818287</td>\n",
              "      <td>-1.250522</td>\n",
              "      <td>-0.477492</td>\n",
              "      <td>-0.363808</td>\n",
              "      <td>-0.491957</td>\n",
              "      <td>-0.421855</td>\n",
              "      <td>-0.309201</td>\n",
              "      <td>-0.495939</td>\n",
              "      <td>-0.342119</td>\n",
              "      <td>-0.355336</td>\n",
              "      <td>-0.367913</td>\n",
              "      <td>-0.316503</td>\n",
              "      <td>-0.412374</td>\n",
              "      <td>-0.471672</td>\n",
              "      <td>-0.413458</td>\n",
              "      <td>-0.364617</td>\n",
              "      <td>-0.449298</td>\n",
              "      <td>-0.471419</td>\n",
              "      <td>-0.424777</td>\n",
              "      <td>-0.462517</td>\n",
              "      <td>-0.552472</td>\n",
              "      <td>-0.475375</td>\n",
              "      <td>-0.694200</td>\n",
              "      <td>-0.701868</td>\n",
              "      <td>-0.593812</td>\n",
              "      <td>-0.660684</td>\n",
              "      <td>-0.713831</td>\n",
              "      <td>-0.769807</td>\n",
              "      <td>-0.672282</td>\n",
              "      <td>-0.653676</td>\n",
              "      <td>-0.639406</td>\n",
              "      <td>-0.559302</td>\n",
              "      <td>-0.591670</td>\n",
              "      <td>...</td>\n",
              "      <td>1.258179</td>\n",
              "      <td>1.433789</td>\n",
              "      <td>1.700533</td>\n",
              "      <td>1.999043</td>\n",
              "      <td>2.125341</td>\n",
              "      <td>1.993291</td>\n",
              "      <td>1.932246</td>\n",
              "      <td>1.797437</td>\n",
              "      <td>1.522284</td>\n",
              "      <td>1.251168</td>\n",
              "      <td>0.998730</td>\n",
              "      <td>0.483722</td>\n",
              "      <td>0.023132</td>\n",
              "      <td>-0.194914</td>\n",
              "      <td>-0.220917</td>\n",
              "      <td>-0.243737</td>\n",
              "      <td>-0.254695</td>\n",
              "      <td>-0.291136</td>\n",
              "      <td>-0.256490</td>\n",
              "      <td>-0.227874</td>\n",
              "      <td>-0.322423</td>\n",
              "      <td>-0.289286</td>\n",
              "      <td>-0.318170</td>\n",
              "      <td>-0.363654</td>\n",
              "      <td>-0.393456</td>\n",
              "      <td>-0.266419</td>\n",
              "      <td>-0.256823</td>\n",
              "      <td>-0.288694</td>\n",
              "      <td>-0.162338</td>\n",
              "      <td>0.160348</td>\n",
              "      <td>0.792168</td>\n",
              "      <td>0.933541</td>\n",
              "      <td>0.796958</td>\n",
              "      <td>0.578621</td>\n",
              "      <td>0.257740</td>\n",
              "      <td>0.228077</td>\n",
              "      <td>0.123431</td>\n",
              "      <td>0.925286</td>\n",
              "      <td>0.193137</td>\n",
              "      <td>1.0</td>\n",
              "    </tr>\n",
              "    <tr>\n",
              "      <th>1</th>\n",
              "      <td>-1.100878</td>\n",
              "      <td>-3.996840</td>\n",
              "      <td>-4.285843</td>\n",
              "      <td>-4.506579</td>\n",
              "      <td>-4.022377</td>\n",
              "      <td>-3.234368</td>\n",
              "      <td>-1.566126</td>\n",
              "      <td>-0.992258</td>\n",
              "      <td>-0.754680</td>\n",
              "      <td>0.042321</td>\n",
              "      <td>0.148951</td>\n",
              "      <td>0.183527</td>\n",
              "      <td>0.294876</td>\n",
              "      <td>0.190233</td>\n",
              "      <td>0.235575</td>\n",
              "      <td>0.253487</td>\n",
              "      <td>0.221742</td>\n",
              "      <td>0.050233</td>\n",
              "      <td>0.178042</td>\n",
              "      <td>0.139563</td>\n",
              "      <td>0.046794</td>\n",
              "      <td>0.043007</td>\n",
              "      <td>0.106544</td>\n",
              "      <td>0.012654</td>\n",
              "      <td>0.003995</td>\n",
              "      <td>0.045724</td>\n",
              "      <td>-0.045999</td>\n",
              "      <td>-0.072667</td>\n",
              "      <td>-0.071078</td>\n",
              "      <td>-0.153866</td>\n",
              "      <td>-0.227254</td>\n",
              "      <td>-0.249270</td>\n",
              "      <td>-0.253489</td>\n",
              "      <td>-0.332835</td>\n",
              "      <td>-0.264330</td>\n",
              "      <td>-0.345825</td>\n",
              "      <td>-0.310781</td>\n",
              "      <td>-0.334160</td>\n",
              "      <td>-0.306178</td>\n",
              "      <td>-0.174563</td>\n",
              "      <td>...</td>\n",
              "      <td>1.808428</td>\n",
              "      <td>2.164346</td>\n",
              "      <td>2.070747</td>\n",
              "      <td>1.903614</td>\n",
              "      <td>1.764455</td>\n",
              "      <td>1.507769</td>\n",
              "      <td>1.293428</td>\n",
              "      <td>0.894562</td>\n",
              "      <td>0.578016</td>\n",
              "      <td>0.244343</td>\n",
              "      <td>-0.286443</td>\n",
              "      <td>-0.515881</td>\n",
              "      <td>-0.732707</td>\n",
              "      <td>-0.832465</td>\n",
              "      <td>-0.803318</td>\n",
              "      <td>-0.836252</td>\n",
              "      <td>-0.777865</td>\n",
              "      <td>-0.774753</td>\n",
              "      <td>-0.733404</td>\n",
              "      <td>-0.721386</td>\n",
              "      <td>-0.832095</td>\n",
              "      <td>-0.711982</td>\n",
              "      <td>-0.751867</td>\n",
              "      <td>-0.757720</td>\n",
              "      <td>-0.853120</td>\n",
              "      <td>-0.766988</td>\n",
              "      <td>-0.688161</td>\n",
              "      <td>-0.519923</td>\n",
              "      <td>0.039406</td>\n",
              "      <td>0.560327</td>\n",
              "      <td>0.538356</td>\n",
              "      <td>0.656881</td>\n",
              "      <td>0.787490</td>\n",
              "      <td>0.724046</td>\n",
              "      <td>0.555784</td>\n",
              "      <td>0.476333</td>\n",
              "      <td>0.773820</td>\n",
              "      <td>1.119621</td>\n",
              "      <td>-1.436250</td>\n",
              "      <td>1.0</td>\n",
              "    </tr>\n",
              "    <tr>\n",
              "      <th>2</th>\n",
              "      <td>-0.567088</td>\n",
              "      <td>-2.593450</td>\n",
              "      <td>-3.874230</td>\n",
              "      <td>-4.584095</td>\n",
              "      <td>-4.187449</td>\n",
              "      <td>-3.151462</td>\n",
              "      <td>-1.742940</td>\n",
              "      <td>-1.490658</td>\n",
              "      <td>-1.183580</td>\n",
              "      <td>-0.394229</td>\n",
              "      <td>-0.282897</td>\n",
              "      <td>-0.356926</td>\n",
              "      <td>-0.287297</td>\n",
              "      <td>-0.399489</td>\n",
              "      <td>-0.473244</td>\n",
              "      <td>-0.379048</td>\n",
              "      <td>-0.399039</td>\n",
              "      <td>-0.178594</td>\n",
              "      <td>-0.339522</td>\n",
              "      <td>-0.498447</td>\n",
              "      <td>-0.337251</td>\n",
              "      <td>-0.425480</td>\n",
              "      <td>-0.423952</td>\n",
              "      <td>-0.463170</td>\n",
              "      <td>-0.493253</td>\n",
              "      <td>-0.549749</td>\n",
              "      <td>-0.529831</td>\n",
              "      <td>-0.530935</td>\n",
              "      <td>-0.502365</td>\n",
              "      <td>-0.417368</td>\n",
              "      <td>-0.526346</td>\n",
              "      <td>-0.471005</td>\n",
              "      <td>-0.676784</td>\n",
              "      <td>-0.898612</td>\n",
              "      <td>-0.610571</td>\n",
              "      <td>-0.530164</td>\n",
              "      <td>-0.765674</td>\n",
              "      <td>-0.581937</td>\n",
              "      <td>-0.537848</td>\n",
              "      <td>-0.556386</td>\n",
              "      <td>...</td>\n",
              "      <td>1.810988</td>\n",
              "      <td>2.185398</td>\n",
              "      <td>2.262985</td>\n",
              "      <td>2.052920</td>\n",
              "      <td>1.890488</td>\n",
              "      <td>1.793033</td>\n",
              "      <td>1.564784</td>\n",
              "      <td>1.234619</td>\n",
              "      <td>0.900302</td>\n",
              "      <td>0.551957</td>\n",
              "      <td>0.258222</td>\n",
              "      <td>-0.128587</td>\n",
              "      <td>-0.092585</td>\n",
              "      <td>-0.168606</td>\n",
              "      <td>-0.495989</td>\n",
              "      <td>-0.395034</td>\n",
              "      <td>-0.328238</td>\n",
              "      <td>-0.448138</td>\n",
              "      <td>-0.268230</td>\n",
              "      <td>-0.456415</td>\n",
              "      <td>-0.357867</td>\n",
              "      <td>-0.317508</td>\n",
              "      <td>-0.434112</td>\n",
              "      <td>-0.549203</td>\n",
              "      <td>-0.324615</td>\n",
              "      <td>-0.268082</td>\n",
              "      <td>-0.220384</td>\n",
              "      <td>-0.117429</td>\n",
              "      <td>0.614059</td>\n",
              "      <td>1.284825</td>\n",
              "      <td>0.886073</td>\n",
              "      <td>0.531452</td>\n",
              "      <td>0.311377</td>\n",
              "      <td>-0.021919</td>\n",
              "      <td>-0.713683</td>\n",
              "      <td>-0.532197</td>\n",
              "      <td>0.321097</td>\n",
              "      <td>0.904227</td>\n",
              "      <td>-0.421797</td>\n",
              "      <td>1.0</td>\n",
              "    </tr>\n",
              "    <tr>\n",
              "      <th>3</th>\n",
              "      <td>0.490473</td>\n",
              "      <td>-1.914407</td>\n",
              "      <td>-3.616364</td>\n",
              "      <td>-4.318823</td>\n",
              "      <td>-4.268016</td>\n",
              "      <td>-3.881110</td>\n",
              "      <td>-2.993280</td>\n",
              "      <td>-1.671131</td>\n",
              "      <td>-1.333884</td>\n",
              "      <td>-0.965629</td>\n",
              "      <td>-0.183319</td>\n",
              "      <td>-0.101657</td>\n",
              "      <td>-0.273874</td>\n",
              "      <td>-0.127818</td>\n",
              "      <td>-0.195983</td>\n",
              "      <td>-0.213523</td>\n",
              "      <td>-0.176473</td>\n",
              "      <td>-0.156932</td>\n",
              "      <td>-0.149172</td>\n",
              "      <td>-0.181510</td>\n",
              "      <td>-0.180074</td>\n",
              "      <td>-0.246151</td>\n",
              "      <td>-0.274260</td>\n",
              "      <td>-0.140960</td>\n",
              "      <td>-0.277449</td>\n",
              "      <td>-0.382549</td>\n",
              "      <td>-0.311937</td>\n",
              "      <td>-0.360093</td>\n",
              "      <td>-0.405968</td>\n",
              "      <td>-0.571433</td>\n",
              "      <td>-0.524106</td>\n",
              "      <td>-0.537886</td>\n",
              "      <td>-0.606778</td>\n",
              "      <td>-0.661446</td>\n",
              "      <td>-0.683375</td>\n",
              "      <td>-0.746683</td>\n",
              "      <td>-0.635662</td>\n",
              "      <td>-0.625231</td>\n",
              "      <td>-0.540094</td>\n",
              "      <td>-0.674995</td>\n",
              "      <td>...</td>\n",
              "      <td>1.772155</td>\n",
              "      <td>2.000769</td>\n",
              "      <td>1.925003</td>\n",
              "      <td>1.898426</td>\n",
              "      <td>1.720953</td>\n",
              "      <td>1.501711</td>\n",
              "      <td>1.422492</td>\n",
              "      <td>1.023225</td>\n",
              "      <td>0.776341</td>\n",
              "      <td>0.504426</td>\n",
              "      <td>0.056382</td>\n",
              "      <td>-0.233161</td>\n",
              "      <td>-0.406388</td>\n",
              "      <td>-0.327528</td>\n",
              "      <td>-0.460868</td>\n",
              "      <td>-0.402536</td>\n",
              "      <td>-0.345752</td>\n",
              "      <td>-0.354206</td>\n",
              "      <td>-0.439959</td>\n",
              "      <td>-0.425326</td>\n",
              "      <td>-0.439789</td>\n",
              "      <td>-0.451835</td>\n",
              "      <td>-0.395926</td>\n",
              "      <td>-0.448762</td>\n",
              "      <td>-0.391789</td>\n",
              "      <td>-0.376307</td>\n",
              "      <td>-0.461069</td>\n",
              "      <td>-0.253524</td>\n",
              "      <td>0.213006</td>\n",
              "      <td>0.491173</td>\n",
              "      <td>0.350816</td>\n",
              "      <td>0.499111</td>\n",
              "      <td>0.600345</td>\n",
              "      <td>0.842069</td>\n",
              "      <td>0.952074</td>\n",
              "      <td>0.990133</td>\n",
              "      <td>1.086798</td>\n",
              "      <td>1.403011</td>\n",
              "      <td>-0.383564</td>\n",
              "      <td>1.0</td>\n",
              "    </tr>\n",
              "    <tr>\n",
              "      <th>4</th>\n",
              "      <td>0.800232</td>\n",
              "      <td>-0.874252</td>\n",
              "      <td>-2.384761</td>\n",
              "      <td>-3.973292</td>\n",
              "      <td>-4.338224</td>\n",
              "      <td>-3.802422</td>\n",
              "      <td>-2.534510</td>\n",
              "      <td>-1.783423</td>\n",
              "      <td>-1.594450</td>\n",
              "      <td>-0.753199</td>\n",
              "      <td>-0.298107</td>\n",
              "      <td>-0.428928</td>\n",
              "      <td>-0.491351</td>\n",
              "      <td>-0.361304</td>\n",
              "      <td>-0.339296</td>\n",
              "      <td>-0.324952</td>\n",
              "      <td>-0.290113</td>\n",
              "      <td>-0.363051</td>\n",
              "      <td>-0.525684</td>\n",
              "      <td>-0.597423</td>\n",
              "      <td>-0.575523</td>\n",
              "      <td>-0.567503</td>\n",
              "      <td>-0.504555</td>\n",
              "      <td>-0.618406</td>\n",
              "      <td>-0.682814</td>\n",
              "      <td>-0.743849</td>\n",
              "      <td>-0.815588</td>\n",
              "      <td>-0.826902</td>\n",
              "      <td>-0.782374</td>\n",
              "      <td>-0.929462</td>\n",
              "      <td>-0.999672</td>\n",
              "      <td>-1.060969</td>\n",
              "      <td>-1.007877</td>\n",
              "      <td>-1.028735</td>\n",
              "      <td>-1.122629</td>\n",
              "      <td>-1.028650</td>\n",
              "      <td>-1.046515</td>\n",
              "      <td>-1.063372</td>\n",
              "      <td>-1.122423</td>\n",
              "      <td>-0.983242</td>\n",
              "      <td>...</td>\n",
              "      <td>1.155363</td>\n",
              "      <td>1.336254</td>\n",
              "      <td>1.627534</td>\n",
              "      <td>1.717594</td>\n",
              "      <td>1.696487</td>\n",
              "      <td>1.741686</td>\n",
              "      <td>1.674078</td>\n",
              "      <td>1.546928</td>\n",
              "      <td>1.331738</td>\n",
              "      <td>1.110168</td>\n",
              "      <td>0.922210</td>\n",
              "      <td>0.521777</td>\n",
              "      <td>0.154852</td>\n",
              "      <td>-0.123861</td>\n",
              "      <td>-0.202998</td>\n",
              "      <td>-0.247956</td>\n",
              "      <td>-0.219122</td>\n",
              "      <td>-0.214695</td>\n",
              "      <td>-0.319215</td>\n",
              "      <td>-0.198597</td>\n",
              "      <td>-0.151618</td>\n",
              "      <td>-0.129593</td>\n",
              "      <td>-0.074939</td>\n",
              "      <td>-0.196807</td>\n",
              "      <td>-0.174795</td>\n",
              "      <td>-0.208833</td>\n",
              "      <td>-0.210754</td>\n",
              "      <td>-0.100485</td>\n",
              "      <td>0.197446</td>\n",
              "      <td>0.966606</td>\n",
              "      <td>1.148884</td>\n",
              "      <td>0.958434</td>\n",
              "      <td>1.059025</td>\n",
              "      <td>1.371682</td>\n",
              "      <td>1.277392</td>\n",
              "      <td>0.960304</td>\n",
              "      <td>0.971020</td>\n",
              "      <td>1.614392</td>\n",
              "      <td>1.421456</td>\n",
              "      <td>1.0</td>\n",
              "    </tr>\n",
              "  </tbody>\n",
              "</table>\n",
              "<p>5 rows × 141 columns</p>\n",
              "</div>"
            ],
            "text/plain": [
              "        0         1         2         3    ...       137       138       139  140\n",
              "0 -0.112522 -2.827204 -3.773897 -4.349751  ...  0.123431  0.925286  0.193137  1.0\n",
              "1 -1.100878 -3.996840 -4.285843 -4.506579  ...  0.773820  1.119621 -1.436250  1.0\n",
              "2 -0.567088 -2.593450 -3.874230 -4.584095  ...  0.321097  0.904227 -0.421797  1.0\n",
              "3  0.490473 -1.914407 -3.616364 -4.318823  ...  1.086798  1.403011 -0.383564  1.0\n",
              "4  0.800232 -0.874252 -2.384761 -3.973292  ...  0.971020  1.614392  1.421456  1.0\n",
              "\n",
              "[5 rows x 141 columns]"
            ]
          },
          "metadata": {},
          "execution_count": 20
        }
      ]
    },
    {
      "cell_type": "code",
      "metadata": {
        "id": "UmuCPVYKsKKx"
      },
      "source": [
        "# The last element contains the labels\n",
        "labels = raw_data[:, -1]\n",
        "\n",
        "# The other data points are the electrocadriogram data\n",
        "data = raw_data[:, 0:-1]\n",
        "\n",
        "train_data, test_data, train_labels, test_labels = train_test_split(\n",
        "    data, labels, test_size=0.2, random_state=21\n",
        ")"
      ],
      "execution_count": null,
      "outputs": []
    },
    {
      "cell_type": "markdown",
      "metadata": {
        "id": "byK2vP7hsMbz"
      },
      "source": [
        "Normalize the data to `[0,1]`.\n"
      ]
    },
    {
      "cell_type": "code",
      "metadata": {
        "id": "tgMZVWRKsPx6"
      },
      "source": [
        "min_val = tf.reduce_min(train_data)\n",
        "max_val = tf.reduce_max(train_data)\n",
        "\n",
        "train_data = (train_data - min_val) / (max_val - min_val)\n",
        "test_data = (test_data - min_val) / (max_val - min_val)\n",
        "\n",
        "train_data = tf.cast(train_data, tf.float32)\n",
        "test_data = tf.cast(test_data, tf.float32)"
      ],
      "execution_count": null,
      "outputs": []
    },
    {
      "cell_type": "markdown",
      "metadata": {
        "id": "BdSYr2IPsTiz"
      },
      "source": [
        "You will train the autoencoder using only the normal rhythms, which are labeled in this dataset as `1`. Separate the normal rhythms from the abnormal rhythms."
      ]
    },
    {
      "cell_type": "code",
      "metadata": {
        "id": "VvK4NRe8sVhE"
      },
      "source": [
        "train_labels = train_labels.astype(bool)\n",
        "test_labels = test_labels.astype(bool)\n",
        "\n",
        "normal_train_data = train_data[train_labels]\n",
        "normal_test_data = test_data[test_labels]\n",
        "\n",
        "anomalous_train_data = train_data[~train_labels]\n",
        "anomalous_test_data = test_data[~test_labels]"
      ],
      "execution_count": null,
      "outputs": []
    },
    {
      "cell_type": "markdown",
      "metadata": {
        "id": "wVcTBDo-CqFS"
      },
      "source": [
        "Plot a normal ECG. "
      ]
    },
    {
      "cell_type": "code",
      "metadata": {
        "id": "ZTlMIrpmseYe",
        "colab": {
          "base_uri": "https://localhost:8080/",
          "height": 281
        },
        "outputId": "8036768c-38da-4884-9997-42830cbff0d1"
      },
      "source": [
        "plt.grid()\n",
        "plt.plot(np.arange(140), normal_train_data[0])\n",
        "plt.title(\"A Normal ECG\")\n",
        "plt.show()"
      ],
      "execution_count": null,
      "outputs": [
        {
          "output_type": "display_data",
          "data": {
            "image/png": "[encoded data removed]",
            "text/plain": [
              "<Figure size 432x288 with 1 Axes>"
            ]
          },
          "metadata": {
            "needs_background": "light"
          }
        }
      ]
    },
    {
      "cell_type": "markdown",
      "metadata": {
        "id": "QpI9by2ZA0NN"
      },
      "source": [
        "Plot an anomalous ECG."
      ]
    },
    {
      "cell_type": "code",
      "metadata": {
        "id": "zrpXREF2siBr",
        "colab": {
          "base_uri": "https://localhost:8080/",
          "height": 281
        },
        "outputId": "55620947-4d7c-43a9-885d-3f130b94c751"
      },
      "source": [
        "plt.grid()\n",
        "plt.plot(np.arange(140), anomalous_train_data[0])\n",
        "plt.title(\"An Anomalous ECG\")\n",
        "plt.show()"
      ],
      "execution_count": null,
      "outputs": [
        {
          "output_type": "display_data",
          "data": {
            "image/png": "[encoded data removed]",
            "text/plain": [
              "<Figure size 432x288 with 1 Axes>"
            ]
          },
          "metadata": {
            "needs_background": "light"
          }
        }
      ]
    },
    {
      "cell_type": "markdown",
      "metadata": {
        "id": "0DS6QKZJslZz"
      },
      "source": [
        "### Build the model"
      ]
    },
    {
      "cell_type": "code",
      "metadata": {
        "id": "bf6owZQDsp9y"
      },
      "source": [
        "class AnomalyDetector(Model):\n",
        "  def __init__(self):\n",
        "    super(AnomalyDetector, self).__init__()\n",
        "    self.encoder = tf.keras.Sequential([\n",
        "      layers.Dense(32, activation=\"relu\"),\n",
        "      layers.Dense(16, activation=\"relu\"),\n",
        "      layers.Dense(8, activation=\"relu\")])\n",
        "    \n",
        "    self.decoder = tf.keras.Sequential([\n",
        "      layers.Dense(16, activation=\"relu\"),\n",
        "      layers.Dense(32, activation=\"relu\"),\n",
        "      layers.Dense(140, activation=\"sigmoid\")])\n",
        "    \n",
        "  def call(self, x):\n",
        "    encoded = self.encoder(x)\n",
        "    decoded = self.decoder(encoded)\n",
        "    return decoded\n",
        "\n",
        "autoencoder = AnomalyDetector()"
      ],
      "execution_count": null,
      "outputs": []
    },
    {
      "cell_type": "code",
      "metadata": {
        "id": "gwRpBBbg463S"
      },
      "source": [
        "autoencoder.compile(optimizer='adam', loss='mae')"
      ],
      "execution_count": null,
      "outputs": []
    },
    {
      "cell_type": "markdown",
      "metadata": {
        "id": "zuTy60STBEy4"
      },
      "source": [
        "Notice that the autoencoder is trained using only the normal ECGs, but is evaluated using the full test set."
      ]
    },
    {
      "cell_type": "code",
      "metadata": {
        "id": "V6NFSs-jsty2",
        "colab": {
          "base_uri": "https://localhost:8080/"
        },
        "outputId": "332aba0e-2ba5-4197-e2ab-133e849567bb"
      },
      "source": [
        "history = autoencoder.fit(normal_train_data, normal_train_data, \n",
        "          epochs=20, \n",
        "          batch_size=512,\n",
        "          validation_data=(test_data, test_data),\n",
        "          shuffle=True)"
      ],
      "execution_count": null,
      "outputs": [
        {
          "output_type": "stream",
          "text": [
            "Epoch 1/20\n",
            "5/5 [==============================] - 1s 51ms/step - loss: 0.0575 - val_loss: 0.0527\n",
            "Epoch 2/20\n",
            "5/5 [==============================] - 0s 10ms/step - loss: 0.0548 - val_loss: 0.0512\n",
            "Epoch 3/20\n",
            "5/5 [==============================] - 0s 13ms/step - loss: 0.0518 - val_loss: 0.0494\n",
            "Epoch 4/20\n",
            "5/5 [==============================] - 0s 9ms/step - loss: 0.0485 - val_loss: 0.0472\n",
            "Epoch 5/20\n",
            "5/5 [==============================] - 0s 9ms/step - loss: 0.0450 - val_loss: 0.0452\n",
            "Epoch 6/20\n",
            "5/5 [==============================] - 0s 9ms/step - loss: 0.0415 - val_loss: 0.0434\n",
            "Epoch 7/20\n",
            "5/5 [==============================] - 0s 8ms/step - loss: 0.0381 - val_loss: 0.0419\n",
            "Epoch 8/20\n",
            "5/5 [==============================] - 0s 9ms/step - loss: 0.0351 - val_loss: 0.0405\n",
            "Epoch 9/20\n",
            "5/5 [==============================] - 0s 8ms/step - loss: 0.0325 - val_loss: 0.0392\n",
            "Epoch 10/20\n",
            "5/5 [==============================] - 0s 8ms/step - loss: 0.0303 - val_loss: 0.0381\n",
            "Epoch 11/20\n",
            "5/5 [==============================] - 0s 8ms/step - loss: 0.0284 - val_loss: 0.0371\n",
            "Epoch 12/20\n",
            "5/5 [==============================] - 0s 12ms/step - loss: 0.0269 - val_loss: 0.0361\n",
            "Epoch 13/20\n",
            "5/5 [==============================] - 0s 10ms/step - loss: 0.0257 - val_loss: 0.0355\n",
            "Epoch 14/20\n",
            "5/5 [==============================] - 0s 9ms/step - loss: 0.0247 - val_loss: 0.0350\n",
            "Epoch 15/20\n",
            "5/5 [==============================] - 0s 9ms/step - loss: 0.0238 - val_loss: 0.0342\n",
            "Epoch 16/20\n",
            "5/5 [==============================] - 0s 8ms/step - loss: 0.0232 - val_loss: 0.0337\n",
            "Epoch 17/20\n",
            "5/5 [==============================] - 0s 8ms/step - loss: 0.0226 - val_loss: 0.0330\n",
            "Epoch 18/20\n",
            "5/5 [==============================] - 0s 10ms/step - loss: 0.0220 - val_loss: 0.0327\n",
            "Epoch 19/20\n",
            "5/5 [==============================] - 0s 9ms/step - loss: 0.0215 - val_loss: 0.0320\n",
            "Epoch 20/20\n",
            "5/5 [==============================] - 0s 12ms/step - loss: 0.0209 - val_loss: 0.0319\n"
          ],
          "name": "stdout"
        }
      ]
    },
    {
      "cell_type": "code",
      "metadata": {
        "id": "OEexphFwwTQS",
        "colab": {
          "base_uri": "https://localhost:8080/",
          "height": 284
        },
        "outputId": "47d50eb5-d753-4e34-92b4-8b365c726795"
      },
      "source": [
        "plt.plot(history.history[\"loss\"], label=\"Training Loss\")\n",
        "plt.plot(history.history[\"val_loss\"], label=\"Validation Loss\")\n",
        "plt.legend()"
      ],
      "execution_count": null,
      "outputs": [
        {
          "output_type": "execute_result",
          "data": {
            "text/plain": [
              "<matplotlib.legend.Legend at 0x7f95504c2150>"
            ]
          },
          "metadata": {},
          "execution_count": 29
        },
        {
          "output_type": "display_data",
          "data": {
            "image/png": "[encoded data removed]",
            "text/plain": [
              "<Figure size 432x288 with 1 Axes>"
            ]
          },
          "metadata": {
            "needs_background": "light"
          }
        }
      ]
    },
    {
      "cell_type": "markdown",
      "metadata": {
        "id": "ceI5lKv1BT-A"
      },
      "source": [
        "You will soon classify an ECG as anomalous if the reconstruction error is greater than one standard deviation from the normal training examples. First, let's plot a normal ECG from the training set, the reconstruction after it's encoded and decoded by the autoencoder, and the reconstruction error."
      ]
    },
    {
      "cell_type": "code",
      "metadata": {
        "id": "hmsk4DuktxJ2",
        "colab": {
          "base_uri": "https://localhost:8080/",
          "height": 265
        },
        "outputId": "7636c493-2a27-431f-dd5f-0a13d1f85052"
      },
      "source": [
        "encoded_data = autoencoder.encoder(normal_test_data).numpy()\n",
        "decoded_data = autoencoder.decoder(encoded_data).numpy()\n",
        "\n",
        "plt.plot(normal_test_data[0], 'b')\n",
        "plt.plot(decoded_data[0], 'r')\n",
        "plt.fill_between(np.arange(140), decoded_data[0], normal_test_data[0], color='lightcoral')\n",
        "plt.legend(labels=[\"Input\", \"Reconstruction\", \"Error\"])\n",
        "plt.show()"
      ],
      "execution_count": null,
      "outputs": [
        {
          "output_type": "display_data",
          "data": {
            "image/png": "[encoded data removed]",
            "text/plain": [
              "<Figure size 432x288 with 1 Axes>"
            ]
          },
          "metadata": {
            "needs_background": "light"
          }
        }
      ]
    },
    {
      "cell_type": "markdown",
      "metadata": {
        "id": "ocA_q9ufB_aF"
      },
      "source": [
        "Create a similar plot, this time for an anomalous test example."
      ]
    },
    {
      "cell_type": "code",
      "metadata": {
        "id": "vNFTuPhLwTBn",
        "colab": {
          "base_uri": "https://localhost:8080/",
          "height": 265
        },
        "outputId": "a156da57-3e23-48c5-9102-8d87d5931ff9"
      },
      "source": [
        "encoded_data = autoencoder.encoder(anomalous_test_data).numpy()\n",
        "decoded_data = autoencoder.decoder(encoded_data).numpy()\n",
        "\n",
        "plt.plot(anomalous_test_data[0], 'b')\n",
        "plt.plot(decoded_data[0], 'r')\n",
        "plt.fill_between(np.arange(140), decoded_data[0], anomalous_test_data[0], color='lightcoral')\n",
        "plt.legend(labels=[\"Input\", \"Reconstruction\", \"Error\"])\n",
        "plt.show()"
      ],
      "execution_count": null,
      "outputs": [
        {
          "output_type": "display_data",
          "data": {
            "image/png": "[encoded data removed]",
            "text/plain": [
              "<Figure size 432x288 with 1 Axes>"
            ]
          },
          "metadata": {
            "needs_background": "light"
          }
        }
      ]
    },
    {
      "cell_type": "markdown",
      "metadata": {
        "id": "ocimg3MBswdS"
      },
      "source": [
        "### Detect anomalies"
      ]
    },
    {
      "cell_type": "markdown",
      "metadata": {
        "id": "Xnh8wmkDsypN"
      },
      "source": [
        "Detect anomalies by calculating whether the reconstruction loss is greater than a fixed threshold. In this tutorial, you will calculate the mean average error for normal examples from the training set, then classify future examples as anomalous if the reconstruction error is higher than one standard deviation from the training set.\n"
      ]
    },
    {
      "cell_type": "markdown",
      "metadata": {
        "id": "TeuT8uTA5Y_w"
      },
      "source": [
        "Plot the reconstruction error on normal ECGs from the training set"
      ]
    },
    {
      "cell_type": "code",
      "metadata": {
        "id": "N7FltOnHu4-l",
        "colab": {
          "base_uri": "https://localhost:8080/",
          "height": 279
        },
        "outputId": "ffc5d455-1ebc-4761-a4a7-1312de7fbf32"
      },
      "source": [
        "reconstructions = autoencoder.predict(normal_train_data)\n",
        "train_loss = tf.keras.losses.mae(reconstructions, normal_train_data)\n",
        "\n",
        "plt.hist(train_loss[None,:], bins=50)\n",
        "plt.xlabel(\"Train loss\")\n",
        "plt.ylabel(\"No of examples\")\n",
        "plt.show()"
      ],
      "execution_count": null,
      "outputs": [
        {
          "output_type": "display_data",
          "data": {
            "image/png": "[encoded data removed]",
            "text/plain": [
              "<Figure size 432x288 with 1 Axes>"
            ]
          },
          "metadata": {
            "needs_background": "light"
          }
        }
      ]
    },
    {
      "cell_type": "markdown",
      "metadata": {
        "id": "mh-3ChEF5hog"
      },
      "source": [
        "Choose a threshold value that is one standard deviations above the mean."
      ]
    },
    {
      "cell_type": "code",
      "metadata": {
        "id": "82hkl0Chs3P_",
        "colab": {
          "base_uri": "https://localhost:8080/"
        },
        "outputId": "34075f5b-6269-402f-e9c2-8b9738471305"
      },
      "source": [
        "threshold = np.mean(train_loss) + np.std(train_loss)\n",
        "print(\"Threshold: \", threshold)"
      ],
      "execution_count": null,
      "outputs": [
        {
          "output_type": "stream",
          "text": [
            "Threshold:  0.03159646\n"
          ],
          "name": "stdout"
        }
      ]
    },
    {
      "cell_type": "markdown",
      "metadata": {
        "id": "uEGlA1Be50Nj"
      },
      "source": [
        "Note: There are other strategies you could use to select a threshold value above which test examples should be classified as anomalous, the correct approach will depend on your dataset. You can learn more with the links at the end of this tutorial. "
      ]
    },
    {
      "cell_type": "markdown",
      "metadata": {
        "id": "zpLSDAeb51D_"
      },
      "source": [
        "If you examine the reconstruction error for the anomalous examples in the test set, you'll notice most have greater reconstruction error than the threshold. By varing the threshold, you can adjust the [precision](https://developers.google.com/machine-learning/glossary#precision) and [recall](https://developers.google.com/machine-learning/glossary#recall) of your classifier. "
      ]
    },
    {
      "cell_type": "code",
      "metadata": {
        "id": "sKVwjQK955Wy",
        "colab": {
          "base_uri": "https://localhost:8080/",
          "height": 279
        },
        "outputId": "1c04a0f6-c1cf-49c6-ae9e-896bc9d9d473"
      },
      "source": [
        "reconstructions = autoencoder.predict(anomalous_test_data)\n",
        "test_loss = tf.keras.losses.mae(reconstructions, anomalous_test_data)\n",
        "\n",
        "plt.hist(test_loss[None, :], bins=50)\n",
        "plt.xlabel(\"Test loss\")\n",
        "plt.ylabel(\"No of examples\")\n",
        "plt.show()"
      ],
      "execution_count": null,
      "outputs": [
        {
          "output_type": "display_data",
          "data": {
            "image/png": "[encoded data removed]",
            "text/plain": [
              "<Figure size 432x288 with 1 Axes>"
            ]
          },
          "metadata": {
            "needs_background": "light"
          }
        }
      ]
    },
    {
      "cell_type": "markdown",
      "metadata": {
        "id": "PFVk_XGE6AX2"
      },
      "source": [
        "Classify an ECG as an anomaly if the reconstruction error is greater than the threshold."
      ]
    },
    {
      "cell_type": "code",
      "metadata": {
        "id": "mkgJZfhh6CHr"
      },
      "source": [
        "def predict(model, data, threshold):\n",
        "  reconstructions = model(data)\n",
        "  loss = tf.keras.losses.mae(reconstructions, data)\n",
        "  return tf.math.less(loss, threshold)\n",
        "\n",
        "def print_stats(predictions, labels):\n",
        "  print(\"Accuracy = {}\".format(accuracy_score(labels, predictions)))\n",
        "  print(\"Precision = {}\".format(precision_score(labels, predictions)))\n",
        "  print(\"Recall = {}\".format(recall_score(labels, predictions)))"
      ],
      "execution_count": null,
      "outputs": []
    },
    {
      "cell_type": "code",
      "metadata": {
        "id": "sOcfXfXq6FBd",
        "colab": {
          "base_uri": "https://localhost:8080/"
        },
        "outputId": "dc4a4e23-e173-4569-c51f-0dbc334d0e98"
      },
      "source": [
        "preds = predict(autoencoder, test_data, threshold)\n",
        "print_stats(preds, test_labels)"
      ],
      "execution_count": null,
      "outputs": [
        {
          "output_type": "stream",
          "text": [
            "Accuracy = 0.942\n",
            "Precision = 0.9940944881889764\n",
            "Recall = 0.9017857142857143\n"
          ],
          "name": "stdout"
        }
      ]
    },
    {
      "cell_type": "markdown",
      "metadata": {
        "id": "HrJRef8Ln945"
      },
      "source": [
        "## Next steps\n",
        "\n",
        "To learn more about anomaly detection with autoencoders, check out this excellent [interactive example](https://anomagram.fastforwardlabs.com/#/) built with TensorFlow.js by Victor Dibia. For a real-world use case, you can learn how [Airbus Detects Anomalies in ISS Telemetry Data](https://blog.tensorflow.org/2020/04/how-airbus-detects-anomalies-iss-telemetry-data-tfx.html) using TensorFlow. To learn more about the basics, consider reading this [blog post](https://blog.keras.io/building-autoencoders-in-keras.html) by François Chollet. For more details, check out chapter 14 from [Deep Learning](https://www.deeplearningbook.org/) by Ian Goodfellow, Yoshua Bengio, and Aaron Courville.\n"
      ]
    }
  ]
}