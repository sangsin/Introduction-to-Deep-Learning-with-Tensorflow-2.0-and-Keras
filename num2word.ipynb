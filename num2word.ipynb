{
  "nbformat": 4,
  "nbformat_minor": 0,
  "metadata": {
    "colab": {
      "name": "num2word.ipynb",
      "provenance": [],
      "collapsed_sections": [],
      "machine_shape": "hm",
      "authorship_tag": "ABX9TyPFBKeQ/FvB3JHBh2fumUer",
      "include_colab_link": true
    },
    "kernelspec": {
      "name": "python3",
      "display_name": "Python 3"
    },
    "language_info": {
      "name": "python"
    },
    "accelerator": "GPU"
  },
  "cells": [
    {
      "cell_type": "markdown",
      "metadata": {
        "id": "view-in-github",
        "colab_type": "text"
      },
      "source": [
        "<a href=\"https://colab.research.google.com/github/sangsin/Introduction-to-Deep-Learning-with-Tensorflow-2.0-and-Keras/blob/main/num2word.ipynb\" target=\"_parent\"><img src=\"https://colab.research.google.com/assets/colab-badge.svg\" alt=\"Open In Colab\"/></a>"
      ]
    },
    {
      "cell_type": "markdown",
      "metadata": {
        "id": "nA16-guxPg6A"
      },
      "source": [
        "# num2words - Convert numbers to words in multiple languages\n",
        "\n",
        "  - Install\n",
        "      - Method 1\n",
        "        > !pip install num2words\n",
        "      - Method 2 (Git Clone)\n",
        "        >\n",
        "        > !git clone https://github.com/savoirfairelinux/num2words.git\n",
        "        >\n",
        "        > % cd /content/num2words\n",
        "        >\n",
        "        > !python setup.py install"
      ]
    },
    {
      "cell_type": "code",
      "metadata": {
        "colab": {
          "base_uri": "https://localhost:8080/"
        },
        "id": "61v7E_SJPIsz",
        "outputId": "2047d415-9c19-4bdc-df28-4aaf841b07ee"
      },
      "source": [
        "# Install num2words package\n",
        "\n",
        "!pip install num2words"
      ],
      "execution_count": null,
      "outputs": [
        {
          "output_type": "stream",
          "name": "stdout",
          "text": [
            "Requirement already satisfied: num2words in /usr/local/lib/python3.7/dist-packages (0.5.10)\n",
            "Requirement already satisfied: docopt>=0.6.2 in /usr/local/lib/python3.7/dist-packages (from num2words) (0.6.2)\n"
          ]
        }
      ]
    },
    {
      "cell_type": "code",
      "metadata": {
        "id": "pLURrEaLPOGB"
      },
      "source": [
        "from num2words import num2words\n",
        "import re"
      ],
      "execution_count": null,
      "outputs": []
    },
    {
      "cell_type": "code",
      "metadata": {
        "colab": {
          "base_uri": "https://localhost:8080/",
          "height": 36
        },
        "id": "7xmdcdGOP8lS",
        "outputId": "edd9f3e6-1086-439d-e1d5-0f5f5fc89b4a"
      },
      "source": [
        "num2words(25.867, lang='ko')"
      ],
      "execution_count": null,
      "outputs": [
        {
          "output_type": "execute_result",
          "data": {
            "application/vnd.google.colaboratory.intrinsic+json": {
              "type": "string"
            },
            "text/plain": [
              "'이십오 점 팔 육 칠'"
            ]
          },
          "metadata": {},
          "execution_count": 3
        }
      ]
    },
    {
      "cell_type": "code",
      "metadata": {
        "colab": {
          "base_uri": "https://localhost:8080/",
          "height": 36
        },
        "id": "cL9ILH9FQb_j",
        "outputId": "e5d0ea02-7002-421c-a7d5-34e5b18c9974"
      },
      "source": [
        "num2words(3456789023002, lang='ko')"
      ],
      "execution_count": null,
      "outputs": [
        {
          "output_type": "execute_result",
          "data": {
            "application/vnd.google.colaboratory.intrinsic+json": {
              "type": "string"
            },
            "text/plain": [
              "'삼조 사천오백육십칠억 팔천구백이만 삼천이'"
            ]
          },
          "metadata": {},
          "execution_count": 4
        }
      ]
    },
    {
      "cell_type": "code",
      "metadata": {
        "colab": {
          "base_uri": "https://localhost:8080/",
          "height": 36
        },
        "id": "cJ2efLlAfuO0",
        "outputId": "28edcea6-935e-44eb-b08e-6855b1cbd067"
      },
      "source": [
        "num2words(100, lang='ko')"
      ],
      "execution_count": null,
      "outputs": [
        {
          "output_type": "execute_result",
          "data": {
            "application/vnd.google.colaboratory.intrinsic+json": {
              "type": "string"
            },
            "text/plain": [
              "'백'"
            ]
          },
          "metadata": {},
          "execution_count": 5
        }
      ]
    },
    {
      "cell_type": "code",
      "metadata": {
        "colab": {
          "base_uri": "https://localhost:8080/",
          "height": 36
        },
        "id": "1LHE-Rb97xuI",
        "outputId": "10082a90-a83c-4cd9-b659-dfc55d47b125"
      },
      "source": [
        "num2words(127, lang='ko', ordinal=True)"
      ],
      "execution_count": null,
      "outputs": [
        {
          "output_type": "execute_result",
          "data": {
            "application/vnd.google.colaboratory.intrinsic+json": {
              "type": "string"
            },
            "text/plain": [
              "'백 스물일곱 번째'"
            ]
          },
          "metadata": {},
          "execution_count": 6
        }
      ]
    },
    {
      "cell_type": "code",
      "metadata": {
        "colab": {
          "base_uri": "https://localhost:8080/",
          "height": 36
        },
        "id": "szN3YcYVQ7mG",
        "outputId": "3b1d3a49-b783-42b0-c693-35ddbe040b89"
      },
      "source": [
        "num2words(99, lang='ko', ordinal=True)"
      ],
      "execution_count": null,
      "outputs": [
        {
          "output_type": "execute_result",
          "data": {
            "application/vnd.google.colaboratory.intrinsic+json": {
              "type": "string"
            },
            "text/plain": [
              "'아흔아홉 번째'"
            ]
          },
          "metadata": {},
          "execution_count": 7
        }
      ]
    },
    {
      "cell_type": "code",
      "metadata": {
        "colab": {
          "base_uri": "https://localhost:8080/"
        },
        "id": "Iqx9JrQXSE89",
        "outputId": "e45d1cea-9e60-4348-ad50-00f3e4f6a10a"
      },
      "source": [
        "text = \"Text with several ordinals such as 42nd, 31st, and 5th as well as plain numbers such as 1, 2, 3.\"\n",
        "numbers = re.findall('(\\d+)[st|nd|rd|th]', text)\n",
        "\n",
        "for n in numbers:\n",
        "     ordinalAsString = num2words(n, ordinal=True)\n",
        "     print( ordinalAsString ) "
      ],
      "execution_count": null,
      "outputs": [
        {
          "output_type": "stream",
          "name": "stdout",
          "text": [
            "forty-second\n",
            "thirty-first\n",
            "fifth\n"
          ]
        }
      ]
    },
    {
      "cell_type": "code",
      "metadata": {
        "id": "OglnILZN8AV-",
        "colab": {
          "base_uri": "https://localhost:8080/",
          "height": 36
        },
        "outputId": "40766519-4905-4d0f-d47c-d74f638033f6"
      },
      "source": [
        "def replace_ordinal_numbers(text):\n",
        "    re_results = re.findall('(\\d+(st|nd|rd|th))', text)\n",
        "    for enitre_result, suffix in re_results:\n",
        "        num = int(enitre_result[:-len(suffix)])\n",
        "        text = text.replace(enitre_result, num2words(num, ordinal=True))\n",
        "    return text\n",
        "\n",
        "\n",
        "def replace_numbers(text):\n",
        "    re_results = re.findall('\\d+', text)\n",
        "    for term in re_results:\n",
        "        num = int(term)\n",
        "        text = text.replace(term, num2words(num))\n",
        "    return text\n",
        "\n",
        "\n",
        "def convert_numbers(text):\n",
        "    text = replace_ordinal_numbers(text)\n",
        "    text = replace_numbers(text)\n",
        "    return text\n",
        "\n",
        "text = \"Text with several ordinals such as 42nd, 31st, and 5th as well as plain numbers such as 1, 2, 3.\"\n",
        "text = replace_ordinal_numbers(text)\n",
        "text"
      ],
      "execution_count": null,
      "outputs": [
        {
          "output_type": "execute_result",
          "data": {
            "application/vnd.google.colaboratory.intrinsic+json": {
              "type": "string"
            },
            "text/plain": [
              "'Text with several ordinals such as forty-second, thirty-first, and fifth as well as plain numbers such as 1, 2, 3.'"
            ]
          },
          "metadata": {},
          "execution_count": 9
        }
      ]
    },
    {
      "cell_type": "markdown",
      "metadata": {
        "id": "zdz1BGD-SMA_"
      },
      "source": [
        "### 한국어 서수 관련 코드\n",
        "\n",
        "  - 아래 단위 혹은 접사 앞의 숫자는 서수로 읽어야 한다.\n",
        "    - 명|마디|마리|군데|차례|가지|번째|시간|발|대|개|곳|장|냥|푼|돈|말|되|채|척|톨|통|필|벌|통|대|알|살|판\n"
      ]
    },
    {
      "cell_type": "code",
      "metadata": {
        "id": "Ij5fGG8G8XbQ"
      },
      "source": [
        "ordinal_ko_pattern=  '(\\d+(명|마디|마리|군데|차례|가지|번째|시간|발|대|개|곳|장|냥|푼|돈|말|되|채|척|톨|통|필|벌|통|대|알|살|판))'\n",
        "ordinal_en_pattern= '(\\d+)[st|nd|rd|th]'\n",
        "int_pattern = re.compile(r'[0-9]+')\n",
        "float_pattern = re.compile(r'[0-9]+[,\\.][0-9]+')\n",
        "ordinal_ko_pattern_compile = re.compile(ordinal_ko_pattern)\n",
        "\n",
        "def replace_ko_ordinal_numbers(text):\n",
        "    re_results = re.findall(ordinal_ko_pattern_compile, text)\n",
        "    m = len(re_results)\n",
        "    print(re_results)\n",
        "    print(len(re_results))\n",
        "\n",
        "    for i in range(m):\n",
        "        matched, suffix = re_results[i]\n",
        "        num = int(matched[:-len(suffix)])\n",
        "        print('서수: ',num)\n",
        "        print('서수 접사: ',suffix)\n",
        "        print('서수파트: ',matched)\n",
        "        \n",
        "        new_num = num2words(num, ordinal=True, lang='ko') # .replace('번째','',1)\n",
        "\n",
        "        # 숫자가 20 일때 처리: '스물' -> '스무'\n",
        "        if(num==20):  # if n=20, '스물' -> '스무'\n",
        "          new_num='스무'      \n",
        "\n",
        "        # 숫자가 1일때 처리: 경우에 따라 '첫' 또는 '한'으로 변환\n",
        "        if num==1:\n",
        "          if suffix == '번째': \n",
        "            new_num='첫'\n",
        "          else:\n",
        "            new_num='한'\n",
        "          \n",
        "        print('New 서수 파트: ',new_num)\n",
        "\n",
        "        print(text)\n",
        "        text = text.replace(matched,new_num.replace('번째','')+suffix,1)\n",
        "\n",
        "        print(text)\n",
        "    return text\n",
        "\n",
        "\n",
        "def replace_ko_numbers(text):\n",
        "    # 소수 변환\n",
        "    re_results = re.findall(float_pattern, text)\n",
        "    for term in re_results:\n",
        "        num = term\n",
        "        print('기수: ',num)\n",
        "        text = text.replace(term, num2words(num, lang='ko').replace('점',\"쩜\"),1)\n",
        "    # 정수 변환\n",
        "    re_results = re.findall(int_pattern, text)\n",
        "    for term in re_results:\n",
        "        num = term\n",
        "        print('기수: ',num)\n",
        "        text = text.replace(term, num2words(num, lang='ko'),1)\n",
        "\n",
        "    return text\n",
        "\n",
        "\n",
        "def convert_ko_numbers(text):\n",
        "    text = replace_ko_ordinal_numbers(text)\n",
        "    text = replace_ko_numbers(text)\n",
        "    return text\n"
      ],
      "execution_count": null,
      "outputs": []
    },
    {
      "cell_type": "code",
      "metadata": {
        "colab": {
          "base_uri": "https://localhost:8080/"
        },
        "id": "U5wu0SCAQhRW",
        "outputId": "948cc82b-5a72-4436-86cd-86858c8382ac"
      },
      "source": [
        "text = \"친구 72명을 초대했다. \"\n",
        "text = convert_ko_numbers(text)\n",
        "print(text)"
      ],
      "execution_count": null,
      "outputs": [
        {
          "output_type": "stream",
          "name": "stdout",
          "text": [
            "[('72명', '명')]\n",
            "1\n",
            "서수:  72\n",
            "서수 접사:  명\n",
            "서수파트:  72명\n",
            "New 서수 파트:  일흔두 번째\n",
            "친구 72명을 초대했다. \n",
            "친구 일흔두 명을 초대했다. \n",
            "친구 일흔두 명을 초대했다. \n"
          ]
        }
      ]
    },
    {
      "cell_type": "code",
      "metadata": {
        "colab": {
          "base_uri": "https://localhost:8080/"
        },
        "id": "guEIDUXLUVB_",
        "outputId": "5daaa691-b322-43da-c4a7-8a3366127ca3"
      },
      "source": [
        "text = '친구들이 생일 선물로 금 2돈을 주었다.'\n",
        "print(convert_ko_numbers(text))"
      ],
      "execution_count": null,
      "outputs": [
        {
          "output_type": "stream",
          "name": "stdout",
          "text": [
            "[('2돈', '돈')]\n",
            "1\n",
            "서수:  2\n",
            "서수 접사:  돈\n",
            "서수파트:  2돈\n",
            "New 서수 파트:  두 번째\n",
            "친구들이 생일 선물로 금 2돈을 주었다.\n",
            "친구들이 생일 선물로 금 두 돈을 주었다.\n",
            "친구들이 생일 선물로 금 두 돈을 주었다.\n"
          ]
        }
      ]
    },
    {
      "cell_type": "code",
      "metadata": {
        "colab": {
          "base_uri": "https://localhost:8080/"
        },
        "id": "pDgyIqtgUYI-",
        "outputId": "5a4d8a12-aab5-4d77-e623-ee1049201134"
      },
      "source": [
        "text = '오늘은 나의 25번째 생일날이다.'\n",
        "print(convert_ko_numbers(text))"
      ],
      "execution_count": null,
      "outputs": [
        {
          "output_type": "stream",
          "name": "stdout",
          "text": [
            "[('25번째', '번째')]\n",
            "1\n",
            "서수:  25\n",
            "서수 접사:  번째\n",
            "서수파트:  25번째\n",
            "New 서수 파트:  스물다섯 번째\n",
            "오늘은 나의 25번째 생일날이다.\n",
            "오늘은 나의 스물다섯 번째 생일날이다.\n",
            "오늘은 나의 스물다섯 번째 생일날이다.\n"
          ]
        }
      ]
    },
    {
      "cell_type": "code",
      "metadata": {
        "colab": {
          "base_uri": "https://localhost:8080/"
        },
        "id": "KIoNv35MXeDF",
        "outputId": "a7cf7f23-a7fd-46b8-f6ea-3a15706a06a7"
      },
      "source": [
        "text = '오늘은 나의 20번째 생일날이다.'\n",
        "print(convert_ko_numbers(text))"
      ],
      "execution_count": null,
      "outputs": [
        {
          "output_type": "stream",
          "name": "stdout",
          "text": [
            "[('20번째', '번째')]\n",
            "1\n",
            "서수:  20\n",
            "서수 접사:  번째\n",
            "서수파트:  20번째\n",
            "New 서수 파트:  스무\n",
            "오늘은 나의 20번째 생일날이다.\n",
            "오늘은 나의 스무번째 생일날이다.\n",
            "오늘은 나의 스무번째 생일날이다.\n"
          ]
        }
      ]
    },
    {
      "cell_type": "code",
      "metadata": {
        "colab": {
          "base_uri": "https://localhost:8080/"
        },
        "id": "O7lDnVuqEfUS",
        "outputId": "4d046e5a-57c2-4f88-cb71-e2cd307476ca"
      },
      "source": [
        "text = '오늘은 나의 81번째 생일날이다.'\n",
        "print(convert_ko_numbers(text))"
      ],
      "execution_count": null,
      "outputs": [
        {
          "output_type": "stream",
          "name": "stdout",
          "text": [
            "[('81번째', '번째')]\n",
            "1\n",
            "서수:  81\n",
            "서수 접사:  번째\n",
            "서수파트:  81번째\n",
            "New 서수 파트:  여든한 번째\n",
            "오늘은 나의 81번째 생일날이다.\n",
            "오늘은 나의 여든한 번째 생일날이다.\n",
            "오늘은 나의 여든한 번째 생일날이다.\n"
          ]
        }
      ]
    },
    {
      "cell_type": "code",
      "metadata": {
        "colab": {
          "base_uri": "https://localhost:8080/"
        },
        "id": "qonecv2UXto-",
        "outputId": "29624d67-ba21-44b2-ab73-273531196438"
      },
      "source": [
        "text = '오늘은 나의 25번째 생일날이다. 친구 72명을 초대했다.친구들이 생일 선물로 현금 10만원과 금 2돈을 주었다.'\n",
        "print(convert_ko_numbers(text))"
      ],
      "execution_count": null,
      "outputs": [
        {
          "output_type": "stream",
          "name": "stdout",
          "text": [
            "[('25번째', '번째'), ('72명', '명'), ('2돈', '돈')]\n",
            "3\n",
            "서수:  25\n",
            "서수 접사:  번째\n",
            "서수파트:  25번째\n",
            "New 서수 파트:  스물다섯 번째\n",
            "오늘은 나의 25번째 생일날이다. 친구 72명을 초대했다.친구들이 생일 선물로 현금 10만원과 금 2돈을 주었다.\n",
            "오늘은 나의 스물다섯 번째 생일날이다. 친구 72명을 초대했다.친구들이 생일 선물로 현금 10만원과 금 2돈을 주었다.\n",
            "서수:  72\n",
            "서수 접사:  명\n",
            "서수파트:  72명\n",
            "New 서수 파트:  일흔두 번째\n",
            "오늘은 나의 스물다섯 번째 생일날이다. 친구 72명을 초대했다.친구들이 생일 선물로 현금 10만원과 금 2돈을 주었다.\n",
            "오늘은 나의 스물다섯 번째 생일날이다. 친구 일흔두 명을 초대했다.친구들이 생일 선물로 현금 10만원과 금 2돈을 주었다.\n",
            "서수:  2\n",
            "서수 접사:  돈\n",
            "서수파트:  2돈\n",
            "New 서수 파트:  두 번째\n",
            "오늘은 나의 스물다섯 번째 생일날이다. 친구 일흔두 명을 초대했다.친구들이 생일 선물로 현금 10만원과 금 2돈을 주었다.\n",
            "오늘은 나의 스물다섯 번째 생일날이다. 친구 일흔두 명을 초대했다.친구들이 생일 선물로 현금 10만원과 금 두 돈을 주었다.\n",
            "기수:  10\n",
            "오늘은 나의 스물다섯 번째 생일날이다. 친구 일흔두 명을 초대했다.친구들이 생일 선물로 현금 십만원과 금 두 돈을 주었다.\n"
          ]
        }
      ]
    },
    {
      "cell_type": "code",
      "metadata": {
        "colab": {
          "base_uri": "https://localhost:8080/"
        },
        "id": "ijJNhtvOYcr6",
        "outputId": "3c891496-3052-4820-ff0d-4614857683d2"
      },
      "source": [
        "text = '5만원권 10장이면 50만원이다.'\n",
        "print(convert_ko_numbers(text))"
      ],
      "execution_count": null,
      "outputs": [
        {
          "output_type": "stream",
          "name": "stdout",
          "text": [
            "[('10장', '장')]\n",
            "1\n",
            "서수:  10\n",
            "서수 접사:  장\n",
            "서수파트:  10장\n",
            "New 서수 파트:  열 번째\n",
            "5만원권 10장이면 50만원이다.\n",
            "5만원권 열 장이면 50만원이다.\n",
            "기수:  5\n",
            "기수:  50\n",
            "오만원권 열 장이면 오십만원이다.\n"
          ]
        }
      ]
    },
    {
      "cell_type": "code",
      "metadata": {
        "colab": {
          "base_uri": "https://localhost:8080/"
        },
        "id": "EmI9Do1zZ-TQ",
        "outputId": "3b678081-10df-45fa-df4f-742fc0b4ecaa"
      },
      "source": [
        "text = '사격 시험은 10발을 쏘도록 되어 있고 명중 1발에 10점으로 10발을 모두 맞추면 100점이다. 나는 1번째로 쏘도록 배정이 되었다.'\n",
        "print(convert_ko_numbers(text))"
      ],
      "execution_count": null,
      "outputs": [
        {
          "output_type": "stream",
          "name": "stdout",
          "text": [
            "[('10발', '발'), ('1발', '발'), ('10발', '발'), ('1번째', '번째')]\n",
            "4\n",
            "서수:  10\n",
            "서수 접사:  발\n",
            "서수파트:  10발\n",
            "New 서수 파트:  열 번째\n",
            "사격 시험은 10발을 쏘도록 되어 있고 명중 1발에 10점으로 10발을 모두 맞추면 100점이다. 나는 1번째로 쏘도록 배정이 되었다.\n",
            "사격 시험은 열 발을 쏘도록 되어 있고 명중 1발에 10점으로 10발을 모두 맞추면 100점이다. 나는 1번째로 쏘도록 배정이 되었다.\n",
            "서수:  1\n",
            "서수 접사:  발\n",
            "서수파트:  1발\n",
            "New 서수 파트:  한\n",
            "사격 시험은 열 발을 쏘도록 되어 있고 명중 1발에 10점으로 10발을 모두 맞추면 100점이다. 나는 1번째로 쏘도록 배정이 되었다.\n",
            "사격 시험은 열 발을 쏘도록 되어 있고 명중 한발에 10점으로 10발을 모두 맞추면 100점이다. 나는 1번째로 쏘도록 배정이 되었다.\n",
            "서수:  10\n",
            "서수 접사:  발\n",
            "서수파트:  10발\n",
            "New 서수 파트:  열 번째\n",
            "사격 시험은 열 발을 쏘도록 되어 있고 명중 한발에 10점으로 10발을 모두 맞추면 100점이다. 나는 1번째로 쏘도록 배정이 되었다.\n",
            "사격 시험은 열 발을 쏘도록 되어 있고 명중 한발에 10점으로 열 발을 모두 맞추면 100점이다. 나는 1번째로 쏘도록 배정이 되었다.\n",
            "서수:  1\n",
            "서수 접사:  번째\n",
            "서수파트:  1번째\n",
            "New 서수 파트:  첫\n",
            "사격 시험은 열 발을 쏘도록 되어 있고 명중 한발에 10점으로 열 발을 모두 맞추면 100점이다. 나는 1번째로 쏘도록 배정이 되었다.\n",
            "사격 시험은 열 발을 쏘도록 되어 있고 명중 한발에 10점으로 열 발을 모두 맞추면 100점이다. 나는 첫번째로 쏘도록 배정이 되었다.\n",
            "기수:  10\n",
            "기수:  100\n",
            "사격 시험은 열 발을 쏘도록 되어 있고 명중 한발에 십점으로 열 발을 모두 맞추면 백점이다. 나는 첫번째로 쏘도록 배정이 되었다.\n"
          ]
        }
      ]
    },
    {
      "cell_type": "code",
      "metadata": {
        "colab": {
          "base_uri": "https://localhost:8080/"
        },
        "id": "CpHdVROXaX0_",
        "outputId": "e2ddd895-4599-4345-bb9d-f8f45d9555de"
      },
      "source": [
        "text = '100점이 만점이다.'\n",
        "print(convert_ko_numbers(text))"
      ],
      "execution_count": null,
      "outputs": [
        {
          "output_type": "stream",
          "name": "stdout",
          "text": [
            "[]\n",
            "0\n",
            "기수:  100\n",
            "백점이 만점이다.\n"
          ]
        }
      ]
    },
    {
      "cell_type": "code",
      "metadata": {
        "colab": {
          "base_uri": "https://localhost:8080/"
        },
        "id": "Cexsjz6IaljM",
        "outputId": "59459ade-7f96-475b-8896-235b49a6f5ef"
      },
      "source": [
        "text=' 2016년 4.2%, 2017년 5.7%, 2018년 9.5%로 계속 높아지자 2019년 세수 추계 모형을 개선하고 오차율을 -0.5%까지 줄였다.'\n",
        "print(convert_ko_numbers(text))"
      ],
      "execution_count": null,
      "outputs": [
        {
          "output_type": "stream",
          "name": "stdout",
          "text": [
            "[]\n",
            "0\n",
            "기수:  4.2\n",
            "기수:  5.7\n",
            "기수:  9.5\n",
            "기수:  0.5\n",
            "기수:  2016\n",
            "기수:  2017\n",
            "기수:  2018\n",
            "기수:  2019\n",
            " 이천십육년 사 쩜 이%, 이천십칠년 오 쩜 칠%, 이천십팔년 구 쩜 오%로 계속 높아지자 이천십구년 세수 추계 모형을 개선하고 오차율을 -영 쩜 오%까지 줄였다.\n"
          ]
        }
      ]
    },
    {
      "cell_type": "code",
      "metadata": {
        "id": "35VODv9aU7pA"
      },
      "source": [
        ""
      ],
      "execution_count": null,
      "outputs": []
    }
  ]
}