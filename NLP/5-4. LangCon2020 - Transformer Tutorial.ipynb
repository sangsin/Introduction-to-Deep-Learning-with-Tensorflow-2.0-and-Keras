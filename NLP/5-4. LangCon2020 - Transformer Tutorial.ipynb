{
  "nbformat": 4,
  "nbformat_minor": 0,
  "metadata": {
    "colab": {
      "name": "[LangCon2020]_Transformer.ipynb",
      "provenance": [],
      "collapsed_sections": []
    },
    "kernelspec": {
      "name": "python3",
      "display_name": "Python 3"
    },
    "accelerator": "GPU",
    "widgets": {
      "application/vnd.jupyter.widget-state+json": {
        "a5944231ff4d4e9aa007011b15986fb9": {
          "model_module": "@jupyter-widgets/controls",
          "model_name": "HBoxModel",
          "model_module_version": "1.5.0",
          "state": {
            "_view_name": "HBoxView",
            "_dom_classes": [],
            "_model_name": "HBoxModel",
            "_view_module": "@jupyter-widgets/controls",
            "_model_module_version": "1.5.0",
            "_view_count": null,
            "_view_module_version": "1.5.0",
            "box_style": "",
            "layout": "IPY_MODEL_9b78b1c47e6f402784fb3af0a28b241c",
            "_model_module": "@jupyter-widgets/controls",
            "children": [
              "IPY_MODEL_235218b5d8ec4b278a2daeac44ac7007",
              "IPY_MODEL_f996336030ac4054a0e83b1568fecc06",
              "IPY_MODEL_9f7a86c1063b4daeb3d75cf04da86676"
            ]
          }
        },
        "9b78b1c47e6f402784fb3af0a28b241c": {
          "model_module": "@jupyter-widgets/base",
          "model_name": "LayoutModel",
          "model_module_version": "1.2.0",
          "state": {
            "_view_name": "LayoutView",
            "grid_template_rows": null,
            "right": null,
            "justify_content": null,
            "_view_module": "@jupyter-widgets/base",
            "overflow": null,
            "_model_module_version": "1.2.0",
            "_view_count": null,
            "flex_flow": null,
            "width": null,
            "min_width": null,
            "border": null,
            "align_items": null,
            "bottom": null,
            "_model_module": "@jupyter-widgets/base",
            "top": null,
            "grid_column": null,
            "overflow_y": null,
            "overflow_x": null,
            "grid_auto_flow": null,
            "grid_area": null,
            "grid_template_columns": null,
            "flex": null,
            "_model_name": "LayoutModel",
            "justify_items": null,
            "grid_row": null,
            "max_height": null,
            "align_content": null,
            "visibility": null,
            "align_self": null,
            "height": null,
            "min_height": null,
            "padding": null,
            "grid_auto_rows": null,
            "grid_gap": null,
            "max_width": null,
            "order": null,
            "_view_module_version": "1.2.0",
            "grid_template_areas": null,
            "object_position": null,
            "object_fit": null,
            "grid_auto_columns": null,
            "margin": null,
            "display": null,
            "left": null
          }
        },
        "235218b5d8ec4b278a2daeac44ac7007": {
          "model_module": "@jupyter-widgets/controls",
          "model_name": "HTMLModel",
          "model_module_version": "1.5.0",
          "state": {
            "_view_name": "HTMLView",
            "style": "IPY_MODEL_cb5b99df024143c8917f52f86289deb2",
            "_dom_classes": [],
            "description": "",
            "_model_name": "HTMLModel",
            "placeholder": "​",
            "_view_module": "@jupyter-widgets/controls",
            "_model_module_version": "1.5.0",
            "value": "100%",
            "_view_count": null,
            "_view_module_version": "1.5.0",
            "description_tooltip": null,
            "_model_module": "@jupyter-widgets/controls",
            "layout": "IPY_MODEL_a911251610ce4156a1e193ba4a03e148"
          }
        },
        "f996336030ac4054a0e83b1568fecc06": {
          "model_module": "@jupyter-widgets/controls",
          "model_name": "FloatProgressModel",
          "model_module_version": "1.5.0",
          "state": {
            "_view_name": "ProgressView",
            "style": "IPY_MODEL_7fdf5eeeac294c2fbf177e130e702fb4",
            "_dom_classes": [],
            "description": "",
            "_model_name": "FloatProgressModel",
            "bar_style": "success",
            "max": 11823,
            "_view_module": "@jupyter-widgets/controls",
            "_model_module_version": "1.5.0",
            "value": 11823,
            "_view_count": null,
            "_view_module_version": "1.5.0",
            "orientation": "horizontal",
            "min": 0,
            "description_tooltip": null,
            "_model_module": "@jupyter-widgets/controls",
            "layout": "IPY_MODEL_bba39251a34548ddb7079c2c539a991a"
          }
        },
        "9f7a86c1063b4daeb3d75cf04da86676": {
          "model_module": "@jupyter-widgets/controls",
          "model_name": "HTMLModel",
          "model_module_version": "1.5.0",
          "state": {
            "_view_name": "HTMLView",
            "style": "IPY_MODEL_dcbbae445ec54cb2a19d23b9c8b6af0c",
            "_dom_classes": [],
            "description": "",
            "_model_name": "HTMLModel",
            "placeholder": "​",
            "_view_module": "@jupyter-widgets/controls",
            "_model_module_version": "1.5.0",
            "value": " 11823/11823 [00:02&lt;00:00, 4669.42it/s]",
            "_view_count": null,
            "_view_module_version": "1.5.0",
            "description_tooltip": null,
            "_model_module": "@jupyter-widgets/controls",
            "layout": "IPY_MODEL_424889892bca4386b05304c3738effce"
          }
        },
        "cb5b99df024143c8917f52f86289deb2": {
          "model_module": "@jupyter-widgets/controls",
          "model_name": "DescriptionStyleModel",
          "model_module_version": "1.5.0",
          "state": {
            "_view_name": "StyleView",
            "_model_name": "DescriptionStyleModel",
            "description_width": "",
            "_view_module": "@jupyter-widgets/base",
            "_model_module_version": "1.5.0",
            "_view_count": null,
            "_view_module_version": "1.2.0",
            "_model_module": "@jupyter-widgets/controls"
          }
        },
        "a911251610ce4156a1e193ba4a03e148": {
          "model_module": "@jupyter-widgets/base",
          "model_name": "LayoutModel",
          "model_module_version": "1.2.0",
          "state": {
            "_view_name": "LayoutView",
            "grid_template_rows": null,
            "right": null,
            "justify_content": null,
            "_view_module": "@jupyter-widgets/base",
            "overflow": null,
            "_model_module_version": "1.2.0",
            "_view_count": null,
            "flex_flow": null,
            "width": null,
            "min_width": null,
            "border": null,
            "align_items": null,
            "bottom": null,
            "_model_module": "@jupyter-widgets/base",
            "top": null,
            "grid_column": null,
            "overflow_y": null,
            "overflow_x": null,
            "grid_auto_flow": null,
            "grid_area": null,
            "grid_template_columns": null,
            "flex": null,
            "_model_name": "LayoutModel",
            "justify_items": null,
            "grid_row": null,
            "max_height": null,
            "align_content": null,
            "visibility": null,
            "align_self": null,
            "height": null,
            "min_height": null,
            "padding": null,
            "grid_auto_rows": null,
            "grid_gap": null,
            "max_width": null,
            "order": null,
            "_view_module_version": "1.2.0",
            "grid_template_areas": null,
            "object_position": null,
            "object_fit": null,
            "grid_auto_columns": null,
            "margin": null,
            "display": null,
            "left": null
          }
        },
        "7fdf5eeeac294c2fbf177e130e702fb4": {
          "model_module": "@jupyter-widgets/controls",
          "model_name": "ProgressStyleModel",
          "model_module_version": "1.5.0",
          "state": {
            "_view_name": "StyleView",
            "_model_name": "ProgressStyleModel",
            "description_width": "",
            "_view_module": "@jupyter-widgets/base",
            "_model_module_version": "1.5.0",
            "_view_count": null,
            "_view_module_version": "1.2.0",
            "bar_color": null,
            "_model_module": "@jupyter-widgets/controls"
          }
        },
        "bba39251a34548ddb7079c2c539a991a": {
          "model_module": "@jupyter-widgets/base",
          "model_name": "LayoutModel",
          "model_module_version": "1.2.0",
          "state": {
            "_view_name": "LayoutView",
            "grid_template_rows": null,
            "right": null,
            "justify_content": null,
            "_view_module": "@jupyter-widgets/base",
            "overflow": null,
            "_model_module_version": "1.2.0",
            "_view_count": null,
            "flex_flow": null,
            "width": null,
            "min_width": null,
            "border": null,
            "align_items": null,
            "bottom": null,
            "_model_module": "@jupyter-widgets/base",
            "top": null,
            "grid_column": null,
            "overflow_y": null,
            "overflow_x": null,
            "grid_auto_flow": null,
            "grid_area": null,
            "grid_template_columns": null,
            "flex": null,
            "_model_name": "LayoutModel",
            "justify_items": null,
            "grid_row": null,
            "max_height": null,
            "align_content": null,
            "visibility": null,
            "align_self": null,
            "height": null,
            "min_height": null,
            "padding": null,
            "grid_auto_rows": null,
            "grid_gap": null,
            "max_width": null,
            "order": null,
            "_view_module_version": "1.2.0",
            "grid_template_areas": null,
            "object_position": null,
            "object_fit": null,
            "grid_auto_columns": null,
            "margin": null,
            "display": null,
            "left": null
          }
        },
        "dcbbae445ec54cb2a19d23b9c8b6af0c": {
          "model_module": "@jupyter-widgets/controls",
          "model_name": "DescriptionStyleModel",
          "model_module_version": "1.5.0",
          "state": {
            "_view_name": "StyleView",
            "_model_name": "DescriptionStyleModel",
            "description_width": "",
            "_view_module": "@jupyter-widgets/base",
            "_model_module_version": "1.5.0",
            "_view_count": null,
            "_view_module_version": "1.2.0",
            "_model_module": "@jupyter-widgets/controls"
          }
        },
        "424889892bca4386b05304c3738effce": {
          "model_module": "@jupyter-widgets/base",
          "model_name": "LayoutModel",
          "model_module_version": "1.2.0",
          "state": {
            "_view_name": "LayoutView",
            "grid_template_rows": null,
            "right": null,
            "justify_content": null,
            "_view_module": "@jupyter-widgets/base",
            "overflow": null,
            "_model_module_version": "1.2.0",
            "_view_count": null,
            "flex_flow": null,
            "width": null,
            "min_width": null,
            "border": null,
            "align_items": null,
            "bottom": null,
            "_model_module": "@jupyter-widgets/base",
            "top": null,
            "grid_column": null,
            "overflow_y": null,
            "overflow_x": null,
            "grid_auto_flow": null,
            "grid_area": null,
            "grid_template_columns": null,
            "flex": null,
            "_model_name": "LayoutModel",
            "justify_items": null,
            "grid_row": null,
            "max_height": null,
            "align_content": null,
            "visibility": null,
            "align_self": null,
            "height": null,
            "min_height": null,
            "padding": null,
            "grid_auto_rows": null,
            "grid_gap": null,
            "max_width": null,
            "order": null,
            "_view_module_version": "1.2.0",
            "grid_template_areas": null,
            "object_position": null,
            "object_fit": null,
            "grid_auto_columns": null,
            "margin": null,
            "display": null,
            "left": null
          }
        }
      }
    }
  },
  "cells": [
    {
      "cell_type": "markdown",
      "metadata": {
        "id": "dg6iIMEJRVF5"
      },
      "source": [
        "# 환경"
      ]
    },
    {
      "cell_type": "code",
      "metadata": {
        "id": "LdVt9pWh8eYV",
        "colab": {
          "base_uri": "https://localhost:8080/"
        },
        "outputId": "de7e7a6c-ef2f-40cd-c149-124ff7d5823d"
      },
      "source": [
        "# vocab 사용을 위한 sentencepiece 설치\n",
        "!pip install sentencepiece"
      ],
      "execution_count": 1,
      "outputs": [
        {
          "output_type": "stream",
          "name": "stdout",
          "text": [
            "Collecting sentencepiece\n",
            "  Downloading sentencepiece-0.1.96-cp37-cp37m-manylinux_2_17_x86_64.manylinux2014_x86_64.whl (1.2 MB)\n",
            "\u001b[?25l\r\u001b[K     |▎                               | 10 kB 19.2 MB/s eta 0:00:01\r\u001b[K     |▌                               | 20 kB 23.2 MB/s eta 0:00:01\r\u001b[K     |▉                               | 30 kB 15.7 MB/s eta 0:00:01\r\u001b[K     |█                               | 40 kB 11.0 MB/s eta 0:00:01\r\u001b[K     |█▍                              | 51 kB 5.6 MB/s eta 0:00:01\r\u001b[K     |█▋                              | 61 kB 6.1 MB/s eta 0:00:01\r\u001b[K     |██                              | 71 kB 5.8 MB/s eta 0:00:01\r\u001b[K     |██▏                             | 81 kB 6.5 MB/s eta 0:00:01\r\u001b[K     |██▍                             | 92 kB 4.9 MB/s eta 0:00:01\r\u001b[K     |██▊                             | 102 kB 5.3 MB/s eta 0:00:01\r\u001b[K     |███                             | 112 kB 5.3 MB/s eta 0:00:01\r\u001b[K     |███▎                            | 122 kB 5.3 MB/s eta 0:00:01\r\u001b[K     |███▌                            | 133 kB 5.3 MB/s eta 0:00:01\r\u001b[K     |███▉                            | 143 kB 5.3 MB/s eta 0:00:01\r\u001b[K     |████                            | 153 kB 5.3 MB/s eta 0:00:01\r\u001b[K     |████▎                           | 163 kB 5.3 MB/s eta 0:00:01\r\u001b[K     |████▋                           | 174 kB 5.3 MB/s eta 0:00:01\r\u001b[K     |████▉                           | 184 kB 5.3 MB/s eta 0:00:01\r\u001b[K     |█████▏                          | 194 kB 5.3 MB/s eta 0:00:01\r\u001b[K     |█████▍                          | 204 kB 5.3 MB/s eta 0:00:01\r\u001b[K     |█████▊                          | 215 kB 5.3 MB/s eta 0:00:01\r\u001b[K     |██████                          | 225 kB 5.3 MB/s eta 0:00:01\r\u001b[K     |██████▏                         | 235 kB 5.3 MB/s eta 0:00:01\r\u001b[K     |██████▌                         | 245 kB 5.3 MB/s eta 0:00:01\r\u001b[K     |██████▊                         | 256 kB 5.3 MB/s eta 0:00:01\r\u001b[K     |███████                         | 266 kB 5.3 MB/s eta 0:00:01\r\u001b[K     |███████▎                        | 276 kB 5.3 MB/s eta 0:00:01\r\u001b[K     |███████▋                        | 286 kB 5.3 MB/s eta 0:00:01\r\u001b[K     |███████▉                        | 296 kB 5.3 MB/s eta 0:00:01\r\u001b[K     |████████                        | 307 kB 5.3 MB/s eta 0:00:01\r\u001b[K     |████████▍                       | 317 kB 5.3 MB/s eta 0:00:01\r\u001b[K     |████████▋                       | 327 kB 5.3 MB/s eta 0:00:01\r\u001b[K     |█████████                       | 337 kB 5.3 MB/s eta 0:00:01\r\u001b[K     |█████████▏                      | 348 kB 5.3 MB/s eta 0:00:01\r\u001b[K     |█████████▌                      | 358 kB 5.3 MB/s eta 0:00:01\r\u001b[K     |█████████▊                      | 368 kB 5.3 MB/s eta 0:00:01\r\u001b[K     |██████████                      | 378 kB 5.3 MB/s eta 0:00:01\r\u001b[K     |██████████▎                     | 389 kB 5.3 MB/s eta 0:00:01\r\u001b[K     |██████████▌                     | 399 kB 5.3 MB/s eta 0:00:01\r\u001b[K     |██████████▉                     | 409 kB 5.3 MB/s eta 0:00:01\r\u001b[K     |███████████                     | 419 kB 5.3 MB/s eta 0:00:01\r\u001b[K     |███████████▍                    | 430 kB 5.3 MB/s eta 0:00:01\r\u001b[K     |███████████▋                    | 440 kB 5.3 MB/s eta 0:00:01\r\u001b[K     |███████████▉                    | 450 kB 5.3 MB/s eta 0:00:01\r\u001b[K     |████████████▏                   | 460 kB 5.3 MB/s eta 0:00:01\r\u001b[K     |████████████▍                   | 471 kB 5.3 MB/s eta 0:00:01\r\u001b[K     |████████████▊                   | 481 kB 5.3 MB/s eta 0:00:01\r\u001b[K     |█████████████                   | 491 kB 5.3 MB/s eta 0:00:01\r\u001b[K     |█████████████▎                  | 501 kB 5.3 MB/s eta 0:00:01\r\u001b[K     |█████████████▌                  | 512 kB 5.3 MB/s eta 0:00:01\r\u001b[K     |█████████████▊                  | 522 kB 5.3 MB/s eta 0:00:01\r\u001b[K     |██████████████                  | 532 kB 5.3 MB/s eta 0:00:01\r\u001b[K     |██████████████▎                 | 542 kB 5.3 MB/s eta 0:00:01\r\u001b[K     |██████████████▋                 | 552 kB 5.3 MB/s eta 0:00:01\r\u001b[K     |██████████████▉                 | 563 kB 5.3 MB/s eta 0:00:01\r\u001b[K     |███████████████▏                | 573 kB 5.3 MB/s eta 0:00:01\r\u001b[K     |███████████████▍                | 583 kB 5.3 MB/s eta 0:00:01\r\u001b[K     |███████████████▋                | 593 kB 5.3 MB/s eta 0:00:01\r\u001b[K     |████████████████                | 604 kB 5.3 MB/s eta 0:00:01\r\u001b[K     |████████████████▏               | 614 kB 5.3 MB/s eta 0:00:01\r\u001b[K     |████████████████▌               | 624 kB 5.3 MB/s eta 0:00:01\r\u001b[K     |████████████████▊               | 634 kB 5.3 MB/s eta 0:00:01\r\u001b[K     |█████████████████               | 645 kB 5.3 MB/s eta 0:00:01\r\u001b[K     |█████████████████▎              | 655 kB 5.3 MB/s eta 0:00:01\r\u001b[K     |█████████████████▌              | 665 kB 5.3 MB/s eta 0:00:01\r\u001b[K     |█████████████████▉              | 675 kB 5.3 MB/s eta 0:00:01\r\u001b[K     |██████████████████              | 686 kB 5.3 MB/s eta 0:00:01\r\u001b[K     |██████████████████▍             | 696 kB 5.3 MB/s eta 0:00:01\r\u001b[K     |██████████████████▋             | 706 kB 5.3 MB/s eta 0:00:01\r\u001b[K     |███████████████████             | 716 kB 5.3 MB/s eta 0:00:01\r\u001b[K     |███████████████████▏            | 727 kB 5.3 MB/s eta 0:00:01\r\u001b[K     |███████████████████▍            | 737 kB 5.3 MB/s eta 0:00:01\r\u001b[K     |███████████████████▊            | 747 kB 5.3 MB/s eta 0:00:01\r\u001b[K     |████████████████████            | 757 kB 5.3 MB/s eta 0:00:01\r\u001b[K     |████████████████████▎           | 768 kB 5.3 MB/s eta 0:00:01\r\u001b[K     |████████████████████▌           | 778 kB 5.3 MB/s eta 0:00:01\r\u001b[K     |████████████████████▉           | 788 kB 5.3 MB/s eta 0:00:01\r\u001b[K     |█████████████████████           | 798 kB 5.3 MB/s eta 0:00:01\r\u001b[K     |█████████████████████▎          | 808 kB 5.3 MB/s eta 0:00:01\r\u001b[K     |█████████████████████▋          | 819 kB 5.3 MB/s eta 0:00:01\r\u001b[K     |█████████████████████▉          | 829 kB 5.3 MB/s eta 0:00:01\r\u001b[K     |██████████████████████▏         | 839 kB 5.3 MB/s eta 0:00:01\r\u001b[K     |██████████████████████▍         | 849 kB 5.3 MB/s eta 0:00:01\r\u001b[K     |██████████████████████▊         | 860 kB 5.3 MB/s eta 0:00:01\r\u001b[K     |███████████████████████         | 870 kB 5.3 MB/s eta 0:00:01\r\u001b[K     |███████████████████████▏        | 880 kB 5.3 MB/s eta 0:00:01\r\u001b[K     |███████████████████████▌        | 890 kB 5.3 MB/s eta 0:00:01\r\u001b[K     |███████████████████████▊        | 901 kB 5.3 MB/s eta 0:00:01\r\u001b[K     |████████████████████████        | 911 kB 5.3 MB/s eta 0:00:01\r\u001b[K     |████████████████████████▎       | 921 kB 5.3 MB/s eta 0:00:01\r\u001b[K     |████████████████████████▋       | 931 kB 5.3 MB/s eta 0:00:01\r\u001b[K     |████████████████████████▉       | 942 kB 5.3 MB/s eta 0:00:01\r\u001b[K     |█████████████████████████       | 952 kB 5.3 MB/s eta 0:00:01\r\u001b[K     |█████████████████████████▍      | 962 kB 5.3 MB/s eta 0:00:01\r\u001b[K     |█████████████████████████▋      | 972 kB 5.3 MB/s eta 0:00:01\r\u001b[K     |██████████████████████████      | 983 kB 5.3 MB/s eta 0:00:01\r\u001b[K     |██████████████████████████▏     | 993 kB 5.3 MB/s eta 0:00:01\r\u001b[K     |██████████████████████████▌     | 1.0 MB 5.3 MB/s eta 0:00:01\r\u001b[K     |██████████████████████████▊     | 1.0 MB 5.3 MB/s eta 0:00:01\r\u001b[K     |███████████████████████████     | 1.0 MB 5.3 MB/s eta 0:00:01\r\u001b[K     |███████████████████████████▎    | 1.0 MB 5.3 MB/s eta 0:00:01\r\u001b[K     |███████████████████████████▌    | 1.0 MB 5.3 MB/s eta 0:00:01\r\u001b[K     |███████████████████████████▉    | 1.1 MB 5.3 MB/s eta 0:00:01\r\u001b[K     |████████████████████████████    | 1.1 MB 5.3 MB/s eta 0:00:01\r\u001b[K     |████████████████████████████▍   | 1.1 MB 5.3 MB/s eta 0:00:01\r\u001b[K     |████████████████████████████▋   | 1.1 MB 5.3 MB/s eta 0:00:01\r\u001b[K     |████████████████████████████▉   | 1.1 MB 5.3 MB/s eta 0:00:01\r\u001b[K     |█████████████████████████████▏  | 1.1 MB 5.3 MB/s eta 0:00:01\r\u001b[K     |█████████████████████████████▍  | 1.1 MB 5.3 MB/s eta 0:00:01\r\u001b[K     |█████████████████████████████▊  | 1.1 MB 5.3 MB/s eta 0:00:01\r\u001b[K     |██████████████████████████████  | 1.1 MB 5.3 MB/s eta 0:00:01\r\u001b[K     |██████████████████████████████▎ | 1.1 MB 5.3 MB/s eta 0:00:01\r\u001b[K     |██████████████████████████████▌ | 1.2 MB 5.3 MB/s eta 0:00:01\r\u001b[K     |██████████████████████████████▊ | 1.2 MB 5.3 MB/s eta 0:00:01\r\u001b[K     |███████████████████████████████ | 1.2 MB 5.3 MB/s eta 0:00:01\r\u001b[K     |███████████████████████████████▎| 1.2 MB 5.3 MB/s eta 0:00:01\r\u001b[K     |███████████████████████████████▋| 1.2 MB 5.3 MB/s eta 0:00:01\r\u001b[K     |███████████████████████████████▉| 1.2 MB 5.3 MB/s eta 0:00:01\r\u001b[K     |████████████████████████████████| 1.2 MB 5.3 MB/s \n",
            "\u001b[?25hInstalling collected packages: sentencepiece\n",
            "Successfully installed sentencepiece-0.1.96\n"
          ]
        }
      ]
    },
    {
      "cell_type": "code",
      "metadata": {
        "id": "BQCFd-7JRcca"
      },
      "source": [
        "# imports\n",
        "from __future__ import absolute_import, division, print_function, unicode_literals\n",
        "\n",
        "import tensorflow as tf\n",
        "import tensorflow.keras.backend as K\n",
        "\n",
        "import os\n",
        "import re\n",
        "import numpy as np\n",
        "import pandas as pd\n",
        "import random\n",
        "import collections\n",
        "import json\n",
        "from datetime import datetime\n",
        "\n",
        "import matplotlib.pyplot as plt\n",
        "import sentencepiece as spm\n",
        "from tqdm.notebook import tqdm\n",
        "\n",
        "random_seed = 1234\n",
        "random.seed(random_seed)\n",
        "np.random.seed(random_seed)\n",
        "tf.random.set_seed(random_seed)"
      ],
      "execution_count": 2,
      "outputs": []
    },
    {
      "cell_type": "code",
      "metadata": {
        "id": "-vVvopnXRgka",
        "colab": {
          "base_uri": "https://localhost:8080/"
        },
        "outputId": "d187008d-6a35-405b-e7bd-479d874c7e2a"
      },
      "source": [
        "# gpu 확인\n",
        "!nvidia-smi"
      ],
      "execution_count": 3,
      "outputs": [
        {
          "output_type": "stream",
          "name": "stdout",
          "text": [
            "Mon Sep 20 02:03:58 2021       \n",
            "+-----------------------------------------------------------------------------+\n",
            "| NVIDIA-SMI 470.63.01    Driver Version: 460.32.03    CUDA Version: 11.2     |\n",
            "|-------------------------------+----------------------+----------------------+\n",
            "| GPU  Name        Persistence-M| Bus-Id        Disp.A | Volatile Uncorr. ECC |\n",
            "| Fan  Temp  Perf  Pwr:Usage/Cap|         Memory-Usage | GPU-Util  Compute M. |\n",
            "|                               |                      |               MIG M. |\n",
            "|===============================+======================+======================|\n",
            "|   0  Tesla K80           Off  | 00000000:00:04.0 Off |                    0 |\n",
            "| N/A   37C    P8    24W / 149W |      0MiB / 11441MiB |      0%      Default |\n",
            "|                               |                      |                  N/A |\n",
            "+-------------------------------+----------------------+----------------------+\n",
            "                                                                               \n",
            "+-----------------------------------------------------------------------------+\n",
            "| Processes:                                                                  |\n",
            "|  GPU   GI   CI        PID   Type   Process name                  GPU Memory |\n",
            "|        ID   ID                                                   Usage      |\n",
            "|=============================================================================|\n",
            "|  No running processes found                                                 |\n",
            "+-----------------------------------------------------------------------------+\n"
          ]
        }
      ]
    },
    {
      "cell_type": "code",
      "metadata": {
        "id": "FlYm3JM7fcdd",
        "colab": {
          "base_uri": "https://localhost:8080/"
        },
        "outputId": "ed198132-a7da-4eb0-f9f1-275cffe03298"
      },
      "source": [
        "# tf version 및 gpu 확인\n",
        "print(tf.__version__)\n",
        "print(tf.config.list_physical_devices('GPU'))\n",
        "print(tf.test.gpu_device_name())"
      ],
      "execution_count": 4,
      "outputs": [
        {
          "output_type": "stream",
          "name": "stdout",
          "text": [
            "2.6.0\n",
            "[PhysicalDevice(name='/physical_device:GPU:0', device_type='GPU')]\n",
            "/device:GPU:0\n"
          ]
        }
      ]
    },
    {
      "cell_type": "markdown",
      "metadata": {
        "id": "Aw_RiCrZd1Jp"
      },
      "source": [
        "# Transformer Tutorial"
      ]
    },
    {
      "cell_type": "markdown",
      "metadata": {
        "id": "pKEZAHeCzxRm"
      },
      "source": [
        "## Config"
      ]
    },
    {
      "cell_type": "code",
      "metadata": {
        "id": "u9VJvPSx12Q8"
      },
      "source": [
        "class Config(dict):\n",
        "    \"\"\"\n",
        "    json을 config 형태로 사용하기 위한 Class\n",
        "    :param dict: config dictionary\n",
        "    \"\"\"\n",
        "    __getattr__ = dict.__getitem__\n",
        "    __setattr__ = dict.__setitem__\n",
        "\n",
        "    @classmethod\n",
        "    def load(cls, file):\n",
        "        \"\"\"\n",
        "        file에서 Config를 생성 함\n",
        "        :param file: filename\n",
        "        \"\"\"\n",
        "        with open(file, 'r') as f:\n",
        "            config = json.loads(f.read())\n",
        "            return Config(config)"
      ],
      "execution_count": 5,
      "outputs": []
    },
    {
      "cell_type": "code",
      "metadata": {
        "id": "4Bb_Q7DhzlGp",
        "colab": {
          "base_uri": "https://localhost:8080/"
        },
        "outputId": "ec2da2f6-fe25-45bf-8aa6-ce3aca6639f1"
      },
      "source": [
        "# config 생성\n",
        "# d_model: model hidden dim\n",
        "# n_head: multi head attention head number\n",
        "# d_head: multi head attention head dim\n",
        "# dropout: dropout rate\n",
        "# d_ff: feed forward dim\n",
        "# layernorm_epsilon: layernormal epsilon\n",
        "# n_layer: layer number\n",
        "# n_seq: sequence max number\n",
        "# n_vocab: vocab count\n",
        "# i_pad: vocab pad id\n",
        "config = Config({\"d_model\": 8, \"n_head\": 2, \"d_head\": 4, \"dropout\": 0.1, \"d_ff\": 32, \"layernorm_epsilon\": 0.001, \"n_layer\": 3, \"n_seq\": 10, \"n_vocab\": 0, \"i_pad\": 0})\n",
        "config.n_vocab = 10\n",
        "config.i_pad = 0\n",
        "config"
      ],
      "execution_count": 6,
      "outputs": [
        {
          "output_type": "execute_result",
          "data": {
            "text/plain": [
              "{'d_ff': 32,\n",
              " 'd_head': 4,\n",
              " 'd_model': 8,\n",
              " 'dropout': 0.1,\n",
              " 'i_pad': 0,\n",
              " 'layernorm_epsilon': 0.001,\n",
              " 'n_head': 2,\n",
              " 'n_layer': 3,\n",
              " 'n_seq': 10,\n",
              " 'n_vocab': 10}"
            ]
          },
          "metadata": {},
          "execution_count": 6
        }
      ]
    },
    {
      "cell_type": "markdown",
      "metadata": {
        "id": "6zIuHDPU0qif"
      },
      "source": [
        "## Inputs"
      ]
    },
    {
      "cell_type": "code",
      "metadata": {
        "id": "yP8BiMdU0pjZ",
        "colab": {
          "base_uri": "https://localhost:8080/"
        },
        "outputId": "65e0f669-7490-4653-806f-62652c0c3f82"
      },
      "source": [
        "# encoder 입력 값 정의\n",
        "enc_tokens = np.random.randint(1, config.n_vocab, (1, 6))\n",
        "# 마지막은 padding\n",
        "enc_tokens[:,5:] = config.i_pad\n",
        "enc_tokens"
      ],
      "execution_count": 7,
      "outputs": [
        {
          "output_type": "execute_result",
          "data": {
            "text/plain": [
              "array([[4, 7, 6, 5, 9, 0]])"
            ]
          },
          "metadata": {},
          "execution_count": 7
        }
      ]
    },
    {
      "cell_type": "code",
      "metadata": {
        "id": "GkZb4b9-00Ng",
        "colab": {
          "base_uri": "https://localhost:8080/"
        },
        "outputId": "d1765a56-b293-4bd5-c633-13f5ae7de7b3"
      },
      "source": [
        "# 입력 값 정의\n",
        "dec_tokens = np.random.randint(1, config.n_vocab, (1, 5))\n",
        "# 마지막은 padding\n",
        "dec_tokens[:,4:] = config.i_pad\n",
        "dec_tokens"
      ],
      "execution_count": 8,
      "outputs": [
        {
          "output_type": "execute_result",
          "data": {
            "text/plain": [
              "array([[8, 7, 9, 1, 0]])"
            ]
          },
          "metadata": {},
          "execution_count": 8
        }
      ]
    },
    {
      "cell_type": "markdown",
      "metadata": {
        "id": "oNFjgMAqf5F9"
      },
      "source": [
        "## Weight Shared Embedding\n",
        "\n",
        "![](https://paul-hyun.github.io/assets/transformer/weight_shared_embedding.png)"
      ]
    },
    {
      "cell_type": "markdown",
      "metadata": {
        "id": "8AaJfELdJAws"
      },
      "source": [
        "### Tutorial Embedding"
      ]
    },
    {
      "cell_type": "code",
      "metadata": {
        "id": "rCGzHgobgGju",
        "colab": {
          "base_uri": "https://localhost:8080/"
        },
        "outputId": "70dfac27-6987-4516-c45b-6f654a670dde"
      },
      "source": [
        "# embedding weight 초기화\n",
        "embed_weight = tf.random.normal([config.n_vocab, config.d_model])\n",
        "embed_weight"
      ],
      "execution_count": 9,
      "outputs": [
        {
          "output_type": "execute_result",
          "data": {
            "text/plain": [
              "<tf.Tensor: shape=(10, 8), dtype=float32, numpy=\n",
              "array([[ 0.8369314 , -0.73429775,  1.0402943 ,  0.04035992, -0.7218659 ,\n",
              "         1.0794858 ,  0.9032698 , -0.73601735],\n",
              "       [-0.36105633, -0.6078763 ,  0.07614239, -0.7211218 ,  0.14663379,\n",
              "         1.0210938 , -0.17570543,  1.2770809 ],\n",
              "       [ 0.15558745,  0.11838357, -0.10230648,  0.02042525,  0.12023098,\n",
              "        -1.7356888 , -0.37274906, -0.8804749 ],\n",
              "       [ 0.8006071 , -1.0832181 , -0.8637153 ,  0.13195874,  0.44462258,\n",
              "         1.1913583 ,  1.5747397 , -0.57046455],\n",
              "       [ 1.4189912 ,  0.5309418 , -0.3397897 , -0.5185629 , -1.1675295 ,\n",
              "         0.77573264, -1.5179933 ,  0.73918307],\n",
              "       [ 1.8952272 , -0.20591696, -0.72119623, -1.1176348 ,  0.85716414,\n",
              "        -0.37806422, -0.121459  ,  0.00689717],\n",
              "       [ 1.2772721 ,  0.3844953 ,  0.18691574,  1.2595506 , -0.15900195,\n",
              "         0.12100661, -0.42040455,  2.4253113 ],\n",
              "       [-0.3567563 , -0.61342746,  1.3244288 , -0.5528212 ,  1.2431467 ,\n",
              "        -0.24536318,  0.28992936, -0.25124574],\n",
              "       [-1.3603296 , -0.09727097, -0.8926318 ,  0.3699977 , -0.43288955,\n",
              "         0.44764125,  0.54849035, -0.74648273],\n",
              "       [ 0.18089716, -0.19718426, -0.24024896,  0.8510773 ,  1.5659982 ,\n",
              "        -1.1252568 , -1.9409477 ,  1.5495228 ]], dtype=float32)>"
            ]
          },
          "metadata": {},
          "execution_count": 9
        }
      ]
    },
    {
      "cell_type": "code",
      "metadata": {
        "id": "9o24Kl2ZgLnR",
        "colab": {
          "base_uri": "https://localhost:8080/"
        },
        "outputId": "f9167a1a-4ea8-42dd-ce91-1e4ddf3be1a5"
      },
      "source": [
        "# embedding lookup 대신에 tf.gather 함수 사용\n",
        "token_embed1 = tf.gather(embed_weight, enc_tokens)\n",
        "token_embed1"
      ],
      "execution_count": 10,
      "outputs": [
        {
          "output_type": "execute_result",
          "data": {
            "text/plain": [
              "<tf.Tensor: shape=(1, 6, 8), dtype=float32, numpy=\n",
              "array([[[ 1.4189912 ,  0.5309418 , -0.3397897 , -0.5185629 ,\n",
              "         -1.1675295 ,  0.77573264, -1.5179933 ,  0.73918307],\n",
              "        [-0.3567563 , -0.61342746,  1.3244288 , -0.5528212 ,\n",
              "          1.2431467 , -0.24536318,  0.28992936, -0.25124574],\n",
              "        [ 1.2772721 ,  0.3844953 ,  0.18691574,  1.2595506 ,\n",
              "         -0.15900195,  0.12100661, -0.42040455,  2.4253113 ],\n",
              "        [ 1.8952272 , -0.20591696, -0.72119623, -1.1176348 ,\n",
              "          0.85716414, -0.37806422, -0.121459  ,  0.00689717],\n",
              "        [ 0.18089716, -0.19718426, -0.24024896,  0.8510773 ,\n",
              "          1.5659982 , -1.1252568 , -1.9409477 ,  1.5495228 ],\n",
              "        [ 0.8369314 , -0.73429775,  1.0402943 ,  0.04035992,\n",
              "         -0.7218659 ,  1.0794858 ,  0.9032698 , -0.73601735]]],\n",
              "      dtype=float32)>"
            ]
          },
          "metadata": {},
          "execution_count": 10
        }
      ]
    },
    {
      "cell_type": "code",
      "metadata": {
        "id": "OwUzEGoVgU37",
        "colab": {
          "base_uri": "https://localhost:8080/"
        },
        "outputId": "e784136d-638d-4c5f-96fd-071bb52fbf9f"
      },
      "source": [
        "# embedding 값에 d_model ** 0.5 곱\n",
        "token_embed = token_embed1 * config.d_model ** 0.5\n",
        "token_embed"
      ],
      "execution_count": 11,
      "outputs": [
        {
          "output_type": "execute_result",
          "data": {
            "text/plain": [
              "<tf.Tensor: shape=(1, 6, 8), dtype=float32, numpy=\n",
              "array([[[ 4.013513  ,  1.5017301 , -0.96107036, -1.4667174 ,\n",
              "         -3.3022718 ,  2.1941032 , -4.2935333 ,  2.0907254 ],\n",
              "        [-1.0090592 , -1.7350348 ,  3.7460504 , -1.5636145 ,\n",
              "          3.5161498 , -0.69399184,  0.82004404, -0.71063024],\n",
              "        [ 3.612671  ,  1.0875169 ,  0.5286775 ,  3.562547  ,\n",
              "         -0.44972542,  0.34225836, -1.1890836 ,  6.859816  ],\n",
              "        [ 5.360512  , -0.58242106, -2.039851  , -3.1611485 ,\n",
              "          2.4244263 , -1.0693271 , -0.34353793,  0.01950813],\n",
              "        [ 0.51165444, -0.5577213 , -0.6795267 ,  2.40721   ,\n",
              "          4.4293118 , -3.1827068 , -5.489829  ,  4.382712  ],\n",
              "        [ 2.3671994 , -2.0769076 ,  2.9423966 ,  0.11415508,\n",
              "         -2.041745  ,  3.0532467 ,  2.554833  , -2.0817714 ]]],\n",
              "      dtype=float32)>"
            ]
          },
          "metadata": {},
          "execution_count": 11
        }
      ]
    },
    {
      "cell_type": "markdown",
      "metadata": {
        "id": "v4JrzZa-JFqz"
      },
      "source": [
        "### Tutorial Linear"
      ]
    },
    {
      "cell_type": "code",
      "metadata": {
        "id": "HDIsy0HogjvO",
        "colab": {
          "base_uri": "https://localhost:8080/"
        },
        "outputId": "2da77da1-ee0f-4e16-a1a1-4e70830159ac"
      },
      "source": [
        "# linear layer\n",
        "# (n_batch, n_seq, d_model) -> (n_batch * n_seq, d_model)\n",
        "n_batch, n_seq, d_model = tf.shape(token_embed)\n",
        "token_reshape = tf.reshape(token_embed, [-1, d_model])\n",
        "token_reshape"
      ],
      "execution_count": 12,
      "outputs": [
        {
          "output_type": "execute_result",
          "data": {
            "text/plain": [
              "<tf.Tensor: shape=(6, 8), dtype=float32, numpy=\n",
              "array([[ 4.013513  ,  1.5017301 , -0.96107036, -1.4667174 , -3.3022718 ,\n",
              "         2.1941032 , -4.2935333 ,  2.0907254 ],\n",
              "       [-1.0090592 , -1.7350348 ,  3.7460504 , -1.5636145 ,  3.5161498 ,\n",
              "        -0.69399184,  0.82004404, -0.71063024],\n",
              "       [ 3.612671  ,  1.0875169 ,  0.5286775 ,  3.562547  , -0.44972542,\n",
              "         0.34225836, -1.1890836 ,  6.859816  ],\n",
              "       [ 5.360512  , -0.58242106, -2.039851  , -3.1611485 ,  2.4244263 ,\n",
              "        -1.0693271 , -0.34353793,  0.01950813],\n",
              "       [ 0.51165444, -0.5577213 , -0.6795267 ,  2.40721   ,  4.4293118 ,\n",
              "        -3.1827068 , -5.489829  ,  4.382712  ],\n",
              "       [ 2.3671994 , -2.0769076 ,  2.9423966 ,  0.11415508, -2.041745  ,\n",
              "         3.0532467 ,  2.554833  , -2.0817714 ]], dtype=float32)>"
            ]
          },
          "metadata": {},
          "execution_count": 12
        }
      ]
    },
    {
      "cell_type": "code",
      "metadata": {
        "id": "rsrpvA1qgz8e",
        "colab": {
          "base_uri": "https://localhost:8080/"
        },
        "outputId": "bfa11164-fa5a-4005-b02e-8e42f5ceac45"
      },
      "source": [
        "# matrix mul with embd_weight\n",
        "token_linear = tf.matmul(token_reshape, embed_weight, transpose_b=True)\n",
        "token_reshape.shape, embed_weight.shape, token_linear"
      ],
      "execution_count": 13,
      "outputs": [
        {
          "output_type": "execute_result",
          "data": {
            "text/plain": [
              "(TensorShape([6, 8]),\n",
              " TensorShape([10, 8]),\n",
              " <tf.Tensor: shape=(6, 10), dtype=float32, numpy=\n",
              " array([[  0.5325971 ,   3.8031163 ,  -3.5751386 ,  -4.5850925 ,\n",
              "          21.20014   ,   6.50547   ,  11.342962  ,  -9.228753  ,\n",
              "          -6.7945375 ,   3.3453908 ],\n",
              "        [  2.2398205 ,   1.5871407 ,   1.1697465 ,   0.06301939,\n",
              "          -9.228753  ,   0.66257733,  -5.936514  ,  12.20775   ,\n",
              "          -3.2334604 ,   1.5232469 ],\n",
              "        [ -2.5101418 ,   4.7587724 ,  -5.535282  ,  -3.8501904 ,\n",
              "          11.342961  ,   1.9368417 ,  26.868544  ,  -5.936514  ,\n",
              "          -9.599032  ,  15.192061  ],\n",
              "        [ -0.56467783,  -0.1082584 ,   3.1675892 ,   5.5191536 ,\n",
              "           6.5054693 ,  17.807726  ,   1.9368415 ,   0.6625773 ,\n",
              "          -8.315366  ,   4.581168  ],\n",
              "        [-14.589604  ,   2.327972  ,   4.3764596 , -11.049268  ,\n",
              "           3.345391  ,   4.581168  ,  15.192061  ,   1.523247  ,\n",
              "          -8.76939   ,  30.378746  ],\n",
              "        [ 15.181544  ,   0.26030624,  -4.840591  ,   9.559091  ,\n",
              "           0.53259647,  -0.56467766,  -2.5101416 ,   2.2398207 ,\n",
              "          -0.39647147, -14.589604  ]], dtype=float32)>)"
            ]
          },
          "metadata": {},
          "execution_count": 13
        }
      ]
    },
    {
      "cell_type": "code",
      "metadata": {
        "id": "2J-GDv21jO-3",
        "colab": {
          "base_uri": "https://localhost:8080/"
        },
        "outputId": "e23297eb-b6a4-4e9a-cb73-5b05b0012be9"
      },
      "source": [
        "# (bs * n_seq, n_vocab) -> (bs, n_seq, n_vocab)\n",
        "output = tf.reshape(token_linear, [n_batch, n_seq, config.n_vocab])\n",
        "output.shape"
      ],
      "execution_count": 14,
      "outputs": [
        {
          "output_type": "execute_result",
          "data": {
            "text/plain": [
              "TensorShape([1, 6, 10])"
            ]
          },
          "metadata": {},
          "execution_count": 14
        }
      ]
    },
    {
      "cell_type": "markdown",
      "metadata": {
        "id": "5F2o9a06JKXK"
      },
      "source": [
        "### Class"
      ]
    },
    {
      "cell_type": "code",
      "metadata": {
        "id": "HadAObQ2i6FZ"
      },
      "source": [
        "def kernel_initializer(stddev=0.02):\n",
        "    \"\"\"\n",
        "    parameter initializer 생성\n",
        "    :param stddev: 생성할 랜덤 변수의 표준편차\n",
        "    \"\"\"\n",
        "    return tf.keras.initializers.TruncatedNormal(stddev=stddev)\n",
        "\n",
        "\n",
        "class SharedEmbedding(tf.keras.layers.Layer):\n",
        "    \"\"\"\n",
        "    Weighed Shaed Embedding Class\n",
        "    \"\"\"\n",
        "    def __init__(self, config, name=\"weight_shared_embedding\"):\n",
        "        \"\"\"\n",
        "        생성자\n",
        "        :param config: Config 객체\n",
        "        :param name: layer name\n",
        "        \"\"\"\n",
        "        super().__init__(name=name)\n",
        "\n",
        "        self.n_vocab = config.n_vocab\n",
        "        self.d_model = config.d_model\n",
        "    \n",
        "    def build(self, input_shape):\n",
        "        \"\"\"\n",
        "        shared weight 생성\n",
        "        :param input_shape: Tensor Shape (not used)\n",
        "        \"\"\"\n",
        "        with tf.name_scope(\"shared_embedding_weight\"):\n",
        "            self.shared_weights = self.add_weight(\n",
        "                \"weights\",\n",
        "                shape=[self.n_vocab, self.d_model],\n",
        "                initializer=kernel_initializer(stddev=self.d_model ** -0.5)\n",
        "            )\n",
        "\n",
        "    def call(self, inputs, mode=\"embedding\"):\n",
        "        \"\"\"\n",
        "        layer 실행\n",
        "        :param inputs: 입력\n",
        "        :param mode: 실행 모드\n",
        "        :return: embedding or linear 실행 결과\n",
        "        \"\"\"\n",
        "        # mode가 embedding일 경우 embedding lookup 실행\n",
        "        if mode == \"embedding\":\n",
        "            return self._embedding(inputs)\n",
        "        # mode가 linear일 경우 linear 실행\n",
        "        elif mode == \"linear\":\n",
        "            return self._linear(inputs)\n",
        "        # mode가 기타일 경우 오류 발생\n",
        "        else:\n",
        "            raise ValueError(f\"mode {mode} is not valid.\")\n",
        "    \n",
        "    def _embedding(self, inputs):\n",
        "        \"\"\"\n",
        "        embedding lookup\n",
        "        :param inputs: 입력\n",
        "        \"\"\"\n",
        "        embed = tf.gather(self.shared_weights, tf.cast(inputs, tf.int32))\n",
        "        embed *= self.d_model ** 0.5\n",
        "        return embed\n",
        "\n",
        "    def _linear(self, inputs):  # (bs, n_seq, d_model)\n",
        "        \"\"\"\n",
        "        linear 실행\n",
        "        :param inputs: 입력\n",
        "        \"\"\"\n",
        "        n_batch = tf.shape(inputs)[0]\n",
        "        n_seq = tf.shape(inputs)[1]\n",
        "        inputs = tf.reshape(inputs, [-1, self.d_model])  # (bs * n_seq, d_model)\n",
        "        outputs = tf.matmul(inputs, self.shared_weights, transpose_b=True)\n",
        "        outputs = tf.reshape(outputs, [n_batch, n_seq, self.n_vocab])  # (bs, n_seq, n_vocab)\n",
        "        return outputs"
      ],
      "execution_count": 15,
      "outputs": []
    },
    {
      "cell_type": "markdown",
      "metadata": {
        "id": "4Igt7GwvJWgV"
      },
      "source": [
        "### Test"
      ]
    },
    {
      "cell_type": "code",
      "metadata": {
        "id": "mkDCszl4kT_8",
        "colab": {
          "base_uri": "https://localhost:8080/"
        },
        "outputId": "6dce7412-dd12-40b8-ce14-2016f949ee82"
      },
      "source": [
        "# SharedEmbedding embedding test: shape이 (bs, n_seq, d_model)이면 성공\n",
        "embedding = SharedEmbedding(config)\n",
        "\n",
        "enc_embed = embedding(enc_tokens)\n",
        "assert enc_embed.shape == (enc_tokens.shape[0], enc_tokens.shape[1], config.d_model)\n",
        "enc_embed"
      ],
      "execution_count": 16,
      "outputs": [
        {
          "output_type": "execute_result",
          "data": {
            "text/plain": [
              "<tf.Tensor: shape=(1, 6, 8), dtype=float32, numpy=\n",
              "array([[[ 1.0438616 ,  0.77873224,  0.3661703 ,  0.04562705,\n",
              "         -1.1118658 ,  0.83142024, -0.50751346, -1.6061306 ],\n",
              "        [-1.488764  ,  0.66749793,  0.45289573, -1.3284956 ,\n",
              "         -0.8350257 , -0.14791092,  0.46348926,  0.68240696],\n",
              "        [ 0.53093785,  1.8387237 , -1.4564208 , -0.22360843,\n",
              "          0.8672876 , -0.75745213,  1.4629304 , -1.8092779 ],\n",
              "        [-0.13200705,  0.9998998 , -0.9900697 , -0.2264822 ,\n",
              "          0.5969744 , -0.13854134,  1.1348592 , -0.04831744],\n",
              "        [-1.3377118 ,  1.3356653 , -0.26913092, -1.4376115 ,\n",
              "         -0.3685191 ,  1.0541942 ,  0.37812105, -0.32949397],\n",
              "        [ 1.1468067 ,  0.9645993 ,  0.87830144, -0.31010216,\n",
              "         -0.4058371 , -0.04709157, -0.32690668,  0.5287341 ]]],\n",
              "      dtype=float32)>"
            ]
          },
          "metadata": {},
          "execution_count": 16
        }
      ]
    },
    {
      "cell_type": "code",
      "metadata": {
        "id": "tg0vVqkx2jFb",
        "colab": {
          "base_uri": "https://localhost:8080/"
        },
        "outputId": "32523ce6-0ff4-48a6-8275-647eb2bfd560"
      },
      "source": [
        "# SharedEmbedding embedding test: shape이 (bs, n_seq, d_model)이면 성공\n",
        "dec_embed = embedding(dec_tokens)\n",
        "assert dec_embed.shape == (dec_tokens.shape[0], dec_tokens.shape[1], config.d_model)\n",
        "dec_embed"
      ],
      "execution_count": 17,
      "outputs": [
        {
          "output_type": "execute_result",
          "data": {
            "text/plain": [
              "<tf.Tensor: shape=(1, 5, 8), dtype=float32, numpy=\n",
              "array([[[ 1.7347238 , -0.40107146,  1.5544791 ,  0.83802575,\n",
              "         -0.6956781 , -0.06145862,  1.496493  , -1.8350446 ],\n",
              "        [-1.488764  ,  0.66749793,  0.45289573, -1.3284956 ,\n",
              "         -0.8350257 , -0.14791092,  0.46348926,  0.68240696],\n",
              "        [-1.3377118 ,  1.3356653 , -0.26913092, -1.4376115 ,\n",
              "         -0.3685191 ,  1.0541942 ,  0.37812105, -0.32949397],\n",
              "        [ 0.47501525, -0.7355799 ,  0.66509944, -0.3943125 ,\n",
              "          0.71738523, -0.24470258, -0.27618337,  0.6821183 ],\n",
              "        [ 1.1468067 ,  0.9645993 ,  0.87830144, -0.31010216,\n",
              "         -0.4058371 , -0.04709157, -0.32690668,  0.5287341 ]]],\n",
              "      dtype=float32)>"
            ]
          },
          "metadata": {},
          "execution_count": 17
        }
      ]
    },
    {
      "cell_type": "code",
      "metadata": {
        "id": "ncgRJ-AJklJK",
        "colab": {
          "base_uri": "https://localhost:8080/"
        },
        "outputId": "4940a127-10a0-4ce8-c46a-c2b67738cd82"
      },
      "source": [
        "# SharedEmbedding linear test: shape에 (bs, n_seq, n_vocab)이면 성공\n",
        "linear_outputs = embedding(dec_embed, mode=\"linear\")\n",
        "assert linear_outputs.shape == (dec_tokens.shape[0], dec_tokens.shape[1], config.n_vocab)\n",
        "linear_outputs"
      ],
      "execution_count": 18,
      "outputs": [
        {
          "output_type": "execute_result",
          "data": {
            "text/plain": [
              "<tf.Tensor: shape=(1, 5, 10), dtype=float32, numpy=\n",
              "array([[[ 0.54224825, -0.11546157,  0.07719761, -1.3376666 ,\n",
              "          1.7734799 , -0.34601617,  0.94921154, -1.1413567 ,\n",
              "          4.378208  , -1.1021317 ],\n",
              "        [ 0.10657357, -0.21159714,  0.9954895 ,  0.49363038,\n",
              "         -0.51436406,  0.2586124 , -0.38693735,  2.1325047 ,\n",
              "         -1.1413568 ,  1.6876043 ],\n",
              "        [-0.08280099, -0.73594666,  2.2054102 , -0.30941212,\n",
              "          0.39001495,  0.7718634 ,  0.88045573,  1.6876043 ,\n",
              "         -1.1021317 ,  2.549582  ],\n",
              "        [ 0.25207403,  0.87703884, -0.92345583,  0.59454066,\n",
              "         -0.63919353, -0.44251698, -0.99400353, -0.2115972 ,\n",
              "         -0.11546157, -0.73594666],\n",
              "        [ 1.2963188 ,  0.25207403, -0.588692  , -0.1717719 ,\n",
              "          0.70162946, -0.21868028, -0.20452952,  0.10657358,\n",
              "          0.54224825, -0.08280097]]], dtype=float32)>"
            ]
          },
          "metadata": {},
          "execution_count": 18
        }
      ]
    },
    {
      "cell_type": "markdown",
      "metadata": {
        "id": "SGHIBE4SUYtC"
      },
      "source": [
        "## Postiona Encoding\n",
        "\n",
        "![](https://paul-hyun.github.io/assets/transformer/position_encoding.png)"
      ]
    },
    {
      "cell_type": "markdown",
      "metadata": {
        "id": "aw2CjyEzJdCu"
      },
      "source": [
        "### Tutorial Encoding"
      ]
    },
    {
      "cell_type": "code",
      "metadata": {
        "id": "HBBT_PR99-yA",
        "colab": {
          "base_uri": "https://localhost:8080/"
        },
        "outputId": "2b21d9f9-a246-4adc-f2b6-9d41ad28ba80"
      },
      "source": [
        "# 지수 계산\n",
        "exs = [2 * (i_ang // 2) / config.d_model for i_ang in range(config.d_model)]\n",
        "exs"
      ],
      "execution_count": 19,
      "outputs": [
        {
          "output_type": "execute_result",
          "data": {
            "text/plain": [
              "[0.0, 0.0, 0.25, 0.25, 0.5, 0.5, 0.75, 0.75]"
            ]
          },
          "metadata": {},
          "execution_count": 19
        }
      ]
    },
    {
      "cell_type": "code",
      "metadata": {
        "id": "TcumTdu5Ulsh",
        "colab": {
          "base_uri": "https://localhost:8080/"
        },
        "outputId": "c05fb56e-cf3d-4162-bbbf-6c27903ab686"
      },
      "source": [
        "# angle 계산\n",
        "angles = [np.power(10000, ex) for ex in exs]\n",
        "angles"
      ],
      "execution_count": 20,
      "outputs": [
        {
          "output_type": "execute_result",
          "data": {
            "text/plain": [
              "[1.0, 1.0, 10.0, 10.0, 100.0, 100.0, 1000.0, 1000.0]"
            ]
          },
          "metadata": {},
          "execution_count": 20
        }
      ]
    },
    {
      "cell_type": "code",
      "metadata": {
        "id": "lal4dGPqVDGW",
        "colab": {
          "base_uri": "https://localhost:8080/"
        },
        "outputId": "f20aed13-5b2c-4067-c47f-aaa6e2a34f52"
      },
      "source": [
        "# position angle 계산\n",
        "pos_angles = np.array([[pos / angle for angle in angles] for pos in range(config.n_seq)])\n",
        "pos_angles"
      ],
      "execution_count": 21,
      "outputs": [
        {
          "output_type": "execute_result",
          "data": {
            "text/plain": [
              "array([[0.e+00, 0.e+00, 0.e+00, 0.e+00, 0.e+00, 0.e+00, 0.e+00, 0.e+00],\n",
              "       [1.e+00, 1.e+00, 1.e-01, 1.e-01, 1.e-02, 1.e-02, 1.e-03, 1.e-03],\n",
              "       [2.e+00, 2.e+00, 2.e-01, 2.e-01, 2.e-02, 2.e-02, 2.e-03, 2.e-03],\n",
              "       [3.e+00, 3.e+00, 3.e-01, 3.e-01, 3.e-02, 3.e-02, 3.e-03, 3.e-03],\n",
              "       [4.e+00, 4.e+00, 4.e-01, 4.e-01, 4.e-02, 4.e-02, 4.e-03, 4.e-03],\n",
              "       [5.e+00, 5.e+00, 5.e-01, 5.e-01, 5.e-02, 5.e-02, 5.e-03, 5.e-03],\n",
              "       [6.e+00, 6.e+00, 6.e-01, 6.e-01, 6.e-02, 6.e-02, 6.e-03, 6.e-03],\n",
              "       [7.e+00, 7.e+00, 7.e-01, 7.e-01, 7.e-02, 7.e-02, 7.e-03, 7.e-03],\n",
              "       [8.e+00, 8.e+00, 8.e-01, 8.e-01, 8.e-02, 8.e-02, 8.e-03, 8.e-03],\n",
              "       [9.e+00, 9.e+00, 9.e-01, 9.e-01, 9.e-02, 9.e-02, 9.e-03, 9.e-03]])"
            ]
          },
          "metadata": {},
          "execution_count": 21
        }
      ]
    },
    {
      "cell_type": "code",
      "metadata": {
        "id": "tJIhlEoyVU4o",
        "colab": {
          "base_uri": "https://localhost:8080/"
        },
        "outputId": "1eb17b42-409d-4a83-fb67-97aae2cdd1b8"
      },
      "source": [
        "# 짝수는 sin, 홀수는 cos\n",
        "pos_encoding = pos_angles\n",
        "pos_encoding[:, 0::2] = np.sin(pos_encoding[:, 0::2])\n",
        "pos_encoding[:, 1::2] = np.cos(pos_encoding[:, 1::2])\n",
        "pos_encoding"
      ],
      "execution_count": 22,
      "outputs": [
        {
          "output_type": "execute_result",
          "data": {
            "text/plain": [
              "array([[ 0.00000000e+00,  1.00000000e+00,  0.00000000e+00,\n",
              "         1.00000000e+00,  0.00000000e+00,  1.00000000e+00,\n",
              "         0.00000000e+00,  1.00000000e+00],\n",
              "       [ 8.41470985e-01,  5.40302306e-01,  9.98334166e-02,\n",
              "         9.95004165e-01,  9.99983333e-03,  9.99950000e-01,\n",
              "         9.99999833e-04,  9.99999500e-01],\n",
              "       [ 9.09297427e-01, -4.16146837e-01,  1.98669331e-01,\n",
              "         9.80066578e-01,  1.99986667e-02,  9.99800007e-01,\n",
              "         1.99999867e-03,  9.99998000e-01],\n",
              "       [ 1.41120008e-01, -9.89992497e-01,  2.95520207e-01,\n",
              "         9.55336489e-01,  2.99955002e-02,  9.99550034e-01,\n",
              "         2.99999550e-03,  9.99995500e-01],\n",
              "       [-7.56802495e-01, -6.53643621e-01,  3.89418342e-01,\n",
              "         9.21060994e-01,  3.99893342e-02,  9.99200107e-01,\n",
              "         3.99998933e-03,  9.99992000e-01],\n",
              "       [-9.58924275e-01,  2.83662185e-01,  4.79425539e-01,\n",
              "         8.77582562e-01,  4.99791693e-02,  9.98750260e-01,\n",
              "         4.99997917e-03,  9.99987500e-01],\n",
              "       [-2.79415498e-01,  9.60170287e-01,  5.64642473e-01,\n",
              "         8.25335615e-01,  5.99640065e-02,  9.98200540e-01,\n",
              "         5.99996400e-03,  9.99982000e-01],\n",
              "       [ 6.56986599e-01,  7.53902254e-01,  6.44217687e-01,\n",
              "         7.64842187e-01,  6.99428473e-02,  9.97551000e-01,\n",
              "         6.99994283e-03,  9.99975500e-01],\n",
              "       [ 9.89358247e-01, -1.45500034e-01,  7.17356091e-01,\n",
              "         6.96706709e-01,  7.99146940e-02,  9.96801706e-01,\n",
              "         7.99991467e-03,  9.99968000e-01],\n",
              "       [ 4.12118485e-01, -9.11130262e-01,  7.83326910e-01,\n",
              "         6.21609968e-01,  8.98785492e-02,  9.95952733e-01,\n",
              "         8.99987850e-03,  9.99959500e-01]])"
            ]
          },
          "metadata": {},
          "execution_count": 22
        }
      ]
    },
    {
      "cell_type": "code",
      "metadata": {
        "id": "29xP8DjxVkAq",
        "colab": {
          "base_uri": "https://localhost:8080/",
          "height": 283
        },
        "outputId": "9b208eb0-bcd2-4d1d-c742-03f71948539c"
      },
      "source": [
        "# display\n",
        "plt.pcolormesh(pos_encoding, cmap='RdBu')\n",
        "plt.xlabel('Depth')\n",
        "plt.xlim((0, config.d_model))\n",
        "plt.ylabel('Position')\n",
        "plt.colorbar()\n",
        "plt.show()"
      ],
      "execution_count": 23,
      "outputs": [
        {
          "output_type": "display_data",
          "data": {
            "image/png": "[encoded data removed]",
            "text/plain": [
              "<Figure size 432x288 with 2 Axes>"
            ]
          },
          "metadata": {
            "needs_background": "light"
          }
        }
      ]
    },
    {
      "cell_type": "markdown",
      "metadata": {
        "id": "KlbxVAZapnGy"
      },
      "source": [
        "### Tutorial Position lookup"
      ]
    },
    {
      "cell_type": "code",
      "metadata": {
        "id": "b5l6DZp9Zpuq"
      },
      "source": [
        "# position embedding 초기 화, trainable=False인 경우는 학습 되지 않음\n",
        "pos_embedding = tf.keras.layers.Embedding(config.n_seq, config.d_model, trainable=False, weights=[pos_encoding])"
      ],
      "execution_count": 24,
      "outputs": []
    },
    {
      "cell_type": "code",
      "metadata": {
        "id": "P4r3rU4caAdB",
        "colab": {
          "base_uri": "https://localhost:8080/"
        },
        "outputId": "1901fa70-0d90-41a9-c2c2-d71089226ccd"
      },
      "source": [
        "# 모두 1인 값\n",
        "pos_val_1 = tf.ones_like(enc_tokens)\n",
        "pos_val_1"
      ],
      "execution_count": 25,
      "outputs": [
        {
          "output_type": "execute_result",
          "data": {
            "text/plain": [
              "<tf.Tensor: shape=(1, 6), dtype=int64, numpy=array([[1, 1, 1, 1, 1, 1]])>"
            ]
          },
          "metadata": {},
          "execution_count": 25
        }
      ]
    },
    {
      "cell_type": "code",
      "metadata": {
        "id": "-z6mff4QaH5I",
        "colab": {
          "base_uri": "https://localhost:8080/"
        },
        "outputId": "024a93ff-6774-4443-dfc8-7a2a358da414"
      },
      "source": [
        "# 0부터 시작하는 누적 합, exclusive=False인 경우는 1부터 시작\n",
        "pos_val_2 = tf.math.cumsum(pos_val_1, axis=-1, exclusive=True)\n",
        "pos_val_2 = tf.cast(pos_val_2, tf.int32)\n",
        "pos_val_2"
      ],
      "execution_count": 26,
      "outputs": [
        {
          "output_type": "execute_result",
          "data": {
            "text/plain": [
              "<tf.Tensor: shape=(1, 6), dtype=int32, numpy=array([[0, 1, 2, 3, 4, 5]], dtype=int32)>"
            ]
          },
          "metadata": {},
          "execution_count": 26
        }
      ]
    },
    {
      "cell_type": "code",
      "metadata": {
        "id": "5myVXp9uaVVo",
        "colab": {
          "base_uri": "https://localhost:8080/"
        },
        "outputId": "a2a523d9-67af-485b-d6c8-c400db2bc80f"
      },
      "source": [
        "# embedding lookup\n",
        "pos_val = pos_embedding(pos_val_2)\n",
        "pos_val"
      ],
      "execution_count": 27,
      "outputs": [
        {
          "output_type": "execute_result",
          "data": {
            "text/plain": [
              "<tf.Tensor: shape=(1, 6, 8), dtype=float32, numpy=\n",
              "array([[[ 0.0000000e+00,  1.0000000e+00,  0.0000000e+00,  1.0000000e+00,\n",
              "          0.0000000e+00,  1.0000000e+00,  0.0000000e+00,  1.0000000e+00],\n",
              "        [ 8.4147096e-01,  5.4030228e-01,  9.9833414e-02,  9.9500418e-01,\n",
              "          9.9998331e-03,  9.9994999e-01,  9.9999981e-04,  9.9999952e-01],\n",
              "        [ 9.0929741e-01, -4.1614684e-01,  1.9866933e-01,  9.8006660e-01,\n",
              "          1.9998666e-02,  9.9980003e-01,  1.9999987e-03,  9.9999797e-01],\n",
              "        [ 1.4112000e-01, -9.8999250e-01,  2.9552022e-01,  9.5533651e-01,\n",
              "          2.9995501e-02,  9.9955004e-01,  2.9999956e-03,  9.9999553e-01],\n",
              "        [-7.5680250e-01, -6.5364361e-01,  3.8941833e-01,  9.2106098e-01,\n",
              "          3.9989334e-02,  9.9920011e-01,  3.9999895e-03,  9.9999201e-01],\n",
              "        [-9.5892429e-01,  2.8366220e-01,  4.7942555e-01,  8.7758255e-01,\n",
              "          4.9979169e-02,  9.9875027e-01,  4.9999794e-03,  9.9998748e-01]]],\n",
              "      dtype=float32)>"
            ]
          },
          "metadata": {},
          "execution_count": 27
        }
      ]
    },
    {
      "cell_type": "code",
      "metadata": {
        "id": "6sp4Wjgwai_L",
        "colab": {
          "base_uri": "https://localhost:8080/"
        },
        "outputId": "92272416-60d2-4e06-d8f6-f2e509fa8050"
      },
      "source": [
        "# embedding lookup 대신 pos_encoding table에서 gather를 통해 직접 조회\n",
        "pos_val_g = tf.gather(pos_encoding, pos_val_2)\n",
        "assert np.array_equal(pos_val, tf.cast(pos_val_g, pos_val.dtype))\n",
        "pos_val_g"
      ],
      "execution_count": 28,
      "outputs": [
        {
          "output_type": "execute_result",
          "data": {
            "text/plain": [
              "<tf.Tensor: shape=(1, 6, 8), dtype=float64, numpy=\n",
              "array([[[ 0.00000000e+00,  1.00000000e+00,  0.00000000e+00,\n",
              "          1.00000000e+00,  0.00000000e+00,  1.00000000e+00,\n",
              "          0.00000000e+00,  1.00000000e+00],\n",
              "        [ 8.41470985e-01,  5.40302306e-01,  9.98334166e-02,\n",
              "          9.95004165e-01,  9.99983333e-03,  9.99950000e-01,\n",
              "          9.99999833e-04,  9.99999500e-01],\n",
              "        [ 9.09297427e-01, -4.16146837e-01,  1.98669331e-01,\n",
              "          9.80066578e-01,  1.99986667e-02,  9.99800007e-01,\n",
              "          1.99999867e-03,  9.99998000e-01],\n",
              "        [ 1.41120008e-01, -9.89992497e-01,  2.95520207e-01,\n",
              "          9.55336489e-01,  2.99955002e-02,  9.99550034e-01,\n",
              "          2.99999550e-03,  9.99995500e-01],\n",
              "        [-7.56802495e-01, -6.53643621e-01,  3.89418342e-01,\n",
              "          9.21060994e-01,  3.99893342e-02,  9.99200107e-01,\n",
              "          3.99998933e-03,  9.99992000e-01],\n",
              "        [-9.58924275e-01,  2.83662185e-01,  4.79425539e-01,\n",
              "          8.77582562e-01,  4.99791693e-02,  9.98750260e-01,\n",
              "          4.99997917e-03,  9.99987500e-01]]])>"
            ]
          },
          "metadata": {},
          "execution_count": 28
        }
      ]
    },
    {
      "cell_type": "markdown",
      "metadata": {
        "id": "rRIB0gjRJjAU"
      },
      "source": [
        "### Class"
      ]
    },
    {
      "cell_type": "code",
      "metadata": {
        "id": "RxvXF6OrbvaU"
      },
      "source": [
        "class PositionalEmbedding(tf.keras.layers.Layer):\n",
        "    \"\"\"\n",
        "    Positional Embedding Class\n",
        "    \"\"\"\n",
        "    def __init__(self, config, name=\"position_embedding\"):\n",
        "        \"\"\"\n",
        "        생성자\n",
        "        :param config: Config 객체\n",
        "        :param name: layer name\n",
        "        \"\"\"\n",
        "        super().__init__(name=name)\n",
        "        \n",
        "        pos_encoding = PositionalEmbedding.get_sinusoid_encoding(config.n_seq, config.d_model)\n",
        "        self.embedding = tf.keras.layers.Embedding(config.n_seq, config.d_model, trainable=False, weights=[pos_encoding])\n",
        "\n",
        "    def call(self, inputs):\n",
        "        \"\"\"\n",
        "        layer 실행\n",
        "        :param inputs: 입력\n",
        "        :return embed: positional embedding lookup 결과\n",
        "        \"\"\"\n",
        "        position = tf.cast(tf.math.cumsum(tf.ones_like(inputs), axis=1, exclusive=True), tf.int32)\n",
        "        embed = self.embedding(position)\n",
        "        return embed\n",
        "\n",
        "    @staticmethod\n",
        "    def get_sinusoid_encoding(n_seq, d_model):\n",
        "        \"\"\"\n",
        "        sinusoid encoding 생성\n",
        "        :param n_seq: sequence number\n",
        "        :param n_seq: model hidden dimension\n",
        "        :return: positional encoding table\n",
        "        \"\"\"\n",
        "        angles = [np.power(10000, 2 * (i_ang // 2) / d_model) for i_ang in range(d_model)]\n",
        "        pos_encoding = np.array([[pos / angle for angle in angles] for pos in range(n_seq)])\n",
        "        pos_encoding[:, 0::2] = np.sin(pos_encoding[:, 0::2])\n",
        "        pos_encoding[:, 1::2] = np.cos(pos_encoding[:, 1::2])\n",
        "        return tf.cast(pos_encoding, tf.float32)"
      ],
      "execution_count": 29,
      "outputs": []
    },
    {
      "cell_type": "markdown",
      "metadata": {
        "id": "69ZQF9_QJtgD"
      },
      "source": [
        "### Test"
      ]
    },
    {
      "cell_type": "code",
      "metadata": {
        "id": "1b-r4NFWb_1-",
        "colab": {
          "base_uri": "https://localhost:8080/"
        },
        "outputId": "78a89b26-c5dc-4644-c64a-63e1c7e1b396"
      },
      "source": [
        "# PositionalEmbedding 클래스 시험\n",
        "pos_embedding = PositionalEmbedding(config)\n",
        "\n",
        "enc_pos = pos_embedding(enc_tokens)\n",
        "assert enc_pos.shape == (enc_tokens.shape[0], enc_tokens.shape[1], config.d_model)\n",
        "enc_pos"
      ],
      "execution_count": 30,
      "outputs": [
        {
          "output_type": "execute_result",
          "data": {
            "text/plain": [
              "<tf.Tensor: shape=(1, 6, 8), dtype=float32, numpy=\n",
              "array([[[ 0.0000000e+00,  1.0000000e+00,  0.0000000e+00,  1.0000000e+00,\n",
              "          0.0000000e+00,  1.0000000e+00,  0.0000000e+00,  1.0000000e+00],\n",
              "        [ 8.4147096e-01,  5.4030228e-01,  9.9833414e-02,  9.9500418e-01,\n",
              "          9.9998331e-03,  9.9994999e-01,  9.9999981e-04,  9.9999952e-01],\n",
              "        [ 9.0929741e-01, -4.1614684e-01,  1.9866933e-01,  9.8006660e-01,\n",
              "          1.9998666e-02,  9.9980003e-01,  1.9999987e-03,  9.9999797e-01],\n",
              "        [ 1.4112000e-01, -9.8999250e-01,  2.9552022e-01,  9.5533651e-01,\n",
              "          2.9995501e-02,  9.9955004e-01,  2.9999956e-03,  9.9999553e-01],\n",
              "        [-7.5680250e-01, -6.5364361e-01,  3.8941833e-01,  9.2106098e-01,\n",
              "          3.9989334e-02,  9.9920011e-01,  3.9999895e-03,  9.9999201e-01],\n",
              "        [-9.5892429e-01,  2.8366220e-01,  4.7942555e-01,  8.7758255e-01,\n",
              "          4.9979169e-02,  9.9875027e-01,  4.9999794e-03,  9.9998748e-01]]],\n",
              "      dtype=float32)>"
            ]
          },
          "metadata": {},
          "execution_count": 30
        }
      ]
    },
    {
      "cell_type": "code",
      "metadata": {
        "id": "_730DE5u4C-o",
        "colab": {
          "base_uri": "https://localhost:8080/"
        },
        "outputId": "d401b752-7f7c-4539-a43f-29ea52876669"
      },
      "source": [
        "dec_pos = pos_embedding(dec_tokens)\n",
        "assert dec_pos.shape == (dec_tokens.shape[0], dec_tokens.shape[1], config.d_model)\n",
        "dec_pos"
      ],
      "execution_count": 31,
      "outputs": [
        {
          "output_type": "execute_result",
          "data": {
            "text/plain": [
              "<tf.Tensor: shape=(1, 5, 8), dtype=float32, numpy=\n",
              "array([[[ 0.0000000e+00,  1.0000000e+00,  0.0000000e+00,  1.0000000e+00,\n",
              "          0.0000000e+00,  1.0000000e+00,  0.0000000e+00,  1.0000000e+00],\n",
              "        [ 8.4147096e-01,  5.4030228e-01,  9.9833414e-02,  9.9500418e-01,\n",
              "          9.9998331e-03,  9.9994999e-01,  9.9999981e-04,  9.9999952e-01],\n",
              "        [ 9.0929741e-01, -4.1614684e-01,  1.9866933e-01,  9.8006660e-01,\n",
              "          1.9998666e-02,  9.9980003e-01,  1.9999987e-03,  9.9999797e-01],\n",
              "        [ 1.4112000e-01, -9.8999250e-01,  2.9552022e-01,  9.5533651e-01,\n",
              "          2.9995501e-02,  9.9955004e-01,  2.9999956e-03,  9.9999553e-01],\n",
              "        [-7.5680250e-01, -6.5364361e-01,  3.8941833e-01,  9.2106098e-01,\n",
              "          3.9989334e-02,  9.9920011e-01,  3.9999895e-03,  9.9999201e-01]]],\n",
              "      dtype=float32)>"
            ]
          },
          "metadata": {},
          "execution_count": 31
        }
      ]
    },
    {
      "cell_type": "code",
      "metadata": {
        "id": "F5vdTy5bcz1t",
        "colab": {
          "base_uri": "https://localhost:8080/",
          "height": 283
        },
        "outputId": "168bc14a-ff5d-489a-fa0d-fa3eebfe4978"
      },
      "source": [
        "# 128x128 position encoding table 생성\n",
        "pos_encoding = PositionalEmbedding.get_sinusoid_encoding(128, 128)\n",
        "# display\n",
        "plt.pcolormesh(pos_encoding, cmap='RdBu')\n",
        "plt.xlabel('Depth')\n",
        "plt.xlim((0, 128))\n",
        "plt.ylabel('Position')\n",
        "plt.colorbar()\n",
        "plt.show()"
      ],
      "execution_count": 32,
      "outputs": [
        {
          "output_type": "display_data",
          "data": {
            "image/png": "[encoded data removed]",
            "text/plain": [
              "<Figure size 432x288 with 2 Axes>"
            ]
          },
          "metadata": {
            "needs_background": "light"
          }
        }
      ]
    },
    {
      "cell_type": "markdown",
      "metadata": {
        "id": "kRJOG3puSMbl"
      },
      "source": [
        "## Pad Mask\n",
        "\n",
        "![](https://paul-hyun.github.io/assets/transformer/pad_mask.png)"
      ]
    },
    {
      "cell_type": "markdown",
      "metadata": {
        "id": "sC6NSo3cJ2HE"
      },
      "source": [
        "### Tutorial"
      ]
    },
    {
      "cell_type": "code",
      "metadata": {
        "id": "D9lJOPCBnSj4",
        "colab": {
          "base_uri": "https://localhost:8080/"
        },
        "outputId": "2504cf74-3182-4cfc-b878-f318e849cd2d"
      },
      "source": [
        "# 0인 부분 확인\n",
        "mask1 = tf.math.equal(enc_tokens, config.i_pad)\n",
        "mask1"
      ],
      "execution_count": 33,
      "outputs": [
        {
          "output_type": "execute_result",
          "data": {
            "text/plain": [
              "<tf.Tensor: shape=(1, 6), dtype=bool, numpy=array([[False, False, False, False, False,  True]])>"
            ]
          },
          "metadata": {},
          "execution_count": 33
        }
      ]
    },
    {
      "cell_type": "code",
      "metadata": {
        "id": "_6A0dP-wnfW_",
        "colab": {
          "base_uri": "https://localhost:8080/"
        },
        "outputId": "eeca1f13-a27d-456d-ca68-8504b267b8f2"
      },
      "source": [
        "# boolean에서 flot32로 변경\n",
        "mask2 = tf.cast(mask1, tf.float32)\n",
        "mask2"
      ],
      "execution_count": 34,
      "outputs": [
        {
          "output_type": "execute_result",
          "data": {
            "text/plain": [
              "<tf.Tensor: shape=(1, 6), dtype=float32, numpy=array([[0., 0., 0., 0., 0., 1.]], dtype=float32)>"
            ]
          },
          "metadata": {},
          "execution_count": 34
        }
      ]
    },
    {
      "cell_type": "code",
      "metadata": {
        "id": "Vks9dn_eno6M",
        "colab": {
          "base_uri": "https://localhost:8080/"
        },
        "outputId": "842ef804-5b31-4ab0-8382-1cae57b5d75e"
      },
      "source": [
        "# 차원 확대 (차원이 1인 경우에는 차원에 상관없이 연산이 가능)\n",
        "mask = tf.expand_dims(mask2, axis=1)\n",
        "mask"
      ],
      "execution_count": 35,
      "outputs": [
        {
          "output_type": "execute_result",
          "data": {
            "text/plain": [
              "<tf.Tensor: shape=(1, 1, 6), dtype=float32, numpy=array([[[0., 0., 0., 0., 0., 1.]]], dtype=float32)>"
            ]
          },
          "metadata": {},
          "execution_count": 35
        }
      ]
    },
    {
      "cell_type": "markdown",
      "metadata": {
        "id": "TnFBTppYJ4QE"
      },
      "source": [
        "### Function"
      ]
    },
    {
      "cell_type": "code",
      "metadata": {
        "id": "UW5K7beRnBI2"
      },
      "source": [
        "def get_pad_mask(tokens, i_pad=0):\n",
        "    \"\"\"\n",
        "    pad mask 계산하는 함수\n",
        "    :param tokens: tokens (bs, n_seq)\n",
        "    :param i_pad: id of pad\n",
        "    :return mask: pad mask (pad: 1, other: 0)\n",
        "    \"\"\"\n",
        "    mask = tf.cast(tf.math.equal(tokens, i_pad), tf.float32)\n",
        "    mask = tf.expand_dims(mask, axis=1)\n",
        "    return mask"
      ],
      "execution_count": 36,
      "outputs": []
    },
    {
      "cell_type": "markdown",
      "metadata": {
        "id": "253aegyMJ5s9"
      },
      "source": [
        "### Test"
      ]
    },
    {
      "cell_type": "code",
      "metadata": {
        "id": "KA1M4BtSTf6n",
        "colab": {
          "base_uri": "https://localhost:8080/"
        },
        "outputId": "c869eecf-2d64-4bf0-9b4d-63a99a8515c1"
      },
      "source": [
        "enc_pad_mask = get_pad_mask(enc_tokens)\n",
        "# 함수로 구한 mask와 계산한 mask가 같으면 정상\n",
        "assert np.array_equal(mask, enc_pad_mask)\n",
        "enc_tokens, enc_pad_mask"
      ],
      "execution_count": 37,
      "outputs": [
        {
          "output_type": "execute_result",
          "data": {
            "text/plain": [
              "(array([[4, 7, 6, 5, 9, 0]]),\n",
              " <tf.Tensor: shape=(1, 1, 6), dtype=float32, numpy=array([[[0., 0., 0., 0., 0., 1.]]], dtype=float32)>)"
            ]
          },
          "metadata": {},
          "execution_count": 37
        }
      ]
    },
    {
      "cell_type": "markdown",
      "metadata": {
        "id": "1FbtXvu_S6Hm"
      },
      "source": [
        "## Ahead mask (Decoder)\n",
        "\n",
        "![](https://paul-hyun.github.io/assets/transformer/ahead_mask.png)"
      ]
    },
    {
      "cell_type": "markdown",
      "metadata": {
        "id": "H1bAp9rqKAMW"
      },
      "source": [
        "### Tutorial"
      ]
    },
    {
      "cell_type": "code",
      "metadata": {
        "id": "g88v778TzRZV",
        "colab": {
          "base_uri": "https://localhost:8080/"
        },
        "outputId": "ed0d5ae3-dba8-4802-9fd8-ed1ff0f70379"
      },
      "source": [
        "# sequence 개수 추출 (bs, n_seq)\n",
        "n_seq = tf.shape(dec_tokens)[1]\n",
        "n_seq"
      ],
      "execution_count": 38,
      "outputs": [
        {
          "output_type": "execute_result",
          "data": {
            "text/plain": [
              "<tf.Tensor: shape=(), dtype=int32, numpy=5>"
            ]
          },
          "metadata": {},
          "execution_count": 38
        }
      ]
    },
    {
      "cell_type": "code",
      "metadata": {
        "id": "zztMXOygzjgF",
        "colab": {
          "base_uri": "https://localhost:8080/"
        },
        "outputId": "3b793db0-e67c-46f1-eb77-166aa54dabce"
      },
      "source": [
        "# 전체가 1일 matrix 생성\n",
        "ahead_mask1 = tf.ones((n_seq, n_seq))\n",
        "ahead_mask1"
      ],
      "execution_count": 39,
      "outputs": [
        {
          "output_type": "execute_result",
          "data": {
            "text/plain": [
              "<tf.Tensor: shape=(5, 5), dtype=float32, numpy=\n",
              "array([[1., 1., 1., 1., 1.],\n",
              "       [1., 1., 1., 1., 1.],\n",
              "       [1., 1., 1., 1., 1.],\n",
              "       [1., 1., 1., 1., 1.],\n",
              "       [1., 1., 1., 1., 1.]], dtype=float32)>"
            ]
          },
          "metadata": {},
          "execution_count": 39
        }
      ]
    },
    {
      "cell_type": "code",
      "metadata": {
        "id": "iGMP_M8RUQdb",
        "colab": {
          "base_uri": "https://localhost:8080/"
        },
        "outputId": "33e9875e-5ad3-4a0c-89d4-1859bbdf9d3a"
      },
      "source": [
        "# 중간을 기준으로 위쪽을 모두 0으로 변경\n",
        "# https://www.tensorflow.org/api_docs/python/tf/linalg/band_part#useful_special_cases_2\n",
        "ahead_mask2 = tf.linalg.band_part(ahead_mask1, -1, 0)\n",
        "ahead_mask2"
      ],
      "execution_count": 40,
      "outputs": [
        {
          "output_type": "execute_result",
          "data": {
            "text/plain": [
              "<tf.Tensor: shape=(5, 5), dtype=float32, numpy=\n",
              "array([[1., 0., 0., 0., 0.],\n",
              "       [1., 1., 0., 0., 0.],\n",
              "       [1., 1., 1., 0., 0.],\n",
              "       [1., 1., 1., 1., 0.],\n",
              "       [1., 1., 1., 1., 1.]], dtype=float32)>"
            ]
          },
          "metadata": {},
          "execution_count": 40
        }
      ]
    },
    {
      "cell_type": "code",
      "metadata": {
        "id": "1mjydNumzpb_",
        "colab": {
          "base_uri": "https://localhost:8080/"
        },
        "outputId": "fcec08ca-3750-42c6-eeca-bdfebedb58ce"
      },
      "source": [
        "# 1에서 값을 빼서 0->1, 1->0으로 변경\n",
        "ahead_mask3 = 1 - ahead_mask2\n",
        "ahead_mask3"
      ],
      "execution_count": 41,
      "outputs": [
        {
          "output_type": "execute_result",
          "data": {
            "text/plain": [
              "<tf.Tensor: shape=(5, 5), dtype=float32, numpy=\n",
              "array([[0., 1., 1., 1., 1.],\n",
              "       [0., 0., 1., 1., 1.],\n",
              "       [0., 0., 0., 1., 1.],\n",
              "       [0., 0., 0., 0., 1.],\n",
              "       [0., 0., 0., 0., 0.]], dtype=float32)>"
            ]
          },
          "metadata": {},
          "execution_count": 41
        }
      ]
    },
    {
      "cell_type": "code",
      "metadata": {
        "id": "nesuHASz0GqL",
        "colab": {
          "base_uri": "https://localhost:8080/"
        },
        "outputId": "47562fc0-6a27-446d-82a7-79cbab49ee92"
      },
      "source": [
        "# batch 차원 추가 (0)\n",
        "ahead_mask4 = tf.expand_dims(ahead_mask3, axis=0)\n",
        "ahead_mask4"
      ],
      "execution_count": 42,
      "outputs": [
        {
          "output_type": "execute_result",
          "data": {
            "text/plain": [
              "<tf.Tensor: shape=(1, 5, 5), dtype=float32, numpy=\n",
              "array([[[0., 1., 1., 1., 1.],\n",
              "        [0., 0., 1., 1., 1.],\n",
              "        [0., 0., 0., 1., 1.],\n",
              "        [0., 0., 0., 0., 1.],\n",
              "        [0., 0., 0., 0., 0.]]], dtype=float32)>"
            ]
          },
          "metadata": {},
          "execution_count": 42
        }
      ]
    },
    {
      "cell_type": "code",
      "metadata": {
        "id": "J0YmBI89U286",
        "colab": {
          "base_uri": "https://localhost:8080/"
        },
        "outputId": "48a6108d-2a7c-42d6-9d3d-b0d134e2e3b8"
      },
      "source": [
        "# pad_mask 조회\n",
        "pad_mask = get_pad_mask(dec_tokens)\n",
        "pad_mask"
      ],
      "execution_count": 43,
      "outputs": [
        {
          "output_type": "execute_result",
          "data": {
            "text/plain": [
              "<tf.Tensor: shape=(1, 1, 5), dtype=float32, numpy=array([[[0., 0., 0., 0., 1.]]], dtype=float32)>"
            ]
          },
          "metadata": {},
          "execution_count": 43
        }
      ]
    },
    {
      "cell_type": "code",
      "metadata": {
        "id": "8nUEj4W-0O8X",
        "colab": {
          "base_uri": "https://localhost:8080/"
        },
        "outputId": "15e21707-3487-4c7b-c61d-2913f34daef2"
      },
      "source": [
        "# pad mask 또는 ahead mask인 부분은 모두 mask\n",
        "mask = tf.maximum(ahead_mask4, pad_mask)\n",
        "mask"
      ],
      "execution_count": 44,
      "outputs": [
        {
          "output_type": "execute_result",
          "data": {
            "text/plain": [
              "<tf.Tensor: shape=(1, 5, 5), dtype=float32, numpy=\n",
              "array([[[0., 1., 1., 1., 1.],\n",
              "        [0., 0., 1., 1., 1.],\n",
              "        [0., 0., 0., 1., 1.],\n",
              "        [0., 0., 0., 0., 1.],\n",
              "        [0., 0., 0., 0., 1.]]], dtype=float32)>"
            ]
          },
          "metadata": {},
          "execution_count": 44
        }
      ]
    },
    {
      "cell_type": "markdown",
      "metadata": {
        "id": "oZcLQR0NKINv"
      },
      "source": [
        "### Function"
      ]
    },
    {
      "cell_type": "code",
      "metadata": {
        "id": "xQ0bR5TuzJRJ"
      },
      "source": [
        "def get_ahead_mask(tokens, i_pad=0):\n",
        "    \"\"\"\n",
        "    ahead mask 계산하는 함수\n",
        "    :param tokens: tokens (bs, n_seq)\n",
        "    :param i_pad: id of pad\n",
        "    :return mask: ahead and pad mask (ahead or pad: 1, other: 0)\n",
        "    \"\"\"\n",
        "    n_seq = tf.shape(tokens)[1]\n",
        "    ahead_mask = 1 - tf.linalg.band_part(tf.ones((n_seq, n_seq)), -1, 0)\n",
        "    ahead_mask = tf.expand_dims(ahead_mask, axis=0)\n",
        "    pad_mask = get_pad_mask(tokens, i_pad)\n",
        "    mask = tf.maximum(ahead_mask, pad_mask)\n",
        "    return mask"
      ],
      "execution_count": 45,
      "outputs": []
    },
    {
      "cell_type": "markdown",
      "metadata": {
        "id": "PTpTinUoKLc1"
      },
      "source": [
        "### Test"
      ]
    },
    {
      "cell_type": "code",
      "metadata": {
        "id": "hAXZlBpqVJzT",
        "colab": {
          "base_uri": "https://localhost:8080/"
        },
        "outputId": "05d3ad6b-1173-4d24-8489-e6e915b20dc9"
      },
      "source": [
        "# 기능 확인\n",
        "dec_ahead_mask = get_ahead_mask(dec_tokens)\n",
        "# 함수로 구한 mask와 계산한 mask가 같으면 정상\n",
        "assert np.array_equal(mask, dec_ahead_mask)\n",
        "dec_tokens, dec_ahead_mask"
      ],
      "execution_count": 46,
      "outputs": [
        {
          "output_type": "execute_result",
          "data": {
            "text/plain": [
              "(array([[8, 7, 9, 1, 0]]), <tf.Tensor: shape=(1, 5, 5), dtype=float32, numpy=\n",
              " array([[[0., 1., 1., 1., 1.],\n",
              "         [0., 0., 1., 1., 1.],\n",
              "         [0., 0., 0., 1., 1.],\n",
              "         [0., 0., 0., 0., 1.],\n",
              "         [0., 0., 0., 0., 1.]]], dtype=float32)>)"
            ]
          },
          "metadata": {},
          "execution_count": 46
        }
      ]
    },
    {
      "cell_type": "markdown",
      "metadata": {
        "id": "wWAtDOgtLHZr"
      },
      "source": [
        "## Scaled dot product attention (Encoder Self Attention)\n",
        "\n",
        "![](https://paul-hyun.github.io/assets/transformer/scaled_dot_attention_encoder.png)"
      ]
    },
    {
      "cell_type": "markdown",
      "metadata": {
        "id": "owr3DtdjLHZs"
      },
      "source": [
        "### Tutorial"
      ]
    },
    {
      "cell_type": "code",
      "metadata": {
        "id": "amQb_h2Kw_Fn",
        "colab": {
          "base_uri": "https://localhost:8080/"
        },
        "outputId": "53861a82-8c3d-45a8-d302-7dad363c6e0c"
      },
      "source": [
        "weights = np.random.randint(1, 10, (config.n_vocab, 4)) / 10\n",
        "weights"
      ],
      "execution_count": 47,
      "outputs": [
        {
          "output_type": "execute_result",
          "data": {
            "text/plain": [
              "array([[0.1, 0.7, 0.3, 0.1],\n",
              "       [0.6, 0.3, 0.7, 0.4],\n",
              "       [0.8, 0.1, 0.1, 0.4],\n",
              "       [0.3, 0.4, 0.2, 0.4],\n",
              "       [0.2, 0.4, 0.8, 0.2],\n",
              "       [0.8, 0.5, 0.1, 0.6],\n",
              "       [0.2, 0.6, 0.5, 0.1],\n",
              "       [0.9, 0.9, 0.7, 0.9],\n",
              "       [0.7, 0.4, 0.2, 0.3],\n",
              "       [0.6, 0.3, 0.6, 0.7]])"
            ]
          },
          "metadata": {},
          "execution_count": 47
        }
      ]
    },
    {
      "cell_type": "code",
      "metadata": {
        "id": "tbWZpQAFLHZs"
      },
      "source": [
        "# embedding layer / 기능 확인을 위해 weights를 정수로 초기화 함\n",
        "int_embedding = tf.keras.layers.Embedding(input_dim=config.n_vocab, output_dim=4, weights=[weights])"
      ],
      "execution_count": 48,
      "outputs": []
    },
    {
      "cell_type": "code",
      "metadata": {
        "id": "AVzEuM5XLHZ0",
        "colab": {
          "base_uri": "https://localhost:8080/"
        },
        "outputId": "40293550-e041-4d41-a36e-e5e75e188d30"
      },
      "source": [
        "# enc_input pad mask\n",
        "enc_self_mask = get_pad_mask(enc_tokens)\n",
        "enc_self_mask"
      ],
      "execution_count": 49,
      "outputs": [
        {
          "output_type": "execute_result",
          "data": {
            "text/plain": [
              "<tf.Tensor: shape=(1, 1, 6), dtype=float32, numpy=array([[[0., 0., 0., 0., 0., 1.]]], dtype=float32)>"
            ]
          },
          "metadata": {},
          "execution_count": 49
        }
      ]
    },
    {
      "cell_type": "code",
      "metadata": {
        "id": "VMLQN5_oLHZy",
        "colab": {
          "base_uri": "https://localhost:8080/"
        },
        "outputId": "44183e97-2092-45e5-a3ef-e851415681fa"
      },
      "source": [
        "# Q value\n",
        "Q = int_embedding(enc_tokens)\n",
        "Q"
      ],
      "execution_count": 50,
      "outputs": [
        {
          "output_type": "execute_result",
          "data": {
            "text/plain": [
              "<tf.Tensor: shape=(1, 6, 4), dtype=float32, numpy=\n",
              "array([[[0.2, 0.4, 0.8, 0.2],\n",
              "        [0.9, 0.9, 0.7, 0.9],\n",
              "        [0.2, 0.6, 0.5, 0.1],\n",
              "        [0.8, 0.5, 0.1, 0.6],\n",
              "        [0.6, 0.3, 0.6, 0.7],\n",
              "        [0.1, 0.7, 0.3, 0.1]]], dtype=float32)>"
            ]
          },
          "metadata": {},
          "execution_count": 50
        }
      ]
    },
    {
      "cell_type": "code",
      "metadata": {
        "id": "RwFCUjukLHZv"
      },
      "source": [
        "# Q, K, V 모두 동일한 값\n",
        "K = Q\n",
        "V = K"
      ],
      "execution_count": 51,
      "outputs": []
    },
    {
      "cell_type": "code",
      "metadata": {
        "id": "usRoSZ1ZLHZ2",
        "colab": {
          "base_uri": "https://localhost:8080/"
        },
        "outputId": "d43ceb91-fade-431b-e93e-74c2fe249f66"
      },
      "source": [
        "# attention score\n",
        "attention_score = tf.matmul(Q, K, transpose_b=True)\n",
        "attention_score"
      ],
      "execution_count": 52,
      "outputs": [
        {
          "output_type": "execute_result",
          "data": {
            "text/plain": [
              "<tf.Tensor: shape=(1, 6, 6), dtype=float32, numpy=\n",
              "array([[[0.88000005, 1.2799999 , 0.7       , 0.56000006, 0.86      ,\n",
              "         0.56      ],\n",
              "        [1.2799999 , 2.9199998 , 1.1600001 , 1.78      , 1.86      ,\n",
              "         1.02      ],\n",
              "        [0.7       , 1.1600001 , 0.66      , 0.57000005, 0.67      ,\n",
              "         0.6       ],\n",
              "        [0.56000006, 1.78      , 0.57000005, 1.2600001 , 1.11      ,\n",
              "         0.52000004],\n",
              "        [0.86      , 1.86      , 0.67      , 1.11      , 1.3000001 ,\n",
              "         0.52000004],\n",
              "        [0.56      , 1.02      , 0.6       , 0.52000004, 0.52000004,\n",
              "         0.59999996]]], dtype=float32)>"
            ]
          },
          "metadata": {},
          "execution_count": 52
        }
      ]
    },
    {
      "cell_type": "code",
      "metadata": {
        "id": "zi_Kr39mLHZ3",
        "colab": {
          "base_uri": "https://localhost:8080/"
        },
        "outputId": "d66fa5b3-7d2e-4239-d181-96348ff7c303"
      },
      "source": [
        "# scale 계산\n",
        "scale = tf.math.sqrt(tf.cast(tf.shape(K)[-1], tf.float32))\n",
        "scale"
      ],
      "execution_count": 53,
      "outputs": [
        {
          "output_type": "execute_result",
          "data": {
            "text/plain": [
              "<tf.Tensor: shape=(), dtype=float32, numpy=2.0>"
            ]
          },
          "metadata": {},
          "execution_count": 53
        }
      ]
    },
    {
      "cell_type": "code",
      "metadata": {
        "id": "tNfrVcGzLHZ5",
        "colab": {
          "base_uri": "https://localhost:8080/"
        },
        "outputId": "8fe4caca-33d2-434b-9db2-34891b465563"
      },
      "source": [
        "# attention_score를 scale로 나눔\n",
        "attention_scaled = tf.math.divide(attention_score, scale)\n",
        "attention_scaled"
      ],
      "execution_count": 54,
      "outputs": [
        {
          "output_type": "execute_result",
          "data": {
            "text/plain": [
              "<tf.Tensor: shape=(1, 6, 6), dtype=float32, numpy=\n",
              "array([[[0.44000003, 0.6399999 , 0.35      , 0.28000003, 0.43      ,\n",
              "         0.28      ],\n",
              "        [0.6399999 , 1.4599999 , 0.58000004, 0.89      , 0.93      ,\n",
              "         0.51      ],\n",
              "        [0.35      , 0.58000004, 0.33      , 0.28500003, 0.335     ,\n",
              "         0.3       ],\n",
              "        [0.28000003, 0.89      , 0.28500003, 0.63000005, 0.555     ,\n",
              "         0.26000002],\n",
              "        [0.43      , 0.93      , 0.335     , 0.555     , 0.65000004,\n",
              "         0.26000002],\n",
              "        [0.28      , 0.51      , 0.3       , 0.26000002, 0.26000002,\n",
              "         0.29999998]]], dtype=float32)>"
            ]
          },
          "metadata": {},
          "execution_count": 54
        }
      ]
    },
    {
      "cell_type": "code",
      "metadata": {
        "id": "x8eR3vsDLHZ-",
        "colab": {
          "base_uri": "https://localhost:8080/"
        },
        "outputId": "8f0dfd7f-3b04-4c45-abd6-02e8d7a189e3"
      },
      "source": [
        "# mask 해야할 부분이 매우 큰 음수를 뺌\n",
        "attention_masked = attention_scaled - 1.e9 * enc_self_mask\n",
        "attention_masked"
      ],
      "execution_count": 55,
      "outputs": [
        {
          "output_type": "execute_result",
          "data": {
            "text/plain": [
              "<tf.Tensor: shape=(1, 6, 6), dtype=float32, numpy=\n",
              "array([[[ 4.4000003e-01,  6.3999993e-01,  3.4999999e-01,  2.8000003e-01,\n",
              "          4.3000001e-01, -1.0000000e+09],\n",
              "        [ 6.3999993e-01,  1.4599999e+00,  5.8000004e-01,  8.8999999e-01,\n",
              "          9.3000001e-01, -1.0000000e+09],\n",
              "        [ 3.4999999e-01,  5.8000004e-01,  3.3000001e-01,  2.8500003e-01,\n",
              "          3.3500001e-01, -1.0000000e+09],\n",
              "        [ 2.8000003e-01,  8.8999999e-01,  2.8500003e-01,  6.3000005e-01,\n",
              "          5.5500001e-01, -1.0000000e+09],\n",
              "        [ 4.3000001e-01,  9.3000001e-01,  3.3500001e-01,  5.5500001e-01,\n",
              "          6.5000004e-01, -1.0000000e+09],\n",
              "        [ 2.8000000e-01,  5.0999999e-01,  3.0000001e-01,  2.6000002e-01,\n",
              "          2.6000002e-01, -1.0000000e+09]]], dtype=float32)>"
            ]
          },
          "metadata": {},
          "execution_count": 55
        }
      ]
    },
    {
      "cell_type": "code",
      "metadata": {
        "id": "K8XQ3oVsLHZ_",
        "colab": {
          "base_uri": "https://localhost:8080/"
        },
        "outputId": "780626a8-48de-49b9-cb04-c591fd3716ad"
      },
      "source": [
        "# attention 확률분포 계산\n",
        "attention_prob = tf.nn.softmax(attention_masked, axis=-1)\n",
        "attention_prob"
      ],
      "execution_count": 56,
      "outputs": [
        {
          "output_type": "execute_result",
          "data": {
            "text/plain": [
              "<tf.Tensor: shape=(1, 6, 6), dtype=float32, numpy=\n",
              "array([[[0.20090295, 0.2453834 , 0.18361148, 0.1711982 , 0.19890393,\n",
              "         0.        ],\n",
              "        [0.14635466, 0.33229822, 0.13783166, 0.1879231 , 0.1955924 ,\n",
              "         0.        ],\n",
              "        [0.19376172, 0.24386853, 0.189925  , 0.18156783, 0.190877  ,\n",
              "         0.        ],\n",
              "        [0.15195161, 0.2796565 , 0.15271327, 0.2156296 , 0.20004895,\n",
              "         0.        ],\n",
              "        [0.16842617, 0.27768782, 0.1531622 , 0.19085187, 0.20987193,\n",
              "         0.        ],\n",
              "        [0.19086887, 0.24022757, 0.19472468, 0.18708941, 0.18708941,\n",
              "         0.        ]]], dtype=float32)>"
            ]
          },
          "metadata": {},
          "execution_count": 56
        }
      ]
    },
    {
      "cell_type": "code",
      "metadata": {
        "id": "G5ooI4b0LHaB",
        "colab": {
          "base_uri": "https://localhost:8080/"
        },
        "outputId": "1adf38c7-1748-4873-a40a-8a1234f0b715"
      },
      "source": [
        "# attention output 계산\n",
        "attention_output = tf.matmul(attention_prob, V)\n",
        "attention_output"
      ],
      "execution_count": 57,
      "outputs": [
        {
          "output_type": "execute_result",
          "data": {
            "text/plain": [
              "<tf.Tensor: shape=(1, 6, 4), dtype=float32, numpy=\n",
              "array([[[0.5540489 , 0.5566434 , 0.5607587 , 0.52133846],\n",
              "        [0.6235996 , 0.59294856, 0.55475605, 0.59179103],\n",
              "        [0.55599946, 0.55898833, 0.55336285, 0.5197811 ],\n",
              "        [0.60515684, 0.5719289 , 0.5352698 , 0.56676453],\n",
              "        [0.5928414 , 0.5675743 , 0.55071187, 0.56034195],\n",
              "        [0.5552487 , 0.5590587 , 0.5491793 , 0.5170673 ]]], dtype=float32)>"
            ]
          },
          "metadata": {},
          "execution_count": 57
        }
      ]
    },
    {
      "cell_type": "markdown",
      "metadata": {
        "id": "UP9HqezULHaC"
      },
      "source": [
        "### Class"
      ]
    },
    {
      "cell_type": "code",
      "metadata": {
        "id": "gh5Ya0LwLHaC"
      },
      "source": [
        "class ScaleDotProductAttention(tf.keras.layers.Layer):\n",
        "    \"\"\"\n",
        "    Scale Dot Product Attention Class\n",
        "    \"\"\"\n",
        "    def __init__(self, name=\"scale_dot_product_attention\"):\n",
        "        \"\"\"\n",
        "        생성자\n",
        "        :param name: layer name\n",
        "        \"\"\"\n",
        "        super().__init__(name=name)\n",
        "\n",
        "    def call(self, Q, K, V, attn_mask):\n",
        "        \"\"\"\n",
        "        layer 실행\n",
        "        :param Q: Q value\n",
        "        :param K: K value\n",
        "        :param V: V value\n",
        "        :param attn_mask: 실행 모드\n",
        "        :return attn_out: attention 실행 결과\n",
        "        \"\"\"\n",
        "        attn_score = tf.matmul(Q, K, transpose_b=True)\n",
        "        scale = tf.math.sqrt(tf.cast(tf.shape(K)[-1], tf.float32))\n",
        "        attn_scale = tf.math.divide(attn_score, scale)\n",
        "        attn_scale -= 1.e9 * attn_mask\n",
        "        attn_prob = tf.nn.softmax(attn_scale, axis=-1)\n",
        "        attn_out = tf.matmul(attn_prob, V)\n",
        "        return attn_out"
      ],
      "execution_count": 58,
      "outputs": []
    },
    {
      "cell_type": "markdown",
      "metadata": {
        "id": "QJ4wDtrPLHaE"
      },
      "source": [
        "### Test"
      ]
    },
    {
      "cell_type": "code",
      "metadata": {
        "id": "uzMyTIFrLHaE",
        "colab": {
          "base_uri": "https://localhost:8080/"
        },
        "outputId": "37f85430-0cc0-4501-e237-ac54e293078d"
      },
      "source": [
        "# ScaleDotProductAttention 클래스 기능 확인\n",
        "attention = ScaleDotProductAttention()\n",
        "\n",
        "attn_out = attention(Q, K, V, enc_self_mask)\n",
        "# class 값과 직접 계산한 attention_output과 동일하면 정상\n",
        "assert np.array_equal(attention_output, attn_out)\n",
        "attn_out"
      ],
      "execution_count": 59,
      "outputs": [
        {
          "output_type": "execute_result",
          "data": {
            "text/plain": [
              "<tf.Tensor: shape=(1, 6, 4), dtype=float32, numpy=\n",
              "array([[[0.5540489 , 0.5566434 , 0.5607587 , 0.52133846],\n",
              "        [0.6235996 , 0.59294856, 0.55475605, 0.59179103],\n",
              "        [0.55599946, 0.55898833, 0.55336285, 0.5197811 ],\n",
              "        [0.60515684, 0.5719289 , 0.5352698 , 0.56676453],\n",
              "        [0.5928414 , 0.5675743 , 0.55071187, 0.56034195],\n",
              "        [0.5552487 , 0.5590587 , 0.5491793 , 0.5170673 ]]], dtype=float32)>"
            ]
          },
          "metadata": {},
          "execution_count": 59
        }
      ]
    },
    {
      "cell_type": "markdown",
      "metadata": {
        "id": "ZZYToSV7yRVF"
      },
      "source": [
        "## Scaled dot product attention (Decoder Masked Self Attentio)\n",
        "\n",
        "![](https://paul-hyun.github.io/assets/transformer/scaled_dot_attention_decoder.png)"
      ]
    },
    {
      "cell_type": "markdown",
      "metadata": {
        "id": "VlhvQ5TcKlp_"
      },
      "source": [
        "### Tutorial"
      ]
    },
    {
      "cell_type": "code",
      "metadata": {
        "id": "t2vVkvAQ099L",
        "colab": {
          "base_uri": "https://localhost:8080/"
        },
        "outputId": "6a5c0caf-bf9a-4dfe-eb4c-cb77aa1f5dad"
      },
      "source": [
        "# ahead mask 계산\n",
        "dec_self_mask = get_ahead_mask(dec_tokens)\n",
        "dec_self_mask"
      ],
      "execution_count": 60,
      "outputs": [
        {
          "output_type": "execute_result",
          "data": {
            "text/plain": [
              "<tf.Tensor: shape=(1, 5, 5), dtype=float32, numpy=\n",
              "array([[[0., 1., 1., 1., 1.],\n",
              "        [0., 0., 1., 1., 1.],\n",
              "        [0., 0., 0., 1., 1.],\n",
              "        [0., 0., 0., 0., 1.],\n",
              "        [0., 0., 0., 0., 1.]]], dtype=float32)>"
            ]
          },
          "metadata": {},
          "execution_count": 60
        }
      ]
    },
    {
      "cell_type": "code",
      "metadata": {
        "id": "BHDRgT9sY9XN",
        "colab": {
          "base_uri": "https://localhost:8080/"
        },
        "outputId": "53b332e7-0f80-4285-ef25-f031d03cd0c5"
      },
      "source": [
        "# Q\n",
        "Q = int_embedding(dec_tokens)\n",
        "Q"
      ],
      "execution_count": 61,
      "outputs": [
        {
          "output_type": "execute_result",
          "data": {
            "text/plain": [
              "<tf.Tensor: shape=(1, 5, 4), dtype=float32, numpy=\n",
              "array([[[0.7, 0.4, 0.2, 0.3],\n",
              "        [0.9, 0.9, 0.7, 0.9],\n",
              "        [0.6, 0.3, 0.6, 0.7],\n",
              "        [0.6, 0.3, 0.7, 0.4],\n",
              "        [0.1, 0.7, 0.3, 0.1]]], dtype=float32)>"
            ]
          },
          "metadata": {},
          "execution_count": 61
        }
      ]
    },
    {
      "cell_type": "code",
      "metadata": {
        "id": "68Vh6DMK2rUH"
      },
      "source": [
        "# Q, K, V는 모두 같음\n",
        "K = Q\n",
        "V = K"
      ],
      "execution_count": 62,
      "outputs": []
    },
    {
      "cell_type": "code",
      "metadata": {
        "id": "6VdnLr0k2Q0t",
        "colab": {
          "base_uri": "https://localhost:8080/"
        },
        "outputId": "b18b2bfd-549c-4b8a-b4f2-4a29a5d756df"
      },
      "source": [
        "# attention score 계산\n",
        "attention_score = tf.matmul(Q, K, transpose_b=True)\n",
        "attention_score"
      ],
      "execution_count": 63,
      "outputs": [
        {
          "output_type": "execute_result",
          "data": {
            "text/plain": [
              "<tf.Tensor: shape=(1, 5, 5), dtype=float32, numpy=\n",
              "array([[[0.78000003, 1.4       , 0.87      , 0.8       , 0.44      ],\n",
              "        [1.4       , 2.9199998 , 1.86      , 1.66      , 1.02      ],\n",
              "        [0.87      , 1.86      , 1.3000001 , 1.15      , 0.52000004],\n",
              "        [0.8       , 1.66      , 1.15      , 1.1       , 0.52000004],\n",
              "        [0.44      , 1.02      , 0.52000004, 0.52000004, 0.59999996]]],\n",
              "      dtype=float32)>"
            ]
          },
          "metadata": {},
          "execution_count": 63
        }
      ]
    },
    {
      "cell_type": "code",
      "metadata": {
        "id": "84tkL_dr2V21",
        "colab": {
          "base_uri": "https://localhost:8080/"
        },
        "outputId": "fe63191a-d674-4960-d990-9be001e2efc3"
      },
      "source": [
        "# attention score를 scal로 나눔\n",
        "attention_scaled = tf.math.divide(attention_score, scale)\n",
        "attention_scaled"
      ],
      "execution_count": 64,
      "outputs": [
        {
          "output_type": "execute_result",
          "data": {
            "text/plain": [
              "<tf.Tensor: shape=(1, 5, 5), dtype=float32, numpy=\n",
              "array([[[0.39000002, 0.7       , 0.435     , 0.4       , 0.22      ],\n",
              "        [0.7       , 1.4599999 , 0.93      , 0.83      , 0.51      ],\n",
              "        [0.435     , 0.93      , 0.65000004, 0.575     , 0.26000002],\n",
              "        [0.4       , 0.83      , 0.575     , 0.55      , 0.26000002],\n",
              "        [0.22      , 0.51      , 0.26000002, 0.26000002, 0.29999998]]],\n",
              "      dtype=float32)>"
            ]
          },
          "metadata": {},
          "execution_count": 64
        }
      ]
    },
    {
      "cell_type": "code",
      "metadata": {
        "id": "dBK4CDoZ2ZR2",
        "colab": {
          "base_uri": "https://localhost:8080/"
        },
        "outputId": "1f9581aa-f326-4ef0-928b-e337f6f9eebb"
      },
      "source": [
        "# mask 해야할 부분이 매우 큰 음수를 뺌\n",
        "attention_masked = attention_scaled - 1.e9 * dec_self_mask\n",
        "attention_masked"
      ],
      "execution_count": 65,
      "outputs": [
        {
          "output_type": "execute_result",
          "data": {
            "text/plain": [
              "<tf.Tensor: shape=(1, 5, 5), dtype=float32, numpy=\n",
              "array([[[ 3.9000002e-01, -1.0000000e+09, -1.0000000e+09, -1.0000000e+09,\n",
              "         -1.0000000e+09],\n",
              "        [ 6.9999999e-01,  1.4599999e+00, -1.0000000e+09, -1.0000000e+09,\n",
              "         -1.0000000e+09],\n",
              "        [ 4.3500000e-01,  9.3000001e-01,  6.5000004e-01, -1.0000000e+09,\n",
              "         -1.0000000e+09],\n",
              "        [ 4.0000001e-01,  8.2999998e-01,  5.7499999e-01,  5.5000001e-01,\n",
              "         -1.0000000e+09],\n",
              "        [ 2.2000000e-01,  5.0999999e-01,  2.6000002e-01,  2.6000002e-01,\n",
              "         -1.0000000e+09]]], dtype=float32)>"
            ]
          },
          "metadata": {},
          "execution_count": 65
        }
      ]
    },
    {
      "cell_type": "code",
      "metadata": {
        "id": "TmBbfOfq2dnU",
        "colab": {
          "base_uri": "https://localhost:8080/"
        },
        "outputId": "38878662-21e6-4c6c-f445-206985fc8b3d"
      },
      "source": [
        "# attention 확률분포 계산\n",
        "attention_prob = tf.nn.softmax(attention_masked, axis=-1)\n",
        "attention_prob"
      ],
      "execution_count": 66,
      "outputs": [
        {
          "output_type": "execute_result",
          "data": {
            "text/plain": [
              "<tf.Tensor: shape=(1, 5, 5), dtype=float32, numpy=\n",
              "array([[[1.        , 0.        , 0.        , 0.        , 0.        ],\n",
              "        [0.31864628, 0.68135375, 0.        , 0.        , 0.        ],\n",
              "        [0.25770804, 0.42276955, 0.31952235, 0.        , 0.        ],\n",
              "        [0.20448485, 0.31434587, 0.2435918 , 0.2375775 , 0.        ],\n",
              "        [0.22634424, 0.30249268, 0.23558153, 0.23558153, 0.        ]]],\n",
              "      dtype=float32)>"
            ]
          },
          "metadata": {},
          "execution_count": 66
        }
      ]
    },
    {
      "cell_type": "code",
      "metadata": {
        "id": "5n9pOBvR3NkG",
        "colab": {
          "base_uri": "https://localhost:8080/"
        },
        "outputId": "d7d6bd7f-873e-48c2-e917-02c199b4ff75"
      },
      "source": [
        "# attention output 계산\n",
        "attention_output = tf.matmul(attention_prob, V)\n",
        "attention_output"
      ],
      "execution_count": 67,
      "outputs": [
        {
          "output_type": "execute_result",
          "data": {
            "text/plain": [
              "<tf.Tensor: shape=(1, 5, 4), dtype=float32, numpy=\n",
              "array([[[0.7       , 0.4       , 0.2       , 0.3       ],\n",
              "        [0.83627075, 0.7406769 , 0.5406769 , 0.70881224],\n",
              "        [0.7526016 , 0.5794325 , 0.5391937 , 0.68147063],\n",
              "        [0.7147522 , 0.509056  , 0.5733984 , 0.609802  ],\n",
              "        [0.7133822 , 0.50413   , 0.56326973, 0.5992864 ]]], dtype=float32)>"
            ]
          },
          "metadata": {},
          "execution_count": 67
        }
      ]
    },
    {
      "cell_type": "markdown",
      "metadata": {
        "id": "O33u8_SWKrH4"
      },
      "source": [
        "### Test"
      ]
    },
    {
      "cell_type": "code",
      "metadata": {
        "id": "FeBoulyk2Ij3",
        "colab": {
          "base_uri": "https://localhost:8080/"
        },
        "outputId": "d5ac5e21-2c5b-4394-9f40-0a5051f7e468"
      },
      "source": [
        "# ScaleDotProductAttention 클래스 기능 확인\n",
        "attention = ScaleDotProductAttention()\n",
        "\n",
        "attn_out = attention(Q, K, V, dec_self_mask)\n",
        "# class 값과 직접 계산한 attention_output과 동일하면 정상\n",
        "assert np.array_equal(attention_output, attn_out)\n",
        "attn_out"
      ],
      "execution_count": 68,
      "outputs": [
        {
          "output_type": "execute_result",
          "data": {
            "text/plain": [
              "<tf.Tensor: shape=(1, 5, 4), dtype=float32, numpy=\n",
              "array([[[0.7       , 0.4       , 0.2       , 0.3       ],\n",
              "        [0.83627075, 0.7406769 , 0.5406769 , 0.70881224],\n",
              "        [0.7526016 , 0.5794325 , 0.5391937 , 0.68147063],\n",
              "        [0.7147522 , 0.509056  , 0.5733984 , 0.609802  ],\n",
              "        [0.7133822 , 0.50413   , 0.56326973, 0.5992864 ]]], dtype=float32)>"
            ]
          },
          "metadata": {},
          "execution_count": 68
        }
      ]
    },
    {
      "cell_type": "markdown",
      "metadata": {
        "id": "oPBEA8FAl39-"
      },
      "source": [
        "## Scaled dot product attention (Encoder Decoder Attention)\n",
        "\n",
        "![](https://paul-hyun.github.io/assets/transformer/scaled_dot_attention_ende.png)"
      ]
    },
    {
      "cell_type": "markdown",
      "metadata": {
        "id": "64BhMxZ4KUI1"
      },
      "source": [
        "### Tutorial"
      ]
    },
    {
      "cell_type": "code",
      "metadata": {
        "id": "UZMU3cCBplu5",
        "colab": {
          "base_uri": "https://localhost:8080/"
        },
        "outputId": "bb1dac42-d714-407b-eb2f-e1384a461fcf"
      },
      "source": [
        "# K pad mask\n",
        "ende_attn_mask = get_pad_mask(enc_tokens)\n",
        "ende_attn_mask"
      ],
      "execution_count": 69,
      "outputs": [
        {
          "output_type": "execute_result",
          "data": {
            "text/plain": [
              "<tf.Tensor: shape=(1, 1, 6), dtype=float32, numpy=array([[[0., 0., 0., 0., 0., 1.]]], dtype=float32)>"
            ]
          },
          "metadata": {},
          "execution_count": 69
        }
      ]
    },
    {
      "cell_type": "code",
      "metadata": {
        "id": "P6Y713Sw59_3",
        "colab": {
          "base_uri": "https://localhost:8080/"
        },
        "outputId": "01fc7ead-c90c-4575-a294-6c12df987118"
      },
      "source": [
        "Q = int_embedding(dec_tokens)\n",
        "Q"
      ],
      "execution_count": 70,
      "outputs": [
        {
          "output_type": "execute_result",
          "data": {
            "text/plain": [
              "<tf.Tensor: shape=(1, 5, 4), dtype=float32, numpy=\n",
              "array([[[0.7, 0.4, 0.2, 0.3],\n",
              "        [0.9, 0.9, 0.7, 0.9],\n",
              "        [0.6, 0.3, 0.6, 0.7],\n",
              "        [0.6, 0.3, 0.7, 0.4],\n",
              "        [0.1, 0.7, 0.3, 0.1]]], dtype=float32)>"
            ]
          },
          "metadata": {},
          "execution_count": 70
        }
      ]
    },
    {
      "cell_type": "code",
      "metadata": {
        "id": "l4Zm-xaC5l13",
        "colab": {
          "base_uri": "https://localhost:8080/"
        },
        "outputId": "4a9a0914-74e2-47cc-9864-9577e11cdf25"
      },
      "source": [
        "K = int_embedding(enc_tokens)\n",
        "V = K\n",
        "K"
      ],
      "execution_count": 71,
      "outputs": [
        {
          "output_type": "execute_result",
          "data": {
            "text/plain": [
              "<tf.Tensor: shape=(1, 6, 4), dtype=float32, numpy=\n",
              "array([[[0.2, 0.4, 0.8, 0.2],\n",
              "        [0.9, 0.9, 0.7, 0.9],\n",
              "        [0.2, 0.6, 0.5, 0.1],\n",
              "        [0.8, 0.5, 0.1, 0.6],\n",
              "        [0.6, 0.3, 0.6, 0.7],\n",
              "        [0.1, 0.7, 0.3, 0.1]]], dtype=float32)>"
            ]
          },
          "metadata": {},
          "execution_count": 71
        }
      ]
    },
    {
      "cell_type": "code",
      "metadata": {
        "id": "5Xfr2fWUpu2M",
        "colab": {
          "base_uri": "https://localhost:8080/"
        },
        "outputId": "15668207-6df0-4222-dc8a-84aaa83f79ef"
      },
      "source": [
        "# attention score\n",
        "attention_score = tf.matmul(Q, K, transpose_b=True)\n",
        "attention_score"
      ],
      "execution_count": 72,
      "outputs": [
        {
          "output_type": "execute_result",
          "data": {
            "text/plain": [
              "<tf.Tensor: shape=(1, 5, 6), dtype=float32, numpy=\n",
              "array([[[0.52000004, 1.4       , 0.51000005, 0.96      , 0.87      ,\n",
              "         0.44      ],\n",
              "        [1.2799999 , 2.9199998 , 1.1600001 , 1.78      , 1.86      ,\n",
              "         1.02      ],\n",
              "        [0.86      , 1.86      , 0.67      , 1.11      , 1.3000001 ,\n",
              "         0.52000004],\n",
              "        [0.88      , 1.66      , 0.69      , 0.94      , 1.15      ,\n",
              "         0.52000004],\n",
              "        [0.56      , 1.02      , 0.6       , 0.52000004, 0.52000004,\n",
              "         0.59999996]]], dtype=float32)>"
            ]
          },
          "metadata": {},
          "execution_count": 72
        }
      ]
    },
    {
      "cell_type": "code",
      "metadata": {
        "id": "-wCXHWVgp2KI",
        "colab": {
          "base_uri": "https://localhost:8080/"
        },
        "outputId": "7bd908a6-002f-465c-b0cd-95f94a52f4e7"
      },
      "source": [
        "# scale 계산\n",
        "scale = tf.math.sqrt(tf.cast(tf.shape(K)[-1], tf.float32))\n",
        "scale"
      ],
      "execution_count": 73,
      "outputs": [
        {
          "output_type": "execute_result",
          "data": {
            "text/plain": [
              "<tf.Tensor: shape=(), dtype=float32, numpy=2.0>"
            ]
          },
          "metadata": {},
          "execution_count": 73
        }
      ]
    },
    {
      "cell_type": "code",
      "metadata": {
        "id": "yz1ULURnqCQg",
        "colab": {
          "base_uri": "https://localhost:8080/"
        },
        "outputId": "e9337897-bad7-43f4-c40f-6e26e261c309"
      },
      "source": [
        "# attention_score를 scale로 나눔\n",
        "attention_scaled = tf.math.divide(attention_score, scale)\n",
        "attention_scaled"
      ],
      "execution_count": 74,
      "outputs": [
        {
          "output_type": "execute_result",
          "data": {
            "text/plain": [
              "<tf.Tensor: shape=(1, 5, 6), dtype=float32, numpy=\n",
              "array([[[0.26000002, 0.7       , 0.25500003, 0.48      , 0.435     ,\n",
              "         0.22      ],\n",
              "        [0.6399999 , 1.4599999 , 0.58000004, 0.89      , 0.93      ,\n",
              "         0.51      ],\n",
              "        [0.43      , 0.93      , 0.335     , 0.555     , 0.65000004,\n",
              "         0.26000002],\n",
              "        [0.44      , 0.83      , 0.345     , 0.47      , 0.575     ,\n",
              "         0.26000002],\n",
              "        [0.28      , 0.51      , 0.3       , 0.26000002, 0.26000002,\n",
              "         0.29999998]]], dtype=float32)>"
            ]
          },
          "metadata": {},
          "execution_count": 74
        }
      ]
    },
    {
      "cell_type": "code",
      "metadata": {
        "id": "8sn-fgrBsKdv",
        "colab": {
          "base_uri": "https://localhost:8080/"
        },
        "outputId": "522f697d-b6d6-4a99-90cd-3d3e409c6548"
      },
      "source": [
        "# mask 해야할 부분이 매우 큰 음수를 뺌\n",
        "attention_masked = attention_scaled - 1.e9 * ende_attn_mask\n",
        "attention_masked"
      ],
      "execution_count": 75,
      "outputs": [
        {
          "output_type": "execute_result",
          "data": {
            "text/plain": [
              "<tf.Tensor: shape=(1, 5, 6), dtype=float32, numpy=\n",
              "array([[[ 2.6000002e-01,  6.9999999e-01,  2.5500003e-01,  4.7999999e-01,\n",
              "          4.3500000e-01, -1.0000000e+09],\n",
              "        [ 6.3999993e-01,  1.4599999e+00,  5.8000004e-01,  8.8999999e-01,\n",
              "          9.3000001e-01, -1.0000000e+09],\n",
              "        [ 4.3000001e-01,  9.3000001e-01,  3.3500001e-01,  5.5500001e-01,\n",
              "          6.5000004e-01, -1.0000000e+09],\n",
              "        [ 4.4000000e-01,  8.2999998e-01,  3.4500000e-01,  4.7000000e-01,\n",
              "          5.7499999e-01, -1.0000000e+09],\n",
              "        [ 2.8000000e-01,  5.0999999e-01,  3.0000001e-01,  2.6000002e-01,\n",
              "          2.6000002e-01, -1.0000000e+09]]], dtype=float32)>"
            ]
          },
          "metadata": {},
          "execution_count": 75
        }
      ]
    },
    {
      "cell_type": "code",
      "metadata": {
        "id": "ZjKnrJIYsabT",
        "colab": {
          "base_uri": "https://localhost:8080/"
        },
        "outputId": "f4dc66dc-b326-4a97-b783-b287c29972fb"
      },
      "source": [
        "# attention 확률분포 계산\n",
        "attention_prob = tf.nn.softmax(attention_masked, axis=-1)\n",
        "attention_prob"
      ],
      "execution_count": 76,
      "outputs": [
        {
          "output_type": "execute_result",
          "data": {
            "text/plain": [
              "<tf.Tensor: shape=(1, 5, 6), dtype=float32, numpy=\n",
              "array([[[0.16708319, 0.25943124, 0.16624986, 0.20819846, 0.19903721,\n",
              "         0.        ],\n",
              "        [0.14635466, 0.33229822, 0.13783166, 0.1879231 , 0.1955924 ,\n",
              "         0.        ],\n",
              "        [0.16842617, 0.27768782, 0.1531622 , 0.19085187, 0.20987193,\n",
              "         0.        ],\n",
              "        [0.17981263, 0.26557976, 0.16351673, 0.18528873, 0.20580216,\n",
              "         0.        ],\n",
              "        [0.19086887, 0.24022757, 0.19472468, 0.18708941, 0.18708941,\n",
              "         0.        ]]], dtype=float32)>"
            ]
          },
          "metadata": {},
          "execution_count": 76
        }
      ]
    },
    {
      "cell_type": "code",
      "metadata": {
        "id": "dkYVG5hxsjel",
        "colab": {
          "base_uri": "https://localhost:8080/"
        },
        "outputId": "67a6c6c0-440a-4cb7-f470-a24972fd3ab8"
      },
      "source": [
        "# attention output 계산\n",
        "attention_output = tf.matmul(attention_prob, V)\n",
        "attention_output"
      ],
      "execution_count": 77,
      "outputs": [
        {
          "output_type": "execute_result",
          "data": {
            "text/plain": [
              "<tf.Tensor: shape=(1, 5, 4), dtype=float32, numpy=\n",
              "array([[[0.5861358 , 0.5638817 , 0.53863555, 0.54777485],\n",
              "        [0.6235996 , 0.59294856, 0.55475605, 0.59179103],\n",
              "        [0.5928414 , 0.5675743 , 0.55071187, 0.56034195],\n",
              "        [0.5793999 , 0.5634419 , 0.55352443, 0.5465707 ],\n",
              "        [0.5552487 , 0.5590587 , 0.5491793 , 0.5170673 ]]], dtype=float32)>"
            ]
          },
          "metadata": {},
          "execution_count": 77
        }
      ]
    },
    {
      "cell_type": "markdown",
      "metadata": {
        "id": "SbQ-4OZ2KdbH"
      },
      "source": [
        "### Test"
      ]
    },
    {
      "cell_type": "code",
      "metadata": {
        "id": "41x0arlEwnFJ",
        "colab": {
          "base_uri": "https://localhost:8080/"
        },
        "outputId": "88c2c16d-2ffb-462a-91db-b255f5dfb396"
      },
      "source": [
        "# ScaleDotProductAttention 클래스 기능 확인\n",
        "attention = ScaleDotProductAttention()\n",
        "\n",
        "attn_out = attention(Q, K, V, ende_attn_mask)\n",
        "# class 값과 직접 계산한 attention_output과 동일하면 정상\n",
        "assert np.array_equal(attention_output, attn_out)\n",
        "attn_out"
      ],
      "execution_count": 78,
      "outputs": [
        {
          "output_type": "execute_result",
          "data": {
            "text/plain": [
              "<tf.Tensor: shape=(1, 5, 4), dtype=float32, numpy=\n",
              "array([[[0.5861358 , 0.5638817 , 0.53863555, 0.54777485],\n",
              "        [0.6235996 , 0.59294856, 0.55475605, 0.59179103],\n",
              "        [0.5928414 , 0.5675743 , 0.55071187, 0.56034195],\n",
              "        [0.5793999 , 0.5634419 , 0.55352443, 0.5465707 ],\n",
              "        [0.5552487 , 0.5590587 , 0.5491793 , 0.5170673 ]]], dtype=float32)>"
            ]
          },
          "metadata": {},
          "execution_count": 78
        }
      ]
    },
    {
      "cell_type": "markdown",
      "metadata": {
        "id": "sc0xdcL-6ZZl"
      },
      "source": [
        "## Multi Head Attention\n",
        "\n",
        "![](https://paul-hyun.github.io/assets/transformer/multihead_attention.png)"
      ]
    },
    {
      "cell_type": "markdown",
      "metadata": {
        "id": "W_ks6mcOKzow"
      },
      "source": [
        "### Tutorial"
      ]
    },
    {
      "cell_type": "code",
      "metadata": {
        "id": "VGCkd7u65dBq"
      },
      "source": [
        "# SharedEmbedding\n",
        "embedding = SharedEmbedding(config)"
      ],
      "execution_count": 79,
      "outputs": []
    },
    {
      "cell_type": "code",
      "metadata": {
        "id": "tgRVy_TacLgU",
        "colab": {
          "base_uri": "https://localhost:8080/"
        },
        "outputId": "d563bbc3-1c6d-41ee-b7cd-1be8924188e5"
      },
      "source": [
        "# Q\n",
        "Q = embedding(dec_tokens)\n",
        "Q"
      ],
      "execution_count": 80,
      "outputs": [
        {
          "output_type": "execute_result",
          "data": {
            "text/plain": [
              "<tf.Tensor: shape=(1, 5, 8), dtype=float32, numpy=\n",
              "array([[[-1.8684977 , -0.10887106, -1.6283252 , -0.09412991,\n",
              "         -0.9135378 , -0.5230187 ,  0.18054976,  1.0659311 ],\n",
              "        [-1.851637  , -0.52205473, -1.1127012 ,  0.556745  ,\n",
              "         -1.2216276 ,  0.70823485, -0.7989583 , -0.48866653],\n",
              "        [-0.20390666,  0.557556  , -0.40127853,  0.23037535,\n",
              "          0.02648634, -1.6108699 , -0.32580003, -0.3013221 ],\n",
              "        [ 0.8284642 ,  1.1036007 , -0.78627795,  1.6918567 ,\n",
              "         -0.34767905,  1.3073093 ,  0.2444622 , -0.7029787 ],\n",
              "        [-0.3198804 ,  1.3575249 , -0.15776914,  0.5804112 ,\n",
              "          0.4537885 ,  0.9504126 ,  1.6937659 ,  1.2484983 ]]],\n",
              "      dtype=float32)>"
            ]
          },
          "metadata": {},
          "execution_count": 80
        }
      ]
    },
    {
      "cell_type": "code",
      "metadata": {
        "id": "5UlS_GDGCchP",
        "colab": {
          "base_uri": "https://localhost:8080/"
        },
        "outputId": "03c0a9d4-9a52-4116-8089-0e7af7f513ed"
      },
      "source": [
        "# K, V\n",
        "K = embedding(enc_tokens)\n",
        "V = K\n",
        "K"
      ],
      "execution_count": 81,
      "outputs": [
        {
          "output_type": "execute_result",
          "data": {
            "text/plain": [
              "<tf.Tensor: shape=(1, 6, 8), dtype=float32, numpy=\n",
              "array([[[ 0.19626832,  1.6160245 , -1.5125287 ,  0.8802097 ,\n",
              "          0.43964735, -0.49681696,  0.9233131 , -1.0172113 ],\n",
              "        [-1.851637  , -0.52205473, -1.1127012 ,  0.556745  ,\n",
              "         -1.2216276 ,  0.70823485, -0.7989583 , -0.48866653],\n",
              "        [-0.39263427, -1.7194668 ,  1.8227654 , -0.15567164,\n",
              "         -0.6654087 ,  0.68538827,  0.68061626,  0.74703187],\n",
              "        [-1.3610662 , -1.8012775 , -0.09980725, -0.69201565,\n",
              "         -1.6705056 , -0.07607771, -0.5028183 , -0.22716261],\n",
              "        [-0.20390666,  0.557556  , -0.40127853,  0.23037535,\n",
              "          0.02648634, -1.6108699 , -0.32580003, -0.3013221 ],\n",
              "        [-0.3198804 ,  1.3575249 , -0.15776914,  0.5804112 ,\n",
              "          0.4537885 ,  0.9504126 ,  1.6937659 ,  1.2484983 ]]],\n",
              "      dtype=float32)>"
            ]
          },
          "metadata": {},
          "execution_count": 81
        }
      ]
    },
    {
      "cell_type": "code",
      "metadata": {
        "id": "XcgGGASr-XKZ",
        "colab": {
          "base_uri": "https://localhost:8080/"
        },
        "outputId": "5527a391-055f-4469-fd2b-48ad281c0282"
      },
      "source": [
        "# Q에 Weight W_Q 곱함\n",
        "W_Q = tf.keras.layers.Dense(config.n_head * config.d_head)\n",
        "Q_multi_1 = W_Q(Q)\n",
        "Q_multi_1"
      ],
      "execution_count": 82,
      "outputs": [
        {
          "output_type": "execute_result",
          "data": {
            "text/plain": [
              "<tf.Tensor: shape=(1, 5, 8), dtype=float32, numpy=\n",
              "array([[[ 0.60726416,  0.361799  ,  0.32159328,  1.0295479 ,\n",
              "          2.0804245 , -0.75704414, -0.34533685,  1.0343486 ],\n",
              "        [ 0.4654265 ,  0.6619142 , -0.23965865, -0.07134926,\n",
              "          1.7227608 ,  0.51219004, -0.8823885 ,  0.36687952],\n",
              "        [ 0.541306  , -0.9074034 ,  0.27299052, -0.47244957,\n",
              "          0.6666978 , -0.36000645,  0.40457243,  0.09094184],\n",
              "        [ 0.7040179 ,  1.3128388 ,  0.02026616, -0.20661889,\n",
              "          1.2101818 ,  0.39174786, -0.87256515,  2.2761583 ],\n",
              "        [-0.39734784,  1.7864554 , -0.09988443,  0.53837633,\n",
              "          0.7466715 , -0.85641634,  0.32024756,  2.4470556 ]]],\n",
              "      dtype=float32)>"
            ]
          },
          "metadata": {},
          "execution_count": 82
        }
      ]
    },
    {
      "cell_type": "code",
      "metadata": {
        "id": "bzHKYhM7-rzx",
        "colab": {
          "base_uri": "https://localhost:8080/"
        },
        "outputId": "9e6b4fba-a69e-4de7-e583-acd80969e5e5"
      },
      "source": [
        "# 여러 개의 head로 분할\n",
        "Q_multi_2 = tf.reshape(Q_multi_1, [tf.shape(Q)[0], -1, config.n_head, config.d_head])  # (bs, n_seq, n_head, d_head)\n",
        "Q_multi_2"
      ],
      "execution_count": 83,
      "outputs": [
        {
          "output_type": "execute_result",
          "data": {
            "text/plain": [
              "<tf.Tensor: shape=(1, 5, 2, 4), dtype=float32, numpy=\n",
              "array([[[[ 0.60726416,  0.361799  ,  0.32159328,  1.0295479 ],\n",
              "         [ 2.0804245 , -0.75704414, -0.34533685,  1.0343486 ]],\n",
              "\n",
              "        [[ 0.4654265 ,  0.6619142 , -0.23965865, -0.07134926],\n",
              "         [ 1.7227608 ,  0.51219004, -0.8823885 ,  0.36687952]],\n",
              "\n",
              "        [[ 0.541306  , -0.9074034 ,  0.27299052, -0.47244957],\n",
              "         [ 0.6666978 , -0.36000645,  0.40457243,  0.09094184]],\n",
              "\n",
              "        [[ 0.7040179 ,  1.3128388 ,  0.02026616, -0.20661889],\n",
              "         [ 1.2101818 ,  0.39174786, -0.87256515,  2.2761583 ]],\n",
              "\n",
              "        [[-0.39734784,  1.7864554 , -0.09988443,  0.53837633],\n",
              "         [ 0.7466715 , -0.85641634,  0.32024756,  2.4470556 ]]]],\n",
              "      dtype=float32)>"
            ]
          },
          "metadata": {},
          "execution_count": 83
        }
      ]
    },
    {
      "cell_type": "code",
      "metadata": {
        "id": "vdCKZWoV-7Ad",
        "colab": {
          "base_uri": "https://localhost:8080/"
        },
        "outputId": "031bccc1-b193-427f-a7ca-35307c37946e"
      },
      "source": [
        "# bs, number of head, seq length, dim of head 가 되도록 정렬\n",
        "Q_multi = tf.transpose(Q_multi_2, [0, 2, 1, 3])  # (bs, h_head, n_seq, d_head)\n",
        "Q_multi"
      ],
      "execution_count": 84,
      "outputs": [
        {
          "output_type": "execute_result",
          "data": {
            "text/plain": [
              "<tf.Tensor: shape=(1, 2, 5, 4), dtype=float32, numpy=\n",
              "array([[[[ 0.60726416,  0.361799  ,  0.32159328,  1.0295479 ],\n",
              "         [ 0.4654265 ,  0.6619142 , -0.23965865, -0.07134926],\n",
              "         [ 0.541306  , -0.9074034 ,  0.27299052, -0.47244957],\n",
              "         [ 0.7040179 ,  1.3128388 ,  0.02026616, -0.20661889],\n",
              "         [-0.39734784,  1.7864554 , -0.09988443,  0.53837633]],\n",
              "\n",
              "        [[ 2.0804245 , -0.75704414, -0.34533685,  1.0343486 ],\n",
              "         [ 1.7227608 ,  0.51219004, -0.8823885 ,  0.36687952],\n",
              "         [ 0.6666978 , -0.36000645,  0.40457243,  0.09094184],\n",
              "         [ 1.2101818 ,  0.39174786, -0.87256515,  2.2761583 ],\n",
              "         [ 0.7466715 , -0.85641634,  0.32024756,  2.4470556 ]]]],\n",
              "      dtype=float32)>"
            ]
          },
          "metadata": {},
          "execution_count": 84
        }
      ]
    },
    {
      "cell_type": "code",
      "metadata": {
        "id": "0g9OJ_Bk_OmD",
        "colab": {
          "base_uri": "https://localhost:8080/"
        },
        "outputId": "bee2bfe4-b182-42de-90d5-010f82cc58d8"
      },
      "source": [
        "# K multi head로 분할\n",
        "W_K = tf.keras.layers.Dense(config.n_head * config.d_head)\n",
        "K_multi = tf.transpose(tf.reshape(W_K(K), [tf.shape(K)[0], -1, config.n_head, config.d_head]), [0, 2, 1, 3])  # (bs, h_head, n_seq, d_head)\n",
        "K_multi"
      ],
      "execution_count": 85,
      "outputs": [
        {
          "output_type": "execute_result",
          "data": {
            "text/plain": [
              "<tf.Tensor: shape=(1, 2, 6, 4), dtype=float32, numpy=\n",
              "array([[[[ 0.44157648,  0.6153864 ,  1.0823401 , -0.86922544],\n",
              "         [-0.07734159, -1.2439793 , -0.5060919 ,  0.7221384 ],\n",
              "         [-0.3402935 , -0.2853378 , -1.085498  ,  1.3541912 ],\n",
              "         [-0.669067  , -0.89185184, -1.4189061 ,  0.1956557 ],\n",
              "         [-0.09156862,  0.6330453 ,  0.3475441 , -0.74757963],\n",
              "         [ 1.2972405 ,  0.22881109,  0.81454617,  1.3349972 ]],\n",
              "\n",
              "        [[ 1.8166772 , -1.2446975 ,  0.44066074, -0.86773616],\n",
              "         [ 1.7250284 ,  0.31310382,  1.3237872 , -1.119676  ],\n",
              "         [-0.2359419 ,  2.147542  , -0.1751713 ,  0.5203572 ],\n",
              "         [ 0.38042784,  0.8608245 ,  0.5974173 , -0.59115237],\n",
              "         [-0.35097072, -1.2586634 , -0.368381  , -0.14807175],\n",
              "         [ 1.1672742 ,  0.70805603,  0.5896891 , -0.94566447]]]],\n",
              "      dtype=float32)>"
            ]
          },
          "metadata": {},
          "execution_count": 85
        }
      ]
    },
    {
      "cell_type": "code",
      "metadata": {
        "id": "JdUJuxmm_ZHp",
        "colab": {
          "base_uri": "https://localhost:8080/"
        },
        "outputId": "fb9f9075-c770-46b4-fe74-6bdc71e015d7"
      },
      "source": [
        "# V multi head로 분할\n",
        "W_V = tf.keras.layers.Dense(config.n_head * config.d_head)\n",
        "V_multi = tf.transpose(tf.reshape(W_V(V), [tf.shape(V)[0], -1, config.n_head, config.d_head]), [0, 2, 1, 3])  # (bs, h_head, n_seq, d_head)\n",
        "V_multi"
      ],
      "execution_count": 86,
      "outputs": [
        {
          "output_type": "execute_result",
          "data": {
            "text/plain": [
              "<tf.Tensor: shape=(1, 2, 6, 4), dtype=float32, numpy=\n",
              "array([[[[-0.05052545,  1.3679097 ,  0.06428895, -1.794766  ],\n",
              "         [ 0.30957353, -1.4764541 , -0.75112426,  0.456041  ],\n",
              "         [-0.86460584, -2.518207  ,  0.688274  ,  2.2011814 ],\n",
              "         [-0.3547636 , -1.8334684 , -0.7684364 ,  1.4162139 ],\n",
              "         [-0.61955553,  1.0833172 , -0.48860148, -1.2713012 ],\n",
              "         [ 0.90829   , -0.8477764 ,  2.1262171 ,  0.9595524 ]],\n",
              "\n",
              "        [[-1.1524616 , -0.30813012, -0.50484705, -0.3681637 ],\n",
              "         [-0.10167964,  1.8378878 , -0.3448023 ,  0.42790195],\n",
              "         [-0.23112503,  0.55959207, -0.5577835 , -0.05705123],\n",
              "         [ 0.0460737 ,  1.2424753 ,  0.45248488,  1.4593086 ],\n",
              "         [-0.79891145, -0.7697486 ,  0.7987878 ,  0.49396542],\n",
              "         [-0.48566887, -0.09066994, -1.72011   , -0.80178815]]]],\n",
              "      dtype=float32)>"
            ]
          },
          "metadata": {},
          "execution_count": 86
        }
      ]
    },
    {
      "cell_type": "code",
      "metadata": {
        "id": "qwMiDvqkB4eI",
        "colab": {
          "base_uri": "https://localhost:8080/"
        },
        "outputId": "43ed8095-abba-469e-9d75-76abfdcef4c6"
      },
      "source": [
        "# pad mask 구함 / decoder 일 경우는 ahead mask 구하면 됨\n",
        "ende_mask = get_pad_mask(enc_tokens)\n",
        "ende_mask"
      ],
      "execution_count": 87,
      "outputs": [
        {
          "output_type": "execute_result",
          "data": {
            "text/plain": [
              "<tf.Tensor: shape=(1, 1, 6), dtype=float32, numpy=array([[[0., 0., 0., 0., 0., 1.]]], dtype=float32)>"
            ]
          },
          "metadata": {},
          "execution_count": 87
        }
      ]
    },
    {
      "cell_type": "code",
      "metadata": {
        "id": "WUYOdq1QCA0x",
        "colab": {
          "base_uri": "https://localhost:8080/"
        },
        "outputId": "3d97823d-6b19-422a-feb7-e62d86c9d775"
      },
      "source": [
        "# Q_multi, K_mulit, V_multi와 동일한 차원이 되도록 차원을 늘려 줌\n",
        "ende_mask_multi = tf.expand_dims(ende_mask, axis=1)\n",
        "ende_mask_multi"
      ],
      "execution_count": 88,
      "outputs": [
        {
          "output_type": "execute_result",
          "data": {
            "text/plain": [
              "<tf.Tensor: shape=(1, 1, 1, 6), dtype=float32, numpy=array([[[[0., 0., 0., 0., 0., 1.]]]], dtype=float32)>"
            ]
          },
          "metadata": {},
          "execution_count": 88
        }
      ]
    },
    {
      "cell_type": "code",
      "metadata": {
        "id": "yuQjJWfcCH44",
        "colab": {
          "base_uri": "https://localhost:8080/"
        },
        "outputId": "ec870571-516f-408a-8a1b-a835a6058f6f"
      },
      "source": [
        "# ScaleDotProductAttention을 여러 head 동시 실행 함\n",
        "attention = ScaleDotProductAttention()\n",
        "attn_val_multi = attention(Q_multi, K_multi, V_multi, ende_mask_multi)  # (bs, n_head, Q_len, d_head)\n",
        "attn_val_multi"
      ],
      "execution_count": 89,
      "outputs": [
        {
          "output_type": "execute_result",
          "data": {
            "text/plain": [
              "<tf.Tensor: shape=(1, 2, 5, 4), dtype=float32, numpy=\n",
              "array([[[[-0.345626  , -0.84792   , -0.11944495,  0.3660898 ],\n",
              "         [-0.3459013 , -0.35639045, -0.20108911, -0.07225244],\n",
              "         [-0.21888992, -0.54503214, -0.33133984,  0.01956925],\n",
              "         [-0.3329003 ,  0.2834197 , -0.16911805, -0.6665487 ],\n",
              "         [-0.43358487, -0.34126753, -0.10640377, -0.03630598]],\n",
              "\n",
              "        [[-0.77040124,  0.25091764, -0.27838963,  0.02456311],\n",
              "         [-0.47615066,  0.6410982 , -0.23332983,  0.24423583],\n",
              "         [-0.54133904,  0.5510782 , -0.13543905,  0.28242606],\n",
              "         [-0.39123473,  0.46834344, -0.24057712,  0.19138525],\n",
              "         [-0.6347243 ,  0.14110588, -0.01146942,  0.23022273]]]],\n",
              "      dtype=float32)>"
            ]
          },
          "metadata": {},
          "execution_count": 89
        }
      ]
    },
    {
      "cell_type": "code",
      "metadata": {
        "id": "QMK74028ERaN",
        "colab": {
          "base_uri": "https://localhost:8080/"
        },
        "outputId": "6c1ac4b6-7b4b-4288-b535-a5ae7e6ff365"
      },
      "source": [
        "attention_transpose = tf.transpose(attn_val_multi, perm=[0, 2, 1, 3])  # (bs, Q_len, n_head, d_head)\n",
        "attention_transpose"
      ],
      "execution_count": 90,
      "outputs": [
        {
          "output_type": "execute_result",
          "data": {
            "text/plain": [
              "<tf.Tensor: shape=(1, 5, 2, 4), dtype=float32, numpy=\n",
              "array([[[[-0.345626  , -0.84792   , -0.11944495,  0.3660898 ],\n",
              "         [-0.77040124,  0.25091764, -0.27838963,  0.02456311]],\n",
              "\n",
              "        [[-0.3459013 , -0.35639045, -0.20108911, -0.07225244],\n",
              "         [-0.47615066,  0.6410982 , -0.23332983,  0.24423583]],\n",
              "\n",
              "        [[-0.21888992, -0.54503214, -0.33133984,  0.01956925],\n",
              "         [-0.54133904,  0.5510782 , -0.13543905,  0.28242606]],\n",
              "\n",
              "        [[-0.3329003 ,  0.2834197 , -0.16911805, -0.6665487 ],\n",
              "         [-0.39123473,  0.46834344, -0.24057712,  0.19138525]],\n",
              "\n",
              "        [[-0.43358487, -0.34126753, -0.10640377, -0.03630598],\n",
              "         [-0.6347243 ,  0.14110588, -0.01146942,  0.23022273]]]],\n",
              "      dtype=float32)>"
            ]
          },
          "metadata": {},
          "execution_count": 90
        }
      ]
    },
    {
      "cell_type": "code",
      "metadata": {
        "id": "nVO0kq3_EgG2",
        "colab": {
          "base_uri": "https://localhost:8080/"
        },
        "outputId": "65a0fadc-bcdf-4b3c-832c-38f1d50ad946"
      },
      "source": [
        "attention_concat = tf.reshape(attention_transpose, [tf.shape(Q)[0], -1, config.n_head * config.d_head])  # (bs, Q_len, n_head * d_head)\n",
        "attention_concat"
      ],
      "execution_count": 91,
      "outputs": [
        {
          "output_type": "execute_result",
          "data": {
            "text/plain": [
              "<tf.Tensor: shape=(1, 5, 8), dtype=float32, numpy=\n",
              "array([[[-0.345626  , -0.84792   , -0.11944495,  0.3660898 ,\n",
              "         -0.77040124,  0.25091764, -0.27838963,  0.02456311],\n",
              "        [-0.3459013 , -0.35639045, -0.20108911, -0.07225244,\n",
              "         -0.47615066,  0.6410982 , -0.23332983,  0.24423583],\n",
              "        [-0.21888992, -0.54503214, -0.33133984,  0.01956925,\n",
              "         -0.54133904,  0.5510782 , -0.13543905,  0.28242606],\n",
              "        [-0.3329003 ,  0.2834197 , -0.16911805, -0.6665487 ,\n",
              "         -0.39123473,  0.46834344, -0.24057712,  0.19138525],\n",
              "        [-0.43358487, -0.34126753, -0.10640377, -0.03630598,\n",
              "         -0.6347243 ,  0.14110588, -0.01146942,  0.23022273]]],\n",
              "      dtype=float32)>"
            ]
          },
          "metadata": {},
          "execution_count": 91
        }
      ]
    },
    {
      "cell_type": "code",
      "metadata": {
        "id": "0lbienE8EwMF",
        "colab": {
          "base_uri": "https://localhost:8080/"
        },
        "outputId": "5766a948-30a6-46fa-82d2-47eb13b35150"
      },
      "source": [
        "WO = tf.keras.layers.Dense(config.d_model)\n",
        "attention_output = WO(attention_concat)\n",
        "attention_output"
      ],
      "execution_count": 92,
      "outputs": [
        {
          "output_type": "execute_result",
          "data": {
            "text/plain": [
              "<tf.Tensor: shape=(1, 5, 8), dtype=float32, numpy=\n",
              "array([[[ 0.49050614, -0.80502474, -0.45042852,  0.4577768 ,\n",
              "          0.06806507, -0.33055836,  0.11655101,  1.106462  ],\n",
              "        [ 0.38006845, -0.673133  , -0.522027  ,  0.21313778,\n",
              "          0.2849807 ,  0.02968239, -0.01816979,  0.7601285 ],\n",
              "        [ 0.40359265, -0.77938026, -0.3197016 ,  0.25294086,\n",
              "          0.29103556, -0.050294  ,  0.03342267,  0.80691427],\n",
              "        [ 0.1614267 , -0.2801389 , -0.42321342, -0.3257166 ,\n",
              "          0.22512603,  0.12906912,  0.18890846, -0.07056847],\n",
              "        [ 0.26344994, -0.6158227 , -0.15614235, -0.08349588,\n",
              "          0.01159389, -0.32596976,  0.5276855 ,  0.53101057]]],\n",
              "      dtype=float32)>"
            ]
          },
          "metadata": {},
          "execution_count": 92
        }
      ]
    },
    {
      "cell_type": "markdown",
      "metadata": {
        "id": "hXWYTm6JK9OR"
      },
      "source": [
        "### Class"
      ]
    },
    {
      "cell_type": "code",
      "metadata": {
        "id": "jjC2xmX4F5ay"
      },
      "source": [
        "class MultiHeadAttention(tf.keras.layers.Layer):\n",
        "    \"\"\"\n",
        "    Multi Head Attention Class\n",
        "    \"\"\"\n",
        "    def __init__(self, config, name=\"multi_head_attention\"):\n",
        "        \"\"\"\n",
        "        생성자\n",
        "        :param config: Config 객체\n",
        "        :param name: layer name\n",
        "        \"\"\"\n",
        "        super().__init__(name=name)\n",
        "\n",
        "        self.d_model = config.d_model\n",
        "        self.n_head = config.n_head\n",
        "        self.d_head = config.d_head\n",
        "\n",
        "        # Q, K, V input dense layer\n",
        "        self.W_Q = tf.keras.layers.Dense(config.n_head * config.d_head)\n",
        "        self.W_K = tf.keras.layers.Dense(config.n_head * config.d_head)\n",
        "        self.W_V = tf.keras.layers.Dense(config.n_head * config.d_head)\n",
        "        # Scale Dot Product Attention class\n",
        "        self.attention = ScaleDotProductAttention(name=\"self_attention\")\n",
        "        # output dense layer\n",
        "        self.W_O = tf.keras.layers.Dense(config.d_model)\n",
        "\n",
        "    def call(self, Q, K, V, attn_mask):\n",
        "        \"\"\"\n",
        "        layer 실행\n",
        "        :param Q: Q value\n",
        "        :param K: K value\n",
        "        :param V: V value\n",
        "        :param attn_mask: 실행 모드\n",
        "        :return attn_out: attention 실행 결과\n",
        "        \"\"\"\n",
        "        # reshape Q, K, V, attn_mask\n",
        "        batch_size = tf.shape(Q)[0]\n",
        "        Q_m = tf.transpose(tf.reshape(self.W_Q(Q), [batch_size, -1, self.n_head, self.d_head]), [0, 2, 1, 3])  # (bs, n_head, Q_len, d_head)\n",
        "        K_m = tf.transpose(tf.reshape(self.W_K(K), [batch_size, -1, self.n_head, self.d_head]), [0, 2, 1, 3])  # (bs, n_head, K_len, d_head)\n",
        "        V_m = tf.transpose(tf.reshape(self.W_V(V), [batch_size, -1, self.n_head, self.d_head]), [0, 2, 1, 3])  # (bs, n_head, K_len, d_head)\n",
        "        attn_mask_m = tf.expand_dims(attn_mask, axis=1)\n",
        "        # Scale Dot Product Attention with multi head Q, K, V, attn_mask\n",
        "        attn_out = self.attention(Q_m, K_m, V_m, attn_mask_m)  # (bs, n_head, Q_len, d_head)\n",
        "        # transpose and liner\n",
        "        attn_out_m = tf.transpose(attn_out, perm=[0, 2, 1, 3])  # (bs, Q_len, n_head, d_head)\n",
        "        attn_out = tf.reshape(attn_out_m, [batch_size, -1, config.n_head * config.d_head])  # (bs, Q_len, d_model)\n",
        "        attn_out = self.W_O(attn_out) # (bs, Q_len, d_model)\n",
        "\n",
        "        return attn_out"
      ],
      "execution_count": 93,
      "outputs": []
    },
    {
      "cell_type": "markdown",
      "metadata": {
        "id": "f9HRMhWKK-6I"
      },
      "source": [
        "### Test"
      ]
    },
    {
      "cell_type": "code",
      "metadata": {
        "id": "T8ONc_AXG7Db",
        "colab": {
          "base_uri": "https://localhost:8080/"
        },
        "outputId": "97e2c502-b521-4533-cde1-3e97a5187a02"
      },
      "source": [
        "attention = MultiHeadAttention(config)\n",
        "\n",
        "attn_out = attention(Q, K, V, ende_mask)\n",
        "# Q와 output의 shape 같으면 정상 (W_Q, W_K, W_V, W_O 값이 랜덤하게 초기화 되므로 값은 달라 짐)\n",
        "assert Q.shape == attn_out.shape\n",
        "attn_out"
      ],
      "execution_count": 94,
      "outputs": [
        {
          "output_type": "execute_result",
          "data": {
            "text/plain": [
              "<tf.Tensor: shape=(1, 5, 8), dtype=float32, numpy=\n",
              "array([[[-1.7263753 ,  0.01100423, -0.14146954, -1.474141  ,\n",
              "          0.67914605,  0.5476541 , -1.3935212 ,  1.6705611 ],\n",
              "        [-1.3784305 ,  0.7695727 , -0.45037356, -1.3775396 ,\n",
              "          0.872072  , -0.35682335, -0.6400545 ,  0.96092796],\n",
              "        [-0.9750036 , -0.19607304, -0.03950725, -0.8575573 ,\n",
              "          0.25044277,  0.8432678 , -1.0721037 ,  1.1410965 ],\n",
              "        [-0.5620066 ,  0.60790604, -0.26716492, -0.5765985 ,\n",
              "          0.34476855, -0.15077235, -0.14507543,  0.39121908],\n",
              "        [-1.3501408 ,  0.18068257, -0.08150227, -1.1048425 ,\n",
              "          0.5075927 ,  0.4860721 , -0.92029124,  1.2991695 ]]],\n",
              "      dtype=float32)>"
            ]
          },
          "metadata": {},
          "execution_count": 94
        }
      ]
    },
    {
      "cell_type": "markdown",
      "metadata": {
        "id": "Z3Jc-KlSQDMG"
      },
      "source": [
        "## Feed Forward\n",
        "\n",
        "![](https://paul-hyun.github.io/assets/transformer/feedforward.png)"
      ]
    },
    {
      "cell_type": "markdown",
      "metadata": {
        "id": "OnCeiVe2NrNz"
      },
      "source": [
        "### Tutorial"
      ]
    },
    {
      "cell_type": "code",
      "metadata": {
        "id": "Eq9g080D19oi",
        "colab": {
          "base_uri": "https://localhost:8080/"
        },
        "outputId": "d9f9ae1b-f56a-41b1-a6f1-d229c120ddc7"
      },
      "source": [
        "# sublayer output\n",
        "sublayer_output = embedding(enc_tokens)\n",
        "sublayer_output"
      ],
      "execution_count": 95,
      "outputs": [
        {
          "output_type": "execute_result",
          "data": {
            "text/plain": [
              "<tf.Tensor: shape=(1, 6, 8), dtype=float32, numpy=\n",
              "array([[[ 0.19626832,  1.6160245 , -1.5125287 ,  0.8802097 ,\n",
              "          0.43964735, -0.49681696,  0.9233131 , -1.0172113 ],\n",
              "        [-1.851637  , -0.52205473, -1.1127012 ,  0.556745  ,\n",
              "         -1.2216276 ,  0.70823485, -0.7989583 , -0.48866653],\n",
              "        [-0.39263427, -1.7194668 ,  1.8227654 , -0.15567164,\n",
              "         -0.6654087 ,  0.68538827,  0.68061626,  0.74703187],\n",
              "        [-1.3610662 , -1.8012775 , -0.09980725, -0.69201565,\n",
              "         -1.6705056 , -0.07607771, -0.5028183 , -0.22716261],\n",
              "        [-0.20390666,  0.557556  , -0.40127853,  0.23037535,\n",
              "          0.02648634, -1.6108699 , -0.32580003, -0.3013221 ],\n",
              "        [-0.3198804 ,  1.3575249 , -0.15776914,  0.5804112 ,\n",
              "          0.4537885 ,  0.9504126 ,  1.6937659 ,  1.2484983 ]]],\n",
              "      dtype=float32)>"
            ]
          },
          "metadata": {},
          "execution_count": 95
        }
      ]
    },
    {
      "cell_type": "code",
      "metadata": {
        "id": "8p432ETKQGMf",
        "colab": {
          "base_uri": "https://localhost:8080/"
        },
        "outputId": "73306d9e-1809-42bd-90d9-9bdfa7f453d6"
      },
      "source": [
        "# dense 1: d_mdoel -> d_ff\n",
        "ff_val_1 = tf.keras.layers.Dense(config.d_ff)(sublayer_output)\n",
        "ff_val_1"
      ],
      "execution_count": 96,
      "outputs": [
        {
          "output_type": "execute_result",
          "data": {
            "text/plain": [
              "<tf.Tensor: shape=(1, 6, 32), dtype=float32, numpy=\n",
              "array([[[ 7.7031565e-01, -6.3997334e-01,  9.1023549e-02,  1.3620909e-01,\n",
              "         -6.6182727e-01,  2.5415921e-01,  3.4217364e-01, -3.8794968e-01,\n",
              "         -1.1187069e-02,  3.5169867e-01,  5.4275781e-01, -9.4716631e-02,\n",
              "          4.2744774e-01,  6.4273638e-01, -6.2227813e-03,  4.0499967e-01,\n",
              "          5.0659740e-01, -1.2033995e-01,  8.4220308e-01, -3.2478133e-01,\n",
              "         -1.6106592e-01,  6.0928249e-01, -3.1512684e-01, -2.2889431e-01,\n",
              "          1.0023953e+00,  4.4507617e-01,  2.9803553e-01, -7.0957199e-02,\n",
              "         -1.0344104e+00, -4.9265414e-01,  4.5147827e-01, -2.4699213e-01],\n",
              "        [ 5.7942402e-01, -3.1980451e-02,  7.1110243e-01, -2.4003801e-01,\n",
              "         -8.1442392e-01, -1.2713453e+00, -7.0793539e-01,  4.6208960e-01,\n",
              "         -2.5861037e-01,  1.4218054e+00,  1.8033302e-01, -7.5368106e-02,\n",
              "          5.5270493e-01,  8.0002591e-02, -1.9854777e-01,  1.0054317e+00,\n",
              "          5.7834148e-01, -1.2824628e+00, -1.6690974e-01,  3.5366511e-01,\n",
              "         -1.1411150e+00, -4.9964029e-01,  7.1466655e-01,  7.4253523e-01,\n",
              "          1.1395467e-01, -1.4249541e-01, -8.8010603e-01, -6.5248668e-01,\n",
              "          4.6452346e-01, -2.1270504e-03, -2.0986857e-01,  2.5336075e-01],\n",
              "        [-7.2910184e-01,  5.2506223e-02,  5.7353292e-02, -7.0616299e-01,\n",
              "          5.6857067e-01,  3.1377071e-01,  2.9526541e-01, -3.0134079e-01,\n",
              "         -2.2399893e-01, -7.7470475e-01, -3.5355663e-01,  2.2478203e-01,\n",
              "         -4.9228606e-01, -7.0582581e-01, -3.2548618e-01, -4.7750658e-01,\n",
              "         -3.2047990e-01,  5.7108235e-01, -1.3232665e+00,  4.9953252e-01,\n",
              "         -2.7110964e-01, -1.0204016e+00,  9.8022503e-01,  3.8862634e-01,\n",
              "         -1.2683331e+00,  4.8406705e-02, -3.1995884e-01,  5.7920843e-01,\n",
              "          1.4581698e+00,  5.4629171e-01, -9.5293003e-01,  4.1980627e-01],\n",
              "        [-3.9197281e-01,  8.9776736e-01,  5.9198350e-01, -1.2672748e-01,\n",
              "         -7.3767587e-04, -4.8439696e-01, -4.5251882e-01,  6.7514193e-01,\n",
              "         -8.5150212e-02,  6.5453720e-01, -2.5314039e-01,  8.4378667e-02,\n",
              "          3.8834915e-02, -1.4491269e-01, -5.2905601e-01,  7.3338985e-02,\n",
              "         -5.5365950e-01, -4.3959945e-01, -9.5370573e-01,  2.5929871e-01,\n",
              "         -6.7489499e-01, -7.1621162e-01,  1.3821950e+00,  1.2744250e+00,\n",
              "         -1.3447814e-01, -1.2623402e-01, -3.9556608e-01, -7.9383814e-01,\n",
              "          9.1784847e-01,  2.3702182e-01, -3.6153078e-01,  3.3879828e-01],\n",
              "        [-1.4856537e-01,  3.6119080e-01, -3.1158358e-01,  2.1333542e-01,\n",
              "         -4.9532291e-01,  3.4184954e-01, -2.0787658e-01,  4.5236754e-01,\n",
              "          6.7950237e-01,  2.5161102e-01,  4.3081209e-01, -4.3105596e-01,\n",
              "         -2.6678234e-01,  7.1194607e-01,  2.4308616e-02,  1.9006129e-01,\n",
              "         -2.4239648e-02, -1.7861588e-01,  1.8328184e-01, -1.3510843e-01,\n",
              "          1.4219275e-01,  2.7497920e-01, -3.2282534e-01,  4.8111075e-01,\n",
              "          9.4380188e-01, -2.1392669e-01,  5.0278717e-01, -7.0339787e-01,\n",
              "         -5.8686954e-01, -4.4861909e-02,  1.1911211e-01, -4.1336876e-01],\n",
              "        [ 7.9324730e-02, -9.8293650e-01,  2.0782734e-01, -2.0811750e-01,\n",
              "         -5.1357454e-01, -3.1266043e-01,  4.0670043e-01, -9.3118644e-01,\n",
              "         -6.0891742e-01, -6.8914050e-01,  5.6956547e-01,  4.4738626e-01,\n",
              "         -2.2437230e-01,  2.6204109e-01,  2.5881028e-01,  6.0026276e-01,\n",
              "          1.3433512e+00, -4.9340129e-01,  2.0923738e-01,  2.5450027e-01,\n",
              "         -6.4171642e-02, -1.4561638e-01, -2.8117263e-01, -6.0708070e-01,\n",
              "         -7.1484399e-01, -2.4042143e-01, -5.9817612e-01,  1.3398443e+00,\n",
              "          1.7528473e-01,  2.3007895e-01, -6.2891167e-01,  3.2215783e-01]]],\n",
              "      dtype=float32)>"
            ]
          },
          "metadata": {},
          "execution_count": 96
        }
      ]
    },
    {
      "cell_type": "code",
      "metadata": {
        "id": "hawd2-NhQQlL",
        "colab": {
          "base_uri": "https://localhost:8080/"
        },
        "outputId": "e0064c6f-7e91-40df-9f71-8dd35a3ad086"
      },
      "source": [
        "# relu: 0보다 작은 값은 모두 0\n",
        "ff_val_2 = tf.nn.relu(ff_val_1)\n",
        "ff_val_2"
      ],
      "execution_count": 97,
      "outputs": [
        {
          "output_type": "execute_result",
          "data": {
            "text/plain": [
              "<tf.Tensor: shape=(1, 6, 32), dtype=float32, numpy=\n",
              "array([[[0.77031565, 0.        , 0.09102355, 0.13620909, 0.        ,\n",
              "         0.2541592 , 0.34217364, 0.        , 0.        , 0.35169867,\n",
              "         0.5427578 , 0.        , 0.42744774, 0.6427364 , 0.        ,\n",
              "         0.40499967, 0.5065974 , 0.        , 0.8422031 , 0.        ,\n",
              "         0.        , 0.6092825 , 0.        , 0.        , 1.0023953 ,\n",
              "         0.44507617, 0.29803553, 0.        , 0.        , 0.        ,\n",
              "         0.45147827, 0.        ],\n",
              "        [0.579424  , 0.        , 0.7111024 , 0.        , 0.        ,\n",
              "         0.        , 0.        , 0.4620896 , 0.        , 1.4218054 ,\n",
              "         0.18033302, 0.        , 0.55270493, 0.08000259, 0.        ,\n",
              "         1.0054317 , 0.5783415 , 0.        , 0.        , 0.3536651 ,\n",
              "         0.        , 0.        , 0.71466655, 0.74253523, 0.11395467,\n",
              "         0.        , 0.        , 0.        , 0.46452346, 0.        ,\n",
              "         0.        , 0.25336075],\n",
              "        [0.        , 0.05250622, 0.05735329, 0.        , 0.5685707 ,\n",
              "         0.3137707 , 0.2952654 , 0.        , 0.        , 0.        ,\n",
              "         0.        , 0.22478203, 0.        , 0.        , 0.        ,\n",
              "         0.        , 0.        , 0.57108235, 0.        , 0.49953252,\n",
              "         0.        , 0.        , 0.980225  , 0.38862634, 0.        ,\n",
              "         0.04840671, 0.        , 0.57920843, 1.4581698 , 0.5462917 ,\n",
              "         0.        , 0.41980627],\n",
              "        [0.        , 0.89776736, 0.5919835 , 0.        , 0.        ,\n",
              "         0.        , 0.        , 0.67514193, 0.        , 0.6545372 ,\n",
              "         0.        , 0.08437867, 0.03883491, 0.        , 0.        ,\n",
              "         0.07333899, 0.        , 0.        , 0.        , 0.2592987 ,\n",
              "         0.        , 0.        , 1.382195  , 1.274425  , 0.        ,\n",
              "         0.        , 0.        , 0.        , 0.91784847, 0.23702182,\n",
              "         0.        , 0.33879828],\n",
              "        [0.        , 0.3611908 , 0.        , 0.21333542, 0.        ,\n",
              "         0.34184954, 0.        , 0.45236754, 0.67950237, 0.25161102,\n",
              "         0.4308121 , 0.        , 0.        , 0.71194607, 0.02430862,\n",
              "         0.19006129, 0.        , 0.        , 0.18328184, 0.        ,\n",
              "         0.14219275, 0.2749792 , 0.        , 0.48111075, 0.9438019 ,\n",
              "         0.        , 0.5027872 , 0.        , 0.        , 0.        ,\n",
              "         0.11911211, 0.        ],\n",
              "        [0.07932473, 0.        , 0.20782734, 0.        , 0.        ,\n",
              "         0.        , 0.40670043, 0.        , 0.        , 0.        ,\n",
              "         0.5695655 , 0.44738626, 0.        , 0.2620411 , 0.25881028,\n",
              "         0.60026276, 1.3433512 , 0.        , 0.20923738, 0.25450027,\n",
              "         0.        , 0.        , 0.        , 0.        , 0.        ,\n",
              "         0.        , 0.        , 1.3398443 , 0.17528473, 0.23007895,\n",
              "         0.        , 0.32215783]]], dtype=float32)>"
            ]
          },
          "metadata": {},
          "execution_count": 97
        }
      ]
    },
    {
      "cell_type": "code",
      "metadata": {
        "id": "W20iKxKGQYly",
        "colab": {
          "base_uri": "https://localhost:8080/"
        },
        "outputId": "e316cd5e-5759-4228-dd1c-ea68b4a52ae3"
      },
      "source": [
        "# dense 2: d_ff -> d_model\n",
        "ff_val = tf.keras.layers.Dense(config.d_model)(ff_val_2)\n",
        "ff_val"
      ],
      "execution_count": 98,
      "outputs": [
        {
          "output_type": "execute_result",
          "data": {
            "text/plain": [
              "<tf.Tensor: shape=(1, 6, 8), dtype=float32, numpy=\n",
              "array([[[ 0.05343075, -0.12957543, -0.12799205,  0.22800428,\n",
              "          0.37556288,  0.02002757, -0.5281978 ,  0.3447255 ],\n",
              "        [ 0.4311106 ,  0.4739277 ,  0.10379799,  0.65783656,\n",
              "         -0.13527882,  0.0956341 , -0.27491826, -0.7066558 ],\n",
              "        [ 0.5946567 ,  0.9119929 , -0.32639787,  0.37083983,\n",
              "          0.6611173 , -0.00635346,  0.19086611, -0.0410204 ],\n",
              "        [ 0.3917761 ,  0.548897  , -0.10651836,  0.2984062 ,\n",
              "         -0.07401256,  0.02801821,  0.42922768, -0.3290153 ],\n",
              "        [ 0.1652643 ,  0.12299664,  0.24812295,  0.7795001 ,\n",
              "          0.21664938,  0.48855445,  0.11982806,  0.90903956],\n",
              "        [-0.50531423, -0.19958912, -0.57119405,  0.34657502,\n",
              "          0.03725421, -0.57696265, -1.0532655 ,  0.19136593]]],\n",
              "      dtype=float32)>"
            ]
          },
          "metadata": {},
          "execution_count": 98
        }
      ]
    },
    {
      "cell_type": "markdown",
      "metadata": {
        "id": "xDuEmCeoN2lq"
      },
      "source": [
        "### Class"
      ]
    },
    {
      "cell_type": "code",
      "metadata": {
        "id": "9nUJHhLfQhdE"
      },
      "source": [
        "class PositionWiseFeedForward(tf.keras.layers.Layer):\n",
        "    \"\"\"\n",
        "    Position Wise Feed Forward Class\n",
        "    \"\"\"\n",
        "    def __init__(self, config, name=\"feed_forward\"):\n",
        "        \"\"\"\n",
        "        생성자\n",
        "        :param config: Config 객체\n",
        "        :param name: layer name\n",
        "        \"\"\"\n",
        "        super().__init__(name=name)\n",
        "\n",
        "        self.W_1 = tf.keras.layers.Dense(config.d_ff, activation=tf.nn.relu)\n",
        "        self.W_2 = tf.keras.layers.Dense(config.d_model)\n",
        "\n",
        "    def call(self, inputs):\n",
        "        \"\"\"\n",
        "        layer 실행\n",
        "        :param inputs: inputs\n",
        "        :return ff_val: feed forward 실행 결과\n",
        "        \"\"\"\n",
        "        ff_val = self.W_2(self.W_1(inputs))\n",
        "        return ff_val"
      ],
      "execution_count": 99,
      "outputs": []
    },
    {
      "cell_type": "markdown",
      "metadata": {
        "id": "5rTITKdIN5nU"
      },
      "source": [
        "### Test"
      ]
    },
    {
      "cell_type": "code",
      "metadata": {
        "id": "2zBze7AoQp-_",
        "colab": {
          "base_uri": "https://localhost:8080/"
        },
        "outputId": "6add5f02-7862-4261-dfb3-ed122115596c"
      },
      "source": [
        "# feed-forward class 동작 확인\n",
        "feed_forward = PositionWiseFeedForward(config)\n",
        "\n",
        "ff_val = feed_forward(sublayer_output)\n",
        "# 입력과 출력의 shape가 같의면 정상 (W_1, W_2 값이 랜덤초기화 되므로 값은 변경 됨)\n",
        "assert ff_val.shape == sublayer_output.shape\n",
        "ff_val"
      ],
      "execution_count": 100,
      "outputs": [
        {
          "output_type": "execute_result",
          "data": {
            "text/plain": [
              "<tf.Tensor: shape=(1, 6, 8), dtype=float32, numpy=\n",
              "array([[[ 0.3864193 ,  0.6548004 , -0.9338117 ,  0.2610803 ,\n",
              "          0.03351761,  1.0447208 ,  0.77503675, -0.12114956],\n",
              "        [-0.5972206 ,  0.18925105, -0.06597053, -0.37621737,\n",
              "         -0.23455417,  1.5406342 ,  0.45216763,  0.7366392 ],\n",
              "        [-0.04632387,  0.10500712,  0.22665875, -0.30265856,\n",
              "         -0.77859014,  0.0451427 ,  0.05126077, -0.00218356],\n",
              "        [-0.7762042 , -0.29549295,  0.351876  , -0.13449734,\n",
              "         -0.13364096,  0.82650745, -0.20703031,  0.5175292 ],\n",
              "        [ 0.26921114,  0.25551227, -0.37782532,  0.0591877 ,\n",
              "         -0.38833007,  0.08096397,  0.00456275,  0.44020793],\n",
              "        [ 0.6045598 ,  0.11301193, -0.6297971 ,  0.12454663,\n",
              "         -0.67571384,  0.29747707,  0.19916855, -0.18869305]]],\n",
              "      dtype=float32)>"
            ]
          },
          "metadata": {},
          "execution_count": 100
        }
      ]
    },
    {
      "cell_type": "markdown",
      "metadata": {
        "id": "oCkXJQIUlETb"
      },
      "source": [
        "## Encoder Layer\n",
        "\n",
        "![](https://paul-hyun.github.io/assets/transformer/encoder_layer.png)"
      ]
    },
    {
      "cell_type": "markdown",
      "metadata": {
        "id": "eZXtO5pKONH1"
      },
      "source": [
        "### Tutorial"
      ]
    },
    {
      "cell_type": "code",
      "metadata": {
        "id": "wQ0BTLQmOXEE",
        "colab": {
          "base_uri": "https://localhost:8080/"
        },
        "outputId": "61816b14-2295-4afb-bccf-1fb7563e53dc"
      },
      "source": [
        "# encoder self attetnion mask\n",
        "self_mask = get_pad_mask(enc_tokens)\n",
        "self_mask"
      ],
      "execution_count": 101,
      "outputs": [
        {
          "output_type": "execute_result",
          "data": {
            "text/plain": [
              "<tf.Tensor: shape=(1, 1, 6), dtype=float32, numpy=array([[[0., 0., 0., 0., 0., 1.]]], dtype=float32)>"
            ]
          },
          "metadata": {},
          "execution_count": 101
        }
      ]
    },
    {
      "cell_type": "code",
      "metadata": {
        "id": "M3V8lHcKOSYN",
        "colab": {
          "base_uri": "https://localhost:8080/"
        },
        "outputId": "0044fc9a-7567-4cce-85ba-02e025cd1e32"
      },
      "source": [
        "# encoder embedding\n",
        "enc_embed = embedding(enc_tokens)\n",
        "enc_embed"
      ],
      "execution_count": 102,
      "outputs": [
        {
          "output_type": "execute_result",
          "data": {
            "text/plain": [
              "<tf.Tensor: shape=(1, 6, 8), dtype=float32, numpy=\n",
              "array([[[ 0.19626832,  1.6160245 , -1.5125287 ,  0.8802097 ,\n",
              "          0.43964735, -0.49681696,  0.9233131 , -1.0172113 ],\n",
              "        [-1.851637  , -0.52205473, -1.1127012 ,  0.556745  ,\n",
              "         -1.2216276 ,  0.70823485, -0.7989583 , -0.48866653],\n",
              "        [-0.39263427, -1.7194668 ,  1.8227654 , -0.15567164,\n",
              "         -0.6654087 ,  0.68538827,  0.68061626,  0.74703187],\n",
              "        [-1.3610662 , -1.8012775 , -0.09980725, -0.69201565,\n",
              "         -1.6705056 , -0.07607771, -0.5028183 , -0.22716261],\n",
              "        [-0.20390666,  0.557556  , -0.40127853,  0.23037535,\n",
              "          0.02648634, -1.6108699 , -0.32580003, -0.3013221 ],\n",
              "        [-0.3198804 ,  1.3575249 , -0.15776914,  0.5804112 ,\n",
              "          0.4537885 ,  0.9504126 ,  1.6937659 ,  1.2484983 ]]],\n",
              "      dtype=float32)>"
            ]
          },
          "metadata": {},
          "execution_count": 102
        }
      ]
    },
    {
      "cell_type": "code",
      "metadata": {
        "id": "9siOPgyXOlmN",
        "colab": {
          "base_uri": "https://localhost:8080/"
        },
        "outputId": "2e8c1b36-c2e4-4c24-c9bd-c82d1d6e6c6d"
      },
      "source": [
        "# MultiHeadAttention\n",
        "self_attention = MultiHeadAttention(config)\n",
        "self_attn_val = self_attention(enc_embed, enc_embed, enc_embed, self_mask)\n",
        "self_attn_val"
      ],
      "execution_count": 103,
      "outputs": [
        {
          "output_type": "execute_result",
          "data": {
            "text/plain": [
              "<tf.Tensor: shape=(1, 6, 8), dtype=float32, numpy=\n",
              "array([[[ 0.06125214, -0.7417861 , -0.24070372, -0.13314432,\n",
              "          0.7362004 ,  0.05651651, -0.24332069, -0.39187843],\n",
              "        [-0.1842178 , -0.6306483 , -0.37439248, -0.06857631,\n",
              "          0.5838019 ,  0.17402954, -0.20345752, -0.7997296 ],\n",
              "        [-0.09924537,  0.4825186 ,  0.6180561 , -0.7602583 ,\n",
              "          0.32308683, -0.5280105 , -0.56502706,  0.25898117],\n",
              "        [-0.34235004, -0.1004412 ,  0.05761168, -0.13948208,\n",
              "          0.07773668,  0.08463571, -0.31411588, -0.46418265],\n",
              "        [ 0.12851137, -0.6052733 , -0.07221878, -0.2990629 ,\n",
              "          0.7786447 , -0.08854968, -0.33206263, -0.17925915],\n",
              "        [ 0.21461184, -0.42240646, -0.06978093, -0.35446543,\n",
              "          0.82694685, -0.15981808, -0.30214185, -0.10174477]]],\n",
              "      dtype=float32)>"
            ]
          },
          "metadata": {},
          "execution_count": 103
        }
      ]
    },
    {
      "cell_type": "code",
      "metadata": {
        "id": "hGI5NdiaO7FS",
        "colab": {
          "base_uri": "https://localhost:8080/"
        },
        "outputId": "d99ba799-3797-4a4e-be5e-9fea44da484f"
      },
      "source": [
        "norm1 = tf.keras.layers.LayerNormalization(epsilon=config.layernorm_epsilon)\n",
        "dropout = tf.keras.layers.Dropout(config.dropout)\n",
        "norm1_val = norm1(enc_embed + dropout(self_attn_val))\n",
        "norm1_val"
      ],
      "execution_count": 104,
      "outputs": [
        {
          "output_type": "execute_result",
          "data": {
            "text/plain": [
              "<tf.Tensor: shape=(1, 6, 8), dtype=float32, numpy=\n",
              "array([[[ 0.23391868,  0.8324776 , -1.7176285 ,  0.70904917,\n",
              "          1.1252062 , -0.44335523,  0.6439511 , -1.3836191 ],\n",
              "        [-1.3507798 , -0.4014547 , -0.7609008 ,  1.3623654 ,\n",
              "          0.15200175,  1.7859901 , -0.2399066 , -0.54731506],\n",
              "        [-0.53051513, -1.2079626 ,  2.136019  , -0.9160794 ,\n",
              "         -0.39453095,  0.05981681,  0.02182089,  0.8314314 ],\n",
              "        [-1.107734  , -1.3979137 ,  1.3231605 ,  0.16816027,\n",
              "         -0.9458217 ,  1.3974291 ,  0.1894714 ,  0.37324792],\n",
              "        [ 0.39393008,  0.43556777, -0.20495975,  0.40402094,\n",
              "          1.718561  , -2.0491915 , -0.4823121 , -0.21561658],\n",
              "        [-1.3229212 ,  0.43036264, -1.5289928 , -0.76475126,\n",
              "          1.0128042 ,  0.18680756,  1.1996762 ,  0.78701496]]],\n",
              "      dtype=float32)>"
            ]
          },
          "metadata": {},
          "execution_count": 104
        }
      ]
    },
    {
      "cell_type": "code",
      "metadata": {
        "id": "eFpRZ-R3PV2C",
        "colab": {
          "base_uri": "https://localhost:8080/"
        },
        "outputId": "40ef1a5f-bdf8-484e-bce7-c0c3cd62ee65"
      },
      "source": [
        "ffn = PositionWiseFeedForward(config)\n",
        "ffn_val = ffn(norm1_val)\n",
        "ffn_val"
      ],
      "execution_count": 105,
      "outputs": [
        {
          "output_type": "execute_result",
          "data": {
            "text/plain": [
              "<tf.Tensor: shape=(1, 6, 8), dtype=float32, numpy=\n",
              "array([[[-0.33255947,  0.6135318 ,  0.20051411, -0.07957102,\n",
              "          0.75597715, -0.07830818,  0.72060686, -0.29344255],\n",
              "        [-0.41146573,  0.05666247, -0.22377071, -0.3695034 ,\n",
              "          0.2657462 , -0.26741302,  0.56244975, -0.14689459],\n",
              "        [ 0.5862982 , -0.60902685, -0.23588455,  0.7762841 ,\n",
              "          0.48423076, -0.14400677,  1.1370949 , -0.17276284],\n",
              "        [ 0.0642384 , -0.79433984,  0.01329809,  0.21145213,\n",
              "          0.5619661 ,  0.07592953,  0.59293854,  0.30395535],\n",
              "        [ 0.09608699,  1.0420612 , -0.59164256,  0.06332767,\n",
              "          0.70619184, -0.12454826,  1.2926267 , -0.30812186],\n",
              "        [ 0.46222466, -0.02264546, -0.22483444, -0.1521084 ,\n",
              "         -0.61860794, -0.45302588,  0.32223752, -0.51863307]]],\n",
              "      dtype=float32)>"
            ]
          },
          "metadata": {},
          "execution_count": 105
        }
      ]
    },
    {
      "cell_type": "code",
      "metadata": {
        "id": "M-nhPgYpPft4",
        "colab": {
          "base_uri": "https://localhost:8080/"
        },
        "outputId": "02c24543-245b-4f45-9c73-8972c8cb4df9"
      },
      "source": [
        "norm2 = tf.keras.layers.LayerNormalization(epsilon=config.layernorm_epsilon)\n",
        "enc_out = norm2(norm1_val + dropout(ffn_val))\n",
        "enc_out"
      ],
      "execution_count": 106,
      "outputs": [
        {
          "output_type": "execute_result",
          "data": {
            "text/plain": [
              "<tf.Tensor: shape=(1, 6, 8), dtype=float32, numpy=\n",
              "array([[[-0.22505721,  0.9862793 , -1.3374443 ,  0.34594396,\n",
              "          1.3275489 , -0.55679756,  0.92240393, -1.4628772 ],\n",
              "        [-1.6727691 , -0.27429587, -0.9056069 ,  1.0454468 ,\n",
              "          0.47803366,  1.5641223 ,  0.38410366, -0.61903447],\n",
              "        [-0.16865912, -2.005106  ,  1.6399177 , -0.36044392,\n",
              "         -0.13540028, -0.30591714,  0.91307634,  0.42253226],\n",
              "        [-0.9955915 , -1.9712936 ,  1.0258316 ,  0.21313058,\n",
              "         -0.43532383,  1.1421081 ,  0.5552482 ,  0.46589056],\n",
              "        [ 0.16348061,  0.9040361 , -0.8012841 ,  0.1464828 ,\n",
              "          1.6142321 , -1.8339232 ,  0.40365407, -0.59667856],\n",
              "        [-0.74510115,  0.5859786 , -1.6823571 , -0.804039  ,\n",
              "          0.5717897 , -0.12125269,  1.7552221 ,  0.4397595 ]]],\n",
              "      dtype=float32)>"
            ]
          },
          "metadata": {},
          "execution_count": 106
        }
      ]
    },
    {
      "cell_type": "markdown",
      "metadata": {
        "id": "F8_N3eEDOA2z"
      },
      "source": [
        "### Class"
      ]
    },
    {
      "cell_type": "code",
      "metadata": {
        "id": "Z3PGFf56lnVa"
      },
      "source": [
        "class EncoderLayer(tf.keras.layers.Layer):\n",
        "    \"\"\"\n",
        "    Encoder Layer Class\n",
        "    \"\"\"\n",
        "    def __init__(self, config, name=\"encoder_layer\"):\n",
        "        \"\"\"\n",
        "        생성자\n",
        "        :param config: Config 객체\n",
        "        :param name: layer name\n",
        "        \"\"\"\n",
        "        super().__init__(name=name)\n",
        "\n",
        "        self.self_attention = MultiHeadAttention(config)\n",
        "        self.norm1 = tf.keras.layers.LayerNormalization(epsilon=config.layernorm_epsilon)\n",
        "\n",
        "        self.ffn = PositionWiseFeedForward(config)\n",
        "        self.norm2 = tf.keras.layers.LayerNormalization(epsilon=config.layernorm_epsilon)\n",
        "\n",
        "        self.dropout = tf.keras.layers.Dropout(config.dropout)\n",
        " \n",
        "    def call(self, enc_embed, self_mask):\n",
        "        \"\"\"\n",
        "        layer 실행\n",
        "        :param enc_embed: enc_embed 또는 이전 EncoderLayer의 출력\n",
        "        :param self_mask: enc_tokens의 pad mask\n",
        "        :return enc_out: EncoderLayer 실행 결과\n",
        "        \"\"\"\n",
        "        self_attn_val = self.self_attention(enc_embed, enc_embed, enc_embed, self_mask)\n",
        "        norm1_val = self.norm1(enc_embed + self.dropout(self_attn_val))\n",
        "\n",
        "        ffn_val = self.ffn(norm1_val)\n",
        "        enc_out = self.norm2(norm1_val + self.dropout(ffn_val))\n",
        "\n",
        "        return enc_out"
      ],
      "execution_count": 107,
      "outputs": []
    },
    {
      "cell_type": "markdown",
      "metadata": {
        "id": "I9zNYIgzPwW3"
      },
      "source": [
        "### Test"
      ]
    },
    {
      "cell_type": "code",
      "metadata": {
        "id": "K3rfiHQ6nJt6",
        "colab": {
          "base_uri": "https://localhost:8080/"
        },
        "outputId": "0de84517-39b0-4521-e31f-f6abd6bc4320"
      },
      "source": [
        "# EncoderLayer 기능 확인: 결과의 shape이 enc_embed과 같으면 성공\n",
        "encoder_layer = EncoderLayer(config)\n",
        "enc_out = encoder_layer(enc_embed, self_mask)\n",
        "assert enc_embed.shape == enc_out.shape\n",
        "enc_out"
      ],
      "execution_count": 108,
      "outputs": [
        {
          "output_type": "execute_result",
          "data": {
            "text/plain": [
              "<tf.Tensor: shape=(1, 6, 8), dtype=float32, numpy=\n",
              "array([[[ 1.3676884 ,  1.1106464 , -0.47449335,  0.54104584,\n",
              "         -0.47582516, -1.8929135 ,  0.43532404, -0.61147267],\n",
              "        [-0.9921527 ,  0.11668619, -0.9610565 ,  1.8877945 ,\n",
              "         -1.0831546 ,  1.1038939 , -0.2730172 ,  0.20100656],\n",
              "        [-0.45617148, -2.2258744 ,  0.26845798,  0.9690311 ,\n",
              "         -0.6119592 ,  0.8086658 ,  0.53921515,  0.70863515],\n",
              "        [-0.597252  , -1.7844366 , -0.00578487,  1.4824632 ,\n",
              "         -0.8583947 ,  1.1552197 ,  0.2937737 ,  0.31441122],\n",
              "        [ 1.0394421 ,  0.29920742,  0.12604186,  0.2683923 ,\n",
              "          0.40596554, -2.5473635 ,  0.18588029,  0.22243394],\n",
              "        [-1.193143  , -0.725917  , -0.79482174, -0.01026414,\n",
              "         -0.18535146,  0.03583579,  0.64973223,  2.2239294 ]]],\n",
              "      dtype=float32)>"
            ]
          },
          "metadata": {},
          "execution_count": 108
        }
      ]
    },
    {
      "cell_type": "markdown",
      "metadata": {
        "id": "teJEuUHAlI5f"
      },
      "source": [
        "## Decoder Layer\n",
        "\n",
        "![](https://paul-hyun.github.io/assets/transformer/decoder_layer.png)"
      ]
    },
    {
      "cell_type": "markdown",
      "metadata": {
        "id": "L9be5hBhR0k9"
      },
      "source": [
        "### Tutorial"
      ]
    },
    {
      "cell_type": "code",
      "metadata": {
        "id": "MUVYeyNwQuTV",
        "colab": {
          "base_uri": "https://localhost:8080/"
        },
        "outputId": "3cc945b2-8ed4-4376-ae33-9c8cec866dd1"
      },
      "source": [
        "# decoder self attention ahead mask\n",
        "self_mask = get_ahead_mask(dec_tokens)\n",
        "self_mask"
      ],
      "execution_count": 109,
      "outputs": [
        {
          "output_type": "execute_result",
          "data": {
            "text/plain": [
              "<tf.Tensor: shape=(1, 5, 5), dtype=float32, numpy=\n",
              "array([[[0., 1., 1., 1., 1.],\n",
              "        [0., 0., 1., 1., 1.],\n",
              "        [0., 0., 0., 1., 1.],\n",
              "        [0., 0., 0., 0., 1.],\n",
              "        [0., 0., 0., 0., 1.]]], dtype=float32)>"
            ]
          },
          "metadata": {},
          "execution_count": 109
        }
      ]
    },
    {
      "cell_type": "code",
      "metadata": {
        "id": "5qjjwRI2Q3j-",
        "colab": {
          "base_uri": "https://localhost:8080/"
        },
        "outputId": "c1620477-24de-4fe8-fc6a-13f92ec9e994"
      },
      "source": [
        "# encoder & decoder attention mask\n",
        "ende_mask = get_pad_mask(enc_tokens)\n",
        "ende_mask"
      ],
      "execution_count": 110,
      "outputs": [
        {
          "output_type": "execute_result",
          "data": {
            "text/plain": [
              "<tf.Tensor: shape=(1, 1, 6), dtype=float32, numpy=array([[[0., 0., 0., 0., 0., 1.]]], dtype=float32)>"
            ]
          },
          "metadata": {},
          "execution_count": 110
        }
      ]
    },
    {
      "cell_type": "code",
      "metadata": {
        "id": "M3XHbm2lQWFc",
        "colab": {
          "base_uri": "https://localhost:8080/"
        },
        "outputId": "734bb6b2-baba-4426-b6d5-09de40a66060"
      },
      "source": [
        "enc_out = embedding(enc_tokens)\n",
        "enc_out"
      ],
      "execution_count": 111,
      "outputs": [
        {
          "output_type": "execute_result",
          "data": {
            "text/plain": [
              "<tf.Tensor: shape=(1, 6, 8), dtype=float32, numpy=\n",
              "array([[[ 0.19626832,  1.6160245 , -1.5125287 ,  0.8802097 ,\n",
              "          0.43964735, -0.49681696,  0.9233131 , -1.0172113 ],\n",
              "        [-1.851637  , -0.52205473, -1.1127012 ,  0.556745  ,\n",
              "         -1.2216276 ,  0.70823485, -0.7989583 , -0.48866653],\n",
              "        [-0.39263427, -1.7194668 ,  1.8227654 , -0.15567164,\n",
              "         -0.6654087 ,  0.68538827,  0.68061626,  0.74703187],\n",
              "        [-1.3610662 , -1.8012775 , -0.09980725, -0.69201565,\n",
              "         -1.6705056 , -0.07607771, -0.5028183 , -0.22716261],\n",
              "        [-0.20390666,  0.557556  , -0.40127853,  0.23037535,\n",
              "          0.02648634, -1.6108699 , -0.32580003, -0.3013221 ],\n",
              "        [-0.3198804 ,  1.3575249 , -0.15776914,  0.5804112 ,\n",
              "          0.4537885 ,  0.9504126 ,  1.6937659 ,  1.2484983 ]]],\n",
              "      dtype=float32)>"
            ]
          },
          "metadata": {},
          "execution_count": 111
        }
      ]
    },
    {
      "cell_type": "code",
      "metadata": {
        "id": "uYHuqpojQckk",
        "colab": {
          "base_uri": "https://localhost:8080/"
        },
        "outputId": "60fbece1-6d17-46cc-e4bb-387fc12cede7"
      },
      "source": [
        "dec_embed = embedding(dec_tokens)\n",
        "dec_embed"
      ],
      "execution_count": 112,
      "outputs": [
        {
          "output_type": "execute_result",
          "data": {
            "text/plain": [
              "<tf.Tensor: shape=(1, 5, 8), dtype=float32, numpy=\n",
              "array([[[-1.8684977 , -0.10887106, -1.6283252 , -0.09412991,\n",
              "         -0.9135378 , -0.5230187 ,  0.18054976,  1.0659311 ],\n",
              "        [-1.851637  , -0.52205473, -1.1127012 ,  0.556745  ,\n",
              "         -1.2216276 ,  0.70823485, -0.7989583 , -0.48866653],\n",
              "        [-0.20390666,  0.557556  , -0.40127853,  0.23037535,\n",
              "          0.02648634, -1.6108699 , -0.32580003, -0.3013221 ],\n",
              "        [ 0.8284642 ,  1.1036007 , -0.78627795,  1.6918567 ,\n",
              "         -0.34767905,  1.3073093 ,  0.2444622 , -0.7029787 ],\n",
              "        [-0.3198804 ,  1.3575249 , -0.15776914,  0.5804112 ,\n",
              "          0.4537885 ,  0.9504126 ,  1.6937659 ,  1.2484983 ]]],\n",
              "      dtype=float32)>"
            ]
          },
          "metadata": {},
          "execution_count": 112
        }
      ]
    },
    {
      "cell_type": "code",
      "metadata": {
        "id": "R6YNM4zPQpn9",
        "colab": {
          "base_uri": "https://localhost:8080/"
        },
        "outputId": "8c822518-e5b6-4f17-a51a-679724097720"
      },
      "source": [
        "# MultiHeadAttention\n",
        "self_attention = MultiHeadAttention(config)\n",
        "self_attn_val = self_attention(dec_embed, dec_embed, dec_embed, self_mask)\n",
        "self_attn_val"
      ],
      "execution_count": 113,
      "outputs": [
        {
          "output_type": "execute_result",
          "data": {
            "text/plain": [
              "<tf.Tensor: shape=(1, 5, 8), dtype=float32, numpy=\n",
              "array([[[-0.28523234,  0.42081448, -0.70683515,  1.2605367 ,\n",
              "          0.80964243, -0.70027095, -0.20946491, -0.98482513],\n",
              "        [-0.39821148,  0.49257648, -0.8841883 ,  0.8879818 ,\n",
              "          0.63589853, -0.4364285 , -0.03065149, -0.64186925],\n",
              "        [-0.3649325 ,  0.6137138 , -0.62720233,  0.3188233 ,\n",
              "          0.10736638, -0.12597024, -0.4017034 ,  0.11896838],\n",
              "        [ 0.07283232, -0.05366344, -0.63646317,  0.10185603,\n",
              "          0.01400782,  0.04241413, -0.00430873,  0.1144146 ],\n",
              "        [ 0.06225384,  0.08478432, -0.5889656 ,  0.4656859 ,\n",
              "          0.27507114, -0.19285975, -0.00310163, -0.36832735]]],\n",
              "      dtype=float32)>"
            ]
          },
          "metadata": {},
          "execution_count": 113
        }
      ]
    },
    {
      "cell_type": "code",
      "metadata": {
        "id": "b9mNNIyURIVz",
        "colab": {
          "base_uri": "https://localhost:8080/"
        },
        "outputId": "8c567b01-15f8-4d06-c8e6-b874864100e0"
      },
      "source": [
        "norm1 = tf.keras.layers.LayerNormalization(epsilon=config.layernorm_epsilon)\n",
        "dropout = tf.keras.layers.Dropout(config.dropout)\n",
        "norm1_val = norm1(dec_embed + dropout(self_attn_val))\n",
        "norm1_val"
      ],
      "execution_count": 114,
      "outputs": [
        {
          "output_type": "execute_result",
          "data": {
            "text/plain": [
              "<tf.Tensor: shape=(1, 5, 8), dtype=float32, numpy=\n",
              "array([[[-1.3941187 ,  0.73033136, -1.5504407 ,  1.4665459 ,\n",
              "          0.37204036, -0.5924415 ,  0.43664408,  0.5314394 ],\n",
              "        [-1.4223993 ,  0.53723574, -1.1991451 ,  1.8383268 ,\n",
              "          0.04630471,  0.8031409 , -0.16893746, -0.43452615],\n",
              "        [-0.31332767,  1.7050711 , -0.84647834,  0.9835142 ,\n",
              "          0.5017434 , -1.6681231 , -0.49736655,  0.13496712],\n",
              "        [ 0.5153401 ,  0.6605363 , -1.7548413 ,  1.3870759 ,\n",
              "         -0.69100904,  0.9533753 , -0.1304819 , -0.9399951 ],\n",
              "        [-1.2389444 ,  0.9773579 , -1.8766224 ,  0.46079382,\n",
              "          0.04719349,  0.08460236,  1.3011526 ,  0.24446656]]],\n",
              "      dtype=float32)>"
            ]
          },
          "metadata": {},
          "execution_count": 114
        }
      ]
    },
    {
      "cell_type": "code",
      "metadata": {
        "id": "cRZ-kXIeREfI",
        "colab": {
          "base_uri": "https://localhost:8080/"
        },
        "outputId": "ce0a9c32-fd51-4b04-a741-e21652acd121"
      },
      "source": [
        "# MultiHeadAttention\n",
        "ende_attn = MultiHeadAttention(config)\n",
        "ende_attn_val = ende_attn(norm1_val, enc_out, enc_out, ende_mask)\n",
        "ende_attn_val"
      ],
      "execution_count": 115,
      "outputs": [
        {
          "output_type": "execute_result",
          "data": {
            "text/plain": [
              "<tf.Tensor: shape=(1, 5, 8), dtype=float32, numpy=\n",
              "array([[[ 0.15560973, -0.47930837, -0.10339536,  0.58925897,\n",
              "         -0.55039364,  0.41632506, -0.3627258 , -0.71589905],\n",
              "        [-0.0836254 , -0.6609343 , -0.8670445 ,  0.20810004,\n",
              "         -0.35394794,  0.9197677 , -0.26825497, -0.3080776 ],\n",
              "        [ 0.40666932, -0.40180025,  0.29215106,  0.6681591 ,\n",
              "         -0.47366625,  0.16566019, -0.44423363, -0.86879283],\n",
              "        [-0.08692276, -0.569026  , -0.91591656,  0.1506461 ,\n",
              "         -0.2681144 ,  0.890916  , -0.24519937, -0.15989678],\n",
              "        [-0.02124164, -0.61071146, -0.74210215,  0.3819013 ,\n",
              "         -0.5419    ,  0.8555258 , -0.36270756, -0.4538576 ]]],\n",
              "      dtype=float32)>"
            ]
          },
          "metadata": {},
          "execution_count": 115
        }
      ]
    },
    {
      "cell_type": "code",
      "metadata": {
        "id": "eSXb8l89Ratj",
        "colab": {
          "base_uri": "https://localhost:8080/"
        },
        "outputId": "a3573b47-2dbd-4980-cc68-56418c587fc8"
      },
      "source": [
        "norm2 = tf.keras.layers.LayerNormalization(epsilon=config.layernorm_epsilon)\n",
        "norm2_val = norm2(norm1_val + dropout(ende_attn_val))\n",
        "norm2_val"
      ],
      "execution_count": 116,
      "outputs": [
        {
          "output_type": "execute_result",
          "data": {
            "text/plain": [
              "<tf.Tensor: shape=(1, 5, 8), dtype=float32, numpy=\n",
              "array([[[-1.0721948 ,  0.37025335, -1.4743935 ,  2.1179867 ,\n",
              "         -0.04555044, -0.0433843 ,  0.19874687, -0.05146376],\n",
              "        [-0.9940957 ,  0.03967607, -1.4130147 ,  1.662603  ,\n",
              "         -0.09788682,  1.42066   , -0.19477013, -0.42317182],\n",
              "        [ 0.17130147,  1.3534756 , -0.46151027,  1.6938859 ,\n",
              "          0.10753408, -1.3878963 , -0.83989936, -0.6368911 ],\n",
              "        [ 0.42010397,  0.17559437, -1.829116  ,  1.2251796 ,\n",
              "         -0.5869009 ,  1.4476715 , -0.16346896, -0.6890633 ],\n",
              "        [-0.9123303 ,  0.47051647, -2.0671208 ,  0.8751693 ,\n",
              "         -0.26165423,  0.9579897 ,  0.956559  , -0.01912926]]],\n",
              "      dtype=float32)>"
            ]
          },
          "metadata": {},
          "execution_count": 116
        }
      ]
    },
    {
      "cell_type": "code",
      "metadata": {
        "id": "8oG4_TLaRnbh",
        "colab": {
          "base_uri": "https://localhost:8080/"
        },
        "outputId": "bc2e9f1d-952c-4e88-ea17-c1750c4ab06a"
      },
      "source": [
        "ffn = PositionWiseFeedForward(config)\n",
        "ffn_val = ffn(norm2_val)\n",
        "ffn_val"
      ],
      "execution_count": 117,
      "outputs": [
        {
          "output_type": "execute_result",
          "data": {
            "text/plain": [
              "<tf.Tensor: shape=(1, 5, 8), dtype=float32, numpy=\n",
              "array([[[ 0.0612382 ,  0.31636152,  1.4304276 ,  0.570252  ,\n",
              "         -0.07129054, -0.22888348, -0.5841343 ,  0.4339293 ],\n",
              "        [ 0.03198645,  0.07162551,  0.78945   ,  0.7710273 ,\n",
              "         -0.12840891, -0.33248094,  0.0386372 ,  0.6759969 ],\n",
              "        [-0.8345549 ,  0.66300195,  1.5049069 ,  1.1795565 ,\n",
              "          0.14338765,  0.25348714, -1.0037861 ,  0.18767132],\n",
              "        [-0.3379801 ,  0.44553939,  0.5964003 ,  0.9188989 ,\n",
              "         -0.1910796 , -0.34810102, -0.05615856,  0.9042101 ],\n",
              "        [ 0.42497915,  0.44764158,  1.067889  ,  0.8069382 ,\n",
              "         -0.2100951 , -0.4976054 , -0.04377619,  0.7962576 ]]],\n",
              "      dtype=float32)>"
            ]
          },
          "metadata": {},
          "execution_count": 117
        }
      ]
    },
    {
      "cell_type": "code",
      "metadata": {
        "id": "7ixzZBNURq_1",
        "colab": {
          "base_uri": "https://localhost:8080/"
        },
        "outputId": "7f19422c-a5e8-48f9-994e-127310999141"
      },
      "source": [
        "norm3 = tf.keras.layers.LayerNormalization(epsilon=config.layernorm_epsilon)\n",
        "dec_out = norm2(norm2_val + dropout(ffn_val))\n",
        "dec_out"
      ],
      "execution_count": 118,
      "outputs": [
        {
          "output_type": "execute_result",
          "data": {
            "text/plain": [
              "<tf.Tensor: shape=(1, 5, 8), dtype=float32, numpy=\n",
              "array([[[-1.2041253 ,  0.42860627, -0.2740695 ,  2.3537765 ,\n",
              "         -0.344161  , -0.49365115, -0.60245013,  0.13607414],\n",
              "        [-1.1928283 , -0.12746483, -0.85682184,  2.1774538 ,\n",
              "         -0.46253118,  0.8420891 , -0.3928944 ,  0.01299768],\n",
              "        [-0.6121967 ,  1.1614136 ,  0.5173689 ,  1.7286054 ,\n",
              "         -0.00713955, -0.92403644, -1.393479  , -0.47053614],\n",
              "        [-0.1597462 ,  0.38062993, -1.4779185 ,  1.9074349 ,\n",
              "         -1.0220307 ,  0.8602794 , -0.46226248, -0.02638612],\n",
              "        [-0.98113626,  0.6676316 , -1.5816107 ,  1.5638016 ,\n",
              "         -0.96283406,  0.13062859,  0.661326  ,  0.50219315]]],\n",
              "      dtype=float32)>"
            ]
          },
          "metadata": {},
          "execution_count": 118
        }
      ]
    },
    {
      "cell_type": "markdown",
      "metadata": {
        "id": "XpS8LxinR4HZ"
      },
      "source": [
        "### Class"
      ]
    },
    {
      "cell_type": "code",
      "metadata": {
        "id": "iuaIfX6wolCJ"
      },
      "source": [
        "class DecoderLayer(tf.keras.layers.Layer):\n",
        "    \"\"\"\n",
        "    Decoder Layer Class\n",
        "    \"\"\"\n",
        "    def __init__(self, config, name=\"decoder_layer\"):\n",
        "        \"\"\"\n",
        "        생성자\n",
        "        :param config: Config 객체\n",
        "        :param name: layer name\n",
        "        \"\"\"\n",
        "        super().__init__(name=name)\n",
        "\n",
        "        self.self_attention = MultiHeadAttention(config)\n",
        "        self.norm1 = tf.keras.layers.LayerNormalization(epsilon=config.layernorm_epsilon)\n",
        "\n",
        "        self.ende_attn = MultiHeadAttention(config)\n",
        "        self.norm2 = tf.keras.layers.LayerNormalization(epsilon=config.layernorm_epsilon)\n",
        "\n",
        "        self.ffn = PositionWiseFeedForward(config)\n",
        "        self.norm3 = tf.keras.layers.LayerNormalization(epsilon=config.layernorm_epsilon)\n",
        "\n",
        "        self.dropout = tf.keras.layers.Dropout(config.dropout)\n",
        "\n",
        "    def call(self, dec_embed, enc_out, self_mask, ende_mask):\n",
        "        \"\"\"\n",
        "        layer 실행\n",
        "        :param dec_embed: dec_embed 또는 이전 DecoderLayer의 출력\n",
        "        :param enc_out: 마지막 EncoderLayer의 출력\n",
        "        :param self_mask: dec_tokens의 ahead mask\n",
        "        :param ende_mask: enc_tokens의 pad mask\n",
        "        :return dec_out: DecoderLayer 실행 결과\n",
        "        \"\"\"\n",
        "        self_attn_val = self.self_attention(dec_embed, dec_embed, dec_embed, self_mask)\n",
        "        norm1_val = self.norm1(dec_embed + self.dropout(self_attn_val))\n",
        "\n",
        "        ende_attn_val = self.ende_attn(norm1_val, enc_out, enc_out, ende_mask)\n",
        "        norm2_val = self.norm2(norm1_val + self.dropout(ende_attn_val))\n",
        "\n",
        "        ffn_val = self.ffn(norm2_val)\n",
        "        dec_out = self.norm3(norm2_val + self.dropout(ffn_val))\n",
        "\n",
        "        return dec_out"
      ],
      "execution_count": 119,
      "outputs": []
    },
    {
      "cell_type": "markdown",
      "metadata": {
        "id": "hsohSU2sR7QF"
      },
      "source": [
        "### Test"
      ]
    },
    {
      "cell_type": "code",
      "metadata": {
        "id": "rXgIQENZp1Je",
        "colab": {
          "base_uri": "https://localhost:8080/"
        },
        "outputId": "05e286e2-3146-4314-de3c-5e5ea33b9e31"
      },
      "source": [
        "# Decoder 실행: 결과의 shape이 dec_embed 같으면 성공(?)\n",
        "decoder_layer = DecoderLayer(config)\n",
        "dec_out = decoder_layer(dec_embed, enc_out, self_mask, ende_mask)\n",
        "assert dec_embed.shape == dec_out.shape\n",
        "dec_out"
      ],
      "execution_count": 120,
      "outputs": [
        {
          "output_type": "execute_result",
          "data": {
            "text/plain": [
              "<tf.Tensor: shape=(1, 5, 8), dtype=float32, numpy=\n",
              "array([[[-1.0030594 ,  0.5805749 , -1.6976168 , -0.36998564,\n",
              "         -0.06975576,  0.05840587,  0.7526831 ,  1.7487537 ],\n",
              "        [-1.1175429 , -0.8313822 , -0.73496825, -0.7224272 ,\n",
              "          0.15881269,  0.8343892 ,  0.38462868,  2.0284898 ],\n",
              "        [-1.3698311 ,  1.086454  , -1.0407254 ,  0.42365557,\n",
              "          0.6603587 , -1.1805588 ,  1.3566748 ,  0.06397207],\n",
              "        [-1.108454  ,  1.1683538 , -0.28642404,  1.0768398 ,\n",
              "         -0.19314094,  0.10367075,  1.001128  , -1.7619733 ],\n",
              "        [-1.9044942 ,  0.906461  , -1.0239762 , -0.0950138 ,\n",
              "          0.37727755, -0.11386964,  1.4811612 ,  0.37245396]]],\n",
              "      dtype=float32)>"
            ]
          },
          "metadata": {},
          "execution_count": 120
        }
      ]
    },
    {
      "cell_type": "markdown",
      "metadata": {
        "id": "fC79J4CYuWF7"
      },
      "source": [
        "## Transformer\n",
        "\n",
        "![](https://paul-hyun.github.io/assets/transformer/transformer.png)"
      ]
    },
    {
      "cell_type": "markdown",
      "metadata": {
        "id": "MRwW6_IRTtWv"
      },
      "source": [
        "### Tutorial"
      ]
    },
    {
      "cell_type": "code",
      "metadata": {
        "id": "E5-0K2HaT4S8",
        "colab": {
          "base_uri": "https://localhost:8080/"
        },
        "outputId": "47a52678-9f1d-4eaf-b72c-47d37ed9c81b"
      },
      "source": [
        "# encoder self attention mask\n",
        "enc_self_mask = get_pad_mask(enc_tokens)\n",
        "enc_self_mask"
      ],
      "execution_count": 121,
      "outputs": [
        {
          "output_type": "execute_result",
          "data": {
            "text/plain": [
              "<tf.Tensor: shape=(1, 1, 6), dtype=float32, numpy=array([[[0., 0., 0., 0., 0., 1.]]], dtype=float32)>"
            ]
          },
          "metadata": {},
          "execution_count": 121
        }
      ]
    },
    {
      "cell_type": "code",
      "metadata": {
        "id": "sYbavBWVULDW",
        "colab": {
          "base_uri": "https://localhost:8080/"
        },
        "outputId": "e91c5f5e-55e5-4b67-f980-22b776da4726"
      },
      "source": [
        "# decoder self attention mask\n",
        "dec_self_mask = get_ahead_mask(dec_tokens)\n",
        "dec_self_mask"
      ],
      "execution_count": 122,
      "outputs": [
        {
          "output_type": "execute_result",
          "data": {
            "text/plain": [
              "<tf.Tensor: shape=(1, 5, 5), dtype=float32, numpy=\n",
              "array([[[0., 1., 1., 1., 1.],\n",
              "        [0., 0., 1., 1., 1.],\n",
              "        [0., 0., 0., 1., 1.],\n",
              "        [0., 0., 0., 0., 1.],\n",
              "        [0., 0., 0., 0., 1.]]], dtype=float32)>"
            ]
          },
          "metadata": {},
          "execution_count": 122
        }
      ]
    },
    {
      "cell_type": "code",
      "metadata": {
        "id": "jsCPrXSHUXyW",
        "colab": {
          "base_uri": "https://localhost:8080/"
        },
        "outputId": "8a4e3541-8514-4f0a-e59d-96767b78a9b6"
      },
      "source": [
        "# encoder decoder attention mask\n",
        "ende_attn_mask = get_pad_mask(enc_tokens)\n",
        "ende_attn_mask"
      ],
      "execution_count": 123,
      "outputs": [
        {
          "output_type": "execute_result",
          "data": {
            "text/plain": [
              "<tf.Tensor: shape=(1, 1, 6), dtype=float32, numpy=array([[[0., 0., 0., 0., 0., 1.]]], dtype=float32)>"
            ]
          },
          "metadata": {},
          "execution_count": 123
        }
      ]
    },
    {
      "cell_type": "code",
      "metadata": {
        "id": "o4TFj2QvTv9x"
      },
      "source": [
        "# embedding 선언\n",
        "embedding = SharedEmbedding(config)\n",
        "position = PositionalEmbedding(config)"
      ],
      "execution_count": 124,
      "outputs": []
    },
    {
      "cell_type": "code",
      "metadata": {
        "id": "CDejHFtYUgJS",
        "colab": {
          "base_uri": "https://localhost:8080/"
        },
        "outputId": "9f4b605e-4fd2-41e8-e0df-a04c0706cacf"
      },
      "source": [
        "# encoder embedding\n",
        "enc_embed = embedding(enc_tokens) + position(enc_tokens)\n",
        "enc_embed"
      ],
      "execution_count": 125,
      "outputs": [
        {
          "output_type": "execute_result",
          "data": {
            "text/plain": [
              "<tf.Tensor: shape=(1, 6, 8), dtype=float32, numpy=\n",
              "array([[[ 0.08233406,  2.8566623 , -1.4131961 ,  1.9292356 ,\n",
              "          1.0852543 ,  2.3589115 ,  1.0987883 , -0.57102036],\n",
              "        [ 1.3721294 ,  0.86170125,  1.0635569 ,  2.274029  ,\n",
              "         -0.4628705 , -0.1085456 , -0.69250786,  0.23946345],\n",
              "        [-0.18527573,  0.14757022,  0.17361866,  1.924506  ,\n",
              "         -1.0767562 , -0.657716  ,  0.59556913, -0.09281492],\n",
              "        [ 2.06635   , -1.9722767 ,  0.16101182,  1.0998178 ,\n",
              "          0.32978362,  0.16121942, -0.7051664 ,  0.13986266],\n",
              "        [ 0.9735252 , -1.039552  ,  0.6461056 ,  2.1154597 ,\n",
              "         -0.73406786,  0.39392954, -1.1797982 ,  1.0604619 ],\n",
              "        [-1.0512958 ,  0.5968548 , -0.70903325,  0.7909003 ,\n",
              "          1.8263443 ,  1.3972509 , -0.44632512, -0.08020413]]],\n",
              "      dtype=float32)>"
            ]
          },
          "metadata": {},
          "execution_count": 125
        }
      ]
    },
    {
      "cell_type": "code",
      "metadata": {
        "id": "PU-JPl-lUp0b",
        "colab": {
          "base_uri": "https://localhost:8080/"
        },
        "outputId": "c88331b8-fe01-4bf5-894f-2f179e85fb1a"
      },
      "source": [
        "# encoder embedding\n",
        "dec_embed = embedding(dec_tokens) + position(dec_tokens)\n",
        "dec_embed"
      ],
      "execution_count": 126,
      "outputs": [
        {
          "output_type": "execute_result",
          "data": {
            "text/plain": [
              "<tf.Tensor: shape=(1, 5, 8), dtype=float32, numpy=\n",
              "array([[[-0.15543607,  1.4198871 ,  0.8532211 ,  0.48257583,\n",
              "         -0.01898028,  0.6980718 , -0.94074667,  1.5109348 ],\n",
              "        [ 1.3721294 ,  0.86170125,  1.0635569 ,  2.274029  ,\n",
              "         -0.4628705 , -0.1085456 , -0.69250786,  0.23946345],\n",
              "        [ 2.639625  , -0.8020551 ,  0.4553566 ,  2.1744652 ,\n",
              "         -0.75405854,  0.39452946, -1.1817982 ,  1.0604678 ],\n",
              "        [ 0.2066074 , -1.1322836 , -1.0079966 ,  1.0053984 ,\n",
              "         -0.9590478 ,  0.34747452, -0.24890092,  2.4411082 ],\n",
              "        [-0.84917396, -0.340451  , -0.79904044,  0.8343787 ,\n",
              "          1.8163544 ,  1.3977008 , -0.4473251 , -0.0801996 ]]],\n",
              "      dtype=float32)>"
            ]
          },
          "metadata": {},
          "execution_count": 126
        }
      ]
    },
    {
      "cell_type": "code",
      "metadata": {
        "id": "NDwvDtJeUwnA"
      },
      "source": [
        "dropout = tf.keras.layers.Dropout(config.dropout)"
      ],
      "execution_count": 127,
      "outputs": []
    },
    {
      "cell_type": "code",
      "metadata": {
        "id": "GTSc3HkxUzHl"
      },
      "source": [
        "enc_out = dropout(enc_embed)"
      ],
      "execution_count": 128,
      "outputs": []
    },
    {
      "cell_type": "code",
      "metadata": {
        "id": "07h9QYTRU33t",
        "colab": {
          "base_uri": "https://localhost:8080/"
        },
        "outputId": "50e3fc80-9b99-48c0-b4eb-e9a6aa5a7718"
      },
      "source": [
        "# encoder layer 생성 config.n_layer 개수\n",
        "encoder_layers = [EncoderLayer(config, name=f\"encoder_layer_{i}\") for i in range(config.n_layer)]\n",
        "assert len(encoder_layers) == config.n_layer\n",
        "encoder_layers"
      ],
      "execution_count": 129,
      "outputs": [
        {
          "output_type": "execute_result",
          "data": {
            "text/plain": [
              "[<__main__.EncoderLayer at 0x7f97659fe690>,\n",
              " <__main__.EncoderLayer at 0x7f9765a3b190>,\n",
              " <__main__.EncoderLayer at 0x7f976598fdd0>]"
            ]
          },
          "metadata": {},
          "execution_count": 129
        }
      ]
    },
    {
      "cell_type": "code",
      "metadata": {
        "id": "I9KWtAdeVBcf",
        "colab": {
          "base_uri": "https://localhost:8080/"
        },
        "outputId": "442b5484-132c-4a84-e9c7-948c95a9f822"
      },
      "source": [
        "# layer를 순환하며 실행. 이전 layer 결과가 다음 layer 입력이 됨\n",
        "for encoder_layer in encoder_layers:\n",
        "    enc_out = encoder_layer(enc_out, enc_self_mask)\n",
        "enc_out"
      ],
      "execution_count": 130,
      "outputs": [
        {
          "output_type": "execute_result",
          "data": {
            "text/plain": [
              "<tf.Tensor: shape=(1, 6, 8), dtype=float32, numpy=\n",
              "array([[[-0.01642006,  1.7443535 , -1.9569259 ,  0.80518895,\n",
              "          0.29447827, -0.01110666, -0.51996887, -0.3395994 ],\n",
              "        [ 0.6596275 , -0.21063355, -0.8462136 ,  2.2521102 ,\n",
              "         -0.9247804 , -0.92603767,  0.08337147, -0.08744402],\n",
              "        [ 0.44695544, -0.2358216 , -0.83975965,  2.1305463 ,\n",
              "         -1.0522935 , -1.0793476 ,  0.42801195,  0.20170864],\n",
              "        [ 1.2166029 , -1.2724936 , -0.41723523,  1.561813  ,\n",
              "         -0.7329495 , -1.0821368 ,  0.75651956, -0.03012038],\n",
              "        [ 0.81929076, -0.9370066 , -0.4373563 ,  1.8818612 ,\n",
              "         -1.0563737 , -1.0849977 ,  0.617439  ,  0.19714329],\n",
              "        [-0.02201813,  0.60482985, -1.7203897 , -0.15700594,\n",
              "          1.8447968 , -0.11316953,  0.53396654, -0.97100985]]],\n",
              "      dtype=float32)>"
            ]
          },
          "metadata": {},
          "execution_count": 130
        }
      ]
    },
    {
      "cell_type": "code",
      "metadata": {
        "id": "qmgQm2xYVYnu"
      },
      "source": [
        "dec_out = dropout(dec_embed)"
      ],
      "execution_count": 131,
      "outputs": []
    },
    {
      "cell_type": "code",
      "metadata": {
        "id": "KhwNJjYuVbE-",
        "colab": {
          "base_uri": "https://localhost:8080/"
        },
        "outputId": "98c60467-1973-4f22-c3c2-00eafb3413c8"
      },
      "source": [
        "# decoder layer 생성 config.n_layer 개수\n",
        "decoder_layers = [DecoderLayer(config, name=f\"decoder_layer_{i}\") for i in range(config.n_layer)]\n",
        "assert len(decoder_layers) == config.n_layer\n",
        "decoder_layers"
      ],
      "execution_count": 132,
      "outputs": [
        {
          "output_type": "execute_result",
          "data": {
            "text/plain": [
              "[<__main__.DecoderLayer at 0x7f97659b3e10>,\n",
              " <__main__.DecoderLayer at 0x7f9765950810>,\n",
              " <__main__.DecoderLayer at 0x7f976596d710>]"
            ]
          },
          "metadata": {},
          "execution_count": 132
        }
      ]
    },
    {
      "cell_type": "code",
      "metadata": {
        "id": "bmQ8m5JMVrjw",
        "colab": {
          "base_uri": "https://localhost:8080/"
        },
        "outputId": "43160c46-6762-4014-8c89-80051d994142"
      },
      "source": [
        "for decoder_layer in decoder_layers:\n",
        "    dec_out = decoder_layer(dec_out, enc_out, dec_self_mask, ende_attn_mask)\n",
        "dec_out"
      ],
      "execution_count": 133,
      "outputs": [
        {
          "output_type": "execute_result",
          "data": {
            "text/plain": [
              "<tf.Tensor: shape=(1, 5, 8), dtype=float32, numpy=\n",
              "array([[[ 0.30285427, -0.94883   ,  0.15380538,  0.08533455,\n",
              "          1.1990509 , -2.1416757 ,  0.8097738 ,  0.5396869 ],\n",
              "        [ 0.4394655 , -1.0445912 ,  0.19191441, -0.01680798,\n",
              "          1.0342821 , -2.1068451 ,  0.88394046,  0.6186418 ],\n",
              "        [ 0.42350549, -1.0721102 ,  0.16015467, -0.14043868,\n",
              "          1.0635353 , -2.0400598 ,  0.9408981 ,  0.66451496],\n",
              "        [ 0.29957896, -1.0043008 ,  0.03578596, -0.15494469,\n",
              "          1.1705279 , -2.0160024 ,  0.9806705 ,  0.6886847 ],\n",
              "        [ 0.3538906 , -1.0061549 , -0.11797093, -0.07693018,\n",
              "          1.4073579 , -1.9477831 ,  0.9168788 ,  0.47071162]]],\n",
              "      dtype=float32)>"
            ]
          },
          "metadata": {},
          "execution_count": 133
        }
      ]
    },
    {
      "cell_type": "code",
      "metadata": {
        "id": "fin1ZkzlV0f5",
        "colab": {
          "base_uri": "https://localhost:8080/"
        },
        "outputId": "e5bc421a-61fa-485c-9698-4816bc5146fe"
      },
      "source": [
        "# 최종 softmax 이전 linear 실행\n",
        "logits = embedding(dec_out, mode=\"linear\")\n",
        "logits"
      ],
      "execution_count": 134,
      "outputs": [
        {
          "output_type": "execute_result",
          "data": {
            "text/plain": [
              "<tf.Tensor: shape=(1, 5, 10), dtype=float32, numpy=\n",
              "array([[[-0.0662112 ,  0.26269552, -0.28878844, -0.32883775,\n",
              "         -1.2169112 ,  0.92771083,  0.47236478,  0.3352169 ,\n",
              "         -0.0779844 ,  0.16750906],\n",
              "        [-0.23472072,  0.33451447, -0.17469844, -0.21850242,\n",
              "         -1.3899223 ,  0.9765576 ,  0.3945065 ,  0.29124254,\n",
              "         -0.08254416,  0.23275916],\n",
              "        [-0.21893902,  0.34065202, -0.18914427, -0.1452886 ,\n",
              "         -1.3932413 ,  0.9255412 ,  0.29794633,  0.16102834,\n",
              "         -0.09069951,  0.126505  ],\n",
              "        [-0.09967284,  0.35724473, -0.28541908, -0.13641348,\n",
              "         -1.2403258 ,  0.80971354,  0.2990996 ,  0.05298068,\n",
              "         -0.12083438, -0.02653136],\n",
              "        [ 0.21233773,  0.22691679, -0.37151036, -0.14081177,\n",
              "         -0.917573  ,  0.94576305,  0.24414273,  0.05377059,\n",
              "         -0.21177761, -0.03143515]]], dtype=float32)>"
            ]
          },
          "metadata": {},
          "execution_count": 134
        }
      ]
    },
    {
      "cell_type": "markdown",
      "metadata": {
        "id": "fQDSL7Q1TrvJ"
      },
      "source": [
        "### Class"
      ]
    },
    {
      "cell_type": "code",
      "metadata": {
        "id": "SD4jefa2SIpS"
      },
      "source": [
        "class Transformer(tf.keras.layers.Layer):\n",
        "    \"\"\"\n",
        "    Transformer Class\n",
        "    \"\"\"\n",
        "    def __init__(self, config, name=\"transformer\"):\n",
        "        \"\"\"\n",
        "        생성자\n",
        "        :param config: Config 객체\n",
        "        :param name: layer name\n",
        "        \"\"\"\n",
        "        super().__init__(name=name)\n",
        "\n",
        "        self.i_pad = config.i_pad\n",
        "        self.embedding = SharedEmbedding(config)\n",
        "        self.position = PositionalEmbedding(config)\n",
        "        \n",
        "        self.encoder_layers = [EncoderLayer(config, name=f\"encoder_layer_{i}\") for i in range(config.n_layer)]\n",
        "        self.decoder_layers = [DecoderLayer(config, name=f\"decoder_layer_{i}\") for i in range(config.n_layer)]\n",
        "\n",
        "        self.dropout = tf.keras.layers.Dropout(config.dropout)\n",
        "\n",
        "    def call(self, inputs):\n",
        "        \"\"\"\n",
        "        layer 실행\n",
        "        :param inputs: (enc_tokens, dec_tokens) tuple\n",
        "        :return logits: dec_tokens에 대한 다음 토큰 예측 결과 logits\n",
        "        \"\"\"\n",
        "        enc_tokens, dec_tokens = inputs\n",
        "\n",
        "        enc_self_mask = tf.keras.layers.Lambda(get_pad_mask, output_shape=(1, None), name='enc_self_mask')(enc_tokens, self.i_pad)\n",
        "        dec_self_mask = tf.keras.layers.Lambda(get_ahead_mask, output_shape=(None, None), name='dec_self_mask')(dec_tokens, self.i_pad)\n",
        "        ende_attn_mask = tf.keras.layers.Lambda(get_pad_mask, output_shape=(1, None), name='ende_attn_mask')(enc_tokens, self.i_pad)\n",
        "\n",
        "        enc_embed = self.get_embedding(enc_tokens)\n",
        "        dec_embed = self.get_embedding(dec_tokens)\n",
        "\n",
        "        enc_out = self.dropout(enc_embed)\n",
        "        for encoder_layer in self.encoder_layers:\n",
        "            enc_out = encoder_layer(enc_out, enc_self_mask)\n",
        "        \n",
        "        dec_out = self.dropout(dec_embed)\n",
        "        for decoder_layer in self.decoder_layers:\n",
        "            dec_out = decoder_layer(dec_out, enc_out, dec_self_mask, ende_attn_mask)\n",
        "\n",
        "        logits = self.embedding(dec_out, mode=\"linear\")\n",
        "        return logits\n",
        "    \n",
        "    def get_embedding(self, tokens):\n",
        "        \"\"\"\n",
        "        token embedding, position embedding lookup\n",
        "        :param tokens: 입력 tokens\n",
        "        :return embed: embedding 결과\n",
        "        \"\"\"\n",
        "        embed = self.embedding(tokens) + self.position(tokens)\n",
        "        return embed"
      ],
      "execution_count": 135,
      "outputs": []
    },
    {
      "cell_type": "markdown",
      "metadata": {
        "id": "_N5l-XL5WAuP"
      },
      "source": [
        "### Test"
      ]
    },
    {
      "cell_type": "code",
      "metadata": {
        "id": "ho09l7wwWC0Y",
        "colab": {
          "base_uri": "https://localhost:8080/"
        },
        "outputId": "f22150a1-6142-400e-bec7-3a5af49ba863"
      },
      "source": [
        "# Transformer 기능 확인. 최종 결과가 (bs, n_seq(dec), n_vocab)\n",
        "transformer = Transformer(config)\n",
        "\n",
        "logits = transformer((enc_tokens, dec_tokens))\n",
        "assert logits.shape == (dec_tokens.shape[0], dec_tokens.shape[1], config.n_vocab)\n",
        "logits"
      ],
      "execution_count": 136,
      "outputs": [
        {
          "output_type": "execute_result",
          "data": {
            "text/plain": [
              "<tf.Tensor: shape=(1, 5, 10), dtype=float32, numpy=\n",
              "array([[[-0.22803554,  0.12426321, -0.4394331 , -0.80678964,\n",
              "         -0.06882843,  1.1942759 ,  0.92151254,  0.03392921,\n",
              "         -0.0584352 , -0.3590299 ],\n",
              "        [-0.25559124,  0.28017646, -0.20359871, -0.82338643,\n",
              "         -0.01472097,  1.2325625 ,  1.1135418 ,  0.550039  ,\n",
              "          0.13010383, -0.5705527 ],\n",
              "        [-0.12270698,  0.05449362, -0.46751615, -0.8853945 ,\n",
              "         -0.16956887,  1.1342183 ,  0.79351115, -0.2025439 ,\n",
              "         -0.08344297, -0.09620892],\n",
              "        [-0.0369321 ,  0.125465  , -0.36338577, -0.9243122 ,\n",
              "         -0.1459417 ,  1.0637095 ,  0.86130047, -0.13289599,\n",
              "         -0.0784256 , -0.22109918],\n",
              "        [ 0.05455412,  0.12219068, -0.35891053, -0.9438472 ,\n",
              "         -0.17226176,  0.99258566,  0.84797823, -0.20073803,\n",
              "         -0.06487085, -0.27463228]]], dtype=float32)>"
            ]
          },
          "metadata": {},
          "execution_count": 136
        }
      ]
    },
    {
      "cell_type": "markdown",
      "metadata": {
        "id": "tOZoGy998QRV"
      },
      "source": [
        "# Transformer Train (Songys)"
      ]
    },
    {
      "cell_type": "code",
      "metadata": {
        "id": "SY0szhZ4cWzM"
      },
      "source": [
        "# 위에서 Q, K, V의 K와 중복으로 인한 에러 수정\n",
        "import tensorflow.keras.backend as K"
      ],
      "execution_count": 137,
      "outputs": []
    },
    {
      "cell_type": "code",
      "metadata": {
        "id": "Itc2MqpAEmex"
      },
      "source": [
        "def print_file(filename, count=5):\n",
        "    \"\"\"\n",
        "    파일 내용 출력\n",
        "    :param filename: 파일 이름\n",
        "    :param count: 출력 라인 수\n",
        "    \"\"\"\n",
        "    with open(filename) as f:\n",
        "        for i, line in enumerate(f):\n",
        "            if count <= i:\n",
        "                break\n",
        "            print(line.strip())"
      ],
      "execution_count": 138,
      "outputs": []
    },
    {
      "cell_type": "markdown",
      "metadata": {
        "id": "34abQnr98r7B"
      },
      "source": [
        "## Download Data"
      ]
    },
    {
      "cell_type": "code",
      "metadata": {
        "id": "GFwVgQYX8uG3",
        "colab": {
          "base_uri": "https://localhost:8080/"
        },
        "outputId": "f62d6819-26fa-4a68-9065-aebcdfc44dcd"
      },
      "source": [
        "# 다운로드\n",
        "!wget https://raw.githubusercontent.com/songys/Chatbot_data/master/ChatbotData.csv"
      ],
      "execution_count": 142,
      "outputs": [
        {
          "output_type": "stream",
          "name": "stdout",
          "text": [
            "--2021-09-20 02:12:47--  https://raw.githubusercontent.com/songys/Chatbot_data/master/ChatbotData.csv\n",
            "Resolving raw.githubusercontent.com (raw.githubusercontent.com)... 185.199.108.133, 185.199.109.133, 185.199.110.133, ...\n",
            "Connecting to raw.githubusercontent.com (raw.githubusercontent.com)|185.199.108.133|:443... connected.\n",
            "HTTP request sent, awaiting response... 200 OK\n",
            "Length: 889842 (869K) [text/plain]\n",
            "Saving to: ‘ChatbotData.csv’\n",
            "\n",
            "\rChatbotData.csv       0%[                    ]       0  --.-KB/s               \rChatbotData.csv     100%[===================>] 868.99K  --.-KB/s    in 0.05s   \n",
            "\n",
            "2021-09-20 02:12:48 (18.7 MB/s) - ‘ChatbotData.csv’ saved [889842/889842]\n",
            "\n"
          ]
        }
      ]
    },
    {
      "cell_type": "code",
      "metadata": {
        "id": "U2hN4yQGDoHB",
        "colab": {
          "base_uri": "https://localhost:8080/"
        },
        "outputId": "e76697a2-965c-47d2-b608-f26423998079"
      },
      "source": [
        "print_file(\"ChatbotData.csv\")"
      ],
      "execution_count": 144,
      "outputs": [
        {
          "output_type": "stream",
          "name": "stdout",
          "text": [
            "Q,A,label\n",
            "12시 땡!,하루가 또 가네요.,0\n",
            "1지망 학교 떨어졌어,위로해 드립니다.,0\n",
            "3박4일 놀러가고 싶다,여행은 언제나 좋죠.,0\n",
            "3박4일 정도 놀러가고 싶다,여행은 언제나 좋죠.,0\n"
          ]
        }
      ]
    },
    {
      "cell_type": "markdown",
      "metadata": {
        "id": "S3266YeXD2Yw"
      },
      "source": [
        "## Create Vocab"
      ]
    },
    {
      "cell_type": "code",
      "metadata": {
        "id": "Kt-vE5irD-aI",
        "colab": {
          "base_uri": "https://localhost:8080/",
          "height": 363
        },
        "outputId": "66cf39f6-f3ff-46a8-eb58-71964ae044a1"
      },
      "source": [
        "# head=0 첫벗째 줄이 head\n",
        "chatbot_data = pd.read_csv(\"ChatbotData.csv\", header=0)\n",
        "chatbot_data.head(10)"
      ],
      "execution_count": 145,
      "outputs": [
        {
          "output_type": "execute_result",
          "data": {
            "text/html": [
              "<div>\n",
              "<style scoped>\n",
              "    .dataframe tbody tr th:only-of-type {\n",
              "        vertical-align: middle;\n",
              "    }\n",
              "\n",
              "    .dataframe tbody tr th {\n",
              "        vertical-align: top;\n",
              "    }\n",
              "\n",
              "    .dataframe thead th {\n",
              "        text-align: right;\n",
              "    }\n",
              "</style>\n",
              "<table border=\"1\" class=\"dataframe\">\n",
              "  <thead>\n",
              "    <tr style=\"text-align: right;\">\n",
              "      <th></th>\n",
              "      <th>Q</th>\n",
              "      <th>A</th>\n",
              "      <th>label</th>\n",
              "    </tr>\n",
              "  </thead>\n",
              "  <tbody>\n",
              "    <tr>\n",
              "      <th>0</th>\n",
              "      <td>12시 땡!</td>\n",
              "      <td>하루가 또 가네요.</td>\n",
              "      <td>0</td>\n",
              "    </tr>\n",
              "    <tr>\n",
              "      <th>1</th>\n",
              "      <td>1지망 학교 떨어졌어</td>\n",
              "      <td>위로해 드립니다.</td>\n",
              "      <td>0</td>\n",
              "    </tr>\n",
              "    <tr>\n",
              "      <th>2</th>\n",
              "      <td>3박4일 놀러가고 싶다</td>\n",
              "      <td>여행은 언제나 좋죠.</td>\n",
              "      <td>0</td>\n",
              "    </tr>\n",
              "    <tr>\n",
              "      <th>3</th>\n",
              "      <td>3박4일 정도 놀러가고 싶다</td>\n",
              "      <td>여행은 언제나 좋죠.</td>\n",
              "      <td>0</td>\n",
              "    </tr>\n",
              "    <tr>\n",
              "      <th>4</th>\n",
              "      <td>PPL 심하네</td>\n",
              "      <td>눈살이 찌푸려지죠.</td>\n",
              "      <td>0</td>\n",
              "    </tr>\n",
              "    <tr>\n",
              "      <th>5</th>\n",
              "      <td>SD카드 망가졌어</td>\n",
              "      <td>다시 새로 사는 게 마음 편해요.</td>\n",
              "      <td>0</td>\n",
              "    </tr>\n",
              "    <tr>\n",
              "      <th>6</th>\n",
              "      <td>SD카드 안돼</td>\n",
              "      <td>다시 새로 사는 게 마음 편해요.</td>\n",
              "      <td>0</td>\n",
              "    </tr>\n",
              "    <tr>\n",
              "      <th>7</th>\n",
              "      <td>SNS 맞팔 왜 안하지ㅠㅠ</td>\n",
              "      <td>잘 모르고 있을 수도 있어요.</td>\n",
              "      <td>0</td>\n",
              "    </tr>\n",
              "    <tr>\n",
              "      <th>8</th>\n",
              "      <td>SNS 시간낭비인 거 아는데 매일 하는 중</td>\n",
              "      <td>시간을 정하고 해보세요.</td>\n",
              "      <td>0</td>\n",
              "    </tr>\n",
              "    <tr>\n",
              "      <th>9</th>\n",
              "      <td>SNS 시간낭비인데 자꾸 보게됨</td>\n",
              "      <td>시간을 정하고 해보세요.</td>\n",
              "      <td>0</td>\n",
              "    </tr>\n",
              "  </tbody>\n",
              "</table>\n",
              "</div>"
            ],
            "text/plain": [
              "                         Q                   A  label\n",
              "0                   12시 땡!          하루가 또 가네요.      0\n",
              "1              1지망 학교 떨어졌어           위로해 드립니다.      0\n",
              "2             3박4일 놀러가고 싶다         여행은 언제나 좋죠.      0\n",
              "3          3박4일 정도 놀러가고 싶다         여행은 언제나 좋죠.      0\n",
              "4                  PPL 심하네          눈살이 찌푸려지죠.      0\n",
              "5                SD카드 망가졌어  다시 새로 사는 게 마음 편해요.      0\n",
              "6                  SD카드 안돼  다시 새로 사는 게 마음 편해요.      0\n",
              "7           SNS 맞팔 왜 안하지ㅠㅠ    잘 모르고 있을 수도 있어요.      0\n",
              "8  SNS 시간낭비인 거 아는데 매일 하는 중       시간을 정하고 해보세요.      0\n",
              "9        SNS 시간낭비인데 자꾸 보게됨       시간을 정하고 해보세요.      0"
            ]
          },
          "metadata": {},
          "execution_count": 145
        }
      ]
    },
    {
      "cell_type": "code",
      "metadata": {
        "id": "r5QPVFHbEE5P",
        "colab": {
          "base_uri": "https://localhost:8080/"
        },
        "outputId": "e5adf369-4099-46bc-b620-51e31c0fd2f8"
      },
      "source": [
        "# data 합치기\n",
        "corpus_set = pd.Series(chatbot_data['Q'].tolist() + chatbot_data['A'].tolist()).astype(str)\n",
        "corpus_set.head(10)"
      ],
      "execution_count": 146,
      "outputs": [
        {
          "output_type": "execute_result",
          "data": {
            "text/plain": [
              "0                     12시 땡!\n",
              "1                1지망 학교 떨어졌어\n",
              "2               3박4일 놀러가고 싶다\n",
              "3            3박4일 정도 놀러가고 싶다\n",
              "4                    PPL 심하네\n",
              "5                  SD카드 망가졌어\n",
              "6                    SD카드 안돼\n",
              "7             SNS 맞팔 왜 안하지ㅠㅠ\n",
              "8    SNS 시간낭비인 거 아는데 매일 하는 중\n",
              "9          SNS 시간낭비인데 자꾸 보게됨\n",
              "dtype: object"
            ]
          },
          "metadata": {},
          "execution_count": 146
        }
      ]
    },
    {
      "cell_type": "code",
      "metadata": {
        "id": "uWXTBj3hETZI"
      },
      "source": [
        "with open(\"ChatbotData.txt\", \"w\") as f:\n",
        "    for line in corpus_set:\n",
        "        f.write(line.strip())\n",
        "        f.write(\"\\n\")"
      ],
      "execution_count": 147,
      "outputs": []
    },
    {
      "cell_type": "code",
      "metadata": {
        "id": "IAvrv3rsEwhz",
        "colab": {
          "base_uri": "https://localhost:8080/"
        },
        "outputId": "853a98e5-059c-4771-a1dd-7e76967f8c77"
      },
      "source": [
        "print_file(\"ChatbotData.txt\")"
      ],
      "execution_count": 148,
      "outputs": [
        {
          "output_type": "stream",
          "name": "stdout",
          "text": [
            "12시 땡!\n",
            "1지망 학교 떨어졌어\n",
            "3박4일 놀러가고 싶다\n",
            "3박4일 정도 놀러가고 싶다\n",
            "PPL 심하네\n"
          ]
        }
      ]
    },
    {
      "cell_type": "code",
      "metadata": {
        "id": "KlBr3ZMSE-Lz"
      },
      "source": [
        "def train_sentencepiece(corpus, prefix, vocab_size=8000):\n",
        "    \"\"\"\n",
        "    sentencepiece를 이용해 vocab 학습\n",
        "    :param corpus: 학습할 말뭉치\n",
        "    :param prefix: 저장할 vocab 이름\n",
        "    :param vocab_size: vocab 개수\n",
        "    \"\"\"\n",
        "    spm.SentencePieceTrainer.train(\n",
        "        f\"--input={corpus} --model_prefix={prefix} --vocab_size={vocab_size + 7}\" +  # 7은 특수문자 개수\n",
        "        \" --model_type=bpe\" +\n",
        "        \" --max_sentence_length=999999\" +  # 문장 최대 길이\n",
        "        \" --pad_id=0 --pad_piece=[PAD]\" +  # pad token 및 id 지정\n",
        "        \" --unk_id=1 --unk_piece=[UNK]\" +  # unknown token 및 id 지정\n",
        "        \" --bos_id=2 --bos_piece=[BOS]\" +  # begin of sequence token 및 id 지정\n",
        "        \" --eos_id=3 --eos_piece=[EOS]\" +  # end of sequence token 및 id 지정\n",
        "        \" --user_defined_symbols=[SEP],[CLS],[MASK]\")  # 기타 추가 토큰 SEP: 4, CLS: 5, MASK: 6"
      ],
      "execution_count": 149,
      "outputs": []
    },
    {
      "cell_type": "code",
      "metadata": {
        "id": "Eg6YJLDtFK_N"
      },
      "source": [
        "# vocab 생성\n",
        "train_sentencepiece(f\"ChatbotData.txt\", f\"syngys\", vocab_size=8000)"
      ],
      "execution_count": 150,
      "outputs": []
    },
    {
      "cell_type": "code",
      "metadata": {
        "id": "WzrEXtlfFTDs",
        "colab": {
          "base_uri": "https://localhost:8080/"
        },
        "outputId": "4c8a9947-2657-49ef-bbc7-34be692cf15e"
      },
      "source": [
        "os.listdir(\".\")"
      ],
      "execution_count": 151,
      "outputs": [
        {
          "output_type": "execute_result",
          "data": {
            "text/plain": [
              "['.config',\n",
              " 'ChatbotData.txt',\n",
              " 'syngys.model',\n",
              " 'ChatbotData.csv',\n",
              " 'syngys.vocab',\n",
              " 'sample_data']"
            ]
          },
          "metadata": {},
          "execution_count": 151
        }
      ]
    },
    {
      "cell_type": "code",
      "metadata": {
        "id": "yREQozPuFV_U",
        "colab": {
          "base_uri": "https://localhost:8080/"
        },
        "outputId": "136d117d-48cf-43e0-966b-d5b8a13a69a6"
      },
      "source": [
        "# load vocab\n",
        "vocab = spm.SentencePieceProcessor()\n",
        "vocab.load(f\"syngys.model\")"
      ],
      "execution_count": 152,
      "outputs": [
        {
          "output_type": "execute_result",
          "data": {
            "text/plain": [
              "True"
            ]
          },
          "metadata": {},
          "execution_count": 152
        }
      ]
    },
    {
      "cell_type": "code",
      "metadata": {
        "id": "fAHHyXSKFb60",
        "colab": {
          "base_uri": "https://localhost:8080/"
        },
        "outputId": "fc7e98f6-58b7-4f50-c6e4-6493a81e762f"
      },
      "source": [
        "# vocab 출력\n",
        "print(f\"len: {len(vocab)}\")\n",
        "for id in range(20):\n",
        "    print(f\"{id:2d}: {vocab.id_to_piece(id)}\")"
      ],
      "execution_count": 153,
      "outputs": [
        {
          "output_type": "stream",
          "name": "stdout",
          "text": [
            "len: 8007\n",
            " 0: [PAD]\n",
            " 1: [UNK]\n",
            " 2: [BOS]\n",
            " 3: [EOS]\n",
            " 4: [SEP]\n",
            " 5: [CLS]\n",
            " 6: [MASK]\n",
            " 7: 세요\n",
            " 8: ▁사\n",
            " 9: ▁좋\n",
            "10: ▁있\n",
            "11: ▁이\n",
            "12: ▁거\n",
            "13: 하는\n",
            "14: 보세요\n",
            "15: ▁그\n",
            "16: ▁나\n",
            "17: ▁아\n",
            "18: 예요\n",
            "19: ▁마\n"
          ]
        }
      ]
    },
    {
      "cell_type": "code",
      "metadata": {
        "id": "NsFBGdvPFmRm",
        "colab": {
          "base_uri": "https://localhost:8080/"
        },
        "outputId": "9a791884-cb43-4ddb-a90a-17a281825aba"
      },
      "source": [
        "pieces = vocab.encode_as_pieces(corpus_set[10])\n",
        "pieces"
      ],
      "execution_count": 154,
      "outputs": [
        {
          "output_type": "execute_result",
          "data": {
            "text/plain": [
              "['▁SNS', '보면', '▁나만', '▁빼고', '▁다', '▁행복해보여']"
            ]
          },
          "metadata": {},
          "execution_count": 154
        }
      ]
    },
    {
      "cell_type": "markdown",
      "metadata": {
        "id": "1-xIfzOMF8nO"
      },
      "source": [
        "## Data Load"
      ]
    },
    {
      "cell_type": "code",
      "metadata": {
        "id": "88FUzaPqGbT3",
        "colab": {
          "base_uri": "https://localhost:8080/",
          "height": 363
        },
        "outputId": "c6c2771b-38cd-4c84-8438-8d584b8b9cb8"
      },
      "source": [
        "# head=0 첫벗째 줄이 head\n",
        "chatbot_data = pd.read_csv(\"ChatbotData.csv\", header=0)\n",
        "chatbot_data.head(10)"
      ],
      "execution_count": 155,
      "outputs": [
        {
          "output_type": "execute_result",
          "data": {
            "text/html": [
              "<div>\n",
              "<style scoped>\n",
              "    .dataframe tbody tr th:only-of-type {\n",
              "        vertical-align: middle;\n",
              "    }\n",
              "\n",
              "    .dataframe tbody tr th {\n",
              "        vertical-align: top;\n",
              "    }\n",
              "\n",
              "    .dataframe thead th {\n",
              "        text-align: right;\n",
              "    }\n",
              "</style>\n",
              "<table border=\"1\" class=\"dataframe\">\n",
              "  <thead>\n",
              "    <tr style=\"text-align: right;\">\n",
              "      <th></th>\n",
              "      <th>Q</th>\n",
              "      <th>A</th>\n",
              "      <th>label</th>\n",
              "    </tr>\n",
              "  </thead>\n",
              "  <tbody>\n",
              "    <tr>\n",
              "      <th>0</th>\n",
              "      <td>12시 땡!</td>\n",
              "      <td>하루가 또 가네요.</td>\n",
              "      <td>0</td>\n",
              "    </tr>\n",
              "    <tr>\n",
              "      <th>1</th>\n",
              "      <td>1지망 학교 떨어졌어</td>\n",
              "      <td>위로해 드립니다.</td>\n",
              "      <td>0</td>\n",
              "    </tr>\n",
              "    <tr>\n",
              "      <th>2</th>\n",
              "      <td>3박4일 놀러가고 싶다</td>\n",
              "      <td>여행은 언제나 좋죠.</td>\n",
              "      <td>0</td>\n",
              "    </tr>\n",
              "    <tr>\n",
              "      <th>3</th>\n",
              "      <td>3박4일 정도 놀러가고 싶다</td>\n",
              "      <td>여행은 언제나 좋죠.</td>\n",
              "      <td>0</td>\n",
              "    </tr>\n",
              "    <tr>\n",
              "      <th>4</th>\n",
              "      <td>PPL 심하네</td>\n",
              "      <td>눈살이 찌푸려지죠.</td>\n",
              "      <td>0</td>\n",
              "    </tr>\n",
              "    <tr>\n",
              "      <th>5</th>\n",
              "      <td>SD카드 망가졌어</td>\n",
              "      <td>다시 새로 사는 게 마음 편해요.</td>\n",
              "      <td>0</td>\n",
              "    </tr>\n",
              "    <tr>\n",
              "      <th>6</th>\n",
              "      <td>SD카드 안돼</td>\n",
              "      <td>다시 새로 사는 게 마음 편해요.</td>\n",
              "      <td>0</td>\n",
              "    </tr>\n",
              "    <tr>\n",
              "      <th>7</th>\n",
              "      <td>SNS 맞팔 왜 안하지ㅠㅠ</td>\n",
              "      <td>잘 모르고 있을 수도 있어요.</td>\n",
              "      <td>0</td>\n",
              "    </tr>\n",
              "    <tr>\n",
              "      <th>8</th>\n",
              "      <td>SNS 시간낭비인 거 아는데 매일 하는 중</td>\n",
              "      <td>시간을 정하고 해보세요.</td>\n",
              "      <td>0</td>\n",
              "    </tr>\n",
              "    <tr>\n",
              "      <th>9</th>\n",
              "      <td>SNS 시간낭비인데 자꾸 보게됨</td>\n",
              "      <td>시간을 정하고 해보세요.</td>\n",
              "      <td>0</td>\n",
              "    </tr>\n",
              "  </tbody>\n",
              "</table>\n",
              "</div>"
            ],
            "text/plain": [
              "                         Q                   A  label\n",
              "0                   12시 땡!          하루가 또 가네요.      0\n",
              "1              1지망 학교 떨어졌어           위로해 드립니다.      0\n",
              "2             3박4일 놀러가고 싶다         여행은 언제나 좋죠.      0\n",
              "3          3박4일 정도 놀러가고 싶다         여행은 언제나 좋죠.      0\n",
              "4                  PPL 심하네          눈살이 찌푸려지죠.      0\n",
              "5                SD카드 망가졌어  다시 새로 사는 게 마음 편해요.      0\n",
              "6                  SD카드 안돼  다시 새로 사는 게 마음 편해요.      0\n",
              "7           SNS 맞팔 왜 안하지ㅠㅠ    잘 모르고 있을 수도 있어요.      0\n",
              "8  SNS 시간낭비인 거 아는데 매일 하는 중       시간을 정하고 해보세요.      0\n",
              "9        SNS 시간낭비인데 자꾸 보게됨       시간을 정하고 해보세요.      0"
            ]
          },
          "metadata": {},
          "execution_count": 155
        }
      ]
    },
    {
      "cell_type": "code",
      "metadata": {
        "id": "q5nDXAxSF77s"
      },
      "source": [
        "def load_data(vocab, dataframe):\n",
        "    \"\"\"\n",
        "    학습에 필요한 데이터를 로드\n",
        "    :param vocab: vocab\n",
        "    :param dataframe: pandas dataframe\n",
        "    :return enc_inputs: encoder inputs\n",
        "    :return dec_inputs: decoder inputs\n",
        "    :return labels: labels\n",
        "    \"\"\"\n",
        "    total = len(dataframe)\n",
        "\n",
        "    # 데이터 미리 생성\n",
        "    enc_tokens = []\n",
        "    dec_tokens = []\n",
        "    labels = []\n",
        "\n",
        "    # 라인단위로 데이터 생성\n",
        "    for i, row in tqdm(dataframe.iterrows(), total=len(dataframe)):\n",
        "        # Q, A 모두 string 인 경우만 처리\n",
        "        if type(row[\"Q\"]) == str and type(row[\"A\"]) == str:\n",
        "            # qestion을 id 형태로 변경\n",
        "            q_id = vocab.encode_as_ids(row[\"Q\"])\n",
        "            # answer를 id 형태로 변경\n",
        "            a_id = vocab.encode_as_ids(row[\"A\"])\n",
        "\n",
        "            # enc_token: <question tokens>, [PAD] tokens\n",
        "            enc_tokens.append(q_id)\n",
        "            # dec_token: [BOS], <answer tokens>, [PAD] tokens\n",
        "            dec_tokens.append([vocab.bos_id()] + a_id)\n",
        "            # label: <answer tokens>, [EOS], [PAD] tokens\n",
        "            labels.append(a_id + [vocab.eos_id()])\n",
        "    \n",
        "    enc_len = max([len(tokens) for tokens in enc_tokens])\n",
        "    dec_len = max([len(tokens) for tokens in dec_tokens])\n",
        "    label_len = max([len(tokens) for tokens in labels])\n",
        "\n",
        "    # 데이터 미리 생성\n",
        "    np_enc_tokens = np.zeros((total, enc_len), np.int)\n",
        "    np_dec_tokens = np.zeros((total, dec_len), np.int)\n",
        "    np_labels = np.zeros((total, label_len), np.int)\n",
        "\n",
        "    for i, (enc_token, dec_token, label) in enumerate(zip(enc_tokens, dec_tokens, labels)):\n",
        "        np_enc_tokens[i,:len(enc_token)] = enc_token\n",
        "        np_dec_tokens[i,:len(dec_token)] = dec_token\n",
        "        np_labels[i,:len(label)] = label\n",
        "\n",
        "    return (np_enc_tokens, np_dec_tokens), np_labels"
      ],
      "execution_count": 156,
      "outputs": []
    },
    {
      "cell_type": "code",
      "metadata": {
        "id": "SUvENcJBGffw",
        "colab": {
          "base_uri": "https://localhost:8080/",
          "height": 199,
          "referenced_widgets": [
            "a5944231ff4d4e9aa007011b15986fb9",
            "9b78b1c47e6f402784fb3af0a28b241c",
            "235218b5d8ec4b278a2daeac44ac7007",
            "f996336030ac4054a0e83b1568fecc06",
            "9f7a86c1063b4daeb3d75cf04da86676",
            "cb5b99df024143c8917f52f86289deb2",
            "a911251610ce4156a1e193ba4a03e148",
            "7fdf5eeeac294c2fbf177e130e702fb4",
            "bba39251a34548ddb7079c2c539a991a",
            "dcbbae445ec54cb2a19d23b9c8b6af0c",
            "424889892bca4386b05304c3738effce"
          ]
        },
        "outputId": "a908e4a7-1167-4dd9-e49c-5bb0472c5782"
      },
      "source": [
        "train_inputs, train_labels = load_data(vocab, chatbot_data)\n",
        "# 마지막 출력. 마지막이 0이 아니면 끝까지 잘 처리 된 것임\n",
        "train_inputs[0][-1], train_inputs[1][-1], train_labels[-1]"
      ],
      "execution_count": 157,
      "outputs": [
        {
          "output_type": "display_data",
          "data": {
            "application/vnd.jupyter.widget-view+json": {
              "model_id": "a5944231ff4d4e9aa007011b15986fb9",
              "version_minor": 0,
              "version_major": 2
            },
            "text/plain": [
              "  0%|          | 0/11823 [00:00<?, ?it/s]"
            ]
          },
          "metadata": {}
        },
        {
          "output_type": "execute_result",
          "data": {
            "text/plain": [
              "(array([2475,  215, 4315,    0,    0,    0,    0,    0,    0,    0,    0,\n",
              "           0,    0,    0,    0,    0,    0,    0,    0,    0,    0]),\n",
              " array([   2,  195, 7117, 7115, 3068,  392, 1475,  632, 6923,    0,    0,\n",
              "           0,    0,    0,    0,    0,    0,    0,    0,    0,    0,    0,\n",
              "           0,    0,    0,    0,    0,    0,    0,    0]),\n",
              " array([ 195, 7117, 7115, 3068,  392, 1475,  632, 6923,    3,    0,    0,\n",
              "           0,    0,    0,    0,    0,    0,    0,    0,    0,    0,    0,\n",
              "           0,    0,    0,    0,    0,    0,    0,    0]))"
            ]
          },
          "metadata": {},
          "execution_count": 157
        }
      ]
    },
    {
      "cell_type": "markdown",
      "metadata": {
        "id": "xclGDmnmDCUY"
      },
      "source": [
        "## Model"
      ]
    },
    {
      "cell_type": "code",
      "metadata": {
        "id": "R_9KQmbJDDyV"
      },
      "source": [
        "def get_pad_mask(tokens, i_pad=0):\n",
        "    \"\"\"\n",
        "    pad mask 계산하는 함수\n",
        "    :param tokens: tokens (bs, n_seq)\n",
        "    :param i_pad: id of pad\n",
        "    :return mask: pad mask (pad: 1, other: 0)\n",
        "    \"\"\"\n",
        "    mask = tf.cast(tf.math.equal(tokens, i_pad), tf.float32)\n",
        "    mask = tf.expand_dims(mask, axis=1)\n",
        "    return mask\n",
        "\n",
        "\n",
        "def get_ahead_mask(tokens, i_pad=0):\n",
        "    \"\"\"\n",
        "    ahead mask 계산하는 함수\n",
        "    :param tokens: tokens (bs, n_seq)\n",
        "    :param i_pad: id of pad\n",
        "    :return mask: ahead and pad mask (ahead or pad: 1, other: 0)\n",
        "    \"\"\"\n",
        "    n_seq = tf.shape(tokens)[1]\n",
        "    ahead_mask = 1 - tf.linalg.band_part(tf.ones((n_seq, n_seq)), -1, 0)\n",
        "    ahead_mask = tf.expand_dims(ahead_mask, axis=0)\n",
        "    pad_mask = get_pad_mask(tokens, i_pad)\n",
        "    mask = tf.maximum(ahead_mask, pad_mask)\n",
        "    return mask\n",
        "\n",
        "\n",
        "def kernel_initializer(stddev=0.02):\n",
        "    \"\"\"\n",
        "    parameter initializer 생성\n",
        "    :param stddev: 생성할 랜덤 변수의 표준편차\n",
        "    \"\"\"\n",
        "    return tf.keras.initializers.TruncatedNormal(stddev=stddev)\n",
        "\n",
        "\n",
        "class Config(dict):\n",
        "    \"\"\"\n",
        "    json을 config 형태로 사용하기 위한 Class\n",
        "    :param dict: config dictionary\n",
        "    \"\"\"\n",
        "    __getattr__ = dict.__getitem__\n",
        "    __setattr__ = dict.__setitem__\n",
        "\n",
        "    @classmethod\n",
        "    def load(cls, file):\n",
        "        \"\"\"\n",
        "        file에서 Config를 생성 함\n",
        "        :param file: filename\n",
        "        \"\"\"\n",
        "        with open(file, 'r') as f:\n",
        "            config = json.loads(f.read())\n",
        "            return Config(config)\n",
        "\n",
        "\n",
        "class SharedEmbedding(tf.keras.layers.Layer):\n",
        "    \"\"\"\n",
        "    Weighed Shaed Embedding Class\n",
        "    \"\"\"\n",
        "    def __init__(self, config, name=\"weight_shared_embedding\"):\n",
        "        \"\"\"\n",
        "        생성자\n",
        "        :param config: Config 객체\n",
        "        :param name: layer name\n",
        "        \"\"\"\n",
        "        super().__init__(name=name)\n",
        "\n",
        "        self.n_vocab = config.n_vocab\n",
        "        self.d_model = config.d_model\n",
        "    \n",
        "    def build(self, input_shape):\n",
        "        \"\"\"\n",
        "        shared weight 생성\n",
        "        :param input_shape: Tensor Shape (not used)\n",
        "        \"\"\"\n",
        "        with tf.name_scope(\"shared_embedding_weight\"):\n",
        "            self.shared_weights = self.add_weight(\n",
        "                \"weights\",\n",
        "                shape=[self.n_vocab, self.d_model],\n",
        "                initializer=kernel_initializer(stddev=self.d_model ** -0.5)\n",
        "            )\n",
        "\n",
        "    def call(self, inputs, mode=\"embedding\"):\n",
        "        \"\"\"\n",
        "        layer 실행\n",
        "        :param inputs: 입력\n",
        "        :param mode: 실행 모드\n",
        "        :return: embedding or linear 실행 결과\n",
        "        \"\"\"\n",
        "        # mode가 embedding일 경우 embedding lookup 실행\n",
        "        if mode == \"embedding\":\n",
        "            return self._embedding(inputs)\n",
        "        # mode가 linear일 경우 linear 실행\n",
        "        elif mode == \"linear\":\n",
        "            return self._linear(inputs)\n",
        "        # mode가 기타일 경우 오류 발생\n",
        "        else:\n",
        "            raise ValueError(f\"mode {mode} is not valid.\")\n",
        "    \n",
        "    def _embedding(self, inputs):\n",
        "        \"\"\"\n",
        "        embedding lookup\n",
        "        :param inputs: 입력\n",
        "        \"\"\"\n",
        "        embed = tf.gather(self.shared_weights, tf.cast(inputs, tf.int32))\n",
        "        embed *= self.d_model ** 0.5\n",
        "        return embed\n",
        "\n",
        "    def _linear(self, inputs):  # (bs, n_seq, d_model)\n",
        "        \"\"\"\n",
        "        linear 실행\n",
        "        :param inputs: 입력\n",
        "        \"\"\"\n",
        "        n_batch = tf.shape(inputs)[0]\n",
        "        n_seq = tf.shape(inputs)[1]\n",
        "        inputs = tf.reshape(inputs, [-1, self.d_model])  # (bs * n_seq, d_model)\n",
        "        outputs = tf.matmul(inputs, self.shared_weights, transpose_b=True)\n",
        "        outputs = tf.reshape(outputs, [n_batch, n_seq, self.n_vocab])  # (bs, n_seq, n_vocab)\n",
        "        return outputs\n",
        "\n",
        "\n",
        "class PositionalEmbedding(tf.keras.layers.Layer):\n",
        "    \"\"\"\n",
        "    Positional Embedding Class\n",
        "    \"\"\"\n",
        "    def __init__(self, config, name=\"position_embedding\"):\n",
        "        \"\"\"\n",
        "        생성자\n",
        "        :param config: Config 객체\n",
        "        :param name: layer name\n",
        "        \"\"\"\n",
        "        super().__init__(name=name)\n",
        "        \n",
        "        pos_encoding = PositionalEmbedding.get_sinusoid_encoding(config.n_seq, config.d_model)\n",
        "        self.embedding = tf.keras.layers.Embedding(config.n_seq, config.d_model, trainable=False, weights=[pos_encoding])\n",
        "\n",
        "    def call(self, inputs):\n",
        "        \"\"\"\n",
        "        layer 실행\n",
        "        :param inputs: 입력\n",
        "        :return embed: positional embedding lookup 결과\n",
        "        \"\"\"\n",
        "        position = tf.cast(tf.math.cumsum(tf.ones_like(inputs), axis=1, exclusive=True), tf.int32)\n",
        "        embed = self.embedding(position)\n",
        "        return embed\n",
        "\n",
        "    @staticmethod\n",
        "    def get_sinusoid_encoding(n_seq, d_model):\n",
        "        \"\"\"\n",
        "        sinusoid encoding 생성\n",
        "        :param n_seq: sequence number\n",
        "        :param n_seq: model hidden dimension\n",
        "        :return: positional encoding table\n",
        "        \"\"\"\n",
        "        angles = [np.power(10000, 2 * (i_ang // 2) / d_model) for i_ang in range(d_model)]\n",
        "        pos_encoding = np.array([[pos / angle for angle in angles] for pos in range(n_seq)])\n",
        "        pos_encoding[:, 0::2] = np.sin(pos_encoding[:, 0::2])\n",
        "        pos_encoding[:, 1::2] = np.cos(pos_encoding[:, 1::2])\n",
        "        return tf.cast(pos_encoding, tf.float32)\n",
        "\n",
        "\n",
        "class ScaleDotProductAttention(tf.keras.layers.Layer):\n",
        "    \"\"\"\n",
        "    Scale Dot Product Attention Class\n",
        "    \"\"\"\n",
        "    def __init__(self, name=\"scale_dot_product_attention\"):\n",
        "        \"\"\"\n",
        "        생성자\n",
        "        :param name: layer name\n",
        "        \"\"\"\n",
        "        super().__init__(name=name)\n",
        "\n",
        "    def call(self, Q, K, V, attn_mask):\n",
        "        \"\"\"\n",
        "        layer 실행\n",
        "        :param Q: Q value\n",
        "        :param K: K value\n",
        "        :param V: V value\n",
        "        :param attn_mask: 실행 모드\n",
        "        :return attn_out: attention 실행 결과\n",
        "        \"\"\"\n",
        "        attn_score = tf.matmul(Q, K, transpose_b=True)\n",
        "        scale = tf.math.sqrt(tf.cast(tf.shape(K)[-1], tf.float32))\n",
        "        attn_scale = tf.math.divide(attn_score, scale)\n",
        "        attn_scale -= 1.e9 * attn_mask\n",
        "        attn_prob = tf.nn.softmax(attn_scale, axis=-1)\n",
        "        attn_out = tf.matmul(attn_prob, V)\n",
        "        return attn_out\n",
        "\n",
        "\n",
        "class MultiHeadAttention(tf.keras.layers.Layer):\n",
        "    \"\"\"\n",
        "    Multi Head Attention Class\n",
        "    \"\"\"\n",
        "    def __init__(self, config, name=\"multi_head_attention\"):\n",
        "        \"\"\"\n",
        "        생성자\n",
        "        :param config: Config 객체\n",
        "        :param name: layer name\n",
        "        \"\"\"\n",
        "        super().__init__(name=name)\n",
        "\n",
        "        self.d_model = config.d_model\n",
        "        self.n_head = config.n_head\n",
        "        self.d_head = config.d_head\n",
        "\n",
        "        # Q, K, V input dense layer\n",
        "        self.W_Q = tf.keras.layers.Dense(config.n_head * config.d_head)\n",
        "        self.W_K = tf.keras.layers.Dense(config.n_head * config.d_head)\n",
        "        self.W_V = tf.keras.layers.Dense(config.n_head * config.d_head)\n",
        "        # Scale Dot Product Attention class\n",
        "        self.attention = ScaleDotProductAttention(name=\"self_attention\")\n",
        "        # output dense layer\n",
        "        self.W_O = tf.keras.layers.Dense(config.d_model)\n",
        "\n",
        "    def call(self, Q, K, V, attn_mask):\n",
        "        \"\"\"\n",
        "        layer 실행\n",
        "        :param Q: Q value\n",
        "        :param K: K value\n",
        "        :param V: V value\n",
        "        :param attn_mask: 실행 모드\n",
        "        :return attn_out: attention 실행 결과\n",
        "        \"\"\"\n",
        "        # reshape Q, K, V, attn_mask\n",
        "        batch_size = tf.shape(Q)[0]\n",
        "        Q_m = tf.transpose(tf.reshape(self.W_Q(Q), [batch_size, -1, self.n_head, self.d_head]), [0, 2, 1, 3])  # (bs, n_head, Q_len, d_head)\n",
        "        K_m = tf.transpose(tf.reshape(self.W_K(K), [batch_size, -1, self.n_head, self.d_head]), [0, 2, 1, 3])  # (bs, n_head, K_len, d_head)\n",
        "        V_m = tf.transpose(tf.reshape(self.W_V(V), [batch_size, -1, self.n_head, self.d_head]), [0, 2, 1, 3])  # (bs, n_head, K_len, d_head)\n",
        "        attn_mask_m = tf.expand_dims(attn_mask, axis=1)\n",
        "        # Scale Dot Product Attention with multi head Q, K, V, attn_mask\n",
        "        attn_out = self.attention(Q_m, K_m, V_m, attn_mask_m)  # (bs, n_head, Q_len, d_head)\n",
        "        # transpose and liner\n",
        "        attn_out_m = tf.transpose(attn_out, perm=[0, 2, 1, 3])  # (bs, Q_len, n_head, d_head)\n",
        "        attn_out = tf.reshape(attn_out_m, [batch_size, -1, config.n_head * config.d_head])  # (bs, Q_len, d_model)\n",
        "        attn_out = self.W_O(attn_out) # (bs, Q_len, d_model)\n",
        "\n",
        "        return attn_out\n",
        "\n",
        "\n",
        "class PositionWiseFeedForward(tf.keras.layers.Layer):\n",
        "    \"\"\"\n",
        "    Position Wise Feed Forward Class\n",
        "    \"\"\"\n",
        "    def __init__(self, config, name=\"feed_forward\"):\n",
        "        \"\"\"\n",
        "        생성자\n",
        "        :param config: Config 객체\n",
        "        :param name: layer name\n",
        "        \"\"\"\n",
        "        super().__init__(name=name)\n",
        "\n",
        "        self.W_1 = tf.keras.layers.Dense(config.d_ff, activation=tf.nn.relu)\n",
        "        self.W_2 = tf.keras.layers.Dense(config.d_model)\n",
        "\n",
        "    def call(self, inputs):\n",
        "        \"\"\"\n",
        "        layer 실행\n",
        "        :param inputs: inputs\n",
        "        :return ff_val: feed forward 실행 결과\n",
        "        \"\"\"\n",
        "        ff_val = self.W_2(self.W_1(inputs))\n",
        "        return ff_val\n",
        "\n",
        "\n",
        "class EncoderLayer(tf.keras.layers.Layer):\n",
        "    \"\"\"\n",
        "    Encoder Layer Class\n",
        "    \"\"\"\n",
        "    def __init__(self, config, name=\"encoder_layer\"):\n",
        "        \"\"\"\n",
        "        생성자\n",
        "        :param config: Config 객체\n",
        "        :param name: layer name\n",
        "        \"\"\"\n",
        "        super().__init__(name=name)\n",
        "\n",
        "        self.self_attention = MultiHeadAttention(config)\n",
        "        self.norm1 = tf.keras.layers.LayerNormalization(epsilon=config.layernorm_epsilon)\n",
        "\n",
        "        self.ffn = PositionWiseFeedForward(config)\n",
        "        self.norm2 = tf.keras.layers.LayerNormalization(epsilon=config.layernorm_epsilon)\n",
        "\n",
        "        self.dropout = tf.keras.layers.Dropout(config.dropout)\n",
        " \n",
        "    def call(self, enc_embed, self_mask):\n",
        "        \"\"\"\n",
        "        layer 실행\n",
        "        :param enc_embed: enc_embed 또는 이전 EncoderLayer의 출력\n",
        "        :param self_mask: enc_tokens의 pad mask\n",
        "        :return enc_out: EncoderLayer 실행 결과\n",
        "        \"\"\"\n",
        "        self_attn_val = self.self_attention(enc_embed, enc_embed, enc_embed, self_mask)\n",
        "        norm1_val = self.norm1(enc_embed + self.dropout(self_attn_val))\n",
        "\n",
        "        ffn_val = self.ffn(norm1_val)\n",
        "        enc_out = self.norm2(norm1_val + self.dropout(ffn_val))\n",
        "\n",
        "        return enc_out\n",
        "\n",
        "\n",
        "class DecoderLayer(tf.keras.layers.Layer):\n",
        "    \"\"\"\n",
        "    Decoder Layer Class\n",
        "    \"\"\"\n",
        "    def __init__(self, config, name=\"decoder_layer\"):\n",
        "        \"\"\"\n",
        "        생성자\n",
        "        :param config: Config 객체\n",
        "        :param name: layer name\n",
        "        \"\"\"\n",
        "        super().__init__(name=name)\n",
        "\n",
        "        self.self_attention = MultiHeadAttention(config)\n",
        "        self.norm1 = tf.keras.layers.LayerNormalization(epsilon=config.layernorm_epsilon)\n",
        "\n",
        "        self.ende_attn = MultiHeadAttention(config)\n",
        "        self.norm2 = tf.keras.layers.LayerNormalization(epsilon=config.layernorm_epsilon)\n",
        "\n",
        "        self.ffn = PositionWiseFeedForward(config)\n",
        "        self.norm3 = tf.keras.layers.LayerNormalization(epsilon=config.layernorm_epsilon)\n",
        "\n",
        "        self.dropout = tf.keras.layers.Dropout(config.dropout)\n",
        "\n",
        "    def call(self, dec_embed, enc_out, self_mask, ende_mask):\n",
        "        \"\"\"\n",
        "        layer 실행\n",
        "        :param dec_embed: dec_embed 또는 이전 DecoderLayer의 출력\n",
        "        :param enc_out: 마지막 EncoderLayer의 출력\n",
        "        :param self_mask: dec_tokens의 ahead mask\n",
        "        :param ende_mask: enc_tokens의 pad mask\n",
        "        :return dec_out: DecoderLayer 실행 결과\n",
        "        \"\"\"\n",
        "        self_attn_val = self.self_attention(dec_embed, dec_embed, dec_embed, self_mask)\n",
        "        norm1_val = self.norm1(dec_embed + self.dropout(self_attn_val))\n",
        "\n",
        "        ende_attn_val = self.ende_attn(norm1_val, enc_out, enc_out, ende_mask)\n",
        "        norm2_val = self.norm2(norm1_val + self.dropout(ende_attn_val))\n",
        "\n",
        "        ffn_val = self.ffn(norm2_val)\n",
        "        dec_out = self.norm3(norm2_val + self.dropout(ffn_val))\n",
        "\n",
        "        return dec_out\n",
        "\n",
        "\n",
        "class Transformer(tf.keras.layers.Layer):\n",
        "    \"\"\"\n",
        "    Transformer Class\n",
        "    \"\"\"\n",
        "    def __init__(self, config, name=\"transformer\"):\n",
        "        \"\"\"\n",
        "        생성자\n",
        "        :param config: Config 객체\n",
        "        :param name: layer name\n",
        "        \"\"\"\n",
        "        super().__init__(name=name)\n",
        "\n",
        "        self.i_pad = config.i_pad\n",
        "        self.embedding = SharedEmbedding(config)\n",
        "        self.position = PositionalEmbedding(config)\n",
        "        \n",
        "        self.encoder_layers = [EncoderLayer(config, name=f\"encoder_layer_{i}\") for i in range(config.n_layer)]\n",
        "        self.decoder_layers = [DecoderLayer(config, name=f\"decoder_layer_{i}\") for i in range(config.n_layer)]\n",
        "\n",
        "        self.dropout = tf.keras.layers.Dropout(config.dropout)\n",
        "\n",
        "    def call(self, inputs):\n",
        "        \"\"\"\n",
        "        layer 실행\n",
        "        :param inputs: (enc_tokens, dec_tokens) tuple\n",
        "        :return logits: dec_tokens에 대한 다음 토큰 예측 결과 logits\n",
        "        \"\"\"\n",
        "        enc_tokens, dec_tokens = inputs\n",
        "\n",
        "        enc_self_mask = tf.keras.layers.Lambda(get_pad_mask, output_shape=(1, None), name='enc_self_mask')(enc_tokens, self.i_pad)\n",
        "        dec_self_mask = tf.keras.layers.Lambda(get_ahead_mask, output_shape=(None, None), name='dec_self_mask')(dec_tokens, self.i_pad)\n",
        "        ende_attn_mask = tf.keras.layers.Lambda(get_pad_mask, output_shape=(1, None), name='ende_attn_mask')(enc_tokens, self.i_pad)\n",
        "\n",
        "        enc_embed = self.get_embedding(enc_tokens)\n",
        "        dec_embed = self.get_embedding(dec_tokens)\n",
        "\n",
        "        enc_out = self.dropout(enc_embed)\n",
        "        for encoder_layer in self.encoder_layers:\n",
        "            enc_out = encoder_layer(enc_out, enc_self_mask)\n",
        "        \n",
        "        dec_out = self.dropout(dec_embed)\n",
        "        for decoder_layer in self.decoder_layers:\n",
        "            dec_out = decoder_layer(dec_out, enc_out, dec_self_mask, ende_attn_mask)\n",
        "\n",
        "        logits = self.embedding(dec_out, mode=\"linear\")\n",
        "        return logits\n",
        "    \n",
        "    def get_embedding(self, tokens):\n",
        "        \"\"\"\n",
        "        token embedding, position embedding lookup\n",
        "        :param tokens: 입력 tokens\n",
        "        :return embed: embedding 결과\n",
        "        \"\"\"\n",
        "        embed = self.embedding(tokens) + self.position(tokens)\n",
        "        return embed"
      ],
      "execution_count": 158,
      "outputs": []
    },
    {
      "cell_type": "code",
      "metadata": {
        "id": "A2Ys1-pYDMFo"
      },
      "source": [
        "# model build\n",
        "def build_model(config):\n",
        "    \"\"\"\n",
        "    model build\n",
        "    :param config: Configuration\n",
        "    :return model\n",
        "    \"\"\"\n",
        "    enc_tokens = tf.keras.layers.Input((None,), name=\"enc_tokens\")\n",
        "    dec_tokens = tf.keras.layers.Input((None,), name=\"dec_tokens\")\n",
        "\n",
        "    logits = Transformer(config)((enc_tokens, dec_tokens))\n",
        "    outputs = tf.keras.layers.Softmax(name=\"lm\")(logits)\n",
        "\n",
        "    model = tf.keras.Model(inputs=(enc_tokens, dec_tokens), outputs=outputs)\n",
        "    return model"
      ],
      "execution_count": 159,
      "outputs": []
    },
    {
      "cell_type": "code",
      "metadata": {
        "id": "pd9SRdI7DNWt",
        "colab": {
          "base_uri": "https://localhost:8080/"
        },
        "outputId": "76ae86af-3a62-48b5-e105-f4b425d87522"
      },
      "source": [
        "config = Config({\"d_model\": 256, \"n_head\": 4, \"d_head\": 64, \"dropout\": 0.1, \"d_ff\": 1024, \"layernorm_epsilon\": 0.001, \"n_layer\": 3, \"n_seq\": 256, \"n_vocab\": 0, \"i_pad\": 0})\n",
        "config.n_vocab = len(vocab)\n",
        "config.i_pad = vocab.pad_id()\n",
        "config"
      ],
      "execution_count": 160,
      "outputs": [
        {
          "output_type": "execute_result",
          "data": {
            "text/plain": [
              "{'d_ff': 1024,\n",
              " 'd_head': 64,\n",
              " 'd_model': 256,\n",
              " 'dropout': 0.1,\n",
              " 'i_pad': 0,\n",
              " 'layernorm_epsilon': 0.001,\n",
              " 'n_head': 4,\n",
              " 'n_layer': 3,\n",
              " 'n_seq': 256,\n",
              " 'n_vocab': 8007}"
            ]
          },
          "metadata": {},
          "execution_count": 160
        }
      ]
    },
    {
      "cell_type": "code",
      "metadata": {
        "id": "tB-BlxJBKs4A",
        "colab": {
          "base_uri": "https://localhost:8080/",
          "height": 303
        },
        "outputId": "453e3248-8502-44cd-c25f-8c3502a99f7c"
      },
      "source": [
        "model = build_model(config)\n",
        "tf.keras.utils.plot_model(model, 'model.png', show_shapes=True)"
      ],
      "execution_count": 161,
      "outputs": [
        {
          "output_type": "execute_result",
          "data": {
            "image/png": "[encoded data removed]",
            "text/plain": [
              "<IPython.core.display.Image object>"
            ]
          },
          "metadata": {},
          "execution_count": 161
        }
      ]
    },
    {
      "cell_type": "markdown",
      "metadata": {
        "id": "hjqOTrjvxji7"
      },
      "source": [
        "## Loss"
      ]
    },
    {
      "cell_type": "markdown",
      "metadata": {
        "id": "6x6W5AYLaqMw"
      },
      "source": [
        "### Tutorial"
      ]
    },
    {
      "cell_type": "code",
      "metadata": {
        "id": "nuExhj88Y78P",
        "colab": {
          "base_uri": "https://localhost:8080/"
        },
        "outputId": "1a409a46-d945-40dc-95ee-2f1f038cc151"
      },
      "source": [
        "# vocab 개수\n",
        "n_test_vocab = 4\n",
        "# 문자열 개수\n",
        "n_test_seq = 8\n",
        "\n",
        "# 정답\n",
        "y_true = np.random.randint(0, n_test_vocab, (1, n_test_seq))\n",
        "y_true[:,n_test_seq - 2:] = 0\n",
        "y_true"
      ],
      "execution_count": 162,
      "outputs": [
        {
          "output_type": "execute_result",
          "data": {
            "text/plain": [
              "array([[3, 0, 3, 1, 2, 3, 0, 0]])"
            ]
          },
          "metadata": {},
          "execution_count": 162
        }
      ]
    },
    {
      "cell_type": "code",
      "metadata": {
        "id": "aBnHCjOLZlrJ",
        "colab": {
          "base_uri": "https://localhost:8080/"
        },
        "outputId": "537348a3-bbca-41e4-9449-f696cf0dd003"
      },
      "source": [
        "# 예측 값\n",
        "y_pred = np.random.random((1, n_test_seq, n_test_vocab))\n",
        "y_pred = tf.nn.softmax(y_pred, axis=-1)  # 확률 값으로 변경\n",
        "y_pred"
      ],
      "execution_count": 163,
      "outputs": [
        {
          "output_type": "execute_result",
          "data": {
            "text/plain": [
              "<tf.Tensor: shape=(1, 8, 4), dtype=float64, numpy=\n",
              "array([[[0.25100796, 0.29038113, 0.19352738, 0.26508353],\n",
              "        [0.156816  , 0.34132925, 0.29911483, 0.20273992],\n",
              "        [0.13582323, 0.32769097, 0.29060293, 0.24588287],\n",
              "        [0.17807239, 0.19304151, 0.27926074, 0.34962536],\n",
              "        [0.3500575 , 0.24878816, 0.2201442 , 0.18101014],\n",
              "        [0.13758752, 0.2658076 , 0.34122989, 0.25537499],\n",
              "        [0.29718426, 0.2201506 , 0.28483235, 0.19783279],\n",
              "        [0.25733929, 0.17902035, 0.17726573, 0.38637464]]])>"
            ]
          },
          "metadata": {},
          "execution_count": 163
        }
      ]
    },
    {
      "cell_type": "code",
      "metadata": {
        "id": "qSxBrmylauiQ",
        "colab": {
          "base_uri": "https://localhost:8080/"
        },
        "outputId": "ec2d75e8-b148-4582-b1e9-6cd10fccd708"
      },
      "source": [
        "# loss 계산\n",
        "loss = tf.keras.losses.SparseCategoricalCrossentropy(reduction=tf.keras.losses.Reduction.NONE)(y_true, y_pred)\n",
        "loss"
      ],
      "execution_count": 164,
      "outputs": [
        {
          "output_type": "execute_result",
          "data": {
            "text/plain": [
              "<tf.Tensor: shape=(1, 8), dtype=float64, numpy=\n",
              "array([[1.32771027, 1.85268211, 1.40289998, 1.64485002, 1.51347256,\n",
              "        1.3650223 , 1.21340287, 1.35735989]])>"
            ]
          },
          "metadata": {},
          "execution_count": 164
        }
      ]
    },
    {
      "cell_type": "code",
      "metadata": {
        "id": "ne8JKo0Za6Oj",
        "colab": {
          "base_uri": "https://localhost:8080/"
        },
        "outputId": "62f443c2-63cb-4bf7-90d8-e2a8fbe9bfa2"
      },
      "source": [
        "# true token이 0인 부분은 0, 아닌 부분은 1인 mask 생성\n",
        "mask = tf.cast(tf.math.not_equal(y_true, 0), dtype=loss.dtype)\n",
        "mask"
      ],
      "execution_count": 165,
      "outputs": [
        {
          "output_type": "execute_result",
          "data": {
            "text/plain": [
              "<tf.Tensor: shape=(1, 8), dtype=float64, numpy=array([[1., 0., 1., 1., 1., 1., 0., 0.]])>"
            ]
          },
          "metadata": {},
          "execution_count": 165
        }
      ]
    },
    {
      "cell_type": "code",
      "metadata": {
        "id": "GWZUCZhObNF8",
        "colab": {
          "base_uri": "https://localhost:8080/"
        },
        "outputId": "3700b7ab-28f4-4371-9e43-197cd67ace0e"
      },
      "source": [
        "# loss에 mask를 취함. mask가 0인 부분은 모두 0\n",
        "loss *= mask\n",
        "loss"
      ],
      "execution_count": 166,
      "outputs": [
        {
          "output_type": "execute_result",
          "data": {
            "text/plain": [
              "<tf.Tensor: shape=(1, 8), dtype=float64, numpy=\n",
              "array([[1.32771027, 0.        , 1.40289998, 1.64485002, 1.51347256,\n",
              "        1.3650223 , 0.        , 0.        ]])>"
            ]
          },
          "metadata": {},
          "execution_count": 166
        }
      ]
    },
    {
      "cell_type": "markdown",
      "metadata": {
        "id": "TOWlO39Vaoit"
      },
      "source": [
        "### 함수"
      ]
    },
    {
      "cell_type": "code",
      "metadata": {
        "id": "fZwfXjFux190"
      },
      "source": [
        "def lm_loss(y_true, y_pred):\n",
        "    \"\"\"\n",
        "    loss 계산 함수\n",
        "    :param y_true: 정답 (bs, n_seq)\n",
        "    :param y_pred: 예측 값 (bs, n_seq, n_vocab)\n",
        "    \"\"\"\n",
        "    # loss 계산\n",
        "    loss = tf.keras.losses.SparseCategoricalCrossentropy(reduction=tf.keras.losses.Reduction.NONE)(y_true, y_pred)\n",
        "    # pad(0) 인 부분 mask\n",
        "    mask = tf.cast(tf.math.not_equal(y_true, 0), dtype=loss.dtype)\n",
        "    loss *= mask\n",
        "    return loss"
      ],
      "execution_count": 167,
      "outputs": []
    },
    {
      "cell_type": "markdown",
      "metadata": {
        "id": "ZV5zGuQQL_mK"
      },
      "source": [
        "### Test"
      ]
    },
    {
      "cell_type": "code",
      "metadata": {
        "id": "larwLi_RbefS",
        "colab": {
          "base_uri": "https://localhost:8080/"
        },
        "outputId": "7cde8162-b451-4147-cc2f-f1880f7c0db9"
      },
      "source": [
        "# loss 함수 기능 확인\n",
        "loss2 = lm_loss(y_true, y_pred)\n",
        "assert np.array_equal(loss, loss2)\n",
        "loss2"
      ],
      "execution_count": 168,
      "outputs": [
        {
          "output_type": "execute_result",
          "data": {
            "text/plain": [
              "<tf.Tensor: shape=(1, 8), dtype=float64, numpy=\n",
              "array([[1.32771027, 0.        , 1.40289998, 1.64485002, 1.51347256,\n",
              "        1.3650223 , 0.        , 0.        ]])>"
            ]
          },
          "metadata": {},
          "execution_count": 168
        }
      ]
    },
    {
      "cell_type": "markdown",
      "metadata": {
        "id": "fAR-ddNrMGby"
      },
      "source": [
        "## Accuracy"
      ]
    },
    {
      "cell_type": "markdown",
      "metadata": {
        "id": "jWIUoq0cbYT8"
      },
      "source": [
        "### Tutorial"
      ]
    },
    {
      "cell_type": "code",
      "metadata": {
        "id": "h1WlqKVDbbJi",
        "colab": {
          "base_uri": "https://localhost:8080/"
        },
        "outputId": "69ae477b-eefe-4bef-e921-0903e3973a2a"
      },
      "source": [
        "# vocab 개수\n",
        "n_test_vocab = 3\n",
        "# 문자열 개수\n",
        "n_test_seq = 16\n",
        "\n",
        "# 정답\n",
        "y_true = np.random.randint(0, n_test_vocab, (1, n_test_seq))\n",
        "y_true[:,n_test_seq - 2:] = 0\n",
        "y_true"
      ],
      "execution_count": 169,
      "outputs": [
        {
          "output_type": "execute_result",
          "data": {
            "text/plain": [
              "array([[0, 2, 1, 0, 2, 0, 2, 2, 2, 2, 1, 0, 0, 1, 0, 0]])"
            ]
          },
          "metadata": {},
          "execution_count": 169
        }
      ]
    },
    {
      "cell_type": "code",
      "metadata": {
        "id": "Xb_oYi3wbbCz",
        "colab": {
          "base_uri": "https://localhost:8080/"
        },
        "outputId": "c1347384-893a-4fd9-e7e8-1785e958e2d9"
      },
      "source": [
        "# 예측 값\n",
        "y_pred = np.random.random((1, n_test_seq, n_test_vocab))\n",
        "y_pred = tf.nn.softmax(y_pred, axis=-1)  # 확률 값으로 변경\n",
        "y_pred"
      ],
      "execution_count": 170,
      "outputs": [
        {
          "output_type": "execute_result",
          "data": {
            "text/plain": [
              "<tf.Tensor: shape=(1, 16, 3), dtype=float64, numpy=\n",
              "array([[[0.42962916, 0.20050436, 0.36986648],\n",
              "        [0.33637154, 0.31709933, 0.34652913],\n",
              "        [0.31573923, 0.47484686, 0.20941391],\n",
              "        [0.25999641, 0.45710555, 0.28289804],\n",
              "        [0.49895507, 0.26704405, 0.23400088],\n",
              "        [0.2431871 , 0.38622575, 0.37058715],\n",
              "        [0.3297653 , 0.36277189, 0.30746282],\n",
              "        [0.37566364, 0.30902627, 0.31531009],\n",
              "        [0.38077417, 0.33740447, 0.28182136],\n",
              "        [0.34309708, 0.29835482, 0.35854811],\n",
              "        [0.47506772, 0.26487238, 0.2600599 ],\n",
              "        [0.24959169, 0.32607041, 0.42433791],\n",
              "        [0.36358922, 0.32441693, 0.31199385],\n",
              "        [0.5126483 , 0.22688291, 0.26046879],\n",
              "        [0.33714714, 0.1927852 , 0.47006767],\n",
              "        [0.48391873, 0.31784703, 0.19823424]]])>"
            ]
          },
          "metadata": {},
          "execution_count": 170
        }
      ]
    },
    {
      "cell_type": "code",
      "metadata": {
        "id": "7fU1IEMAcTHF",
        "colab": {
          "base_uri": "https://localhost:8080/"
        },
        "outputId": "55e61a94-1f2b-4925-aabb-3ead5f1e7e63"
      },
      "source": [
        "# 예측 값 중 최대인 index번호를 vocab으로 예측\n",
        "y_pred_class = tf.cast(K.argmax(y_pred, axis=-1), tf.float32)\n",
        "y_pred_class"
      ],
      "execution_count": 171,
      "outputs": [
        {
          "output_type": "execute_result",
          "data": {
            "text/plain": [
              "<tf.Tensor: shape=(1, 16), dtype=float32, numpy=\n",
              "array([[0., 2., 1., 1., 0., 1., 1., 0., 0., 2., 0., 2., 0., 0., 2., 0.]],\n",
              "      dtype=float32)>"
            ]
          },
          "metadata": {},
          "execution_count": 171
        }
      ]
    },
    {
      "cell_type": "code",
      "metadata": {
        "id": "tDOlTxMmcmWQ",
        "colab": {
          "base_uri": "https://localhost:8080/"
        },
        "outputId": "90a125ab-e25c-427e-8473-007ecc211314"
      },
      "source": [
        "# 두 값이 같으면 정답(1), 다르면 오류(0)\n",
        "matches = tf.cast(K.equal(y_true, y_pred_class), tf.float32)\n",
        "matches"
      ],
      "execution_count": 172,
      "outputs": [
        {
          "output_type": "execute_result",
          "data": {
            "text/plain": [
              "<tf.Tensor: shape=(1, 16), dtype=float32, numpy=\n",
              "array([[1., 1., 1., 0., 0., 0., 0., 0., 0., 1., 0., 0., 1., 0., 0., 1.]],\n",
              "      dtype=float32)>"
            ]
          },
          "metadata": {},
          "execution_count": 172
        }
      ]
    },
    {
      "cell_type": "code",
      "metadata": {
        "id": "tGdUhsjbc2nG",
        "colab": {
          "base_uri": "https://localhost:8080/"
        },
        "outputId": "0d7edcf5-1be5-4cc2-8795-0a25ee109cbf"
      },
      "source": [
        "# true token이 0인 부분은 0, 아닌 부분은 1인 mask 생성\n",
        "mask = tf.cast(tf.math.not_equal(y_true, 0), dtype=matches.dtype)\n",
        "mask"
      ],
      "execution_count": 173,
      "outputs": [
        {
          "output_type": "execute_result",
          "data": {
            "text/plain": [
              "<tf.Tensor: shape=(1, 16), dtype=float32, numpy=\n",
              "array([[0., 1., 1., 0., 1., 0., 1., 1., 1., 1., 1., 0., 0., 1., 0., 0.]],\n",
              "      dtype=float32)>"
            ]
          },
          "metadata": {},
          "execution_count": 173
        }
      ]
    },
    {
      "cell_type": "code",
      "metadata": {
        "id": "K6FbhVs1dH5Z",
        "colab": {
          "base_uri": "https://localhost:8080/"
        },
        "outputId": "4cb78cca-31fc-4473-afcf-a1cd55cb4bf1"
      },
      "source": [
        "# matches에 mask를 취함. mask가 0인 부분은 모두 0\n",
        "matches *= mask\n",
        "matches"
      ],
      "execution_count": 174,
      "outputs": [
        {
          "output_type": "execute_result",
          "data": {
            "text/plain": [
              "<tf.Tensor: shape=(1, 16), dtype=float32, numpy=\n",
              "array([[0., 1., 1., 0., 0., 0., 0., 0., 0., 1., 0., 0., 0., 0., 0., 0.]],\n",
              "      dtype=float32)>"
            ]
          },
          "metadata": {},
          "execution_count": 174
        }
      ]
    },
    {
      "cell_type": "code",
      "metadata": {
        "id": "4f4Q2iRedUy3",
        "colab": {
          "base_uri": "https://localhost:8080/"
        },
        "outputId": "13379841-b116-4ab2-ddf4-6be739ad522a"
      },
      "source": [
        "# matches합을 mask합으로 나누면 정확도 / mask가 모두 0일 경우를 대비해서 분모에 K.maximum(K.sum(mask), 1) 사용\n",
        "accuracy = K.sum(matches) / K.maximum(K.sum(mask), 1)\n",
        "accuracy"
      ],
      "execution_count": 175,
      "outputs": [
        {
          "output_type": "execute_result",
          "data": {
            "text/plain": [
              "<tf.Tensor: shape=(), dtype=float32, numpy=0.33333334>"
            ]
          },
          "metadata": {},
          "execution_count": 175
        }
      ]
    },
    {
      "cell_type": "markdown",
      "metadata": {
        "id": "qQqF2KJVcLBF"
      },
      "source": [
        "### 함수"
      ]
    },
    {
      "cell_type": "code",
      "metadata": {
        "id": "233nfwn6ba17"
      },
      "source": [
        "def lm_acc(y_true, y_pred):\n",
        "    \"\"\"\n",
        "    acc 계산 함수\n",
        "    :param y_true: 정답 (bs, n_seq)\n",
        "    :param y_pred: 예측 값 (bs, n_seq, n_vocab)\n",
        "    \"\"\"\n",
        "    # 정답 여부 확인\n",
        "    y_pred_class = tf.cast(K.argmax(y_pred, axis=-1), tf.float32)\n",
        "    matches = tf.cast(K.equal(y_true, y_pred_class), tf.float32)\n",
        "    # pad(0) 인 부분 mask\n",
        "    mask = tf.cast(tf.math.not_equal(y_true, 0), dtype=matches.dtype)\n",
        "    matches *= mask\n",
        "    # 정확도 계산\n",
        "    accuracy = K.sum(matches) / K.maximum(K.sum(mask), 1)\n",
        "    return accuracy"
      ],
      "execution_count": 176,
      "outputs": []
    },
    {
      "cell_type": "markdown",
      "metadata": {
        "id": "DYYcdK-_MRni"
      },
      "source": [
        "### Test"
      ]
    },
    {
      "cell_type": "code",
      "metadata": {
        "id": "JeWKJfTPdjuA",
        "colab": {
          "base_uri": "https://localhost:8080/"
        },
        "outputId": "44658cbf-2eec-433c-8ff9-e2d0fab2dd06"
      },
      "source": [
        "accuracy2 = lm_acc(y_true, y_pred)\n",
        "assert accuracy == accuracy2\n",
        "accuracy2"
      ],
      "execution_count": 177,
      "outputs": [
        {
          "output_type": "execute_result",
          "data": {
            "text/plain": [
              "<tf.Tensor: shape=(), dtype=float32, numpy=0.33333334>"
            ]
          },
          "metadata": {},
          "execution_count": 177
        }
      ]
    },
    {
      "cell_type": "markdown",
      "metadata": {
        "id": "Ey3sghogI4rz"
      },
      "source": [
        "## Scheduler\n",
        "\n",
        "![](https://paul-hyun.github.io/assets/transformer/learning_rate.png)"
      ]
    },
    {
      "cell_type": "markdown",
      "metadata": {
        "id": "VKkOrvxoJM1h"
      },
      "source": [
        "### Tutorial"
      ]
    },
    {
      "cell_type": "code",
      "metadata": {
        "id": "0uUiLdINLVw_",
        "colab": {
          "base_uri": "https://localhost:8080/"
        },
        "outputId": "69810e24-a4dc-4383-8634-acba6133310a"
      },
      "source": [
        "warmup_steps = tf.dtypes.cast(1000, tf.float32)\n",
        "step_num = tf.dtypes.cast(1100, tf.float32)\n",
        "d_model = tf.dtypes.cast(config.d_model, tf.float32)\n",
        "\n",
        "warmup_steps, step_num, d_model"
      ],
      "execution_count": 178,
      "outputs": [
        {
          "output_type": "execute_result",
          "data": {
            "text/plain": [
              "(<tf.Tensor: shape=(), dtype=float32, numpy=1000.0>,\n",
              " <tf.Tensor: shape=(), dtype=float32, numpy=1100.0>,\n",
              " <tf.Tensor: shape=(), dtype=float32, numpy=256.0>)"
            ]
          },
          "metadata": {},
          "execution_count": 178
        }
      ]
    },
    {
      "cell_type": "code",
      "metadata": {
        "id": "7yjfmrczLf2a",
        "colab": {
          "base_uri": "https://localhost:8080/"
        },
        "outputId": "57749218-40f2-40b0-92e3-eb14dd747695"
      },
      "source": [
        "# step_num ** -0.5 (https://www.tensorflow.org/api_docs/python/tf/math/rsqrt)\n",
        "arg1 = tf.math.rsqrt(step_num)\n",
        "arg1"
      ],
      "execution_count": 179,
      "outputs": [
        {
          "output_type": "execute_result",
          "data": {
            "text/plain": [
              "<tf.Tensor: shape=(), dtype=float32, numpy=0.030151132>"
            ]
          },
          "metadata": {},
          "execution_count": 179
        }
      ]
    },
    {
      "cell_type": "code",
      "metadata": {
        "id": "Qq1kSzDPNXue",
        "colab": {
          "base_uri": "https://localhost:8080/"
        },
        "outputId": "a8390d99-01a6-4829-b016-268ee94cc34d"
      },
      "source": [
        "# step_num * (warmup_steps ** -1.5)\n",
        "arg2 = step_num * (warmup_steps ** -1.5)\n",
        "arg2"
      ],
      "execution_count": 180,
      "outputs": [
        {
          "output_type": "execute_result",
          "data": {
            "text/plain": [
              "<tf.Tensor: shape=(), dtype=float32, numpy=0.034785062>"
            ]
          },
          "metadata": {},
          "execution_count": 180
        }
      ]
    },
    {
      "cell_type": "code",
      "metadata": {
        "id": "o6B3pN97Nubx",
        "colab": {
          "base_uri": "https://localhost:8080/"
        },
        "outputId": "1bcae8f7-3059-49d1-d33b-177188bf4f43"
      },
      "source": [
        "# 두 값중 작은 값 선택\n",
        "arg = tf.math.minimum(arg1, arg2)\n",
        "arg"
      ],
      "execution_count": 181,
      "outputs": [
        {
          "output_type": "execute_result",
          "data": {
            "text/plain": [
              "<tf.Tensor: shape=(), dtype=float32, numpy=0.030151132>"
            ]
          },
          "metadata": {},
          "execution_count": 181
        }
      ]
    },
    {
      "cell_type": "code",
      "metadata": {
        "id": "N1A4vH27OPFN",
        "colab": {
          "base_uri": "https://localhost:8080/"
        },
        "outputId": "bb0a2d7f-fc74-4169-eb5a-3c5bf6c44418"
      },
      "source": [
        "# (d_model ** -0.5) * arg\n",
        "lr = tf.math.rsqrt(d_model) * arg\n",
        "lr"
      ],
      "execution_count": 182,
      "outputs": [
        {
          "output_type": "execute_result",
          "data": {
            "text/plain": [
              "<tf.Tensor: shape=(), dtype=float32, numpy=0.0018844458>"
            ]
          },
          "metadata": {},
          "execution_count": 182
        }
      ]
    },
    {
      "cell_type": "markdown",
      "metadata": {
        "id": "A7k-JyedJK6J"
      },
      "source": [
        "### Class"
      ]
    },
    {
      "cell_type": "code",
      "metadata": {
        "id": "VPWnDRRMaP4o"
      },
      "source": [
        "class InverseSquareRootSchedule(tf.keras.optimizers.schedules.LearningRateSchedule):\n",
        "    \"\"\"\n",
        "    TransformerSchedule class\n",
        "    \"\"\"\n",
        "    def __init__(self, d_model, warmup_steps=4000):\n",
        "        \"\"\"\n",
        "        생성자\n",
        "        :param d_model: 모델 hidden\n",
        "        :param warmup_steps: warmup steps\n",
        "        \"\"\"\n",
        "        super().__init__()\n",
        "\n",
        "        self.d_model = tf.cast(d_model, tf.float32)\n",
        "        self.warmup_steps = tf.cast(warmup_steps, tf.float32)\n",
        "\n",
        "    def __call__(self, step_num):\n",
        "        \"\"\"\n",
        "        learning rate 계산\n",
        "        :param step_num: 현재 step number\n",
        "        :retrun: 계산된 learning rate\n",
        "        \"\"\"\n",
        "        arg1 = tf.math.rsqrt(step_num)\n",
        "        arg2 = step_num * (self.warmup_steps**-1.5)\n",
        "        arg = tf.math.minimum(arg1, arg2)\n",
        "        lr = tf.math.rsqrt(self.d_model) * arg\n",
        "        return lr"
      ],
      "execution_count": 183,
      "outputs": []
    },
    {
      "cell_type": "markdown",
      "metadata": {
        "id": "HNHVGEgyacKg"
      },
      "source": [
        "### Test"
      ]
    },
    {
      "cell_type": "code",
      "metadata": {
        "id": "WG8ZT6nPadip",
        "colab": {
          "base_uri": "https://localhost:8080/",
          "height": 279
        },
        "outputId": "9e941292-102d-4b4f-e5d1-6b2d9acd390b"
      },
      "source": [
        "# compute lr\n",
        "test_schedule = InverseSquareRootSchedule(config.d_model, warmup_steps=100)\n",
        "lrs = []\n",
        "for step in range(1000):\n",
        "    lrs.append(test_schedule(float(step)).numpy())\n",
        "\n",
        "# draw\n",
        "plt.plot(lrs, 'r-', label='learning_rate')\n",
        "plt.xlabel('Step')\n",
        "plt.show()"
      ],
      "execution_count": 184,
      "outputs": [
        {
          "output_type": "display_data",
          "data": {
            "image/png": "[encoded data removed]",
            "text/plain": [
              "<Figure size 432x288 with 1 Axes>"
            ]
          },
          "metadata": {
            "needs_background": "light"
          }
        }
      ]
    },
    {
      "cell_type": "markdown",
      "metadata": {
        "id": "KMtlbz8YMd_j"
      },
      "source": [
        "## Train"
      ]
    },
    {
      "cell_type": "code",
      "metadata": {
        "id": "4DadTw6RMhni"
      },
      "source": [
        "# optimizer의 learning_rate를 InverseSquareRootSchedule로 지정\n",
        "learning_rate = InverseSquareRootSchedule(config.d_model, warmup_steps=500)\n",
        "optimizer = tf.keras.optimizers.Adam(learning_rate, beta_1=0.9, beta_2=0.98, epsilon=1e-9)\n",
        "\n",
        "model.compile(loss=lm_loss, optimizer=optimizer, metrics=[lm_acc])"
      ],
      "execution_count": 185,
      "outputs": []
    },
    {
      "cell_type": "code",
      "metadata": {
        "id": "r1YwBGFwMjQ7",
        "colab": {
          "base_uri": "https://localhost:8080/"
        },
        "outputId": "f4e7e46a-939b-471f-a798-debdf1f6aa9f"
      },
      "source": [
        "# save weights callback\n",
        "save_weights = tf.keras.callbacks.ModelCheckpoint(\"songys_chat_transformer.hdf5\", monitor=\"lm_acc\", verbose=1, save_best_only=True, mode=\"max\", save_freq=\"epoch\", save_weights_only=True)\n",
        "# train\n",
        "history = model.fit(train_inputs, train_labels, epochs=50, batch_size=256, callbacks=[save_weights])"
      ],
      "execution_count": 186,
      "outputs": [
        {
          "output_type": "stream",
          "name": "stdout",
          "text": [
            "Epoch 1/50\n",
            "47/47 [==============================] - 26s 335ms/step - loss: 1.6976 - lm_acc: 0.1410\n",
            "\n",
            "Epoch 00001: lm_acc improved from -inf to 0.14103, saving model to songys_chat_transformer.hdf5\n",
            "Epoch 2/50\n",
            "47/47 [==============================] - 16s 335ms/step - loss: 1.3716 - lm_acc: 0.2881\n",
            "\n",
            "Epoch 00002: lm_acc improved from 0.14103 to 0.28814, saving model to songys_chat_transformer.hdf5\n",
            "Epoch 3/50\n",
            "47/47 [==============================] - 16s 334ms/step - loss: 1.2779 - lm_acc: 0.2949\n",
            "\n",
            "Epoch 00003: lm_acc improved from 0.28814 to 0.29489, saving model to songys_chat_transformer.hdf5\n",
            "Epoch 4/50\n",
            "47/47 [==============================] - 16s 335ms/step - loss: 1.2126 - lm_acc: 0.3079\n",
            "\n",
            "Epoch 00004: lm_acc improved from 0.29489 to 0.30794, saving model to songys_chat_transformer.hdf5\n",
            "Epoch 5/50\n",
            "47/47 [==============================] - 16s 335ms/step - loss: 1.1586 - lm_acc: 0.3232\n",
            "\n",
            "Epoch 00005: lm_acc improved from 0.30794 to 0.32324, saving model to songys_chat_transformer.hdf5\n",
            "Epoch 6/50\n",
            "47/47 [==============================] - 16s 337ms/step - loss: 1.0625 - lm_acc: 0.3490\n",
            "\n",
            "Epoch 00006: lm_acc improved from 0.32324 to 0.34903, saving model to songys_chat_transformer.hdf5\n",
            "Epoch 7/50\n",
            "47/47 [==============================] - 16s 337ms/step - loss: 0.9358 - lm_acc: 0.3890\n",
            "\n",
            "Epoch 00007: lm_acc improved from 0.34903 to 0.38897, saving model to songys_chat_transformer.hdf5\n",
            "Epoch 8/50\n",
            "47/47 [==============================] - 16s 337ms/step - loss: 0.8017 - lm_acc: 0.4408\n",
            "\n",
            "Epoch 00008: lm_acc improved from 0.38897 to 0.44076, saving model to songys_chat_transformer.hdf5\n",
            "Epoch 9/50\n",
            "47/47 [==============================] - 16s 337ms/step - loss: 0.6805 - lm_acc: 0.4938\n",
            "\n",
            "Epoch 00009: lm_acc improved from 0.44076 to 0.49375, saving model to songys_chat_transformer.hdf5\n",
            "Epoch 10/50\n",
            "47/47 [==============================] - 16s 337ms/step - loss: 0.5844 - lm_acc: 0.5398\n",
            "\n",
            "Epoch 00010: lm_acc improved from 0.49375 to 0.53983, saving model to songys_chat_transformer.hdf5\n",
            "Epoch 11/50\n",
            "47/47 [==============================] - 16s 336ms/step - loss: 0.5061 - lm_acc: 0.5800\n",
            "\n",
            "Epoch 00011: lm_acc improved from 0.53983 to 0.57996, saving model to songys_chat_transformer.hdf5\n",
            "Epoch 12/50\n",
            "47/47 [==============================] - 16s 336ms/step - loss: 0.4373 - lm_acc: 0.6166\n",
            "\n",
            "Epoch 00012: lm_acc improved from 0.57996 to 0.61660, saving model to songys_chat_transformer.hdf5\n",
            "Epoch 13/50\n",
            "47/47 [==============================] - 16s 336ms/step - loss: 0.3670 - lm_acc: 0.6617\n",
            "\n",
            "Epoch 00013: lm_acc improved from 0.61660 to 0.66170, saving model to songys_chat_transformer.hdf5\n",
            "Epoch 14/50\n",
            "47/47 [==============================] - 16s 336ms/step - loss: 0.3107 - lm_acc: 0.7016\n",
            "\n",
            "Epoch 00014: lm_acc improved from 0.66170 to 0.70162, saving model to songys_chat_transformer.hdf5\n",
            "Epoch 15/50\n",
            "47/47 [==============================] - 16s 336ms/step - loss: 0.2646 - lm_acc: 0.7341\n",
            "\n",
            "Epoch 00015: lm_acc improved from 0.70162 to 0.73409, saving model to songys_chat_transformer.hdf5\n",
            "Epoch 16/50\n",
            "47/47 [==============================] - 16s 336ms/step - loss: 0.2318 - lm_acc: 0.7600\n",
            "\n",
            "Epoch 00016: lm_acc improved from 0.73409 to 0.76004, saving model to songys_chat_transformer.hdf5\n",
            "Epoch 17/50\n",
            "47/47 [==============================] - 16s 337ms/step - loss: 0.2006 - lm_acc: 0.7851\n",
            "\n",
            "Epoch 00017: lm_acc improved from 0.76004 to 0.78512, saving model to songys_chat_transformer.hdf5\n",
            "Epoch 18/50\n",
            "47/47 [==============================] - 16s 336ms/step - loss: 0.1772 - lm_acc: 0.8018\n",
            "\n",
            "Epoch 00018: lm_acc improved from 0.78512 to 0.80180, saving model to songys_chat_transformer.hdf5\n",
            "Epoch 19/50\n",
            "47/47 [==============================] - 16s 337ms/step - loss: 0.1589 - lm_acc: 0.8194\n",
            "\n",
            "Epoch 00019: lm_acc improved from 0.80180 to 0.81944, saving model to songys_chat_transformer.hdf5\n",
            "Epoch 20/50\n",
            "47/47 [==============================] - 16s 338ms/step - loss: 0.1440 - lm_acc: 0.8355\n",
            "\n",
            "Epoch 00020: lm_acc improved from 0.81944 to 0.83546, saving model to songys_chat_transformer.hdf5\n",
            "Epoch 21/50\n",
            "47/47 [==============================] - 16s 337ms/step - loss: 0.1265 - lm_acc: 0.8525\n",
            "\n",
            "Epoch 00021: lm_acc improved from 0.83546 to 0.85247, saving model to songys_chat_transformer.hdf5\n",
            "Epoch 22/50\n",
            "47/47 [==============================] - 16s 338ms/step - loss: 0.1165 - lm_acc: 0.8614\n",
            "\n",
            "Epoch 00022: lm_acc improved from 0.85247 to 0.86139, saving model to songys_chat_transformer.hdf5\n",
            "Epoch 23/50\n",
            "47/47 [==============================] - 16s 337ms/step - loss: 0.1054 - lm_acc: 0.8748\n",
            "\n",
            "Epoch 00023: lm_acc improved from 0.86139 to 0.87483, saving model to songys_chat_transformer.hdf5\n",
            "Epoch 24/50\n",
            "47/47 [==============================] - 16s 338ms/step - loss: 0.0966 - lm_acc: 0.8836\n",
            "\n",
            "Epoch 00024: lm_acc improved from 0.87483 to 0.88363, saving model to songys_chat_transformer.hdf5\n",
            "Epoch 25/50\n",
            "47/47 [==============================] - 16s 338ms/step - loss: 0.0892 - lm_acc: 0.8911\n",
            "\n",
            "Epoch 00025: lm_acc improved from 0.88363 to 0.89112, saving model to songys_chat_transformer.hdf5\n",
            "Epoch 26/50\n",
            "47/47 [==============================] - 16s 337ms/step - loss: 0.0806 - lm_acc: 0.9012\n",
            "\n",
            "Epoch 00026: lm_acc improved from 0.89112 to 0.90124, saving model to songys_chat_transformer.hdf5\n",
            "Epoch 27/50\n",
            "47/47 [==============================] - 16s 337ms/step - loss: 0.0773 - lm_acc: 0.9048\n",
            "\n",
            "Epoch 00027: lm_acc improved from 0.90124 to 0.90485, saving model to songys_chat_transformer.hdf5\n",
            "Epoch 28/50\n",
            "47/47 [==============================] - 16s 338ms/step - loss: 0.0756 - lm_acc: 0.9069\n",
            "\n",
            "Epoch 00028: lm_acc improved from 0.90485 to 0.90690, saving model to songys_chat_transformer.hdf5\n",
            "Epoch 29/50\n",
            "47/47 [==============================] - 16s 337ms/step - loss: 0.0713 - lm_acc: 0.9120\n",
            "\n",
            "Epoch 00029: lm_acc improved from 0.90690 to 0.91200, saving model to songys_chat_transformer.hdf5\n",
            "Epoch 30/50\n",
            "47/47 [==============================] - 16s 337ms/step - loss: 0.0659 - lm_acc: 0.9181\n",
            "\n",
            "Epoch 00030: lm_acc improved from 0.91200 to 0.91810, saving model to songys_chat_transformer.hdf5\n",
            "Epoch 31/50\n",
            "47/47 [==============================] - 16s 337ms/step - loss: 0.0605 - lm_acc: 0.9236\n",
            "\n",
            "Epoch 00031: lm_acc improved from 0.91810 to 0.92360, saving model to songys_chat_transformer.hdf5\n",
            "Epoch 32/50\n",
            "47/47 [==============================] - 16s 337ms/step - loss: 0.0579 - lm_acc: 0.9268\n",
            "\n",
            "Epoch 00032: lm_acc improved from 0.92360 to 0.92677, saving model to songys_chat_transformer.hdf5\n",
            "Epoch 33/50\n",
            "47/47 [==============================] - 16s 337ms/step - loss: 0.0559 - lm_acc: 0.9294\n",
            "\n",
            "Epoch 00033: lm_acc improved from 0.92677 to 0.92940, saving model to songys_chat_transformer.hdf5\n",
            "Epoch 34/50\n",
            "47/47 [==============================] - 16s 337ms/step - loss: 0.0535 - lm_acc: 0.9334\n",
            "\n",
            "Epoch 00034: lm_acc improved from 0.92940 to 0.93335, saving model to songys_chat_transformer.hdf5\n",
            "Epoch 35/50\n",
            "47/47 [==============================] - 16s 336ms/step - loss: 0.0510 - lm_acc: 0.9355\n",
            "\n",
            "Epoch 00035: lm_acc improved from 0.93335 to 0.93550, saving model to songys_chat_transformer.hdf5\n",
            "Epoch 36/50\n",
            "47/47 [==============================] - 16s 336ms/step - loss: 0.0476 - lm_acc: 0.9402\n",
            "\n",
            "Epoch 00036: lm_acc improved from 0.93550 to 0.94020, saving model to songys_chat_transformer.hdf5\n",
            "Epoch 37/50\n",
            "47/47 [==============================] - 16s 337ms/step - loss: 0.0456 - lm_acc: 0.9430\n",
            "\n",
            "Epoch 00037: lm_acc improved from 0.94020 to 0.94301, saving model to songys_chat_transformer.hdf5\n",
            "Epoch 38/50\n",
            "47/47 [==============================] - 16s 337ms/step - loss: 0.0455 - lm_acc: 0.9423\n",
            "\n",
            "Epoch 00038: lm_acc did not improve from 0.94301\n",
            "Epoch 39/50\n",
            "47/47 [==============================] - 16s 337ms/step - loss: 0.0456 - lm_acc: 0.9424\n",
            "\n",
            "Epoch 00039: lm_acc did not improve from 0.94301\n",
            "Epoch 40/50\n",
            "47/47 [==============================] - 16s 337ms/step - loss: 0.0401 - lm_acc: 0.9495\n",
            "\n",
            "Epoch 00040: lm_acc improved from 0.94301 to 0.94954, saving model to songys_chat_transformer.hdf5\n",
            "Epoch 41/50\n",
            "47/47 [==============================] - 16s 336ms/step - loss: 0.0392 - lm_acc: 0.9499\n",
            "\n",
            "Epoch 00041: lm_acc improved from 0.94954 to 0.94987, saving model to songys_chat_transformer.hdf5\n",
            "Epoch 42/50\n",
            "47/47 [==============================] - 16s 336ms/step - loss: 0.0379 - lm_acc: 0.9528\n",
            "\n",
            "Epoch 00042: lm_acc improved from 0.94987 to 0.95281, saving model to songys_chat_transformer.hdf5\n",
            "Epoch 43/50\n",
            "47/47 [==============================] - 16s 337ms/step - loss: 0.0353 - lm_acc: 0.9552\n",
            "\n",
            "Epoch 00043: lm_acc improved from 0.95281 to 0.95522, saving model to songys_chat_transformer.hdf5\n",
            "Epoch 44/50\n",
            "47/47 [==============================] - 16s 336ms/step - loss: 0.0351 - lm_acc: 0.9551\n",
            "\n",
            "Epoch 00044: lm_acc did not improve from 0.95522\n",
            "Epoch 45/50\n",
            "47/47 [==============================] - 16s 338ms/step - loss: 0.0359 - lm_acc: 0.9538\n",
            "\n",
            "Epoch 00045: lm_acc did not improve from 0.95522\n",
            "Epoch 46/50\n",
            "47/47 [==============================] - 16s 338ms/step - loss: 0.0351 - lm_acc: 0.9554\n",
            "\n",
            "Epoch 00046: lm_acc improved from 0.95522 to 0.95545, saving model to songys_chat_transformer.hdf5\n",
            "Epoch 47/50\n",
            "47/47 [==============================] - 16s 337ms/step - loss: 0.0318 - lm_acc: 0.9591\n",
            "\n",
            "Epoch 00047: lm_acc improved from 0.95545 to 0.95912, saving model to songys_chat_transformer.hdf5\n",
            "Epoch 48/50\n",
            "47/47 [==============================] - 16s 337ms/step - loss: 0.0315 - lm_acc: 0.9605\n",
            "\n",
            "Epoch 00048: lm_acc improved from 0.95912 to 0.96046, saving model to songys_chat_transformer.hdf5\n",
            "Epoch 49/50\n",
            "47/47 [==============================] - 16s 336ms/step - loss: 0.0301 - lm_acc: 0.9621\n",
            "\n",
            "Epoch 00049: lm_acc improved from 0.96046 to 0.96208, saving model to songys_chat_transformer.hdf5\n",
            "Epoch 50/50\n",
            "47/47 [==============================] - 16s 336ms/step - loss: 0.0287 - lm_acc: 0.9635\n",
            "\n",
            "Epoch 00050: lm_acc improved from 0.96208 to 0.96348, saving model to songys_chat_transformer.hdf5\n"
          ]
        }
      ]
    },
    {
      "cell_type": "code",
      "metadata": {
        "id": "zqJUd1RoMsic",
        "colab": {
          "base_uri": "https://localhost:8080/",
          "height": 251
        },
        "outputId": "e796110c-6c44-45f4-dd6d-9dca3ebf59ce"
      },
      "source": [
        "# training result\n",
        "plt.figure(figsize=(12, 4))\n",
        "\n",
        "plt.subplot(1, 2, 1)\n",
        "plt.plot(history.history['loss'], 'b-', label='loss')\n",
        "plt.xlabel('Epoch')\n",
        "plt.legend()\n",
        "\n",
        "plt.subplot(1, 2, 2)\n",
        "plt.plot(history.history['lm_acc'], 'g-', label='accuracy')\n",
        "plt.xlabel('Epoch')\n",
        "plt.legend()\n",
        "\n",
        "plt.show()"
      ],
      "execution_count": 187,
      "outputs": [
        {
          "output_type": "display_data",
          "data": {
            "image/png": "[encoded data removed]",
            "text/plain": [
              "<Figure size 864x288 with 2 Axes>"
            ]
          },
          "metadata": {
            "needs_background": "light"
          }
        }
      ]
    },
    {
      "cell_type": "markdown",
      "metadata": {
        "id": "dtqNHlkRdjz5"
      },
      "source": [
        "## Inference"
      ]
    },
    {
      "cell_type": "code",
      "metadata": {
        "id": "0wV723x3dsOy",
        "colab": {
          "base_uri": "https://localhost:8080/",
          "height": 229
        },
        "outputId": "538a5d96-8105-47e8-c5ef-82e27115595a"
      },
      "source": [
        "model = build_model(config)\n",
        "tf.keras.utils.plot_model(model, 'model.png', show_shapes=True)"
      ],
      "execution_count": 188,
      "outputs": [
        {
          "output_type": "execute_result",
          "data": {
            "image/png": "[encoded data removed]",
            "text/plain": [
              "<IPython.core.display.Image object>"
            ]
          },
          "metadata": {},
          "execution_count": 188
        }
      ]
    },
    {
      "cell_type": "code",
      "metadata": {
        "id": "0WfW_jOjdxO7"
      },
      "source": [
        "# 기존 학습 weight 로드\n",
        "model.load_weights(\"songys_chat_transformer.hdf5\")"
      ],
      "execution_count": 189,
      "outputs": []
    },
    {
      "cell_type": "code",
      "metadata": {
        "id": "6ztQryROd6sq"
      },
      "source": [
        "def do_predict(model, n_seq, string):\n",
        "    \"\"\"\n",
        "    입력에 대한 답변 생성하는 함수\n",
        "    :param model: model\n",
        "    :param n_seq: 디코더 입력 개수\n",
        "    :param string: 입력 문자열\n",
        "    \"\"\"\n",
        "    # enc_token 생성: <string tokens>, [PAD] tokens\n",
        "    enc_token = vocab.encode_as_ids(string)\n",
        "    # dec_token 생성: [BOS], [PAD] tokens\n",
        "    dec_token = [vocab.bos_id()]\n",
        "    dec_token += [0] * (n_seq - len(dec_token))\n",
        "    dec_token = dec_token[:n_seq]\n",
        "\n",
        "    response = []\n",
        "    for i in range(n_seq - 1):\n",
        "        # model 실행\n",
        "        output = model.predict((np.array([enc_token]), np.array([dec_token])))\n",
        "        # decoder의 마지막 위치의 token 예측 값\n",
        "        word_id = int(np.argmax(output, axis=2)[0][i])\n",
        "        # [EOS] 토큰이 생성되면 종료\n",
        "        if word_id == vocab.eos_id():\n",
        "            break\n",
        "        # 예측된 token을 응답에 저장\n",
        "        response.append(word_id)\n",
        "        # 예측된 token을 decoder의 다음 입력으로 저장\n",
        "        dec_token[i + 1] = word_id\n",
        "    \n",
        "    # 생성된 token을 문자열로 변경\n",
        "    return vocab.decode_ids(response)"
      ],
      "execution_count": 190,
      "outputs": []
    },
    {
      "cell_type": "code",
      "metadata": {
        "id": "CAGU6rovd2eB",
        "colab": {
          "base_uri": "https://localhost:8080/",
          "height": 965
        },
        "outputId": "85bf7def-e5df-4a3f-b4ac-8e78d15ce17f"
      },
      "source": [
        "while True:\n",
        "    print(\"input > \", end=\"\")\n",
        "    string = str(input())\n",
        "    if len(string) == 0:\n",
        "        break\n",
        "    print(f\"output > {do_predict(model, 20, string)}\")"
      ],
      "execution_count": 191,
      "outputs": [
        {
          "output_type": "stream",
          "name": "stdout",
          "text": [
            "input > 가족들이랑 여행을 생각중이야.어디 가지?\n",
            "output > 온 가족이 모두 마음에 드는 곳으로 가보세요.\n",
            "input > 강원도에 갈만한 곳이 있을까?\n",
            "output > 간단하게 팔찌나 양말, 모자, 신발 등으로 시작해보세요.\n",
            "input > 심심해 죽겠다.\n",
            "output > 친구들과 연락해보세요.\n",
            "input > 외롭기도 하고...\n",
            "output > 제가 뒤에서만 지켜보는 건 어떨까요.\n",
            "input > 담배 한대 피고 올게.\n",
            "output > 금연 클리닉에 함께 가보세요.\n",
            "input > 같이 간다고?\n",
            "output > 저는 도움이 되고 싶어요.\n",
            "input > 고마워\n",
            "output > 감사합니다.\n",
            "input > 친한 친구 승배나 만나볼ㄲ?\n",
            "output > 직접 물어보거나 친구를 통해서 알아내보세요.\n",
            "input > 안녕\n",
            "output > 안녕하세요.\n",
            "input > "
          ]
        },
        {
          "output_type": "error",
          "ename": "KeyboardInterrupt",
          "evalue": "ignored",
          "traceback": [
            "\u001b[0;31m---------------------------------------------------------------------------\u001b[0m",
            "\u001b[0;31mKeyboardInterrupt\u001b[0m                         Traceback (most recent call last)",
            "\u001b[0;32m/usr/local/lib/python3.7/dist-packages/ipykernel/kernelbase.py\u001b[0m in \u001b[0;36m_input_request\u001b[0;34m(self, prompt, ident, parent, password)\u001b[0m\n\u001b[1;32m    728\u001b[0m             \u001b[0;32mtry\u001b[0m\u001b[0;34m:\u001b[0m\u001b[0;34m\u001b[0m\u001b[0;34m\u001b[0m\u001b[0m\n\u001b[0;32m--> 729\u001b[0;31m                 \u001b[0mident\u001b[0m\u001b[0;34m,\u001b[0m \u001b[0mreply\u001b[0m \u001b[0;34m=\u001b[0m \u001b[0mself\u001b[0m\u001b[0;34m.\u001b[0m\u001b[0msession\u001b[0m\u001b[0;34m.\u001b[0m\u001b[0mrecv\u001b[0m\u001b[0;34m(\u001b[0m\u001b[0mself\u001b[0m\u001b[0;34m.\u001b[0m\u001b[0mstdin_socket\u001b[0m\u001b[0;34m,\u001b[0m \u001b[0;36m0\u001b[0m\u001b[0;34m)\u001b[0m\u001b[0;34m\u001b[0m\u001b[0;34m\u001b[0m\u001b[0m\n\u001b[0m\u001b[1;32m    730\u001b[0m             \u001b[0;32mexcept\u001b[0m \u001b[0mException\u001b[0m\u001b[0;34m:\u001b[0m\u001b[0;34m\u001b[0m\u001b[0;34m\u001b[0m\u001b[0m\n",
            "\u001b[0;32m/usr/local/lib/python3.7/dist-packages/jupyter_client/session.py\u001b[0m in \u001b[0;36mrecv\u001b[0;34m(self, socket, mode, content, copy)\u001b[0m\n\u001b[1;32m    802\u001b[0m         \u001b[0;32mtry\u001b[0m\u001b[0;34m:\u001b[0m\u001b[0;34m\u001b[0m\u001b[0;34m\u001b[0m\u001b[0m\n\u001b[0;32m--> 803\u001b[0;31m             \u001b[0mmsg_list\u001b[0m \u001b[0;34m=\u001b[0m \u001b[0msocket\u001b[0m\u001b[0;34m.\u001b[0m\u001b[0mrecv_multipart\u001b[0m\u001b[0;34m(\u001b[0m\u001b[0mmode\u001b[0m\u001b[0;34m,\u001b[0m \u001b[0mcopy\u001b[0m\u001b[0;34m=\u001b[0m\u001b[0mcopy\u001b[0m\u001b[0;34m)\u001b[0m\u001b[0;34m\u001b[0m\u001b[0;34m\u001b[0m\u001b[0m\n\u001b[0m\u001b[1;32m    804\u001b[0m         \u001b[0;32mexcept\u001b[0m \u001b[0mzmq\u001b[0m\u001b[0;34m.\u001b[0m\u001b[0mZMQError\u001b[0m \u001b[0;32mas\u001b[0m \u001b[0me\u001b[0m\u001b[0;34m:\u001b[0m\u001b[0;34m\u001b[0m\u001b[0;34m\u001b[0m\u001b[0m\n",
            "\u001b[0;32m/usr/local/lib/python3.7/dist-packages/zmq/sugar/socket.py\u001b[0m in \u001b[0;36mrecv_multipart\u001b[0;34m(self, flags, copy, track)\u001b[0m\n\u001b[1;32m    618\u001b[0m         \"\"\"\n\u001b[0;32m--> 619\u001b[0;31m         \u001b[0mparts\u001b[0m \u001b[0;34m=\u001b[0m \u001b[0;34m[\u001b[0m\u001b[0mself\u001b[0m\u001b[0;34m.\u001b[0m\u001b[0mrecv\u001b[0m\u001b[0;34m(\u001b[0m\u001b[0mflags\u001b[0m\u001b[0;34m,\u001b[0m \u001b[0mcopy\u001b[0m\u001b[0;34m=\u001b[0m\u001b[0mcopy\u001b[0m\u001b[0;34m,\u001b[0m \u001b[0mtrack\u001b[0m\u001b[0;34m=\u001b[0m\u001b[0mtrack\u001b[0m\u001b[0;34m)\u001b[0m\u001b[0;34m]\u001b[0m\u001b[0;34m\u001b[0m\u001b[0;34m\u001b[0m\u001b[0m\n\u001b[0m\u001b[1;32m    620\u001b[0m         \u001b[0;31m# have first part already, only loop while more to receive\u001b[0m\u001b[0;34m\u001b[0m\u001b[0;34m\u001b[0m\u001b[0;34m\u001b[0m\u001b[0m\n",
            "\u001b[0;32mzmq/backend/cython/socket.pyx\u001b[0m in \u001b[0;36mzmq.backend.cython.socket.Socket.recv\u001b[0;34m()\u001b[0m\n",
            "\u001b[0;32mzmq/backend/cython/socket.pyx\u001b[0m in \u001b[0;36mzmq.backend.cython.socket.Socket.recv\u001b[0;34m()\u001b[0m\n",
            "\u001b[0;32mzmq/backend/cython/socket.pyx\u001b[0m in \u001b[0;36mzmq.backend.cython.socket._recv_copy\u001b[0;34m()\u001b[0m\n",
            "\u001b[0;32m/usr/local/lib/python3.7/dist-packages/zmq/backend/cython/checkrc.pxd\u001b[0m in \u001b[0;36mzmq.backend.cython.checkrc._check_rc\u001b[0;34m()\u001b[0m\n",
            "\u001b[0;31mKeyboardInterrupt\u001b[0m: ",
            "\nDuring handling of the above exception, another exception occurred:\n",
            "\u001b[0;31mKeyboardInterrupt\u001b[0m                         Traceback (most recent call last)",
            "\u001b[0;32m<ipython-input-191-57c97b53318d>\u001b[0m in \u001b[0;36m<module>\u001b[0;34m()\u001b[0m\n\u001b[1;32m      1\u001b[0m \u001b[0;32mwhile\u001b[0m \u001b[0;32mTrue\u001b[0m\u001b[0;34m:\u001b[0m\u001b[0;34m\u001b[0m\u001b[0;34m\u001b[0m\u001b[0m\n\u001b[1;32m      2\u001b[0m     \u001b[0mprint\u001b[0m\u001b[0;34m(\u001b[0m\u001b[0;34m\"input > \"\u001b[0m\u001b[0;34m,\u001b[0m \u001b[0mend\u001b[0m\u001b[0;34m=\u001b[0m\u001b[0;34m\"\"\u001b[0m\u001b[0;34m)\u001b[0m\u001b[0;34m\u001b[0m\u001b[0;34m\u001b[0m\u001b[0m\n\u001b[0;32m----> 3\u001b[0;31m     \u001b[0mstring\u001b[0m \u001b[0;34m=\u001b[0m \u001b[0mstr\u001b[0m\u001b[0;34m(\u001b[0m\u001b[0minput\u001b[0m\u001b[0;34m(\u001b[0m\u001b[0;34m)\u001b[0m\u001b[0;34m)\u001b[0m\u001b[0;34m\u001b[0m\u001b[0;34m\u001b[0m\u001b[0m\n\u001b[0m\u001b[1;32m      4\u001b[0m     \u001b[0;32mif\u001b[0m \u001b[0mlen\u001b[0m\u001b[0;34m(\u001b[0m\u001b[0mstring\u001b[0m\u001b[0;34m)\u001b[0m \u001b[0;34m==\u001b[0m \u001b[0;36m0\u001b[0m\u001b[0;34m:\u001b[0m\u001b[0;34m\u001b[0m\u001b[0;34m\u001b[0m\u001b[0m\n\u001b[1;32m      5\u001b[0m         \u001b[0;32mbreak\u001b[0m\u001b[0;34m\u001b[0m\u001b[0;34m\u001b[0m\u001b[0m\n",
            "\u001b[0;32m/usr/local/lib/python3.7/dist-packages/ipykernel/kernelbase.py\u001b[0m in \u001b[0;36mraw_input\u001b[0;34m(self, prompt)\u001b[0m\n\u001b[1;32m    702\u001b[0m             \u001b[0mself\u001b[0m\u001b[0;34m.\u001b[0m\u001b[0m_parent_ident\u001b[0m\u001b[0;34m,\u001b[0m\u001b[0;34m\u001b[0m\u001b[0;34m\u001b[0m\u001b[0m\n\u001b[1;32m    703\u001b[0m             \u001b[0mself\u001b[0m\u001b[0;34m.\u001b[0m\u001b[0m_parent_header\u001b[0m\u001b[0;34m,\u001b[0m\u001b[0;34m\u001b[0m\u001b[0;34m\u001b[0m\u001b[0m\n\u001b[0;32m--> 704\u001b[0;31m             \u001b[0mpassword\u001b[0m\u001b[0;34m=\u001b[0m\u001b[0;32mFalse\u001b[0m\u001b[0;34m,\u001b[0m\u001b[0;34m\u001b[0m\u001b[0;34m\u001b[0m\u001b[0m\n\u001b[0m\u001b[1;32m    705\u001b[0m         )\n\u001b[1;32m    706\u001b[0m \u001b[0;34m\u001b[0m\u001b[0m\n",
            "\u001b[0;32m/usr/local/lib/python3.7/dist-packages/ipykernel/kernelbase.py\u001b[0m in \u001b[0;36m_input_request\u001b[0;34m(self, prompt, ident, parent, password)\u001b[0m\n\u001b[1;32m    732\u001b[0m             \u001b[0;32mexcept\u001b[0m \u001b[0mKeyboardInterrupt\u001b[0m\u001b[0;34m:\u001b[0m\u001b[0;34m\u001b[0m\u001b[0;34m\u001b[0m\u001b[0m\n\u001b[1;32m    733\u001b[0m                 \u001b[0;31m# re-raise KeyboardInterrupt, to truncate traceback\u001b[0m\u001b[0;34m\u001b[0m\u001b[0;34m\u001b[0m\u001b[0;34m\u001b[0m\u001b[0m\n\u001b[0;32m--> 734\u001b[0;31m                 \u001b[0;32mraise\u001b[0m \u001b[0mKeyboardInterrupt\u001b[0m\u001b[0;34m\u001b[0m\u001b[0;34m\u001b[0m\u001b[0m\n\u001b[0m\u001b[1;32m    735\u001b[0m             \u001b[0;32melse\u001b[0m\u001b[0;34m:\u001b[0m\u001b[0;34m\u001b[0m\u001b[0;34m\u001b[0m\u001b[0m\n\u001b[1;32m    736\u001b[0m                 \u001b[0;32mbreak\u001b[0m\u001b[0;34m\u001b[0m\u001b[0;34m\u001b[0m\u001b[0m\n",
            "\u001b[0;31mKeyboardInterrupt\u001b[0m: "
          ]
        }
      ]
    }
  ]
}