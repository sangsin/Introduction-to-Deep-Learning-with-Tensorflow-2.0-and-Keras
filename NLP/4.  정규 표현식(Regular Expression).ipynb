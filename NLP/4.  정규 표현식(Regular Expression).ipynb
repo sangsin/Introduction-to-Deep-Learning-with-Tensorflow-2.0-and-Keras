{
  "nbformat": 4,
  "nbformat_minor": 0,
  "metadata": {
    "colab": {
      "name": "4. 텍스트 전처리 - 정규 표현식(Regular Expression).ipynb",
      "provenance": []
    },
    "kernelspec": {
      "name": "python3",
      "display_name": "Python 3"
    },
    "language_info": {
      "name": "python"
    }
  },
  "cells": [
    {
      "cell_type": "markdown",
      "metadata": {
        "id": "t6TDrDxnp5oI"
      },
      "source": [
        "# 정규 표현식 문법\n",
        "\n",
        "  파이썬에서는 정규 표현식 모듈 re을 지원하므로, 이를 이용하면 특정 규칙이 있는 텍스트 데이터를 빠르게 정제할 수 있다.\n"
      ]
    },
    {
      "cell_type": "markdown",
      "metadata": {
        "id": "8lBvPtkbvcnw"
      },
      "source": [
        "## 정규표현식 모듈 함수\n",
        "\n",
        "|모듈 함수\t  |설명|\n",
        "|---|---|\n",
        "|re.compile()\t|정규표현식을 컴파일하는 함수입니다. 다시 말해, 파이썬에게 전해주는 역할을 합니다. |\n",
        "|             |찾고자 하는 패턴이 빈번한 경우에는 미리 컴파일해놓고 사용하면 속도와 편의성면에서 유리.\n",
        "|re.search()\t|문자열 전체에 대해서 정규표현식과 매치되는지를 검색|\n",
        "|             | 매치되면 Match Object를 리턴하고, 매치되지 않으면 아무런 값도 출력되지 않음|\n",
        "|re.match()\t  |문자열의 처음이 정규표현식과 매치되는지를 검색|\n",
        "|re.split()\t  |정규 표현식을 기준으로 문자열을 분리하여 리스트로 리턴|\n",
        "|re.findall()\t|문자열에서 정규 표현식과 매치되는 모든 경우의 문자열을 찾아서 리스트로 리턴|\n",
        "|             |만약, 매치되는 문자열이 없다면 빈 리스트가 리턴|\n",
        "|re.finditer()|문자열에서 정규 표현식과 매치되는 모든 경우의 문자열에 대한 이터레이터 객체를 리턴|\n",
        "|re.sub()\t    |문자열에서 정규 표현식과 일치하는 부분에 대해서 다른 문자열로 대체|"
      ]
    },
    {
      "cell_type": "markdown",
      "metadata": {
        "id": "wOiOwWuGruHp"
      },
      "source": [
        "## 특수문자\n",
        "\n",
        "\n",
        "  |특수 문자|설명|\n",
        "  |---|---|\n",
        "  | . |한 개의 임의의 문자를 나타냅니다. (줄바꿈 문자인 \\n는 제외)|\n",
        "  | ?\t|앞의 문자가 존재할 수도 있고, 존재하지 않을 수도 있습니다. (문자가 0개 또는 1개)|\n",
        "  | *\t|앞의 문자가 무한개로 존재할 수도 있고, 존재하지 않을 수도 있습니다. (문자가 0개 이상)|\n",
        "  | +\t|앞의 문자가 최소 한 개 이상 존재합니다. (문자가 1개 이상)|\n",
        "  | ^\t|뒤의 문자로 문자열이 시작됩니다.|\n",
        "  | $\t|앞의 문자로 문자열이 끝납니다.|\n",
        "  | {숫자} |\t숫자만큼 반복합니다.|\n",
        "  | {숫자1, 숫자2} |\t숫자1 이상 숫자2 이하만큼 반복합니다. ?, *, +를 이것으로 대체할 수 있습니다.|\n",
        "  | {숫자,}|\t숫자 이상만큼 반복합니다.|\n",
        "  | [ ]\t|대괄호 안의 문자들 중 한 개의 문자와 매치합니다. [amk]라고 한다면 a 또는 m 또는 k 중 하나라도 존재하면 매치를 의미.\n",
        "  |   |[a-z]와 같이 범위를 지정할 수도 있습니다. [a-zA-Z]는 알파벳 전체를 의미하는 범위이며, 문자열에 알파벳이 존재하면 매치를 의미.|\n",
        "  | [^문자]\t|해당 문자를 제외한 문자를 매치합니다.\n",
        "  | l\t|AlB와 같이 쓰이며 A 또는 B의 의미를 가집니다.|"
      ]
    },
    {
      "cell_type": "markdown",
      "metadata": {
        "id": "AIyA49YkyTgp"
      },
      "source": [
        "__period(.) 기호__\n",
        "\n",
        ".은 __한 개의 임의의 문자__를 나타냅니다. \n",
        "\n",
        "예를 들어서 정규 표현식이 a.c라고 합시다. a와 c 사이에는 어떤 1개의 문자라도 올 수 있습니다. 즉, akc, azc, avc, a5c, a!c와 같은 형태는 모두 a.c의 정규 표현식과 매치됩니다."
      ]
    },
    {
      "cell_type": "code",
      "metadata": {
        "id": "sfAD_3WgvA2M"
      },
      "source": [
        "import re\n",
        "r=re.compile(\"a.c\") # a와 c 사이에는 어떤 1개의 문자라도 올 수 있습니다. \n",
        "                    # 즉, akc, azc, avc, a5c, a!c와 같은 형태는 모두 a.c의 정규 표현식과 매치\n",
        "r.search(\"kkk\") # 아무런 결과도 출력되지 않는다."
      ],
      "execution_count": 1,
      "outputs": []
    },
    {
      "cell_type": "code",
      "metadata": {
        "colab": {
          "base_uri": "https://localhost:8080/"
        },
        "id": "DCTDxd6pxbMG",
        "outputId": "5097b730-1be4-4f20-dbf5-380cf8ffd9bc"
      },
      "source": [
        "out = r.search('abc')\n",
        "print(out)\n",
        "print(out.string)"
      ],
      "execution_count": 2,
      "outputs": [
        {
          "output_type": "stream",
          "text": [
            "<re.Match object; span=(0, 3), match='abc'>\n",
            "abc\n"
          ],
          "name": "stdout"
        }
      ]
    },
    {
      "cell_type": "code",
      "metadata": {
        "colab": {
          "base_uri": "https://localhost:8080/"
        },
        "id": "M9l72GQiyMFa",
        "outputId": "91309603-dbe6-4634-9643-b5bd9a7acf23"
      },
      "source": [
        "out = r.search('ac')\n",
        "print(out)"
      ],
      "execution_count": 3,
      "outputs": [
        {
          "output_type": "stream",
          "text": [
            "None\n"
          ],
          "name": "stdout"
        }
      ]
    },
    {
      "cell_type": "markdown",
      "metadata": {
        "id": "s1yLwfnJzBsc"
      },
      "source": [
        "**? 기호**\n",
        "\n",
        "__? 앞의 문자가 존재할 수도 있고, 존재하지 않을 수도 있는 경우__를 나타냅니다. \n",
        "\n",
        "예를 들어서 정규 표현식이 ab?c라고 합시다. 이 경우 이 정규 표현식에서의 b는 있다고 취급할 수도 있고, 없다고 취급할 수도 있습니다. 즉, abc와 ac 모두 매치할 수 있습니다."
      ]
    },
    {
      "cell_type": "code",
      "metadata": {
        "id": "O3ac0Q4EzYjB"
      },
      "source": [
        "import re\n",
        "r=re.compile(\"ab?c\")\n",
        "r.search(\"abbc\") # 아무런 결과도 출력되지 않는다."
      ],
      "execution_count": 4,
      "outputs": []
    },
    {
      "cell_type": "code",
      "metadata": {
        "colab": {
          "base_uri": "https://localhost:8080/"
        },
        "id": "xAfUEVm3zYnP",
        "outputId": "74c8c19e-a2c9-4d5a-9c24-cc05fd5ffb8c"
      },
      "source": [
        "print(r.search(\"abc\"))\n",
        "print(r.search(\"ac\"))"
      ],
      "execution_count": 5,
      "outputs": [
        {
          "output_type": "stream",
          "text": [
            "<re.Match object; span=(0, 3), match='abc'>\n",
            "<re.Match object; span=(0, 2), match='ac'>\n"
          ],
          "name": "stdout"
        }
      ]
    },
    {
      "cell_type": "markdown",
      "metadata": {
        "id": "zoyx34Om0AvL"
      },
      "source": [
        "<b>* 기호</b>\n",
        "\n",
        "__바로 앞의 문자가 0개 이상일 경우__를 나타냅니다. 앞의 문자는 존재하지 않을 수도 있으며, 또는 여러 개일 수도 있습니다. \n",
        "\n",
        "예를 들어서 정규 표현식이 ab*c라고 합시다. 그렇다면 ac, abc, abbc, abbbc 등과 매치할 수 있으며 b의 갯수는 무수히 많아도 상관없습니다."
      ]
    },
    {
      "cell_type": "code",
      "metadata": {
        "id": "ouoQKzwv1YBt"
      },
      "source": [
        "import re\n",
        "r=re.compile(\"ab*c\")\n",
        "r.search(\"a\") # 아무런 결과도 출력되지 않는다."
      ],
      "execution_count": 6,
      "outputs": []
    },
    {
      "cell_type": "code",
      "metadata": {
        "colab": {
          "base_uri": "https://localhost:8080/"
        },
        "id": "Y2YDBCXA1YY6",
        "outputId": "9aa58010-527c-4290-cd1c-7d682235d9e4"
      },
      "source": [
        "r.search(\"ac\")"
      ],
      "execution_count": 7,
      "outputs": [
        {
          "output_type": "execute_result",
          "data": {
            "text/plain": [
              "<re.Match object; span=(0, 2), match='ac'>"
            ]
          },
          "metadata": {
            "tags": []
          },
          "execution_count": 7
        }
      ]
    },
    {
      "cell_type": "code",
      "metadata": {
        "colab": {
          "base_uri": "https://localhost:8080/"
        },
        "id": "qgANvRQM1Ybt",
        "outputId": "df22db40-225c-446d-d762-4076f8048c55"
      },
      "source": [
        "r.search(\"abc\") "
      ],
      "execution_count": 8,
      "outputs": [
        {
          "output_type": "execute_result",
          "data": {
            "text/plain": [
              "<re.Match object; span=(0, 3), match='abc'>"
            ]
          },
          "metadata": {
            "tags": []
          },
          "execution_count": 8
        }
      ]
    },
    {
      "cell_type": "code",
      "metadata": {
        "colab": {
          "base_uri": "https://localhost:8080/"
        },
        "id": "XxIzjkBg1Yeh",
        "outputId": "6ff23861-c2f3-41f8-dcb7-f5035a9f9d79"
      },
      "source": [
        "r.search(\"abbbbc\") "
      ],
      "execution_count": 9,
      "outputs": [
        {
          "output_type": "execute_result",
          "data": {
            "text/plain": [
              "<re.Match object; span=(0, 6), match='abbbbc'>"
            ]
          },
          "metadata": {
            "tags": []
          },
          "execution_count": 9
        }
      ]
    },
    {
      "cell_type": "markdown",
      "metadata": {
        "id": "juHTqZbu1red"
      },
      "source": [
        "__+ 기호__\n",
        "\n",
        "+는 *와 유사합니다. 하지만 다른 점은 __앞의 문자가 최소 1개 이상__이어야 한다는 점입니다. \n",
        "\n",
        "예를 들어서 정규 표현식이 ab+c라고 한다면, ac는 매치되지 않습니다. 하지만 abc, abbc, abbbc 등과 매치할 수 있으며 b의 갯수는 무수히 많을 수 있습니다."
      ]
    },
    {
      "cell_type": "code",
      "metadata": {
        "id": "2U1pvbYO2GsF"
      },
      "source": [
        "import re\n",
        "r=re.compile(\"ab+c\")\n",
        "r.search(\"ac\") # 아무런 결과도 출력되지 않는다."
      ],
      "execution_count": 10,
      "outputs": []
    },
    {
      "cell_type": "code",
      "metadata": {
        "colab": {
          "base_uri": "https://localhost:8080/"
        },
        "id": "BTAIV5BL2NTT",
        "outputId": "d6862917-f158-421b-a5be-74de071bce6b"
      },
      "source": [
        "print(r.search(\"abc\"))\n",
        "print(r.search(\"abbbbc\"))"
      ],
      "execution_count": 11,
      "outputs": [
        {
          "output_type": "stream",
          "text": [
            "<re.Match object; span=(0, 3), match='abc'>\n",
            "<re.Match object; span=(0, 6), match='abbbbc'>\n"
          ],
          "name": "stdout"
        }
      ]
    },
    {
      "cell_type": "markdown",
      "metadata": {
        "id": "elS0KpmR5Wsv"
      },
      "source": [
        "__^ 기호__\n",
        "\n",
        "^는 __시작되는 글자를 지정__합니다. \n",
        "\n",
        "가령 정규표현식이 ^a라면 a로 시작되는 문자열만을 찾아냅니다."
      ]
    },
    {
      "cell_type": "code",
      "metadata": {
        "id": "MaPGXhEq5hwr"
      },
      "source": [
        "import re\n",
        "r=re.compile(\"^a\")\n",
        "r.search(\"bbc\") # 아무런 결과도 출력되지 않는다."
      ],
      "execution_count": 12,
      "outputs": []
    },
    {
      "cell_type": "code",
      "metadata": {
        "colab": {
          "base_uri": "https://localhost:8080/"
        },
        "id": "0ln-pCpg5ksb",
        "outputId": "3bea3aa4-1315-47b8-dfb2-fee0d142a3cf"
      },
      "source": [
        "r.search(\"ab\")   "
      ],
      "execution_count": 13,
      "outputs": [
        {
          "output_type": "execute_result",
          "data": {
            "text/plain": [
              "<re.Match object; span=(0, 1), match='a'>"
            ]
          },
          "metadata": {
            "tags": []
          },
          "execution_count": 13
        }
      ]
    },
    {
      "cell_type": "markdown",
      "metadata": {
        "id": "autuEi2q5yLi"
      },
      "source": [
        "__{숫자} \n",
        "\n",
        "문자에 해당 기호를 붙이면, __해당 문자를 숫자만큼 반복__한 것을 나타냅니다. \n",
        "\n",
        "예를 들어서 정규 표현식이 ab{2}c라면 a와 c 사이에 b가 존재하면서 b가 2개인 문자열에 대해서 매치합니다."
      ]
    },
    {
      "cell_type": "code",
      "metadata": {
        "id": "Nxs6FlqN6U7v"
      },
      "source": [
        "import re\n",
        "r=re.compile(\"ab{2}c\")\n",
        "r.search(\"ac\") # 아무런 결과도 출력되지 않는다.\n",
        "r.search(\"abc\") # 아무런 결과도 출력되지 않는다."
      ],
      "execution_count": 14,
      "outputs": []
    },
    {
      "cell_type": "code",
      "metadata": {
        "colab": {
          "base_uri": "https://localhost:8080/"
        },
        "id": "I-9Ikxfb6Ysx",
        "outputId": "a13f7f00-9720-4145-8c51-b2cfb5a939ca"
      },
      "source": [
        "r.search(\"abbc\")"
      ],
      "execution_count": 15,
      "outputs": [
        {
          "output_type": "execute_result",
          "data": {
            "text/plain": [
              "<re.Match object; span=(0, 4), match='abbc'>"
            ]
          },
          "metadata": {
            "tags": []
          },
          "execution_count": 15
        }
      ]
    },
    {
      "cell_type": "code",
      "metadata": {
        "id": "2uOO98v16b2l"
      },
      "source": [
        "r.search(\"abbbbbc\") # 아무런 결과도 출력되지 않는다."
      ],
      "execution_count": 16,
      "outputs": []
    },
    {
      "cell_type": "markdown",
      "metadata": {
        "id": "VQkLTrmR6tOo"
      },
      "source": [
        "__{숫자1, 숫자2} 기호__\n",
        "\n",
        "문자에 해당 기호를 붙이면, __해당 문자를 숫자1 이상 숫자2 이하만큼 반복__합니다. \n",
        "\n",
        "예를 들어서 정규 표현식이 ab{2,8}c라면 a와 c 사이에 b가 존재하면서 b는 2개 이상 8개 이하인 문자열에 대해서 매치합니다."
      ]
    },
    {
      "cell_type": "code",
      "metadata": {
        "id": "NlUp2HE96-8q"
      },
      "source": [
        "import re\n",
        "r=re.compile(\"ab{2,8}c\")\n",
        "r.search(\"ac\") # 아무런 결과도 출력되지 않는다.\n",
        "r.search(\"abc\") # 아무런 결과도 출력되지 않는다."
      ],
      "execution_count": 17,
      "outputs": []
    },
    {
      "cell_type": "code",
      "metadata": {
        "colab": {
          "base_uri": "https://localhost:8080/"
        },
        "id": "U1xFTFr47bCZ",
        "outputId": "9e9877c6-2018-4952-e2d0-a146315069c6"
      },
      "source": [
        "print(r.search(\"abbc\"))\n",
        "print(r.search(\"abbbbbbbbc\"))"
      ],
      "execution_count": 18,
      "outputs": [
        {
          "output_type": "stream",
          "text": [
            "<re.Match object; span=(0, 4), match='abbc'>\n",
            "<re.Match object; span=(0, 10), match='abbbbbbbbc'>\n"
          ],
          "name": "stdout"
        }
      ]
    },
    {
      "cell_type": "markdown",
      "metadata": {
        "id": "Uci4jq9w7fx0"
      },
      "source": [
        "__{숫자,} 기호__\n",
        "\n",
        "문자에 해당 기호를 붙이면 __해당 문자를 숫자 이상 만큼 반복__합니다. \n",
        "\n",
        "예를 들어서 정규 표현식이 a{2,}bc라면 뒤에 bc가 붙으면서 a의 갯수가 2개 이상인 경우인 문자열과 매치합니다. \n",
        "또한 만약 {0,}을 쓴다면 *와 동일한 의미가 되며, {1,}을 쓴다면 +와 동일한 의미가 됩니다."
      ]
    },
    {
      "cell_type": "code",
      "metadata": {
        "id": "1ev4abKI73rK"
      },
      "source": [
        "import re\n",
        "r=re.compile(\"a{2,}bc\")\n",
        "r.search(\"bc\") # 아무런 결과도 출력되지 않는다.\n",
        "r.search(\"aa\") # 아무런 결과도 출력되지 않는다."
      ],
      "execution_count": 19,
      "outputs": []
    },
    {
      "cell_type": "code",
      "metadata": {
        "colab": {
          "base_uri": "https://localhost:8080/"
        },
        "id": "l0H1ZOnO78LH",
        "outputId": "66b930a6-0b99-4c10-f787-b187f2f3c652"
      },
      "source": [
        "print(r.search(\"aabc\"))\n",
        "print(r.search(\"aaaaaaaabc\"))"
      ],
      "execution_count": 20,
      "outputs": [
        {
          "output_type": "stream",
          "text": [
            "<re.Match object; span=(0, 4), match='aabc'>\n",
            "<re.Match object; span=(0, 10), match='aaaaaaaabc'>\n"
          ],
          "name": "stdout"
        }
      ]
    },
    {
      "cell_type": "markdown",
      "metadata": {
        "id": "rY0vUcSc8Wfu"
      },
      "source": [
        "__[ ] 기호__\n",
        "\n",
        "[ ]안에 문자들을 넣으면 __그 문자들 중 한 개의 문자와 매치라는 의미__를 가집니다. \n",
        "\n",
        "예를 들어서 정규 표현식이 [abc]라면, a 또는 b또는 c가 들어가있는 문자열과 매치됩니다. \n",
        "범위를 지정하는 것도 가능합니다. [a-zA-Z]는 알파벳 전부를 의미하며, [0-9]는 숫자 전부를 의미합니다."
      ]
    },
    {
      "cell_type": "code",
      "metadata": {
        "id": "vzgPeUw38oSq"
      },
      "source": [
        "import re\n",
        "r=re.compile(\"[abc]\") # [abc]는 [a-c]와 같다.\n",
        "r.search(\"zzz\") "
      ],
      "execution_count": 21,
      "outputs": []
    },
    {
      "cell_type": "code",
      "metadata": {
        "colab": {
          "base_uri": "https://localhost:8080/"
        },
        "id": "vOeUrRR78s0v",
        "outputId": "0eb482ca-c0b5-4d00-d836-e2da78aaa440"
      },
      "source": [
        "r.search(\"a\")"
      ],
      "execution_count": 22,
      "outputs": [
        {
          "output_type": "execute_result",
          "data": {
            "text/plain": [
              "<re.Match object; span=(0, 1), match='a'>"
            ]
          },
          "metadata": {
            "tags": []
          },
          "execution_count": 22
        }
      ]
    },
    {
      "cell_type": "code",
      "metadata": {
        "colab": {
          "base_uri": "https://localhost:8080/"
        },
        "id": "nUSXav4K8x_P",
        "outputId": "62b36980-58c3-4f8b-d6e2-67cdf3331838"
      },
      "source": [
        "r.search(\"aaaaaaa\") "
      ],
      "execution_count": 23,
      "outputs": [
        {
          "output_type": "execute_result",
          "data": {
            "text/plain": [
              "<re.Match object; span=(0, 1), match='a'>"
            ]
          },
          "metadata": {
            "tags": []
          },
          "execution_count": 23
        }
      ]
    },
    {
      "cell_type": "code",
      "metadata": {
        "colab": {
          "base_uri": "https://localhost:8080/"
        },
        "id": "PG7NhS6_82aq",
        "outputId": "0f1023bf-f5c0-41ca-8f68-9280b0d5664c"
      },
      "source": [
        "r.search(\"baac\") "
      ],
      "execution_count": 24,
      "outputs": [
        {
          "output_type": "execute_result",
          "data": {
            "text/plain": [
              "<re.Match object; span=(0, 1), match='b'>"
            ]
          },
          "metadata": {
            "tags": []
          },
          "execution_count": 24
        }
      ]
    },
    {
      "cell_type": "code",
      "metadata": {
        "id": "Qb1TMSPt9KGq"
      },
      "source": [
        "import re\n",
        "r=re.compile(\"[a-z]\")\n",
        "r.search(\"AAA\") # 아무런 결과도 출력되지 않는다."
      ],
      "execution_count": 25,
      "outputs": []
    },
    {
      "cell_type": "code",
      "metadata": {
        "colab": {
          "base_uri": "https://localhost:8080/"
        },
        "id": "7F195Sx29Oyq",
        "outputId": "96feb38f-6935-43e2-e30a-2aab3651fa18"
      },
      "source": [
        "r.search(\"aBC\")"
      ],
      "execution_count": 26,
      "outputs": [
        {
          "output_type": "execute_result",
          "data": {
            "text/plain": [
              "<re.Match object; span=(0, 1), match='a'>"
            ]
          },
          "metadata": {
            "tags": []
          },
          "execution_count": 26
        }
      ]
    },
    {
      "cell_type": "code",
      "metadata": {
        "id": "vR2WQRrM9RoX"
      },
      "source": [
        "r.search(\"111\") # 아무런 결과도 출력되지 않는다."
      ],
      "execution_count": 27,
      "outputs": []
    },
    {
      "cell_type": "markdown",
      "metadata": {
        "id": "7lnP7WV69hGx"
      },
      "source": [
        "__[^문자] 기호__\n",
        "\n",
        "[^문자]는 앞에서 ^와는 완전히 다른 의미로 쓰입니다. 여기서는 __^ 기호 뒤에 붙은 문자들을 제외한 모든 문자를 매치__하는 역할을 합니다. \n",
        "\n",
        "예를 들어서 [^abc]라는 정규 표현식이 있다면, a 또는 b 또는 c가 들어간 문자열을 제외한 모든 문자열을 매치합니다."
      ]
    },
    {
      "cell_type": "code",
      "metadata": {
        "id": "T3O2_Z4Q-AMu"
      },
      "source": [
        "import re\n",
        "r=re.compile(\"[^abc]\")\n",
        "r.search(\"a\") # 아무런 결과도 출력되지 않는다.\n",
        "r.search(\"ab\") # 아무런 결과도 출력되지 않는다.\n",
        "r.search(\"b\") # 아무런 결과도 출력되지 않는다."
      ],
      "execution_count": 28,
      "outputs": []
    },
    {
      "cell_type": "code",
      "metadata": {
        "colab": {
          "base_uri": "https://localhost:8080/"
        },
        "id": "xmYI4Fx7-GQE",
        "outputId": "1acef89c-daa0-4ac8-9b71-a7bd9fa05596"
      },
      "source": [
        "r.search(\"desk\")"
      ],
      "execution_count": 29,
      "outputs": [
        {
          "output_type": "execute_result",
          "data": {
            "text/plain": [
              "<re.Match object; span=(0, 1), match='d'>"
            ]
          },
          "metadata": {
            "tags": []
          },
          "execution_count": 29
        }
      ]
    },
    {
      "cell_type": "code",
      "metadata": {
        "colab": {
          "base_uri": "https://localhost:8080/"
        },
        "id": "6dnpO0Ta-IGn",
        "outputId": "bc9f33cf-0112-4cef-b793-88940f47c7ec"
      },
      "source": [
        "r.search(\"12345\")   "
      ],
      "execution_count": 30,
      "outputs": [
        {
          "output_type": "execute_result",
          "data": {
            "text/plain": [
              "<re.Match object; span=(0, 1), match='1'>"
            ]
          },
          "metadata": {
            "tags": []
          },
          "execution_count": 30
        }
      ]
    },
    {
      "cell_type": "markdown",
      "metadata": {
        "id": "kH5ZoQIO-ftk"
      },
      "source": [
        "**re.match() 와 re.search()의 차이**\n",
        "\n",
        "__search()가 정규 표현식 전체에 대해서 문자열이 매치__하는지를 본다면, __match()는 문자열의 첫 부분부터 정규 표현식과 매치하는지를 확인__합니다. \n",
        "\n",
        "문자열 중간에 찾을 패턴이 있다고 하더라도, match 함수는 문자열의 시작에서 패턴이 일치하지 않으면 찾지 않습니다."
      ]
    },
    {
      "cell_type": "code",
      "metadata": {
        "id": "_UL2ymoh_SGT"
      },
      "source": [
        "import re\n",
        "r=re.compile(\"ab.\")"
      ],
      "execution_count": 31,
      "outputs": []
    },
    {
      "cell_type": "code",
      "metadata": {
        "colab": {
          "base_uri": "https://localhost:8080/"
        },
        "id": "pf1dsc9e_V8V",
        "outputId": "eac4505c-e2fe-4380-8b3f-03fd9ee70caf"
      },
      "source": [
        "r.search(\"kkkabc\")  "
      ],
      "execution_count": 32,
      "outputs": [
        {
          "output_type": "execute_result",
          "data": {
            "text/plain": [
              "<re.Match object; span=(3, 6), match='abc'>"
            ]
          },
          "metadata": {
            "tags": []
          },
          "execution_count": 32
        }
      ]
    },
    {
      "cell_type": "code",
      "metadata": {
        "id": "SqqsXsM0_dUJ"
      },
      "source": [
        "r.match(\"kkkabc\")  #아무런 결과도 출력되지 않는다."
      ],
      "execution_count": 33,
      "outputs": []
    },
    {
      "cell_type": "code",
      "metadata": {
        "colab": {
          "base_uri": "https://localhost:8080/"
        },
        "id": "Xl45No4d_eRU",
        "outputId": "4c2e2c61-6dca-4712-f095-f9ada723375d"
      },
      "source": [
        "r.match(\"abckkk\")  "
      ],
      "execution_count": 34,
      "outputs": [
        {
          "output_type": "execute_result",
          "data": {
            "text/plain": [
              "<re.Match object; span=(0, 3), match='abc'>"
            ]
          },
          "metadata": {
            "tags": []
          },
          "execution_count": 34
        }
      ]
    },
    {
      "cell_type": "markdown",
      "metadata": {
        "id": "q_mBK4w-EUPv"
      },
      "source": [
        "**re.split()**\n",
        "\n",
        "split() 함수는 입력된 정규 표현식을 기준으로 문자열들을 분리하여 리스트로 리턴합니다. \n",
        "\n",
        "자연어 처리에 있어서 가장 많이 사용되는 정규 표현식 함수 중 하나인데, 토큰화에 유용하게 쓰일 수 있기 때문입니다."
      ]
    },
    {
      "cell_type": "code",
      "metadata": {
        "colab": {
          "base_uri": "https://localhost:8080/"
        },
        "id": "C4Z7fK7hEgSC",
        "outputId": "9d2b5194-343a-41a2-afed-16cfbfcf0547"
      },
      "source": [
        "import re\n",
        "text=\"사과 딸기 수박 메론 바나나\"\n",
        "re.split(\" \",text)"
      ],
      "execution_count": 35,
      "outputs": [
        {
          "output_type": "execute_result",
          "data": {
            "text/plain": [
              "['사과', '딸기', '수박', '메론', '바나나']"
            ]
          },
          "metadata": {
            "tags": []
          },
          "execution_count": 35
        }
      ]
    },
    {
      "cell_type": "markdown",
      "metadata": {
        "id": "LgLFrb1REm3v"
      },
      "source": [
        "위의 예제의 경우 입력 텍스트로부터 공백을 기준으로 문자열 분리를 수행하였고, 결과로서 리스트를 리턴하는 모습을 볼 수 있습니다."
      ]
    },
    {
      "cell_type": "code",
      "metadata": {
        "colab": {
          "base_uri": "https://localhost:8080/"
        },
        "id": "dG9uVITjEqHp",
        "outputId": "b0efbfd8-e0c4-481c-824e-b33ed76d3fa6"
      },
      "source": [
        "import re\n",
        "text=\"\"\"사과\n",
        "딸기\n",
        "수박\n",
        "메론\n",
        "바나나\"\"\"\n",
        "re.split(\"\\n\",text)"
      ],
      "execution_count": 36,
      "outputs": [
        {
          "output_type": "execute_result",
          "data": {
            "text/plain": [
              "['사과', '딸기', '수박', '메론', '바나나']"
            ]
          },
          "metadata": {
            "tags": []
          },
          "execution_count": 36
        }
      ]
    },
    {
      "cell_type": "code",
      "metadata": {
        "colab": {
          "base_uri": "https://localhost:8080/"
        },
        "id": "JvNbV6T_Gv36",
        "outputId": "5a2cebeb-627a-4612-b452-4cb5d9dcebd8"
      },
      "source": [
        "# python triple quote 사용 예제: multi-line format\n",
        "\n",
        "s = '''name={0},\n",
        "address={1},\n",
        "nickname={2},\n",
        "age={3},\n",
        "comments=\n",
        "\"\"\"\n",
        "{4}\n",
        "\"\"\"\n",
        "'''\n",
        "print(s.format(\"alice\", \"N/A\", \"alice\", 18, \"missing person\"))"
      ],
      "execution_count": 37,
      "outputs": [
        {
          "output_type": "stream",
          "text": [
            "name=alice,\n",
            "address=N/A,\n",
            "nickname=alice,\n",
            "age=18,\n",
            "comments=\n",
            "\"\"\"\n",
            "missing person\n",
            "\"\"\"\n",
            "\n"
          ],
          "name": "stdout"
        }
      ]
    },
    {
      "cell_type": "code",
      "metadata": {
        "colab": {
          "base_uri": "https://localhost:8080/"
        },
        "id": "FarFZ-5LF1Bz",
        "outputId": "36178745-f550-4ee3-e6ba-1843701e4a0f"
      },
      "source": [
        "import re\n",
        "text=\"사과++++딸기+++수박++메론+바나나\"\n",
        "re.split(\"\\+\",text)\n",
        "['사과', '딸기', '수박', '메론', '바나나']  "
      ],
      "execution_count": 38,
      "outputs": [
        {
          "output_type": "execute_result",
          "data": {
            "text/plain": [
              "['사과', '딸기', '수박', '메론', '바나나']"
            ]
          },
          "metadata": {
            "tags": []
          },
          "execution_count": 38
        }
      ]
    },
    {
      "cell_type": "markdown",
      "metadata": {
        "id": "rX-58ND_MgS6"
      },
      "source": [
        "##  역 슬래쉬(\\)를 이용한 문자규칙\n",
        "\n",
        "\n",
        "|문자 규칙|\t설명|\n",
        "|---|---|\n",
        "|\\\t|역 슬래쉬 문자 자체를 의미합니다|\n",
        "|\\d\t|모든 숫자를 의미합니다. [0-9]와 의미가 동일합니다.|\n",
        "|\\D\t|숫자를 제외한 모든 문자를 의미합니다. [^0-9]와 의미가 동일합니다.|\n",
        "|\\s\t|공백을 의미합니다. [ \\t\\n\\r\\f\\v]와 의미가 동일합니다.|\n",
        "|\\S\t|공백을 제외한 문자를 의미합니다. [^ \\t\\n\\r\\f\\v]와 의미가 동일합니다.|\n",
        "|\\w\t|문자 또는 숫자를 의미합니다. [a-zA-Z0-9]와 의미가 동일합니다.|\n",
        "|\\W\t|문자 또는 숫자가 아닌 문자를 의미합니다. [^a-zA-Z0-9]와 의미가동일합니다.|"
      ]
    },
    {
      "cell_type": "markdown",
      "metadata": {
        "id": "aXwZWJoaHe_B"
      },
      "source": [
        "__re.findall()__\n",
        "\n",
        "findall() 함수는 정규 표현식과 매치되는 모든 문자열들을 리스트로 리턴합니다. 단, 매치되는 문자열이 없다면 빈 리스트를 리턴합니다."
      ]
    },
    {
      "cell_type": "code",
      "metadata": {
        "colab": {
          "base_uri": "https://localhost:8080/"
        },
        "id": "0Wp4XA-7HulJ",
        "outputId": "e5d4e20b-dc19-43ec-ef15-ccd09589d0be"
      },
      "source": [
        "import re\n",
        "text=\"\"\"이름 : 김철수\n",
        "전화번호 : 010 - 1234 - 1234\n",
        "나이 : 30\n",
        "성별 : 남\"\"\"  \n",
        "re.findall(\"\\d+\",text) # 전체 텍스트로부터 숫자만 찾아내서 리스트로 리턴"
      ],
      "execution_count": 39,
      "outputs": [
        {
          "output_type": "execute_result",
          "data": {
            "text/plain": [
              "['010', '1234', '1234', '30']"
            ]
          },
          "metadata": {
            "tags": []
          },
          "execution_count": 39
        }
      ]
    },
    {
      "cell_type": "code",
      "metadata": {
        "colab": {
          "base_uri": "https://localhost:8080/"
        },
        "id": "yYRG3e7BJ_4w",
        "outputId": "d0fe0b85-3929-40e8-ab97-84a384cbe113"
      },
      "source": [
        "re.findall(\"\\D+\",text) # 전체 텍스트로부터 숫자가 아닌 것만 찾아내서 리스트로 리턴"
      ],
      "execution_count": 40,
      "outputs": [
        {
          "output_type": "execute_result",
          "data": {
            "text/plain": [
              "['이름 : 김철수\\n전화번호 : ', ' - ', ' - ', '\\n나이 : ', '\\n성별 : 남']"
            ]
          },
          "metadata": {
            "tags": []
          },
          "execution_count": 40
        }
      ]
    },
    {
      "cell_type": "code",
      "metadata": {
        "colab": {
          "base_uri": "https://localhost:8080/"
        },
        "id": "B5WT_vDUNAmP",
        "outputId": "f050a64b-d26f-4275-b9fb-5503305730b2"
      },
      "source": [
        "re.findall(\"\\W+\",text) # # 전체 텍스트로부터 문자와 숫자가 아닌 것만 찾아내서 리스트로 리턴"
      ],
      "execution_count": 41,
      "outputs": [
        {
          "output_type": "execute_result",
          "data": {
            "text/plain": [
              "[' : ', '\\n', ' : ', ' - ', ' - ', '\\n', ' : ', '\\n', ' : ']"
            ]
          },
          "metadata": {
            "tags": []
          },
          "execution_count": 41
        }
      ]
    },
    {
      "cell_type": "markdown",
      "metadata": {
        "id": "e5alm3k_ID4u"
      },
      "source": [
        "__re.sub()__\n",
        "\n",
        "sub() 함수는 정규 표현식 패턴과 일치하는 문자열을 찾아 다른 문자열로 대체할 수 있습니다."
      ]
    },
    {
      "cell_type": "code",
      "metadata": {
        "colab": {
          "base_uri": "https://localhost:8080/"
        },
        "id": "Pfc4nCdmMyKq",
        "outputId": "8de315e7-6a2f-4134-a079-e51ed7e979ed"
      },
      "source": [
        "print(re.sub(\"\\W+^{\\n}\",'',text)) # newline을 제외하고 문자와 숫자가 아닌 것만 찾아내서 삭제."
      ],
      "execution_count": 42,
      "outputs": [
        {
          "output_type": "stream",
          "text": [
            "이름 : 김철수\n",
            "전화번호 : 010 - 1234 - 1234\n",
            "나이 : 30\n",
            "성별 : 남\n"
          ],
          "name": "stdout"
        }
      ]
    },
    {
      "cell_type": "code",
      "metadata": {
        "colab": {
          "base_uri": "https://localhost:8080/",
          "height": 55
        },
        "id": "ShYX4YASIIU_",
        "outputId": "2753419e-4d3a-4eab-96fc-d8b95ad20088"
      },
      "source": [
        "text=\"\"\"Regular expression : A regular expression, regex or regexp[1] (sometimes called a rational expression)[2][3] is, in theoretical computer science and formal language theory, a sequence of characters that define a search pattern.\"\"\"\n",
        "re.sub('[^a-zA-Z]',' ',text)"
      ],
      "execution_count": 43,
      "outputs": [
        {
          "output_type": "execute_result",
          "data": {
            "application/vnd.google.colaboratory.intrinsic+json": {
              "type": "string"
            },
            "text/plain": [
              "'Regular expression   A regular expression  regex or regexp     sometimes called a rational expression        is  in theoretical computer science and formal language theory  a sequence of characters that define a search pattern '"
            ]
          },
          "metadata": {
            "tags": []
          },
          "execution_count": 43
        }
      ]
    },
    {
      "cell_type": "markdown",
      "metadata": {
        "id": "JrvAlqyNrsRm"
      },
      "source": [
        "## 정규 표현식 텍스트 전처리 예제"
      ]
    },
    {
      "cell_type": "code",
      "metadata": {
        "colab": {
          "base_uri": "https://localhost:8080/"
        },
        "id": "VfNA6_iBBKrJ",
        "outputId": "450c6a25-9b7e-4897-a272-72f5106ef603"
      },
      "source": [
        "import re  \n",
        "\n",
        "text = \"\"\"100 John    PROF\n",
        "101 James   STUD\n",
        "102 Mac   STUD\"\"\"  \n",
        "\n",
        "print(re.split('\\s+', text)) # '\\s+'는 공백을 찾아내는 정규표현식입니다. 뒤에 붙는 +는 최소 1개 이상의 패턴을 찾아낸다는 의미입니다. \n",
        "print(text)"
      ],
      "execution_count": 47,
      "outputs": [
        {
          "output_type": "stream",
          "text": [
            "['100', 'John', 'PROF', '101', 'James', 'STUD', '102', 'Mac', 'STUD']\n",
            "100 John    PROF\n",
            "101 James   STUD\n",
            "102 Mac   STUD\n"
          ],
          "name": "stdout"
        }
      ]
    },
    {
      "cell_type": "code",
      "metadata": {
        "colab": {
          "base_uri": "https://localhost:8080/"
        },
        "id": "CT_I2PswBQf4",
        "outputId": "8bb51d6c-ef59-4d3a-d7a2-bef37ddcd18c"
      },
      "source": [
        "# 이제 해당 데이터로부터 숫자만을 뽑아온다고 해봅시다.\n",
        "\n",
        "re.findall('\\d+',text)  "
      ],
      "execution_count": 48,
      "outputs": [
        {
          "output_type": "execute_result",
          "data": {
            "text/plain": [
              "['100', '101', '102']"
            ]
          },
          "metadata": {
            "tags": []
          },
          "execution_count": 48
        }
      ]
    },
    {
      "cell_type": "code",
      "metadata": {
        "colab": {
          "base_uri": "https://localhost:8080/"
        },
        "id": "WdNzGNT5CAGP",
        "outputId": "47920783-fef2-4b3b-f118-678abf4ad095"
      },
      "source": [
        "# 이번에는 텍스트로부터 대문자인 행의 값만 가져오고 싶다고 합시다. \n",
        "\n",
        "re.findall('[A-Z]',text)"
      ],
      "execution_count": 49,
      "outputs": [
        {
          "output_type": "execute_result",
          "data": {
            "text/plain": [
              "['J', 'P', 'R', 'O', 'F', 'J', 'S', 'T', 'U', 'D', 'M', 'S', 'T', 'U', 'D']"
            ]
          },
          "metadata": {
            "tags": []
          },
          "execution_count": 49
        }
      ]
    },
    {
      "cell_type": "code",
      "metadata": {
        "colab": {
          "base_uri": "https://localhost:8080/"
        },
        "id": "NmgrNJ8BCN6z",
        "outputId": "fe66102d-36b4-43f7-f6c4-c26bb44ff565"
      },
      "source": [
        "# 이는 우리가 원하는 결과가 아닙니다. 이 경우, 여러가지 방법이 있겠지만 대문자가 연속적으로 4번 등장하는 경우로 조건을 추가해봅시다.\n",
        "\n",
        "re.findall('[A-Z]{4}',text)  "
      ],
      "execution_count": 50,
      "outputs": [
        {
          "output_type": "execute_result",
          "data": {
            "text/plain": [
              "['PROF', 'STUD', 'STUD']"
            ]
          },
          "metadata": {
            "tags": []
          },
          "execution_count": 50
        }
      ]
    },
    {
      "cell_type": "code",
      "metadata": {
        "colab": {
          "base_uri": "https://localhost:8080/"
        },
        "id": "bxDRGVWLCaiB",
        "outputId": "7b10afbd-4fb7-4f02-8015-b0c1739eb3a8"
      },
      "source": [
        "# 이름의 경우에는 대문자와 소문자가 섞여있는 상황입니다.  모든 이름을 매치시켜 봅시다.\n",
        "\n",
        "re.findall('[A-Z][a-z]+',text)"
      ],
      "execution_count": 51,
      "outputs": [
        {
          "output_type": "execute_result",
          "data": {
            "text/plain": [
              "['John', 'James', 'Mac']"
            ]
          },
          "metadata": {
            "tags": []
          },
          "execution_count": 51
        }
      ]
    },
    {
      "cell_type": "markdown",
      "metadata": {
        "id": "ziC49WoXCz7t"
      },
      "source": [
        "## 정규 표현식을 이용한 토큰화\n",
        "\n",
        "NLTK에서는 정규 표현식을 사용해서 단어 토큰화를 수행하는 RegexpTokenizer를 지원합니다. RegexpTokenizer()에서 괄호 안에 원하는 정규 표현식을 넣어서 토큰화를 수행하는 것입니다."
      ]
    },
    {
      "cell_type": "code",
      "metadata": {
        "colab": {
          "base_uri": "https://localhost:8080/"
        },
        "id": "nPtAZYJdDFo6",
        "outputId": "728c6355-0cc5-4358-b2c2-7c2dd3b1728e"
      },
      "source": [
        "import nltk\n",
        "from nltk.tokenize import RegexpTokenizer\n",
        "tokenizer=RegexpTokenizer(\"\\w+\") # \\+는 문자 또는 숫자가 1개 이상인 경우를 인식하는 코드입니다. \n",
        "                                   # 그렇기 때문에 이 코드는 문장에서 구두점을 제외하고, 단어들만을 가지고 토큰화를 수행\n",
        "print(tokenizer.tokenize(\"Don't be fooled by the dark sounding name, Mr. Jone's Orphanage is as cheery as cheery goes for a pastry shop\"))"
      ],
      "execution_count": 53,
      "outputs": [
        {
          "output_type": "stream",
          "text": [
            "['Don', 't', 'be', 'fooled', 'by', 'the', 'dark', 'sounding', 'name', 'Mr', 'Jone', 's', 'Orphanage', 'is', 'as', 'cheery', 'as', 'cheery', 'goes', 'for', 'a', 'pastry', 'shop']\n"
          ],
          "name": "stdout"
        }
      ]
    },
    {
      "cell_type": "code",
      "metadata": {
        "colab": {
          "base_uri": "https://localhost:8080/"
        },
        "id": "MrQkJMz3DIxO",
        "outputId": "2f96a5d4-81fc-4b43-b5b9-d86c96f953f4"
      },
      "source": [
        "import nltk\n",
        "from nltk.tokenize import RegexpTokenizer\n",
        "tokenizer=RegexpTokenizer(\"\\s+\", gaps=True) # gaps=true는 해당 정규 표현식을 토큰으로 나누기 위한 기준으로 사용한다는 의미\n",
        "print(tokenizer.tokenize(\"Don't be fooled by the dark sounding name, Mr. Jone's Orphanage is as cheery as cheery goes for a pastry shop\"))"
      ],
      "execution_count": 55,
      "outputs": [
        {
          "output_type": "stream",
          "text": [
            "[\"Don't\", 'be', 'fooled', 'by', 'the', 'dark', 'sounding', 'name,', 'Mr.', \"Jone's\", 'Orphanage', 'is', 'as', 'cheery', 'as', 'cheery', 'goes', 'for', 'a', 'pastry', 'shop']\n"
          ],
          "name": "stdout"
        }
      ]
    }
  ]
}