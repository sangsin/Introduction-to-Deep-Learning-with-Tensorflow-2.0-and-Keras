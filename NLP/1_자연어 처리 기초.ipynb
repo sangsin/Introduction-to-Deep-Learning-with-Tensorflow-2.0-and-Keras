{
  "nbformat": 4,
  "nbformat_minor": 0,
  "metadata": {
    "colab": {
      "name": "1. 자연어 처리 기초.ipynb",
      "provenance": [],
      "collapsed_sections": [],
      "toc_visible": true
    },
    "kernelspec": {
      "name": "python3",
      "display_name": "Python 3"
    },
    "language_info": {
      "name": "python"
    },
    "accelerator": "GPU"
  },
  "cells": [
    {
      "cell_type": "markdown",
      "metadata": {
        "id": "jTa73sZb-vG1"
      },
      "source": [
        "# 자연어 처리(Natural Language Processing) 이해"
      ]
    },
    {
      "cell_type": "markdown",
      "metadata": {
        "id": "gW6Jb6Uf2olM"
      },
      "source": [
        "## 자연어처리란\n",
        "\n",
        "  - 자연어: 사람들의 사회생활에서 자연스럽게 발생하여 쓰이는 언어\n",
        "    -\t컴퓨터 프로그래밍 언어와 같은 인공언어와 대비\n",
        "\n",
        "  - 자연어 처리\n",
        "    -\t사람들이 사용하는 자연어를 컴퓨터를 이용하여 이해하고 생성하도록 하는 제반의 연구\n",
        "\n",
        "<br>\n",
        "\n",
        "<image src='https://i0.wp.com/algorithmxlab.com/wp-content/uploads/2019/12/What-is-Natural-Language-Processing.png?w=1000&ssl=1'>\n",
        "\n",
        "<image src='https://devopedia.org/images/article/187/4949.1560446213.png'>\n",
        "\n",
        "<br>\n",
        "\n",
        "<img src='https://ruder.io/content/images/size/w2000/2018/10/neural_history_of_nlp_image.png'>"
      ]
    },
    {
      "cell_type": "markdown",
      "metadata": {
        "id": "RKHMTmYCLSYV"
      },
      "source": [
        "\n",
        "<br>\n",
        "\n",
        "###양방향 대화(Dialogue System)의 NLP 구조\n",
        "\n",
        "  - ASR(Automatic Speech Recognition, STT), NLP, TTS(Text to Speech)\n",
        "\n",
        "<img src= 'https://static.wixstatic.com/media/c1b833_fbac2dd70af24382a2b0d7ab3ec6b9a1~mv2.png/v1/fill/w_983,h_428,al_c,q_95/c1b833_fbac2dd70af24382a2b0d7ab3ec6b9a1~mv2.webp'>\n",
        "\n",
        "<br>\n",
        "\n",
        "  - NLU(Natural Language Understanding) vs NLG(Natural Language Generation)\n",
        "<br>\n",
        "<br>\n",
        "\n",
        "<img src='https://www.researchgate.net/profile/Iona-Gessinger/publication/327205119/figure/fig1/AS:670601752625162@1536895325508/The-architecture-of-the-dialogue-system-component-The-ASP-module-dashed-line-between.png'>\n",
        "\n",
        "<br>\n",
        "<br>\n",
        "\n",
        "  - ASR→NLP→NLU→NLG→TTS\n",
        "\n",
        "\n",
        "\n"
      ]
    },
    {
      "cell_type": "markdown",
      "metadata": {
        "id": "kRIrzZvLLa7U"
      },
      "source": [
        "## NLP 응용분야\n",
        "\n",
        "<img src='https://i2.wp.com/www.opinosis-analytics.com/wp-content/uploads/2021/05/NLP-application-areas.png?resize=1000%2C461&ssl=1'>\n",
        "\n",
        "<image src='https://www.oreilly.com/library/view/practical-natural-language/9781492054047/assets/pnlp_0101.png'>\n",
        "\n"
      ]
    },
    {
      "cell_type": "markdown",
      "metadata": {
        "id": "AYrek3yZVkMy"
      },
      "source": [
        "# 자연어처리(NLP)가 한국어에서 특히 어려운 4가지 이유\n",
        "\n",
        "0.모호성(Ambiguity)\n",
        "\n",
        "  - 표현의 중의성\n",
        "\n",
        "  <img src=\"https://media.fastcampus.co.kr/wp-content/uploads/2021/02/nlp_img_5.png\">\n",
        "\n",
        "  - 문장 내 정보 부족\n",
        "\n",
        "  <img src=\"https://media.fastcampus.co.kr/wp-content/uploads/2021/02/nlp_img_6.png\">\n",
        "\n",
        "  - 같은 정보를 다르게 표현하기(Paraphrase)\n",
        "\n",
        "  <img src=\"https://media.fastcampus.co.kr/wp-content/uploads/2021/02/nlp_img_1-1030x539.png\">\n",
        "\n",
        "  ````\n",
        "      문장 1\t여자가 김치를 어떤 남자에게 집어 던지고 있다.\n",
        "      문장 2\t여자가 어떤 남자에게 김치로 때리고 있다.\n",
        "      문장 3\t여자가 김치로 싸대기를 날리고 있다.\n",
        "      문장 4\t여자가 배추 김치 한 포기로 남자를 때리고 있다.\n",
        "  ````\n",
        "\n",
        "**왜 ‘한국어’ 자연어 처리는 유독 어려울까?**\n",
        "\n",
        "  이는 각 나라별 언어가 가지고 있는 특징이 다르기 때문인데요. 한국어는 어간에 접사가 붙어 의미와 문법적 기능이 변화하는 ‘교착어’에 속합니다.\n",
        "\n",
        "\n",
        "| |\t대표 언어\t| 특징 |\n",
        "| --- | --- | --- |\n",
        "|교착어|\t한국어, 일본어, 몽골어|\t어간에 접사가 붙어, 단어를 이루고 의미와 문법적 기능이 정해짐|\n",
        "|굴절어|\t라틴어, 독일어, 러시아어 | 단어의 형태가 변함으로써 문법적 기능이 정해짐|\n",
        "|고립어|\t영어, 중국어 |\t어순에 따라 단어의 문법적 기능이 정해짐 |\n",
        "\n",
        "1.접사 추가에 따른 의미 발생\n",
        "```\n",
        "   사과(어간)’ + ‘를(접사)’일 때는 ‘사과’가 목적어가 되지만, ‘사과(어간)’ + ‘가(접사)’일 때는 \n",
        "   '사과’가 주어가 되어 같은 언어도 문법적 기능이 달라지는 걸 알 수 있습니다.\n",
        "   ```\n",
        "\n",
        "    ```\n",
        "      원형    피동    높임     과거   추측   전달           결과    \n",
        "\n",
        "      잡                                         +다        잡다\n",
        "      잡      +히                                +다        잡히다\n",
        "      잡      +히      +시                       +다        잡히시다\n",
        "      잡      +히      +시     +었               +다        잡히셨다\n",
        "      잡                       +았(었)           +다        잡았다\n",
        "      잡                               +겠       +다        잡겠다\n",
        "      잡                                         +더라      잡더라\n",
        "      잡      +히              +었               +다        잡혔다\n",
        "      잡      +히              +었     +겠       +다        잡혔겠다\n",
        "      잡      +히              +었     +겠       +더라      잡혔겠더라\n",
        "      잡                       +았(었) +겠       +다        잡았겠다\n",
        "      잡      +히      +시     +았(었) +겠       +더라      잡히시었겠더라\n",
        "    ```     \n",
        "\n",
        "2.유연한 단어 순서: 한국어는 단어의 순서를 바꾸어도 맥락을 이해하는데 문제가 없습니다\n",
        "  \n",
        "    ```\n",
        "      1.       나는 밥을 먹으러 간다.     O\n",
        "      2.       간다 나는 밥을 먹으러.     0\n",
        "      3.       먹으러 간다 나는 밥을.     O\n",
        "      4.       밥을 먹으러 간다 나는.     O\n",
        "      5.       나는 먹으러 간다 밥을.     O\n",
        "      6.       나는 간다 밥을 먹으러.     O\n",
        "      7.       간다 밥을 먹으러 나는.     O\n",
        "      8.       간다 먹으러 나는 밥을.     O\n",
        "      9.       먹으러 나는 밥을 간다.     X\n",
        "     10.       먹으러 밥을 간다 나는.     X\n",
        "     11.       밥을 간다 나는 먹으러.     X\n",
        "     12.       밥을 나는 먹으러 간다.     O\n",
        "     13.       나는 밥을 간다 먹으러.     X\n",
        "     14.       간다 나는 먹으러 밥을.     O\n",
        "     15.       먹으러 간다 밥을 나는.     O\n",
        "     16.       밥을 먹으러 나는 간다.     O\n",
        "    ```\n",
        "\n",
        "3.모호한 띄어쓰기 규칙: \n",
        "\n",
        "  ```\n",
        "근대 이전까지 동양의 언어에는 ‘띄어쓰기’ 개념이 존재하지 않았습니다.  \n",
        "한국어는 맞춤법 상 띄어쓰기 규칙이 정해져 있기는 하나, 띄어쓰기를 지키지 \n",
        "않아도 문장의 맥락을 이해하는데 큰 무리가 없는 언어입니다. 문제는 사람들이 \n",
        "띄어쓰기를 지키지 않고 뭉텅이로 작성한 텍스트를 컴퓨터가 정확하게 인식하는\n",
        "것이 어렵다는 점입니다.\n",
        "\n",
        "  ```\n",
        "\n",
        "4.평서문과 의문문의 차이 없음, 주어 부재\n",
        "  \n",
        "  ```\n",
        "     영어:   I had lunch. vs  Did you have lunch? \n",
        "     한국어: 점심 먹었어. vs\t점심 먹었어?\n",
        "  ```\n",
        "\n",
        "\n",
        "\n",
        "\n",
        "\n",
        "\n"
      ]
    },
    {
      "cell_type": "markdown",
      "metadata": {
        "id": "EdbqmN1e9c_U"
      },
      "source": [
        "## 한국어 문법 짚고 넘어가기\n",
        "\n",
        "한국어 NLP 를 위하여 한국어 문법에 대해 조금 더 자세히 알아보도록 한다.\n",
        "<BR>\n",
        "<BR>\n",
        "\n",
        "### 한국어의 상,하 개념\n",
        "\n",
        "  >\n",
        "  > 문단 > 문장 > 구절(구,절) > 어절 > 단어 > 형태소 > 음절 > 음운(음소,운소)\n",
        "  >\n",
        "\n",
        "<BR>\n",
        "1. 음운\n",
        "    \n",
        "    말의 뜻을 구별해 주는 소리의 가장 작은 단위. 음운 = 음소 + 운소\n",
        "\n",
        "  - 음소: 더 이상 작게 나눌 수 없는 음운론상의 최소 단위\n",
        "      - 국어의 자음, 모음\n",
        "  - 운소: 단어의 의미를 분화하는 데 관여하는 음소 이외의 운율적 특징\n",
        "      - 음의 높낮이, 길이, 세기\n",
        "\n",
        "  - 자소(字素,,Grapheme)와 음소(音素,Phoneme)\n",
        "      - 자소 : 글자 상의 분절표기 요소\n",
        "      - 음소 : 발음 상의 분절음 요소\n",
        "      ```\n",
        "          예: 국물 : ㄱㅜㄱㅁㅜㄹ\n",
        "              발음 상으로는 ㄱㅜㅇㅁㅜㄹ\n",
        "              자소 'ㄱ'은 음소 'ㄱ', 'ㅇ'와 대응\n",
        "      ```\n",
        "      - 자소와 음소는 일치하지 않는 경우가 많음\n",
        "        - 경음화: 예사소리가 된소리로 바뀌는 현상\n",
        "        ```\n",
        "          예: 등불 [등뿔]\n",
        "        ```\n",
        "        - 격음화: 무기음 ㄱ,ㄷ,ㅂ,ㅈ 등이 (앞뒤의)ㅎ을 만나서 ㅋ,ㅌ,ㅍ,ㅊ (격음) 등이 되는 현상\n",
        "          ```\n",
        "          예: 악하다 [아카다], \n",
        "              박해 [바캐]\n",
        "              좋다 [조타]\n",
        "              쌓다 [싸타]\n",
        "              빻다 [빠타]\n",
        "          ```    \n",
        "        - 자음접변: 음절의 끝 자음이 다음에 오는 자음과 충돌하여 발음이 센쪽으로 바뀌거나 아니면 둘다 바뀌거나 하는 현상\n",
        "          ```\n",
        "          예: 밥물[밤물]\n",
        "              종로[종노] \n",
        "              신라[실라] \n",
        "              담력[담녁] \n",
        "              침략[침냑]\n",
        "              섭리[섬니]\n",
        "          ```\n",
        "        - 구개음화: 끝소리가 ㄷ,ㅌ인 형태소가 모음 ㅣ로 시작하는 형식 형태소와 만나면 그 ㄷ,ㅌ이 구개음(입천장소리)ㅈ,ㅊ이 되는현상\n",
        "          ```\n",
        "          예: 같이 [가치]\n",
        "              걷히다 [거치다]\n",
        "              굳이 [구지]\n",
        "              미닫이 [미다지]\n",
        "          ```\n",
        "<BR>\n",
        "\n",
        "2. 음절\n",
        "\n",
        "  하나의 종합된 음의 느낌을 주는 말소리의 단위\n",
        "  \n",
        "  몇 개의 음소로 이루어지며, 모음은 단독으로 한 음절이 되기도 함\n",
        "\n",
        "<BR>\n",
        "\n",
        "3. 형태소(Morpheme)\n",
        "\n",
        "  의미를 가지고 있는 문법 요소 중 가장 작은 단위. 더 나누면 뜻을 잃는다.\n",
        "\n",
        "  <img src='https://user-images.githubusercontent.com/13168096/52760340-834fb000-3052-11e9-9946-18740451abe8.png'>\n",
        "\n",
        "\n",
        "\n",
        "  - 자립 형태소\n",
        "\n",
        "    다른 형태소의 도움을 받지 않고 자유롭게 단어 형성에 참여할 수 있는 형태소\n",
        "    ```\n",
        "    사람만이 쌀밥을 먹었다. =>  사람, 쌀, 밥\n",
        "    ```\n",
        "<BR>\n",
        "  - 의존형태소\n",
        "\n",
        "    그 자체로 자립성이 없고 다른 형태소에 의존해야만 쓰일 수 있는 형태소\n",
        "    ```\n",
        "    사람만이 쌀밥을 먹었다. => 만, 이, 을, 먹, 었, 다\n",
        "    ```\n",
        "<BR>\n",
        "  - 실질형태소\n",
        "\n",
        "    구체적인 대상이나 동작, 상태와 같은 어휘적 의미를 표시하는 형태소\n",
        "    ```\n",
        "    사람만이 쌀밥을 먹었다. => 사람, 쌀, 밥, 먹- (용언의 어간은 실질 형태소)    \n",
        "   ```\n",
        "\n",
        "    - 합성어\n",
        "      - 실질형태소 + 실질형태소\n",
        "        ```\n",
        "        예: 고무신(합성 명사), 곧잘(합성 부사), 재미있다(합성 형용사), 힘들다(합성 동사)\n",
        "        ```\n",
        "    - 파생어\n",
        "      - 실질형태소 + 실질형태소\n",
        "        ```\n",
        "        예: 떨리다(동사+접미사), 짓밟다(동사+접두사)\n",
        "         위반하다에서 -하다, -되다 는 접미사.\n",
        "        ```\n",
        "<BR>\n",
        "\n",
        "  - 형식형태소\n",
        "\n",
        "    실질 형태소에 붙는 조사·어미, 접사(Affix) 따위와 같이, 말과 말 사이의 문법적 관계를 나타내는 형태소. 문법 형태소\n",
        "\n",
        "    ```\n",
        "    사람만이 쌀밥을 먹었다. =>  만, 이, 을, 었, 다\n",
        "    ```\n",
        "\n",
        "  - 어근/어간/어미\n",
        "      - 어근(Root) : 단어를 분석할 때, 실질적 의미를 나타내는 중심이 되는 부분\n",
        "\n",
        "        - 조사를 제외한 다른 모든 품사들이 해당된다\n",
        "        - 명사, 대명사, 수사(하나, 둘), 부사(두근, 깡충), 관형사(새, 헌, 첫), 감탄사\n",
        "      - 어간(Stem) : 용언이 활용될 때 변하지 않는 부분\n",
        "\n",
        "        - 동사, 형용사, 서술격 조사에서 나타난다.\n",
        "      - 어미(Ending) : 용언 및 서술격 조사가 활용하여 변하는 부분\n",
        "\n",
        "        - 용언이 활용될 때 변하는 부분은 어미, 변하지 않는 부분은 어간으로 이해\n",
        "          ```\n",
        "           예: 멋지'다', 멋지'고', 멋지'니', 멋지'어서', 멋지'ㄴ'\n",
        "          ```\n",
        "\n",
        "\n",
        "    \n",
        "  \n",
        "4. 단어(Word)\n",
        "  분리하여 자립적으로 쓸 수 있는 말\n",
        "\n",
        "  __뜻을 가지고 홀로 쓰일 수 있는 말 + 자립할 수 있는 말__의 뒤에 붙어서 문법적 기능을 나타낸다. 자립/의미 유무로 나눈다.\n",
        "\n",
        "5. 어절(Word)\n",
        "  문장을 구성하고 있는 각각의 마디. \n",
        "  문장 성분의 최소 단위로서 __띄어쓰기 단위__\n",
        "```\n",
        "  예: “철수가 영희의 일기를 읽은 것 같다.”\n",
        "  - 단어: 자립적으로 쓸 수 있는 ‘철수’, ‘영희’, ‘일기’, ‘읽은’, ‘같다’와 조사 ‘가’, ‘의’, ‘를’, 의존 명사 ‘것'\n",
        "  - 어절: '철수가', '영희의', '일기를', '읽은', '것', '같다'\n",
        "```\n",
        "\n",
        "6. 구절\n",
        "  구 + 절\n",
        "\n",
        "  - 구 : 문장 내에서 두 개 이상의 단어로 이루어져 주어와 술어 관계가 없는 덩어리\n",
        "\n",
        "    - 저기 사진을 찍는 사람이 내 친구야 : 저기 사진을\n",
        "    - 두 개의 어절이 합쳐졌지만 주어와 서술어의 관계는 아니다\n",
        "    - 명사구, 동사구, 형용사구, 관형사구, 부사구\n",
        "  - 절 : 주어와 서술어 관계가 이루어진 말\n",
        "\n",
        "    - 날씨가 좋으니 기분도 좋다 : 날씨가 좋으니\n",
        "    - 관형절, 명사절, 부사절, 인용절, 서술절\n",
        "\n",
        "7. 문장(Sentence)\n",
        "  생각이나 감정을 말로 표현할 때 완결된 내용을 나타내는 최소 단위\n",
        "\n",
        "8. 문단(Paragraph)\n",
        "  여러 문장이 모여 하나의 중심 생각을 나타내는 덩어리"
      ]
    },
    {
      "cell_type": "code",
      "metadata": {
        "colab": {
          "base_uri": "https://localhost:8080/"
        },
        "id": "TJzlXhIy0OOC",
        "outputId": "1aac8f85-a061-4a19-fa8e-62465da5ef71"
      },
      "source": [
        "!nvidia-smi"
      ],
      "execution_count": null,
      "outputs": [
        {
          "output_type": "stream",
          "name": "stdout",
          "text": [
            "Sun Sep  5 00:29:19 2021       \n",
            "+-----------------------------------------------------------------------------+\n",
            "| NVIDIA-SMI 470.63.01    Driver Version: 460.32.03    CUDA Version: 11.2     |\n",
            "|-------------------------------+----------------------+----------------------+\n",
            "| GPU  Name        Persistence-M| Bus-Id        Disp.A | Volatile Uncorr. ECC |\n",
            "| Fan  Temp  Perf  Pwr:Usage/Cap|         Memory-Usage | GPU-Util  Compute M. |\n",
            "|                               |                      |               MIG M. |\n",
            "|===============================+======================+======================|\n",
            "|   0  Tesla T4            Off  | 00000000:00:04.0 Off |                    0 |\n",
            "| N/A   40C    P8     9W /  70W |      0MiB / 15109MiB |      0%      Default |\n",
            "|                               |                      |                  N/A |\n",
            "+-------------------------------+----------------------+----------------------+\n",
            "                                                                               \n",
            "+-----------------------------------------------------------------------------+\n",
            "| Processes:                                                                  |\n",
            "|  GPU   GI   CI        PID   Type   Process name                  GPU Memory |\n",
            "|        ID   ID                                                   Usage      |\n",
            "|=============================================================================|\n",
            "|  No running processes found                                                 |\n",
            "+-----------------------------------------------------------------------------+\n"
          ]
        }
      ]
    },
    {
      "cell_type": "markdown",
      "metadata": {
        "id": "dkpfAZgFY4hG"
      },
      "source": [
        "# Python 문자열 처리 \n"
      ]
    },
    {
      "cell_type": "markdown",
      "metadata": {
        "id": "9EaISR2n6ge0"
      },
      "source": [
        "## 기본함수"
      ]
    },
    {
      "cell_type": "code",
      "metadata": {
        "id": "7gXKJ2H15wF_"
      },
      "source": [
        "s = \"No pain no gain\""
      ],
      "execution_count": null,
      "outputs": []
    },
    {
      "cell_type": "code",
      "metadata": {
        "id": "eDpKqMwU6G6M",
        "scrolled": true,
        "colab": {
          "base_uri": "https://localhost:8080/"
        },
        "outputId": "384b2382-15cd-471b-bc4a-80d454b2411d"
      },
      "source": [
        "'gain' in s"
      ],
      "execution_count": null,
      "outputs": [
        {
          "output_type": "execute_result",
          "data": {
            "text/plain": [
              "True"
            ]
          },
          "metadata": {},
          "execution_count": 3
        }
      ]
    },
    {
      "cell_type": "code",
      "metadata": {
        "id": "1kXoIXAD6a7J",
        "colab": {
          "base_uri": "https://localhost:8080/"
        },
        "outputId": "06690bb1-0b67-4e39-e897-cddf47d6ee65"
      },
      "source": [
        "s.split()"
      ],
      "execution_count": null,
      "outputs": [
        {
          "output_type": "execute_result",
          "data": {
            "text/plain": [
              "['No', 'pain', 'no', 'gain']"
            ]
          },
          "metadata": {},
          "execution_count": 4
        }
      ]
    },
    {
      "cell_type": "code",
      "metadata": {
        "id": "71btJnM_6Jp5",
        "colab": {
          "base_uri": "https://localhost:8080/"
        },
        "outputId": "43e06da9-5252-4c7a-dece-4a5618e83ffa"
      },
      "source": [
        "s.split().index('no')    "
      ],
      "execution_count": null,
      "outputs": [
        {
          "output_type": "execute_result",
          "data": {
            "text/plain": [
              "2"
            ]
          },
          "metadata": {},
          "execution_count": 5
        }
      ]
    },
    {
      "cell_type": "code",
      "metadata": {
        "id": "IRcGQS4h6nnH",
        "colab": {
          "base_uri": "https://localhost:8080/",
          "height": 36
        },
        "outputId": "0425377a-c9ae-4c73-f80b-9b0eddaf1729"
      },
      "source": [
        "s.split()[1]"
      ],
      "execution_count": null,
      "outputs": [
        {
          "output_type": "execute_result",
          "data": {
            "application/vnd.google.colaboratory.intrinsic+json": {
              "type": "string"
            },
            "text/plain": [
              "'pain'"
            ]
          },
          "metadata": {},
          "execution_count": 6
        }
      ]
    },
    {
      "cell_type": "code",
      "metadata": {
        "id": "igK5VIBI6PMo",
        "colab": {
          "base_uri": "https://localhost:8080/",
          "height": 36
        },
        "outputId": "8052f27c-800b-4fe7-f315-9d777ef96121"
      },
      "source": [
        "s.split()[1][::-1]"
      ],
      "execution_count": null,
      "outputs": [
        {
          "output_type": "execute_result",
          "data": {
            "application/vnd.google.colaboratory.intrinsic+json": {
              "type": "string"
            },
            "text/plain": [
              "'niap'"
            ]
          },
          "metadata": {},
          "execution_count": 7
        }
      ]
    },
    {
      "cell_type": "code",
      "metadata": {
        "id": "bjIMwR776SIv"
      },
      "source": [
        "t =\"한글도 처리 가능\""
      ],
      "execution_count": null,
      "outputs": []
    },
    {
      "cell_type": "code",
      "metadata": {
        "id": "lqk6iozeks2f",
        "colab": {
          "base_uri": "https://localhost:8080/"
        },
        "outputId": "9bb8258d-6ebd-495c-af85-16545b0b0e99"
      },
      "source": [
        "t.split()"
      ],
      "execution_count": null,
      "outputs": [
        {
          "output_type": "execute_result",
          "data": {
            "text/plain": [
              "['한글도', '처리', '가능']"
            ]
          },
          "metadata": {},
          "execution_count": 9
        }
      ]
    },
    {
      "cell_type": "code",
      "metadata": {
        "id": "KLusoOBWkvhI",
        "colab": {
          "base_uri": "https://localhost:8080/"
        },
        "outputId": "19f1a865-4f05-4255-c70c-8255c8afa36a"
      },
      "source": [
        "'처리' in t"
      ],
      "execution_count": null,
      "outputs": [
        {
          "output_type": "execute_result",
          "data": {
            "text/plain": [
              "True"
            ]
          },
          "metadata": {},
          "execution_count": 10
        }
      ]
    },
    {
      "cell_type": "code",
      "metadata": {
        "id": "dy75iFEMkycR",
        "colab": {
          "base_uri": "https://localhost:8080/",
          "height": 36
        },
        "outputId": "b5869b21-16aa-4334-f56f-424f0bcfdef8"
      },
      "source": [
        "t.split()[-1][::-1]"
      ],
      "execution_count": null,
      "outputs": [
        {
          "output_type": "execute_result",
          "data": {
            "application/vnd.google.colaboratory.intrinsic+json": {
              "type": "string"
            },
            "text/plain": [
              "'능가'"
            ]
          },
          "metadata": {},
          "execution_count": 11
        }
      ]
    },
    {
      "cell_type": "markdown",
      "metadata": {
        "id": "Hjbdn4imTH1Q"
      },
      "source": [
        "#### 대소문자 통합"
      ]
    },
    {
      "cell_type": "markdown",
      "metadata": {
        "id": "E6nmjl0zTH1Q"
      },
      "source": [
        "* 대소문자를 통합하지 않는다면 컴퓨터는 같은 단어를 다르게 받아들임\n",
        "* 파이썬의 내장 함수 `lower()`, `upper()`를 통해 간단하게 통합 가능"
      ]
    },
    {
      "cell_type": "code",
      "metadata": {
        "id": "Csti2comTH1Q",
        "colab": {
          "base_uri": "https://localhost:8080/"
        },
        "outputId": "740ef435-0aad-4128-dcb4-f3a6d2b5fe93"
      },
      "source": [
        "s='AbcDefGHJijK'\n",
        "\n",
        "print(s.lower())\n",
        "print(s.upper())\n",
        "print(s.capitalize())"
      ],
      "execution_count": null,
      "outputs": [
        {
          "output_type": "stream",
          "name": "stdout",
          "text": [
            "abcdefghjijk\n",
            "ABCDEFGHJIJK\n",
            "Abcdefghjijk\n"
          ]
        }
      ]
    },
    {
      "cell_type": "markdown",
      "metadata": {
        "id": "BADmUWurTH1Q"
      },
      "source": [
        "### 정규화(Normalization)"
      ]
    },
    {
      "cell_type": "code",
      "metadata": {
        "id": "aromlWYaTH1Q",
        "colab": {
          "base_uri": "https://localhost:8080/"
        },
        "outputId": "868ba3d3-b4a2-4906-95df-3ce1ae8ad90d"
      },
      "source": [
        "s = 'I visited UK from US on 22-09-20'\n",
        "print(s)"
      ],
      "execution_count": null,
      "outputs": [
        {
          "output_type": "stream",
          "name": "stdout",
          "text": [
            "I visited UK from US on 22-09-20\n"
          ]
        }
      ]
    },
    {
      "cell_type": "code",
      "metadata": {
        "id": "6d92Te6lTH1Q",
        "colab": {
          "base_uri": "https://localhost:8080/"
        },
        "outputId": "a450b21c-6cc6-4252-ee0a-15be4dd165ed"
      },
      "source": [
        "s = s.replace('UK', 'United Kindom').replace('US','United States').replace('-20','-2020')\n",
        "print(s)"
      ],
      "execution_count": null,
      "outputs": [
        {
          "output_type": "stream",
          "name": "stdout",
          "text": [
            "I visited United Kindom from United States on 22-09-2020\n"
          ]
        }
      ]
    },
    {
      "cell_type": "markdown",
      "metadata": {
        "id": "mwfz36YS1FCU"
      },
      "source": [
        "### 정규표현식"
      ]
    },
    {
      "cell_type": "markdown",
      "metadata": {
        "id": "myBZJRSL1JLE"
      },
      "source": [
        "* 정규 표현식은 특정 문자들을 편리하게 지정하고 추가, 삭제 가능\n",
        "* 데이터 전처리에서 정규 표현식을 많이 사용\n",
        "* 파이썬에서는 정규 표현식을 지원하는 `re` 패키지 제공"
      ]
    },
    {
      "cell_type": "markdown",
      "metadata": {
        "id": "lLT-dbGQ1NSe"
      },
      "source": [
        "* 정규 표현식 문법\n",
        "  \n",
        "| 특수문자 | 설명 |\n",
        "| - | - |\n",
        "| `.` | 앞의 문자 1개를 표현 |\n",
        "| `?` | 문자 한개를 표현하나 존재할 수도, 존재하지 않을 수도 있음(0개 또는 1개) |\n",
        "| `*` | 앞의 문자가 0개 이상 |\n",
        "| `+` | 앞의 문자가 최소 1개 이상 |\n",
        "| `^` | 뒤의 문자로 문자열이 시작 |\n",
        "| `\\$` | 앞의 문자로 문자열이 끝남 |\n",
        "| `\\{n\\}` | `n`번만큼 반복 |\n",
        "| `\\{n1, n2\\}` | `n1` 이상, `n2` 이하만큼 반복, n2를 지정하지 않으면 `n1` 이상만 반복 |\n",
        "| `\\[ abc \\]` | 안에 문자들 중 한 개의 문자와 매치, a-z처럼 범위도 지정 가능 |\n",
        "| `\\[ ^a \\]` | 해당 문자를 제외하고 매치 |\n",
        "| `a\\|b` | `a` 또는 `b`를 나타냄 |"
      ]
    },
    {
      "cell_type": "markdown",
      "metadata": {
        "id": "JGv0DLZu1PqE"
      },
      "source": [
        "* 정규 표현식에 자주 사용하는 역슬래시(\\\\)를 이용한 문자 규칙\n",
        "\n",
        "| 문자 | 설명 |\n",
        "| - | - |\n",
        "| `\\\\` | 역슬래시 자체를 의미 |\n",
        "| `\\d` | 모든 숫자를 의미, [0-9]와 동일 |\n",
        "| `\\D` | 숫자를 제외한 모든 문자를 의미, [^0-9]와 동일 |\n",
        "| `\\s` | 공백을 의미, [ \\t\\n\\r\\f\\v]와 동일|\n",
        "| `\\S` | 공백을 제외한 모든 문자를 의미, [^ \\t\\n\\r\\f\\v]와 동일 |\n",
        "| `\\w` | 문자와 숫자를 의미, [a-zA-Z0-9]와 동일 |\n",
        "| `\\W` | 문자와 숫자를 제외한 다른 문자를 의미, [^a-zA-Z0-9]와 동일 |"
      ]
    },
    {
      "cell_type": "markdown",
      "metadata": {
        "id": "CEIH8rWo1bJf"
      },
      "source": [
        "#### match\n",
        "\n",
        "* 컴파일한 정규 표현식을 이용해 문자열이 정규 표현식과 맞는지 검사"
      ]
    },
    {
      "cell_type": "code",
      "metadata": {
        "id": "V8UD0NCw8UVm"
      },
      "source": [
        "import re"
      ],
      "execution_count": null,
      "outputs": []
    },
    {
      "cell_type": "code",
      "metadata": {
        "id": "X6fNP47VBaxg",
        "colab": {
          "base_uri": "https://localhost:8080/"
        },
        "outputId": "da2f4848-b574-4b73-9204-837bce768e56"
      },
      "source": [
        "check = 'ab.'\n",
        "\n",
        "print(re.match(check,'abbb '))\n",
        "print(re.match(check,'ab '))\n",
        "print(re.match(check,'abc'))\n",
        "print(re.match(check,'abcd '))\n",
        "print(re.match(check,'cab '))\n",
        "print(re.match(check,'xabc'))"
      ],
      "execution_count": null,
      "outputs": [
        {
          "output_type": "stream",
          "name": "stdout",
          "text": [
            "<re.Match object; span=(0, 3), match='abb'>\n",
            "<re.Match object; span=(0, 3), match='ab '>\n",
            "<re.Match object; span=(0, 3), match='abc'>\n",
            "<re.Match object; span=(0, 3), match='abc'>\n",
            "None\n",
            "None\n"
          ]
        }
      ]
    },
    {
      "cell_type": "code",
      "metadata": {
        "id": "lxzhmTi11wS1",
        "scrolled": true,
        "colab": {
          "base_uri": "https://localhost:8080/"
        },
        "outputId": "a5dbd0fd-0ddd-4b4f-de01-3ac9c189c54e"
      },
      "source": [
        "check = 'x+ab.'\n",
        "\n",
        "print(re.match(check,'abbb '))\n",
        "print(re.match(check,'ab '))\n",
        "print(re.match(check,'abc'))\n",
        "print(re.match(check,'abcd '))\n",
        "print(re.match(check,'cab '))\n",
        "print(re.match(check,'xabc'))"
      ],
      "execution_count": null,
      "outputs": [
        {
          "output_type": "stream",
          "name": "stdout",
          "text": [
            "None\n",
            "None\n",
            "None\n",
            "None\n",
            "None\n",
            "<re.Match object; span=(0, 4), match='xabc'>\n"
          ]
        }
      ]
    },
    {
      "cell_type": "code",
      "metadata": {
        "id": "8sVBdw1zBaxg",
        "colab": {
          "base_uri": "https://localhost:8080/"
        },
        "outputId": "d2a64c5b-7160-4a1c-f16e-9af10eace7e1"
      },
      "source": [
        "check = 'x*ab.'\n",
        "\n",
        "print(re.match(check,'abbb '))\n",
        "print(re.match(check,'ab '))\n",
        "print(re.match(check,'abc'))\n",
        "print(re.match(check,'abcd '))\n",
        "print(re.match(check,'cab '))\n",
        "print(re.match(check,'xabc'))"
      ],
      "execution_count": null,
      "outputs": [
        {
          "output_type": "stream",
          "name": "stdout",
          "text": [
            "<re.Match object; span=(0, 3), match='abb'>\n",
            "<re.Match object; span=(0, 3), match='ab '>\n",
            "<re.Match object; span=(0, 3), match='abc'>\n",
            "<re.Match object; span=(0, 3), match='abc'>\n",
            "None\n",
            "<re.Match object; span=(0, 4), match='xabc'>\n"
          ]
        }
      ]
    },
    {
      "cell_type": "code",
      "metadata": {
        "id": "ietbgO2DBaxg",
        "colab": {
          "base_uri": "https://localhost:8080/"
        },
        "outputId": "87324a7c-4f6a-406f-c19c-4b1907dbf568"
      },
      "source": [
        "check = '^xab.'\n",
        "\n",
        "print(re.match(check,'abbb '))\n",
        "print(re.match(check,'ab '))\n",
        "print(re.match(check,'abc'))\n",
        "print(re.match(check,'abcd '))\n",
        "print(re.match(check,'cab '))\n",
        "print(re.match(check,'xabc'))"
      ],
      "execution_count": null,
      "outputs": [
        {
          "output_type": "stream",
          "name": "stdout",
          "text": [
            "None\n",
            "None\n",
            "None\n",
            "None\n",
            "None\n",
            "<re.Match object; span=(0, 4), match='xabc'>\n"
          ]
        }
      ]
    },
    {
      "cell_type": "markdown",
      "metadata": {
        "id": "lICVJ-q_1c_M"
      },
      "source": [
        "#### compile\n",
        "\n",
        "* compile을 사용하면 여러 번 사용할 경우 일반 사용보다 더 빠른 속도를 보임\n",
        "* compile을 통해 정규 표현식을 사용할 경우 `re`가 아닌 컴파일한 객체 이름을 통해 사용해야 함\n"
      ]
    },
    {
      "cell_type": "code",
      "metadata": {
        "id": "jDTSl5S31wms",
        "colab": {
          "base_uri": "https://localhost:8080/"
        },
        "outputId": "1605014a-2dad-4135-9f87-191e59a62a9e"
      },
      "source": [
        "import time\n",
        "\n",
        "start1 = time.time()\n",
        "check='ab.'\n",
        "for i in range(1000):\n",
        "    re.match(check,'abc')\n",
        "print('일반 사용시 소요 시간: ', time.time()-start1)\n",
        "\n",
        "start2 = time.time()\n",
        "check = re.compile('ab.')\n",
        "for i in range(1000):\n",
        "    check.match('abc')    \n",
        "print('컴파일 사용시 소요 시간: ', time.time()-start2)"
      ],
      "execution_count": null,
      "outputs": [
        {
          "output_type": "stream",
          "name": "stdout",
          "text": [
            "일반 사용시 소요 시간:  0.008448362350463867\n",
            "컴파일 사용시 소요 시간:  0.0005621910095214844\n"
          ]
        }
      ]
    },
    {
      "cell_type": "markdown",
      "metadata": {
        "id": "Z6OcEzN81fNV"
      },
      "source": [
        "#### search\n",
        "\n",
        "* match와 다르게, search는 문자열의 전체를 검사"
      ]
    },
    {
      "cell_type": "code",
      "metadata": {
        "id": "Mg1iU0Kg1w70",
        "colab": {
          "base_uri": "https://localhost:8080/"
        },
        "outputId": "b1d20133-b3df-47b9-c18a-3886b2248635"
      },
      "source": [
        "check='ab?'\n",
        "\n",
        "print(re.search('a', check))\n",
        "print(re.match('kkkab', check))\n",
        "print(re.search('kkkab', check))\n",
        "print(re.match('ab', check))"
      ],
      "execution_count": null,
      "outputs": [
        {
          "output_type": "stream",
          "name": "stdout",
          "text": [
            "<re.Match object; span=(0, 1), match='a'>\n",
            "None\n",
            "None\n",
            "<re.Match object; span=(0, 2), match='ab'>\n"
          ]
        }
      ]
    },
    {
      "cell_type": "markdown",
      "metadata": {
        "id": "Nmkvc1741g5P"
      },
      "source": [
        "#### split\n",
        "\n",
        "* 정규표현식에 해당하는 문자열을 기준으로 문자열을 나눔"
      ]
    },
    {
      "cell_type": "code",
      "metadata": {
        "id": "6bLf5Hgs1xZk",
        "colab": {
          "base_uri": "https://localhost:8080/"
        },
        "outputId": "8ca060ba-13c3-4e19-e3f4-c43b2a9326c5"
      },
      "source": [
        "r = re.compile(' ')\n",
        "print(r.split('abc abbc abcbab'))\n",
        "\n",
        "r = re.compile('c')\n",
        "print(r.split('abc abbc abcbab'))\n",
        "\n",
        "r = re.compile('[1-9]')\n",
        "print(r.split('s1abc 2v3s 4sss 5a'))"
      ],
      "execution_count": null,
      "outputs": [
        {
          "output_type": "stream",
          "name": "stdout",
          "text": [
            "['abc', 'abbc', 'abcbab']\n",
            "['ab', ' abb', ' ab', 'bab']\n",
            "['s', 'abc ', 'v', 's ', 'sss ', 'a']\n"
          ]
        }
      ]
    },
    {
      "cell_type": "markdown",
      "metadata": {
        "id": "fTor-yg_1h49"
      },
      "source": [
        "#### sub\n",
        "\n",
        "* 정규 표현식과 일치하는 부분을 다른 문자열로 교체\n"
      ]
    },
    {
      "cell_type": "code",
      "metadata": {
        "id": "ZlqOk9DY1xtF",
        "colab": {
          "base_uri": "https://localhost:8080/"
        },
        "outputId": "dd060a70-0421-4710-eb2e-f68b52aea9dc"
      },
      "source": [
        "print(re.sub('[a-z]', 'abcdefg','1'))\n"
      ],
      "execution_count": null,
      "outputs": [
        {
          "output_type": "stream",
          "name": "stdout",
          "text": [
            "1\n"
          ]
        }
      ]
    },
    {
      "cell_type": "markdown",
      "metadata": {
        "id": "BUzY6Vz31i8U"
      },
      "source": [
        "#### findall\n",
        "\n",
        "* 컴파일한 정규 표현식을 이용해 정규 표현식과 맞는 모든 문자(열)을 리스트로 반환\n"
      ]
    },
    {
      "cell_type": "code",
      "metadata": {
        "id": "Osi3UYYv1yHP",
        "colab": {
          "base_uri": "https://localhost:8080/"
        },
        "outputId": "46dd5f43-c73f-4b48-a5a4-4b5e8b22e042"
      },
      "source": [
        "print(re.findall('[\\d]', '1ab 2cd 3ef 4g')) # 모든 숫자를 의미, [0-9]와 동일\n",
        "print(re.findall('[\\W]', '!abcd@@#'))       # \\W: 문자와 숫자를 제외한 다른 문자를 의미, [^a-zA-Z0-9]와 동일"
      ],
      "execution_count": null,
      "outputs": [
        {
          "output_type": "stream",
          "name": "stdout",
          "text": [
            "['1', '2', '3', '4']\n",
            "['!', '@', '@', '#']\n"
          ]
        }
      ]
    },
    {
      "cell_type": "markdown",
      "metadata": {
        "id": "NxLLmwJu1kTt"
      },
      "source": [
        "#### finditer\n",
        "\n",
        "* 컴파일한 정규 표현식을 이용해 정규 표현식과 맞는 모든 문자(열)을 `iterator` 객체로 반환\n",
        "* `iterator` 객체를 이용하면 생성된 객체를 하나씩 자동으로 가져올 수 있어 처리가 간편함"
      ]
    },
    {
      "cell_type": "code",
      "metadata": {
        "id": "6NOFG3Hy1ycd",
        "colab": {
          "base_uri": "https://localhost:8080/"
        },
        "outputId": "b769e47f-8628-4b2b-a7a3-d3c4537f28c3"
      },
      "source": [
        "iter1 = re.finditer('[\\d]', '1ab 2cd 3ef 4g')\n",
        "print(iter1)\n",
        "for i in iter1:\n",
        "    print(i)\n",
        "\n",
        "iter2 = re.finditer('[\\W]', '!abcd@@#')\n",
        "print(iter2)\n",
        "for i in iter2:\n",
        "    print(i)"
      ],
      "execution_count": null,
      "outputs": [
        {
          "output_type": "stream",
          "name": "stdout",
          "text": [
            "<callable_iterator object at 0x7ff97afc3710>\n",
            "<re.Match object; span=(0, 1), match='1'>\n",
            "<re.Match object; span=(4, 5), match='2'>\n",
            "<re.Match object; span=(8, 9), match='3'>\n",
            "<re.Match object; span=(12, 13), match='4'>\n",
            "<callable_iterator object at 0x7ff978748790>\n",
            "<re.Match object; span=(0, 1), match='!'>\n",
            "<re.Match object; span=(5, 6), match='@'>\n",
            "<re.Match object; span=(6, 7), match='@'>\n",
            "<re.Match object; span=(7, 8), match='#'>\n"
          ]
        }
      ]
    }
  ]
}