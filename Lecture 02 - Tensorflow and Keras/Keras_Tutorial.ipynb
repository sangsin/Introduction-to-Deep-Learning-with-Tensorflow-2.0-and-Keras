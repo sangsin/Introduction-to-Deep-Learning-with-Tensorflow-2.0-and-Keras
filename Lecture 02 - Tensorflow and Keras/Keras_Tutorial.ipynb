{
 "cells": [
  {
   "cell_type": "markdown",
   "metadata": {
    "id": "mk1kQVGmjoCc"
   },
   "source": [
    "# 케라스(Keras) \n",
    "\n",
    "<img src=\"https://s3.amazonaws.com/keras.io/img/keras-logo-2018-large-1200.png\">\n",
    "\n",
    "- 파이썬으로 작성된 고수준 신경망 API로 TensorFlow, CNTK, 혹은 Theano와 함께 사용 가능\n",
    "- __사용자 친화성__, 모듈성, 확장성을 통해 빠르고 간편한 프로토타이핑 가능\n",
    "- 컨볼루션 신경망, 순환 신경망, 그리고 둘의 조합까지 모두 지원\n",
    "- CPU와 GPU에서 매끄럽게 실행\n"
   ]
  },
  {
   "cell_type": "markdown",
   "metadata": {
    "id": "Wro_Xouz6P99"
   },
   "source": [
    "### Keras in TensorFlow 2.0\n",
    "\n",
    "- Keras 창시자 프랑소와 숄레(François Chollet)가 TF 2.0 개발에 참였고, TF 2.0 에서 공식적이고 유일한 High-Level API로서 Keras를 채택\n",
    "\n",
    "- Keras 2.4 버젼은 backend로 TF 2.0만 지원 \n",
    "\n",
    "- 신경층(neural layer), 비용 함수(cost function), 옵티마이저(optimizer), 초기화 방식(initialization scheme), 활성화 함수(activation function), 정규화 방식(regularization scheme) 모두 독립적인 모듈이며 결합을 통해 새로운 모델 제작 가능\n"
   ]
  },
  {
   "cell_type": "markdown",
   "metadata": {
    "id": "sxQV02nskQTx"
   },
   "source": [
    "### Why are we using Keras? \n",
    "\n",
    "- Enable deep learning engineers to build and experiment with different models very quickly.\n",
    "- Just as TensorFlow is a higher-level framework than Python, Keras is an even higher-level framework and provides additional abstractions.\n",
    "- However, Keras is more restrictive than the lower-level frameworks. \n",
    "- So there are some very complex models that you can implement in TensorFlow but not in Keras. \n",
    "- Keras will work fine for many common models.\n",
    "\n"
   ]
  },
  {
   "cell_type": "markdown",
   "metadata": {
    "id": "p4gcKAfFr6CZ"
   },
   "source": [
    "### A Basic Example Using Keras API"
   ]
  },
  {
   "cell_type": "code",
   "execution_count": 1,
   "metadata": {
    "colab": {
     "base_uri": "https://localhost:8080/"
    },
    "id": "B_caHvzmlNWL",
    "outputId": "2713412d-9c64-4098-e29d-aefc0166fd4d"
   },
   "outputs": [
    {
     "name": "stdout",
     "output_type": "stream",
     "text": [
      "Epoch 1/100\n"
     ]
    },
    {
     "ename": "InternalError",
     "evalue": " Blas GEMM launch failed : a.shape=(32, 100), b.shape=(100, 32), m=32, n=32, k=100\n\t [[node sequential/dense/MatMul (defined at <ipython-input-1-0b321ad2df46>:22) ]] [Op:__inference_train_function_684]\n\nFunction call stack:\ntrain_function\n",
     "output_type": "error",
     "traceback": [
      "\u001b[1;31m---------------------------------------------------------------------------\u001b[0m",
      "\u001b[1;31mInternalError\u001b[0m                             Traceback (most recent call last)",
      "\u001b[1;32m<ipython-input-1-0b321ad2df46>\u001b[0m in \u001b[0;36m<module>\u001b[1;34m\u001b[0m\n\u001b[0;32m     20\u001b[0m \u001b[1;33m\u001b[0m\u001b[0m\n\u001b[0;32m     21\u001b[0m \u001b[1;31m# Step 4: 모델 학습\u001b[0m\u001b[1;33m\u001b[0m\u001b[1;33m\u001b[0m\u001b[1;33m\u001b[0m\u001b[0m\n\u001b[1;32m---> 22\u001b[1;33m \u001b[0mhistory\u001b[0m \u001b[1;33m=\u001b[0m \u001b[0mmodel\u001b[0m\u001b[1;33m.\u001b[0m\u001b[0mfit\u001b[0m\u001b[1;33m(\u001b[0m\u001b[0mdata\u001b[0m\u001b[1;33m,\u001b[0m \u001b[0mlabels\u001b[0m\u001b[1;33m,\u001b[0m \u001b[0mepochs\u001b[0m\u001b[1;33m=\u001b[0m\u001b[1;36m100\u001b[0m\u001b[1;33m,\u001b[0m \u001b[0mbatch_size\u001b[0m\u001b[1;33m=\u001b[0m\u001b[1;36m32\u001b[0m\u001b[1;33m)\u001b[0m\u001b[1;33m\u001b[0m\u001b[1;33m\u001b[0m\u001b[0m\n\u001b[0m\u001b[0;32m     23\u001b[0m \u001b[1;33m\u001b[0m\u001b[0m\n\u001b[0;32m     24\u001b[0m \u001b[1;31m# Step 5: 모델 평가\u001b[0m\u001b[1;33m\u001b[0m\u001b[1;33m\u001b[0m\u001b[1;33m\u001b[0m\u001b[0m\n",
      "\u001b[1;32mC:\\ML\\anaconda3\\lib\\site-packages\\tensorflow\\python\\keras\\engine\\training.py\u001b[0m in \u001b[0;36mfit\u001b[1;34m(self, x, y, batch_size, epochs, verbose, callbacks, validation_split, validation_data, shuffle, class_weight, sample_weight, initial_epoch, steps_per_epoch, validation_steps, validation_batch_size, validation_freq, max_queue_size, workers, use_multiprocessing)\u001b[0m\n\u001b[0;32m   1098\u001b[0m                 _r=1):\n\u001b[0;32m   1099\u001b[0m               \u001b[0mcallbacks\u001b[0m\u001b[1;33m.\u001b[0m\u001b[0mon_train_batch_begin\u001b[0m\u001b[1;33m(\u001b[0m\u001b[0mstep\u001b[0m\u001b[1;33m)\u001b[0m\u001b[1;33m\u001b[0m\u001b[1;33m\u001b[0m\u001b[0m\n\u001b[1;32m-> 1100\u001b[1;33m               \u001b[0mtmp_logs\u001b[0m \u001b[1;33m=\u001b[0m \u001b[0mself\u001b[0m\u001b[1;33m.\u001b[0m\u001b[0mtrain_function\u001b[0m\u001b[1;33m(\u001b[0m\u001b[0miterator\u001b[0m\u001b[1;33m)\u001b[0m\u001b[1;33m\u001b[0m\u001b[1;33m\u001b[0m\u001b[0m\n\u001b[0m\u001b[0;32m   1101\u001b[0m               \u001b[1;32mif\u001b[0m \u001b[0mdata_handler\u001b[0m\u001b[1;33m.\u001b[0m\u001b[0mshould_sync\u001b[0m\u001b[1;33m:\u001b[0m\u001b[1;33m\u001b[0m\u001b[1;33m\u001b[0m\u001b[0m\n\u001b[0;32m   1102\u001b[0m                 \u001b[0mcontext\u001b[0m\u001b[1;33m.\u001b[0m\u001b[0masync_wait\u001b[0m\u001b[1;33m(\u001b[0m\u001b[1;33m)\u001b[0m\u001b[1;33m\u001b[0m\u001b[1;33m\u001b[0m\u001b[0m\n",
      "\u001b[1;32mC:\\ML\\anaconda3\\lib\\site-packages\\tensorflow\\python\\eager\\def_function.py\u001b[0m in \u001b[0;36m__call__\u001b[1;34m(self, *args, **kwds)\u001b[0m\n\u001b[0;32m    826\u001b[0m     \u001b[0mtracing_count\u001b[0m \u001b[1;33m=\u001b[0m \u001b[0mself\u001b[0m\u001b[1;33m.\u001b[0m\u001b[0mexperimental_get_tracing_count\u001b[0m\u001b[1;33m(\u001b[0m\u001b[1;33m)\u001b[0m\u001b[1;33m\u001b[0m\u001b[1;33m\u001b[0m\u001b[0m\n\u001b[0;32m    827\u001b[0m     \u001b[1;32mwith\u001b[0m \u001b[0mtrace\u001b[0m\u001b[1;33m.\u001b[0m\u001b[0mTrace\u001b[0m\u001b[1;33m(\u001b[0m\u001b[0mself\u001b[0m\u001b[1;33m.\u001b[0m\u001b[0m_name\u001b[0m\u001b[1;33m)\u001b[0m \u001b[1;32mas\u001b[0m \u001b[0mtm\u001b[0m\u001b[1;33m:\u001b[0m\u001b[1;33m\u001b[0m\u001b[1;33m\u001b[0m\u001b[0m\n\u001b[1;32m--> 828\u001b[1;33m       \u001b[0mresult\u001b[0m \u001b[1;33m=\u001b[0m \u001b[0mself\u001b[0m\u001b[1;33m.\u001b[0m\u001b[0m_call\u001b[0m\u001b[1;33m(\u001b[0m\u001b[1;33m*\u001b[0m\u001b[0margs\u001b[0m\u001b[1;33m,\u001b[0m \u001b[1;33m**\u001b[0m\u001b[0mkwds\u001b[0m\u001b[1;33m)\u001b[0m\u001b[1;33m\u001b[0m\u001b[1;33m\u001b[0m\u001b[0m\n\u001b[0m\u001b[0;32m    829\u001b[0m       \u001b[0mcompiler\u001b[0m \u001b[1;33m=\u001b[0m \u001b[1;34m\"xla\"\u001b[0m \u001b[1;32mif\u001b[0m \u001b[0mself\u001b[0m\u001b[1;33m.\u001b[0m\u001b[0m_experimental_compile\u001b[0m \u001b[1;32melse\u001b[0m \u001b[1;34m\"nonXla\"\u001b[0m\u001b[1;33m\u001b[0m\u001b[1;33m\u001b[0m\u001b[0m\n\u001b[0;32m    830\u001b[0m       \u001b[0mnew_tracing_count\u001b[0m \u001b[1;33m=\u001b[0m \u001b[0mself\u001b[0m\u001b[1;33m.\u001b[0m\u001b[0mexperimental_get_tracing_count\u001b[0m\u001b[1;33m(\u001b[0m\u001b[1;33m)\u001b[0m\u001b[1;33m\u001b[0m\u001b[1;33m\u001b[0m\u001b[0m\n",
      "\u001b[1;32mC:\\ML\\anaconda3\\lib\\site-packages\\tensorflow\\python\\eager\\def_function.py\u001b[0m in \u001b[0;36m_call\u001b[1;34m(self, *args, **kwds)\u001b[0m\n\u001b[0;32m    886\u001b[0m         \u001b[1;31m# Lifting succeeded, so variables are initialized and we can run the\u001b[0m\u001b[1;33m\u001b[0m\u001b[1;33m\u001b[0m\u001b[1;33m\u001b[0m\u001b[0m\n\u001b[0;32m    887\u001b[0m         \u001b[1;31m# stateless function.\u001b[0m\u001b[1;33m\u001b[0m\u001b[1;33m\u001b[0m\u001b[1;33m\u001b[0m\u001b[0m\n\u001b[1;32m--> 888\u001b[1;33m         \u001b[1;32mreturn\u001b[0m \u001b[0mself\u001b[0m\u001b[1;33m.\u001b[0m\u001b[0m_stateless_fn\u001b[0m\u001b[1;33m(\u001b[0m\u001b[1;33m*\u001b[0m\u001b[0margs\u001b[0m\u001b[1;33m,\u001b[0m \u001b[1;33m**\u001b[0m\u001b[0mkwds\u001b[0m\u001b[1;33m)\u001b[0m\u001b[1;33m\u001b[0m\u001b[1;33m\u001b[0m\u001b[0m\n\u001b[0m\u001b[0;32m    889\u001b[0m     \u001b[1;32melse\u001b[0m\u001b[1;33m:\u001b[0m\u001b[1;33m\u001b[0m\u001b[1;33m\u001b[0m\u001b[0m\n\u001b[0;32m    890\u001b[0m       \u001b[0m_\u001b[0m\u001b[1;33m,\u001b[0m \u001b[0m_\u001b[0m\u001b[1;33m,\u001b[0m \u001b[0m_\u001b[0m\u001b[1;33m,\u001b[0m \u001b[0mfiltered_flat_args\u001b[0m \u001b[1;33m=\u001b[0m\u001b[0;31m \u001b[0m\u001b[0;31m\\\u001b[0m\u001b[1;33m\u001b[0m\u001b[1;33m\u001b[0m\u001b[0m\n",
      "\u001b[1;32mC:\\ML\\anaconda3\\lib\\site-packages\\tensorflow\\python\\eager\\function.py\u001b[0m in \u001b[0;36m__call__\u001b[1;34m(self, *args, **kwargs)\u001b[0m\n\u001b[0;32m   2940\u001b[0m       (graph_function,\n\u001b[0;32m   2941\u001b[0m        filtered_flat_args) = self._maybe_define_function(args, kwargs)\n\u001b[1;32m-> 2942\u001b[1;33m     return graph_function._call_flat(\n\u001b[0m\u001b[0;32m   2943\u001b[0m         filtered_flat_args, captured_inputs=graph_function.captured_inputs)  # pylint: disable=protected-access\n\u001b[0;32m   2944\u001b[0m \u001b[1;33m\u001b[0m\u001b[0m\n",
      "\u001b[1;32mC:\\ML\\anaconda3\\lib\\site-packages\\tensorflow\\python\\eager\\function.py\u001b[0m in \u001b[0;36m_call_flat\u001b[1;34m(self, args, captured_inputs, cancellation_manager)\u001b[0m\n\u001b[0;32m   1916\u001b[0m         and executing_eagerly):\n\u001b[0;32m   1917\u001b[0m       \u001b[1;31m# No tape is watching; skip to running the function.\u001b[0m\u001b[1;33m\u001b[0m\u001b[1;33m\u001b[0m\u001b[1;33m\u001b[0m\u001b[0m\n\u001b[1;32m-> 1918\u001b[1;33m       return self._build_call_outputs(self._inference_function.call(\n\u001b[0m\u001b[0;32m   1919\u001b[0m           ctx, args, cancellation_manager=cancellation_manager))\n\u001b[0;32m   1920\u001b[0m     forward_backward = self._select_forward_and_backward_functions(\n",
      "\u001b[1;32mC:\\ML\\anaconda3\\lib\\site-packages\\tensorflow\\python\\eager\\function.py\u001b[0m in \u001b[0;36mcall\u001b[1;34m(self, ctx, args, cancellation_manager)\u001b[0m\n\u001b[0;32m    553\u001b[0m       \u001b[1;32mwith\u001b[0m \u001b[0m_InterpolateFunctionError\u001b[0m\u001b[1;33m(\u001b[0m\u001b[0mself\u001b[0m\u001b[1;33m)\u001b[0m\u001b[1;33m:\u001b[0m\u001b[1;33m\u001b[0m\u001b[1;33m\u001b[0m\u001b[0m\n\u001b[0;32m    554\u001b[0m         \u001b[1;32mif\u001b[0m \u001b[0mcancellation_manager\u001b[0m \u001b[1;32mis\u001b[0m \u001b[1;32mNone\u001b[0m\u001b[1;33m:\u001b[0m\u001b[1;33m\u001b[0m\u001b[1;33m\u001b[0m\u001b[0m\n\u001b[1;32m--> 555\u001b[1;33m           outputs = execute.execute(\n\u001b[0m\u001b[0;32m    556\u001b[0m               \u001b[0mstr\u001b[0m\u001b[1;33m(\u001b[0m\u001b[0mself\u001b[0m\u001b[1;33m.\u001b[0m\u001b[0msignature\u001b[0m\u001b[1;33m.\u001b[0m\u001b[0mname\u001b[0m\u001b[1;33m)\u001b[0m\u001b[1;33m,\u001b[0m\u001b[1;33m\u001b[0m\u001b[1;33m\u001b[0m\u001b[0m\n\u001b[0;32m    557\u001b[0m               \u001b[0mnum_outputs\u001b[0m\u001b[1;33m=\u001b[0m\u001b[0mself\u001b[0m\u001b[1;33m.\u001b[0m\u001b[0m_num_outputs\u001b[0m\u001b[1;33m,\u001b[0m\u001b[1;33m\u001b[0m\u001b[1;33m\u001b[0m\u001b[0m\n",
      "\u001b[1;32mC:\\ML\\anaconda3\\lib\\site-packages\\tensorflow\\python\\eager\\execute.py\u001b[0m in \u001b[0;36mquick_execute\u001b[1;34m(op_name, num_outputs, inputs, attrs, ctx, name)\u001b[0m\n\u001b[0;32m     57\u001b[0m   \u001b[1;32mtry\u001b[0m\u001b[1;33m:\u001b[0m\u001b[1;33m\u001b[0m\u001b[1;33m\u001b[0m\u001b[0m\n\u001b[0;32m     58\u001b[0m     \u001b[0mctx\u001b[0m\u001b[1;33m.\u001b[0m\u001b[0mensure_initialized\u001b[0m\u001b[1;33m(\u001b[0m\u001b[1;33m)\u001b[0m\u001b[1;33m\u001b[0m\u001b[1;33m\u001b[0m\u001b[0m\n\u001b[1;32m---> 59\u001b[1;33m     tensors = pywrap_tfe.TFE_Py_Execute(ctx._handle, device_name, op_name,\n\u001b[0m\u001b[0;32m     60\u001b[0m                                         inputs, attrs, num_outputs)\n\u001b[0;32m     61\u001b[0m   \u001b[1;32mexcept\u001b[0m \u001b[0mcore\u001b[0m\u001b[1;33m.\u001b[0m\u001b[0m_NotOkStatusException\u001b[0m \u001b[1;32mas\u001b[0m \u001b[0me\u001b[0m\u001b[1;33m:\u001b[0m\u001b[1;33m\u001b[0m\u001b[1;33m\u001b[0m\u001b[0m\n",
      "\u001b[1;31mInternalError\u001b[0m:  Blas GEMM launch failed : a.shape=(32, 100), b.shape=(100, 32), m=32, n=32, k=100\n\t [[node sequential/dense/MatMul (defined at <ipython-input-1-0b321ad2df46>:22) ]] [Op:__inference_train_function_684]\n\nFunction call stack:\ntrain_function\n"
     ]
    }
   ],
   "source": [
    "import numpy as np\n",
    "import tensorflow as tf\n",
    "from tensorflow.keras.models import Sequential\n",
    "from tensorflow.keras.layers import Dense\n",
    "\n",
    "# Step 1: 데이터 준비 및 전처리 가공\n",
    "\n",
    "data = np.random.random((1000,100))\n",
    "labels = np.random.randint(2,size=(1000,1))\n",
    "\n",
    "# Step 2: 모델 구성 \n",
    "model = Sequential()\n",
    "model.add(Dense(32, activation = 'relu',input_dim=100))\n",
    "model.add(Dense(1, activation='sigmoid'))\n",
    "\n",
    "# Step 3: 모델 컴파일\n",
    "model.compile(optimizer='rmsprop', \n",
    "              loss = 'binary_crossentropy',\n",
    "              metrics = ['accuracy'])\n",
    "\n",
    "# Step 4: 모델 학습\n",
    "history = model.fit(data, labels, epochs=100, batch_size=32)\n",
    "\n",
    "# Step 5: 모델 평가\n",
    "prediction = model.predict(data)\n",
    "for i in range(10):\n",
    "    print('labels = {}\\tprediction = {}'.format(labels[i],prediction[i]))"
   ]
  },
  {
   "cell_type": "code",
   "execution_count": null,
   "metadata": {
    "colab": {
     "base_uri": "https://localhost:8080/",
     "height": 295
    },
    "id": "k0Tt1g3Tscjt",
    "outputId": "02c31d01-5050-4c23-dc63-32024cdcdbae"
   },
   "outputs": [],
   "source": [
    "# 학습 과정 시각화\n",
    "\n",
    "import matplotlib.pyplot as plt\n",
    "\n",
    "plt.plot(history.history['loss'], 'ro')\n",
    "plt.plot(history.history['accuracy'],'b--')\n",
    "plt.title('Training history')\n",
    "plt.ylabel('loss/accuracy')\n",
    "plt.xlabel('epochs')\n",
    "plt.grid()\n",
    "plt.legend(['loss','accuracy'])\n",
    "plt.show()\n"
   ]
  },
  {
   "cell_type": "markdown",
   "metadata": {
    "id": "06up8aQt29Dl"
   },
   "source": [
    "### A Basic Example using Keras API - another way"
   ]
  },
  {
   "cell_type": "code",
   "execution_count": null,
   "metadata": {
    "colab": {
     "base_uri": "https://localhost:8080/"
    },
    "id": "vjKf0_Md1FOJ",
    "outputId": "a6aaf885-78a6-49eb-e34a-a838d2c650d8"
   },
   "outputs": [],
   "source": [
    "import numpy as np\n",
    "import tensorflow as tf\n",
    "from tensorflow.keras.models import Sequential\n",
    "from tensorflow.keras.layers import Dense\n",
    "\n",
    "# Step 1: 데이터 준비 및 전처리 가공\n",
    "\n",
    "data = np.random.random((1000,100))\n",
    "labels = np.random.randint(2,size=(1000,1))\n",
    "\n",
    "# Step 2: 모델 구성 \n",
    "model = Sequential([\n",
    "            Dense(32, activation = 'relu',input_dim=100),\n",
    "            Dense(1, activation='sigmoid')\n",
    "])\n",
    "# Step 3: 모델 컴파일\n",
    "model.compile(optimizer='rmsprop',  \n",
    "              loss = 'binary_crossentropy',\n",
    "              metrics = ['accuracy'])\n",
    "\n",
    "# Step 4: 모델 학습\n",
    "history = model.fit(data, labels, epochs=100, batch_size=32)\n",
    "\n",
    "# Step 5: 모델 테스트 및 평가\n",
    "prediction = model.predict(data)\n",
    "for i in range(10):\n",
    "    print('labels = {}\\tprediction = {}'.format(labels[i],prediction[i]))"
   ]
  },
  {
   "cell_type": "markdown",
   "metadata": {
    "id": "H6mdEEy83j87"
   },
   "source": [
    "### Another Real Example using MNIST dataset\n",
    "\n",
    "\n"
   ]
  },
  {
   "cell_type": "markdown",
   "metadata": {
    "id": "j-EM8AmVCPNa"
   },
   "source": [
    "### MNIST Dataset\n",
    "\n",
    "MNIST is a simple computer vision dataset. It consists of images of handwritten digits like these:\n",
    "\n",
    "<img src=\"https://upload.wikimedia.org/wikipedia/commons/thumb/2/27/MnistExamples.png/480px-MnistExamples.png\">\n",
    "\n",
    "- 60,000 images of handwritten digits for training data (mnist.train),\n",
    "- 10,000 images of handwritten digits for test data (mnist.test),\n",
    "- Each image is 28 pixels by 28 pixels. We can interpret this as a big array of numbers:\n",
    "\n",
    "<img src=\"https://www.tensorflow.org/images/MNIST-Matrix.png\">\n",
    "\n",
    "An extended dataset similar to MNIST called [EMNIST](https://www.nist.gov/itl/products-and-services/emnist-dataset) has been published in 2017, which contains 240,000 training images, and 40,000 testing images of handwritten digits and characters.\n",
    "\n"
   ]
  },
  {
   "cell_type": "markdown",
   "metadata": {
    "id": "svTHt99r27sg"
   },
   "source": [
    "### One-hot encoding\n",
    "\n",
    "<img src=\"https://hackernoon.com/photos/4HK5qyMbWfetPhAavzyTZrEb90N2-3o23tie\">"
   ]
  },
  {
   "cell_type": "code",
   "execution_count": null,
   "metadata": {
    "colab": {
     "base_uri": "https://localhost:8080/"
    },
    "id": "Ly3JZVkx-UZg",
    "outputId": "7bb198ab-8bfb-41a9-a35e-ae749eae3e3e"
   },
   "outputs": [],
   "source": [
    "import numpy as np\n",
    "import tensorflow as tf\n",
    "from tensorflow.keras.models import Sequential\n",
    "from tensorflow.keras.layers import Dense\n",
    "from tensorflow.keras.datasets import mnist\n",
    "from tensorflow.keras.utils import to_categorical\n",
    "import matplotlib.pyplot as plt\n",
    "\n",
    "# Browsing Original Dataset\n",
    "\n",
    "(X_train, Y_train),(X_test, Y_test) = mnist.load_data()\n",
    "\n",
    "# Original 데이터 확인\n",
    "print('X_train shape: {}\\tY_train shape: {}\\n'.format(X_train.shape, Y_train.shape))\n",
    "print('X_test shape: {}\\tY_test shape: {}\\n'.format(X_test.shape, Y_test.shape))\n",
    "\n",
    "np.set_printoptions(linewidth=600, precision=2) # linewidth = 라인 최대 글자수, precision: 소수점이하 자리수\n",
    "\n",
    "print('\\n',Y_train[0: 9])\n",
    "print('\\n',X_train[0])\n",
    "print('\\n',X_train[5])     \n"
   ]
  },
  {
   "cell_type": "code",
   "execution_count": null,
   "metadata": {
    "colab": {
     "base_uri": "https://localhost:8080/",
     "height": 621
    },
    "id": "6ELqEgw_n-J3",
    "outputId": "5ec0762b-adf4-4710-9a71-34d4a806fe53"
   },
   "outputs": [],
   "source": [
    "fig = plt.figure(figsize=(6,6)) # Width, height in inches.\n",
    "fig.subplots_adjust(hspace=0.7)\n",
    "\n",
    "for index in range(25):\n",
    "    plt.subplot(5,5, index+1) # 5행 5열\n",
    "    plt.imshow(X_train[index], cmap='gray')\n",
    "    plt.axis('off')\n",
    "    plt.title(str(Y_train[index]))\n",
    "    \n",
    "plt.show()\n",
    "\n",
    "plt.imshow(X_train[9], cmap='gray') \n",
    "plt.colorbar()   \n",
    "plt.show()"
   ]
  },
  {
   "cell_type": "code",
   "execution_count": null,
   "metadata": {
    "colab": {
     "base_uri": "https://localhost:8080/",
     "height": 314
    },
    "id": "CY6LkGkgrPHU",
    "outputId": "7939bf11-986a-4a6e-fde9-7dfe37afd7b9"
   },
   "outputs": [],
   "source": [
    "# 학습데이터 정답 분포 확인\n",
    "\n",
    "label_distribution = np.zeros(10)\n",
    "for i in range(len(Y_train)):\n",
    "    label = int(Y_train[i])\n",
    "    label_distribution[label] = label_distribution[label] + 1\n",
    "\n",
    "print(label_distribution)\n",
    "\n",
    "# 히스토그램 시각화\n",
    "\n",
    "plt.title('train label distribution')\n",
    "plt.grid()\n",
    "plt.xlabel('label')\n",
    "plt.hist(Y_train, bins=10, rwidth=0.8)\n",
    "plt.show()"
   ]
  },
  {
   "cell_type": "code",
   "execution_count": null,
   "metadata": {
    "id": "Ek8Aaccy8OUa"
   },
   "outputs": [],
   "source": [
    "# Basic plotting function\n",
    "import matplotlib.pyplot as plt\n",
    "\n",
    "def plot(data1, data2, data1_label='', data2_label='', title='', xlabel='', ylabel=''):\n",
    "\n",
    "  plt.title(title)\n",
    "  plt.xlabel(xlabel)\n",
    "  plt.ylabel(ylabel)\n",
    "  plt.plot(data1, label=data1_label)\n",
    "  plt.plot(data2, label=data2_label)\n",
    "  plt.legend(loc='best')\n",
    "  plt.show()"
   ]
  },
  {
   "cell_type": "code",
   "execution_count": null,
   "metadata": {
    "colab": {
     "base_uri": "https://localhost:8080/",
     "height": 1000
    },
    "id": "839G-tO6QlOa",
    "outputId": "c7f54b48-fcaa-4c84-b5de-10ce26c49fb6"
   },
   "outputs": [],
   "source": [
    "import time\n",
    "start = time.time() # 실행시간 측정을 위해 시작 시간 저장 \n",
    "\n",
    "# Step 1: 데이터 준비. 전처리 가공, 하이퍼파라미터 지정\n",
    "\n",
    "(X_train, Y_train),(X_test, Y_test) = mnist.load_data()\n",
    "image_size = X_train.shape[1]\n",
    "num_classes = 10\n",
    "input_size= image_size*image_size \n",
    "\n",
    "# 데이터 전처리:\n",
    "\n",
    "# 1) Dense Layers의 input은 1차원 텐서만 가능\n",
    "X_train = np.reshape(X_train, [-1,input_size])\n",
    "X_test = np.reshape(X_test,[-1,input_size])\n",
    "print('X_train shape: ', X_train.shape)\n",
    "\n",
    "# 2) Data normalization: # 학습을 더 빨리하고 Local optimum 에 빠지는 가능성을 감소\n",
    "X_train = X_train/255.0\n",
    "X_test = X_test/255.0\n",
    "\n",
    "# 3) One-hot encoding\n",
    "# The Y_train data is the associated labels for all the x_train examples. Rather\n",
    "# than storing the label as an integer, it should be stored as a 1x10 binary \n",
    "# array with the one representing the digit. This is known as __one-hot encoding__. \n",
    "Y_train = to_categorical(Y_train, num_classes=num_classes)\n",
    "Y_test = to_categorical(Y_test, num_classes=num_classes)\n",
    "\n",
    "# 하이퍼 파라미터 설정\n",
    "# In computer programming it is generally best to use variables and constants \n",
    "# rather than having to hard-code specific numbers every time that number is used. \n",
    "epochs = 20\n",
    "batch_size = 128\n",
    "hidden_units = 32\n",
    "\n",
    "# Step 2: 모델 구성 \n",
    "model = Sequential([\n",
    "                    Dense(hidden_units, activation = 'relu',input_dim= input_size),\n",
    "                    Dense(10, activation='softmax')\n",
    " ])\n",
    " \n",
    "# Step 3: 모델 컴파일\n",
    "model.compile(optimizer='rmsprop', \n",
    "              loss = 'categorical_crossentropy',\n",
    "              metrics = ['accuracy'])\n",
    "\n",
    "# Step 4: 모델 학습\n",
    "hist = model.fit(X_train, Y_train, epochs=epochs, \n",
    "                 batch_size=batch_size,  validation_split=0.3, verbose = 1)\n",
    "            # verbose = 0 (silent), 1 (progress bar), 2 (one line per epoch)\n",
    "            # default = 1\n",
    "\n",
    "# Loss 시각화 \n",
    "plot(hist.history['loss'], hist.history['val_loss'], 'train loss','validation loss', 'Loss','epochs','accuracy')\n",
    "\n",
    "# Accuracy 시각화\n",
    "plot(hist.history['accuracy'], hist.history['val_accuracy'], 'train accuracy','validation accuracy', 'Accuracy','epochs','accuracy')\n",
    "\n",
    "# Step 5: 모델 평가\n",
    "model.evaluate(X_test, Y_test, batch_size= batch_size) \n",
    "\n",
    "print('\\nExecution time in seconds:', time.time()-start) #  실행시간 출력"
   ]
  },
  {
   "cell_type": "markdown",
   "metadata": {
    "id": "g_CfO38WE79j"
   },
   "source": [
    "### 혼돈 행렬(Confusion Matrix)\n",
    "\n",
    "- 모델의 성능을 평가할때 사용되는 지표\n",
    "- 예측값이 실제 관측값을 얼마나 정확히 예측했는지 보여주는 행렬\n",
    "<table>\n",
    "<tr> <th></th>               <th>예상(예)</th>     <th>예상(아니오)</th> </tr>\n",
    "<tr> <td>실제(예)</td>       <td>TP</td>           <td>FN</td></tr>\n",
    "<tr> <td>실제(아니오)</td>   <td>FP</td>           <td>TN</td></tr>\n",
    "</table>\n",
    "\n",
    "- TP(True Positive) : 참긍정, 병에 관해 예 (병이 있을것이다.)라고 예측한 환자가 실제 병을 가진 경우\n",
    "- TN(True Negative) : 참부정, 병에 관해 아니오(병이 없을 것이다)라고 예측한 환자가 실제로 병이 없는 경우\n",
    "- FP(False Positive) : 거짓긍정, 병에 관해 예라고 예측한 환자가 실제로는 병이 없는 경우\n",
    "- FN(False Negative) : 거짓부정, 병에 관해 아니오라고 예측한 환자가 실제로는 병이 있는 경우"
   ]
  },
  {
   "cell_type": "code",
   "execution_count": null,
   "metadata": {
    "colab": {
     "base_uri": "https://localhost:8080/",
     "height": 911
    },
    "id": "fSMmeyPavNLt",
    "outputId": "3b90770b-6031-4474-c3be-8baf391714e7"
   },
   "outputs": [],
   "source": [
    "from sklearn.metrics import confusion_matrix\n",
    "import seaborn as sns\n",
    "\n",
    "predicted_value =model.predict(X_test)\n",
    "\n",
    "# 테스트 데이터 실제 라벨 및 예측라벨 분포\n",
    "\n",
    "label_distribution = np.zeros(10)\n",
    "pred_distribution = np.zeros(10)\n",
    "for i in range(len(Y_test)):\n",
    "    label = int(np.argmax(Y_test[i]))\n",
    "    label_distribution[label] = label_distribution[label] + 1\n",
    "    pred_label = int(np.argmax(predicted_value[i]))\n",
    "    pred_distribution[pred_label] = pred_distribution[pred_label] + 1\n",
    "\n",
    "print('실제 라벨분포:', label_distribution)\n",
    "print('예측 라벨분포:', pred_distribution)\n",
    "\n",
    "# Check Confusion Matrix\n",
    "\n",
    "cm=confusion_matrix(np.argmax(Y_test, axis=-1),\n",
    "                   np.argmax(predicted_value, axis=-1))\n",
    "\n",
    "plt.figure(figsize=(6,6))\n",
    "sns.heatmap(cm,annot=True, fmt='d')\n",
    "plt.xlabel('Predicted')\n",
    "plt.ylabel('True')\n",
    "plt.show()\n",
    "\n",
    "# Check accuracies among 10 groups\n",
    "\n",
    "print(cm,'\\n')\n",
    "\n",
    "for i in range(10):\n",
    "    print(('label = %d\\t(%d/%d)\\taccuracy = %.3f') % \n",
    "          (i, np.max(cm[i]), np.sum(cm[i]), \n",
    "           np.max(cm[i])/np.sum(cm[i])))\n",
    "print('\\n')\n",
    "    \n",
    "# Test Data에서의 숫자별 정확도 확인\n",
    "\n",
    "label_distribution = np.zeros(10)\n",
    "prediction_distribution = np.zeros(10)\n",
    "\n",
    "for i in range(len(Y_test)):\n",
    "    label = int(np.argmax(Y_test[i]))\n",
    "    label_distribution[label] = label_distribution[label] + 1\n",
    "    prediction = int(np.argmax(predicted_value[i]))\n",
    "    prediction_distribution[prediction] = prediction_distribution[prediction] + 1\n",
    "\n",
    "print(label_distribution,'\\n')\n",
    "print(prediction_distribution)"
   ]
  },
  {
   "cell_type": "code",
   "execution_count": null,
   "metadata": {
    "colab": {
     "base_uri": "https://localhost:8080/",
     "height": 1000
    },
    "id": "GWUflsyoBLsP",
    "outputId": "87558d4e-441a-4466-e7d3-5ea0fb4f1086"
   },
   "outputs": [],
   "source": [
    "import time\n",
    "start = time.time() # 실행시간 측정을 위해 시작 시간 저장 \n",
    "\n",
    "# Step 1: 데이터 준비. 전처리 가공, 하이퍼파라미터 지정\n",
    "\n",
    "(X_train, Y_train),(X_test, Y_test) = mnist.load_data()\n",
    "image_size = X_train.shape[1]\n",
    "num_classes = 10\n",
    "input_size= image_size*image_size \n",
    "\n",
    "# 데이터 전처리:\n",
    "\n",
    "# 1) Dense Layers의 input은 1차원 텐서만 가능\n",
    "X_train = np.reshape(X_train, [-1,input_size])\n",
    "X_test = np.reshape(X_test,[-1,input_size])\n",
    "print('X_train shape: ', X_train.shape)\n",
    "\n",
    "# 2) Data normalization: # 학습을 더 빨리하고 Local optimum 에 빠지는 가능성을 감소\n",
    "X_train = X_train/255.0\n",
    "X_test = X_test/255.0\n",
    "\n",
    "# 3) One-hot encoding\n",
    "# The Y_train data is the associated labels for all the x_train examples. Rather\n",
    "# than storing the label as an integer, it should be stored as a 1x10 binary \n",
    "# array with the one representing the digit. This is known as __one-hot encoding__. \n",
    "Y_train = to_categorical(Y_train, num_classes=num_classes)\n",
    "Y_test = to_categorical(Y_test, num_classes=num_classes)\n",
    "\n",
    "# 하이퍼 파라미터 설정\n",
    "# In computer programming it is generally best to use variables and constants \n",
    "# rather than having to hard-code specific numbers every time that number is used. \n",
    "epochs = 20\n",
    "batch_size = 128\n",
    "hidden_units = 32\n",
    "\n",
    "# Step 2: 모델 구성 \n",
    "model = Sequential([\n",
    "                    Dense(10, activation='softmax',input_dim= input_size)\n",
    " ])\n",
    " \n",
    "# Step 3: 모델 컴파일\n",
    "model.compile(optimizer='rmsprop', \n",
    "              loss = 'categorical_crossentropy',\n",
    "              metrics = ['accuracy'])\n",
    "model.summary()\n",
    "\n",
    "# Step 4: 모델 학습\n",
    "hist = model.fit(X_train, Y_train, epochs=epochs, \n",
    "                 batch_size=batch_size,  validation_split=0.3, verbose = 1)\n",
    "            # verbose = 0 (silent), 1 (progress bar), 2 (one line per epoch)\n",
    "            # default = 1\n",
    "\n",
    "# Loss 시각화 \n",
    "plot(hist.history['loss'], hist.history['val_loss'], 'train loss','validation loss', 'Loss','epochs','accuracy')\n",
    "\n",
    "# Accuracy 시각화\n",
    "plot(hist.history['accuracy'], hist.history['val_accuracy'], 'train accuracy','validation accuracy', 'Accuracy','epochs','accuracy')\n",
    "\n",
    "# Step 5: 모델 평가\n",
    "model.evaluate(X_test, Y_test, batch_size= batch_size) \n",
    "\n",
    "print('\\nExecution time in seconds:', time.time()-start) #  실행시간 출력"
   ]
  },
  {
   "cell_type": "code",
   "execution_count": null,
   "metadata": {},
   "outputs": [],
   "source": [
    "from sklearn.metrics import confusion_matrix\n",
    "import seaborn as sns\n",
    "\n",
    "predicted_value =model.predict(X_test)\n",
    "\n",
    "# 테스트 데이터 실제 라벨 및 예측라벨 분포\n",
    "\n",
    "label_distribution = np.zeros(10)\n",
    "pred_distribution = np.zeros(10)\n",
    "for i in range(len(Y_test)):\n",
    "    label = int(np.argmax(Y_test[i]))\n",
    "    label_distribution[label] = label_distribution[label] + 1\n",
    "    pred_label = int(np.argmax(predicted_value[i]))\n",
    "    pred_distribution[pred_label] = pred_distribution[pred_label] + 1\n",
    "\n",
    "print('실제 라벨분포:', label_distribution)\n",
    "print('예측 라벨분포:', pred_distribution)\n",
    "\n",
    "# Check Confusion Matrix\n",
    "\n",
    "cm=confusion_matrix(np.argmax(Y_test, axis=-1),\n",
    "                   np.argmax(predicted_value, axis=-1))\n",
    "\n",
    "plt.figure(figsize=(6,6))\n",
    "sns.heatmap(cm,annot=True, fmt='d')\n",
    "plt.xlabel('Predicted')\n",
    "plt.ylabel('True')\n",
    "plt.show()\n",
    "\n",
    "# Check accuracies among 10 groups\n",
    "\n",
    "print(cm,'\\n')\n",
    "\n",
    "for i in range(10):\n",
    "    print(('label = %d\\t(%d/%d)\\taccuracy = %.3f') % \n",
    "          (i, np.max(cm[i]), np.sum(cm[i]), \n",
    "           np.max(cm[i])/np.sum(cm[i])))\n",
    "print('\\n')\n",
    "    \n",
    "# Test Data에서의 숫자별 정확도 확인\n",
    "\n",
    "label_distribution = np.zeros(10)\n",
    "prediction_distribution = np.zeros(10)\n",
    "\n",
    "for i in range(len(Y_test)):\n",
    "\n",
    "    label = int(np.argmax(Y_test[i]))\n",
    "\n",
    "    label_distribution[label] = label_distribution[label] + 1\n",
    "\n",
    "    prediction = int(np.argmax(predicted_value[i]))\n",
    "\n",
    "    prediction_distribution[prediction] = prediction_distribution[prediction] + 1\n",
    "\n",
    "\n",
    "print(label_distribution,'\\n')\n",
    "print(prediction_distribution)"
   ]
  },
  {
   "cell_type": "code",
   "execution_count": null,
   "metadata": {
    "colab": {
     "base_uri": "https://localhost:8080/",
     "height": 911
    },
    "id": "x4wK69jqBtt5",
    "outputId": "72f71277-b73e-4363-f46f-4ebf54fd2a8b"
   },
   "outputs": [],
   "source": [
    "from sklearn.metrics import confusion_matrix\n",
    "import seaborn as sns\n",
    "\n",
    "predicted_value =model.predict(X_test)\n",
    "\n",
    "# 테스트 데이터 실제 라벨 및 예측라벨 분포\n",
    "\n",
    "label_distribution = np.zeros(10)\n",
    "pred_distribution = np.zeros(10)\n",
    "for i in range(len(Y_test)):\n",
    "    label = int(np.argmax(Y_test[i]))\n",
    "    label_distribution[label] = label_distribution[label] + 1\n",
    "    pred_label = int(np.argmax(predicted_value[i]))\n",
    "    pred_distribution[pred_label] = pred_distribution[pred_label] + 1\n",
    "\n",
    "print('실제 라벨분포:', label_distribution)\n",
    "print('예측 라벨분포:', pred_distribution)\n",
    "\n",
    "# Check Confusion Matrix\n",
    "\n",
    "cm=confusion_matrix(np.argmax(Y_test, axis=-1),\n",
    "                   np.argmax(predicted_value, axis=-1))\n",
    "\n",
    "plt.figure(figsize=(6,6))\n",
    "sns.heatmap(cm,annot=True, fmt='d')\n",
    "plt.xlabel('Predicted')\n",
    "plt.ylabel('True')\n",
    "plt.show()\n",
    "\n",
    "# Check accuracies among 10 groups\n",
    "\n",
    "print(cm,'\\n')\n",
    "\n",
    "for i in range(10):\n",
    "    print(('label = %d\\t(%d/%d)\\taccuracy = %.3f') % \n",
    "          (i, np.max(cm[i]), np.sum(cm[i]), \n",
    "           np.max(cm[i])/np.sum(cm[i])))\n",
    "print('\\n')\n",
    "    \n",
    "# Test Data에서의 숫자별 정확도 확인\n",
    "\n",
    "label_distribution = np.zeros(10)\n",
    "prediction_distribution = np.zeros(10)\n",
    "\n",
    "for i in range(len(Y_test)):\n",
    "\n",
    "    label = int(np.argmax(Y_test[i]))\n",
    "\n",
    "    label_distribution[label] = label_distribution[label] + 1\n",
    "\n",
    "    prediction = int(np.argmax(predicted_value[i]))\n",
    "\n",
    "    prediction_distribution[prediction] = prediction_distribution[prediction] + 1\n",
    "\n",
    "\n",
    "print(label_distribution,'\\n')\n",
    "print(prediction_distribution)"
   ]
  },
  {
   "cell_type": "code",
   "execution_count": null,
   "metadata": {
    "colab": {
     "base_uri": "https://localhost:8080/",
     "height": 1000
    },
    "id": "pAVgPdWHCpit",
    "outputId": "ec665b63-29e4-4569-d7de-df0a37588bd4"
   },
   "outputs": [],
   "source": [
    "images_label5 = []\n",
    "for i in range(10000):\n",
    "  if (np.argmax(Y_test[i]) == 5) and (np.argmax(predicted_value[i]) != 5):\n",
    "    images_label5.append(X_test[i])\n",
    "\n",
    "number_images = len(images_label5)\n",
    "\n",
    "for i in range(number_images):\n",
    "    plt.imshow(np.reshape(images_label5[i], [28,28]), cmap='gray') \n",
    "    plt.colorbar()   \n",
    "    plt.axis('off')\n",
    "    plt.show()"
   ]
  },
  {
   "cell_type": "code",
   "execution_count": null,
   "metadata": {
    "id": "HjdS-3m5FMk7"
   },
   "outputs": [],
   "source": []
  }
 ],
 "metadata": {
  "colab": {
   "collapsed_sections": [],
   "name": "Keras tutorial.ipynb",
   "provenance": []
  },
  "kernelspec": {
   "display_name": "Python 3",
   "language": "python",
   "name": "python3"
  },
  "language_info": {
   "codemirror_mode": {
    "name": "ipython",
    "version": 3
   },
   "file_extension": ".py",
   "mimetype": "text/x-python",
   "name": "python",
   "nbconvert_exporter": "python",
   "pygments_lexer": "ipython3",
   "version": "3.8.5"
  }
 },
 "nbformat": 4,
 "nbformat_minor": 1
}
