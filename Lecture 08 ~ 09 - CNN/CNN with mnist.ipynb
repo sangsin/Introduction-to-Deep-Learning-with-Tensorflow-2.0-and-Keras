{
 "cells": [
  {
   "cell_type": "code",
   "execution_count": 1,
   "metadata": {},
   "outputs": [
    {
     "name": "stdout",
     "output_type": "stream",
     "text": [
      "1 Physical GPUs, 1 Logical GPUs\n"
     ]
    }
   ],
   "source": [
    "import tensorflow as tf\n",
    "from tensorflow.keras.models import Sequential\n",
    "from tensorflow.keras.utils import to_categorical\n",
    "from tensorflow.keras.layers import Conv2D, MaxPooling2D, Flatten\n",
    "from tensorflow.keras.layers import Dense, Activation, Dropout\n",
    "from tensorflow.keras.datasets import mnist\n",
    "import numpy as np\n",
    "\n",
    "# To prevent CUBLAS_STATUS_ALLOC_FAILED problem in tensorflow 2, the follwing codes are necessary.\n",
    "gpus = tf.config.experimental.list_physical_devices('GPU')\n",
    "if gpus:\n",
    "    try:\n",
    "        # Currently, memory growth needs to be the same across GPUs\n",
    "        for gpu in gpus:\n",
    "            tf.config.experimental.set_memory_growth(gpu, True)\n",
    "        logical_gpus = tf.config.experimental.list_logical_devices('GPU')\n",
    "        print(len(gpus), \"Physical GPUs,\", len(logical_gpus), \"Logical GPUs\")\n",
    "    except RuntimeError as e:\n",
    "        # Memory growth must be set before GPUs have been initialized\n",
    "        print(e)"
   ]
  },
  {
   "cell_type": "code",
   "execution_count": 2,
   "metadata": {},
   "outputs": [],
   "source": [
    "# Step 1: Data Preparation\n",
    "\n",
    "(x_train, y_train), (x_test, y_test) = mnist.load_data()\n",
    "\n",
    "num_labels = len(np.unique(y_train))\n",
    "\n",
    "# Reshape\n",
    "image_size= x_train.shape[1]\n",
    "\n",
    "x_train = np.reshape(x_train, [-1, image_size, image_size, 1])\n",
    "x_test = np.reshape(x_test, [-1, image_size, image_size, 1])\n",
    "\n",
    "# Normalizing\n",
    "\n",
    "x_train = x_train/255.\n",
    "x_test = x_test/255.\n",
    "\n",
    "\n",
    "# One-hot encoding\n",
    "\n",
    "y_train=to_categorical(y_train)\n",
    "y_test=to_categorical(y_test)"
   ]
  },
  {
   "cell_type": "code",
   "execution_count": 3,
   "metadata": {},
   "outputs": [
    {
     "name": "stdout",
     "output_type": "stream",
     "text": [
      "Model: \"sequential\"\n",
      "_________________________________________________________________\n",
      "Layer (type)                 Output Shape              Param #   \n",
      "=================================================================\n",
      "conv2d (Conv2D)              (None, 26, 26, 64)        640       \n",
      "_________________________________________________________________\n",
      "max_pooling2d (MaxPooling2D) (None, 13, 13, 64)        0         \n",
      "_________________________________________________________________\n",
      "conv2d_1 (Conv2D)            (None, 11, 11, 64)        36928     \n",
      "_________________________________________________________________\n",
      "max_pooling2d_1 (MaxPooling2 (None, 5, 5, 64)          0         \n",
      "_________________________________________________________________\n",
      "conv2d_2 (Conv2D)            (None, 3, 3, 64)          36928     \n",
      "_________________________________________________________________\n",
      "flatten (Flatten)            (None, 576)               0         \n",
      "_________________________________________________________________\n",
      "dropout (Dropout)            (None, 576)               0         \n",
      "_________________________________________________________________\n",
      "dense (Dense)                (None, 10)                5770      \n",
      "_________________________________________________________________\n",
      "activation (Activation)      (None, 10)                0         \n",
      "=================================================================\n",
      "Total params: 80,266\n",
      "Trainable params: 80,266\n",
      "Non-trainable params: 0\n",
      "_________________________________________________________________\n"
     ]
    }
   ],
   "source": [
    "# Step 2: Model construction\n",
    "\n",
    "input_shape =(image_size,image_size, 1)\n",
    "batch_size = 128\n",
    "kernel_size=3\n",
    "pool_size=2\n",
    "filters=64\n",
    "dropout=0.2\n",
    "\n",
    "# model is a stack of CNN-ReLU-MaxPooling\n",
    "\n",
    "model = Sequential()\n",
    "# The major change here is the use of the Conv2D layers. The ReLU activation function is already an argument of Conv2D . \n",
    "# The ReLU function can be brought out as an Activation layer when the batch normalization layer is included in the model. \n",
    "# Batch normalization is used in deep CNNs so that large learning rates can be utilized without causing instability \n",
    "# during training.\n",
    "\n",
    "# If, in the MLP model, the number of units characterizes the Dense layers, the kernel characterizes the CNN operations. \n",
    "# The kernel can be visualized as a rectangular patch or window that slides through the whole image from left to right, \n",
    "# and from top to bottom. This operation is called convolution. \n",
    "# It transforms the input image into a feature map, which is a representation of what the kernel has learned from the \n",
    "# input image. The feature map is then transformed into another feature map in the succeeding layer and so on. \n",
    "# The number of feature maps generated per Conv2D is controlled by the filters argument.\n",
    "\n",
    "# You'll notice that the resulting feature map is smaller than the original input image, this is because the convolution \n",
    "# is only performed on valid elements. The kernel cannot go beyond the borders of the image. \n",
    "# If the dimensions of the input should be the same as the output feature maps, Conv2D accepts the option padding='same' . \n",
    "# The input is padded with zeros around its borders to keep the dimensions unchanged after the convolution.\n",
    "\n",
    "\n",
    "model.add(Conv2D(filters=filters, \n",
    "                 kernel_size=kernel_size,\n",
    "                 activation='relu',\n",
    "                 input_shape= input_shape))\n",
    "\n",
    "# The significance of MaxPooling2D is the reduction in feature map size, which translates to an increase in receptive field \n",
    "# size. For example, after MaxPooling2D(2) , the 2 × 2 kernel is now approximately convolving with a 4 × 4 patch. \n",
    "# The CNN has learned a new set of feature maps for a different receptive field size.\n",
    "\n",
    "# In Conv2D and MaxPooling2D , both pool_size and kernel can be non-square. In these cases, both the row and column sizes \n",
    "# must be indicated. For example, pool_ size = (1, 2) and kernel = (3, 5)\n",
    "\n",
    "model.add(MaxPooling2D(pool_size))\n",
    "\n",
    "model.add(Conv2D(filters=filters, \n",
    "                 kernel_size=kernel_size,\n",
    "                 activation='relu'))\n",
    "model.add(MaxPooling2D(pool_size))\n",
    "model.add(Conv2D(filters=filters, \n",
    "                 kernel_size=kernel_size,\n",
    "                 activation='relu',\n",
    "                 input_shape= input_shape))\n",
    "\n",
    "# The output of the last MaxPooling2D operation is a stack of feature maps. The role of Flatten is to convert the stack of \n",
    "# feature maps into a vector format that is suitable for either Dropout or Dense layers, similar to the MLP model output \n",
    "# layer.\n",
    "\n",
    "model.add(Flatten())\n",
    "\n",
    "# dropout added as regularizer\n",
    "model.add(Dropout(dropout)) \n",
    "\n",
    "# output layer is 10-dim one-hot vector\n",
    "model.add(Dense(num_labels))\n",
    "model.add(Activation('softmax'))\n",
    "\n",
    "model.summary()"
   ]
  },
  {
   "cell_type": "code",
   "execution_count": 4,
   "metadata": {},
   "outputs": [],
   "source": [
    "# Step 3: Model compile\n",
    "\n",
    "model.compile(loss='categorical_crossentropy',\n",
    "              optimizer='adam',\n",
    "              metrics=['accuracy'])"
   ]
  },
  {
   "cell_type": "code",
   "execution_count": 5,
   "metadata": {},
   "outputs": [
    {
     "name": "stdout",
     "output_type": "stream",
     "text": [
      "Epoch 1/10\n",
      "469/469 [==============================] - 6s 5ms/step - loss: 0.5821 - accuracy: 0.8228\n",
      "Epoch 2/10\n",
      "469/469 [==============================] - 2s 4ms/step - loss: 0.0734 - accuracy: 0.9777\n",
      "Epoch 3/10\n",
      "469/469 [==============================] - ETA: 0s - loss: 0.0498 - accuracy: 0.98 - 2s 4ms/step - loss: 0.0498 - accuracy: 0.9839\n",
      "Epoch 4/10\n",
      "469/469 [==============================] - 2s 4ms/step - loss: 0.0379 - accuracy: 0.9879\n",
      "Epoch 5/10\n",
      "469/469 [==============================] - 2s 4ms/step - loss: 0.0328 - accuracy: 0.9898\n",
      "Epoch 6/10\n",
      "469/469 [==============================] - 2s 4ms/step - loss: 0.0264 - accuracy: 0.9915\n",
      "Epoch 7/10\n",
      "469/469 [==============================] - 2s 4ms/step - loss: 0.0238 - accuracy: 0.9925\n",
      "Epoch 8/10\n",
      "469/469 [==============================] - 2s 4ms/step - loss: 0.0190 - accuracy: 0.9941\n",
      "Epoch 9/10\n",
      "469/469 [==============================] - 2s 4ms/step - loss: 0.0159 - accuracy: 0.9944\n",
      "Epoch 10/10\n",
      "469/469 [==============================] - 2s 4ms/step - loss: 0.0147 - accuracy: 0.9951\n"
     ]
    },
    {
     "data": {
      "text/plain": [
       "<tensorflow.python.keras.callbacks.History at 0x2678747ec70>"
      ]
     },
     "execution_count": 5,
     "metadata": {},
     "output_type": "execute_result"
    }
   ],
   "source": [
    "# Step 4: Model fit\n",
    "\n",
    "model.fit(x_train, y_train, epochs=10, batch_size=batch_size)"
   ]
  },
  {
   "cell_type": "code",
   "execution_count": 6,
   "metadata": {},
   "outputs": [
    {
     "name": "stdout",
     "output_type": "stream",
     "text": [
      "\n",
      "Test accuracy: 99.0%\n"
     ]
    }
   ],
   "source": [
    "# The model evaluation output shows a maximum test accuracy of 99.3%, which can be achieved for a 3-layer network with \n",
    "# 64 feature maps per layer using the Adam optimizer with dropout=0.2 . CNNs are more parameter efficient and have a higher\n",
    "# accuracy than MLPs. \n",
    "# Likewise, CNNs are also suitable for learning representations from sequential data, images, and videos.\n",
    " \n",
    "_, acc = model.evaluate(x_test,\n",
    "                        y_test,\n",
    "                        batch_size=batch_size,\n",
    "                   verbose=0)\n",
    "print(\"\\nTest accuracy: %.1f%%\" % (100.0 * acc))"
   ]
  }
 ],
 "metadata": {
  "kernelspec": {
   "display_name": "Python 3",
   "language": "python",
   "name": "python3"
  },
  "language_info": {
   "codemirror_mode": {
    "name": "ipython",
    "version": 3
   },
   "file_extension": ".py",
   "mimetype": "text/x-python",
   "name": "python",
   "nbconvert_exporter": "python",
   "pygments_lexer": "ipython3",
   "version": "3.8.5"
  }
 },
 "nbformat": 4,
 "nbformat_minor": 4
}
