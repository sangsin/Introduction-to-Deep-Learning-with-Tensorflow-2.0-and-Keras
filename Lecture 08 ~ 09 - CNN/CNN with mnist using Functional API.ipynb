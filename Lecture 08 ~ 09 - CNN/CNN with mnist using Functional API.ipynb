{
 "cells": [
  {
   "cell_type": "code",
   "execution_count": 1,
   "metadata": {},
   "outputs": [
    {
     "name": "stdout",
     "output_type": "stream",
     "text": [
      "1 Physical GPUs, 1 Logical GPUs\n"
     ]
    }
   ],
   "source": [
    "import tensorflow as tf\n",
    "import numpy as np\n",
    "from tensorflow.keras.models import Model\n",
    "from tensorflow.keras.layers import Dense, Dropout, Input\n",
    "from tensorflow.keras.layers import Conv2D, MaxPooling2D, Flatten\n",
    "from tensorflow.keras.utils import to_categorical, plot_model\n",
    "from tensorflow.keras.datasets import mnist\n",
    "\n",
    "# To prevent CUBLAS_STATUS_ALLOC_FAILED problem in tensorflow 2, the follwing codes are necessary.\n",
    "\n",
    "gpus = tf.config.experimental.list_physical_devices('GPU')\n",
    "if gpus:\n",
    "    try:\n",
    "        # Currently, memory growth needs to be the same across GPUs\n",
    "        for gpu in gpus:\n",
    "            tf.config.experimental.set_memory_growth(gpu, True)\n",
    "        logical_gpus = tf.config.experimental.list_logical_devices('GPU')\n",
    "        print(len(gpus), \"Physical GPUs,\", len(logical_gpus), \"Logical GPUs\")\n",
    "    except RuntimeError as e:\n",
    "        # Memory growth must be set before GPUs have been initialized\n",
    "        print(e)\n"
   ]
  },
  {
   "cell_type": "code",
   "execution_count": 2,
   "metadata": {},
   "outputs": [],
   "source": [
    "# Step 1: Data preparation\n",
    "\n",
    "(x_train, y_train), (x_test, y_test) = mnist.load_data()\n",
    "\n",
    "num_labels = len(np.unique(y_train))\n",
    "\n",
    "# One hot encoding\n",
    "\n",
    "y_train = to_categorical(y_train)\n",
    "y_test = to_categorical(y_test)\n",
    "\n",
    "# reshaping\n",
    "image_size = x_train.shape[1]\n",
    "x_train = np.reshape(x_train, [-1, image_size, image_size, 1])\n",
    "x_test = np.reshape(x_test, [-1, image_size, image_size, 1])\n",
    "\n",
    "# normalizing\n",
    "\n",
    "x_train = x_train/ 255.\n",
    "x_test = x_test/ 255."
   ]
  },
  {
   "cell_type": "code",
   "execution_count": 3,
   "metadata": {},
   "outputs": [
    {
     "name": "stdout",
     "output_type": "stream",
     "text": [
      "Model: \"model\"\n",
      "_________________________________________________________________\n",
      "Layer (type)                 Output Shape              Param #   \n",
      "=================================================================\n",
      "input_1 (InputLayer)         [(None, 28, 28, 1)]       0         \n",
      "_________________________________________________________________\n",
      "conv2d (Conv2D)              (None, 26, 26, 64)        640       \n",
      "_________________________________________________________________\n",
      "max_pooling2d (MaxPooling2D) (None, 13, 13, 64)        0         \n",
      "_________________________________________________________________\n",
      "conv2d_1 (Conv2D)            (None, 11, 11, 64)        36928     \n",
      "_________________________________________________________________\n",
      "max_pooling2d_1 (MaxPooling2 (None, 5, 5, 64)          0         \n",
      "_________________________________________________________________\n",
      "conv2d_2 (Conv2D)            (None, 3, 3, 64)          36928     \n",
      "_________________________________________________________________\n",
      "flatten (Flatten)            (None, 576)               0         \n",
      "_________________________________________________________________\n",
      "dropout (Dropout)            (None, 576)               0         \n",
      "_________________________________________________________________\n",
      "dense (Dense)                (None, 10)                5770      \n",
      "=================================================================\n",
      "Total params: 80,266\n",
      "Trainable params: 80,266\n",
      "Non-trainable params: 0\n",
      "_________________________________________________________________\n"
     ]
    }
   ],
   "source": [
    "# Step 2: Model Construction \n",
    "\n",
    "# Hyperparameter setup\n",
    "\n",
    "input_shape = [image_size,image_size,1]\n",
    "batch_size=128\n",
    "kernel_size=3\n",
    "pool_size=2\n",
    "dropout=0.3\n",
    "epochs=20\n",
    "filters = 64\n",
    "\n",
    "# Model Construction using functional API\n",
    "\n",
    "inputs = Input(shape=input_shape)\n",
    "y= Conv2D(filters=filters, kernel_size=kernel_size, activation='relu')(inputs)\n",
    "y= MaxPooling2D(pool_size=pool_size)(y) # By default, MaxPooling2D uses pool_size=2 , so the argument could be removed.\n",
    "y= Conv2D(filters=filters, kernel_size=kernel_size, activation='relu')(y)\n",
    "y= MaxPooling2D()(y) \n",
    "\n",
    "y= Conv2D(filters=filters, kernel_size=kernel_size, activation='relu')(y)\n",
    "\n",
    "# image to vector before connecting to dense layer\n",
    "\n",
    "y=Flatten()(y)\n",
    "\n",
    "# dropout regularization\n",
    "\n",
    "y=Dropout(dropout)(y)\n",
    "\n",
    "# Connect to Final output layer\n",
    "\n",
    "outputs = Dense(num_labels, activation='softmax')(y)\n",
    "\n",
    "# Build the model by supplying inputs/outputs\n",
    "\n",
    "model = Model(inputs=inputs, outputs = outputs)\n",
    "\n",
    "model.summary()"
   ]
  },
  {
   "cell_type": "code",
   "execution_count": 4,
   "metadata": {},
   "outputs": [],
   "source": [
    "# Step 3: Model Compile\n",
    "\n",
    "model.compile(loss='categorical_crossentropy',\n",
    "              optimizer='adam',\n",
    "              metrics=['accuracy'])"
   ]
  },
  {
   "cell_type": "code",
   "execution_count": 5,
   "metadata": {},
   "outputs": [
    {
     "name": "stdout",
     "output_type": "stream",
     "text": [
      "Epoch 1/20\n",
      "469/469 [==============================] - 5s 6ms/step - loss: 0.6397 - accuracy: 0.8022 - val_loss: 0.0557 - val_accuracy: 0.9828\n",
      "Epoch 2/20\n",
      "469/469 [==============================] - 2s 4ms/step - loss: 0.0803 - accuracy: 0.9753 - val_loss: 0.0364 - val_accuracy: 0.9879\n",
      "Epoch 3/20\n",
      "469/469 [==============================] - 2s 4ms/step - loss: 0.0532 - accuracy: 0.9835 - val_loss: 0.0316 - val_accuracy: 0.9897\n",
      "Epoch 4/20\n",
      "469/469 [==============================] - 2s 4ms/step - loss: 0.0453 - accuracy: 0.9863 - val_loss: 0.0293 - val_accuracy: 0.9897\n",
      "Epoch 5/20\n",
      "469/469 [==============================] - 2s 5ms/step - loss: 0.0367 - accuracy: 0.9881 - val_loss: 0.0239 - val_accuracy: 0.9914\n",
      "Epoch 6/20\n",
      "469/469 [==============================] - 2s 4ms/step - loss: 0.0312 - accuracy: 0.9895 - val_loss: 0.0238 - val_accuracy: 0.9921\n",
      "Epoch 7/20\n",
      "469/469 [==============================] - 2s 4ms/step - loss: 0.0260 - accuracy: 0.9922 - val_loss: 0.0245 - val_accuracy: 0.9915\n",
      "Epoch 8/20\n",
      "469/469 [==============================] - 2s 4ms/step - loss: 0.0245 - accuracy: 0.9921 - val_loss: 0.0245 - val_accuracy: 0.9913\n",
      "Epoch 9/20\n",
      "469/469 [==============================] - 2s 4ms/step - loss: 0.0201 - accuracy: 0.9934 - val_loss: 0.0219 - val_accuracy: 0.9926\n",
      "Epoch 10/20\n",
      "469/469 [==============================] - 2s 4ms/step - loss: 0.0199 - accuracy: 0.9930 - val_loss: 0.0215 - val_accuracy: 0.9923\n",
      "Epoch 11/20\n",
      "469/469 [==============================] - 2s 4ms/step - loss: 0.0174 - accuracy: 0.9941 - val_loss: 0.0222 - val_accuracy: 0.9929\n",
      "Epoch 12/20\n",
      "469/469 [==============================] - 2s 4ms/step - loss: 0.0155 - accuracy: 0.9951 - val_loss: 0.0200 - val_accuracy: 0.9939\n",
      "Epoch 13/20\n",
      "469/469 [==============================] - 2s 4ms/step - loss: 0.0147 - accuracy: 0.9954 - val_loss: 0.0260 - val_accuracy: 0.9918\n",
      "Epoch 14/20\n",
      "469/469 [==============================] - 2s 4ms/step - loss: 0.0134 - accuracy: 0.9958 - val_loss: 0.0223 - val_accuracy: 0.9940\n",
      "Epoch 15/20\n",
      "469/469 [==============================] - 2s 4ms/step - loss: 0.0121 - accuracy: 0.9957 - val_loss: 0.0248 - val_accuracy: 0.9921\n",
      "Epoch 16/20\n",
      "469/469 [==============================] - 2s 4ms/step - loss: 0.0112 - accuracy: 0.9963 - val_loss: 0.0276 - val_accuracy: 0.9921\n",
      "Epoch 17/20\n",
      "469/469 [==============================] - 2s 4ms/step - loss: 0.0103 - accuracy: 0.9965 - val_loss: 0.0216 - val_accuracy: 0.9930\n",
      "Epoch 18/20\n",
      "469/469 [==============================] - 2s 4ms/step - loss: 0.0091 - accuracy: 0.9973 - val_loss: 0.0251 - val_accuracy: 0.9925\n",
      "Epoch 19/20\n",
      "469/469 [==============================] - 2s 4ms/step - loss: 0.0087 - accuracy: 0.9970 - val_loss: 0.0314 - val_accuracy: 0.9929\n",
      "Epoch 20/20\n",
      "469/469 [==============================] - 2s 4ms/step - loss: 0.0075 - accuracy: 0.9974 - val_loss: 0.0261 - val_accuracy: 0.9924\n",
      "Train Time in seconds: 45.59\n"
     ]
    }
   ],
   "source": [
    "# Step 4: Model Fit\n",
    "\n",
    "import time\n",
    "start_time=time.time()\n",
    "\n",
    "model.fit(x_train, y_train, \n",
    "          validation_data=(x_test, y_test),\n",
    "          epochs=epochs, batch_size=batch_size)\n",
    "print('Train Time in seconds: {:.2f}'.format(time.time()-start_time))"
   ]
  },
  {
   "cell_type": "code",
   "execution_count": 6,
   "metadata": {},
   "outputs": [
    {
     "name": "stdout",
     "output_type": "stream",
     "text": [
      "79/79 [==============================] - 0s 2ms/step - loss: 0.0261 - accuracy: 0.9924\n",
      "Test Accuracy: 99.24%\n"
     ]
    }
   ],
   "source": [
    "# Step 5: Model Evaluation\n",
    "\n",
    "__,acc= model.evaluate(x_test, y_test, batch_size=batch_size)\n",
    "print('Test Accuracy: {:.2f}%'.format(100*acc))"
   ]
  }
 ],
 "metadata": {
  "kernelspec": {
   "display_name": "Python 3",
   "language": "python",
   "name": "python3"
  },
  "language_info": {
   "codemirror_mode": {
    "name": "ipython",
    "version": 3
   },
   "file_extension": ".py",
   "mimetype": "text/x-python",
   "name": "python",
   "nbconvert_exporter": "python",
   "pygments_lexer": "ipython3",
   "version": "3.8.5"
  }
 },
 "nbformat": 4,
 "nbformat_minor": 4
}
