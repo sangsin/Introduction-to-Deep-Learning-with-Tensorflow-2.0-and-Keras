{
  "nbformat": 4,
  "nbformat_minor": 0,
  "metadata": {
    "colab": {
      "name": "Linear_Regression_with_TF_2.ipynb의 사본",
      "provenance": [],
      "collapsed_sections": [],
      "toc_visible": true,
      "include_colab_link": true
    },
    "kernelspec": {
      "name": "python3",
      "display_name": "Python 3"
    },
    "accelerator": "GPU"
  },
  "cells": [
    {
      "cell_type": "markdown",
      "metadata": {
        "id": "view-in-github",
        "colab_type": "text"
      },
      "source": [
        "<a href=\"https://colab.research.google.com/github/sangsin/Introduction-to-Deep-Learning-with-Tensorflow-2.0-and-Keras/blob/main/Linear_Regression_with_TF_2_ipynb%EC%9D%98_%EC%82%AC%EB%B3%B8.ipynb\" target=\"_parent\"><img src=\"https://colab.research.google.com/assets/colab-badge.svg\" alt=\"Open In Colab\"/></a>"
      ]
    },
    {
      "cell_type": "markdown",
      "metadata": {
        "id": "ED6cEsCu781l"
      },
      "source": [
        "# Linear Regression with TensorFlow 2.0 APIs\n",
        "This notebook demonstrates how to construct a linear regression model with the newer TensorFlow 2.+ APIs.\n",
        "\n",
        "우선 필요한 packge를 import\n",
        "\n",
        "- Tensorflow\n",
        "- [Pandas](https://pandas.pydata.org/) \n",
        "- [NumPy](https://www.numpy.org/) \n",
        "-  [Scikit Learn's `train_test_split` module.](https://scikit-learn.org/stable/modules/generated/sklearn.model_selection.train_test_split.html)"
      ]
    },
    {
      "cell_type": "code",
      "metadata": {
        "id": "e-A0vgnmRPXf",
        "colab": {
          "base_uri": "https://localhost:8080/"
        },
        "outputId": "694061d0-06ef-4fba-e562-60fdbbb1d944"
      },
      "source": [
        "import tensorflow as tf \n",
        "import numpy as np\n",
        "import pandas as pd\n",
        "from sklearn.model_selection import train_test_split\n",
        "\n",
        "print('Tensorflow version: ', tf.__version__ )\n",
        "print('\\n')\n",
        "\n",
        "# 그래피카드 유무 확인 및 메모리 확장 설정\n",
        "gpus = tf.config.experimental.list_physical_devices('GPU')\n",
        "if gpus:\n",
        "  print('사용가능한 GPU 갯수: ',len(gpus), '\\n')\n",
        "      \n",
        "  try:\n",
        "    # 프로그램이 실행되어 더 많은 GPU 메모리가 필요하면, 텐서플로 프로세스에 할당된 GPU 메모리 \n",
        "    # 영역을 확장할 수있도록 허용\n",
        "    tf.config.experimental.set_memory_growth(gpus[0], True)\n",
        "\n",
        "  except RuntimeError as e:\n",
        "    # 프로그램 시작시에 접근 가능한 장치가 설정되어야만 합니다\n",
        "    print(e)\n",
        "\n",
        "# 설치된 GPU 상세내용 확인\n",
        "!nvidia-smi"
      ],
      "execution_count": 67,
      "outputs": [
        {
          "output_type": "stream",
          "text": [
            "Tensorflow version:  2.4.1\n",
            "\n",
            "\n",
            "사용가능한 GPU 갯수:  1 \n",
            "\n",
            "Sun May 16 23:09:03 2021       \n",
            "+-----------------------------------------------------------------------------+\n",
            "| NVIDIA-SMI 465.19.01    Driver Version: 460.32.03    CUDA Version: 11.2     |\n",
            "|-------------------------------+----------------------+----------------------+\n",
            "| GPU  Name        Persistence-M| Bus-Id        Disp.A | Volatile Uncorr. ECC |\n",
            "| Fan  Temp  Perf  Pwr:Usage/Cap|         Memory-Usage | GPU-Util  Compute M. |\n",
            "|                               |                      |               MIG M. |\n",
            "|===============================+======================+======================|\n",
            "|   0  Tesla T4            Off  | 00000000:00:04.0 Off |                    0 |\n",
            "| N/A   33C    P8     9W /  70W |      3MiB / 15109MiB |      0%      Default |\n",
            "|                               |                      |                  N/A |\n",
            "+-------------------------------+----------------------+----------------------+\n",
            "                                                                               \n",
            "+-----------------------------------------------------------------------------+\n",
            "| Processes:                                                                  |\n",
            "|  GPU   GI   CI        PID   Type   Process name                  GPU Memory |\n",
            "|        ID   ID                                                   Usage      |\n",
            "|=============================================================================|\n",
            "|  No running processes found                                                 |\n",
            "+-----------------------------------------------------------------------------+\n"
          ],
          "name": "stdout"
        }
      ]
    },
    {
      "cell_type": "markdown",
      "metadata": {
        "id": "gSjWLlrOktS_"
      },
      "source": [
        "## [How to fetch Kaggle datasets into Colab](https://medium.com/analytics-vidhya/how-to-fetch-kaggle-datasets-into-google-colab-ea682569851a)\n",
        "\n",
        "- Step 1:[Get you Kaggle API Token](https://www.kaggle.com/mohansacharya/graduate-admissions)\n",
        "  - Go to Your Account and click on Create New API Token.\n",
        "  - **A file named kaggle.json will get downloaded **containing your username and token key\n",
        "\n",
        "- Step 2: Uploading kaggle.json into Google Drive\n",
        "  - **Create a folder named kaggle** where we will be storing our Kaggle datasets\n",
        "  - **Upload your kaggle.json** file into Kaggle folder\n",
        "\n",
        "- Step 3: Open a Colab notebook\n",
        "- Step 4: **Mount the drive to colab notebook**\n",
        "      from google.colab import drive\n",
        "      drive.mount('/content/gdrive')\n",
        "\n",
        "- Step 4: Run the following code to provide the config path to kaggle.json\n",
        "      import os\n",
        "      os.environ['KAGGLE_CONFIG_DIR'] = \"/content/gdrive/MyDrive/kaggle\"\n",
        "     \n",
        "    Note: /content/gdrive/MyDrive/kaggle is the path where kaggle.json is present in the Google Drive\n",
        "\n",
        "- Step 5: Change your present working directory\n",
        "    \n",
        "    %cd /content/gdrive/My Drive/kaggle\n",
        "\n",
        "    !pwd\n",
        "\n",
        "- Step 6: Download the kaggle dataset\n",
        "\n",
        "  - Go to kaggle and copy the API Command to download the dataset\n",
        "\n",
        "    Your API Command will look like “kaggle Adatasets download -d mohansacharya/graduate-admissions”\n",
        "\n",
        "  - Run the following code using !.\n",
        "\n",
        "    !kaggle datasets download -d datasnaek/youtube-new\n",
        "  \n",
        "  - You can check the content in your directory using ls command.\n",
        "\n",
        "- Step 7: Unzip your data and remove the zip file\n",
        "  - Use the unzip and rm command\n",
        "     \n",
        "    !unzip \\*.zip  && rm *.zip"
      ]
    },
    {
      "cell_type": "code",
      "metadata": {
        "colab": {
          "base_uri": "https://localhost:8080/"
        },
        "id": "lTJ60rbOb2jV",
        "outputId": "965b42a7-24d5-41db-c3b5-437b359bf6db"
      },
      "source": [
        "from google.colab import drive\n",
        "drive.mount('/content/gdrive')"
      ],
      "execution_count": 68,
      "outputs": [
        {
          "output_type": "stream",
          "text": [
            "Drive already mounted at /content/gdrive; to attempt to forcibly remount, call drive.mount(\"/content/gdrive\", force_remount=True).\n"
          ],
          "name": "stdout"
        }
      ]
    },
    {
      "cell_type": "code",
      "metadata": {
        "id": "W1oyyFaOcQ7J"
      },
      "source": [
        "import os\n",
        "os.environ['KAGGLE_CONFIG_DIR'] = \"/content/gdrive/MyDrive/kaggle\""
      ],
      "execution_count": 69,
      "outputs": []
    },
    {
      "cell_type": "code",
      "metadata": {
        "colab": {
          "base_uri": "https://localhost:8080/"
        },
        "id": "TF16ORpfccy5",
        "outputId": "b1be135c-539b-43fc-e479-1a1cfe7c6f0e"
      },
      "source": [
        "#changing the working directory\n",
        "%cd /content/gdrive/MyDrive/kaggle\n",
        "#Check the present working directory using pwd command\n",
        "!pwd"
      ],
      "execution_count": 70,
      "outputs": [
        {
          "output_type": "stream",
          "text": [
            "/content/gdrive/MyDrive/kaggle\n",
            "/content/gdrive/MyDrive/kaggle\n"
          ],
          "name": "stdout"
        }
      ]
    },
    {
      "cell_type": "markdown",
      "metadata": {
        "id": "7KSoi61BXRS8"
      },
      "source": [
        "### [Graduate Admission 2 Dataset](https://www.kaggle.com/mohansacharya/graduate-admissions)\n",
        "\n",
        "- For predicting admission from important parameters\n",
        "- The dataset contains several parameters which are considered important during the application for Masters Programs.\n",
        "  - GRE Scores ( out of 340 )\n",
        "  - TOEFL Scores ( out of 120 )\n",
        "  - University Rating ( out of 5 )\n",
        "  - Statement of Purpose (SOP, out of 5 )\n",
        "  - Letter of Recommendation Strength (LOR out of 5 )\n",
        "  - Undergraduate GPA (CGPA, out of 10 )\n",
        "  - Research Experience ( either 0 or 1 )\n",
        "  - Chance of Admit ( ranging from 0 to 1 )"
      ]
    },
    {
      "cell_type": "code",
      "metadata": {
        "colab": {
          "base_uri": "https://localhost:8080/"
        },
        "id": "Z68D7gH2c4wI",
        "outputId": "769ba9c6-c483-415a-902e-4584cba98e17"
      },
      "source": [
        "!kaggle datasets download -d mohansacharya/graduate-admissions"
      ],
      "execution_count": 71,
      "outputs": [
        {
          "output_type": "stream",
          "text": [
            "Downloading graduate-admissions.zip to /content/gdrive/MyDrive/kaggle\n",
            "\r  0% 0.00/9.64k [00:00<?, ?B/s]\n",
            "\r100% 9.64k/9.64k [00:00<00:00, 2.72MB/s]\n"
          ],
          "name": "stdout"
        }
      ]
    },
    {
      "cell_type": "code",
      "metadata": {
        "colab": {
          "base_uri": "https://localhost:8080/"
        },
        "id": "_m38MF1BdFk6",
        "outputId": "7e97d8f6-8a75-473e-dcef-d445ff226848"
      },
      "source": [
        "#unzipping the zip files and deleting the zip files\n",
        "!unzip \\*.zip  && rm *.zip"
      ],
      "execution_count": 72,
      "outputs": [
        {
          "output_type": "stream",
          "text": [
            "Archive:  graduate-admissions.zip\n",
            "replace Admission_Predict.csv? [y]es, [n]o, [A]ll, [N]one, [r]ename: y\n",
            "  inflating: Admission_Predict.csv   \n",
            "replace Admission_Predict_Ver1.1.csv? [y]es, [n]o, [A]ll, [N]one, [r]ename: y\n",
            "  inflating: Admission_Predict_Ver1.1.csv  \n"
          ],
          "name": "stdout"
        }
      ]
    },
    {
      "cell_type": "markdown",
      "metadata": {
        "id": "yTPjzPnQlkTv"
      },
      "source": [
        "### (Easy way) Downloading the CSV file from Kaggle\n",
        "\n",
        "- Download the data from [Graduate Admissions on Kaggle.com](https://www.kaggle.com/mohansacharya/graduate-admissions/download). \n",
        "- Unzip the downloaded file\n",
        "- Upload to Colab or Google Drive\n"
      ]
    },
    {
      "cell_type": "markdown",
      "metadata": {
        "id": "BHTzjoQvCet9"
      },
      "source": [
        "## [What is Pandas?](https://pandas.pydata.org/)\n",
        "\n",
        "pandas is a fast, powerful, flexible and easy to use open source data analysis and manipulation tool,\n",
        "built on top of the Python programming language.\n",
        "\n",
        "**참고:** [Wikipedia - Pandas](https://en.wikipedia.org/wiki/Pandas_(software))\n",
        "\n",
        "**참고:** [파이썬 데이터 분석의 절대지존 판다스의 아버지 웨스 매키니](https://m.post.naver.com/viewer/postView.nhn?volumeNo=28919607&memberNo=50533718&navigationType=push)\n",
        "\n",
        "**참고 서적:** 📖[Python for Data Analysis by Wes McKinney, 2nd Ed.](http://library.lol/main/6558C6F3EFA0F99E1A4B40356EF854C6)\n",
        "\n"
      ]
    },
    {
      "cell_type": "markdown",
      "metadata": {
        "id": "llJJvBbHvKVg"
      },
      "source": [
        "### Reading the CSV file with Pandas\n",
        "\n",
        "We read the CSV file using [Pandas' `read_csv`](https://pandas.pydata.org/pandas-docs/stable/reference/api/pandas.read_csv.html) function and print the top 5 samples of the data.\n"
      ]
    },
    {
      "cell_type": "code",
      "metadata": {
        "id": "VycstAovSbng",
        "colab": {
          "base_uri": "https://localhost:8080/",
          "height": 482
        },
        "outputId": "8ed11d18-15be-46bc-8d76-5b7eee995af8"
      },
      "source": [
        "data = pd.read_csv('/content/gdrive/MyDrive/kaggle/Admission_Predict_Ver1.1.csv' )\n",
        "print('Sample size: ', data.count)\n",
        "data.tail()"
      ],
      "execution_count": 73,
      "outputs": [
        {
          "output_type": "stream",
          "text": [
            "Sample size:  <bound method DataFrame.count of      Serial No.  GRE Score  TOEFL Score  ...  CGPA  Research  Chance of Admit \n",
            "0             1        337          118  ...  9.65         1              0.92\n",
            "1             2        324          107  ...  8.87         1              0.76\n",
            "2             3        316          104  ...  8.00         1              0.72\n",
            "3             4        322          110  ...  8.67         1              0.80\n",
            "4             5        314          103  ...  8.21         0              0.65\n",
            "..          ...        ...          ...  ...   ...       ...               ...\n",
            "495         496        332          108  ...  9.02         1              0.87\n",
            "496         497        337          117  ...  9.87         1              0.96\n",
            "497         498        330          120  ...  9.56         1              0.93\n",
            "498         499        312          103  ...  8.43         0              0.73\n",
            "499         500        327          113  ...  9.04         0              0.84\n",
            "\n",
            "[500 rows x 9 columns]>\n"
          ],
          "name": "stdout"
        },
        {
          "output_type": "execute_result",
          "data": {
            "text/html": [
              "<div>\n",
              "<style scoped>\n",
              "    .dataframe tbody tr th:only-of-type {\n",
              "        vertical-align: middle;\n",
              "    }\n",
              "\n",
              "    .dataframe tbody tr th {\n",
              "        vertical-align: top;\n",
              "    }\n",
              "\n",
              "    .dataframe thead th {\n",
              "        text-align: right;\n",
              "    }\n",
              "</style>\n",
              "<table border=\"1\" class=\"dataframe\">\n",
              "  <thead>\n",
              "    <tr style=\"text-align: right;\">\n",
              "      <th></th>\n",
              "      <th>Serial No.</th>\n",
              "      <th>GRE Score</th>\n",
              "      <th>TOEFL Score</th>\n",
              "      <th>University Rating</th>\n",
              "      <th>SOP</th>\n",
              "      <th>LOR</th>\n",
              "      <th>CGPA</th>\n",
              "      <th>Research</th>\n",
              "      <th>Chance of Admit</th>\n",
              "    </tr>\n",
              "  </thead>\n",
              "  <tbody>\n",
              "    <tr>\n",
              "      <th>495</th>\n",
              "      <td>496</td>\n",
              "      <td>332</td>\n",
              "      <td>108</td>\n",
              "      <td>5</td>\n",
              "      <td>4.5</td>\n",
              "      <td>4.0</td>\n",
              "      <td>9.02</td>\n",
              "      <td>1</td>\n",
              "      <td>0.87</td>\n",
              "    </tr>\n",
              "    <tr>\n",
              "      <th>496</th>\n",
              "      <td>497</td>\n",
              "      <td>337</td>\n",
              "      <td>117</td>\n",
              "      <td>5</td>\n",
              "      <td>5.0</td>\n",
              "      <td>5.0</td>\n",
              "      <td>9.87</td>\n",
              "      <td>1</td>\n",
              "      <td>0.96</td>\n",
              "    </tr>\n",
              "    <tr>\n",
              "      <th>497</th>\n",
              "      <td>498</td>\n",
              "      <td>330</td>\n",
              "      <td>120</td>\n",
              "      <td>5</td>\n",
              "      <td>4.5</td>\n",
              "      <td>5.0</td>\n",
              "      <td>9.56</td>\n",
              "      <td>1</td>\n",
              "      <td>0.93</td>\n",
              "    </tr>\n",
              "    <tr>\n",
              "      <th>498</th>\n",
              "      <td>499</td>\n",
              "      <td>312</td>\n",
              "      <td>103</td>\n",
              "      <td>4</td>\n",
              "      <td>4.0</td>\n",
              "      <td>5.0</td>\n",
              "      <td>8.43</td>\n",
              "      <td>0</td>\n",
              "      <td>0.73</td>\n",
              "    </tr>\n",
              "    <tr>\n",
              "      <th>499</th>\n",
              "      <td>500</td>\n",
              "      <td>327</td>\n",
              "      <td>113</td>\n",
              "      <td>4</td>\n",
              "      <td>4.5</td>\n",
              "      <td>4.5</td>\n",
              "      <td>9.04</td>\n",
              "      <td>0</td>\n",
              "      <td>0.84</td>\n",
              "    </tr>\n",
              "  </tbody>\n",
              "</table>\n",
              "</div>"
            ],
            "text/plain": [
              "     Serial No.  GRE Score  TOEFL Score  ...  CGPA  Research  Chance of Admit \n",
              "495         496        332          108  ...  9.02         1              0.87\n",
              "496         497        337          117  ...  9.87         1              0.96\n",
              "497         498        330          120  ...  9.56         1              0.93\n",
              "498         499        312          103  ...  8.43         0              0.73\n",
              "499         500        327          113  ...  9.04         0              0.84\n",
              "\n",
              "[5 rows x 9 columns]"
            ]
          },
          "metadata": {
            "tags": []
          },
          "execution_count": 73
        }
      ]
    },
    {
      "cell_type": "code",
      "metadata": {
        "colab": {
          "base_uri": "https://localhost:8080/"
        },
        "id": "9N6f-3dewj39",
        "outputId": "d3a1bcaa-6d99-44bf-b644-fc3cfabf62b7"
      },
      "source": [
        "# Select 'Serial No.' column and remove this from our dataset.\n",
        "data.drop('Serial No.',axis=1,inplace=True)\n",
        "\n",
        "data.columns\n"
      ],
      "execution_count": 74,
      "outputs": [
        {
          "output_type": "execute_result",
          "data": {
            "text/plain": [
              "Index(['GRE Score', 'TOEFL Score', 'University Rating', 'SOP', 'LOR ', 'CGPA',\n",
              "       'Research', 'Chance of Admit '],\n",
              "      dtype='object')"
            ]
          },
          "metadata": {
            "tags": []
          },
          "execution_count": 74
        }
      ]
    },
    {
      "cell_type": "code",
      "metadata": {
        "id": "ANoQQgIQhONO"
      },
      "source": [
        "data = data.rename(columns=lambda x: x.strip())"
      ],
      "execution_count": 75,
      "outputs": []
    },
    {
      "cell_type": "markdown",
      "metadata": {
        "id": "mZwkA9Td4HqK"
      },
      "source": [
        "### How to get descriptive statistics using Pandas"
      ]
    },
    {
      "cell_type": "code",
      "metadata": {
        "colab": {
          "base_uri": "https://localhost:8080/"
        },
        "id": "lq-bJfGzxqYv",
        "outputId": "3759f771-b8b6-49a7-800b-8dfd85bb6cb1"
      },
      "source": [
        "print(\"Mean of GRE Score = \",data['GRE Score'].mean())\n",
        "print(\"\\nChance of Admit - Standard Deviation(표준편차) =\",data['Chance of Admit'].std())\n",
        "print(\"\\nMean of CGPA = \",data.CGPA.mean())\n",
        "print('\\nMean of University Ranking = ', data.iloc[:,2].mean())\n",
        "print('\\nMean of First, second and fourth Column = \\n', data.iloc[:,[0,1,3]].mean())\n",
        "print(\"\\nSTD of each columns\\n\",data.mean())"
      ],
      "execution_count": 76,
      "outputs": [
        {
          "output_type": "stream",
          "text": [
            "Mean of GRE Score =  316.472\n",
            "\n",
            "Chance of Admit - Standard Deviation(표준편차) = 0.1411404039503023\n",
            "\n",
            "Mean of CGPA =  8.576440000000003\n",
            "\n",
            "Mean of University Ranking =  3.114\n",
            "\n",
            "Mean of First, second and fourth Column = \n",
            " GRE Score      316.472\n",
            "TOEFL Score    107.192\n",
            "SOP              3.374\n",
            "dtype: float64\n",
            "\n",
            "STD of each columns\n",
            " GRE Score            316.47200\n",
            "TOEFL Score          107.19200\n",
            "University Rating      3.11400\n",
            "SOP                    3.37400\n",
            "LOR                    3.48400\n",
            "CGPA                   8.57644\n",
            "Research               0.56000\n",
            "Chance of Admit        0.72174\n",
            "dtype: float64\n"
          ],
          "name": "stdout"
        }
      ]
    },
    {
      "cell_type": "code",
      "metadata": {
        "colab": {
          "base_uri": "https://localhost:8080/",
          "height": 307
        },
        "id": "8tZ1aR2X3jEX",
        "outputId": "5776bc7f-4400-4005-fdea-a5be62594cb0"
      },
      "source": [
        "## using this function we can simply find [count,mean,std,min,25%,50%,75%,max]\n",
        "data.describe()"
      ],
      "execution_count": 77,
      "outputs": [
        {
          "output_type": "execute_result",
          "data": {
            "text/html": [
              "<div>\n",
              "<style scoped>\n",
              "    .dataframe tbody tr th:only-of-type {\n",
              "        vertical-align: middle;\n",
              "    }\n",
              "\n",
              "    .dataframe tbody tr th {\n",
              "        vertical-align: top;\n",
              "    }\n",
              "\n",
              "    .dataframe thead th {\n",
              "        text-align: right;\n",
              "    }\n",
              "</style>\n",
              "<table border=\"1\" class=\"dataframe\">\n",
              "  <thead>\n",
              "    <tr style=\"text-align: right;\">\n",
              "      <th></th>\n",
              "      <th>GRE Score</th>\n",
              "      <th>TOEFL Score</th>\n",
              "      <th>University Rating</th>\n",
              "      <th>SOP</th>\n",
              "      <th>LOR</th>\n",
              "      <th>CGPA</th>\n",
              "      <th>Research</th>\n",
              "      <th>Chance of Admit</th>\n",
              "    </tr>\n",
              "  </thead>\n",
              "  <tbody>\n",
              "    <tr>\n",
              "      <th>count</th>\n",
              "      <td>500.000000</td>\n",
              "      <td>500.000000</td>\n",
              "      <td>500.000000</td>\n",
              "      <td>500.000000</td>\n",
              "      <td>500.00000</td>\n",
              "      <td>500.000000</td>\n",
              "      <td>500.000000</td>\n",
              "      <td>500.00000</td>\n",
              "    </tr>\n",
              "    <tr>\n",
              "      <th>mean</th>\n",
              "      <td>316.472000</td>\n",
              "      <td>107.192000</td>\n",
              "      <td>3.114000</td>\n",
              "      <td>3.374000</td>\n",
              "      <td>3.48400</td>\n",
              "      <td>8.576440</td>\n",
              "      <td>0.560000</td>\n",
              "      <td>0.72174</td>\n",
              "    </tr>\n",
              "    <tr>\n",
              "      <th>std</th>\n",
              "      <td>11.295148</td>\n",
              "      <td>6.081868</td>\n",
              "      <td>1.143512</td>\n",
              "      <td>0.991004</td>\n",
              "      <td>0.92545</td>\n",
              "      <td>0.604813</td>\n",
              "      <td>0.496884</td>\n",
              "      <td>0.14114</td>\n",
              "    </tr>\n",
              "    <tr>\n",
              "      <th>min</th>\n",
              "      <td>290.000000</td>\n",
              "      <td>92.000000</td>\n",
              "      <td>1.000000</td>\n",
              "      <td>1.000000</td>\n",
              "      <td>1.00000</td>\n",
              "      <td>6.800000</td>\n",
              "      <td>0.000000</td>\n",
              "      <td>0.34000</td>\n",
              "    </tr>\n",
              "    <tr>\n",
              "      <th>25%</th>\n",
              "      <td>308.000000</td>\n",
              "      <td>103.000000</td>\n",
              "      <td>2.000000</td>\n",
              "      <td>2.500000</td>\n",
              "      <td>3.00000</td>\n",
              "      <td>8.127500</td>\n",
              "      <td>0.000000</td>\n",
              "      <td>0.63000</td>\n",
              "    </tr>\n",
              "    <tr>\n",
              "      <th>50%</th>\n",
              "      <td>317.000000</td>\n",
              "      <td>107.000000</td>\n",
              "      <td>3.000000</td>\n",
              "      <td>3.500000</td>\n",
              "      <td>3.50000</td>\n",
              "      <td>8.560000</td>\n",
              "      <td>1.000000</td>\n",
              "      <td>0.72000</td>\n",
              "    </tr>\n",
              "    <tr>\n",
              "      <th>75%</th>\n",
              "      <td>325.000000</td>\n",
              "      <td>112.000000</td>\n",
              "      <td>4.000000</td>\n",
              "      <td>4.000000</td>\n",
              "      <td>4.00000</td>\n",
              "      <td>9.040000</td>\n",
              "      <td>1.000000</td>\n",
              "      <td>0.82000</td>\n",
              "    </tr>\n",
              "    <tr>\n",
              "      <th>max</th>\n",
              "      <td>340.000000</td>\n",
              "      <td>120.000000</td>\n",
              "      <td>5.000000</td>\n",
              "      <td>5.000000</td>\n",
              "      <td>5.00000</td>\n",
              "      <td>9.920000</td>\n",
              "      <td>1.000000</td>\n",
              "      <td>0.97000</td>\n",
              "    </tr>\n",
              "  </tbody>\n",
              "</table>\n",
              "</div>"
            ],
            "text/plain": [
              "        GRE Score  TOEFL Score  ...    Research  Chance of Admit\n",
              "count  500.000000   500.000000  ...  500.000000        500.00000\n",
              "mean   316.472000   107.192000  ...    0.560000          0.72174\n",
              "std     11.295148     6.081868  ...    0.496884          0.14114\n",
              "min    290.000000    92.000000  ...    0.000000          0.34000\n",
              "25%    308.000000   103.000000  ...    0.000000          0.63000\n",
              "50%    317.000000   107.000000  ...    1.000000          0.72000\n",
              "75%    325.000000   112.000000  ...    1.000000          0.82000\n",
              "max    340.000000   120.000000  ...    1.000000          0.97000\n",
              "\n",
              "[8 rows x 8 columns]"
            ]
          },
          "metadata": {
            "tags": []
          },
          "execution_count": 77
        }
      ]
    },
    {
      "cell_type": "code",
      "metadata": {
        "colab": {
          "base_uri": "https://localhost:8080/",
          "height": 358
        },
        "id": "AO-kSwfu8_Ek",
        "outputId": "96774b02-a497-4c0b-9bde-332606cd15db"
      },
      "source": [
        "## Correlation\n",
        "data.corr()"
      ],
      "execution_count": 78,
      "outputs": [
        {
          "output_type": "execute_result",
          "data": {
            "text/html": [
              "<div>\n",
              "<style scoped>\n",
              "    .dataframe tbody tr th:only-of-type {\n",
              "        vertical-align: middle;\n",
              "    }\n",
              "\n",
              "    .dataframe tbody tr th {\n",
              "        vertical-align: top;\n",
              "    }\n",
              "\n",
              "    .dataframe thead th {\n",
              "        text-align: right;\n",
              "    }\n",
              "</style>\n",
              "<table border=\"1\" class=\"dataframe\">\n",
              "  <thead>\n",
              "    <tr style=\"text-align: right;\">\n",
              "      <th></th>\n",
              "      <th>GRE Score</th>\n",
              "      <th>TOEFL Score</th>\n",
              "      <th>University Rating</th>\n",
              "      <th>SOP</th>\n",
              "      <th>LOR</th>\n",
              "      <th>CGPA</th>\n",
              "      <th>Research</th>\n",
              "      <th>Chance of Admit</th>\n",
              "    </tr>\n",
              "  </thead>\n",
              "  <tbody>\n",
              "    <tr>\n",
              "      <th>GRE Score</th>\n",
              "      <td>1.000000</td>\n",
              "      <td>0.827200</td>\n",
              "      <td>0.635376</td>\n",
              "      <td>0.613498</td>\n",
              "      <td>0.524679</td>\n",
              "      <td>0.825878</td>\n",
              "      <td>0.563398</td>\n",
              "      <td>0.810351</td>\n",
              "    </tr>\n",
              "    <tr>\n",
              "      <th>TOEFL Score</th>\n",
              "      <td>0.827200</td>\n",
              "      <td>1.000000</td>\n",
              "      <td>0.649799</td>\n",
              "      <td>0.644410</td>\n",
              "      <td>0.541563</td>\n",
              "      <td>0.810574</td>\n",
              "      <td>0.467012</td>\n",
              "      <td>0.792228</td>\n",
              "    </tr>\n",
              "    <tr>\n",
              "      <th>University Rating</th>\n",
              "      <td>0.635376</td>\n",
              "      <td>0.649799</td>\n",
              "      <td>1.000000</td>\n",
              "      <td>0.728024</td>\n",
              "      <td>0.608651</td>\n",
              "      <td>0.705254</td>\n",
              "      <td>0.427047</td>\n",
              "      <td>0.690132</td>\n",
              "    </tr>\n",
              "    <tr>\n",
              "      <th>SOP</th>\n",
              "      <td>0.613498</td>\n",
              "      <td>0.644410</td>\n",
              "      <td>0.728024</td>\n",
              "      <td>1.000000</td>\n",
              "      <td>0.663707</td>\n",
              "      <td>0.712154</td>\n",
              "      <td>0.408116</td>\n",
              "      <td>0.684137</td>\n",
              "    </tr>\n",
              "    <tr>\n",
              "      <th>LOR</th>\n",
              "      <td>0.524679</td>\n",
              "      <td>0.541563</td>\n",
              "      <td>0.608651</td>\n",
              "      <td>0.663707</td>\n",
              "      <td>1.000000</td>\n",
              "      <td>0.637469</td>\n",
              "      <td>0.372526</td>\n",
              "      <td>0.645365</td>\n",
              "    </tr>\n",
              "    <tr>\n",
              "      <th>CGPA</th>\n",
              "      <td>0.825878</td>\n",
              "      <td>0.810574</td>\n",
              "      <td>0.705254</td>\n",
              "      <td>0.712154</td>\n",
              "      <td>0.637469</td>\n",
              "      <td>1.000000</td>\n",
              "      <td>0.501311</td>\n",
              "      <td>0.882413</td>\n",
              "    </tr>\n",
              "    <tr>\n",
              "      <th>Research</th>\n",
              "      <td>0.563398</td>\n",
              "      <td>0.467012</td>\n",
              "      <td>0.427047</td>\n",
              "      <td>0.408116</td>\n",
              "      <td>0.372526</td>\n",
              "      <td>0.501311</td>\n",
              "      <td>1.000000</td>\n",
              "      <td>0.545871</td>\n",
              "    </tr>\n",
              "    <tr>\n",
              "      <th>Chance of Admit</th>\n",
              "      <td>0.810351</td>\n",
              "      <td>0.792228</td>\n",
              "      <td>0.690132</td>\n",
              "      <td>0.684137</td>\n",
              "      <td>0.645365</td>\n",
              "      <td>0.882413</td>\n",
              "      <td>0.545871</td>\n",
              "      <td>1.000000</td>\n",
              "    </tr>\n",
              "  </tbody>\n",
              "</table>\n",
              "</div>"
            ],
            "text/plain": [
              "                   GRE Score  TOEFL Score  ...  Research  Chance of Admit\n",
              "GRE Score           1.000000     0.827200  ...  0.563398         0.810351\n",
              "TOEFL Score         0.827200     1.000000  ...  0.467012         0.792228\n",
              "University Rating   0.635376     0.649799  ...  0.427047         0.690132\n",
              "SOP                 0.613498     0.644410  ...  0.408116         0.684137\n",
              "LOR                 0.524679     0.541563  ...  0.372526         0.645365\n",
              "CGPA                0.825878     0.810574  ...  0.501311         0.882413\n",
              "Research            0.563398     0.467012  ...  1.000000         0.545871\n",
              "Chance of Admit     0.810351     0.792228  ...  0.545871         1.000000\n",
              "\n",
              "[8 rows x 8 columns]"
            ]
          },
          "metadata": {
            "tags": []
          },
          "execution_count": 78
        }
      ]
    },
    {
      "cell_type": "code",
      "metadata": {
        "colab": {
          "base_uri": "https://localhost:8080/",
          "height": 362
        },
        "id": "dx5LOvSlT67l",
        "outputId": "8eb2bb13-297c-440b-fe89-3140f63b7d24"
      },
      "source": [
        " import seaborn as sns\n",
        " sns.heatmap(data.corr(),annot=True)"
      ],
      "execution_count": 79,
      "outputs": [
        {
          "output_type": "execute_result",
          "data": {
            "text/plain": [
              "<matplotlib.axes._subplots.AxesSubplot at 0x7f4c84dbd810>"
            ]
          },
          "metadata": {
            "tags": []
          },
          "execution_count": 79
        },
        {
          "output_type": "display_data",
          "data": {
            "image/png": "[encoded data removed]",
            "text/plain": [
              "<Figure size 432x288 with 2 Axes>"
            ]
          },
          "metadata": {
            "tags": [],
            "needs_background": "light"
          }
        }
      ]
    },
    {
      "cell_type": "code",
      "metadata": {
        "colab": {
          "base_uri": "https://localhost:8080/",
          "height": 1000
        },
        "id": "AGTXvL48J_0m",
        "outputId": "af1c50bf-bca5-489a-a495-dfe6f07c792b"
      },
      "source": [
        "# Scatter Plot\n",
        "for item in data.columns[0:7]:\n",
        "  data.plot.scatter(x=item, y=data.columns[-1])"
      ],
      "execution_count": 80,
      "outputs": [
        {
          "output_type": "display_data",
          "data": {
            "image/png": "[encoded data removed]",
            "text/plain": [
              "<Figure size 432x288 with 1 Axes>"
            ]
          },
          "metadata": {
            "tags": [],
            "needs_background": "light"
          }
        },
        {
          "output_type": "display_data",
          "data": {
            "image/png": "[encoded data removed]",
            "text/plain": [
              "<Figure size 432x288 with 1 Axes>"
            ]
          },
          "metadata": {
            "tags": [],
            "needs_background": "light"
          }
        },
        {
          "output_type": "display_data",
          "data": {
            "image/png": "[encoded data removed]",
            "text/plain": [
              "<Figure size 432x288 with 1 Axes>"
            ]
          },
          "metadata": {
            "tags": [],
            "needs_background": "light"
          }
        },
        {
          "output_type": "display_data",
          "data": {
            "image/png": "[encoded data removed]",
            "text/plain": [
              "<Figure size 432x288 with 1 Axes>"
            ]
          },
          "metadata": {
            "tags": [],
            "needs_background": "light"
          }
        },
        {
          "output_type": "display_data",
          "data": {
            "image/png": "[encoded data removed]",
            "text/plain": [
              "<Figure size 432x288 with 1 Axes>"
            ]
          },
          "metadata": {
            "tags": [],
            "needs_background": "light"
          }
        },
        {
          "output_type": "display_data",
          "data": {
            "image/png": "[encoded data removed]",
            "text/plain": [
              "<Figure size 432x288 with 1 Axes>"
            ]
          },
          "metadata": {
            "tags": [],
            "needs_background": "light"
          }
        },
        {
          "output_type": "display_data",
          "data": {
            "image/png": "[encoded data removed]",
            "text/plain": [
              "<Figure size 432x288 with 1 Axes>"
            ]
          },
          "metadata": {
            "tags": [],
            "needs_background": "light"
          }
        }
      ]
    },
    {
      "cell_type": "markdown",
      "metadata": {
        "id": "ROmU8ZtivjTe"
      },
      "source": [
        "## Processing the CSV\n",
        "\n",
        "We parse the values of the features from the Pandas `data` object. The steps are as follows:\n",
        "\n",
        "1.   Read the values from the numeric/continuous features and normalize them by dividing with 100. ( `continuous_features` ) \n",
        "2.   Read the values from the binary feature. ( `categorical_research_feature` ) \n",
        "3.   Concatenate both the features types to form the final features array. ( `X` )\n",
        "4.   Parse the label values. ( Y ) \n",
        "5.   Split the `X` and `Y` into training and validation datasets.\n",
        "6.   Convert all the arrays to `tf.Tensor` objects.\n",
        "\n",
        "\n",
        "\n"
      ]
    },
    {
      "cell_type": "code",
      "metadata": {
        "id": "_2UugVvZS_7x"
      },
      "source": [
        "\n",
        "# 숫자형 데이터 정규화\n",
        "continuous_features = data[ ['GRE Score','TOEFL Score','University Rating','SOP','LOR','CGPA'] ].values / 100 # ----( 1 )\n",
        "# 범주형 데이터 분리 처리\n",
        "categorical_research_features = data[ [ 'Research' ] ].values # ----( 2 )\n",
        "\n",
        "# features data(독립변수) 병합 처리\n",
        "X = np.concatenate( [ continuous_features , categorical_research_features ] , axis=1 ) # ----( 3 )\n",
        "# axix = 0(down), 1(across) (아래그림 참조)\n",
        "\n",
        "# 정답데이터(종속변수) 지정\n",
        "\n",
        "Y = data[ [ 'Chance of Admit' ] ].values # ----( 4 )\n",
        "\n",
        "# 학습 데이터와 테스트데이터 분리\n",
        "\n",
        "train_features , test_features ,train_labels, test_labels = train_test_split( X , Y , test_size=0.2 ) # ----( 5 )\n",
        "\n",
        "# tensor 생성\n",
        "\n",
        "X = tf.constant( train_features , dtype=tf.float32 ) # -----|\n",
        "Y = tf.constant( train_labels , dtype=tf.float32 ) # -------|\n",
        "                                                           #|---( 6 )\n",
        "test_X = tf.constant( test_features , dtype=tf.float32 ) #--|\n",
        "test_Y = tf.constant( test_labels , dtype=tf.float32 ) # ---|\n"
      ],
      "execution_count": 81,
      "outputs": []
    },
    {
      "cell_type": "markdown",
      "metadata": {
        "id": "hT1kcsASP8L7"
      },
      "source": [
        "<img src = \"https://i.stack.imgur.com/h1alT.jpg\">\n",
        "\n",
        "- axis = 0 (down)\n",
        "- axis = 1 (across)\n",
        "\n",
        "**참고:** [Axis and Dimensions in Numpy and Pandas Array](https://medium.com/analytics-vidhya/axes-and-dimensions-in-numpy-and-pandas-array-a2490f72631c)\n",
        "\n",
        "<img src =\"https://miro.medium.com/max/3600/0*fr4sfcnDc0KsXA8P.png\">"
      ]
    },
    {
      "cell_type": "markdown",
      "metadata": {
        "id": "Hp8j6c7B1Jq2"
      },
      "source": [
        "## Linear Regression model\n",
        "\n",
        "[__A Friendly Introduction to Machine Learning__](https://www.youtube.com/watch?v=IpGxLWOIZy4&t=507s)\n",
        "\n",
        "[__Simple linear regression__](https://en.wikipedia.org/wiki/Simple_linear_regression)\n"
      ]
    },
    {
      "cell_type": "markdown",
      "metadata": {
        "id": "xhOEx2981Xfs"
      },
      "source": [
        "### Mean Squared Error and its derivative\n",
        "\n",
        "We define a method which calculates the [mean squared error](https://www.freecodecamp.org/news/machine-learning-mean-squared-error-regression-line-c7dde9a26b93/) given the predictions and the expected outcomes.\n",
        "\n",
        "$\\Large MSE( y , \\hat{y} ) = \\frac{ \\sum_{i=0}^{N} ( y_i - \\hat{y}_i )^2 } { N }$\n",
        "\n",
        "And its derivative,\n",
        "\n",
        "$\\Large MSE'( y , \\hat{y} ) = \\frac{ 2 * \\sum_{i=0}^{N} ( y_i - \\hat{y}_i ) } { N }$\n",
        "\n"
      ]
    },
    {
      "cell_type": "code",
      "metadata": {
        "id": "yaTYPGTIGwcY"
      },
      "source": [
        "def mean_squared_error( Y , y_pred ):\n",
        "    return tf.reduce_mean( tf.square( y_pred - Y ) )\n",
        "\n",
        "def mean_squared_error_deriv( Y , y_pred ):\n",
        "    return tf.reshape( tf.reduce_mean( 2 * ( y_pred - Y ) ) , [ 1 , 1 ] )"
      ],
      "execution_count": 82,
      "outputs": []
    },
    {
      "cell_type": "markdown",
      "metadata": {
        "id": "s_4B8k9G2pHf"
      },
      "source": [
        "### Hypothesis function (  Regression function )\n",
        "\n",
        "We define the hypothesis function *h* which takes in the weights and the bias and outputs the *Y* value for the given value of *X*.\n",
        "\n",
        "$\\Large h( x ) = W\\cdot X + B$\n",
        "\n",
        "where $W$ and $X$ are the parameters which are going to optimize by [Gradient Descent](https://ml-cheatsheet.readthedocs.io/en/latest/gradient_descent.html).\n"
      ]
    },
    {
      "cell_type": "markdown",
      "metadata": {
        "id": "WjEHBpDnButt"
      },
      "source": [
        "\n",
        "### 📒 [신경세포(neuron)](https://pds.joins.com/news/component/joongang_sunday/201811/17/a0b23428-c888-43ae-a923-83d2c0055949.jpg)의 신호처리 방식과 유사\n",
        "\n",
        "<img src=\"https://pds.joins.com/news/component/joongang_sunday/201811/17/a0b23428-c888-43ae-a923-83d2c0055949.jpg\">\n",
        "\n",
        "- 신경세포는 세포체(세포의 몸통)와 수상돌기, 축색, 그리고 시냅스 등으로 구성\n",
        "- 세포체는 세포의 가장 기본적인 몸체이고 이 속에 세포핵이 들어 있다. \n",
        "- 수상돌기는 다른 신경세포의 시냅스로부터 신호를 받아들이는 역할\n",
        "- 축색은 다른 신경세포에 신호를 전달해 주기 위한 통신선로\n",
        "- 축색의 끝에 붙어 있는 시냅스는 다른 뇌세포에 신호를 주는 부분이다. \n",
        "- 수상돌기를 통하여 들어온 신호는 세포체로 전달된다. 많은 수상돌기에서 들어온 신호는 **세포체에서 하나로 종합**된다. 이것이 축색을 거치고 시냅스를 통하여 다른 세포에 전해진다. "
      ]
    },
    {
      "cell_type": "code",
      "metadata": {
        "id": "HugDGNhAaF7v"
      },
      "source": [
        "def h ( X , weights , bias ):\n",
        "    return tf.tensordot( X , weights , axes=1 ) + bias"
      ],
      "execution_count": 83,
      "outputs": []
    },
    {
      "cell_type": "markdown",
      "metadata": {
        "id": "VsQQJI6T33Ui"
      },
      "source": [
        "### Defining hyperparameters and `tf.data.Dataset`\n",
        "We define two hyperparameters which will affect our training process.\n",
        "\n",
        "*   Batch Size $\\to$ The size of the mini-batch used in mini-batch gradient descent.\n",
        "*   Learning Rate $\\to$ The scalar value which scales the step size of the gradients.\n",
        "\n",
        "Also, for effective mini-batch training, we create a [`tf.data.Dataset`](https://www.tensorflow.org/versions/r2.0/api_docs/python/tf/data/Dataset) object which holds and batches our data tensors.\n",
        "\n",
        "\n",
        "\n"
      ]
    },
    {
      "cell_type": "code",
      "metadata": {
        "id": "g3aewwV75USS"
      },
      "source": [
        "num_epochs = 10\n",
        "num_samples = X.shape[0]\n",
        "batch_size = 10\n",
        "learning_rate = 0.001\n",
        "\n",
        "dataset = tf.data.Dataset.from_tensor_slices(( X , Y )) \n",
        "dataset = dataset.shuffle( 500 ).repeat( num_epochs ).batch( batch_size )\n",
        "iterator = dataset.__iter__()"
      ],
      "execution_count": 118,
      "outputs": []
    },
    {
      "cell_type": "markdown",
      "metadata": {
        "id": "oViTe5G75YK7"
      },
      "source": [
        "### Training the model\n",
        "\n",
        "We train the model for a given number of epochs. We perform optimization for every batch in our dataset.\n",
        "\n",
        "Forward Propogation, to calculate the loss, is as follows,\n",
        "\n",
        "$\\Large loss = MSE( W.X + b ) $\n",
        "\n",
        "To optimize the parameter $W$, the partial derivative of $MSE$ with respect to $W$ will be,\n",
        "\n",
        "\n",
        "$\\Large \\frac{ \\partial MSE }{ \\partial W} = \\frac{ \\partial MSE }{ \\partial h} \\frac{ \\partial h }{ \\partial W}$\n",
        "\n",
        "Similarly for bias $b$ , \n",
        "\n",
        "$\\Large \\frac{ \\partial MSE }{ \\partial b} = \\frac{ \\partial MSE }{ \\partial h} $\n"
      ]
    },
    {
      "cell_type": "code",
      "metadata": {
        "id": "Z0-QyOc2UhKC",
        "colab": {
          "base_uri": "https://localhost:8080/"
        },
        "outputId": "1ae75ef4-18c6-4b92-95f9-a6270b694247"
      },
      "source": [
        "num_features = X.shape[1]\n",
        "weights = tf.random.normal( ( num_features , 1 ) ) \n",
        "bias = 0\n",
        "\n",
        "epochs_plot = list()\n",
        "loss_plot = list()\n",
        "\n",
        "for i in range( num_epochs ) :\n",
        "    \n",
        "    epoch_loss = list()\n",
        "    for b in range( int(num_samples/batch_size) ):\n",
        "        x_batch , y_batch = iterator.get_next()\n",
        "   \n",
        "        output = h( x_batch , weights , bias ) \n",
        "        loss = epoch_loss.append( mean_squared_error( y_batch , output ).numpy() )\n",
        "    \n",
        "        dJ_dH = mean_squared_error_deriv( y_batch , output)\n",
        "        dH_dW = x_batch\n",
        "        dJ_dW = tf.reduce_mean( dJ_dH * dH_dW )\n",
        "        dJ_dB = tf.reduce_mean( dJ_dH )\n",
        "    \n",
        "        weights -= ( learning_rate * dJ_dW )\n",
        "        bias -= ( learning_rate * dJ_dB ) \n",
        "        \n",
        "    loss = np.array( epoch_loss ).mean()\n",
        "    epochs_plot.append( i + 1 )\n",
        "    loss_plot.append( loss ) \n",
        "    \n",
        "    print( 'Loss is {}'.format( loss ) ) "
      ],
      "execution_count": 119,
      "outputs": [
        {
          "output_type": "stream",
          "text": [
            "Loss is 14.485467910766602\n",
            "Loss is 6.979969024658203\n",
            "Loss is 3.39189076423645\n",
            "Loss is 1.6760482788085938\n",
            "Loss is 0.8591658473014832\n",
            "Loss is 0.4717753827571869\n",
            "Loss is 0.2895731031894684\n",
            "Loss is 0.20396475493907928\n",
            "Loss is 0.16484037041664124\n",
            "Loss is 0.14731641113758087\n"
          ],
          "name": "stdout"
        }
      ]
    },
    {
      "cell_type": "markdown",
      "metadata": {
        "id": "B0vOQ_vN7rnt"
      },
      "source": [
        "### Plotting the epoch-loss graph\n",
        "\n",
        "We plot a simple graph which shows us the decrease in loss with increasing epochs."
      ]
    },
    {
      "cell_type": "code",
      "metadata": {
        "id": "CgKyMat-ujr9",
        "colab": {
          "base_uri": "https://localhost:8080/",
          "height": 265
        },
        "outputId": "1bc1e348-d0d7-42ee-af50-79314ba6e56d"
      },
      "source": [
        "import matplotlib.pyplot as plt\n",
        "\n",
        "plt.plot( epochs_plot , loss_plot ) \n",
        "plt.show()"
      ],
      "execution_count": 86,
      "outputs": [
        {
          "output_type": "display_data",
          "data": {
            "image/png": "[encoded data removed]",
            "text/plain": [
              "<Figure size 432x288 with 1 Axes>"
            ]
          },
          "metadata": {
            "tags": [],
            "needs_background": "light"
          }
        }
      ]
    },
    {
      "cell_type": "markdown",
      "metadata": {
        "id": "cNFROc6M8jQX"
      },
      "source": [
        "\n",
        "\n",
        "\n",
        "\n",
        "## Evaluating the model\n",
        "\n",
        "We evaluate our model's performance by measuring the [Mean Absolute Error](https://ml-cheatsheet.readthedocs.io/en/latest/loss_functions.html?highlight=mean%20absolute#mae-l1) on the validation dataset."
      ]
    },
    {
      "cell_type": "code",
      "metadata": {
        "id": "uyKcSFJrbhRf",
        "colab": {
          "base_uri": "https://localhost:8080/"
        },
        "outputId": "9981272e-1d6e-4ef4-dea9-a79a8a533d2a"
      },
      "source": [
        "output = h( test_X , weights , bias ) \n",
        "labels = test_Y\n",
        "\n",
        "accuracy_op = tf.metrics.MeanAbsoluteError() \n",
        "accuracy_op.update_state( labels , output )\n",
        "print( 'Mean Absolute Error = {}'.format( accuracy_op.result().numpy() ) )"
      ],
      "execution_count": 111,
      "outputs": [
        {
          "output_type": "stream",
          "text": [
            "Mean Absolute Error = 25.698497772216797\n"
          ],
          "name": "stdout"
        }
      ]
    },
    {
      "cell_type": "code",
      "metadata": {
        "id": "UWjPkVOecfzh"
      },
      "source": [
        "# Parameters.\n",
        "learning_rate = 0.01\n",
        "training_steps = 1000\n",
        "display_step = 50"
      ],
      "execution_count": 88,
      "outputs": []
    }
  ]
}